{
 "cells": [
  {
   "cell_type": "markdown",
   "metadata": {},
   "source": [
    "# Session 03: String operations\n",
    "\n",
    "In this session we will learn how to manipulate strings in Python. We will learn how to:\n",
    "\n",
    "* Extract the properties of strings\n",
    "* Use string methods to manipulate strings\n",
    "* Use the `in` operator to check if a string is a substring of another string\n",
    "* Slice and index strings\n",
    "* Use string formatting\n",
    "* Concatenate strings\n"
   ]
  },
  {
   "cell_type": "markdown",
   "metadata": {},
   "source": [
    "## Strings recap\n",
    "\n",
    "Strings are sequences of characters. They are immutable, which means that once they are created, they cannot be changed. Strings can be created using single quotes, double quotes, or triple quotes. Here are some examples:\n",
    "\n",
    "```python\n",
    "string1 = 'Hello, World!'\n",
    "\n",
    "string2 = \"Hello, World!\"\n",
    "\n",
    "string3 = '''Hello, World!'''\n",
    "```\n",
    "\n",
    "We can check the type of a string using the `type()` function:\n",
    "\n",
    "```python\n",
    "print(type(string1))\n",
    "```\n",
    "\n",
    "> `<class 'str'>`"
   ]
  },
  {
   "cell_type": "markdown",
   "metadata": {},
   "source": [
    "### Strings are immutable\n",
    "\n",
    "Strings are immutable, which means that once they are created, they cannot be changed. Here is an example:"
   ]
  },
  {
   "cell_type": "code",
   "execution_count": 1,
   "metadata": {},
   "outputs": [
    {
     "name": "stdout",
     "output_type": "stream",
     "text": [
      "Error: 'str' object does not support item assignment\n"
     ]
    }
   ],
   "source": [
    "my_str = 'abcdef'\n",
    "\n",
    "try:\n",
    "    my_str[0] = 'T'  # try to change the first character\n",
    "except TypeError as e:\n",
    "    print(f\"Error: {e}\")  # print the error message if it can't be changed"
   ]
  },
  {
   "cell_type": "markdown",
   "metadata": {},
   "source": [
    "## String properties\n",
    "\n",
    "A property is a characteristic of an object. In Python, strings are objects and have properties. Some of the properties of strings are:\n",
    "\n",
    "We are going to focus on one property in this session: the length of a string. The length of a string is the number of characters in the string. We can get the length of a string using the `len()` function:\n",
    "\n",
    "```python\n",
    "string = 'Hello, World!'\n",
    "\n",
    "print(len(string))\n",
    "```\n",
    "\n",
    "> `13`\n",
    "\n",
    "This means that the string `'Hello, World!'` has 13 characters, including spaces and punctuation marks like commas and exclamation marks."
   ]
  },
  {
   "cell_type": "code",
   "execution_count": 2,
   "metadata": {},
   "outputs": [
    {
     "name": "stdout",
     "output_type": "stream",
     "text": [
      "20\n"
     ]
    }
   ],
   "source": [
    "my_str = 'this is python stuff'\n",
    "\n",
    "print(len(my_str))"
   ]
  },
  {
   "cell_type": "markdown",
   "metadata": {},
   "source": [
    "The previous example tells us that the string `this is python stuff` has 20 characters."
   ]
  },
  {
   "cell_type": "markdown",
   "metadata": {},
   "source": [
    "## String methods\n",
    "\n",
    "A method is a function that can only be called on an object. Strings are objects, so they have methods.\n",
    "\n",
    "There are many string methods in Python. Some of the most common string methods are:\n",
    "\n",
    "\n",
    "Change the case of a string:\n",
    "* `upper()`: Converts all characters in a string to uppercase.\n",
    "* `lower()`: Converts all characters in a string to lowercase.\n",
    "* `capitalize()`: Converts the first character of a string to uppercase.\n",
    "* `title()`: Converts the first character of each word in a string to uppercase.\n",
    "* `swapcase()`: Converts uppercase characters to lowercase and lowercase characters to uppercase.\n",
    "\n",
    "Remove characters from a string, in the beginning, end, or both:\n",
    "* `strip()`: Removes leading and trailing whitespace from a string.\n",
    "* `lstrip()`: Removes leading whitespace from a string.\n",
    "* `rstrip()`: Removes trailing whitespace from a string.\n",
    "\n",
    "Check if a string starts or ends with a specified substring:\n",
    "* `startswith()`: Returns `True` if a string starts with a specified substring.\n",
    "* `endswith()`: Returns `True` if a string ends with a specified substring.\n",
    "\n",
    "Replacing characters in a string:\n",
    "* `replace()`: Replaces a specified substring with another substring.\n",
    "\n",
    "Count the number of occurrences of a substring in a string:\n",
    "* `count()`: Returns the number of occurrences of a specified substring in a string.\n",
    "\n",
    "Break a string into substrings:\n",
    "* `split()`: Splits a string into a list of substrings.\n",
    "\n",
    "Join a list of substrings into a single string:\n",
    "* `join()`: Joins a list of substrings into a single string.\n",
    "\n",
    "Find the index of a substring in a string:\n",
    "* `find()`: Returns the index of the first occurrence of a specified substring."
   ]
  },
  {
   "cell_type": "markdown",
   "metadata": {},
   "source": [
    "### These methods won't change the original string\n",
    "\n",
    "It is important to note that string methods won't change the original string. Instead, they will return a new string with the desired changes. Here is an example:"
   ]
  },
  {
   "cell_type": "code",
   "execution_count": 3,
   "metadata": {},
   "outputs": [
    {
     "name": "stdout",
     "output_type": "stream",
     "text": [
      "THIS IS PYTHON\n"
     ]
    }
   ],
   "source": [
    "original_str = 'this is python'\n",
    "\n",
    "print(original_str.upper())"
   ]
  },
  {
   "cell_type": "markdown",
   "metadata": {},
   "source": [
    "The method shows us the effect it has on the original string, but the original string remains unchanged in memory. We can evaluate the original string to confirm this:"
   ]
  },
  {
   "cell_type": "code",
   "execution_count": 4,
   "metadata": {},
   "outputs": [
    {
     "name": "stdout",
     "output_type": "stream",
     "text": [
      "this is python\n"
     ]
    }
   ],
   "source": [
    "print(original_str)"
   ]
  },
  {
   "cell_type": "markdown",
   "metadata": {},
   "source": [
    "### `upper()`, `lower()`, `capitalize()`, and `title()`"
   ]
  },
  {
   "cell_type": "code",
   "execution_count": 5,
   "metadata": {},
   "outputs": [
    {
     "name": "stdout",
     "output_type": "stream",
     "text": [
      "A STRING\n"
     ]
    }
   ],
   "source": [
    "test_string = 'a string'\n",
    "\n",
    "print(test_string.upper())"
   ]
  },
  {
   "cell_type": "code",
   "execution_count": 12,
   "metadata": {},
   "outputs": [
    {
     "name": "stdout",
     "output_type": "stream",
     "text": [
      "another string\n"
     ]
    }
   ],
   "source": [
    "test_string = 'ANOTHER STRING'\n",
    "\n",
    "print(test_string.lower())"
   ]
  },
  {
   "cell_type": "code",
   "execution_count": 7,
   "metadata": {},
   "outputs": [
    {
     "name": "stdout",
     "output_type": "stream",
     "text": [
      "Ha ha ha\n"
     ]
    }
   ],
   "source": [
    "test_string = 'ha ha ha'\n",
    "\n",
    "print(test_string.capitalize())"
   ]
  },
  {
   "cell_type": "code",
   "execution_count": 8,
   "metadata": {},
   "outputs": [
    {
     "name": "stdout",
     "output_type": "stream",
     "text": [
      "Ha Ha Ha\n"
     ]
    }
   ],
   "source": [
    "test_string = 'ha ha ha'\n",
    "\n",
    "print(test_string.title())"
   ]
  },
  {
   "cell_type": "code",
   "execution_count": 9,
   "metadata": {},
   "outputs": [
    {
     "name": "stdout",
     "output_type": "stream",
     "text": [
      "hA hA hA\n"
     ]
    }
   ],
   "source": [
    "test_string = 'Ha Ha Ha'\n",
    "\n",
    "print(test_string.swapcase())"
   ]
  },
  {
   "cell_type": "markdown",
   "metadata": {},
   "source": [
    "### `strip()`, `lstrip()`, and `rstrip()`"
   ]
  },
  {
   "cell_type": "code",
   "execution_count": 13,
   "metadata": {},
   "outputs": [
    {
     "data": {
      "text/plain": [
       "'     is this a string?   '"
      ]
     },
     "execution_count": 13,
     "metadata": {},
     "output_type": "execute_result"
    }
   ],
   "source": [
    "weird_string = '     is this a string?   '\n",
    "\n",
    "weird_string"
   ]
  },
  {
   "cell_type": "code",
   "execution_count": 19,
   "metadata": {},
   "outputs": [
    {
     "data": {
      "text/plain": [
       "'is this a string?'"
      ]
     },
     "execution_count": 19,
     "metadata": {},
     "output_type": "execute_result"
    }
   ],
   "source": [
    "weird_string = '     is this a string?   '\n",
    "weird_string_2 = 'xxxis this a string?xxx'\n",
    "\n",
    "weird_string.strip()\n",
    "weird_string_2.strip('x')"
   ]
  },
  {
   "cell_type": "code",
   "execution_count": 15,
   "metadata": {},
   "outputs": [
    {
     "data": {
      "text/plain": [
       "'is this a string?'"
      ]
     },
     "execution_count": 15,
     "metadata": {},
     "output_type": "execute_result"
    }
   ],
   "source": [
    "l_weird_string = '     is this a string?'\n",
    "\n",
    "l_weird_string.lstrip()"
   ]
  },
  {
   "cell_type": "code",
   "execution_count": 16,
   "metadata": {},
   "outputs": [
    {
     "data": {
      "text/plain": [
       "'is this a string?'"
      ]
     },
     "execution_count": 16,
     "metadata": {},
     "output_type": "execute_result"
    }
   ],
   "source": [
    "r_weird_string = 'is this a string?   '\n",
    "\n",
    "r_weird_string.rstrip()"
   ]
  },
  {
   "cell_type": "markdown",
   "metadata": {},
   "source": [
    "### `startswith()` and `endswith()`"
   ]
  },
  {
   "cell_type": "code",
   "execution_count": 26,
   "metadata": {},
   "outputs": [
    {
     "data": {
      "text/plain": [
       "True"
      ]
     },
     "execution_count": 26,
     "metadata": {},
     "output_type": "execute_result"
    }
   ],
   "source": [
    "string = 'this is a string'\n",
    "\n",
    "string.startswith('t')"
   ]
  },
  {
   "cell_type": "code",
   "execution_count": 28,
   "metadata": {},
   "outputs": [
    {
     "data": {
      "text/plain": [
       "True"
      ]
     },
     "execution_count": 28,
     "metadata": {},
     "output_type": "execute_result"
    }
   ],
   "source": [
    "# it works with substrings of more than one character\n",
    "string.startswith('this')"
   ]
  },
  {
   "cell_type": "code",
   "execution_count": 29,
   "metadata": {},
   "outputs": [
    {
     "data": {
      "text/plain": [
       "False"
      ]
     },
     "execution_count": 29,
     "metadata": {},
     "output_type": "execute_result"
    }
   ],
   "source": [
    "# it is case sensitive\n",
    "string.startswith('Th')"
   ]
  },
  {
   "cell_type": "code",
   "execution_count": 31,
   "metadata": {},
   "outputs": [
    {
     "data": {
      "text/plain": [
       "True"
      ]
     },
     "execution_count": 31,
     "metadata": {},
     "output_type": "execute_result"
    }
   ],
   "source": [
    "string = 'this is a string'\n",
    "\n",
    "string.endswith('g')"
   ]
  },
  {
   "cell_type": "markdown",
   "metadata": {},
   "source": [
    "### `replace()`"
   ]
  },
  {
   "cell_type": "code",
   "execution_count": 28,
   "metadata": {},
   "outputs": [
    {
     "name": "stdout",
     "output_type": "stream",
     "text": [
      "the slow brown fox jumps over the lazy dog\n",
      "the slow brown fox jumps over the lazy dog slowly\n"
     ]
    }
   ],
   "source": [
    "long_string = 'the quick brown fox jumps over the lazy dog'\n",
    "long_string_2 = 'the quick brown fox jumps over the lazy dog quickly'\n",
    "\n",
    "print(long_string.replace('quick', 'slow')) # case sensitive\n",
    "print(long_string_2.replace('quick', 'slow')) # will also change parts of words (quickly / slowly)"
   ]
  },
  {
   "cell_type": "markdown",
   "metadata": {},
   "source": [
    "### `count()`"
   ]
  },
  {
   "cell_type": "code",
   "execution_count": 23,
   "metadata": {},
   "outputs": [
    {
     "data": {
      "text/plain": [
       "2"
      ]
     },
     "execution_count": 23,
     "metadata": {},
     "output_type": "execute_result"
    }
   ],
   "source": [
    "santa = 'Ho ho ho'\n",
    "\n",
    "santa.count('ho') # case sensitive"
   ]
  },
  {
   "cell_type": "code",
   "execution_count": 24,
   "metadata": {},
   "outputs": [
    {
     "data": {
      "text/plain": [
       "1"
      ]
     },
     "execution_count": 24,
     "metadata": {},
     "output_type": "execute_result"
    }
   ],
   "source": [
    "santa.count('Ho') # case sensitive"
   ]
  },
  {
   "cell_type": "markdown",
   "metadata": {},
   "source": [
    "### `split()`"
   ]
  },
  {
   "cell_type": "code",
   "execution_count": 29,
   "metadata": {},
   "outputs": [
    {
     "data": {
      "text/plain": [
       "['this', 'is', 'a', 'phrase,', 'and', 'it', 'is', 'a', 'good', 'phrase']"
      ]
     },
     "execution_count": 29,
     "metadata": {},
     "output_type": "execute_result"
    }
   ],
   "source": [
    "phrase = 'this is a phrase, and it is a good phrase'\n",
    "\n",
    "phrase.split()"
   ]
  },
  {
   "cell_type": "markdown",
   "metadata": {},
   "source": [
    "By default, the `split()` method splits a string at whitespace characters.\n",
    "\n",
    "We can specify a different separator using the `sep` parameter:"
   ]
  },
  {
   "cell_type": "code",
   "execution_count": 30,
   "metadata": {},
   "outputs": [
    {
     "data": {
      "text/plain": [
       "['th', ' ', ' a phrase, and it ', ' a good phrase']"
      ]
     },
     "execution_count": 30,
     "metadata": {},
     "output_type": "execute_result"
    }
   ],
   "source": [
    "phrase.split('is')"
   ]
  },
  {
   "cell_type": "markdown",
   "metadata": {},
   "source": [
    "### `join()`"
   ]
  },
  {
   "cell_type": "code",
   "execution_count": 31,
   "metadata": {},
   "outputs": [
    {
     "data": {
      "text/plain": [
       "['this', 'is', 'a', 'phrase']"
      ]
     },
     "execution_count": 31,
     "metadata": {},
     "output_type": "execute_result"
    }
   ],
   "source": [
    "phrase = 'this is a phrase'\n",
    "\n",
    "words_list = phrase.split()\n",
    "\n",
    "words_list"
   ]
  },
  {
   "cell_type": "code",
   "execution_count": 32,
   "metadata": {},
   "outputs": [
    {
     "data": {
      "text/plain": [
       "'thisXXisXXaXXphrase'"
      ]
     },
     "execution_count": 32,
     "metadata": {},
     "output_type": "execute_result"
    }
   ],
   "source": [
    "'XX'.join(words_list)"
   ]
  },
  {
   "cell_type": "markdown",
   "metadata": {},
   "source": [
    "We choose the separator that we want to use to join the substrings, and we call the `join()` method on the separator."
   ]
  },
  {
   "cell_type": "markdown",
   "metadata": {},
   "source": [
    "### `find()`"
   ]
  },
  {
   "cell_type": "code",
   "execution_count": 43,
   "metadata": {},
   "outputs": [
    {
     "data": {
      "text/plain": [
       "2"
      ]
     },
     "execution_count": 43,
     "metadata": {},
     "output_type": "execute_result"
    }
   ],
   "source": [
    "phrase = 'this is a phrase'\n",
    "\n",
    "phrase.find('is')"
   ]
  },
  {
   "cell_type": "markdown",
   "metadata": {},
   "source": [
    "## The `in` operator\n",
    "\n",
    "The `in` operator is used to check if a string is a substring of another string. The `in` operator returns `True` if the substring is found in the string, and `False` otherwise. Here is an example:"
   ]
  },
  {
   "cell_type": "code",
   "execution_count": 56,
   "metadata": {},
   "outputs": [
    {
     "data": {
      "text/plain": [
       "True"
      ]
     },
     "execution_count": 56,
     "metadata": {},
     "output_type": "execute_result"
    }
   ],
   "source": [
    "'c' in 'abcdef'"
   ]
  },
  {
   "cell_type": "code",
   "execution_count": 57,
   "metadata": {},
   "outputs": [
    {
     "data": {
      "text/plain": [
       "True"
      ]
     },
     "execution_count": 57,
     "metadata": {},
     "output_type": "execute_result"
    }
   ],
   "source": [
    "'bc' in 'abcdef'"
   ]
  },
  {
   "cell_type": "code",
   "execution_count": 59,
   "metadata": {},
   "outputs": [
    {
     "data": {
      "text/plain": [
       "False"
      ]
     },
     "execution_count": 59,
     "metadata": {},
     "output_type": "execute_result"
    }
   ],
   "source": [
    "'ae' in 'abcdef' # it looks for the whole substring"
   ]
  },
  {
   "cell_type": "code",
   "execution_count": 60,
   "metadata": {},
   "outputs": [
    {
     "data": {
      "text/plain": [
       "False"
      ]
     },
     "execution_count": 60,
     "metadata": {},
     "output_type": "execute_result"
    }
   ],
   "source": [
    "'A' in 'abcdef' # it is case sensitive"
   ]
  },
  {
   "cell_type": "markdown",
   "metadata": {},
   "source": [
    "## Indexing and slicing strings\n",
    "\n",
    "As we have seen in the `find()` method, the result of \n",
    "\n",
    "```python\n",
    "phrase.find('is')\n",
    "```\n",
    "\n",
    "is `2`. This means that the substring `'is'` starts at index `2` in the string `'this is python stuff'`.\n",
    "\n",
    "Python is a zero-based index language: in Python, when we count elements in a sequence, we start from `0`. This means that the first element in a sequence has index `0`, the second element has index `1`, and so on."
   ]
  },
  {
   "cell_type": "code",
   "execution_count": 64,
   "metadata": {},
   "outputs": [],
   "source": [
    "# extract the second letter of the string\n",
    "\n",
    "my_string = 'abcdef'"
   ]
  },
  {
   "cell_type": "markdown",
   "metadata": {},
   "source": [
    "We can extract the last element in a sequence knowing the length of the sequence."
   ]
  },
  {
   "cell_type": "code",
   "execution_count": 65,
   "metadata": {},
   "outputs": [
    {
     "data": {
      "text/plain": [
       "'f'"
      ]
     },
     "execution_count": 65,
     "metadata": {},
     "output_type": "execute_result"
    }
   ],
   "source": [
    "length = len(my_string)\n",
    "\n",
    "my_string[length - 1]"
   ]
  },
  {
   "cell_type": "markdown",
   "metadata": {},
   "source": [
    "The previous example returns an error because the amount of characters in the string is 6, but the maximum index is 5.\n",
    "\n",
    "We should use `len(my_string) - 1` to get the last character in the string."
   ]
  },
  {
   "cell_type": "code",
   "execution_count": 46,
   "metadata": {},
   "outputs": [
    {
     "data": {
      "text/plain": [
       "'f'"
      ]
     },
     "execution_count": 46,
     "metadata": {},
     "output_type": "execute_result"
    }
   ],
   "source": [
    "my_string[length - 1]"
   ]
  },
  {
   "cell_type": "markdown",
   "metadata": {},
   "source": [
    "Or we can use negative indexing to get the last character in the string, and count from the end of the string. \n",
    "\n",
    "When counting from the end of the string, the last character has index `-1`, the second-to-last character has index `-2`, and so on."
   ]
  },
  {
   "cell_type": "code",
   "execution_count": 47,
   "metadata": {},
   "outputs": [
    {
     "data": {
      "text/plain": [
       "'f'"
      ]
     },
     "execution_count": 47,
     "metadata": {},
     "output_type": "execute_result"
    }
   ],
   "source": [
    "my_string[-1]"
   ]
  },
  {
   "cell_type": "code",
   "execution_count": 48,
   "metadata": {},
   "outputs": [
    {
     "data": {
      "text/plain": [
       "'d'"
      ]
     },
     "execution_count": 48,
     "metadata": {},
     "output_type": "execute_result"
    }
   ],
   "source": [
    "my_string[-3]"
   ]
  },
  {
   "cell_type": "markdown",
   "metadata": {},
   "source": [
    "In Python, we extract elements from a sequence using square brackets `[]`. This is called slicing. We can slice strings using the following syntax:\n",
    "\n",
    "```python\n",
    "string[start:stop:[step]]\n",
    "```\n",
    "\n",
    "* `start`: The index of the first element to include in the slice, inclusive. The default value is `0`.\n",
    "* `stop`: The index of the last element to include in the slice, exclusive. The default value is the length of the sequence minus `1`.\n",
    "* `step`: The step size to use when slicing the string. The default value is `1`."
   ]
  },
  {
   "cell_type": "markdown",
   "metadata": {},
   "source": [
    "### Practice: slicing strings"
   ]
  },
  {
   "cell_type": "markdown",
   "metadata": {},
   "source": [
    "#### Example 1\n",
    "\n",
    "Extract the first three letter from the alphabet:"
   ]
  },
  {
   "cell_type": "code",
   "execution_count": 42,
   "metadata": {},
   "outputs": [
    {
     "name": "stdout",
     "output_type": "stream",
     "text": [
      "abc\n"
     ]
    }
   ],
   "source": [
    "alphabet = 'abcdefghijklmnopqrstuvwxyz'\n",
    "\n",
    "first_3 = alphabet[0:3]\n",
    "print(first_3)"
   ]
  },
  {
   "cell_type": "markdown",
   "metadata": {},
   "source": [
    "#### Example 2\n",
    "\n",
    "Extract the last three letter from the alphabet, using the length of the alphabet."
   ]
  },
  {
   "cell_type": "code",
   "execution_count": 43,
   "metadata": {},
   "outputs": [
    {
     "name": "stdout",
     "output_type": "stream",
     "text": [
      "xyz\n"
     ]
    }
   ],
   "source": [
    "print(alphabet[23:26])"
   ]
  },
  {
   "cell_type": "markdown",
   "metadata": {},
   "source": [
    "#### Example 3\n",
    "\n",
    "Extract the last three letter from the alphabet, using negative indexing."
   ]
  },
  {
   "cell_type": "code",
   "execution_count": 56,
   "metadata": {},
   "outputs": [
    {
     "name": "stdout",
     "output_type": "stream",
     "text": [
      "xyz\n"
     ]
    }
   ],
   "source": [
    "print(alphabet[-3:])"
   ]
  },
  {
   "cell_type": "markdown",
   "metadata": {},
   "source": [
    "### Example 4\n",
    "\n",
    "Extract all the letter in the alphabet, except the first and last characters."
   ]
  },
  {
   "cell_type": "code",
   "execution_count": 52,
   "metadata": {},
   "outputs": [
    {
     "name": "stdout",
     "output_type": "stream",
     "text": [
      "bcdefghijklmnopqrstuvwxy\n"
     ]
    }
   ],
   "source": [
    "print(alphabet[1:25])"
   ]
  },
  {
   "cell_type": "markdown",
   "metadata": {},
   "source": [
    "### Example 5\n",
    "\n",
    "Extract all the letter in the alphabet in reverse order."
   ]
  },
  {
   "cell_type": "code",
   "execution_count": 55,
   "metadata": {},
   "outputs": [
    {
     "name": "stdout",
     "output_type": "stream",
     "text": [
      "zyxwvutsrqponmlkjihgfedcba\n"
     ]
    }
   ],
   "source": [
    "print(alphabet[::-1])"
   ]
  },
  {
   "cell_type": "markdown",
   "metadata": {},
   "source": [
    "### Example 6\n",
    "\n",
    "Extract every other character in the alphabet, starting from the second letter."
   ]
  },
  {
   "cell_type": "code",
   "execution_count": 62,
   "metadata": {},
   "outputs": [
    {
     "name": "stdout",
     "output_type": "stream",
     "text": [
      "acegikmoqsuwy\n"
     ]
    }
   ],
   "source": [
    "print(alphabet[0:26:2])"
   ]
  },
  {
   "cell_type": "markdown",
   "metadata": {},
   "source": [
    "## String formatting\n",
    "\n",
    "String formatting is a way we have to include the value of existing variables in a new string.\n",
    "\n",
    "We have to follow the following syntax:\n",
    "\n",
    "```python\n",
    "age = 99 # it will stay true for the rest of my teaching career\n",
    "\n",
    "f'Dani is not {age} years old'\n",
    "```\n",
    "\n",
    "> `'Dani is not 99 years old'`"
   ]
  },
  {
   "cell_type": "code",
   "execution_count": 51,
   "metadata": {},
   "outputs": [
    {
     "data": {
      "text/plain": [
       "'My name is Dani and I am 99 years old'"
      ]
     },
     "execution_count": 51,
     "metadata": {},
     "output_type": "execute_result"
    }
   ],
   "source": [
    "name = 'Dani'\n",
    "\n",
    "age = 99\n",
    "\n",
    "f\"My name is {name} and I am {age} years old\""
   ]
  },
  {
   "cell_type": "code",
   "execution_count": 52,
   "metadata": {},
   "outputs": [
    {
     "data": {
      "text/plain": [
       "'My name in uppercase is DANI'"
      ]
     },
     "execution_count": 52,
     "metadata": {},
     "output_type": "execute_result"
    }
   ],
   "source": [
    "f\"My name in uppercase is {name.upper()}\" # we can apply methods to the variables inside the curly braces"
   ]
  },
  {
   "cell_type": "code",
   "execution_count": 53,
   "metadata": {},
   "outputs": [
    {
     "data": {
      "text/plain": [
       "'The area of a circle with radius 10 is 314.159265359'"
      ]
     },
     "execution_count": 53,
     "metadata": {},
     "output_type": "execute_result"
    }
   ],
   "source": [
    "pi = 3.14159265359\n",
    "radius = 10\n",
    "\n",
    "f\"The area of a circle with radius {radius} is {pi * radius ** 2}\""
   ]
  },
  {
   "cell_type": "code",
   "execution_count": 54,
   "metadata": {},
   "outputs": [
    {
     "data": {
      "text/plain": [
       "'The area of a circle with radius 10 is 314.159'"
      ]
     },
     "execution_count": 54,
     "metadata": {},
     "output_type": "execute_result"
    }
   ],
   "source": [
    "f\"The area of a circle with radius {radius} is {pi * radius ** 2:.3f}\" # we can format the output"
   ]
  },
  {
   "cell_type": "markdown",
   "metadata": {},
   "source": [
    "## Concatenating strings\n",
    "\n",
    "Concatenating strings is the process of joining two or more strings together. We can concatenate strings using the `+` operator."
   ]
  },
  {
   "cell_type": "code",
   "execution_count": 63,
   "metadata": {},
   "outputs": [
    {
     "data": {
      "text/plain": [
       "'Dani Garcia'"
      ]
     },
     "execution_count": 63,
     "metadata": {},
     "output_type": "execute_result"
    }
   ],
   "source": [
    "name = 'Dani'\n",
    "\n",
    "last_name = 'Garcia'\n",
    "\n",
    "full_name = name + ' ' + last_name\n",
    "\n",
    "full_name"
   ]
  },
  {
   "cell_type": "markdown",
   "metadata": {},
   "source": [
    "We could do the same with f-strings:"
   ]
  },
  {
   "cell_type": "code",
   "execution_count": 64,
   "metadata": {},
   "outputs": [
    {
     "data": {
      "text/plain": [
       "'Dani Garcia'"
      ]
     },
     "execution_count": 64,
     "metadata": {},
     "output_type": "execute_result"
    }
   ],
   "source": [
    "name = 'Dani'\n",
    "\n",
    "last_name = 'Garcia'\n",
    "\n",
    "full_name = f\"{name} {last_name}\"\n",
    "\n",
    "full_name"
   ]
  },
  {
   "cell_type": "markdown",
   "metadata": {},
   "source": [
    "We can repeat a string multiple times using the `*` operator:"
   ]
  },
  {
   "cell_type": "code",
   "execution_count": 67,
   "metadata": {},
   "outputs": [
    {
     "data": {
      "text/plain": [
       "'HoHoHo'"
      ]
     },
     "execution_count": 67,
     "metadata": {},
     "output_type": "execute_result"
    }
   ],
   "source": [
    "santa_short = 'Ho'\n",
    "\n",
    "full_santa = santa_short * 3\n",
    "\n",
    "full_santa"
   ]
  },
  {
   "cell_type": "markdown",
   "metadata": {},
   "source": [
    "## Practice"
   ]
  },
  {
   "cell_type": "markdown",
   "metadata": {},
   "source": [
    "### Exercise 1\n",
    "\n",
    "Create a string that introduces yourself. The string should include your name, age, and favorite color.\n",
    "\n",
    "Use string formatting to include the values of the variables in the string."
   ]
  },
  {
   "cell_type": "code",
   "execution_count": null,
   "metadata": {},
   "outputs": [],
   "source": []
  },
  {
   "cell_type": "markdown",
   "metadata": {},
   "source": [
    "### Exercise 2\n",
    "\n",
    "Create a string that includes all the letters in the alphabet with even indexes, using a variable that contains the alphabet, and using f-strings."
   ]
  },
  {
   "cell_type": "code",
   "execution_count": null,
   "metadata": {},
   "outputs": [],
   "source": []
  },
  {
   "cell_type": "markdown",
   "metadata": {},
   "source": [
    "### Interlude: the `input()` function\n",
    "\n",
    "The `input()` function is a built-in function in Python that allows us to get input from the user. The `input()` function takes a string as an argument, which is the prompt that will be displayed to the user.\n",
    "\n",
    "We can save the input in a variable, and use that information in our program."
   ]
  },
  {
   "cell_type": "code",
   "execution_count": 55,
   "metadata": {},
   "outputs": [
    {
     "name": "stdout",
     "output_type": "stream",
     "text": [
      "Your name is Dani\n"
     ]
    }
   ],
   "source": [
    "name = input('What is your name? ')\n",
    "\n",
    "print(f'Your name is {name}')"
   ]
  },
  {
   "cell_type": "markdown",
   "metadata": {},
   "source": [
    "### Exercise 3\n",
    "\n",
    "Using the `input()` function, ask the user for their name, age, and favorite color.\n",
    "\n",
    "Create a string that introduces the user, using the values entered by the user."
   ]
  },
  {
   "cell_type": "code",
   "execution_count": null,
   "metadata": {},
   "outputs": [],
   "source": []
  },
  {
   "cell_type": "markdown",
   "metadata": {},
   "source": [
    "### Exercise 4\n",
    "\n",
    "How can I check if a string and its reverse, are included in a palindrome?\n",
    "\n",
    "Use this palindrome: `Go hang a salami, I’m a lasagna hog`, and look for the word `salami` and its reverse."
   ]
  },
  {
   "cell_type": "code",
   "execution_count": null,
   "metadata": {},
   "outputs": [],
   "source": []
  }
 ],
 "metadata": {
  "kernelspec": {
   "display_name": "Python 3",
   "language": "python",
   "name": "python3"
  },
  "language_info": {
   "codemirror_mode": {
    "name": "ipython",
    "version": 3
   },
   "file_extension": ".py",
   "mimetype": "text/x-python",
   "name": "python",
   "nbconvert_exporter": "python",
   "pygments_lexer": "ipython3",
   "version": "3.8.2"
  }
 },
 "nbformat": 4,
 "nbformat_minor": 2
}
