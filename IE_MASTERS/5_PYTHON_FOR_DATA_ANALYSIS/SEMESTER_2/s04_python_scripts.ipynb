{
 "cells": [
  {
   "cell_type": "markdown",
   "metadata": {},
   "source": [
    "# Session 04: Scripts in Python\n",
    "\n",
    "In the previous months we've learnt how to use Python but always within Jupyter notebooks.\n",
    "\n",
    "In real life, what's used is scripts. Scripts are files with Python code that are executed from the command line.\n",
    "\n",
    "These scripts contain the same code that we have been using in the notebooks, but they are not divided into cells and its execution is purely sequential.\n",
    "\n",
    "In this session we're going to learn about:\n",
    "* How to create a script\n",
    "* How to import modules from other scripts\n",
    "* How to execute a script\n",
    "* Control flow in scripts with `if __name__ == \"__main__\"`\n",
    "* How to pass arguments to a script\n"
   ]
  },
  {
   "cell_type": "markdown",
   "metadata": {},
   "source": [
    "## How to create a script\n",
    "\n",
    "To create a script we just need to create a file with the extension `.py` and write the code in it.\n",
    "\n",
    "This code can be written in any text editor, even in notepad or similar, but it is recommended to use an editor that provides syntax highlighting, such as Visual Studio Code, Atom, Jupyter Lab, etc.\n",
    "\n",
    "Steps:\n",
    "1. Open your text editor\n",
    "2. Create a new file (`my_script.py`)\n",
    "3. Write the code\n",
    "4. Save the file"
   ]
  },
  {
   "cell_type": "markdown",
   "metadata": {},
   "source": [
    "## How to import scripts\n",
    "\n",
    "To import a script we just need to use the `import` statement just as we would do with any other module.\n",
    "\n",
    "But in this case, we need to specify the name of the script without the extension `.py`.\n",
    "\n",
    "In our case, the script is called `my_script.py`, so we will import it as follows:\n",
    "\n",
    "```python\n",
    "import my_script as ms\n",
    "```"
   ]
  },
  {
   "cell_type": "code",
   "execution_count": 1,
   "metadata": {},
   "outputs": [
    {
     "data": {
      "text/plain": [
       "'/Users/dgh/Desktop/IE/ie-pda/2023/september_2023/pda2/sessions_material/session_15'"
      ]
     },
     "execution_count": 1,
     "metadata": {},
     "output_type": "execute_result"
    }
   ],
   "source": [
    "# what's the current working directory?\n",
    "\n",
    "import os\n",
    "os.getcwd()\n",
    "\n",
    "# nice"
   ]
  },
  {
   "cell_type": "code",
   "execution_count": 2,
   "metadata": {},
   "outputs": [
    {
     "name": "stdout",
     "output_type": "stream",
     "text": [
      "This is a dummy function\n",
      "This is not a dummy function\n"
     ]
    }
   ],
   "source": [
    "import my_script as ms\n",
    "\n",
    "ms.dummy_function()"
   ]
  },
  {
   "cell_type": "code",
   "execution_count": 3,
   "metadata": {},
   "outputs": [
    {
     "name": "stdout",
     "output_type": "stream",
     "text": [
      "This is not a dummy function\n"
     ]
    }
   ],
   "source": [
    "ms.not_so_dummy_function()"
   ]
  },
  {
   "cell_type": "markdown",
   "metadata": {},
   "source": [
    "We can see that the functions defined in the script are now available in the namespace `ms` in this session."
   ]
  },
  {
   "cell_type": "markdown",
   "metadata": {},
   "source": [
    "## How to execute a script\n",
    "\n",
    "To execute a script, we need to go to the command line and type:\n",
    "\n",
    "```bash\n",
    "python my_script.py\n",
    "```\n",
    "\n",
    "This will execute the script from top to bottom and if there's any output to be printed, it will be printed in the console."
   ]
  },
  {
   "cell_type": "markdown",
   "metadata": {},
   "source": [
    "### Exercise 1: Create a script\n",
    "\n",
    "The script should print the following:\n",
    "* current date and time\n",
    "* the current working directory\n",
    "* the variable `__name__`"
   ]
  },
  {
   "cell_type": "markdown",
   "metadata": {},
   "source": [
    "Now I can execute the script from the command line:\n",
    "\n",
    "```bash\n",
    "python ex1.py\n",
    "```"
   ]
  },
  {
   "cell_type": "code",
   "execution_count": 5,
   "metadata": {},
   "outputs": [
    {
     "name": "stdout",
     "output_type": "stream",
     "text": [
      "2024-03-06 10:49:43.285311\n",
      "/Users/dgh/Desktop/IE/ie-pda/2023/september_2023/pda2/sessions_material/session_15\n",
      "__main__\n"
     ]
    }
   ],
   "source": [
    "!python ex1.py"
   ]
  },
  {
   "cell_type": "markdown",
   "metadata": {},
   "source": [
    "I can also import the script."
   ]
  },
  {
   "cell_type": "code",
   "execution_count": 1,
   "metadata": {},
   "outputs": [
    {
     "name": "stdout",
     "output_type": "stream",
     "text": [
      "2024-03-06 10:55:00.014107\n",
      "/Users/dgh/Desktop/IE/ie-pda/2023/september_2023/pda2/sessions_material/session_15\n",
      "ex1\n"
     ]
    }
   ],
   "source": [
    "import ex1"
   ]
  },
  {
   "cell_type": "markdown",
   "metadata": {},
   "source": [
    "Do you see any difference in the output between executing the script and importing it?"
   ]
  },
  {
   "cell_type": "markdown",
   "metadata": {},
   "source": [
    "## Control flow in scripts with `if __name__ == \"__main__\"`\n",
    "\n",
    "When we execute a script, the special variable `__name__` is set to `\"__main__\"`. With, we can use this to control the flow of the script.\n",
    "\n",
    "We can do some things if the script is executed from the console, and other things if it is imported.\n",
    "\n",
    "```python\n",
    "if __name__ == \"__main__\":\n",
    "    # do something\n",
    "```\n",
    "\n",
    "This will allow us to import the script without executing the code inside the `if` statement, and to execute the code inside the `if` statement when we execute the script from the command line."
   ]
  },
  {
   "cell_type": "markdown",
   "metadata": {},
   "source": [
    "### Exercise 2: Control flow in scripts\n",
    "\n",
    "Create a script (`ex2.py`) that does the following:\n",
    "* If the script is executed from the command line, it should print:\n",
    "  * Current date and time\n",
    "  * \"Executed from the command line\"\n",
    "* If the script is imported, it should print:\n",
    "  * Current date and time\n",
    "  * \"Imported from {filename}\"\n"
   ]
  },
  {
   "cell_type": "code",
   "execution_count": 5,
   "metadata": {},
   "outputs": [
    {
     "name": "stdout",
     "output_type": "stream",
     "text": [
      "2024-03-06 11:13:09.363467\n",
      "Executed from the command line\n"
     ]
    }
   ],
   "source": [
    "!python ex2.py"
   ]
  },
  {
   "cell_type": "code",
   "execution_count": 6,
   "metadata": {},
   "outputs": [
    {
     "name": "stdout",
     "output_type": "stream",
     "text": [
      "2024-03-06 11:13:20.871826\n",
      "Imported from ex2\n"
     ]
    }
   ],
   "source": [
    "import ex2"
   ]
  },
  {
   "cell_type": "markdown",
   "metadata": {},
   "source": [
    "We see now that the behavior changes according to the use of the script."
   ]
  },
  {
   "cell_type": "markdown",
   "metadata": {},
   "source": [
    "## How to pass arguments to a script\n",
    "\n",
    "We can pass arguments to a script from the command line using the `sys` module and the variable `sys.argv`.\n",
    "\n",
    "`sys.argv` is a list of strings that contains the arguments passed to the script. The order of the arguments is the same as the order in which they are passed.\n",
    "\n",
    "In our scripts, we should extract the content of `sys.argv` and assign it to variables with meaningful names as follows:\n",
    "\n",
    "```python\n",
    "import sys\n",
    "\n",
    "arg1 = sys.argv[1]\n",
    "\n",
    "print(arg1)\n",
    "```\n",
    "\n",
    "Here we are printing the first argument passed to the script, which is stored in `sys.argv[1]`. The first element in `sys.argv` is the name of the script itself."
   ]
  },
  {
   "cell_type": "markdown",
   "metadata": {},
   "source": [
    "### Exercise 3: Pass arguments to a script\n",
    "\n",
    "Create a script (`ex3.py`) that does the following:\n",
    "\n",
    "* If the script is executed from the command line, it should print:\n",
    "  * Current date and time\n",
    "  * \"Executed from the command line by {username}\"\n",
    "* If the script is imported, it should print:\n",
    "  * Current date and time\n",
    "  * \"Imported from {filename}\""
   ]
  },
  {
   "cell_type": "code",
   "execution_count": 9,
   "metadata": {},
   "outputs": [
    {
     "name": "stdout",
     "output_type": "stream",
     "text": [
      "2024-03-06 11:18:15.604241\n",
      "Executed from the command line by dani\n"
     ]
    }
   ],
   "source": [
    "!python ex3.py dani"
   ]
  },
  {
   "cell_type": "code",
   "execution_count": 10,
   "metadata": {},
   "outputs": [
    {
     "name": "stdout",
     "output_type": "stream",
     "text": [
      "2024-03-06 11:18:23.193951\n",
      "Imported from /Users/dgh/miniconda3/envs/pda/lib/python3.10/site-packages/ipykernel_launcher.py\n"
     ]
    }
   ],
   "source": [
    "import ex3"
   ]
  },
  {
   "cell_type": "markdown",
   "metadata": {},
   "source": [
    "## Summary\n",
    "\n",
    "* Scripts are files with Python code that are executed from the command line or imported from other scripts.\n",
    "* To create a script, we just need to create a file with the extension `.py` and write the code in it.\n",
    "* To import a script we just need to use the `import` statement just as we would do with any other module.\n",
    "* To execute a script, we need to go to the command line and type `python my_script.py arg1 arg2 etc`.\n",
    "* When we execute a script, the special variable `__name__` is set to `\"__main__\"`. With, we can use this to control the flow of the script."
   ]
  }
 ],
 "metadata": {
  "kernelspec": {
   "display_name": "pda1",
   "language": "python",
   "name": "python3"
  },
  "language_info": {
   "codemirror_mode": {
    "name": "ipython",
    "version": 3
   },
   "file_extension": ".py",
   "mimetype": "text/x-python",
   "name": "python",
   "nbconvert_exporter": "python",
   "pygments_lexer": "ipython3",
   "version": "3.10.13"
  }
 },
 "nbformat": 4,
 "nbformat_minor": 2
}
