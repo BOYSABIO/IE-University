{
 "cells": [
  {
   "cell_type": "markdown",
   "metadata": {},
   "source": [
    "### Probability (Using Z-Score)"
   ]
  },
  {
   "cell_type": "code",
   "execution_count": 16,
   "metadata": {},
   "outputs": [
    {
     "name": "stdout",
     "output_type": "stream",
     "text": [
      "0.0055476564493740586\n",
      "Probability less than 65 is 0.55\n",
      "Probability more than 65 is 99.45\n"
     ]
    }
   ],
   "source": [
    "import scipy.stats as stats\n",
    "\n",
    "mean = 81\n",
    "std = 6.3\n",
    "value = int(input(\"Value: \"))\n",
    "\n",
    "z_score = (value - mean) / std\n",
    "\n",
    "probability = stats.norm.cdf(z_score)\n",
    "print(probability)\n",
    "print(\"Probability less than\", value, \"is\", round((probability * 100), 2))\n",
    "print(\"Probability more than\", value, \"is\", round((((1 - probability) * 100)), 2))"
   ]
  },
  {
   "cell_type": "code",
   "execution_count": 13,
   "metadata": {},
   "outputs": [
    {
     "name": "stdout",
     "output_type": "stream",
     "text": [
      "96.61\n"
     ]
    }
   ],
   "source": [
    "# More than 65 & less than 93\n",
    "less_than_65 = 0.55\n",
    "less_than_93 = 97.16\n",
    "\n",
    "answer = less_than_93 - less_than_65 \n",
    "print(answer)"
   ]
  },
  {
   "cell_type": "markdown",
   "metadata": {},
   "source": [
    "### CLT & Hypothesis Testing"
   ]
  },
  {
   "cell_type": "code",
   "execution_count": 17,
   "metadata": {},
   "outputs": [
    {
     "name": "stdout",
     "output_type": "stream",
     "text": [
      "-3.999999999999999\n"
     ]
    }
   ],
   "source": [
    "### Testing effect of a drug on human response time\n",
    "\n",
    "response_time = 1.25\n",
    "std = 0.5\n",
    "alpha = 0.05\n",
    "\n",
    "sample_size = 100\n",
    "sample_mean = 1.05\n",
    "\n",
    "# H0 = M >= 1.2s\n",
    "# H1 = M < 1.2s\n",
    "\n",
    "z = (sample_mean - response_time) / alpha\n",
    "print(z)\n",
    "#P-value < alpha (REJECT H0)"
   ]
  },
  {
   "cell_type": "code",
   "execution_count": 21,
   "metadata": {},
   "outputs": [
    {
     "ename": "ValueError",
     "evalue": "invalid literal for int() with base 10: ''",
     "output_type": "error",
     "traceback": [
      "\u001b[1;31m---------------------------------------------------------------------------\u001b[0m",
      "\u001b[1;31mValueError\u001b[0m                                Traceback (most recent call last)",
      "Cell \u001b[1;32mIn[21], line 4\u001b[0m\n\u001b[0;32m      1\u001b[0m \u001b[38;5;28;01mimport\u001b[39;00m \u001b[38;5;21;01mmath\u001b[39;00m\n\u001b[0;32m      3\u001b[0m \u001b[38;5;66;03m# Ex. Pizza shop claims average weight is 30 with a std of 5\u001b[39;00m\n\u001b[1;32m----> 4\u001b[0m value \u001b[38;5;241m=\u001b[39m \u001b[38;5;28;43mint\u001b[39;49m\u001b[43m(\u001b[49m\u001b[38;5;28;43minput\u001b[39;49m\u001b[43m(\u001b[49m\u001b[38;5;124;43m\"\u001b[39;49m\u001b[38;5;124;43mValue: \u001b[39;49m\u001b[38;5;124;43m\"\u001b[39;49m\u001b[43m)\u001b[49m\u001b[43m)\u001b[49m\n\u001b[0;32m      5\u001b[0m std \u001b[38;5;241m=\u001b[39m \u001b[38;5;28mint\u001b[39m(\u001b[38;5;28minput\u001b[39m(\u001b[38;5;124m\"\u001b[39m\u001b[38;5;124mStandard Deviation: \u001b[39m\u001b[38;5;124m\"\u001b[39m))\n\u001b[0;32m      6\u001b[0m alpha \u001b[38;5;241m=\u001b[39m \u001b[38;5;28mfloat\u001b[39m(\u001b[38;5;28minput\u001b[39m(\u001b[38;5;124m\"\u001b[39m\u001b[38;5;124mAlpha: \u001b[39m\u001b[38;5;124m\"\u001b[39m))\n",
      "\u001b[1;31mValueError\u001b[0m: invalid literal for int() with base 10: ''"
     ]
    }
   ],
   "source": [
    "import math\n",
    "\n",
    "# Ex. Pizza shop claims average weight is 30 with a std of 5\n",
    "value = int(input(\"Value: \"))\n",
    "std = int(input(\"Standard Deviation: \"))\n",
    "alpha = float(input(\"Alpha: \"))\n",
    "\n",
    "sample_size = int(input(\"Sample Size: \"))\n",
    "sample_mean = int(input(\"Sample Mean: \"))\n",
    "\n",
    "z = (sample_mean - value) / (std / math.sqrt(sample_size))\n",
    "\n",
    "if z < alpha:\n",
    "    print(\"Reject H0 with a p-value of\", z)\n",
    "else:\n",
    "    print(\"Accept H0 with a p-value of\", z)"
   ]
  }
 ],
 "metadata": {
  "kernelspec": {
   "display_name": "Python 3",
   "language": "python",
   "name": "python3"
  },
  "language_info": {
   "codemirror_mode": {
    "name": "ipython",
    "version": 3
   },
   "file_extension": ".py",
   "mimetype": "text/x-python",
   "name": "python",
   "nbconvert_exporter": "python",
   "pygments_lexer": "ipython3",
   "version": "3.8.2"
  }
 },
 "nbformat": 4,
 "nbformat_minor": 2
}
