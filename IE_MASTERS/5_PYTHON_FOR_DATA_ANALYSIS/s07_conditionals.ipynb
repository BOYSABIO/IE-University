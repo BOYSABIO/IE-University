{
 "cells": [
  {
   "cell_type": "markdown",
   "metadata": {},
   "source": [
    "# Session 7: Conditionals\n",
    "\n",
    "So far we have worked with Python in a way that the code is read from top to bottom and executed in that order.\n",
    "\n",
    "If we wanted to alter the flow of the code, we can use conditionals. Conditionals allow us to execute a block of code only if a certain condition is met. This condition must evaluate to a boolean value (`True` or `False`).\n",
    "\n",
    "## Conditionals\n",
    "\n",
    "### `if` statement\n",
    "\n",
    "Conditionals allow us to execute a block of code only if a certain condition is met. This condition must evaluate to a boolean value (`True` or `False`). And the syntax is:\n",
    "\n",
    "```python\n",
    "if condition == True:\n",
    "    # code to execute if condition is True\n",
    "```"
   ]
  },
  {
   "cell_type": "code",
   "execution_count": 9,
   "metadata": {},
   "outputs": [
    {
     "name": "stdout",
     "output_type": "stream",
     "text": [
      "odd\n"
     ]
    }
   ],
   "source": [
    "number = 7\n",
    "\n",
    "if number % 2 == 0:\n",
    "    print('even')\n",
    "\n",
    "if number % 2 != 0:\n",
    "    print('odd')\n",
    "\n",
    "# if the number is divisible by 2, print \"even\""
   ]
  },
  {
   "cell_type": "markdown",
   "metadata": {},
   "source": [
    "We can see that in Python, and in general in programming, we can just evaluate the condition in the if part, not needing to compare it to `True` or `False`."
   ]
  },
  {
   "cell_type": "code",
   "execution_count": 2,
   "metadata": {},
   "outputs": [
    {
     "name": "stdout",
     "output_type": "stream",
     "text": [
      "yay\n"
     ]
    }
   ],
   "source": [
    "number = 18\n",
    "\n",
    "if number % 3 == 0:\n",
    "    print('yay')"
   ]
  },
  {
   "cell_type": "markdown",
   "metadata": {},
   "source": [
    "We can control the execution when a condition is true, and also when it is false:\n",
    "\n",
    "```python\n",
    "if not condition:\n",
    "    # code to execute if condition is False\n",
    "```\n",
    "\n",
    "But this way of using `if` has a higher cognitive load."
   ]
  },
  {
   "cell_type": "code",
   "execution_count": 3,
   "metadata": {},
   "outputs": [
    {
     "name": "stdout",
     "output_type": "stream",
     "text": [
      "nope\n"
     ]
    }
   ],
   "source": [
    "# print 'nope' if number not divisible by two\n",
    "\n",
    "# using not\n",
    "\n",
    "number = 5\n",
    "\n",
    "if not (number % 2 == 0):\n",
    "    print('nope')"
   ]
  },
  {
   "cell_type": "code",
   "execution_count": 4,
   "metadata": {},
   "outputs": [
    {
     "name": "stdout",
     "output_type": "stream",
     "text": [
      "nope\n"
     ]
    }
   ],
   "source": [
    "# using not equal\n",
    "\n",
    "if number % 2 != 0:\n",
    "    print('nope')"
   ]
  },
  {
   "cell_type": "markdown",
   "metadata": {},
   "source": [
    "The result is the same, but the second way is easier to understand when reading it.\n",
    "\n",
    "### `else` statement\n",
    "\n",
    "So far, upon reaching the conditional, we can do something if the condition is true, but we can't do anything if it is false. We can extend the `if` statement with an `else` statement so that we can cover both sides of the condition:\n",
    "\n",
    "```python\n",
    "if condition:\n",
    "    # code to execute if condition is True\n",
    "else: \n",
    "    # code to execute if condition is False\n",
    "```"
   ]
  },
  {
   "cell_type": "code",
   "execution_count": 5,
   "metadata": {},
   "outputs": [
    {
     "name": "stdout",
     "output_type": "stream",
     "text": [
      "definitely not a vowel\n"
     ]
    }
   ],
   "source": [
    "letter = 'x'\n",
    "\n",
    "vowels = 'aeiou'\n",
    "\n",
    "if letter in vowels:\n",
    "    print(\"that's a vowel\")\n",
    "else:\n",
    "    print('definitely not a vowel')"
   ]
  },
  {
   "cell_type": "markdown",
   "metadata": {},
   "source": [
    "## Practice `if` and `else`\n",
    "\n",
    "1. Create a conditional that checks if a number is even or odd. Print the result.\n",
    "2. Using `if` and `else`, create a conditional that checks if the elements in one list are included in another list\n",
    "3. Create a conditional that replicates the behavior of `swapcase` method in strings. If the character is uppercase, it should be converted to lowercase, and vice versa."
   ]
  },
  {
   "cell_type": "code",
   "execution_count": 6,
   "metadata": {},
   "outputs": [
    {
     "name": "stdout",
     "output_type": "stream",
     "text": [
      "10 is even\n"
     ]
    }
   ],
   "source": [
    "number = 10\n",
    "\n",
    "if number % 2 == 0:\n",
    "    print(f'{number} is even')\n",
    "else:\n",
    "    print(f'{number} is odd')"
   ]
  },
  {
   "cell_type": "code",
   "execution_count": 19,
   "metadata": {},
   "outputs": [
    {
     "name": "stdout",
     "output_type": "stream",
     "text": [
      "List 1 is included\n"
     ]
    }
   ],
   "source": [
    "list_1 = [1, 2, 3]\n",
    "list_2 = [1, 2, 3, 4]\n",
    "\n",
    "if set(list_1) & set(list_2) == set(list_1):\n",
    "    print('List 1 is included')\n",
    "else:\n",
    "    print('List 1 is not included')"
   ]
  },
  {
   "cell_type": "code",
   "execution_count": 17,
   "metadata": {},
   "outputs": [
    {
     "name": "stdout",
     "output_type": "stream",
     "text": [
      "h\n"
     ]
    }
   ],
   "source": [
    "string = 'H'\n",
    "\n",
    "swap_string = ''\n",
    "\n",
    "if string == string.lower():\n",
    "    print(string.upper())\n",
    "else:\n",
    "    print(string.lower())"
   ]
  },
  {
   "cell_type": "markdown",
   "metadata": {},
   "source": [
    "### The `elif` statement\n",
    "\n",
    "Sometimes we need to check multiple conditions. We can do this with the `elif` statement. This is a contraction of \"else if\". The syntax is:\n",
    "\n",
    "```python\n",
    "if condition1:\n",
    "    # code to execute if condition1 is True\n",
    "elif condition2:\n",
    "    # code to execute if condition1 is False and condition2 is True\n",
    "else:\n",
    "    # code to execute if condition1 and condition2 are False\n",
    "```\n",
    "\n",
    "Remember thta the `elif` statement is optional. We can have as many `elif` statements as we want, and always we have to specify the condition in each one.\n",
    "\n",
    "### Rules \n",
    "\n",
    "- The `if` statement is mandatory.\n",
    "- The `elif` statement is optional, and we can have as many as we want, but we can't have an `elif` statement without an `if` statement.\n",
    "- The `else` statement is optional, and we can't have an `else` statement without an `if` statement.\n"
   ]
  },
  {
   "cell_type": "markdown",
   "metadata": {},
   "source": [
    "### Practice `elif`\n",
    "\n",
    "1. Create a conditional that checks if a number is positive, negative, or zero. Print the result.\n",
    "2. Create a conditional that checks if a number is divisible by 2, 3, or 5. Print the result.\n",
    "3. Create a conditional that checks if an input is all lowercase, all upper, or a mix of both. Print the result.\n"
   ]
  },
  {
   "cell_type": "code",
   "execution_count": 1,
   "metadata": {},
   "outputs": [
    {
     "name": "stdout",
     "output_type": "stream",
     "text": [
      "zero\n"
     ]
    }
   ],
   "source": [
    "number = 0\n",
    "\n",
    "if number > 0:\n",
    "    print('positive')\n",
    "elif number < 0:\n",
    "    print('negative')\n",
    "else:\n",
    "    print('zero')"
   ]
  },
  {
   "cell_type": "code",
   "execution_count": 24,
   "metadata": {},
   "outputs": [
    {
     "name": "stdout",
     "output_type": "stream",
     "text": [
      "number divisible by 3\n"
     ]
    }
   ],
   "source": [
    "number = 15\n",
    "\n",
    "if number % 2 == 0:\n",
    "    print('number divisible by 2')\n",
    "elif number % 3 == 0:\n",
    "    print('number divisible by 3')\n",
    "elif number % 5 == 0:\n",
    "    print('number divisible by 5')\n"
   ]
  },
  {
   "cell_type": "code",
   "execution_count": 25,
   "metadata": {},
   "outputs": [
    {
     "name": "stdout",
     "output_type": "stream",
     "text": [
      "string is mixed uppercase and lowercase\n"
     ]
    }
   ],
   "source": [
    "string = 'HeLLo'\n",
    "\n",
    "if string == string.upper():\n",
    "    print('string is uppercase')\n",
    "elif string == string.lower():\n",
    "    print('string is lowercase')\n",
    "else:\n",
    "    print('string is mixed uppercase and lowercase')"
   ]
  },
  {
   "cell_type": "markdown",
   "metadata": {},
   "source": [
    "## Nested conditionals\n",
    "\n",
    "We can nest conditionals inside other conditionals. This is useful when we need to check multiple conditions, and the result of one condition depends on the result of another condition.\n",
    "\n",
    "```python\n",
    "if condition1:\n",
    "    if condition2:\n",
    "        # code to execute if condition1 and condition2 are True\n",
    "    else:\n",
    "        # code to execute if condition1 is True and condition2 is False\n",
    "else:\n",
    "    # code to execute if condition1 is False\n",
    "```\n",
    "\n",
    "Take a word, check if the first letter is a vowel. If it is, check if the second letter is a consonant. Print the result."
   ]
  },
  {
   "cell_type": "code",
   "execution_count": 29,
   "metadata": {},
   "outputs": [
    {
     "name": "stdout",
     "output_type": "stream",
     "text": [
      "First letter is a vowel, second letter is not\n"
     ]
    }
   ],
   "source": [
    "name = 'alice'\n",
    "\n",
    "if name[0] in 'aeiou':\n",
    "    if name[1] not in 'aeiou':\n",
    "        print('First letter is a vowel, second letter is not')\n",
    "    else:\n",
    "        print('Both are vowels')\n",
    "else:\n",
    "    print('Neither are vowels')"
   ]
  }
 ],
 "metadata": {
  "kernelspec": {
   "display_name": "Python 3",
   "language": "python",
   "name": "python3"
  },
  "language_info": {
   "codemirror_mode": {
    "name": "ipython",
    "version": 3
   },
   "file_extension": ".py",
   "mimetype": "text/x-python",
   "name": "python",
   "nbconvert_exporter": "python",
   "pygments_lexer": "ipython3",
   "version": "3.10.6"
  }
 },
 "nbformat": 4,
 "nbformat_minor": 2
}
