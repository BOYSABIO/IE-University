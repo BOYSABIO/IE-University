{
 "cells": [
  {
   "cell_type": "code",
   "execution_count": 11,
   "metadata": {},
   "outputs": [
    {
     "name": "stderr",
     "output_type": "stream",
     "text": [
      "WARNING: ffmpeg-location C\\:Users\\SABIO\\ffmpeg\\bin\\ffmpeg.exe does not exist! Continuing without ffmpeg\n"
     ]
    },
    {
     "name": "stdout",
     "output_type": "stream",
     "text": [
      "[generic] Extracting URL: Michael Jackson Speed Demon\n",
      "[youtube:search] Extracting URL: ytsearch1:Michael Jackson Speed Demon\n",
      "[download] Downloading playlist: Michael Jackson Speed Demon\n",
      "[youtube:search] query \"Michael Jackson Speed Demon\": Downloading web client config\n",
      "[youtube:search] query \"Michael Jackson Speed Demon\" page 1: Downloading API JSON\n",
      "[youtube:search] Playlist Michael Jackson Speed Demon: Downloading 1 items of 1\n",
      "[download] Downloading item 1 of 1\n",
      "[youtube] Extracting URL: https://www.youtube.com/watch?v=l039y9FaIjc\n",
      "[youtube] l039y9FaIjc: Downloading webpage\n",
      "[youtube] l039y9FaIjc: Downloading tv client config\n",
      "[youtube] l039y9FaIjc: Downloading player 5ae7d525\n",
      "[youtube] l039y9FaIjc: Downloading tv player API JSON\n",
      "[youtube] l039y9FaIjc: Downloading ios player API JSON\n",
      "[youtube] l039y9FaIjc: Downloading m3u8 information\n",
      "[info] l039y9FaIjc: Downloading 1 format(s): 251\n",
      "[download] Destination: songs\\Michael Jackson - Speed Demon (Official Video).webm\n",
      "[download] 100% of    9.73MiB in 00:00:00 at 29.27MiB/s    \n"
     ]
    },
    {
     "name": "stderr",
     "output_type": "stream",
     "text": [
      "ERROR: Postprocessing: ffprobe and ffmpeg not found. Please install or provide the path using --ffmpeg-location\n"
     ]
    },
    {
     "name": "stdout",
     "output_type": "stream",
     "text": [
      "Expected Error\n"
     ]
    }
   ],
   "source": [
    "import yt_dlp\n",
    "import os\n",
    "\n",
    "FFMPEG_PATH = r\"C\\:Users\\SABIO\\ffmpeg\\bin\\ffmpeg.exe\" \n",
    "\n",
    "# Define the songs download folder\n",
    "download_path = \"songs\"\n",
    "os.makedirs(download_path, exist_ok=True)\n",
    "\n",
    "def download_song(song_name):\n",
    "    \"\"\"Download a song from YouTube and force MP3 conversion\"\"\"\n",
    "    ydl_opts = {\n",
    "        'format': 'bestaudio/best',\n",
    "        'default_search': 'ytsearch1',\n",
    "        'noplaylist': True,\n",
    "        'outtmpl': f'{download_path}/%(title)s.%(ext)s',\n",
    "        'ffmpeg_location': FFMPEG_PATH, \n",
    "        'postprocessors': [{\n",
    "            'key': 'FFmpegExtractAudio',\n",
    "            'preferredcodec': 'mp3',\n",
    "            'preferredquality': '192',\n",
    "        }],\n",
    "        'quiet': False  # Set to True to hide logs\n",
    "    }\n",
    "    \n",
    "    with yt_dlp.YoutubeDL(ydl_opts) as ydl:\n",
    "        ydl.download([song_name])\n",
    "\n",
    "    print(f\"✅ Downloaded and converted: {song_name}\")\n",
    "\n",
    "# Example songs\n",
    "songs = [\"Michael Jackson Speed Demon\"]\n",
    "\n",
    "for song in songs:\n",
    "    try:\n",
    "        download_song(song)\n",
    "    except Exception as e:\n",
    "        print(\"Expected Error\")"
   ]
  },
  {
   "cell_type": "code",
   "execution_count": 1,
   "metadata": {},
   "outputs": [
    {
     "name": "stdout",
     "output_type": "stream",
     "text": [
      "✅ Converted: KORDHELL - MURDER PLOT.webm -> songs_mp3\\KORDHELL - MURDER PLOT.mp3\n",
      "✅ Converted: Michael Jackson - Billie Jean (Official Video).webm -> songs_mp3\\Michael Jackson - Billie Jean (Official Video).mp3\n",
      "✅ Converted: Michael Jackson - Speed Demon (Official Video).webm -> songs_mp3\\Michael Jackson - Speed Demon (Official Video).mp3\n",
      "✅ Converted: overdrive.webm -> songs_mp3\\overdrive.mp3\n"
     ]
    }
   ],
   "source": [
    "import os\n",
    "import subprocess\n",
    "\n",
    "FFMPEG_PATH = r\"C:\\Users\\SABIO\\ffmpeg\\bin\\ffmpeg.exe\" \n",
    "\n",
    "# Define input (where your WEBM files are) and output folders\n",
    "input_folder = \"songs\"  # Update this if needed\n",
    "output_folder = \"songs_mp3\"\n",
    "os.makedirs(output_folder, exist_ok=True)  # Create output folder if it doesn't exist\n",
    "\n",
    "def convert_webm_to_mp3():\n",
    "    \"\"\"Convert all .webm files in a folder to .mp3\"\"\"\n",
    "    for file in os.listdir(input_folder):\n",
    "        if file.endswith(\".webm\"):\n",
    "            input_path = os.path.join(input_folder, file)\n",
    "            output_path = os.path.join(output_folder, file.replace(\".webm\", \".mp3\"))\n",
    "            \n",
    "            # Use full path to FFmpeg\n",
    "            command = [FFMPEG_PATH, \"-i\", input_path, \"-vn\", \"-ab\", \"192k\", output_path]\n",
    "            \n",
    "            # Run FFmpeg command\n",
    "            try:\n",
    "                subprocess.run(command, check=True)\n",
    "                print(f\"✅ Converted: {file} -> {output_path}\")\n",
    "            except FileNotFoundError:\n",
    "                print(f\"❌ Error: FFmpeg not found at {FFMPEG_PATH}\")\n",
    "                break\n",
    "            except subprocess.CalledProcessError as e:\n",
    "                print(f\"❌ FFmpeg Error: {e}\")\n",
    "                break\n",
    "\n",
    "convert_webm_to_mp3()"
   ]
  },
  {
   "cell_type": "code",
   "execution_count": 2,
   "metadata": {},
   "outputs": [
    {
     "name": "stdout",
     "output_type": "stream",
     "text": [
      "✅ Fingerprint created for KORDHELL - MURDER PLOT.mp3\n",
      "✅ Fingerprint created for Michael Jackson - Billie Jean (Official Video).mp3\n",
      "✅ Fingerprint created for Michael Jackson - Speed Demon (Official Video).mp3\n",
      "✅ Fingerprint created for overdrive.mp3\n"
     ]
    }
   ],
   "source": [
    "import librosa\n",
    "import librosa.display\n",
    "import numpy as np\n",
    "import os\n",
    "import matplotlib.pyplot as plt\n",
    "\n",
    "# Define folder containing MP3 files\n",
    "input_folder = \"songs_mp3\"  \n",
    "output_folder = \"fingerprints\"\n",
    "os.makedirs(output_folder, exist_ok=True)  # Create output folder if not exists\n",
    "\n",
    "def generate_fingerprint(file_path):\n",
    "    \"\"\"Extracts a fingerprint (spectrogram peaks) from an audio file\"\"\"\n",
    "    try:\n",
    "        # Load audio file\n",
    "        y, sr = librosa.load(file_path, sr=44100)\n",
    "        \n",
    "        # Compute Spectrogram\n",
    "        D = librosa.amplitude_to_db(np.abs(librosa.stft(y)), ref=np.max)\n",
    "        \n",
    "        # Get peaks in the spectrogram (Shazam-like fingerprinting)\n",
    "        peaks = np.argwhere(D > np.percentile(D, 95))  # Extract top 5% peaks\n",
    "        \n",
    "        # Convert peaks into a unique fingerprint\n",
    "        fingerprint = peaks.tolist()  # Convert to list format\n",
    "        \n",
    "        # Save fingerprint as a NumPy file\n",
    "        fingerprint_file = os.path.join(output_folder, os.path.basename(file_path).replace(\".mp3\", \".npy\"))\n",
    "        np.save(fingerprint_file, fingerprint)\n",
    "        \n",
    "        print(f\"✅ Fingerprint created for {os.path.basename(file_path)}\")\n",
    "\n",
    "        plt.figure(figsize=(10, 6))\n",
    "        librosa.display.specshow(D, sr=sr, x_axis=\"time\", y_axis=\"log\")\n",
    "        plt.colorbar(format=\"%+2.0f dB\")\n",
    "        plt.title(f\"Spectrogram - {os.path.basename(file_path)}\")\n",
    "        plt.savefig(f\"{file_path.replace('.mp3', '.png')}\")\n",
    "        plt.close()\n",
    "\n",
    "    except Exception as e:\n",
    "        print(f\"⚠️ Error processing {file_path}: {e}\")\n",
    "\n",
    "# Process all MP3 files in the folder\n",
    "for file in os.listdir(input_folder):\n",
    "    if file.endswith(\".mp3\"):\n",
    "        file_path = os.path.join(input_folder, file)\n",
    "        generate_fingerprint(file_path)"
   ]
  },
  {
   "cell_type": "code",
   "execution_count": 5,
   "metadata": {},
   "outputs": [
    {
     "name": "stdout",
     "output_type": "stream",
     "text": [
      "🔍 Closest match: Michael Jackson - Speed Demon (Official Video)\n"
     ]
    }
   ],
   "source": [
    "import librosa\n",
    "import numpy as np\n",
    "import os\n",
    "\n",
    "# Define folders\n",
    "songs_folder = \"songs_mp3\"  # Full song database\n",
    "fingerprints_folder = \"fingerprints\"  # Precomputed fingerprints\n",
    "\n",
    "def generate_snippet_fingerprint(file_path, start_time=10, duration=5):\n",
    "    \"\"\"Extracts a fingerprint from a short audio snippet\"\"\"\n",
    "    try:\n",
    "        # Load only a small snippet of the audio file\n",
    "        y, sr = librosa.load(file_path, sr=44100, offset=start_time, duration=duration)\n",
    "        \n",
    "        # Compute spectrogram\n",
    "        D = librosa.amplitude_to_db(np.abs(librosa.stft(y)), ref=np.max)\n",
    "        \n",
    "        # Get peaks (top 5% of intensities)\n",
    "        peaks = np.argwhere(D > np.percentile(D, 95))\n",
    "        \n",
    "        return peaks  # Return the fingerprint\n",
    "\n",
    "    except Exception as e:\n",
    "        print(f\"⚠️ Error processing snippet: {e}\")\n",
    "        return None\n",
    "\n",
    "def find_closest_match(snippet_fingerprint):\n",
    "    \"\"\"Find the song with the closest matching fingerprint\"\"\"\n",
    "    best_match = None\n",
    "    best_score = float('inf')  # Lower score means better match\n",
    "\n",
    "    for fingerprint_file in os.listdir(fingerprints_folder):\n",
    "        if fingerprint_file.endswith(\".npy\"):\n",
    "            song_fingerprint = np.load(os.path.join(fingerprints_folder, fingerprint_file))\n",
    "            \n",
    "            # Compare snippet fingerprint to full song fingerprint\n",
    "            difference = len(set(map(tuple, snippet_fingerprint)) - set(map(tuple, song_fingerprint)))\n",
    "\n",
    "            if difference < best_score:  # Lower difference means better match\n",
    "                best_score = difference\n",
    "                best_match = fingerprint_file.replace(\".npy\", \"\")\n",
    "\n",
    "    return best_match if best_match else \"No match found\"\n",
    "\n",
    "# Test with a snippet from a song\n",
    "test_song = os.path.join(songs_folder, \"Michael Jackson - Speed Demon (Official Video).mp3\")  # Change this to an actual song in your database\n",
    "snippet_fingerprint = generate_snippet_fingerprint(test_song)\n",
    "\n",
    "if snippet_fingerprint is not None:\n",
    "    match = find_closest_match(snippet_fingerprint)\n",
    "    print(f\"🔍 Closest match: {match}\")"
   ]
  }
 ],
 "metadata": {
  "kernelspec": {
   "display_name": "myenv312",
   "language": "python",
   "name": "python3"
  },
  "language_info": {
   "codemirror_mode": {
    "name": "ipython",
    "version": 3
   },
   "file_extension": ".py",
   "mimetype": "text/x-python",
   "name": "python",
   "nbconvert_exporter": "python",
   "pygments_lexer": "ipython3",
   "version": "3.12.0"
  }
 },
 "nbformat": 4,
 "nbformat_minor": 2
}
