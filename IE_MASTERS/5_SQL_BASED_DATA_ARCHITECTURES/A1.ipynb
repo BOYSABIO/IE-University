{
 "cells": [
  {
   "cell_type": "markdown",
   "metadata": {},
   "source": [
    "### Question 1"
   ]
  },
  {
   "cell_type": "markdown",
   "metadata": {},
   "source": [
    "Create the Table BUSES with the following columns:\n",
    "\n",
    "\n",
    "\n",
    "LICENSE_PLATE: It's an alphanumeric string that identifies the bus. The column's data type is CHAR(8) and must not contain nulls.\n",
    "SEATS: It's the total number of seats on the bus. The column's data type is INTEGER and the default value is 50.\n",
    "BUILD_DATE: It's the date the bus was built. The column's data type is DATE.\n",
    "MAINTENANCE: It's a boolean data type specifying whether the bus is currently in maintenance mode or not.\n",
    "\n",
    "\n",
    "This table contains one row for every bus in the company. \n",
    "\n",
    "Please, insert the following 5 buses into the table using 1 single SQL statement:"
   ]
  },
  {
   "cell_type": "markdown",
   "metadata": {},
   "source": [
    "| LICENSE_PLATE | SEATS | BUILD_DATE | MAINTENANCE |\n",
    "| ----------- | ----------- | ----------- | ----------- |\n",
    "| 2471 HJS | 48 | 2000-01-30 | unknown |\n",
    "| 6583 ZML | 30 | 2014-01-01 | NO |\n",
    "| 2448 GHI | 60 | 2013-12-04 | ​NO |\n",
    "| 4646 BCD | 53 | unknown | YES |\n",
    "| 2896 BMS | default | unknown | YES |"
   ]
  },
  {
   "cell_type": "code",
   "execution_count": null,
   "metadata": {
    "vscode": {
     "languageId": "sql"
    }
   },
   "outputs": [],
   "source": [
    "CREATE TABLE BUSES(\n",
    "LICENSE_PLATE CHAR(8) NOT NULL,\n",
    "SEATS INTEGER DEFAULT 50,\n",
    "BUILD_DATE DATE,\n",
    "MAINTENANCE BOOLEAN);\n",
    "\n",
    "INSERT INTO BUSES VALUES\n",
    "('2471 HJS', 48, '2000-01-30', NULL),\n",
    "('6583 ZML', 30, '2014-01-01', FALSE),\n",
    "('2448 GHI', 60, '2013-12-04', FALSE),\n",
    "('4646 BCD', 53, NULL, TRUE), \n",
    "('2896 BMS', DEFAULT, NULL, TRUE);"
   ]
  },
  {
   "cell_type": "markdown",
   "metadata": {},
   "source": [
    "### Question 2"
   ]
  },
  {
   "cell_type": "markdown",
   "metadata": {},
   "source": [
    "Matthew bought a new bus, with license number 4040 YMC, and built date on August 5th, 2019. He doesn't care about the number of seats the bus has. In fact, he doesn't even know the number of seats it's got. He didn't spend his time counting the number of seats on the bus. Even loading a NULL value in this attribute will be acceptable for him. The same goes for maintenance. Any value is acceptable, true, false, or null.\n",
    "\n",
    "Which of the following statements will insert the row in the table with the data expected by Matthew?"
   ]
  },
  {
   "cell_type": "code",
   "execution_count": null,
   "metadata": {
    "vscode": {
     "languageId": "sql"
    }
   },
   "outputs": [],
   "source": [
    "-- ANSWER A (Not correct)\n",
    "INSERT INTO BUSES (LICENSE_PLATE, SEATS, BUILD_DATE)\n",
    "VALUES ('4040 YMC', DEFAULT, '2019-05-08'); --This month and day is not correct"
   ]
  },
  {
   "cell_type": "code",
   "execution_count": null,
   "metadata": {
    "vscode": {
     "languageId": "sql"
    }
   },
   "outputs": [],
   "source": [
    "-- ANSWER B (Correct)\n",
    "INSERT INTO BUSES (LICENSE_PLATE, BUILD_DATE, SEATS)\n",
    "VALUES ('4040 YMC', '2019-08-05', DEFAULT);"
   ]
  },
  {
   "cell_type": "code",
   "execution_count": null,
   "metadata": {
    "vscode": {
     "languageId": "sql"
    }
   },
   "outputs": [],
   "source": [
    "-- ANSWER C (Correct)\n",
    "INSERT INTO BUSES VALUES ('4040 YMC', NULL, '2019-08-05', 'TRUE'); --Need to check if NULL will be set to default and if 'TRUE' works"
   ]
  },
  {
   "cell_type": "code",
   "execution_count": null,
   "metadata": {
    "vscode": {
     "languageId": "sql"
    }
   },
   "outputs": [],
   "source": [
    "-- ANSWER D (I think its correct)\n",
    "INSERT INTO BUSES\n",
    "VALUES ('4040 YMC', DEFAULT, '2019-08-05', FALSE);"
   ]
  },
  {
   "cell_type": "code",
   "execution_count": null,
   "metadata": {
    "vscode": {
     "languageId": "sql"
    }
   },
   "outputs": [],
   "source": [
    "-- ANSWER E (I think its correct)\n",
    "INSERT INTO BUSES (BUILD_DATE, LICENSE_PLATE)\n",
    "VALUES ('2019-08-05', '4040 YMC')"
   ]
  },
  {
   "cell_type": "markdown",
   "metadata": {},
   "source": [
    "### Question 3"
   ]
  },
  {
   "cell_type": "markdown",
   "metadata": {},
   "source": [
    "Marcus went and bought a used bus, with license number 6488 JBF. This bus has 50 seats. But nobody knows the built date of the bus.  \n",
    "\n",
    "Which of the following statements will insert the bus in the table successfully with the correct data?"
   ]
  },
  {
   "cell_type": "code",
   "execution_count": 4,
   "metadata": {
    "vscode": {
     "languageId": "sql"
    }
   },
   "outputs": [
    {
     "ename": "SyntaxError",
     "evalue": "invalid syntax (913129985.py, line 1)",
     "output_type": "error",
     "traceback": [
      "\u001b[1;36m  Cell \u001b[1;32mIn[4], line 1\u001b[1;36m\u001b[0m\n\u001b[1;33m    INSERT INTO BUSES VALUES ('6488 JBF', DEFAULT, 'NULL');\u001b[0m\n\u001b[1;37m           ^\u001b[0m\n\u001b[1;31mSyntaxError\u001b[0m\u001b[1;31m:\u001b[0m invalid syntax\n"
     ]
    }
   ],
   "source": [
    "-- ANSWER A (Incorrect)\n",
    "INSERT INTO BUSES VALUES ('6488 JBF', DEFAULT, 'NULL');"
   ]
  },
  {
   "cell_type": "code",
   "execution_count": null,
   "metadata": {
    "vscode": {
     "languageId": "sql"
    }
   },
   "outputs": [],
   "source": [
    "-- ANSWER B (Maybe)\n",
    "INSERT INTO BUSES VALUES ('6844 JBF', DEFAULT, NULL);"
   ]
  },
  {
   "cell_type": "code",
   "execution_count": null,
   "metadata": {
    "vscode": {
     "languageId": "sql"
    }
   },
   "outputs": [],
   "source": [
    "-- ANSWER C (Maybe)\n",
    "INSERT INTO BUSES VALUES ('6844 JBF', NULL, NULL);"
   ]
  },
  {
   "cell_type": "code",
   "execution_count": null,
   "metadata": {
    "vscode": {
     "languageId": "sql"
    }
   },
   "outputs": [],
   "source": [
    "-- ANSWER D (Maybe)\n",
    "INSERT INTO BUSES (SEATS, LICENSE_PLATE) VALUES (DEFAULT, '6844 JBF');"
   ]
  },
  {
   "cell_type": "code",
   "execution_count": null,
   "metadata": {
    "vscode": {
     "languageId": "sql"
    }
   },
   "outputs": [],
   "source": [
    "-- ANSWER E (Maybe)\n",
    "INSERT INTO BUSES (LICENSE_PLATE) VALUES ('6844 JBF');"
   ]
  },
  {
   "cell_type": "markdown",
   "metadata": {},
   "source": [
    "### Question 4"
   ]
  },
  {
   "cell_type": "markdown",
   "metadata": {},
   "source": [
    "Martin asked the company to increase 5 seats for each bus. Which of the following statements will update the number of seats on the table?"
   ]
  },
  {
   "cell_type": "code",
   "execution_count": null,
   "metadata": {
    "vscode": {
     "languageId": "sql"
    }
   },
   "outputs": [],
   "source": [
    "-- ANSWER A\n",
    "UPDATE BUSES SET SEATS = 5 + SEATS WHERE LICENSE_PLATE IS NOT NULL;"
   ]
  },
  {
   "cell_type": "code",
   "execution_count": null,
   "metadata": {
    "vscode": {
     "languageId": "sql"
    }
   },
   "outputs": [],
   "source": [
    "-- ANSWER B\n",
    "UPDATE BUSES SET (SEATS + 5) = SEATS;"
   ]
  },
  {
   "cell_type": "code",
   "execution_count": null,
   "metadata": {
    "vscode": {
     "languageId": "sql"
    }
   },
   "outputs": [],
   "source": [
    "-- ANSWER C\n",
    "UPDATE BUSES SET SEATS = (5 + SEATS);"
   ]
  },
  {
   "cell_type": "code",
   "execution_count": null,
   "metadata": {
    "vscode": {
     "languageId": "sql"
    }
   },
   "outputs": [],
   "source": [
    "-- ANSWER D\n",
    "UPDATE BUSES SET SEATS = SEATS + 5"
   ]
  },
  {
   "cell_type": "code",
   "execution_count": null,
   "metadata": {
    "vscode": {
     "languageId": "sql"
    }
   },
   "outputs": [],
   "source": [
    "-- ANSWER E\n",
    "UPDATE BUSES SET SEATS = SEATS X 5"
   ]
  },
  {
   "cell_type": "markdown",
   "metadata": {},
   "source": [
    "### Question 10"
   ]
  },
  {
   "cell_type": "markdown",
   "metadata": {},
   "source": [
    "From now on, all exercises will be related to the EMPLOYEE table. You'll have this table accessible by DBeaver.  \n",
    "  \n",
    "The total salary of each employee is computed by adding the amount of columns SALARY, BONUS, and COMM.  \n",
    "  \n",
    "Can you show us, the SQL statement you will have to use, to obtain the employee’s department, last name, and total salary, but only for departments beginning with the letter B or C? We want the information for only 5 employees. Please order the output by the total salary in descending mode and then the department in ascending mode. You'll also have to include the result of the statement in this exercise to obtain all points."
   ]
  },
  {
   "cell_type": "code",
   "execution_count": null,
   "metadata": {
    "vscode": {
     "languageId": "sql"
    }
   },
   "outputs": [],
   "source": [
    "SELECT WORKDEPT, LASTNAME, (COALESCE(SALARY, 0) + COALESCE(BONUS, 0) + COALESCE(COMM, 0)) AS TOTALSALARY\n",
    "FROM EMPLOYEE\n",
    "WHERE WORKDEPT LIKE 'B%' OR WORKDEPT LIKE 'C%'\n",
    "ORDER BY TOTALSALARY DESC, WORKDEPT ASC\n",
    "LIMIT 5;"
   ]
  },
  {
   "cell_type": "markdown",
   "metadata": {},
   "source": [
    "| DEPARTMENT | LASTNAME | SALARY |\n",
    "| ----------- | ----------- | ----------- |\n",
    "| B00 | Bury | 79799.27 |\n",
    "| B00 | Paine | 78558.59 |\n",
    "| C00 | Clough | 77578.86 |\n",
    "| B00 | Compton | 77287.27 |\n",
    "| C00 | Pitcher | 74518.45 |"
   ]
  },
  {
   "cell_type": "markdown",
   "metadata": {},
   "source": [
    "### Question 23"
   ]
  },
  {
   "cell_type": "markdown",
   "metadata": {},
   "source": [
    "On July the third 2024, how many business class tickets were sold to ladies?"
   ]
  },
  {
   "cell_type": "code",
   "execution_count": null,
   "metadata": {
    "vscode": {
     "languageId": "sql"
    }
   },
   "outputs": [],
   "source": [
    "SELECT COUNT(*)\n",
    "FROM TICKETS\n",
    "WHERE CLASS = 'B'\n",
    "AND PASSENGER_ID IN (\n",
    "    SELECT GENDER\n",
    "    FROM PASSENGERS\n",
    "    WHERE GENDER = 'F')\n",
    "AND FLIGHT_ID IN (\n",
    "    SELECT FLIGHT_ID\n",
    "    FROM FLIGHTS\n",
    "    WHERE DEPARTURE = '2024-07-03');"
   ]
  }
 ],
 "metadata": {
  "kernelspec": {
   "display_name": "Python 3",
   "language": "python",
   "name": "python3"
  },
  "language_info": {
   "codemirror_mode": {
    "name": "ipython",
    "version": 3
   },
   "file_extension": ".py",
   "mimetype": "text/x-python",
   "name": "python",
   "nbconvert_exporter": "python",
   "pygments_lexer": "ipython3",
   "version": "3.8.2"
  }
 },
 "nbformat": 4,
 "nbformat_minor": 2
}
