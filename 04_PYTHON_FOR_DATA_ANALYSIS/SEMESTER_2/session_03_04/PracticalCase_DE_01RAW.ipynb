{
 "cells": [
  {
   "cell_type": "code",
   "execution_count": 8,
   "id": "51e726d5",
   "metadata": {},
   "outputs": [
    {
     "name": "stdout",
     "output_type": "stream",
     "text": [
      "Defaulting to user installation because normal site-packages is not writeable\n",
      "Collecting ydata-profiling\n",
      "  Downloading ydata_profiling-4.12.2-py2.py3-none-any.whl.metadata (20 kB)\n",
      "Requirement already satisfied: scipy<1.16,>=1.4.1 in c:\\users\\slo\\appdata\\roaming\\python\\python38\\site-packages (from ydata-profiling) (1.10.1)\n",
      "Requirement already satisfied: pandas!=1.4.0,<3,>1.1 in c:\\users\\slo\\appdata\\roaming\\python\\python38\\site-packages (from ydata-profiling) (2.0.3)\n",
      "Requirement already satisfied: matplotlib>=3.5 in c:\\program files\\python38\\lib\\site-packages (from ydata-profiling) (3.7.3)\n",
      "Collecting pydantic>=2 (from ydata-profiling)\n",
      "  Using cached pydantic-2.10.6-py3-none-any.whl.metadata (30 kB)\n",
      "Collecting PyYAML<6.1,>=5.0.0 (from ydata-profiling)\n",
      "  Downloading PyYAML-6.0.2-cp38-cp38-win_amd64.whl.metadata (2.1 kB)\n",
      "Collecting jinja2<3.2,>=2.11.1 (from ydata-profiling)\n",
      "  Using cached jinja2-3.1.5-py3-none-any.whl.metadata (2.6 kB)\n",
      "Collecting visions<0.8.0,>=0.7.5 (from visions[type_image_path]<0.8.0,>=0.7.5->ydata-profiling)\n",
      "  Downloading visions-0.7.6-py3-none-any.whl.metadata (11 kB)\n",
      "Requirement already satisfied: numpy<2.2,>=1.16.0 in c:\\program files\\python38\\lib\\site-packages (from ydata-profiling) (1.24.3)\n",
      "Collecting htmlmin==0.1.12 (from ydata-profiling)\n",
      "  Using cached htmlmin-0.1.12.tar.gz (19 kB)\n",
      "  Preparing metadata (setup.py): started\n",
      "  Preparing metadata (setup.py): finished with status 'done'\n",
      "Collecting phik<0.13,>=0.11.1 (from ydata-profiling)\n",
      "  Downloading phik-0.12.4-cp38-cp38-win_amd64.whl.metadata (5.6 kB)\n",
      "Requirement already satisfied: requests<3,>=2.24.0 in c:\\users\\slo\\appdata\\roaming\\python\\python38\\site-packages (from ydata-profiling) (2.31.0)\n",
      "Requirement already satisfied: tqdm<5,>=4.48.2 in c:\\users\\slo\\appdata\\roaming\\python\\python38\\site-packages (from ydata-profiling) (4.66.1)\n",
      "Requirement already satisfied: seaborn<0.14,>=0.10.1 in c:\\users\\slo\\appdata\\roaming\\python\\python38\\site-packages (from ydata-profiling) (0.13.2)\n",
      "Collecting multimethod<2,>=1.4 (from ydata-profiling)\n",
      "  Downloading multimethod-1.10-py3-none-any.whl.metadata (8.2 kB)\n",
      "Requirement already satisfied: statsmodels<1,>=0.13.2 in c:\\users\\slo\\appdata\\roaming\\python\\python38\\site-packages (from ydata-profiling) (0.14.1)\n",
      "Collecting typeguard<5,>=3 (from ydata-profiling)\n",
      "  Downloading typeguard-4.4.0-py3-none-any.whl.metadata (3.8 kB)\n",
      "Collecting imagehash==4.3.1 (from ydata-profiling)\n",
      "  Downloading ImageHash-4.3.1-py2.py3-none-any.whl.metadata (8.0 kB)\n",
      "Collecting wordcloud>=1.9.3 (from ydata-profiling)\n",
      "  Downloading wordcloud-1.9.4-cp38-cp38-win_amd64.whl.metadata (3.5 kB)\n",
      "Collecting dacite>=1.8 (from ydata-profiling)\n",
      "  Downloading dacite-1.9.2-py3-none-any.whl.metadata (17 kB)\n",
      "Collecting PyWavelets (from imagehash==4.3.1->ydata-profiling)\n",
      "  Downloading PyWavelets-1.4.1-cp38-cp38-win_amd64.whl.metadata (1.9 kB)\n",
      "Requirement already satisfied: pillow in c:\\program files\\python38\\lib\\site-packages (from imagehash==4.3.1->ydata-profiling) (10.1.0)\n",
      "Requirement already satisfied: MarkupSafe>=2.0 in c:\\users\\slo\\appdata\\roaming\\python\\python38\\site-packages (from jinja2<3.2,>=2.11.1->ydata-profiling) (2.1.3)\n",
      "Requirement already satisfied: contourpy>=1.0.1 in c:\\program files\\python38\\lib\\site-packages (from matplotlib>=3.5->ydata-profiling) (1.1.1)\n",
      "Requirement already satisfied: cycler>=0.10 in c:\\program files\\python38\\lib\\site-packages (from matplotlib>=3.5->ydata-profiling) (0.12.1)\n",
      "Requirement already satisfied: fonttools>=4.22.0 in c:\\program files\\python38\\lib\\site-packages (from matplotlib>=3.5->ydata-profiling) (4.44.3)\n",
      "Requirement already satisfied: kiwisolver>=1.0.1 in c:\\program files\\python38\\lib\\site-packages (from matplotlib>=3.5->ydata-profiling) (1.4.5)\n",
      "Requirement already satisfied: packaging>=20.0 in c:\\users\\slo\\appdata\\roaming\\python\\python38\\site-packages (from matplotlib>=3.5->ydata-profiling) (23.2)\n",
      "Requirement already satisfied: pyparsing>=2.3.1 in c:\\program files\\python38\\lib\\site-packages (from matplotlib>=3.5->ydata-profiling) (3.1.1)\n",
      "Requirement already satisfied: python-dateutil>=2.7 in c:\\users\\slo\\appdata\\roaming\\python\\python38\\site-packages (from matplotlib>=3.5->ydata-profiling) (2.8.2)\n",
      "Requirement already satisfied: importlib-resources>=3.2.0 in c:\\program files\\python38\\lib\\site-packages (from matplotlib>=3.5->ydata-profiling) (6.1.1)\n",
      "Requirement already satisfied: pytz>=2020.1 in c:\\users\\slo\\appdata\\roaming\\python\\python38\\site-packages (from pandas!=1.4.0,<3,>1.1->ydata-profiling) (2023.3.post1)\n",
      "Requirement already satisfied: tzdata>=2022.1 in c:\\users\\slo\\appdata\\roaming\\python\\python38\\site-packages (from pandas!=1.4.0,<3,>1.1->ydata-profiling) (2023.3)\n",
      "Requirement already satisfied: joblib>=0.14.1 in c:\\users\\slo\\appdata\\roaming\\python\\python38\\site-packages (from phik<0.13,>=0.11.1->ydata-profiling) (1.4.2)\n",
      "Collecting annotated-types>=0.6.0 (from pydantic>=2->ydata-profiling)\n",
      "  Downloading annotated_types-0.7.0-py3-none-any.whl.metadata (15 kB)\n",
      "Collecting pydantic-core==2.27.2 (from pydantic>=2->ydata-profiling)\n",
      "  Downloading pydantic_core-2.27.2-cp38-cp38-win_amd64.whl.metadata (6.7 kB)\n",
      "Collecting typing-extensions>=4.12.2 (from pydantic>=2->ydata-profiling)\n",
      "  Using cached typing_extensions-4.12.2-py3-none-any.whl.metadata (3.0 kB)\n",
      "Requirement already satisfied: charset-normalizer<4,>=2 in c:\\users\\slo\\appdata\\roaming\\python\\python38\\site-packages (from requests<3,>=2.24.0->ydata-profiling) (3.3.0)\n",
      "Requirement already satisfied: idna<4,>=2.5 in c:\\users\\slo\\appdata\\roaming\\python\\python38\\site-packages (from requests<3,>=2.24.0->ydata-profiling) (2.10)\n",
      "Requirement already satisfied: urllib3<3,>=1.21.1 in c:\\users\\slo\\appdata\\roaming\\python\\python38\\site-packages (from requests<3,>=2.24.0->ydata-profiling) (2.0.6)\n",
      "Requirement already satisfied: certifi>=2017.4.17 in c:\\users\\slo\\appdata\\roaming\\python\\python38\\site-packages (from requests<3,>=2.24.0->ydata-profiling) (2023.7.22)\n",
      "Requirement already satisfied: patsy>=0.5.4 in c:\\users\\slo\\appdata\\roaming\\python\\python38\\site-packages (from statsmodels<1,>=0.13.2->ydata-profiling) (0.5.6)\n",
      "Requirement already satisfied: colorama in c:\\users\\slo\\appdata\\roaming\\python\\python38\\site-packages (from tqdm<5,>=4.48.2->ydata-profiling) (0.4.6)\n",
      "Requirement already satisfied: importlib-metadata>=3.6 in c:\\users\\slo\\appdata\\roaming\\python\\python38\\site-packages (from typeguard<5,>=3->ydata-profiling) (6.8.0)\n",
      "Requirement already satisfied: attrs>=19.3.0 in c:\\users\\slo\\appdata\\roaming\\python\\python38\\site-packages (from visions<0.8.0,>=0.7.5->visions[type_image_path]<0.8.0,>=0.7.5->ydata-profiling) (23.1.0)\n",
      "Collecting networkx>=2.4 (from visions<0.8.0,>=0.7.5->visions[type_image_path]<0.8.0,>=0.7.5->ydata-profiling)\n",
      "  Downloading networkx-3.1-py3-none-any.whl.metadata (5.3 kB)\n",
      "Requirement already satisfied: zipp>=0.5 in c:\\users\\slo\\appdata\\roaming\\python\\python38\\site-packages (from importlib-metadata>=3.6->typeguard<5,>=3->ydata-profiling) (3.17.0)\n",
      "Requirement already satisfied: six in c:\\users\\slo\\appdata\\roaming\\python\\python38\\site-packages (from patsy>=0.5.4->statsmodels<1,>=0.13.2->ydata-profiling) (1.16.0)\n",
      "Downloading ydata_profiling-4.12.2-py2.py3-none-any.whl (390 kB)\n",
      "Downloading ImageHash-4.3.1-py2.py3-none-any.whl (296 kB)\n",
      "Downloading dacite-1.9.2-py3-none-any.whl (16 kB)\n",
      "Downloading jinja2-3.1.5-py3-none-any.whl (134 kB)\n",
      "Downloading multimethod-1.10-py3-none-any.whl (9.9 kB)\n",
      "Downloading phik-0.12.4-cp38-cp38-win_amd64.whl (666 kB)\n",
      "   ---------------------------------------- 0.0/666.2 kB ? eta -:--:--\n",
      "   --------------------------------------- 666.2/666.2 kB 13.0 MB/s eta 0:00:00\n",
      "Downloading pydantic-2.10.6-py3-none-any.whl (431 kB)\n",
      "Downloading pydantic_core-2.27.2-cp38-cp38-win_amd64.whl (2.0 MB)\n",
      "   ---------------------------------------- 0.0/2.0 MB ? eta -:--:--\n",
      "   ---------------------------------------- 2.0/2.0 MB 22.0 MB/s eta 0:00:00\n",
      "Downloading PyYAML-6.0.2-cp38-cp38-win_amd64.whl (162 kB)\n",
      "Downloading typeguard-4.4.0-py3-none-any.whl (35 kB)\n",
      "Downloading visions-0.7.6-py3-none-any.whl (104 kB)\n",
      "Downloading wordcloud-1.9.4-cp38-cp38-win_amd64.whl (300 kB)\n",
      "Downloading annotated_types-0.7.0-py3-none-any.whl (13 kB)\n",
      "Downloading networkx-3.1-py3-none-any.whl (2.1 MB)\n",
      "   ---------------------------------------- 0.0/2.1 MB ? eta -:--:--\n",
      "   ---------------------------------------- 2.1/2.1 MB 23.2 MB/s eta 0:00:00\n",
      "Using cached typing_extensions-4.12.2-py3-none-any.whl (37 kB)\n",
      "Downloading PyWavelets-1.4.1-cp38-cp38-win_amd64.whl (4.2 MB)\n",
      "   ---------------------------------------- 0.0/4.2 MB ? eta -:--:--\n",
      "   ---------------------------------------- 4.2/4.2 MB 22.9 MB/s eta 0:00:00\n",
      "Building wheels for collected packages: htmlmin\n",
      "  Building wheel for htmlmin (setup.py): started\n",
      "  Building wheel for htmlmin (setup.py): finished with status 'done'\n",
      "  Created wheel for htmlmin: filename=htmlmin-0.1.12-py3-none-any.whl size=27096 sha256=8c37cae66a0fd1defba59478ab20da7ab941d12a2776b4b49af236b8063f11f9\n",
      "  Stored in directory: c:\\users\\slo\\appdata\\local\\pip\\cache\\wheels\\23\\14\\6e\\4be5bfeeb027f4939a01764b48edd5996acf574b0913fe5243\n",
      "Successfully built htmlmin\n",
      "Installing collected packages: htmlmin, typing-extensions, PyYAML, PyWavelets, networkx, multimethod, jinja2, dacite, typeguard, pydantic-core, imagehash, annotated-types, wordcloud, visions, pydantic, phik, ydata-profiling\n",
      "  Attempting uninstall: typing-extensions\n",
      "    Found existing installation: typing_extensions 4.5.0\n",
      "    Uninstalling typing_extensions-4.5.0:\n",
      "      Successfully uninstalled typing_extensions-4.5.0\n",
      "Successfully installed PyWavelets-1.4.1 PyYAML-6.0.2 annotated-types-0.7.0 dacite-1.9.2 htmlmin-0.1.12 imagehash-4.3.1 jinja2-3.1.5 multimethod-1.10 networkx-3.1 phik-0.12.4 pydantic-2.10.6 pydantic-core-2.27.2 typeguard-4.4.0 typing-extensions-4.12.2 visions-0.7.6 wordcloud-1.9.4 ydata-profiling-4.12.2\n"
     ]
    },
    {
     "name": "stderr",
     "output_type": "stream",
     "text": [
      "ERROR: pip's dependency resolver does not currently take into account all the packages that are installed. This behaviour is the source of the following dependency conflicts.\n",
      "tensorflow-intel 2.13.0 requires protobuf!=4.21.0,!=4.21.1,!=4.21.2,!=4.21.3,!=4.21.4,!=4.21.5,<5.0.0dev,>=3.20.3, but you have protobuf 5.26.1 which is incompatible.\n",
      "tensorflow-intel 2.13.0 requires typing-extensions<4.6.0,>=3.6.6, but you have typing-extensions 4.12.2 which is incompatible.\n"
     ]
    }
   ],
   "source": [
    "!pip install ydata-profiling"
   ]
  },
  {
   "cell_type": "code",
   "execution_count": 10,
   "id": "0415cc56-035e-4517-a132-c95feeff8ddf",
   "metadata": {},
   "outputs": [
    {
     "ename": "ImportError",
     "evalue": "cannot import name 'Buffer' from 'typing_extensions' (C:\\Users\\SLO\\AppData\\Roaming\\Python\\Python38\\site-packages\\typing_extensions.py)",
     "output_type": "error",
     "traceback": [
      "\u001b[1;31m---------------------------------------------------------------------------\u001b[0m",
      "\u001b[1;31mImportError\u001b[0m                               Traceback (most recent call last)",
      "Cell \u001b[1;32mIn[10], line 4\u001b[0m\n\u001b[0;32m      1\u001b[0m \u001b[38;5;28;01mimport\u001b[39;00m \u001b[38;5;21;01mos\u001b[39;00m\n\u001b[0;32m      3\u001b[0m \u001b[38;5;28;01mimport\u001b[39;00m \u001b[38;5;21;01mpandas\u001b[39;00m \u001b[38;5;28;01mas\u001b[39;00m \u001b[38;5;21;01mpd\u001b[39;00m\n\u001b[1;32m----> 4\u001b[0m \u001b[38;5;28;01mfrom\u001b[39;00m \u001b[38;5;21;01mydata_profiling\u001b[39;00m \u001b[38;5;28;01mimport\u001b[39;00m ProfileReport\n",
      "File \u001b[1;32m~\\AppData\\Roaming\\Python\\Python38\\site-packages\\ydata_profiling\\__init__.py:10\u001b[0m\n\u001b[0;32m      6\u001b[0m \u001b[38;5;28;01mimport\u001b[39;00m \u001b[38;5;21;01mwarnings\u001b[39;00m  \u001b[38;5;66;03m# isort:skip # noqa\u001b[39;00m\n\u001b[0;32m      8\u001b[0m \u001b[38;5;28;01mimport\u001b[39;00m \u001b[38;5;21;01mimportlib\u001b[39;00m\u001b[38;5;21;01m.\u001b[39;00m\u001b[38;5;21;01mutil\u001b[39;00m  \u001b[38;5;66;03m# isort:skip # noqa\u001b[39;00m\n\u001b[1;32m---> 10\u001b[0m \u001b[38;5;28;01mfrom\u001b[39;00m \u001b[38;5;21;01mydata_profiling\u001b[39;00m\u001b[38;5;21;01m.\u001b[39;00m\u001b[38;5;21;01mcompare_reports\u001b[39;00m \u001b[38;5;28;01mimport\u001b[39;00m compare  \u001b[38;5;66;03m# isort:skip # noqa\u001b[39;00m\n\u001b[0;32m     11\u001b[0m \u001b[38;5;28;01mfrom\u001b[39;00m \u001b[38;5;21;01mydata_profiling\u001b[39;00m\u001b[38;5;21;01m.\u001b[39;00m\u001b[38;5;21;01mcontroller\u001b[39;00m \u001b[38;5;28;01mimport\u001b[39;00m pandas_decorator  \u001b[38;5;66;03m# isort:skip # noqa\u001b[39;00m\n\u001b[0;32m     12\u001b[0m \u001b[38;5;28;01mfrom\u001b[39;00m \u001b[38;5;21;01mydata_profiling\u001b[39;00m\u001b[38;5;21;01m.\u001b[39;00m\u001b[38;5;21;01mprofile_report\u001b[39;00m \u001b[38;5;28;01mimport\u001b[39;00m ProfileReport  \u001b[38;5;66;03m# isort:skip # noqa\u001b[39;00m\n",
      "File \u001b[1;32m~\\AppData\\Roaming\\Python\\Python38\\site-packages\\ydata_profiling\\compare_reports.py:12\u001b[0m\n\u001b[0;32m     10\u001b[0m \u001b[38;5;28;01mfrom\u001b[39;00m \u001b[38;5;21;01mydata_profiling\u001b[39;00m\u001b[38;5;21;01m.\u001b[39;00m\u001b[38;5;21;01mmodel\u001b[39;00m \u001b[38;5;28;01mimport\u001b[39;00m BaseDescription\n\u001b[0;32m     11\u001b[0m \u001b[38;5;28;01mfrom\u001b[39;00m \u001b[38;5;21;01mydata_profiling\u001b[39;00m\u001b[38;5;21;01m.\u001b[39;00m\u001b[38;5;21;01mmodel\u001b[39;00m\u001b[38;5;21;01m.\u001b[39;00m\u001b[38;5;21;01malerts\u001b[39;00m \u001b[38;5;28;01mimport\u001b[39;00m Alert\n\u001b[1;32m---> 12\u001b[0m \u001b[38;5;28;01mfrom\u001b[39;00m \u001b[38;5;21;01mydata_profiling\u001b[39;00m\u001b[38;5;21;01m.\u001b[39;00m\u001b[38;5;21;01mprofile_report\u001b[39;00m \u001b[38;5;28;01mimport\u001b[39;00m ProfileReport\n\u001b[0;32m     15\u001b[0m \u001b[38;5;28;01mdef\u001b[39;00m \u001b[38;5;21m_should_wrap\u001b[39m(v1: Any, v2: Any) \u001b[38;5;241m-\u001b[39m\u001b[38;5;241m>\u001b[39m \u001b[38;5;28mbool\u001b[39m:\n\u001b[0;32m     16\u001b[0m     \u001b[38;5;28;01mif\u001b[39;00m \u001b[38;5;28misinstance\u001b[39m(v1, (\u001b[38;5;28mlist\u001b[39m, \u001b[38;5;28mdict\u001b[39m)):\n",
      "File \u001b[1;32m~\\AppData\\Roaming\\Python\\Python38\\site-packages\\ydata_profiling\\profile_report.py:24\u001b[0m\n\u001b[0;32m     22\u001b[0m \u001b[38;5;28;01mimport\u001b[39;00m \u001b[38;5;21;01mpandas\u001b[39;00m \u001b[38;5;28;01mas\u001b[39;00m \u001b[38;5;21;01mpd\u001b[39;00m\n\u001b[0;32m     23\u001b[0m \u001b[38;5;28;01mfrom\u001b[39;00m \u001b[38;5;21;01mtqdm\u001b[39;00m\u001b[38;5;21;01m.\u001b[39;00m\u001b[38;5;21;01mauto\u001b[39;00m \u001b[38;5;28;01mimport\u001b[39;00m tqdm\n\u001b[1;32m---> 24\u001b[0m \u001b[38;5;28;01mfrom\u001b[39;00m \u001b[38;5;21;01mtypeguard\u001b[39;00m \u001b[38;5;28;01mimport\u001b[39;00m typechecked\n\u001b[0;32m     25\u001b[0m \u001b[38;5;28;01mfrom\u001b[39;00m \u001b[38;5;21;01mvisions\u001b[39;00m \u001b[38;5;28;01mimport\u001b[39;00m VisionsTypeset\n\u001b[0;32m     27\u001b[0m \u001b[38;5;28;01mfrom\u001b[39;00m \u001b[38;5;21;01mydata_profiling\u001b[39;00m\u001b[38;5;21;01m.\u001b[39;00m\u001b[38;5;21;01mconfig\u001b[39;00m \u001b[38;5;28;01mimport\u001b[39;00m Config, Settings, SparkSettings\n",
      "File \u001b[1;32m~\\AppData\\Roaming\\Python\\Python38\\site-packages\\typeguard\\__init__.py:21\u001b[0m\n\u001b[0;32m     19\u001b[0m \u001b[38;5;28;01mfrom\u001b[39;00m \u001b[38;5;21;01m.\u001b[39;00m\u001b[38;5;21;01m_functions\u001b[39;00m \u001b[38;5;28;01mimport\u001b[39;00m check_type \u001b[38;5;28;01mas\u001b[39;00m check_type\n\u001b[0;32m     20\u001b[0m \u001b[38;5;28;01mfrom\u001b[39;00m \u001b[38;5;21;01m.\u001b[39;00m\u001b[38;5;21;01m_functions\u001b[39;00m \u001b[38;5;28;01mimport\u001b[39;00m warn_on_error \u001b[38;5;28;01mas\u001b[39;00m warn_on_error\n\u001b[1;32m---> 21\u001b[0m \u001b[38;5;28;01mfrom\u001b[39;00m \u001b[38;5;21;01m.\u001b[39;00m\u001b[38;5;21;01m_importhook\u001b[39;00m \u001b[38;5;28;01mimport\u001b[39;00m ImportHookManager \u001b[38;5;28;01mas\u001b[39;00m ImportHookManager\n\u001b[0;32m     22\u001b[0m \u001b[38;5;28;01mfrom\u001b[39;00m \u001b[38;5;21;01m.\u001b[39;00m\u001b[38;5;21;01m_importhook\u001b[39;00m \u001b[38;5;28;01mimport\u001b[39;00m TypeguardFinder \u001b[38;5;28;01mas\u001b[39;00m TypeguardFinder\n\u001b[0;32m     23\u001b[0m \u001b[38;5;28;01mfrom\u001b[39;00m \u001b[38;5;21;01m.\u001b[39;00m\u001b[38;5;21;01m_importhook\u001b[39;00m \u001b[38;5;28;01mimport\u001b[39;00m install_import_hook \u001b[38;5;28;01mas\u001b[39;00m install_import_hook\n",
      "File \u001b[1;32m~\\AppData\\Roaming\\Python\\Python38\\site-packages\\typeguard\\_importhook.py:22\u001b[0m\n\u001b[0;32m     20\u001b[0m     \u001b[38;5;28;01mfrom\u001b[39;00m \u001b[38;5;21;01mcollections\u001b[39;00m\u001b[38;5;21;01m.\u001b[39;00m\u001b[38;5;21;01mabc\u001b[39;00m \u001b[38;5;28;01mimport\u001b[39;00m Buffer\n\u001b[0;32m     21\u001b[0m \u001b[38;5;28;01melse\u001b[39;00m:\n\u001b[1;32m---> 22\u001b[0m     \u001b[38;5;28;01mfrom\u001b[39;00m \u001b[38;5;21;01mtyping_extensions\u001b[39;00m \u001b[38;5;28;01mimport\u001b[39;00m Buffer\n\u001b[0;32m     24\u001b[0m \u001b[38;5;28;01mif\u001b[39;00m sys\u001b[38;5;241m.\u001b[39mversion_info \u001b[38;5;241m>\u001b[39m\u001b[38;5;241m=\u001b[39m (\u001b[38;5;241m3\u001b[39m, \u001b[38;5;241m11\u001b[39m):\n\u001b[0;32m     25\u001b[0m     \u001b[38;5;28;01mfrom\u001b[39;00m \u001b[38;5;21;01mtyping\u001b[39;00m \u001b[38;5;28;01mimport\u001b[39;00m ParamSpec\n",
      "\u001b[1;31mImportError\u001b[0m: cannot import name 'Buffer' from 'typing_extensions' (C:\\Users\\SLO\\AppData\\Roaming\\Python\\Python38\\site-packages\\typing_extensions.py)"
     ]
    }
   ],
   "source": [
    "import os\n",
    "\n",
    "import pandas as pd\n",
    "from ydata_profiling import ProfileReport"
   ]
  },
  {
   "cell_type": "code",
   "execution_count": 2,
   "id": "a2764fad",
   "metadata": {},
   "outputs": [
    {
     "data": {
      "text/plain": [
       "'c:\\\\Users\\\\SLO\\\\Documents\\\\GitHub\\\\IE-University\\\\04_PYTHON_FOR_DATA_ANALYSIS\\\\SEMESTER_2\\\\session_03_04'"
      ]
     },
     "execution_count": 2,
     "metadata": {},
     "output_type": "execute_result"
    }
   ],
   "source": [
    "os.getcwd()"
   ]
  },
  {
   "cell_type": "markdown",
   "id": "8a484e8c-134d-4c40-8e7a-92f42e1c2807",
   "metadata": {},
   "source": [
    "## RAW"
   ]
  },
  {
   "cell_type": "code",
   "execution_count": 3,
   "id": "b9092ef8-fef1-460d-bcea-9db899609cc7",
   "metadata": {},
   "outputs": [
    {
     "data": {
      "text/plain": [
       "{'demographics': 'demographics.zip',\n",
       " 'epidemiology': 'epidemiology.zip',\n",
       " 'health': 'health.zip',\n",
       " 'hospitalizations': 'hospitalizations.zip',\n",
       " 'index': 'index.zip',\n",
       " 'vaccinations': 'vaccinations.zip'}"
      ]
     },
     "execution_count": 3,
     "metadata": {},
     "output_type": "execute_result"
    }
   ],
   "source": [
    "datasources = {\n",
    "    source.replace(\".zip\",\"\"):source \n",
    "    for source in os.listdir(\"data/in\") \n",
    "    if source.endswith(\".zip\")\n",
    "}\n",
    "\n",
    "datasources"
   ]
  },
  {
   "cell_type": "markdown",
   "id": "e20358e3-d4fa-484f-babf-b0f909c82804",
   "metadata": {},
   "source": [
    "### Load data sources\n",
    "\n",
    "In this part we just load all data with Pandas for further processing. In this case we just have a bunch of CSV data, but data loading (or extraction, the E of \"ETL\") can be much more complicated when we have to connect to the clients' database or when the files we have to process are Excel files with macros 😱"
   ]
  },
  {
   "cell_type": "code",
   "execution_count": 4,
   "id": "8bfa6c93-b1da-4db6-b287-ea181ee4c71f",
   "metadata": {},
   "outputs": [],
   "source": [
    "datasets = {}\n",
    "for key,value in datasources.items():\n",
    "    datasets[key] = pd.read_csv(f\"data/in/{value}\")"
   ]
  },
  {
   "cell_type": "markdown",
   "id": "a53a84b0-e501-43ea-b75f-b23760702e2a",
   "metadata": {},
   "source": [
    "### Execute a data profiling for each source\n",
    "\n",
    "To have a very brief and direct summary to understand data, we can execute a profiling on al data sources individually. This operation will give us a brief overview about the state of data and will help us to establish next steps in the following data processing phases (how to filter, how to impute missing values, if column names afre correct, etc.)"
   ]
  },
  {
   "cell_type": "code",
   "execution_count": 10,
   "id": "79dcd251-4820-4cc3-b790-765c91bac962",
   "metadata": {},
   "outputs": [
    {
     "name": "stderr",
     "output_type": "stream",
     "text": [
      "Summarize dataset: 100%|██████████| 16/16 [00:01<00:00, 13.05it/s, Completed]                            \n",
      "Generate report structure: 100%|██████████| 1/1 [00:01<00:00,  1.32s/it]\n",
      "Render HTML: 100%|██████████| 1/1 [00:00<00:00,  6.61it/s]\n",
      "Export report to file: 100%|██████████| 1/1 [00:00<00:00, 1349.95it/s]\n",
      "Summarize dataset: 100%|██████████| 38/38 [00:00<00:00, 51.79it/s, Completed]                                                      \n",
      "Generate report structure: 100%|██████████| 1/1 [00:00<00:00,  3.31it/s]\n",
      "Render HTML: 100%|██████████| 1/1 [00:00<00:00, 21.90it/s]\n",
      "Export report to file: 100%|██████████| 1/1 [00:00<00:00, 1552.30it/s]\n",
      "Summarize dataset: 100%|██████████| 20/20 [00:00<00:00, 631.45it/s, Completed]                                            \n",
      "Generate report structure: 100%|██████████| 1/1 [00:00<00:00,  6.34it/s]\n",
      "Render HTML: 100%|██████████| 1/1 [00:00<00:00, 40.50it/s]\n",
      "Export report to file: 100%|██████████| 1/1 [00:00<00:00, 1726.76it/s]\n",
      "Summarize dataset: 100%|██████████| 25/25 [00:00<00:00, 324.53it/s, Completed]                                    \n",
      "Generate report structure: 100%|██████████| 1/1 [00:01<00:00,  1.98s/it]\n",
      "Render HTML: 100%|██████████| 1/1 [00:00<00:00,  7.39it/s]\n",
      "Export report to file: 100%|██████████| 1/1 [00:00<00:00, 875.64it/s]\n",
      "Summarize dataset: 100%|██████████| 17/17 [00:00<00:00, 461.67it/s, Completed]                                          \n",
      "Generate report structure: 100%|██████████| 1/1 [00:00<00:00,  1.68it/s]\n",
      "Render HTML: 100%|██████████| 1/1 [00:00<00:00, 19.89it/s]\n",
      "Export report to file: 100%|██████████| 1/1 [00:00<00:00, 2037.06it/s]\n",
      "Summarize dataset: 100%|██████████| 21/21 [00:00<00:00, 352.51it/s, Completed]                          \n",
      "Generate report structure: 100%|██████████| 1/1 [00:00<00:00,  3.21it/s]\n",
      "Render HTML: 100%|██████████| 1/1 [00:00<00:00, 18.34it/s]\n",
      "Export report to file: 100%|██████████| 1/1 [00:00<00:00, 535.06it/s]\n"
     ]
    }
   ],
   "source": [
    "os.makedirs(\"profiling\", exist_ok=True)\n",
    "\n",
    "for key,value in datasets.items():\n",
    "    profile = ProfileReport(value, minimal=True)\n",
    "    profile.to_file(f\"profiling/{key}.html\")"
   ]
  },
  {
   "cell_type": "markdown",
   "id": "e2bce86d-c4a9-4380-b3d7-209f071247be",
   "metadata": {},
   "source": [
    "### Save data into `raw` schema"
   ]
  },
  {
   "cell_type": "code",
   "execution_count": 5,
   "id": "f3e3ad0a-682d-49f2-aa2e-107610741db4",
   "metadata": {},
   "outputs": [],
   "source": [
    "os.makedirs(\"data/raw\", exist_ok=True)"
   ]
  },
  {
   "cell_type": "code",
   "execution_count": 6,
   "id": "579b9b0a-9948-4437-9c61-70b17bffd30d",
   "metadata": {},
   "outputs": [],
   "source": [
    "for key,value in datasets.items():\n",
    "    value.to_csv(f\"data/raw/{key}.zip\", index=False)"
   ]
  }
 ],
 "metadata": {
  "kernelspec": {
   "display_name": "Python 3",
   "language": "python",
   "name": "python3"
  },
  "language_info": {
   "codemirror_mode": {
    "name": "ipython",
    "version": 3
   },
   "file_extension": ".py",
   "mimetype": "text/x-python",
   "name": "python",
   "nbconvert_exporter": "python",
   "pygments_lexer": "ipython3",
   "version": "3.8.2"
  }
 },
 "nbformat": 4,
 "nbformat_minor": 5
}
