{
 "cells": [
  {
   "cell_type": "markdown",
   "metadata": {},
   "source": [
    "### Print Statement"
   ]
  },
  {
   "cell_type": "code",
   "execution_count": 5,
   "metadata": {},
   "outputs": [
    {
     "name": "stdout",
     "output_type": "stream",
     "text": [
      "Hello World\n",
      "Hello World\n",
      "'Hello World'\n",
      "Hello\n",
      "World\n"
     ]
    }
   ],
   "source": [
    "print(\"Hello World\")\n",
    "print('Hello World')\n",
    "\n",
    "print(\"'Hello World'\")\n",
    "print(\"Hello\\nWorld\")"
   ]
  },
  {
   "cell_type": "code",
   "execution_count": 9,
   "metadata": {},
   "outputs": [
    {
     "name": "stdout",
     "output_type": "stream",
     "text": [
      "Test\n",
      "6\n",
      "\n",
      "10/3 = 3.3333333333333335\n"
     ]
    }
   ],
   "source": [
    "print(\"Test\")\n",
    "print(4 + 2)\n",
    "print()\n",
    "print(f\"10/3 = {10/3}\")"
   ]
  },
  {
   "cell_type": "markdown",
   "metadata": {},
   "source": [
    "<p style=font-size:14px;> For printing code as text and for formatting what is executed as code <p>"
   ]
  },
  {
   "cell_type": "markdown",
   "metadata": {},
   "source": [
    "### Variables"
   ]
  },
  {
   "cell_type": "code",
   "execution_count": 11,
   "metadata": {},
   "outputs": [
    {
     "name": "stdout",
     "output_type": "stream",
     "text": [
      "Spencer\n",
      "300\n"
     ]
    }
   ],
   "source": [
    "name = 'Spencer'\n",
    "age = 300\n",
    "\n",
    "print(name)\n",
    "print(age)"
   ]
  },
  {
   "cell_type": "code",
   "execution_count": 13,
   "metadata": {},
   "outputs": [
    {
     "name": "stdout",
     "output_type": "stream",
     "text": [
      "302\n",
      "40\n"
     ]
    }
   ],
   "source": [
    "age += 1\n",
    "print(age)\n",
    "\n",
    "price_1 = 10\n",
    "price_2 = 30\n",
    "\n",
    "total_price = price_1 + price_2\n",
    "print(total_price)"
   ]
  },
  {
   "cell_type": "markdown",
   "metadata": {},
   "source": [
    "### Data Types"
   ]
  },
  {
   "cell_type": "code",
   "execution_count": 17,
   "metadata": {},
   "outputs": [
    {
     "name": "stdout",
     "output_type": "stream",
     "text": [
      "<class 'str'>\n",
      "<class 'int'>\n",
      "<class 'float'>\n",
      "<class 'bool'>\n",
      "<class 'list'>\n",
      "<class 'dict'>\n"
     ]
    }
   ],
   "source": [
    "name = 'Spencer'\n",
    "age = 300\n",
    "number = 5.3\n",
    "b = True\n",
    "list = []\n",
    "dic = {}\n",
    "\n",
    "print(type(name)) #String\n",
    "print(type(age)) #Integer\n",
    "print(type(number)) #Float\n",
    "print(type(b)) #Boolean\n",
    "print(type(list)) #List\n",
    "print(type(dic)) #Dictionary"
   ]
  },
  {
   "cell_type": "code",
   "execution_count": 22,
   "metadata": {},
   "outputs": [
    {
     "name": "stdout",
     "output_type": "stream",
     "text": [
      "SpencerWood\n",
      "Spencer Wood\n",
      "<class 'str'>\n"
     ]
    }
   ],
   "source": [
    "name = 'Spencer'\n",
    "last_name = 'Wood'\n",
    "full_name = name + last_name\n",
    "\n",
    "print(full_name)\n",
    "print(name, last_name)\n",
    "\n",
    "print(type(full_name))\n"
   ]
  },
  {
   "cell_type": "markdown",
   "metadata": {},
   "source": [
    "### Exercises"
   ]
  },
  {
   "cell_type": "code",
   "execution_count": 27,
   "metadata": {},
   "outputs": [
    {
     "name": "stdout",
     "output_type": "stream",
     "text": [
      "Age in 5 years: 55\n",
      "Age in dog years: 350\n",
      "Average of 5 numbers: 3.0\n",
      "3\n"
     ]
    }
   ],
   "source": [
    "# Age in 5 years\n",
    "age = 50\n",
    "age_in_five_years = age + 5\n",
    "print(\"Age in 5 years:\", age_in_five_years)\n",
    "\n",
    "# Age in Dog Years\n",
    "multiplier = 7\n",
    "age_in_dog_years = age * multiplier\n",
    "print(\"Age in dog years:\", age_in_dog_years)\n",
    "\n",
    "# Average of 5 Numbers\n",
    "average = (1 + 2 + 3 + 4 + 5) / 5\n",
    "print(\"Average of 5 numbers:\", average)"
   ]
  },
  {
   "cell_type": "code",
   "execution_count": 28,
   "metadata": {},
   "outputs": [
    {
     "name": "stdout",
     "output_type": "stream",
     "text": [
      "3\n"
     ]
    }
   ],
   "source": [
    "from statistics import mean\n",
    "\n",
    "# Using Mean (Not part of course yet)\n",
    "list = [1, 2, 3, 4, 5]\n",
    "average = mean(list)\n",
    "\n",
    "print(average)"
   ]
  },
  {
   "cell_type": "markdown",
   "metadata": {},
   "source": [
    "### Operations With Numbers"
   ]
  },
  {
   "cell_type": "code",
   "execution_count": null,
   "metadata": {},
   "outputs": [],
   "source": [
    "1 + 1\n",
    "1 - 1\n",
    "1 * 1\n",
    "1 / 1\n",
    "1 % 1"
   ]
  },
  {
   "cell_type": "markdown",
   "metadata": {},
   "source": [
    "### User Input"
   ]
  },
  {
   "cell_type": "code",
   "execution_count": 30,
   "metadata": {},
   "outputs": [
    {
     "name": "stdout",
     "output_type": "stream",
     "text": [
      "Hello Spencer \n",
      "You are 400 years old.\n"
     ]
    }
   ],
   "source": [
    "name = input(\"Please enter your name: \")\n",
    "age = int(input(\"Please enter your age: \"))\n",
    "\n",
    "print(\"Hello\", name, \"\\nYou are\", age, \"years old.\")"
   ]
  }
 ],
 "metadata": {
  "kernelspec": {
   "display_name": "Python 3",
   "language": "python",
   "name": "python3"
  },
  "language_info": {
   "codemirror_mode": {
    "name": "ipython",
    "version": 3
   },
   "file_extension": ".py",
   "mimetype": "text/x-python",
   "name": "python",
   "nbconvert_exporter": "python",
   "pygments_lexer": "ipython3",
   "version": "3.8.2"
  }
 },
 "nbformat": 4,
 "nbformat_minor": 2
}
