{
  "cells": [
    {
      "cell_type": "code",
      "execution_count": 5,
      "metadata": {
        "id": "3t1AnIAsAPwN"
      },
      "outputs": [],
      "source": [
        "# Set of numbers from 1 to 20\n",
        "numbers = {1, 2, 3, 4, 5, 6, 7, 8, 9, 10, 11, 12, 13, 14, 15, 16, 17, 18, 19, 20}"
      ]
    },
    {
      "cell_type": "markdown",
      "metadata": {
        "slideshow": {
          "slide_type": "notes"
        }
      },
      "source": [
        "This is a set. Similar to a dictionary. It uses the same curly bracket.\n",
        "This line of code has created the numbers set."
      ]
    },
    {
      "cell_type": "code",
      "execution_count": 6,
      "metadata": {
        "colab": {
          "base_uri": "https://localhost:8080/"
        },
        "id": "bP_X00KgAPdo",
        "outputId": "7144ea84-2322-4bfb-b2fe-a734b152b503"
      },
      "outputs": [
        {
          "name": "stdout",
          "output_type": "stream",
          "text": [
            "Set of even_numbers = {2, 4, 6, 8, 10, 12, 14, 16, 18, 20}\n"
          ]
        }
      ],
      "source": [
        "# Problem 1: Select all even numbers\n",
        "even_numbers = set()\n",
        "for number in numbers:\n",
        "    if number % 2 == 0:\n",
        "        even_numbers.add(number)\n",
        "print(\"Set of even_numbers =\", even_numbers)\n",
        "\n"
      ]
    },
    {
      "cell_type": "code",
      "execution_count": 9,
      "metadata": {
        "colab": {
          "base_uri": "https://localhost:8080/"
        },
        "id": "YEZnWfndAJyI",
        "outputId": "d1b6abdd-440e-4e4a-d2dd-c5937e9c71fc"
      },
      "outputs": [
        {
          "name": "stdout",
          "output_type": "stream",
          "text": [
            "Set of odd_numbers = {1, 3, 5, 7, 9, 11, 13, 15, 17, 19}\n"
          ]
        }
      ],
      "source": [
        "# Problem 2: Select all odd numbers\n",
        "odd_numbers = set()\n",
        "for number in numbers:\n",
        "    if number % 2 != 0:\n",
        "        odd_numbers.add(number)\n",
        "print(\"Set of odd_numbers =\", odd_numbers)\n",
        "\n"
      ]
    },
    {
      "cell_type": "code",
      "execution_count": 12,
      "metadata": {
        "colab": {
          "base_uri": "https://localhost:8080/"
        },
        "id": "67T6ceoIC_Du",
        "outputId": "8a054015-c809-496c-b673-8084ed3ca0cf"
      },
      "outputs": [
        {
          "name": "stdout",
          "output_type": "stream",
          "text": [
            "Set of numbers above_14 = {15, 16, 17, 18, 19, 20}\n"
          ]
        }
      ],
      "source": [
        "# Problem 3: Select all numbers above 14\n",
        "above_14 = set()\n",
        "for number in numbers:\n",
        "    if number > 14:\n",
        "        above_14.add(number)\n",
        "\n",
        "\n",
        "\n",
        "\n",
        "print(\"Set of numbers above_14 =\", above_14)\n",
        "\n"
      ]
    },
    {
      "cell_type": "code",
      "execution_count": null,
      "metadata": {
        "id": "LxApFKkCC_BY"
      },
      "outputs": [],
      "source": []
    },
    {
      "cell_type": "code",
      "execution_count": 13,
      "metadata": {
        "colab": {
          "base_uri": "https://localhost:8080/"
        },
        "id": "SVNbdRNjC-_E",
        "outputId": "2eaef062-d855-4f4b-b8d4-e085a2fe4e86"
      },
      "outputs": [
        {
          "name": "stdout",
          "output_type": "stream",
          "text": [
            "Set of numbers below_5 = {1, 2, 3, 4}\n"
          ]
        }
      ],
      "source": [
        "# Problem 4: Select all numbers below 5\n",
        "below_5 = set()\n",
        "for number in numbers:\n",
        "    if number < 5:\n",
        "        below_5.add(number)\n",
        "\n",
        "\n",
        "print(\"Set of numbers below_5 =\", below_5)\n",
        "\n"
      ]
    },
    {
      "cell_type": "code",
      "execution_count": 15,
      "metadata": {
        "colab": {
          "base_uri": "https://localhost:8080/"
        },
        "id": "7wo7t1JEC-8n",
        "outputId": "19eb6004-99c3-4edc-b955-34b4b801b647"
      },
      "outputs": [
        {
          "name": "stdout",
          "output_type": "stream",
          "text": [
            "Set of numbersthat are even_above_15 = {16, 18, 20}\n"
          ]
        }
      ],
      "source": [
        "# Problem 5: Select all even numbers above 15\n",
        "even_above_15 = set()\n",
        "for number in numbers:\n",
        "    if (number > 15) & (number % 2 == 0):\n",
        "        even_above_15.add(number)\n",
        "\n",
        "\n",
        "\n",
        "print(\"Set of numbersthat are even_above_15 =\", even_above_15)"
      ]
    },
    {
      "cell_type": "code",
      "execution_count": null,
      "metadata": {
        "id": "qqwOFqq9DPeX"
      },
      "outputs": [],
      "source": []
    },
    {
      "cell_type": "code",
      "execution_count": 16,
      "metadata": {
        "colab": {
          "base_uri": "https://localhost:8080/"
        },
        "id": "UcHWnYWkC-6F",
        "outputId": "136d9f98-e28f-4dd6-a269-ae7205af36b2"
      },
      "outputs": [
        {
          "name": "stdout",
          "output_type": "stream",
          "text": [
            "Set of numbers that are odd_between_3_and_12 ) = {5, 7, 9, 11, 13}\n"
          ]
        }
      ],
      "source": [
        "# Bonus Problem: Select all odd numbers between 3 and 12 (inclusive)\n",
        "odd_between_3_and_12 = set()\n",
        "for number in numbers:\n",
        "    if (number > 3) & (number < 15) & (number % 2 != 0):\n",
        "    # if number > 3 and number < 15 and number % 2 != 0:\n",
        "        odd_between_3_and_12.add(number)\n",
        "\n",
        "print(\"Set of numbers that are odd_between_3_and_12 ) =\", odd_between_3_and_12)"
      ]
    },
    {
      "cell_type": "code",
      "execution_count": null,
      "metadata": {
        "id": "WugT0tavC-3Q"
      },
      "outputs": [],
      "source": []
    },
    {
      "cell_type": "markdown",
      "metadata": {
        "id": "jAxagdSmGYAc"
      },
      "source": [
        "# SET THEORY & DATAFRAME MERGING"
      ]
    },
    {
      "cell_type": "code",
      "execution_count": 17,
      "metadata": {
        "id": "WkVNx1tSJMib"
      },
      "outputs": [],
      "source": [
        "import pandas as pd"
      ]
    },
    {
      "cell_type": "code",
      "execution_count": null,
      "metadata": {
        "id": "W5Z2L66RHDtA"
      },
      "outputs": [],
      "source": []
    },
    {
      "cell_type": "code",
      "execution_count": 18,
      "metadata": {
        "id": "zGuuIQisHDvf"
      },
      "outputs": [],
      "source": [
        "customers = pd.DataFrame({\n",
        "    'CustomerID': [1, 2, 3, 4],\n",
        "    'Name': ['Alice', 'Bob', 'Charlie', 'David'],\n",
        "    'Email': ['alice@example.com', 'bob@example.com', 'charlie@example.com', 'david@example.com']\n",
        "})\n",
        "\n",
        "orders = pd.DataFrame({\n",
        "    'OrderID': [101, 102, 103, 104],\n",
        "    'CustomerID': [1, 2, 1, 3],\n",
        "    'Product': ['Widget', 'Gadget', 'Widget', 'Widget'],\n",
        "    'Quantity': [3, 2, 5, 4]\n",
        "})"
      ]
    },
    {
      "cell_type": "code",
      "execution_count": 19,
      "metadata": {
        "colab": {
          "base_uri": "https://localhost:8080/",
          "height": 175
        },
        "id": "81TGpV3bHDyB",
        "outputId": "fde61c7e-b09d-4785-9f10-f08637478a8f"
      },
      "outputs": [
        {
          "data": {
            "text/html": [
              "<div>\n",
              "<style scoped>\n",
              "    .dataframe tbody tr th:only-of-type {\n",
              "        vertical-align: middle;\n",
              "    }\n",
              "\n",
              "    .dataframe tbody tr th {\n",
              "        vertical-align: top;\n",
              "    }\n",
              "\n",
              "    .dataframe thead th {\n",
              "        text-align: right;\n",
              "    }\n",
              "</style>\n",
              "<table border=\"1\" class=\"dataframe\">\n",
              "  <thead>\n",
              "    <tr style=\"text-align: right;\">\n",
              "      <th></th>\n",
              "      <th>CustomerID</th>\n",
              "      <th>Name</th>\n",
              "      <th>Email</th>\n",
              "    </tr>\n",
              "  </thead>\n",
              "  <tbody>\n",
              "    <tr>\n",
              "      <th>0</th>\n",
              "      <td>1</td>\n",
              "      <td>Alice</td>\n",
              "      <td>alice@example.com</td>\n",
              "    </tr>\n",
              "    <tr>\n",
              "      <th>1</th>\n",
              "      <td>2</td>\n",
              "      <td>Bob</td>\n",
              "      <td>bob@example.com</td>\n",
              "    </tr>\n",
              "    <tr>\n",
              "      <th>2</th>\n",
              "      <td>3</td>\n",
              "      <td>Charlie</td>\n",
              "      <td>charlie@example.com</td>\n",
              "    </tr>\n",
              "    <tr>\n",
              "      <th>3</th>\n",
              "      <td>4</td>\n",
              "      <td>David</td>\n",
              "      <td>david@example.com</td>\n",
              "    </tr>\n",
              "  </tbody>\n",
              "</table>\n",
              "</div>"
            ],
            "text/plain": [
              "   CustomerID     Name                Email\n",
              "0           1    Alice    alice@example.com\n",
              "1           2      Bob      bob@example.com\n",
              "2           3  Charlie  charlie@example.com\n",
              "3           4    David    david@example.com"
            ]
          },
          "execution_count": 19,
          "metadata": {},
          "output_type": "execute_result"
        }
      ],
      "source": [
        "customers"
      ]
    },
    {
      "cell_type": "code",
      "execution_count": 20,
      "metadata": {
        "colab": {
          "base_uri": "https://localhost:8080/",
          "height": 175
        },
        "id": "EdffZA-4HD0i",
        "outputId": "11caab16-ca29-4c53-a563-3c0bd44d27b0"
      },
      "outputs": [
        {
          "data": {
            "text/html": [
              "<div>\n",
              "<style scoped>\n",
              "    .dataframe tbody tr th:only-of-type {\n",
              "        vertical-align: middle;\n",
              "    }\n",
              "\n",
              "    .dataframe tbody tr th {\n",
              "        vertical-align: top;\n",
              "    }\n",
              "\n",
              "    .dataframe thead th {\n",
              "        text-align: right;\n",
              "    }\n",
              "</style>\n",
              "<table border=\"1\" class=\"dataframe\">\n",
              "  <thead>\n",
              "    <tr style=\"text-align: right;\">\n",
              "      <th></th>\n",
              "      <th>OrderID</th>\n",
              "      <th>CustomerID</th>\n",
              "      <th>Product</th>\n",
              "      <th>Quantity</th>\n",
              "    </tr>\n",
              "  </thead>\n",
              "  <tbody>\n",
              "    <tr>\n",
              "      <th>0</th>\n",
              "      <td>101</td>\n",
              "      <td>1</td>\n",
              "      <td>Widget</td>\n",
              "      <td>3</td>\n",
              "    </tr>\n",
              "    <tr>\n",
              "      <th>1</th>\n",
              "      <td>102</td>\n",
              "      <td>2</td>\n",
              "      <td>Gadget</td>\n",
              "      <td>2</td>\n",
              "    </tr>\n",
              "    <tr>\n",
              "      <th>2</th>\n",
              "      <td>103</td>\n",
              "      <td>1</td>\n",
              "      <td>Widget</td>\n",
              "      <td>5</td>\n",
              "    </tr>\n",
              "    <tr>\n",
              "      <th>3</th>\n",
              "      <td>104</td>\n",
              "      <td>3</td>\n",
              "      <td>Widget</td>\n",
              "      <td>4</td>\n",
              "    </tr>\n",
              "  </tbody>\n",
              "</table>\n",
              "</div>"
            ],
            "text/plain": [
              "   OrderID  CustomerID Product  Quantity\n",
              "0      101           1  Widget         3\n",
              "1      102           2  Gadget         2\n",
              "2      103           1  Widget         5\n",
              "3      104           3  Widget         4"
            ]
          },
          "execution_count": 20,
          "metadata": {},
          "output_type": "execute_result"
        }
      ],
      "source": [
        "orders"
      ]
    },
    {
      "cell_type": "code",
      "execution_count": null,
      "metadata": {
        "id": "FW-ha2IRMTQ-"
      },
      "outputs": [],
      "source": []
    },
    {
      "cell_type": "code",
      "execution_count": 21,
      "metadata": {
        "colab": {
          "base_uri": "https://localhost:8080/",
          "height": 175
        },
        "id": "lolX_ST6MTOw",
        "outputId": "d85c7b10-25fd-4d83-bc17-8dc88e0d787a"
      },
      "outputs": [
        {
          "data": {
            "text/html": [
              "<div>\n",
              "<style scoped>\n",
              "    .dataframe tbody tr th:only-of-type {\n",
              "        vertical-align: middle;\n",
              "    }\n",
              "\n",
              "    .dataframe tbody tr th {\n",
              "        vertical-align: top;\n",
              "    }\n",
              "\n",
              "    .dataframe thead th {\n",
              "        text-align: right;\n",
              "    }\n",
              "</style>\n",
              "<table border=\"1\" class=\"dataframe\">\n",
              "  <thead>\n",
              "    <tr style=\"text-align: right;\">\n",
              "      <th></th>\n",
              "      <th>CustomerID</th>\n",
              "      <th>Name</th>\n",
              "      <th>Email</th>\n",
              "      <th>OrderID</th>\n",
              "      <th>Product</th>\n",
              "      <th>Quantity</th>\n",
              "    </tr>\n",
              "  </thead>\n",
              "  <tbody>\n",
              "    <tr>\n",
              "      <th>0</th>\n",
              "      <td>1</td>\n",
              "      <td>Alice</td>\n",
              "      <td>alice@example.com</td>\n",
              "      <td>101</td>\n",
              "      <td>Widget</td>\n",
              "      <td>3</td>\n",
              "    </tr>\n",
              "    <tr>\n",
              "      <th>1</th>\n",
              "      <td>1</td>\n",
              "      <td>Alice</td>\n",
              "      <td>alice@example.com</td>\n",
              "      <td>103</td>\n",
              "      <td>Widget</td>\n",
              "      <td>5</td>\n",
              "    </tr>\n",
              "    <tr>\n",
              "      <th>2</th>\n",
              "      <td>2</td>\n",
              "      <td>Bob</td>\n",
              "      <td>bob@example.com</td>\n",
              "      <td>102</td>\n",
              "      <td>Gadget</td>\n",
              "      <td>2</td>\n",
              "    </tr>\n",
              "    <tr>\n",
              "      <th>3</th>\n",
              "      <td>3</td>\n",
              "      <td>Charlie</td>\n",
              "      <td>charlie@example.com</td>\n",
              "      <td>104</td>\n",
              "      <td>Widget</td>\n",
              "      <td>4</td>\n",
              "    </tr>\n",
              "  </tbody>\n",
              "</table>\n",
              "</div>"
            ],
            "text/plain": [
              "   CustomerID     Name                Email  OrderID Product  Quantity\n",
              "0           1    Alice    alice@example.com      101  Widget         3\n",
              "1           1    Alice    alice@example.com      103  Widget         5\n",
              "2           2      Bob      bob@example.com      102  Gadget         2\n",
              "3           3  Charlie  charlie@example.com      104  Widget         4"
            ]
          },
          "execution_count": 21,
          "metadata": {},
          "output_type": "execute_result"
        }
      ],
      "source": [
        "# Exercise 1: Inner Join (Intersection of 2 sets)\n",
        "inner_join_result = pd.merge(customers, orders, on='CustomerID', how='inner')\n",
        "\n",
        "\n",
        "inner_join_result"
      ]
    },
    {
      "cell_type": "markdown",
      "metadata": {
        "id": "wHFnqxTGMYug"
      },
      "source": [
        "<p style=\"font-size:14px;\">When you combine them, customer ID 4 will not be included as we are missing some data on that one.</p>"
      ]
    },
    {
      "cell_type": "code",
      "execution_count": 28,
      "metadata": {
        "colab": {
          "base_uri": "https://localhost:8080/",
          "height": 206
        },
        "id": "i8z-0pcKMTMV",
        "outputId": "e8c8b136-4ebd-4dcb-e5ea-e6ff0ae2c895"
      },
      "outputs": [
        {
          "data": {
            "text/html": [
              "<div>\n",
              "<style scoped>\n",
              "    .dataframe tbody tr th:only-of-type {\n",
              "        vertical-align: middle;\n",
              "    }\n",
              "\n",
              "    .dataframe tbody tr th {\n",
              "        vertical-align: top;\n",
              "    }\n",
              "\n",
              "    .dataframe thead th {\n",
              "        text-align: right;\n",
              "    }\n",
              "</style>\n",
              "<table border=\"1\" class=\"dataframe\">\n",
              "  <thead>\n",
              "    <tr style=\"text-align: right;\">\n",
              "      <th></th>\n",
              "      <th>CustomerID</th>\n",
              "      <th>Name</th>\n",
              "      <th>Email</th>\n",
              "      <th>OrderID</th>\n",
              "      <th>Product</th>\n",
              "      <th>Quantity</th>\n",
              "    </tr>\n",
              "  </thead>\n",
              "  <tbody>\n",
              "    <tr>\n",
              "      <th>0</th>\n",
              "      <td>1</td>\n",
              "      <td>Alice</td>\n",
              "      <td>alice@example.com</td>\n",
              "      <td>101.0</td>\n",
              "      <td>Widget</td>\n",
              "      <td>3.0</td>\n",
              "    </tr>\n",
              "    <tr>\n",
              "      <th>1</th>\n",
              "      <td>1</td>\n",
              "      <td>Alice</td>\n",
              "      <td>alice@example.com</td>\n",
              "      <td>103.0</td>\n",
              "      <td>Widget</td>\n",
              "      <td>5.0</td>\n",
              "    </tr>\n",
              "    <tr>\n",
              "      <th>2</th>\n",
              "      <td>2</td>\n",
              "      <td>Bob</td>\n",
              "      <td>bob@example.com</td>\n",
              "      <td>102.0</td>\n",
              "      <td>Gadget</td>\n",
              "      <td>2.0</td>\n",
              "    </tr>\n",
              "    <tr>\n",
              "      <th>3</th>\n",
              "      <td>3</td>\n",
              "      <td>Charlie</td>\n",
              "      <td>charlie@example.com</td>\n",
              "      <td>104.0</td>\n",
              "      <td>Widget</td>\n",
              "      <td>4.0</td>\n",
              "    </tr>\n",
              "    <tr>\n",
              "      <th>4</th>\n",
              "      <td>4</td>\n",
              "      <td>David</td>\n",
              "      <td>david@example.com</td>\n",
              "      <td>NaN</td>\n",
              "      <td>NaN</td>\n",
              "      <td>NaN</td>\n",
              "    </tr>\n",
              "  </tbody>\n",
              "</table>\n",
              "</div>"
            ],
            "text/plain": [
              "   CustomerID     Name                Email  OrderID Product  Quantity\n",
              "0           1    Alice    alice@example.com    101.0  Widget       3.0\n",
              "1           1    Alice    alice@example.com    103.0  Widget       5.0\n",
              "2           2      Bob      bob@example.com    102.0  Gadget       2.0\n",
              "3           3  Charlie  charlie@example.com    104.0  Widget       4.0\n",
              "4           4    David    david@example.com      NaN     NaN       NaN"
            ]
          },
          "execution_count": 28,
          "metadata": {},
          "output_type": "execute_result"
        }
      ],
      "source": [
        "# Exercise 2: Left Join (All elements of set on the left)\n",
        "left_join_result = pd.merge(customers, orders, on='CustomerID', how='left')\n",
        "\n",
        "left_join_result"
      ]
    },
    {
      "cell_type": "markdown",
      "metadata": {
        "id": "DGhNYLdpMZRe"
      },
      "source": [
        "<p style=\"font-size:14px;\">With a \"left\" join, the NaN data is included as you are merging everything from the left regardless of what is on the right.</p>"
      ]
    },
    {
      "cell_type": "code",
      "execution_count": 27,
      "metadata": {
        "colab": {
          "base_uri": "https://localhost:8080/",
          "height": 175
        },
        "id": "mvstJEzcMTJ-",
        "outputId": "a89f2364-3bf5-4531-a55a-c42484b34e01"
      },
      "outputs": [
        {
          "data": {
            "text/html": [
              "<div>\n",
              "<style scoped>\n",
              "    .dataframe tbody tr th:only-of-type {\n",
              "        vertical-align: middle;\n",
              "    }\n",
              "\n",
              "    .dataframe tbody tr th {\n",
              "        vertical-align: top;\n",
              "    }\n",
              "\n",
              "    .dataframe thead th {\n",
              "        text-align: right;\n",
              "    }\n",
              "</style>\n",
              "<table border=\"1\" class=\"dataframe\">\n",
              "  <thead>\n",
              "    <tr style=\"text-align: right;\">\n",
              "      <th></th>\n",
              "      <th>CustomerID</th>\n",
              "      <th>Name</th>\n",
              "      <th>Email</th>\n",
              "      <th>OrderID</th>\n",
              "      <th>Product</th>\n",
              "      <th>Quantity</th>\n",
              "    </tr>\n",
              "  </thead>\n",
              "  <tbody>\n",
              "    <tr>\n",
              "      <th>0</th>\n",
              "      <td>1</td>\n",
              "      <td>Alice</td>\n",
              "      <td>alice@example.com</td>\n",
              "      <td>101</td>\n",
              "      <td>Widget</td>\n",
              "      <td>3</td>\n",
              "    </tr>\n",
              "    <tr>\n",
              "      <th>1</th>\n",
              "      <td>2</td>\n",
              "      <td>Bob</td>\n",
              "      <td>bob@example.com</td>\n",
              "      <td>102</td>\n",
              "      <td>Gadget</td>\n",
              "      <td>2</td>\n",
              "    </tr>\n",
              "    <tr>\n",
              "      <th>2</th>\n",
              "      <td>1</td>\n",
              "      <td>Alice</td>\n",
              "      <td>alice@example.com</td>\n",
              "      <td>103</td>\n",
              "      <td>Widget</td>\n",
              "      <td>5</td>\n",
              "    </tr>\n",
              "    <tr>\n",
              "      <th>3</th>\n",
              "      <td>3</td>\n",
              "      <td>Charlie</td>\n",
              "      <td>charlie@example.com</td>\n",
              "      <td>104</td>\n",
              "      <td>Widget</td>\n",
              "      <td>4</td>\n",
              "    </tr>\n",
              "  </tbody>\n",
              "</table>\n",
              "</div>"
            ],
            "text/plain": [
              "   CustomerID     Name                Email  OrderID Product  Quantity\n",
              "0           1    Alice    alice@example.com      101  Widget         3\n",
              "1           2      Bob      bob@example.com      102  Gadget         2\n",
              "2           1    Alice    alice@example.com      103  Widget         5\n",
              "3           3  Charlie  charlie@example.com      104  Widget         4"
            ]
          },
          "execution_count": 27,
          "metadata": {},
          "output_type": "execute_result"
        }
      ],
      "source": [
        "# Exercise 3: Right Join (All elements of set on the right)\n",
        "right_join_result = pd.merge(customers, orders, on='CustomerID', how='right')\n",
        "\n",
        "right_join_result\n"
      ]
    },
    {
      "cell_type": "markdown",
      "metadata": {
        "id": "wdhv9k_UMTHQ"
      },
      "source": [
        "<p style=\"font-size:14px;\">With a \"right\" join, the NaN data is not included as you are merging everything from the right regardless of what is on the left</p>"
      ]
    },
    {
      "cell_type": "code",
      "execution_count": 26,
      "metadata": {
        "colab": {
          "base_uri": "https://localhost:8080/",
          "height": 206
        },
        "id": "oF0W2d4xMS6O",
        "outputId": "92193993-c7f9-46ad-8805-bdee9a59b58d"
      },
      "outputs": [
        {
          "data": {
            "text/html": [
              "<div>\n",
              "<style scoped>\n",
              "    .dataframe tbody tr th:only-of-type {\n",
              "        vertical-align: middle;\n",
              "    }\n",
              "\n",
              "    .dataframe tbody tr th {\n",
              "        vertical-align: top;\n",
              "    }\n",
              "\n",
              "    .dataframe thead th {\n",
              "        text-align: right;\n",
              "    }\n",
              "</style>\n",
              "<table border=\"1\" class=\"dataframe\">\n",
              "  <thead>\n",
              "    <tr style=\"text-align: right;\">\n",
              "      <th></th>\n",
              "      <th>CustomerID</th>\n",
              "      <th>Name</th>\n",
              "      <th>Email</th>\n",
              "      <th>OrderID</th>\n",
              "      <th>Product</th>\n",
              "      <th>Quantity</th>\n",
              "    </tr>\n",
              "  </thead>\n",
              "  <tbody>\n",
              "    <tr>\n",
              "      <th>0</th>\n",
              "      <td>1</td>\n",
              "      <td>Alice</td>\n",
              "      <td>alice@example.com</td>\n",
              "      <td>101.0</td>\n",
              "      <td>Widget</td>\n",
              "      <td>3.0</td>\n",
              "    </tr>\n",
              "    <tr>\n",
              "      <th>1</th>\n",
              "      <td>1</td>\n",
              "      <td>Alice</td>\n",
              "      <td>alice@example.com</td>\n",
              "      <td>103.0</td>\n",
              "      <td>Widget</td>\n",
              "      <td>5.0</td>\n",
              "    </tr>\n",
              "    <tr>\n",
              "      <th>2</th>\n",
              "      <td>2</td>\n",
              "      <td>Bob</td>\n",
              "      <td>bob@example.com</td>\n",
              "      <td>102.0</td>\n",
              "      <td>Gadget</td>\n",
              "      <td>2.0</td>\n",
              "    </tr>\n",
              "    <tr>\n",
              "      <th>3</th>\n",
              "      <td>3</td>\n",
              "      <td>Charlie</td>\n",
              "      <td>charlie@example.com</td>\n",
              "      <td>104.0</td>\n",
              "      <td>Widget</td>\n",
              "      <td>4.0</td>\n",
              "    </tr>\n",
              "    <tr>\n",
              "      <th>4</th>\n",
              "      <td>4</td>\n",
              "      <td>David</td>\n",
              "      <td>david@example.com</td>\n",
              "      <td>NaN</td>\n",
              "      <td>NaN</td>\n",
              "      <td>NaN</td>\n",
              "    </tr>\n",
              "  </tbody>\n",
              "</table>\n",
              "</div>"
            ],
            "text/plain": [
              "   CustomerID     Name                Email  OrderID Product  Quantity\n",
              "0           1    Alice    alice@example.com    101.0  Widget       3.0\n",
              "1           1    Alice    alice@example.com    103.0  Widget       5.0\n",
              "2           2      Bob      bob@example.com    102.0  Gadget       2.0\n",
              "3           3  Charlie  charlie@example.com    104.0  Widget       4.0\n",
              "4           4    David    david@example.com      NaN     NaN       NaN"
            ]
          },
          "execution_count": 26,
          "metadata": {},
          "output_type": "execute_result"
        }
      ],
      "source": [
        "# Exercise 4: Full Outer Join (Union of 2 sets)\n",
        "full_outer_join_result = pd.merge(customers, orders, on='CustomerID', how='outer')\n",
        "\n",
        "full_outer_join_result"
      ]
    },
    {
      "cell_type": "markdown",
      "metadata": {
        "id": "N2bWHSg-Mcm4"
      },
      "source": [
        "<p style=\"font-size:14px;\">In this case, everything would be shown as a full outer join includes everything from both elements</p>"
      ]
    },
    {
      "cell_type": "code",
      "execution_count": 33,
      "metadata": {
        "id": "yfQ8RPt1Mckn"
      },
      "outputs": [
        {
          "data": {
            "text/html": [
              "<div>\n",
              "<style scoped>\n",
              "    .dataframe tbody tr th:only-of-type {\n",
              "        vertical-align: middle;\n",
              "    }\n",
              "\n",
              "    .dataframe tbody tr th {\n",
              "        vertical-align: top;\n",
              "    }\n",
              "\n",
              "    .dataframe thead th {\n",
              "        text-align: right;\n",
              "    }\n",
              "</style>\n",
              "<table border=\"1\" class=\"dataframe\">\n",
              "  <thead>\n",
              "    <tr style=\"text-align: right;\">\n",
              "      <th></th>\n",
              "      <th>CustomerID</th>\n",
              "      <th>Name</th>\n",
              "      <th>Product</th>\n",
              "      <th>Quantity</th>\n",
              "    </tr>\n",
              "  </thead>\n",
              "  <tbody>\n",
              "    <tr>\n",
              "      <th>0</th>\n",
              "      <td>1</td>\n",
              "      <td>Alice</td>\n",
              "      <td>Widget</td>\n",
              "      <td>3.0</td>\n",
              "    </tr>\n",
              "    <tr>\n",
              "      <th>1</th>\n",
              "      <td>1</td>\n",
              "      <td>Alice</td>\n",
              "      <td>Widget</td>\n",
              "      <td>5.0</td>\n",
              "    </tr>\n",
              "    <tr>\n",
              "      <th>2</th>\n",
              "      <td>2</td>\n",
              "      <td>Bob</td>\n",
              "      <td>Gadget</td>\n",
              "      <td>2.0</td>\n",
              "    </tr>\n",
              "    <tr>\n",
              "      <th>3</th>\n",
              "      <td>3</td>\n",
              "      <td>Charlie</td>\n",
              "      <td>Widget</td>\n",
              "      <td>4.0</td>\n",
              "    </tr>\n",
              "    <tr>\n",
              "      <th>4</th>\n",
              "      <td>4</td>\n",
              "      <td>David</td>\n",
              "      <td>NaN</td>\n",
              "      <td>NaN</td>\n",
              "    </tr>\n",
              "  </tbody>\n",
              "</table>\n",
              "</div>"
            ],
            "text/plain": [
              "   CustomerID     Name Product  Quantity\n",
              "0           1    Alice  Widget       3.0\n",
              "1           1    Alice  Widget       5.0\n",
              "2           2      Bob  Gadget       2.0\n",
              "3           3  Charlie  Widget       4.0\n",
              "4           4    David     NaN       NaN"
            ]
          },
          "execution_count": 33,
          "metadata": {},
          "output_type": "execute_result"
        }
      ],
      "source": [
        "# Exercise 5: Get Customer ID, Name, Product, and Quantity\n",
        "test_5 = pd.merge(customers[['CustomerID', 'Name']], orders[['CustomerID', 'Product', 'Quantity']], on='CustomerID', how='outer')\n",
        "\n",
        "test_5"
      ]
    },
    {
      "cell_type": "markdown",
      "metadata": {
        "id": "KfUQ65cPMcfn"
      },
      "source": [
        "<p style=\"font-size:14px;\">In order to merge the common element (CustomerID), you need to specify it twice. You also don't need to specify the 'on' statement or outer.</p>"
      ]
    }
  ],
  "metadata": {
    "colab": {
      "provenance": []
    },
    "kernelspec": {
      "display_name": "Python 3",
      "name": "python3"
    },
    "language_info": {
      "codemirror_mode": {
        "name": "ipython",
        "version": 3
      },
      "file_extension": ".py",
      "mimetype": "text/x-python",
      "name": "python",
      "nbconvert_exporter": "python",
      "pygments_lexer": "ipython3",
      "version": "3.8.2"
    }
  },
  "nbformat": 4,
  "nbformat_minor": 0
}
