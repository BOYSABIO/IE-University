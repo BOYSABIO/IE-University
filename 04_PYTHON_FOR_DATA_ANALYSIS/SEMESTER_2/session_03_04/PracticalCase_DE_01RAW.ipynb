{
 "cells": [
  {
   "cell_type": "code",
   "execution_count": 1,
   "id": "0415cc56-035e-4517-a132-c95feeff8ddf",
   "metadata": {},
   "outputs": [],
   "source": [
    "import os\n",
    "\n",
    "import pandas as pd\n",
    "from ydata_profiling import ProfileReport"
   ]
  },
  {
   "cell_type": "code",
   "execution_count": 2,
   "id": "a2764fad",
   "metadata": {},
   "outputs": [
    {
     "data": {
      "text/plain": [
       "'c:\\\\Users\\\\SABIO\\\\Documents\\\\GitHub\\\\IE-University\\\\04_PYTHON_FOR_DATA_ANALYSIS\\\\SEMESTER_2\\\\session_03_04'"
      ]
     },
     "execution_count": 2,
     "metadata": {},
     "output_type": "execute_result"
    }
   ],
   "source": [
    "os.getcwd()"
   ]
  },
  {
   "cell_type": "markdown",
   "id": "8a484e8c-134d-4c40-8e7a-92f42e1c2807",
   "metadata": {},
   "source": [
    "## RAW"
   ]
  },
  {
   "cell_type": "code",
   "execution_count": 3,
   "id": "b9092ef8-fef1-460d-bcea-9db899609cc7",
   "metadata": {},
   "outputs": [
    {
     "data": {
      "text/plain": [
       "{'demographics': 'demographics.zip',\n",
       " 'epidemiology': 'epidemiology.zip',\n",
       " 'health': 'health.zip',\n",
       " 'hospitalizations': 'hospitalizations.zip',\n",
       " 'index': 'index.zip',\n",
       " 'vaccinations': 'vaccinations.zip'}"
      ]
     },
     "execution_count": 3,
     "metadata": {},
     "output_type": "execute_result"
    }
   ],
   "source": [
    "datasources = {\n",
    "    source.replace(\".zip\",\"\"):source \n",
    "    for source in os.listdir(\"data/in\") \n",
    "    if source.endswith(\".zip\")\n",
    "}\n",
    "\n",
    "datasources"
   ]
  },
  {
   "cell_type": "markdown",
   "id": "e20358e3-d4fa-484f-babf-b0f909c82804",
   "metadata": {},
   "source": [
    "### Load data sources\n",
    "\n",
    "In this part we just load all data with Pandas for further processing. In this case we just have a bunch of CSV data, but data loading (or extraction, the E of \"ETL\") can be much more complicated when we have to connect to the clients' database or when the files we have to process are Excel files with macros 😱"
   ]
  },
  {
   "cell_type": "code",
   "execution_count": 4,
   "id": "8bfa6c93-b1da-4db6-b287-ea181ee4c71f",
   "metadata": {},
   "outputs": [],
   "source": [
    "datasets = {}\n",
    "for key,value in datasources.items():\n",
    "    datasets[key] = pd.read_csv(f\"data/in/{value}\")"
   ]
  },
  {
   "cell_type": "markdown",
   "id": "a53a84b0-e501-43ea-b75f-b23760702e2a",
   "metadata": {},
   "source": [
    "### Execute a data profiling for each source\n",
    "\n",
    "To have a very brief and direct summary to understand data, we can execute a profiling on al data sources individually. This operation will give us a brief overview about the state of data and will help us to establish next steps in the following data processing phases (how to filter, how to impute missing values, if column names afre correct, etc.)"
   ]
  },
  {
   "cell_type": "code",
   "execution_count": 5,
   "id": "79dcd251-4820-4cc3-b790-765c91bac962",
   "metadata": {},
   "outputs": [
    {
     "data": {
      "application/vnd.jupyter.widget-view+json": {
       "model_id": "37c9e34da6e948a192fad142445d02f8",
       "version_major": 2,
       "version_minor": 0
      },
      "text/plain": [
       "Summarize dataset:   0%|          | 0/5 [00:00<?, ?it/s]"
      ]
     },
     "metadata": {},
     "output_type": "display_data"
    },
    {
     "data": {
      "application/vnd.jupyter.widget-view+json": {
       "model_id": "a73d0f942b1243178c1519491a14a56f",
       "version_major": 2,
       "version_minor": 0
      },
      "text/plain": [
       "Generate report structure:   0%|          | 0/1 [00:00<?, ?it/s]"
      ]
     },
     "metadata": {},
     "output_type": "display_data"
    },
    {
     "data": {
      "application/vnd.jupyter.widget-view+json": {
       "model_id": "4c74ca82c955428c84e68ea944c8e566",
       "version_major": 2,
       "version_minor": 0
      },
      "text/plain": [
       "Render HTML:   0%|          | 0/1 [00:00<?, ?it/s]"
      ]
     },
     "metadata": {},
     "output_type": "display_data"
    },
    {
     "data": {
      "application/vnd.jupyter.widget-view+json": {
       "model_id": "e2327d2cd3ba4f1691fc075aad9276cc",
       "version_major": 2,
       "version_minor": 0
      },
      "text/plain": [
       "Export report to file:   0%|          | 0/1 [00:00<?, ?it/s]"
      ]
     },
     "metadata": {},
     "output_type": "display_data"
    },
    {
     "data": {
      "application/vnd.jupyter.widget-view+json": {
       "model_id": "48d232e496b7462ab97af0feae22e423",
       "version_major": 2,
       "version_minor": 0
      },
      "text/plain": [
       "Summarize dataset:   0%|          | 0/5 [00:00<?, ?it/s]"
      ]
     },
     "metadata": {},
     "output_type": "display_data"
    },
    {
     "data": {
      "application/vnd.jupyter.widget-view+json": {
       "model_id": "62953d5d58454fa0b6abd3dbb3fa5e9b",
       "version_major": 2,
       "version_minor": 0
      },
      "text/plain": [
       "Generate report structure:   0%|          | 0/1 [00:00<?, ?it/s]"
      ]
     },
     "metadata": {},
     "output_type": "display_data"
    },
    {
     "data": {
      "application/vnd.jupyter.widget-view+json": {
       "model_id": "5fefca603f2d4336b1ccb12cb1689bda",
       "version_major": 2,
       "version_minor": 0
      },
      "text/plain": [
       "Render HTML:   0%|          | 0/1 [00:00<?, ?it/s]"
      ]
     },
     "metadata": {},
     "output_type": "display_data"
    },
    {
     "data": {
      "application/vnd.jupyter.widget-view+json": {
       "model_id": "1d1446b68782423c9d9c255bdbbf222d",
       "version_major": 2,
       "version_minor": 0
      },
      "text/plain": [
       "Export report to file:   0%|          | 0/1 [00:00<?, ?it/s]"
      ]
     },
     "metadata": {},
     "output_type": "display_data"
    },
    {
     "data": {
      "application/vnd.jupyter.widget-view+json": {
       "model_id": "1aee512c6178408086f9be028915eb82",
       "version_major": 2,
       "version_minor": 0
      },
      "text/plain": [
       "Summarize dataset:   0%|          | 0/5 [00:00<?, ?it/s]"
      ]
     },
     "metadata": {},
     "output_type": "display_data"
    },
    {
     "data": {
      "application/vnd.jupyter.widget-view+json": {
       "model_id": "cc4bf5ed69d9493f91562762dbc62db4",
       "version_major": 2,
       "version_minor": 0
      },
      "text/plain": [
       "Generate report structure:   0%|          | 0/1 [00:00<?, ?it/s]"
      ]
     },
     "metadata": {},
     "output_type": "display_data"
    },
    {
     "data": {
      "application/vnd.jupyter.widget-view+json": {
       "model_id": "d93fbe4ab0ad4779801b37bb1833e343",
       "version_major": 2,
       "version_minor": 0
      },
      "text/plain": [
       "Render HTML:   0%|          | 0/1 [00:00<?, ?it/s]"
      ]
     },
     "metadata": {},
     "output_type": "display_data"
    },
    {
     "data": {
      "application/vnd.jupyter.widget-view+json": {
       "model_id": "a92b7e48f3f94f8fb12d0788375d76bd",
       "version_major": 2,
       "version_minor": 0
      },
      "text/plain": [
       "Export report to file:   0%|          | 0/1 [00:00<?, ?it/s]"
      ]
     },
     "metadata": {},
     "output_type": "display_data"
    },
    {
     "data": {
      "application/vnd.jupyter.widget-view+json": {
       "model_id": "a63d14023d074349b980d3bdc98cf1c8",
       "version_major": 2,
       "version_minor": 0
      },
      "text/plain": [
       "Summarize dataset:   0%|          | 0/5 [00:00<?, ?it/s]"
      ]
     },
     "metadata": {},
     "output_type": "display_data"
    },
    {
     "data": {
      "application/vnd.jupyter.widget-view+json": {
       "model_id": "e767c6a350244760870ab4252c2bcc26",
       "version_major": 2,
       "version_minor": 0
      },
      "text/plain": [
       "Generate report structure:   0%|          | 0/1 [00:00<?, ?it/s]"
      ]
     },
     "metadata": {},
     "output_type": "display_data"
    },
    {
     "data": {
      "application/vnd.jupyter.widget-view+json": {
       "model_id": "3d168f51b7a0419e9e6020bfc15fb9ff",
       "version_major": 2,
       "version_minor": 0
      },
      "text/plain": [
       "Render HTML:   0%|          | 0/1 [00:00<?, ?it/s]"
      ]
     },
     "metadata": {},
     "output_type": "display_data"
    },
    {
     "data": {
      "application/vnd.jupyter.widget-view+json": {
       "model_id": "d961895f53bb49d48c33693c511560fa",
       "version_major": 2,
       "version_minor": 0
      },
      "text/plain": [
       "Export report to file:   0%|          | 0/1 [00:00<?, ?it/s]"
      ]
     },
     "metadata": {},
     "output_type": "display_data"
    },
    {
     "data": {
      "application/vnd.jupyter.widget-view+json": {
       "model_id": "92f0bf22fc7b49cf8786abf9dd3ea35a",
       "version_major": 2,
       "version_minor": 0
      },
      "text/plain": [
       "Summarize dataset:   0%|          | 0/5 [00:00<?, ?it/s]"
      ]
     },
     "metadata": {},
     "output_type": "display_data"
    },
    {
     "data": {
      "application/vnd.jupyter.widget-view+json": {
       "model_id": "32f19f2e535146f68477692e514d75e6",
       "version_major": 2,
       "version_minor": 0
      },
      "text/plain": [
       "Generate report structure:   0%|          | 0/1 [00:00<?, ?it/s]"
      ]
     },
     "metadata": {},
     "output_type": "display_data"
    },
    {
     "data": {
      "application/vnd.jupyter.widget-view+json": {
       "model_id": "69c001d89ff74e5085e0e238d2e274ea",
       "version_major": 2,
       "version_minor": 0
      },
      "text/plain": [
       "Render HTML:   0%|          | 0/1 [00:00<?, ?it/s]"
      ]
     },
     "metadata": {},
     "output_type": "display_data"
    },
    {
     "data": {
      "application/vnd.jupyter.widget-view+json": {
       "model_id": "5c5702470ca34a289663136de53cc385",
       "version_major": 2,
       "version_minor": 0
      },
      "text/plain": [
       "Export report to file:   0%|          | 0/1 [00:00<?, ?it/s]"
      ]
     },
     "metadata": {},
     "output_type": "display_data"
    },
    {
     "data": {
      "application/vnd.jupyter.widget-view+json": {
       "model_id": "39ea6e6f5c8e4a5e960574a102f5dc48",
       "version_major": 2,
       "version_minor": 0
      },
      "text/plain": [
       "Summarize dataset:   0%|          | 0/5 [00:00<?, ?it/s]"
      ]
     },
     "metadata": {},
     "output_type": "display_data"
    },
    {
     "data": {
      "application/vnd.jupyter.widget-view+json": {
       "model_id": "48e5707f863d4cf6a0d3b7239898bcf5",
       "version_major": 2,
       "version_minor": 0
      },
      "text/plain": [
       "Generate report structure:   0%|          | 0/1 [00:00<?, ?it/s]"
      ]
     },
     "metadata": {},
     "output_type": "display_data"
    },
    {
     "data": {
      "application/vnd.jupyter.widget-view+json": {
       "model_id": "aa9b86dcc4d04f40b88e1879e9d5183d",
       "version_major": 2,
       "version_minor": 0
      },
      "text/plain": [
       "Render HTML:   0%|          | 0/1 [00:00<?, ?it/s]"
      ]
     },
     "metadata": {},
     "output_type": "display_data"
    },
    {
     "data": {
      "application/vnd.jupyter.widget-view+json": {
       "model_id": "2a898380a85e4e1a811e5760b499b44e",
       "version_major": 2,
       "version_minor": 0
      },
      "text/plain": [
       "Export report to file:   0%|          | 0/1 [00:00<?, ?it/s]"
      ]
     },
     "metadata": {},
     "output_type": "display_data"
    }
   ],
   "source": [
    "os.makedirs(\"profiling\", exist_ok=True)\n",
    "\n",
    "for key,value in datasets.items():\n",
    "    profile = ProfileReport(value, minimal=True)\n",
    "    profile.to_file(f\"profiling/{key}.html\")"
   ]
  },
  {
   "cell_type": "markdown",
   "id": "e2bce86d-c4a9-4380-b3d7-209f071247be",
   "metadata": {},
   "source": [
    "### Save data into `raw` schema"
   ]
  },
  {
   "cell_type": "code",
   "execution_count": 5,
   "id": "f3e3ad0a-682d-49f2-aa2e-107610741db4",
   "metadata": {},
   "outputs": [],
   "source": [
    "os.makedirs(\"data/raw\", exist_ok=True)"
   ]
  },
  {
   "cell_type": "code",
   "execution_count": 6,
   "id": "579b9b0a-9948-4437-9c61-70b17bffd30d",
   "metadata": {},
   "outputs": [],
   "source": [
    "for key,value in datasets.items():\n",
    "    value.to_csv(f\"data/raw/{key}.zip\", index=False)"
   ]
  }
 ],
 "metadata": {
  "kernelspec": {
   "display_name": "myenv312",
   "language": "python",
   "name": "python3"
  },
  "language_info": {
   "codemirror_mode": {
    "name": "ipython",
    "version": 3
   },
   "file_extension": ".py",
   "mimetype": "text/x-python",
   "name": "python",
   "nbconvert_exporter": "python",
   "pygments_lexer": "ipython3",
   "version": "3.12.0"
  }
 },
 "nbformat": 4,
 "nbformat_minor": 5
}
