{
 "cells": [
  {
   "cell_type": "markdown",
   "metadata": {},
   "source": [
    "<img width=\"200\" style=\"float:left\" \n",
    "     src=\"https://upload.wikimedia.org/wikipedia/commons/f/f3/Apache_Spark_logo.svg\" />"
   ]
  },
  {
   "cell_type": "markdown",
   "metadata": {},
   "source": [
    "# Sections\n",
    "* [Description](#0)\n",
    "* [1. Setup](#1)\n",
    "  * [1.1 Start Hadoop](#1.1)  \n",
    "  * [1.2 Set Global Config](#1.2)\n",
    "  * [1.3 Create SparkSession](#1.3)\n",
    "* [2. Lab](#2)\n",
    "  * [2.1 Check Movielens Files](#2.1)\n",
    "  * [2.2 List current databases](#2.3)\n",
    "  * [2.3 Create Movie Pair Combinations](#2.3)\n",
    "  * [2.4 Create Movie Recommendations](#2.4)\n",
    "  * [2.5 Get Movie Recommendations](#2.5)\n",
    "* [3. TearDown](#3)\n",
    "  * [3.1 Stop Hadoop](#3.1)"
   ]
  },
  {
   "cell_type": "markdown",
   "metadata": {},
   "source": [
    "<a id='0'></a>\n",
    "## Description\n",
    "<p>\n",
    "<div>The goals for this lab are:</div>\n",
    "<ul>    \n",
    "    <li>Get familiar with Spark DataFrames API and SQL API</li>\n",
    "    <li>Use Spark to apply some analytics</li>\n",
    "</ul>    \n",
    "</p>"
   ]
  },
  {
   "cell_type": "markdown",
   "metadata": {},
   "source": [
    "<a id='1'></a>\n",
    "## 1. Setup\n",
    "\n",
    "Since we are going to process data stored from HDFS let's start the service"
   ]
  },
  {
   "cell_type": "markdown",
   "metadata": {},
   "source": [
    "<a id='1.1'></a>\n",
    "### 1.1 Start Hadoop\n",
    "\n",
    "Start Hadoop <a href=\"http://localhost:2024/\">here </a>\n",
    "\n",
    "<p>\n",
    "<img style=\"width:48px\" src=\"https://cdn.iconscout.com/icon/free/png-256/free-hadoop-226007.png\" /> \n",
    "</p>"
   ]
  },
  {
   "cell_type": "markdown",
   "metadata": {},
   "source": [
    "<a id='1.2'></a>\n",
    "### 1.2 Set Global Config"
   ]
  },
  {
   "cell_type": "code",
   "execution_count": 1,
   "metadata": {},
   "outputs": [],
   "source": [
    "import pandas as pd\n",
    "pd.set_option('display.max_colwidth', None)"
   ]
  },
  {
   "cell_type": "code",
   "execution_count": 2,
   "metadata": {},
   "outputs": [],
   "source": [
    "import numpy as np\n",
    "np.bool = np.bool_"
   ]
  },
  {
   "cell_type": "code",
   "execution_count": 3,
   "metadata": {},
   "outputs": [],
   "source": [
    "#current notebook name\n",
    "notebook_name = __session__.replace('.ipynb','')[__session__.rfind('/')+1:] "
   ]
  },
  {
   "cell_type": "code",
   "execution_count": 4,
   "metadata": {},
   "outputs": [],
   "source": [
    "# HDFS base paths\n",
    "hdfs_lakehouse_base_path = 'hdfs://localhost:9000/lakehouse/'\n",
    "hdfs_warehouse_base_path = 'hdfs://localhost:9000/warehouse'"
   ]
  },
  {
   "cell_type": "markdown",
   "metadata": {},
   "source": [
    "<a id='1.3'></a>\n",
    "### 1.3 Create SparkSession"
   ]
  },
  {
   "cell_type": "code",
   "execution_count": 5,
   "metadata": {},
   "outputs": [],
   "source": [
    "import os\n",
    "dependencies = [\"org.apache.spark:spark-avro_2.12:3.5.0\",\n",
    "                \"io.delta:delta-iceberg_2.12:3.0.0\"]\n",
    "os.environ['PYSPARK_SUBMIT_ARGS']= f\"--packages {','.join(dependencies)} pyspark-shell\"\n",
    "os.environ['PYARROW_IGNORE_TIMEZONE'] = 'true'"
   ]
  },
  {
   "cell_type": "code",
   "execution_count": 6,
   "metadata": {},
   "outputs": [
    {
     "name": "stderr",
     "output_type": "stream",
     "text": [
      "24/12/07 12:37:09 WARN Utils: Your hostname, osbdet resolves to a loopback address: 127.0.0.1; using 10.0.2.15 instead (on interface enp0s1)\n",
      "24/12/07 12:37:09 WARN Utils: Set SPARK_LOCAL_IP if you need to bind to another address\n",
      "Ivy Default Cache set to: /home/osbdet/.ivy2/cache\n",
      "The jars for the packages stored in: /home/osbdet/.ivy2/jars\n",
      "org.apache.spark#spark-avro_2.12 added as a dependency\n",
      "io.delta#delta-iceberg_2.12 added as a dependency\n",
      ":: resolving dependencies :: org.apache.spark#spark-submit-parent-5788ee28-0e42-411e-8a0e-b0dd1a8897dd;1.0\n",
      "\tconfs: [default]\n",
      "\tfound org.apache.spark#spark-avro_2.12;3.5.0 in central\n",
      "\tfound org.tukaani#xz;1.9 in central\n",
      "\tfound io.delta#delta-iceberg_2.12;3.0.0 in central\n"
     ]
    },
    {
     "name": "stdout",
     "output_type": "stream",
     "text": [
      ":: loading settings :: url = jar:file:/home/osbdet/.jupyter_venv/lib/python3.11/site-packages/pyspark/jars/ivy-2.5.1.jar!/org/apache/ivy/core/settings/ivysettings.xml\n"
     ]
    },
    {
     "name": "stderr",
     "output_type": "stream",
     "text": [
      "\tfound io.delta#delta-spark_2.12;3.0.0 in central\n",
      "\tfound io.delta#delta-storage;3.0.0 in central\n",
      "\tfound org.antlr#antlr4-runtime;4.9.3 in central\n",
      "\tfound org.scala-lang.modules#scala-collection-compat_2.12;2.1.1 in central\n",
      "\tfound com.github.ben-manes.caffeine#caffeine;2.9.3 in central\n",
      "\tfound org.checkerframework#checker-qual;3.19.0 in central\n",
      "\tfound com.google.errorprone#error_prone_annotations;2.10.0 in central\n",
      ":: resolution report :: resolve 210ms :: artifacts dl 10ms\n",
      "\t:: modules in use:\n",
      "\tcom.github.ben-manes.caffeine#caffeine;2.9.3 from central in [default]\n",
      "\tcom.google.errorprone#error_prone_annotations;2.10.0 from central in [default]\n",
      "\tio.delta#delta-iceberg_2.12;3.0.0 from central in [default]\n",
      "\tio.delta#delta-spark_2.12;3.0.0 from central in [default]\n",
      "\tio.delta#delta-storage;3.0.0 from central in [default]\n",
      "\torg.antlr#antlr4-runtime;4.9.3 from central in [default]\n",
      "\torg.apache.spark#spark-avro_2.12;3.5.0 from central in [default]\n",
      "\torg.checkerframework#checker-qual;3.19.0 from central in [default]\n",
      "\torg.scala-lang.modules#scala-collection-compat_2.12;2.1.1 from central in [default]\n",
      "\torg.tukaani#xz;1.9 from central in [default]\n",
      "\t---------------------------------------------------------------------\n",
      "\t|                  |            modules            ||   artifacts   |\n",
      "\t|       conf       | number| search|dwnlded|evicted|| number|dwnlded|\n",
      "\t---------------------------------------------------------------------\n",
      "\t|      default     |   10  |   0   |   0   |   0   ||   10  |   0   |\n",
      "\t---------------------------------------------------------------------\n",
      ":: retrieving :: org.apache.spark#spark-submit-parent-5788ee28-0e42-411e-8a0e-b0dd1a8897dd\n",
      "\tconfs: [default]\n",
      "\t0 artifacts copied, 10 already retrieved (0kB/5ms)\n",
      "24/12/07 12:37:09 WARN NativeCodeLoader: Unable to load native-hadoop library for your platform... using builtin-java classes where applicable\n",
      "Setting default log level to \"WARN\".\n",
      "To adjust logging level use sc.setLogLevel(newLevel). For SparkR, use setLogLevel(newLevel).\n",
      "Setting Spark log level to \"ERROR\".\n"
     ]
    }
   ],
   "source": [
    "from pyspark.sql.session import SparkSession\n",
    "\n",
    "spark = (SparkSession.builder\n",
    "    .appName(notebook_name)\n",
    "    .config(\"spark.log.level\",\"ERROR\")\n",
    "    .config(\"spark.sql.warehouse.dir\",hdfs_warehouse_base_path)\n",
    "    .config(\"spark.sql.extensions\", \"io.delta.sql.DeltaSparkSessionExtension\")\n",
    "    .config(\"spark.sql.catalog.spark_catalog\", \"org.apache.spark.sql.delta.catalog.DeltaCatalog\")\n",
    "    .enableHiveSupport()\n",
    "    .getOrCreate()\n",
    ")"
   ]
  },
  {
   "cell_type": "markdown",
   "metadata": {},
   "source": [
    "<a id='2'></a>\n",
    "## 2. Lab"
   ]
  },
  {
   "cell_type": "markdown",
   "metadata": {},
   "source": [
    "###  Install python dependencies\n",
    "To visualize the data I'm going to need a python library called beautifulsoup4.\n",
    "Open a terminal and execute the following command:\n"
   ]
  },
  {
   "cell_type": "code",
   "execution_count": 7,
   "metadata": {},
   "outputs": [
    {
     "name": "stdout",
     "output_type": "stream",
     "text": [
      "Requirement already satisfied: beautifulsoup4 in /home/osbdet/.jupyter_venv/lib/python3.11/site-packages (4.12.2)\n",
      "Requirement already satisfied: soupsieve>1.2 in /home/osbdet/.jupyter_venv/lib/python3.11/site-packages (from beautifulsoup4) (2.5)\n"
     ]
    }
   ],
   "source": [
    "!/home/osbdet/.jupyter_venv/bin/python3 -m pip install beautifulsoup4"
   ]
  },
  {
   "cell_type": "markdown",
   "metadata": {},
   "source": [
    "<a id='2.1'></a>\n",
    "### 2.1 Check Movielens Tables\n",
    "\n",
    "In order to complete this lab you need to previosly complete **'Movielens - Step 1 - BRZ to SLVR'**.\n"
   ]
  },
  {
   "cell_type": "markdown",
   "metadata": {},
   "source": [
    "<a id='2.2'></a>\n",
    "### 2.2 List current databases"
   ]
  },
  {
   "cell_type": "code",
   "execution_count": 8,
   "metadata": {},
   "outputs": [
    {
     "name": "stdout",
     "output_type": "stream",
     "text": [
      "+---------+\n",
      "|namespace|\n",
      "+---------+\n",
      "|  default|\n",
      "|movielens|\n",
      "|  pokemon|\n",
      "+---------+\n",
      "\n"
     ]
    }
   ],
   "source": [
    "spark.sql(\"show databases\").show()"
   ]
  },
  {
   "cell_type": "code",
   "execution_count": 9,
   "metadata": {},
   "outputs": [
    {
     "data": {
      "text/plain": [
       "[Database(name='default', catalog='spark_catalog', description='Default Hive database', locationUri='hdfs://localhost:9000/warehouse'),\n",
       " Database(name='movielens', catalog='spark_catalog', description='', locationUri='hdfs://localhost:9000/warehouse/movielens.db'),\n",
       " Database(name='pokemon', catalog='spark_catalog', description='', locationUri='hdfs://localhost:9000/warehouse/pokemon.db')]"
      ]
     },
     "execution_count": 9,
     "metadata": {},
     "output_type": "execute_result"
    }
   ],
   "source": [
    "spark.catalog.listDatabases()"
   ]
  },
  {
   "cell_type": "markdown",
   "metadata": {},
   "source": [
    "<a id='2.3'></a>\n",
    "### 2.3 Create Movie Pair Combinations\n",
    "\n",
    "We are going to create a temporary table/table to create movie pairs combinations. It is a temporary table just because we use it as intermediary step to get the final result"
   ]
  },
  {
   "cell_type": "code",
   "execution_count": 10,
   "metadata": {},
   "outputs": [
    {
     "data": {
      "text/plain": [
       "DataFrame[]"
      ]
     },
     "execution_count": 10,
     "metadata": {},
     "output_type": "execute_result"
    }
   ],
   "source": [
    "spark.sql(\n",
    "\"\"\"\n",
    "create or replace temporary view movie_pair_by_user as\n",
    "select distinct\n",
    "    l.userId,\n",
    "    least(l.movieId,r.movieId) as movieA,\n",
    "    greatest(l.movieId,r.movieId) as movieB,\n",
    "    case when l.movieId=least(l.movieId,r.movieId) then l.rating else r.rating end as ratingA,\n",
    "    case when l.movieId=greatest(l.movieId,r.movieId) then l.rating else r.rating end as ratingB\n",
    "from movielens.ratings l join movielens.ratings r\n",
    "on l.userId = r.userId \n",
    "where  l.movieId <> r.movieId\n",
    "\"\"\")"
   ]
  },
  {
   "cell_type": "code",
   "execution_count": 11,
   "metadata": {},
   "outputs": [
    {
     "name": "stderr",
     "output_type": "stream",
     "text": [
      "                                                                                \r"
     ]
    },
    {
     "data": {
      "text/html": [
       "<div>\n",
       "<style scoped>\n",
       "    .dataframe tbody tr th:only-of-type {\n",
       "        vertical-align: middle;\n",
       "    }\n",
       "\n",
       "    .dataframe tbody tr th {\n",
       "        vertical-align: top;\n",
       "    }\n",
       "\n",
       "    .dataframe thead th {\n",
       "        text-align: right;\n",
       "    }\n",
       "</style>\n",
       "<table border=\"1\" class=\"dataframe\">\n",
       "  <thead>\n",
       "    <tr style=\"text-align: right;\">\n",
       "      <th></th>\n",
       "      <th>userId</th>\n",
       "      <th>movieA</th>\n",
       "      <th>movieB</th>\n",
       "      <th>ratingA</th>\n",
       "      <th>ratingB</th>\n",
       "    </tr>\n",
       "  </thead>\n",
       "  <tbody>\n",
       "    <tr>\n",
       "      <th>0</th>\n",
       "      <td>1</td>\n",
       "      <td>3</td>\n",
       "      <td>3639</td>\n",
       "      <td>4.0</td>\n",
       "      <td>4.0</td>\n",
       "    </tr>\n",
       "    <tr>\n",
       "      <th>1</th>\n",
       "      <td>1</td>\n",
       "      <td>6</td>\n",
       "      <td>47</td>\n",
       "      <td>4.0</td>\n",
       "      <td>5.0</td>\n",
       "    </tr>\n",
       "    <tr>\n",
       "      <th>2</th>\n",
       "      <td>1</td>\n",
       "      <td>47</td>\n",
       "      <td>3273</td>\n",
       "      <td>5.0</td>\n",
       "      <td>5.0</td>\n",
       "    </tr>\n",
       "    <tr>\n",
       "      <th>3</th>\n",
       "      <td>1</td>\n",
       "      <td>47</td>\n",
       "      <td>2048</td>\n",
       "      <td>5.0</td>\n",
       "      <td>5.0</td>\n",
       "    </tr>\n",
       "    <tr>\n",
       "      <th>4</th>\n",
       "      <td>1</td>\n",
       "      <td>47</td>\n",
       "      <td>1282</td>\n",
       "      <td>5.0</td>\n",
       "      <td>5.0</td>\n",
       "    </tr>\n",
       "    <tr>\n",
       "      <th>5</th>\n",
       "      <td>1</td>\n",
       "      <td>50</td>\n",
       "      <td>2916</td>\n",
       "      <td>5.0</td>\n",
       "      <td>4.0</td>\n",
       "    </tr>\n",
       "    <tr>\n",
       "      <th>6</th>\n",
       "      <td>1</td>\n",
       "      <td>50</td>\n",
       "      <td>1954</td>\n",
       "      <td>5.0</td>\n",
       "      <td>5.0</td>\n",
       "    </tr>\n",
       "    <tr>\n",
       "      <th>7</th>\n",
       "      <td>1</td>\n",
       "      <td>50</td>\n",
       "      <td>1049</td>\n",
       "      <td>5.0</td>\n",
       "      <td>5.0</td>\n",
       "    </tr>\n",
       "    <tr>\n",
       "      <th>8</th>\n",
       "      <td>1</td>\n",
       "      <td>70</td>\n",
       "      <td>1258</td>\n",
       "      <td>3.0</td>\n",
       "      <td>3.0</td>\n",
       "    </tr>\n",
       "    <tr>\n",
       "      <th>9</th>\n",
       "      <td>1</td>\n",
       "      <td>101</td>\n",
       "      <td>231</td>\n",
       "      <td>5.0</td>\n",
       "      <td>5.0</td>\n",
       "    </tr>\n",
       "  </tbody>\n",
       "</table>\n",
       "</div>"
      ],
      "text/plain": [
       "   userId  movieA  movieB  ratingA  ratingB\n",
       "0       1       3    3639      4.0      4.0\n",
       "1       1       6      47      4.0      5.0\n",
       "2       1      47    3273      5.0      5.0\n",
       "3       1      47    2048      5.0      5.0\n",
       "4       1      47    1282      5.0      5.0\n",
       "5       1      50    2916      5.0      4.0\n",
       "6       1      50    1954      5.0      5.0\n",
       "7       1      50    1049      5.0      5.0\n",
       "8       1      70    1258      3.0      3.0\n",
       "9       1     101     231      5.0      5.0"
      ]
     },
     "execution_count": 11,
     "metadata": {},
     "output_type": "execute_result"
    }
   ],
   "source": [
    "spark.sql(\"select * from movie_pair_by_user limit 10\").toPandas()"
   ]
  },
  {
   "cell_type": "markdown",
   "metadata": {},
   "source": [
    "Notice that if we get the info from the metastore, is indeed, a temporary table\n",
    "Temporary means that will only exists during the execution of this notebook and will not be saved/persisted."
   ]
  },
  {
   "cell_type": "markdown",
   "metadata": {},
   "source": [
    "<a id='2.4'></a>\n",
    "### 2.4 Create Movie Recommendations\n",
    "\n",
    "Now it is moment to calculate the actual recomendations.\n",
    "Recommendations will be all the previous movie pairs with positive correlation and enough statistical significance, this is, this combination happened at least a minimum number of times (in this case 35 times at least).\n",
    "I calculated this number based on the previous combinations ocurrences.\n",
    "\n",
    "Because these recommendations are our final results, we are going to save them in HDFS. Since we processed data from std layer (silver) we are going to persist our final results in the gold layer (notice the path used)\n",
    "\n",
    "We are creating here an external table"
   ]
  },
  {
   "cell_type": "code",
   "execution_count": 12,
   "metadata": {},
   "outputs": [
    {
     "data": {
      "text/plain": [
       "DataFrame[]"
      ]
     },
     "execution_count": 12,
     "metadata": {},
     "output_type": "execute_result"
    },
    {
     "data": {
      "text/plain": [
       "DataFrame[]"
      ]
     },
     "execution_count": 12,
     "metadata": {},
     "output_type": "execute_result"
    },
    {
     "name": "stderr",
     "output_type": "stream",
     "text": [
      "                                                                                \r"
     ]
    }
   ],
   "source": [
    "spark.sql(\"drop database if exists movie_recommender cascade\")\n",
    "spark.sql(\"create database movie_recommender comment 'Movie Recommender' \")\n",
    "recs = spark.sql(\n",
    "\"\"\"\n",
    "select \n",
    "    movieA,\n",
    "    movieB,\n",
    "    corr(ratingA,ratingB) as correlation, \n",
    "    count(*) as occurrences\n",
    "from movie_pair_by_user\n",
    "group by movieA,movieB\n",
    "having correlation > 0 and occurrences >=35\n",
    "\"\"\")\n",
    "\n",
    "(recs.write\n",
    "          .format(\"delta\")\n",
    "          .mode(\"overwrite\")\n",
    "          .option(\"path\",f\"{hdfs_lakehouse_base_path}/gold/movie_recommender/recommendations/\")\\\n",
    "          .saveAsTable(\"movie_recommender.recommendations\"))"
   ]
  },
  {
   "cell_type": "markdown",
   "metadata": {},
   "source": [
    "From now on, we can query our recommendations table"
   ]
  },
  {
   "cell_type": "code",
   "execution_count": 13,
   "metadata": {},
   "outputs": [
    {
     "data": {
      "text/html": [
       "<div>\n",
       "<style scoped>\n",
       "    .dataframe tbody tr th:only-of-type {\n",
       "        vertical-align: middle;\n",
       "    }\n",
       "\n",
       "    .dataframe tbody tr th {\n",
       "        vertical-align: top;\n",
       "    }\n",
       "\n",
       "    .dataframe thead th {\n",
       "        text-align: right;\n",
       "    }\n",
       "</style>\n",
       "<table border=\"1\" class=\"dataframe\">\n",
       "  <thead>\n",
       "    <tr style=\"text-align: right;\">\n",
       "      <th></th>\n",
       "      <th>movieA</th>\n",
       "      <th>movieB</th>\n",
       "      <th>correlation</th>\n",
       "      <th>occurrences</th>\n",
       "    </tr>\n",
       "  </thead>\n",
       "  <tbody>\n",
       "    <tr>\n",
       "      <th>0</th>\n",
       "      <td>2268</td>\n",
       "      <td>3578</td>\n",
       "      <td>0.378771</td>\n",
       "      <td>35</td>\n",
       "    </tr>\n",
       "    <tr>\n",
       "      <th>1</th>\n",
       "      <td>2115</td>\n",
       "      <td>44191</td>\n",
       "      <td>0.114139</td>\n",
       "      <td>42</td>\n",
       "    </tr>\n",
       "    <tr>\n",
       "      <th>2</th>\n",
       "      <td>2683</td>\n",
       "      <td>8961</td>\n",
       "      <td>0.243803</td>\n",
       "      <td>53</td>\n",
       "    </tr>\n",
       "    <tr>\n",
       "      <th>3</th>\n",
       "      <td>6934</td>\n",
       "      <td>7143</td>\n",
       "      <td>0.187996</td>\n",
       "      <td>39</td>\n",
       "    </tr>\n",
       "    <tr>\n",
       "      <th>4</th>\n",
       "      <td>2858</td>\n",
       "      <td>2959</td>\n",
       "      <td>0.378292</td>\n",
       "      <td>134</td>\n",
       "    </tr>\n",
       "    <tr>\n",
       "      <th>5</th>\n",
       "      <td>1208</td>\n",
       "      <td>1247</td>\n",
       "      <td>0.423838</td>\n",
       "      <td>48</td>\n",
       "    </tr>\n",
       "    <tr>\n",
       "      <th>6</th>\n",
       "      <td>344</td>\n",
       "      <td>3793</td>\n",
       "      <td>0.045676</td>\n",
       "      <td>54</td>\n",
       "    </tr>\n",
       "    <tr>\n",
       "      <th>7</th>\n",
       "      <td>4306</td>\n",
       "      <td>5299</td>\n",
       "      <td>0.438145</td>\n",
       "      <td>50</td>\n",
       "    </tr>\n",
       "    <tr>\n",
       "      <th>8</th>\n",
       "      <td>1917</td>\n",
       "      <td>6377</td>\n",
       "      <td>0.481003</td>\n",
       "      <td>45</td>\n",
       "    </tr>\n",
       "    <tr>\n",
       "      <th>9</th>\n",
       "      <td>111</td>\n",
       "      <td>1193</td>\n",
       "      <td>0.333478</td>\n",
       "      <td>56</td>\n",
       "    </tr>\n",
       "  </tbody>\n",
       "</table>\n",
       "</div>"
      ],
      "text/plain": [
       "   movieA  movieB  correlation  occurrences\n",
       "0    2268    3578     0.378771           35\n",
       "1    2115   44191     0.114139           42\n",
       "2    2683    8961     0.243803           53\n",
       "3    6934    7143     0.187996           39\n",
       "4    2858    2959     0.378292          134\n",
       "5    1208    1247     0.423838           48\n",
       "6     344    3793     0.045676           54\n",
       "7    4306    5299     0.438145           50\n",
       "8    1917    6377     0.481003           45\n",
       "9     111    1193     0.333478           56"
      ]
     },
     "execution_count": 13,
     "metadata": {},
     "output_type": "execute_result"
    }
   ],
   "source": [
    "spark.sql(\"select * from movie_recommender.recommendations limit 10\").toPandas()"
   ]
  },
  {
   "cell_type": "markdown",
   "metadata": {},
   "source": [
    "##### <a id='2.5'></a>\n",
    "### 2.5 Get Movie Recommendations\n",
    "\n",
    "We are going to create an utility function to get recommendations for a movie.\n",
    "\n",
    "This function is going to query the table to get a number of movies more closely correlated with the one we are passing as an argument"
   ]
  },
  {
   "cell_type": "code",
   "execution_count": 14,
   "metadata": {},
   "outputs": [],
   "source": [
    "import pyspark.sql.functions as F\n",
    "\n",
    "spark.catalog.cacheTable(\"movie_recommender.recommendations\")\n",
    "\n",
    "def get_recs(movie,recs_number=5) :\n",
    "    query = f\"\"\"\n",
    "            select r.correlation,m.*,l.imdbUrl,l.tmdbUrl,t.youtubeUrl\n",
    "            from\n",
    "            (select \n",
    "                case when movieA={movie} then movieB else movieA end as movieId,\n",
    "                correlation\n",
    "            from movie_recommender.recommendations \n",
    "            where movieA={movie} or movieB={movie}\n",
    "            order by correlation desc\n",
    "            limit {recs_number}) r\n",
    "            left join movielens.movies m on r.movieId = m.movieId            \n",
    "            left join movielens.links l on r.movieId = l.movieId            \n",
    "            left join movielens.trailers t on r.movieId = t.movieId            \n",
    "            \"\"\"\n",
    "    return spark.sql(query).collect()"
   ]
  },
  {
   "cell_type": "markdown",
   "metadata": {},
   "source": [
    "The following functions are to pretty print our recommendations ;)"
   ]
  },
  {
   "cell_type": "code",
   "execution_count": 15,
   "metadata": {},
   "outputs": [],
   "source": [
    "from urllib.request import Request, urlopen\n",
    "from bs4 import BeautifulSoup\n",
    "\n",
    "def fetch_movie_poster(url):\n",
    "    hdr = {'User-Agent': 'Mozilla/5.0'}\n",
    "    req = Request(url,headers=hdr)\n",
    "    page = urlopen(req)\n",
    "    soup = BeautifulSoup(page)\n",
    "    for meta in soup.findAll(\"meta\"):\n",
    "        if 'property' in meta.attrs and meta.attrs['property'] == \"og:image\":\n",
    "            return meta.attrs['content']\n",
    "    return None"
   ]
  },
  {
   "cell_type": "code",
   "execution_count": 16,
   "metadata": {},
   "outputs": [],
   "source": [
    "from IPython.display import HTML,IFrame\n",
    "\n",
    "def display_recs(recs):\n",
    "    for rec in recs:\n",
    "        display(IFrame(src=f'{rec.youtubeUrl}',width='560', height='315')) \n",
    "        display(HTML('<a href=\"%s\" target=\"_blank\">%s (IMDB)</a>'% (rec.imdbUrl,rec.title) ))\n",
    "        \n",
    "def display_posters(recs):\n",
    "    html = \"<table><tr>\"\n",
    "    for rec in recs:\n",
    "        html+=f'<td><img src=\"{fetch_movie_poster(rec.imdbUrl)}\" width=\"100\"/></td>'\n",
    "    html+= \"</tr></table>\"    \n",
    "    display(HTML(html)) "
   ]
  },
  {
   "cell_type": "markdown",
   "metadata": {},
   "source": [
    "Let's get some recommendations for \"Lord of the Rings: The Fellowship of the Ring\" (movie id 4993)"
   ]
  },
  {
   "cell_type": "code",
   "execution_count": 17,
   "metadata": {},
   "outputs": [
    {
     "name": "stderr",
     "output_type": "stream",
     "text": [
      "                                                                                \r"
     ]
    },
    {
     "data": {
      "text/html": [
       "<table><tr><td><img src=\"https://m.media-amazon.com/images/M/MV5BNjJhZjZlNjktZTEwYi00MmMwLTgyYTgtYmMyMmRlOWMzNmRjXkEyXkFqcGc@._V1_FMjpg_UX1000_.jpg\" width=\"100\"/></td><td><img src=\"https://m.media-amazon.com/images/M/MV5BZGEzZDkzNDgtMGMzZi00NjNhLTliNWMtMTllYzQ2OTQwNGFkXkEyXkFqcGc@._V1_FMjpg_UX1000_.jpg\" width=\"100\"/></td><td><img src=\"https://m.media-amazon.com/images/M/MV5BZWQxMWNjNGEtYzJhNC00YmM2LTkxNjgtZjNhODI4MWNmMTBmXkEyXkFqcGc@._V1_FMjpg_UX1000_.jpg\" width=\"100\"/></td><td><img src=\"https://m.media-amazon.com/images/M/MV5BMjRhOTgwOTEtZmNhOC00OTc1LTlhODYtZDdkYzJiMmZhYmYxXkEyXkFqcGc@._V1_FMjpg_UX1000_.jpg\" width=\"100\"/></td><td><img src=\"https://m.media-amazon.com/images/M/MV5BN2FmNmM5OTUtODEwMC00NDE5LWI4ZTUtZTg1ZmZlYjVjN2EyXkEyXkFqcGc@._V1_FMjpg_UX1000_.jpg\" width=\"100\"/></td></tr></table>"
      ],
      "text/plain": [
       "<IPython.core.display.HTML object>"
      ]
     },
     "metadata": {},
     "output_type": "display_data"
    },
    {
     "data": {
      "text/html": [
       "\n",
       "        <iframe\n",
       "            width=\"560\"\n",
       "            height=\"315\"\n",
       "            src=\"https://www.youtube.com/embed/LbfMDwc4azU/\"\n",
       "            frameborder=\"0\"\n",
       "            allowfullscreen\n",
       "            \n",
       "        ></iframe>\n",
       "        "
      ],
      "text/plain": [
       "<IPython.lib.display.IFrame at 0xffff6b3a7510>"
      ]
     },
     "metadata": {},
     "output_type": "display_data"
    },
    {
     "data": {
      "text/html": [
       "<a href=\"http://www.imdb.com/title/tt0167261/\" target=\"_blank\">Lord of the Rings: The Two Towers, The (IMDB)</a>"
      ],
      "text/plain": [
       "<IPython.core.display.HTML object>"
      ]
     },
     "metadata": {},
     "output_type": "display_data"
    },
    {
     "data": {
      "text/html": [
       "\n",
       "        <iframe\n",
       "            width=\"560\"\n",
       "            height=\"315\"\n",
       "            src=\"https://www.youtube.com/embed/co9SNfJNDN8/\"\n",
       "            frameborder=\"0\"\n",
       "            allowfullscreen\n",
       "            \n",
       "        ></iframe>\n",
       "        "
      ],
      "text/plain": [
       "<IPython.lib.display.IFrame at 0xffff6a0a2a50>"
      ]
     },
     "metadata": {},
     "output_type": "display_data"
    },
    {
     "data": {
      "text/html": [
       "<a href=\"http://www.imdb.com/title/tt0167260/\" target=\"_blank\">Lord of the Rings: The Return of the King, The (IMDB)</a>"
      ],
      "text/plain": [
       "<IPython.core.display.HTML object>"
      ]
     },
     "metadata": {},
     "output_type": "display_data"
    },
    {
     "data": {
      "text/html": [
       "\n",
       "        <iframe\n",
       "            width=\"560\"\n",
       "            height=\"315\"\n",
       "            src=\"https://www.youtube.com/embed/dFQS8IKrUHA/\"\n",
       "            frameborder=\"0\"\n",
       "            allowfullscreen\n",
       "            \n",
       "        ></iframe>\n",
       "        "
      ],
      "text/plain": [
       "<IPython.lib.display.IFrame at 0xffff6a0a2a50>"
      ]
     },
     "metadata": {},
     "output_type": "display_data"
    },
    {
     "data": {
      "text/html": [
       "<a href=\"http://www.imdb.com/title/tt0903624/\" target=\"_blank\">Hobbit: An Unexpected Journey, The (IMDB)</a>"
      ],
      "text/plain": [
       "<IPython.core.display.HTML object>"
      ]
     },
     "metadata": {},
     "output_type": "display_data"
    },
    {
     "data": {
      "text/html": [
       "\n",
       "        <iframe\n",
       "            width=\"560\"\n",
       "            height=\"315\"\n",
       "            src=\"https://www.youtube.com/embed/_H-T7RPvt2k/\"\n",
       "            frameborder=\"0\"\n",
       "            allowfullscreen\n",
       "            \n",
       "        ></iframe>\n",
       "        "
      ],
      "text/plain": [
       "<IPython.lib.display.IFrame at 0xffff694b5e50>"
      ]
     },
     "metadata": {},
     "output_type": "display_data"
    },
    {
     "data": {
      "text/html": [
       "<a href=\"http://www.imdb.com/title/tt0289043/\" target=\"_blank\">28 Days Later (IMDB)</a>"
      ],
      "text/plain": [
       "<IPython.core.display.HTML object>"
      ]
     },
     "metadata": {},
     "output_type": "display_data"
    },
    {
     "data": {
      "text/html": [
       "\n",
       "        <iframe\n",
       "            width=\"560\"\n",
       "            height=\"315\"\n",
       "            src=\"https://www.youtube.com/embed/OLNktcDs05Y/\"\n",
       "            frameborder=\"0\"\n",
       "            allowfullscreen\n",
       "            \n",
       "        ></iframe>\n",
       "        "
      ],
      "text/plain": [
       "<IPython.lib.display.IFrame at 0xffff6a0a1e90>"
      ]
     },
     "metadata": {},
     "output_type": "display_data"
    },
    {
     "data": {
      "text/html": [
       "<a href=\"http://www.imdb.com/title/tt0060196/\" target=\"_blank\">Good, the Bad and the Ugly, The (Buono, il brutto, il cattivo, Il) (IMDB)</a>"
      ],
      "text/plain": [
       "<IPython.core.display.HTML object>"
      ]
     },
     "metadata": {},
     "output_type": "display_data"
    }
   ],
   "source": [
    "#4993,\"Lord of the Rings: The Fellowship of the Ring\n",
    "recs = get_recs(4993)\n",
    "display_posters(recs)\n",
    "display_recs(recs)"
   ]
  },
  {
   "cell_type": "markdown",
   "metadata": {},
   "source": [
    "Let's get some recommendations for \"Harry Potter and the Philosopher's Stone\" (movie id 4896)"
   ]
  },
  {
   "cell_type": "code",
   "execution_count": 18,
   "metadata": {},
   "outputs": [
    {
     "data": {
      "text/html": [
       "<table><tr><td><img src=\"https://m.media-amazon.com/images/M/MV5BMDE2ZjlmZGItODBiZS00NTVmLWI4YjItNzZmN2ZiMjg3NzI4XkEyXkFqcGc@._V1_FMjpg_UX1000_.jpg\" width=\"100\"/></td><td><img src=\"https://m.media-amazon.com/images/M/MV5BMmYzMDM5ZmEtYjZlNS00ZmIwLThkNDUtMzRhZjc0MDFhOGYzXkEyXkFqcGc@._V1_FMjpg_UX1000_.jpg\" width=\"100\"/></td><td><img src=\"https://m.media-amazon.com/images/M/MV5BNWY5MDMwYjQtZDU0NS00MTAwLWFlMDUtODA5YjMzNjdmYzJkXkEyXkFqcGc@._V1_FMjpg_UX1000_.jpg\" width=\"100\"/></td><td><img src=\"https://m.media-amazon.com/images/M/MV5BYThmODhhNzYtMGI0Ny00NDYyLTllMDUtMDY2Y2Q1YjU4YWVkXkEyXkFqcGc@._V1_FMjpg_UX1000_.jpg\" width=\"100\"/></td><td><img src=\"https://m.media-amazon.com/images/M/MV5BZTY0OGYxODAtOWFmYS00ZGYwLWFiYzktNjgwY2FkNDUwOWUzXkEyXkFqcGc@._V1_FMjpg_UX1000_.jpg\" width=\"100\"/></td></tr></table>"
      ],
      "text/plain": [
       "<IPython.core.display.HTML object>"
      ]
     },
     "metadata": {},
     "output_type": "display_data"
    },
    {
     "data": {
      "text/html": [
       "\n",
       "        <iframe\n",
       "            width=\"560\"\n",
       "            height=\"315\"\n",
       "            src=\"https://www.youtube.com/embed/3EGojp4Hh6I/\"\n",
       "            frameborder=\"0\"\n",
       "            allowfullscreen\n",
       "            \n",
       "        ></iframe>\n",
       "        "
      ],
      "text/plain": [
       "<IPython.lib.display.IFrame at 0xffff6bc3cb10>"
      ]
     },
     "metadata": {},
     "output_type": "display_data"
    },
    {
     "data": {
      "text/html": [
       "<a href=\"http://www.imdb.com/title/tt0295297/\" target=\"_blank\">Harry Potter and the Chamber of Secrets (IMDB)</a>"
      ],
      "text/plain": [
       "<IPython.core.display.HTML object>"
      ]
     },
     "metadata": {},
     "output_type": "display_data"
    },
    {
     "data": {
      "text/html": [
       "\n",
       "        <iframe\n",
       "            width=\"560\"\n",
       "            height=\"315\"\n",
       "            src=\"https://www.youtube.com/embed/YbfMgvgR9NI/\"\n",
       "            frameborder=\"0\"\n",
       "            allowfullscreen\n",
       "            \n",
       "        ></iframe>\n",
       "        "
      ],
      "text/plain": [
       "<IPython.lib.display.IFrame at 0xffff6bc3cb10>"
      ]
     },
     "metadata": {},
     "output_type": "display_data"
    },
    {
     "data": {
      "text/html": [
       "<a href=\"http://www.imdb.com/title/tt0926084/\" target=\"_blank\">Harry Potter and the Deathly Hallows: Part 1 (IMDB)</a>"
      ],
      "text/plain": [
       "<IPython.core.display.HTML object>"
      ]
     },
     "metadata": {},
     "output_type": "display_data"
    },
    {
     "data": {
      "text/html": [
       "\n",
       "        <iframe\n",
       "            width=\"560\"\n",
       "            height=\"315\"\n",
       "            src=\"https://www.youtube.com/embed/I_kDb-pRCds/\"\n",
       "            frameborder=\"0\"\n",
       "            allowfullscreen\n",
       "            \n",
       "        ></iframe>\n",
       "        "
      ],
      "text/plain": [
       "<IPython.lib.display.IFrame at 0xffff6bc3cb10>"
      ]
     },
     "metadata": {},
     "output_type": "display_data"
    },
    {
     "data": {
      "text/html": [
       "<a href=\"http://www.imdb.com/title/tt1201607/\" target=\"_blank\">Harry Potter and the Deathly Hallows: Part 2 (IMDB)</a>"
      ],
      "text/plain": [
       "<IPython.core.display.HTML object>"
      ]
     },
     "metadata": {},
     "output_type": "display_data"
    },
    {
     "data": {
      "text/html": [
       "\n",
       "        <iframe\n",
       "            width=\"560\"\n",
       "            height=\"315\"\n",
       "            src=\"https://www.youtube.com/embed/lAxgztbYDbs/\"\n",
       "            frameborder=\"0\"\n",
       "            allowfullscreen\n",
       "            \n",
       "        ></iframe>\n",
       "        "
      ],
      "text/plain": [
       "<IPython.lib.display.IFrame at 0xffff69aa4150>"
      ]
     },
     "metadata": {},
     "output_type": "display_data"
    },
    {
     "data": {
      "text/html": [
       "<a href=\"http://www.imdb.com/title/tt0304141/\" target=\"_blank\">Harry Potter and the Prisoner of Azkaban (IMDB)</a>"
      ],
      "text/plain": [
       "<IPython.core.display.HTML object>"
      ]
     },
     "metadata": {},
     "output_type": "display_data"
    },
    {
     "data": {
      "text/html": [
       "\n",
       "        <iframe\n",
       "            width=\"560\"\n",
       "            height=\"315\"\n",
       "            src=\"https://www.youtube.com/embed/63KfQ88rtiI/\"\n",
       "            frameborder=\"0\"\n",
       "            allowfullscreen\n",
       "            \n",
       "        ></iframe>\n",
       "        "
      ],
      "text/plain": [
       "<IPython.lib.display.IFrame at 0xffff6928d910>"
      ]
     },
     "metadata": {},
     "output_type": "display_data"
    },
    {
     "data": {
      "text/html": [
       "<a href=\"http://www.imdb.com/title/tt0373889/\" target=\"_blank\">Harry Potter and the Order of the Phoenix (IMDB)</a>"
      ],
      "text/plain": [
       "<IPython.core.display.HTML object>"
      ]
     },
     "metadata": {},
     "output_type": "display_data"
    }
   ],
   "source": [
    "#4896,Harry Potter and the Philosopher's Stone\n",
    "recs = get_recs(4896)\n",
    "display_posters(recs)\n",
    "display_recs(recs)"
   ]
  },
  {
   "cell_type": "markdown",
   "metadata": {},
   "source": [
    "<a id='3'></a>\n",
    "## 3. Tear Down\n",
    "\n",
    "Once we complete the the lab we can stop all the services"
   ]
  },
  {
   "cell_type": "markdown",
   "metadata": {},
   "source": [
    "<a id='3.1'></a>\n",
    "### 3.1 Stop Hadoop\n",
    "Stop Hadoop <a href=\"http://localhost:2024/\">here </a>\n",
    "<p>\n",
    "<img style=\"width:48px\" src=\"https://cdn.iconscout.com/icon/free/png-256/free-hadoop-226007.png\" /> \n",
    "</p>"
   ]
  }
 ],
 "metadata": {
  "kernelspec": {
   "display_name": "Python 3 (ipykernel)",
   "language": "python",
   "name": "python3"
  },
  "language_info": {
   "codemirror_mode": {
    "name": "ipython",
    "version": 3
   },
   "file_extension": ".py",
   "mimetype": "text/x-python",
   "name": "python",
   "nbconvert_exporter": "python",
   "pygments_lexer": "ipython3",
   "version": "3.11.2"
  }
 },
 "nbformat": 4,
 "nbformat_minor": 4
}
