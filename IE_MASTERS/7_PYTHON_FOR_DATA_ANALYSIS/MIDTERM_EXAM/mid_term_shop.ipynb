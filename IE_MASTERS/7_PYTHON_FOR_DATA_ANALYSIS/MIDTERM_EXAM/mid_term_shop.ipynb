{
 "cells": [
  {
   "cell_type": "markdown",
   "metadata": {},
   "source": [
    "# Mid-term exam.\n",
    "\n",
    "Rules:\n",
    "- The time limit is 80 minutes.\n",
    "- Every solution must be written in Python, and the result must be printed or returned.\n",
    "- 5 minutes before the end, a warning will be given to submit what you have so far. No submissions will be accepted after the end of the exam.\n",
    "- You can resubmit as many times as you want.\n",
    "- The exam is open-book, open-notes, open-internet, open-everything. Except for discussing with another person by any means, sharing solutions or using AI in any form.\n",
    "    - The student that uses AI to solve the questions will fail immediately and reported to the university.\n",
    "- If you have a question, please raise your hand. I will come to you.\n",
    "- For every exercise the solution is provided, but you need to write the code to solve it.\n",
    "- If you can't get a solution, you can copy the solution provided, but you will get only 25% of the points.\n",
    "\n",
    "\n",
    "Submission:\n",
    "- Before the end of the exam, submit the exam using the link provided in the mid-term exam announcement.\n",
    "- Only submit the completed notebook, no other files are needed, only the `.ipynb` file."
   ]
  },
  {
   "cell_type": "markdown",
   "metadata": {},
   "source": [
    "## Exam theme\n",
    "\n",
    "You are the owner of an online shop. Answer the questions below using the data provided in each question.\n",
    "\n",
    "If you get stuck in a question please move to the next one and come back to the question later if you have time or use the solution provided to answer the question, with the 75% penalty."
   ]
  },
  {
   "cell_type": "markdown",
   "metadata": {},
   "source": [
    "## Question 1 (1 point)\n",
    "\n",
    "Save your first name in a variable called `name` and print it."
   ]
  },
  {
   "cell_type": "code",
   "execution_count": 1,
   "metadata": {},
   "outputs": [
    {
     "name": "stdout",
     "output_type": "stream",
     "text": [
      "Spencer\n"
     ]
    }
   ],
   "source": [
    "# your code here\n",
    "name = 'Spencer'\n",
    "\n",
    "print(name)"
   ]
  },
  {
   "cell_type": "markdown",
   "metadata": {},
   "source": [
    " ## Question 2 (1 point)\n",
    "\n",
    "Save the number of characters of your name in a variable called `name_length` and print it. Only count the letters, ignore spaces."
   ]
  },
  {
   "cell_type": "code",
   "execution_count": 2,
   "metadata": {},
   "outputs": [
    {
     "name": "stdout",
     "output_type": "stream",
     "text": [
      "7\n"
     ]
    }
   ],
   "source": [
    "# your code here\n",
    "name_length = len(name)\n",
    "print(name_length)"
   ]
  },
  {
   "cell_type": "markdown",
   "metadata": {},
   "source": [
    "## Question 3 (1 point)\n",
    "\n",
    "The sales of a certain product for the past 14 days are given below. Find the average daily sales and save it in a variable called `average_sales`.\n",
    "\n",
    "Calculate the average sales, save the result in a variable called `average_sales_14d` and print it.\n",
    "\n",
    "The solution is `1522.8571428571428`"
   ]
  },
  {
   "cell_type": "code",
   "execution_count": 3,
   "metadata": {},
   "outputs": [],
   "source": [
    "sales_14d = [1000, 1300, 1400, 1340, 1560, 1670, 1900, 1670, 1450, 1560, 1340, 1560, 1670, 1900]"
   ]
  },
  {
   "cell_type": "code",
   "execution_count": 4,
   "metadata": {},
   "outputs": [
    {
     "name": "stdout",
     "output_type": "stream",
     "text": [
      "1522.857142857143\n"
     ]
    }
   ],
   "source": [
    "# your code here\n",
    "average_sales = sum(sales_14d) / len(sales_14d)\n",
    "\n",
    "print(average_sales)"
   ]
  },
  {
   "cell_type": "markdown",
   "metadata": {},
   "source": [
    "## Question 4 (1 point)\n",
    "\n",
    "The units sold and prices of the products sold today are given below.\n",
    "\n",
    "Put together the information in a dictionary where the keys are the product names and the values should be dictionaries with the keys `units_sold` and `price_per_unit`.\n",
    "\n",
    "Save the dictionary in a variable called `sales_today` and print it.\n",
    "\n",
    "The solution is\n",
    "\n",
    "```python\n",
    "{'product_1': {'units_sold': 115, 'price_per_unit': 10},\n",
    " 'product_2': {'units_sold': 275, 'price_per_unit': 15},\n",
    " 'product_3': {'units_sold': 185, 'price_per_unit': 20}}\n",
    "```"
   ]
  },
  {
   "cell_type": "code",
   "execution_count": 5,
   "metadata": {},
   "outputs": [],
   "source": [
    "units_sold = {\n",
    "    'product_1': 115,\n",
    "    'product_2': 275,\n",
    "    'product_3': 185,\n",
    "}\n",
    "\n",
    "prices_per_unit = {\n",
    "    'product_1': 10,\n",
    "    'product_2': 15,\n",
    "    'product_3': 20,\n",
    "}"
   ]
  },
  {
   "cell_type": "code",
   "execution_count": 16,
   "metadata": {},
   "outputs": [],
   "source": [
    "# your code here\n",
    "sales_today = {\n",
    "    'product_1': {\n",
    "        'units_sold': 115,\n",
    "        'prices_per_unit': 10\n",
    "    },\n",
    "    'product_2': {\n",
    "        'units_sold': 275,\n",
    "        'prices_per_unit': 15\n",
    "    },\n",
    "    'priduct_3': {\n",
    "        'units_sold': 185,\n",
    "        'prices_per_unit': 20\n",
    "    }\n",
    "}\n"
   ]
  },
  {
   "cell_type": "markdown",
   "metadata": {},
   "source": [
    "## Question 5 (1 point)\n",
    "\n",
    "Using `sales_today`, calculate the total sales of today and save it in a variable called `total_revenue_today`.\n",
    "\n",
    "You can calculate the total sales by multiplying the units sold by the price per unit for each product and summing all the results.\n",
    "\n",
    "If you couldn't solve question 4, you can use the solution of question 4 to calculate the total revenue.\n",
    "\n",
    "The solution is `8975`"
   ]
  },
  {
   "cell_type": "code",
   "execution_count": 28,
   "metadata": {},
   "outputs": [
    {
     "name": "stdout",
     "output_type": "stream",
     "text": [
      "8975\n"
     ]
    }
   ],
   "source": [
    "# your code here\n",
    "total_revenue_today = 0\n",
    "for product, sales in sales_today.items():\n",
    "    revenue = sales['prices_per_unit'] * sales['units_sold']\n",
    "    total_revenue_today += revenue\n",
    "\n",
    "print(total_revenue_today)\n"
   ]
  },
  {
   "cell_type": "markdown",
   "metadata": {},
   "source": [
    "## Question 6 (1 point)\n",
    "\n",
    "Please calculate the growth as a percentage in sales between today's sales and the average of the last 14 days.\n",
    "\n",
    "Use the formula:\n",
    "\n",
    "$$\\text{growth (\\%)} = 100 \\cdot \\frac{\\text{today's sales} - \\text{average of the last 14 days}}{\\text{average of the last 14 days}}$$\n",
    "\n",
    "Save the result in a variable called `sales_growth` and print it.\n",
    "\n",
    "The solution is `489.35272045028137`"
   ]
  },
  {
   "cell_type": "code",
   "execution_count": 29,
   "metadata": {},
   "outputs": [
    {
     "name": "stdout",
     "output_type": "stream",
     "text": [
      "489.35272045028137\n"
     ]
    }
   ],
   "source": [
    "# your code here\n",
    "\n",
    "sales_growth = 100 * (total_revenue_today - average_sales) / average_sales\n",
    "\n",
    "print(sales_growth)"
   ]
  },
  {
   "cell_type": "markdown",
   "metadata": {},
   "source": [
    "## Question 7 (1 point)\n",
    "\n",
    "We just got access to more data from another shop in the last 14 days. See the data below:"
   ]
  },
  {
   "cell_type": "code",
   "execution_count": 30,
   "metadata": {},
   "outputs": [],
   "source": [
    "other_shop = {\n",
    "    '2024-11-23': {'sales': 1488.71, 'advertising': 379.27, 'cost of goods': 263.07},\n",
    "    '2024-11-24': {'sales': 1860.75, 'advertising': 498.5, 'cost of goods': 292.0},\n",
    "    '2024-11-25': {'sales': 1080.61, 'advertising': 310.54, 'cost of goods': 296.13},\n",
    "    '2024-11-26': {'sales': 1130.4, 'advertising': 140.23, 'cost of goods': 285.85},\n",
    "    '2024-11-27': {'sales': 1308.59, 'advertising': 391.04, 'cost of goods': 272.57},\n",
    "    '2024-11-28': {'sales': 1646.95, 'advertising': 327.33, 'cost of goods': 272.24},\n",
    "    '2024-11-29': {'sales': 1537.86, 'advertising': 191.75, 'cost of goods': 254.92},\n",
    "    '2024-11-30': {'sales': 1004.64, 'advertising': 464.16, 'cost of goods': 273.96},\n",
    "    '2024-12-01': {'sales': 1908.7, 'advertising': 489.26, 'cost of goods': 220.77},\n",
    "    '2024-12-02': {'sales': 1709.42, 'advertising': 330.66, 'cost of goods': 244.0},\n",
    "    '2024-12-03': {'sales': 1646.18, 'advertising': 164.41, 'cost of goods': 241.83},\n",
    "    '2024-12-04': {'sales': 1510.17, 'advertising': 355.12, 'cost of goods': 277.74},\n",
    "    '2024-12-05': {'sales': 1665.24, 'advertising': 205.34, 'cost of goods': 213.84},\n",
    "    '2024-12-06': {'sales': 1471.31, 'advertising': 126.32, 'cost of goods': 229.89}\n",
    "}"
   ]
  },
  {
   "cell_type": "markdown",
   "metadata": {},
   "source": [
    "Given the data, please return a list of tuples, where the first element of each tuple is the date and the second element is the total profit of that day.\n",
    "\n",
    "You can calculate the profit by using the formula:\n",
    "\n",
    "$$ \\text{Profit} = \\text{Sales} - \\text{Cost of goods} - \\text{Advertising} $$\n",
    "\n",
    "Save the result under the variable `profit_per_date` and print it.\n",
    "\n",
    "The solution is:\n",
    "\n",
    "```python\n",
    "[('2024-11-23', 846.3700000000001),\n",
    " ('2024-11-24', 1070.25),\n",
    " ('2024-11-25', 473.93999999999994),\n",
    " ('2024-11-26', 704.32),\n",
    " ('2024-11-27', 644.98),\n",
    " ('2024-11-28', 1047.38),\n",
    " ('2024-11-29', 1091.1899999999998),\n",
    " ('2024-11-30', 266.52000000000004),\n",
    " ('2024-12-01', 1198.67),\n",
    " ('2024-12-02', 1134.76),\n",
    " ('2024-12-03', 1239.94),\n",
    " ('2024-12-04', 877.3100000000002),\n",
    " ('2024-12-05', 1246.0600000000002),\n",
    " ('2024-12-06', 1115.1)]\n",
    "```"
   ]
  },
  {
   "cell_type": "code",
   "execution_count": 34,
   "metadata": {},
   "outputs": [
    {
     "data": {
      "text/plain": [
       "[('2024-11-23', 846.3700000000001),\n",
       " ('2024-11-24', 1070.25),\n",
       " ('2024-11-25', 473.9399999999999),\n",
       " ('2024-11-26', 704.32),\n",
       " ('2024-11-27', 644.98),\n",
       " ('2024-11-28', 1047.38),\n",
       " ('2024-11-29', 1091.1899999999998),\n",
       " ('2024-11-30', 266.52000000000004),\n",
       " ('2024-12-01', 1198.67),\n",
       " ('2024-12-02', 1134.76),\n",
       " ('2024-12-03', 1239.94),\n",
       " ('2024-12-04', 877.3100000000001),\n",
       " ('2024-12-05', 1246.0600000000002),\n",
       " ('2024-12-06', 1115.1000000000001)]"
      ]
     },
     "execution_count": 34,
     "metadata": {},
     "output_type": "execute_result"
    }
   ],
   "source": [
    "# your code here\n",
    "profit_per_date = []\n",
    "for date, info in other_shop.items():\n",
    "    profit = info['sales'] - info['cost of goods'] - info['advertising']\n",
    "    profit_per_date.append((date, profit))\n",
    "\n",
    "profit_per_date"
   ]
  },
  {
   "cell_type": "markdown",
   "metadata": {},
   "source": [
    "## Question 8 (1 point)\n",
    "\n",
    "Convert the variable `profit_per_date` to a dictionary called `profit_per_date_dict` and print it.\n",
    "\n",
    "If you couldn't solve question 7, you can use the solution of question 7 to convert it to a dictionary.\n",
    "\n",
    "The solution is:\n",
    "\n",
    "```python\n",
    "{'2024-11-23': 846.3700000000001,\n",
    " '2024-11-24': 1070.25,\n",
    " '2024-11-25': 473.93999999999994,\n",
    " '2024-11-26': 704.32,\n",
    " '2024-11-27': 644.98,\n",
    " '2024-11-28': 1047.38,\n",
    " '2024-11-29': 1091.1899999999998,\n",
    " '2024-11-30': 266.52000000000004,\n",
    " '2024-12-01': 1198.67,\n",
    " '2024-12-02': 1134.76,\n",
    " '2024-12-03': 1239.94,\n",
    " '2024-12-04': 877.3100000000002,\n",
    " '2024-12-05': 1246.0600000000002,\n",
    " '2024-12-06': 1115.1}\n",
    "```"
   ]
  },
  {
   "cell_type": "code",
   "execution_count": 37,
   "metadata": {},
   "outputs": [
    {
     "data": {
      "text/plain": [
       "{'2024-11-23': 846.3700000000001,\n",
       " '2024-11-24': 1070.25,\n",
       " '2024-11-25': 473.9399999999999,\n",
       " '2024-11-26': 704.32,\n",
       " '2024-11-27': 644.98,\n",
       " '2024-11-28': 1047.38,\n",
       " '2024-11-29': 1091.1899999999998,\n",
       " '2024-11-30': 266.52000000000004,\n",
       " '2024-12-01': 1198.67,\n",
       " '2024-12-02': 1134.76,\n",
       " '2024-12-03': 1239.94,\n",
       " '2024-12-04': 877.3100000000001,\n",
       " '2024-12-05': 1246.0600000000002,\n",
       " '2024-12-06': 1115.1000000000001}"
      ]
     },
     "execution_count": 37,
     "metadata": {},
     "output_type": "execute_result"
    }
   ],
   "source": [
    "# your code here\n",
    "profit_per_date_dict = dict(profit_per_date)\n",
    "profit_per_date_dict"
   ]
  },
  {
   "cell_type": "markdown",
   "metadata": {},
   "source": [
    "## Question 9 (1 point)\n",
    "\n",
    "Create 3 functions, one for each of the following tasks:\n",
    "\n",
    "* A function called `highest_profit_day` that receives the dictionary `profit_per_date_dict` and returns the date with the highest profit.\n",
    "* A function called `lowest_profit_day` that receives the dictionary `profit_per_date_dict` and returns the date with the lowest profit.\n",
    "* A function called `average_profit` that receives the dictionary `profit_per_date_dict` and returns the average profit of the last 14 days.\n",
    "\n",
    "Use the functions to extract the information, save them in the variables `highest_profit_date`, `lowest_profit_date` and `average_profit_value` and print them.\n",
    "\n",
    "The solution is:\n",
    "\n",
    "```python\n",
    "highest_profit_date: '2024-12-05'\n",
    "lowest_profit_date: '2024-11-30'\n",
    "average_profit_value: 925.4849999999999\n",
    "```"
   ]
  },
  {
   "cell_type": "code",
   "execution_count": 38,
   "metadata": {},
   "outputs": [
    {
     "name": "stdout",
     "output_type": "stream",
     "text": [
      "2024-12-05\n"
     ]
    }
   ],
   "source": [
    "# your code here\n",
    "def highest_profit_day(data):\n",
    "    return max(data, key = data.get)\n",
    "\n",
    "print(highest_profit_day(profit_per_date_dict))"
   ]
  },
  {
   "cell_type": "code",
   "execution_count": 39,
   "metadata": {},
   "outputs": [
    {
     "name": "stdout",
     "output_type": "stream",
     "text": [
      "2024-11-30\n"
     ]
    }
   ],
   "source": [
    "def lowest_profit_day(data):\n",
    "    return min(data, key = data.get)\n",
    "\n",
    "print(lowest_profit_day(profit_per_date_dict))"
   ]
  },
  {
   "cell_type": "code",
   "execution_count": 40,
   "metadata": {},
   "outputs": [
    {
     "name": "stdout",
     "output_type": "stream",
     "text": [
      "925.4849999999999\n"
     ]
    }
   ],
   "source": [
    "def average_profit(data):\n",
    "    profits = list(data.values())\n",
    "    average = sum(profits) / len(profits)\n",
    "    return average\n",
    "\n",
    "print(average_profit(profit_per_date_dict))"
   ]
  },
  {
   "cell_type": "markdown",
   "metadata": {},
   "source": [
    "## Question 10 (1 point)\n",
    "\n",
    "Create a function called `cummulative_profit` that receives the dictionary `profit_per_date_dict` and returns a dictionary with the cummulative profit of each day.\n",
    "\n",
    "For example, if the profits during 4 days are `[1, 2, 3, 4]`, the cummulative profit should be `[1, 3, 6, 10]`. Apply that to the dictionary `profit_per_date_dict` and save the result in a variable called `cummulative_profit_per_date_dict` and print it.\n",
    "\n",
    "The solution for is:\n",
    "\n",
    "```python\n",
    "{'2024-11-23': 846.3700000000001,\n",
    " '2024-11-24': 1916.6200000000001,\n",
    " '2024-11-25': 2390.56,\n",
    " '2024-11-26': 3094.88,\n",
    " '2024-11-27': 3739.86,\n",
    " '2024-11-28': 4787.24,\n",
    " '2024-11-29': 5878.429999999999,\n",
    " '2024-11-30': 6144.95,\n",
    " '2024-12-01': 7343.62,\n",
    " '2024-12-02': 8478.38,\n",
    " '2024-12-03': 9718.32,\n",
    " '2024-12-04': 10595.63,\n",
    " '2024-12-05': 11841.689999999999,\n",
    " '2024-12-06': 12956.789999999999}\n",
    "```"
   ]
  },
  {
   "cell_type": "code",
   "execution_count": 41,
   "metadata": {},
   "outputs": [
    {
     "data": {
      "text/plain": [
       "{'2024-11-23': 846.3700000000001,\n",
       " '2024-11-24': 1916.6200000000001,\n",
       " '2024-11-25': 2390.56,\n",
       " '2024-11-26': 3094.88,\n",
       " '2024-11-27': 3739.86,\n",
       " '2024-11-28': 4787.24,\n",
       " '2024-11-29': 5878.429999999999,\n",
       " '2024-11-30': 6144.95,\n",
       " '2024-12-01': 7343.62,\n",
       " '2024-12-02': 8478.38,\n",
       " '2024-12-03': 9718.32,\n",
       " '2024-12-04': 10595.63,\n",
       " '2024-12-05': 11841.689999999999,\n",
       " '2024-12-06': 12956.789999999999}"
      ]
     },
     "execution_count": 41,
     "metadata": {},
     "output_type": "execute_result"
    }
   ],
   "source": [
    "# your code here\n",
    "def cumulative_profit(data):\n",
    "    profit = 0\n",
    "    cumulative_profit_per_date_dict = {}\n",
    "\n",
    "    for date in data:\n",
    "        profit += data[date]\n",
    "        cumulative_profit_per_date_dict[date] = profit\n",
    "    \n",
    "    return cumulative_profit_per_date_dict\n",
    "\n",
    "cumulative_profit(profit_per_date_dict)"
   ]
  },
  {
   "cell_type": "markdown",
   "metadata": {},
   "source": [
    "## Question 11 (1 point)\n",
    "\n",
    "Using `profit_per_date_dict` calculate the total profit of the last 14 days and save it in a variable called `total_profit_14d` and print it.\n",
    "\n",
    "The solution is `12956.789999999999`"
   ]
  },
  {
   "cell_type": "code",
   "execution_count": 44,
   "metadata": {},
   "outputs": [
    {
     "name": "stdout",
     "output_type": "stream",
     "text": [
      "12956.789999999999\n"
     ]
    }
   ],
   "source": [
    "# your code here\n",
    "total_profit_14d = sum(profit_per_date_dict.values())\n",
    "print(total_profit_14d)"
   ]
  },
  {
   "cell_type": "markdown",
   "metadata": {},
   "source": [
    "## Question 12 (1 point)\n",
    "\n",
    "A new tax law has been passed and the tax will depend on the day of the week. The tax for each day of the week is given below: it represents the portion of the profit that should be paid as tax.\n",
    "\n",
    "For example, if the profit is 100 and the tax is 0.3, the amount to pay is 30.\n",
    "\n",
    "Create a function called `tax_calculator` that receives the dictionary `profit_per_date_dict` and the dictionary `tax_per_weekday` and returns a dictionary with the amount of tax to pay for each on the last 14 days.\n",
    "\n",
    "Save the result in a variable called `taxes_per_day` and print it.\n",
    "\n",
    "The solution is\n",
    "```python\n",
    "{'2024-11-23': 253.91100000000003,\n",
    " '2024-11-24': 428.1,\n",
    " '2024-11-25': 189.576,\n",
    " '2024-11-26': 70.432,\n",
    " '2024-11-27': 128.996,\n",
    " '2024-11-28': 209.47600000000003,\n",
    " '2024-11-29': 327.3569999999999,\n",
    " '2024-11-30': 79.956,\n",
    " '2024-12-01': 479.4680000000001,\n",
    " '2024-12-02': 453.904,\n",
    " '2024-12-03': 123.99400000000001,\n",
    " '2024-12-04': 175.46200000000005,\n",
    " '2024-12-05': 249.21200000000005,\n",
    " '2024-12-06': 334.53}\n",
    "```\n"
   ]
  },
  {
   "cell_type": "code",
   "execution_count": 45,
   "metadata": {},
   "outputs": [],
   "source": [
    "tax_per_weekday = {'Monday': 0.4, 'Tuesday': 0.1, 'Wednesday': 0.2, 'Thursday': 0.2, 'Friday': 0.3, 'Saturday': 0.3, 'Sunday': 0.4}"
   ]
  },
  {
   "cell_type": "markdown",
   "metadata": {},
   "source": [
    "You can extract the day of the week from the date using the following code:"
   ]
  },
  {
   "cell_type": "code",
   "execution_count": 46,
   "metadata": {},
   "outputs": [
    {
     "name": "stdout",
     "output_type": "stream",
     "text": [
      "Sunday\n"
     ]
    }
   ],
   "source": [
    "from datetime import datetime\n",
    "\n",
    "# example date\n",
    "date_object = datetime.strptime('2024-11-24', '%Y-%m-%d')\n",
    "\n",
    "# extract the name of the day\n",
    "day_name = date_object.strftime('%A')\n",
    "\n",
    "print(day_name)"
   ]
  },
  {
   "cell_type": "code",
   "execution_count": 50,
   "metadata": {},
   "outputs": [
    {
     "data": {
      "text/plain": [
       "{'2024-11-23': 253.91100000000003,\n",
       " '2024-11-24': 428.1,\n",
       " '2024-11-25': 189.57599999999996,\n",
       " '2024-11-26': 70.432,\n",
       " '2024-11-27': 128.996,\n",
       " '2024-11-28': 209.47600000000003,\n",
       " '2024-11-29': 327.3569999999999,\n",
       " '2024-11-30': 79.956,\n",
       " '2024-12-01': 479.4680000000001,\n",
       " '2024-12-02': 453.904,\n",
       " '2024-12-03': 123.99400000000001,\n",
       " '2024-12-04': 175.46200000000002,\n",
       " '2024-12-05': 249.21200000000005,\n",
       " '2024-12-06': 334.53000000000003}"
      ]
     },
     "execution_count": 50,
     "metadata": {},
     "output_type": "execute_result"
    }
   ],
   "source": [
    "# your code here\n",
    "def tax_calculator(data, taxes):\n",
    "    taxes_per_day = {}\n",
    "    for date, profit in data.items():\n",
    "        dt = datetime.strptime(date, '%Y-%m-%d')\n",
    "        day = dt.strftime('%A')\n",
    "\n",
    "        for tax_date, tax in taxes.items():\n",
    "            if day == tax_date:\n",
    "                taxes_per_day[date] = profit * tax\n",
    "    \n",
    "    return taxes_per_day\n",
    "\n",
    "tax_calculator(profit_per_date_dict, tax_per_weekday)\n",
    "            "
   ]
  },
  {
   "cell_type": "markdown",
   "metadata": {},
   "source": [
    "## Question 13 (1 point)\n",
    "\n",
    "The data of which clients bought which products is given below, for the last 3 days."
   ]
  },
  {
   "cell_type": "code",
   "execution_count": 51,
   "metadata": {},
   "outputs": [],
   "source": [
    "client_purchases = {\n",
    "    '2024-11-24': {\n",
    "        'client_1': ['product_3', 'product_2'],\n",
    "        'client_2': ['product_1', 'product_3'],\n",
    "    },\n",
    "    '2024-11-25': {\n",
    "        'client_2': ['product_1', 'product_2'],\n",
    "        'client_3': ['product_3', 'product_2'],\n",
    "    },\n",
    "    '2024-11-26': {\n",
    "        'client_4': ['product_1', 'product_3'],\n",
    "        'client_1': ['product_1', 'product_2'],\n",
    "    },\n",
    "}"
   ]
  },
  {
   "cell_type": "markdown",
   "metadata": {},
   "source": [
    "Please return a dictionary where the keys are the clients, and the values are **the unique products they bought, in a list**.\n",
    "\n",
    "Save the result in a variable called `customer_purchases_dict` and print it.\n",
    "\n",
    "The solution is:\n",
    "\n",
    "```python\n",
    "{'client_1': ['product_2', 'product_3', 'product_1'],\n",
    " 'client_2': ['product_2', 'product_3', 'product_1'],\n",
    " 'client_3': ['product_2', 'product_3'],\n",
    " 'client_4': ['product_3', 'product_1']}\n",
    "```"
   ]
  },
  {
   "cell_type": "code",
   "execution_count": 77,
   "metadata": {},
   "outputs": [
    {
     "data": {
      "text/plain": [
       "{'client_1': {'product_1', 'product_2', 'product_3'},\n",
       " 'client_2': {'product_1', 'product_2', 'product_3'},\n",
       " 'client_3': {'product_2', 'product_3'},\n",
       " 'client_4': {'product_1', 'product_3'}}"
      ]
     },
     "execution_count": 77,
     "metadata": {},
     "output_type": "execute_result"
    }
   ],
   "source": [
    "# your code here\n",
    "customer_purchases_dict = {}\n",
    "for day, entry in client_purchases.items():\n",
    "    for client, product in entry.items():\n",
    "        if client in customer_purchases_dict:\n",
    "            customer_purchases_dict[client].update(product)\n",
    "        else:\n",
    "            customer_purchases_dict[client] = set(product)\n",
    "\n",
    "customer_purchases_dict"
   ]
  },
  {
   "cell_type": "markdown",
   "metadata": {},
   "source": [
    "## Question 14 (1 point)\n",
    "\n",
    "Using the dictionary `customer_purchases_dict`, what is the most sold product in the last 3 days?\n",
    "\n",
    "Save the result in a variable called `most_sold_product` and print it.\n",
    "\n",
    "If you couldn't solve question 13, you can use the solution of question 13 to calculate the most sold product.\n",
    "\n",
    "The solution is `product_3`"
   ]
  },
  {
   "cell_type": "code",
   "execution_count": 81,
   "metadata": {},
   "outputs": [
    {
     "name": "stdout",
     "output_type": "stream",
     "text": [
      "product_3\n"
     ]
    }
   ],
   "source": [
    "# your code here\n",
    "products_sold_count = {}\n",
    "for client, products in customer_purchases_dict.items():\n",
    "    for product in products:\n",
    "        if product in products_sold_count:\n",
    "            products_sold_count[product] += 1\n",
    "        else:\n",
    "            products_sold_count[product] = 1\n",
    "\n",
    "most_sold_product = max(products_sold_count, key = products_sold_count.get)\n",
    "\n",
    "print(most_sold_product)"
   ]
  },
  {
   "cell_type": "markdown",
   "metadata": {},
   "source": [
    "## Question 15 (1 point, open-ended question)\n",
    "\n",
    "The units sold of `product_3` during october are given below.\n",
    "\n",
    "Is there a specific day of the week where `product_3` is more sold? What about the day of the week where it is less sold?"
   ]
  },
  {
   "cell_type": "code",
   "execution_count": 82,
   "metadata": {},
   "outputs": [],
   "source": [
    "october_sales_product_3 = {\n",
    "    '2023-10-01': 1283.53,\n",
    "    '2023-10-02': 1073.19,\n",
    "    '2023-10-03': 936.13,\n",
    "    '2023-10-04': 822.48,\n",
    "    '2023-10-05': 649.52,\n",
    "    '2023-10-06': 855.0,\n",
    "    '2023-10-07': 923.24,\n",
    "    '2023-10-08': 1244.66,\n",
    "    '2023-10-09': 976.1,\n",
    "    '2023-10-10': 952.62,\n",
    "    '2023-10-11': 727.78,\n",
    "    '2023-10-12': 762.68,\n",
    "    '2023-10-13': 843.27,\n",
    "    '2023-10-14': 965.8,\n",
    "    '2023-10-15': 1189.14,\n",
    "    '2023-10-16': 992.94,\n",
    "    '2023-10-17': 881.85,\n",
    "    '2023-10-18': 720.48,\n",
    "    '2023-10-19': 734.01,\n",
    "    '2023-10-20': 847.85,\n",
    "    '2023-10-21': 812.48,\n",
    "    '2023-10-22': 1101.24,\n",
    "    '2023-10-23': 1058.19,\n",
    "    '2023-10-24': 827.03,\n",
    "    '2023-10-25': 746.97,\n",
    "    '2023-10-26': 747.77,\n",
    "    '2023-10-27': 725.0,\n",
    "    '2023-10-28': 975.98,\n",
    "    '2023-10-29': 1258.27,\n",
    "    '2023-10-30': 931.31\n",
    "}"
   ]
  },
  {
   "cell_type": "code",
   "execution_count": 90,
   "metadata": {},
   "outputs": [
    {
     "name": "stdout",
     "output_type": "stream",
     "text": [
      "Product_3 was most sold on Sunday's with an average of 1215.368\n",
      "Product_3 was least sold on Thursday's with an average of 723.495\n"
     ]
    }
   ],
   "source": [
    "# your code here\n",
    "day_of_week_counter = {}\n",
    "\n",
    "unique_days = set()\n",
    "for date, units in october_sales_product_3.items():\n",
    "    dt = datetime.strptime(date, '%Y-%m-%d')\n",
    "    day_name = dt.strftime('%A')\n",
    "    unique_days.add(day_name)\n",
    "\n",
    "for day in unique_days:\n",
    "    test = []\n",
    "\n",
    "    for date, units in october_sales_product_3.items():\n",
    "        dt = datetime.strptime(date, '%Y-%m-%d')\n",
    "        day_name = dt.strftime('%A')\n",
    "\n",
    "        if day_name == day:\n",
    "            test.append(units)\n",
    "\n",
    "    average = sum(test) / len(test)\n",
    "    day_of_week_counter[day] = average\n",
    "\n",
    "day_of_week_counter\n",
    "\n",
    "most_sold = max(day_of_week_counter, key = day_of_week_counter.get)\n",
    "least_sold = min(day_of_week_counter, key = day_of_week_counter.get)\n",
    "\n",
    "print(f\"Product_3 was most sold on {most_sold}'s with an average of {day_of_week_counter[most_sold]}\")\n",
    "print(f\"Product_3 was least sold on {least_sold}'s with an average of {day_of_week_counter[least_sold]}\")"
   ]
  }
 ],
 "metadata": {
  "kernelspec": {
   "display_name": "Python 3",
   "language": "python",
   "name": "python3"
  },
  "language_info": {
   "codemirror_mode": {
    "name": "ipython",
    "version": 3
   },
   "file_extension": ".py",
   "mimetype": "text/x-python",
   "name": "python",
   "nbconvert_exporter": "python",
   "pygments_lexer": "ipython3",
   "version": "3.8.2"
  }
 },
 "nbformat": 4,
 "nbformat_minor": 2
}
