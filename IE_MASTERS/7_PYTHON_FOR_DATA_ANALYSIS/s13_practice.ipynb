{
 "cells": [
  {
   "cell_type": "markdown",
   "metadata": {},
   "source": [
    "# Session 13: More problems\n",
    "\n",
    "* Conditional + Loops + Functions"
   ]
  },
  {
   "cell_type": "markdown",
   "metadata": {},
   "source": [
    "## Problem 1\n",
    "\n",
    "Create a function that receives 2 tuples that contains the coordinates of 2 points $(x_1, y_1), (x_2, y_2)$ in the Cartesian plane and returns the distance between them.\n",
    "\n",
    "Use the Euclidean distance formula:\n",
    "\n",
    "$$d = \\sqrt{(x_2 - x_1)^2 + (y_2 - y_1)^2}$$\n",
    "\n",
    "The 2 values in each of the points are the x and y coordinates, called latitude and longitude."
   ]
  },
  {
   "cell_type": "code",
   "execution_count": 24,
   "metadata": {},
   "outputs": [
    {
     "name": "stdout",
     "output_type": "stream",
     "text": [
      "2.8284271247461903\n"
     ]
    }
   ],
   "source": [
    "def distance(point1, point2):\n",
    "    return ((point2[0] - point1[0])**2 + (point2[1] - point1[1])**2)**(1/2)\n",
    "\n",
    "print(distance((1, 2), (3, 4)))"
   ]
  },
  {
   "cell_type": "markdown",
   "metadata": {},
   "source": [
    "## Problem 2\n",
    "\n",
    "We have two lists, one with latitude values and another with longitude values. They represent the trajectories of a vehicle in a map.\n",
    "\n",
    "```python\n",
    "latitudes = [40.7128, 40.7357, 40.7300, 40.7223, 40.7181]\n",
    "longitudes = [-74.0060, -74.0036, -73.9963, -73.9871, -73.9563]\n",
    "```\n",
    "\n",
    "Create a function that receives these two lists and returns a list of tuples with the coordinates of the points.\n",
    "\n",
    "For this case, the function should return:\n",
    "\n",
    "```python\n",
    "[(40.7128, -74.006), (40.7357, -74.0036), (40.73, -73.9963), (40.7223, -73.9871), (40.7181, -73.9563)]\n",
    "```"
   ]
  },
  {
   "cell_type": "code",
   "execution_count": 2,
   "metadata": {},
   "outputs": [
    {
     "name": "stdout",
     "output_type": "stream",
     "text": [
      "[(40.7128, -74.006), (40.7357, -74.0036), (40.73, -73.9963), (40.7223, -73.9871), (40.7181, -73.9563)]\n"
     ]
    }
   ],
   "source": [
    "def coord(latitudes, longitudes):\n",
    "    return list(zip(latitudes, longitudes))\n",
    "\n",
    "latitudes = [40.7128, 40.7357, 40.7300, 40.7223, 40.7181]\n",
    "longitudes = [-74.0060, -74.0036, -73.9963, -73.9871, -73.9563]\n",
    "\n",
    "print(coord(latitudes, longitudes))"
   ]
  },
  {
   "cell_type": "markdown",
   "metadata": {},
   "source": [
    "## Problem 3\n",
    "\n",
    "Create a function that receives a list of tuples with the coordinates of the points of a trajectory and returns a list of tuples, where each tuple contains the two points that form each piece of the trajectory.\n",
    "\n",
    "In this case, given the following list of tuples:\n",
    "\n",
    "```python\n",
    "[(40.7128, -74.006), (40.7357, -74.0036), (40.73, -73.9963), (40.7223, -73.9871), (40.7181, -73.9563)]\n",
    "```\n",
    "\n",
    "The function should return\n",
    "\n",
    "```python\n",
    "[\n",
    "    [(40.7128, -74.006), (40.7357, -74.0036)],\n",
    "    [(40.7357, -74.0036), (40.73, -73.9963)],\n",
    "    [(40.73, -73.9963), (40.7223, -73.9871)],\n",
    "    [(40.7223, -73.9871), (40.7181, -73.9563)]\n",
    "]\n",
    "```"
   ]
  },
  {
   "cell_type": "code",
   "execution_count": 14,
   "metadata": {},
   "outputs": [
    {
     "data": {
      "text/plain": [
       "[[(40.7128, -74.006), (40.7357, -74.0036)],\n",
       " [(40.7357, -74.0036), (40.73, -73.9963)],\n",
       " [(40.73, -73.9963), (40.7223, -73.9871)],\n",
       " [(40.7223, -73.9871), (40.7181, -73.9563)]]"
      ]
     },
     "execution_count": 14,
     "metadata": {},
     "output_type": "execute_result"
    }
   ],
   "source": [
    "def trajectory(list_of_tuples):\n",
    "    return [[list_of_tuples[i], list_of_tuples[i + 1]] for i in range(len(list_of_tuples) - 1)]\n",
    "\n",
    "\n",
    "list_of_tuples = [(40.7128, -74.006), (40.7357, -74.0036), (40.73, -73.9963), (40.7223, -73.9871), (40.7181, -73.9563)]\n",
    "\n",
    "trajectory(list_of_tuples)"
   ]
  },
  {
   "cell_type": "markdown",
   "metadata": {},
   "source": [
    "## Problem 4\n",
    "\n",
    "Given 2 points $(x_1, y_1), (x_2, y_2)$, create a function that returns the angle between the line that connects the points and the x-axis. We'll call this the direction of the movement.\n",
    "\n",
    "For two points $(10, 10), (20, 20)$, the function should return 0.7853981633974483 degrees ($\\pi/4$ radians)."
   ]
  },
  {
   "cell_type": "code",
   "execution_count": null,
   "metadata": {},
   "outputs": [
    {
     "name": "stdout",
     "output_type": "stream",
     "text": [
      "Angle in degrees: 45.0\n",
      "Angle in radians: 0.7853981633974483\n"
     ]
    }
   ],
   "source": [
    "from math import atan2, degrees, pi\n",
    "\n",
    "def angle(piece):\n",
    "    delta_y = piece[1][1] - piece[0][1]\n",
    "    delta_x = piece[1][0] - piece[0][0]\n",
    "    angle_degrees = degrees(atan2(delta_y, delta_x))\n",
    "    angle_radians = angle_degrees * (pi / 180)\n",
    "    return angle_degrees, angle_radians\n",
    "\n",
    "pieces = [\n",
    "    [(10, 10), (20, 20)]\n",
    "]\n",
    "\n",
    "angle_degrees, angle_radians = angle(pieces[0])\n",
    "print(f\"Angle in degrees: {angle_degrees}\")\n",
    "print(f\"Angle in radians: {angle_radians}\")"
   ]
  },
  {
   "cell_type": "markdown",
   "metadata": {},
   "source": [
    "## Problem 5\n",
    "\n",
    "Given a list of tuples with the coordinates of the points of a trajectory, create a function that returns the direction of the movement between each pair of points."
   ]
  },
  {
   "cell_type": "code",
   "execution_count": null,
   "metadata": {},
   "outputs": [
    {
     "name": "stdout",
     "output_type": "stream",
     "text": [
      "[5.982956502802232, 127.98349825529607, 129.92786712746346, 97.76516601842063]\n"
     ]
    }
   ],
   "source": [
    "from math import atan2, degrees\n",
    "\n",
    "def direction_angle(point1, point2):\n",
    "    delta_y = point2[1] - point1[1]\n",
    "    delta_x = point2[0] - point1[0]\n",
    "    angle_radians = atan2(delta_y, delta_x)\n",
    "    angle_degrees = degrees(angle_radians)\n",
    "    return angle_degrees\n",
    "\n",
    "def trajectory_directions(points):\n",
    "    directions = []\n",
    "    for i in range(len(points) - 1):\n",
    "        angle = direction_angle(points[i], points[i + 1])\n",
    "        directions.append(angle)\n",
    "    return directions\n",
    "\n",
    "trajectory_points = [(40.7128, -74.006), (40.7357, -74.0036), (40.73, -73.9963), (40.7223, -73.9871), (40.7181, -73.9563)]\n",
    "directions = trajectory_directions(trajectory_points)\n",
    "print(directions)"
   ]
  }
 ],
 "metadata": {
  "kernelspec": {
   "display_name": "Python 3",
   "language": "python",
   "name": "python3"
  },
  "language_info": {
   "codemirror_mode": {
    "name": "ipython",
    "version": 3
   },
   "file_extension": ".py",
   "mimetype": "text/x-python",
   "name": "python",
   "nbconvert_exporter": "python",
   "pygments_lexer": "ipython3",
   "version": "3.10.6"
  }
 },
 "nbformat": 4,
 "nbformat_minor": 2
}
