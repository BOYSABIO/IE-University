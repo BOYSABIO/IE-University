{
 "cells": [
  {
   "cell_type": "code",
   "execution_count": null,
   "metadata": {},
   "outputs": [],
   "source": [
    "import numpy as np\n",
    "import pandas as pd\n",
    "import matplotlib.pyplot as plt\n",
    "import scipy.stats as st\n",
    "import math"
   ]
  },
  {
   "cell_type": "code",
   "execution_count": 2,
   "metadata": {},
   "outputs": [
    {
     "name": "stdout",
     "output_type": "stream",
     "text": [
      "index          int64\n",
      "LOCATION      object\n",
      "INDICATOR     object\n",
      "SUBJECT       object\n",
      "TIME           int64\n",
      "Value        float64\n",
      "dtype: object\n",
      "   index LOCATION INDICATOR SUBJECT  TIME    Value\n",
      "0      0      AUS  PISAMATH     BOY  2003  527.000\n",
      "1      1      AUS  PISAMATH     BOY  2006  527.000\n",
      "2      2      AUS  PISAMATH     BOY  2009  519.000\n",
      "3      3      AUS  PISAMATH     BOY  2012  510.115\n",
      "4      4      AUS  PISAMATH     BOY  2015  497.000\n"
     ]
    }
   ],
   "source": [
    "path = 'https://raw.githubusercontent.com/prof-apartida/data-exercises/main/'\n",
    "df = pd.read_csv(path + 'OECD_PISA_data.csv')\n",
    "print(df.dtypes)\n",
    "print(df.head())"
   ]
  },
  {
   "cell_type": "code",
   "execution_count": 3,
   "metadata": {},
   "outputs": [
    {
     "name": "stdout",
     "output_type": "stream",
     "text": [
      "    index LOCATION INDICATOR SUBJECT  TIME  Value\n",
      "5       5      AUS  PISAMATH     BOY  2018  494.0\n",
      "16     16      AUT  PISAMATH     BOY  2018  505.0\n",
      "27     27      BEL  PISAMATH     BOY  2018  514.0\n",
      "39     39      CAN  PISAMATH     BOY  2018  514.0\n",
      "51     51      CZE  PISAMATH     BOY  2018  501.0\n"
     ]
    },
    {
     "data": {
      "text/plain": [
       "count     42.000000\n",
       "mean     484.595238\n",
       "std       38.821078\n",
       "min      374.000000\n",
       "25%      482.750000\n",
       "50%      497.000000\n",
       "75%      507.250000\n",
       "max      532.000000\n",
       "Name: Value, dtype: float64"
      ]
     },
     "execution_count": 3,
     "metadata": {},
     "output_type": "execute_result"
    }
   ],
   "source": [
    "new_df = df[df['SUBJECT'] == 'BOY']\n",
    "new_df_girl = new_df[new_df['INDICATOR'] == 'PISAMATH']\n",
    "final = new_df_girl[new_df_girl['TIME'] == 2018]\n",
    "\n",
    "print(final.head())\n",
    "\n",
    "final['Value'].describe()"
   ]
  },
  {
   "cell_type": "code",
   "execution_count": 11,
   "metadata": {},
   "outputs": [
    {
     "name": "stdout",
     "output_type": "stream",
     "text": [
      "    index LOCATION INDICATOR SUBJECT  TIME  Value\n",
      "11     11      AUS  PISAMATH    GIRL  2018  488.0\n",
      "21     21      AUT  PISAMATH    GIRL  2018  492.0\n",
      "33     33      BEL  PISAMATH    GIRL  2018  502.0\n",
      "45     45      CAN  PISAMATH    GIRL  2018  510.0\n",
      "57     57      CZE  PISAMATH    GIRL  2018  498.0\n"
     ]
    },
    {
     "data": {
      "text/plain": [
       "count     42.000000\n",
       "mean     479.428571\n",
       "std       39.903018\n",
       "min      379.000000\n",
       "25%      477.250000\n",
       "50%      491.000000\n",
       "75%      504.500000\n",
       "max      524.000000\n",
       "Name: Value, dtype: float64"
      ]
     },
     "execution_count": 11,
     "metadata": {},
     "output_type": "execute_result"
    }
   ],
   "source": [
    "new_df = df[df['SUBJECT'] == 'GIRL']\n",
    "new_df_girl = new_df[new_df['INDICATOR'] == 'PISAMATH']\n",
    "final = new_df_girl[new_df_girl['TIME'] == 2018]\n",
    "\n",
    "print(final.head())\n",
    "\n",
    "final['Value'].describe()"
   ]
  },
  {
   "cell_type": "code",
   "execution_count": 5,
   "metadata": {},
   "outputs": [
    {
     "name": "stdout",
     "output_type": "stream",
     "text": [
      "sample size for unknown population size:\n",
      "541.0\n",
      "sample size for unknown population size:\n",
      "1503.0\n"
     ]
    }
   ],
   "source": [
    "import scipy.stats as st\n",
    "\n",
    "def sample_calculator(N,CL,p,e):\n",
    "  alpha_half = (1 - CL)/2\n",
    "  Z_score = st.norm.ppf(alpha_half + CL)\n",
    "  n = ((Z_score**2) * p * (1 - p)) / e**2\n",
    "  try:\n",
    "    if N == '?':\n",
    "      print('sample size for unknown population size:')\n",
    "      return round(n,0)\n",
    "    else:\n",
    "      sample_size = n/(1+(((Z_score**2)*p*(1-p))/((e**2)*N)))\n",
    "      print('sample size for known population size:')\n",
    "      print(Z_score)\n",
    "      return round(sample_size,0)\n",
    "  except:\n",
    "    print('Error: check your arguments')\n",
    "\n",
    "\n",
    "#N = Population size (for unknown, make N = '?')\n",
    "#CL = Confidence Level\n",
    "#p = Standard Deviation\n",
    "#e = margin of error\n",
    "\n",
    "    # Define the variables and their values\n",
    "N = '?' # Population size\n",
    "CL = 0.98 # Confidence level\n",
    "p = 0.5 # Standard Deviation\n",
    "\n",
    "print(sample_calculator(N,CL,p,0.05))\n",
    "print(sample_calculator(N,CL,p,0.03))"
   ]
  }
 ],
 "metadata": {
  "kernelspec": {
   "display_name": "Python 3",
   "language": "python",
   "name": "python3"
  },
  "language_info": {
   "codemirror_mode": {
    "name": "ipython",
    "version": 3
   },
   "file_extension": ".py",
   "mimetype": "text/x-python",
   "name": "python",
   "nbconvert_exporter": "python",
   "pygments_lexer": "ipython3",
   "version": "3.8.2"
  }
 },
 "nbformat": 4,
 "nbformat_minor": 2
}
