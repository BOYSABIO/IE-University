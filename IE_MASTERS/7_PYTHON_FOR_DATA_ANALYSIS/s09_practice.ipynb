{
 "cells": [
  {
   "cell_type": "markdown",
   "metadata": {},
   "source": [
    "# Session 09: Practice \n",
    "\n",
    "We are going to use the following dataset to practice the concepts learned about conditionals and loops.\n",
    "\n",
    "```python\n",
    "students = [\n",
    "    {\"Name\": \"Youssef\", \"Last Name\": \"Hakim\", \"2nd Last Name\": \"Abdel Nasser\", \"Email\": \"youssef.abdelnasser@student.ie.edu\", \"Nationality\": \"Egyptian\", \"Nationality\": \"French\"},\n",
    "    {\"Name\": \"Emin\", \"Last Name\": \"Abrahamian\", \"2nd Last Name\": \"\", \"Email\": \"emin.abrahamian@student.ie.edu\", \"Nationality\": \"American\"},\n",
    "    {\"Name\": \"Luca\", \"Last Name\": \"Adjei\", \"2nd Last Name\": \"\", \"Email\": \"lucaadjei@student.ie.edu\", \"Nationality\": \"German\"},\n",
    "    {\"Name\": \"Abdulrahman\", \"Last Name\": \"Alabdulkarim\", \"2nd Last Name\": \"\", \"Email\": \"abdulrahman_ak@student.ie.edu\", \"Nationality\": \"Saudi Arabian\"},\n",
    "    {\"Name\": \"Dhabia Saad\", \"Last Name\": \"Albuainain\", \"2nd Last Name\": \"\", \"Email\": \"idoe4@student.ie.edu\", \"Nationality\": \"Saudi Arabian\"},\n",
    "    {\"Name\": \"Abdullah\", \"Last Name\": \"Alshaarawi\", \"2nd Last Name\": \"\", \"Email\": \"abdallash@student.ie.edu\", \"Nationality\": \"Saudi Arabian\"},\n",
    "    {\"Name\": \"Chapel\", \"Last Name\": \"Anastasia Margaux Henriette\", \"2nd Last Name\": \"\", \"Email\": \"anastasia.chapel@student.ie.edu\", \"Nationality\": \"Swiss\"},\n",
    "    {\"Name\": \"Waldo\", \"Last Name\": \"Barreto\", \"2nd Last Name\": \"Tascon\", \"Email\": \"waldobarreto@student.ie.edu\", \"Nationality\": \"Spanish\"},\n",
    "    {\"Name\": \"Nicole Marie\", \"Last Name\": \"Batinovich\", \"2nd Last Name\": \"Carrizo\", \"Email\": \"nbatinovich@student.ie.edu\", \"Nationality\": \"Panamanian\"},\n",
    "    {\"Name\": \"Manuel Eduardo\", \"Last Name\": \"Bonnelly\", \"2nd Last Name\": \"Sanchez\", \"Email\": \"manuelbonnelly@student.ie.edu\", \"Nationality\": \"Dominican\"},\n",
    "    {\"Name\": \"Lucas\", \"Last Name\": \"Brunner\", \"2nd Last Name\": \"\", \"Email\": \"lucas.brunner@student.ie.edu\", \"Nationality\": \"Swiss\"},\n",
    "    {\"Name\": \"Blanca\", \"Last Name\": \"Burgaleta\", \"2nd Last Name\": \"García\", \"Email\": \"bburgaleta@student.ie.edu\", \"Nationality\": \"Spanish\"},\n",
    "    {\"Name\": \"Pablo\", \"Last Name\": \"Camacho\", \"2nd Last Name\": \"\", \"Email\": \"pablo.camacho@student.ie.edu\", \"Nationality\": \"Colombian\"},\n",
    "    {\"Name\": \"Isaac\", \"Last Name\": \"Chaljub\", \"2nd Last Name\": \"Restrepo\", \"Email\": \"isaac.chaljub@student.ie.edu\", \"Nationality\": \"Colombian\"},\n",
    "    {\"Name\": \"Silvana Maria\", \"Last Name\": \"Cortes\", \"2nd Last Name\": \"Scholtz\", \"Email\": \"silvanacortes@student.ie.edu\", \"Nationality\": \"Spanish\"},\n",
    "    {\"Name\": \"Ana\", \"Last Name\": \"Cortés\", \"2nd Last Name\": \"Barquier\", \"Email\": \"ana.cortes@student.ie.edu\", \"Nationality\": \"Spanish\"},\n",
    "    {\"Name\": \"Isabella\", \"Last Name\": \"Dao\", \"2nd Last Name\": \"Boschetti\", \"Email\": \"isabella.dao@student.ie.edu\", \"Nationality\": \"Venezuelan\"},\n",
    "    {\"Name\": \"Juan\", \"Last Name\": \"Echeverri\", \"2nd Last Name\": \"\", \"Email\": \"juanecheverri@student.ie.edu\", \"Nationality\": \"Colombian\"},\n",
    "    {\"Name\": \"Hiromitsu\", \"Last Name\": \"Fujiyama\", \"2nd Last Name\": \"\", \"Email\": \"hiromitsu.fujiyama@student.ie.edu\", \"Nationality\": \"Japanese\"},\n",
    "    {\"Name\": \"Catalina\", \"Last Name\": \"Gaitán\", \"2nd Last Name\": \"Marin\", \"Email\": \"catalina.gaitan@student.ie.edu\", \"Nationality\": \"Colombian\"},\n",
    "    {\"Name\": \"Pablo Eduardo\", \"Last Name\": \"Gallegos\", \"2nd Last Name\": \"Sánchez\", \"Email\": \"pablogallegos@student.ie.edu\", \"Nationality\": \"Chilean\"},\n",
    "    {\"Name\": \"Felix\", \"Last Name\": \"Goossens\", \"2nd Last Name\": \"\", \"Email\": \"goossens.felix@student.ie.edu\", \"Nationality\": \"Belgian\"},\n",
    "    {\"Name\": \"Maine\", \"Last Name\": \"Isasi\", \"2nd Last Name\": \"Escajadillo\", \"Email\": \"maine.isasi@student.ie.edu\", \"Nationality\": \"Spanish\"},\n",
    "    {\"Name\": \"Sam\", \"Last Name\": \"Jones\", \"2nd Last Name\": \"\", \"Email\": \"sam.jones@student.ie.edu\", \"Nationality\": \"Irish\"},\n",
    "    {\"Name\": \"Yousef MohammadNoor\", \"Last Name\": \"Joukhdar\", \"2nd Last Name\": \"\", \"Email\": \"yousef.joukhdar@student.ie.edu\", \"Nationality\": \"Saudi Arabian\"},\n",
    "    {\"Name\": \"Sanjo\", \"Last Name\": \"Joy\", \"2nd Last Name\": \"\", \"Email\": \"sanjojoy@student.ie.edu\", \"Nationality\": \"Indian\"},\n",
    "    {\"Name\": \"Christyana\", \"Last Name\": \"Kane\", \"2nd Last Name\": \"\", \"Email\": \"christyana.kane@student.ie.edu\", \"Nationality\": \"American\"},\n",
    "    {\"Name\": \"Adam\", \"Last Name\": \"Kassab\", \"2nd Last Name\": \"\", \"Email\": \"kassab.adam@student.ie.edu\", \"Nationality\": \"Palestinian\"},\n",
    "    {\"Name\": \"Maureen Wambui\", \"Last Name\": \"Kibetu\", \"2nd Last Name\": \"\", \"Email\": \"maureen.kibetu@student.ie.edu\", \"Nationality\": \"Kenyan\"},\n",
    "    {\"Name\": \"Louis-Esmel\", \"Last Name\": \"Kodo\", \"2nd Last Name\": \"\", \"Email\": \"louis-esmel.kodo@student.ie.edu\", \"Nationality\": \"French\"},\n",
    "    {\"Name\": \"Robert\", \"Last Name\": \"Koegel\", \"2nd Last Name\": \"\", \"Email\": \"robert.koegel@student.ie.edu\", \"Nationality\": \"Luxembourger\"},\n",
    "    {\"Name\": \"Sergio\", \"Last Name\": \"Lebed\", \"2nd Last Name\": \"Wright\", \"Email\": \"sergiolebed@student.ie.edu\", \"Nationality\": \"Ecuadorian\"},\n",
    "    {\"Name\": \"Diego\", \"Last Name\": \"López\", \"2nd Last Name\": \"Pizarro\", \"Email\": \"diego.lopez13@student.ie.edu\", \"Nationality\": \"Spanish\"},\n",
    "    {\"Name\": \"Tomás\", \"Last Name\": \"Luz\", \"2nd Last Name\": \"\", \"Email\": \"tomas.luz@student.ie.edu\", \"Nationality\": \"Portuguese\"},\n",
    "    {\"Name\": \"Eduardo Andrés\", \"Last Name\": \"Martinez-Acha\", \"2nd Last Name\": \"Paris\", \"Email\": \"emacha@student.ie.edu\", \"Nationality\": \"Spanish\"},\n",
    "    {\"Name\": \"Joaquin\", \"Last Name\": \"Mino\", \"2nd Last Name\": \"Perez\", \"Email\": \"joaquin.mino@student.ie.edu\", \"Nationality\": \"Ecuadorian\"},\n",
    "    {\"Name\": \"Paul\", \"Last Name\": \"Morcos\", \"2nd Last Name\": \"Douaihy\", \"Email\": \"paul.morcos@student.ie.edu\", \"Nationality\": \"Lebanese\"},\n",
    "    {\"Name\": \"Vibhushan Balaji\", \"Last Name\": \"Neethi Mohan\", \"2nd Last Name\": \"\", \"Email\": \"vibhu_balaji@student.ie.edu\", \"Nationality\": \"Indian\"},\n",
    "    {\"Name\": \"Alejandro\", \"Last Name\": \"Osto\", \"2nd Last Name\": \"Sánchez-Haro\", \"Email\": \"alejandro.osto@student.ie.edu\", \"Nationality\": \"Spanish\"},\n",
    "    {\"Name\": \"Margarida\", \"Last Name\": \"Pereira\", \"2nd Last Name\": \"\", \"Email\": \"margaridabvp@student.ie.edu\", \"Nationality\": \"Portuguese\"},\n",
    "    {\"Name\": \"Marta\", \"Last Name\": \"Pérez\", \"2nd Last Name\": \"Fernández\", \"Email\": \"marta.perez.01@student.ie.edu\", \"Nationality\": \"Spanish\"},\n",
    "    {\"Name\": \"Alejandro Felipe\", \"Last Name\": \"Pérez\", \"2nd Last Name\": \"Vargas\", \"Email\": \"perez.alejandro@student.ie.edu\", \"Nationality\": \"Costarican\"},\n",
    "    {\"Name\": \"Miguel\", \"Last Name\": \"Rodríguez\", \"2nd Last Name\": \"Cadena\", \"Email\": \"miguel.rodriguez.c@student.ie.edu\", \"Nationality\": \"Ecuadorian\"},\n",
    "    {\"Name\": \"Jorge Hiroshi\", \"Last Name\": \"Roman\", \"2nd Last Name\": \"Yseki\", \"Email\": \"hiroshi.roman@alumni.ie.edu\", \"Nationality\": \"Peruvian\"},\n",
    "    {\"Name\": \"Ignacio\", \"Last Name\": \"Salceda\", \"2nd Last Name\": \"Rodríguez\", \"Email\": \"ignacio.salceda@student.ie.edu\", \"Nationality\": \"Spanish\"},\n",
    "    {\"Name\": \"Yeabsira\", \"Last Name\": \"Seleshi\", \"2nd Last Name\": \"\", \"Email\": \"yeabsiraseleshi@student.ie.edu\", \"Nationality\": \"Ethiopian\"},\n",
    "    {\"Name\": \"Ayush\", \"Last Name\": \"Singh\", \"2nd Last Name\": \"\", \"Email\": \"ayushsingh16@student.ie.edu\", \"Nationality\": \"Indian\"},\n",
    "    {\"Name\": \"Adrian\", \"Last Name\": \"Soto\", \"2nd Last Name\": \"Mora\", \"Email\": \"adrian.soto@student.ie.edu\", \"Nationality\": \"Costarican\"},\n",
    "    {\"Name\": \"Enrico Miguel\", \"Last Name\": \"Cordero\", \"2nd Last Name\": \"Tajanlangit\", \"Email\": \"enricotajanlangit@student.ie.edu\", \"Nationality\": \"Philippine\"},\n",
    "    {\"Name\": \"Chevin\", \"Last Name\": \"Slavtchov\", \"2nd Last Name\": \"Tochkov\", \"Email\": \"chevin.tochkov@student.ie.edu\", \"Nationality\": \"Bulgarian\"},\n",
    "    {\"Name\": \"Clara\", \"Last Name\": \"Sobejano\", \"2nd Last Name\": \"Figuerola\", \"Email\": \"clara.sobejano@student.ie.edu\", \"Nationality\": \"Spanish\"},\n",
    "    {\"Name\": \"Ricardo\", \"Last Name\": \"Urech\", \"2nd Last Name\": \"García De La Vega\", \"Email\": \"ricardourech@student.ie.edu\", \"Nationality\": \"Spanish\"},\n",
    "    {\"Name\": \"Vandad\", \"Last Name\": \"Vafai\", \"2nd Last Name\": \"Tabrizi\", \"Email\": \"vandad.vafai@student.ie.edu\", \"Nationality\": \"Canadian\"},\n",
    "    {\"Name\": \"Tomas\", \"Last Name\": \"Valbuena\", \"2nd Last Name\": \"Sierra\", \"Email\": \"tvalbuen96@student.ie.edu\", \"Nationality\": \"Colombian\"},\n",
    "    {\"Name\": \"Spencer\", \"Last Name\": \"Sveda\", \"2nd Last Name\": \"Wood\", \"Email\": \"spencer.wood@student.ie.edu\", \"Nationality\": \"American\"}\n",
    "]\n",
    "```"
   ]
  },
  {
   "cell_type": "code",
   "execution_count": 1,
   "metadata": {},
   "outputs": [],
   "source": [
    "students = [\n",
    "    {\"Name\": \"Youssef\", \"Last Name\": \"Hakim\", \"2nd Last Name\": \"Abdel Nasser\", \"Email\": \"youssef.abdelnasser@student.ie.edu\", \"Nationality\": \"Egyptian\", \"Nationality\": \"French\"},\n",
    "    {\"Name\": \"Emin\", \"Last Name\": \"Abrahamian\", \"2nd Last Name\": \"\", \"Email\": \"emin.abrahamian@student.ie.edu\", \"Nationality\": \"American\"},\n",
    "    {\"Name\": \"Luca\", \"Last Name\": \"Adjei\", \"2nd Last Name\": \"\", \"Email\": \"lucaadjei@student.ie.edu\", \"Nationality\": \"German\"},\n",
    "    {\"Name\": \"Abdulrahman\", \"Last Name\": \"Alabdulkarim\", \"2nd Last Name\": \"\", \"Email\": \"abdulrahman_ak@student.ie.edu\", \"Nationality\": \"Saudi Arabian\"},\n",
    "    {\"Name\": \"Dhabia Saad\", \"Last Name\": \"Albuainain\", \"2nd Last Name\": \"\", \"Email\": \"idoe4@student.ie.edu\", \"Nationality\": \"Saudi Arabian\"},\n",
    "    {\"Name\": \"Abdullah\", \"Last Name\": \"Alshaarawi\", \"2nd Last Name\": \"\", \"Email\": \"abdallash@student.ie.edu\", \"Nationality\": \"Saudi Arabian\"},\n",
    "    {\"Name\": \"Chapel\", \"Last Name\": \"Anastasia Margaux Henriette\", \"2nd Last Name\": \"\", \"Email\": \"anastasia.chapel@student.ie.edu\", \"Nationality\": \"Swiss\"},\n",
    "    {\"Name\": \"Waldo\", \"Last Name\": \"Barreto\", \"2nd Last Name\": \"Tascon\", \"Email\": \"waldobarreto@student.ie.edu\", \"Nationality\": \"Spanish\"},\n",
    "    {\"Name\": \"Nicole Marie\", \"Last Name\": \"Batinovich\", \"2nd Last Name\": \"Carrizo\", \"Email\": \"nbatinovich@student.ie.edu\", \"Nationality\": \"Panamanian\"},\n",
    "    {\"Name\": \"Manuel Eduardo\", \"Last Name\": \"Bonnelly\", \"2nd Last Name\": \"Sanchez\", \"Email\": \"manuelbonnelly@student.ie.edu\", \"Nationality\": \"Dominican\"},\n",
    "    {\"Name\": \"Lucas\", \"Last Name\": \"Brunner\", \"2nd Last Name\": \"\", \"Email\": \"lucas.brunner@student.ie.edu\", \"Nationality\": \"Swiss\"},\n",
    "    {\"Name\": \"Blanca\", \"Last Name\": \"Burgaleta\", \"2nd Last Name\": \"García\", \"Email\": \"bburgaleta@student.ie.edu\", \"Nationality\": \"Spanish\"},\n",
    "    {\"Name\": \"Pablo\", \"Last Name\": \"Camacho\", \"2nd Last Name\": \"\", \"Email\": \"pablo.camacho@student.ie.edu\", \"Nationality\": \"Colombian\"},\n",
    "    {\"Name\": \"Isaac\", \"Last Name\": \"Chaljub\", \"2nd Last Name\": \"Restrepo\", \"Email\": \"isaac.chaljub@student.ie.edu\", \"Nationality\": \"Colombian\"},\n",
    "    {\"Name\": \"Silvana Maria\", \"Last Name\": \"Cortes\", \"2nd Last Name\": \"Scholtz\", \"Email\": \"silvanacortes@student.ie.edu\", \"Nationality\": \"Spanish\"},\n",
    "    {\"Name\": \"Ana\", \"Last Name\": \"Cortés\", \"2nd Last Name\": \"Barquier\", \"Email\": \"ana.cortes@student.ie.edu\", \"Nationality\": \"Spanish\"},\n",
    "    {\"Name\": \"Isabella\", \"Last Name\": \"Dao\", \"2nd Last Name\": \"Boschetti\", \"Email\": \"isabella.dao@student.ie.edu\", \"Nationality\": \"Venezuelan\"},\n",
    "    {\"Name\": \"Juan\", \"Last Name\": \"Echeverri\", \"2nd Last Name\": \"\", \"Email\": \"juanecheverri@student.ie.edu\", \"Nationality\": \"Colombian\"},\n",
    "    {\"Name\": \"Hiromitsu\", \"Last Name\": \"Fujiyama\", \"2nd Last Name\": \"\", \"Email\": \"hiromitsu.fujiyama@student.ie.edu\", \"Nationality\": \"Japanese\"},\n",
    "    {\"Name\": \"Catalina\", \"Last Name\": \"Gaitán\", \"2nd Last Name\": \"Marin\", \"Email\": \"catalina.gaitan@student.ie.edu\", \"Nationality\": \"Colombian\"},\n",
    "    {\"Name\": \"Pablo Eduardo\", \"Last Name\": \"Gallegos\", \"2nd Last Name\": \"Sánchez\", \"Email\": \"pablogallegos@student.ie.edu\", \"Nationality\": \"Chilean\"},\n",
    "    {\"Name\": \"Felix\", \"Last Name\": \"Goossens\", \"2nd Last Name\": \"\", \"Email\": \"goossens.felix@student.ie.edu\", \"Nationality\": \"Belgian\"},\n",
    "    {\"Name\": \"Maine\", \"Last Name\": \"Isasi\", \"2nd Last Name\": \"Escajadillo\", \"Email\": \"maine.isasi@student.ie.edu\", \"Nationality\": \"Spanish\"},\n",
    "    {\"Name\": \"Sam\", \"Last Name\": \"Jones\", \"2nd Last Name\": \"\", \"Email\": \"sam.jones@student.ie.edu\", \"Nationality\": \"Irish\"},\n",
    "    {\"Name\": \"Yousef MohammadNoor\", \"Last Name\": \"Joukhdar\", \"2nd Last Name\": \"\", \"Email\": \"yousef.joukhdar@student.ie.edu\", \"Nationality\": \"Saudi Arabian\"},\n",
    "    {\"Name\": \"Sanjo\", \"Last Name\": \"Joy\", \"2nd Last Name\": \"\", \"Email\": \"sanjojoy@student.ie.edu\", \"Nationality\": \"Indian\"},\n",
    "    {\"Name\": \"Christyana\", \"Last Name\": \"Kane\", \"2nd Last Name\": \"\", \"Email\": \"christyana.kane@student.ie.edu\", \"Nationality\": \"American\"},\n",
    "    {\"Name\": \"Adam\", \"Last Name\": \"Kassab\", \"2nd Last Name\": \"\", \"Email\": \"kassab.adam@student.ie.edu\", \"Nationality\": \"Palestinian\"},\n",
    "    {\"Name\": \"Maureen Wambui\", \"Last Name\": \"Kibetu\", \"2nd Last Name\": \"\", \"Email\": \"maureen.kibetu@student.ie.edu\", \"Nationality\": \"Kenyan\"},\n",
    "    {\"Name\": \"Louis-Esmel\", \"Last Name\": \"Kodo\", \"2nd Last Name\": \"\", \"Email\": \"louis-esmel.kodo@student.ie.edu\", \"Nationality\": \"French\"},\n",
    "    {\"Name\": \"Robert\", \"Last Name\": \"Koegel\", \"2nd Last Name\": \"\", \"Email\": \"robert.koegel@student.ie.edu\", \"Nationality\": \"Luxembourger\"},\n",
    "    {\"Name\": \"Sergio\", \"Last Name\": \"Lebed\", \"2nd Last Name\": \"Wright\", \"Email\": \"sergiolebed@student.ie.edu\", \"Nationality\": \"Ecuadorian\"},\n",
    "    {\"Name\": \"Diego\", \"Last Name\": \"López\", \"2nd Last Name\": \"Pizarro\", \"Email\": \"diego.lopez13@student.ie.edu\", \"Nationality\": \"Spanish\"},\n",
    "    {\"Name\": \"Tomás\", \"Last Name\": \"Luz\", \"2nd Last Name\": \"\", \"Email\": \"tomas.luz@student.ie.edu\", \"Nationality\": \"Portuguese\"},\n",
    "    {\"Name\": \"Eduardo Andrés\", \"Last Name\": \"Martinez-Acha\", \"2nd Last Name\": \"Paris\", \"Email\": \"emacha@student.ie.edu\", \"Nationality\": \"Spanish\"},\n",
    "    {\"Name\": \"Joaquin\", \"Last Name\": \"Mino\", \"2nd Last Name\": \"Perez\", \"Email\": \"joaquin.mino@student.ie.edu\", \"Nationality\": \"Ecuadorian\"},\n",
    "    {\"Name\": \"Paul\", \"Last Name\": \"Morcos\", \"2nd Last Name\": \"Douaihy\", \"Email\": \"paul.morcos@student.ie.edu\", \"Nationality\": \"Lebanese\"},\n",
    "    {\"Name\": \"Vibhushan Balaji\", \"Last Name\": \"Neethi Mohan\", \"2nd Last Name\": \"\", \"Email\": \"vibhu_balaji@student.ie.edu\", \"Nationality\": \"Indian\"},\n",
    "    {\"Name\": \"Alejandro\", \"Last Name\": \"Osto\", \"2nd Last Name\": \"Sánchez-Haro\", \"Email\": \"alejandro.osto@student.ie.edu\", \"Nationality\": \"Spanish\"},\n",
    "    {\"Name\": \"Margarida\", \"Last Name\": \"Pereira\", \"2nd Last Name\": \"\", \"Email\": \"margaridabvp@student.ie.edu\", \"Nationality\": \"Portuguese\"},\n",
    "    {\"Name\": \"Marta\", \"Last Name\": \"Pérez\", \"2nd Last Name\": \"Fernández\", \"Email\": \"marta.perez.01@student.ie.edu\", \"Nationality\": \"Spanish\"},\n",
    "    {\"Name\": \"Alejandro Felipe\", \"Last Name\": \"Pérez\", \"2nd Last Name\": \"Vargas\", \"Email\": \"perez.alejandro@student.ie.edu\", \"Nationality\": \"Costarican\"},\n",
    "    {\"Name\": \"Miguel\", \"Last Name\": \"Rodríguez\", \"2nd Last Name\": \"Cadena\", \"Email\": \"miguel.rodriguez.c@student.ie.edu\", \"Nationality\": \"Ecuadorian\"},\n",
    "    {\"Name\": \"Jorge Hiroshi\", \"Last Name\": \"Roman\", \"2nd Last Name\": \"Yseki\", \"Email\": \"hiroshi.roman@alumni.ie.edu\", \"Nationality\": \"Peruvian\"},\n",
    "    {\"Name\": \"Ignacio\", \"Last Name\": \"Salceda\", \"2nd Last Name\": \"Rodríguez\", \"Email\": \"ignacio.salceda@student.ie.edu\", \"Nationality\": \"Spanish\"},\n",
    "    {\"Name\": \"Yeabsira\", \"Last Name\": \"Seleshi\", \"2nd Last Name\": \"\", \"Email\": \"yeabsiraseleshi@student.ie.edu\", \"Nationality\": \"Ethiopian\"},\n",
    "    {\"Name\": \"Ayush\", \"Last Name\": \"Singh\", \"2nd Last Name\": \"\", \"Email\": \"ayushsingh16@student.ie.edu\", \"Nationality\": \"Indian\"},\n",
    "    {\"Name\": \"Adrian\", \"Last Name\": \"Soto\", \"2nd Last Name\": \"Mora\", \"Email\": \"adrian.soto@student.ie.edu\", \"Nationality\": \"Costarican\"},\n",
    "    {\"Name\": \"Enrico Miguel\", \"Last Name\": \"Cordero\", \"2nd Last Name\": \"Tajanlangit\", \"Email\": \"enricotajanlangit@student.ie.edu\", \"Nationality\": \"Philippine\"},\n",
    "    {\"Name\": \"Chevin\", \"Last Name\": \"Slavtchov\", \"2nd Last Name\": \"Tochkov\", \"Email\": \"chevin.tochkov@student.ie.edu\", \"Nationality\": \"Bulgarian\"},\n",
    "    {\"Name\": \"Clara\", \"Last Name\": \"Sobejano\", \"2nd Last Name\": \"Figuerola\", \"Email\": \"clara.sobejano@student.ie.edu\", \"Nationality\": \"Spanish\"},\n",
    "    {\"Name\": \"Ricardo\", \"Last Name\": \"Urech\", \"2nd Last Name\": \"García De La Vega\", \"Email\": \"ricardourech@student.ie.edu\", \"Nationality\": \"Spanish\"},\n",
    "    {\"Name\": \"Vandad\", \"Last Name\": \"Vafai\", \"2nd Last Name\": \"Tabrizi\", \"Email\": \"vandad.vafai@student.ie.edu\", \"Nationality\": \"Canadian\"},\n",
    "    {\"Name\": \"Tomas\", \"Last Name\": \"Valbuena\", \"2nd Last Name\": \"Sierra\", \"Email\": \"tvalbuen96@student.ie.edu\", \"Nationality\": \"Colombian\"},\n",
    "    {\"Name\": \"Spencer\", \"Last Name\": \"Sveda\", \"2nd Last Name\": \"Wood\", \"Email\": \"spencer.wood@student.ie.edu\", \"Nationality\": \"American\"}\n",
    "]"
   ]
  },
  {
   "cell_type": "markdown",
   "metadata": {},
   "source": [
    "## Exercise 1\n",
    "\n",
    "Create a list with all the students that have a second last name."
   ]
  },
  {
   "cell_type": "code",
   "execution_count": 3,
   "metadata": {},
   "outputs": [
    {
     "name": "stdout",
     "output_type": "stream",
     "text": [
      "['Youssef', 'Waldo', 'Nicole Marie', 'Manuel Eduardo', 'Blanca', 'Isaac', 'Silvana Maria', 'Ana', 'Isabella', 'Catalina', 'Pablo Eduardo', 'Maine', 'Sergio', 'Diego', 'Eduardo Andrés', 'Joaquin', 'Paul', 'Alejandro', 'Marta', 'Alejandro Felipe', 'Miguel', 'Jorge Hiroshi', 'Ignacio', 'Adrian', 'Enrico Miguel', 'Chevin', 'Clara', 'Ricardo', 'Vandad', 'Tomas', 'Spencer']\n"
     ]
    }
   ],
   "source": [
    "students_with_2nd_last_name = [student['Name'] for student in students if student['2nd Last Name'] != '']\n",
    "print(students_with_2nd_last_name)"
   ]
  },
  {
   "cell_type": "markdown",
   "metadata": {},
   "source": [
    "## Exercise 2\n",
    " \n",
    "Create a list with all the students whose last name is fully included in their email."
   ]
  },
  {
   "cell_type": "code",
   "execution_count": 8,
   "metadata": {},
   "outputs": [
    {
     "name": "stdout",
     "output_type": "stream",
     "text": [
      "['Emin', 'Luca', 'Waldo', 'Nicole Marie', 'Manuel Eduardo', 'Lucas', 'Blanca', 'Pablo', 'Isaac', 'Silvana Maria', 'Isabella', 'Juan', 'Hiromitsu', 'Pablo Eduardo', 'Felix', 'Maine', 'Sam', 'Yousef MohammadNoor', 'Sanjo', 'Christyana', 'Adam', 'Maureen Wambui', 'Louis-Esmel', 'Robert', 'Sergio', 'Tomás', 'Joaquin', 'Paul', 'Alejandro', 'Jorge Hiroshi', 'Ignacio', 'Yeabsira', 'Ayush', 'Adrian', 'Clara', 'Ricardo', 'Vandad']\n"
     ]
    }
   ],
   "source": [
    "list_2 = [student['Name'] for student in students if student['Last Name'].lower() in student['Email']]\n",
    "print(list_2)"
   ]
  },
  {
   "cell_type": "markdown",
   "metadata": {},
   "source": [
    "## Exercise 3\n",
    "\n",
    "Add to each student these new keys\n",
    "* \"Full Name\" with the full name of the student\n",
    "* \"Length of Full Name\" with the length of the full name of the student, not including spaces"
   ]
  },
  {
   "cell_type": "code",
   "execution_count": null,
   "metadata": {},
   "outputs": [],
   "source": []
  },
  {
   "cell_type": "markdown",
   "metadata": {},
   "source": [
    "## Exercise 4\n",
    "\n",
    "Create a dictionary where the keys are the values of \"Full Name\" and the values are the values of \"Length of Full Name\"."
   ]
  },
  {
   "cell_type": "code",
   "execution_count": null,
   "metadata": {},
   "outputs": [],
   "source": []
  },
  {
   "cell_type": "markdown",
   "metadata": {},
   "source": [
    "## Exercise 5\n",
    "\n",
    "Create a list that contains all the last names that are repeated in the dataset."
   ]
  },
  {
   "cell_type": "code",
   "execution_count": null,
   "metadata": {},
   "outputs": [],
   "source": []
  },
  {
   "cell_type": "markdown",
   "metadata": {},
   "source": [
    "## Exercise 6\n",
    "\n",
    "Which student has the longest full name?"
   ]
  },
  {
   "cell_type": "code",
   "execution_count": null,
   "metadata": {},
   "outputs": [],
   "source": []
  },
  {
   "cell_type": "markdown",
   "metadata": {},
   "source": [
    "## Exercise 7\n",
    "\n",
    "For each nationality, create a list with the full names of the students with that nationality."
   ]
  },
  {
   "cell_type": "code",
   "execution_count": null,
   "metadata": {},
   "outputs": [],
   "source": []
  },
  {
   "cell_type": "markdown",
   "metadata": {},
   "source": [
    "## Exercise 8\n",
    "\n",
    "Which nationality has the most students? "
   ]
  },
  {
   "cell_type": "code",
   "execution_count": null,
   "metadata": {},
   "outputs": [],
   "source": []
  },
  {
   "cell_type": "markdown",
   "metadata": {},
   "source": [
    "## Exercise 9\n",
    "\n",
    "Which nationality has the longest average full name length?"
   ]
  },
  {
   "cell_type": "code",
   "execution_count": null,
   "metadata": {},
   "outputs": [],
   "source": []
  },
  {
   "cell_type": "markdown",
   "metadata": {},
   "source": [
    "## Exercise 10\n",
    "\n",
    "Which nationality has the most second last names?"
   ]
  },
  {
   "cell_type": "code",
   "execution_count": null,
   "metadata": {},
   "outputs": [],
   "source": []
  },
  {
   "cell_type": "markdown",
   "metadata": {},
   "source": [
    "## Exercise 11\n",
    "\n",
    "Imagine you are charged with 1 euro per character in your email account. \n",
    "\n",
    "Create a dictionary where the keys are the emails and the values are the amount of money you would have to pay for that email."
   ]
  },
  {
   "cell_type": "code",
   "execution_count": null,
   "metadata": {},
   "outputs": [],
   "source": []
  },
  {
   "cell_type": "markdown",
   "metadata": {},
   "source": [
    "## Exercise 12\n",
    "\n",
    "Create a dictionary where the keys are the nationalities and the values are the average amount of money you would have to pay for the emails of the students"
   ]
  },
  {
   "cell_type": "code",
   "execution_count": null,
   "metadata": {},
   "outputs": [],
   "source": []
  },
  {
   "cell_type": "markdown",
   "metadata": {},
   "source": [
    "## Exercise 13\n",
    "\n",
    "Create a dictionary where the keys are the nationalities and the values are number of students with that nationality."
   ]
  },
  {
   "cell_type": "code",
   "execution_count": null,
   "metadata": {},
   "outputs": [],
   "source": []
  },
  {
   "cell_type": "markdown",
   "metadata": {},
   "source": [
    "## Exercise 14\n",
    "\n",
    "Create a dictionary where the keys are the nationalities and the values are the average length of the full names of the students"
   ]
  },
  {
   "cell_type": "code",
   "execution_count": null,
   "metadata": {},
   "outputs": [],
   "source": []
  }
 ],
 "metadata": {
  "kernelspec": {
   "display_name": "Python 3",
   "language": "python",
   "name": "python3"
  },
  "language_info": {
   "codemirror_mode": {
    "name": "ipython",
    "version": 3
   },
   "file_extension": ".py",
   "mimetype": "text/x-python",
   "name": "python",
   "nbconvert_exporter": "python",
   "pygments_lexer": "ipython3",
   "version": "3.8.2"
  }
 },
 "nbformat": 4,
 "nbformat_minor": 2
}
