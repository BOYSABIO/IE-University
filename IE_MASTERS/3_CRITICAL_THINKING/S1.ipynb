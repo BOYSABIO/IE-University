{
 "cells": [
  {
   "cell_type": "markdown",
   "metadata": {},
   "source": [
    "### What was the population of the Roman City?\n",
    "\n",
    "0.5m by 0.5m\n",
    "0.25m^2\n",
    "\n",
    "Has no percievable slope\n",
    "\n",
    "Assume constant flow\n",
    "\n",
    "1000liters = 1m^3"
   ]
  },
  {
   "cell_type": "code",
   "execution_count": null,
   "metadata": {},
   "outputs": [],
   "source": []
  }
 ],
 "metadata": {
  "language_info": {
   "name": "python"
  }
 },
 "nbformat": 4,
 "nbformat_minor": 2
}
