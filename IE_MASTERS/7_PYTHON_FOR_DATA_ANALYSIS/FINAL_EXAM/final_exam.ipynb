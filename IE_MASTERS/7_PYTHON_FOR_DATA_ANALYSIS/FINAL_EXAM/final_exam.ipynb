{
 "cells": [
  {
   "cell_type": "markdown",
   "metadata": {},
   "source": [
    "# Final exam\n",
    "\n",
    "Rules:\n",
    "- The time limit is 80 minutes.\n",
    "- Every solution must be written in Python and/or pandas, and the result must be printed or returned.\n",
    "- 5 minutes before the end, a warning will be given to submit what you have so far. No submissions will be accepted after the end of the exam.\n",
    "- You can resubmit as many times as you want.\n",
    "- The exam is open-book, open-notes, open-internet, open-everything. Except for discussing with another person by any means, sharing solutions or using AI in any form.\n",
    "    - The student that uses AI to solve the questions will fail immediately and reported to the university.\n",
    "- If you have a question, please raise your hand. I will come to you.\n",
    "- For every exercise the solution is provided, but you need to write the code to solve it.\n",
    "- If you can't get a solution, you can copy the solution provided, but you will get only 25% of the points.\n",
    "\n",
    "Submission:\n",
    "- Before the end of the exam, submit the exam using the link provided in the mid-term exam announcement.\n",
    "- Only submit the completed notebook, no other files are needed, only the `.ipynb` file."
   ]
  },
  {
   "cell_type": "markdown",
   "metadata": {},
   "source": [
    "## Good luck!\n",
    "And remember: if you get stuck in a question please move to the next one and come back to the question later if you have time or use the solution provided to answer the question, with the 75% penalty."
   ]
  },
  {
   "cell_type": "markdown",
   "metadata": {},
   "source": [
    "## Exam theme\n",
    "\n",
    "You are the manager of an utility company that sells electricity to the population. You have to answer some questions about the market.\n",
    "\n",
    "The dataset (`df_final.csv`) contains the following columns:\n",
    "\n",
    "- **datetime_utc**: The date and time in UTC format.\n",
    "- **spot_price**: The spot price of electricity at the given datetime in euros per megawatt-hour (€/MWh).\n",
    "- **gen_ccgt**: Generation from Combined Cycle Gas Turbine (CCGT) plants in megawatts (MWh).\n",
    "- **gen_coal**: Generation from coal-fired power plants in megawatts (MWh).\n",
    "- **gen_hydro**: Generation from hydroelectric power plants in megawatts (MWh).\n",
    "- **gen_nuclear**: Generation from nuclear power plants in megawatts (MWh).\n",
    "- **gen_solar_pv**: Generation from solar photovoltaic (PV) power plants in megawatts (MWh).\n",
    "- **gen_solar_th**: Generation from solar thermal power plants in megawatts (MWh).\n",
    "- **gen_total**: Total electricity generation from all sources in megawatts (MWh).\n",
    "- **gen_wind**: Generation from wind power plants in megawatts (MWh).\n",
    "- **demand_total**: Total electricity demand in megawatts (MWh).\n",
    "- **year**: The year of the datetime.\n",
    "- **month**: The month of the datetime.\n",
    "- **day**: The day of the datetime.\n",
    "- **hour**: The hour of the datetime.\n",
    "- **weekday**: The day of the week (0 = Monday, 1 = Tuesday, ..., 6 = Sunday).\n",
    "- **is_weekend**: A binary indicator of whether the date is a weekend (1 = Yes, 0 = No).\n",
    "- **is_holiday**: A binary indicator of whether the date is a holiday (True = Yes, False = No).\n",
    "\n",
    "Each row in the dataset represents a specific hour of the day, and the corresponding values for each column."
   ]
  },
  {
   "cell_type": "markdown",
   "metadata": {},
   "source": [
    "## Read the file (1 points)\n",
    "\n",
    "Read the data into a pandas DataFrame called `energy` and show the first 5 rows."
   ]
  },
  {
   "cell_type": "code",
   "execution_count": 118,
   "metadata": {},
   "outputs": [
    {
     "data": {
      "text/html": [
       "<div>\n",
       "<style scoped>\n",
       "    .dataframe tbody tr th:only-of-type {\n",
       "        vertical-align: middle;\n",
       "    }\n",
       "\n",
       "    .dataframe tbody tr th {\n",
       "        vertical-align: top;\n",
       "    }\n",
       "\n",
       "    .dataframe thead th {\n",
       "        text-align: right;\n",
       "    }\n",
       "</style>\n",
       "<table border=\"1\" class=\"dataframe\">\n",
       "  <thead>\n",
       "    <tr style=\"text-align: right;\">\n",
       "      <th></th>\n",
       "      <th>datetime_utc</th>\n",
       "      <th>date</th>\n",
       "      <th>spot_price</th>\n",
       "      <th>gen_ccgt</th>\n",
       "      <th>gen_coal</th>\n",
       "      <th>gen_hydro</th>\n",
       "      <th>gen_nuclear</th>\n",
       "      <th>gen_solar_pv</th>\n",
       "      <th>gen_solar_th</th>\n",
       "      <th>gen_total</th>\n",
       "      <th>gen_wind</th>\n",
       "      <th>demand_total</th>\n",
       "      <th>year</th>\n",
       "      <th>month</th>\n",
       "      <th>day</th>\n",
       "      <th>hour</th>\n",
       "      <th>weekday</th>\n",
       "      <th>is_weekend</th>\n",
       "      <th>is_holiday</th>\n",
       "    </tr>\n",
       "  </thead>\n",
       "  <tbody>\n",
       "    <tr>\n",
       "      <th>0</th>\n",
       "      <td>2023-10-31 23:00:00+00:00</td>\n",
       "      <td>2023-10-31</td>\n",
       "      <td>16.75</td>\n",
       "      <td>NaN</td>\n",
       "      <td>292.0</td>\n",
       "      <td>5008.4</td>\n",
       "      <td>4304.5</td>\n",
       "      <td>51.4</td>\n",
       "      <td>194.1</td>\n",
       "      <td>23136.4</td>\n",
       "      <td>9951.7</td>\n",
       "      <td>21757.3</td>\n",
       "      <td>2023</td>\n",
       "      <td>10</td>\n",
       "      <td>31</td>\n",
       "      <td>23</td>\n",
       "      <td>1</td>\n",
       "      <td>0</td>\n",
       "      <td>False</td>\n",
       "    </tr>\n",
       "    <tr>\n",
       "      <th>1</th>\n",
       "      <td>2023-11-01 00:00:00+00:00</td>\n",
       "      <td>2023-11-01</td>\n",
       "      <td>12.52</td>\n",
       "      <td>NaN</td>\n",
       "      <td>291.0</td>\n",
       "      <td>3989.8</td>\n",
       "      <td>4305.5</td>\n",
       "      <td>51.4</td>\n",
       "      <td>194.1</td>\n",
       "      <td>21856.6</td>\n",
       "      <td>10426.5</td>\n",
       "      <td>20661.0</td>\n",
       "      <td>2023</td>\n",
       "      <td>11</td>\n",
       "      <td>1</td>\n",
       "      <td>0</td>\n",
       "      <td>2</td>\n",
       "      <td>0</td>\n",
       "      <td>True</td>\n",
       "    </tr>\n",
       "    <tr>\n",
       "      <th>2</th>\n",
       "      <td>2023-11-01 01:00:00+00:00</td>\n",
       "      <td>2023-11-01</td>\n",
       "      <td>4.99</td>\n",
       "      <td>NaN</td>\n",
       "      <td>180.0</td>\n",
       "      <td>3709.6</td>\n",
       "      <td>4306.5</td>\n",
       "      <td>51.2</td>\n",
       "      <td>194.1</td>\n",
       "      <td>21339.8</td>\n",
       "      <td>10832.7</td>\n",
       "      <td>19951.5</td>\n",
       "      <td>2023</td>\n",
       "      <td>11</td>\n",
       "      <td>1</td>\n",
       "      <td>1</td>\n",
       "      <td>2</td>\n",
       "      <td>0</td>\n",
       "      <td>True</td>\n",
       "    </tr>\n",
       "    <tr>\n",
       "      <th>3</th>\n",
       "      <td>2023-11-01 02:00:00+00:00</td>\n",
       "      <td>2023-11-01</td>\n",
       "      <td>4.30</td>\n",
       "      <td>NaN</td>\n",
       "      <td>NaN</td>\n",
       "      <td>3433.1</td>\n",
       "      <td>4307.5</td>\n",
       "      <td>51.2</td>\n",
       "      <td>194.1</td>\n",
       "      <td>20789.1</td>\n",
       "      <td>10736.3</td>\n",
       "      <td>19426.9</td>\n",
       "      <td>2023</td>\n",
       "      <td>11</td>\n",
       "      <td>1</td>\n",
       "      <td>2</td>\n",
       "      <td>2</td>\n",
       "      <td>0</td>\n",
       "      <td>True</td>\n",
       "    </tr>\n",
       "    <tr>\n",
       "      <th>4</th>\n",
       "      <td>2023-11-01 03:00:00+00:00</td>\n",
       "      <td>2023-11-01</td>\n",
       "      <td>4.30</td>\n",
       "      <td>NaN</td>\n",
       "      <td>NaN</td>\n",
       "      <td>3286.3</td>\n",
       "      <td>4307.5</td>\n",
       "      <td>51.2</td>\n",
       "      <td>194.1</td>\n",
       "      <td>20574.3</td>\n",
       "      <td>10669.2</td>\n",
       "      <td>19100.8</td>\n",
       "      <td>2023</td>\n",
       "      <td>11</td>\n",
       "      <td>1</td>\n",
       "      <td>3</td>\n",
       "      <td>2</td>\n",
       "      <td>0</td>\n",
       "      <td>True</td>\n",
       "    </tr>\n",
       "  </tbody>\n",
       "</table>\n",
       "</div>"
      ],
      "text/plain": [
       "                datetime_utc        date  spot_price  gen_ccgt  gen_coal  \\\n",
       "0  2023-10-31 23:00:00+00:00  2023-10-31       16.75       NaN     292.0   \n",
       "1  2023-11-01 00:00:00+00:00  2023-11-01       12.52       NaN     291.0   \n",
       "2  2023-11-01 01:00:00+00:00  2023-11-01        4.99       NaN     180.0   \n",
       "3  2023-11-01 02:00:00+00:00  2023-11-01        4.30       NaN       NaN   \n",
       "4  2023-11-01 03:00:00+00:00  2023-11-01        4.30       NaN       NaN   \n",
       "\n",
       "   gen_hydro  gen_nuclear  gen_solar_pv  gen_solar_th  gen_total  gen_wind  \\\n",
       "0     5008.4       4304.5          51.4         194.1    23136.4    9951.7   \n",
       "1     3989.8       4305.5          51.4         194.1    21856.6   10426.5   \n",
       "2     3709.6       4306.5          51.2         194.1    21339.8   10832.7   \n",
       "3     3433.1       4307.5          51.2         194.1    20789.1   10736.3   \n",
       "4     3286.3       4307.5          51.2         194.1    20574.3   10669.2   \n",
       "\n",
       "   demand_total  year  month  day  hour  weekday  is_weekend  is_holiday  \n",
       "0       21757.3  2023     10   31    23        1           0       False  \n",
       "1       20661.0  2023     11    1     0        2           0        True  \n",
       "2       19951.5  2023     11    1     1        2           0        True  \n",
       "3       19426.9  2023     11    1     2        2           0        True  \n",
       "4       19100.8  2023     11    1     3        2           0        True  "
      ]
     },
     "execution_count": 118,
     "metadata": {},
     "output_type": "execute_result"
    }
   ],
   "source": [
    "import pandas as pd\n",
    "import numpy as np\n",
    "\n",
    "energy = pd.read_csv('df_final (1).csv')\n",
    "\n",
    "energy.head(5)"
   ]
  },
  {
   "cell_type": "markdown",
   "metadata": {},
   "source": [
    "## Data prep (1 points)\n",
    "\n",
    "As we saw in class, the NaN values represent missing data. In this dataset, the missing value means that the generation or demand was zero. Replace the NaN values in the dataset with zeros.\n",
    "\n",
    "**Hint:** Use the `fillna` method on the DataFrame, and use the `inplace=True` parameter to save the changes in the DataFrame in memory."
   ]
  },
  {
   "cell_type": "code",
   "execution_count": 119,
   "metadata": {},
   "outputs": [
    {
     "data": {
      "text/plain": [
       "datetime_utc    0.0\n",
       "date            0.0\n",
       "spot_price      0.0\n",
       "gen_ccgt        0.0\n",
       "gen_coal        0.0\n",
       "gen_hydro       0.0\n",
       "gen_nuclear     0.0\n",
       "gen_solar_pv    0.0\n",
       "gen_solar_th    0.0\n",
       "gen_total       0.0\n",
       "gen_wind        0.0\n",
       "demand_total    0.0\n",
       "year            0.0\n",
       "month           0.0\n",
       "day             0.0\n",
       "hour            0.0\n",
       "weekday         0.0\n",
       "is_weekend      0.0\n",
       "is_holiday      0.0\n",
       "dtype: float64"
      ]
     },
     "execution_count": 119,
     "metadata": {},
     "output_type": "execute_result"
    }
   ],
   "source": [
    "energy.fillna(0, inplace = True)\n",
    "\n",
    "energy.isna().mean()"
   ]
  },
  {
   "cell_type": "markdown",
   "metadata": {},
   "source": [
    "## Warming up (0.25 points each)\n",
    "\n",
    "* Do mondays in september have a higher average spot price than mondays in october?\n",
    "* Is Spain a windy country during springtime? Consider 'windy' when the wind generation is higher than the yearly average.\n",
    "* Does Spain use more Nuclear energy or Wind energy during the weekends?\n",
    "* Is summer a good season for solar energy in Spain?"
   ]
  },
  {
   "cell_type": "code",
   "execution_count": 120,
   "metadata": {},
   "outputs": [
    {
     "data": {
      "text/html": [
       "<div>\n",
       "<style scoped>\n",
       "    .dataframe tbody tr th:only-of-type {\n",
       "        vertical-align: middle;\n",
       "    }\n",
       "\n",
       "    .dataframe tbody tr th {\n",
       "        vertical-align: top;\n",
       "    }\n",
       "\n",
       "    .dataframe thead th {\n",
       "        text-align: right;\n",
       "    }\n",
       "</style>\n",
       "<table border=\"1\" class=\"dataframe\">\n",
       "  <thead>\n",
       "    <tr style=\"text-align: right;\">\n",
       "      <th></th>\n",
       "      <th>datetime_utc</th>\n",
       "      <th>date</th>\n",
       "      <th>spot_price</th>\n",
       "      <th>gen_ccgt</th>\n",
       "      <th>gen_coal</th>\n",
       "      <th>gen_hydro</th>\n",
       "      <th>gen_nuclear</th>\n",
       "      <th>gen_solar_pv</th>\n",
       "      <th>gen_solar_th</th>\n",
       "      <th>gen_total</th>\n",
       "      <th>gen_wind</th>\n",
       "      <th>demand_total</th>\n",
       "      <th>year</th>\n",
       "      <th>month</th>\n",
       "      <th>day</th>\n",
       "      <th>hour</th>\n",
       "      <th>weekday</th>\n",
       "      <th>is_weekend</th>\n",
       "      <th>is_holiday</th>\n",
       "    </tr>\n",
       "  </thead>\n",
       "  <tbody>\n",
       "    <tr>\n",
       "      <th>0</th>\n",
       "      <td>2023-10-31 23:00:00+00:00</td>\n",
       "      <td>2023-10-31</td>\n",
       "      <td>16.75</td>\n",
       "      <td>0.0</td>\n",
       "      <td>292.0</td>\n",
       "      <td>5008.4</td>\n",
       "      <td>4304.5</td>\n",
       "      <td>51.4</td>\n",
       "      <td>194.1</td>\n",
       "      <td>23136.4</td>\n",
       "      <td>9951.7</td>\n",
       "      <td>21757.3</td>\n",
       "      <td>2023</td>\n",
       "      <td>10</td>\n",
       "      <td>31</td>\n",
       "      <td>23</td>\n",
       "      <td>1</td>\n",
       "      <td>0</td>\n",
       "      <td>False</td>\n",
       "    </tr>\n",
       "    <tr>\n",
       "      <th>1</th>\n",
       "      <td>2023-11-01 00:00:00+00:00</td>\n",
       "      <td>2023-11-01</td>\n",
       "      <td>12.52</td>\n",
       "      <td>0.0</td>\n",
       "      <td>291.0</td>\n",
       "      <td>3989.8</td>\n",
       "      <td>4305.5</td>\n",
       "      <td>51.4</td>\n",
       "      <td>194.1</td>\n",
       "      <td>21856.6</td>\n",
       "      <td>10426.5</td>\n",
       "      <td>20661.0</td>\n",
       "      <td>2023</td>\n",
       "      <td>11</td>\n",
       "      <td>1</td>\n",
       "      <td>0</td>\n",
       "      <td>2</td>\n",
       "      <td>0</td>\n",
       "      <td>True</td>\n",
       "    </tr>\n",
       "    <tr>\n",
       "      <th>2</th>\n",
       "      <td>2023-11-01 01:00:00+00:00</td>\n",
       "      <td>2023-11-01</td>\n",
       "      <td>4.99</td>\n",
       "      <td>0.0</td>\n",
       "      <td>180.0</td>\n",
       "      <td>3709.6</td>\n",
       "      <td>4306.5</td>\n",
       "      <td>51.2</td>\n",
       "      <td>194.1</td>\n",
       "      <td>21339.8</td>\n",
       "      <td>10832.7</td>\n",
       "      <td>19951.5</td>\n",
       "      <td>2023</td>\n",
       "      <td>11</td>\n",
       "      <td>1</td>\n",
       "      <td>1</td>\n",
       "      <td>2</td>\n",
       "      <td>0</td>\n",
       "      <td>True</td>\n",
       "    </tr>\n",
       "  </tbody>\n",
       "</table>\n",
       "</div>"
      ],
      "text/plain": [
       "                datetime_utc        date  spot_price  gen_ccgt  gen_coal  \\\n",
       "0  2023-10-31 23:00:00+00:00  2023-10-31       16.75       0.0     292.0   \n",
       "1  2023-11-01 00:00:00+00:00  2023-11-01       12.52       0.0     291.0   \n",
       "2  2023-11-01 01:00:00+00:00  2023-11-01        4.99       0.0     180.0   \n",
       "\n",
       "   gen_hydro  gen_nuclear  gen_solar_pv  gen_solar_th  gen_total  gen_wind  \\\n",
       "0     5008.4       4304.5          51.4         194.1    23136.4    9951.7   \n",
       "1     3989.8       4305.5          51.4         194.1    21856.6   10426.5   \n",
       "2     3709.6       4306.5          51.2         194.1    21339.8   10832.7   \n",
       "\n",
       "   demand_total  year  month  day  hour  weekday  is_weekend  is_holiday  \n",
       "0       21757.3  2023     10   31    23        1           0       False  \n",
       "1       20661.0  2023     11    1     0        2           0        True  \n",
       "2       19951.5  2023     11    1     1        2           0        True  "
      ]
     },
     "execution_count": 120,
     "metadata": {},
     "output_type": "execute_result"
    }
   ],
   "source": [
    "energy.head(3)"
   ]
  },
  {
   "cell_type": "code",
   "execution_count": 121,
   "metadata": {},
   "outputs": [
    {
     "name": "stdout",
     "output_type": "stream",
     "text": [
      "Mondays in september have a higher avg spot price: False\n",
      "Sep = 94.06180412371135 and Oct = 96.1101388888889\n"
     ]
    }
   ],
   "source": [
    "mon_sep = energy[(energy['weekday'] == 0) & (energy['month'] == 9)]['spot_price'].mean()\n",
    "mon_oct = energy[(energy['weekday'] == 0) & (energy['month'] == 10)]['spot_price'].mean()\n",
    "\n",
    "print(f'Mondays in september have a higher avg spot price: {mon_sep > mon_oct}')\n",
    "print(f'Sep = {mon_sep} and Oct = {mon_oct}')"
   ]
  },
  {
   "cell_type": "code",
   "execution_count": 122,
   "metadata": {},
   "outputs": [
    {
     "name": "stdout",
     "output_type": "stream",
     "text": [
      "Wind generation is above the yearly average the most in spring\n"
     ]
    },
    {
     "data": {
      "text/plain": [
       "season\n",
       "fall      4229\n",
       "spring    4279\n",
       "summer    4278\n",
       "winter    3486\n",
       "Name: isgenmore, dtype: int64"
      ]
     },
     "execution_count": 122,
     "metadata": {},
     "output_type": "execute_result"
    }
   ],
   "source": [
    "energy['season'] = np.where(energy['month'].isin([6, 7, 8]), 'summer', \n",
    "                            np.where(energy['month'].isin([12, 1, 2]), 'winter', \n",
    "                                     np.where(energy['month'].isin([3, 4, 5]), 'spring', 'fall')))\n",
    "\n",
    "wind = energy.groupby('season')['gen_wind'].mean()\n",
    "\n",
    "wind['spring']\n",
    "\n",
    "energy['yearly_wind'] = energy.groupby('year')['gen_wind'].transform('mean')\n",
    "\n",
    "energy['isgenmore'] = energy['gen_wind'] > energy['yearly_wind']\n",
    "\n",
    "result = energy.groupby('season')['isgenmore'].size()\n",
    "\n",
    "print(f'Wind generation is above the yearly average the most in {result.idxmax()}')\n",
    "\n",
    "result"
   ]
  },
  {
   "cell_type": "code",
   "execution_count": 123,
   "metadata": {},
   "outputs": [
    {
     "name": "stdout",
     "output_type": "stream",
     "text": [
      "7436.872090517241 5783.706077586206\n"
     ]
    }
   ],
   "source": [
    "weekend_nuclear = energy[energy['is_weekend'] == 1]['gen_nuclear'].mean()\n",
    "weekend_wind = energy[energy['is_weekend'] == 1]['gen_wind'].mean()\n",
    "\n",
    "print(weekend_wind, weekend_nuclear)"
   ]
  },
  {
   "cell_type": "code",
   "execution_count": 124,
   "metadata": {},
   "outputs": [
    {
     "name": "stdout",
     "output_type": "stream",
     "text": [
      "On average the most solar output is summer\n",
      "season\n",
      "fall      4395.996524\n",
      "spring    5420.971278\n",
      "summer    6893.731019\n",
      "winter    3018.818789\n",
      "Name: gen_solar_pv, dtype: float64\n"
     ]
    }
   ],
   "source": [
    "solar = energy.groupby('season')['gen_solar_pv'].mean()\n",
    "\n",
    "print(f'On average the most solar output is summer')\n",
    "\n",
    "print(solar)"
   ]
  },
  {
   "cell_type": "markdown",
   "metadata": {},
   "source": [
    "## Battery storage (1 point)\n",
    "\n",
    "As a manager, you are considering investing in battery storage to store electricity when the price is low and sell it when the price is high.\n",
    "\n",
    "The batteries you can buy can only store electricity for 1 hour, and release it for 1 hour. You can buy as many batteries as you want.\n",
    "\n",
    "Taking into account the spot prices of electricity, which hour (on average) is the best to buy electricity to store in the batteries? Which hour is the best to sell the electricity stored in the batteries?\n",
    "\n",
    "**Hint:** Calculate the average spot price for each hour of the day, and check the hours at which the average spot price is the lowest and the highest.\n",
    "\n",
    "**The solution is:**\n",
    "* Buy/store at hour 13\n",
    "* Sell at hour 19"
   ]
  },
  {
   "cell_type": "code",
   "execution_count": 125,
   "metadata": {},
   "outputs": [
    {
     "data": {
      "text/html": [
       "<div>\n",
       "<style scoped>\n",
       "    .dataframe tbody tr th:only-of-type {\n",
       "        vertical-align: middle;\n",
       "    }\n",
       "\n",
       "    .dataframe tbody tr th {\n",
       "        vertical-align: top;\n",
       "    }\n",
       "\n",
       "    .dataframe thead th {\n",
       "        text-align: right;\n",
       "    }\n",
       "</style>\n",
       "<table border=\"1\" class=\"dataframe\">\n",
       "  <thead>\n",
       "    <tr style=\"text-align: right;\">\n",
       "      <th></th>\n",
       "      <th>datetime_utc</th>\n",
       "      <th>date</th>\n",
       "      <th>spot_price</th>\n",
       "      <th>gen_ccgt</th>\n",
       "      <th>gen_coal</th>\n",
       "      <th>gen_hydro</th>\n",
       "      <th>gen_nuclear</th>\n",
       "      <th>gen_solar_pv</th>\n",
       "      <th>gen_solar_th</th>\n",
       "      <th>gen_total</th>\n",
       "      <th>gen_wind</th>\n",
       "      <th>demand_total</th>\n",
       "      <th>year</th>\n",
       "      <th>month</th>\n",
       "      <th>day</th>\n",
       "      <th>hour</th>\n",
       "      <th>weekday</th>\n",
       "      <th>is_weekend</th>\n",
       "      <th>is_holiday</th>\n",
       "      <th>season</th>\n",
       "      <th>yearly_wind</th>\n",
       "      <th>isgenmore</th>\n",
       "    </tr>\n",
       "  </thead>\n",
       "  <tbody>\n",
       "    <tr>\n",
       "      <th>0</th>\n",
       "      <td>2023-10-31 23:00:00+00:00</td>\n",
       "      <td>2023-10-31</td>\n",
       "      <td>16.75</td>\n",
       "      <td>0.0</td>\n",
       "      <td>292.0</td>\n",
       "      <td>5008.4</td>\n",
       "      <td>4304.5</td>\n",
       "      <td>51.4</td>\n",
       "      <td>194.1</td>\n",
       "      <td>23136.4</td>\n",
       "      <td>9951.7</td>\n",
       "      <td>21757.3</td>\n",
       "      <td>2023</td>\n",
       "      <td>10</td>\n",
       "      <td>31</td>\n",
       "      <td>23</td>\n",
       "      <td>1</td>\n",
       "      <td>0</td>\n",
       "      <td>False</td>\n",
       "      <td>fall</td>\n",
       "      <td>7893.359406</td>\n",
       "      <td>True</td>\n",
       "    </tr>\n",
       "    <tr>\n",
       "      <th>1</th>\n",
       "      <td>2023-11-01 00:00:00+00:00</td>\n",
       "      <td>2023-11-01</td>\n",
       "      <td>12.52</td>\n",
       "      <td>0.0</td>\n",
       "      <td>291.0</td>\n",
       "      <td>3989.8</td>\n",
       "      <td>4305.5</td>\n",
       "      <td>51.4</td>\n",
       "      <td>194.1</td>\n",
       "      <td>21856.6</td>\n",
       "      <td>10426.5</td>\n",
       "      <td>20661.0</td>\n",
       "      <td>2023</td>\n",
       "      <td>11</td>\n",
       "      <td>1</td>\n",
       "      <td>0</td>\n",
       "      <td>2</td>\n",
       "      <td>0</td>\n",
       "      <td>True</td>\n",
       "      <td>fall</td>\n",
       "      <td>7893.359406</td>\n",
       "      <td>True</td>\n",
       "    </tr>\n",
       "    <tr>\n",
       "      <th>2</th>\n",
       "      <td>2023-11-01 01:00:00+00:00</td>\n",
       "      <td>2023-11-01</td>\n",
       "      <td>4.99</td>\n",
       "      <td>0.0</td>\n",
       "      <td>180.0</td>\n",
       "      <td>3709.6</td>\n",
       "      <td>4306.5</td>\n",
       "      <td>51.2</td>\n",
       "      <td>194.1</td>\n",
       "      <td>21339.8</td>\n",
       "      <td>10832.7</td>\n",
       "      <td>19951.5</td>\n",
       "      <td>2023</td>\n",
       "      <td>11</td>\n",
       "      <td>1</td>\n",
       "      <td>1</td>\n",
       "      <td>2</td>\n",
       "      <td>0</td>\n",
       "      <td>True</td>\n",
       "      <td>fall</td>\n",
       "      <td>7893.359406</td>\n",
       "      <td>True</td>\n",
       "    </tr>\n",
       "  </tbody>\n",
       "</table>\n",
       "</div>"
      ],
      "text/plain": [
       "                datetime_utc        date  spot_price  gen_ccgt  gen_coal  \\\n",
       "0  2023-10-31 23:00:00+00:00  2023-10-31       16.75       0.0     292.0   \n",
       "1  2023-11-01 00:00:00+00:00  2023-11-01       12.52       0.0     291.0   \n",
       "2  2023-11-01 01:00:00+00:00  2023-11-01        4.99       0.0     180.0   \n",
       "\n",
       "   gen_hydro  gen_nuclear  gen_solar_pv  gen_solar_th  gen_total  gen_wind  \\\n",
       "0     5008.4       4304.5          51.4         194.1    23136.4    9951.7   \n",
       "1     3989.8       4305.5          51.4         194.1    21856.6   10426.5   \n",
       "2     3709.6       4306.5          51.2         194.1    21339.8   10832.7   \n",
       "\n",
       "   demand_total  year  month  day  hour  weekday  is_weekend  is_holiday  \\\n",
       "0       21757.3  2023     10   31    23        1           0       False   \n",
       "1       20661.0  2023     11    1     0        2           0        True   \n",
       "2       19951.5  2023     11    1     1        2           0        True   \n",
       "\n",
       "  season  yearly_wind  isgenmore  \n",
       "0   fall  7893.359406       True  \n",
       "1   fall  7893.359406       True  \n",
       "2   fall  7893.359406       True  "
      ]
     },
     "execution_count": 125,
     "metadata": {},
     "output_type": "execute_result"
    }
   ],
   "source": [
    "energy.head(3)"
   ]
  },
  {
   "cell_type": "code",
   "execution_count": 126,
   "metadata": {},
   "outputs": [
    {
     "name": "stdout",
     "output_type": "stream",
     "text": [
      "Buy on hour 13, sell on hour 19\n"
     ]
    }
   ],
   "source": [
    "sell = energy.groupby('hour')['spot_price'].mean().idxmax()\n",
    "buy = energy.groupby('hour')['spot_price'].mean().idxmin()\n",
    "\n",
    "print(f'Buy on hour {buy}, sell on hour {sell}')"
   ]
  },
  {
   "cell_type": "markdown",
   "metadata": {},
   "source": [
    "Given these results, the best hour to store electricity is hour 13 and the best hour to sell the electricity is hour 19."
   ]
  },
  {
   "cell_type": "markdown",
   "metadata": {},
   "source": [
    "## The renewable energy (1 point, open ended)\n",
    "\n",
    "We can consider that the renewable energy is the sum of the generation from hydro, solar, and wind sources.\n",
    "\n",
    "Calculate the percentage of renewable energy in the total generation for each hour, using a column called `renewable_percentage`.\n",
    "\n",
    "Is this percentage related to the spot price of electricity? Use the correlation between the percentage of renewable energy and the spot price to answer this question."
   ]
  },
  {
   "cell_type": "code",
   "execution_count": 127,
   "metadata": {},
   "outputs": [
    {
     "data": {
      "text/html": [
       "<div>\n",
       "<style scoped>\n",
       "    .dataframe tbody tr th:only-of-type {\n",
       "        vertical-align: middle;\n",
       "    }\n",
       "\n",
       "    .dataframe tbody tr th {\n",
       "        vertical-align: top;\n",
       "    }\n",
       "\n",
       "    .dataframe thead th {\n",
       "        text-align: right;\n",
       "    }\n",
       "</style>\n",
       "<table border=\"1\" class=\"dataframe\">\n",
       "  <thead>\n",
       "    <tr style=\"text-align: right;\">\n",
       "      <th></th>\n",
       "      <th>datetime_utc</th>\n",
       "      <th>date</th>\n",
       "      <th>spot_price</th>\n",
       "      <th>gen_ccgt</th>\n",
       "      <th>gen_coal</th>\n",
       "      <th>gen_hydro</th>\n",
       "      <th>gen_nuclear</th>\n",
       "      <th>gen_solar_pv</th>\n",
       "      <th>gen_solar_th</th>\n",
       "      <th>gen_total</th>\n",
       "      <th>gen_wind</th>\n",
       "      <th>demand_total</th>\n",
       "      <th>year</th>\n",
       "      <th>month</th>\n",
       "      <th>day</th>\n",
       "      <th>hour</th>\n",
       "      <th>weekday</th>\n",
       "      <th>is_weekend</th>\n",
       "      <th>is_holiday</th>\n",
       "      <th>season</th>\n",
       "      <th>yearly_wind</th>\n",
       "      <th>isgenmore</th>\n",
       "    </tr>\n",
       "  </thead>\n",
       "  <tbody>\n",
       "    <tr>\n",
       "      <th>0</th>\n",
       "      <td>2023-10-31 23:00:00+00:00</td>\n",
       "      <td>2023-10-31</td>\n",
       "      <td>16.75</td>\n",
       "      <td>0.0</td>\n",
       "      <td>292.0</td>\n",
       "      <td>5008.4</td>\n",
       "      <td>4304.5</td>\n",
       "      <td>51.4</td>\n",
       "      <td>194.1</td>\n",
       "      <td>23136.4</td>\n",
       "      <td>9951.7</td>\n",
       "      <td>21757.3</td>\n",
       "      <td>2023</td>\n",
       "      <td>10</td>\n",
       "      <td>31</td>\n",
       "      <td>23</td>\n",
       "      <td>1</td>\n",
       "      <td>0</td>\n",
       "      <td>False</td>\n",
       "      <td>fall</td>\n",
       "      <td>7893.359406</td>\n",
       "      <td>True</td>\n",
       "    </tr>\n",
       "  </tbody>\n",
       "</table>\n",
       "</div>"
      ],
      "text/plain": [
       "                datetime_utc        date  spot_price  gen_ccgt  gen_coal  \\\n",
       "0  2023-10-31 23:00:00+00:00  2023-10-31       16.75       0.0     292.0   \n",
       "\n",
       "   gen_hydro  gen_nuclear  gen_solar_pv  gen_solar_th  gen_total  gen_wind  \\\n",
       "0     5008.4       4304.5          51.4         194.1    23136.4    9951.7   \n",
       "\n",
       "   demand_total  year  month  day  hour  weekday  is_weekend  is_holiday  \\\n",
       "0       21757.3  2023     10   31    23        1           0       False   \n",
       "\n",
       "  season  yearly_wind  isgenmore  \n",
       "0   fall  7893.359406       True  "
      ]
     },
     "execution_count": 127,
     "metadata": {},
     "output_type": "execute_result"
    }
   ],
   "source": [
    "\n",
    "pd.set_option('display.max_columns', None)\n",
    "\n",
    "energy.head(1)"
   ]
  },
  {
   "cell_type": "code",
   "execution_count": 128,
   "metadata": {},
   "outputs": [
    {
     "data": {
      "text/html": [
       "<div>\n",
       "<style scoped>\n",
       "    .dataframe tbody tr th:only-of-type {\n",
       "        vertical-align: middle;\n",
       "    }\n",
       "\n",
       "    .dataframe tbody tr th {\n",
       "        vertical-align: top;\n",
       "    }\n",
       "\n",
       "    .dataframe thead th {\n",
       "        text-align: right;\n",
       "    }\n",
       "</style>\n",
       "<table border=\"1\" class=\"dataframe\">\n",
       "  <thead>\n",
       "    <tr style=\"text-align: right;\">\n",
       "      <th></th>\n",
       "      <th>renewable_percentage</th>\n",
       "      <th>spot_price</th>\n",
       "    </tr>\n",
       "  </thead>\n",
       "  <tbody>\n",
       "    <tr>\n",
       "      <th>renewable_percentage</th>\n",
       "      <td>1.000000</td>\n",
       "      <td>-0.733877</td>\n",
       "    </tr>\n",
       "    <tr>\n",
       "      <th>spot_price</th>\n",
       "      <td>-0.733877</td>\n",
       "      <td>1.000000</td>\n",
       "    </tr>\n",
       "  </tbody>\n",
       "</table>\n",
       "</div>"
      ],
      "text/plain": [
       "                      renewable_percentage  spot_price\n",
       "renewable_percentage              1.000000   -0.733877\n",
       "spot_price                       -0.733877    1.000000"
      ]
     },
     "execution_count": 128,
     "metadata": {},
     "output_type": "execute_result"
    }
   ],
   "source": [
    "energy['renewable_energy'] = energy['gen_hydro'] + energy['gen_solar_pv'] + energy['gen_solar_th'] + energy['gen_wind']\n",
    "energy['renewable_percentage'] = energy['renewable_energy'] / energy['gen_total']\n",
    "\n",
    "energy[['renewable_percentage', 'spot_price']].corr()"
   ]
  },
  {
   "cell_type": "markdown",
   "metadata": {},
   "source": [
    "## Fossil fuels (1 point, open ended)\n",
    "\n",
    "Calculate the percentage of fossil fuels in the total generation for each hour, using a column called `fossil_percentage`.\n",
    "\n",
    "We can consider that the fossil fuels are the sum of the generation from coal and CCGT sources.\n",
    "\n",
    "Is this percentage related to the spot price of electricity? Use the correlation between the percentage of fossil fuels and the spot price to answer this question."
   ]
  },
  {
   "cell_type": "code",
   "execution_count": null,
   "metadata": {},
   "outputs": [],
   "source": []
  },
  {
   "cell_type": "markdown",
   "metadata": {},
   "source": [
    "## The thermal gap (1 point)\n",
    "\n",
    "The thermal gap is the difference between the total demand and the renewable power generation. Calculate the thermal gap for each hour of the day.\n",
    "\n",
    "Save it in a column called `thermal_gap`, and also calculate the thermal gap as a percentage of the total demand, saving it in a column called `thermal_gap_percentage`.\n",
    "\n",
    "Also, calculate the average thermal gap for each month of the year.\n",
    "\n",
    "**The solution is:**\n",
    "\n",
    "```python\n",
    "1      9178.528641\n",
    "2      9930.591831\n",
    "3      6201.406861\n",
    "4      5069.532281\n",
    "5      5817.860541\n",
    "6      8562.806098\n",
    "7     10792.112760\n",
    "8     10641.932663\n",
    "9     10356.286442\n",
    "10     8380.627462\n",
    "11     7744.247308\n",
    "12     8535.662327\n",
    "```"
   ]
  },
  {
   "cell_type": "code",
   "execution_count": 129,
   "metadata": {},
   "outputs": [
    {
     "data": {
      "text/plain": [
       "month\n",
       "1      9178.528641\n",
       "2      9930.591831\n",
       "3      6201.406861\n",
       "4      5069.532281\n",
       "5      5817.860541\n",
       "6      8562.806098\n",
       "7     10792.112760\n",
       "8     10641.932663\n",
       "9     10356.286442\n",
       "10     8380.627462\n",
       "11     7744.247308\n",
       "12     8535.662327\n",
       "Name: thermal_gap, dtype: float64"
      ]
     },
     "execution_count": 129,
     "metadata": {},
     "output_type": "execute_result"
    }
   ],
   "source": [
    "energy['thermal_gap'] = energy['demand_total'] - energy['renewable_energy']\n",
    "energy['thermal_gap_percentage'] = energy['thermal_gap'] / energy['demand_total'] * 100\n",
    "\n",
    "energy.groupby('month')['thermal_gap'].mean()"
   ]
  },
  {
   "cell_type": "markdown",
   "metadata": {},
   "source": [
    "## More thermal gap (1 point, open ended)\n",
    "\n",
    "Is the thermal gap related to the spot price of electricity? Use the correlation between the thermal gap and the spot price to answer this question.\n",
    "\n",
    "Is it a stronger predictor or price than the relation between the percentage of renewable energy and the spot price?"
   ]
  },
  {
   "cell_type": "code",
   "execution_count": 130,
   "metadata": {},
   "outputs": [
    {
     "name": "stdout",
     "output_type": "stream",
     "text": [
      "             thermal_gap  spot_price\n",
      "thermal_gap     1.000000    0.824972\n",
      "spot_price      0.824972    1.000000\n",
      "It is strongly correlated at 0.8249719458412461\n"
     ]
    }
   ],
   "source": [
    "corr = energy[['thermal_gap', 'spot_price']].corr()\n",
    "print(corr)\n",
    "\n",
    "corr2 = corr.loc['thermal_gap', 'spot_price']\n",
    "\n",
    "print(f'It is strongly correlated at {corr2}')\n"
   ]
  },
  {
   "cell_type": "markdown",
   "metadata": {},
   "source": [
    "## Understanding CCGT plants  (1 points)\n",
    "\n",
    "The CCGT plants burn natural gas to generate electricity.\n",
    "\n",
    "This power generation comes with some losses, and the efficiency of the CCGT plants is around 55%. This means that for every 100 MWh of natural gas burned, only 55 MWh are converted into electricity, which is what is measured in the `gen_ccgt` column.\n",
    "\n",
    "Calculate the total amount of natural gas burned in the CCGT plants in the dataset in MWh.\n",
    "\n",
    "Save this information under a column called `natural_gas_burned` in the `energy` DataFrame.\n",
    "\n",
    "What was the total amount of natural gas burned in the CCGT plants in 2023? Save this information in a variable called `natural_gas_burned_2023`.\n",
    "\n",
    "**The solution is `30001834.36`**"
   ]
  },
  {
   "cell_type": "code",
   "execution_count": 131,
   "metadata": {},
   "outputs": [
    {
     "data": {
      "text/plain": [
       "30001834.363636363"
      ]
     },
     "execution_count": 131,
     "metadata": {},
     "output_type": "execute_result"
    }
   ],
   "source": [
    "total_ccgt_mwh = energy['gen_ccgt'].sum()\n",
    "\n",
    "total_ccgt_mwh / 0.55\n",
    "\n",
    "energy['natural_gas_burned'] = energy['gen_ccgt'] / 0.55\n",
    "\n",
    "energy[energy['year'] == 2023]['natural_gas_burned'].sum()"
   ]
  },
  {
   "cell_type": "markdown",
   "metadata": {},
   "source": [
    "## Interlude (1 point)\n",
    "\n",
    "Create a new column called `year_month` that contains the year and month of the datetime in the format `YYYY-MM`. The month shoud be a two-digit number and the year a four-digit number. Both of them should be separated by a hyphen, and the month should have a leading zero if it is a single-digit number.\n",
    "\n",
    "Examples:\n",
    "* For year 2023 and month 1, the value should be `2023-01`.\n",
    "* For year 2023 and month 12, the value should be `2023-12`.\n",
    "\n",
    "**Hint**: you can use the `np.where` function to add the leading zero to the month, and then you can concatenate the year and month into a single string value."
   ]
  },
  {
   "cell_type": "code",
   "execution_count": 135,
   "metadata": {},
   "outputs": [
    {
     "data": {
      "text/plain": [
       "year_month\n",
       "2024_03    722\n",
       "2023_10    721\n",
       "2024_05    721\n",
       "2024_10    721\n",
       "2023_07    721\n",
       "2024_01    721\n",
       "2023_12    721\n",
       "2023_05    721\n",
       "2024_08    721\n",
       "2023_08    721\n",
       "2023_01    721\n",
       "2023_03    721\n",
       "2024_07    721\n",
       "2024_04    697\n",
       "2024_09    697\n",
       "2023_11    697\n",
       "2023_09    697\n",
       "2023_04    697\n",
       "2023_06    697\n",
       "2024_06    697\n",
       "2024_11    696\n",
       "2024_02    673\n",
       "2023_02    649\n",
       "2022_12      1\n",
       "Name: count, dtype: int64"
      ]
     },
     "execution_count": 135,
     "metadata": {},
     "output_type": "execute_result"
    }
   ],
   "source": [
    "energy['month'] = np.where(energy['month'].isin([1, 2, 3, 4, 5, 6, 7, 8, 9]), '0' + energy['month'].astype(str), energy['month'])\n",
    "energy['month'].value_counts()\n",
    "\n",
    "\n",
    "energy[\"year_month\"] = energy['year'].astype(str) + \"_\" + energy['month'].astype(str)\n",
    "energy['year_month'].value_counts()"
   ]
  },
  {
   "cell_type": "markdown",
   "metadata": {},
   "source": [
    "## Calculating metrics (0.25 points each)\n",
    "\n",
    "The board of directors asked you to calculate some metrics to understand the market better.\n",
    "\n",
    "* Using `year_month` from the previous exercise, calculate the average spot price per `year_month`, and save the results in a DataFrame called `monthly_spot_price`.\n",
    "* Using `agg`, calculate, for each month, the maximum and minimum `spot_price`, `gen_total`, and `demand_total`, saving the results in a DataFrame called `monthly_max_min`.\n",
    "* Calculate the average spot price of electricity for each day of the week, saving the result in a DataFrame called `daily_spot_price`.\n",
    "* Calculate the average demand for each month, saving the result in a DataFrame called `monthly_demand`."
   ]
  },
  {
   "cell_type": "code",
   "execution_count": 139,
   "metadata": {},
   "outputs": [],
   "source": [
    "monthly_spot_price = energy.groupby('year_month')['spot_price'].mean()\n",
    "\n",
    "monthly_max_min = energy.groupby('year_month')[['spot_price', 'gen_total', 'demand_total']].agg(['max', 'min'])\n",
    "\n",
    "dialy_spot_price = energy.groupby('day')['spot_price'].mean()\n",
    "\n",
    "monthly_demand = energy.groupby('month')['demand_total'].mean()"
   ]
  },
  {
   "cell_type": "markdown",
   "metadata": {},
   "source": [
    "## Understanding the wind power (1 point)\n",
    "\n",
    "The wind power generators extract the kinetic energy of the wind to generate electricity. This means that the wind power generation is related to the wind speed. The wind speed then is reduced by the wind power generators, because some of the speed-related energy is converted into electricity.\n",
    "\n",
    "The maximum amount of energy that can be extracted from the wind is related to the Betz limit, which is around 59.3%. This means that the maximum efficiency of a wind power generator is around 59.3%.\n",
    "\n",
    "Use this Betz limit to calculate the original energy of the wind before it was reduced by the wind power generators. Save this information in a column called `wind_original` in the `energy` DataFrame.\n",
    "\n",
    "Use `map` or `apply` to calculate this value."
   ]
  },
  {
   "cell_type": "code",
   "execution_count": 115,
   "metadata": {},
   "outputs": [
    {
     "data": {
      "text/html": [
       "<div>\n",
       "<style scoped>\n",
       "    .dataframe tbody tr th:only-of-type {\n",
       "        vertical-align: middle;\n",
       "    }\n",
       "\n",
       "    .dataframe tbody tr th {\n",
       "        vertical-align: top;\n",
       "    }\n",
       "\n",
       "    .dataframe thead th {\n",
       "        text-align: right;\n",
       "    }\n",
       "</style>\n",
       "<table border=\"1\" class=\"dataframe\">\n",
       "  <thead>\n",
       "    <tr style=\"text-align: right;\">\n",
       "      <th></th>\n",
       "      <th>gen_wind</th>\n",
       "      <th>wind_original</th>\n",
       "    </tr>\n",
       "  </thead>\n",
       "  <tbody>\n",
       "    <tr>\n",
       "      <th>0</th>\n",
       "      <td>9951.7</td>\n",
       "      <td>16781.956155</td>\n",
       "    </tr>\n",
       "    <tr>\n",
       "      <th>1</th>\n",
       "      <td>10426.5</td>\n",
       "      <td>17582.630691</td>\n",
       "    </tr>\n",
       "    <tr>\n",
       "      <th>2</th>\n",
       "      <td>10832.7</td>\n",
       "      <td>18267.622260</td>\n",
       "    </tr>\n",
       "    <tr>\n",
       "      <th>3</th>\n",
       "      <td>10736.3</td>\n",
       "      <td>18105.059022</td>\n",
       "    </tr>\n",
       "    <tr>\n",
       "      <th>4</th>\n",
       "      <td>10669.2</td>\n",
       "      <td>17991.905565</td>\n",
       "    </tr>\n",
       "    <tr>\n",
       "      <th>...</th>\n",
       "      <td>...</td>\n",
       "      <td>...</td>\n",
       "    </tr>\n",
       "    <tr>\n",
       "      <th>16267</th>\n",
       "      <td>8957.8</td>\n",
       "      <td>15105.902192</td>\n",
       "    </tr>\n",
       "    <tr>\n",
       "      <th>16268</th>\n",
       "      <td>8627.9</td>\n",
       "      <td>14549.578415</td>\n",
       "    </tr>\n",
       "    <tr>\n",
       "      <th>16269</th>\n",
       "      <td>7945.0</td>\n",
       "      <td>13397.976391</td>\n",
       "    </tr>\n",
       "    <tr>\n",
       "      <th>16270</th>\n",
       "      <td>7279.6</td>\n",
       "      <td>12275.885329</td>\n",
       "    </tr>\n",
       "    <tr>\n",
       "      <th>16271</th>\n",
       "      <td>7062.3</td>\n",
       "      <td>11909.443508</td>\n",
       "    </tr>\n",
       "  </tbody>\n",
       "</table>\n",
       "<p>16272 rows × 2 columns</p>\n",
       "</div>"
      ],
      "text/plain": [
       "       gen_wind  wind_original\n",
       "0        9951.7   16781.956155\n",
       "1       10426.5   17582.630691\n",
       "2       10832.7   18267.622260\n",
       "3       10736.3   18105.059022\n",
       "4       10669.2   17991.905565\n",
       "...         ...            ...\n",
       "16267    8957.8   15105.902192\n",
       "16268    8627.9   14549.578415\n",
       "16269    7945.0   13397.976391\n",
       "16270    7279.6   12275.885329\n",
       "16271    7062.3   11909.443508\n",
       "\n",
       "[16272 rows x 2 columns]"
      ]
     },
     "execution_count": 115,
     "metadata": {},
     "output_type": "execute_result"
    }
   ],
   "source": [
    "energy['wind_original'] = energy['gen_wind'].map(lambda wind: wind / 0.593)\n",
    "\n",
    "energy[['gen_wind', 'wind_original']]"
   ]
  },
  {
   "cell_type": "markdown",
   "metadata": {},
   "source": [
    "## More questions from the board (0.25 point each)\n",
    "\n",
    "* On average, what's the cheapest month to buy electricity? Save the result in a variable called `cheapest_month`.\n",
    "* On average, what's the most expensive month to buy electricity? Save the result in a variable called `most_expensive_month`.\n",
    "* What is the average nuclear power generation in the cheapest month? Save the result in a variable called `average_nuclear_cheapest`.\n",
    "* What is the average nuclear power generation in the most expensive month? Save the result in a variable called `average_nuclear_expensive`.\n",
    "\n",
    "**Hint:** After using idxmin or idxmax, you can extract the index with `.values[0]` to get only the number, not the whole series."
   ]
  },
  {
   "cell_type": "code",
   "execution_count": 143,
   "metadata": {},
   "outputs": [
    {
     "data": {
      "text/plain": [
       "'08'"
      ]
     },
     "execution_count": 143,
     "metadata": {},
     "output_type": "execute_result"
    }
   ],
   "source": [
    "energy.groupby('month')['spot_price'].mean().idxmax()"
   ]
  },
  {
   "cell_type": "code",
   "execution_count": 142,
   "metadata": {},
   "outputs": [
    {
     "data": {
      "text/plain": [
       "'04'"
      ]
     },
     "execution_count": 142,
     "metadata": {},
     "output_type": "execute_result"
    }
   ],
   "source": [
    "energy.groupby('month')['spot_price'].mean().idxmin()"
   ]
  },
  {
   "cell_type": "markdown",
   "metadata": {},
   "source": [
    "## Football and energy demand in Spain. (1 point, open ended)\n",
    "\n",
    "The Euro 2024 final match happened on Sunday 14th of July 2024 at 7PM UTC. The match was between Spain and England and, of course, Spain won.\n",
    "\n",
    "Was there any indicator in the data that the match was happening?"
   ]
  },
  {
   "cell_type": "code",
   "execution_count": null,
   "metadata": {},
   "outputs": [],
   "source": []
  },
  {
   "cell_type": "markdown",
   "metadata": {},
   "source": [
    "## Stretching and cooling down (1 point)\n",
    "\n",
    "* Using the average price per hour, how much lower as a percentage is the minimum price compared to the maximum price?\n",
    "* Using the average demand per hour, how much lower as a percentage is the minimum demand compared to the maximum demand?\n",
    "* Are these two percentages related?"
   ]
  },
  {
   "cell_type": "code",
   "execution_count": null,
   "metadata": {},
   "outputs": [],
   "source": []
  }
 ],
 "metadata": {
  "kernelspec": {
   "display_name": "Python 3",
   "language": "python",
   "name": "python3"
  },
  "language_info": {
   "codemirror_mode": {
    "name": "ipython",
    "version": 3
   },
   "file_extension": ".py",
   "mimetype": "text/x-python",
   "name": "python",
   "nbconvert_exporter": "python",
   "pygments_lexer": "ipython3",
   "version": "3.8.2"
  }
 },
 "nbformat": 4,
 "nbformat_minor": 2
}
