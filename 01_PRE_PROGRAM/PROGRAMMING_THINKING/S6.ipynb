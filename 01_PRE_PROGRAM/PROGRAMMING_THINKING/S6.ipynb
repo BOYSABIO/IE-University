{
 "cells": [
  {
   "cell_type": "markdown",
   "metadata": {},
   "source": [
    "### ELIF Exercises"
   ]
  },
  {
   "cell_type": "code",
   "execution_count": 1,
   "metadata": {},
   "outputs": [
    {
     "name": "stdout",
     "output_type": "stream",
     "text": [
      "Number is positive\n",
      "You cannot go\n",
      "It's warm\n"
     ]
    }
   ],
   "source": [
    "# Check if Number is Positive\n",
    "number = int(input(\"Enter a number: \"))\n",
    "if number % 2 == 0:\n",
    "    print(\"Number is positive\")\n",
    "else:\n",
    "    print(\"Number is negative\")"
   ]
  },
  {
   "cell_type": "code",
   "execution_count": 5,
   "metadata": {},
   "outputs": [
    {
     "name": "stdout",
     "output_type": "stream",
     "text": [
      "You cannot go\n"
     ]
    }
   ],
   "source": [
    "# Check if a person can go to a bar\n",
    "age = int(input(\"Enter age: \"))\n",
    "if age >= 18:\n",
    "    print(\"You can go\")\n",
    "elif age < 18:\n",
    "    print(\"You cannot go\")\n",
    "else:\n",
    "    print(\"Invalid Number\")"
   ]
  },
  {
   "cell_type": "code",
   "execution_count": 4,
   "metadata": {},
   "outputs": [
    {
     "name": "stdout",
     "output_type": "stream",
     "text": [
      "It's cold\n"
     ]
    }
   ],
   "source": [
    "# Tempurature Check\n",
    "temp = int(input(\"Enter temperature: \"))\n",
    "if temp < 0:\n",
    "    print(\"It's freezing\")\n",
    "elif temp > 0 and temp < 12:\n",
    "    print(\"It's cold\")\n",
    "elif temp > 13 and temp < 24:\n",
    "    print(\"It's cold\")\n",
    "else:\n",
    "    print(\"It's hot\")"
   ]
  },
  {
   "cell_type": "code",
   "execution_count": 3,
   "metadata": {},
   "outputs": [
    {
     "name": "stdout",
     "output_type": "stream",
     "text": [
      "Good Morning\n"
     ]
    }
   ],
   "source": [
    "# Time of Day\n",
    "current_hour = int(input(\"Enter the current hour: \"))\n",
    "if current_hour > 0 and current_hour < 11:\n",
    "    print(\"Good Morning\")\n",
    "elif current_hour > 12 and current_hour < 17:\n",
    "    print(\"Good Afternoon\")\n",
    "elif current_hour > 18 and current_hour < 23:\n",
    "    print(\"Good Evening\")\n",
    "else:\n",
    "    print(\"Invalid input\")"
   ]
  },
  {
   "cell_type": "code",
   "execution_count": 2,
   "metadata": {},
   "outputs": [
    {
     "name": "stdout",
     "output_type": "stream",
     "text": [
      "Go\n"
     ]
    }
   ],
   "source": [
    "# Traffic Light\n",
    "color = input(\"Enter a traffic light color: \")\n",
    "if color == \"green\":\n",
    "    print(\"Go\")\n",
    "elif color == \"yellow\":\n",
    "    print(\"Slow Down\")\n",
    "elif color == \"red\":\n",
    "    print(\"Stop\")\n",
    "else:\n",
    "    print(\"Invalid Input\")"
   ]
  },
  {
   "cell_type": "markdown",
   "metadata": {},
   "source": [
    "### While Loops"
   ]
  },
  {
   "cell_type": "code",
   "execution_count": 6,
   "metadata": {},
   "outputs": [
    {
     "name": "stdout",
     "output_type": "stream",
     "text": [
      "0\n",
      "1\n",
      "2\n",
      "3\n",
      "4\n"
     ]
    }
   ],
   "source": [
    "counter = 0\n",
    "while counter < 5:\n",
    "    print(counter)\n",
    "    counter += 1"
   ]
  },
  {
   "cell_type": "code",
   "execution_count": 1,
   "metadata": {},
   "outputs": [],
   "source": [
    "response = ''\n",
    "while response != 'stop':\n",
    "    response = input(\"type stop:\")"
   ]
  },
  {
   "cell_type": "code",
   "execution_count": 4,
   "metadata": {},
   "outputs": [
    {
     "name": "stdout",
     "output_type": "stream",
     "text": [
      "Access Denied\n",
      "Access Denied\n",
      "Access Granted\n"
     ]
    }
   ],
   "source": [
    "# Password Check\n",
    "correct_password = \"password\"\n",
    "entered_password = ''\n",
    "\n",
    "while entered_password != correct_password:\n",
    "    entered_password = input(\"Enter password: \")\n",
    "    if entered_password == correct_password:\n",
    "        print(\"Access Granted\")\n",
    "    else:\n",
    "        print(\"Access Denied\")"
   ]
  },
  {
   "cell_type": "code",
   "execution_count": 7,
   "metadata": {},
   "outputs": [
    {
     "name": "stdout",
     "output_type": "stream",
     "text": [
      "15\n"
     ]
    }
   ],
   "source": [
    "user_num = int(input(\"Enter a number: \"))\n",
    "total_sum = 0\n",
    "\n",
    "while user_num != 0:\n",
    "    total_sum += user_num\n",
    "    user_num = int(input(\"Enter another one: \"))\n",
    "\n",
    "print(total_sum)"
   ]
  }
 ],
 "metadata": {
  "kernelspec": {
   "display_name": "Python 3",
   "language": "python",
   "name": "python3"
  },
  "language_info": {
   "codemirror_mode": {
    "name": "ipython",
    "version": 3
   },
   "file_extension": ".py",
   "mimetype": "text/x-python",
   "name": "python",
   "nbconvert_exporter": "python",
   "pygments_lexer": "ipython3",
   "version": "3.8.2"
  }
 },
 "nbformat": 4,
 "nbformat_minor": 2
}
