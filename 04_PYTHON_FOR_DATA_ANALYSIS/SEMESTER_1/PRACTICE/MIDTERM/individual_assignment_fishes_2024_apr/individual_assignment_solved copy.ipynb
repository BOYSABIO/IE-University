{
 "cells": [
  {
   "cell_type": "markdown",
   "metadata": {},
   "source": [
    "# Individual Assignment\n",
    "\n",
    "We are going to run a small business, based on the videogame [Dave the diver](https://mintrocketgames.com/en/DaveTheDiver)\n",
    "\n",
    "In the game, we control Dave, a diver who dives into the ocean to get fishes and materials, and then runs a sushi restaurant were he sells the sushi for a profit.\n",
    "\n",
    "The game is divided into two parts:\n",
    "* The diving part, where Dave dives into the ocean to get fish and materials.\n",
    "* The sushi restaurant part, where Dave sells the fish for a profit.\n",
    "\n",
    "We are going to simulate this, in a limited environment."
   ]
  },
  {
   "cell_type": "markdown",
   "metadata": {},
   "source": [
    "## Rules\n",
    "\n",
    "* We have a limited amount of time to play the game (1h20m)\n",
    "* The submission must be a jupyter notebook with all the code and answers printed.\n",
    "* Every answer has to be displayed with `print(answer)`\n",
    "* Every exercise has the same grade\n",
    "* No AI tool is allowed, under any form. No communicating with other students is allowed. Failing to comply with this rule will result in a 0 grade and a report to the board.\n",
    "* You can use any other tool you want, including IDEs, documentation, google, etc."
   ]
  },
  {
   "cell_type": "markdown",
   "metadata": {},
   "source": [
    "## The diving part\n",
    "\n",
    "In this part, we are going to simulate Dave diving into the ocean to get fish and materials, which are the ingredients of the sushi. It's a videogame, so carrots, cucumber and avocado are also fished in the ocean.\n",
    "\n",
    "The materials he's fished in the last 5 days are the following:"
   ]
  },
  {
   "cell_type": "code",
   "execution_count": 1,
   "metadata": {},
   "outputs": [],
   "source": [
    "daily_catch = [\n",
    "    {\n",
    "        'day': 'day1', \n",
    "        'products': ['cucumber', 'tuna', 'avocado', 'shrimp', 'tuna', 'carrot', 'shrimp', 'tuna']\n",
    "    },\n",
    "    {\n",
    "        'day': 'day2',\n",
    "        'products': ['salmon', 'salmon', 'tuna', 'avocado', 'tuna', 'avocado', 'avocado', 'carrot']\n",
    "    },\n",
    "    {\n",
    "        'day': 'day3', \n",
    "        'products': ['salmon', 'shrimp', 'avocado', 'salmon', 'shrimp', 'carrot', 'shrimp', 'cucumber']\n",
    "    },\n",
    "    {\n",
    "        'day': 'day4',\n",
    "        'products': ['shrimp', 'shrimp', 'salmon', 'avocado', 'carrot', 'salmon', 'avocado', 'cucumber']\n",
    "    },\n",
    "    {\n",
    "        'day': 'day5',\n",
    "        'products': ['tuna', 'tuna', 'shrimp', 'avocado', 'tuna', 'avocado', 'carrot', 'tuna']\n",
    "    }\n",
    "]"
   ]
  },
  {
   "cell_type": "markdown",
   "metadata": {},
   "source": [
    "### Exercise 1\n",
    "\n",
    "Which are the unique products Dave has fished in the last 5 days?\n",
    "\n",
    "**Hint**: in sets, we can use `update` to add multiple elements at once.\n",
    "\n",
    "The solution must be a set with the unique products, including this products -- it can be in a different order.\n",
    "\n",
    "```python\n",
    "{'cucumber', 'avocado', 'salmon', 'carrot', 'tuna', 'shrimp'}\n",
    "```"
   ]
  },
  {
   "cell_type": "code",
   "execution_count": 2,
   "metadata": {},
   "outputs": [
    {
     "name": "stdout",
     "output_type": "stream",
     "text": [
      "{'carrot', 'salmon', 'avocado', 'cucumber', 'tuna', 'shrimp'}\n"
     ]
    }
   ],
   "source": [
    "unique_products = set()\n",
    "\n",
    "for day in daily_catch:\n",
    "    unique_products.update(day['products'])\n",
    "\n",
    "print(unique_products)"
   ]
  },
  {
   "cell_type": "code",
   "execution_count": 5,
   "metadata": {},
   "outputs": [
    {
     "name": "stdout",
     "output_type": "stream",
     "text": [
      "{'day': 'day3', 'products': ['salmon', 'shrimp', 'avocado', 'salmon', 'shrimp', 'carrot', 'shrimp', 'cucumber']}\n"
     ]
    }
   ],
   "source": [
    "print(daily_catch[3 - 1])"
   ]
  },
  {
   "cell_type": "markdown",
   "metadata": {},
   "source": [
    "### Exercise 2\n",
    "\n",
    "Create a function called `get_products` that receives the `daily_catch` list and a day as an integer, and returns the products fished that day.\n",
    "\n",
    "For example, if we call `get_products(daily_catch, 1)`, it should return `['cucumber', 'tuna', 'avocado', 'shrimp', 'tuna', 'carrot', 'shrimp', 'tuna']`"
   ]
  },
  {
   "cell_type": "code",
   "execution_count": 7,
   "metadata": {},
   "outputs": [
    {
     "name": "stdout",
     "output_type": "stream",
     "text": [
      "['cucumber', 'tuna', 'avocado', 'shrimp', 'tuna', 'carrot', 'shrimp', 'tuna']\n"
     ]
    }
   ],
   "source": [
    "def get_products(data, day):\n",
    "    dict_day = data[day - 1]\n",
    "    product_list = dict_day['products']\n",
    "    return product_list\n",
    "\n",
    "print(get_products(daily_catch, 1))"
   ]
  },
  {
   "cell_type": "code",
   "execution_count": null,
   "metadata": {},
   "outputs": [
    {
     "data": {
      "text/plain": [
       "['cucumber', 'tuna', 'avocado', 'shrimp', 'tuna', 'carrot', 'shrimp', 'tuna']"
      ]
     },
     "execution_count": 11,
     "metadata": {},
     "output_type": "execute_result"
    }
   ],
   "source": []
  },
  {
   "cell_type": "markdown",
   "metadata": {},
   "source": [
    "### Exercise 3\n",
    "\n",
    "Create a dictionary called `total_materials` where the keys are the products and the values are the amount of that product Dave has fished in the last 5 days.\n",
    "\n",
    "The solution is\n",
    "\n",
    "```python\n",
    "{'cucumber': 3, 'tuna': 9, 'avocado': 9, 'shrimp': 8, 'carrot': 5, 'salmon': 6}\n",
    "```"
   ]
  },
  {
   "cell_type": "code",
   "execution_count": 9,
   "metadata": {},
   "outputs": [
    {
     "name": "stdout",
     "output_type": "stream",
     "text": [
      "{'cucumber': 3, 'tuna': 9, 'avocado': 9, 'shrimp': 8, 'carrot': 5, 'salmon': 6}\n"
     ]
    }
   ],
   "source": [
    "total_materials = {}\n",
    "\n",
    "for day in daily_catch:\n",
    "    products = day['products']\n",
    "    for product in products:\n",
    "        if product in total_materials:\n",
    "            total_materials[product] += 1\n",
    "        else:\n",
    "            total_materials[product] = 1\n",
    "\n",
    "print(total_materials)"
   ]
  },
  {
   "cell_type": "markdown",
   "metadata": {},
   "source": [
    "### Exercise 4\n",
    "\n",
    "The municipality imposes a tax on each product fished. The tax depends of the product, and is the following:\n",
    "\n",
    "* Fish (salmon, shrimp, salmon): 10 coins\n",
    "* Other (cucumber, avocado, carrot): 5 coins\n",
    "\n",
    "How many taxes did Dave pay in each day? Return a dictionary called `taxes_dict` with the day as the key and the amount of taxes as the value.\n",
    "\n",
    "The solution is:\n",
    "\n",
    "```python\n",
    "{'day1': 65, 'day2': 60, 'day3': 65, 'day4': 60, 'day5': 65}\n",
    "```"
   ]
  },
  {
   "cell_type": "code",
   "execution_count": 11,
   "metadata": {},
   "outputs": [
    {
     "name": "stdout",
     "output_type": "stream",
     "text": [
      "{'day1': 65, 'day2': 60, 'day3': 65, 'day4': 60, 'day5': 65}\n"
     ]
    }
   ],
   "source": [
    "taxes_dict = {}\n",
    "\n",
    "for day in daily_catch:\n",
    "    day_name = day['day']\n",
    "    products = day['products']\n",
    "\n",
    "    total_taxes = 0\n",
    "\n",
    "    for product in products:\n",
    "        if product in ['salmon', 'shrimp', 'tuna']:\n",
    "            total_taxes += 10\n",
    "        else:\n",
    "            total_taxes += 5\n",
    "    \n",
    "    taxes_dict[day_name] = total_taxes\n",
    "\n",
    "print(taxes_dict)"
   ]
  },
  {
   "cell_type": "markdown",
   "metadata": {},
   "source": [
    "### Exercise 5\n",
    "\n",
    "After paying taxes, Dave sells the products to the sushi restaurant. The price paid for each product is the following:\n",
    "\n",
    "* Fish: 55 coins\n",
    "* Other: 15 coins\n",
    "\n",
    "Create a dictionary called `income_dict` where the keys are the days and the values are the amount of coins Dave got from selling the products.\n",
    "\n",
    "The solution is:\n",
    "\n",
    "```python\n",
    "{'day1': 320, 'day2': 280, 'day3': 320, 'day4': 280, 'day5': 320}\n",
    "```"
   ]
  },
  {
   "cell_type": "code",
   "execution_count": 15,
   "metadata": {},
   "outputs": [
    {
     "name": "stdout",
     "output_type": "stream",
     "text": [
      "{'day1': 320, 'day2': 280, 'day3': 320, 'day4': 280, 'day5': 320}\n"
     ]
    }
   ],
   "source": [
    "income_dict = {}\n",
    "\n",
    "for day in daily_catch:\n",
    "    day_name = day['day']\n",
    "    products = day['products']\n",
    "\n",
    "    total_income = 0\n",
    "\n",
    "    for product in products:\n",
    "        if product in ['salmon', 'shrimp', 'tuna']:\n",
    "            total_income += 55\n",
    "        else:\n",
    "            total_income += 15\n",
    "    \n",
    "    income_dict[day_name] = total_income\n",
    "\n",
    "print(income_dict)"
   ]
  },
  {
   "cell_type": "markdown",
   "metadata": {},
   "source": [
    "### Exercise 6\n",
    "\n",
    "What is the total profit for Dave in the last 5 days?\n",
    "\n",
    "The profit is the sum of the income minus the taxes.\n",
    "\n",
    "The solution is:\n",
    "\n",
    "```python\n",
    "1205\n",
    "```"
   ]
  },
  {
   "cell_type": "code",
   "execution_count": 23,
   "metadata": {},
   "outputs": [
    {
     "name": "stdout",
     "output_type": "stream",
     "text": [
      "The total profit is 1205\n"
     ]
    }
   ],
   "source": [
    "final_taxes = sum(list(taxes_dict.values()))\n",
    "final_income = sum(list(income_dict.values()))\n",
    "\n",
    "print(f'The total profit is {final_income - final_taxes}')"
   ]
  },
  {
   "cell_type": "markdown",
   "metadata": {},
   "source": [
    "## The sushi restaurant part\n",
    "\n",
    "In this part, we are going to simulate Dave preparing sushi with the product he sold to the sushi restaurant before.\n",
    "\n",
    "The restaurant provides the rice and the seaweed, and the other products are the ones Dave fished in the past, stored in a freezer. Let's assume the freezer has *a lot* of product, we won't run out of product.\n",
    "\n",
    "The sushi recipes are the following:"
   ]
  },
  {
   "cell_type": "code",
   "execution_count": 24,
   "metadata": {},
   "outputs": [],
   "source": [
    "recipes = {\n",
    "    'sashimi': {\n",
    "        'ingredients': ['fish'],\n",
    "        'price': 15\n",
    "    },\n",
    "    'cucumber_salad':{\n",
    "        'ingredients': ['cucumber', 'soy sauce', 'sesame oil'],\n",
    "        'price': 10\n",
    "    },\n",
    "    'nigiri': {\n",
    "        'ingredients': ['fish', 'rice'],\n",
    "        'price': 20\n",
    "    },\n",
    "    'maki_roll': {\n",
    "        'ingredients': ['fish', 'rice', 'seaweed', 'soy sauce'],\n",
    "        'price': 25\n",
    "    }\n",
    "}"
   ]
  },
  {
   "cell_type": "markdown",
   "metadata": {},
   "source": [
    "### Exercise 7\n",
    "\n",
    "Create a function that receives a client's order as a list of strings and the recipes dictionary, and returns the total price of the order.\n",
    "\n",
    "An order could be `['sashimi', 'sashimi', 'maki', 'nigiri']`, and the price would be the sum of the prices of each item.\n",
    "\n",
    "```python\n",
    "def order_price(order, recipes):\n",
    "    # magic\n",
    "    return xxx\n",
    "```\n",
    "\n",
    "Test your function with this order `['sashimi', 'nigiri']` that should return 35."
   ]
  },
  {
   "cell_type": "code",
   "execution_count": 44,
   "metadata": {},
   "outputs": [
    {
     "name": "stdout",
     "output_type": "stream",
     "text": [
      "35\n"
     ]
    }
   ],
   "source": [
    "def order_price(order, recipes):\n",
    "    price = 0\n",
    "\n",
    "    for dish in order:\n",
    "        price += recipes[dish]['price']\n",
    "    \n",
    "    return price\n",
    "\n",
    "print(order_price(['sashimi', 'nigiri'], recipes))"
   ]
  },
  {
   "cell_type": "markdown",
   "metadata": {},
   "source": [
    "### Exercise 8\n",
    "\n",
    "A group of clients just sat down, and they all ordered. There are 5 clients in the group, and they want to pay individually. This is what each client ordered:"
   ]
  },
  {
   "cell_type": "code",
   "execution_count": 46,
   "metadata": {},
   "outputs": [],
   "source": [
    "group_orders = {\n",
    "    'client1': ['sashimi', 'nigiri', 'cucumber_salad'],\n",
    "    'client2': ['cucumber_salad', 'maki_roll'],\n",
    "    'client3': ['nigiri', 'maki_roll'],\n",
    "    'client4': ['sashimi', 'maki_roll'],\n",
    "    'client5': ['nigiri', 'maki_roll', 'cucumber_salad']\n",
    "}"
   ]
  },
  {
   "cell_type": "markdown",
   "metadata": {},
   "source": [
    "How much did each client pay? Return a dictionary called `client_price_dict` with the client as the key and the amount paid as the value.\n",
    "\n",
    "The solution is:\n",
    "\n",
    "```python\n",
    "{'client1': 45, 'client2': 35, 'client3': 45, 'client4': 40, 'client5': 55}\n",
    "```"
   ]
  },
  {
   "cell_type": "code",
   "execution_count": 49,
   "metadata": {},
   "outputs": [
    {
     "name": "stdout",
     "output_type": "stream",
     "text": [
      "{'client1': 45, 'client2': 35, 'client3': 45, 'client4': 40, 'client5': 55}\n"
     ]
    }
   ],
   "source": [
    "client_price_dict = {}\n",
    "for client in group_orders:\n",
    "    client_price_dict[client] = order_price(group_orders[client], recipes)\n",
    "\n",
    "print(client_price_dict)"
   ]
  },
  {
   "cell_type": "markdown",
   "metadata": {},
   "source": [
    "How much is the total bill for the group?\n",
    "\n",
    "The solution is:\n",
    "\n",
    "```python\n",
    "220\n",
    "```"
   ]
  },
  {
   "cell_type": "code",
   "execution_count": 52,
   "metadata": {},
   "outputs": [
    {
     "name": "stdout",
     "output_type": "stream",
     "text": [
      "220\n"
     ]
    }
   ],
   "source": [
    "print(sum([client_price_dict[order] for order in client_price_dict]))"
   ]
  },
  {
   "cell_type": "markdown",
   "metadata": {},
   "source": [
    "### Exercise 9\n",
    "\n",
    "Before paying, one of the clients suggests to split the bill evenly. Which of the clients would benefit from this?\n",
    "\n",
    "Basically you need to compare each client's price with the average price of the group.\n",
    "\n",
    "Use the dictionary created in the previous exercise to answer this question.\n",
    "\n",
    "The solutions is:\n",
    "\n",
    "```python\n",
    "['client1', 'client3', 'client5']\n",
    "```"
   ]
  },
  {
   "cell_type": "code",
   "execution_count": 56,
   "metadata": {},
   "outputs": [
    {
     "name": "stdout",
     "output_type": "stream",
     "text": [
      "['client1', 'client3', 'client5']\n"
     ]
    }
   ],
   "source": [
    "even_split = sum([client_price_dict[order] for order in client_price_dict]) / 5\n",
    "who_benefits = []\n",
    "\n",
    "for client in client_price_dict:\n",
    "    if client_price_dict[client] > even_split:\n",
    "        who_benefits.append(client)\n",
    "\n",
    "print(who_benefits)"
   ]
  },
  {
   "cell_type": "markdown",
   "metadata": {},
   "source": [
    "### Exercise 10\n",
    "\n",
    "Create a function called `individual_dishes_in_order` that takes in the group order and returns a dictionary containing how many of each item was ordered.\n",
    "\n",
    "```python\n",
    "def individual_dishes_in_order(group_order):\n",
    "    # magic\n",
    "    return xxx\n",
    "```\n",
    "\n",
    "If you test this function with the group order, the solution should be:\n",
    "\n",
    "```python\n",
    "{'sashimi': 2, 'nigiri': 3, 'cucumber_salad': 3, 'maki_roll': 4}\n",
    "```"
   ]
  },
  {
   "cell_type": "code",
   "execution_count": null,
   "metadata": {},
   "outputs": [
    {
     "name": "stdout",
     "output_type": "stream",
     "text": [
      "2\n",
      "3\n",
      "3\n",
      "4\n"
     ]
    }
   ],
   "source": [
    "def individual_dishes_in_order(group_orders):\n",
    "    dictionary = {}\n",
    "    for client in group_orders.values():\n",
    "        for item in client:\n",
    "            if item in dictionary:\n",
    "                dictionary[item] += 1\n",
    "            else:\n",
    "                dictionary[item] = 1\n",
    "    return dictionary\n",
    "\n",
    "individual_dishes_in_order(group_orders)"
   ]
  },
  {
   "cell_type": "markdown",
   "metadata": {},
   "source": [
    "### Exercise 11\n",
    "\n",
    "Create a new function called `individual_dishes_in_order_extended` that uses the previous function `individual_dishes_in_order` and the recipes dictionary to return a dictionary containing how many of each item was ordered, and the total price of that item.\n",
    "\n",
    "```python\n",
    "def individual_dishes_in_order(group_order, recipes):\n",
    "    # magic\n",
    "    return xxx\n",
    "```\n",
    "\n",
    "If you test this function with the group order and the recipes dictionary, the solution should be:\n",
    "\n",
    "```python\n",
    "{'sashimi': {'amount': 2, 'price': 30},\n",
    " 'nigiri': {'amount': 3, 'price': 60},\n",
    " 'cucumber_salad': {'amount': 3, 'price': 30},\n",
    " 'maki_roll': {'amount': 4, 'price': 100}}\n",
    "```"
   ]
  },
  {
   "cell_type": "code",
   "execution_count": null,
   "metadata": {},
   "outputs": [],
   "source": [
    "def individual_dishes_in_order_extended(group_orders, recipes):\n",
    "    final = {}\n",
    "    order_amount = individual_dishes_in_order(group_orders)\n",
    "    \n",
    "    for order in order_amount:\n",
    "        price = 0\n",
    "        price += recipes[order]['price'] * order_amount[order]\n",
    "        final[order] = {'amount':order_amount[order], 'price':price}\n",
    "    \n",
    "    return final\n",
    "\n",
    "print(individual_dishes_in_order_extended(group_orders, recipes))\n"
   ]
  },
  {
   "cell_type": "markdown",
   "metadata": {},
   "source": [
    "### Exercise 11\n",
    "\n",
    "The clients have a coupon that gives them a 15% discount on the whole bill or a 2 free maki rolls. Which option should they choose to pay less?"
   ]
  },
  {
   "cell_type": "code",
   "execution_count": 88,
   "metadata": {},
   "outputs": [
    {
     "name": "stdout",
     "output_type": "stream",
     "text": [
      "The total cost for the group is 220\n",
      "The cost after 15% discount is 187.0\n",
      "The total cost after 2 free makis is 170\n",
      "Therefore the best deal is 170\n"
     ]
    }
   ],
   "source": [
    "extended = individual_dishes_in_order_extended(group_orders, recipes)\n",
    "total_cost = sum([extended[order]['price'] for order in extended])\n",
    "total_cost_discount = total_cost - (total_cost * 0.15)\n",
    "total_cost_maki = total_cost - (recipes['maki_roll']['price'] * 2)\n",
    "\n",
    "print(f\"The total cost for the group is {total_cost}\")\n",
    "print(f'The cost after 15% discount is {total_cost_discount}')\n",
    "print(f\"The total cost after 2 free makis is {total_cost_maki}\")\n",
    "\n",
    "print(f'Therefore the best deal is {min(total_cost, total_cost_discount, total_cost_maki)}')"
   ]
  },
  {
   "cell_type": "markdown",
   "metadata": {},
   "source": [
    "### Exercise 12\n",
    "\n",
    "The income of the restaurant in the last 5 days was as follows:\n",
    "\n",
    "```python\n",
    "income_5_days_dict = {'day1': 1100, 'day2': 1280, 'day3': 1320, 'day4': 900, 'day5': 1350}\n",
    "```\n",
    "\n",
    "Please return another dictionary with the accumulated income for each day in the last 5 days.\n",
    "\n",
    "The solution is:\n",
    "\n",
    "```python\n",
    "{'day1': 1100, 'day2': 2380, 'day3': 3700, 'day4': 4600, 'day5': 5950}\n",
    "```"
   ]
  },
  {
   "cell_type": "code",
   "execution_count": 91,
   "metadata": {},
   "outputs": [
    {
     "data": {
      "text/plain": [
       "{'day1': 1100, 'day2': 2380, 'day3': 3700, 'day4': 4600, 'day5': 5950}"
      ]
     },
     "execution_count": 91,
     "metadata": {},
     "output_type": "execute_result"
    }
   ],
   "source": [
    "income_5_days_dict = {'day1': 1100, 'day2': 1280, 'day3': 1320, 'day4': 900, 'day5': 1350}\n",
    "cumulative_dict = {}\n",
    "income = 0\n",
    "\n",
    "for day in income_5_days_dict:\n",
    "    income += income_5_days_dict[day]\n",
    "    cumulative_dict[day] = income\n",
    "\n",
    "cumulative_dict"
   ]
  }
 ],
 "metadata": {
  "kernelspec": {
   "display_name": "Python 3",
   "language": "python",
   "name": "python3"
  },
  "language_info": {
   "codemirror_mode": {
    "name": "ipython",
    "version": 3
   },
   "file_extension": ".py",
   "mimetype": "text/x-python",
   "name": "python",
   "nbconvert_exporter": "python",
   "pygments_lexer": "ipython3",
   "version": "3.10.6"
  }
 },
 "nbformat": 4,
 "nbformat_minor": 2
}
