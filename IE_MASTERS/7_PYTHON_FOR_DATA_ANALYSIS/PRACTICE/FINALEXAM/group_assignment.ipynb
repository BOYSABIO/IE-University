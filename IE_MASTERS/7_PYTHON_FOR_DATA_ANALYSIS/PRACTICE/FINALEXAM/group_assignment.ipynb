{
 "cells": [
  {
   "cell_type": "markdown",
   "id": "c014f311-2159-4b24-be0a-a4c2d2734c98",
   "metadata": {},
   "source": [
    "## Part I: Exploratory analysis (3 points)\n",
    "\n",
    "Read the dataset correctly using pandas. The dataset is in the file `train.csv`.\n",
    "\n",
    "After reading it --[or when reading it](https://pandas.pydata.org/docs/reference/api/pandas.read_csv.html)-- **choose a proper column to be used as the index of the dataframe.**\n",
    "\n",
    "The dataset contains the following columns:\n",
    "\n",
    "| Variable |                 Definition                 |                       Key                      |\n",
    "|:--------:|:------------------------------------------:|:----------------------------------------------:|\n",
    "| PassengerId | Passenger ID | |\n",
    "| Survived | Survival                                   | 0 = No, 1 = Yes                                |\n",
    "| Pclass   | Ticket class                               | 1 = 1st, 2 = 2nd, 3 = 3rd                      |\n",
    "| Name     | Name of Passenger                          |                                                |\n",
    "| Sex      | Sex                                        |                                                |\n",
    "| Age      | Age in years                               |                                                |\n",
    "| SibSp    | # of siblings / spouses aboard the Titanic |                                                |\n",
    "| Parch    | # of parents / children aboard the Titanic |                                                |\n",
    "| Ticket   | Ticket number                              |                                                |\n",
    "| Fare     | Passenger fare                             |                                                |\n",
    "| Cabin    | Cabin number                               |                                                |\n",
    "| Embarked | Port of Embarkation                        | C = Cherbourg, Q = Queenstown, S = Southampton |"
   ]
  },
  {
   "cell_type": "code",
   "execution_count": 1,
   "id": "eec75728",
   "metadata": {},
   "outputs": [],
   "source": [
    "import pandas as pd"
   ]
  },
  {
   "cell_type": "code",
   "execution_count": 5,
   "id": "05e90c97-716a-49d2-9470-886fb62d214e",
   "metadata": {},
   "outputs": [],
   "source": [
    "# using `PassengerId` as the index column when reading\n",
    "titanic = pd.read_csv(\"../../../../CSV_FILES/train.csv\", index_col=\"PassengerId\")\n",
    "\n",
    "# using `PassengerId` as the index column after reading\n",
    "titanic = pd.read_csv(\"../../../../CSV_FILES/train.csv\")\n",
    "titanic.set_index(\"PassengerId\", inplace=True)"
   ]
  },
  {
   "cell_type": "code",
   "execution_count": 6,
   "id": "ee2c5408",
   "metadata": {},
   "outputs": [
    {
     "data": {
      "text/html": [
       "<div>\n",
       "<style scoped>\n",
       "    .dataframe tbody tr th:only-of-type {\n",
       "        vertical-align: middle;\n",
       "    }\n",
       "\n",
       "    .dataframe tbody tr th {\n",
       "        vertical-align: top;\n",
       "    }\n",
       "\n",
       "    .dataframe thead th {\n",
       "        text-align: right;\n",
       "    }\n",
       "</style>\n",
       "<table border=\"1\" class=\"dataframe\">\n",
       "  <thead>\n",
       "    <tr style=\"text-align: right;\">\n",
       "      <th></th>\n",
       "      <th>Survived</th>\n",
       "      <th>Pclass</th>\n",
       "      <th>Name</th>\n",
       "      <th>Sex</th>\n",
       "      <th>Age</th>\n",
       "      <th>SibSp</th>\n",
       "      <th>Parch</th>\n",
       "      <th>Ticket</th>\n",
       "      <th>Fare</th>\n",
       "      <th>Cabin</th>\n",
       "      <th>Embarked</th>\n",
       "    </tr>\n",
       "    <tr>\n",
       "      <th>PassengerId</th>\n",
       "      <th></th>\n",
       "      <th></th>\n",
       "      <th></th>\n",
       "      <th></th>\n",
       "      <th></th>\n",
       "      <th></th>\n",
       "      <th></th>\n",
       "      <th></th>\n",
       "      <th></th>\n",
       "      <th></th>\n",
       "      <th></th>\n",
       "    </tr>\n",
       "  </thead>\n",
       "  <tbody>\n",
       "    <tr>\n",
       "      <th>1</th>\n",
       "      <td>0</td>\n",
       "      <td>3</td>\n",
       "      <td>Braund, Mr. Owen Harris</td>\n",
       "      <td>male</td>\n",
       "      <td>22.0</td>\n",
       "      <td>1</td>\n",
       "      <td>0</td>\n",
       "      <td>A/5 21171</td>\n",
       "      <td>7.2500</td>\n",
       "      <td>NaN</td>\n",
       "      <td>S</td>\n",
       "    </tr>\n",
       "    <tr>\n",
       "      <th>2</th>\n",
       "      <td>1</td>\n",
       "      <td>1</td>\n",
       "      <td>Cumings, Mrs. John Bradley (Florence Briggs Th...</td>\n",
       "      <td>female</td>\n",
       "      <td>38.0</td>\n",
       "      <td>1</td>\n",
       "      <td>0</td>\n",
       "      <td>PC 17599</td>\n",
       "      <td>71.2833</td>\n",
       "      <td>C85</td>\n",
       "      <td>C</td>\n",
       "    </tr>\n",
       "    <tr>\n",
       "      <th>3</th>\n",
       "      <td>1</td>\n",
       "      <td>3</td>\n",
       "      <td>Heikkinen, Miss. Laina</td>\n",
       "      <td>female</td>\n",
       "      <td>26.0</td>\n",
       "      <td>0</td>\n",
       "      <td>0</td>\n",
       "      <td>STON/O2. 3101282</td>\n",
       "      <td>7.9250</td>\n",
       "      <td>NaN</td>\n",
       "      <td>S</td>\n",
       "    </tr>\n",
       "    <tr>\n",
       "      <th>4</th>\n",
       "      <td>1</td>\n",
       "      <td>1</td>\n",
       "      <td>Futrelle, Mrs. Jacques Heath (Lily May Peel)</td>\n",
       "      <td>female</td>\n",
       "      <td>35.0</td>\n",
       "      <td>1</td>\n",
       "      <td>0</td>\n",
       "      <td>113803</td>\n",
       "      <td>53.1000</td>\n",
       "      <td>C123</td>\n",
       "      <td>S</td>\n",
       "    </tr>\n",
       "    <tr>\n",
       "      <th>5</th>\n",
       "      <td>0</td>\n",
       "      <td>3</td>\n",
       "      <td>Allen, Mr. William Henry</td>\n",
       "      <td>male</td>\n",
       "      <td>35.0</td>\n",
       "      <td>0</td>\n",
       "      <td>0</td>\n",
       "      <td>373450</td>\n",
       "      <td>8.0500</td>\n",
       "      <td>NaN</td>\n",
       "      <td>S</td>\n",
       "    </tr>\n",
       "  </tbody>\n",
       "</table>\n",
       "</div>"
      ],
      "text/plain": [
       "             Survived  Pclass  \\\n",
       "PassengerId                     \n",
       "1                   0       3   \n",
       "2                   1       1   \n",
       "3                   1       3   \n",
       "4                   1       1   \n",
       "5                   0       3   \n",
       "\n",
       "                                                          Name     Sex   Age  \\\n",
       "PassengerId                                                                    \n",
       "1                                      Braund, Mr. Owen Harris    male  22.0   \n",
       "2            Cumings, Mrs. John Bradley (Florence Briggs Th...  female  38.0   \n",
       "3                                       Heikkinen, Miss. Laina  female  26.0   \n",
       "4                 Futrelle, Mrs. Jacques Heath (Lily May Peel)  female  35.0   \n",
       "5                                     Allen, Mr. William Henry    male  35.0   \n",
       "\n",
       "             SibSp  Parch            Ticket     Fare Cabin Embarked  \n",
       "PassengerId                                                          \n",
       "1                1      0         A/5 21171   7.2500   NaN        S  \n",
       "2                1      0          PC 17599  71.2833   C85        C  \n",
       "3                0      0  STON/O2. 3101282   7.9250   NaN        S  \n",
       "4                1      0            113803  53.1000  C123        S  \n",
       "5                0      0            373450   8.0500   NaN        S  "
      ]
     },
     "execution_count": 6,
     "metadata": {},
     "output_type": "execute_result"
    }
   ],
   "source": [
    "pd.set_option('display.max_columns', None)\n",
    "\n",
    "titanic.head()"
   ]
  },
  {
   "cell_type": "markdown",
   "id": "c855c092-90d9-49bd-ae14-8f85f124fdb1",
   "metadata": {},
   "source": [
    "Compute the percentage of survivors out of total number of passengers..."
   ]
  },
  {
   "cell_type": "code",
   "execution_count": 22,
   "id": "8f54fd98-5047-4a01-ab5b-dd5c9de130df",
   "metadata": {},
   "outputs": [
    {
     "data": {
      "text/plain": [
       "38.38383838383838"
      ]
     },
     "execution_count": 22,
     "metadata": {},
     "output_type": "execute_result"
    }
   ],
   "source": [
    "titanic['Survived'].mean() * 100"
   ]
  },
  {
   "cell_type": "markdown",
   "id": "d4cb8fb4-c9e3-44bf-b65c-0c124bc1ae7e",
   "metadata": {},
   "source": [
    "...and the percentage of men and women out of total number of passengers (0.5 points)"
   ]
  },
  {
   "cell_type": "code",
   "execution_count": 29,
   "id": "9e6dcd68-9834-4006-84b1-5e4a3e178650",
   "metadata": {},
   "outputs": [
    {
     "name": "stdout",
     "output_type": "stream",
     "text": [
      "7.1234567901234565 3.876543209876543\n"
     ]
    }
   ],
   "source": [
    "percentage_men = titanic[titanic['Sex'] == 'male'].size / titanic['Sex'].size\n",
    "percentage_women = titanic[titanic['Sex'] == 'female'].size / titanic['Sex'].size\n",
    "\n",
    "print(percentage_men, percentage_women)"
   ]
  },
  {
   "cell_type": "markdown",
   "id": "2c913e51-3aa0-449e-a323-e9954dc188b3",
   "metadata": {},
   "source": [
    "Compute the percentage of survivors by sex (i.e. the percentage of male passengers that survived and female passengers that survived)..."
   ]
  },
  {
   "cell_type": "code",
   "execution_count": 26,
   "id": "a64ef95b-fcf7-490a-aaaf-145bad652094",
   "metadata": {},
   "outputs": [
    {
     "name": "stdout",
     "output_type": "stream",
     "text": [
      "Survived  Sex   \n",
      "0         male      0.525253\n",
      "1         female    0.261504\n",
      "          male      0.122334\n",
      "0         female    0.090909\n",
      "Name: proportion, dtype: float64\n"
     ]
    }
   ],
   "source": [
    "print(titanic[['Survived', 'Sex']].value_counts(normalize = True))"
   ]
  },
  {
   "cell_type": "markdown",
   "id": "8928d6c0-d642-468f-948b-06492052a0cc",
   "metadata": {},
   "source": [
    "...and the sex distribution of survivors (i.e. percentage of survivors that were men and percentage of survivors that were women) (0.5 points)"
   ]
  },
  {
   "cell_type": "code",
   "execution_count": 27,
   "id": "ee65ca0f-ebea-4be3-a9bc-e2d8d6766c48",
   "metadata": {},
   "outputs": [
    {
     "data": {
      "text/plain": [
       "Sex\n",
       "male      0.647587\n",
       "female    0.352413\n",
       "Name: proportion, dtype: float64"
      ]
     },
     "execution_count": 27,
     "metadata": {},
     "output_type": "execute_result"
    }
   ],
   "source": [
    "titanic['Sex'].value_counts(normalize = True)"
   ]
  },
  {
   "cell_type": "markdown",
   "id": "cb3c809c-2d2e-4b0f-bdfb-a49e1f6a5ade",
   "metadata": {},
   "source": [
    "Display in a 2 x 2 DataFrame the probability of being male/female and surviving/not surviving (0.5 points)\n",
    "\n",
    "One possible option:\n",
    "\n",
    "|            | **Survived**      | **Not survived**      |\n",
    "|------------|-------------------|-----------------------|\n",
    "| **Male**   | Male & Survived   | Male & Not survived   |\n",
    "| **Female** | Female & Survived | Female & Not survived |\n",
    "\n",
    "Notice that the sum of all values in the table above should be 1 (or 100 %)."
   ]
  },
  {
   "cell_type": "code",
   "execution_count": 72,
   "id": "be75a254",
   "metadata": {},
   "outputs": [
    {
     "name": "stdout",
     "output_type": "stream",
     "text": [
      "                         Survived                   Not Survived\n",
      "Male      Male & Survived: 18.89%    Male & Not survived: 81.11%\n",
      "Female  Female & Survived: 74.20%  Female & Not survived: 25.80%\n"
     ]
    }
   ],
   "source": [
    "import pandas as pd\n",
    "\n",
    "# Assuming you have the titanic DataFrame\n",
    "# Create a pivot table with counts\n",
    "pivot_table = titanic.pivot_table(index='Sex', columns='Survived', aggfunc='size')\n",
    "\n",
    "# Rename the columns to match your table's layout\n",
    "pivot_table.columns = ['Not Survived', 'Survived']\n",
    "\n",
    "# Normalize the counts to get probabilities\n",
    "pivot_table_normalized = pivot_table.div(pivot_table.sum(axis=1), axis=0) * 100\n",
    "\n",
    "# Create a new DataFrame for the final table layout\n",
    "final_table = pd.DataFrame(index=['Male', 'Female'], columns=['Survived', 'Not Survived'])\n",
    "\n",
    "# Populate the new DataFrame with the calculated probabilities\n",
    "final_table.loc['Male', 'Survived'] = f\"Male & Survived: {pivot_table_normalized.loc['male', 'Survived']:.2f}%\"\n",
    "final_table.loc['Male', 'Not Survived'] = f\"Male & Not survived: {pivot_table_normalized.loc['male', 'Not Survived']:.2f}%\"\n",
    "final_table.loc['Female', 'Survived'] = f\"Female & Survived: {pivot_table_normalized.loc['female', 'Survived']:.2f}%\"\n",
    "final_table.loc['Female', 'Not Survived'] = f\"Female & Not survived: {pivot_table_normalized.loc['female', 'Not Survived']:.2f}%\"\n",
    "\n",
    "# Display the final table\n",
    "print(final_table)"
   ]
  },
  {
   "cell_type": "markdown",
   "id": "ec2b4661-8cb1-4551-8c9a-ffb4ab4ea138",
   "metadata": {},
   "source": [
    "Display in a DataFrame the probability of survival/not survival of all combinations of sex and class (0.5 points)\n",
    "\n",
    "One possible option:\n",
    "\n",
    "|            |   | **Survived**              | **Not survived** |\n",
    "|------------|---|---------------------------|------------------|\n",
    "| **Male**   | 1 | Male & Survived & Class 1 | ...              |\n",
    "|            | 2 | Male & Survived & Class 2 | ...              |\n",
    "|            | 3 | Male & Survived & Class 3 | ...              |\n",
    "| **Female** | 1 | ...                       | ...              |\n",
    "|            | 2 | ...                       | ...              |\n",
    "|            | 3 | ...                       | ...              |\n",
    "\n",
    "Notice that the sum of all values in the table above should be 1 (or 100 %)."
   ]
  },
  {
   "cell_type": "code",
   "execution_count": 71,
   "id": "9fcf470d-ca4b-489e-be6b-86c526a6f315",
   "metadata": {},
   "outputs": [
    {
     "data": {
      "text/html": [
       "<div>\n",
       "<style scoped>\n",
       "    .dataframe tbody tr th:only-of-type {\n",
       "        vertical-align: middle;\n",
       "    }\n",
       "\n",
       "    .dataframe tbody tr th {\n",
       "        vertical-align: top;\n",
       "    }\n",
       "\n",
       "    .dataframe thead th {\n",
       "        text-align: right;\n",
       "    }\n",
       "</style>\n",
       "<table border=\"1\" class=\"dataframe\">\n",
       "  <thead>\n",
       "    <tr style=\"text-align: right;\">\n",
       "      <th></th>\n",
       "      <th></th>\n",
       "      <th>Not Survived</th>\n",
       "      <th>Survived</th>\n",
       "    </tr>\n",
       "    <tr>\n",
       "      <th>Sex</th>\n",
       "      <th>Pclass</th>\n",
       "      <th></th>\n",
       "      <th></th>\n",
       "    </tr>\n",
       "  </thead>\n",
       "  <tbody>\n",
       "    <tr>\n",
       "      <th rowspan=\"3\" valign=\"top\">female</th>\n",
       "      <th>1</th>\n",
       "      <td>3.191489</td>\n",
       "      <td>96.808511</td>\n",
       "    </tr>\n",
       "    <tr>\n",
       "      <th>2</th>\n",
       "      <td>7.894737</td>\n",
       "      <td>92.105263</td>\n",
       "    </tr>\n",
       "    <tr>\n",
       "      <th>3</th>\n",
       "      <td>50.000000</td>\n",
       "      <td>50.000000</td>\n",
       "    </tr>\n",
       "    <tr>\n",
       "      <th rowspan=\"3\" valign=\"top\">male</th>\n",
       "      <th>1</th>\n",
       "      <td>63.114754</td>\n",
       "      <td>36.885246</td>\n",
       "    </tr>\n",
       "    <tr>\n",
       "      <th>2</th>\n",
       "      <td>84.259259</td>\n",
       "      <td>15.740741</td>\n",
       "    </tr>\n",
       "    <tr>\n",
       "      <th>3</th>\n",
       "      <td>86.455331</td>\n",
       "      <td>13.544669</td>\n",
       "    </tr>\n",
       "  </tbody>\n",
       "</table>\n",
       "</div>"
      ],
      "text/plain": [
       "               Not Survived   Survived\n",
       "Sex    Pclass                         \n",
       "female 1           3.191489  96.808511\n",
       "       2           7.894737  92.105263\n",
       "       3          50.000000  50.000000\n",
       "male   1          63.114754  36.885246\n",
       "       2          84.259259  15.740741\n",
       "       3          86.455331  13.544669"
      ]
     },
     "execution_count": 71,
     "metadata": {},
     "output_type": "execute_result"
    }
   ],
   "source": [
    "grouped = titanic.groupby(['Sex', 'Pclass', 'Survived']).size().unstack()\n",
    "\n",
    "grouped_normalized = grouped.div(grouped.sum(axis = 1), axis = 0) * 100 # axis = 1 means aggregating across column, axis = 0 means row\n",
    "\n",
    "grouped_normalized.columns = ['Not Survived', 'Survived']\n",
    "\n",
    "grouped_normalized"
   ]
  },
  {
   "cell_type": "markdown",
   "id": "1c75c0ce-ca24-410e-b2bc-4fec1a689cf8",
   "metadata": {
    "tags": []
   },
   "source": [
    "## Part II: More insights on the data (3 points)\n",
    "\n",
    "Present 3 insights about the dataset, each of them relating at least 3 different variables, and support them by code and numbers. Possible examples:\n",
    "\n",
    "- \"**Men** aged **less than 18** were more/less likely to **survive** than the average passenger\" (Sex, Age, Survival)\n",
    "- \"**Women** with **no siblings or spouses** paid on average a cheaper/pricier **ticket** than the average woman\" (Sex, SibSp, Fare)\n",
    "- \"**Men** with a **title other than Mr.** were more/less likely to have a known (i.e. non-missing) **cabin** than the average man\" (Sex, Name, Cabin)\n",
    "\n",
    "(Using these exact examples is valid, but awards fewer points than proposing original insights)\n",
    "\n",
    "_Hint: If you want to work with lists and dictionaries rather than pandas objects, you can do_\n",
    "\n",
    "```python\n",
    "recs = df.to_dict(orient=\"records\")\n",
    "```"
   ]
  },
  {
   "cell_type": "code",
   "execution_count": 74,
   "id": "19b1bec0-e2df-4502-a193-5b441b6457d8",
   "metadata": {},
   "outputs": [
    {
     "data": {
      "text/html": [
       "<div>\n",
       "<style scoped>\n",
       "    .dataframe tbody tr th:only-of-type {\n",
       "        vertical-align: middle;\n",
       "    }\n",
       "\n",
       "    .dataframe tbody tr th {\n",
       "        vertical-align: top;\n",
       "    }\n",
       "\n",
       "    .dataframe thead th {\n",
       "        text-align: right;\n",
       "    }\n",
       "</style>\n",
       "<table border=\"1\" class=\"dataframe\">\n",
       "  <thead>\n",
       "    <tr style=\"text-align: right;\">\n",
       "      <th></th>\n",
       "      <th>Survived</th>\n",
       "      <th>Pclass</th>\n",
       "      <th>Name</th>\n",
       "      <th>Sex</th>\n",
       "      <th>Age</th>\n",
       "      <th>SibSp</th>\n",
       "      <th>Parch</th>\n",
       "      <th>Ticket</th>\n",
       "      <th>Fare</th>\n",
       "      <th>Cabin</th>\n",
       "      <th>Embarked</th>\n",
       "    </tr>\n",
       "    <tr>\n",
       "      <th>PassengerId</th>\n",
       "      <th></th>\n",
       "      <th></th>\n",
       "      <th></th>\n",
       "      <th></th>\n",
       "      <th></th>\n",
       "      <th></th>\n",
       "      <th></th>\n",
       "      <th></th>\n",
       "      <th></th>\n",
       "      <th></th>\n",
       "      <th></th>\n",
       "    </tr>\n",
       "  </thead>\n",
       "  <tbody>\n",
       "    <tr>\n",
       "      <th>1</th>\n",
       "      <td>0</td>\n",
       "      <td>3</td>\n",
       "      <td>Braund, Mr. Owen Harris</td>\n",
       "      <td>male</td>\n",
       "      <td>22.0</td>\n",
       "      <td>1</td>\n",
       "      <td>0</td>\n",
       "      <td>A/5 21171</td>\n",
       "      <td>7.2500</td>\n",
       "      <td>NaN</td>\n",
       "      <td>S</td>\n",
       "    </tr>\n",
       "    <tr>\n",
       "      <th>2</th>\n",
       "      <td>1</td>\n",
       "      <td>1</td>\n",
       "      <td>Cumings, Mrs. John Bradley (Florence Briggs Th...</td>\n",
       "      <td>female</td>\n",
       "      <td>38.0</td>\n",
       "      <td>1</td>\n",
       "      <td>0</td>\n",
       "      <td>PC 17599</td>\n",
       "      <td>71.2833</td>\n",
       "      <td>C85</td>\n",
       "      <td>C</td>\n",
       "    </tr>\n",
       "    <tr>\n",
       "      <th>3</th>\n",
       "      <td>1</td>\n",
       "      <td>3</td>\n",
       "      <td>Heikkinen, Miss. Laina</td>\n",
       "      <td>female</td>\n",
       "      <td>26.0</td>\n",
       "      <td>0</td>\n",
       "      <td>0</td>\n",
       "      <td>STON/O2. 3101282</td>\n",
       "      <td>7.9250</td>\n",
       "      <td>NaN</td>\n",
       "      <td>S</td>\n",
       "    </tr>\n",
       "  </tbody>\n",
       "</table>\n",
       "</div>"
      ],
      "text/plain": [
       "             Survived  Pclass  \\\n",
       "PassengerId                     \n",
       "1                   0       3   \n",
       "2                   1       1   \n",
       "3                   1       3   \n",
       "\n",
       "                                                          Name     Sex   Age  \\\n",
       "PassengerId                                                                    \n",
       "1                                      Braund, Mr. Owen Harris    male  22.0   \n",
       "2            Cumings, Mrs. John Bradley (Florence Briggs Th...  female  38.0   \n",
       "3                                       Heikkinen, Miss. Laina  female  26.0   \n",
       "\n",
       "             SibSp  Parch            Ticket     Fare Cabin Embarked  \n",
       "PassengerId                                                          \n",
       "1                1      0         A/5 21171   7.2500   NaN        S  \n",
       "2                1      0          PC 17599  71.2833   C85        C  \n",
       "3                0      0  STON/O2. 3101282   7.9250   NaN        S  "
      ]
     },
     "execution_count": 74,
     "metadata": {},
     "output_type": "execute_result"
    }
   ],
   "source": [
    "titanic.head(3)"
   ]
  },
  {
   "cell_type": "code",
   "execution_count": null,
   "id": "b188fe1e",
   "metadata": {},
   "outputs": [],
   "source": [
    "import numpy as np\n",
    "\n",
    "df = titanic.copy()\n",
    "\n",
    "df.drop(columns = ['Name', 'Ticket'], inplace = True)\n",
    "\n",
    "df['Sex'] = np.where(df['Sex'] == 'male', 1, 0)\n",
    "\n",
    "# df.corr()"
   ]
  },
  {
   "cell_type": "code",
   "execution_count": 95,
   "id": "de2eb46a",
   "metadata": {},
   "outputs": [
    {
     "data": {
      "text/plain": [
       "'B96 B98'"
      ]
     },
     "execution_count": 95,
     "metadata": {},
     "output_type": "execute_result"
    }
   ],
   "source": [
    "titanic.groupby('Cabin')['Survived'].sum().idxmax() #Cabin had the most survivors"
   ]
  },
  {
   "cell_type": "code",
   "execution_count": 7,
   "id": "5fcae18a",
   "metadata": {},
   "outputs": [
    {
     "data": {
      "text/html": [
       "<div>\n",
       "<style scoped>\n",
       "    .dataframe tbody tr th:only-of-type {\n",
       "        vertical-align: middle;\n",
       "    }\n",
       "\n",
       "    .dataframe tbody tr th {\n",
       "        vertical-align: top;\n",
       "    }\n",
       "\n",
       "    .dataframe thead th {\n",
       "        text-align: right;\n",
       "    }\n",
       "</style>\n",
       "<table border=\"1\" class=\"dataframe\">\n",
       "  <thead>\n",
       "    <tr style=\"text-align: right;\">\n",
       "      <th></th>\n",
       "      <th>Survived</th>\n",
       "      <th>Pclass</th>\n",
       "      <th>Name</th>\n",
       "      <th>Sex</th>\n",
       "      <th>Age</th>\n",
       "      <th>SibSp</th>\n",
       "      <th>Parch</th>\n",
       "      <th>Ticket</th>\n",
       "      <th>Fare</th>\n",
       "      <th>Cabin</th>\n",
       "      <th>Embarked</th>\n",
       "    </tr>\n",
       "    <tr>\n",
       "      <th>PassengerId</th>\n",
       "      <th></th>\n",
       "      <th></th>\n",
       "      <th></th>\n",
       "      <th></th>\n",
       "      <th></th>\n",
       "      <th></th>\n",
       "      <th></th>\n",
       "      <th></th>\n",
       "      <th></th>\n",
       "      <th></th>\n",
       "      <th></th>\n",
       "    </tr>\n",
       "  </thead>\n",
       "  <tbody>\n",
       "    <tr>\n",
       "      <th>1</th>\n",
       "      <td>0</td>\n",
       "      <td>3</td>\n",
       "      <td>Braund, Mr. Owen Harris</td>\n",
       "      <td>male</td>\n",
       "      <td>22.0</td>\n",
       "      <td>1</td>\n",
       "      <td>0</td>\n",
       "      <td>A/5 21171</td>\n",
       "      <td>7.2500</td>\n",
       "      <td>NaN</td>\n",
       "      <td>S</td>\n",
       "    </tr>\n",
       "    <tr>\n",
       "      <th>2</th>\n",
       "      <td>1</td>\n",
       "      <td>1</td>\n",
       "      <td>Cumings, Mrs. John Bradley (Florence Briggs Th...</td>\n",
       "      <td>female</td>\n",
       "      <td>38.0</td>\n",
       "      <td>1</td>\n",
       "      <td>0</td>\n",
       "      <td>PC 17599</td>\n",
       "      <td>71.2833</td>\n",
       "      <td>C85</td>\n",
       "      <td>C</td>\n",
       "    </tr>\n",
       "    <tr>\n",
       "      <th>3</th>\n",
       "      <td>1</td>\n",
       "      <td>3</td>\n",
       "      <td>Heikkinen, Miss. Laina</td>\n",
       "      <td>female</td>\n",
       "      <td>26.0</td>\n",
       "      <td>0</td>\n",
       "      <td>0</td>\n",
       "      <td>STON/O2. 3101282</td>\n",
       "      <td>7.9250</td>\n",
       "      <td>NaN</td>\n",
       "      <td>S</td>\n",
       "    </tr>\n",
       "    <tr>\n",
       "      <th>4</th>\n",
       "      <td>1</td>\n",
       "      <td>1</td>\n",
       "      <td>Futrelle, Mrs. Jacques Heath (Lily May Peel)</td>\n",
       "      <td>female</td>\n",
       "      <td>35.0</td>\n",
       "      <td>1</td>\n",
       "      <td>0</td>\n",
       "      <td>113803</td>\n",
       "      <td>53.1000</td>\n",
       "      <td>C123</td>\n",
       "      <td>S</td>\n",
       "    </tr>\n",
       "    <tr>\n",
       "      <th>5</th>\n",
       "      <td>0</td>\n",
       "      <td>3</td>\n",
       "      <td>Allen, Mr. William Henry</td>\n",
       "      <td>male</td>\n",
       "      <td>35.0</td>\n",
       "      <td>0</td>\n",
       "      <td>0</td>\n",
       "      <td>373450</td>\n",
       "      <td>8.0500</td>\n",
       "      <td>NaN</td>\n",
       "      <td>S</td>\n",
       "    </tr>\n",
       "  </tbody>\n",
       "</table>\n",
       "</div>"
      ],
      "text/plain": [
       "             Survived  Pclass  \\\n",
       "PassengerId                     \n",
       "1                   0       3   \n",
       "2                   1       1   \n",
       "3                   1       3   \n",
       "4                   1       1   \n",
       "5                   0       3   \n",
       "\n",
       "                                                          Name     Sex   Age  \\\n",
       "PassengerId                                                                    \n",
       "1                                      Braund, Mr. Owen Harris    male  22.0   \n",
       "2            Cumings, Mrs. John Bradley (Florence Briggs Th...  female  38.0   \n",
       "3                                       Heikkinen, Miss. Laina  female  26.0   \n",
       "4                 Futrelle, Mrs. Jacques Heath (Lily May Peel)  female  35.0   \n",
       "5                                     Allen, Mr. William Henry    male  35.0   \n",
       "\n",
       "             SibSp  Parch            Ticket     Fare Cabin Embarked  \n",
       "PassengerId                                                          \n",
       "1                1      0         A/5 21171   7.2500   NaN        S  \n",
       "2                1      0          PC 17599  71.2833   C85        C  \n",
       "3                0      0  STON/O2. 3101282   7.9250   NaN        S  \n",
       "4                1      0            113803  53.1000  C123        S  \n",
       "5                0      0            373450   8.0500   NaN        S  "
      ]
     },
     "execution_count": 7,
     "metadata": {},
     "output_type": "execute_result"
    }
   ],
   "source": [
    "titanic.head()"
   ]
  },
  {
   "cell_type": "code",
   "execution_count": 16,
   "id": "328bf338",
   "metadata": {},
   "outputs": [
    {
     "name": "stdout",
     "output_type": "stream",
     "text": [
      "304\n",
      "181\n"
     ]
    }
   ],
   "source": [
    "print(titanic[titanic['Survived'] == 0].groupby('Sex')['SibSp'].sum().sum()) # The number of people that lost a relative\n",
    "print(titanic[titanic['Survived'] == 0].groupby('Sex')['Parch'].sum().sum()) # The number of children that lost a parent"
   ]
  },
  {
   "cell_type": "code",
   "execution_count": 18,
   "id": "9f995a44",
   "metadata": {},
   "outputs": [
    {
     "data": {
      "text/plain": [
       "count    891.000000\n",
       "mean       0.381594\n",
       "std        0.806057\n",
       "min        0.000000\n",
       "25%        0.000000\n",
       "50%        0.000000\n",
       "75%        0.000000\n",
       "max        6.000000\n",
       "Name: Parch, dtype: float64"
      ]
     },
     "execution_count": 18,
     "metadata": {},
     "output_type": "execute_result"
    }
   ],
   "source": [
    "titanic['Parch'].describe()"
   ]
  },
  {
   "cell_type": "code",
   "execution_count": 23,
   "id": "f3a22d34",
   "metadata": {},
   "outputs": [
    {
     "data": {
      "text/html": [
       "<div>\n",
       "<style scoped>\n",
       "    .dataframe tbody tr th:only-of-type {\n",
       "        vertical-align: middle;\n",
       "    }\n",
       "\n",
       "    .dataframe tbody tr th {\n",
       "        vertical-align: top;\n",
       "    }\n",
       "\n",
       "    .dataframe thead th {\n",
       "        text-align: right;\n",
       "    }\n",
       "</style>\n",
       "<table border=\"1\" class=\"dataframe\">\n",
       "  <thead>\n",
       "    <tr style=\"text-align: right;\">\n",
       "      <th></th>\n",
       "      <th>Not Survived</th>\n",
       "      <th>Survived</th>\n",
       "    </tr>\n",
       "    <tr>\n",
       "      <th>Embarked</th>\n",
       "      <th></th>\n",
       "      <th></th>\n",
       "    </tr>\n",
       "  </thead>\n",
       "  <tbody>\n",
       "    <tr>\n",
       "      <th>C</th>\n",
       "      <td>44.642857</td>\n",
       "      <td>55.357143</td>\n",
       "    </tr>\n",
       "    <tr>\n",
       "      <th>Q</th>\n",
       "      <td>61.038961</td>\n",
       "      <td>38.961039</td>\n",
       "    </tr>\n",
       "    <tr>\n",
       "      <th>S</th>\n",
       "      <td>66.304348</td>\n",
       "      <td>33.695652</td>\n",
       "    </tr>\n",
       "  </tbody>\n",
       "</table>\n",
       "</div>"
      ],
      "text/plain": [
       "          Not Survived   Survived\n",
       "Embarked                         \n",
       "C            44.642857  55.357143\n",
       "Q            61.038961  38.961039\n",
       "S            66.304348  33.695652"
      ]
     },
     "execution_count": 23,
     "metadata": {},
     "output_type": "execute_result"
    }
   ],
   "source": [
    "grouped_normalized"
   ]
  },
  {
   "cell_type": "code",
   "execution_count": 27,
   "id": "e94f0648",
   "metadata": {},
   "outputs": [
    {
     "name": "stdout",
     "output_type": "stream",
     "text": [
      "People with the highest chance of survival embarkede from port:\n",
      "C\n",
      "People with the highest probability of not surviving embarkede from port:\n",
      "S\n"
     ]
    }
   ],
   "source": [
    "grouped = titanic.groupby(['Embarked', 'Survived']).size().unstack()\n",
    "\n",
    "grouped_normalized = grouped.div(grouped.sum(axis = 1), axis = 0) * 100 # axis = 1 means aggregating across column, axis = 0 means row\n",
    "\n",
    "grouped_normalized.columns = ['Not Survived', 'Survived']\n",
    "\n",
    "print('People with the highest chance of survival embarkede from port:') \n",
    "print(grouped_normalized['Survived'].idxmax())\n",
    "print(f'People with the highest probability of not surviving embarkede from port:') \n",
    "print(grouped_normalized['Not Survived'].idxmax())\n",
    "\n",
    "# You had the highest chance of survival if you embarked from S"
   ]
  }
 ],
 "metadata": {
  "kernelspec": {
   "display_name": "Python 3",
   "language": "python",
   "name": "python3"
  },
  "language_info": {
   "codemirror_mode": {
    "name": "ipython",
    "version": 3
   },
   "file_extension": ".py",
   "mimetype": "text/x-python",
   "name": "python",
   "nbconvert_exporter": "python",
   "pygments_lexer": "ipython3",
   "version": "3.10.6"
  }
 },
 "nbformat": 4,
 "nbformat_minor": 5
}
