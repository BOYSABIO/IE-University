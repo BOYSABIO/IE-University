{
 "cells": [
  {
   "cell_type": "markdown",
   "metadata": {
    "id": "JfAEMI2hCtJo"
   },
   "source": [
    "# Image Classification with SciKit-Learn\n",
    "\n",
    "In this notebook, we'll explore some basic principles for building a classifier for images. Our classifier will be pretty simple, and will differentiate between circles, triangles, and squares."
   ]
  },
  {
   "cell_type": "code",
   "execution_count": 1,
   "metadata": {
    "colab": {
     "base_uri": "https://localhost:8080/"
    },
    "executionInfo": {
     "elapsed": 25231,
     "status": "ok",
     "timestamp": 1745938585466,
     "user": {
      "displayName": "Hind Azegrouz",
      "userId": "04469582049561885297"
     },
     "user_tz": -120
    },
    "id": "v9bWwkruCyHZ",
    "outputId": "dc1af341-a8d2-4f6a-a4c6-a2cf19b97a44"
   },
   "outputs": [
    {
     "name": "stdout",
     "output_type": "stream",
     "text": [
      "Mounted at /content/gdrive\n"
     ]
    }
   ],
   "source": [
    "#from google.colab import drive\n",
    "#drive.mount('/content/gdrive')"
   ]
  },
  {
   "cell_type": "code",
   "execution_count": 1,
   "metadata": {
    "colab": {
     "base_uri": "https://localhost:8080/"
    },
    "executionInfo": {
     "elapsed": 29597,
     "status": "ok",
     "timestamp": 1745938615062,
     "user": {
      "displayName": "Hind Azegrouz",
      "userId": "04469582049561885297"
     },
     "user_tz": -120
    },
    "id": "4LotzVapCtJv",
    "outputId": "69148fd6-34d7-4c45-9ad9-b7b2a87d6573",
    "scrolled": true,
    "trusted": true
   },
   "outputs": [
    {
     "name": "stdout",
     "output_type": "stream",
     "text": [
      "Reading data from circle\n",
      "Reading data from square\n",
      "Reading data from triangle\n",
      "1200 features\n",
      "1200 labels\n",
      "3 classes: ['circle', 'square', 'triangle']\n"
     ]
    }
   ],
   "source": [
    "def prep_data (folder):\n",
    "    # iterate through folders, assembling feature, label, and classname data objects\n",
    "    import os\n",
    "    import numpy as np\n",
    "    import matplotlib.pyplot as plt\n",
    "\n",
    "    class_id = 0\n",
    "    features = []\n",
    "    labels = np.array([])\n",
    "    classnames = []\n",
    "    for root, dirs, filenames in os.walk(folder):\n",
    "        for d in sorted(dirs):\n",
    "            print(\"Reading data from\", d)\n",
    "            # use the folder name as the class name for this label\n",
    "            classnames.append(d)\n",
    "            files = os.listdir(os.path.join(root,d))\n",
    "            for f in files:\n",
    "                # Load the image file\n",
    "                imgFile = os.path.join(root,d, f)\n",
    "                img = plt.imread(imgFile)\n",
    "                # The image array is a multidimensional numpy array\n",
    "                # - flatten it to a single array of pixel values for scikit-learn\n",
    "                # - and add it to the list of features\n",
    "                features.append(img.ravel())\n",
    "\n",
    "                # Add it to the numpy array of labels\n",
    "                labels = np.append(labels, class_id )\n",
    "            class_id  += 1\n",
    "\n",
    "    # Convert the list of features into a numpy array\n",
    "    features = np.array(features)\n",
    "\n",
    "    return features, labels, classnames\n",
    "\n",
    "\n",
    "# The images are in a folder named 'shapes/training'\n",
    "training_folder_name =  'data/shapes/training'\n",
    "\n",
    "# Prepare the image data\n",
    "features, labels, classnames = prep_data(training_folder_name)\n",
    "print(len(features), 'features')\n",
    "print(len(labels), 'labels')\n",
    "print(len(classnames), 'classes:', classnames)"
   ]
  },
  {
   "cell_type": "markdown",
   "metadata": {
    "id": "IhHSnac-CtJ5"
   },
   "source": [
    "Let's verify the shapes of the arrays -  we should have a two-dimensional array of features (each image is itself an array), and one dimensional array of labels (each label is an integer value)."
   ]
  },
  {
   "cell_type": "code",
   "execution_count": 2,
   "metadata": {
    "colab": {
     "base_uri": "https://localhost:8080/"
    },
    "executionInfo": {
     "elapsed": 6,
     "status": "ok",
     "timestamp": 1745938615069,
     "user": {
      "displayName": "Hind Azegrouz",
      "userId": "04469582049561885297"
     },
     "user_tz": -120
    },
    "id": "uQ3Bi77ZCtJ7",
    "outputId": "ea825b7c-dfc4-481b-ec6a-2ea086593c7b",
    "trusted": true
   },
   "outputs": [
    {
     "name": "stdout",
     "output_type": "stream",
     "text": [
      "Feature Shape: (1200, 49152)\n",
      "Labels Shape: (1200,)\n"
     ]
    }
   ],
   "source": [
    "print('Feature Shape:',features.shape)\n",
    "print('Labels Shape:',labels.shape)"
   ]
  },
  {
   "cell_type": "markdown",
   "metadata": {
    "id": "fjxqpwKzCtJ8"
   },
   "source": [
    "## Split the data\n",
    "Now that the image data is prepared, we can split it into training (70%) and test (30%) subsets:"
   ]
  },
  {
   "cell_type": "code",
   "execution_count": 11,
   "metadata": {
    "colab": {
     "base_uri": "https://localhost:8080/"
    },
    "executionInfo": {
     "elapsed": 1676,
     "status": "ok",
     "timestamp": 1745938616747,
     "user": {
      "displayName": "Hind Azegrouz",
      "userId": "04469582049561885297"
     },
     "user_tz": -120
    },
    "id": "rZlKFYmdCtJ9",
    "outputId": "daea971e-047e-479a-d6e0-a974447ef90f",
    "trusted": true
   },
   "outputs": [
    {
     "name": "stdout",
     "output_type": "stream",
     "text": [
      "Training records: 840\n",
      "Test records: 360\n"
     ]
    }
   ],
   "source": [
    "# split into training and testing sets\n",
    "from sklearn.model_selection import train_test_split\n",
    "\n",
    "X_train, X_test, Y_train, Y_test = train_test_split(features, labels, test_size=0.30)\n",
    "\n",
    "print('Training records:',Y_train.size)\n",
    "print('Test records:',Y_test.size)"
   ]
  },
  {
   "cell_type": "markdown",
   "metadata": {
    "id": "SgxFNRbpCtJ-"
   },
   "source": [
    "## Train the classification model\n",
    "\n",
    "Now we'll use the prepared image data to train a model.\n",
    "\n",
    "In this case, we'll define a pipeline that contains two steps:\n",
    "1. Normalize the pixel values so that they are scaled between 0 and 1 - this can prevent high pixel density values from dominating the model training.\n",
    "2. Train the model using a *Decision Tree* algorithm for classification (this is one of many algorithms supported by Scikit-Learn - see the [documentation](https://scikit-learn.org/stable/user_guide.html) for details)\n",
    "\n",
    "*(This may take a few minutes)*"
   ]
  },
  {
   "cell_type": "code",
   "execution_count": 15,
   "metadata": {
    "colab": {
     "base_uri": "https://localhost:8080/"
    },
    "executionInfo": {
     "elapsed": 8310,
     "status": "ok",
     "timestamp": 1745938625061,
     "user": {
      "displayName": "Hind Azegrouz",
      "userId": "04469582049561885297"
     },
     "user_tz": -120
    },
    "id": "HA9LjMDVCtKC",
    "outputId": "96ee5898-a989-4a09-9f90-0720bdc9c157",
    "trusted": true
   },
   "outputs": [
    {
     "name": "stdout",
     "output_type": "stream",
     "text": [
      "Training model...\n",
      "classifier trained!\n"
     ]
    }
   ],
   "source": [
    "# Train the model\n",
    "from sklearn.pipeline import Pipeline\n",
    "from sklearn.preprocessing import MinMaxScaler\n",
    "from sklearn.tree import DecisionTreeClassifier\n",
    "\n",
    "# Convert the training features to floats so they can be scaled\n",
    "X_train_float = X_train.astype('float64')\n",
    "\n",
    "# Our pipeline performs two tasks:\n",
    "#   1. Normalize the image arrays\n",
    "#   2. Train a classification model\n",
    "img_pipeline = Pipeline([('norm', MinMaxScaler()),\n",
    "                         ('classify', DecisionTreeClassifier()),\n",
    "                        ])\n",
    "\n",
    "# Use the pipeline to fit a model to the training data\n",
    "print(\"Training model...\")\n",
    "clf = img_pipeline.fit(X_train_float, Y_train)\n",
    "\n",
    "print('classifier trained!')"
   ]
  },
  {
   "cell_type": "markdown",
   "metadata": {
    "id": "60cVbNuOCtKD"
   },
   "source": [
    "## Evaluate the model\n",
    "With our model trained, we'll use it to predict labels for the test data and evaluate its precision, recall, and simple accuracy using the known labels. Then we'll plot the confusion matrix to evaluate how well the model performs for each class label."
   ]
  },
  {
   "cell_type": "code",
   "execution_count": 16,
   "metadata": {
    "colab": {
     "base_uri": "https://localhost:8080/",
     "height": 733
    },
    "executionInfo": {
     "elapsed": 685,
     "status": "ok",
     "timestamp": 1745938625744,
     "user": {
      "displayName": "Hind Azegrouz",
      "userId": "04469582049561885297"
     },
     "user_tz": -120
    },
    "id": "WdYztG5qCtKG",
    "outputId": "967b0b14-d3be-4ef6-dfe6-295e93b15e70",
    "trusted": true
   },
   "outputs": [
    {
     "name": "stdout",
     "output_type": "stream",
     "text": [
      "Classifier Metrics:\n",
      "              precision    recall  f1-score   support\n",
      "\n",
      "      circle       0.91      0.88      0.89       120\n",
      "      square       0.89      0.91      0.90       119\n",
      "    triangle       1.00      1.00      1.00       121\n",
      "\n",
      "    accuracy                           0.93       360\n",
      "   macro avg       0.93      0.93      0.93       360\n",
      "weighted avg       0.93      0.93      0.93       360\n",
      "\n",
      "Accuracy: 93.06%\n",
      "\n",
      " Confusion Matrix:\n"
     ]
    },
    {
     "data": {
      "image/png": "[encoded data removed]",
      "text/plain": [
       "<Figure size 640x480 with 2 Axes>"
      ]
     },
     "metadata": {},
     "output_type": "display_data"
    }
   ],
   "source": [
    "# Evaluate classifier\n",
    "from sklearn import metrics\n",
    "from sklearn.metrics import accuracy_score, confusion_matrix\n",
    "import numpy as np\n",
    "import matplotlib.pyplot as plt\n",
    "\n",
    "# Convert the test features for scaling\n",
    "X_test_float = X_test.astype('float64')\n",
    "\n",
    "print('Classifier Metrics:')\n",
    "predictions = clf.predict(X_test)\n",
    "print(metrics.classification_report(Y_test, predictions, target_names=classnames))\n",
    "print('Accuracy: {:.2%}'.format(metrics.accuracy_score(Y_test, predictions)))\n",
    "\n",
    "print(\"\\n Confusion Matrix:\")\n",
    "cm = confusion_matrix(Y_test, np.round(predictions, 0))\n",
    "# Plot confusion matrix as heatmap\n",
    "plt.imshow(cm, interpolation=\"nearest\", cmap=plt.cm.Blues)\n",
    "plt.colorbar()\n",
    "tick_marks = np.arange(len(classnames))\n",
    "plt.xticks(tick_marks, classnames, rotation=85)\n",
    "plt.yticks(tick_marks, classnames)\n",
    "plt.xlabel(\"Predicted Label\")\n",
    "plt.ylabel(\"True Label\")\n",
    "plt.show()"
   ]
  },
  {
   "cell_type": "markdown",
   "metadata": {
    "id": "CC_5dsTaCtKQ"
   },
   "source": [
    "### Save the Model\n",
    "Now that we have trained the model, we can save it, and use it later to predict classes from new images."
   ]
  },
  {
   "cell_type": "code",
   "execution_count": 17,
   "metadata": {
    "colab": {
     "base_uri": "https://localhost:8080/"
    },
    "executionInfo": {
     "elapsed": 45,
     "status": "ok",
     "timestamp": 1745938625745,
     "user": {
      "displayName": "Hind Azegrouz",
      "userId": "04469582049561885297"
     },
     "user_tz": -120
    },
    "id": "GnrMiOZfCtKR",
    "outputId": "a83ba2e7-2d85-497d-f36e-674bbfb4b3c8",
    "trusted": true
   },
   "outputs": [
    {
     "name": "stdout",
     "output_type": "stream",
     "text": [
      "Exporting the model\n"
     ]
    }
   ],
   "source": [
    "# Save the trained model\n",
    "import sys\n",
    "import os\n",
    "import pickle\n",
    "\n",
    "print (\"Exporting the model\")\n",
    "file_stream = open('shape_classifier.pkl', 'wb')\n",
    "pickle.dump(clf, file_stream)\n",
    "file_stream.close()"
   ]
  },
  {
   "cell_type": "markdown",
   "metadata": {
    "id": "LrAMZ3nrCtKT"
   },
   "source": [
    "## Use the model with new data\n",
    "Now we can use the model to classify new images.\n",
    "\n",
    "### Create Functions to Prepare Data and Get Class Predictions\n",
    "Let's create a couple of functions to:\n",
    "\n",
    "- Resize new images to match the size on which the model was trained.\n",
    "- Submit the new images to the model and retrieve the predicted classes."
   ]
  },
  {
   "cell_type": "code",
   "execution_count": 18,
   "metadata": {
    "colab": {
     "base_uri": "https://localhost:8080/"
    },
    "executionInfo": {
     "elapsed": 18,
     "status": "ok",
     "timestamp": 1745938625746,
     "user": {
      "displayName": "Hind Azegrouz",
      "userId": "04469582049561885297"
     },
     "user_tz": -120
    },
    "id": "vdTmRF67CtKU",
    "outputId": "9c6d8567-bb32-4ae9-dae8-955303e33203",
    "trusted": true
   },
   "outputs": [
    {
     "name": "stdout",
     "output_type": "stream",
     "text": [
      "Functions created - ready to use model for inference.\n"
     ]
    }
   ],
   "source": [
    "# Helper function to resize image\n",
    "def resize_image(src_img, size=(128,128), bg_color=\"white\"):\n",
    "    from PIL import Image\n",
    "\n",
    "    # rescale the image so the longest edge is the right size\n",
    "    src_img.thumbnail(size, Image.Resampling.LANCZOS)\n",
    "\n",
    "    # Create a new image of the right shape\n",
    "    new_image = Image.new(\"RGB\", size, bg_color)\n",
    "\n",
    "    # Paste the rescaled image onto the new background\n",
    "    new_image.paste(src_img, (int((size[0] - src_img.size[0]) / 2), int((size[1] - src_img.size[1]) / 2)))\n",
    "\n",
    "    # return the resized image\n",
    "    return new_image\n",
    "\n",
    "# Function to predict the class of an image\n",
    "def predict_image(classifier, image_array):\n",
    "    import numpy as np\n",
    "\n",
    "    # These are the classes our model can predict\n",
    "    classnames = ['circle', 'square', 'triangle']\n",
    "\n",
    "    # Predict the class of each input image\n",
    "    predictions = classifier.predict(image_array)\n",
    "\n",
    "    predicted_classes = []\n",
    "    for prediction in predictions:\n",
    "        # And append the corresponding class name to the results\n",
    "        predicted_classes.append(classnames[int(prediction)])\n",
    "    # Return the predictions\n",
    "    return predicted_classes\n",
    "\n",
    "print(\"Functions created - ready to use model for inference.\")"
   ]
  },
  {
   "cell_type": "markdown",
   "metadata": {
    "id": "8g6oM2orCtKZ"
   },
   "source": [
    "### Predict Image Classes\n",
    "Now we're ready to use the model for predicting (often referred to as *inferencing*) the classes of some new images."
   ]
  },
  {
   "cell_type": "code",
   "execution_count": 19,
   "metadata": {
    "colab": {
     "base_uri": "https://localhost:8080/",
     "height": 232
    },
    "executionInfo": {
     "elapsed": 3897,
     "status": "ok",
     "timestamp": 1745938629631,
     "user": {
      "displayName": "Hind Azegrouz",
      "userId": "04469582049561885297"
     },
     "user_tz": -120
    },
    "id": "OBZU9AJXCtKb",
    "outputId": "1103034c-e794-4846-e1eb-e2aea1a344ef",
    "trusted": true
   },
   "outputs": [
    {
     "name": "stdout",
     "output_type": "stream",
     "text": [
      "Importing the model\n"
     ]
    },
    {
     "data": {
      "image/png": "[encoded data removed]",
      "text/plain": [
       "<Figure size 1200x800 with 6 Axes>"
      ]
     },
     "metadata": {},
     "output_type": "display_data"
    }
   ],
   "source": [
    "import os\n",
    "import numpy as np\n",
    "from PIL import Image\n",
    "from matplotlib import pyplot as plt\n",
    "\n",
    "# Load the model\n",
    "print(\"Importing the model\")\n",
    "file_stream = open('shape_classifier.pkl', 'rb')\n",
    "clf = pickle.load(file_stream)\n",
    "file_stream.close()\n",
    "\n",
    "#get the list of test image files\n",
    "test_folder = 'data/shapes/test'\n",
    "test_image_files = os.listdir(test_folder)\n",
    "\n",
    "# Empty array on which to store the images\n",
    "image_arrays = []\n",
    "\n",
    "size = (128,128)\n",
    "background_color = \"white\"\n",
    "\n",
    "fig = plt.figure(figsize=(12, 8))\n",
    "\n",
    "# Get the images and show the predicted classes\n",
    "for file_idx in range(len(test_image_files)):\n",
    "    img = Image.open(os.path.join(test_folder, test_image_files[file_idx]))\n",
    "\n",
    "    # resize the image so it matches the training set - it  must be the same size as the images on which the model was trained\n",
    "    resized_img = np.array(resize_image(img, size, background_color))\n",
    "\n",
    "    img_shape = np.array(resized_img).shape\n",
    "\n",
    "    # Add the image to the array of images\n",
    "    image_arrays.append(resized_img.ravel())\n",
    "\n",
    "# Get predictions from the array of image arrays\n",
    "# Note that the model expects an array of 1 or more images - just like the batches on which it was trained\n",
    "predictions = predict_image(clf, np.array(image_arrays))\n",
    "\n",
    "# plot easch image with its corresponding prediction\n",
    "for idx in range(len(predictions)):\n",
    "    a = fig.add_subplot(1,len(predictions),idx+1)\n",
    "    img = image_arrays[idx].reshape(img_shape)\n",
    "    imgplot = plt.imshow(img)\n",
    "    a.set_title(predictions[idx])\n"
   ]
  },
  {
   "cell_type": "markdown",
   "metadata": {
    "id": "4eGEe6u3CtKc"
   },
   "source": [
    "## Learn More about Scikit-Learn\n",
    "Take a look at the [Scikit-Learn documentation](https://scikit-learn.org/stable/documentation.html)"
   ]
  }
 ],
 "metadata": {
  "colab": {
   "provenance": []
  },
  "kernelspec": {
   "display_name": "myenv312",
   "language": "python",
   "name": "python3"
  },
  "language_info": {
   "codemirror_mode": {
    "name": "ipython",
    "version": 3
   },
   "file_extension": ".py",
   "mimetype": "text/x-python",
   "name": "python",
   "nbconvert_exporter": "python",
   "pygments_lexer": "ipython3",
   "version": "3.12.0"
  }
 },
 "nbformat": 4,
 "nbformat_minor": 0
}
