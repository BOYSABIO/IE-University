{
 "cells": [
  {
   "cell_type": "code",
   "execution_count": 1,
   "metadata": {},
   "outputs": [
    {
     "ename": "SyntaxError",
     "evalue": "invalid syntax. Perhaps you forgot a comma? (RusselGrid.py, line 239)",
     "output_type": "error",
     "traceback": [
      "Traceback \u001b[1;36m(most recent call last)\u001b[0m:\n",
      "\u001b[0m  File \u001b[0;32mc:\\Users\\SABIO\\Documents\\GitHub\\IE-University\\myenv312\\Lib\\site-packages\\IPython\\core\\interactiveshell.py:3579\u001b[0m in \u001b[0;35mrun_code\u001b[0m\n    exec(code_obj, self.user_global_ns, self.user_ns)\u001b[0m\n",
      "\u001b[1;36m  Cell \u001b[1;32mIn[1], line 1\u001b[1;36m\n\u001b[1;33m    import RusselGrid\u001b[1;36m\n",
      "\u001b[1;36m  File \u001b[1;32mc:\\Users\\SABIO\\Documents\\GitHub\\IE-University\\12_REINFORCEMENT_LEARNING\\assignments\\RusselGrid.py:239\u001b[1;36m\u001b[0m\n\u001b[1;33m    [YOUR CODE HERE]\u001b[0m\n\u001b[1;37m     ^\u001b[0m\n\u001b[1;31mSyntaxError\u001b[0m\u001b[1;31m:\u001b[0m invalid syntax. Perhaps you forgot a comma?\n"
     ]
    }
   ],
   "source": [
    "import RusselGrid\n",
    "import gymnasium as gym\n",
    "\n",
    "env = gym.make('RussellsGrid -v0', render_mode = 'human')\n",
    "env.reset()\n",
    "env.render ()\n",
    "done = False\n",
    "\n",
    "while not done:\n",
    "    action = env.action_space.sample () # Take a random action\n",
    "    state , reward , done , truncated , info = env.step(action)\n",
    "    env.render ()\n",
    "    print(f\"State: {state} | Reward: {reward}, | Done: {done}\")"
   ]
  }
 ],
 "metadata": {
  "kernelspec": {
   "display_name": "myenv312",
   "language": "python",
   "name": "python3"
  },
  "language_info": {
   "codemirror_mode": {
    "name": "ipython",
    "version": 3
   },
   "file_extension": ".py",
   "mimetype": "text/x-python",
   "name": "python",
   "nbconvert_exporter": "python",
   "pygments_lexer": "ipython3",
   "version": "3.12.0"
  }
 },
 "nbformat": 4,
 "nbformat_minor": 2
}
