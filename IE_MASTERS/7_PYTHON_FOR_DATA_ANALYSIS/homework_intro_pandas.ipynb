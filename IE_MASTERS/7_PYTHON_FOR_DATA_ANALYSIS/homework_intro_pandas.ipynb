{
 "cells": [
  {
   "cell_type": "markdown",
   "metadata": {},
   "source": [
    "# Homework: Intro to pandas\n",
    "\n",
    "* Defining a Series/DataFrame\n",
    "* Basic properties of Series/DataFrame\n",
    "* Indexing and slicing Series/DataFrame"
   ]
  },
  {
   "cell_type": "code",
   "execution_count": 1,
   "metadata": {},
   "outputs": [],
   "source": [
    "import pandas as pd"
   ]
  },
  {
   "cell_type": "markdown",
   "metadata": {},
   "source": [
    "### Exercise 1\n",
    "\n",
    "Create a pandas series that contains 10 elements using 3 different ways."
   ]
  },
  {
   "cell_type": "code",
   "execution_count": 9,
   "metadata": {},
   "outputs": [
    {
     "name": "stdout",
     "output_type": "stream",
     "text": [
      "0    1\n",
      "1    2\n",
      "2    3\n",
      "3    4\n",
      "4    5\n",
      "dtype: int64\n",
      "a    1\n",
      "b    2\n",
      "c    3\n",
      "d    4\n",
      "e    5\n",
      "dtype: int64\n",
      "a    1\n",
      "b    2\n",
      "c    3\n",
      "d    4\n",
      "e    5\n",
      "dtype: int64\n"
     ]
    }
   ],
   "source": [
    "series_1 = pd.Series([1, 2, 3, 4, 5])\n",
    "series_2 = pd.Series({'a': 1, 'b': 2, 'c': 3, 'd': 4, 'e': 5})\n",
    "series_3 = pd.Series([1, 2, 3, 4, 5], index = ['a', 'b', 'c', 'd', 'e'])\n",
    "\n",
    "print(series_1)\n",
    "print(series_2)\n",
    "print(series_3)"
   ]
  },
  {
   "cell_type": "markdown",
   "metadata": {},
   "source": [
    "### Exercise 2\n",
    "\n",
    "Create a DataFrame that contains 4 columns and 5 rows using 3 different ways."
   ]
  },
  {
   "cell_type": "code",
   "execution_count": 12,
   "metadata": {},
   "outputs": [
    {
     "name": "stdout",
     "output_type": "stream",
     "text": [
      "   column1  column2  column3  column4  column5\n",
      "a        1        1        1        1        1\n",
      "b        2        2        2        2        2\n",
      "c        3        3        3        3        3\n",
      "d        4        4        4        4        4\n",
      "e        5        5        5        5        5\n",
      "   column1  column2  column3  column4  column5\n",
      "0        1        1        1        1        1\n",
      "1        2        2        2        2        2\n",
      "2        3        3        3        3        3\n",
      "3        4        4        4        4        4\n",
      "4        5        5        5        5        5\n",
      "   column1  column2  column3  column4  column5\n",
      "0        1        1        1        1        1\n",
      "1        2        2        2        2        2\n",
      "2        3        3        3        3        3\n",
      "3        4        4        4        4        4\n",
      "4        5        5        5        5        5\n"
     ]
    }
   ],
   "source": [
    "df1 = pd.DataFrame({'column1': series_2, 'column2': series_3, 'column3': series_2, 'column4': series_3, 'column5': series_3})\n",
    "df2 = pd.DataFrame([\n",
    "    {\"column1\": 1, \"column2\": 1, \"column3\": 1, \"column4\": 1, 'column5': 1},\n",
    "    {\"column1\": 2, \"column2\": 2, \"column3\": 2, \"column4\": 2, 'column5': 2},\n",
    "    {\"column1\": 3, \"column2\": 3, \"column3\": 3, \"column4\": 3, 'column5': 3},\n",
    "    {\"column1\": 4, \"column2\": 4, \"column3\": 4, \"column4\": 4, 'column5': 4},\n",
    "    {\"column1\": 5, \"column2\": 5, \"column3\": 5, \"column4\": 5, 'column5': 5}\n",
    "])\n",
    "df3 = pd.DataFrame({\n",
    "    \"column1\": [1, 2, 3, 4, 5],\n",
    "    \"column2\": [1, 2, 3, 4, 5],\n",
    "    \"column3\": [1, 2, 3, 4, 5],\n",
    "    \"column4\": [1, 2, 3, 4, 5],\n",
    "    \"column5\": [1, 2, 3, 4, 5]\n",
    "})\n",
    "\n",
    "print(df1)\n",
    "print(df2)\n",
    "print(df3)"
   ]
  },
  {
   "cell_type": "markdown",
   "metadata": {},
   "source": [
    "### Exercise 3\n",
    "\n",
    "Given this dataframe\n",
    "\n",
    "```python\n",
    "df = pd.DataFrame({\n",
    "    'A': [1, 2, 3, 4],\n",
    "    'B': [5, 6, 7, 8],\n",
    "    'C': [9, 10, 11, 12],\n",
    "    'D': [13, 14, 15, 16]\n",
    "})\n",
    "```\n",
    "\n",
    "extract the 3rd element of its index."
   ]
  },
  {
   "cell_type": "code",
   "execution_count": 14,
   "metadata": {},
   "outputs": [
    {
     "name": "stdout",
     "output_type": "stream",
     "text": [
      "0     9\n",
      "1    10\n",
      "2    11\n",
      "3    12\n",
      "Name: C, dtype: int64\n"
     ]
    }
   ],
   "source": [
    "df = pd.DataFrame({\n",
    "    'A': [1, 2, 3, 4],\n",
    "    'B': [5, 6, 7, 8],\n",
    "    'C': [9, 10, 11, 12],\n",
    "    'D': [13, 14, 15, 16]\n",
    "})\n",
    "\n",
    "print(df['C'])"
   ]
  },
  {
   "cell_type": "markdown",
   "metadata": {},
   "source": [
    "### Exercise 4\n",
    "\n",
    "Using the dataframe from the previous exercise, extract the number of rows and columns."
   ]
  },
  {
   "cell_type": "code",
   "execution_count": 17,
   "metadata": {},
   "outputs": [
    {
     "name": "stdout",
     "output_type": "stream",
     "text": [
      "(4, 4)\n"
     ]
    }
   ],
   "source": [
    "print(df.shape)"
   ]
  },
  {
   "cell_type": "markdown",
   "metadata": {},
   "source": [
    "### Exercise 5\n",
    "\n",
    "Now extract the values of the dataframe as a numpy array."
   ]
  },
  {
   "cell_type": "code",
   "execution_count": 18,
   "metadata": {},
   "outputs": [
    {
     "name": "stdout",
     "output_type": "stream",
     "text": [
      "[[ 1  5  9 13]\n",
      " [ 2  6 10 14]\n",
      " [ 3  7 11 15]\n",
      " [ 4  8 12 16]]\n"
     ]
    }
   ],
   "source": [
    "print(df.values)"
   ]
  },
  {
   "cell_type": "markdown",
   "metadata": {},
   "source": [
    "### Exercise 6\n",
    "\n",
    "Using the dataframe from the previous exercise, extract the names of the columns."
   ]
  },
  {
   "cell_type": "code",
   "execution_count": 20,
   "metadata": {},
   "outputs": [
    {
     "name": "stdout",
     "output_type": "stream",
     "text": [
      "['A', 'B', 'C', 'D']\n"
     ]
    }
   ],
   "source": [
    "print(list(df.columns))"
   ]
  },
  {
   "cell_type": "markdown",
   "metadata": {},
   "source": [
    "### Exercise 7\n",
    "\n",
    "Change the name of the columns from `A, B, C, D` to `column_A, column_B, column_C, column_D`."
   ]
  },
  {
   "cell_type": "code",
   "execution_count": 40,
   "metadata": {},
   "outputs": [
    {
     "name": "stdout",
     "output_type": "stream",
     "text": [
      "   column_A  column_B  column_C  column_D\n",
      "0         1         5         9        13\n",
      "1         2         6        10        14\n",
      "2         3         7        11        15\n",
      "3         4         8        12        16\n"
     ]
    }
   ],
   "source": [
    "new_df = df.rename(columns = {'A': 'column_A', 'B': 'column_B', 'C': 'column_C', 'D': 'column_D'})\n",
    "print(new_df)"
   ]
  },
  {
   "cell_type": "markdown",
   "metadata": {},
   "source": [
    "### Exercise 8\n",
    "\n",
    "Using the dataframe from the previous exercise, extract the values of the column `column_B` and store them in a variable."
   ]
  },
  {
   "cell_type": "code",
   "execution_count": 31,
   "metadata": {},
   "outputs": [
    {
     "name": "stdout",
     "output_type": "stream",
     "text": [
      "0    5\n",
      "1    6\n",
      "2    7\n",
      "3    8\n",
      "Name: column_B, dtype: int64\n"
     ]
    }
   ],
   "source": [
    "column_B = new_df['column_B']\n",
    "print(column_B)"
   ]
  },
  {
   "cell_type": "markdown",
   "metadata": {},
   "source": [
    "### Exercise 9\n",
    "\n",
    "Now extract the values of the 3rd row."
   ]
  },
  {
   "cell_type": "code",
   "execution_count": 34,
   "metadata": {},
   "outputs": [
    {
     "name": "stdout",
     "output_type": "stream",
     "text": [
      "column_A     3\n",
      "column_B     7\n",
      "column_C    11\n",
      "column_D    15\n",
      "Name: 2, dtype: int64\n"
     ]
    }
   ],
   "source": [
    "print(new_df.iloc[2])"
   ]
  },
  {
   "cell_type": "markdown",
   "metadata": {},
   "source": [
    "### Exercise 10\n",
    "\n",
    "Using the dataframe from the previous exercise, extract the values of the rows 1 and 3, for the columns `column_A` and `column_C`.\n",
    "\n",
    "Hint: you can use the `loc` method, and using lists of the elements that you want to extract."
   ]
  },
  {
   "cell_type": "code",
   "execution_count": 50,
   "metadata": {},
   "outputs": [
    {
     "name": "stdout",
     "output_type": "stream",
     "text": [
      "0    1\n",
      "2    3\n",
      "Name: column_A, dtype: int64\n",
      "0     9\n",
      "2    11\n",
      "Name: column_C, dtype: int64\n"
     ]
    }
   ],
   "source": [
    "print(new_df.loc[[0, 2], 'column_A'])\n",
    "print(new_df.loc[0:2:2, 'column_C'])"
   ]
  },
  {
   "cell_type": "markdown",
   "metadata": {},
   "source": [
    "### Exercise 11\n",
    "\n",
    "Using the `:` notation like in lists or ranges, please extract all the rows after the first one."
   ]
  },
  {
   "cell_type": "code",
   "execution_count": 47,
   "metadata": {},
   "outputs": [
    {
     "name": "stdout",
     "output_type": "stream",
     "text": [
      "   column_A  column_B  column_C  column_D\n",
      "1         2         6        10        14\n",
      "2         3         7        11        15\n",
      "3         4         8        12        16\n"
     ]
    }
   ],
   "source": [
    "print(new_df.iloc[1:])"
   ]
  },
  {
   "cell_type": "markdown",
   "metadata": {},
   "source": [
    "### Exercise 12\n",
    "\n",
    "What is the sum of all the values in `df`?"
   ]
  },
  {
   "cell_type": "code",
   "execution_count": 54,
   "metadata": {},
   "outputs": [
    {
     "name": "stdout",
     "output_type": "stream",
     "text": [
      "136\n"
     ]
    }
   ],
   "source": [
    "print(new_df.values.sum())"
   ]
  }
 ],
 "metadata": {
  "kernelspec": {
   "display_name": "Python 3",
   "language": "python",
   "name": "python3"
  },
  "language_info": {
   "codemirror_mode": {
    "name": "ipython",
    "version": 3
   },
   "file_extension": ".py",
   "mimetype": "text/x-python",
   "name": "python",
   "nbconvert_exporter": "python",
   "pygments_lexer": "ipython3",
   "version": "3.10.6"
  }
 },
 "nbformat": 4,
 "nbformat_minor": 2
}
