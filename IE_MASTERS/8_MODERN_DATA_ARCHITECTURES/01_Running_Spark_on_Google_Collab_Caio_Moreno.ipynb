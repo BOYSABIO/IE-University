{
  "cells": [
    {
      "cell_type": "markdown",
      "metadata": {
        "id": "8bSJ5PLbe6VT"
      },
      "source": [
        "Lab 1 - Running Spark on Google Collab\n",
        "Author: Caio Moreno"
      ]
    },
    {
      "cell_type": "code",
      "execution_count": 1,
      "metadata": {
        "colab": {
          "base_uri": "https://localhost:8080/"
        },
        "id": "9unhjhnye6A-",
        "outputId": "69b21535-2b98-407f-b3d8-6274067d1ceb"
      },
      "outputs": [
        {
          "name": "stdout",
          "output_type": "stream",
          "text": [
            "Hello World\n"
          ]
        }
      ],
      "source": [
        "print(\"Hello World\")"
      ]
    },
    {
      "cell_type": "markdown",
      "metadata": {
        "id": "B6_72ZLaHFpj"
      },
      "source": [
        "# Install Java, Spark, and Findspark\n",
        "This installs Apache Spark 3.5.0, Java 11, and [Findspark](https://github.com/minrk/findspark), a library that makes it easy for Python to find Spark."
      ]
    },
    {
      "cell_type": "code",
      "execution_count": 3,
      "metadata": {
        "id": "MILr577DeJQF"
      },
      "outputs": [],
      "source": [
        "# Download Java Virtual Machine (JVM)\n",
        "!apt-get install openjdk-11-jdk-headless -qq > /dev/null"
      ]
    },
    {
      "cell_type": "code",
      "execution_count": 4,
      "metadata": {
        "id": "KIezSJRve5fp"
      },
      "outputs": [],
      "source": [
        "# Download Spark 3.5.0 from https://apache.osuosl.org/spark/spark-3.5.4/spark-3.5.4-bin-hadoop3.tgz\n",
        "!wget -q https://apache.osuosl.org/spark/spark-3.5.4/spark-3.5.4-bin-hadoop3.tgz"
      ]
    },
    {
      "cell_type": "code",
      "execution_count": 5,
      "metadata": {
        "colab": {
          "base_uri": "https://localhost:8080/"
        },
        "id": "uWIBwIwhTE2U",
        "outputId": "ed38b046-0d07-415c-a1b5-82b36a7985b0"
      },
      "outputs": [
        {
          "name": "stdout",
          "output_type": "stream",
          "text": [
            "total 383M\n",
            "drwxr-xr-x 1 root root 4.0K Jan 22 14:23 \u001b[0m\u001b[01;34msample_data\u001b[0m/\n",
            "-rw-r--r-- 1 root root 383M Dec 17 05:16 spark-3.5.4-bin-hadoop3.tgz\n"
          ]
        }
      ],
      "source": [
        "ls -lh"
      ]
    },
    {
      "cell_type": "code",
      "execution_count": 6,
      "metadata": {
        "id": "mnCY60dw-4LH"
      },
      "outputs": [],
      "source": [
        "# Download PySpark\n",
        "!wget -q https://apache.osuosl.org/spark/spark-3.5.4/pyspark-3.5.4.tar.gz"
      ]
    },
    {
      "cell_type": "code",
      "execution_count": 7,
      "metadata": {
        "colab": {
          "base_uri": "https://localhost:8080/"
        },
        "id": "NvQ0yr-WTmax",
        "outputId": "d770f1b8-31b4-4fc8-fdd6-7f6d85f464e5"
      },
      "outputs": [
        {
          "name": "stdout",
          "output_type": "stream",
          "text": [
            "total 685M\n",
            "-rw-r--r-- 1 root root 303M Dec 17 05:16 pyspark-3.5.4.tar.gz\n",
            "drwxr-xr-x 1 root root 4.0K Jan 22 14:23 \u001b[0m\u001b[01;34msample_data\u001b[0m/\n",
            "-rw-r--r-- 1 root root 383M Dec 17 05:16 spark-3.5.4-bin-hadoop3.tgz\n"
          ]
        }
      ],
      "source": [
        "ls -lh"
      ]
    },
    {
      "cell_type": "code",
      "execution_count": 8,
      "metadata": {
        "colab": {
          "base_uri": "https://localhost:8080/"
        },
        "id": "HXTU9f24Skle",
        "outputId": "26fff169-eac4-4485-b6af-bbf5214693fe"
      },
      "outputs": [
        {
          "name": "stdout",
          "output_type": "stream",
          "text": [
            "total 448K\n",
            "lrwxrwxrwx   1 root root    7 Oct  4  2023 \u001b[0m\u001b[01;36mbin\u001b[0m -> \u001b[01;34musr/bin\u001b[0m/\n",
            "drwxr-xr-x   2 root root 4.0K Apr 18  2022 \u001b[01;34mboot\u001b[0m/\n",
            "drwxr-xr-x   1 root root 4.0K Jan 24 17:18 \u001b[01;34mcontent\u001b[0m/\n",
            "-rw-r--r--   1 root root 4.3K Nov 10  2023 cuda-keyring_1.0-1_all.deb\n",
            "drwxr-xr-x   1 root root 4.0K Jan 22 14:33 \u001b[01;34mdatalab\u001b[0m/\n",
            "drwxr-xr-x   6 root root  460 Jan 24 17:15 \u001b[01;34mdev\u001b[0m/\n",
            "drwxr-xr-x   1 root root 4.0K Jan 24 17:15 \u001b[01;34metc\u001b[0m/\n",
            "drwxr-xr-x   2 root root 4.0K Apr 18  2022 \u001b[01;34mhome\u001b[0m/\n",
            "drwxr-xr-x   3 root root 4.0K Jan 24 17:15 \u001b[01;34mkaggle\u001b[0m/\n",
            "lrwxrwxrwx   1 root root    7 Oct  4  2023 \u001b[01;36mlib\u001b[0m -> \u001b[01;34musr/lib\u001b[0m/\n",
            "lrwxrwxrwx   1 root root    9 Oct  4  2023 \u001b[01;36mlib32\u001b[0m -> \u001b[01;34musr/lib32\u001b[0m/\n",
            "lrwxrwxrwx   1 root root    9 Oct  4  2023 \u001b[01;36mlib64\u001b[0m -> \u001b[01;34musr/lib64\u001b[0m/\n",
            "lrwxrwxrwx   1 root root   10 Oct  4  2023 \u001b[01;36mlibx32\u001b[0m -> \u001b[01;34musr/libx32\u001b[0m/\n",
            "drwxr-xr-x   2 root root 4.0K Oct  4  2023 \u001b[01;34mmedia\u001b[0m/\n",
            "drwxr-xr-x   2 root root 4.0K Oct  4  2023 \u001b[01;34mmnt\u001b[0m/\n",
            "-rw-r--r--   1 root root  17K Nov 10  2023 NGC-DL-CONTAINER-LICENSE\n",
            "drwxr-xr-x   1 root root 4.0K Jan 24 17:15 \u001b[01;34mopt\u001b[0m/\n",
            "dr-xr-xr-x 223 root root    0 Jan 24 17:15 \u001b[01;34mproc\u001b[0m/\n",
            "drwxrwxr-x  14 root root 4.0K Jan 22 14:21 \u001b[01;34mpython-apt\u001b[0m/\n",
            "-r-xr-xr-x   1 root root 338K Jan  1  2000 \u001b[01;32mpython-apt.tar.xz\u001b[0m*\n",
            "drwx------   1 root root 4.0K Jan 24 17:15 \u001b[01;34mroot\u001b[0m/\n",
            "drwxr-xr-x   1 root root 4.0K Jan 22 14:14 \u001b[01;34mrun\u001b[0m/\n",
            "lrwxrwxrwx   1 root root    8 Oct  4  2023 \u001b[01;36msbin\u001b[0m -> \u001b[01;34musr/sbin\u001b[0m/\n",
            "drwxr-xr-x   2 root root 4.0K Oct  4  2023 \u001b[01;34msrv\u001b[0m/\n",
            "dr-xr-xr-x  13 root root    0 Jan 24 17:15 \u001b[01;34msys\u001b[0m/\n",
            "drwxrwxrwt   1 root root 4.0K Jan 24 17:17 \u001b[30;42mtmp\u001b[0m/\n",
            "drwxr-xr-x   1 root root 4.0K Jan 22 14:33 \u001b[01;34mtools\u001b[0m/\n",
            "drwxr-xr-x   1 root root 4.0K Jan 24 17:15 \u001b[01;34musr\u001b[0m/\n",
            "drwxr-xr-x   1 root root 4.0K Jan 22 14:33 \u001b[01;34mvar\u001b[0m/\n"
          ]
        }
      ],
      "source": [
        "ls -lh ../"
      ]
    },
    {
      "cell_type": "code",
      "execution_count": 9,
      "metadata": {
        "id": "vA4rcotnGjIw"
      },
      "outputs": [],
      "source": [
        "# unzip it\n",
        "!tar xf spark-3.5.4-bin-hadoop3.tgz\n",
        "# install findspark\n",
        "!pip install -q findspark"
      ]
    },
    {
      "cell_type": "code",
      "execution_count": 10,
      "metadata": {
        "id": "eG4kwZqs_AmF"
      },
      "outputs": [],
      "source": [
        "# unzip it\n",
        "!tar xf pyspark-3.5.4.tar.gz"
      ]
    },
    {
      "cell_type": "code",
      "execution_count": 11,
      "metadata": {
        "colab": {
          "base_uri": "https://localhost:8080/"
        },
        "id": "Rrylq19fAvQS",
        "outputId": "bf903bba-e045-4565-af68-58212b9fac0d"
      },
      "outputs": [
        {
          "name": "stdout",
          "output_type": "stream",
          "text": [
            "/content\n"
          ]
        }
      ],
      "source": [
        "!pwd"
      ]
    },
    {
      "cell_type": "code",
      "execution_count": 12,
      "metadata": {
        "colab": {
          "base_uri": "https://localhost:8080/"
        },
        "id": "NUBJCp26AyXd",
        "outputId": "d74be0ff-e357-4652-9175-1a1029a5984d"
      },
      "outputs": [
        {
          "name": "stdout",
          "output_type": "stream",
          "text": [
            "/content/spark-3.5.4-bin-hadoop3\n"
          ]
        }
      ],
      "source": [
        "cd /content/spark-3.5.4-bin-hadoop3/"
      ]
    },
    {
      "cell_type": "code",
      "execution_count": 13,
      "metadata": {
        "colab": {
          "base_uri": "https://localhost:8080/"
        },
        "id": "tnO4rqj2frxa",
        "outputId": "a6dba5e6-5497-4eaf-e3d5-2f5d65b8dc19"
      },
      "outputs": [
        {
          "name": "stdout",
          "output_type": "stream",
          "text": [
            "total 156K\n",
            "drwxr-xr-x 2 1000 1000 4.0K Dec 17 05:13 \u001b[0m\u001b[01;34mbin\u001b[0m/\n",
            "drwxr-xr-x 2 1000 1000 4.0K Dec 17 05:13 \u001b[01;34mconf\u001b[0m/\n",
            "drwxr-xr-x 6 1000 1000 4.0K Dec 17 05:13 \u001b[01;34mdata\u001b[0m/\n",
            "drwxr-xr-x 4 1000 1000 4.0K Dec 17 05:13 \u001b[01;34mexamples\u001b[0m/\n",
            "drwxr-xr-x 2 1000 1000  20K Dec 17 05:13 \u001b[01;34mjars\u001b[0m/\n",
            "drwxr-xr-x 4 1000 1000 4.0K Dec 17 05:13 \u001b[01;34mkubernetes\u001b[0m/\n",
            "-rw-r--r-- 1 1000 1000  23K Dec 17 05:13 LICENSE\n",
            "drwxr-xr-x 2 1000 1000 4.0K Dec 17 05:13 \u001b[01;34mlicenses\u001b[0m/\n",
            "-rw-r--r-- 1 1000 1000  57K Dec 17 05:13 NOTICE\n",
            "drwxr-xr-x 9 1000 1000 4.0K Dec 17 05:13 \u001b[01;34mpython\u001b[0m/\n",
            "drwxr-xr-x 3 1000 1000 4.0K Dec 17 05:13 \u001b[01;34mR\u001b[0m/\n",
            "-rw-r--r-- 1 1000 1000 4.5K Dec 17 05:13 README.md\n",
            "-rw-r--r-- 1 1000 1000  166 Dec 17 05:13 RELEASE\n",
            "drwxr-xr-x 2 1000 1000 4.0K Dec 17 05:13 \u001b[01;34msbin\u001b[0m/\n",
            "drwxr-xr-x 2 1000 1000 4.0K Dec 17 05:13 \u001b[01;34myarn\u001b[0m/\n"
          ]
        }
      ],
      "source": [
        "ls -lh"
      ]
    },
    {
      "cell_type": "code",
      "execution_count": 14,
      "metadata": {
        "colab": {
          "base_uri": "https://localhost:8080/"
        },
        "id": "3RvjouvmG1Jd",
        "outputId": "796324b0-a62a-4c0d-b10a-dc6e93234f9f"
      },
      "outputs": [
        {
          "name": "stdout",
          "output_type": "stream",
          "text": [
            "/content\n"
          ]
        }
      ],
      "source": [
        "cd /content"
      ]
    },
    {
      "cell_type": "code",
      "execution_count": 15,
      "metadata": {
        "colab": {
          "base_uri": "https://localhost:8080/"
        },
        "id": "ieVfcC7IG6Oh",
        "outputId": "54f686d1-3753-46bd-b634-65c2347176c8"
      },
      "outputs": [
        {
          "name": "stdout",
          "output_type": "stream",
          "text": [
            "total 685M\n",
            "drwxr-xr-x  6 1000 1000 4.0K Dec 17 05:07 \u001b[0m\u001b[01;34mpyspark-3.5.4\u001b[0m/\n",
            "-rw-r--r--  1 root root 303M Dec 17 05:16 pyspark-3.5.4.tar.gz\n",
            "drwxr-xr-x  1 root root 4.0K Jan 22 14:23 \u001b[01;34msample_data\u001b[0m/\n",
            "drwxr-xr-x 13 1000 1000 4.0K Dec 17 05:13 \u001b[01;34mspark-3.5.4-bin-hadoop3\u001b[0m/\n",
            "-rw-r--r--  1 root root 383M Dec 17 05:16 spark-3.5.4-bin-hadoop3.tgz\n"
          ]
        }
      ],
      "source": [
        "ls -lh"
      ]
    },
    {
      "cell_type": "markdown",
      "metadata": {
        "id": "b4Kjvk_h1AHl"
      },
      "source": [
        "# Set Environment Variables\n",
        "Set the locations where Spark and Java are installed."
      ]
    },
    {
      "cell_type": "code",
      "execution_count": 16,
      "metadata": {
        "id": "8Xnb_ePUyQIL"
      },
      "outputs": [],
      "source": [
        "import os\n",
        "os.environ[\"JAVA_HOME\"] = \"/usr/lib/jvm/java-11-openjdk-amd64\"\n",
        "os.environ[\"SPARK_HOME\"] = \"/content/spark-3.5.4-bin-hadoop3\"\n"
      ]
    },
    {
      "cell_type": "code",
      "execution_count": 17,
      "metadata": {
        "colab": {
          "base_uri": "https://localhost:8080/"
        },
        "id": "ejGITMlrBFQq",
        "outputId": "d29594de-fabf-4121-bb68-deee6e0fd04c"
      },
      "outputs": [
        {
          "name": "stdout",
          "output_type": "stream",
          "text": [
            "total 4.0K\n",
            "lrwxrwxrwx 1 root root   21 Oct 17 17:21 \u001b[0m\u001b[01;36mjava-1.11.0-openjdk-amd64\u001b[0m -> \u001b[01;34mjava-11-openjdk-amd64\u001b[0m/\n",
            "drwxr-xr-x 9 root root 4.0K Jan 22 14:19 \u001b[01;34mjava-11-openjdk-amd64\u001b[0m/\n"
          ]
        }
      ],
      "source": [
        "ls -lh /usr/lib/jvm/"
      ]
    },
    {
      "cell_type": "markdown",
      "metadata": {
        "id": "NwU28K5f1H3P"
      },
      "source": [
        "# Start a SparkSession\n",
        "This will start a local Spark session."
      ]
    },
    {
      "cell_type": "code",
      "execution_count": 18,
      "metadata": {
        "id": "dNEWtczg_mqn"
      },
      "outputs": [],
      "source": [
        "!export PYSPARK_SUBMIT_ARGS=\"--master local[2] pyspark-shell\""
      ]
    },
    {
      "cell_type": "code",
      "execution_count": 2,
      "metadata": {
        "id": "d759K_Eo_QlE"
      },
      "outputs": [],
      "source": [
        "import findspark"
      ]
    },
    {
      "cell_type": "code",
      "execution_count": 3,
      "metadata": {
        "id": "zgReRGl0y23D"
      },
      "outputs": [],
      "source": [
        "import findspark\n",
        "findspark.init()\n",
        "from pyspark.sql import SparkSession\n",
        "\n",
        "#spark = SparkSession.builder.master(\"local[*]\").getOrCreate()\n",
        "\n",
        "spark = SparkSession.builder.master(\"local[*]\").getOrCreate()"
      ]
    },
    {
      "cell_type": "code",
      "execution_count": 4,
      "metadata": {
        "id": "Jd9HA8Y7u6kc"
      },
      "outputs": [],
      "source": [
        "import pyspark"
      ]
    },
    {
      "cell_type": "markdown",
      "metadata": {
        "id": "T3ULPx4Y1LiR"
      },
      "source": [
        "# Use Spark!\n",
        "That's all there is to it - you're ready to use Spark!"
      ]
    },
    {
      "cell_type": "code",
      "execution_count": 8,
      "metadata": {
        "colab": {
          "base_uri": "https://localhost:8080/"
        },
        "id": "XJp8ZI-VzYEz",
        "outputId": "bfb71fd7-2d81-4257-eecc-5214f0e7d4f2"
      },
      "outputs": [
        {
          "name": "stdout",
          "output_type": "stream",
          "text": [
            "+-----+\n",
            "|hello|\n",
            "+-----+\n",
            "|world|\n",
            "|world|\n",
            "|world|\n",
            "+-----+\n",
            "only showing top 3 rows\n",
            "\n"
          ]
        }
      ],
      "source": [
        "df = spark.createDataFrame([{\"hello\": \"world\"} for x in range(1000)])\n",
        "df.show(3)"
      ]
    },
    {
      "cell_type": "code",
      "execution_count": 9,
      "metadata": {
        "colab": {
          "base_uri": "https://localhost:8080/",
          "height": 34
        },
        "id": "Pu0u2G4tHnzf",
        "outputId": "3e196f16-d452-48ae-d9eb-bb7f3327f44c"
      },
      "outputs": [
        {
          "data": {
            "text/plain": [
              "DataFrame[hello: string]"
            ]
          },
          "metadata": {},
          "output_type": "display_data"
        }
      ],
      "source": [
        "display(df)"
      ]
    },
    {
      "cell_type": "code",
      "execution_count": 7,
      "metadata": {
        "colab": {
          "base_uri": "https://localhost:8080/"
        },
        "id": "pgDtXt11H0Ut",
        "outputId": "37ba2c01-469c-49dd-e3b3-d6d02abf4612"
      },
      "outputs": [
        {
          "name": "stdout",
          "output_type": "stream",
          "text": [
            "[WinError 2] The system cannot find the file specified: '/content/'\n",
            "c:\\Users\\SABIO\\Documents\\GitHub\\IE-University\\IE_MASTERS\\8_MODERN_DATA_ARCHITECTURES\n"
          ]
        },
        {
          "name": "stderr",
          "output_type": "stream",
          "text": [
            "C:\\Users\\SABIO\\AppData\\Roaming\\Python\\Python310\\site-packages\\IPython\\core\\magics\\osm.py:393: UserWarning: This is now an optional IPython functionality, using bookmarks requires you to install the `pickleshare` library.\n",
            "  bkms = self.shell.db.get('bookmarks', {})\n"
          ]
        }
      ],
      "source": [
        "cd /content/"
      ]
    },
    {
      "cell_type": "code",
      "execution_count": 25,
      "metadata": {
        "colab": {
          "base_uri": "https://localhost:8080/"
        },
        "id": "TDoMxvjNCDjG",
        "outputId": "a98faa6d-0045-432c-ef06-6e6d8b29dcc0"
      },
      "outputs": [
        {
          "name": "stdout",
          "output_type": "stream",
          "text": [
            "--2025-01-24 17:20:56--  https://raw.githubusercontent.com/apache/spark/master/examples/src/main/resources/people.json\n",
            "Resolving raw.githubusercontent.com (raw.githubusercontent.com)... 185.199.108.133, 185.199.110.133, 185.199.111.133, ...\n",
            "Connecting to raw.githubusercontent.com (raw.githubusercontent.com)|185.199.108.133|:443... connected.\n",
            "HTTP request sent, awaiting response... 200 OK\n",
            "Length: 73 [text/plain]\n",
            "Saving to: ‘people.json’\n",
            "\n",
            "people.json         100%[===================>]      73  --.-KB/s    in 0s      \n",
            "\n",
            "2025-01-24 17:20:57 (1.33 MB/s) - ‘people.json’ saved [73/73]\n",
            "\n"
          ]
        }
      ],
      "source": [
        "!wget https://raw.githubusercontent.com/apache/spark/master/examples/src/main/resources/people.json"
      ]
    },
    {
      "cell_type": "code",
      "execution_count": 26,
      "metadata": {
        "id": "2PDSinE6H6xX"
      },
      "outputs": [],
      "source": [
        "#rm -rf people.json.1"
      ]
    },
    {
      "cell_type": "code",
      "execution_count": 27,
      "metadata": {
        "colab": {
          "base_uri": "https://localhost:8080/"
        },
        "id": "M21i-B6nBr__",
        "outputId": "3fd0226f-51ca-4c23-e830-9a5d29a02ce0"
      },
      "outputs": [
        {
          "name": "stdout",
          "output_type": "stream",
          "text": [
            "total 685M\n",
            "-rw-r--r--  1 root root   73 Jan 24 17:20 people.json\n",
            "drwxr-xr-x  6 1000 1000 4.0K Dec 17 05:07 \u001b[0m\u001b[01;34mpyspark-3.5.4\u001b[0m/\n",
            "-rw-r--r--  1 root root 303M Dec 17 05:16 pyspark-3.5.4.tar.gz\n",
            "drwxr-xr-x  1 root root 4.0K Jan 22 14:23 \u001b[01;34msample_data\u001b[0m/\n",
            "drwxr-xr-x 13 1000 1000 4.0K Dec 17 05:13 \u001b[01;34mspark-3.5.4-bin-hadoop3\u001b[0m/\n",
            "-rw-r--r--  1 root root 383M Dec 17 05:16 spark-3.5.4-bin-hadoop3.tgz\n"
          ]
        }
      ],
      "source": [
        "ls -lh"
      ]
    },
    {
      "cell_type": "code",
      "execution_count": 28,
      "metadata": {
        "colab": {
          "base_uri": "https://localhost:8080/"
        },
        "id": "JG0jj6TmBoil",
        "outputId": "73d5540c-0e9d-4bb9-9791-734d79f4648e"
      },
      "outputs": [
        {
          "name": "stdout",
          "output_type": "stream",
          "text": [
            "-rw-r--r-- 1 root root 73 Jan 24 17:20 /content/people.json\n"
          ]
        }
      ],
      "source": [
        "ls -lh /content/people.json"
      ]
    },
    {
      "cell_type": "code",
      "execution_count": 10,
      "metadata": {
        "colab": {
          "base_uri": "https://localhost:8080/"
        },
        "id": "HzuEk7V2AjJx",
        "outputId": "30b5f71d-d964-4f11-d3d4-890855862aa0"
      },
      "outputs": [
        {
          "ename": "AnalysisException",
          "evalue": "[PATH_NOT_FOUND] Path does not exist: file:/content/people.json.",
          "output_type": "error",
          "traceback": [
            "\u001b[1;31m---------------------------------------------------------------------------\u001b[0m",
            "\u001b[1;31mAnalysisException\u001b[0m                         Traceback (most recent call last)",
            "Cell \u001b[1;32mIn[10], line 2\u001b[0m\n\u001b[0;32m      1\u001b[0m \u001b[38;5;66;03m# spark is an existing SparkSession\u001b[39;00m\n\u001b[1;32m----> 2\u001b[0m df \u001b[38;5;241m=\u001b[39m \u001b[43mspark\u001b[49m\u001b[38;5;241;43m.\u001b[39;49m\u001b[43mread\u001b[49m\u001b[38;5;241;43m.\u001b[39;49m\u001b[43mjson\u001b[49m\u001b[43m(\u001b[49m\u001b[38;5;124;43m\"\u001b[39;49m\u001b[38;5;124;43m/content/people.json\u001b[39;49m\u001b[38;5;124;43m\"\u001b[39;49m\u001b[43m)\u001b[49m\n\u001b[0;32m      3\u001b[0m \u001b[38;5;66;03m# Displays the content of the DataFrame to stdout\u001b[39;00m\n\u001b[0;32m      4\u001b[0m df\u001b[38;5;241m.\u001b[39mshow()\n",
            "File \u001b[1;32mC:\\spark\\python\\pyspark\\sql\\readwriter.py:425\u001b[0m, in \u001b[0;36mDataFrameReader.json\u001b[1;34m(self, path, schema, primitivesAsString, prefersDecimal, allowComments, allowUnquotedFieldNames, allowSingleQuotes, allowNumericLeadingZero, allowBackslashEscapingAnyCharacter, mode, columnNameOfCorruptRecord, dateFormat, timestampFormat, multiLine, allowUnquotedControlChars, lineSep, samplingRatio, dropFieldIfAllNull, encoding, locale, pathGlobFilter, recursiveFileLookup, modifiedBefore, modifiedAfter, allowNonNumericNumbers)\u001b[0m\n\u001b[0;32m    423\u001b[0m \u001b[38;5;28;01mif\u001b[39;00m \u001b[38;5;28mtype\u001b[39m(path) \u001b[38;5;241m==\u001b[39m \u001b[38;5;28mlist\u001b[39m:\n\u001b[0;32m    424\u001b[0m     \u001b[38;5;28;01massert\u001b[39;00m \u001b[38;5;28mself\u001b[39m\u001b[38;5;241m.\u001b[39m_spark\u001b[38;5;241m.\u001b[39m_sc\u001b[38;5;241m.\u001b[39m_jvm \u001b[38;5;129;01mis\u001b[39;00m \u001b[38;5;129;01mnot\u001b[39;00m \u001b[38;5;28;01mNone\u001b[39;00m\n\u001b[1;32m--> 425\u001b[0m     \u001b[38;5;28;01mreturn\u001b[39;00m \u001b[38;5;28mself\u001b[39m\u001b[38;5;241m.\u001b[39m_df(\u001b[38;5;28;43mself\u001b[39;49m\u001b[38;5;241;43m.\u001b[39;49m\u001b[43m_jreader\u001b[49m\u001b[38;5;241;43m.\u001b[39;49m\u001b[43mjson\u001b[49m\u001b[43m(\u001b[49m\u001b[38;5;28;43mself\u001b[39;49m\u001b[38;5;241;43m.\u001b[39;49m\u001b[43m_spark\u001b[49m\u001b[38;5;241;43m.\u001b[39;49m\u001b[43m_sc\u001b[49m\u001b[38;5;241;43m.\u001b[39;49m\u001b[43m_jvm\u001b[49m\u001b[38;5;241;43m.\u001b[39;49m\u001b[43mPythonUtils\u001b[49m\u001b[38;5;241;43m.\u001b[39;49m\u001b[43mtoSeq\u001b[49m\u001b[43m(\u001b[49m\u001b[43mpath\u001b[49m\u001b[43m)\u001b[49m\u001b[43m)\u001b[49m)\n\u001b[0;32m    426\u001b[0m \u001b[38;5;28;01melif\u001b[39;00m \u001b[38;5;28misinstance\u001b[39m(path, RDD):\n\u001b[0;32m    428\u001b[0m     \u001b[38;5;28;01mdef\u001b[39;00m \u001b[38;5;21mfunc\u001b[39m(iterator: Iterable) \u001b[38;5;241m-\u001b[39m\u001b[38;5;241m>\u001b[39m Iterable:\n",
            "File \u001b[1;32mC:\\spark\\python\\lib\\py4j-0.10.9.7-src.zip\\py4j\\java_gateway.py:1322\u001b[0m, in \u001b[0;36mJavaMember.__call__\u001b[1;34m(self, *args)\u001b[0m\n\u001b[0;32m   1316\u001b[0m command \u001b[38;5;241m=\u001b[39m proto\u001b[38;5;241m.\u001b[39mCALL_COMMAND_NAME \u001b[38;5;241m+\u001b[39m\\\n\u001b[0;32m   1317\u001b[0m     \u001b[38;5;28mself\u001b[39m\u001b[38;5;241m.\u001b[39mcommand_header \u001b[38;5;241m+\u001b[39m\\\n\u001b[0;32m   1318\u001b[0m     args_command \u001b[38;5;241m+\u001b[39m\\\n\u001b[0;32m   1319\u001b[0m     proto\u001b[38;5;241m.\u001b[39mEND_COMMAND_PART\n\u001b[0;32m   1321\u001b[0m answer \u001b[38;5;241m=\u001b[39m \u001b[38;5;28mself\u001b[39m\u001b[38;5;241m.\u001b[39mgateway_client\u001b[38;5;241m.\u001b[39msend_command(command)\n\u001b[1;32m-> 1322\u001b[0m return_value \u001b[38;5;241m=\u001b[39m \u001b[43mget_return_value\u001b[49m\u001b[43m(\u001b[49m\n\u001b[0;32m   1323\u001b[0m \u001b[43m    \u001b[49m\u001b[43manswer\u001b[49m\u001b[43m,\u001b[49m\u001b[43m \u001b[49m\u001b[38;5;28;43mself\u001b[39;49m\u001b[38;5;241;43m.\u001b[39;49m\u001b[43mgateway_client\u001b[49m\u001b[43m,\u001b[49m\u001b[43m \u001b[49m\u001b[38;5;28;43mself\u001b[39;49m\u001b[38;5;241;43m.\u001b[39;49m\u001b[43mtarget_id\u001b[49m\u001b[43m,\u001b[49m\u001b[43m \u001b[49m\u001b[38;5;28;43mself\u001b[39;49m\u001b[38;5;241;43m.\u001b[39;49m\u001b[43mname\u001b[49m\u001b[43m)\u001b[49m\n\u001b[0;32m   1325\u001b[0m \u001b[38;5;28;01mfor\u001b[39;00m temp_arg \u001b[38;5;129;01min\u001b[39;00m temp_args:\n\u001b[0;32m   1326\u001b[0m     \u001b[38;5;28;01mif\u001b[39;00m \u001b[38;5;28mhasattr\u001b[39m(temp_arg, \u001b[38;5;124m\"\u001b[39m\u001b[38;5;124m_detach\u001b[39m\u001b[38;5;124m\"\u001b[39m):\n",
            "File \u001b[1;32mC:\\spark\\python\\pyspark\\errors\\exceptions\\captured.py:185\u001b[0m, in \u001b[0;36mcapture_sql_exception.<locals>.deco\u001b[1;34m(*a, **kw)\u001b[0m\n\u001b[0;32m    181\u001b[0m converted \u001b[38;5;241m=\u001b[39m convert_exception(e\u001b[38;5;241m.\u001b[39mjava_exception)\n\u001b[0;32m    182\u001b[0m \u001b[38;5;28;01mif\u001b[39;00m \u001b[38;5;129;01mnot\u001b[39;00m \u001b[38;5;28misinstance\u001b[39m(converted, UnknownException):\n\u001b[0;32m    183\u001b[0m     \u001b[38;5;66;03m# Hide where the exception came from that shows a non-Pythonic\u001b[39;00m\n\u001b[0;32m    184\u001b[0m     \u001b[38;5;66;03m# JVM exception message.\u001b[39;00m\n\u001b[1;32m--> 185\u001b[0m     \u001b[38;5;28;01mraise\u001b[39;00m converted \u001b[38;5;28;01mfrom\u001b[39;00m \u001b[38;5;28;01mNone\u001b[39;00m\n\u001b[0;32m    186\u001b[0m \u001b[38;5;28;01melse\u001b[39;00m:\n\u001b[0;32m    187\u001b[0m     \u001b[38;5;28;01mraise\u001b[39;00m\n",
            "\u001b[1;31mAnalysisException\u001b[0m: [PATH_NOT_FOUND] Path does not exist: file:/content/people.json."
          ]
        }
      ],
      "source": [
        "# spark is an existing SparkSession\n",
        "df = spark.read.json(\"/content/people.json\")\n",
        "# Displays the content of the DataFrame to stdout\n",
        "df.show()"
      ]
    },
    {
      "cell_type": "code",
      "execution_count": 11,
      "metadata": {
        "colab": {
          "base_uri": "https://localhost:8080/"
        },
        "id": "JOrOEimJvMdN",
        "outputId": "f86a95bd-cdff-4bb6-96e1-f34c1d6caaa1"
      },
      "outputs": [
        {
          "name": "stdout",
          "output_type": "stream",
          "text": [
            "root\n",
            " |-- hello: string (nullable = true)\n",
            "\n"
          ]
        }
      ],
      "source": [
        "df.printSchema()"
      ]
    },
    {
      "cell_type": "code",
      "execution_count": 12,
      "metadata": {
        "colab": {
          "base_uri": "https://localhost:8080/"
        },
        "id": "drgQiA9oIQBS",
        "outputId": "cbf4b445-a454-45cd-c9d5-68cfc7e76260"
      },
      "outputs": [
        {
          "name": "stdout",
          "output_type": "stream",
          "text": [
            "End of Lab\n"
          ]
        }
      ],
      "source": [
        "print(\"End of Lab\")"
      ]
    }
  ],
  "metadata": {
    "accelerator": "GPU",
    "colab": {
      "provenance": []
    },
    "kernelspec": {
      "display_name": "Python 3",
      "name": "python3"
    },
    "language_info": {
      "codemirror_mode": {
        "name": "ipython",
        "version": 3
      },
      "file_extension": ".py",
      "mimetype": "text/x-python",
      "name": "python",
      "nbconvert_exporter": "python",
      "pygments_lexer": "ipython3",
      "version": "3.10.6"
    }
  },
  "nbformat": 4,
  "nbformat_minor": 0
}
