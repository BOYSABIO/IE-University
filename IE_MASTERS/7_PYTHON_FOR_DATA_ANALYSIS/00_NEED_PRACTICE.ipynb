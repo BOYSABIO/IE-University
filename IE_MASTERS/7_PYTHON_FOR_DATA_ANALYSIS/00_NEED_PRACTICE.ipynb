{
 "cells": [
  {
   "cell_type": "markdown",
   "metadata": {},
   "source": [
    "### SESSION 1: VARIABLES & TYPES"
   ]
  },
  {
   "cell_type": "markdown",
   "metadata": {},
   "source": [
    "We can use the `id` function to check the memory address of a variable."
   ]
  },
  {
   "cell_type": "code",
   "execution_count": 1,
   "metadata": {},
   "outputs": [
    {
     "name": "stdout",
     "output_type": "stream",
     "text": [
      "2007227433328\n"
     ]
    }
   ],
   "source": [
    "a = 5\n",
    "print(id(a))"
   ]
  },
  {
   "cell_type": "markdown",
   "metadata": {},
   "source": [
    "We can take the absolute value (or magnitude) of a numeric type by using `abs`"
   ]
  },
  {
   "cell_type": "code",
   "execution_count": 2,
   "metadata": {},
   "outputs": [
    {
     "data": {
      "text/plain": [
       "4"
      ]
     },
     "execution_count": 2,
     "metadata": {},
     "output_type": "execute_result"
    }
   ],
   "source": [
    "# I forgot this cell in our class:\n",
    "# abs() will return the absolute value of a number -- the number without the sign\n",
    "\n",
    "abs(-4)"
   ]
  },
  {
   "cell_type": "markdown",
   "metadata": {},
   "source": [
    "Square root function without using a library"
   ]
  },
  {
   "cell_type": "code",
   "execution_count": 4,
   "metadata": {},
   "outputs": [
    {
     "name": "stdout",
     "output_type": "stream",
     "text": [
      "4.47213595499958\n"
     ]
    }
   ],
   "source": [
    "x = 20\n",
    "\n",
    "squareroot = x**(1/2)\n",
    "print(squareroot)"
   ]
  },
  {
   "cell_type": "markdown",
   "metadata": {},
   "source": [
    "### SESSION 3: STRING OPERATIONS"
   ]
  },
  {
   "cell_type": "code",
   "execution_count": 31,
   "metadata": {},
   "outputs": [
    {
     "name": "stdout",
     "output_type": "stream",
     "text": [
      "   Hello World   \n",
      "   HEllO WorLD   \n",
      "heLLo wORld\n",
      "True\n",
      "False\n",
      "   jeLLo wORld   \n",
      "['heLLo', 'wORld']\n",
      "heLLoXXwORld\n",
      "2\n"
     ]
    }
   ],
   "source": [
    "test_string = \"   heLLo wORld   \"\n",
    "test = 'This is a test scentence'\n",
    "\n",
    "print(test_string.title())\n",
    "print(test_string.swapcase())\n",
    "print(test_string.strip(' ')) #lstrip & rstrip (for left and right)\n",
    "print(test_string.startswith(' '))\n",
    "print(test_string.endswith('    '))\n",
    "print(test_string.replace('he', 'je'))\n",
    "print(test_string.split()) #can also split by something else than spaces\n",
    "print('XX'.join(test_string.split()))\n",
    "print(test.find('is'))"
   ]
  },
  {
   "cell_type": "markdown",
   "metadata": {},
   "source": [
    "```python\n",
    "string[start:stop:[step]]\n",
    "```\n",
    "\n",
    "* `start`: The index of the first element to include in the slice, inclusive. The default value is `0`.\n",
    "* `stop`: The index of the last element to include in the slice, exclusive. The default value is the length of the sequence minus `1`.\n",
    "* `step`: The step size to use when slicing the string. The default value is `1`."
   ]
  },
  {
   "cell_type": "code",
   "execution_count": 33,
   "metadata": {},
   "outputs": [
    {
     "name": "stdout",
     "output_type": "stream",
     "text": [
      "z\n",
      "zyxwvutsrqponmlkjihgfedcba\n"
     ]
    }
   ],
   "source": [
    "alphabet = 'abcdefghijklmnopqrstuvwxyz'\n",
    "\n",
    "print(alphabet[-1:])\n",
    "print(alphabet[::-1])"
   ]
  },
  {
   "cell_type": "markdown",
   "metadata": {},
   "source": [
    "String Formatting"
   ]
  },
  {
   "cell_type": "code",
   "execution_count": 34,
   "metadata": {},
   "outputs": [
    {
     "data": {
      "text/plain": [
       "'The area of a circle with radius 10 is 314.159265359'"
      ]
     },
     "execution_count": 34,
     "metadata": {},
     "output_type": "execute_result"
    }
   ],
   "source": [
    "pi = 3.14159265359\n",
    "radius = 10\n",
    "\n",
    "f\"The area of a circle with radius {radius} is {pi * radius ** 2}\""
   ]
  },
  {
   "cell_type": "markdown",
   "metadata": {},
   "source": [
    "### SESSION 4: LISTS & TUPLES"
   ]
  },
  {
   "cell_type": "code",
   "execution_count": 38,
   "metadata": {},
   "outputs": [
    {
     "name": "stdout",
     "output_type": "stream",
     "text": [
      "3\n",
      "['a', 'c', 'e', 'g', 'i', 'k', 'm', 'o', 'q', 's', 'u', 'w', 'y']\n",
      "gh\n"
     ]
    }
   ],
   "source": [
    "list_1 = [1, 1.5, \"hola\", [1, 2, 3]]\n",
    "abc = list(\"abcdefghijklmnopqrstuvwxyz\")\n",
    "my_list = [\"a\", [[1, 2, [\"ab\", \"ghi\"]], [\"a\", \"b\", [1, 2, 3]]], [23, 45]]\n",
    "\n",
    "print(list_1.index([1, 2, 3]))\n",
    "print(abc[::2])\n",
    "print(my_list[1][0][2][1][:-1])"
   ]
  },
  {
   "cell_type": "code",
   "execution_count": 40,
   "metadata": {},
   "outputs": [
    {
     "name": "stdout",
     "output_type": "stream",
     "text": [
      "[1, 2, 3, 'a', 'b', 'c']\n",
      "['a', 'b', 'c', 'a', 'b', 'c', 'a', 'b', 'c', 'a', 'b', 'c']\n"
     ]
    }
   ],
   "source": [
    "print([1, 2, 3] + [\"a\", \"b\", \"c\"])\n",
    "print([\"a\", \"b\", \"c\"] * 4)"
   ]
  },
  {
   "cell_type": "code",
   "execution_count": null,
   "metadata": {},
   "outputs": [
    {
     "name": "stdout",
     "output_type": "stream",
     "text": [
      "[1, 2, 'h']\n",
      "h\n"
     ]
    }
   ],
   "source": [
    "a = [1, 2, 6]\n",
    "\n",
    "a[2] = \"h\"\n",
    "\n",
    "print(a)\n",
    "print(a.pop()) #get's the last value"
   ]
  },
  {
   "cell_type": "code",
   "execution_count": 44,
   "metadata": {},
   "outputs": [
    {
     "data": {
      "text/plain": [
       "['1', 'a', 'd', 'z']"
      ]
     },
     "execution_count": 44,
     "metadata": {},
     "output_type": "execute_result"
    }
   ],
   "source": [
    "h = [\"z\", \"1\", \"a\", \"d\"]\n",
    "\n",
    "h.sort()\n",
    "\n",
    "h"
   ]
  },
  {
   "cell_type": "markdown",
   "metadata": {},
   "source": [
    "RANGE()"
   ]
  },
  {
   "cell_type": "code",
   "execution_count": null,
   "metadata": {},
   "outputs": [],
   "source": [
    "range(1, 10, 2) # all numbers between 1 and 9 skipping every second number\n",
    "list(range(1, 10, 2))"
   ]
  },
  {
   "cell_type": "markdown",
   "metadata": {},
   "source": [
    "ZIP()"
   ]
  },
  {
   "cell_type": "code",
   "execution_count": 46,
   "metadata": {},
   "outputs": [
    {
     "data": {
      "text/plain": [
       "[('a', 1), ('b', 2), ('c', 3)]"
      ]
     },
     "execution_count": 46,
     "metadata": {},
     "output_type": "execute_result"
    }
   ],
   "source": [
    "list_a = ['a', 'b', 'c']\n",
    "list_b = [1, 2, 3]\n",
    "\n",
    "zip(list_a, list_b)\n",
    "list(zip(list_a, list_b))"
   ]
  },
  {
   "cell_type": "markdown",
   "metadata": {},
   "source": [
    "ENUMERATE()"
   ]
  },
  {
   "cell_type": "code",
   "execution_count": 47,
   "metadata": {},
   "outputs": [
    {
     "data": {
      "text/plain": [
       "[(0, 'x'), (1, 'y'), (2, 'z')]"
      ]
     },
     "execution_count": 47,
     "metadata": {},
     "output_type": "execute_result"
    }
   ],
   "source": [
    "list(enumerate(['x', 'y', 'z']))"
   ]
  },
  {
   "cell_type": "markdown",
   "metadata": {},
   "source": [
    "### SESSION 5: SETS & DICTIONARIES"
   ]
  },
  {
   "cell_type": "code",
   "execution_count": null,
   "metadata": {},
   "outputs": [
    {
     "name": "stdout",
     "output_type": "stream",
     "text": [
      "{1, 2, 3}\n",
      "{1, 2, 3}\n",
      "{'a', 'h', 's', 'v', 'n'}\n"
     ]
    }
   ],
   "source": [
    "set1 = {1, 1, 2, 2, 3, 3}\n",
    "set2 = set([1, 1, 2, 2, 3, 3])\n",
    "\n",
    "\n",
    "print(set1)\n",
    "print(set2)\n",
    "print(set(list(\"savannah\"))) # for unique characters"
   ]
  },
  {
   "cell_type": "markdown",
   "metadata": {},
   "source": [
    "Say we have two sets: `A` and `B`\n",
    "\n",
    "* Union of `A` and `B`: items appearing in either. Use `|` or A.union(B)\n",
    "* Intersection of `A` and `B`: items appearing in both. Use `&` or A.intersection(B)\n",
    "* Difference of `A` and `B`: items in `A` but not in  `B`. Use `-` or A.difference(B)\n",
    "* Symmetric difference of `A` and `B`: items in only `A` or only `B`, but not in both. Use `^` or A.symmetric_difference(B)"
   ]
  },
  {
   "cell_type": "code",
   "execution_count": 52,
   "metadata": {},
   "outputs": [
    {
     "name": "stdout",
     "output_type": "stream",
     "text": [
      "{1, 2, 3, 5, 7, 9}\n",
      "{3, 5, 7}\n",
      "{2}\n",
      "{1, 2, 9}\n"
     ]
    }
   ],
   "source": [
    "setA = {2, 3, 5, 7}\n",
    "setB = {1, 3, 5, 7, 9}\n",
    "setC = {8, 6}\n",
    "\n",
    "print(setA | setB)\n",
    "print(setA & setB)\n",
    "print(setA - setB)\n",
    "print(setA ^ setB)"
   ]
  },
  {
   "cell_type": "markdown",
   "metadata": {},
   "source": [
    "We can't mutate sets, but we can add items to a set by using `update()`. This will add the new items *in place*."
   ]
  },
  {
   "cell_type": "code",
   "execution_count": 54,
   "metadata": {},
   "outputs": [
    {
     "name": "stdout",
     "output_type": "stream",
     "text": [
      "{2, 3, 5, 6, 7, 8}\n"
     ]
    }
   ],
   "source": [
    "setA.update(setC) # same as union\n",
    "\n",
    "print(setA)"
   ]
  },
  {
   "cell_type": "code",
   "execution_count": 57,
   "metadata": {},
   "outputs": [
    {
     "name": "stdout",
     "output_type": "stream",
     "text": [
      "11\n",
      "36\n",
      "{'dani': 36, 'churro': 11, 'chevin': 99, 'maureen': 99}\n"
     ]
    }
   ],
   "source": [
    "ages_dict = {\n",
    "    \"dani\": 36,\n",
    "    \"churro\": 11,\n",
    "}\n",
    "\n",
    "print(ages_dict[\"churro\"])\n",
    "print(ages_dict.get('dani'))\n",
    "\n",
    "new_additions = {\n",
    "    'chevin': 99,\n",
    "    'maureen': 99 \n",
    "}\n",
    "\n",
    "ages_dict.update(new_additions)\n",
    "\n",
    "print(ages_dict)"
   ]
  },
  {
   "cell_type": "code",
   "execution_count": 58,
   "metadata": {},
   "outputs": [
    {
     "data": {
      "text/plain": [
       "{'dani': 35, 'churro': 10}"
      ]
     },
     "execution_count": 58,
     "metadata": {},
     "output_type": "execute_result"
    }
   ],
   "source": [
    "another_dict = dict([(\"dani\", 35), (\"churro\", 10)])\n",
    "\n",
    "another_dict"
   ]
  },
  {
   "cell_type": "code",
   "execution_count": 59,
   "metadata": {},
   "outputs": [
    {
     "data": {
      "text/plain": [
       "{'a': 1, 'b': 2, 'c': 3}"
      ]
     },
     "execution_count": 59,
     "metadata": {},
     "output_type": "execute_result"
    }
   ],
   "source": [
    "dict(\n",
    "    zip(\n",
    "        ['a', 'b', 'c'],\n",
    "        [1, 2, 3]\n",
    "    )\n",
    ")"
   ]
  },
  {
   "cell_type": "code",
   "execution_count": 60,
   "metadata": {},
   "outputs": [
    {
     "data": {
      "text/plain": [
       "{1: 'a', 2: 'b', 3: 'c'}"
      ]
     },
     "execution_count": 60,
     "metadata": {},
     "output_type": "execute_result"
    }
   ],
   "source": [
    "dict(\n",
    "    enumerate(\n",
    "        [\"a\", \"b\", \"c\"]\n",
    "    , start = 1)\n",
    ")"
   ]
  },
  {
   "cell_type": "markdown",
   "metadata": {},
   "source": [
    "We can extract the keys and values as a list of tuples when using the method `items()` on a dictionary.\n",
    "\n",
    "This will be very useful when looping through dictionaries."
   ]
  },
  {
   "cell_type": "code",
   "execution_count": null,
   "metadata": {},
   "outputs": [
    {
     "data": {
      "text/plain": [
       "dict_items([('dani', 36), ('churro', 11), ('chevin', 99), ('maureen', 99)])"
      ]
     },
     "execution_count": 61,
     "metadata": {},
     "output_type": "execute_result"
    }
   ],
   "source": [
    "ages_dict.items()"
   ]
  },
  {
   "cell_type": "code",
   "execution_count": null,
   "metadata": {},
   "outputs": [],
   "source": [
    "keys = list(ages_dict.keys())\n",
    "values = list(ages_dict.values())"
   ]
  },
  {
   "cell_type": "markdown",
   "metadata": {},
   "source": [
    "We can't directly sort a dictionary by its keys, we can use some tricks to sort them according to what we want:\n",
    "1. Use `dict.items()` to convert it into a list of tuples\n",
    "2. Order the list according to the first element in each tuple\n",
    "3. Convert the sorted list of tuples into a dictionary again"
   ]
  },
  {
   "cell_type": "code",
   "execution_count": 62,
   "metadata": {},
   "outputs": [
    {
     "data": {
      "text/plain": [
       "{'chevin': 99, 'churro': 11, 'dani': 36, 'maureen': 99}"
      ]
     },
     "execution_count": 62,
     "metadata": {},
     "output_type": "execute_result"
    }
   ],
   "source": [
    "new_dict_items = ages_dict.items() # 1\n",
    "\n",
    "list_new_dict_items = list(new_dict_items) # 1\n",
    "\n",
    "sorted_list = sorted(list_new_dict_items) # 2\n",
    "\n",
    "dict(sorted_list) # 3"
   ]
  },
  {
   "cell_type": "code",
   "execution_count": 64,
   "metadata": {},
   "outputs": [
    {
     "name": "stdout",
     "output_type": "stream",
     "text": [
      "{'chevin': 99, 'maureen': 99, 'dani': 36, 'churro': 11}\n",
      "{'churro': 11, 'dani': 36, 'chevin': 99, 'maureen': 99}\n"
     ]
    }
   ],
   "source": [
    "sorted_people_dict = dict(sorted(ages_dict.items(), key = lambda item: item[1])) #sorting by value\n",
    "sorted_people_dict_reverse = dict(sorted(ages_dict.items(), key=lambda item: -item[1]))\n",
    "\n",
    "print(sorted_people_dict_reverse)\n",
    "print(sorted_people_dict)"
   ]
  },
  {
   "cell_type": "markdown",
   "metadata": {},
   "source": [
    "### SESSION 8: LOOPS & COMPREHENSIONS"
   ]
  },
  {
   "cell_type": "code",
   "execution_count": 3,
   "metadata": {},
   "outputs": [
    {
     "name": "stdout",
     "output_type": "stream",
     "text": [
      "here we continue\n",
      "1\n",
      "here we continue\n",
      "3\n",
      "here we continue\n",
      "5\n",
      "here we continue\n",
      "7\n",
      "here we continue\n",
      "9\n",
      "here we continue\n"
     ]
    }
   ],
   "source": [
    "for number in range(11):\n",
    "    if number % 2 == 0:\n",
    "        print('here we continue')\n",
    "        continue\n",
    "    print(number)"
   ]
  },
  {
   "cell_type": "code",
   "execution_count": 5,
   "metadata": {},
   "outputs": [
    {
     "name": "stdout",
     "output_type": "stream",
     "text": [
      "5\n",
      "6\n",
      "here comes the break\n"
     ]
    }
   ],
   "source": [
    "a = 5\n",
    "\n",
    "while a <= 10:\n",
    "    if a == 7:\n",
    "        print('here comes the break')\n",
    "        break\n",
    "    print(a)\n",
    "    a += 1"
   ]
  },
  {
   "cell_type": "code",
   "execution_count": 7,
   "metadata": {},
   "outputs": [
    {
     "name": "stdout",
     "output_type": "stream",
     "text": [
      "[7, 14, 21, 28, 35, 42, 49, 56, 63, 70, 77, 84, 91, 98]\n",
      "[14, 28, 42, 56, 70, 84, 98]\n",
      "['not by3', 'not by3', 'by3', 'not by3', 'not by3', 'by3', 'not by3', 'not by3', 'by3', 'not by3', 'not by3', 'by3', 'not by3', 'not by3', 'by3', 'not by3', 'not by3', 'by3', 'not by3', 'not by3', 'by3', 'not by3', 'not by3', 'by3', 'not by3', 'not by3', 'by3', 'not by3', 'not by3', 'by3', 'not by3', 'not by3', 'by3', 'not by3', 'not by3', 'by3', 'not by3', 'not by3', 'by3', 'not by3', 'not by3', 'by3', 'not by3', 'not by3', 'by3', 'not by3', 'not by3', 'by3', 'not by3', 'not by3', 'by3', 'not by3', 'not by3', 'by3', 'not by3', 'not by3', 'by3', 'not by3', 'not by3', 'by3', 'not by3', 'not by3', 'by3', 'not by3', 'not by3', 'by3', 'not by3', 'not by3', 'by3', 'not by3', 'not by3', 'by3', 'not by3', 'not by3', 'by3', 'not by3', 'not by3', 'by3', 'not by3', 'not by3', 'by3', 'not by3', 'not by3', 'by3', 'not by3', 'not by3', 'by3', 'not by3', 'not by3', 'by3', 'not by3', 'not by3', 'by3', 'not by3', 'not by3', 'by3', 'not by3', 'not by3', 'by3']\n"
     ]
    }
   ],
   "source": [
    "divisible = [item for item in range(1, 100) if item % 7 == 0]\n",
    "print(divisible)\n",
    "\n",
    "list_2 = [number for number in range(1, 100) if number % 7 == 0 and number % 2 == 0]\n",
    "print(list_2)\n",
    "\n",
    "list_3 = ['by3' if i % 3 == 0 else 'not by3' for i in range(1, 100)]\n",
    "print(list_3)"
   ]
  },
  {
   "cell_type": "markdown",
   "metadata": {},
   "source": [
    "### SESSION 10: FUNCTIONS"
   ]
  },
  {
   "cell_type": "markdown",
   "metadata": {},
   "source": [
    "```Python\n",
    "def func_name(argument_1, argument_2, ..., argument_n):\n",
    "    using_the_arguments_somehow\n",
    "    return output_1, output_2, ..., output_m\n",
    "```"
   ]
  }
 ],
 "metadata": {
  "kernelspec": {
   "display_name": "Python 3",
   "language": "python",
   "name": "python3"
  },
  "language_info": {
   "codemirror_mode": {
    "name": "ipython",
    "version": 3
   },
   "file_extension": ".py",
   "mimetype": "text/x-python",
   "name": "python",
   "nbconvert_exporter": "python",
   "pygments_lexer": "ipython3",
   "version": "3.10.6"
  }
 },
 "nbformat": 4,
 "nbformat_minor": 2
}
