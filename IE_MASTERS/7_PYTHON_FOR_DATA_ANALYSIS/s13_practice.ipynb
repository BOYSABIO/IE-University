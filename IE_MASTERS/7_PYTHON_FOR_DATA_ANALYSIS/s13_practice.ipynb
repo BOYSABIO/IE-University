{
 "cells": [
  {
   "cell_type": "markdown",
   "metadata": {},
   "source": [
    "# Session 13: More problems\n",
    "\n",
    "* Conditional + Loops + Functions"
   ]
  },
  {
   "cell_type": "markdown",
   "metadata": {},
   "source": [
    "## Problem 1\n",
    "\n",
    "Create a function that receives 2 tuples that contains the coordinates of 2 points $(x_1, y_1), (x_2, y_2)$ in the Cartesian plane and returns the distance between them.\n",
    "\n",
    "Use the Euclidean distance formula:\n",
    "\n",
    "$$d = \\sqrt{(x_2 - x_1)^2 + (y_2 - y_1)^2}$$\n",
    "\n",
    "The 2 values in each of the points are the x and y coordinates, called latitude and longitude."
   ]
  },
  {
   "cell_type": "code",
   "execution_count": null,
   "metadata": {},
   "outputs": [
    {
     "name": "stdout",
     "output_type": "stream",
     "text": [
      "3.605551275463989\n"
     ]
    }
   ],
   "source": [
    "def distance(point1, point2):\n",
    "    return ((point2[0] - point1[0])**2 + (point2[1] - point1[0])**2)**(1/2)\n",
    "\n",
    "print(distance((1, 2), (3, 4)))"
   ]
  },
  {
   "cell_type": "markdown",
   "metadata": {},
   "source": [
    "## Problem 2\n",
    "\n",
    "We have two lists, one with latitude values and another with longitude values. They represent the trajectories of a vehicle in a map.\n",
    "\n",
    "```python\n",
    "latitudes = [40.7128, 40.7357, 40.7300, 40.7223, 40.7181]\n",
    "longitudes = [-74.0060, -74.0036, -73.9963, -73.9871, -73.9563]\n",
    "```\n",
    "\n",
    "Create a function that receives these two lists and returns a list of tuples with the coordinates of the points.\n",
    "\n",
    "For this case, the function should return:\n",
    "\n",
    "```python\n",
    "[(40.7128, -74.006), (40.7357, -74.0036), (40.73, -73.9963), (40.7223, -73.9871), (40.7181, -73.9563)]\n",
    "```"
   ]
  },
  {
   "cell_type": "code",
   "execution_count": 5,
   "metadata": {},
   "outputs": [
    {
     "name": "stdout",
     "output_type": "stream",
     "text": [
      "[(40.7128, -74.006), (40.7357, -74.0036), (40.73, -73.9963), (40.7223, -73.9871), (40.7181, -73.9563)]\n"
     ]
    }
   ],
   "source": [
    "def coord(latitudes, longitudes):\n",
    "    return list(zip(latitudes, longitudes))\n",
    "\n",
    "latitudes = [40.7128, 40.7357, 40.7300, 40.7223, 40.7181]\n",
    "longitudes = [-74.0060, -74.0036, -73.9963, -73.9871, -73.9563]\n",
    "\n",
    "print(coord(latitudes, longitudes))"
   ]
  },
  {
   "cell_type": "markdown",
   "metadata": {},
   "source": [
    "## Problem 3\n",
    "\n",
    "Create a function that receives a list of tuples with the coordinates of the points of a trajectory and returns a list of tuples, where each tuple contains the two points that form each piece of the trajectory.\n",
    "\n",
    "In this case, given the following list of tuples:\n",
    "\n",
    "```python\n",
    "[(40.7128, -74.006), (40.7357, -74.0036), (40.73, -73.9963), (40.7223, -73.9871), (40.7181, -73.9563)]\n",
    "```\n",
    "\n",
    "The function should return\n",
    "\n",
    "```python\n",
    "[\n",
    "    [(40.7128, -74.006), (40.7357, -74.0036)],\n",
    "    [(40.7357, -74.0036), (40.73, -73.9963)],\n",
    "    [(40.73, -73.9963), (40.7223, -73.9871)],\n",
    "    [(40.7223, -73.9871), (40.7181, -73.9563)]\n",
    "]\n",
    "```"
   ]
  },
  {
   "cell_type": "code",
   "execution_count": null,
   "metadata": {},
   "outputs": [],
   "source": []
  },
  {
   "cell_type": "markdown",
   "metadata": {},
   "source": [
    "## Problem 4\n",
    "\n",
    "Given 2 points $(x_1, y_1), (x_2, y_2)$, create a function that returns the angle between the line that connects the points and the x-axis. We'll call this the direction of the movement.\n",
    "\n",
    "For two points $(10, 10), (20, 20)$, the function should return 0.7853981633974483 degrees ($\\pi/4$ radians)."
   ]
  },
  {
   "cell_type": "markdown",
   "metadata": {},
   "source": [
    "## Problem 5\n",
    "\n",
    "Given a list of tuples with the coordinates of the points of a trajectory, create a function that returns the direction of the movement between each pair of points."
   ]
  },
  {
   "cell_type": "code",
   "execution_count": null,
   "metadata": {},
   "outputs": [],
   "source": []
  }
 ],
 "metadata": {
  "kernelspec": {
   "display_name": "Python 3",
   "language": "python",
   "name": "python3"
  },
  "language_info": {
   "codemirror_mode": {
    "name": "ipython",
    "version": 3
   },
   "file_extension": ".py",
   "mimetype": "text/x-python",
   "name": "python",
   "nbconvert_exporter": "python",
   "pygments_lexer": "ipython3",
   "version": "3.8.2"
  }
 },
 "nbformat": 4,
 "nbformat_minor": 2
}
