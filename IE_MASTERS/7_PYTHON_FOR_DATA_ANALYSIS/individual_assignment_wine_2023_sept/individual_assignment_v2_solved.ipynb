{
 "cells": [
  {
   "cell_type": "markdown",
   "metadata": {},
   "source": [
    "# Individual Assignment: Wine!\n",
    "\n",
    "There are 10 questions in this assignment. Some questions unlock others. If you can't answer a question, you can skip it and come back to it later, and if the question is locked, I'll provide a data sample for you to use, **at a cost of 0.5 points.**\n",
    "\n",
    "The wine dataset is available in the file `wine.json`. This data contains information about wine reviews. It's a list of dictionaries, where each dictionary represents a wine review. The keys in the dictionary are:\n",
    "\n",
    "* `points`: how many points the taster gave the wine on a scale of 1-100\n",
    "* `title`: the title of the wine\n",
    "* `description`: a description of the wine\n",
    "* `taster_name`: the name of the taster\n",
    "* `taster_twitter_handle`: the twitter handle of the taster\n",
    "* `price`: the cost for a bottle of the wine\n",
    "* `designation`: the vineyard within the winery where the grapes that made the wine are from\n",
    "* `variety`: the type of grapes used to make the wine\n",
    "* `region_1`: the province or state that the wine is from\n",
    "* `region_2`: a more specific region within a wine growing area\n",
    "* `province`: the province or state that the wine is from\n",
    "* `country`: the country that the wine is from\n",
    "* `winery`: the winery that made the wine\n",
    "\n",
    "\n",
    "\n",
    "### Rules:\n",
    "* For each question, print the answer in the cell below the question. You can use `print()` or just type the variable name.\n",
    "* You can use any resources you like --including the internet, your notes, and the past notebooks-- except ChatGPT/Copilot/other AI writing tools. Using AI-based tools or asking other people for help will result in a 0 for the assignment, an immediate Fail in the course, and a report to the Dean of Students.\n",
    "* You have 80 minutes to complete the assignment.\n",
    "* You can submit the assignment as many times as you like, only the last submission will be graded.\n",
    "* You can't work with other people on the assignment."
   ]
  },
  {
   "cell_type": "markdown",
   "metadata": {},
   "source": [
    "### 0. Load the data as a Python object and print the first item"
   ]
  },
  {
   "cell_type": "code",
   "execution_count": 1,
   "metadata": {},
   "outputs": [
    {
     "ename": "FileNotFoundError",
     "evalue": "[Errno 2] No such file or directory: 'wine.json'",
     "output_type": "error",
     "traceback": [
      "\u001b[0;31m---------------------------------------------------------------------------\u001b[0m",
      "\u001b[0;31mFileNotFoundError\u001b[0m                         Traceback (most recent call last)",
      "\u001b[1;32m/Users/dgarhdez/Desktop/IE/ie-pda/september_2023/pda1/assignments/individual_assignment_wine/individual_assignment_v2_solved.ipynb Cell 3\u001b[0m line \u001b[0;36m3\n\u001b[1;32m      <a href='vscode-notebook-cell:/Users/dgarhdez/Desktop/IE/ie-pda/september_2023/pda1/assignments/individual_assignment_wine/individual_assignment_v2_solved.ipynb#W2sZmlsZQ%3D%3D?line=0'>1</a>\u001b[0m \u001b[39mimport\u001b[39;00m \u001b[39mjson\u001b[39;00m\n\u001b[0;32m----> <a href='vscode-notebook-cell:/Users/dgarhdez/Desktop/IE/ie-pda/september_2023/pda1/assignments/individual_assignment_wine/individual_assignment_v2_solved.ipynb#W2sZmlsZQ%3D%3D?line=2'>3</a>\u001b[0m \u001b[39mwith\u001b[39;00m \u001b[39mopen\u001b[39;49m(\u001b[39m\"\u001b[39;49m\u001b[39mwine.json\u001b[39;49m\u001b[39m\"\u001b[39;49m) \u001b[39mas\u001b[39;00m f:\n\u001b[1;32m      <a href='vscode-notebook-cell:/Users/dgarhdez/Desktop/IE/ie-pda/september_2023/pda1/assignments/individual_assignment_wine/individual_assignment_v2_solved.ipynb#W2sZmlsZQ%3D%3D?line=3'>4</a>\u001b[0m     wines \u001b[39m=\u001b[39m json\u001b[39m.\u001b[39mload(f)\n",
      "File \u001b[0;32m~/anaconda3/envs/pda1/lib/python3.9/site-packages/IPython/core/interactiveshell.py:284\u001b[0m, in \u001b[0;36m_modified_open\u001b[0;34m(file, *args, **kwargs)\u001b[0m\n\u001b[1;32m    277\u001b[0m \u001b[39mif\u001b[39;00m file \u001b[39min\u001b[39;00m {\u001b[39m0\u001b[39m, \u001b[39m1\u001b[39m, \u001b[39m2\u001b[39m}:\n\u001b[1;32m    278\u001b[0m     \u001b[39mraise\u001b[39;00m \u001b[39mValueError\u001b[39;00m(\n\u001b[1;32m    279\u001b[0m         \u001b[39mf\u001b[39m\u001b[39m\"\u001b[39m\u001b[39mIPython won\u001b[39m\u001b[39m'\u001b[39m\u001b[39mt let you open fd=\u001b[39m\u001b[39m{\u001b[39;00mfile\u001b[39m}\u001b[39;00m\u001b[39m by default \u001b[39m\u001b[39m\"\u001b[39m\n\u001b[1;32m    280\u001b[0m         \u001b[39m\"\u001b[39m\u001b[39mas it is likely to crash IPython. If you know what you are doing, \u001b[39m\u001b[39m\"\u001b[39m\n\u001b[1;32m    281\u001b[0m         \u001b[39m\"\u001b[39m\u001b[39myou can use builtins\u001b[39m\u001b[39m'\u001b[39m\u001b[39m open.\u001b[39m\u001b[39m\"\u001b[39m\n\u001b[1;32m    282\u001b[0m     )\n\u001b[0;32m--> 284\u001b[0m \u001b[39mreturn\u001b[39;00m io_open(file, \u001b[39m*\u001b[39;49margs, \u001b[39m*\u001b[39;49m\u001b[39m*\u001b[39;49mkwargs)\n",
      "\u001b[0;31mFileNotFoundError\u001b[0m: [Errno 2] No such file or directory: 'wine.json'"
     ]
    }
   ],
   "source": [
    "import json\n",
    "\n",
    "with open(\"wine.json\") as f:\n",
    "    wines = json.load(f)"
   ]
  },
  {
   "cell_type": "code",
   "execution_count": null,
   "metadata": {},
   "outputs": [
    {
     "data": {
      "text/plain": [
       "{'points': '87',\n",
       " 'title': 'Nicosia 2013 Vulkà Bianco  (Etna)',\n",
       " 'description': \"Aromas include tropical fruit, broom, brimstone and dried herb. The palate isn't overly expressive, offering unripened apple, citrus and dried sage alongside brisk acidity.\",\n",
       " 'taster_name': 'Kerin O’Keefe',\n",
       " 'taster_twitter_handle': '@kerinokeefe',\n",
       " 'price': None,\n",
       " 'designation': 'Vulkà Bianco',\n",
       " 'variety': 'White Blend',\n",
       " 'region_1': 'Etna',\n",
       " 'region_2': None,\n",
       " 'province': 'Sicily & Sardinia',\n",
       " 'country': 'Italy',\n",
       " 'winery': 'Nicosia'}"
      ]
     },
     "execution_count": 2,
     "metadata": {},
     "output_type": "execute_result"
    }
   ],
   "source": [
    "wines[0]"
   ]
  },
  {
   "cell_type": "markdown",
   "metadata": {},
   "source": [
    "### 1. How many wine reviews are included in the dataset? (1 point)"
   ]
  },
  {
   "cell_type": "code",
   "execution_count": null,
   "metadata": {},
   "outputs": [
    {
     "name": "stdout",
     "output_type": "stream",
     "text": [
      "Total reviews included: 129971\n"
     ]
    }
   ],
   "source": [
    "print(f\"Total reviews included: {len(wines)}\")"
   ]
  },
  {
   "cell_type": "markdown",
   "metadata": {},
   "source": [
    "### 2. Add a new {key:value} pair in each item in the list (1 point)\n",
    "\n",
    "The new key should be called *length* and it should indicate the amount of words in the *description* value.\n",
    "\n",
    "For example, the following description:\n",
    "* \"Very strong taste like apple and cinnamon\"\n",
    "\n",
    "should have a *length* value of **7** "
   ]
  },
  {
   "cell_type": "code",
   "execution_count": null,
   "metadata": {},
   "outputs": [
    {
     "data": {
      "text/plain": [
       "{'points': '87',\n",
       " 'title': 'Nicosia 2013 Vulkà Bianco  (Etna)',\n",
       " 'description': \"Aromas include tropical fruit, broom, brimstone and dried herb. The palate isn't overly expressive, offering unripened apple, citrus and dried sage alongside brisk acidity.\",\n",
       " 'taster_name': 'Kerin O’Keefe',\n",
       " 'taster_twitter_handle': '@kerinokeefe',\n",
       " 'price': None,\n",
       " 'designation': 'Vulkà Bianco',\n",
       " 'variety': 'White Blend',\n",
       " 'region_1': 'Etna',\n",
       " 'region_2': None,\n",
       " 'province': 'Sicily & Sardinia',\n",
       " 'country': 'Italy',\n",
       " 'winery': 'Nicosia',\n",
       " 'length': 24}"
      ]
     },
     "execution_count": 4,
     "metadata": {},
     "output_type": "execute_result"
    }
   ],
   "source": [
    "# Using for loops\n",
    "\n",
    "for wine in wines:\n",
    "    wine[\"length\"] = len(wine[\"description\"].split(\" \"))\n",
    "    \n",
    "wines[0]"
   ]
  },
  {
   "cell_type": "markdown",
   "metadata": {},
   "source": [
    "### 3. How many different countries have wines reviewed in the dataset? (1 point)"
   ]
  },
  {
   "cell_type": "code",
   "execution_count": null,
   "metadata": {},
   "outputs": [
    {
     "name": "stdout",
     "output_type": "stream",
     "text": [
      "Different countries (without None): 43\n",
      "Different countries (with None): 44\n"
     ]
    }
   ],
   "source": [
    "# using set/list/dict comprehension\n",
    "\n",
    "countries_without_none = {wine[\"country\"] for wine in wines if wine[\"country\"]!=None}\n",
    "countries_with_none = {wine[\"country\"] for wine in wines}\n",
    "\n",
    "print(f\"Different countries (without None): {len(countries_without_none)}\")\n",
    "print(f\"Different countries (with None): {len(countries_with_none)}\")"
   ]
  },
  {
   "cell_type": "markdown",
   "metadata": {},
   "source": [
    "### 4. Build a dictionary with the following structure: (1 point)\n",
    "\n",
    "{country: number of wines reviewed coming from that country}"
   ]
  },
  {
   "cell_type": "code",
   "execution_count": null,
   "metadata": {},
   "outputs": [
    {
     "data": {
      "text/plain": [
       "{'Canada': 257,\n",
       " 'Israel': 505,\n",
       " 'France': 22093,\n",
       " 'China': 1,\n",
       " 'Germany': 2165,\n",
       " 'Egypt': 1,\n",
       " 'Croatia': 73,\n",
       " 'India': 9,\n",
       " 'US': 54504,\n",
       " 'Lebanon': 35,\n",
       " 'Slovakia': 1,\n",
       " 'Moldova': 59,\n",
       " 'Chile': 4472,\n",
       " 'Georgia': 86,\n",
       " 'Bulgaria': 141,\n",
       " 'Czech Republic': 12,\n",
       " 'Armenia': 2,\n",
       " 'Austria': 3345,\n",
       " 'Greece': 466,\n",
       " 'Mexico': 70,\n",
       " 'South Africa': 1401,\n",
       " 'New Zealand': 1419,\n",
       " 'Switzerland': 7,\n",
       " 'Hungary': 146,\n",
       " 'Ukraine': 14,\n",
       " 'Spain': 6645,\n",
       " 'Serbia': 12,\n",
       " 'Italy': 19540,\n",
       " 'Peru': 16,\n",
       " 'Morocco': 28,\n",
       " 'Turkey': 90,\n",
       " 'Brazil': 52,\n",
       " 'Cyprus': 11,\n",
       " 'Uruguay': 109,\n",
       " 'Australia': 2329,\n",
       " 'Argentina': 3800,\n",
       " 'England': 74,\n",
       " 'Slovenia': 87,\n",
       " 'Portugal': 5691,\n",
       " 'Luxembourg': 6,\n",
       " 'Bosnia and Herzegovina': 2,\n",
       " 'Romania': 120,\n",
       " 'Macedonia': 12}"
      ]
     },
     "execution_count": 6,
     "metadata": {},
     "output_type": "execute_result"
    }
   ],
   "source": [
    "# initialize the dictionary we are going to use for storing the results\n",
    "countries_dict = {}\n",
    "\n",
    "# first we loop throught the set of countries we build in (3)\n",
    "for country in countries_without_none:  \n",
    "    \n",
    "    # set a counter to zero to add to it in every loop\n",
    "    count = 0 \n",
    "    \n",
    "    # for every country we loop through all the wine reviews\n",
    "    for wine in wines:  \n",
    "        \n",
    "        # when the wine comes from the country in which we are looping through, we add 1 to the counter\n",
    "        if wine[\"country\"] == country:  \n",
    "            count += 1  \n",
    "            \n",
    "    # we add the total count to the 'country' key \n",
    "    countries_dict[country] = count\n",
    "    \n",
    "countries_dict"
   ]
  },
  {
   "cell_type": "markdown",
   "metadata": {},
   "source": [
    "### 5. Build a dictionary with the following structure (1 point)\n",
    "{country: average points of wines coming from that country]"
   ]
  },
  {
   "cell_type": "code",
   "execution_count": null,
   "metadata": {},
   "outputs": [
    {
     "data": {
      "text/plain": [
       "{'Canada': 89.36964980544747,\n",
       " 'Israel': 88.47128712871287,\n",
       " 'France': 88.84510931064138,\n",
       " 'China': 89.0,\n",
       " 'Germany': 89.85173210161663,\n",
       " 'Egypt': 84.0,\n",
       " 'Croatia': 87.21917808219177,\n",
       " 'India': 90.22222222222223,\n",
       " 'US': 88.56372009393806,\n",
       " 'Lebanon': 87.68571428571428,\n",
       " 'Slovakia': 87.0,\n",
       " 'Moldova': 87.20338983050847,\n",
       " 'Chile': 86.4935152057245,\n",
       " 'Georgia': 87.68604651162791,\n",
       " 'Bulgaria': 87.93617021276596,\n",
       " 'Czech Republic': 87.25,\n",
       " 'Armenia': 87.5,\n",
       " 'Austria': 90.10134529147982,\n",
       " 'Greece': 87.28326180257511,\n",
       " 'Mexico': 85.25714285714285,\n",
       " 'South Africa': 88.05638829407566,\n",
       " 'New Zealand': 88.3030303030303,\n",
       " 'Switzerland': 88.57142857142857,\n",
       " 'Hungary': 89.1917808219178,\n",
       " 'Ukraine': 84.07142857142857,\n",
       " 'Spain': 87.28833709556058,\n",
       " 'Serbia': 87.5,\n",
       " 'Italy': 88.56223132036847,\n",
       " 'Peru': 83.5625,\n",
       " 'Morocco': 88.57142857142857,\n",
       " 'Turkey': 88.08888888888889,\n",
       " 'Brazil': 84.67307692307692,\n",
       " 'Cyprus': 87.18181818181819,\n",
       " 'Uruguay': 86.75229357798165,\n",
       " 'Australia': 88.58050665521684,\n",
       " 'Argentina': 86.71026315789474,\n",
       " 'England': 91.58108108108108,\n",
       " 'Slovenia': 88.06896551724138,\n",
       " 'Portugal': 88.25021964505359,\n",
       " 'Luxembourg': 88.66666666666667,\n",
       " 'Bosnia and Herzegovina': 86.5,\n",
       " 'Romania': 86.4,\n",
       " 'Macedonia': 86.83333333333333}"
      ]
     },
     "execution_count": 7,
     "metadata": {},
     "output_type": "execute_result"
    }
   ],
   "source": [
    "# initialize the dictionary we are going \n",
    "country_avg_dict = {}\n",
    "\n",
    "# first we loop throught the set of countries we build in (3)\n",
    "for country in countries_without_none:\n",
    "    \n",
    "    # now we initialize a list that will store the rating of the wines from the country we are looping through\n",
    "    ratings = []\n",
    "    \n",
    "    # for every country we loop through all its wine reviews\n",
    "    for wine in wines:\n",
    "        \n",
    "        # when the wine comes from the country in which we are looping through\n",
    "        # we add the rating to the list\n",
    "        if wine[\"country\"] == country:\n",
    "            ratings.append(int(wine[\"points\"]))\n",
    "            \n",
    "    # now we calculate the average score by dividing the total points scored by the total reviews\n",
    "    total_points = sum(ratings)\n",
    "    total_reviews = len(ratings)\n",
    "    country_avg_dict[country] = total_points / total_reviews\n",
    "    \n",
    "country_avg_dict"
   ]
  },
  {
   "cell_type": "markdown",
   "metadata": {},
   "source": [
    "### 6. What's the province that produces the wines with the highest rating? (1 point)"
   ]
  },
  {
   "cell_type": "code",
   "execution_count": null,
   "metadata": {},
   "outputs": [
    {
     "name": "stdout",
     "output_type": "stream",
     "text": [
      "Best province is Südburgenland with a rating of 94.0 points\n"
     ]
    }
   ],
   "source": [
    "# first we need to get all the unique provinces there are: sets to the rescue\n",
    "provinces = {wine[\"province\"] for wine in wines}\n",
    "\n",
    "# now we do the same as in (5) but with provinces\n",
    "province_avg_dict = {}\n",
    "\n",
    "\n",
    "for province in provinces:\n",
    "    ratings = []\n",
    "    for wine in wines:\n",
    "        if wine[\"province\"] == province:\n",
    "            ratings.append(int(wine[\"points\"]))\n",
    "            \n",
    "    # same approach as in (5)\n",
    "    total_points = sum(ratings)\n",
    "    total_reviews = len(ratings)\n",
    "    province_avg_dict[province] = total_points / total_reviews\n",
    "    \n",
    "\n",
    "# we have the provinces and their scores, and now we need to find the best one:\n",
    "\n",
    "# 1. using `province_avg_dict` on the `province_avg_dict` using max and dict.get()\n",
    "best_province = max(\n",
    "    province_avg_dict,  \n",
    "    # by specifying this key, I want max to return the key associated to the highest value previously found\n",
    "    key=province_avg_dict.get  \n",
    ")\n",
    "\n",
    "rating_best_province = province_avg_dict[best_province]\n",
    "\n",
    "print(f\"Best province is {best_province} with a rating of {rating_best_province} points\")"
   ]
  },
  {
   "cell_type": "code",
   "execution_count": null,
   "metadata": {},
   "outputs": [
    {
     "name": "stdout",
     "output_type": "stream",
     "text": [
      "Best province is Südburgenland with a rating of 94.0 points\n"
     ]
    }
   ],
   "source": [
    "# 2. using sorted() with dict.items(), lambda functions and indexing!\n",
    "#   2.1. sorted() gets the iterable: our dictionary\n",
    "#   2.2. dict.items() \"breaks\" the dictionary into a list of tuples: [(key1, val1), (key2, val2), ...]\n",
    "#   2.3. key=lambda x: x[1] means that the sorting should be done according to the second element of each tuple\n",
    "#   2.4. out of the sorted list of tuples, we only want the first item: [0]\n",
    "#        This item contains the best province and its rating\n",
    "\n",
    "best_province, rating_best_province = (\n",
    "    sorted(\n",
    "        province_avg_dict.items(), \n",
    "        key=lambda x: x[1], \n",
    "        reverse=True\n",
    "    )\n",
    "    [0]\n",
    ")\n",
    "\n",
    "print(f\"Best province is {best_province} with a rating of {rating_best_province} points\")"
   ]
  },
  {
   "cell_type": "markdown",
   "metadata": {},
   "source": [
    "### 7. Update each wine's description by adding at the end of each description the following piece of text (1 point):\n",
    "\n",
    "\"This is a {designation} from {country} that scored {points} points\""
   ]
  },
  {
   "cell_type": "code",
   "execution_count": null,
   "metadata": {},
   "outputs": [
    {
     "data": {
      "text/plain": [
       "\"Aromas include tropical fruit, broom, brimstone and dried herb. The palate isn't overly expressive, offering unripened apple, citrus and dried sage alongside brisk acidity. This is a Vulkà Bianco from Italy that scored 87 points\""
      ]
     },
     "execution_count": 10,
     "metadata": {},
     "output_type": "execute_result"
    }
   ],
   "source": [
    "# we loop again through each review\n",
    "for wine in wines:\n",
    "    \n",
    "    # we fetch all the necessary info in each review: designation, country, and points\n",
    "    designation = wine[\"designation\"]\n",
    "    country = wine[\"country\"]\n",
    "    points = wine[\"points\"]\n",
    "    \n",
    "    # with the relevant info, we add a string to the current description\n",
    "    wine[\"description\"] += f\" This is a {designation} from {country} that scored {points} points\"\n",
    "    \n",
    "wines[0][\"description\"]"
   ]
  },
  {
   "cell_type": "markdown",
   "metadata": {},
   "source": [
    "### 8. What's the proportion of wine tasters that have a Twitter account? (1 point)"
   ]
  },
  {
   "cell_type": "code",
   "execution_count": null,
   "metadata": {},
   "outputs": [
    {
     "name": "stdout",
     "output_type": "stream",
     "text": [
      "78.95 % of the wine tasters have a Twitter account:\n",
      "@mattkettmann\n",
      "@bkfiona\n",
      "@winewchristina\n",
      "@suskostrzewa\n",
      "@vossroger\n",
      "@gordone_cellars\n",
      "@laurbuzz\n",
      "@worldwineguys\n",
      "@vboone\n",
      "@JoeCz\n",
      "@wineschach\n",
      "@AnneInVino\n",
      "@kerinokeefe\n",
      "@wawinereport\n",
      "@paulgwine \n"
     ]
    }
   ],
   "source": [
    "# first we find the unique tasters adding them to a set\n",
    "tasters = {wine[\"taster_name\"] for wine in wines if wine[\"taster_name\"]!=None}\n",
    "\n",
    "# then we create another set that contains those tasters that have specified a twitter handle\n",
    "twitter_tasters = set([wine[\"taster_twitter_handle\"] for wine in wines if wine[\"taster_twitter_handle\"] is not None])\n",
    "\n",
    "# now we calculate the proportion by divinding the twitter accounts by the total number of unique tasters\n",
    "proportion = 100 * len(twitter_tasters) / len(tasters)\n",
    "\n",
    "print(f\"{proportion:.2f} % of the wine tasters have a Twitter account:\")\n",
    "print(*twitter_tasters, sep='\\n')"
   ]
  },
  {
   "cell_type": "markdown",
   "metadata": {},
   "source": [
    "### Question 9 (1 point)\n",
    "\n",
    "* Create a function called `affordable_wines` that receives the wines reviews list and a specific budget, and returns how many wines you can buy with that price. (0.5 points) \n",
    "* Create another function called `twitter_presence` that receives the wines reviews list and a wine name and returns True if the wine has a twitter handle for the taster, and False otherwise. (0.5 points)\n",
    "\n",
    "Prove your functions with these examples:\n",
    "\n",
    "* `affordable_wines(wines, 10)` should return 6280 wines in that budget\n",
    "* `twitter_presence(wines, \"Nicosia 2013 Vulkà Bianco  (Etna)\")` should return True, meaning there is a twitter handle for the taster of that wine"
   ]
  },
  {
   "cell_type": "code",
   "execution_count": null,
   "metadata": {},
   "outputs": [
    {
     "data": {
      "text/plain": [
       "6280"
      ]
     },
     "execution_count": 12,
     "metadata": {},
     "output_type": "execute_result"
    }
   ],
   "source": [
    "def affordable_wines(wines, budget):\n",
    "    on_bugdet = 0\n",
    "    for wine in wines:\n",
    "        if wine['price'] != None and float(wine['price']) <= budget:\n",
    "            on_bugdet += 1  \n",
    "    return on_bugdet\n",
    "\n",
    "affordable_wines(wines, 10)"
   ]
  },
  {
   "cell_type": "code",
   "execution_count": null,
   "metadata": {},
   "outputs": [
    {
     "data": {
      "text/plain": [
       "True"
      ]
     },
     "execution_count": 13,
     "metadata": {},
     "output_type": "execute_result"
    }
   ],
   "source": [
    "def twitter_presence(wines, wine_name):\n",
    "    for wine in wines:\n",
    "        if (wine['title'] == wine_name) and (wine['taster_twitter_handle'] != \"\"):\n",
    "            return True\n",
    "    return False\n",
    "\n",
    "twitter_presence(wines, \"Nicosia 2013 Vulkà Bianco  (Etna)\")"
   ]
  },
  {
   "cell_type": "markdown",
   "metadata": {},
   "source": [
    "### Question 10 (1 point)\n",
    "\n",
    "* Which is the most common variety of wine in the dataset? (0.3 points)\n",
    "* Which is the most expensive wine in the dataset? (0.3 points)\n",
    "* Which is the taster (other than `None`) that has reviewed the most wines? (0.4 points)"
   ]
  },
  {
   "cell_type": "code",
   "execution_count": null,
   "metadata": {},
   "outputs": [
    {
     "name": "stdout",
     "output_type": "stream",
     "text": [
      "The most common variety is Pinot Noir, with 13272 wines out of 129971 reviews\n"
     ]
    }
   ],
   "source": [
    "# 1 most common variety\n",
    "\n",
    "unique_varieties = {wine['variety'] for wine in wines}\n",
    "\n",
    "varieties = {}\n",
    "\n",
    "for variety in unique_varieties:\n",
    "    varieties[variety] = 0\n",
    "\n",
    "    for wine in wines:\n",
    "        if wine['variety'] == variety:\n",
    "            varieties[variety] += 1\n",
    "\n",
    "most_common_variety = max(varieties, key=varieties.get)\n",
    "\n",
    "print(f\"The most common variety is {most_common_variety}, with {varieties[most_common_variety]} wines out of {len(wines)} reviews\")"
   ]
  },
  {
   "cell_type": "code",
   "execution_count": null,
   "metadata": {},
   "outputs": [
    {
     "name": "stdout",
     "output_type": "stream",
     "text": [
      "The most expensive wine is Château les Ormes Sorbet 2013  Médoc, with a price of 3300.0\n"
     ]
    }
   ],
   "source": [
    "# 2 most expensive wine in the data\n",
    "\n",
    "most_expensive_wine = \"\"\n",
    "highest_price = 0\n",
    "\n",
    "for wine in wines:\n",
    "    if wine['price'] != None and float(wine['price']) > highest_price:\n",
    "        highest_price = float(wine['price'])\n",
    "        most_expensive_wine = wine['title']\n",
    "\n",
    "print(f\"The most expensive wine is {most_expensive_wine}, with a price of {highest_price}\")"
   ]
  },
  {
   "cell_type": "code",
   "execution_count": null,
   "metadata": {},
   "outputs": [
    {
     "name": "stdout",
     "output_type": "stream",
     "text": [
      "The most active taster is Roger Voss, with 25514 reviews\n"
     ]
    }
   ],
   "source": [
    "# 3 taster that has reviewed the most wines\n",
    "\n",
    "unique_tasters = {wine['taster_name'] for wine in wines}\n",
    "\n",
    "tasters = {}\n",
    "\n",
    "for taster in unique_tasters:\n",
    "    tasters[taster] = 0\n",
    "\n",
    "    for wine in wines:\n",
    "        if wine['taster_name'] == taster and wine['taster_name'] != None:\n",
    "            tasters[taster] += 1\n",
    "\n",
    "most_active_taster = max(tasters, key=tasters.get)\n",
    "\n",
    "print(f\"The most active taster is {most_active_taster}, with {tasters[most_active_taster]} reviews\")"
   ]
  }
 ],
 "metadata": {
  "interpreter": {
   "hash": "a9f295c814a5ce7ff0b0a20f2b13117bfaf008fc7980e281f2c2bfa8e9ec0fbf"
  },
  "kernelspec": {
   "display_name": "Python [conda env:ml2] *",
   "language": "python",
   "name": "python3"
  },
  "language_info": {
   "codemirror_mode": {
    "name": "ipython",
    "version": 3
   },
   "file_extension": ".py",
   "mimetype": "text/x-python",
   "name": "python",
   "nbconvert_exporter": "python",
   "pygments_lexer": "ipython3",
   "version": "3.9.16"
  }
 },
 "nbformat": 4,
 "nbformat_minor": 4
}
