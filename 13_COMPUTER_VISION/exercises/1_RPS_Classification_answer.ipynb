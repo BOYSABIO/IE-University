{
  "cells": [
    {
      "cell_type": "markdown",
      "metadata": {
        "id": "Hqy9JzlHq5BG"
      },
      "source": [
        "# Convolutional Neural Networks\n",
        "\n",
        "\"Deep Learning\" is a general term that usually refers to the use of neural networks with multiple layers that synthesize the way the human brain learns and makes decisions. A convolutional neural network is a kind of neural network that extracts *features* from matrices of numeric values (often images) by convolving multiple filters over the matrix values to apply weights and identify patterns, such as edges, corners, and so on in an image. The numeric representations of these patterns are then passed to a fully-connected neural network layer to map the features to specific classes.\n",
        "\n",
        "## Basic Neural Network Recap\n",
        "\n",
        "Your brain works by connecting networks of neurons, each of which receives electrochemical stimuli from multiple inputs, which cause the neuron to fire under certain conditions. When a neuron fires, it creates an electrochemical charge that is passed as an input to one or more other neurons, creating a complex *feed-forward* network made up of layers of neurons that pass the signal on. An artificial neural network uses the same principles but the inputs are numeric values with associated *weights* that reflect their relative importance. The neuron take these input values and weights and applies them to an *activation function* that determines the ouput that the artificial neuron passes onto the next layer:\n",
        "\n",
        "<br/>\n",
        "<div align=\"center\" style='font-size:24px;'>&#8694;&#9711;&rarr;</div>\n",
        "\n",
        "As the human brain learns from experience, the inputs to the neurons are strenghtened or weakened depending on their importance to the decisions that the brain needs to make in response to stimuli. Similarly, you train an artificial neural network using a supervised lear\n",
        "ning technique in which a *loss function* is used to evaluate how well the multi-layered model detects known labels. You can then find the derivative of the loss function to determine whether the level of error (loss) is reduced by increasing or decreasing the weights associated with the inputs, and then apply *backpropagation* to adjust the weights and improve the model iteratively over multiple training *epochs*. The result of this training is a deep learning model that consists of:\n",
        "* An *input* layer to which the initial input variables are passed.\n",
        "* One or more *hidden* layers in which the weights optimized by training determine the signal that is fed forward through the network.\n",
        "* An *output* layer that presents the results.\n",
        "\n",
        "## Convolutional Neural Networks (CNNs)\n",
        "Convolutional Neural Networks, or *CNNs*, are a particular type of artificial neural network that works well with matrix inputs, such as images (which are fundamentally just multi-dimensional matrices of pixel intensity values). There are various kinds of layer in a CNN, but a common architecture is to build a sequence of *convolutional* layers that find patterns in indvidual areas of the input matrix and *pooling* layers that aggregate these patterns. Additionally, some layers may *drop* data (which helps avoid *overfitting* the model to the training data), and finally some layers will *flatten* the matrix data and a linear *dense*, or *fully connected* layer will perform classification and reshape the predictions to conform with the expected output format.\n",
        "\n",
        "Conceptually, a Convolutional Neural Network for image classification is made up of multiple layers that extract features, such as edges, corners, etc; followed by one or more fully-connected layers to classify objects based on these features. You can visualize this like this:\n",
        "\n",
        "<table>\n",
        "    <tr><td rowspan=2 style='border: 1px solid black;'>&#x21d2;</td><td style='border: 1px solid black;'>Convolutional Layer</td><td style='border: 1px solid black;'>Pooling Layer</td><td style='border: 1px solid black;'>Convolutional Layer</td><td style='border: 1px solid black;'>Pooling Layer</td><td style='border: 1px solid black;'>Drop Layer</td><td style='border: 1px solid black;'>Fully Connected Layer</td><td rowspan=2 style='border: 1px solid black;'>&#x21d2;</td></tr>\n",
        "    <tr><td colspan=5 style='border: 1px solid black; text-align:center;'>Feature Extraction</td><td style='border: 1px solid black; text-align:center;'>Classification</td></tr>\n",
        "</table>\n",
        "\n",
        "*Note: In Machine Learning, particularly \"deep learning\", matrices used in neural networks are often referred to as **tensors**. In a simplistic (which is to say, not strictly accurate) sense, a tensor is just a generalized term for a multi-dimensional matrix. In some deep learning frameworks, like PyTorch, a tensor is a specific type of data structure with properties and methods that support deep learning operations.*\n",
        "\n",
        "### Convolutional Layers\n",
        "Convolutional layers apply filters to a subregion of the input image, and *convolve* the filter across the image to extract features (such as edges, corners, etc.). For example, suppose the following matrix represents the pixels in a 6x6 image:\n",
        "\n",
        "$$\\begin{bmatrix}255 & 255 & 255 & 255 & 255 & 255\\\\255 & 255 & 0 & 0 & 255 & 255\\\\255 & 0 & 0 & 0 & 0 & 255\\\\255 & 0 & 0 & 0 & 0 & 255\\\\255 & 255 & 0 & 0 & 255 & 255\\\\255 & 255 & 255 & 255 & 255 & 255\\end{bmatrix}$$\n",
        "\n",
        "And let's suppose that a filter matrix is defined as a matrix of *weight* values like this:\n",
        "\n",
        "$$\\begin{bmatrix}0 & 1 & 0\\\\0 & 1 & 0\\\\0 & 1 & 0\\end{bmatrix}$$\n",
        "\n",
        "The convolution layer applies the filter to the image matrix one \"patch\" at a time; so the first operation would apply to the <span style=\"color:red\">red</span> elements below:\n",
        "\n",
        "$$\\begin{bmatrix}\\color{red}{255} & \\color{red}{255} & \\color{red}{255} & 255 & 255 & 255\\\\\\color{red}{255} & \\color{red}{255} & \\color{red}{0} & 0 & 255 & 255\\\\\\color{red}{255} & \\color{red}{0} & \\color{red}{0} & 0 & 0 & 255\\\\255 & 0 & 0 & 0 & 0 & 255\\\\255 & 255 & 0 & 0 & 255 & 255\\\\255 & 255 & 255 & 255 & 255 & 255\\end{bmatrix}$$\n",
        "\n",
        "To apply the filter, we multiply the patch area by the filter elementwise, and add the results:\n",
        "\n",
        "$$\\begin{bmatrix}255 & 255 & 255\\\\255 & 255 & 0\\\\255 & 0 & 0\\end{bmatrix} \\times \\begin{bmatrix}0 & 1 & 0\\\\0 & 1 & 0\\\\0 & 1 & 0\\end{bmatrix}= \\begin{bmatrix}(255 \\times 0) + (255 \\times 1) + (255 \\times 0) & +\\\\ (255 \\times 0) + (255 \\times 1) + (0 \\times 0) & + \\\\ (255 \\times 0) + (0 \\times 1) + (0 \\times 0)\\end{bmatrix}  = 510$$\n",
        "\n",
        "This result is then used as the value for the first element of a feature map:\n",
        "\n",
        "$$\\begin{bmatrix}\\color{red}{510} & ? & ? & ?\\\\? & ? & ? & ?\\\\? & ? & ? & ?\\\\? & ? & ? & ?\\end{bmatrix}$$\n",
        "\n",
        "Next we move the patch along one pixel and apply the filter to the new patch area:\n",
        "\n",
        "$$\\begin{bmatrix}255 & \\color{red}{255} & \\color{red}{255} & \\color{red}{255} & 255 & 255\\\\255 & \\color{red}{255} & \\color{red}{0} & \\color{red}{0} & 255 & 255\\\\255 & \\color{red}{0} & \\color{red}{0} & \\color{red}{0} & 0 & 255\\\\255 & 0 & 0 & 0 & 0 & 255\\\\255 & 255 & 0 & 0 & 255 & 255\\\\255 & 255 & 255 & 255 & 255 & 255\\end{bmatrix}$$\n",
        "\n",
        "$$\\begin{bmatrix}255 & 255 & 255\\\\255 & 0 & 0\\\\0 & 0 & 0\\end{bmatrix} \\times \\begin{bmatrix}0 & 1 & 0\\\\0 & 1 & 0\\\\0 & 1 & 0\\end{bmatrix}= \\begin{bmatrix}(255 \\times 0) + (255 \\times 1) + (255 \\times 0) & +\\\\ (255 \\times 0) + (0 \\times 1) + (0 \\times 0) & + \\\\ (0 \\times 0) + (0 \\times 1) + (0 \\times 0)\\end{bmatrix}  = 255 $$\n",
        "\n",
        "So can fill in that value on our feature map:\n",
        "$$\\begin{bmatrix}510 & \\color{red}{255} & ? & ?\\\\? & ? & ? & ?\\\\? & ? & ? & ?\\\\? & ? & ? & ?\\end{bmatrix}$$\n",
        "\n",
        "Then we just repeat the process, moving the patch across the entire image matrix until we have a completed feature map like this:\n",
        "\n",
        "$$\\begin{bmatrix}510 & 255 & 255 & 510\\\\255 & 0 & 0 & 255\\\\255 & 0 & 0 & 255\\\\510 & 255 & 255 & 510\\end{bmatrix}$$\n",
        "\n",
        "You'll have noticed that as a result of convolving a patch across the original image, we've \"lost\" a 1-pixel strip around the edge. Typically, we apply a *padding* rule to keep the convolved image the same size as the original image, often by simply filling creating a 1-pixel wide edge with 0 values, like this:\n",
        "\n",
        "$$\\begin{bmatrix}0 & 0 & 0 & 0 & 0 & 0\\\\0 & 510 & 255 & 255 & 510 & 0\\\\0 & 255 & 0 & 0 & 255 & 0\\\\0 & 255 & 0 & 0 & 255 & 0\\\\0 & 510 & 255 & 255 & 510 & 0\\\\0 & 0 & 0 & 0 & 0 & 0\\end{bmatrix}$$\n",
        "\n",
        "### Pooling Layers\n",
        "After using one or more convolution layers to create a filter map, you can use a pooling layer to  reduce the number of dimensions in the matrix. A common technique is to use *MaxPooling*, in which a patch is applied to the matrix and the maximum value within the mask is retained while the others are discarded.\n",
        "\n",
        "For example, we could apply a 2x2 patch to our feature map to extract the largest value in each 2x2 subarea:\n",
        "\n",
        "$$\\begin{bmatrix}\\color{blue}{0} & \\color{blue}{0} & \\color{green}{0} & \\color{green}{0} & \\color{red}{0} & \\color{red}{0}\\\\\\color{blue}{0} & \\color{blue}{510} & \\color{green}{255} & \\color{green}{255} & \\color{red}{510} & \\color{red}{0}\\\\\\color{magenta}{0} & \\color{magenta}{255} & \\color{orange}{0} & \\color{orange}{0} & \\color{cyan}{255} & \\color{cyan}{0}\\\\\\color{magenta}{0} & \\color{magenta}{255} & \\color{orange}{0} & \\color{orange}{0} & \\color{cyan}{255} & \\color{cyan}{0}\\\\\\color{brown}{0} & \\color{brown}{510} & 255 & 255 & \\color{yellow}{510} & \\color{yellow}{0}\\\\\\color{brown}{0} & \\color{brown}{0} & 0 & 0 & \\color{yellow}{0} & \\color{yellow}{0}\\end{bmatrix}\\Longrightarrow \\begin{bmatrix}\\color{blue}{510} & \\color{green}{255} & \\color{red}{510}\\\\\\color{magenta}{255} & \\color{orange}{0} & \\color{cyan}{255}\\\\\\color{brown}{510} & 255 & \\color{yellow}{510}\\end{bmatrix}$$\n",
        "\n",
        "### Activation Functions\n",
        "After each layer of filtering or pooling, it's common to apply a *rectified linear unit (ReLU)* function to the feature maps that have been produced. This has the effect of ensuring that all values in the feature maps are zero or higher.\n",
        "\n",
        "### Dense (Fully-Connected) Layers\n",
        "After the previous layers have created feature maps, a final linear *fully-connected* layer is used to generate class predictions - you can think of the fully-connected layer as being the endpoint of the classifier what determines which combination of features found in the previous layers \"adds up\" to a particular class. To create a fully-connected layer, the feature maps are flattened into a single 1-dimensional matrix and a function is applied to calculate the probability for each class that the model is designed to predict - usually this final function is a *Sigmoid* or *SoftMax* function that assigns a value between 0 and 1 to each class, with the total of these assignments adding to 1:\n",
        "\n",
        "$$\\begin{bmatrix}510 & 255 & 510\\\\255 & 0 & 255\\\\510 & 255 & 510\\end{bmatrix}\\begin{bmatrix}255 & 255 & 510\\\\255 & 0 & 255\\\\510 & 255 & 255\\end{bmatrix}...$$\n",
        "\n",
        "$$ \\Downarrow $$\n",
        "\n",
        "$$\\begin{bmatrix}510 & 255 & 510 & 255 & 0 & 255 & 510 & 255 & 510 & 255 & 255 & 510 & 255 & 0 & 255 & 510 & 255 & 255 ...\\end{bmatrix}$$\n",
        "\n",
        "$$ \\Downarrow $$\n",
        "\n",
        "$$\\begin{bmatrix}C_{1} & C_{2} & C_{3} \\\\ 0.15 & 0.8 & 0.05\\end{bmatrix}$$\n",
        "\n",
        "### Backpropagation\n",
        "When we train a CNN, we perform mulitple passes forward through the network of layers, and then use a *loss function* to measure the difference between the output values (which you may recall are probability predictions for each class) and the actual values for the known image classes used to train the model (in other words, 1 for the correct class and 0 for all the others). For example, in the example above the predicted probabilities are 0.15 for C<sub>1</sub>, 0.8 for C<sub>2</sub>, and 0.05 for C<sub>3</sub>. Let's suppose that the image in question is an example of C<sub>2</sub>, so the expected output is actually 0 for C<sub>1</sub>, 1 for C<sub>2</sub>, and 0 for C<sub>3</sub>. The error (or *loss*) represents how far from the expected values our results are.\n",
        "\n",
        "Having calculated the loss, the training process uses a specified *optimizer* to calculate the derivitive of the loss function wit respect to the weights and biases used in the network layers, and determine how best to adjust them to reduce the loss. We then go backwards through the network, adjusting the weights before the next forward pass. The degree to which we adjust the weights is determined by the *learning rate* - the larger the learning rate, the bigger the adjustments made to the weights"
      ]
    },
    {
      "cell_type": "markdown",
      "metadata": {
        "id": "tDL0jh_Sq5BW"
      },
      "source": [
        "## Building a CNN\n",
        "There are several commonly used frameworks for creating CNNs, including *PyTorch*, *Tensorflow*, the *Microsoft Cognitive Toolkit (CNTK)*, and *Keras* (which is a high-level API that can use Tensorflow or CNTK as a back end).\n",
        "\n",
        "### A Simple Example\n",
        "The example we'll use Keras to explore this is a classification model that can classify images of geometric shapes."
      ]
    },
    {
      "cell_type": "code",
      "execution_count": null,
      "metadata": {
        "colab": {
          "base_uri": "https://localhost:8080/"
        },
        "id": "ff_BdBBBran6",
        "outputId": "3b6612f3-c79a-4dce-9a59-d6beabae0eb5"
      },
      "outputs": [
        {
          "name": "stdout",
          "output_type": "stream",
          "text": [
            "Mounted at /content/gdrive\n"
          ]
        }
      ],
      "source": [
        "#from google.colab import drive\n",
        "#drive.mount('/content/gdrive')"
      ]
    },
    {
      "cell_type": "code",
      "execution_count": 1,
      "metadata": {
        "colab": {
          "base_uri": "https://localhost:8080/"
        },
        "id": "makhunC3D_TI",
        "outputId": "a08f347b-e1ee-4895-fb8c-7cd49d59e780"
      },
      "outputs": [
        {
          "name": "stdout",
          "output_type": "stream",
          "text": [
            "loading Roboflow workspace...\n",
            "loading Roboflow project...\n"
          ]
        }
      ],
      "source": [
        "#!pip install roboflow\n",
        "\n",
        "from roboflow import Roboflow\n",
        "rf = Roboflow(api_key=\"mvNNS9teirDM8q8uuIk0\")\n",
        "project = rf.workspace(\"joseph-nelson\").project(\"rock-paper-scissors\")\n",
        "version = project.version(1)\n",
        "dataset = version.download(\"folder\")"
      ]
    },
    {
      "cell_type": "code",
      "execution_count": 4,
      "metadata": {
        "colab": {
          "base_uri": "https://localhost:8080/"
        },
        "id": "1eAQw4_Sq5BW",
        "outputId": "91ebea08-c7ba-4126-d7fb-5ae6ba6273f7"
      },
      "outputs": [
        {
          "name": "stdout",
          "output_type": "stream",
          "text": [
            "['paper', 'rock', 'scissors']\n"
          ]
        }
      ],
      "source": [
        "import os\n",
        "\n",
        "# The images are in a folder named 'shapes/training'\n",
        "training_folder_name = 'Rock-Paper-Scissors-1/train'\n",
        "\n",
        "# All images are 128x128 pixels\n",
        "img_size = (128,128)\n",
        "\n",
        "# The folder contains a subfolder for each class of shape\n",
        "classes = sorted(os.listdir(training_folder_name))\n",
        "print(classes)"
      ]
    },
    {
      "cell_type": "markdown",
      "metadata": {
        "id": "3MTqboDpq5BX"
      },
      "source": [
        "### Set up the Framework\n",
        "Now that we have our data, we're ready to build a CNN. The first step is to install and configure the framework we want to use.\n",
        "\n",
        "We're going to use the Keras machine learning framework, so let's install the latest version"
      ]
    },
    {
      "cell_type": "code",
      "execution_count": 5,
      "metadata": {
        "id": "hZ6iSyCTO2SN"
      },
      "outputs": [],
      "source": [
        "import matplotlib.pyplot as plt\n",
        "import numpy as np\n",
        "import PIL\n",
        "import tensorflow as tf\n",
        "\n",
        "from tensorflow import keras\n",
        "from tensorflow.keras import layers\n",
        "from tensorflow.keras.models import Sequential"
      ]
    },
    {
      "cell_type": "markdown",
      "metadata": {
        "id": "whGIeKkzq5BY"
      },
      "source": [
        "### Prepare the Data\n",
        "Before we can train the model, we need to prepare the data. We'll divide the feature values by 255 to normalize them as floating point values between 0 and 1, and we'll split the data so that we can use 70% of it to train the model, and hold back 30% to validate it. When loading the data, the data generator will assing \"hot-encoded\" numeric labels to indicate which class each image belongs to based on the subfolders in which the data is stored. In this case, there are three subfolders - *circle*, *square*, and *triangle*, so the labels will consist of three *0* or *1* values indicating which of these classes is associated with the image - for example the label [0 1 0] indicates that the image belongs to the second class (*square*)."
      ]
    },
    {
      "cell_type": "code",
      "execution_count": 6,
      "metadata": {
        "colab": {
          "base_uri": "https://localhost:8080/"
        },
        "id": "XRBeCOBvr4l2",
        "outputId": "b9d0c6b2-274e-4673-fc21-1ec4e5554132"
      },
      "outputs": [
        {
          "name": "stdout",
          "output_type": "stream",
          "text": [
            "Getting Data...\n",
            "Preparing training dataset...\n",
            "Found 1764 images belonging to 3 classes.\n",
            "Preparing validation dataset...\n",
            "Found 756 images belonging to 3 classes.\n"
          ]
        }
      ],
      "source": [
        "from tensorflow.keras.preprocessing.image import ImageDataGenerator # Import from tensorflow.keras.preprocessing.image\n",
        "\n",
        "batch_size = 30\n",
        "\n",
        "print(\"Getting Data...\")\n",
        "datagen = ImageDataGenerator(rescale=1./255, # normalize pixel values\n",
        "                             validation_split=0.3) # hold back 30% of the images for validation\n",
        "\n",
        "print(\"Preparing training dataset...\")\n",
        "train_generator = datagen.flow_from_directory(\n",
        "    training_folder_name,\n",
        "    target_size=img_size,\n",
        "    batch_size=batch_size,\n",
        "    class_mode='categorical',\n",
        "    subset='training') # set as training data\n",
        "\n",
        "print(\"Preparing validation dataset...\")\n",
        "validation_generator = datagen.flow_from_directory(\n",
        "    training_folder_name,\n",
        "    target_size=img_size,\n",
        "    batch_size=batch_size,\n",
        "    class_mode='categorical',\n",
        "    subset='validation') # set as validation data"
      ]
    },
    {
      "cell_type": "markdown",
      "metadata": {
        "id": "ejxsMPGrq5BZ"
      },
      "source": [
        "### Define the CNN\n",
        "Now we're ready to train our model. This involves defining the layers for our CNN, specifying an *optimizer*, and compiling the model for multi-class classification. In this example, we'll use an optimizer based on the *Adam* algorithm and set its *learning rate* parameter (which determines how much the weights are adjusted after backpropagation identifies their affect on loss). These settings can have a significant impact on how well your model (and how quickly) your model learns the optimal weights and bias values required to predict accurately.\n",
        "\n",
        "> Note: For information about the optimizers available in Keras, see https://keras.io/optimizers/"
      ]
    },
    {
      "cell_type": "code",
      "execution_count": 7,
      "metadata": {
        "colab": {
          "base_uri": "https://localhost:8080/",
          "height": 376
        },
        "id": "cMkuYNkHq5BZ",
        "outputId": "1ca121aa-9ab9-4265-cb7f-4cc6da67c001"
      },
      "outputs": [
        {
          "name": "stderr",
          "output_type": "stream",
          "text": [
            "Do not pass an `input_shape`/`input_dim` argument to a layer. When using Sequential models, prefer using an `Input(shape)` object as the first layer in the model instead.\n"
          ]
        },
        {
          "data": {
            "text/html": [
              "<pre style=\"white-space:pre;overflow-x:auto;line-height:normal;font-family:Menlo,'DejaVu Sans Mono',consolas,'Courier New',monospace\"><span style=\"font-weight: bold\">Model: \"sequential\"</span>\n",
              "</pre>\n"
            ],
            "text/plain": [
              "\u001b[1mModel: \"sequential\"\u001b[0m\n"
            ]
          },
          "metadata": {},
          "output_type": "display_data"
        },
        {
          "data": {
            "text/html": [
              "<pre style=\"white-space:pre;overflow-x:auto;line-height:normal;font-family:Menlo,'DejaVu Sans Mono',consolas,'Courier New',monospace\">┏━━━━━━━━━━━━━━━━━━━━━━━━━━━━━━━━━┳━━━━━━━━━━━━━━━━━━━━━━━━┳━━━━━━━━━━━━━━━┓\n",
              "┃<span style=\"font-weight: bold\"> Layer (type)                    </span>┃<span style=\"font-weight: bold\"> Output Shape           </span>┃<span style=\"font-weight: bold\">       Param # </span>┃\n",
              "┡━━━━━━━━━━━━━━━━━━━━━━━━━━━━━━━━━╇━━━━━━━━━━━━━━━━━━━━━━━━╇━━━━━━━━━━━━━━━┩\n",
              "│ conv2d (<span style=\"color: #0087ff; text-decoration-color: #0087ff\">Conv2D</span>)                 │ (<span style=\"color: #00d7ff; text-decoration-color: #00d7ff\">None</span>, <span style=\"color: #00af00; text-decoration-color: #00af00\">123</span>, <span style=\"color: #00af00; text-decoration-color: #00af00\">123</span>, <span style=\"color: #00af00; text-decoration-color: #00af00\">32</span>)   │         <span style=\"color: #00af00; text-decoration-color: #00af00\">3,488</span> │\n",
              "├─────────────────────────────────┼────────────────────────┼───────────────┤\n",
              "│ max_pooling2d (<span style=\"color: #0087ff; text-decoration-color: #0087ff\">MaxPooling2D</span>)    │ (<span style=\"color: #00d7ff; text-decoration-color: #00d7ff\">None</span>, <span style=\"color: #00af00; text-decoration-color: #00af00\">61</span>, <span style=\"color: #00af00; text-decoration-color: #00af00\">61</span>, <span style=\"color: #00af00; text-decoration-color: #00af00\">32</span>)     │             <span style=\"color: #00af00; text-decoration-color: #00af00\">0</span> │\n",
              "├─────────────────────────────────┼────────────────────────┼───────────────┤\n",
              "│ conv2d_1 (<span style=\"color: #0087ff; text-decoration-color: #0087ff\">Conv2D</span>)               │ (<span style=\"color: #00d7ff; text-decoration-color: #00d7ff\">None</span>, <span style=\"color: #00af00; text-decoration-color: #00af00\">56</span>, <span style=\"color: #00af00; text-decoration-color: #00af00\">56</span>, <span style=\"color: #00af00; text-decoration-color: #00af00\">32</span>)     │        <span style=\"color: #00af00; text-decoration-color: #00af00\">36,896</span> │\n",
              "├─────────────────────────────────┼────────────────────────┼───────────────┤\n",
              "│ max_pooling2d_1 (<span style=\"color: #0087ff; text-decoration-color: #0087ff\">MaxPooling2D</span>)  │ (<span style=\"color: #00d7ff; text-decoration-color: #00d7ff\">None</span>, <span style=\"color: #00af00; text-decoration-color: #00af00\">28</span>, <span style=\"color: #00af00; text-decoration-color: #00af00\">28</span>, <span style=\"color: #00af00; text-decoration-color: #00af00\">32</span>)     │             <span style=\"color: #00af00; text-decoration-color: #00af00\">0</span> │\n",
              "├─────────────────────────────────┼────────────────────────┼───────────────┤\n",
              "│ flatten (<span style=\"color: #0087ff; text-decoration-color: #0087ff\">Flatten</span>)               │ (<span style=\"color: #00d7ff; text-decoration-color: #00d7ff\">None</span>, <span style=\"color: #00af00; text-decoration-color: #00af00\">25088</span>)          │             <span style=\"color: #00af00; text-decoration-color: #00af00\">0</span> │\n",
              "├─────────────────────────────────┼────────────────────────┼───────────────┤\n",
              "│ dense (<span style=\"color: #0087ff; text-decoration-color: #0087ff\">Dense</span>)                   │ (<span style=\"color: #00d7ff; text-decoration-color: #00d7ff\">None</span>, <span style=\"color: #00af00; text-decoration-color: #00af00\">3</span>)              │        <span style=\"color: #00af00; text-decoration-color: #00af00\">75,267</span> │\n",
              "└─────────────────────────────────┴────────────────────────┴───────────────┘\n",
              "</pre>\n"
            ],
            "text/plain": [
              "┏━━━━━━━━━━━━━━━━━━━━━━━━━━━━━━━━━┳━━━━━━━━━━━━━━━━━━━━━━━━┳━━━━━━━━━━━━━━━┓\n",
              "┃\u001b[1m \u001b[0m\u001b[1mLayer (type)                   \u001b[0m\u001b[1m \u001b[0m┃\u001b[1m \u001b[0m\u001b[1mOutput Shape          \u001b[0m\u001b[1m \u001b[0m┃\u001b[1m \u001b[0m\u001b[1m      Param #\u001b[0m\u001b[1m \u001b[0m┃\n",
              "┡━━━━━━━━━━━━━━━━━━━━━━━━━━━━━━━━━╇━━━━━━━━━━━━━━━━━━━━━━━━╇━━━━━━━━━━━━━━━┩\n",
              "│ conv2d (\u001b[38;5;33mConv2D\u001b[0m)                 │ (\u001b[38;5;45mNone\u001b[0m, \u001b[38;5;34m123\u001b[0m, \u001b[38;5;34m123\u001b[0m, \u001b[38;5;34m32\u001b[0m)   │         \u001b[38;5;34m3,488\u001b[0m │\n",
              "├─────────────────────────────────┼────────────────────────┼───────────────┤\n",
              "│ max_pooling2d (\u001b[38;5;33mMaxPooling2D\u001b[0m)    │ (\u001b[38;5;45mNone\u001b[0m, \u001b[38;5;34m61\u001b[0m, \u001b[38;5;34m61\u001b[0m, \u001b[38;5;34m32\u001b[0m)     │             \u001b[38;5;34m0\u001b[0m │\n",
              "├─────────────────────────────────┼────────────────────────┼───────────────┤\n",
              "│ conv2d_1 (\u001b[38;5;33mConv2D\u001b[0m)               │ (\u001b[38;5;45mNone\u001b[0m, \u001b[38;5;34m56\u001b[0m, \u001b[38;5;34m56\u001b[0m, \u001b[38;5;34m32\u001b[0m)     │        \u001b[38;5;34m36,896\u001b[0m │\n",
              "├─────────────────────────────────┼────────────────────────┼───────────────┤\n",
              "│ max_pooling2d_1 (\u001b[38;5;33mMaxPooling2D\u001b[0m)  │ (\u001b[38;5;45mNone\u001b[0m, \u001b[38;5;34m28\u001b[0m, \u001b[38;5;34m28\u001b[0m, \u001b[38;5;34m32\u001b[0m)     │             \u001b[38;5;34m0\u001b[0m │\n",
              "├─────────────────────────────────┼────────────────────────┼───────────────┤\n",
              "│ flatten (\u001b[38;5;33mFlatten\u001b[0m)               │ (\u001b[38;5;45mNone\u001b[0m, \u001b[38;5;34m25088\u001b[0m)          │             \u001b[38;5;34m0\u001b[0m │\n",
              "├─────────────────────────────────┼────────────────────────┼───────────────┤\n",
              "│ dense (\u001b[38;5;33mDense\u001b[0m)                   │ (\u001b[38;5;45mNone\u001b[0m, \u001b[38;5;34m3\u001b[0m)              │        \u001b[38;5;34m75,267\u001b[0m │\n",
              "└─────────────────────────────────┴────────────────────────┴───────────────┘\n"
            ]
          },
          "metadata": {},
          "output_type": "display_data"
        },
        {
          "data": {
            "text/html": [
              "<pre style=\"white-space:pre;overflow-x:auto;line-height:normal;font-family:Menlo,'DejaVu Sans Mono',consolas,'Courier New',monospace\"><span style=\"font-weight: bold\"> Total params: </span><span style=\"color: #00af00; text-decoration-color: #00af00\">115,651</span> (451.76 KB)\n",
              "</pre>\n"
            ],
            "text/plain": [
              "\u001b[1m Total params: \u001b[0m\u001b[38;5;34m115,651\u001b[0m (451.76 KB)\n"
            ]
          },
          "metadata": {},
          "output_type": "display_data"
        },
        {
          "data": {
            "text/html": [
              "<pre style=\"white-space:pre;overflow-x:auto;line-height:normal;font-family:Menlo,'DejaVu Sans Mono',consolas,'Courier New',monospace\"><span style=\"font-weight: bold\"> Trainable params: </span><span style=\"color: #00af00; text-decoration-color: #00af00\">115,651</span> (451.76 KB)\n",
              "</pre>\n"
            ],
            "text/plain": [
              "\u001b[1m Trainable params: \u001b[0m\u001b[38;5;34m115,651\u001b[0m (451.76 KB)\n"
            ]
          },
          "metadata": {},
          "output_type": "display_data"
        },
        {
          "data": {
            "text/html": [
              "<pre style=\"white-space:pre;overflow-x:auto;line-height:normal;font-family:Menlo,'DejaVu Sans Mono',consolas,'Courier New',monospace\"><span style=\"font-weight: bold\"> Non-trainable params: </span><span style=\"color: #00af00; text-decoration-color: #00af00\">0</span> (0.00 B)\n",
              "</pre>\n"
            ],
            "text/plain": [
              "\u001b[1m Non-trainable params: \u001b[0m\u001b[38;5;34m0\u001b[0m (0.00 B)\n"
            ]
          },
          "metadata": {},
          "output_type": "display_data"
        },
        {
          "name": "stdout",
          "output_type": "stream",
          "text": [
            "None\n"
          ]
        }
      ],
      "source": [
        "# Define a CNN classifier network\n",
        "from keras.models import Sequential\n",
        "from keras.layers import Conv2D, MaxPooling2D\n",
        "from keras.layers import Activation, Flatten, Dense\n",
        "from keras import optimizers\n",
        "import tensorflow as tf\n",
        "\n",
        "#Dense is the fully connected layer\n",
        "#Flatten is used after all CNN layers and before fully connected layer\n",
        "#Conv2D is the 2D convolution layer\n",
        "#MaxPooling2D is the 2D maxx pooling layer\n",
        "\n",
        "# Define the model as a sequence of layers\n",
        "model = Sequential()\n",
        "\n",
        "# The input layer accepts an image and applies a convolution that uses 32 6x6 filters and a rectified linear unit activation function\n",
        "model.add(Conv2D(32, (6, 6), input_shape=train_generator.image_shape, activation='relu'))\n",
        "\n",
        "# Next we'll add a max pooling layer with a 2x2 patch\n",
        "model.add(MaxPooling2D(pool_size=(2,2)))\n",
        "\n",
        "# We can add as many layers as we think necessary - here we'll add another convolution layer and another and max poolinglayer\n",
        "model.add(Conv2D(32, (6, 6), activation='relu'))\n",
        "model.add(MaxPooling2D(pool_size=(2, 2)))\n",
        "\n",
        "# Now we'll flatten the feature maps and generate an output layer with a predicted probability for each class\n",
        "model.add(Flatten())\n",
        "model.add(Dense(train_generator.num_classes, activation='softmax'))\n",
        "\n",
        "# We'll use the ADAM optimizer\n",
        "#other optimizers can also be used for example SGD stochastic gradient descent\n",
        "opt = tf.optimizers.Adam(learning_rate=0.001)\n",
        "\n",
        "# With the layers defined, we can now compile the model for categorical (multi-class) classification\n",
        "model.compile(loss='categorical_crossentropy',\n",
        "              optimizer=opt,\n",
        "              metrics=['accuracy'])\n",
        "\n",
        "print(model.summary())"
      ]
    },
    {
      "cell_type": "markdown",
      "metadata": {
        "id": "JiEb3Gf2q5BZ"
      },
      "source": [
        "Note the model summary shows the output shape from each layer:\n",
        "- In the input layer, we pass an image, which is 128x128 pixels x 3 channels.\n",
        "- A convolution layer then applies 32 6x6 filters. The 6x6 filter loses 5 pixels around the edge of the image, so the output is 123x123x32.\n",
        "- A pooling layer then applies a 2x2 filter, halving the size of each pixel layer; which when rounded gives us an output of 61x61x32.\n",
        "- Then another convolution layer uses 32 6x6 filters, losing 5 pixels to produce an output of 56x56x32.\n",
        "- Another pooling layer halves the pixel dimensions, so now we have 28x28x32.\n",
        "- When we flatten this, 28x28x32 gives us 25,088 individual values\n",
        "- Finally, we feed these into a dense layer that produces 3 outputs - a probability value for each of our three classes.\n",
        "\n",
        "Note that the flattened layer that defines the input to our fully-connected neural network always expects 25,088 values; so working backward from here, our convolutional layers must start with a 128x128 image. Images of a different size or shape will not work with this model.\n",
        "\n",
        "\n",
        "### Train the Model\n",
        "With the layers of the CNN defined, we're ready to train the model using our image data. In the example below, we use 5 iterations (*epochs*) to train the model in 30-image batches, holding back 30% of the data for validation. After each epoch, the loss function measures the error (*loss*) in the model and adjusts the weights (which were randomly generated for the first iteration) to try to improve accuracy.\n",
        "\n",
        "> **Note**: We're only using 5 epochs to reduce the training time for this simple example. A real-world CNN is usually trained over more epochs than this. CNN model training is processor-intensive, so it's recommended to perform this on a system that can leverage GPUs  to reduce training time. Status will be displayed as the training progresses."
      ]
    },
    {
      "cell_type": "code",
      "execution_count": 8,
      "metadata": {
        "colab": {
          "base_uri": "https://localhost:8080/"
        },
        "id": "p-d4ACNFq5Ba",
        "outputId": "90caca37-99cc-4b73-8b92-52b4031b9f32"
      },
      "outputs": [
        {
          "name": "stderr",
          "output_type": "stream",
          "text": [
            "Your `PyDataset` class should call `super().__init__(**kwargs)` in its constructor. `**kwargs` can include `workers`, `use_multiprocessing`, `max_queue_size`. Do not pass these arguments to `fit()`, as they will be ignored.\n"
          ]
        },
        {
          "name": "stdout",
          "output_type": "stream",
          "text": [
            "Epoch 1/5\n",
            "\u001b[1m58/58\u001b[0m \u001b[32m━━━━━━━━━━━━━━━━━━━━\u001b[0m\u001b[37m\u001b[0m \u001b[1m16s\u001b[0m 234ms/step - accuracy: 0.5527 - loss: 1.0076 - val_accuracy: 0.5973 - val_loss: 1.6997\n",
            "Epoch 2/5\n",
            "\u001b[1m 1/58\u001b[0m \u001b[37m━━━━━━━━━━━━━━━━━━━━\u001b[0m \u001b[1m8s\u001b[0m 146ms/step - accuracy: 0.9667 - loss: 0.0532"
          ]
        },
        {
          "name": "stderr",
          "output_type": "stream",
          "text": [
            "Your input ran out of data; interrupting training. Make sure that your dataset or generator can generate at least `steps_per_epoch * epochs` batches. You may need to use the `.repeat()` function when building your dataset.\n"
          ]
        },
        {
          "name": "stdout",
          "output_type": "stream",
          "text": [
            "\u001b[1m58/58\u001b[0m \u001b[32m━━━━━━━━━━━━━━━━━━━━\u001b[0m\u001b[37m\u001b[0m \u001b[1m2s\u001b[0m 31ms/step - accuracy: 0.9667 - loss: 0.0532 - val_accuracy: 0.6160 - val_loss: 1.6902\n",
            "Epoch 3/5\n",
            "\u001b[1m58/58\u001b[0m \u001b[32m━━━━━━━━━━━━━━━━━━━━\u001b[0m\u001b[37m\u001b[0m \u001b[1m11s\u001b[0m 193ms/step - accuracy: 0.9868 - loss: 0.0578 - val_accuracy: 0.5933 - val_loss: 1.8090\n",
            "Epoch 4/5\n",
            "\u001b[1m58/58\u001b[0m \u001b[32m━━━━━━━━━━━━━━━━━━━━\u001b[0m\u001b[37m\u001b[0m \u001b[1m2s\u001b[0m 30ms/step - accuracy: 1.0000 - loss: 0.0064 - val_accuracy: 0.5693 - val_loss: 1.8621\n",
            "Epoch 5/5\n",
            "\u001b[1m58/58\u001b[0m \u001b[32m━━━━━━━━━━━━━━━━━━━━\u001b[0m\u001b[37m\u001b[0m \u001b[1m11s\u001b[0m 184ms/step - accuracy: 1.0000 - loss: 0.0083 - val_accuracy: 0.5147 - val_loss: 2.9468\n"
          ]
        }
      ],
      "source": [
        "# Train the model over 5 epochs\n",
        "num_epochs = 5\n",
        "history = model.fit(\n",
        "    train_generator,\n",
        "    steps_per_epoch = train_generator.samples // batch_size,\n",
        "    validation_data = validation_generator,\n",
        "    validation_steps = validation_generator.samples // batch_size,\n",
        "    epochs = num_epochs)"
      ]
    },
    {
      "cell_type": "markdown",
      "metadata": {
        "id": "6sStko3gq5Ba"
      },
      "source": [
        "### View the Loss History\n",
        "We tracked average training and validation loss history for each epoch. We can plot these to verify that loss reduced as the model was trained, and to detect *over-fitting* (which is indicated by a continued drop in training loss after validation loss has levelled out or started to increase."
      ]
    },
    {
      "cell_type": "code",
      "execution_count": 9,
      "metadata": {
        "colab": {
          "base_uri": "https://localhost:8080/",
          "height": 450
        },
        "id": "tpHZ_CObq5Ba",
        "outputId": "a55bdd23-8ca3-43d6-a9e4-3b5535eb0afe"
      },
      "outputs": [
        {
          "data": {
            "image/png": "[encoded data removed]",
            "text/plain": [
              "<Figure size 640x480 with 1 Axes>"
            ]
          },
          "metadata": {},
          "output_type": "display_data"
        }
      ],
      "source": [
        "%matplotlib inline\n",
        "from matplotlib import pyplot as plt\n",
        "\n",
        "# Get the number of validation loss values recorded during training\n",
        "num_val_losses = len(history.history[\"val_loss\"])\n",
        "epoch_nums = range(1, num_val_losses + 1)\n",
        "\n",
        "training_loss = history.history[\"loss\"]\n",
        "validation_loss = history.history[\"val_loss\"]\n",
        "plt.plot(epoch_nums, training_loss[:num_val_losses]) # Plot training loss for the same number of epochs as validation loss\n",
        "plt.plot(epoch_nums, validation_loss)\n",
        "plt.xlabel('epoch')\n",
        "plt.ylabel('loss')\n",
        "plt.legend(['training', 'validation'], loc='upper right')\n",
        "plt.show()"
      ]
    },
    {
      "cell_type": "markdown",
      "metadata": {
        "id": "pvyIq3-lq5Bb"
      },
      "source": [
        "### Evaluate the model\n",
        "With our model trained, we'll use it to predict labels for the test data and evaluate its precision, recall, and simple accuracy using the known labels. Then we'll plot the confusion matrix to evaluate how well the model performs for each class label. Keras does not provide a built-in confurion matrix, so we'll use Scikit-Learn."
      ]
    },
    {
      "cell_type": "code",
      "execution_count": 10,
      "metadata": {
        "colab": {
          "base_uri": "https://localhost:8080/",
          "height": 531
        },
        "id": "_xNBH6_Sq5Bb",
        "outputId": "75c0dbcd-aa25-4c84-8114-7ea12d6db7b8"
      },
      "outputs": [
        {
          "name": "stdout",
          "output_type": "stream",
          "text": [
            "Generating predictions from validation data...\n",
            "\u001b[1m1/1\u001b[0m \u001b[32m━━━━━━━━━━━━━━━━━━━━\u001b[0m\u001b[37m\u001b[0m \u001b[1m0s\u001b[0m 240ms/step\n"
          ]
        },
        {
          "data": {
            "image/png": "[encoded data removed]",
            "text/plain": [
              "<Figure size 640x480 with 2 Axes>"
            ]
          },
          "metadata": {},
          "output_type": "display_data"
        }
      ],
      "source": [
        "import numpy as np\n",
        "from sklearn.metrics import confusion_matrix\n",
        "import matplotlib.pyplot as plt\n",
        "%matplotlib inline\n",
        "\n",
        "print(\"Generating predictions from validation data...\")\n",
        "# Get the image and label arrays for the first batch of validation data\n",
        "x_test = validation_generator[0][0]\n",
        "y_test = validation_generator[0][1]\n",
        "\n",
        "# Use the moedl to predict the class\n",
        "class_probabilities = model.predict(x_test)\n",
        "\n",
        "# The model returns a probability value for each class\n",
        "# The one with the highest probability is the predicted class\n",
        "predictions = np.argmax(class_probabilities, axis=1)\n",
        "\n",
        "# The actual labels are hot encoded (e.g. [0 1 0], so get the one with the value 1\n",
        "true_labels = np.argmax(y_test, axis=1)\n",
        "\n",
        "# Plot the confusion matrix\n",
        "cm = confusion_matrix(true_labels, predictions)\n",
        "plt.imshow(cm, interpolation=\"nearest\", cmap=plt.cm.Blues)\n",
        "plt.colorbar()\n",
        "tick_marks = np.arange(len(classes))\n",
        "plt.xticks(tick_marks, classes, rotation=85)\n",
        "plt.yticks(tick_marks, classes)\n",
        "plt.xlabel(\"Predicted Class\")\n",
        "plt.ylabel(\"True Class\")\n",
        "plt.show()"
      ]
    },
    {
      "cell_type": "markdown",
      "metadata": {
        "id": "kh2hmedpq5Bb"
      },
      "source": [
        "### Save the Model\n",
        "Now that we have trained the model, we can save it with the trained weights. Then later, we can reload it and use it to predict classes from new images."
      ]
    },
    {
      "cell_type": "code",
      "execution_count": 11,
      "metadata": {
        "colab": {
          "base_uri": "https://localhost:8080/"
        },
        "id": "QYtZ7Xttq5Bc",
        "outputId": "6a9ac26f-16dc-4acb-d255-238eeb5723bc"
      },
      "outputs": [
        {
          "name": "stderr",
          "output_type": "stream",
          "text": [
            "WARNING:absl:You are saving your model as an HDF5 file via `model.save()` or `keras.saving.save_model(model)`. This file format is considered legacy. We recommend using instead the native Keras format, e.g. `model.save('my_model.keras')` or `keras.saving.save_model(model, 'my_model.keras')`. \n"
          ]
        },
        {
          "name": "stdout",
          "output_type": "stream",
          "text": [
            "Model saved.\n"
          ]
        }
      ],
      "source": [
        "from keras.models import load_model\n",
        "\n",
        "modelFileName = 'shape-classifier.h5'\n",
        "\n",
        "model.save(modelFileName) # saves the trained model\n",
        "print(\"Model saved.\")\n",
        "\n",
        "del model  # deletes the existing model variable"
      ]
    },
    {
      "cell_type": "markdown",
      "metadata": {
        "id": "C7cWCNtnq5Bc"
      },
      "source": [
        "## Use the Model with New Data\n",
        "Now that we've trained and evaluated our model, we can use it to predict classes for new images.\n",
        "\n",
        "### Create Functions to Prepare Data and Get Class Predictions\n",
        "Let's create a couple of functions to:\n",
        "\n",
        "- Resize new images to match the size on which the model was trained.\n",
        "- Submit the new images to the model and retrieve the predicted classes."
      ]
    },
    {
      "cell_type": "code",
      "execution_count": 17,
      "metadata": {
        "colab": {
          "base_uri": "https://localhost:8080/"
        },
        "id": "EFSbypXxq5Bc",
        "outputId": "a37f5e2d-3936-413a-8814-e5ca473af87c"
      },
      "outputs": [
        {
          "name": "stdout",
          "output_type": "stream",
          "text": [
            "Functions created - ready to use model for inference.\n"
          ]
        }
      ],
      "source": [
        "# Helper function to resize image\n",
        "def resize_image(src_img, size=(128,128), bg_color=\"white\"):\n",
        "    from PIL import Image\n",
        "    from PIL import ImageOps #Import ImageOps\n",
        "\n",
        "    # rescale the image so the longest edge is the right size\n",
        "    # src_img.thumbnail(size, Image.ANTIALIAS) # Deprecated\n",
        "    src_img = ImageOps.contain(src_img, size, Image.Resampling.LANCZOS)  #Alternative method using ImageOps.contain\n",
        "\n",
        "\n",
        "    # Create a new image of the right shape\n",
        "    new_image = Image.new(\"RGB\", size, bg_color)\n",
        "\n",
        "    # Paste the rescaled image onto the new background\n",
        "    new_image.paste(src_img, (int((size[0] - src_img.size[0]) / 2), int((size[1] - src_img.size[1]) / 2)))\n",
        "\n",
        "    # return the resized image\n",
        "    return new_image\n",
        "# Function to predict the class of an image\n",
        "def predict_image(classifier, image_array):\n",
        "    import numpy as np\n",
        "\n",
        "    # We need to format the input to match the training data\n",
        "    # The data generator loaded the values as floating point numbers\n",
        "    # and normalized the pixel values, so...\n",
        "    img_features = image_array.astype('float32')\n",
        "    img_features /= 255\n",
        "\n",
        "    # These are the classes our model can predict\n",
        "    classnames = ['paper', 'rock', 'scissors']\n",
        "\n",
        "    # Predict the class of each input image\n",
        "    predictions = classifier.predict(img_features)\n",
        "\n",
        "    predicted_classes = []\n",
        "    for prediction in predictions:\n",
        "        # The prediction for each image is the probability for each class, e.g. [0.8, 0.1, 0.2]\n",
        "        # So get the index of the highest probability\n",
        "        class_idx = np.argmax(prediction)\n",
        "        # And append the corresponding class name to the results\n",
        "        predicted_classes.append(classnames[int(class_idx)])\n",
        "    # Return the predictions\n",
        "    return predicted_classes\n",
        "\n",
        "print(\"Functions created - ready to use model for inference.\")"
      ]
    },
    {
      "cell_type": "markdown",
      "metadata": {
        "id": "ezm6v9V4q5Bd"
      },
      "source": [
        "### Predict Image Classes\n",
        "Now we're ready to use the model for predicting (often referred to as *inferencing*) the classes of some new images."
      ]
    },
    {
      "cell_type": "code",
      "execution_count": 19,
      "metadata": {
        "colab": {
          "base_uri": "https://localhost:8080/",
          "height": 226
        },
        "id": "CvmjSRSRq5Bd",
        "outputId": "59256893-ac3c-4d9e-a29c-36170ed00a45"
      },
      "outputs": [
        {
          "name": "stderr",
          "output_type": "stream",
          "text": [
            "WARNING:absl:Compiled the loaded model, but the compiled metrics have yet to be built. `model.compile_metrics` will be empty until you train or evaluate the model.\n",
            "WARNING:tensorflow:5 out of the last 5 calls to <function TensorFlowTrainer.make_predict_function.<locals>.one_step_on_data_distributed at 0x7bb223975760> triggered tf.function retracing. Tracing is expensive and the excessive number of tracings could be due to (1) creating @tf.function repeatedly in a loop, (2) passing tensors with different shapes, (3) passing Python objects instead of tensors. For (1), please define your @tf.function outside of the loop. For (2), @tf.function has reduce_retracing=True option that can avoid unnecessary retracing. For (3), please refer to https://www.tensorflow.org/guide/function#controlling_retracing and https://www.tensorflow.org/api_docs/python/tf/function for  more details.\n"
          ]
        },
        {
          "name": "stdout",
          "output_type": "stream",
          "text": [
            "\u001b[1m1/1\u001b[0m \u001b[32m━━━━━━━━━━━━━━━━━━━━\u001b[0m\u001b[37m\u001b[0m \u001b[1m0s\u001b[0m 194ms/step\n"
          ]
        },
        {
          "data": {
            "image/png": "[encoded data removed]",
            "text/plain": [
              "<Figure size 1200x800 with 11 Axes>"
            ]
          },
          "metadata": {},
          "output_type": "display_data"
        }
      ],
      "source": [
        "import os\n",
        "from random import randint\n",
        "import numpy as np\n",
        "from PIL import Image\n",
        "from keras.models import load_model\n",
        "from matplotlib import pyplot as plt\n",
        "%matplotlib inline\n",
        "\n",
        "# load the saved model\n",
        "modelFileName = 'shape-classifier.h5'\n",
        "model = load_model(modelFileName)\n",
        "\n",
        "#get the list of test image files\n",
        "test_folder = '/content/Rock-Paper-Scissors-1/test/paper'\n",
        "test_image_files = os.listdir(test_folder)\n",
        "\n",
        "# Empty array on which to store the images\n",
        "image_arrays = []\n",
        "\n",
        "size = (128,128)\n",
        "background_color=\"white\"\n",
        "\n",
        "fig = plt.figure(figsize=(12, 8))\n",
        "\n",
        "# Get the images and show the predicted classes\n",
        "for file_idx in range(len(test_image_files)):\n",
        "    img = Image.open(os.path.join(test_folder, test_image_files[file_idx]))\n",
        "\n",
        "    # resize the image so it matches the training set - it  must be the same size as the images on which the model was trained\n",
        "    resized_img = np.array(resize_image(img, size, background_color))\n",
        "\n",
        "    # Add the image to the array of images\n",
        "    image_arrays.append(resized_img)\n",
        "\n",
        "# Get predictions from the array of image arrays\n",
        "# Note that the model expects an array of 1 or more images - just like the batches on which it was trained\n",
        "predictions = predict_image(model, np.array(image_arrays))\n",
        "\n",
        "# plot easch image with its corresponding prediction\n",
        "for idx in range(len(predictions)):\n",
        "    a=fig.add_subplot(1,len(predictions),idx+1)\n",
        "    imgplot = plt.imshow(image_arrays[idx])\n",
        "    a.set_title(predictions[idx])\n"
      ]
    },
    {
      "cell_type": "markdown",
      "metadata": {
        "id": "kkmzpVTPq5Bf"
      },
      "source": [
        "## Learn More\n",
        "\n",
        "Take a look at the [Keras documentation](https://keras.io/)"
      ]
    }
  ],
  "metadata": {
    "colab": {
      "provenance": []
    },
    "kernelspec": {
      "display_name": "myenv312",
      "language": "python",
      "name": "python3"
    },
    "language_info": {
      "codemirror_mode": {
        "name": "ipython",
        "version": 3
      },
      "file_extension": ".py",
      "mimetype": "text/x-python",
      "name": "python",
      "nbconvert_exporter": "python",
      "pygments_lexer": "ipython3",
      "version": "3.12.0"
    }
  },
  "nbformat": 4,
  "nbformat_minor": 0
}
