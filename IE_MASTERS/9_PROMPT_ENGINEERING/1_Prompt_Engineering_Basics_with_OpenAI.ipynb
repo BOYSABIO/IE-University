{
 "cells": [
  {
   "cell_type": "markdown",
   "metadata": {
    "id": "5mS0Pk2PuSZ3"
   },
   "source": [
    "# Prompt Engineering Basics with OpenAI\n",
    "\n",
    "Federico Castanedo\n",
    "fcastanedo@faculty.ie.edu"
   ]
  },
  {
   "cell_type": "code",
   "execution_count": 2,
   "metadata": {
    "id": "IkNCND3ULQYD"
   },
   "outputs": [],
   "source": [
    "# Line Wrapping\n",
    "from IPython.display import HTML, display\n",
    "\n",
    "def set_css():\n",
    "  display(HTML('''\n",
    "  <style>\n",
    "    pre {\n",
    "        white-space: pre-wrap;\n",
    "    }\n",
    "  </style>\n",
    "  '''))\n",
    "get_ipython().events.register('pre_run_cell', set_css)"
   ]
  },
  {
   "cell_type": "code",
   "execution_count": 1,
   "metadata": {
    "colab": {
     "base_uri": "https://localhost:8080/",
     "height": 486
    },
    "id": "efDy4imPtamS",
    "outputId": "6f54c2c2-3b8d-4dec-b829-82d52bbf9342"
   },
   "outputs": [
    {
     "name": "stdout",
     "output_type": "stream",
     "text": [
      "Defaulting to user installation because normal site-packages is not writeable\n",
      "Requirement already satisfied: openai in c:\\users\\slo\\appdata\\roaming\\python\\python38\\site-packages (0.28.1)\n",
      "Requirement already satisfied: requests>=2.20 in c:\\users\\slo\\appdata\\roaming\\python\\python38\\site-packages (from openai) (2.31.0)\n",
      "Requirement already satisfied: tqdm in c:\\users\\slo\\appdata\\roaming\\python\\python38\\site-packages (from openai) (4.66.1)\n",
      "Requirement already satisfied: aiohttp in c:\\users\\slo\\appdata\\roaming\\python\\python38\\site-packages (from openai) (3.8.6)\n",
      "Requirement already satisfied: charset-normalizer<4,>=2 in c:\\users\\slo\\appdata\\roaming\\python\\python38\\site-packages (from requests>=2.20->openai) (3.3.0)\n",
      "Requirement already satisfied: idna<4,>=2.5 in c:\\users\\slo\\appdata\\roaming\\python\\python38\\site-packages (from requests>=2.20->openai) (2.10)\n",
      "Requirement already satisfied: urllib3<3,>=1.21.1 in c:\\users\\slo\\appdata\\roaming\\python\\python38\\site-packages (from requests>=2.20->openai) (2.0.6)\n",
      "Requirement already satisfied: certifi>=2017.4.17 in c:\\users\\slo\\appdata\\roaming\\python\\python38\\site-packages (from requests>=2.20->openai) (2023.7.22)\n",
      "Requirement already satisfied: attrs>=17.3.0 in c:\\users\\slo\\appdata\\roaming\\python\\python38\\site-packages (from aiohttp->openai) (23.1.0)\n",
      "Requirement already satisfied: multidict<7.0,>=4.5 in c:\\users\\slo\\appdata\\roaming\\python\\python38\\site-packages (from aiohttp->openai) (6.0.4)\n",
      "Requirement already satisfied: async-timeout<5.0,>=4.0.0a3 in c:\\users\\slo\\appdata\\roaming\\python\\python38\\site-packages (from aiohttp->openai) (4.0.3)\n",
      "Requirement already satisfied: yarl<2.0,>=1.0 in c:\\users\\slo\\appdata\\roaming\\python\\python38\\site-packages (from aiohttp->openai) (1.9.2)\n",
      "Requirement already satisfied: frozenlist>=1.1.1 in c:\\users\\slo\\appdata\\roaming\\python\\python38\\site-packages (from aiohttp->openai) (1.4.0)\n",
      "Requirement already satisfied: aiosignal>=1.1.2 in c:\\users\\slo\\appdata\\roaming\\python\\python38\\site-packages (from aiohttp->openai) (1.3.1)\n",
      "Requirement already satisfied: colorama in c:\\users\\slo\\appdata\\roaming\\python\\python38\\site-packages (from tqdm->openai) (0.4.6)\n"
     ]
    }
   ],
   "source": [
    "!pip install openai"
   ]
  },
  {
   "cell_type": "code",
   "execution_count": 3,
   "metadata": {
    "colab": {
     "base_uri": "https://localhost:8080/",
     "height": 17
    },
    "id": "AIZsUd_PtSQ9",
    "outputId": "d0ac38f7-23f3-4357-fcbc-252d78c7055e"
   },
   "outputs": [
    {
     "data": {
      "text/html": [
       "\n",
       "  <style>\n",
       "    pre {\n",
       "        white-space: pre-wrap;\n",
       "    }\n",
       "  </style>\n",
       "  "
      ],
      "text/plain": [
       "<IPython.core.display.HTML object>"
      ]
     },
     "metadata": {},
     "output_type": "display_data"
    },
    {
     "ename": "ModuleNotFoundError",
     "evalue": "No module named 'google.colab'",
     "output_type": "error",
     "traceback": [
      "\u001b[1;31m---------------------------------------------------------------------------\u001b[0m",
      "\u001b[1;31mModuleNotFoundError\u001b[0m                       Traceback (most recent call last)",
      "Cell \u001b[1;32mIn[3], line 1\u001b[0m\n\u001b[1;32m----> 1\u001b[0m \u001b[38;5;28;01mfrom\u001b[39;00m \u001b[38;5;21;01mgoogle\u001b[39;00m\u001b[38;5;21;01m.\u001b[39;00m\u001b[38;5;21;01mcolab\u001b[39;00m \u001b[38;5;28;01mimport\u001b[39;00m userdata\n\u001b[0;32m      2\u001b[0m OPENAI_API_KEY \u001b[38;5;241m=\u001b[39m userdata\u001b[38;5;241m.\u001b[39mget(\u001b[38;5;124m'\u001b[39m\u001b[38;5;124mOPENAI_API_KEY\u001b[39m\u001b[38;5;124m'\u001b[39m)\n\u001b[0;32m      4\u001b[0m \u001b[38;5;28;01mfrom\u001b[39;00m \u001b[38;5;21;01mopenai\u001b[39;00m \u001b[38;5;28;01mimport\u001b[39;00m OpenAI\n",
      "\u001b[1;31mModuleNotFoundError\u001b[0m: No module named 'google.colab'"
     ]
    }
   ],
   "source": [
    "from google.colab import userdata\n",
    "OPENAI_API_KEY = userdata.get('OPENAI_API_KEY')\n",
    "\n",
    "from openai import OpenAI\n",
    "\n",
    "# establish an OpenAI client\n",
    "client = OpenAI(api_key = OPENAI_API_KEY)"
   ]
  },
  {
   "cell_type": "code",
   "execution_count": null,
   "metadata": {
    "colab": {
     "base_uri": "https://localhost:8080/",
     "height": 34
    },
    "id": "Vgvmugrpv2i8",
    "outputId": "a0c4e239-111a-4bf5-cbaa-f2f09d88209f"
   },
   "outputs": [
    {
     "data": {
      "text/html": [
       "\n",
       "  <style>\n",
       "    pre {\n",
       "        white-space: pre-wrap;\n",
       "    }\n",
       "  </style>\n",
       "  "
      ],
      "text/plain": [
       "<IPython.core.display.HTML object>"
      ]
     },
     "metadata": {},
     "output_type": "display_data"
    },
    {
     "data": {
      "text/plain": [
       "<openai.OpenAI at 0x7f335360a080>"
      ]
     },
     "execution_count": 3,
     "metadata": {},
     "output_type": "execute_result"
    }
   ],
   "source": [
    "client"
   ]
  },
  {
   "cell_type": "code",
   "execution_count": null,
   "metadata": {
    "colab": {
     "base_uri": "https://localhost:8080/",
     "height": 17
    },
    "id": "mUroc6BPGgUD",
    "outputId": "bc22d6b4-9b1d-400b-c858-023ca185cae4"
   },
   "outputs": [
    {
     "data": {
      "text/html": [
       "\n",
       "  <style>\n",
       "    pre {\n",
       "        white-space: pre-wrap;\n",
       "    }\n",
       "  </style>\n",
       "  "
      ],
      "text/plain": [
       "<IPython.core.display.HTML object>"
      ]
     },
     "metadata": {},
     "output_type": "display_data"
    }
   ],
   "source": [
    "def get_response(prompt, temperature = 0, model=\"gpt-3.5-turbo\", max_tokens = 512):\n",
    "  # Create a request to the chat completions endpoint\n",
    "  response = client.chat.completions.create(\n",
    "    model = model,\n",
    "    temperature = temperature,\n",
    "    max_tokens = max_tokens,\n",
    "    # Assign the role and content for the message\n",
    "    messages=[{\"role\": \"user\", \"content\": prompt}],\n",
    "    )\n",
    "  return response.choices[0].message.content"
   ]
  },
  {
   "cell_type": "markdown",
   "metadata": {
    "id": "F50FPkydCpV1"
   },
   "source": [
    "# Test"
   ]
  },
  {
   "cell_type": "code",
   "execution_count": null,
   "metadata": {
    "colab": {
     "base_uri": "https://localhost:8080/",
     "height": 34
    },
    "id": "TIw1A5dtteUb",
    "outputId": "3e11e0ab-4129-4151-eb3d-224f9daf53d2"
   },
   "outputs": [
    {
     "data": {
      "text/html": [
       "\n",
       "  <style>\n",
       "    pre {\n",
       "        white-space: pre-wrap;\n",
       "    }\n",
       "  </style>\n",
       "  "
      ],
      "text/plain": [
       "<IPython.core.display.HTML object>"
      ]
     },
     "metadata": {},
     "output_type": "display_data"
    },
    {
     "name": "stdout",
     "output_type": "stream",
     "text": [
      "Start with basics of machine learning, learn Python, study deep learning frameworks like TensorFlow or PyTorch, and practice on real-world projects.\n"
     ]
    }
   ],
   "source": [
    "# Test the function with your prompt\n",
    "prompt = \"What I can do for learning Deep Learning?. Answer in 20 words\"\n",
    "response = get_response(prompt, model = \"gpt-4\")\n",
    "print(response)"
   ]
  },
  {
   "cell_type": "code",
   "execution_count": null,
   "metadata": {
    "colab": {
     "base_uri": "https://localhost:8080/",
     "height": 451
    },
    "id": "JGkAqN-Tb52S",
    "outputId": "6bcde4a3-b342-4538-f502-e9d9bb5cef7f"
   },
   "outputs": [
    {
     "data": {
      "text/html": [
       "\n",
       "  <style>\n",
       "    pre {\n",
       "        white-space: pre-wrap;\n",
       "    }\n",
       "  </style>\n",
       "  "
      ],
      "text/plain": [
       "<IPython.core.display.HTML object>"
      ]
     },
     "metadata": {},
     "output_type": "display_data"
    },
    {
     "name": "stdout",
     "output_type": "stream",
     "text": [
      "<!DOCTYPE html>\n",
      "<html>\n",
      "<head>\n",
      "<title>Qué hacer en Barcelona</title>\n",
      "</head>\n",
      "<body>\n",
      "\n",
      "<h1>Qué hacer en Barcelona</h1>\n",
      "\n",
      "<p>Barcelona es una ciudad llena de actividades y lugares interesantes para visitar. Aquí te dejamos algunas opciones:</p>\n",
      "\n",
      "<ul>\n",
      "  <li>Visitar la Sagrada Familia: la famosa iglesia diseñada por Gaudí es uno de los principales atractivos de la ciudad.</li>\n",
      "  <li>Pasear por Las Ramblas: la calle más famosa de Barcelona, llena de tiendas, restaurantes y artistas callejeros.</li>\n",
      "  <li>Explorar el Barrio Gótico: con sus estrechas calles medievales y edificios históricos.</li>\n",
      "  <li>Disfrutar de la playa: Barcelona tiene varias playas urbanas donde puedes relajarte y tomar el sol.</li>\n",
      "  <li>Visitar el Parque Güell: otro diseño de Gaudí, este parque ofrece impresionantes vistas de la ciudad.</li>\n",
      "  <li>Ir de compras en el Paseo de Gracia: una de las principales calles comerciales de la ciudad.</li>\n",
      "  <li>Probar la deliciosa gastronomía catalana: no te pierdas los platos típicos como la paella, el pan con tomate o las tapas.</li>\n",
      "</ul>\n",
      "\n",
      "<p>Estas son solo algunas de las muchas cosas que puedes hacer en Barcelona. ¡Disfruta tu visita!</p>\n",
      "\n",
      "</body>\n",
      "</html>\n"
     ]
    }
   ],
   "source": [
    "prompt = \"Que puedo hacer en Barcelona?. Responde en formato html\"\n",
    "response = get_response(prompt)\n",
    "print(response)"
   ]
  },
  {
   "cell_type": "code",
   "execution_count": null,
   "metadata": {
    "colab": {
     "base_uri": "https://localhost:8080/",
     "height": 52
    },
    "collapsed": true,
    "id": "WCVThrovAfYF",
    "outputId": "cb47c3e1-4fcb-4da1-ccfa-a6dabe8daa53"
   },
   "outputs": [
    {
     "data": {
      "text/html": [
       "\n",
       "  <style>\n",
       "    pre {\n",
       "        white-space: pre-wrap;\n",
       "    }\n",
       "  </style>\n",
       "  "
      ],
      "text/plain": [
       "<IPython.core.display.HTML object>"
      ]
     },
     "metadata": {},
     "output_type": "display_data"
    },
    {
     "name": "stdout",
     "output_type": "stream",
     "text": [
      "Start with basics of machine learning, then proceed to specializations in deep learning through online courses, books, and practical projects.\n"
     ]
    }
   ],
   "source": [
    "# Now try with a higher temperature\n",
    "response = get_response(prompt, temperature = 1, model = \"gpt-4\")\n",
    "print(response)"
   ]
  },
  {
   "cell_type": "markdown",
   "metadata": {
    "id": "hx-EW8hZKQwU"
   },
   "source": [
    "# 1.-Appropriate action verbs"
   ]
  },
  {
   "cell_type": "code",
   "execution_count": null,
   "metadata": {
    "colab": {
     "base_uri": "https://localhost:8080/",
     "height": 440
    },
    "id": "Wx0212FEKT8q",
    "outputId": "d9401c66-64be-428b-ee5b-d42c332217a4"
   },
   "outputs": [
    {
     "data": {
      "text/html": [
       "\n",
       "  <style>\n",
       "    pre {\n",
       "        white-space: pre-wrap;\n",
       "    }\n",
       "  </style>\n",
       "  "
      ],
      "text/plain": [
       "<IPython.core.display.HTML object>"
      ]
     },
     "metadata": {},
     "output_type": "display_data"
    },
    {
     "name": "stdout",
     "output_type": "stream",
     "text": [
      "Deforestation is the clearing of trees and forests on a large scale, usually for agricultural or commercial purposes. This practice has significant negative impacts on the environment, including loss of biodiversity, disruption of ecosystems, and contribution to climate change.\n",
      "\n",
      "One of the major consequences of deforestation is the loss of habitat for countless plant and animal species. When forests are cleared, many species are displaced or unable to survive in the new environment, leading to a decrease in biodiversity. This can have cascading effects on ecosystems, as each species plays a unique role in maintaining the balance of the ecosystem.\n",
      "\n",
      "Deforestation also contributes to climate change by releasing stored carbon dioxide into the atmosphere. Trees absorb carbon dioxide during photosynthesis, so when they are cut down and burned or left to decay, this carbon is released back into the atmosphere. This contributes to the greenhouse effect and global warming, leading to more extreme weather patterns and rising sea levels.\n",
      "\n",
      "In addition to environmental impacts, deforestation also has social and economic consequences. Indigenous communities and local populations who rely on forests for their livelihoods are often displaced or marginalized when forests are cleared. This can lead to loss of cultural heritage, food sources, and traditional knowledge.\n",
      "\n",
      "To address the issue of deforestation, it is important to promote sustainable land management practices, protect and restore forests, and support local communities in managing their resources in a sustainable way. Governments, businesses, and individuals all have a role to play in combating deforestation and protecting our planet's forests for future generations.\n"
     ]
    }
   ],
   "source": [
    "prompt = \"Think about the issue of deforestation.\"\n",
    "response = get_response(prompt)\n",
    "print(response)"
   ]
  },
  {
   "cell_type": "code",
   "execution_count": null,
   "metadata": {
    "colab": {
     "base_uri": "https://localhost:8080/",
     "height": 564
    },
    "id": "dLbuldpFLeKa",
    "outputId": "d93e7ec5-1fa3-467d-b0c1-eaddc7a96412"
   },
   "outputs": [
    {
     "data": {
      "text/html": [
       "\n",
       "  <style>\n",
       "    pre {\n",
       "        white-space: pre-wrap;\n",
       "    }\n",
       "  </style>\n",
       "  "
      ],
      "text/plain": [
       "<IPython.core.display.HTML object>"
      ]
     },
     "metadata": {},
     "output_type": "display_data"
    },
    {
     "name": "stdout",
     "output_type": "stream",
     "text": [
      "1. Implement strict laws and regulations to protect forests and penalize illegal logging activities.\n",
      "\n",
      "2. Promote sustainable forestry practices, such as selective logging and reforestation, to ensure the long-term health and viability of forests.\n",
      "\n",
      "3. Encourage the use of alternative materials to reduce the demand for wood products, such as bamboo or recycled materials.\n",
      "\n",
      "4. Support and incentivize local communities and indigenous peoples to manage and protect forests sustainably, as they often have a deep connection to the land and can be effective stewards of the environment.\n",
      "\n",
      "5. Increase public awareness and education about the importance of forests and the negative impacts of deforestation, to encourage individuals to make more sustainable choices in their daily lives.\n",
      "\n",
      "6. Collaborate with businesses and industries to develop and implement sustainable sourcing practices for wood products, ensuring that they come from responsibly managed forests.\n",
      "\n",
      "7. Invest in technology and innovation to improve monitoring and enforcement efforts, such as satellite imaging and blockchain technology to track and trace the origin of wood products.\n",
      "\n",
      "8. Support and fund conservation organizations and initiatives that work to protect and restore forests, both locally and globally.\n",
      "\n",
      "9. Encourage governments to prioritize forest conservation and sustainable land use in their policies and decision-making processes.\n",
      "\n",
      "10. Foster partnerships and collaborations between governments, NGOs, businesses, and local communities to work together towards the common goal of reducing deforestation and preserving our forests for future generations.\n"
     ]
    }
   ],
   "source": [
    "prompt = \"Propose strategies to reduce deforestation.\"\n",
    "response = get_response(prompt)\n",
    "print(response)"
   ]
  },
  {
   "cell_type": "markdown",
   "metadata": {
    "id": "Jkiusz5HHJqQ"
   },
   "source": [
    "# 2.-Detailed instructions and adopting a persona"
   ]
  },
  {
   "cell_type": "code",
   "execution_count": null,
   "metadata": {
    "colab": {
     "base_uri": "https://localhost:8080/",
     "height": 211
    },
    "id": "QnGx9AdhyDA2",
    "outputId": "f775aec2-ff22-4e81-9490-fc65a8a428c3"
   },
   "outputs": [
    {
     "data": {
      "text/html": [
       "\n",
       "  <style>\n",
       "    pre {\n",
       "        white-space: pre-wrap;\n",
       "    }\n",
       "  </style>\n",
       "  "
      ],
      "text/plain": [
       "<IPython.core.display.HTML object>"
      ]
     },
     "metadata": {},
     "output_type": "display_data"
    },
    {
     "name": "stdout",
     "output_type": "stream",
     "text": [
      "\n",
      " Original story: \n",
      " Madrid is the capital and largest city of Spain,\n",
      "\n",
      " Generated story: \n",
      " and it is also home to one of the most storied football clubs in the world, Real Madrid. The passion and energy that fills the Santiago Bernabeu stadium on match days is truly electrifying, as fans from all over the world come together to support their beloved team. The history and tradition of Real Madrid is unmatched, with a legacy of success that has cemented their place as one of the greatest clubs in the history of the sport. For soccer fans, there is no greater experience than witnessing a match at the Bernabeu, where the spirit of the game is alive and thriving.\n"
     ]
    }
   ],
   "source": [
    "story = \"Madrid is the capital and largest city of Spain,\"\n",
    "\n",
    "# Create a request to complete the story\n",
    "#prompt = f\"\"\"Complete the story delimited by triple backticks with only two paragraphs\\\n",
    "#using the style of William Shakespeare.\n",
    "# ```{story}```\"\"\"\n",
    "\n",
    "prompt = f\"\"\"Complete the story delimited by triple backticks with only one paragraph\\\n",
    " for soccer fans using a writing style of Rafael Nadal.\n",
    " ```{story}```\"\"\"\n",
    "\n",
    "# Get the generated response\n",
    "response = get_response(prompt)\n",
    "\n",
    "print(\"\\n Original story: \\n\", story)\n",
    "print(\"\\n Generated story: \\n\", response)"
   ]
  },
  {
   "cell_type": "code",
   "execution_count": null,
   "metadata": {
    "colab": {
     "base_uri": "https://localhost:8080/",
     "height": 211
    },
    "id": "jrqBqK2dOWgx",
    "outputId": "fa055cce-1f80-43f2-afc5-16401572d9c1"
   },
   "outputs": [
    {
     "data": {
      "text/html": [
       "\n",
       "  <style>\n",
       "    pre {\n",
       "        white-space: pre-wrap;\n",
       "    }\n",
       "  </style>\n",
       "  "
      ],
      "text/plain": [
       "<IPython.core.display.HTML object>"
      ]
     },
     "metadata": {},
     "output_type": "display_data"
    },
    {
     "name": "stdout",
     "output_type": "stream",
     "text": [
      "\n",
      " Original story: \n",
      " Madrid, the vibrant heart of Spain, is not just a geographical entity but a living mosaic of history and modernity.As one of Europe's most dynamic capitals, it dances to the rhythm of daily life that seamlessly blends tradition with contemporary flair.Culturally rich, Madrid is a treasure trove of museums, historic sites, and theaters, with the Prado Museum holding the city's artistic crown\n",
      "\n",
      " Summarized story: \n",
      " Madrid is a vibrant city in Spain that seamlessly blends history with modernity. It is culturally rich with museums, historic sites, and theaters, with the Prado Museum being a highlight.\n"
     ]
    }
   ],
   "source": [
    "story = \"Madrid, the vibrant heart of Spain, is not just a geographical entity but a living mosaic of history and modernity.\\\n",
    "As one of Europe's most dynamic capitals, it dances to the rhythm of daily life that seamlessly blends tradition with contemporary flair.\\\n",
    "Culturally rich, Madrid is a treasure trove of museums, historic sites, and theaters, with the Prado Museum holding the city's artistic crown\"\n",
    "\n",
    "#  Create a request to summarize the story\n",
    "prompt = f\"\"\"Summarize the text delimited by triple backticks\n",
    " ```{story}```\"\"\"\n",
    "\n",
    "# Get the generated response\n",
    "response = get_response(prompt)\n",
    "\n",
    "print(\"\\n Original story: \\n\", story)\n",
    "print(\"\\n Summarized story: \\n\", response)"
   ]
  },
  {
   "cell_type": "markdown",
   "metadata": {
    "id": "Z6kV4dKLLnlq"
   },
   "source": [
    "# 3.-Precise Descriptions"
   ]
  },
  {
   "cell_type": "code",
   "execution_count": null,
   "metadata": {
    "colab": {
     "base_uri": "https://localhost:8080/",
     "height": 52
    },
    "id": "Mfj-p-6oL3CT",
    "outputId": "7e8b0922-a84a-4b25-f8fb-8e4fd33a5a2d"
   },
   "outputs": [
    {
     "data": {
      "text/html": [
       "\n",
       "  <style>\n",
       "    pre {\n",
       "        white-space: pre-wrap;\n",
       "    }\n",
       "  </style>\n",
       "  "
      ],
      "text/plain": [
       "<IPython.core.display.HTML object>"
      ]
     },
     "metadata": {},
     "output_type": "display_data"
    },
    {
     "name": "stdout",
     "output_type": "stream",
     "text": [
      "Prompt engineering is the process of designing and creating effective and engaging prompts to elicit specific responses or actions from users.\n"
     ]
    }
   ],
   "source": [
    "prompt = \"Write a 1 sentence text explaining prompt engineering.\"\n",
    "#prompt = \"What is Prompt Engineering?\"\n",
    "response = get_response(prompt)\n",
    "print(response)"
   ]
  },
  {
   "cell_type": "markdown",
   "metadata": {
    "id": "Gm-0wEmkzaAk"
   },
   "source": [
    "# 4.-Well Structured and delimited prompts"
   ]
  },
  {
   "cell_type": "code",
   "execution_count": null,
   "metadata": {
    "colab": {
     "base_uri": "https://localhost:8080/",
     "height": 229
    },
    "id": "kuDjUq4hzF_B",
    "outputId": "a6306754-f4e2-4681-cef1-ac2045c4f8a2"
   },
   "outputs": [
    {
     "data": {
      "text/html": [
       "\n",
       "  <style>\n",
       "    pre {\n",
       "        white-space: pre-wrap;\n",
       "    }\n",
       "  </style>\n",
       "  "
      ],
      "text/plain": [
       "<IPython.core.display.HTML object>"
      ]
     },
     "metadata": {},
     "output_type": "display_data"
    },
    {
     "name": "stdout",
     "output_type": "stream",
     "text": [
      "| Title                  | Year | Rating |\n",
      "|------------------------|------|--------|\n",
      "| The Shawshank Redemption | 1994 | 9.3    |\n",
      "| Schindler's List         | 1993 | 8.9    |\n",
      "| Forrest Gump             | 1994 | 8.8    |\n",
      "| The Godfather            | 1972 | 9.2    |\n",
      "| The Green Mile           | 1999 | 8.6    |\n",
      "| The Pianist              | 2002 | 8.5    |\n",
      "| A Beautiful Mind         | 2001 | 8.2    |\n",
      "| The Departed             | 2006 | 8.5    |\n",
      "| 12 Years a Slave         | 2013 | 8.1    |\n",
      "| Manchester by the Sea    | 2016 | 7.8    |\n"
     ]
    }
   ],
   "source": [
    "prompt = \"Generate a table containing 10 movies I should watch if I am a drama lover with columns for Title, Year and Rating.\"\n",
    "print(get_response(prompt))"
   ]
  },
  {
   "cell_type": "code",
   "execution_count": null,
   "metadata": {
    "colab": {
     "base_uri": "https://localhost:8080/",
     "height": 193
    },
    "id": "fR1cpKpWziv2",
    "outputId": "f6fcade3-2248-4553-e244-88fc6176799a"
   },
   "outputs": [
    {
     "data": {
      "text/html": [
       "\n",
       "  <style>\n",
       "    pre {\n",
       "        white-space: pre-wrap;\n",
       "    }\n",
       "  </style>\n",
       "  "
      ],
      "text/plain": [
       "<IPython.core.display.HTML object>"
      ]
     },
     "metadata": {},
     "output_type": "display_data"
    },
    {
     "name": "stdout",
     "output_type": "stream",
     "text": [
      "1. Italy\n",
      "2. Japan\n",
      "3. Australia\n",
      "4. France\n",
      "5. Spain\n",
      "6. United States\n",
      "7. Greece\n",
      "8. Thailand\n",
      "9. New Zealand\n",
      "10. Iceland\n"
     ]
    }
   ],
   "source": [
    "prompt = \"Generate a list with the names top 10 countries to visit\"\n",
    "print(get_response(prompt))"
   ]
  },
  {
   "cell_type": "code",
   "execution_count": null,
   "metadata": {
    "colab": {
     "base_uri": "https://localhost:8080/",
     "height": 193
    },
    "id": "it_s5_2EQXI7",
    "outputId": "40c7556e-d873-49f9-8844-4e9d82326eef"
   },
   "outputs": [
    {
     "data": {
      "text/html": [
       "\n",
       "  <style>\n",
       "    pre {\n",
       "        white-space: pre-wrap;\n",
       "    }\n",
       "  </style>\n",
       "  "
      ],
      "text/plain": [
       "<IPython.core.display.HTML object>"
      ]
     },
     "metadata": {},
     "output_type": "display_data"
    },
    {
     "name": "stdout",
     "output_type": "stream",
     "text": [
      "1. Italy\n",
      "2. Japan\n",
      "3. France\n",
      "4. Thailand\n",
      "5. Spain\n",
      "6. Mexico\n",
      "7. India\n",
      "8. Greece\n",
      "9. Vietnam\n",
      "10. Turkey\n"
     ]
    }
   ],
   "source": [
    "prompt = \"Generate only a list with the names top 10 countries to visit if I love food\"\n",
    "print(get_response(prompt, model = \"gpt-4o\"))"
   ]
  },
  {
   "cell_type": "code",
   "execution_count": null,
   "metadata": {
    "colab": {
     "base_uri": "https://localhost:8080/",
     "height": 229
    },
    "id": "4AGnz-rRQkPP",
    "outputId": "69e8fced-4a7f-4ffd-b458-1fdc0b3e868d"
   },
   "outputs": [
    {
     "data": {
      "text/html": [
       "\n",
       "  <style>\n",
       "    pre {\n",
       "        white-space: pre-wrap;\n",
       "    }\n",
       "  </style>\n",
       "  "
      ],
      "text/plain": [
       "<IPython.core.display.HTML object>"
      ]
     },
     "metadata": {},
     "output_type": "display_data"
    },
    {
     "data": {
      "text/html": [
       "\n",
       "  <style>\n",
       "    pre {\n",
       "        white-space: pre-wrap;\n",
       "    }\n",
       "  </style>\n",
       "  "
      ],
      "text/plain": [
       "<IPython.core.display.HTML object>"
      ]
     },
     "metadata": {},
     "output_type": "display_data"
    },
    {
     "name": "stdout",
     "output_type": "stream",
     "text": [
      "Certainly! If you have a passion for history, these countries offer rich historical sites, ancient ruins, and fascinating museums that will captivate your interest:\n",
      "\n",
      "1. **Italy** - Home to the Roman Empire, Renaissance art, and countless historical landmarks like the Colosseum, Vatican City, and Pompeii.\n",
      "2. **Greece** - Known for its ancient civilization, with iconic sites such as the Acropolis, Parthenon, and the ruins of Delphi.\n",
      "3. **Egypt** - Famous for its ancient pyramids, the Sphinx, and the treasures of the Pharaohs, including the Valley of the Kings.\n",
      "4. **China** - Offers a deep historical tapestry with the Great Wall, the Terracotta Army, and ancient cities like Xi'an and Beijing.\n",
      "5. **Turkey** - Rich in history from the Byzantine and Ottoman Empires, with landmarks like Hagia Sophia, Ephesus, and Topkapi Palace.\n",
      "6. **India** - A land of ancient civilizations and empires, featuring the Taj Mahal, ancient temples, and historic cities like Varanasi.\n",
      "7. **France** - Steeped in history from the Roman era to the French Revolution, with sites like the Palace of Versailles, Mont Saint-Michel, and the\n"
     ]
    }
   ],
   "source": [
    "prompt = \"Generate a list with the names top 10 countries to visit if I love history\"\n",
    "print(get_response(prompt))"
   ]
  },
  {
   "cell_type": "code",
   "execution_count": null,
   "metadata": {
    "colab": {
     "base_uri": "https://localhost:8080/",
     "height": 105
    },
    "id": "wd4AUQpWz-G1",
    "outputId": "653e51fa-f13c-43d2-9829-7295b5599196"
   },
   "outputs": [
    {
     "data": {
      "text/html": [
       "\n",
       "  <style>\n",
       "    pre {\n",
       "        white-space: pre-wrap;\n",
       "    }\n",
       "  </style>\n",
       "  "
      ],
      "text/plain": [
       "<IPython.core.display.HTML object>"
      ]
     },
     "metadata": {},
     "output_type": "display_data"
    },
    {
     "data": {
      "text/html": [
       "\n",
       "  <style>\n",
       "    pre {\n",
       "        white-space: pre-wrap;\n",
       "    }\n",
       "  </style>\n",
       "  "
      ],
      "text/plain": [
       "<IPython.core.display.HTML object>"
      ]
     },
     "metadata": {},
     "output_type": "display_data"
    },
    {
     "name": "stdout",
     "output_type": "stream",
     "text": [
      "- Japan\n",
      "- Italy\n",
      "- Australia\n",
      "- Iceland\n",
      "- New Zealand\n"
     ]
    }
   ],
   "source": [
    "prompt = \"Generate an unordered list with the names top 5 countries to visit\"\n",
    "print(get_response(prompt))"
   ]
  },
  {
   "cell_type": "code",
   "execution_count": null,
   "metadata": {
    "colab": {
     "base_uri": "https://localhost:8080/",
     "height": 529
    },
    "id": "fi8foyE00Hac",
    "outputId": "d92ab334-7298-4ed2-db99-a7a4f979a637"
   },
   "outputs": [
    {
     "data": {
      "text/html": [
       "\n",
       "  <style>\n",
       "    pre {\n",
       "        white-space: pre-wrap;\n",
       "    }\n",
       "  </style>\n",
       "  "
      ],
      "text/plain": [
       "<IPython.core.display.HTML object>"
      ]
     },
     "metadata": {},
     "output_type": "display_data"
    },
    {
     "name": "stdout",
     "output_type": "stream",
     "text": [
      "Regular exercise has numerous benefits for overall health and well-being. \n",
      "\n",
      "Physical Health:\n",
      "Regular exercise helps to improve cardiovascular health by strengthening the heart and improving circulation. It also helps to maintain a healthy weight by burning calories and increasing metabolism. Additionally, exercise can improve muscle strength and flexibility, reducing the risk of injury and improving overall physical function.\n",
      "\n",
      "Mental Health:\n",
      "Exercise has been shown to have a positive impact on mental health by reducing symptoms of anxiety and depression. It can also help to improve mood and boost self-esteem. Regular exercise has been linked to better cognitive function and can help to reduce the risk of cognitive decline as we age.\n",
      "\n",
      "Emotional Well-being:\n",
      "Exercise can be a great way to relieve stress and improve overall emotional well-being. Physical activity releases endorphins, which are known as \"feel-good\" hormones that can help to reduce feelings of stress and anxiety. Regular exercise can also provide a sense of accomplishment and boost confidence.\n",
      "\n",
      "Social Connections:\n",
      "Engaging in regular exercise can also help to build social connections and improve overall well-being. Joining a group fitness class or sports team can provide opportunities to meet new people and build relationships. Having a support system of friends and workout buddies can help to keep you motivated and accountable in your fitness journey.\n",
      "\n",
      "In conclusion, regular exercise has a multitude of benefits for overall health and well-being, including improved physical health, mental health, emotional well-being, and social connections. Making exercise a regular part of your routine can have a positive impact on all aspects of your life.\n"
     ]
    }
   ],
   "source": [
    "prompt = \"Provide a structured paragraph with clear headings and subheadings about the\\\n",
    "benefit of regular exercise on overall health and well-being\"\n",
    "print(get_response(prompt))"
   ]
  },
  {
   "cell_type": "code",
   "execution_count": null,
   "metadata": {
    "colab": {
     "base_uri": "https://localhost:8080/",
     "height": 582
    },
    "id": "6bjE1vRYSxLN",
    "outputId": "be99476e-e595-4f7c-c67b-6a107b5b0828"
   },
   "outputs": [
    {
     "data": {
      "text/html": [
       "\n",
       "  <style>\n",
       "    pre {\n",
       "        white-space: pre-wrap;\n",
       "    }\n",
       "  </style>\n",
       "  "
      ],
      "text/plain": [
       "<IPython.core.display.HTML object>"
      ]
     },
     "metadata": {},
     "output_type": "display_data"
    },
    {
     "name": "stdout",
     "output_type": "stream",
     "text": [
      "[\n",
      "    {\n",
      "        \"book_id\": 1,\n",
      "        \"title\": \"The Shawshank Redemption\",\n",
      "        \"author\": \"Stephen King\",\n",
      "        \"genre\": \"Drama\"\n",
      "    },\n",
      "    {\n",
      "        \"book_id\": 2,\n",
      "        \"title\": \"The Godfather\",\n",
      "        \"author\": \"Mario Puzo\",\n",
      "        \"genre\": \"Crime\"\n",
      "    },\n",
      "    {\n",
      "        \"book_id\": 3,\n",
      "        \"title\": \"The Lord of the Rings: The Fellowship of the Ring\",\n",
      "        \"author\": \"J.R.R. Tolkien\",\n",
      "        \"genre\": \"Fantasy\"\n",
      "    },\n",
      "    {\n",
      "        \"book_id\": 4,\n",
      "        \"title\": \"Inception\",\n",
      "        \"author\": \"Christopher Nolan\",\n",
      "        \"genre\": \"Sci-Fi\"\n",
      "    },\n",
      "    {\n",
      "        \"book_id\": 5,\n",
      "        \"title\": \"The Dark Knight\",\n",
      "        \"author\": \"Christopher Nolan\",\n",
      "        \"genre\": \"Action\"\n",
      "    }\n",
      "]\n"
     ]
    }
   ],
   "source": [
    "prompt = f\"\"\"\n",
    "Generate a list of 5 movies with their titles along \\\n",
    "with their authors and genres.\n",
    "Provide them in JSON format with the following keys:\n",
    "book_id, title, author, genre.\n",
    "\"\"\"\n",
    "print(get_response(prompt, max_tokens=512))\n"
   ]
  },
  {
   "cell_type": "markdown",
   "metadata": {
    "id": "RALXoRjlD-I-"
   },
   "source": [
    "# 5.-Conditional Prompts"
   ]
  },
  {
   "cell_type": "code",
   "execution_count": null,
   "metadata": {
    "colab": {
     "base_uri": "https://localhost:8080/",
     "height": 35
    },
    "id": "moeoBeiBEIus",
    "outputId": "a39e51b6-24d4-4667-d90d-41fe150ada72"
   },
   "outputs": [
    {
     "data": {
      "text/html": [
       "\n",
       "  <style>\n",
       "    pre {\n",
       "        white-space: pre-wrap;\n",
       "    }\n",
       "  </style>\n",
       "  "
      ],
      "text/plain": [
       "<IPython.core.display.HTML object>"
      ]
     },
     "metadata": {},
     "output_type": "display_data"
    },
    {
     "name": "stdout",
     "output_type": "stream",
     "text": [
      "I only understand English.\n"
     ]
    }
   ],
   "source": [
    "#text = \"Madrid, the vibrant capital of Spain, stands at the heart of the Iberian Peninsula.\\\n",
    "#Renowned for its rich cultural heritage, Madrid boasts an impressive array of historic sites,\\\n",
    "#including the Royal Palace, Prado Museum, and Plaza Mayor. It's a city where art and history intersect,\\\n",
    "#home to masterpieces by Spanish painters like Velázquez and Goya. \"\n",
    "\n",
    "text = \"Hoy es el dia en el que aprendo prompt engineering\"\n",
    "\n",
    "prompt = f\"\"\"You will be provided with a text delimiter by triple backtips.\\\n",
    "If the text is written in english, suggest a title, othwerwise write 'I only understand English'.\n",
    "```{text}´´´\"\"\"\n",
    "\n",
    "print(get_response(prompt))"
   ]
  },
  {
   "cell_type": "code",
   "execution_count": null,
   "metadata": {
    "colab": {
     "base_uri": "https://localhost:8080/",
     "height": 88
    },
    "id": "zZxjqECeSrAK",
    "outputId": "b92efc7f-11d3-4881-9b94-013bceb5c36a"
   },
   "outputs": [
    {
     "data": {
      "text/html": [
       "\n",
       "  <style>\n",
       "    pre {\n",
       "        white-space: pre-wrap;\n",
       "    }\n",
       "  </style>\n",
       "  "
      ],
      "text/plain": [
       "<IPython.core.display.HTML object>"
      ]
     },
     "metadata": {},
     "output_type": "display_data"
    },
    {
     "data": {
      "text/html": [
       "\n",
       "  <style>\n",
       "    pre {\n",
       "        white-space: pre-wrap;\n",
       "    }\n",
       "  </style>\n",
       "  "
      ],
      "text/plain": [
       "<IPython.core.display.HTML object>"
      ]
     },
     "metadata": {},
     "output_type": "display_data"
    },
    {
     "data": {
      "application/vnd.google.colaboratory.intrinsic+json": {
       "type": "string"
      },
      "text/plain": [
       "\"You will be provided with a text delimiter by triple backtips.If the text is written in english, suggest a title, othwerwise write 'I only understand English'.\\n```Madrid, the vibrant capital of Spain, stands at the heart of the Iberian Peninsula.Renowned for its rich cultural heritage, Madrid boasts an impressive array of historic sites,including the Royal Palace, Prado Museum, and Plaza Mayor. It's a city where art and history intersect,home to masterpieces by Spanish painters like Velázquez and Goya. ´´´\""
      ]
     },
     "execution_count": 47,
     "metadata": {},
     "output_type": "execute_result"
    }
   ],
   "source": [
    "prompt"
   ]
  },
  {
   "cell_type": "markdown",
   "metadata": {
    "id": "8P8viSimEXaV"
   },
   "source": [
    "We can add multiple conditions"
   ]
  },
  {
   "cell_type": "code",
   "execution_count": null,
   "metadata": {
    "colab": {
     "base_uri": "https://localhost:8080/",
     "height": 35
    },
    "id": "ZU92GFGaEZR5",
    "outputId": "d769e3b7-98d5-45bc-e047-6e0644b8b062"
   },
   "outputs": [
    {
     "data": {
      "text/html": [
       "\n",
       "  <style>\n",
       "    pre {\n",
       "        white-space: pre-wrap;\n",
       "    }\n",
       "  </style>\n",
       "  "
      ],
      "text/plain": [
       "<IPython.core.display.HTML object>"
      ]
     },
     "metadata": {},
     "output_type": "display_data"
    },
    {
     "name": "stdout",
     "output_type": "stream",
     "text": [
      "Title: Exploring the Power of LLMs in the Classroom\n"
     ]
    }
   ],
   "source": [
    "text = \"I like using LLMs in the class today with OpenAI APIs\"\n",
    "#text = \"Madrid es la capital de España\"\n",
    "\n",
    "prompt = f\"\"\"You will be provided with a text delimiter by triple backtips.\\\n",
    "If the text is written in english and contains the word love or like, suggest a title,\\\n",
    "othwerwise write 'I only understand English with the word love or like'.\n",
    "```{text}´´´\"\"\"\n",
    "\n",
    "\n",
    "print(get_response(prompt))"
   ]
  },
  {
   "cell_type": "code",
   "execution_count": null,
   "metadata": {
    "colab": {
     "base_uri": "https://localhost:8080/",
     "height": 71
    },
    "id": "NPBHDu-L2t-2",
    "outputId": "c1a058cc-c3d7-41dd-fcc6-1a2ba0fa619c"
   },
   "outputs": [
    {
     "data": {
      "text/html": [
       "\n",
       "  <style>\n",
       "    pre {\n",
       "        white-space: pre-wrap;\n",
       "    }\n",
       "  </style>\n",
       "  "
      ],
      "text/plain": [
       "<IPython.core.display.HTML object>"
      ]
     },
     "metadata": {},
     "output_type": "display_data"
    },
    {
     "data": {
      "application/vnd.google.colaboratory.intrinsic+json": {
       "type": "string"
      },
      "text/plain": [
       "\"You will be provided with a text delimiter by triple backtips.If the text is written in english and contains the word love or like, suggest a title,othwerwise write 'I only understand English with the word love or like'.\\n```I like using LLMs in the class today with OpenAI APIs´´´\""
      ]
     },
     "execution_count": 37,
     "metadata": {},
     "output_type": "execute_result"
    }
   ],
   "source": [
    "prompt"
   ]
  }
 ],
 "metadata": {
  "colab": {
   "provenance": []
  },
  "kernelspec": {
   "display_name": "Python 3",
   "name": "python3"
  },
  "language_info": {
   "codemirror_mode": {
    "name": "ipython",
    "version": 3
   },
   "file_extension": ".py",
   "mimetype": "text/x-python",
   "name": "python",
   "nbconvert_exporter": "python",
   "pygments_lexer": "ipython3",
   "version": "3.8.2"
  }
 },
 "nbformat": 4,
 "nbformat_minor": 0
}
