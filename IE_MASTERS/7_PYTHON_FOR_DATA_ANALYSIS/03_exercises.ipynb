{
 "cells": [
  {
   "cell_type": "markdown",
   "metadata": {},
   "source": [
    "# Strings, Lists, Tuples: properties, methods and formatting"
   ]
  },
  {
   "cell_type": "markdown",
   "metadata": {},
   "source": [
    "### Exercise 3.1\n",
    "\n",
    "Given this text:\n",
    "\n",
    "```python\n",
    "text = \"The quick brown fox jumps over the lazy dog\"\n",
    "```\n",
    "\n",
    "Return the number of characters included in it."
   ]
  },
  {
   "cell_type": "code",
   "execution_count": 1,
   "metadata": {},
   "outputs": [
    {
     "name": "stdout",
     "output_type": "stream",
     "text": [
      "43\n"
     ]
    }
   ],
   "source": [
    "text = \"The quick brown fox jumps over the lazy dog\"\n",
    "\n",
    "print(len(text))"
   ]
  },
  {
   "cell_type": "markdown",
   "metadata": {},
   "source": [
    "It contains 43 characters, including spaces."
   ]
  },
  {
   "cell_type": "markdown",
   "metadata": {},
   "source": [
    "### Exercise 3.2\n",
    "\n",
    "For the same text as in the previous exercise, how many words are there in the text?"
   ]
  },
  {
   "cell_type": "code",
   "execution_count": 2,
   "metadata": {},
   "outputs": [
    {
     "name": "stdout",
     "output_type": "stream",
     "text": [
      "9\n"
     ]
    }
   ],
   "source": [
    "print(len(text.split(' ')))"
   ]
  },
  {
   "cell_type": "markdown",
   "metadata": {},
   "source": [
    "We can use `len` on the list of strings result of `split` to get the number of words in a string. There are 9 words separated by spaces."
   ]
  },
  {
   "cell_type": "markdown",
   "metadata": {},
   "source": [
    "### Exercise 3.3\n",
    "\n",
    "Create a variable called `name` that contains a string including your first name and last name(s) separated by a space. \n",
    "\n",
    "Then convert your `name` into lowercase and uppercase letters.\n",
    "\n",
    "Save each one of them into different variables called `name_lower` and `name_upper`.\n",
    "\n",
    "Then print all the three variables."
   ]
  },
  {
   "cell_type": "code",
   "execution_count": 3,
   "metadata": {},
   "outputs": [
    {
     "name": "stdout",
     "output_type": "stream",
     "text": [
      "Spencer Wood spencer wood SPENCER WOOD\n"
     ]
    }
   ],
   "source": [
    "name = \"Spencer Wood\"\n",
    "\n",
    "lower = name.lower()\n",
    "upper = name.upper()\n",
    "\n",
    "print(name, lower, upper)"
   ]
  },
  {
   "cell_type": "markdown",
   "metadata": {},
   "source": [
    "### Exercise 3.4\n",
    "\n",
    "Using the following text:\n",
    "\n",
    "```python\n",
    "text = \"The quick brown fox jumps over the lazy dog\"\n",
    "```\n",
    "\n",
    "Extract the following slices:\n",
    "* First ten characters\n",
    "* First ten characters not taking into account whitespaces (hint: use `replace`)\n",
    "* Last ten characters\n",
    "* Every other character, starting from the first one\n",
    "* Every third character, starting from the last one"
   ]
  },
  {
   "cell_type": "code",
   "execution_count": 21,
   "metadata": {},
   "outputs": [
    {
     "name": "stdout",
     "output_type": "stream",
     "text": [
      "The quick \n",
      "Thequickbr\n",
      "e lazy dog\n",
      "Teqikbonfxjmsoe h aydg\n",
      "g ae vsux o i T\n"
     ]
    }
   ],
   "source": [
    "print(text[0:10])\n",
    "print(text.replace(' ', '')[0:10])\n",
    "print(text[-10:])\n",
    "print(text[::2])\n",
    "print(text[-1::-3])"
   ]
  },
  {
   "cell_type": "markdown",
   "metadata": {},
   "source": [
    "### Exercise 3.5\n",
    "\n",
    "Create a list named `fruits` with the following words in it: `banana`, `apple`, `orange`, `lemon`, `cherry`, `strawberry`, `grapefruit`.\n",
    "\n",
    "Then sort the list alphabetically and print it."
   ]
  },
  {
   "cell_type": "code",
   "execution_count": 26,
   "metadata": {},
   "outputs": [
    {
     "name": "stdout",
     "output_type": "stream",
     "text": [
      "['apple', 'banana', 'cherry', 'grapefruit', 'lemon', 'orange', 'strawberry']\n"
     ]
    }
   ],
   "source": [
    "fruits = ['banana', 'apple', 'orange', 'lemon', 'cherry', 'strawberry', 'grapefruit']\n",
    "print(sorted(fruits))"
   ]
  },
  {
   "cell_type": "markdown",
   "metadata": {},
   "source": [
    "### Exercise 3.6\n",
    "\n",
    "Using the fruits list, create a string with the following format:\n",
    "\n",
    "```\n",
    "My favorite fruits are: banana, apple, orange, lemon, cherry, strawberry, grapefruit.\n",
    "```\n",
    "\n",
    "There shouldn't be whitespaces at the beginning or at the end of the string."
   ]
  },
  {
   "cell_type": "code",
   "execution_count": 38,
   "metadata": {},
   "outputs": [
    {
     "name": "stdout",
     "output_type": "stream",
     "text": [
      "My favorite fruits are: banana, apple, orange, lemon, cherry, strawberry, grapefruit\n"
     ]
    }
   ],
   "source": [
    "string = f\"My favorite fruits are: {', '.join(fruits)}\"\n",
    "\n",
    "print(string)"
   ]
  },
  {
   "cell_type": "markdown",
   "metadata": {},
   "source": [
    "### Exercise 3.7\n",
    "\n",
    "Create a list of lists called `vegan` where the first one is `fruits` list, and the second list is made out of with the following words: `tomato`, `potato`, `carrot`, `onion`, `garlic`, `lettuce`, `cucumber`."
   ]
  },
  {
   "cell_type": "code",
   "execution_count": 42,
   "metadata": {},
   "outputs": [
    {
     "name": "stdout",
     "output_type": "stream",
     "text": [
      "['banana', 'apple', 'orange', 'lemon', 'cherry', 'strawberry', 'grapefruit']\n",
      "[['banana', 'apple', 'orange', 'lemon', 'cherry', 'strawberry', 'grapefruit'], ['tomato', 'potato', 'carrot', 'onion', 'garlic', 'lettuce', 'cucumber']]\n"
     ]
    }
   ],
   "source": [
    "vegan = [fruits, ['tomato', 'potato', 'carrot', 'onion', 'garlic', 'lettuce', 'cucumber']]\n",
    "\n",
    "print(fruits)\n",
    "print(vegan)"
   ]
  },
  {
   "cell_type": "markdown",
   "metadata": {},
   "source": [
    "### Exercise 3.8\n",
    "\n",
    "Extract the following from `vegan`:\n",
    "\n",
    "* The 1st element of the 2nd list\n",
    "* The last letter of the 4th element of the 1st list\n",
    "* The 2nd letter of the 3rd element of the 2nd list\n",
    "* The 5th word of the 1st list but reversed"
   ]
  },
  {
   "cell_type": "code",
   "execution_count": 41,
   "metadata": {},
   "outputs": [
    {
     "name": "stdout",
     "output_type": "stream",
     "text": [
      "tomato\n",
      "n\n",
      "a\n",
      "yrrehc\n"
     ]
    }
   ],
   "source": [
    "print(vegan[1][0])\n",
    "print(vegan[0][3][-1])\n",
    "print(vegan[1][2][1])\n",
    "print(vegan[0][4][::-1])"
   ]
  },
  {
   "cell_type": "markdown",
   "metadata": {},
   "source": [
    "### Exercise 3.9\n",
    "\n",
    "Create a new list containing tuples where each tuple contains one fruit and one vegetable from the `vegan` list."
   ]
  },
  {
   "cell_type": "code",
   "execution_count": 46,
   "metadata": {},
   "outputs": [
    {
     "name": "stdout",
     "output_type": "stream",
     "text": [
      "[('banana', 'tomato'), ('apple', 'potato'), ('orange', 'carrot'), ('lemon', 'onion'), ('cherry', 'garlic'), ('strawberry', 'lettuce'), ('grapefruit', 'cucumber')]\n"
     ]
    }
   ],
   "source": [
    "list1 = fruits\n",
    "vegetables = ['tomato', 'potato', 'carrot', 'onion', 'garlic', 'lettuce', 'cucumber']\n",
    "\n",
    "tuple_list = [(list1[i], vegetables[i]) for i in range(len(list1))]\n",
    "\n",
    "print(tuple_list)"
   ]
  },
  {
   "cell_type": "markdown",
   "metadata": {},
   "source": [
    "### Exercise 3.10\n",
    "\n",
    "Take the `vegetables` list, sort it alphabetically, and then create a new list with tuples where each tuple contains the position of the vegetable in the sorted list and the vegetable itself.\n",
    "\n",
    "Remember that the `sort()` method will sort the list in memory and returns `None`. So first you need to sort the list, and then use it in your exercise."
   ]
  },
  {
   "cell_type": "code",
   "execution_count": 49,
   "metadata": {},
   "outputs": [
    {
     "name": "stdout",
     "output_type": "stream",
     "text": [
      "[('carrot', 1), ('cucumber', 2), ('garlic', 3), ('lettuce', 4), ('onion', 5), ('potato', 6), ('tomato', 7)]\n"
     ]
    }
   ],
   "source": [
    "vegetables = sorted(vegetables)\n",
    "\n",
    "tuple_list2 = [(vegetables[i], (i + 1)) for i in range(len(vegetables))]\n",
    "\n",
    "print(tuple_list2)"
   ]
  },
  {
   "cell_type": "markdown",
   "metadata": {},
   "source": [
    "### Exercise 3.11\n",
    "\n",
    "Add the following fruits and vegetables to the `fruits` and `vegetables` lists, respectively: `pear`, `peach`, `broccoli`, `spinach`.\n",
    "\n",
    "Then create a new list called `fruits_and_vegetables` that contains all the `fruits` and `vegetables` lists.\n",
    "\n",
    "You can use the following approaches:\n",
    "* `+` operator to concatenate lists\n",
    "* `append()` method to add elements to a list one by one\n",
    "* `extend()` method to add all the elements of a list to another list"
   ]
  },
  {
   "cell_type": "code",
   "execution_count": 52,
   "metadata": {},
   "outputs": [
    {
     "name": "stdout",
     "output_type": "stream",
     "text": [
      "['banana', 'apple', 'orange', 'lemon', 'cherry', 'strawberry', 'grapefruit', 'pear', 'peach', 'carrot', 'cucumber', 'garlic', 'lettuce', 'onion', 'potato', 'tomato', 'broccoli', 'spinach']\n"
     ]
    }
   ],
   "source": [
    "fruits.append('pear')\n",
    "fruits.append('peach')\n",
    "vegetables.append('broccoli')\n",
    "vegetables.append('spinach')\n",
    "\n",
    "fruits_and_vegetables = fruits + vegetables\n",
    "\n",
    "print(fruits_and_vegetables)"
   ]
  }
 ],
 "metadata": {
  "kernelspec": {
   "display_name": "Python 3",
   "language": "python",
   "name": "python3"
  },
  "language_info": {
   "codemirror_mode": {
    "name": "ipython",
    "version": 3
   },
   "file_extension": ".py",
   "mimetype": "text/x-python",
   "name": "python",
   "nbconvert_exporter": "python",
   "pygments_lexer": "ipython3",
   "version": "3.10.6"
  },
  "orig_nbformat": 4
 },
 "nbformat": 4,
 "nbformat_minor": 2
}
