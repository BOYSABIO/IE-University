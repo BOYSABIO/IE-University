{
 "cells": [
  {
   "cell_type": "markdown",
   "metadata": {},
   "source": [
    "### Client/Server Architecture"
   ]
  },
  {
   "cell_type": "markdown",
   "metadata": {},
   "source": [
    "CLIENT Software --TCP/IP-Network--> SERVER Software (Database Server / Webserver / etc.)"
   ]
  },
  {
   "cell_type": "markdown",
   "metadata": {},
   "source": [
    "#### Two Types of Clients\n",
    "1. Thin Client\n",
    "- Light weght / minimal local processing\n",
    "- Example: Some Web Browsers\n",
    "2. Thick / Rich Clients\n",
    "- Rich user interface: Local Data Sore, Work offline etc.\n",
    "- Example: Dbeaver\n",
    "\n",
    "(Many clients connect to the same server)"
   ]
  },
  {
   "cell_type": "markdown",
   "metadata": {},
   "source": [
    "#### Two options for local / remote server\n",
    "1. Clients are on a different machine other than the server\n",
    "- Connected through a network\n",
    "- like in your company\n",
    "2. Or Both Client and Server can be the same machine\n",
    "- Like in your virtual machine\n",
    "- No network"
   ]
  }
 ],
 "metadata": {
  "language_info": {
   "name": "python"
  }
 },
 "nbformat": 4,
 "nbformat_minor": 2
}
