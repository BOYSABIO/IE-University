{
 "cells": [
  {
   "cell_type": "markdown",
   "metadata": {},
   "source": [
    "# Numeric Types and operations"
   ]
  },
  {
   "cell_type": "markdown",
   "metadata": {},
   "source": [
    "### Exercise 2.1\n",
    "\n",
    "Calculate the value of `x`\n",
    "\n",
    "$$ x = \\frac{a^b}{c \\cdot a} $$\n",
    "\n",
    "For the following values of $a$, $b$ and $c$:\n",
    "\n",
    "$$ a = 2, b = 3.05, c = 10/3 $$"
   ]
  },
  {
   "cell_type": "code",
   "execution_count": 1,
   "metadata": {},
   "outputs": [
    {
     "name": "stdout",
     "output_type": "stream",
     "text": [
      "4.969271634438611\n"
     ]
    }
   ],
   "source": [
    "a = 2\n",
    "b = 3.05\n",
    "c = 10 / 3\n",
    "\n",
    "x = a**b / c * a\n",
    "print(x)"
   ]
  },
  {
   "cell_type": "markdown",
   "metadata": {},
   "source": [
    "### Exercise 2.2\n",
    "\n",
    "Since we can represent speed as the ratio of distance to time, write a program that asks for a distance and a time, then calculates the speed, and prints it out.\n",
    "\n",
    "You can ask the user for input using the `input()` function. For example:\n",
    "\n",
    "```python\n",
    "name = input(\"What is your name?\")\n",
    "```\n",
    "\n",
    "will ask the user for their name, and store the result in the variable `name`.\n",
    "\n",
    "**Hint**: Remember that the `input()` function returns a string, so you will need to convert the input to a number before you can do any calculations with it."
   ]
  },
  {
   "cell_type": "code",
   "execution_count": null,
   "metadata": {},
   "outputs": [],
   "source": [
    "distance = float(input(\"Enter the distance: \"))\n",
    "time = float(input(\"Enter the time: \"))\n",
    "\n",
    "speed = distance / time\n",
    "print(speed)"
   ]
  },
  {
   "cell_type": "markdown",
   "metadata": {},
   "source": [
    "### Exercise 2.3\n",
    "\n",
    "How many numbers between 1 and 10 are divisible by 3?"
   ]
  },
  {
   "cell_type": "code",
   "execution_count": 7,
   "metadata": {},
   "outputs": [
    {
     "name": "stdout",
     "output_type": "stream",
     "text": [
      "4\n"
     ]
    }
   ],
   "source": [
    "num = 0\n",
    "count = 0\n",
    "\n",
    "for i in range(1, 11):\n",
    "    if num % 3 == 0:\n",
    "        count += 1\n",
    "    num += 1\n",
    "\n",
    "print(count)"
   ]
  },
  {
   "cell_type": "markdown",
   "metadata": {},
   "source": [
    "### Exercise 2.4\n",
    "\n",
    "How many seconds are there in 1 hour and 52 minutes?"
   ]
  },
  {
   "cell_type": "code",
   "execution_count": 8,
   "metadata": {},
   "outputs": [
    {
     "name": "stdout",
     "output_type": "stream",
     "text": [
      "Time in seconds: 6720\n"
     ]
    }
   ],
   "source": [
    "seconds_in_minute = 60\n",
    "time_in_minutes = 60 + 52\n",
    "\n",
    "print(\"Time in seconds:\", (time_in_minutes * seconds_in_minute))"
   ]
  },
  {
   "cell_type": "markdown",
   "metadata": {},
   "source": [
    "### Exercise 2.5\n",
    "\n",
    "The relation between the Celsius and Fahrenheit temperature scales is given by the formula:\n",
    "\n",
    "$$ F = \\frac{9}{5} \\cdot C + 32 $$\n",
    "\n",
    "Save a Celsius temperature value under the variable `temp_celsius` and convert it to Fahrenheit saving the result under the variable `temp_fahrenheit`.\n",
    "\n",
    "Print the result."
   ]
  },
  {
   "cell_type": "code",
   "execution_count": 9,
   "metadata": {},
   "outputs": [
    {
     "name": "stdout",
     "output_type": "stream",
     "text": [
      "86.0\n"
     ]
    }
   ],
   "source": [
    "temp_celsius = int(input(\"Enter the temp in celcius: \"))\n",
    "\n",
    "temp_fahrenheit = 9 / 5 * temp_celsius + 32\n",
    "print(temp_fahrenheit)"
   ]
  },
  {
   "cell_type": "markdown",
   "metadata": {},
   "source": [
    "### Exercise 2.6\n",
    "\n",
    "If the area of a square room is 27 square meters, calculate the length of its side.\n",
    "\n",
    "**Hint**: The area of a square is the square of its sidem therefore given the area $A$ of a square, the length of its side $s$ is given by $s = \\sqrt{A}$."
   ]
  },
  {
   "cell_type": "code",
   "execution_count": 10,
   "metadata": {},
   "outputs": [
    {
     "name": "stdout",
     "output_type": "stream",
     "text": [
      "5.196152422706632\n"
     ]
    }
   ],
   "source": [
    "A = 27\n",
    "s = A**(1/2)\n",
    "\n",
    "print(s)"
   ]
  },
  {
   "cell_type": "markdown",
   "metadata": {},
   "source": [
    "### Exercise 2.7\n",
    "\n",
    "You are planning to take a road trip to the beach, which is 330 kilometers away. You are planning to drive at 110 km/h the entire way. How long will it take you to get to the beach?\n",
    "\n",
    "Calculate the answer in minutes."
   ]
  },
  {
   "cell_type": "code",
   "execution_count": 12,
   "metadata": {},
   "outputs": [
    {
     "name": "stdout",
     "output_type": "stream",
     "text": [
      "3.0 hours\n",
      "180.0 minutes\n"
     ]
    }
   ],
   "source": [
    "distance = 330\n",
    "speed = 110\n",
    "\n",
    "time = distance / speed\n",
    "print(time, \"hours\")\n",
    "\n",
    "time_in_minutes = time * 60\n",
    "print(time_in_minutes, \"minutes\")"
   ]
  },
  {
   "cell_type": "markdown",
   "metadata": {},
   "source": [
    "### Exercise 2.8\n",
    "\n",
    "With a slight change of plans, now you want to do the same trip as in [Exercise 2.7](###Exercise-2.7), but you want to do it on a rented bicycle. You can cycle maximum for 50 km per day.\n",
    "\n",
    "How many days should you reserve the bycicle for?"
   ]
  },
  {
   "cell_type": "code",
   "execution_count": 15,
   "metadata": {},
   "outputs": [
    {
     "name": "stdout",
     "output_type": "stream",
     "text": [
      "Rent the bike for 7 days\n"
     ]
    }
   ],
   "source": [
    "km_per_day = 50\n",
    "days = distance / km_per_day\n",
    "print(\"Rent the bike for\", round(days), \"days\")"
   ]
  },
  {
   "cell_type": "markdown",
   "metadata": {},
   "source": [
    "### Exercise 2.9\n",
    "\n",
    "In a pizza shop, you can buy 2 different sizes of pizzas:\n",
    "\n",
    "- Small: 30 cm diameter, 11.50 €\n",
    "- Large: 45 cm diameter, 22 €\n",
    "\n",
    "You are very hungry and have two options:\n",
    "* Option 1: buy two small pizzas\n",
    "* Option 2: buy one large pizza\n",
    "\n",
    "Which option is better in terms of price per cm$^2$?\n",
    "\n",
    "**Hint**: The area of a circle is given by $A = \\pi r^2$. You can approximate $\\pi$ with 3.14"
   ]
  },
  {
   "cell_type": "code",
   "execution_count": 17,
   "metadata": {},
   "outputs": [
    {
     "name": "stdout",
     "output_type": "stream",
     "text": [
      "61.43478260869565 72.25568181818181\n",
      "122.8695652173913 72.25568181818181\n",
      "122.8695652173913\n"
     ]
    }
   ],
   "source": [
    "sd = 30\n",
    "ld = 45\n",
    "sp = 11.50\n",
    "lp = 22\n",
    "\n",
    "small_area = 3.14 * (sd / 2)**2\n",
    "large_area = 3.14 * (ld / 2)**2\n",
    "\n",
    "value_small = small_area / sp\n",
    "value_large = large_area / lp\n",
    "print(value_small, value_large)\n",
    "\n",
    "option1 = value_small * 2\n",
    "option2 = value_large\n",
    "\n",
    "print(option1, option2)\n",
    "print(max(option1, option2))"
   ]
  },
  {
   "cell_type": "markdown",
   "metadata": {},
   "source": [
    "### Exercise 2.10\n",
    "\n",
    "In the same pizza place, now you want to maximize the amount of pizza you get, independently of the cost.\n",
    "\n",
    "Which option is better?\n",
    "* Option 1: 2 pizzas of 30 cm diameter\n",
    "* Option 2: 1 pizza of 45 cm diameter"
   ]
  },
  {
   "cell_type": "code",
   "execution_count": 19,
   "metadata": {},
   "outputs": [
    {
     "name": "stdout",
     "output_type": "stream",
     "text": [
      "1413.0 1589.625\n",
      "1589.625\n"
     ]
    }
   ],
   "source": [
    "option1 = small_area * 2\n",
    "option2 = large_area\n",
    "\n",
    "print(option1, option2)\n",
    "print(max(option1, option2))"
   ]
  }
 ],
 "metadata": {
  "kernelspec": {
   "display_name": "Python 3",
   "language": "python",
   "name": "python3"
  },
  "language_info": {
   "codemirror_mode": {
    "name": "ipython",
    "version": 3
   },
   "file_extension": ".py",
   "mimetype": "text/x-python",
   "name": "python",
   "nbconvert_exporter": "python",
   "pygments_lexer": "ipython3",
   "version": "3.10.6"
  },
  "orig_nbformat": 4
 },
 "nbformat": 4,
 "nbformat_minor": 2
}
