{
  "cells": [
    {
      "cell_type": "code",
      "execution_count": 2,
      "metadata": {
        "id": "Na-Va7R1elsd"
      },
      "outputs": [],
      "source": [
        "import numpy as np\n",
        "import matplotlib.pyplot as plt"
      ]
    },
    {
      "cell_type": "code",
      "execution_count": null,
      "metadata": {
        "id": "JdBVI0FzgdfV"
      },
      "outputs": [],
      "source": []
    },
    {
      "cell_type": "code",
      "execution_count": 3,
      "metadata": {
        "id": "4e_6oe44gda6"
      },
      "outputs": [],
      "source": [
        "# Problem 1: Create Three Different Arrays with Integer Values\n",
        "\n",
        "\n",
        "# Create array1 with integer values 1, 2, 3\n",
        "array1 = np.array([1, 2, 3])\n",
        "\n",
        "# Create array2 with integer values 4, 5, 6\n",
        "array2 = np.array([4, 5, 6])\n",
        "\n",
        "# Create array3 with integer values 7, 8, 9\n",
        "array3 = np.array([7, 8, 9])"
      ]
    },
    {
      "cell_type": "code",
      "execution_count": 4,
      "metadata": {
        "colab": {
          "base_uri": "https://localhost:8080/"
        },
        "id": "hxxD_fKcgdYd",
        "outputId": "f0654d42-6df9-450d-c4e7-9f3bf8215b06"
      },
      "outputs": [
        {
          "data": {
            "text/plain": [
              "array([1, 2, 3])"
            ]
          },
          "execution_count": 4,
          "metadata": {},
          "output_type": "execute_result"
        }
      ],
      "source": [
        "array1"
      ]
    },
    {
      "cell_type": "code",
      "execution_count": 4,
      "metadata": {
        "id": "REHVREIdgdV4"
      },
      "outputs": [],
      "source": [
        "# Problem 2: Create Two Different Matrices\n",
        "\n",
        "\n",
        "# Create matrix1\n",
        "matrix1 = np.array([[1, 2], [3, 4]])\n",
        "\n",
        "# Create matrix2\n",
        "matrix2 = np.array([[5, 6], [7, 8]])"
      ]
    },
    {
      "cell_type": "code",
      "execution_count": 6,
      "metadata": {
        "id": "y4258FrtgdQf"
      },
      "outputs": [
        {
          "name": "stdout",
          "output_type": "stream",
          "text": [
            "[[1 2]\n",
            " [3 4]]\n",
            "[[5 6]\n",
            " [7 8]]\n"
          ]
        }
      ],
      "source": [
        "print(matrix1)\n",
        "print(matrix2)"
      ]
    },
    {
      "cell_type": "code",
      "execution_count": 7,
      "metadata": {
        "id": "vkbo3lItgdNn"
      },
      "outputs": [],
      "source": [
        "# Problem 3: Add Matrices\n",
        "\n",
        "\n",
        "result_addition = matrix1 + matrix2"
      ]
    },
    {
      "cell_type": "code",
      "execution_count": 8,
      "metadata": {
        "id": "Pvy0xPt9gjLB"
      },
      "outputs": [
        {
          "name": "stdout",
          "output_type": "stream",
          "text": [
            "[[ 6  8]\n",
            " [10 12]]\n"
          ]
        }
      ],
      "source": [
        "print(result_addition)"
      ]
    },
    {
      "cell_type": "code",
      "execution_count": 9,
      "metadata": {
        "id": "YxvemhU1gjHy"
      },
      "outputs": [],
      "source": [
        "# Problem 4: Add and Subtract Vectors with Integer Values\n",
        "\n",
        "# Create vector1 with integer values\n",
        "vector1 = np.array([1, 2, 3])\n",
        "\n",
        "# Create vector2 with integer values\n",
        "vector2 = np.array([4, 5, 6])\n",
        "\n",
        "# Perform vector addition\n",
        "result_addition = vector1 + vector2\n",
        "\n",
        "# Perform vector subtraction\n",
        "result_subtraction = vector2 - vector1"
      ]
    },
    {
      "cell_type": "code",
      "execution_count": 10,
      "metadata": {
        "id": "qmL08AVcgjEf"
      },
      "outputs": [
        {
          "name": "stdout",
          "output_type": "stream",
          "text": [
            "[5 7 9]\n",
            "[3 3 3]\n"
          ]
        }
      ],
      "source": [
        "print(result_addition)\n",
        "print(result_subtraction)"
      ]
    },
    {
      "cell_type": "code",
      "execution_count": 11,
      "metadata": {
        "colab": {
          "base_uri": "https://localhost:8080/"
        },
        "id": "_jV4ae8bgjCE",
        "outputId": "4f7b8bcb-64f0-4507-e853-de8d5fd2878c"
      },
      "outputs": [
        {
          "data": {
            "text/plain": [
              "array([ 5, 10, 15])"
            ]
          },
          "execution_count": 11,
          "metadata": {},
          "output_type": "execute_result"
        }
      ],
      "source": [
        "# Problem 5: Multiply Array by Scalar\n",
        "\n",
        "# Scalar value\n",
        "scalar = 5\n",
        "\n",
        "# Array\n",
        "\n",
        "array_to_multiply = np.array([1, 2, 3])\n",
        "\n",
        "# Multiply the array by the scalar\n",
        "\n",
        "result_scalar_multiplication = array_to_multiply * scalar\n",
        "result_scalar_multiplication"
      ]
    },
    {
      "cell_type": "code",
      "execution_count": null,
      "metadata": {
        "id": "DW0SENGWgi_n"
      },
      "outputs": [],
      "source": []
    },
    {
      "cell_type": "code",
      "execution_count": 13,
      "metadata": {
        "id": "T3QrIgJ4gi9B"
      },
      "outputs": [
        {
          "data": {
            "text/plain": [
              "array([[ 5, 10],\n",
              "       [15, 20]])"
            ]
          },
          "execution_count": 13,
          "metadata": {},
          "output_type": "execute_result"
        }
      ],
      "source": [
        "# Problem 6: Multiply Matrix by Scalar\n",
        "\n",
        "# Create a 2x2 matrix with integer values\n",
        "matrix = np.array([[1, 2], [3, 4]])\n",
        "\n",
        "# Scalar value for multiplication\n",
        "scalar = 5\n",
        "\n",
        "# Multiply the matrix by the scalar\n",
        "result_scalar_multiplication = matrix * scalar\n",
        "result_scalar_multiplication"
      ]
    },
    {
      "cell_type": "code",
      "execution_count": null,
      "metadata": {
        "id": "XpagDy6cg9Wg"
      },
      "outputs": [],
      "source": []
    },
    {
      "cell_type": "code",
      "execution_count": null,
      "metadata": {
        "id": "01f2Ve9Kg9S7"
      },
      "outputs": [],
      "source": []
    },
    {
      "cell_type": "code",
      "execution_count": null,
      "metadata": {
        "id": "2f1JtexTg9QQ"
      },
      "outputs": [],
      "source": []
    },
    {
      "cell_type": "code",
      "execution_count": 14,
      "metadata": {
        "id": "UgDcLALjg9Ni"
      },
      "outputs": [],
      "source": [
        "# Problem 7: Find Determinant of  Matrix 2\n",
        "\n",
        "# Create matrix1\n",
        "matrix1 = np.array([[1, 2], [3, 4]])\n",
        "\n",
        "# Calculate the determinant\n",
        "determinant_matrix1 = np.linalg.det(matrix1)\n",
        "\n",
        "\n",
        "\n",
        "matrix2 = np.array([[5, 6], [7, 8]])\n",
        "\n",
        "determinant_matrix2 = np.linalg.det(matrix2)"
      ]
    },
    {
      "cell_type": "code",
      "execution_count": 15,
      "metadata": {
        "id": "tm98MYKDh3Xc"
      },
      "outputs": [
        {
          "name": "stdout",
          "output_type": "stream",
          "text": [
            "-2.000000000000005\n"
          ]
        }
      ],
      "source": [
        "print(determinant_matrix2)"
      ]
    },
    {
      "cell_type": "code",
      "execution_count": null,
      "metadata": {
        "id": "8qwcKHwTh3Sv"
      },
      "outputs": [],
      "source": []
    },
    {
      "cell_type": "code",
      "execution_count": null,
      "metadata": {
        "id": "uxmIntVUh3QX"
      },
      "outputs": [],
      "source": [
        "# Problem 8: Find Rank of 3x3 Matrix\n",
        "\n",
        "# Create matrix3\n",
        "matrix3 = np.array([[1, 2, 3], [4, 5, 6], [7, 8, 9]])\n",
        "\n",
        "# Calculate the rank\n",
        "rank_matrix3 = np.linalg.matrix_rank(matrix3)"
      ]
    },
    {
      "cell_type": "code",
      "execution_count": 5,
      "metadata": {
        "id": "ut7wNaNoiwe1"
      },
      "outputs": [],
      "source": [
        "# Create matrix3\n",
        "matrix3 = np.array([[5, 7, 2], [6, 9, 0], [3, 6, 1]])\n",
        "\n",
        "# Calculate the rank\n",
        "rank_matrix3 = np.linalg.matrix_rank(matrix3)"
      ]
    },
    {
      "cell_type": "code",
      "execution_count": 6,
      "metadata": {
        "id": "gJu2XFOqiwb_"
      },
      "outputs": [
        {
          "name": "stdout",
          "output_type": "stream",
          "text": [
            "3\n"
          ]
        }
      ],
      "source": [
        "print(rank_matrix3)"
      ]
    },
    {
      "cell_type": "code",
      "execution_count": 7,
      "metadata": {
        "id": "mbxT8MfB9ARo"
      },
      "outputs": [],
      "source": [
        "#Example\n",
        "A = np.array([\n",
        "        [2, -1, 1, 1],\n",
        "        [1, 2, -1, -1],\n",
        "        [-1, 2, 2, 2],\n",
        "        [1, -1, 2, 1]\n",
        "    ])\n",
        "b = np.array([6, 3, 14, 8])"
      ]
    },
    {
      "cell_type": "code",
      "execution_count": 9,
      "metadata": {
        "id": "dVfZErQK9AO7"
      },
      "outputs": [
        {
          "name": "stdout",
          "output_type": "stream",
          "text": [
            "-16.999999999999993\n",
            "[2. 3. 4. 1.]\n",
            "4\n"
          ]
        }
      ],
      "source": [
        "#find the determinant to check if a unique solutions exists\n",
        "d = np.linalg.det(A)\n",
        "print(d)\n",
        "\n",
        "# solution of the system of linear equations with the corresponding coefficients matrix A and free coefficients b\n",
        "x = np.linalg.solve(A,b)\n",
        "print(x)\n",
        "\n",
        "#find the rank of A\n",
        "rank_a = np.linalg.matrix_rank(A)\n",
        "print(rank_a)"
      ]
    },
    {
      "cell_type": "code",
      "execution_count": 11,
      "metadata": {
        "id": "RJMdd0B0ifxc"
      },
      "outputs": [
        {
          "name": "stdout",
          "output_type": "stream",
          "text": [
            "[[4, 3, 2], [-2, 2, 3], [3, -5, 2]]\n",
            "122.99999999999994\n",
            "[ 5.  3. -2.]\n",
            "3\n"
          ]
        }
      ],
      "source": [
        "# Problem 9: Create the matrix and solution vector for the linear system below. Find the determinant of M, the solution and the linear system and the rank\n",
        "\n",
        "\n",
        "#4x + 3y + 2z = 25\n",
        "#-2x + 2y + 3z = -10\n",
        "#3x -5y + 2z = -4\n",
        "\n",
        "M = ([\n",
        "    [4, 3, 2],\n",
        "    [-2, 2, 3],\n",
        "    [3, -5, 2]\n",
        "])\n",
        "\n",
        "b = np.array([25, -10, -4])\n",
        "d = np.linalg.det(M)\n",
        "x = np.linalg.solve(M,b)\n",
        "r = np.linalg.matrix_rank(M)\n",
        "\n",
        "print(M)\n",
        "print(d)\n",
        "print(x)\n",
        "print(r)\n",
        "\n"
      ]
    },
    {
      "cell_type": "code",
      "execution_count": null,
      "metadata": {
        "id": "VigmnxRhifu8"
      },
      "outputs": [],
      "source": []
    }
  ],
  "metadata": {
    "colab": {
      "provenance": []
    },
    "kernelspec": {
      "display_name": "Python 3",
      "name": "python3"
    },
    "language_info": {
      "codemirror_mode": {
        "name": "ipython",
        "version": 3
      },
      "file_extension": ".py",
      "mimetype": "text/x-python",
      "name": "python",
      "nbconvert_exporter": "python",
      "pygments_lexer": "ipython3",
      "version": "3.8.2"
    }
  },
  "nbformat": 4,
  "nbformat_minor": 0
}
