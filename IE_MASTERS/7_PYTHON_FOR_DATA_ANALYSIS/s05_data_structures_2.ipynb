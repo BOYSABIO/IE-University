{
 "cells": [
  {
   "cell_type": "markdown",
   "id": "726e2376-a667-40b8-a9d4-f8684f19d207",
   "metadata": {},
   "source": [
    "# Session 5: sets and dictionaries"
   ]
  },
  {
   "cell_type": "markdown",
   "id": "6135cc22-426a-49a2-9d75-cbe7beae1893",
   "metadata": {},
   "source": [
    "## Sets\n",
    "\n",
    "Sets contain mutable and unordered collections of unique items. They're defined in a similar way to lists and tuples, but this time with curly brackets: `{}`. Or with `set()`.\n",
    "\n",
    "```Python\n",
    "my_set = {1, 2, 3}\n",
    "```\n",
    "\n",
    "The principal characteristic of sets is that they can only contain *unique* items."
   ]
  },
  {
   "cell_type": "code",
   "execution_count": 1,
   "id": "b222bd80-6b8c-4eb1-a088-9ee621ab2a8c",
   "metadata": {},
   "outputs": [
    {
     "data": {
      "text/plain": [
       "{1, 2, 3}"
      ]
     },
     "execution_count": 1,
     "metadata": {},
     "output_type": "execute_result"
    }
   ],
   "source": [
    "set1 = {1, 1, 2, 2, 3, 3}\n",
    "\n",
    "set1"
   ]
  },
  {
   "cell_type": "code",
   "execution_count": 2,
   "id": "aba0b29e-fe77-4769-b5ac-46c040bf90d6",
   "metadata": {},
   "outputs": [
    {
     "data": {
      "text/plain": [
       "{1, 2, 3}"
      ]
     },
     "execution_count": 2,
     "metadata": {},
     "output_type": "execute_result"
    }
   ],
   "source": [
    "set2 = set([1, 1, 2, 2, 3, 3])\n",
    "\n",
    "set2"
   ]
  },
  {
   "cell_type": "markdown",
   "id": "66d8c9c8-ca97-418c-a20e-ebd22aa93f92",
   "metadata": {
    "tags": []
   },
   "source": [
    "Say we want to check how many unique characters are there in a string:\n",
    "* \"lava\" has 3 unique characters: \"l\", \"a\", \"v\"\n",
    "* \"savannah\" has 5 unique characters: \"s\", \"a\", \"v\", \"n\", \"h\"\n",
    "\n",
    "If we want to get the *unique characters* in a string we can use a for loop:"
   ]
  },
  {
   "cell_type": "code",
   "execution_count": 3,
   "id": "d4af437d-563f-4eb2-87a4-8378edd5e459",
   "metadata": {},
   "outputs": [
    {
     "data": {
      "text/plain": [
       "['s', 'a', 'v', 'n', 'h']"
      ]
     },
     "execution_count": 3,
     "metadata": {},
     "output_type": "execute_result"
    }
   ],
   "source": [
    "str_to_check = \"savannah\"\n",
    "\n",
    "# for loop, we will learn about it\n",
    "list_of_letters = []\n",
    "for letter in str_to_check:\n",
    "    if letter not in list_of_letters:\n",
    "        list_of_letters.append(letter)\n",
    "\n",
    "list_of_letters\n"
   ]
  },
  {
   "cell_type": "markdown",
   "id": "7c4613b3-d082-44c1-a66b-507697de952e",
   "metadata": {},
   "source": [
    "Or we can use `set()` on the string"
   ]
  },
  {
   "cell_type": "code",
   "execution_count": 4,
   "id": "ab302ee2",
   "metadata": {},
   "outputs": [
    {
     "data": {
      "text/plain": [
       "{'a', 'h', 'n', 's', 'v'}"
      ]
     },
     "execution_count": 4,
     "metadata": {},
     "output_type": "execute_result"
    }
   ],
   "source": [
    "set(list(\"savannah\"))"
   ]
  },
  {
   "cell_type": "markdown",
   "id": "4d84c5fc",
   "metadata": {},
   "source": [
    "Or we can use `set()` on a list with all the characters in the string"
   ]
  },
  {
   "cell_type": "code",
   "execution_count": 5,
   "id": "cff9e8e9-19a0-45ac-a98c-97d6d55d399f",
   "metadata": {},
   "outputs": [
    {
     "data": {
      "text/plain": [
       "{'a', 'h', 'n', 's', 'v'}"
      ]
     },
     "execution_count": 5,
     "metadata": {},
     "output_type": "execute_result"
    }
   ],
   "source": [
    "list_from_string = list(str_to_check)\n",
    "set_from_list_from_string = set(list_from_string)\n",
    "set_from_list_from_string"
   ]
  },
  {
   "cell_type": "markdown",
   "id": "d517c552-0406-454a-a5f8-eceafaf9328d",
   "metadata": {},
   "source": [
    "### Basic set theory\n",
    "\n",
    "Since we have learned how to build containers that store unique items, we can use some Set Theory on them.\n",
    "\n",
    "Say we have two sets: `A` and `B`\n",
    "\n",
    "* Union of `A` and `B`: items appearing in either. Use `|` or A.union(B)\n",
    "* Intersection of `A` and `B`: items appearing in both. Use `&` or A.intersection(B)\n",
    "* Difference of `A` and `B`: items in `A` but not in  `B`. Use `-` or A.difference(B)\n",
    "* Symmetric difference of `A` and `B`: items in only `A` or only `B`, but not in both. Use `^` or A.symmetric_difference(B)"
   ]
  },
  {
   "cell_type": "code",
   "execution_count": 7,
   "id": "0e854bc5-b793-4c3f-99ef-c0143e47bd2f",
   "metadata": {},
   "outputs": [],
   "source": [
    "setA = {2, 3, 5, 7}\n",
    "setB = {1, 3, 5, 7, 9}\n",
    "setC = {8, 6}"
   ]
  },
  {
   "cell_type": "code",
   "execution_count": 8,
   "id": "6779f816-ce17-4ff8-b716-09060cf86f2d",
   "metadata": {},
   "outputs": [
    {
     "data": {
      "text/plain": [
       "{1, 2, 3, 5, 7, 9}"
      ]
     },
     "execution_count": 8,
     "metadata": {},
     "output_type": "execute_result"
    }
   ],
   "source": [
    "# union: items appearing in either\n",
    "setA | setB"
   ]
  },
  {
   "cell_type": "code",
   "execution_count": 9,
   "id": "075837a0-ad02-4e31-9f77-75e5f99a090d",
   "metadata": {},
   "outputs": [
    {
     "data": {
      "text/plain": [
       "{3, 5, 7}"
      ]
     },
     "execution_count": 9,
     "metadata": {},
     "output_type": "execute_result"
    }
   ],
   "source": [
    "# intersection: items appearing in both\n",
    "setA & setB "
   ]
  },
  {
   "cell_type": "code",
   "execution_count": 10,
   "id": "c3c5ada0-583c-43e5-90ef-ac20a1ea2963",
   "metadata": {},
   "outputs": [
    {
     "data": {
      "text/plain": [
       "{2}"
      ]
     },
     "execution_count": 10,
     "metadata": {},
     "output_type": "execute_result"
    }
   ],
   "source": [
    "# difference: items in setA but not in setB\n",
    "setA - setB"
   ]
  },
  {
   "cell_type": "code",
   "execution_count": 11,
   "id": "db293bde-33a3-4de4-abfe-f66943353700",
   "metadata": {},
   "outputs": [
    {
     "data": {
      "text/plain": [
       "{1, 2, 9}"
      ]
     },
     "execution_count": 11,
     "metadata": {},
     "output_type": "execute_result"
    }
   ],
   "source": [
    "# symmetric difference: items appearing in only one set\n",
    "setA ^ setB"
   ]
  },
  {
   "cell_type": "markdown",
   "id": "3415824f-5faa-42c7-8818-78c4965f14f2",
   "metadata": {},
   "source": [
    "### Culinary example for Set Theory! \n",
    "\n",
    "For a set of 3 dishes and their ingredients, let's find similarities and differences"
   ]
  },
  {
   "cell_type": "code",
   "execution_count": 12,
   "id": "c75cf028-25a1-46cc-86ed-76268b28822d",
   "metadata": {},
   "outputs": [],
   "source": [
    "hummus = {\"chickpeas\", \"olive oil\", \"garlic\", \"tahini\", \"lemon juice\", \"salt\"}\n",
    "cocido = {\"chickpeas\", \"olive oil\", \"meat\", \"chicken\", \"veggies\", \"salt\"}\n",
    "allioli = {\"olive oil\", \"garlic\", \"salt\"}"
   ]
  },
  {
   "cell_type": "code",
   "execution_count": 13,
   "id": "cafe477e-f76b-484b-8cca-a0e61adf15c1",
   "metadata": {},
   "outputs": [
    {
     "data": {
      "text/plain": [
       "{'olive oil', 'salt'}"
      ]
     },
     "execution_count": 13,
     "metadata": {},
     "output_type": "execute_result"
    }
   ],
   "source": [
    "# what's common to the three dishes?\n",
    "\n",
    "hummus & cocido & allioli"
   ]
  },
  {
   "cell_type": "code",
   "execution_count": 14,
   "id": "5c436b4a-6264-4fcd-9a04-b11a68f8616b",
   "metadata": {},
   "outputs": [
    {
     "data": {
      "text/plain": [
       "{'chickpeas', 'lemon juice', 'tahini'}"
      ]
     },
     "execution_count": 14,
     "metadata": {},
     "output_type": "execute_result"
    }
   ],
   "source": [
    "# what's in hummus that's not in allioli\n",
    "hummus - allioli"
   ]
  },
  {
   "cell_type": "code",
   "execution_count": 16,
   "id": "b49dedc5-7bae-4168-9022-b7540535a826",
   "metadata": {},
   "outputs": [
    {
     "data": {
      "text/plain": [
       "{'chicken', 'garlic', 'lemon juice', 'meat', 'tahini', 'veggies'}"
      ]
     },
     "execution_count": 16,
     "metadata": {},
     "output_type": "execute_result"
    }
   ],
   "source": [
    "# what are the differential ingredients in cocido and hummus?\n",
    "\n",
    "cocido ^ hummus"
   ]
  },
  {
   "cell_type": "code",
   "execution_count": 17,
   "id": "4dc63b3c-7cb7-4a36-9ec7-61c58467bee2",
   "metadata": {},
   "outputs": [
    {
     "data": {
      "text/plain": [
       "{'chickpeas', 'garlic', 'lemon juice', 'olive oil', 'salt', 'tahini'}"
      ]
     },
     "execution_count": 17,
     "metadata": {},
     "output_type": "execute_result"
    }
   ],
   "source": [
    "# if we want to prepare hummus and allioli, which ingredients should we buy?\n",
    "\n",
    "hummus | allioli"
   ]
  },
  {
   "cell_type": "markdown",
   "id": "13b8a0a1-5848-4213-9260-a87a08192bb5",
   "metadata": {},
   "source": [
    "### Updating sets\n",
    "\n",
    "We can't mutate sets, but we can add items to a set by using `update()`. This will add the new items *in place*."
   ]
  },
  {
   "cell_type": "code",
   "execution_count": 18,
   "id": "e9fbfb86-efbe-4139-a653-c2c1aa22eafa",
   "metadata": {},
   "outputs": [
    {
     "data": {
      "text/plain": [
       "{'chicken', 'chickpeas', 'garlic', 'meat', 'olive oil', 'salt', 'veggies'}"
      ]
     },
     "execution_count": 18,
     "metadata": {},
     "output_type": "execute_result"
    }
   ],
   "source": [
    "cocido.update(allioli) # same as union\n",
    "\n",
    "cocido"
   ]
  },
  {
   "cell_type": "markdown",
   "id": "1bc8ff79-89b2-4169-b8a8-b6c25b0ce92e",
   "metadata": {
    "tags": []
   },
   "source": [
    "## Dictionaries\n",
    "\n",
    "Dictionaries are very flexible ways of mapping keys to values. Dictionaries are a super container, that can contain other containers. \n",
    "\n",
    "We define dictionaries with `dict()` or with curly brackets `{}`like sets **but** we specify keys and values. \n",
    "\n",
    "Let's create a dictionary with animal names and ages using `{}`\n",
    "\n",
    "Dictionaries are mutable, and recently they have been ordered in Python 3.7 and above."
   ]
  },
  {
   "cell_type": "code",
   "execution_count": 19,
   "id": "968db5eb",
   "metadata": {},
   "outputs": [
    {
     "data": {
      "text/plain": [
       "{'key1': 'a', 'key2': 'b', 'key3': 'c'}"
      ]
     },
     "execution_count": 19,
     "metadata": {},
     "output_type": "execute_result"
    }
   ],
   "source": [
    "my_dict = {\n",
    "    \"key1\": \"a\",\n",
    "    \"key2\": \"b\",\n",
    "    \"key3\": \"c\",\n",
    "}\n",
    "\n",
    "my_dict"
   ]
  },
  {
   "cell_type": "markdown",
   "id": "ffa694b5",
   "metadata": {},
   "source": [
    "Once the dictionary is created, we can add new pairs of keys and values by using square brackets `[]` and the assignment operator `=`.\n",
    "\n",
    "But, we can't add duplicate keys to a dictionary. If we try to add a key that already exists, the value will be updated."
   ]
  },
  {
   "cell_type": "code",
   "execution_count": 20,
   "id": "4095497a",
   "metadata": {},
   "outputs": [
    {
     "data": {
      "text/plain": [
       "{'key1': 'a', 'key2': 'b', 'key3': 'c', 'key4': 'd'}"
      ]
     },
     "execution_count": 20,
     "metadata": {},
     "output_type": "execute_result"
    }
   ],
   "source": [
    "my_dict[\"key4\"] = 'd'\n",
    "\n",
    "my_dict"
   ]
  },
  {
   "cell_type": "code",
   "execution_count": 21,
   "id": "bde2c495",
   "metadata": {},
   "outputs": [
    {
     "data": {
      "text/plain": [
       "{'key1': 'a', 'key2': 'b', 'key3': 'c', 'key4': 'e'}"
      ]
     },
     "execution_count": 21,
     "metadata": {},
     "output_type": "execute_result"
    }
   ],
   "source": [
    "my_dict[\"key4\"] = 'e'\n",
    "\n",
    "my_dict"
   ]
  },
  {
   "cell_type": "markdown",
   "id": "13369c11",
   "metadata": {},
   "source": [
    "We can nest dictionaries, lists, sets, and tuples inside dictionaries."
   ]
  },
  {
   "cell_type": "code",
   "execution_count": 23,
   "id": "93c1ff22",
   "metadata": {},
   "outputs": [
    {
     "name": "stdout",
     "output_type": "stream",
     "text": [
      "{1: {'name': 'dani', 'email': 'asdfasdf@qdsfasdf.com'}, 2: {'name': 'pepe', 'email': 'asdfaqsdfasdfsdf@qdsfasdf.com'}}\n"
     ]
    }
   ],
   "source": [
    "dict_ids = {\n",
    "    1: {\n",
    "        \"name\": \"dani\",\n",
    "        \"email\": \"asdfasdf@qdsfasdf.com\"\n",
    "        },\n",
    "    2: {\n",
    "        \"name\": \"pepe\",\n",
    "        \"email\": \"asdfaqsdfasdfsdf@qdsfasdf.com\"\n",
    "        },\n",
    "}\n",
    "\n",
    "print(dict_ids)"
   ]
  },
  {
   "cell_type": "markdown",
   "id": "96371209",
   "metadata": {},
   "source": [
    "We can extract the values associated with a key using square brackets `[]` or the method `get()`"
   ]
  },
  {
   "cell_type": "code",
   "execution_count": 24,
   "id": "3b35d277-9f75-4523-b14b-71a86a360b04",
   "metadata": {},
   "outputs": [
    {
     "data": {
      "text/plain": [
       "11"
      ]
     },
     "execution_count": 24,
     "metadata": {},
     "output_type": "execute_result"
    }
   ],
   "source": [
    "ages_dict = {\n",
    "    \"dani\": 36,\n",
    "    \"churro\": 11,\n",
    "}\n",
    "\n",
    "ages_dict[\"churro\"]"
   ]
  },
  {
   "cell_type": "code",
   "execution_count": 25,
   "id": "5bffc0c9",
   "metadata": {},
   "outputs": [
    {
     "data": {
      "text/plain": [
       "36"
      ]
     },
     "execution_count": 25,
     "metadata": {},
     "output_type": "execute_result"
    }
   ],
   "source": [
    "ages_dict.get('dani')"
   ]
  },
  {
   "cell_type": "markdown",
   "id": "390043a0",
   "metadata": {},
   "source": [
    "The difference between the two is that if the key doesn't exist, `[]` will raise an error, while `get()` will return `None`."
   ]
  },
  {
   "cell_type": "code",
   "execution_count": 8,
   "id": "59358def",
   "metadata": {},
   "outputs": [
    {
     "ename": "KeyError",
     "evalue": "'plant'",
     "output_type": "error",
     "traceback": [
      "\u001b[0;31m---------------------------------------------------------------------------\u001b[0m",
      "\u001b[0;31mKeyError\u001b[0m                                  Traceback (most recent call last)",
      "Cell \u001b[0;32mIn[8], line 1\u001b[0m\n\u001b[0;32m----> 1\u001b[0m \u001b[43mages_dict\u001b[49m\u001b[43m[\u001b[49m\u001b[38;5;124;43m'\u001b[39;49m\u001b[38;5;124;43mplant\u001b[39;49m\u001b[38;5;124;43m'\u001b[39;49m\u001b[43m]\u001b[49m\n",
      "\u001b[0;31mKeyError\u001b[0m: 'plant'"
     ]
    }
   ],
   "source": [
    "ages_dict['plant']"
   ]
  },
  {
   "cell_type": "code",
   "execution_count": 26,
   "id": "629ad5b9",
   "metadata": {},
   "outputs": [],
   "source": [
    "ages_dict.get('plant')"
   ]
  },
  {
   "cell_type": "code",
   "execution_count": 27,
   "id": "688c07da",
   "metadata": {},
   "outputs": [
    {
     "data": {
      "text/plain": [
       "NoneType"
      ]
     },
     "execution_count": 27,
     "metadata": {},
     "output_type": "execute_result"
    }
   ],
   "source": [
    "age_plant = ages_dict.get('plant')\n",
    "\n",
    "type(age_plant)"
   ]
  },
  {
   "cell_type": "code",
   "execution_count": 28,
   "id": "e0afe163",
   "metadata": {},
   "outputs": [
    {
     "data": {
      "text/plain": [
       "{'dani': 36, 'churro': 11, 'chevin': 99, 'maureen': 99}"
      ]
     },
     "execution_count": 28,
     "metadata": {},
     "output_type": "execute_result"
    }
   ],
   "source": [
    "# update\n",
    "\n",
    "new_additions = {\n",
    "    'chevin': 99,\n",
    "    'maureen': 99 \n",
    "}\n",
    "\n",
    "ages_dict.update(new_additions)\n",
    "\n",
    "ages_dict"
   ]
  },
  {
   "cell_type": "markdown",
   "id": "84a02ee3-ad2f-446a-99c9-f313d72e70f0",
   "metadata": {},
   "source": [
    "We can also build a dictionary using `dict()` and passing to it a sequence of key-value pairs, like a list of tuples:"
   ]
  },
  {
   "cell_type": "code",
   "execution_count": 29,
   "id": "ae4b1f78-1e4e-4320-9799-31158ab189a5",
   "metadata": {},
   "outputs": [
    {
     "data": {
      "text/plain": [
       "{'dani': 35, 'churro': 10}"
      ]
     },
     "execution_count": 29,
     "metadata": {},
     "output_type": "execute_result"
    }
   ],
   "source": [
    "another_dict = dict([(\"dani\", 35), (\"churro\", 10)])\n",
    "\n",
    "another_dict"
   ]
  },
  {
   "cell_type": "markdown",
   "id": "10f76a84",
   "metadata": {},
   "source": [
    "We can create a dictionary using the generators we learned in the previous session: `zip()` and `enumerate()`"
   ]
  },
  {
   "cell_type": "code",
   "execution_count": 12,
   "id": "6064731f",
   "metadata": {},
   "outputs": [
    {
     "data": {
      "text/plain": [
       "{'a': 1, 'b': 2, 'c': 3}"
      ]
     },
     "execution_count": 12,
     "metadata": {},
     "output_type": "execute_result"
    }
   ],
   "source": [
    "dict(\n",
    "    zip(\n",
    "        ['a', 'b', 'c'],\n",
    "        [1, 2, 3]\n",
    "    )\n",
    ")"
   ]
  },
  {
   "cell_type": "code",
   "execution_count": 13,
   "id": "58e8301f",
   "metadata": {},
   "outputs": [
    {
     "data": {
      "text/plain": [
       "{1: 'a', 2: 'b', 3: 'c'}"
      ]
     },
     "execution_count": 30,
     "metadata": {},
     "output_type": "execute_result"
    }
   ],
   "source": [
    "dict(\n",
    "    enumerate(\n",
    "        [\"a\", \"b\", \"c\"]\n",
    "    )\n",
    ")"
   ]
  },
  {
   "cell_type": "code",
   "execution_count": 31,
   "id": "35b9d08c",
   "metadata": {},
   "outputs": [
    {
     "data": {
      "text/plain": [
       "{1: 'a', 2: 'b', 3: 'c'}"
      ]
     },
     "execution_count": 31,
     "metadata": {},
     "output_type": "execute_result"
    }
   ],
   "source": [
    "dict(\n",
    "    enumerate(\n",
    "        [\"a\", \"b\", \"c\"]\n",
    "    , start = 1)\n",
    ")"
   ]
  },
  {
   "cell_type": "markdown",
   "id": "6810eeb3",
   "metadata": {},
   "source": [
    "We can extract the keys and values as a list of tuples when using the method `items()` on a dictionary.\n",
    "\n",
    "This will be very useful when looping through dictionaries."
   ]
  },
  {
   "cell_type": "code",
   "execution_count": 32,
   "id": "f4de71bb",
   "metadata": {},
   "outputs": [
    {
     "data": {
      "text/plain": [
       "dict_items([('dani', 36), ('churro', 11), ('chevin', 99), ('maureen', 99)])"
      ]
     },
     "execution_count": 32,
     "metadata": {},
     "output_type": "execute_result"
    }
   ],
   "source": [
    "ages_dict.items()"
   ]
  },
  {
   "cell_type": "markdown",
   "id": "6a9f5e6c",
   "metadata": {},
   "source": [
    "## Exercises\n",
    "\n",
    "* Create a dictionary containing the letters in the abc as keys, and their position in the abc as values\n",
    "* Use the dictionary to calculate the sum of the positions of the letters in the word \"hello\"\n",
    "* Represent a train as a dictionary, knowing that it contains the following parts\n",
    "  * A train contains 4 wagons\n",
    "  * A wagon contains 10 rows\n",
    "  * A row contains 4 seats"
   ]
  },
  {
   "cell_type": "code",
   "execution_count": 42,
   "id": "95b6ad14",
   "metadata": {},
   "outputs": [
    {
     "name": "stdout",
     "output_type": "stream",
     "text": [
      "{'a': 1, 'b': 2, 'c': 3, 'd': 4, 'e': 5, 'f': 6, 'g': 7, 'h': 8, 'i': 9, 'j': 10, 'k': 11, 'l': 12, 'm': 13, 'n': 14, 'o': 15, 'p': 16, 'q': 17, 'r': 18, 's': 19, 't': 20, 'u': 21, 'v': 22, 'w': 23, 'x': 24, 'y': 25}\n"
     ]
    }
   ],
   "source": [
    "# alphabet = dict(enumerate(list('abcdefghijklmnopqrstuvwxyz'), start = 1))\n",
    "alphabet = dict(zip(list('abcdefghijklmnopqrstuvwxyz'), list(range(1, 27))))\n",
    "alphabet = dict(zip(list('abcdefghijklmnopqrstuvwxyz'), range(1, 27)))\n",
    "\n",
    "print(alphabet)"
   ]
  },
  {
   "cell_type": "code",
   "execution_count": 43,
   "id": "64b2443a",
   "metadata": {},
   "outputs": [
    {
     "name": "stdout",
     "output_type": "stream",
     "text": [
      "52\n"
     ]
    }
   ],
   "source": [
    "word = 'hello'\n",
    "count = 0\n",
    "\n",
    "for letter in list(word):\n",
    "    num = alphabet[letter]\n",
    "    count += num\n",
    "\n",
    "print(count)"
   ]
  },
  {
   "cell_type": "code",
   "execution_count": null,
   "id": "294203c8",
   "metadata": {},
   "outputs": [],
   "source": []
  },
  {
   "cell_type": "markdown",
   "id": "751949db-a5a9-40b5-a136-dd324350a837",
   "metadata": {
    "tags": []
   },
   "source": [
    "### Keys and values\n",
    "\n",
    "Dictionaries, as mentioned, have `keys` and `values`. We can access those independently using the methods `.keys()` and `.values()` on `dict` objects"
   ]
  },
  {
   "cell_type": "code",
   "execution_count": 15,
   "id": "5590dc54-a607-4959-a8d8-89a016f0de32",
   "metadata": {},
   "outputs": [
    {
     "data": {
      "text/plain": [
       "{'dani': 36, 'churro': 11, 'chevin': 99, 'maureen': 99}"
      ]
     },
     "execution_count": 15,
     "metadata": {},
     "output_type": "execute_result"
    }
   ],
   "source": [
    "ages_dict"
   ]
  },
  {
   "cell_type": "code",
   "execution_count": 16,
   "id": "8a4ab6e4-aeb4-48fd-954d-4db323598066",
   "metadata": {},
   "outputs": [
    {
     "data": {
      "text/plain": [
       "['dani', 'churro', 'chevin', 'maureen']"
      ]
     },
     "execution_count": 16,
     "metadata": {},
     "output_type": "execute_result"
    }
   ],
   "source": [
    "list(ages_dict.keys())"
   ]
  },
  {
   "cell_type": "code",
   "execution_count": 17,
   "id": "f9d1dd1e",
   "metadata": {},
   "outputs": [
    {
     "data": {
      "text/plain": [
       "[36, 11, 99, 99]"
      ]
     },
     "execution_count": 17,
     "metadata": {},
     "output_type": "execute_result"
    }
   ],
   "source": [
    "list(ages_dict.values())"
   ]
  },
  {
   "cell_type": "code",
   "execution_count": 18,
   "id": "13c1cf26-129a-4f71-9195-6d69fae91802",
   "metadata": {},
   "outputs": [
    {
     "data": {
      "text/plain": [
       "245"
      ]
     },
     "execution_count": 18,
     "metadata": {},
     "output_type": "execute_result"
    }
   ],
   "source": [
    "vs = ages_dict.values()\n",
    "\n",
    "sum(vs)"
   ]
  },
  {
   "cell_type": "markdown",
   "id": "9bff16f8-4874-43f7-8181-140253d8efd5",
   "metadata": {},
   "source": [
    "### Updating dictionaries\n",
    "\n",
    "Dictionaries, like sets, can use update to add new key-value pairs to the dictionary."
   ]
  },
  {
   "cell_type": "code",
   "execution_count": 24,
   "id": "8967af33",
   "metadata": {},
   "outputs": [
    {
     "data": {
      "text/plain": [
       "{'dani': 36, 'churro': 11, 'chevin': 99, 'maureen': 99, 'car': 10}"
      ]
     },
     "execution_count": 24,
     "metadata": {},
     "output_type": "execute_result"
    }
   ],
   "source": [
    "# the usual way, 1 by 1\n",
    "ages_dict[\"car\"] = 10\n",
    "\n",
    "ages_dict"
   ]
  },
  {
   "cell_type": "code",
   "execution_count": 26,
   "id": "3284a4ad-7cfb-4d10-9104-de5742f1b7a2",
   "metadata": {},
   "outputs": [
    {
     "data": {
      "text/plain": [
       "{'dani': 36,\n",
       " 'churro': 11,\n",
       " 'chevin': 99,\n",
       " 'maureen': 99,\n",
       " 'car': 10,\n",
       " 'pepe': 33,\n",
       " 'plant': 2}"
      ]
     },
     "execution_count": 26,
     "metadata": {},
     "output_type": "execute_result"
    }
   ],
   "source": [
    "# lets add another entry to our people-age dictionary: pepe, 30 y.o.\n",
    "ages_dict.update(\n",
    "    {\"pepe\": 33, \"plant\": 2}\n",
    ")\n",
    "ages_dict"
   ]
  },
  {
   "cell_type": "markdown",
   "id": "1ac0b2fd-499e-4e9a-bf2f-e49fc604036e",
   "metadata": {},
   "source": [
    "Or we can add individual items this way:\n",
    "\n",
    "```Python\n",
    "dictionary[new_key] = new_value\n",
    "```"
   ]
  },
  {
   "cell_type": "markdown",
   "id": "499d6d00-ac08-44ee-a8c9-90b5face5670",
   "metadata": {
    "tags": []
   },
   "source": [
    "### Sorting a dictionary\n",
    "\n",
    "We can't directly sort a dictionary by its keys, we can use some tricks to sort them according to what we want:\n",
    "1. Use `dict.items()` to convert it into a list of tuples\n",
    "2. Order the list according to the first element in each tuple\n",
    "3. Convert the sorted list of tuples into a dictionary again\n"
   ]
  },
  {
   "cell_type": "code",
   "execution_count": 30,
   "id": "76818bd2-3cc1-4c32-be2f-703ae3ff7edd",
   "metadata": {},
   "outputs": [
    {
     "data": {
      "text/plain": [
       "{'car': 10,\n",
       " 'chevin': 99,\n",
       " 'churro': 11,\n",
       " 'dani': 36,\n",
       " 'maureen': 99,\n",
       " 'pepe': 33,\n",
       " 'plant': 2}"
      ]
     },
     "execution_count": 30,
     "metadata": {},
     "output_type": "execute_result"
    }
   ],
   "source": [
    "new_dict_items = ages_dict.items() # 1\n",
    "\n",
    "list_new_dict_items = list(new_dict_items) # 1\n",
    "\n",
    "sorted_list = sorted(list_new_dict_items) # 2\n",
    "\n",
    "dict(sorted_list) # 3"
   ]
  },
  {
   "cell_type": "code",
   "execution_count": 31,
   "id": "38257d29-1374-4ea2-a777-6866dfb97def",
   "metadata": {},
   "outputs": [
    {
     "data": {
      "text/plain": [
       "{'plant': 2,\n",
       " 'car': 10,\n",
       " 'churro': 11,\n",
       " 'pepe': 33,\n",
       " 'dani': 36,\n",
       " 'chevin': 99,\n",
       " 'maureen': 99}"
      ]
     },
     "execution_count": 31,
     "metadata": {},
     "output_type": "execute_result"
    }
   ],
   "source": [
    "# Sort people_dict according to the age (second item in each item)\n",
    "sorted_people_dict = dict(sorted(ages_dict.items(), key=lambda item: item[1]))\n",
    "\n",
    "sorted_people_dict"
   ]
  },
  {
   "cell_type": "code",
   "execution_count": 32,
   "id": "23db842e-6c08-4217-9f20-cd56f508f350",
   "metadata": {},
   "outputs": [
    {
     "data": {
      "text/plain": [
       "{'chevin': 99,\n",
       " 'maureen': 99,\n",
       " 'dani': 36,\n",
       " 'pepe': 33,\n",
       " 'churro': 11,\n",
       " 'car': 10,\n",
       " 'plant': 2}"
      ]
     },
     "execution_count": 32,
     "metadata": {},
     "output_type": "execute_result"
    }
   ],
   "source": [
    "# Sort people_dict according to the age (second item in each item), descending order\n",
    "sorted_people_dict = dict(sorted(ages_dict.items(), key=lambda item: -item[1]))\n",
    "\n",
    "sorted_people_dict"
   ]
  }
 ],
 "metadata": {
  "kernelspec": {
   "display_name": "Python 3",
   "language": "python",
   "name": "python3"
  },
  "language_info": {
   "codemirror_mode": {
    "name": "ipython",
    "version": 3
   },
   "file_extension": ".py",
   "mimetype": "text/x-python",
   "name": "python",
   "nbconvert_exporter": "python",
   "pygments_lexer": "ipython3",
   "version": "3.8.2"
  }
 },
 "nbformat": 4,
 "nbformat_minor": 5
}
