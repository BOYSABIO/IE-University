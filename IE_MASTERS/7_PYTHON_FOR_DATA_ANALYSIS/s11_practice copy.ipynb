{
 "cells": [
  {
   "cell_type": "markdown",
   "metadata": {},
   "source": [
    "# Session 11: Practice\n",
    "\n",
    "In this practice we are going to work using my spotify data. I have downloaded my data from spotify and I have a file called `history.json` that contains all the songs I have listened to in the last year.\n",
    "\n",
    "The first thing we are going to do is to load the data and take a look at it.\n",
    "\n",
    "Since the data is a JSON file, we are going to use the `json` library to load it.\n",
    "\n",
    "```python\n",
    "import json\n",
    "\n",
    "with open('history.json') as f:\n",
    "    spotify = json.load(f)\n",
    "```\n",
    "\n",
    "This will load the data into the variable `data`. The data is a list of dictionaries, where each dictionary represents a song I have listened to."
   ]
  },
  {
   "cell_type": "code",
   "execution_count": 1,
   "metadata": {},
   "outputs": [
    {
     "data": {
      "text/plain": [
       "[{'endTime': '2023-11-14 08:13',\n",
       "  'artistName': 'Eminem',\n",
       "  'trackName': 'Stan',\n",
       "  'msPlayed': 11093},\n",
       " {'endTime': '2023-11-14 08:13',\n",
       "  'artistName': 'The Sugarcubes',\n",
       "  'trackName': 'Birthday',\n",
       "  'msPlayed': 128615}]"
      ]
     },
     "execution_count": 1,
     "metadata": {},
     "output_type": "execute_result"
    }
   ],
   "source": [
    "import json\n",
    "\n",
    "with open('history.json') as f:\n",
    "    spotify = json.load(f)\n",
    "\n",
    "spotify[:2]"
   ]
  },
  {
   "cell_type": "markdown",
   "metadata": {},
   "source": [
    "## Exercise 1\n",
    "\n",
    "Take a look at the data. How many songs have I listened to in the last year?"
   ]
  },
  {
   "cell_type": "code",
   "execution_count": 2,
   "metadata": {},
   "outputs": [
    {
     "data": {
      "text/plain": [
       "14044"
      ]
     },
     "execution_count": 2,
     "metadata": {},
     "output_type": "execute_result"
    }
   ],
   "source": [
    "len(spotify)"
   ]
  },
  {
   "cell_type": "markdown",
   "metadata": {},
   "source": [
    "## Exercise 2\n",
    "\n",
    "What is the average reproduction time of the songs I have listened to?"
   ]
  },
  {
   "cell_type": "code",
   "execution_count": 3,
   "metadata": {},
   "outputs": [
    {
     "name": "stdout",
     "output_type": "stream",
     "text": [
      "2.476529684088104\n"
     ]
    }
   ],
   "source": [
    "total_reproduction = 0\n",
    "\n",
    "for song in spotify:\n",
    "    total_reproduction += song['msPlayed']\n",
    "\n",
    "print(total_reproduction / len(spotify) / 60 / 1000)"
   ]
  },
  {
   "cell_type": "code",
   "execution_count": null,
   "metadata": {},
   "outputs": [
    {
     "name": "stdout",
     "output_type": "stream",
     "text": [
      "2.476529684088104\n"
     ]
    }
   ],
   "source": []
  },
  {
   "cell_type": "markdown",
   "metadata": {},
   "source": [
    "## Exercise 3\n",
    "\n",
    "Create a function that receives the `spotify` data and return the artist I've listened to the most times.\n",
    "\n",
    "Also, create another function but for the song I've listened to the most times."
   ]
  },
  {
   "cell_type": "code",
   "execution_count": 4,
   "metadata": {},
   "outputs": [
    {
     "data": {
      "text/plain": [
       "('Mujeres', 705)"
      ]
     },
     "execution_count": 4,
     "metadata": {},
     "output_type": "execute_result"
    }
   ],
   "source": [
    "def most_listened_artist(spotify):\n",
    "    artists = {}\n",
    "\n",
    "    for song in spotify:\n",
    "        artist = song['artistName']\n",
    "        if artist in artists:\n",
    "            artists[artist] += 1\n",
    "        else:\n",
    "            artists[artist] = 1\n",
    "    \n",
    "    most_played = max(artists, key = artists.get)\n",
    "\n",
    "    return most_played, artists[most_played]\n",
    "\n",
    "most_listened_artist(spotify)"
   ]
  },
  {
   "cell_type": "code",
   "execution_count": 10,
   "metadata": {},
   "outputs": [
    {
     "data": {
      "text/plain": [
       "('Un Gesto Brillante', 11365071)"
      ]
     },
     "execution_count": 10,
     "metadata": {},
     "output_type": "execute_result"
    }
   ],
   "source": [
    "def most_played_object(spotify):\n",
    "    track_play_time = {}\n",
    "\n",
    "    for song in spotify:\n",
    "        time = song['msPlayed']\n",
    "        name = song['trackName']\n",
    "        if name in track_play_time:\n",
    "            track_play_time[name] += time\n",
    "        else:\n",
    "            track_play_time[name] = time\n",
    "    \n",
    "    most_played = max(track_play_time, key = track_play_time.get)\n",
    "    return most_played, track_play_time[most_played]\n",
    "\n",
    "most_played_object(spotify)"
   ]
  },
  {
   "cell_type": "code",
   "execution_count": 12,
   "metadata": {},
   "outputs": [
    {
     "data": {
      "text/plain": [
       "('Unknown Track', 310)"
      ]
     },
     "execution_count": 12,
     "metadata": {},
     "output_type": "execute_result"
    }
   ],
   "source": [
    "def most_occurred_song(spotify):\n",
    "    songs = {}\n",
    "\n",
    "    for song in spotify:\n",
    "        song_name = song['trackName']\n",
    "        if song_name in songs:\n",
    "            songs[song_name] += 1\n",
    "        else:\n",
    "            songs[song_name] = 1\n",
    "    \n",
    "    most_played = max(songs, key = songs.get)\n",
    "\n",
    "    return most_played, songs[most_played]\n",
    "\n",
    "most_occurred_song(spotify)"
   ]
  },
  {
   "cell_type": "markdown",
   "metadata": {},
   "source": [
    "## Exercise 4\n",
    "\n",
    "Create a function that receives the `spotify` data and returns the total reproduction time, in hours, of the songs I have listened to."
   ]
  },
  {
   "cell_type": "code",
   "execution_count": 8,
   "metadata": {},
   "outputs": [
    {
     "name": "stdout",
     "output_type": "stream",
     "text": [
      "The total reproduction time is 579.6730480555556\n"
     ]
    }
   ],
   "source": [
    "def total_reproduction(spotify):\n",
    "    total_reproduction_time = 0\n",
    "    for song in spotify:\n",
    "        total_reproduction_time += song['msPlayed']\n",
    "    \n",
    "    return f'The total reproduction time is {total_reproduction_time / 1000 / 60 / 60}'\n",
    "\n",
    "print(total_reproduction(spotify))"
   ]
  },
  {
   "cell_type": "markdown",
   "metadata": {},
   "source": [
    "## Exercise 5\n",
    "\n",
    "Regarding reproduction time, is my most listened artist the one with the most reproduction time?\n",
    "\n",
    "What about the song?"
   ]
  },
  {
   "cell_type": "code",
   "execution_count": 9,
   "metadata": {},
   "outputs": [
    {
     "name": "stdout",
     "output_type": "stream",
     "text": [
      "Mujeres 99030565\n"
     ]
    }
   ],
   "source": [
    "most_listened_artist = {}\n",
    "\n",
    "for song in spotify:\n",
    "    artist = song['artistName']\n",
    "    time = song['msPlayed']\n",
    "    if artist in most_listened_artist:\n",
    "        most_listened_artist[artist] += time\n",
    "    else:\n",
    "        most_listened_artist[artist] = time\n",
    "\n",
    "most = max(most_listened_artist, key = most_listened_artist.get)\n",
    "\n",
    "print(most, most_listened_artist[most])"
   ]
  },
  {
   "cell_type": "code",
   "execution_count": 10,
   "metadata": {},
   "outputs": [
    {
     "name": "stdout",
     "output_type": "stream",
     "text": [
      "Un Gesto Brillante 11365071\n"
     ]
    }
   ],
   "source": [
    "most_listened_song = {}\n",
    "\n",
    "for song in spotify:\n",
    "    track = song['trackName']\n",
    "    time = song['msPlayed']\n",
    "    if track in most_listened_song:\n",
    "        most_listened_song[track] += time\n",
    "    else:\n",
    "        most_listened_song[track] = time\n",
    "\n",
    "most = max(most_listened_song, key = most_listened_song.get)\n",
    "\n",
    "print(most, most_listened_song[most])"
   ]
  },
  {
   "cell_type": "markdown",
   "metadata": {},
   "source": [
    "## Exercise 6\n",
    "\n",
    "Using the `datetime` library, create new fields in each of the dictionaries in the `spotify` data that represent the following:\n",
    "\n",
    "* `date`: the date when the song was listened to.\n",
    "* `time`: the time when the song was listened to.\n",
    "* `day_of_week`: the day of the week when the song was listened to.\n",
    "* `hour`: the hour when the song was listened to.\n",
    "* `month`: the month when the song was listened to."
   ]
  },
  {
   "cell_type": "code",
   "execution_count": null,
   "metadata": {},
   "outputs": [],
   "source": [
    "# Reference \n",
    "from datetime import datetime\n",
    "\n",
    "str_datetime = '2023-11-14 08:13'\n",
    "dt = datetime.strptime(str_datetime, '%Y-%m-%d %H:%M')\n",
    "\n",
    "date = dt.date()\n",
    "time = dt.time()\n",
    "day_of_week = dt.weekday()\n",
    "hour = dt.hour\n",
    "month = dt.month\n",
    "\n",
    "print(date)\n",
    "print(time)\n",
    "print(day_of_week)\n",
    "print(hour)\n",
    "print(month)"
   ]
  },
  {
   "cell_type": "code",
   "execution_count": 14,
   "metadata": {},
   "outputs": [
    {
     "data": {
      "text/plain": [
       "[{'endTime': '2023-11-14 08:13',\n",
       "  'artistName': 'Eminem',\n",
       "  'trackName': 'Stan',\n",
       "  'msPlayed': 11093,\n",
       "  'date': datetime.date(2023, 11, 14),\n",
       "  'time': datetime.time(8, 13),\n",
       "  'day_of_week': 1,\n",
       "  'hour': 8,\n",
       "  'month': 11},\n",
       " {'endTime': '2023-11-14 08:13',\n",
       "  'artistName': 'The Sugarcubes',\n",
       "  'trackName': 'Birthday',\n",
       "  'msPlayed': 128615,\n",
       "  'date': datetime.date(2023, 11, 14),\n",
       "  'time': datetime.time(8, 13),\n",
       "  'day_of_week': 1,\n",
       "  'hour': 8,\n",
       "  'month': 11}]"
      ]
     },
     "execution_count": 14,
     "metadata": {},
     "output_type": "execute_result"
    }
   ],
   "source": [
    "from datetime import datetime\n",
    "\n",
    "for song in spotify:\n",
    "    dt = datetime.strptime(song['endTime'], '%Y-%m-%d %H:%M')\n",
    "    song['date'] = dt.date()\n",
    "    song['time'] = dt.time()\n",
    "    song['day_of_week'] = dt.weekday()\n",
    "    song['hour'] = dt.hour\n",
    "    song['month'] = dt.month\n",
    "\n",
    "spotify[:2]"
   ]
  },
  {
   "cell_type": "code",
   "execution_count": null,
   "metadata": {},
   "outputs": [],
   "source": []
  },
  {
   "cell_type": "markdown",
   "metadata": {},
   "source": [
    "## Exercise 7\n",
    "\n",
    "Create a function that receives the `spotify` data and returns a dictionary containing the day of the week as key, and the average reproduction time of the songs listened to on that day as value."
   ]
  },
  {
   "cell_type": "code",
   "execution_count": 20,
   "metadata": {},
   "outputs": [
    {
     "name": "stdout",
     "output_type": "stream",
     "text": [
      "{0, 1, 2, 3, 4, 5, 6}\n",
      "{0: 155393.9657064472, 1: 148166.1306049822, 2: 152668.17224880384, 3: 149653.29365079364, 4: 138931.63335377068, 5: 144044.99075215784, 6: 143172.49061032865}\n"
     ]
    }
   ],
   "source": [
    "day_of_week_average = {}\n",
    "unique_days = set(song['day_of_week'] for song in spotify)\n",
    "print(unique_days)\n",
    "\n",
    "for day in unique_days:\n",
    "    times = []\n",
    "    \n",
    "    for song in spotify:\n",
    "        week_day = song['day_of_week']\n",
    "        time = song['msPlayed']\n",
    "        if week_day == day:\n",
    "            times.append(time)\n",
    "        else:\n",
    "            continue\n",
    "        \n",
    "        \n",
    "    \n",
    "    average = sum(times) / len(times)\n",
    "    day_of_week_average[day] = average\n",
    "\n",
    "print(day_of_week_average)"
   ]
  },
  {
   "cell_type": "markdown",
   "metadata": {},
   "source": [
    "## Exercise 8\n",
    "\n",
    "Create a function that receives the `spotify` data and returns a dictionary containing the month as key, and the average reproduction time of the songs listened to on that month as value."
   ]
  },
  {
   "cell_type": "code",
   "execution_count": 23,
   "metadata": {},
   "outputs": [
    {
     "name": "stdout",
     "output_type": "stream",
     "text": [
      "{1: 152086.27578475335, 2: 172693.3589059373, 3: 138529.38774002955, 4: 151025.22015503875, 5: 167525.50705882354, 6: 138003.29032258064, 7: 158848.08542713567, 8: 110486.351160444, 9: 125787.73454545454, 10: 147484.56053184046, 11: 155254.23768308922, 12: 164800.02191558442}\n"
     ]
    }
   ],
   "source": [
    "def month_average(spotify):\n",
    "    months_average_dict = {}\n",
    "    unique_months = set(song['month'] for song in spotify)\n",
    "\n",
    "    for month in unique_months:\n",
    "        times = []\n",
    "\n",
    "        for song in spotify:\n",
    "            song_month = song['month']\n",
    "            song_time = song['msPlayed']\n",
    "            if song_month == month:\n",
    "                times.append(song_time)\n",
    "            else:\n",
    "                continue\n",
    "        \n",
    "        average = sum(times) / len(times)\n",
    "        months_average_dict[month] = average\n",
    "    \n",
    "    return months_average_dict\n",
    "\n",
    "print(month_average(spotify))"
   ]
  },
  {
   "cell_type": "markdown",
   "metadata": {},
   "source": [
    "## Exercise 9\n",
    "\n",
    "What is the artist with the longest song I've listened to?\n",
    "\n",
    "What is the song with the longest reproduction time?"
   ]
  },
  {
   "cell_type": "code",
   "execution_count": 25,
   "metadata": {},
   "outputs": [
    {
     "data": {
      "text/plain": [
       "{'endTime': '2024-07-30 09:58',\n",
       " 'artistName': 'Sidonie',\n",
       " 'trackName': 'Fascinados (feat. Joan Manuel Serrat, Leiva, Vetusta Morla, Iván Ferreiro, Loquillo, Zahara, Dani Martin, Albert Pla, Mikel (Izal), Noni (Lori Meyers), Santi Balmes, Xoel López, Anni B Sweet, Jeanette, Carlos Sadness, Nina (Morgan), Juan Alberto (Niños Mutantes), Miri Ros, Javiera Mena, Jorge Martí (La Habitación Roja), Rafa Val (Viva Suecia), Marc (Dorian), Alondra Bentley, Abraham Boba, Carlangas (Novedades Carminha), La Bien Querida, Martí Perarnau IV (Mucho), Nita (Fuel Fandango) & Shuarma (Elefantes))',\n",
       " 'msPlayed': 6911,\n",
       " 'date': datetime.date(2024, 7, 30),\n",
       " 'time': datetime.time(9, 58),\n",
       " 'day_of_week': 1,\n",
       " 'hour': 9,\n",
       " 'month': 7,\n",
       " 'song_name_length': 511}"
      ]
     },
     "execution_count": 25,
     "metadata": {},
     "output_type": "execute_result"
    }
   ],
   "source": [
    "for song in spotify:\n",
    "    song['song_name_length'] = len(song['trackName'])\n",
    "\n",
    "max(spotify, key = lambda x: x['song_name_length'])"
   ]
  },
  {
   "cell_type": "code",
   "execution_count": 28,
   "metadata": {},
   "outputs": [
    {
     "name": "stdout",
     "output_type": "stream",
     "text": [
      "Change of the Guard 735960\n"
     ]
    }
   ],
   "source": [
    "print(max(spotify, key = lambda x: x['msPlayed'])['trackName'], max(spotify, key = lambda x: x['msPlayed'])['msPlayed'])"
   ]
  },
  {
   "cell_type": "markdown",
   "metadata": {},
   "source": [
    "## Exercise 10\n",
    "\n",
    "Create a function that returns all the songs I've listened to for less than 5 seconds."
   ]
  },
  {
   "cell_type": "code",
   "execution_count": 29,
   "metadata": {},
   "outputs": [
    {
     "name": "stdout",
     "output_type": "stream",
     "text": [
      "['Bang', 'Middle Of My Mind', 'Nunca Estás a la Altura', 'Olímpicos', 'Del Montón', 'Que Hace una Chica Como Tu en un Sitio Como Este', 'Azul Casi Luz', 'You Only Live Once', 'Tu nuevo grupo favorito', 'Call It Fate, Call It Karma', 'Instant Crush (feat. Julian Casablancas)', 'Azul Casi Luz', 'Interesantes', 'Niña de Hielo', 'Sopa fría', 'Moving', 'Puede Ser', 'Por la boca vive el pez', 'Por Ti', 'Destrangis in the Night', 'Destrangis in the Night', 'Por la boca vive el pez', 'Después (con Gualberto y Bebe)', 'La Revolución Sexual', 'Let Me Out', 'Tarde o temprano', 'Lo Que Pasa Es Que Me Cuelgo', 'Tal Como Eres', 'Marinade', 'Live Jam in Polynesia', 'Monkey Throw Monkey', 'Shalala', 'Charmed', 'White Winter Hymnal', 'Our Mutual Friend', 'Leaving Today', 'Tonight We Fly', 'Azul Casi Luz', 'Niña de Hielo', 'Del Montón', 'Playa', 'Pacific Theme', 'Teardrop', 'Weather Storm', 'Modern Man', 'Ready to Start', \"Alameda's Blues\", 'La grifa', 'Porselana Teeth', \"Alameda's Blues\", 'Todo El Mundo Al Suelo', 'El Valle', 'The New Gizz', 'Yo Te Encontraré (Banda Sonora Original)', 'Gasolinera', 'Dime Que Nunca Lo Has Pensado', 'MGMT', 'Mariella', 'Texas Sun', 'Two Fish and an Elephant', 'A Calf Born in Winter', 'Master of Life', 'Tezeta', 'El Salto Del Gitano', 'Europe Is Lost', 'The Truth', 'Tribute to the Duke', 'Heavy, California', 'Vandalizar Y Beber', 'Vandalizar Y Beber', 'Marz', 'Love Is Alone', 'Queen of Denmark', \"I'm Still In Love With You\", 'We Were We Still Are (Interlude)', 'Mariella', 'When They Fight, They Fight', 'The Suburbs', \"Don't You Want Me\", 'Nancy From Now On', 'Zion', 'Message from a Beer Cap', 'La Discusión', 'Déjese Querer por una Loca', 'Se Quiere Venir', 'Déjame Vivir Con Alegría', 'Del Montón', 'Hallelujah', 'Dub Organizer', 'King Tubby Meets Rockers Uptown', 'Dark Night of the Soul (feat. David Lynch)', 'Funtimes in Babylon', 'Rawnald Gregory Erickson the Second', 'Fools', 'Toledo', 'Báltico', 'The Look', 'Dancing Is The Best Revenge', 'All My Little Words', 'Tu nuevo grupo favorito', 'Desire Lines', 'I Can Change', 'Revival', 'The Book of Love', 'Oh What A Feeling', 'Gardening', 'Airglow Fires', 'Headlights', 'Tape Eater', 'Universal Decay', \"La femme d'argent\", \"Gypsy Woman (She's Homeless) (La Da Dee La Da Da) - Radio Edit\", 'Beyond (Drumless Edition)', 'Yègellé Tezeta', 'So What (feat. John Coltrane, Cannonball Adderley & Bill Evans)', 'Bahçada Yeşil Çınar', 'Yolcu', 'Come Live With Me Angel', 'Siempre', 'Quiromántico', 'Sentada Al Borde De Mí', 'KLK', 'Modern Man', 'Dos accidentes', 'Crystalised', 'Pelota', 'Pelota', 'Feels Like We Only Go Backwards', 'I Like Birds', 'Teardrop', 'Texas Sun', 'Burning', 'Creo que empiezo a ver la luz', 'Columbus', 'Under the Wheels', 'Last Goodbye', 'Ragged Wood - Transition Basement Sketch', 'Mardy Bum', 'Château Lobby #4 (In C for Two Virgins)', 'Wake Up', 'All My Little Words', 'Real Love Baby', 'The High Road', 'Boyfriend', 'Everlasting Light', 'Ready to Start', 'Take Care', 'Rill Rill', 'Me dijeron que ya no vives aquí', 'Take Off Your Sunglasses', 'Orange Juice', 'I Love You Like a Madman', 'Rufus Thomas', 'I Thought of You Again', 'King Tubby Meets Rockers Uptown', 'East of the River Nile', 'Never Gonna Give Jah Up', 'Breaking Up', 'Come on Daniel', 'Sexy Black Timberlake', 'Flores y Tamales', 'Far Away', 'Armagedón', \"I'll Be Around\", 'Amor A', 'Absentee', 'Contrato', 'Buceador', 'Dar Cera, Pulir Cera', 'The Not Real Lake', 'The Not Real Lake', 'Without You', 'Inner City Blues', \"Don't Worry Baby\", 'Kangaroo Court', 'Jah Est Mon Refuge', 'Positive Thoughts', 'Viaje A Los Sueños Polares', 'Well, You Can Do It Without Me', 'I Love You Like a Madman', 'Under Pressure - Remastered 2011', 'Ziggy Stardust - 2012 Remaster', 'Rey Sombra', 'Magic', 'Such Great Heights', 'Nadadora', 'Los Santos Protectores', 'Viaje A Los Sueños Polares', 'Mereces Toda Mi Atención', \"Beginner's Luck\", 'Yaş Elli', 'Bir Sana Bir De Bana', \"L'Endemà\", \"My Father's Daughter\", 'Falling Slowly', 'Lady - Ezra Collective Version', 'Mama, You Been on My Mind - Studio Outtake - 1993', 'Angeles', 'No Woman', 'I Like It Like That', 'Corcovado (Quiet Nights Of Quiet Stars)', 'The Look', 'Soy el vacío', 'Muscoviet Musqiuto - New Version', 'Together In Electric Dreams - Remastered 2003 / From \"Electric Dreams\" Original Motion Picture Soundtrack', 'Hot Stuff - Single Version', 'E=Mc2 - Kniagna Remix', 'Make You Mine', \"Groovejet (If This Ain't Love) [feat. Sophie Ellis-Bextor] - Breakbot & Irfane Remix\", 'Down for the Fifth Time', 'Believe in Me', 'This Feeling', 'Culminate', 'bronto', 'Voy a Aterrizar', 'Portugal', 'De Viaje', 'Buenos Días, Corazón', 'La Canción De Aquel Momento', 'Cherry Blossom Girl', 'Cherry Blossom Girl', 'Pretty Colors', 'Show Me The Way', 'Turning Around', 'Never Let Me Down Again', 'Everybody Wants To Rule The World', 'Turn the Page', 'Hang Me, Oh Hang Me', 'Farewell', 'Ella Perdió El Control', 'Que Te Vaya Bien Miss Carrusel', \"Jesus Doesn't Want Me For A Sunbeam - Live\", 'Love me do - Estereotypo Remix', 'Common People', 'Mrs. Robinson', 'Dream A Little Dream', 'To Die a Virgin', 'Mother Dear', 'The Look', 'Get Lost', 'Call It Fate, Call It Karma', 'Instant Crush (feat. Julian Casablancas)', 'La Leyenda Del Tiempo - Jaleos', 'The Look', '12:51', 'Selfless', 'Elephant', 'Call It Fate, Call It Karma', 'You Only Live Once', 'Cruzo los dedos', 'Video Boys', \"Groovejet (If This Ain't Love) [feat. Sophie Ellis-Bextor] - Breakbot & Irfane Remix\", 'Cocaïna Vitamina', 'Freedom', 'Ya Just Need 2 Believe in Yaself', 'Petit Prince Du Macadam', \"Goin' to the Party\", 'Mi Fábrica de Baile', 'Novias', 'Flying Zirkus', 'Kids', 'Hunting for Witches', 'Dame una Pista', 'Teen Age Riot (Album Version)', 'Airglow Fires', 'Mardy Bum', 'Burning', 'Dirty Dream Number Two', 'Joe - Live from Austin City Limits', 'Someday', \"Goin' to the Party\", 'That Look You Give That Guy', 'That Look You Give That Guy', 'Call It Fate, Call It Karma', 'Granja escuela', 'Dub Waltz', 'Show Me Naomi', 'Otro Triste Final', 'Sleep the Clock Around', \"Let's Move To The Country\", 'After Hours', 'Corner Of My Eye', 'My Own Face Inside the Trees', 'Solitude Is Bliss', 'The Gulag Orkestar', 'Water No Get Enemy', 'Strangers (2020 Stereo Remaster)', 'Me & Magdalena', 'May You Never', 'Viaje A Los Sueños Polares', 'Viaje A Los Sueños Polares', 'Find a Romance', 'Jíjí-Jajá', 'Oh Hi', 'Life on the Run', 'Life on the Run', 'El Run Run (with Rosario)', 'Estopa', 'Picasso', 'Enfermera de Noche', 'Cita en Hawaii', 'Gronlandic Edit', 'All My Little Words', 'The Book of Love', 'Fake Palindromes', 'The Boy With the Arab Strap', 'Los Abrazos Prohibidos (feat. Alice Wonder, Andrés Suárez, Carlotta Cosials, Christina Rosenvinge, Dani Martin, Depedro, Eva Amaral, Ismael Serrano, Iván Ferreiro, Kase.O, Leiva, Luz Casal, Maika Makovski, Marwán, Nacho Vegas, Nina de Juan, Rozalén, Joaquín Sabina, Santi Balmes & Xoel López)', 'Crujidos', 'Seronda', 'Va a empezar a llover', 'Opulencia y amén', 'La última atrocidad', 'Embalo', 'Inútil Paisagem', 'Não Muda Não', 'Azul Da Cor Do Mar', 'Caboclo', 'Só', 'Viver', 'Eu hoje acordei com a luz do sol', 'Snare Liftoff - I Want to Be One of the Greats', 'Whiplash', 'Big (feat. Big Freedia)', 'Darveider', 'Maldito', 'Tuenti', 'Gitana', 'Zentraminas Y Reinoles', 'Black Love ~ Amazonian Springs', 'Black Love ~ Amazonian Springs', 'Black Love ~ Amazonian Springs', \"Comencemos (Let's Start)\", 'Pon Pón', 'May Ninth', 'Black Love ~ Amazonian Springs', 'Al Final Abrazos', 'Pon Pón', \"Let's Get Together\", 'Break on Through (To the Other Side) - 2017 Remaster', 'Hurt', 'Folsom Prison Blues - Live at Folsom State Prison, Folsom, CA - January 1968', 'Midnight Rider', \"I'm Your Man\", 'Bless the Telephone', \"Don't Think Twice, It's All Right\", 'Only the Good Die Young', 'April Come She Will', 'Never Going Back Again - 2004 Remaster', 'Harvest Moon', 'A Horse with No Name', 'American Pie', 'Stay - Remastered', 'The Weight - Remastered 2000', 'Bad, Bad Leroy Brown', 'These Days', 'Me and Julio Down by the Schoolyard', \"Don't Think Twice, It's All Right\", 'Turn! Turn! Turn! (To Everything There Is a Season)', 'April Come She Will', 'Father And Son', 'Bless the Telephone', 'Without You', 'Everybody\\'s Talkin\\' - From \"Midnight Cowboy\"', 'Bless the Telephone', 'Amsterdam', 'The Boy With the Arab Strap', 'Nancy From Now On', 'Pink Moon', \"'Till Forever\", 'La Casa', 'El Idilio', 'Capricho de Santiago', 'El Correo del Zar', 'El Correo del Zar', '\"Baso\" Es Con \"v\"', 'Pesadilla En El Parque De Atracciones', 'Anacronismo', 'Toda Esta Energía', 'El Verano No Nos Quiere', 'El Bello Verano', 'Ángela', 'These Days', 'You Can Call Me Al', 'Waterfalls', \"It's My Life\", 'Ready or Not', 'Human Nature 7\"', 'Father And Son', 'So Long, Marianne', 'Last Nite', 'Every Little Hair Knows Your Name', 'April 23, 2003', 'Nominao', 'Canción De Pop De Amor', 'U Know', 'Antes de Morirme (feat. ROSALÍA)', 'si quieres', 'Tocarte', 'Qué Facilidad', 'mwah :3', 'lamento de una supernova', 'El Tiempo Es Oro', 'esa carita', 'Te Venero', 'Excusas', 'Por la boca vive el pez', 'These Days', 'Close To Me', 'Pretty Girls Make Graves - 2011 Remaster', \"I'm So Tired\", 'Ana', \"Don't Stand So Close To Me\", 'Hey', \"I'm Not In Love\", 'Hey Nineteen', 'From The Morning', 'Valerie - Live At BBC Radio 1 Live Lounge, London / 2007', 'Islands', 'One Of These Things First', 'Under The Pressure', \"It's All Over Now Baby Blue\", 'Canción De Pop De Amor', '1918 - 1920', 'Déjame Vivir Con Alegría', 'Voy a Aterrizar', 'La Noche Inventada', 'Sentido y Referencia', 'Casi Todo Tiene Solución', 'Sus Alas Blancas', \"I'm On Fire\", 'Turn! Turn! Turn! (To Everything There Is a Season)', 'These Days', 'Me and Julio Down by the Schoolyard', 'Bakaluti Durruti', 'M.O.Vida Madrileña', 'La Luna y el Sol', 'Mantenlo Criminal', 'Nakamarra', 'House of the Rising Sun', 'Pushin On', \"Get Me Away from Here, I'm Dying\", \"Get Me Away from Here, I'm Dying\", 'These Days', \"He Doesn't Know Why\", \"He Doesn't Know Why\", 'Fake Palindromes', 'These Days', 'Fake Palindromes', 'Fake Palindromes', 'Ragged Wood - Transition Basement Sketch', 'FTA', 'Blue Ridge Mountains', 'Blue Ridge Mountains', 'Blues de la Frontera - Remasterizada', 'Stronger Than Me', \"I'm On The Outside (Looking In)\", 'These Days', 'Burning', 'White Winter Hymnal', 'Stargirl Interlude', 'Nada Fue Un Error', 'Loco', 'Aunque no sea conmigo', '5 minutos más - Minibar', 'Algún lugar encontraré', 'The Boy With the Arab Strap', 'Last Nite', 'Hard To Explain', 'Machu Picchu', 'What Ever Happened?', 'Heart In a Cage', 'Such Great Heights - Remastered', 'The Adults Are Talking', 'Drunk Girls', '17', 'Reloj Sin Manecillas', 'Llorando En La Limo', 'De Viaje', 'She is My Man', 'Mamá, No Quiero Ir al Colegio', '500 Miles', 'These Days', 'Dream A Little Dream Of Me', 'Junk - Remastered 2011', 'Tears In The Typing Pool', \"California Dreamin' - Single Version\", 'All Things Must Pass (2014 Remaster)', 'Elephant', 'Pale Blue Eyes', 'Real Love Baby', 'El Bello Verano', 'The Book of Love', \"Feelin' Down' 01\", 'Cariñito', 'Pon Tu Mente Al Sol', 'Ready to Start', 'Revival', 'Bloodbuzz Ohio', 'Zebra', 'Round and Round', 'Home', 'He Would Have Laughed', 'White Sky', \"Feelin' Down' 01\", 'Nadadora', 'El Cartero', 'Un sentimiento importante', 'Marmalade', 'Albatross', 'Pulling Our Weight', \"Don't Forget\", 'Kors', 'Me dijeron que ya no vives aquí', 'Beacon', 'La Vida Cañón', 'Close Behind', 'Un Perro Feliz - Remasterizado', 'De Viaje', '420N', 'Westminster', 'El Rey De Los Judíos (Un Cosquilleo)', 'Al Final Abrazos', 'Romance Romántico', 'Angel Guardia', '420N', 'El Bello Verano', 'Canción De Pop De Amor', 'La Vida Cañón', \"Don't Think Twice, It's All Right\", '500 Miles', 'Turn! Turn! Turn! (To Everything There Is a Season)', 'Never Going Back Again - 2004 Remaster', 'Bless the Telephone', 'Pale Blue Eyes', 'Dreams - 2004 Remaster', \"I'm Not In Love\", \"I'm Not In Love\", 'Without You', 'Without You', 'Never Going Back Again - 2004 Remaster', 'Nos Vemos Luego', 'Goodie Bag', 'Esta Pena Que a Veces Teño', 'tú y yo', 'Mentirosa', 'Pachanga', 'Artista Revelación', 'Evolution', 'Maracaibo', 'La Mente Del Monstruo', 'The Look', 'Mr. Blue Sky', 'Dream A Little Dream Of Me', 'Bless the Telephone', 'Bad, Bad Leroy Brown', 'Creep', 'Bizarre Love Triangle - 2014 Remaster', \"You're the One That I Want\", 'Wicked Game - Recorded Live at St Canice Cathedral, Kilkenny', \"I Can't Make You Love Me\", 'Stay With Me - Live From Spotify Berlin', 'Nobody Knows', 'Los Días', 'Only the Good Die Young', 'O Caminho Do Bem', 'Caboclo', 'Embalo', 'Viaje A Los Sueños Polares', 'Peces de Ciudad', 'Be My Baby', 'Y Sin Embargo', 'Always On My Mind', 'Artista Revelación', 'Tú y Yo', 'Los Días', 'Cold Heart - PNAU Remix', 'Copenhague', \"Doin' Time\", 'Tobogan', 'Sereno', 'Suddenly I See', 'Suddenly I See', 'No Scrubs', 'Knights of Cydonia', 'Psycho', 'Plug in Baby', 'Map of the Problematique', 'Seven Nation Army', 'Alright (2015 Remaster)', \"Ain't No Rest For The Wicked - Original Version\", \"Let's Dance to Joy Division\", 'Time After Time', 'Time After Time', 'When The Roses Bloom Again', 'Dulcinéia, Popular Brasileira', 'Distância', 'Feel You', 'Forma, Sentido y Realidad', 'Llorando En La Limo', 'Real Love Baby', 'Canción De Pop De Amor', 'Real Love Baby', 'Cuando Lágrimas Arden', 'Frantic', 'Stuck on the puzzle', 'Dreams Tonite', 'Step', 'The High Road', 'Madison', 'Someone to Love', 'Wish I Loved', 'ALU Jon Jonki Jon', 'Tribute to the Duke', 'Columbus', 'Cielo Amarillo', 'Pacific Standard', \"You've Got Me\", 'Dream A Little Dream Of Me', 'Bless the Telephone', 'April Come She Will', 'I Want Someone Badly', 'Just Like a Woman', 'Música Contemporánea (Alejandro Martínez-Kinski Remix)', 'Música Contemporánea (Alejandro Martínez-Kinski Remix)', 'Nunca Estás a la Altura', 'Lalala', 'El Día de los Embalsamados', 'María Ascensorista', 'I’m The President', 'Sugar for the Pill', 'kisses', 'My Jamaican Guy', 'VOYCONTODO', 'Ya No Te Hago Falta', 'No Quiero Ser Un Cantante', 'INTOXICADA', 'FINDE', 'Romeo', 'Candle Flame', 'Por Lo Visto ya Da Igual', 'Algo Memorable', 'Lebanese Blonde', 'Ciudades y cicatrices', 'Un sentimiento importante', 'Dije fácil', 'Siempre eterno', 'Horizontal en llamas', 'Una Pasión Concreta', 'Por Lo Visto ya Da Igual', 'Horizontal en llamas', 'Siempre eterno', 'Voy a Aterrizar', 'Rocinante', 'Better Days (feat. John Mayer)', 'La Emoción y los Sentidos', 'Una Pasión Concreta', 'Estallido sin Cambios', 'Nadadora (Demo 1991)', \"Don't Wanna Fight\", 'Adult Diversion', 'De Momento Abril', '1932', 'Barca Quemada', 'Fleabag (Gente Mal)', 'Trece', 'Bien por Ti', 'La Progresión Exponencial', 'Dos accidentes', 'El Himno Títular', 'Unknown Track', 'Holy Shit', 'Unknown Track', 'Unknown Track', 'Unknown Track', 'Unknown Track', 'Messy', 'La Noche de los Muertos Vivientes', 'La Emoción y los Sentidos', 'llorando en la acera', 'Besos', 'Unknown Track', 'En El Rascacielos', 'Unknown Track', 'Unknown Track', 'De Momento Abril', 'El Baile', 'Llorando En La Limo', 'Potra Salvaje', 'EL PANTALON - RUMBAS', 'LA REINA', 'Some Time Alone, Alone', 'Unknown Track', 'Unknown Track', 'Ja No Ens Passa', 'Unknown Track', 'Unknown Track', 'Que el viatge sigui llarg', 'Tiraria enrere', 'COR PETIT', 'Unknown Track', 'Unknown Track', 'Unknown Track', '1000COSAS', 'Faust', 'Şinanay', 'Teardrop', 'Unknown Track', 'Soneto', 'Soneto', 'Unknown Track', 'Unknown Track', 'California Sober (Feat. Chris Stapleton)', 'Septiembre', 'Unknown Track', 'Unknown Track', 'Unknown Track', 'Tu Buen Chaval', 'Ni una sola palabra', 'Unknown Track', 'Unknown Track', 'Unknown Track', 'Unknown Track', 'Unknown Track', 'Unknown Track', 'Unknown Track', 'Unknown Track', 'Unknown Track', 'Unknown Track', 'Unknown Track', 'Unknown Track', 'De Color - Remix', 'Dicen que la noche', 'Con Poco', 'Unknown Track', 'LA MARINA STA MORENA', 'Potra Salvaje - Hard Remix', 'LA REINA', 'El Fin del Mundo', 'EL PANTALON - RUMBAS', 'Unknown Track', 'What Was I Made For? [From The Motion Picture \"Barbie\"]', 'Possibility', 'Talk 2 Me', 'Unknown Track', 'Unknown Track', 'Unknown Track', 'Quien encendió la luz', 'Unknown Track', 'Unknown Track', 'Unknown Track', 'Me Sobren Ses Raons', 'Unknown Track', 'Unknown Track', \"Sempre t'estim\", 'Unknown Track', 'Unknown Track', 'Unknown Track', 'LA MARINA STA MORENA', 'Loco De Amor', 'Silk', 'Furr', 'Home to You', 'Dreams - 2004 Remaster', 'Unknown Track', 'The Impossible Dream', 'Fight Test', 'Unknown Track', 'Unknown Track', 'Unknown Track', 'Unknown Track', 'Unknown Track', 'Unknown Track', '_La Aseguradora de Incendios', 'Unknown Track', 'Under the Bridge', 'I Don\\'t Want to Miss a Thing - From \"Armageddon\" Soundtrack', 'Unknown Track', 'Unknown Track', 'Polonia', 'Fuego - A COLORS SHOW', 'Unknown Track', 'Unknown Track', 'Unknown Track', 'Unknown Track', 'Unknown Track', 'New Woman (feat. ROSALÍA)', 'Ohnana', 'REAL GANGSTA LOVE', 'ADIVINO', 'Unknown Track', 'Unknown Track', 'Unknown Track', 'Unknown Track', 'BARÇA MADRID', 'Unknown Track', 'Unknown Track', 'Unknown Track', 'Talking To Myself', '10 minutos', 'Naufragio', 'Unknown Track', 'neo roneo', 'La Partida', 'Unknown Track', 'Unknown Track', 'Unknown Track', 'Unknown Track', 'Hang Loose', 'January Wedding', 'Ajedrez', 'Unknown Track', 'Pedindo perdón', 'Unknown Track', 'Ajedrez', 'Sereno', 'Tir al Ninot', 'Unknown Track', 'Unknown Track', 'No Puedo Más', 'Unknown Track', 'LA MARINA STA MORENA', 'Taste', 'CARITA TRISTE', 'Unknown Track', 'El Fin del Mundo', 'EL PANTALON - RUMBAS', 'The Bay', 'Pale Blue Eyes', 'Tenia Tanto Que Darte', 'Walk On the Wild Side', 'Unknown Track', 'Marta, Sebas, Guille y los demás', 'Lento', 'En qué estrella estará (versión Xavibo)', 'AFTER RAVE', 'Dream Brother', 'Unknown Track', 'Unknown Track', 'Elephant', 'No Eres Feo Ni Ná', 'Intro', 'Son Esos Pájaros', 'Primero de Mayo', 'Pelea en el Barrio', 'Como La Flor', 'Adiós La Mio Vaca Pinta', 'Lose Control', 'Yo Creo', 'Unknown Track', 'Vigilantes del Espejo', 'Buzos (En la Luna)', 'Take on Me', 'Paranoid', 'Happy Together', 'Mr. Blue Sky', 'Stand by Me', 'Knocking Version', 'Stranded', 'Stranded', 'A Remote View', 'Extraterrestre', 'Otras Chavalas', 'Hold Your Own', 'All My Little Words', 'Hazte Camarera', 'Yüce Dağ Başında', 'El Rayo', 'Antigua Pero Moderna', 'A mí ya me iba mal de antes', 'Juancarlista', 'Noche de Setas', 'Barca Quemada', 'Gente De Mierda', 'Estarán aparcando', 'El político neoliberal', 'Buleríâ del aire acondiçionao', 'Plus Ultra Cuerpo', 'Unknown Track', 'Unknown Track', 'Llorando En La Limo', 'Unknown Track', 'Mirar a la cara', 'Unknown Track', 'Unknown Track', 'Condenados al Desastre', 'Shars 2019', 'Hasta Cuando', 'Unknown Track', 'Unknown Track', 'Unknown Track', 'LA MARINA STA MORENA', 'Potra Salvaje - Hard Remix', 'El Fin del Mundo', 'Me has invitado a bailar', 'EL PANTALON - RUMBAS', 'Unknown Track', 'Madrid Sin Ti', 'Fantasmas', 'Unknown Track', 'Lovely Day', 'LA MARINA STA MORENA', 'Madrid Sin Ti', 'Unknown Track', 'Potra Salvaje - Hard Remix', 'Get Up Offa That Thing', 'Unknown Track', 'Thinking About You', 'Take Me to the River', '300 Golpes', 'Paga y Señal', 'Fantasmas', 'EL PANTALON - RUMBAS', \"Hold On, I'm Comin'\", 'Sobran Defectos', 'Bring It On Home to Me', 'Todo Bien', 'Tu nuevo grupo favorito', 'Unknown Track', 'Unknown Track', 'Unknown Track', 'Bunnyranch', 'Unknown Track', 'Unknown Track', 'Unknown Track', 'Que Merezca la Pena', '¿Qué vas a saber?', 'La Mujer de Verde', 'Viento de Cara', 'Let Me Go', 'El Bello Verano', 'Let Me Go', 'Portugal', 'Dreams', 'Réquiem', 'Al Otro Lado', 'Música para cerrar las discotecas - Versión vinilo 7 pulgadas', 'Ojo por Diente', 'Un actor mejicano', 'Al Amanecer', 'En un tiempo feliz', 'Be There', 'La Noche Inventada', 'Inditex', 'El Año', 'Lo que dicte el corazón', 'Brigitte', 'tú y yo', 'Portugal', 'Voy tan deprisa', 'Antigua Pero Moderna', 'Dame Estrellas O Limones', 'Ciudades y cicatrices', 'Cuando Lágrimas Arden', 'Hard To Explain', 'Inestable', 'Die Idioten', 'Indicatif', 'Da Funk', 'Unknown Track', 'Unknown Track', 'Until You Remember', 'Unknown Track', 'Unknown Track', 'HH.MM.SS', 'Wide Open Space', \"Sparky's Dream\", 'Winter', 'Espacio Vacío', 'Espacio Vacío', 'Unknown Track', 'Unknown Track', 'Unknown Track', 'Unknown Track', 'DOS PRIMAVERAS (feat. Carlos Sadness)', 'Unknown Track', 'Antigua Pero Moderna', 'Del Montón', 'Unknown Track', 'Unknown Track', 'Unknown Track', 'Unknown Track', 'Unknown Track', 'YOTULOKO', 'CARITA TRISTE', 'Unknown Track', 'LA REINA', 'Si Antes Te Hubiera Conocido', 'El Conjuntito', 'Einheit Spanischer Freiwilliger', 'Pork And Beans', 'Space Song', 'Red Eyes', 'Keep the Car Running', 'Australia', 'Always Where I Need To Be', 'This Charming Man - 2011 Remaster', 'Human Crime', 'What Ever Happened?', 'Billie Bossa Nova', 'Como Un Aviador', 'Depende', 'Instant Crush (feat. Julian Casablancas)', 'El Principio de algo', 'In My Place', 'God Put a Smile upon Your Face', 'Unknown Track', 'Unknown Track', 'Unknown Track', 'En el río', 'El Baile', 'Corro', 'A Mi Manera', 'Unknown Track', 'Unknown Track', 'Unknown Track', 'Unknown Track', 'Unknown Track', 'Derecho de Nacimiento (feat. Los Macorinos)', 'Unknown Track', 'Pecho Jardín', 'Odio despertar', 'Cósmosis', 'Unknown Track', 'Unknown Track', 'Duro De Verdad pt.2', 'REAL GANGSTA LOVE', 'LA REINA', 'Unknown Track', 'El Conjuntito', 'Unknown Track', 'Unknown Track', 'Unknown Track', 'Árbol', 'Reza por Mi', 'Unknown Track', 'de la primavera', '¡Ay, Paquita! - Performed by ROSALÍA', 'La quiero a morir', 'De Fiesta Hasta La Madrugá', 'Unknown Track', '19 Dias y 500 Noches', 'Young Hearts Run Free', 'Que Volen Aquesta Gent?', 'Unknown Track', 'Unknown Track', 'Unknown Track', 'Y QUÉ BONITO', 'Unknown Track', 'Unknown Track', 'Una Foto en Blanco y Negro', 'Insoportable', 'Unknown Track', 'El Doble', 'Unknown Track', 'Unknown Track', 'LA MARINA STA MORENA', 'Tu Silueta', 'Unknown Track', 'Diamonds And Rust', 'Pink Moon', 'El Eterno Femenino', 'Amable', '2-Sep-2000', 'El Tucán', 'Dos Científicos', 'Nada Más', 'Cuéntame Cosas Tuyas', 'Suerte y Relámpago', 'Suerte y Relámpago', 'Hacia el huracán', 'Reich: Six Pianos - Mr Scruff Rework', \"Don't You Want Me\", 'Unknown Track', 'Unknown Track', 'I Feel a Change', 'Unknown Track', 'Mirarte', 'Pedindo perdón', 'relevante', 'Mamá, No Quiero Ir al Colegio', 'Unknown Track', 'Viaje A Los Sueños Polares', 'Unknown Track', 'haz lo que quieras conmigo', 'Hold On - Remastered 2010', 'Bruises', 'LA MARINA STA MORENA', 'Unknown Track', 'Si Antes Te Hubiera Conocido', 'Me has invitado a bailar', 'Unknown Track', 'Die With A Smile', 'Unknown Track', 'Más Madera', \"El respland'Or\", 'La Pena Capital', 'Nuestra Especialidad', 'Thin Air', 'Unknown Track', 'Souvenirs', 'Unknown Track', 'A T A R A X I A', 'Ajedrez', 'Unknown Track', 'Granja escuela', 'Curar las Heridas', 'Trastos', 'Temerario - Acústico', 'Unknown Track', 'Mazo', 'la raíz', 'Unknown Track', 'Unknown Track', 'Unknown Track', 'Duro De Verdad pt.2', 'REAL GANGSTA LOVE', 'Unknown Track', 'UWAIE', 'Amusement', 'A Veces Golpes', 'Unknown Track', 'Unknown Track', 'Unknown Track', 'Unknown Track', 'Unknown Track', 'Todo cambia', 'No me importa nada', 'Unknown Track', 'Olvidé Olvidarte', 'Uno X Uno', 'Soldadito marinero', 'Unknown Track', 'Unknown Track', 'Duro De Verdad pt.2', 'LA MARINA STA MORENA', 'Omega (feat. Ralphie Choo)', 'Unknown Track', 'The Emptiness Machine', 'Me has invitado a bailar', 'A Flor de Piel', 'Unknown Track', 'Verano Siberiano', 'Neverender - Kaytranada Remix', \"She's a Mystery\", 'Me Gusta Ser una Zorra', 'Suerte y Relámpago', 'Viaje A Los Sueños Polares', 'Voy a Aterrizar', 'Casanova', 'Bombtrack', 'Picasso', 'To Know Your Mission', 'Un Gesto Brillante', 'If You Leave It Alone', 'Peppermint Taste', 'Unknown Track', 'Unknown Track', 'Unknown Track', 'Last Nite', 'Unknown Track', 'Unknown Track', 'Fake Palindromes', 'Million Dollar Baby', 'Unknown Track', 'El Sol Está Mojado', 'Ponme', 'Rumba en Cahuita', 'Caparazón', 'Wildfires', 'Gronlandic Edit', 'Harder Than You Think', 'When the Shit Goes Down', 'ooh la la (feat. Greg Nice & DJ Premier)', 'Hits from the Bong', 'Barquito de Vela', 'Unknown Track', 'Unknown Track', 'Unknown Track', 'Kinda Fantastic', 'Quiet Town', 'Do as I Want', 'Océano - Sesión en Directo', 'La Sandunguera', 'El político neoliberal', 'Aunque No Seas Virgen', 'Portugal', 'On Melancholy Hill', 'Railroad Man', 'Unknown Track', 'Tocotó', 'Me Encanta', 'Unknown Track', 'SI ELLA SUPIERA', 'LA PLAYA', 'Diablo', 'Unknown Track', 'Que Puedo Hacer', 'Hyde Park', \"joycelyn's dance\", 'Back On 74', 'GMF', 'Asc. Scorpio', 'So Good at Being in Trouble', 'If You Want Me to Stay', 'I Heard It Through The Grapevine', 'Who Ha? (feat. J. Ivy)', \"If You Don't Want My Love\", 'Good to Go!', 'Unknown Track', 'Unknown Track', 'Noche en la Montaña', 'Dream With You', \"I Don't Think You're Ready\", 'TOMÉ CAFÉ', 'Normal', 'Pictures of You', \"I'm Still In Love With You\", 'Dios Plan', 'Pictures of You', 'Lazuli', 'Ghost Walk', 'El imperio contraataca', 'El imperio contraataca', 'El imperio contraataca', 'Archie, Marry Me', \"If You Don't Want My Love\", 'Alexander Hamilton', 'Take a Break', 'Unknown Track', 'Unknown Track', 'Dancing Is The Best Revenge', 'Rock Steady', 'Reproches', 'Lose You Now', 'El Invento', 'Una Excusa Diferente', 'Todos Tenemos Cosillas', 'Supermodelo', 'Todos Tenemos Cosillas', 'Supermodelo', 'I Want A Pair Of Cowboy Boots', 'arghHhh!', 'Si Piensas en Mí', 'Llorando En La Limo', 'Marta, Sebas, Guille y los demás', 'Cambios de Humor', 'Oro', 'Todo Bien', 'Ley de la gravedad', 'Ley de la gravedad', 'Todo Bien', 'La Emoción y los Sentidos', 'Domingo Especialmente Triste', 'Un sentimiento importante', 'Spaghetti', 'Elige Tu Propia Aventura', 'Tempo 2', 'Dios Plan', 'Corrientes Circulares En El Tiempo', 'Unknown Track', 'Unknown Track', 'Unknown Track', 'Granaíco', 'Todas Las Horas', 'Lejos de Más', 'Unknown Track', 'Unknown Track', 'Ácido hialurónico', 'Eres Mutante', 'La Piscina', 'Al Final', 'Aaron Burr, Sir', 'MALAMENTE - Cap.1: Augurio', \"I Don't Want to Get Over You\", 'Veridis Quo', \"I Don't Want to Get Over You\", 'Veridis Quo', 'I Thought of You Again', 'Tonight We Fly', 'Suicide Policeman', 'Love is All', 'The Weight', 'Una Excusa Diferente', 'We Will Become Silhouettes - Remastered', 'The Perfect Space', 'Vámonos - Versión Dúo', 'Winter in the Hamptons', \"Boys Don't Cry\", 'Spooky', 'Lost In The Light', 'Nancy From Now On', 'Such Great Heights - Remastered', \"I've Been In Love\", 'May Ninth', 'te vas // don’t go', 'i hope she loves me back', 'L.A. Is My Lady - 2024 Mix', \"Somethin' Stupid\", \"That's Life\", 'If I Ever Feel Better']\n"
     ]
    }
   ],
   "source": [
    "def songs_under_5(spotify):\n",
    "    songs_under_5_list = []\n",
    "    for song in spotify:\n",
    "        seconds = song['msPlayed'] / 1000\n",
    "\n",
    "        if seconds < 5:\n",
    "            songs_under_5_list.append(song['trackName'])\n",
    "    return songs_under_5_list\n",
    "\n",
    "print(songs_under_5(spotify))"
   ]
  },
  {
   "cell_type": "markdown",
   "metadata": {},
   "source": [
    "## Exercise 11\n",
    "\n",
    "What's the hour of the day when I listen to music the most?"
   ]
  },
  {
   "cell_type": "code",
   "execution_count": 43,
   "metadata": {},
   "outputs": [
    {
     "name": "stdout",
     "output_type": "stream",
     "text": [
      "{0, 1, 2, 3, 4, 5, 6}\n",
      "19 169546.72972972973\n"
     ]
    }
   ],
   "source": [
    "hour_average = {}\n",
    "unique_hours = set(song['hour'] for song in spotify)\n",
    "print(unique_days)\n",
    "\n",
    "for hour in unique_hours:\n",
    "    times = []\n",
    "    \n",
    "    for song in spotify:\n",
    "        song_hour = song['hour']\n",
    "        time = song['msPlayed']\n",
    "        if song_hour == hour:\n",
    "            times.append(time)\n",
    "        else:\n",
    "            continue\n",
    "        \n",
    "        \n",
    "    \n",
    "    average = sum(times) / len(times)\n",
    "    hour_average[hour] = average\n",
    "\n",
    "max_hour = max(hour_average, key = hour_average.get)\n",
    "print(max_hour, hour_average[max_hour])"
   ]
  },
  {
   "cell_type": "markdown",
   "metadata": {},
   "source": [
    "## Exercise 12\n",
    "\n",
    "Create two functions:\n",
    "\n",
    "- `dates_played_artist`: receives an artist's name and returns a list with all the dates in which I've listened to that artist.\n",
    "- `span_artist`: receives an artist's name and returns the span of time between the first and the last time I've listened to that artist, using `dates_played_artist`.\n",
    "\n",
    "Create a dictionary with the artist's name as key and the span of time as value, in days."
   ]
  },
  {
   "cell_type": "code",
   "execution_count": 53,
   "metadata": {},
   "outputs": [
    {
     "name": "stdout",
     "output_type": "stream",
     "text": [
      "[datetime.date(2023, 11, 14), datetime.date(2023, 11, 14), datetime.date(2023, 11, 14), datetime.date(2023, 11, 14), datetime.date(2023, 11, 14)]\n"
     ]
    }
   ],
   "source": [
    "def dates_played_artist(artist_name, spotify):\n",
    "    dates_played = []\n",
    "\n",
    "    for song in spotify:\n",
    "        artist = song['artistName']\n",
    "        date = song['date']\n",
    "        if artist_name == artist:\n",
    "            dates_played.append(date)\n",
    "        else:\n",
    "            continue\n",
    "\n",
    "    return dates_played\n",
    "\n",
    "print(dates_played_artist('Eminem', spotify))"
   ]
  },
  {
   "cell_type": "code",
   "execution_count": 55,
   "metadata": {},
   "outputs": [
    {
     "name": "stdout",
     "output_type": "stream",
     "text": [
      "354 days, 0:00:00\n"
     ]
    }
   ],
   "source": [
    "def span_artist(artist_name, spotify):\n",
    "    dates = dates_played_artist(artist_name, spotify)\n",
    "    max_date = max(dates)\n",
    "    min_date = min(dates)\n",
    "    span = max_date - min_date\n",
    "    return span\n",
    "\n",
    "print(span_artist('Mujeres', spotify))"
   ]
  },
  {
   "cell_type": "markdown",
   "metadata": {},
   "source": [
    "## Exercise 13\n",
    "\n",
    "For each artist, what's the ratio of songs that I've listened to for more that 10 s to the total number of songs I've listened to from that artist?\n",
    "\n",
    "For example, if I've listened to 10 songs from artist A, and 3 of them have been listened to for more than 10 s, the ratio is 0.3."
   ]
  },
  {
   "cell_type": "code",
   "execution_count": 64,
   "metadata": {},
   "outputs": [
    {
     "name": "stdout",
     "output_type": "stream",
     "text": [
      "{'Haddaway': 1.0, 'Biznaga': 0.8461538461538461, 'Giggs': 0.8571428571428571, 'Bugseed': 0.8666666666666667, 'Cleo Sol': 0.875, 'Cecilio G.': 0.8235294117647058, 'Whitney': 0.7666666666666667, 'Will Smith': 0.7741935483870968, 'Chico Buarque': 0.8108108108108109, 'Lighthouse Family': 0.8157894736842105, 'Frank Sinatra': 0.803030303030303, 'Lykke Li': 0.7857142857142857, 'The Pioneers': 0.7922077922077922, 'Andrés Calamaro': 0.7816091954022989, 'India Martinez': 0.7727272727272727, 'Leif Vollebekk': 0.7752808988764045, 'Wolf Alice': 0.776595744680851, 'The Aggrovators': 0.7878787878787878, 'Sharon Van Etten': 0.7941176470588235, 'Michael Kiwanuka': 0.794392523364486, 'marián': 0.7981651376146789, 'Ondatrópica': 0.8, 'Sweeps': 0.8018018018018018, 'Cabaret Voltaire': 0.8035714285714286, 'Reality': 0.7964601769911505, 'Lluis Llach': 0.7982456140350878, 'The Kinks': 0.7931034482758621, 'FERNANDO ALFARO': 0.8106060606060606, 'Eminem': 0.8175182481751825, 'Rockers All Stars': 0.8231292517006803, 'Herman Chin Loy': 0.8266666666666667, 'Sexy Zebras': 0.8278145695364238, 'Bobby Tank': 0.8289473684210527, 'Mala Rodríguez': 0.8300653594771242, 'Metallica': 0.8311688311688312, 'Brian Eno': 0.8395061728395061, 'Nolasco': 0.8343558282208589, 'Kyle Cook': 0.8402366863905325, 'Nadie Patín': 0.8457142857142858, 'Aiko el grupo': 0.8426395939086294, 'The 6ths': 0.8434343434343434, 'Tiwony': 0.84, 'Soda Stereo': 0.8407960199004975, 'Velocista': 0.8423645320197044, 'Thandii': 0.8398058252427184, 'The Parrots': 0.8349056603773585, 'The Drums': 0.8372093023255814, 'MARINA': 0.8333333333333334, 'Hiatus Kaiyote': 0.8264840182648402, 'SFDK': 0.8470149253731343, 'Monster Rally': 0.8535714285714285, 'Rusos Blancos': 0.8637602179836512, 'FaltyDL': 0.8648648648648649, 'Paul Simon': 0.8671679197994987, 'Stark Sands': 0.8675, 'The Smiths': 0.8744292237442922, 'Peter, Paul and Mary': 0.8696629213483146, 'Kinny': 0.8699551569506726, 'Miss Caffeina': 0.8702460850111857, 'Colectivo Da Silva': 0.8698481561822126, 'Mike Slott': 0.869098712446352, 'Terrace Martin': 0.8693790149892934, 'Charley Crockett': 0.8696581196581197, 'DEADLETTER': 0.8699360341151386, 'Mk.gee': 0.8702127659574468, 'Mercromina': 0.8713692946058091, 'Les Fils De Joie': 0.8716356107660456, 'Crumb': 0.8737270875763747, 'Steve Miller Band': 0.875, 'Abraham Mateo': 0.8732673267326733, 'Xanguito': 0.8715415019762845, 'JJ Grey & Mofro': 0.8717948717948718, 'LA Priest': 0.8720472440944882, 'The Journeymen': 0.8709055876685935, 'Anna & Elizabeth': 0.8711538461538462, 'De Ambassade': 0.8714011516314779, 'The Magnetic Fields': 0.8847262247838616, 'Ben Folds Five': 0.8848920863309353, 'Jamiroquai': 0.8904109589041096, '84': 0.8891928864569083, 'Lucas 15': 0.8869448183041723, 'Jah Free': 0.8873994638069705, 'Zac Brown Band': 0.8877005347593583, '10 Ft. Ganja Plant': 0.8882978723404256, 'Yuka Kitamura': 0.8885941644562334, 'Delfi Moore': 0.8874172185430463, 'Viva Suecia': 0.8872870249017037, 'Musique De La Garde Républicaine': 0.887434554973822, 'Venturi': 0.8865710560625815, 'Kwengface': 0.88671875, 'Mumford & Sons': 0.8873056994818653, 'GusGus': 0.8867438867438867, 'Eddie Vedder': 0.8856041131105399, 'Ahmed Malek': 0.8857509627727856, 'Good Morning': 0.8860435339308579, 'Iron & Wine': 0.8835192069392813, 'Negre': 0.8824257425742574, 'Brian Wilson': 0.8827751196172249, 'Nakar': 0.8829151732377539, 'Gitkin': 0.883054892601432, 'Web Web': 0.8820023837902264, 'Max Romeo': 0.8821428571428571, 'Derribos Arias': 0.882282996432818, 'The Monkees': 0.8804733727810651, 'Depresión Sonora': 0.8810365135453475, 'Colin Blunstone': 0.8811764705882353, 'shego': 0.8843995510662177, 'Still Woozy': 0.883538633818589, 'TQD': 0.8825503355704698, 'Post Malone': 0.8815642458100559, 'Mogwai': 0.8798665183537263, 'Solomon Zu': 0.8788888888888889, 'Pierre Cavalli': 0.8790233074361821, 'Lola Flores': 0.8780487804878049, 'VITTARA': 0.8781838316722038, 'FERNANDOCOSTA': 0.8772123893805309, 'Lata Mangeshkar': 0.8773480662983425, \"Booker T. & the M.G.'s\": 0.8774834437086093, 'Yo La Tengo': 0.8778625954198473, 'Lake Street Dive': 0.8787878787878788, 'Gabry Ponte': 0.8790496760259179, 'Boski': 0.8791801510248112, 'LCD Soundsystem': 0.8778947368421053, 'Me Fritos and the Gimme Cheetos': 0.8760504201680672, 'Asobi Seksu': 0.8761804826862539, 'MGMT': 0.8762993762993763, 'Kate Bollinger': 0.8766839378238342, 'Johnny Nash': 0.8768115942028986, 'Drug Cabin': 0.87782340862423, 'Land of Giants': 0.877948717948718, 'Marcus King': 0.885308056872038, 'Folamour': 0.882186616399623, 'Smash': 0.8806390977443609, 'The Wailers': 0.8808630393996247, 'Lady Gaga': 0.880037488284911, 'Massive Attack': 0.8810810810810811, 'Jacob Miller': 0.8825088339222615, 'Desmond Dekker & The Aces': 0.881729920564872, 'Tom Petty and the Heartbreakers': 0.8820422535211268, 'Wadi Gad': 0.882145998240985, 'Monolink': 0.8822495606326889, 'Yard Act': 0.8823529411764706, 'Eels': 0.88379705400982, 'Donna Summer': 0.8830744071954211, 'Mulatu Astatke': 0.8827751196172249, 'Prozac+': 0.8828685258964143, 'The Kingston Trio': 0.8829617834394905, 'Airbag': 0.8833333333333333, 'JAY-Z': 0.8834258524980174, 'Arde Bogotá': 0.88300395256917, 'Nightmares On Wax': 0.8830963665086888, 'Smog': 0.8823993685872139, 'La Paloma': 0.8825847123719465, 'Pokey LaFarge': 0.8827694728560189, 'Ebo Taylor': 0.8828616352201258, 'Unknown Artist': 0.7155499367888748, 'El Columpio Asesino': 0.7169459962756052, 'Califato ¾': 0.7190184049079754, 'Herman Düne': 0.7181372549019608, 'Trueno': 0.7168195718654434, 'DON WEST': 0.7171655467318265, 'Los Claveles': 0.7205528846153846, 'NEIL FRANCES': 0.7232142857142857, 'Embusteros': 0.7233789411064843, 'Fyfe Dangerfield': 0.7235434007134364, 'Los Acústicos': 0.7240356083086054, 'Robohands': 0.7241992882562278, 'Biela': 0.7237700059276823, 'Earth, Wind & Fire': 0.7239336492890995, 'Kamasi Washington': 0.7242603550295857, 'Thelonious Monk': 0.7244234180958014, 'Milo Mills': 0.7245862884160756, 'Louis Cole': 0.7241582988777319, 'Elvis Presley': 0.7253521126760564, 'Glass Beams': 0.7263157894736842, 'Jorge Drexler': 0.7258912916423145, 'The Tallest Man On Earth': 0.7260591990713872, 'Mad People': 0.7257971014492753, 'Stan Getz': 0.7255356108859293, 'Chicano Batman': 0.7282110091743119, 'The Innocence Mission': 0.7283667621776504, 'Manu Chao': 0.7292975442604226, 'Myd': 0.7294520547945206, 'MERINO': 0.7283599088838268, 'Enol': 0.7279453614114969, 'Mick Jenkins': 0.7282546901648664, 'Marcia Aitken': 0.7283531409168081, 'Mujo': 0.7285067873303167, 'TRIBEZ.': 0.7286602600339175, 'Jesse Woods': 0.7291196388261851, 'Señor Coconut': 0.7292724196277496, 'Jefferson Airplane': 0.7294250281848929, 'The Human League': 0.7300785634118967, 'The Decemberists': 0.7302299495232754, 'Los Bitchos': 0.7322616407982262, 'Bert Jansch': 0.7325581395348837, 'Sparklehorse': 0.7330016583747927, 'Maycash': 0.7332965212589729, 'Phil Oakey': 0.7328918322295805, 'Little Anthony & The Imperials': 0.7324875896304468, 'Crystal Fighters': 0.7323788546255506, 'Fito y Fitipaldis': 0.7303679297089511, 'Kokoroko': 0.7305159165751921, 'Niña Polaca': 0.7306010928961748, 'INXS': 0.730349344978166, 'Edredon': 0.7307901907356948, 'James Vincent McMorrow': 0.7303921568627451, 'Claude Debussy': 0.7308319738988581, 'Gábor Ladányi': 0.7304347826086957, 'Loli Molina': 0.730581205866377, 'Kid Loco': 0.7307274701411509, 'Primogénito López': 0.7303309820944113, 'The Fratellis': 0.7304772234273319, 'Kelpe': 0.7306233062330624, 'Tommy McCook': 0.7319309600862999, 'Kase.O': 0.7319698600645855, 'Marion Black': 0.7321140398063475, 'B.J. Thomas': 0.7334401709401709, 'Peter Frampton': 0.7331910352187834, 'Gianni Ferrio': 0.7333333333333333, 'Bakar': 0.7336174746936601, 'The English Beat': 0.7337593184238551, 'Pony Bravo': 0.7355718782791185, 'Starship': 0.7358490566037735, 'The Roots': 0.7360167276529012, 'The Beaches': 0.7361546499477534, 'R. Kelly': 0.7362924281984334, 'Syl Johnson': 0.7367049009384776, 'Fleetwood Mac': 0.7366255144032922, 'Marcus Mumford': 0.7366529774127311, 'Bensy': 0.736788096459723, 'Augustus Pablo': 0.7412935323383084, 'Ezéchiel Pailhès': 0.7415506958250497, \"Scott Bradlee's Postmodern Jukebox\": 0.741679085941381, 'yes I M': 0.7418073485600795, 'Julia Holter': 0.741439205955335, 'Cesária Evora': 0.7415674603174603, 'Tall Juan': 0.7411998016856718, 'Stanley Brinks and The Wave Pictures': 0.740832507433102, 'Lori Meyers': 0.7418558736426456, 'Leon Bridges': 0.7419832264430193, 'DubXanne': 0.7423645320197044, 'TourJets': 0.741999015263417, 'yeyts.': 0.7421259842519685, 'BODEGA': 0.7422528283325135, 'Oscar Isaac': 0.7421414538310412, 'Bart Davenport': 0.7423945044160942, 'Rhythm & Sound': 0.7425208435507602, 'Kyle Daniel': 0.7426470588235294, 'Ryuichi Sakamoto': 0.7427731504164625, 'Miami Horror': 0.7430249632892805, 'Sheryl Crow': 0.7431506849315068, 'Parker Millsap': 0.7432762836185819, 'Love': 0.74365234375, 'Keith & Tex': 0.7437774524158126, 'David Otero': 0.7434146341463415, 'IDLES': 0.7449078564500485, 'Redbone': 0.7450315075133301, 'Nubiyan Twist': 0.7451550387596899, 'Arcade Fire': 0.7484777517564403, 'Clarence \"Frogman\" Henry': 0.74812734082397, 'Eddie Palmieri': 0.7482452035563875, 'Sam & Dave': 0.7478952291861553, 'Razorlight': 0.748013090229079, 'The Bahama Soul Club': 0.7481308411214953, 'The xx': 0.7483751160631383, 'Caribou': 0.7482614742698191, 'The Mother Truckers': 0.7480314960629921, 'Maria del Mar Bonet': 0.7476851851851852, 'Els Amics De Les Arts': 0.7473391948172142, 'Figa Flawas': 0.7442396313364056, 'Marvin Gaye': 0.7437902483900644, 'Mikey Dread': 0.7444954128440368, 'Royel Otis': 0.7463570127504554, 'Jeff Buckley': 0.7497781721384206, 'Fabián Iurino': 0.7494456762749445, 'GABRIELLE': 0.7495567375886525, 'The California Honeydrops': 0.75, 'All Saints': 0.7501105705440071, 'Camila Buch': 0.7502210433244916, 'levitation room': 0.7503314184710561, 'Röyksopp': 0.7531617967727867, 'Pulp': 0.7539130434782608, 'Boards of Canada': 0.7543402777777778, 'Aroah': 0.7538994800693241, 'Okkervil River': 0.7538927335640139, 'Hank Levy': 0.7535667963683528, 'Christopher Jackson': 0.7542043984476067, 'Niza': 0.7543103448275862, 'Magnetic Ensemble': 0.7544161999138302, 'Störung': 0.7548387096774194, 'Willie Nelson': 0.7556696619597775, 'Mafia & Fluxy': 0.7562953478446436, 'Wun Two': 0.7560767590618337, 'LP Giobbi': 0.7557544757033248, 'Benjamin Britten': 0.755858542820622, 'Soul Syndicate': 0.756687898089172, 'Luz Casal': 0.7563667232597623, 'Stephin Merritt': 0.7564700890963089, 'Villagers': 0.7566765578635015, 'Alex Turner': 0.7563559322033898, 'Bob Andy': 0.7574862927035007, 'Galgo Diamante': 0.7575885328836425, 'Raul Seixas': 0.7576906868942267, 'Junior Murvin': 0.7582001682085786, 'Oilix': 0.7583018074821354, 'John Wasson': 0.7584033613445378, 'Penny & The Quarters': 0.758504829903402, 'DijahSB': 0.7587075115400755, 'Chet Atkins': 0.7588087248322147, 'Papas Fritas': 0.7591118558860495, 'Robert Plant': 0.759212730318258, 'Kassa Overall': 0.7593135203013813, 'Emilia, Pardo y Bazán': 0.7594142259414226, '¿Téo?': 0.7599164926931107, 'Okvsho': 0.760016694490818, 'Peter Tosh': 0.7603167986661109, 'Ken Boothe': 0.7604166666666666, 'Crosby, Stills & Nash': 0.760715771951727, 'Emapea': 0.7604989604989605, 'Eek-A-Mouse': 0.7605985037406484, 'Detergente Líquido': 0.7606979642708767, 'Sumac Dub': 0.7612929962702031, 'Walls': 0.7610766045548655, 'Hot Chip': 0.7614716825134353, 'Norah Jones': 0.761668731928955, 'Louis Futon': 0.7620618556701031, 'Ante': 0.7621599340478153, 'Juana Aguirre': 0.7618459002884219, 'Elton John': 0.7630932896890343, 'Pixies': 0.7626016260162601, 'Tijuana No!': 0.7627944760357434, 'Lily Fitts': 0.7624847746650426, 'Stevie Wonder': 0.7628698824483178, 'Yussef Dayes': 0.7617313915857605, 'Las Grecas': 0.7619240097008892, 'Twenty One Pilots': 0.7616161616161616, 'Joan Baez': 0.7613085621970921, 'Baiuca': 0.7615974183138362, 'Tom Misch': 0.7621730382293762, 'Badflower': 0.7622687047465808, 'Silver Jews': 0.7623642943305187, 'Roberto Fonseca': 0.762459807073955, 'Aerolineas Federales': 0.7622489959839357, 'Jamie xx': 0.7623444399839422, 'Chromeo': 0.7624398073836276, 'The New Raemon': 0.7625350982751705, 'Grande Amore': 0.7620951619352259, 'Weyes Blood': 0.7621902478017586, 'Sting': 0.7623801916932907, 'Junior Byles': 0.7628537265842965, 'Abraham Boba': 0.7630426125049781, 'La Trinidad': 0.7633253778838505, 'Harold López-Nussa': 0.7634194831013916, 'Talking Heads': 0.7637013502779985, 'Joesef': 0.7637951568082573, 'Cómo vivir en el campo': 0.7637732857709076, 'Leiva': 0.7634706814580031, 'Seu Jorge': 0.7636579572446556, 'Oracle Sisters': 0.7643587726199843, 'Scouting For Girls': 0.7644514353126229, 'Hombres G': 0.7645440251572327, 'Fontaines D.C.': 0.7648213584609345, 'Paraíso': 0.7649136577708007, 'The Jamaicans': 0.7650058846606512, 'Gotts Street Park': 0.7656494522691706, 'Galt MacDermot': 0.765741102854908, 'Freddie McGregor': 0.7658326817826427, 'Scientist': 0.7669260700389106, 'Coldplay': 0.7663297045101088, 'Arthur Verocai': 0.7666666666666667, 'Edward Sharpe & The Magnetic Zeros': 0.7667560321715817, 'Yusuf / Cat Stevens': 0.7674153026265702, 'Dream Warriors': 0.767503805175038, 'The Essex Green': 0.7681214421252371, 'Mansun': 0.7678300455235205, 'Broken Social Scene': 0.7678909503975767, 'John Lennon': 0.7679516250944822, 'El Michels Affair': 0.7677492447129909, 'Daniel Johnston': 0.7678369195922989, 'Black Roots': 0.7680120709166353, 'airu': 0.7678100263852242, 'Jah Butty': 0.7680722891566265, 'Joy Division': 0.7677832141512985, 'Bob Dylan': 0.7681647940074906, 'Justin Hurwitz': 0.7682515911643579, 'Kapo': 0.7676767676767676, 'Malted Milk': 0.7677636499626028, 'Dr. Alimantado': 0.7677972418934029, 'The Band': 0.7682339874120696, 'Ray Charles': 0.768319763138416, 'Arc De Soleil': 0.7765164952110678, 'Jorge Autuori': 0.776595744680851, 'James Brown': 0.7763997165131112, 'L Kan': 0.7764789231314205, 'Richie Havens': 0.7765580736543909, 'Don McLean': 0.7772294677476207, 'The Avett Brothers': 0.7768014059753954, 'Spoon': 0.7769582016157358, 'La Bien Querida': 0.7760252365930599, 'Zach Bryan': 0.7758318739054291, 'Keith Hudson': 0.7766143106457243, 'Jack White': 0.7763433356594557, 'Blackalicious': 0.7764993026499303, 'Bryce Dessner': 0.7765772046009063, 'Los Suaves': 0.7766550522648084, 'Thee Sacred Souls': 0.7770434782608696, 'Campo Grande': 0.7771210013908206, 'Lionel Richie': 0.7771984706291276, 'Public Enemy': 0.7770833333333333, 'Destroyer': 0.7775086505190312, 'Mongo Santamaria': 0.7775856105153925, 'Sly & The Family Stone': 0.7775474956822107, 'The Avalanches': 0.7776243093922652, 'TOTO': 0.7777010700724888, 'José González': 0.7777394900068918, 'BERWYN': 0.7778160523596279, 'The Wedding Present': 0.7775482093663911, 'Jah Thomas': 0.7777013076393668, 'Burning Spear': 0.7779300891021247, 'Alabama Shakes': 0.7800134138162307, 'Tal Bachman': 0.7800871605766008, 'XWaves': 0.7801608579088471, 'Venga, Bea': 0.7802345058626465, 'Richard Houghten': 0.7803081044876088, 'Moses Gunn Collective': 0.7798594847775175, 'The Specials': 0.7821913273750414, 'Willie Bobo': 0.7820767195767195, 'Charles & Eddie': 0.7821487603305786, 'Diddy': 0.7822207534699273, 'Sam Cooke': 0.7819623389494549, 'Vicco': 0.7820343461030383, 'Foals': 0.7821063057114559, 'Robert Glasper': 0.7821782178217822, 'Madness': 0.7822500824810293, 'Menahan Street Band': 0.7833935018050542, 'The Heavy Heavy': 0.7834645669291339, 'Zoé': 0.7835355854378485, 'Crayon': 0.7836065573770492, 'Diplomats of Solid Sound': 0.783677482792527, 'Jarboe': 0.7838899803536346, 'Linton Kwesi Johnson': 0.7843841881737994, 'Moderat': 0.7844546048334422, 'Hollie Cook': 0.7845249755142018, 'Kora': 0.7845953002610966, '2nd Exit': 0.7846655791190864, 'Mamá': 0.784805999347897, 'Camaron De La Isla': 0.7845753335502766, 'David Bowie': 0.7859897172236504, 'Renée Elise Goldsberry': 0.7862644415917843, 'St. Paul & The Broken Bones': 0.7864700224430907, 'Mikel Erentxun': 0.7865384615384615, 'Weezer': 0.7861216730038023, 'Zenet': 0.7861894203357618, 'Africa Express': 0.7862571247625079, 'Sleepless': 0.7860082304526749, 'Johnny Blue Skies': 0.7858272698513129, 'Mitski': 0.7855787476280834, 'Antonio Vivaldi': 0.7857142857142857, 'Camera Obscura': 0.7876605073598497, 'Freedom Fry': 0.7877269881026926, 'Jet': 0.787793427230047, 'Wings': 0.7878598247809763, 'Nell Smith': 0.7879924953095685, 'Foo Fighters': 0.7880587683651141, 'Tame Impala': 0.7899571341090018, 'Washed Out': 0.7900214263850628, 'Edvard Grieg': 0.7907260524710189, 'Alice Phoebe Lou': 0.7907898749618786, 'KNEECAP': 0.7912355447352404, 'The Comet Is Coming': 0.7913625304136253, 'LA LOM': 0.7914893617021277, 'Dani Fernández': 0.7906553398058253, 'The Psychedelic Furs': 0.7907188353048226, 'Hercules & Love Affair': 0.790845710821461, 'Nino Bravo': 0.7909090909090909, \"Herman's Hermits\": 0.790972432596183, 'The Shins': 0.7929803688280785, 'Sweatson Klank': 0.7931649331352154, 'Voltorb': 0.7932263814616756, 'Pol Bordas': 0.792990792990793, 'LISA': 0.7928168596022559, 'Flipp Dinero': 0.7928783382789317, 'SOAK': 0.7926431326016019, 'Darondo': 0.7927046263345195, 'Martin Dupont': 0.7924696116217017, 'Paraiso': 0.7928994082840237, 'Cali Dubs': 0.7930218805440568, 'Taylor Swift': 0.7927874667454922, 'Ray LaMontagne': 0.7928486997635934, 'rusowsky': 0.7925139994105511, 'Sleigh Bells': 0.7922804949911608, 'Veintiuno': 0.792341678939617, 'Adriano Celentano': 0.7924028268551236, 'Thisizlondon': 0.7924639387695025, 'Zion Train': 0.7927080270508674, 'Super Diamono': 0.7937481741162723, \"Guyer's Connection\": 0.7939889115844763, 'T. Rex': 0.7939376275138443, 'Sonic Youth': 0.7943653790299158, 'Buika': 0.794425087108014, 'Josh Ritter': 0.7945443993035404, 'Kendrick Lamar': 0.7943138961415723, 'The Olympians': 0.7944331690345028, 'Submerse': 0.7944927536231884, 'Taken By Trees': 0.7945523036800928, 'Cypress Hill': 0.7942791100837908, 'Kings of Convenience': 0.7945165945165945, 'Delroy Wilson': 0.7946943483275664, 'Miguel Ríos': 0.7944652637647737, 'Lambchop': 0.7945244956772334, 'Chalart58': 0.7948201438848921, 'Charles Hedgepath': 0.7948791714614499, 'Cesco': 0.7949381650848433, 'Ayax y Prok': 0.7948275862068965, 'Johann Sebastian Bach': 0.7950631458094145, 'Lenny Kravitz': 0.7951219512195122, 'Hunters of the Alps': 0.7948938611589214, 'El Coleta': 0.7947548460661346, 'Natalia Lafourcade': 0.7945868945868946, 'Leslie Odom Jr.': 0.795177304964539, 'La Estrella de David': 0.7963953815826528, 'Lin-Manuel Miranda': 0.7969187675070029, 'El Mató a un Policía Motorizado': 0.7973801560758083, 'Allman Brothers Band': 0.797157982724993, 'Dry Cleaning': 0.7972144846796657, 'Elbow': 0.797270955165692, 'Jorge López Ruiz': 0.7973273942093542, 'The Sugarcubes': 0.7974401780745687, 'The Heptones': 0.7975528364849833, 'Pata Negra': 0.7976718403547672, 'Aerosmith': 0.7975069252077562, 'OJ Son': 0.7975630019385211, 'Mujeres': 0.8176552363299351, 'Error 97': 0.817697475098448, 'Blitzen Trapper': 0.8176770013882462, 'Vulfpeck': 0.8183494698017519, 'Alberto Pérez': 0.8182027649769585, 'Culture Club': 0.8182446440912232, 'TV On The Radio': 0.8180561953017043, 'Branland': 0.8178678332949574, 'Dusty Kid': 0.8179097605893186, 'The Vaselines': 0.81795166858458, 'Steel Pulse': 0.8182444852941176, 'Fujiya & Miyagi': 0.8182862393751436, 'The Weeknd': 0.8183069511355816, 'Os Mutantes': 0.8185982592762254, 'Greyhounds': 0.818639798488665, 'Neil Young': 0.8194002726033621, 'Los Ganglios': 0.8204784261122289, 'Crystal Waters': 0.8202950379973178, 'Prince Fatty': 0.8203351955307262, 'Vampire Weekend': 0.8204272363150867, 'Sebastian Yatra': 0.8204671857619578, 'La Habitación Roja': 0.8206268059568793, 'TLC': 0.8203419942260715, 'Autoescuela': 0.8203818827708703, 'Foster The People': 0.8204217536071032, 'David \"Fathead\" Newman': 0.8204616067465601, 'Elis Regina': 0.8205014422010206, 'dani dicostas': 0.8203194321206744, 'Lee Perry & The Upsetters': 0.8207171314741036, 'Toro y Moi': 0.8207964601769911, 'Van Morrison': 0.8228870932518016, 'La Luz': 0.8229257641921397, 'McKinley Dixon': 0.8229644182492906, 'Maestro Espada': 0.8227848101265823, 'Zenzile': 0.8229007633587786, 'Vera Fauna': 0.8243681140635126, 'Vaundy': 0.8241900647948164, 'Manasseh': 0.8243039067558817, 'Stars': 0.8243797195253506, 'Perro': 0.8244176013805005, 'kozebeats': 0.8244554668967005, 'Gillian Welch': 0.8244933160845191, 'The Limiñanas': 0.8245311489545161, 'Queen': 0.8243912949795302, \"Sergio Mendes & Brasil '66\": 0.8244669394787852, 'Hilts': 0.8245047372954349, 'The Isley Brothers': 0.8245425188374597, 'Shawn Mendes': 0.8243650452001722, 'Billie Marten': 0.8244783824478382, 'Ernest Ranglin': 0.824516129032258, 'Buhos': 0.8245538593850785, 'Ibiza House Classics': 0.8243766122098022, 'Los Marcianos': 0.82441435632925, 'Joe Goddard': 0.8244520842286206, 'Olivia Vedder': 0.8242749731471536, 'Sufjan Stevens': 0.8258462848626783, 'Bunny Wailer': 0.8258833546189868, 'Hermanos Gutiérrez': 0.8261146496815287, 'Tedeschi Trucks Band': 0.8260869565217391, 'La Maravillosa Orquesta del Alcohol': 0.825893801565475, 'Kae Tempest': 0.8266078184110971, 'Derby Motoreta’s Burrito Kachimba': 0.825879917184265, 'Bahamas': 0.8289872650090965, 'Fruit Bats': 0.8291599353796446, 'Alberttinny': 0.8291944276196245, 'Sheryl Lee Ralph': 0.829263370332997, 'Triángulo de Amor Bizarro': 0.8296890672016048, 'Maldita Nerea': 0.8295226634576816, 'Lee Moses': 0.8295568478042912, 'Summoning': 0.8295910184442662, 'Isabel Aaiún': 0.828926282051282, 'Danger Mouse': 0.8293413173652695, 'Albin Lee Meldau': 0.8292098962490024, 'Pablo Moses': 0.8292439656892081, 'Luisaker': 0.829078579976067, 'Azealia Banks': 0.8291126620139582, 'Hotsteppas': 0.829214826624153, 'IZAL': 0.8287193786098387, 'Loyle Carner': 0.8298040767860677, 'Bob Seger': 0.8300395256916996, 'The Flirtations': 0.8300731080814069, 'Nerve Agent': 0.829518547750592, 'The Buttertones': 0.8295521799171435, 'Michael Prophet': 0.8298542733359591, 'Mighty Diamonds': 0.8298877731836976, 'Mark Knopfler': 0.8299212598425196, 'Grizzly Bear': 0.8301219032638616, 'Extraño Weys': 0.8301552978179674, 'The Wave Pictures': 0.8329186602870814, 'David Byrne': 0.8329191359204741, 'Capital Letters': 0.832982992547296, 'Shakey Graves': 0.8330149025601834, 'The Jackson 5': 0.8328557784145176, 'Esbe': 0.8330789774895078, 'Johnny Cash': 0.833301653678008, 'Kacy & Clayton': 0.8333333333333334, 'Bill Withers': 0.8332066869300911, 'Slugabed': 0.8333649648889733, 'Le Mans': 0.8335227272727272, 'Incredible Bongo Band': 0.833554251088809, 'Ray Barretto': 0.8335857629685726, 'Nuberu': 0.8336487509462528, 'Barry Issac': 0.8338688338688338, 'Air': 0.8340857787810384, 'The Youngbloods': 0.8339289072785405, 'PREP': 0.8339601353892441, 'Blind Pilot': 0.8341160999436408, 'Architecture In Helsinki': 0.8341472577009768, 'Luis Cortés': 0.8339906103286385, 'Cory Wong': 0.8340840840840841, 'LA MILAGROSA': 0.8342376052385407, 'Nacho Umbert & la compañía': 0.8343305908750935, 'Los Enemigos': 0.8341746120770237, 'PUTOCHINOMARICÓN': 0.834018691588785, 'Cupido': 0.8340481074025732, 'Crash Course In Science': 0.8342026825633383, 'Cookin Soul': 0.8346339650687477, 'Bombay Bicycle Club': 0.8346646851198216, 'Mumm-ra': 0.8346953937592868, 'Jitwam': 0.8353681095079541, 'Dharmacide': 0.8355457227138643, 'Kate Nash': 0.8355760368663594, 'Alaska Y Dinarama': 0.8356669123065585, 'Elliott Smith': 0.8354779411764706, 'Al Green': 0.8353546490260934, 'Rodríguez': 0.8353848980341724, 'Aïda Samb': 0.8354151359294636, 'Underworld': 0.8355661589282437, 'Royal Philharmonic Orchestra': 0.8355963302752294, 'PJ Harvey': 0.8356264905521923, 'Mesita': 0.8357169050238357, 'Maga': 0.8362807657247038, 'Andrew Combs': 0.8363106088224571, 'Zé Nigro': 0.836340441042464, 'Supergrass': 0.8362775450737571, 'Led Zeppelin': 0.8361551064991808, 'KNOWER': 0.8358181818181818, 'Hey! Douglas': 0.8358480276313398, 'America': 0.8359020852221215, 'Los Iniciados': 0.8358695652173913, 'War': 0.8358992936062307, 'Rumer': 0.835929011227816, 'Soft Cell': 0.835988414192614, 'Broadcast': 0.835866811436844, 'Pedro LaDroga': 0.8357155780712864, 'Kitchen and the Plastic Spoons': 0.8355643994211288, 'Alvvays': 0.83632447954056, 'Patti Smith': 0.8362331838565022, 'The Divine Comedy': 0.8379996478253213, 'Carolina Durante': 0.8456014362657092, 'Trampled by Turtles': 0.8456769983686786, 'Sienna': 0.8457021693035394, 'Alexi Murdoch': 0.8457273320287019, 'Martirio': 0.8457524865481819, 'Eurythmics': 0.845639771801141, 'J': 0.845664928292047, 'Junior Delgado': 0.8457152166829586, 'Julee Cruise': 0.8457654723127036, 'Hugh Mundell': 0.8458407944001303, 'Gabriel Fauré': 0.8459160429547673, 'Ayuso': 0.8457784285017081, 'B.B. King': 0.8458035133376708, 'God Help The Girl': 0.8458285900146365, 'Rage Against The Machine': 0.8457913552161196, 'Prince': 0.8458664934221212, 'Mtbrd': 0.8459165448936515, 'El Pelos': 0.8458792991563919, 'Fela Kuti': 0.8454692556634305, 'Glass Animals': 0.8454942565927843, 'Manos De Topo': 0.8453740949316171, 'a-ha': 0.8453989703989704, 'Sly & The Revolutionaries': 0.8455480552876888, 'Biga*Ranx': 0.8455728748192191, 'Sr. Chinarro': 0.8463001109174457, 'Xosé Lois Romero': 0.8463244613434727, 'Future Utopia': 0.8462634578847372, 'Leroy Smart': 0.8462877948393225, 'CVRTOON': 0.8463364456401329, 'M-Beat': 0.8463607594936708, 'Tears For Fears': 0.8462268628381585, 'Çantamarta': 0.8462511863334388, 'Konteks': 0.8462755021350624, 'AronChupa': 0.8462998102466793, 'Nudozurdo': 0.8463969658659924, 'Polock': 0.8464212355822405, \"ADN' Ckrystall\": 0.8462875197472354, 'Brittany Howard': 0.846311799083873, 'Lady Wray': 0.8463603347544607, 'Kim Carnes': 0.8463845910956741, 'Mecano': 0.8464088397790055, 'Morrissey': 0.8465299684542587, 'Connan Mockasin': 0.8466267339218159, 'Black Rebel Motorcycle Club': 0.8465174913331233, 'Odetta': 0.8464325090565443, 'Manuel Carrasco': 0.8462992125984252, 'El Niño Gusano': 0.8466238445871848, 'The Pogues': 0.8466718872357087, 'Silver Apples': 0.8466958972752897, 'Young Jazz Giants': 0.8467198997964616, 'Israel Vibration': 0.8467438948027551, 'Pau Vallvé': 0.8467678822976992, 'Mark Ronson': 0.8467918622848201, 'Sergei Rachmaninoff': 0.846815834767642, 'Jackson Browne': 0.846875, 'NATHY PELUSO': 0.8467176048651177, 'Teebs': 0.84674150296227, 'Emerson, Lake & Palmer': 0.8467653936087295, 'OK Go': 0.84678927680798, 'Ariel Pink': 0.8466812090994079, 'Sidonie': 0.8468203620609625, 'Bay Ledges': 0.8468677494199536, 'DeVotchKa': 0.8467367769873183, 'The Motels': 0.8467604762641101, 'The Fearless Flyers': 0.8467841682127396, 'Nico': 0.8461182994454713, 'Dave Brubeck': 0.8461419990759279, 'Phillipa Soo': 0.8461301738729036, 'Peter Gabriel': 0.8461538461538461, 'The National': 0.8463425854930225, 'Ferran Palau': 0.8463661453541859, 'of Montreal': 0.8461774168837138, 'León Benavente': 0.84627162762211, 'Ezra Collective': 0.8465180207697006, 'Chucho': 0.8463887616429989, 'Rejjie Snow': 0.8464356586780645, 'The Congos': 0.8466463414634147, 'Itaca Band': 0.8465172991921963, 'DOPE LEMON': 0.8465519866037449, 'Estopa': 0.8464686268566233, 'El Palacio de Linares': 0.8465960665658093, 'Deerhunter': 0.846200332376492, 'ROSALÍA': 0.8460144927536232, 'Gentleman': 0.8460377358490566, \"D'J Roman\": 0.8459100513130093, 'Amaia': 0.8458056729028365, 'Ffenest': 0.8458521870286576, 'Ralphie Choo': 0.8456436539041302, 'Culture': 0.8456669178598342, 'Sly & Robbie': 0.8457134247400934, 'Gabinete Caligari': 0.845609278505799, 'The Civil Wars': 0.8456325301204819, 'SIE Sound Team': 0.845679012345679, 'Nirvana': 0.8455981941309255, 'Besmaya': 0.8454709599759254, 'Masego': 0.8454367764245978, 'SUICIDAL-IDOL': 0.8454600120264583, 'ENNY': 0.8454832406433188, 'Galician Army': 0.8455064622783288, 'Dennis Brown': 0.8457151433288309, 'Primal Scream': 0.8456114028507127, 'Bi-2': 0.8456577171141443, \"Sinéad O'Connor\": 0.8455540560803718, 'White Denim': 0.8455772113943029, 'Linear Movement': 0.8456697632604135, 'Violadores Del Verso': 0.8456928838951311, 'Tigres Leones': 0.8457510472770796, 'Generationals': 0.845716848557333, 'Dinosaur Jr.': 0.8458090542357687, 'Depeche Mode': 0.8457057505601195, 'Lola Indigo': 0.8450746268656717, 'Natalie Imbruglia': 0.8451208594449419, 'Jinsang': 0.8451670644391408, 'Johnny Osbourne': 0.8452132418729495, 'Xpansions': 0.8452363202624124, 'Marlon': 0.8451103160405486, 'Hemlock Ernst': 0.8451564828614009, 'Dover': 0.8450305468633587, 'Supersubmarina': 0.8448019064641048, 'Bilal': 0.844825018615041, 'Mushkaa': 0.844699225729601, 'Ikuko Harada': 0.8445734702992407, 'Dave Van Ronk': 0.8448275862068966, 'Borla': 0.8448506464556398, 'Σtella': 0.8446587537091989, 'Belle and Sebastian': 0.8474086906308648, 'Hefner': 0.8476601871850252, 'Adiós Amores': 0.8477040449114726, 'Yung Bae': 0.8475793707800603, 'Mr. Kilombo': 0.847457627118644, 'Stealers Wheel': 0.8475452196382429, 'vàlius': 0.847423568250323, 'Mini Mansions': 0.8474454649827784, 'Drake': 0.8474892395982784, 'Elvis Costello & The Imposters': 0.8475111174867307, 'Kabanjak': 0.8476204128440367, 'When In Rome': 0.8476422531173857, 'Kaños': 0.8476640871309831, 'Joan Miquel Oliver': 0.8476859148875197, 'Francisco Nixon': 0.8476830663615561, 'Souleance': 0.8477048477048477, 'Franz Schubert': 0.8477483917083631, 'Adriatique': 0.847770154373928, 'Kim Wilde': 0.8476489924253251, 'Quavo': 0.8476707630751643, 'Sambassadeur': 0.8474769012082445, 'Faces': 0.8475202501065795, 'Los Piratas': 0.8475852272727272, 'Lee Fields & The Expressions': 0.8474648487430763, 'Quantic': 0.8475081641346017, '!!!': 0.8472892421231905, 'The Libertines': 0.8473109124450121, 'Siempre Asi': 0.8473325766174802, 'NRBQ': 0.8473542346432118, 'Terry Callier': 0.8473758865248227, 'Zenit': 0.8477430309891043, 'Ladilla Rusa': 0.847786108360447, 'Yaya Bey': 0.847936687394008, 'Run The Jewels': 0.8478168715557439, 'Juice WRLD': 0.8476970895733258, 'Vulpes': 0.8475773414324057, 'The Flaming Lips': 0.8477586692979983, 'Joy Orbison': 0.8477801268498943, 'The School': 0.8478230238128787, 'Nicholas Britell': 0.8478444632290786, 'Camellos': 0.8484890878567432, 'Roots Radics': 0.8487430167597766, 'Clan of Xymox': 0.8485060039095225, 'Quentin Gas & Los Zíngaros': 0.8485271534273349, 'Nouvelle Vague': 0.8484298674110258, 'Hurray For The Riff Raff': 0.8484510186994139, 'Nosoträsh': 0.8480801335559266, 'La Costa Brava': 0.8475113746036123, 'Makaya McCraven': 0.8475323959194927, 'Tom Zé': 0.8472241355558617, 'Erik Satie': 0.847329295154185, 'Lips': 0.8473503097040606, 'Digable Planets': 0.847455295735901, 'Tomar and the FCs': 0.8474762756154587, 'Joe Cocker': 0.8474972497249725, 'Ricchi E Poveri': 0.8475182180668225, 'Bobby Womack': 0.8474436503573392, 'Home': 0.8474646145389584, 'Polanski y el Ardor': 0.8475065256216513, 'La Fúmiga': 0.8475274725274725, 'Las Ligas Menores': 0.8474320241691843, 'Beck': 0.8475367092081789, 'The Revolutionaries': 0.8475576289791438, 'Jah Melodie': 0.8475785430100151, 'Hajaj': 0.8476621417797888, 'Dionne Warwick': 0.8476830271455992, 'Lee \"Scratch\" Perry': 0.8477039067854695, 'Original Broadway Cast of Hamilton': 0.8478082191780822, 'Diegote': 0.8477129553546974, 'Lana Del Rey': 0.8481789660346474, 'Los Planetas': 0.848947862216861, 'Flashy Ice Cream': 0.8487203537451427, 'Futurisk': 0.8488418797697148, 'Daniel Pemberton': 0.8488621151271754, 'Novedades Carminha': 0.8492896029743726, 'Ihon': 0.8493096123207647, 'Aswad': 0.8493895966029724, 'Morgan': 0.8494095794082526, 'The Blaze': 0.8494295569116477, 'Volkan Konak': 0.8494495291152673, 'Michael Jackson': 0.8493368700265252, 'Model/Actriz': 0.8493967917274294, 'Bacao Rhythm & Steel Band': 0.8494167550371156, 'GHOSTWOMAN': 0.8494367130550033, 'Big Dee Irwin': 0.8494566657831963, 'Soulsister': 0.8494766132237975, 'Vezinos': 0.8494965553789083, 'Mel Gaynor': 0.8495164922506292, 'Editors': 0.8495364238410597, 'Capital Cities': 0.8494837172359015, 'Tachenko': 0.8490491803278688, 'Slimmah Sound': 0.8491283261240006, 'Prince Jazzbo': 0.8492073889689506, 'Al Safir': 0.8490961488079644, 'Yeasayer': 0.8491159135559921, 'Bon Jovi': 0.8490442524221, 'trentemøller': 0.8490640136143475, 'Estelares': 0.8490837696335078, 'Noelia Sanxz': 0.84897264755922, 'María José Llergo': 0.8489924103637791, 'Chicho Sánchez Ferlosio': 0.8490121679968599, 'Them': 0.8491108786610879, 'Jazz Liberatorz': 0.8491306053078834, 'Macross 82-99': 0.8491503267973857, 'Guided By Voices': 0.8493472584856396, 'Smile': 0.8493150684931506, 'The Sea and Cake': 0.8491328726039901, 'The Shadows': 0.8491525423728814, '107 Faunos': 0.8491722070134272, 'Matt Duncan': 0.8491474684368086, \"Aphrodite's Child\": 0.8491867273910215, 'Devendra Banhart': 0.8494609689570074, 'Toots & The Maytals': 0.8494805194805195, 'COFRESI': 0.8495196052973254, 'M-Clan': 0.8494093210437492, 'J.J. Cale': 0.8494288681204569, 'Shazuno': 0.8494484101232965, 'Manu Dibango': 0.8494679470542434, 'Tigre Ulli': 0.8494874789152719, 'freekind.': 0.8495070057083549, 'LUIS BREA': 0.8495403340670724, 'Rod Stewart': 0.8495598135680994, 'Antònia Font': 0.84957928802589, 'Stew & The Negro Problem': 0.8496182218195937, 'Nuyorican Soul': 0.8496376811594203, 'Sopa De Cabra': 0.8495277526200026, 'KT Tunstall': 0.8493079808562929, 'Queralt Lahoz': 0.8491981376099328, 'Extraperlo': 0.8492319607590035, 'Sandra Cross': 0.8492514197212184, 'Nacho Vegas': 0.8489790676768973, 'Drugdealer': 0.8502849905003167, 'Junior Parker': 0.8501962770672408, 'Yarea': 0.8502152443656622, 'Pablo All Stars': 0.8502910655530246, 'Yuck': 0.8502024291497976, 'Durand Jones & The Indications': 0.8502971298520673, 'Jarfaiter': 0.8503281171125694, 'The Rooftop Singers': 0.8502208201892745, 'Noname': 0.8504284274193549, 'Antônio Carlos Jobim': 0.8504472722691193, 'Teleman': 0.8502707467573354, 'Treesha': 0.8501825506735491, 'Monteavaro': 0.8503332914098856, 'Daryl Hall & John Oates': 0.8503897410108122, 'La Buena Vida': 0.8506379784838629, 'Bibio': 0.850656660412758, 'Mel Tormé': 0.8506753376688344, 'Jarabe De Palo': 0.8506063257907238, 'Zero 7': 0.8506436695413073, 'El Hombre Burbuja': 0.8510876320696085, 'Franz Ferdinand': 0.8511246427239966, 'Lin Cortés': 0.8509131569139023, 'Aaron Frazer': 0.8510981511353766, 'Valeria Castro': 0.8509925558312655, 'Mac Miller': 0.8510110408137949, 'Khruangbin': 0.8509621277117294, 'Julio de la Rosa': 0.8509986521259649, 'Elmiene': 0.8510169076206812, 'Estrella Fugaz': 0.8510351586426559, 'Bent': 0.8510534051935326, 'Vieux Farka Touré': 0.8510898848885623, 'Pernice Brothers': 0.8511445709389154, 'Peter Bjorn and John': 0.8512043037046093, 'The Waterboys': 0.8512224938875306, 'Candi Staton': 0.8511184451778511, 'Buddy Holly': 0.8511366414079687, 'Ivan Ave': 0.8511548331907614, 'Pastel Ghost': 0.8511730205278593, 'The Shangri-Las': 0.8511912034208918, 'Harold Budd': 0.8512093818714879, 'Carla Bruni': 0.8512275558812752, 'Odio París': 0.8511417755525705, 'Melike Şahin': 0.851037851037851, 'Grover Washington, Jr.': 0.8510560371139055, '*NSYNC': 0.85107421875, 'Quemarlo Todo Por Error': 0.8510923959477603, 'Dakota Theim': 0.851224564396247, 'JB Paterson': 0.8512426900584795, 'Connie Converse': 0.851278928136419, 'Jamie T': 0.8512970405553526, 'The Budos Band': 0.8513300133608648, 'Althea And Donna': 0.851402209542309, 'Mt. Joy': 0.8514923562242174, 'Tim Maia': 0.851336639651627, 'Vetusta Morla': 0.8511307292296529, 'Frankie Valli': 0.8513644047331562, 'Las Olas (Noispop)': 0.8513823493903175, 'Gizmo Varillas': 0.8515615579404316, 'La Casa Azul': 0.8516245487364621, 'George Harrison': 0.8517717717717718, 'Leo Kottke': 0.8517895748258467, 'Espanto': 0.8516654684878984, 'Templeton': 0.8516923812941036, 'MIlton Henry': 0.8517810184078413, 'Betacam': 0.8512949039264829, 'Tale Of Us': 0.8513126491646779, 'Leon Russell': 0.8513303901682376, 'Vicente Navarro': 0.8512288236697686, 'The Doors': 0.8511272814028391, 'Father John Misty': 0.852533488642982, 'Tank and The Bangas': 0.8526095548064628, 'Jungle Fire': 0.852510460251046, 'Adam Green': 0.8525484732381284, 'Pale Jay': 0.8529752257467006, 'Third World': 0.8528764903345295, 'Ronan Keating': 0.8529615918556224, 'Yuksek': 0.8529956049040018, 'Nas': 0.8529139685476411, 'Isla Mujeres': 0.8529309746791537, 'Canovas, Rodrigo, Adolfo Y Guzman': 0.8529479768786127, 'Wizkid': 0.8529649751473818, 'The Lemon Twigs': 0.853273397879207, 'U2': 0.8533072136436967, 'The Olivia Tremor Control': 0.8533241156815301, 'Channel Tres': 0.8531444367657222, 'Duncan Dhu': 0.8532120653925858, 'Bruce Springsteen': 0.8531814520768611, 'Samantha Mumba': 0.8530832949838932, 'Men At Work': 0.8531001955596457, 'Ganges': 0.8530020703933747, 'The War On Drugs': 0.8529411764705882, 'Neil Diamond': 0.8529580700746697, 'Fine Young Cannibals': 0.8529918456414379, 'Lies of P': 0.8530256056952578, 'Merry Clayton': 0.8529276693455798, 'Chaos Chaos': 0.8529445528641947, 'The Melodians': 0.8528466483011937, 'Eterna Joventut': 0.8528635372431999, 'Spiller': 0.8527860582435222, 'Surf Curse': 0.8528029347701479, 'Golpes Bajos': 0.8529883215021754, 'Jacco Gardner': 0.8529075091575091, \"Des'ree\": 0.8529243447407577, 'Born At Midnite': 0.852974828375286, 'Magdalena Bay': 0.8530420860018298, 'Laurent Garnier': 0.8529781639419229, 'Jungle': 0.8550773369199731, 'Navar': 0.8550935783929172, 'Artemas': 0.8551098162259076, 'Phoenix': 0.8555642370800313, 'The Whitest Boy Alive': 0.8554874651810584, 'Burt Bacharach': 0.8559378468368479, 'Mad Professor': 0.8560177481974487, 'Niney The Observer': 0.8560975609756097, 'Parcels': 0.8566696113074205, 'Skull Snaps': 0.8566854366788119, 'Austin Antoine': 0.8567012585559726, 'Georgia': 0.8567170769400596, \"Surfin' Bichos\": 0.8568599405875233, 'Calexico': 0.857377228480805, 'Jens Lekman': 0.8580533650210651, 'King Tubby/Roots Radics': 0.8580840263527378, 'Prince Jammy': 0.8583288409703504, 'The Box Tops': 0.8583441138421734, 'The White Stripes': 0.8583126818230794, 'We Are Standard': 0.8583279465632406, 'Cid Rim': 0.8583737210554658, 'Busy Signal': 0.8583889726469954, 'Future Islands': 0.8584347077188071, 'Frankie Knuckles': 0.8584651813583037, 'Bomba Estéreo': 0.8583727938011192, 'Django Django': 0.8584185045723507, 'Linval Thompson': 0.8584023223309322, 'Raging Fyah': 0.8584479793637145, 'The Upsetters': 0.8585088096261281, 'Wackies': 0.8584469981742026, 'Alton Ellis': 0.8584602187432983, 'Informatics': 0.8583833619210978, 'Nos Miran': 0.858398542180298, 'Steely Dan': 0.8583663419334119, 'Michael Palmer': 0.8583966606015199, 'Michael Nau': 0.8584572590135873, 'Knucks': 0.8584724005134788, 'Teenage Fanclub': 0.8580734728748398, 'John Cale': 0.8580886278697277, 'Regina Spektor': 0.8581189281520231, 'Iconili': 0.8581340734415029, 'The Wooden O': 0.8581492154979187, 'Sabine McCalla': 0.8581643543223052, 'Dealership': 0.8581946222791293, 'Perotá Chingó': 0.8581030619865572, 'Anabel Lee': 0.8579503039351605, 'Iggy Pop': 0.8579805949461563, 'Modern English': 0.857995735607676, 'Sierra': 0.8580411382287115, 'Angus & Julia Stone': 0.857858284496537, 'Balún': 0.8577668868527595, 'David Hinds': 0.8577820389900926, 'Grupo de expertos Solynieve': 0.8582485156912638, 'Billy Joel': 0.8578540408854994, 'Eleven Pond': 0.8578685575193142, 'Broken Bells': 0.8576414595452142, 'The Velvet Underground': 0.8578493265993266, \"Melody's Echo Chamber\": 0.85778899758073, 'Robert Palmer': 0.8579521611414184, 'Coro Popular Jabalón': 0.8579819593035453, 'Pablo Und Destruktion': 0.8580712788259958, 'Elle Belga': 0.8580861544911434, 'berlioz': 0.8582635983263598, 'Idris Muhammad': 0.8581738311892062, 'Funkadelic': 0.8580840828278603, 'Electric Light Orchestra': 0.8581137599330824, 'Los Pintores': 0.8580240460010454, 'Alain Apaloo': 0.8579343508258416, 'Nick Cave': 0.8579492003762935, 'Pajaro Sunrise': 0.8578441612701065, 'Nina Simone': 0.8578590078328981, 'Joey Bada$$': 0.8578738512949039, 'Gaz Coombes': 0.8578886916570951, 'The Kooks': 0.8578134779887335, 'Hareton Salvanini': 0.8575893322221064, 'Burna Boy': 0.8576189980210395, 'Modest Mouse': 0.8576338262861903, 'Wild Child': 0.8575445173383318, 'Das Kabinette': 0.8575890068707058, 'Luciana Tagliapietra': 0.8574997397730821, 'The Strokes': 0.8589990863871688, 'Thelonious Coltrane': 0.8590133982947625, 'Bloc Party': 0.8589405317637507, 'Ezra Furman': 0.8590393190109444, 'Ovidi Montllor': 0.8589522747998785, 'Emitt Rhodes': 0.8588652482269503, 'Bella White': 0.8588795461452741, 'River Whyless': 0.8588938411669368, 'Sharon Jones & The Dap-Kings': 0.8589367088607595, 'Youth Lagoon': 0.8588926004656342, 'KAROL G': 0.8587330499898805, 'Zedd': 0.8586461600728523, 'Courtney Barnett': 0.8587462082912032, 'Los Ronaldos': 0.8587450742649287, 'Vanessa Carlton': 0.8587593453222874, 'The Red Clay Strays': 0.8588021411978588, 'Old Man Luedecke': 0.8588164007271258, 'Phil Collins': 0.8588306573765525, 'Doble Pletina': 0.8587383036522789, 'Tufic': 0.8587525150905433, 'Jonathan Groff': 0.8588661037394452, 'Wailing Souls': 0.8588932409360249, 'Nik Kershaw': 0.8588069893552922, 'Caesars': 0.8588211667838136, 'Xavibo': 0.8587349397590361, 'Hip Horns Brass Collective': 0.858876629889669, 'Heroes Del Silencio': 0.8587904924280413, 'my bloody valentine': 0.8587185400581571, 'Inés Errandonea': 0.8586324443553238, 'Overmono': 0.8587174348697395, 'Kiko Veneno': 0.858843537414966, 'Misty In Roots': 0.8588576572971891, 'Clap Your Hands Say Yeah': 0.8588717743548709, 'King Tubby': 0.8590523690773068, 'Remate': 0.859206855320845, 'Judy Mowatt': 0.8592208827338846, 'Circuit 7': 0.859205416708155, 'Julio Iglesias': 0.8592194344882517, 'James Taylor': 0.8591338974614235, 'Tiwa Savage': 0.859147919569978, 'Pixinguinha': 0.85916193888723, 'Hanson': 0.8591899691511593, 'Baxter Dury': 0.8592039800995025, 'Devon Gilfillian': 0.8592179882598746, 'La Ludwig Band': 0.8592319936331079, 'Los Campesinos!': 0.8592459962200338, 'Big Thief': 0.8596212947357985, 'Bunny Lee': 0.8596769398473888, 'Cage The Elephant': 0.8596056672941643, 'Miriam Makeba': 0.8596334819217435, 'Manel': 0.8597029702970297, 'Myke Towers': 0.8596178596178596, 'Margarita Siempre Viva': 0.8596317560879034, 'Jasmine Cephas-Jones': 0.8596595407759303, 'Jorge Ben Jor': 0.8596873144666535, 'Estrella del Sol': 0.8596022558622737, 'John Grant': 0.8596248766041461, 'Tiken Jah Fakoly': 0.859638732602902, 'Rogér Fakhr': 0.8596664363959341, 'Xema Fuentes': 0.8595816064732583, 'Leonard Cohen': 0.8594088669950739, 'Karen Dalton': 0.8594919259551005, 'Flamingosis': 0.8602517810090758, 'Vecinos': 0.860167837626854, 'Zimmer90': 0.8601951219512195, 'Arlo Parks': 0.8601384960499366, 'Crowded House': 0.8601909586905689, 'Chairlift': 0.8601071602532878, 'Margarita': 0.8601207870640951, 'Dumbo Gets Mad': 0.8601344112204149, 'Boris Gardiner': 0.8601752677702045, 'Guitarricadelafuente': 0.8600077881619937, 'The Wannadies': 0.8599513381995134, 'Kazy Lambist': 0.8599766627771295, 'Arctic Monkeys': 0.8607142857142858, 'Bal Paré': 0.8607253086419753, 'Albert Pla': 0.860792441916514, 'Turquoise Days': 0.8608302032167967, 'Pearl Jam': 0.8607473035439137, 'Ennio Morricone': 0.8607875228651198, 'Elli & Jacno': 0.8608009241432422, 'Guts': 0.860827718960539, 'Simon & Garfunkel': 0.8606124604012672, 'Lone': 0.8605008155041735, 'The Shamen': 0.8605141980046047, 'Gorillaz': 0.8607498087222647, 'Aaron Lazar': 0.8606808185121438, 'Sister Nancy': 0.8607207723926967, 'Sabrina Carpenter': 0.8606385012425922, 'Klaus & Kinski': 0.8602007956052282, 'Los Premodernos': 0.8602140354200208, 'Natalia Lacunza': 0.8602272727272727, 'Cuello': 0.8602405075276962, 'Glasvegas': 0.8602537398220034, 'Otis Redding': 0.8601855357819008, 'Las Petunias': 0.8601987695220066, 'Nadadora': 0.8603816361231815, 'Beirut': 0.8604716981132076, 'The Cars': 0.8604848599188756, 'Parquesvr': 0.8603357223689174, 'Steve Gunn': 0.8603488920320603, 'Jaime Wyatt': 0.8603620592117669, 'Dusty Springfield': 0.8603599359276359, 'The Beta Band': 0.8603993971363979, 'Sezen Aksu': 0.8602504943968359, 'Black Uhuru': 0.860316265060241, 'The Rapants': 0.8601786553831687, 'Klaxons': 0.8602049450032904, 'Sleaford Mods': 0.8601201652271874, 'Hozier': 0.8601464238783555, 'Billy Bragg': 0.8601050853818728, 'Kibir La Amlak': 0.8601313320825515, 'Red Hot Chili Peppers': 0.8600900225056264, 'Pipiolas': 0.8600225014063378, 'Eric Krasno': 0.8600356238867536, 'Carole King': 0.8600487439070116, 'Labi Siffre': 0.8594963961434055, 'El Puchero Del Hortelano': 0.8594159490827405, 'Intoxicados': 0.8594291062236781, 'Dojo Cuts': 0.859442260902115, 'Gracià Pedro': 0.8593618414896603, 'Lone Ark': 0.859375, 'Zombies': 0.8594801795063575, '79.5': 0.859399831728522, 'Los Nastys': 0.859412974387736, 'Nick Waterhouse': 0.8594392523364486, 'Lou Reed': 0.8594377510040161, 'Karavana': 0.8595558044046286, '猫 シ Corp.': 0.8595689092096669, 'Conchita': 0.8594887105803322, 'Mizmaya': 0.8595149253731343, 'Fuerza Nueva': 0.8594871794871795, 'Maria Jaume': 0.859500279694201, 'Jungle Brothers': 0.8595264727815063, 'La Mode': 0.8594549344247047, 'Pequeño Rodriguez': 0.8594680059523809, 'French 79': 0.8594941417147108, 'Groundation': 0.8595333271358185, 'J.K. Simmons': 0.8594534300055773, 'Harry Nilsson': 0.8591027067111605, 'Briela Ojeda': 0.8590230790620076, 'Thundercat': 0.8590492076730609, 'bigott': 0.8587952253169242, 'Dulce y Agraz': 0.8587157660991858, 'Jean Sibelius': 0.8588333179254877, 'Elvis Costello': 0.8588452655889145, 'Miles Davis': 0.8586986617443471, 'Burning': 0.8586585478365163, 'Cocteau Twins': 0.8586715867158672, 'Radio Orchestra Berlin': 0.8586846231897426, 'Marianne Faithfull': 0.8586184635248547, 'Aretha Franklin': 0.8585653697215563, 'Bob Marley & The Wailers': 0.8586556169429097, 'The Coral': 0.8586686308811343, 'Malmö 040': 0.8586816424231265, 'The Streets': 0.8589272593681117, 'The Beach Boys': 0.8594179022515102, 'KIRBY': 0.8593521229868228, 'Franklin Boukaka': 0.8593778591033852, 'Steve Reich': 0.8593378452533382, '808 State': 0.8593892850612543, 'The Mamas & The Papas': 0.8589825554845192, 'The Lumineers': 0.8587591240875913, 'Space Afrika': 0.8587720098531156, 'Los Buenos': 0.8587848932676518, 'John Frusciante': 0.8587977743318435, 'John Martyn': 0.8586669098203702, 'Daft Punk': 0.8586572438162544, 'El Petit De Cal Eril': 0.8586700489219061, 'Tanxugueiras': 0.8585401195435609, 'GRUPIS': 0.8584623743547949, 'Fetus': 0.8584751901484969, 'Midlake': 0.858552036199095, 'William Shatner': 0.8584743462130124, 'Muse': 0.8584062810215685, 'De La Soul': 0.8583536200522947, 'Gregory Alan Isakov': 0.8582890110880735, 'Wild Honey': 0.858652812611967, 'Yazoo': 0.8586781300376142, 'Wunderhorse': 0.858690785349691, 'Adele': 0.8587160891753962, 'La La Love You': 0.8584466714387974, 'La Plazuela': 0.8582930756843801, 'Chris Staples': 0.8583057518561589, \"L'Indécis\": 0.8583184257602863, 'Za!': 0.8582416599588588, 'DARGZ': 0.8584695062059112, 'Wombo': 0.8584821428571429, 'Anthony B': 0.8585200392751942, 'ratbag': 0.8585326669046769, 'Inner City': 0.8584560464078537, 'The Flying Stars Of Brooklyn NY': 0.8584804708400214, 'Smith Westerns': 0.8584930896121267, 'Cornell Campbell': 0.8585183204065258, 'Alizzz': 0.8585309324300232, 'Antonio González': 0.8584544077012212, 'Brigitte Bardot': 0.8583778966131907, 'LOS NIKIS': 0.8582116138225864, 'AWOLNATION': 0.8582242408050583, 'Balla Et Ses Balladins': 0.8580840455840456, 'Antía Muíño': 0.8580966794266892, 'Reggae Regular': 0.8581093110201174, 'Dorian': 0.8580960854092526, 'Curtis Harding': 0.8581339500133416, 'Steve Harley': 0.8581591818586038, 'Wilco': 0.8583858652224097, 'SAULT': 0.8583710006204024, 'CHVRCHES': 0.858383551931939, 'Duffy': 0.8583961010190518, 'John Hiatt': 0.8584086478823321, 'Bunbury': 0.8583451452870304, 'Cate Le Bon': 0.8582691115244929, 'Two Door Cinema Club': 0.858218207580588, 'Joe Crepúsculo': 0.8580279695521331, 'Manía': 0.8579520311531994, 'Breakbot': 0.858559269983329, 'Theo Parrish': 0.8585840863233617, 'Guru': 0.8586956521739131, 'The Stranglers': 0.8587080375142432, 'Mah Kouyaté': 0.8587204206836109, 'boy pablo': 0.8587308533916849, 'Wolfgang Amadeus Mozart': 0.8587679383969199, 'Roberto Roena Y Su Apollo Sound': 0.8587802957389098, 'Andrew Bird': 0.8585885021373113, 'Beach House': 0.8591585872576177, 'Jerry Douglas': 0.8591707781528607, 'Japanese Breakfast': 0.859182966937857, 'Troy Gunner': 0.8591573665542002, 'Martin Solveig': 0.8591695501730103, 'Dexys Midnight Runners': 0.8592060883853672, 'Ramones': 0.8592426076430918, 'Mdou Moctar': 0.8593155893536122, 'Gustav Holst': 0.8593277456147931, 'Dawn Penn': 0.8593520518358532, 'Mad Professor and Scientist': 0.8593884954223527, 'Camp Claude': 0.8594006390880041, 'Love of Lesbian': 0.8592886740331491, 'Varry Brava': 0.859250949257853, 'Tenorio Jr.': 0.8592095065874451, 'Coti': 0.8591355260892027, 'Thievery Corporation': 0.8590979514546394, 'Miau Trío': 0.8590240123934935, 'Macaco': 0.8589500860585197, 'Mac DeMarco': 0.8595303393897841, 'Train': 0.859542377238838, 'HAIM': 0.85955441302485, 'Bruce Cockburn': 0.8595664467483506, 'X Ray Pop': 0.8595784784098698, 'deadmau5': 0.8595048402295896, 'Muro María': 0.8595289079229123, 'Flume': 0.8595409386776294, \"Rag'n'Bone Man\": 0.8595649940058229, 'Hot 8 Brass Band': 0.859577018580358, 'Bronski Beat': 0.8595890410958904, 'Linda Thompson': 0.8596010615529492, 'Barry Louis Polisar': 0.859613079952063, 'The Byrds': 0.8594885829128538, 'Pure Colors': 0.8595246238030095, 'Barrington Levy': 0.8595606462090777, 'Los Delinquentes': 0.8594871794871795, 'Los lagos de Hinault': 0.8595581988105353, 'Radiohead': 0.8596297554347826, 'Chetes': 0.8596416744501996, 'Cults': 0.8595686873832569, 'Spiritualized': 0.8596163639450008, 'Mr.Kitty': 0.8596401900882552, 'Mafia and Fluxy': 0.8596506105834464, 'The Black Keys': 0.8596357475645913, 'Ana Mena': 0.8594901329719657, 'The Police': 0.8594649508973925, 'Ernest Aines': 0.8594887421703065, 'Swans': 0.8595006347862886, 'Giorgio Moroder': 0.859414650651328, 'The Lemonheads': 0.8594503171247357, 'Electric Guest': 0.85948596550558, 'Kokoshca': 0.8595809395065901, 'Kansas': 0.8595928022302949, 'William Onyeabor': 0.8596046629498226, 'Version': 0.8596402330884216, 'Donovan': 0.8596520857963182, 'Gazella': 0.8598059890341628, 'Alcalá Norte': 0.8609028818923872, 'Grace Jones': 0.8607942719174091, 'Modest Mussorgsky': 0.8608058608058609, 'Ernest Prana': 0.8607342046116707, 'Taylor McCall': 0.8607457965706675, 'Rick and Morty': 0.8607573866000833, 'The Smile': 0.8607805608720979, 'Dandy Livingstone': 0.8608037274315666, 'Evil Needle': 0.8607668635116028, 'Men I Trust': 0.8608015965408282, 'Mario Biondi': 0.8608131703666749, 'Mora y los Metegoles': 0.8608247422680413, 'Freak Slug': 0.8608363122454069, 'Paquita Salas': 0.8607647547797174, 'Sisa': 0.8606932092095421, 'Moderne': 0.8606216755319149, 'Violent Femmes': 0.8606332585390177, 'Julieta Venegas': 0.8606448396210736, 'The Knife': 0.8605733277939344, 'Beret': 0.860501827849784, 'Common': 0.8605134169643599, 'The Marías': 0.8605250041535139, 'Conchita Velasco': 0.8604535260403688, 'Blonde Redhead': 0.8604651162790697, 'Vaughn': 0.8604998754463173, 'Lorena Álvarez': 0.8605114579873796, 'The Clientele': 0.860532647473658, 'Pala': 0.8604612576738012, 'Barry B': 0.8604844061048441, 'Bobb Trimble': 0.8605191143544241, 'Giuliano Sorgini': 0.8605422435950585, 'Kit Sebastian': 0.8605518269947801, 'Bastille': 0.8605633802816901, 'Josh Rouse': 0.8604554865424431, 'Doja Cat': 0.8604670420669096, 'Pavement': 0.860524790994123, 'Burial': 0.8605478771828189, 'Florence + The Machine': 0.8604997517789178, '10cc': 0.8604247582844393, 'Petula Clark': 0.8605054509415263, 'Paco Moreno': 0.8605169708481295, 'Jalen Ngonda': 0.860637509266123, 'Best Coast': 0.8605666282325811, 'Manta Ray': 0.8605895915678524, 'The Jesus and Mary Chain': 0.8606449489963804, 'Miki Núñez': 0.8605741548079295, 'Charles Bradley': 0.8605263157894737, 'Family': 0.8612386244664573, 'João Gilberto': 0.8612497986793365, 'Chris Botti': 0.8612609710926805, 'Maren': 0.8612721417069243, 'STRFKR': 0.8612340117448315, 'Malva Vela': 0.8612451737451737, 'interrogación amor': 0.861229409401366, 'Buffalo Springfield': 0.861251707238692, 'Glen Hansard': 0.8611936701743111, 'Rogyr': 0.8612048192771085, 'Clara Presta': 0.861215966589029, 'Dire Straits': 0.8612271121105043, 'Radio Futura': 0.8612605379365716, 'The Gladiators': 0.8613829616557035, 'Calle 13': 0.8614163124548881, 'Sen Senra': 0.8611511944845278, 'Rodrigo y Gabriela': 0.8611623246492986, 'Hamilton Leithauser': 0.8611734530298173, 'Adi Oasis': 0.8612290681836391, 'A.L.I.S.O.N': 0.8612401858676494, 'El Bobe': 0.8611133360032038, 'Prince Far I': 0.8611467008327995, 'DANGERDOOM': 0.8611578188806149, 'The Wombats': 0.8610199343527339, 'Stevie Nicks': 0.8610310598783222, 'Alex Ebert': 0.8610421836228288, 'Monk': 0.8610533055866816, 'Great Lake Swimmers': 0.8610644257703082, 'Los Punsetes': 0.8612818261633012, 'Silvio y Sacramento': 0.8612130885873903, 'Black Slate': 0.8612573799265997, 'Tobias Jesso Jr.': 0.861268448344635, 'Siloé': 0.8611421279310895, 'Suki Waterhouse': 0.8612638457247589, 'Triana': 0.8612970044614404, 'Band of Horses': 0.8613632744067526, 'Lisasinson': 0.8614294810569882, 'Noriel Vilela': 0.8614405093513728, 'Jesse Roper': 0.8614735837046468, 'Nora Dean': 0.8614846049805076, 'The Prodigy': 0.8614577537556632, 'El Buen Hijo': 0.861455354305688, 'Muchachito Bombo Infierno': 0.8613979348689436, 'Dominic Fike': 0.8613295210864903, 'Drew Holcomb & The Neighbors': 0.8612611181702668, 'Johnny Clarke': 0.8612721353132693, 'The Rolling Stones': 0.8613051762464274, 'Flight of the Conchords': 0.8613161863935858, 'Casey Burns': 0.8611794586871974, 'Fugazi': 0.8611221331640346, 'Franco Battiato': 0.8611551888289432, 'Rick Astley': 0.8611662038873463, 'Superflat': 0.8611772171981597, 'CARRTOONS': 0.86123225755293, 'pablopablo': 0.8610956949179418, 'Oasis': 0.8611177170035672, 'Tyler Ramsey': 0.8611287254280279, 'Slowdive': 0.8611682760804179, 'Chorale De Saint Cyr': 0.8611792639493471, 'Robe': 0.861190250079139, 'Ecko Bazz': 0.8612012344702066, 'Asfalto': 0.8610759493670886, \"L'Impératrice\": 0.8611418630396963, 'Nil Moliner': 0.8610056925996205, 'Tennis': 0.8610606180352486, 'Molly Burch': 0.8610715979137031, 'Santero y Los Muchachos': 0.8610825760568945, 'Masaki Ueda': 0.8610255194753891, 'Sugar Minott': 0.8609663666508763, 'Tapper Zukie': 0.8611308256446653, 'Explosions In The Sky': 0.8613035264483627, 'Real Estate': 0.861314443132625, 'Omar Montes': 0.8609188168659534, 'Sly Dunbar': 0.8608510973019744, 'Horace Andy': 0.8608839257628185, 'Abayomy Afrobeat Orquestra': 0.8608948651411497, 'Travis Scott': 0.8609058027991823, 'M. Ward': 0.8609823182711198, 'Gregory Isaacs': 0.8609474428470422, 'The Beatles': 0.8610675039246468, 'John Legend': 0.8610784082882035, 'Lola Young': 0.8610108303249098, 'Steve Tyrell': 0.8610217374244683, 'Moses Boyd': 0.8610326428123039, 'New Order': 0.8611198243412798, 'U-Roy': 0.8611307143417235, 'Pabellon Psiquiatrico': 0.8610631958601224, 'Niños Mutantes': 0.8610740885927087, 'The Jam': 0.8611176424484678, 'The Feelies': 0.861139409137215, 'Supertramp': 0.8611045828437133, 'Gala Nell': 0.8610371298762337, 'TOBACCO': 0.8610132331062563, 'Damu The Fudgemunk': 0.861024115252114, 'Miranda!': 0.8610349956940421, 'Justice': 0.8610111128502113, 'Aphex Twin': 0.8610328638497653, 'Yabby You': 0.8610654775874208, 'Amy Winehouse': 0.8610481918300399, 'Blur': 0.8610807434015305, 'Billie Eilish': 0.860946283572767, 'El Canto Del Loco': 0.8608118657298985, 'Unknown Mortal Orchestra': 0.8607881388997268, 'Kathy McCarty': 0.8607990012484394, 'Scott McKenzie': 0.8608098619021612, 'Kurt Vile': 0.8608424336973479, 'Kikagaku Moyo': 0.860829564946203, 'Lower Dens': 0.8608404147501364, 'Various Artists': 0.8608837970540099, 'O.B.F': 0.86089463840399, 'Nacha Pop': 0.8609054780643653, 'Nick Drake': 0.8611649732412937, 'Engelwood': 0.8611865063978286, 'Pedro Pastor': 0.8611197270471465, 'Carly Simon': 0.8611498527816519, 'El Guincho': 0.8610938952587542, 'The Leisure Society': 0.8611261714816822, 'lau.ra': 0.861136926889715, 'Pigeondust': 0.8611476806319214, 'Bliss Station': 0.8611799318674512, 'José Feliciano': 0.8611906789502206, 'The Postal Service': 0.8612118873021999, 'Siouxsie and the Banshees': 0.8612225995677678, 'Fugees': 0.8611668467356074, 'Delfina Campos': 0.8611775599969134, 'Los Fresones Rebeldes': 0.8611432538764175, 'Yannis & The Yaw': 0.8611539648256711, 'The Who': 0.8610982569797933, 'Dj Spinna': 0.8611196792103639, 'Tupperwave': 0.861130387847945, 'Scott Walker': 0.8611410948342328, 'Junip': 0.861096122716411, 'Okieriete Onaodowan': 0.8611175337186898, 'Omar Pene': 0.8617992177314211, 'Repion': 0.8618098159509202, 'Lily Allen': 0.8618204125450503, 'Dennis Lloyd': 0.8617543321576445, 'Protoje': 0.861786124952089, 'Alice Cooper': 0.8617967193009352, 'The Killers': 0.8618496666922075, 'Ital Tek': 0.8617705621075203, 'BADBADNOTGOOD': 0.8617811471016158, 'vangoura': 0.8618023122272414, 'Hard GZ': 0.8617363344051447, 'Evrencan Gündüz': 0.8617469187782286, 'Boyzone': 0.861768082663605, 'Nujabes': 0.861765605875153, 'Mercury Rev': 0.8618395901827357, 'Grandaddy': 0.8618818313842391, 'Joaquín Sabina': 0.8617768279651962, 'Kizz Daniel': 0.8617873769365794, 'Young T & Bugsey': 0.8617979242979243, 'Acid House Kings': 0.8618084700495994, 'Bebo Valdés': 0.8619243671851174, 'Juniper Moon': 0.8619533749809538, 'Lorenzo Soria': 0.8618877123485945, 'Daveed Diggs': 0.861919268849962, 'Mediapunta': 0.8617879987816022, 'Dave Koz': 0.8617985228051473, 'Buena Vista Social Club': 0.8618195660449182, 'Kameron Marlowe': 0.8618406028773693, 'Pete Rodriguez': 0.8617750038057543, 'The Radio Dept.': 0.8617515027010576, 'The Chemical Brothers': 0.8617280194706419, 'Earl 16': 0.8617595620104935, 'McEnroe': 0.8617910901626882, 'Pereza': 0.8618015963511972, 'Standstill': 0.861854103343465, 'R.E.M.': 0.8618645999544108, 'Xalam': 0.8618750949703693, \"Kikí d'Akí\": 0.8625169965251549, 'Frankie Valli & The Four Seasons': 0.8625273812221467, 'Darren Korb': 0.8626104023552502, 'FloFilz': 0.8626207729468599, 'Incognito': 0.8626415094339622, 'Yeah Yeah Yeahs': 0.8626075147125396, 'Bukkha': 0.862617880045266, 'The Cranberries': 0.862628243814122, 'Rufus T. Firefly': 0.8625735405038467, 'VØJ': 0.8625839052718908, 'Pastel': 0.8625942684766215, 'Sons Of Kemet': 0.8626149901975569, 'Inner Circle': 0.8626253487144688, 'Aldous Harding': 0.8626357056694813, 'Los Chikos del Maiz': 0.8626609442060086, 'Charlotte Day Wilson': 0.8626712844451137, 'Medio Mutante': 0.8626063389294587, 'Cora Yako': 0.8626212497180239, 'The Outhere Brothers': 0.8626315789473684, 'Irenegarry': 0.8626419066235621, 'Asake': 0.8626935217195251, 'Metronomy': 0.8624616076110571, 'Suicide': 0.8624719101123596, 'Ivan Ferreiro': 0.8624073103138342, 'Yogures de Coco': 0.8623530292818093, '_juno': 0.862288452898008, 'The Dandy Warhols': 0.8623090745732255, 'Rufus Wainwright': 0.8623475723797411, 'The Ronettes': 0.8622571001494769, 'Jahneration': 0.8622673940662133, 'Cass McCombs': 0.8621797266004333, 'The Abyssinians': 0.8622208946307222, 'Wayne Jarrett': 0.8622517545169479, 'Isaac Hayes': 0.8622620380739082, 'Charlie USG': 0.8621976709465512, 'bechamel': 0.8622079570052997, 'Orbital': 0.8621538920814986, 'Vic Mirallas': 0.862089552238806, 'Davina Stone': 0.8620998432952764, 'Kavinsky': 0.8621101328159976, 'María Ruiz': 0.8620458106394091, 'Linkin Park': 0.8620020886170372, 'Daniel Agee': 0.8620226730310262, 'Joyce Moreno': 0.8620612564274536, 'Alejandro Albarrán': 0.8619970193740686, 'La iaia': 0.8620073019894195, 'Alaska Y Los Pegamoides': 0.8619430785277902, 'Los Sufridos': 0.8617504655493482, 'iñigo quintero': 0.8616862803515567, 'Feist': 0.8617171792389604, 'Easy Star All-Stars': 0.86173777082868, 'Badly Drawn Boy': 0.8618200758985044, 'BALTHVS': 0.8618509150424044, 'Sylford Walker': 0.8618611916982817, 'Luigi Boccherini': 0.8618176409341068, 'Geoff Knorr': 0.8618381915526472, 'Crosby, Stills, Nash & Young': 0.8618484645698565, 'La Lupe': 0.8618587360594796, 'The Cure': 0.8618538324420677, 'Ginebras': 0.86181035122893, 'Bnny': 0.8617566263271216, 'Hazlett': 0.8617976694128999, 'Anti Lilly & Phoniks': 0.8618181818181818, 'Gale Garnett': 0.8617542297417632, 'Manic Street Preachers': 0.8617644876456184, 'Thayne Jasperson': 0.8617849988871578, 'Estereotypo': 0.8617210682492582, 'Robbie Williams': 0.8617415813677496, 'Fleet Foxes': 0.861490729112802, 'Altin Gün': 0.862594862813777, 'Handsome Boy Modeling School': 0.8625620075868107, 'Delays': 0.862582056892779, 'Bright Eyes': 0.8625291715285881, 'The Quantic Soul Orchestra': 0.8624763015896164, 'King Jammy': 0.8624963546223389, 'Código Jondo': 0.8625063789458336, 'Pedropiedra': 0.8624435048840939, 'Portishead': 0.8624735806428103, 'Birocratic': 0.8624836029733275, 'La Mosca Tse-Tse': 0.862493623843183, 'Melenas': 0.8627279994186469, 'ZOO': 0.8628161460975433, 'Twit One': 0.8628260869565217, 'Replikas': 0.8627933932193567, 'C. Tangana': 0.862844335189068, 'Ride': 0.8627918745030001, 'Dub Syndicate': 0.8628117094325984, 'The Walkmen': 0.8628385698808234, 'Jim Croce': 0.8627535917984261, 'Espaldamaceta': 0.8626913081143517, 'Maston': 0.8627210393359798, 'Loving': 0.8626460828163324, 'Frente!': 0.8625838563081584, 'Baby Huey': 0.8627027027027027, 'Hinds': 0.8626405304122226, 'Buju Banton': 0.8626504287670246, 'Flavour': 0.8626603256953451, 'Zahara': 0.8626476519734947, 'Punch Brothers': 0.8625855239467051, 'Us3': 0.8625954198473282, 'Baba Zula': 0.8625602648053536, 'Neutral Milk Hotel': 0.8625674217907228, 'Christopher Tin': 0.862587186309053, 'Eagle-Eye Cherry': 0.8625970664365833, 'Surya': 0.8626069451434323, 'Pretenders': 0.8626365727429557, 'Foxygen': 0.8626535450039509, 'Derrick Harriott': 0.8627127163064551, 'Montell Fish': 0.8626507754164273, 'TOPS': 0.862680353169191, \"Marvel83'\": 0.8626902095894344, 'Paul McCartney': 0.8625663843835223, 'Los Enanitos Verdes': 0.8625044851094367, 'Cariño': 0.8623931623931624, 'Offthewally': 0.862361150669325}\n",
      "0.7257971014492753\n"
     ]
    }
   ],
   "source": [
    "unique_artists = set(song['artistName'] for song in spotify)\n",
    "artist_song_ratio = {}\n",
    "count_10 = 0\n",
    "total = 0\n",
    "\n",
    "for artist in unique_artists:\n",
    "    for song in spotify:\n",
    "        if song['artistName'] == artist and (song['msPlayed'] / 1000) > 10:\n",
    "            count_10 += 1\n",
    "        else:\n",
    "            continue\n",
    "    artist_song_ratio[artist] = count_10\n",
    "\n",
    "    for song in spotify:\n",
    "        if song['artistName'] == artist:\n",
    "            total += 1\n",
    "        else:\n",
    "            continue\n",
    "    artist_song_ratio[artist] = artist_song_ratio[artist] / total\n",
    "\n",
    "\n",
    "\n",
    "print(artist_song_ratio)            \n",
    "\n",
    "print(artist_song_ratio['Mad People'])"
   ]
  }
 ],
 "metadata": {
  "kernelspec": {
   "display_name": "Python 3",
   "language": "python",
   "name": "python3"
  },
  "language_info": {
   "codemirror_mode": {
    "name": "ipython",
    "version": 3
   },
   "file_extension": ".py",
   "mimetype": "text/x-python",
   "name": "python",
   "nbconvert_exporter": "python",
   "pygments_lexer": "ipython3",
   "version": "3.8.2"
  }
 },
 "nbformat": 4,
 "nbformat_minor": 2
}
