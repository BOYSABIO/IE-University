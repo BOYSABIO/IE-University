{
 "cells": [
  {
   "cell_type": "markdown",
   "id": "ccb89376",
   "metadata": {},
   "source": [
    "### **CARTPOLE DQN KERAS**\n",
    "\n",
    "This is a naive version of the CARTPOLE DQN algorithm <br>\n",
    "Try to fill the missing parts\n",
    "\n",
    "This is the simplest approach of DQN with a single network (Remember the standard DQN uses 2 networks and trains one, in this one we use one and train one\n",
    "\n",
    "Fill the empty places and try to make it to work Ask for help if stocked!!!\n"
   ]
  },
  {
   "cell_type": "code",
   "execution_count": 3,
   "id": "557b1b33",
   "metadata": {},
   "outputs": [],
   "source": [
    "import os\n",
    "os.environ['TF_CPP_MIN_LOG_LEVEL'] = '3' \n",
    "\n",
    "import random\n",
    "import gymnasium as gym\n",
    "import time\n",
    "import numpy as np\n",
    "from collections import deque\n",
    "from keras.models import Sequential, Model\n",
    "from keras.layers import Dense, Input\n",
    "from keras.optimizers import Adam\n",
    "import matplotlib.pyplot as plt\n",
    "from PIL import Image\n",
    "import tensorflow as tf\n",
    "\n",
    "# Use mixed-precision training for faster computations on supported GPUs\n",
    "from tensorflow.keras.mixed_precision import set_global_policy\n",
    "set_global_policy('mixed_float16')\n",
    "\n",
    "import sys\n",
    "sys.stderr = open('err.txt', 'w')"
   ]
  },
  {
   "cell_type": "code",
   "execution_count": 4,
   "id": "2041146f",
   "metadata": {},
   "outputs": [
    {
     "name": "stdout",
     "output_type": "stream",
     "text": [
      "Using device: 0, name: NVIDIA GeForce RTX 3060, pci bus id: 0000:01:00.0, compute capability: 8.6\n"
     ]
    }
   ],
   "source": [
    "from tensorflow.python.client import device_lib\n",
    "devices = device_lib.list_local_devices()\n",
    "gpu_devices = [device for device in devices if device.device_type == 'GPU']\n",
    "for gpu in gpu_devices:\n",
    "    print('Using', gpu.physical_device_desc)"
   ]
  },
  {
   "cell_type": "code",
   "execution_count": 5,
   "id": "91d89820",
   "metadata": {},
   "outputs": [
    {
     "name": "stdout",
     "output_type": "stream",
     "text": [
      "TensorFlow version: 2.10.1\n",
      "GPUs: [PhysicalDevice(name='/physical_device:GPU:0', device_type='GPU')]\n"
     ]
    }
   ],
   "source": [
    "import tensorflow as tf\n",
    "print(\"TensorFlow version:\", tf.__version__)\n",
    "print(\"GPUs:\", tf.config.list_physical_devices('GPU'))"
   ]
  },
  {
   "cell_type": "markdown",
   "id": "ae2be125",
   "metadata": {},
   "source": [
    "#### **Hyperparameters**"
   ]
  },
  {
   "cell_type": "code",
   "execution_count": 6,
   "id": "78010280",
   "metadata": {},
   "outputs": [],
   "source": [
    "# Parameters to fine tune\n",
    "# Try your own parameters\n",
    "# Remember epsilon and gamma are very important\n",
    "\n",
    "\n",
    "MAX_EPISODES = 300\n",
    "ROLLING_WINDOW = 20\n",
    "MEMORY_SIZE = 2000\n",
    "MAX_STEPS = 500\n",
    "\n",
    "gamma = 0.99                        # discount rate\n",
    "epsilon = 1.0                        # exploration rate\n",
    "epsilon_min = 0.01\n",
    "epsilon_decay = 0.99\n",
    "learning_rate = 0.001\n",
    "batch_size = 64\n",
    "solved_threshold = 195\n",
    "\n",
    "verb = 0                             # to see traces (verbosity)"
   ]
  },
  {
   "cell_type": "code",
   "execution_count": 7,
   "id": "d058e6b0",
   "metadata": {},
   "outputs": [],
   "source": [
    "# Environment setup\n",
    "env = gym.make(\"CartPole-v1\")\n",
    "state_size = env.observation_space.shape[0]\n",
    "action_size = env.action_space.n"
   ]
  },
  {
   "cell_type": "markdown",
   "id": "7fa84c05",
   "metadata": {},
   "source": [
    "#### **Neural Network**"
   ]
  },
  {
   "cell_type": "code",
   "execution_count": 12,
   "id": "5799f12c",
   "metadata": {},
   "outputs": [],
   "source": [
    "###\n",
    "# [CREATE YOUR NEURAL NETWORK TRY 16/32 or 24/24]\n",
    "###\n",
    "\n",
    "def build_model(state_size, action_size):\n",
    "    inputs = Input(shape=(state_size,), name=\"state_input\")\n",
    "    x = Dense(16, activation='relu', name=\"dense_1\")(inputs)\n",
    "    x = Dense(32, activation='relu', name=\"dense_2\")(x)\n",
    "    outputs = Dense(action_size, activation='linear', name=\"output_layer\")(x)\n",
    "    \n",
    "    model = Model(inputs=inputs, outputs=outputs, name=\"Q_Network\")\n",
    "    model.compile(loss='mse', optimizer=Adam(learning_rate=learning_rate))\n",
    "    return model"
   ]
  },
  {
   "cell_type": "markdown",
   "id": "b7fca383",
   "metadata": {},
   "source": [
    "#### **Support Functions**"
   ]
  },
  {
   "cell_type": "markdown",
   "id": "a761e2bb",
   "metadata": {},
   "source": [
    "$Q_{\\text{target}}(s_t, a_t) = r_t + \\gamma \\cdot \\max_{a'} Q(s_{t+1}, a') \\cdot (1 - \\text{done})$"
   ]
  },
  {
   "cell_type": "code",
   "execution_count": 13,
   "id": "10c07fd6",
   "metadata": {
    "scrolled": false
   },
   "outputs": [
    {
     "name": "stdout",
     "output_type": "stream",
     "text": [
      "Model: \"Q_Network\"\n",
      "_________________________________________________________________\n",
      " Layer (type)                Output Shape              Param #   \n",
      "=================================================================\n",
      " state_input (InputLayer)    [(None, 4)]               0         \n",
      "                                                                 \n",
      " dense_1 (Dense)             (None, 16)                80        \n",
      "                                                                 \n",
      " dense_2 (Dense)             (None, 32)                544       \n"
     ]
    },
    {
     "name": "stdout",
     "output_type": "stream",
     "text": [
      "                                                                 \n",
      " output_layer (Dense)        (None, 2)                 66        \n",
      "                                                                 \n",
      "=================================================================\n",
      "Total params: 690\n",
      "Trainable params: 690\n",
      "Non-trainable params: 0\n",
      "_________________________________________________________________\n"
     ]
    }
   ],
   "source": [
    "replay_buffer = deque(maxlen=MEMORY_SIZE)\n",
    "\n",
    "def store(state, action, reward, next_state, done):             \n",
    "    \"\"\"\n",
    "    This function appends the actual observation and reward to the Replay buffer\n",
    "    \"\"\"\n",
    "    state = state.squeeze()\n",
    "    next_state = next_state.squeeze()\n",
    "    replay_buffer.append((state, action, reward, next_state, done))\n",
    "\n",
    "def select_action_greedy(state, DQN):           \n",
    "    \"\"\"\n",
    "    Selects the if agent takes a random action (explore) or a predicted action (exploit)\n",
    "    \"\"\"\n",
    "    if np.random.rand() <= epsilon:\n",
    "        return random.randrange(action_size)\n",
    "    act_values = DQN.predict(state, verbose=verb)\n",
    "    return np.argmax(act_values[0])  # returns action selected with greedy strategy\n",
    "\n",
    "# Sample experiences from the replay buffer\n",
    "def sample_experiences(batch_size):\n",
    "    \"\"\"\n",
    "    Samples a batch_size of experiences from the Replay buffer. \n",
    "    You MUST transform the data into numpy arrays as this accelerates the response time sensibily\n",
    "    \"\"\"\n",
    "    indices = np.random.choice(len(replay_buffer), batch_size, replace=False)\n",
    "    batch = [replay_buffer[i] for i in indices]\n",
    "    states, actions, rewards, next_states, dones = zip(*batch)\n",
    "\n",
    "    states = np.array(states)\n",
    "    actions = np.array(actions)\n",
    "    rewards = np.array(rewards)\n",
    "    next_states = np.array(next_states)\n",
    "    dones = np.array(dones)\n",
    "\n",
    "    return (states, actions, rewards, next_states, dones)\n",
    "###\n",
    "# YOU MUST VECTIORIZE THE RETURN. TRANSFORM THE OUTPUTS IN np arrays otherwise it will be very slow\n",
    "###\n",
    "\n",
    "    \n",
    "def experience_replay(batch_size, model, epsilon):\n",
    "    \"\"\"\n",
    "    The critical function in the whole program\n",
    "    1. gets a minibatch from replay buffer\n",
    "    2. Predicts targets_qs from states (we need the full batch predicted but we'll avoid dones)\n",
    "    3. predicts next_qs from next_states\n",
    "    4. Bellman equation on next_qs obtains new target_qs $Q_{\\text{target}}(s_t, a_t) = r_t + \\gamma \\cdot \\max_{a'} Q(s_{t+1}, a') \\cdot (1 - \\text{done})$\n",
    "\n",
    "    6. Train DQN input states, output target_qs \n",
    "\n",
    "    \"\"\"\n",
    "    if len(replay_buffer) < batch_size:\n",
    "        return\n",
    "\n",
    "    states, actions, rewards, next_states, dones = sample_experiences(batch_size)\n",
    "    \n",
    "    # Predict Q-values for current and next states using vectorized operations\n",
    "\n",
    "    \n",
    "#### \n",
    "#  [ Predict target_qs with model predict states, predict next_qs with model predict next states]\n",
    "####\n",
    "    target_qs = model.predict(states, verbose=verb) # Get current Q-values for all states\n",
    "    next_qs = model.predict(next_states, verbose=verb) # Get next Q-values for next states\n",
    "\n",
    "    # Update target Q-values using standard DQN logic   \n",
    "    target_qs[np.arange(batch_size), actions] = rewards + gamma * np.max(next_qs, axis=1) * (1 - dones)\n",
    "    \n",
    "    # Train the model on the Q-values\n",
    "    model.fit(states, target_qs, epochs=1, verbose=0)\n",
    "\n",
    "###\n",
    "#[Here you have a load and save weights. Can you make a breakpoint to restart the program after a while of training?]\n",
    "###\n",
    "\n",
    "def load(name, DQN):\n",
    "    DQN.load_weights(name)\n",
    "\n",
    "def save(name, DQN):\n",
    "    DQN.save_weights(name)\n",
    "\n",
    "DQN = build_model(state_size, action_size)\n",
    "DQN.summary()"
   ]
  },
  {
   "cell_type": "code",
   "execution_count": 14,
   "id": "0cb99f42",
   "metadata": {
    "scrolled": false
   },
   "outputs": [
    {
     "name": "stdout",
     "output_type": "stream",
     "text": [
      "Episode:   1/300, Reward:  +21.00, Epsilon: 0.61, Rolling Avg:  21.00, Steps:  20 Terminated: True \n",
      "Episode:   2/300, Reward:  +31.00, Epsilon: 0.60, Rolling Avg:  26.00, Steps:  30 Terminated: True \n",
      "Episode:   3/300, Reward:  +15.00, Epsilon: 0.59, Rolling Avg:  22.33, Steps:  14 Terminated: True \n",
      "Episode:   4/300, Reward:  +12.00, Epsilon: 0.59, Rolling Avg:  19.75, Steps:  11 Terminated: True \n",
      "Episode:   5/300, Reward:  +17.00, Epsilon: 0.58, Rolling Avg:  19.20, Steps:  16 Terminated: True \n",
      "Episode:   6/300, Reward:  +11.00, Epsilon: 0.58, Rolling Avg:  17.83, Steps:  10 Terminated: True \n",
      "Episode:   7/300, Reward:   +9.00, Epsilon: 0.57, Rolling Avg:  16.57, Steps:   8 Terminated: True \n",
      "Episode:   8/300, Reward:  +21.00, Epsilon: 0.56, Rolling Avg:  17.12, Steps:  20 Terminated: True \n",
      "Episode:   9/300, Reward:  +19.00, Epsilon: 0.56, Rolling Avg:  17.33, Steps:  18 Terminated: True \n",
      "Episode:  10/300, Reward:  +19.00, Epsilon: 0.55, Rolling Avg:  17.50, Steps:  18 Terminated: True \n",
      "Episode:  11/300, Reward:  +17.00, Epsilon: 0.55, Rolling Avg:  17.45, Steps:  16 Terminated: True \n",
      "Episode:  12/300, Reward:  +10.00, Epsilon: 0.54, Rolling Avg:  16.83, Steps:   9 Terminated: True \n",
      "Episode:  13/300, Reward:  +10.00, Epsilon: 0.54, Rolling Avg:  16.31, Steps:   9 Terminated: True \n",
      "Episode:  14/300, Reward:  +11.00, Epsilon: 0.53, Rolling Avg:  15.93, Steps:  10 Terminated: True \n",
      "Episode:  15/300, Reward:  +12.00, Epsilon: 0.53, Rolling Avg:  15.67, Steps:  11 Terminated: True \n",
      "Episode:  16/300, Reward:  +23.00, Epsilon: 0.52, Rolling Avg:  16.12, Steps:  22 Terminated: True \n",
      "Episode:  17/300, Reward:   +9.00, Epsilon: 0.52, Rolling Avg:  15.71, Steps:   8 Terminated: True \n",
      "Episode:  18/300, Reward:  +13.00, Epsilon: 0.51, Rolling Avg:  15.56, Steps:  12 Terminated: True \n",
      "Episode:  19/300, Reward:  +13.00, Epsilon: 0.50, Rolling Avg:  15.42, Steps:  12 Terminated: True \n",
      "Episode:  20/300, Reward:  +11.00, Epsilon: 0.50, Rolling Avg:  15.20, Steps:  10 Terminated: True \n",
      "Episode:  21/300, Reward:  +22.00, Epsilon: 0.49, Rolling Avg:  15.25, Steps:  21 Terminated: True \n",
      "Episode:  22/300, Reward:  +17.00, Epsilon: 0.49, Rolling Avg:  14.55, Steps:  16 Terminated: True \n",
      "Episode:  23/300, Reward:  +14.00, Epsilon: 0.48, Rolling Avg:  14.50, Steps:  13 Terminated: True \n",
      "Episode:  24/300, Reward:  +12.00, Epsilon: 0.48, Rolling Avg:  14.50, Steps:  11 Terminated: True \n",
      "Episode:  25/300, Reward:  +11.00, Epsilon: 0.48, Rolling Avg:  14.20, Steps:  10 Terminated: True \n",
      "Episode:  26/300, Reward:  +14.00, Epsilon: 0.47, Rolling Avg:  14.35, Steps:  13 Terminated: True \n",
      "Episode:  27/300, Reward:  +17.00, Epsilon: 0.47, Rolling Avg:  14.75, Steps:  16 Terminated: True \n",
      "Episode:  28/300, Reward:  +13.00, Epsilon: 0.46, Rolling Avg:  14.35, Steps:  12 Terminated: True \n",
      "Episode:  29/300, Reward:  +20.00, Epsilon: 0.46, Rolling Avg:  14.40, Steps:  19 Terminated: True \n",
      "Episode:  30/300, Reward:  +13.00, Epsilon: 0.45, Rolling Avg:  14.10, Steps:  12 Terminated: True \n",
      "Episode:  31/300, Reward:  +10.00, Epsilon: 0.45, Rolling Avg:  13.75, Steps:   9 Terminated: True \n",
      "Episode:  32/300, Reward:  +16.00, Epsilon: 0.44, Rolling Avg:  14.05, Steps:  15 Terminated: True \n",
      "Episode:  33/300, Reward:   +9.00, Epsilon: 0.44, Rolling Avg:  14.00, Steps:   8 Terminated: True \n",
      "Episode:  34/300, Reward:  +12.00, Epsilon: 0.43, Rolling Avg:  14.05, Steps:  11 Terminated: True \n",
      "Episode:  35/300, Reward:  +10.00, Epsilon: 0.43, Rolling Avg:  13.95, Steps:   9 Terminated: True \n",
      "Episode:  36/300, Reward:  +74.00, Epsilon: 0.43, Rolling Avg:  16.50, Steps:  73 Terminated: True \n",
      "Episode:  37/300, Reward:  +36.00, Epsilon: 0.42, Rolling Avg:  17.85, Steps:  35 Terminated: True \n",
      "Episode:  38/300, Reward:  +45.00, Epsilon: 0.42, Rolling Avg:  19.45, Steps:  44 Terminated: True \n",
      "Episode:  39/300, Reward:  +29.00, Epsilon: 0.41, Rolling Avg:  20.25, Steps:  28 Terminated: True \n",
      "Episode:  40/300, Reward:  +39.00, Epsilon: 0.41, Rolling Avg:  21.65, Steps:  38 Terminated: True \n",
      "Episode:  41/300, Reward:  +58.00, Epsilon: 0.40, Rolling Avg:  23.45, Steps:  57 Terminated: True \n",
      "Episode:  42/300, Reward:  +25.00, Epsilon: 0.40, Rolling Avg:  23.85, Steps:  24 Terminated: True \n",
      "Episode:  43/300, Reward:  +38.00, Epsilon: 0.40, Rolling Avg:  25.05, Steps:  37 Terminated: True \n",
      "Episode:  44/300, Reward: +106.00, Epsilon: 0.39, Rolling Avg:  29.75, Steps: 105 Terminated: True \n",
      "Episode:  45/300, Reward:  +42.00, Epsilon: 0.39, Rolling Avg:  31.30, Steps:  41 Terminated: True \n",
      "Episode:  46/300, Reward:  +54.00, Epsilon: 0.38, Rolling Avg:  33.30, Steps:  53 Terminated: True \n",
      "Episode:  47/300, Reward:  +62.00, Epsilon: 0.38, Rolling Avg:  35.55, Steps:  61 Terminated: True \n",
      "Episode:  48/300, Reward:  +72.00, Epsilon: 0.38, Rolling Avg:  38.50, Steps:  71 Terminated: True \n",
      "Episode:  49/300, Reward: +133.00, Epsilon: 0.37, Rolling Avg:  44.15, Steps: 132 Terminated: True \n",
      "Episode:  50/300, Reward:  +42.00, Epsilon: 0.37, Rolling Avg:  45.60, Steps:  41 Terminated: True \n",
      "Episode:  51/300, Reward:  +74.00, Epsilon: 0.37, Rolling Avg:  48.80, Steps:  73 Terminated: True \n",
      "Episode:  52/300, Reward:  +64.00, Epsilon: 0.36, Rolling Avg:  51.20, Steps:  63 Terminated: True \n",
      "Episode:  53/300, Reward:  +49.00, Epsilon: 0.36, Rolling Avg:  53.20, Steps:  48 Terminated: True \n",
      "Episode:  54/300, Reward:  +88.00, Epsilon: 0.36, Rolling Avg:  57.00, Steps:  87 Terminated: True \n",
      "Episode:  55/300, Reward:  +63.00, Epsilon: 0.35, Rolling Avg:  59.65, Steps:  62 Terminated: True \n",
      "Episode:  56/300, Reward: +119.00, Epsilon: 0.35, Rolling Avg:  61.90, Steps: 118 Terminated: True \n",
      "Episode:  57/300, Reward:  +55.00, Epsilon: 0.34, Rolling Avg:  62.85, Steps:  54 Terminated: True \n",
      "Episode:  58/300, Reward: +205.00, Epsilon: 0.34, Rolling Avg:  70.85, Steps: 204 Terminated: True \n",
      "Episode:  59/300, Reward: +123.00, Epsilon: 0.34, Rolling Avg:  75.55, Steps: 122 Terminated: True \n",
      "Episode:  60/300, Reward: +169.00, Epsilon: 0.33, Rolling Avg:  82.05, Steps: 168 Terminated: True \n",
      "Episode:  61/300, Reward:  +69.00, Epsilon: 0.33, Rolling Avg:  82.60, Steps:  68 Terminated: True \n",
      "Episode:  62/300, Reward: +310.00, Epsilon: 0.33, Rolling Avg:  96.85, Steps: 309 Terminated: True \n",
      "Episode:  63/300, Reward: +204.00, Epsilon: 0.32, Rolling Avg: 105.15, Steps: 203 Terminated: True \n",
      "Episode:  64/300, Reward: +399.00, Epsilon: 0.32, Rolling Avg: 119.80, Steps: 398 Terminated: True \n",
      "Episode:  65/300, Reward: +147.00, Epsilon: 0.32, Rolling Avg: 125.05, Steps: 146 Terminated: True \n",
      "Episode:  66/300, Reward: +264.00, Epsilon: 0.31, Rolling Avg: 135.55, Steps: 263 Terminated: True \n",
      "Episode:  67/300, Reward: +348.00, Epsilon: 0.31, Rolling Avg: 149.85, Steps: 347 Terminated: True \n",
      "Episode:  68/300, Reward: +125.00, Epsilon: 0.31, Rolling Avg: 152.50, Steps: 124 Terminated: True \n",
      "Episode:  69/300, Reward: +459.00, Epsilon: 0.31, Rolling Avg: 168.80, Steps: 458 Terminated: True \n",
      "Episode:  70/300, Reward: +500.00, Epsilon: 0.30, Rolling Avg: 191.70, Steps: 499 Terminated: False \n",
      "Episode:  71/300, Reward: +500.00, Epsilon: 0.30, Rolling Avg: 213.00, Steps: 499 Terminated: False \n",
      "Environment solved in 71 episodes!\n",
      "Testing completed in 15.34 minutes\n"
     ]
    }
   ],
   "source": [
    "rewards_per_episode= []\n",
    "\n",
    "done = False\n",
    "rolling_avg = 0\n",
    "rolling_avg_rewards = []\n",
    "\n",
    "start_time = time.time()\n",
    "\n",
    "for e in range(MAX_EPISODES):                           # Should be While True, however we limit number of eps\n",
    "    state, _ = env.reset()\n",
    "    state = np.reshape(state, [1, state_size])\n",
    "    total_reward = 0\n",
    "    \n",
    "    for step in range(MAX_STEPS):\n",
    "            \n",
    "        action = select_action_greedy(state, DQN)\n",
    "        next_state, reward, done, truncated , _ = env.step(action)\n",
    "                    \n",
    "        next_state = np.reshape(next_state, [1, state_size])\n",
    "        store(state, action, reward, next_state, done)\n",
    "        state = next_state\n",
    "        total_reward = total_reward + reward\n",
    "        if done:\n",
    "            break\n",
    "            \n",
    "        if len(replay_buffer) > batch_size:\n",
    "            experience_replay(batch_size, DQN, epsilon)\n",
    "            \n",
    "    epsilon = max(epsilon_min, epsilon * epsilon_decay)            # decay epsilon\n",
    "    \n",
    "    rewards_per_episode.append(total_reward)\n",
    "    rolling_avg = np.mean(rewards_per_episode[-ROLLING_WINDOW:])   # append rewards\n",
    "    rolling_avg_rewards.append(rolling_avg)\n",
    "    print(f\"Episode: {e+1:3}/{MAX_EPISODES}, Reward: {total_reward:+7.2f}, \"\n",
    "          f\"Epsilon: {epsilon:.2f}, Rolling Avg: {rolling_avg:6.2f}, Steps: {step:3} Terminated: {done} \")\n",
    "\n",
    "            \n",
    "    # Check if environment is solved\n",
    "    if rolling_avg >= solved_threshold:\n",
    "        print(f\"Environment solved in {e+1} episodes!\")\n",
    "        DQN.save(\"CartPole_ddqn_model1.keras\")\n",
    "        break\n",
    "\n",
    "end_time = time.time()\n",
    "testing_duration = (end_time - start_time) / 60  # Convert to minutes\n",
    "print(f\"Testing completed in {testing_duration:.2f} minutes\")"
   ]
  },
  {
   "cell_type": "markdown",
   "id": "5419d918",
   "metadata": {},
   "source": [
    "#### **Learning Plot and Episode Rewards**"
   ]
  },
  {
   "cell_type": "code",
   "execution_count": 15,
   "id": "0724b047",
   "metadata": {},
   "outputs": [
    {
     "data": {
      "image/png": "[encoded data removed]",
      "text/plain": [
       "<Figure size 1000x600 with 1 Axes>"
      ]
     },
     "metadata": {},
     "output_type": "display_data"
    }
   ],
   "source": [
    "# Plot rewards with rolling average\n",
    "\n",
    "plt.figure(figsize=(10, 6))\n",
    "plt.plot(rewards_per_episode, label='Rewards', color='blue')\n",
    "plt.plot(rolling_avg_rewards, label='Rolling Avg (Last 20 Episodes)', color='orange')\n",
    "plt.axhline(y=solved_threshold, color='red', linestyle='--', label='Solved Threshold')\n",
    "plt.title('DQN Training Performance CARTPOLE')\n",
    "plt.xlabel('Episodes')\n",
    "plt.ylabel('Rewards')\n",
    "plt.legend()\n",
    "plt.grid()\n",
    "plt.show()"
   ]
  },
  {
   "cell_type": "markdown",
   "id": "51baef8f",
   "metadata": {},
   "source": [
    "#### **Simulation - Testing 10 episodes with the DQN Network**"
   ]
  },
  {
   "cell_type": "code",
   "execution_count": 16,
   "id": "1ade8d4a",
   "metadata": {},
   "outputs": [
    {
     "name": "stdout",
     "output_type": "stream",
     "text": [
      "Test Episode:  1/10, Reward: 500.00, Steps: 500\n",
      "Test Episode:  2/10, Reward: 500.00, Steps: 500\n",
      "Test Episode:  3/10, Reward: 500.00, Steps: 500\n",
      "Test Episode:  4/10, Reward: 500.00, Steps: 500\n",
      "Test Episode:  5/10, Reward: 422.00, Steps: 422\n",
      "Test Episode:  6/10, Reward: 430.00, Steps: 430\n",
      "Test Episode:  7/10, Reward: 500.00, Steps: 500\n",
      "Test Episode:  8/10, Reward: 500.00, Steps: 500\n",
      "Test Episode:  9/10, Reward: 500.00, Steps: 500\n",
      "Test Episode: 10/10, Reward: 500.00, Steps: 500\n",
      "Testing completed in 3.60 minutes\n"
     ]
    }
   ],
   "source": [
    "# Testing for 10 episodes\n",
    "start_time = time.time()\n",
    "\n",
    "for e_test in range(10):  # Run 10 test episodes\n",
    "    state, _ = env.reset()\n",
    "    state = np.reshape(state, [1, state_size])\n",
    "    total_reward = 0\n",
    "    \n",
    "    steps = 0\n",
    "    while True:\n",
    "        # Use the trained model for testing\n",
    "        action_vals = DQN.predict(state, verbose=0)  # Predict action values\n",
    "        action = np.argmax(action_vals[0])  # Choose the action with the highest Q-value\n",
    "\n",
    "        next_state, reward, done, truncated, _ = env.step(action)\n",
    "        next_state = np.reshape(next_state, [1, state_size])\n",
    "        total_reward += reward\n",
    "        state = next_state\n",
    "        steps = steps + 1\n",
    "        if done or truncated:\n",
    "            print(f\"Test Episode: {e_test + 1:2}/10, Reward: {total_reward:.2f}, Steps: {steps:3}\")\n",
    "            break\n",
    "\n",
    "end_time = time.time()\n",
    "testing_duration = (end_time - start_time) / 60  # Convert to minutes\n",
    "print(f\"Testing completed in {testing_duration:.2f} minutes\")"
   ]
  },
  {
   "cell_type": "markdown",
   "id": "67f36b76",
   "metadata": {},
   "source": [
    "#### **Rendering 1 episode**"
   ]
  },
  {
   "cell_type": "code",
   "execution_count": 18,
   "id": "0e9e3acd",
   "metadata": {},
   "outputs": [
    {
     "name": "stdout",
     "output_type": "stream",
     "text": [
      "Rendered Test Episode Reward: 500.00\n",
      "Saved GIF to: ./CARTPOLE_DQN.gif\n"
     ]
    }
   ],
   "source": [
    "# Test the trained agent with video rendering\n",
    "# This code is useful if you are using colab otherwise use render_mode='human'\n",
    "env = gym.make((\"CartPole-v1\"), render_mode='rgb_array')  # Enable RGB rendering\n",
    "frames = []  # Store frames for visualization\n",
    "\n",
    "# Render a single test episode\n",
    "state, _ = env.reset()\n",
    "state = np.reshape(state, [1, state_size])\n",
    "tot_rewards = 0\n",
    "\n",
    "while True:\n",
    "    # Use the trained model for action\n",
    "    action_vals = DQN.predict(state, verbose=0)  # Predict action values\n",
    "    action = np.argmax(action_vals[0])           # Choose the action with the highest Q-value\n",
    "\n",
    "    next_state, reward, done, truncated, _ = env.step(action)\n",
    "    frames.append(env.render())                  # Save frame for rendering later\n",
    "    next_state = np.reshape(next_state, [1, state_size])\n",
    "    tot_rewards += reward\n",
    "    state = next_state\n",
    "\n",
    "    if done or truncated:\n",
    "        print(f\"Rendered Test Episode Reward: {tot_rewards:.2f}\")\n",
    "        break\n",
    "\n",
    "env.close()\n",
    "\n",
    "# Save the rendered episode as a GIF\n",
    "def save_frames_as_gif(frames, path='./', filename='CARTPOLE_DQN.gif'):\n",
    "    images = [Image.fromarray(frame) for frame in frames]\n",
    "    gif_path = os.path.join(path, filename)\n",
    "    images[0].save(gif_path, save_all=True, append_images=images[1:], duration=50, loop=0)\n",
    "    print(f\"Saved GIF to: {gif_path}\")\n",
    "\n",
    "save_frames_as_gif(frames, filename='CARTPOLE_DQN.gif')\n"
   ]
  },
  {
   "cell_type": "markdown",
   "id": "c3ebfabb",
   "metadata": {},
   "source": [
    "## CartPole DDQN"
   ]
  },
  {
   "cell_type": "code",
   "execution_count": 19,
   "id": "4806456b",
   "metadata": {},
   "outputs": [],
   "source": [
    "# DDQN Cartpole\n",
    "\n",
    "def build_model(state_size, action_size):\n",
    "    inputs = Input(shape=(state_size,), name=\"state_input\")\n",
    "    x = Dense(24, activation='relu', name=\"dense_1\")(inputs)\n",
    "    x = Dense(24, activation='relu', name=\"dense_2\")(x)\n",
    "    outputs = Dense(action_size, activation='linear', name=\"output_layer\")(x)\n",
    "    \n",
    "    model = Model(inputs=inputs, outputs=outputs, name=\"Q_Network\")\n",
    "    model.compile(loss='mse', optimizer=Adam(learning_rate=learning_rate))\n",
    "    return model\n",
    "\n",
    "# Create man and target networks\n",
    "DQN = build_model(state_size, action_size)\n",
    "target_DQN = build_model(state_size, action_size)\n",
    "target_DQN.set_weights(DQN.get_weights()) # Initialize target network with main network weights\n",
    "\n",
    "def update_target_network():\n",
    "    \"\"\"\n",
    "    Update the target network with the main network weights\n",
    "    \"\"\"\n",
    "    target_DQN.set_weights(DQN.get_weights())\n",
    "\n",
    "def experience_replay(batch_size, model, epsilon):\n",
    "    \"\"\"\n",
    "    Sample a batch of experiences from the replay buffer.\n",
    "    Double DQN: Use the main network to select the action, and the target network to evaluate the Q-values.\n",
    "    \"\"\"\n",
    "    # If the replay buffer is less than the batch size, return because we can't sample a batch\n",
    "    if len(replay_buffer) < batch_size:\n",
    "        return\n",
    "\n",
    "    states, actions, rewards, next_states, dones = sample_experiences(batch_size)\n",
    "\n",
    "    # Get current Q-values from the main network\n",
    "    target_qs = model.predict(states, verbose=verb)\n",
    "\n",
    "    # Double DQN: Use the main network to select the action, and the target network to evaluate the Q-values.\n",
    "    next_qs_main = model.predict(next_states, verbose=verb) # Main network predicts next states\n",
    "    next_qs_target = target_DQN.predict(next_states, verbose=verb) # Target network predicts next states\n",
    "\n",
    "    # Select the best action for each next state using the main network\n",
    "    best_actions = np.argmax(next_qs_main, axis=1)\n",
    "\n",
    "    # Get Q-values for the best actions from the target network\n",
    "    best_qs = next_qs_target[np.arange(batch_size), best_actions]\n",
    "\n",
    "    # Update the target Q-values using the Bellman equation\n",
    "    target_qs[np.arange(batch_size), actions] = rewards + gamma * best_qs * (1 - dones)\n",
    "\n",
    "    # Train the main network on the target Q-values\n",
    "    model.fit(states, target_qs, epochs=1, verbose=0)\n",
    "\n",
    "# Add target network update to the training loop\n",
    "def train_episode(env, model, epsilon):\n",
    "    state, info = env.reset()\n",
    "    total_reward = 0\n",
    "    done = False\n",
    "\n",
    "    while not done:\n",
    "        action = select_action_greedy(state, model, epsilon)\n",
    "        next_state, reward, done, truncated, info = env.step(action)\n",
    "        store(state, action, reward, next_state, done)\n",
    "        experience_replay(batch_size, model, epsilon)\n",
    "        state = next_state\n",
    "        total_reward += reward\n",
    "\n",
    "        # Update target network periodically (every 10 episodes)\n",
    "        if episode % 10 == 0:\n",
    "            update_target_network()\n",
    "    \n",
    "    return total_reward"
   ]
  }
 ],
 "metadata": {
  "kernelspec": {
   "display_name": "gpu310",
   "language": "python",
   "name": "python3"
  },
  "language_info": {
   "codemirror_mode": {
    "name": "ipython",
    "version": 3
   },
   "file_extension": ".py",
   "mimetype": "text/x-python",
   "name": "python",
   "nbconvert_exporter": "python",
   "pygments_lexer": "ipython3",
   "version": "3.10.18"
  }
 },
 "nbformat": 4,
 "nbformat_minor": 5
}
