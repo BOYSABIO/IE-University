{
 "cells": [
  {
   "cell_type": "markdown",
   "metadata": {},
   "source": [
    "### Logical & Physical Design"
   ]
  },
  {
   "cell_type": "markdown",
   "metadata": {},
   "source": [
    "Database Management System\n",
    "- Software to manage a database\n",
    "- DB2, IMS, MySQL, Oracle Access, SQL Server, etc.\n",
    "\n",
    "Logical Design: Modeling (representing / drawing) a real life situation to implement a database\n",
    "- Database for fast food restaurant\n",
    "Physical Design: Database implementation. Next step after logical design.\n",
    "- Use a Database Management System (DBMS)."
   ]
  },
  {
   "cell_type": "markdown",
   "metadata": {},
   "source": [
    "### Business Data & Question\n",
    "ex. Restaurant -> what are the top 3 favorite meals?"
   ]
  },
  {
   "cell_type": "markdown",
   "metadata": {},
   "source": [
    "“Talk\" to the user to understand the business needs:\n",
    "- Interviews, forms, use cases, business rules, observation, etc.\n",
    "\n",
    "Write / Draw these requirements “in a paper” / in a tool.\n",
    "- Entity Relationship Diagram (ERD).\n",
    "- Database Logical Design\n",
    "\n",
    "Create / Implement these requirements in the Database.\n",
    "- Create the objects (e.g. tables) in the database.\n",
    "- Database Physical Design."
   ]
  },
  {
   "cell_type": "code",
   "execution_count": null,
   "metadata": {},
   "outputs": [],
   "source": []
  }
 ],
 "metadata": {
  "language_info": {
   "name": "python"
  }
 },
 "nbformat": 4,
 "nbformat_minor": 2
}
