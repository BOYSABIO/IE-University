{
 "cells": [
  {
   "cell_type": "markdown",
   "metadata": {},
   "source": [
    "### Conditionals"
   ]
  },
  {
   "cell_type": "code",
   "execution_count": null,
   "metadata": {},
   "outputs": [],
   "source": [
    "1 == 1\n",
    "1 != 1\n",
    "1 > 1\n",
    "1 < 1\n",
    "1 >= 1\n",
    "1 <= 1"
   ]
  },
  {
   "cell_type": "markdown",
   "metadata": {},
   "source": [
    "### IF ELSE Exercises"
   ]
  },
  {
   "cell_type": "code",
   "execution_count": 3,
   "metadata": {},
   "outputs": [
    {
     "name": "stdout",
     "output_type": "stream",
     "text": [
      "You need to pay the full price\n",
      "It's cold today\n",
      "Access Granted\n"
     ]
    }
   ],
   "source": [
    "# Movie Ticket Discount\n",
    "age = int(input(\"Please enter your age: \"))\n",
    "if age < 18:\n",
    "    print(\"You get a child discount\")\n",
    "else:\n",
    "    print(\"You need to pay the full price\")\n",
    "\n",
    "# Tempurature Check\n",
    "temp = int(input(\"Enter the current tempurature: \"))\n",
    "if temp >= 25:\n",
    "    print(\"It's hot today\")\n",
    "else:\n",
    "    print(\"It's cold today\")\n",
    "\n",
    "# Password Check\n",
    "correct_password = \"password\"\n",
    "entered_password = input(\"Enter password: \")\n",
    "if entered_password == correct_password:\n",
    "    print(\"Access Granted\")\n",
    "else:\n",
    "    print(\"Access Denied\")"
   ]
  }
 ],
 "metadata": {
  "kernelspec": {
   "display_name": "Python 3",
   "language": "python",
   "name": "python3"
  },
  "language_info": {
   "codemirror_mode": {
    "name": "ipython",
    "version": 3
   },
   "file_extension": ".py",
   "mimetype": "text/x-python",
   "name": "python",
   "nbconvert_exporter": "python",
   "pygments_lexer": "ipython3",
   "version": "3.8.2"
  }
 },
 "nbformat": 4,
 "nbformat_minor": 2
}
