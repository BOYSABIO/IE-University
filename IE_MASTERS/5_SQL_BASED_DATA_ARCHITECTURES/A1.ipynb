{
 "cells": [
  {
   "cell_type": "markdown",
   "metadata": {},
   "source": [
    "### Question 1"
   ]
  },
  {
   "cell_type": "markdown",
   "metadata": {},
   "source": [
    "Create the Table BUSES with the following columns:\n",
    "\n",
    "\n",
    "\n",
    "LICENSE_PLATE: It's an alphanumeric string that identifies the bus. The column's data type is CHAR(8) and must not contain nulls.\n",
    "SEATS: It's the total number of seats on the bus. The column's data type is INTEGER and the default value is 50.\n",
    "BUILD_DATE: It's the date the bus was built. The column's data type is DATE.\n",
    "MAINTENANCE: It's a boolean data type specifying whether the bus is currently in maintenance mode or not.\n",
    "\n",
    "\n",
    "This table contains one row for every bus in the company. \n",
    "\n",
    "Please, insert the following 5 buses into the table using 1 single SQL statement:"
   ]
  },
  {
   "cell_type": "markdown",
   "metadata": {},
   "source": [
    "| LICENSE_PLATE | SEATS | BUILD_DATE | MAINTENANCE |\n",
    "| ----------- | ----------- | ----------- | ----------- |\n",
    "| 2471 HJS | 48 | 2000-01-30 | unknown |\n",
    "| 6583 ZML | 30 | 2014-01-01 | NO |\n",
    "| 2448 GHI | 60 | 2013-12-04 | ​NO |\n",
    "| 4646 BCD | 53 | unknown | YES |\n",
    "| 2896 BMS | default | unknown | YES |"
   ]
  },
  {
   "cell_type": "code",
   "execution_count": null,
   "metadata": {
    "vscode": {
     "languageId": "sql"
    }
   },
   "outputs": [],
   "source": [
    "CREATE TABLE BUSES(\n",
    "LICENSE_PLATE CHAR(8) NOT NULL,\n",
    "SEATS INTEGER DEFAULT 50,\n",
    "BUILD_DATE DATE,\n",
    "MAINTENANCE BOOLEAN);\n",
    "\n",
    "INSERT INTO BUSES VALUES\n",
    "('2471 HJS', 48, '2000-01-30', NULL),\n",
    "('6583 ZML', 30, '2014-01-01', FALSE),\n",
    "('2448 GHI', 60, '2013-12-04', FALSE),\n",
    "('4646 BCD', 53, NULL, TRUE), \n",
    "('2896 BMS', DEFAULT, NULL, TRUE);"
   ]
  },
  {
   "cell_type": "markdown",
   "metadata": {},
   "source": [
    "### Question 2"
   ]
  },
  {
   "cell_type": "markdown",
   "metadata": {},
   "source": [
    "Matthew bought a new bus, with license number 4040 YMC, and built date on August 5th, 2019. He doesn't care about the number of seats the bus has. In fact, he doesn't even know the number of seats it's got. He didn't spend his time counting the number of seats on the bus. Even loading a NULL value in this attribute will be acceptable for him. The same goes for maintenance. Any value is acceptable, true, false, or null.\n",
    "\n",
    "Which of the following statements will insert the row in the table with the data expected by Matthew?"
   ]
  },
  {
   "cell_type": "code",
   "execution_count": null,
   "metadata": {
    "vscode": {
     "languageId": "sql"
    }
   },
   "outputs": [],
   "source": [
    "-- ANSWER A (Not correct)\n",
    "INSERT INTO BUSES (LICENSE_PLATE, SEATS, BUILD_DATE)\n",
    "VALUES ('4040 YMC', DEFAULT, '2019-05-08'); --This month and day is not correct"
   ]
  },
  {
   "cell_type": "code",
   "execution_count": null,
   "metadata": {
    "vscode": {
     "languageId": "sql"
    }
   },
   "outputs": [],
   "source": [
    "-- ANSWER B (I think its correct)\n",
    "INSERT INTO BUSES (LICENSE_PLATE, BUILD_DATE, SEATS)\n",
    "VALUES ('4040 YMC', '2019-08-05', DEFAULT);"
   ]
  },
  {
   "cell_type": "code",
   "execution_count": null,
   "metadata": {
    "vscode": {
     "languageId": "sql"
    }
   },
   "outputs": [],
   "source": [
    "-- ANSWER C (Maybe)\n",
    "INSERT INTO BUSES VALUES ('4040 YMC', NULL, '2019-08-05', 'TRUE'); --Need to check if NULL will be set to default and if 'TRUE' works"
   ]
  },
  {
   "cell_type": "code",
   "execution_count": null,
   "metadata": {
    "vscode": {
     "languageId": "sql"
    }
   },
   "outputs": [],
   "source": [
    "-- ANSWER D (I think its correct)\n",
    "INSERT INTO BUSES\n",
    "VALUES ('4040 YMC', DEFAULT, '2019-08-05', FALSE);"
   ]
  },
  {
   "cell_type": "code",
   "execution_count": null,
   "metadata": {
    "vscode": {
     "languageId": "sql"
    }
   },
   "outputs": [],
   "source": [
    "-- ANSWER E (I think its correct)\n",
    "INSERT INTO BUSES (BUILD_DATE, LICENSE_PLATE)\n",
    "VALUES ('2019-08-05', '4040 YMC')"
   ]
  }
 ],
 "metadata": {
  "language_info": {
   "name": "python"
  }
 },
 "nbformat": 4,
 "nbformat_minor": 2
}
