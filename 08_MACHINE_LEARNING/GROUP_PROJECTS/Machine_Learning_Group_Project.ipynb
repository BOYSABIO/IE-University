{
 "cells": [
  {
   "cell_type": "markdown",
   "metadata": {},
   "source": [
    "# Machine Learning Songs Group Project"
   ]
  },
  {
   "cell_type": "markdown",
   "metadata": {},
   "source": [
    "## Data Exploration"
   ]
  },
  {
   "cell_type": "markdown",
   "metadata": {},
   "source": [
    "### Data Types"
   ]
  },
  {
   "cell_type": "code",
   "execution_count": null,
   "metadata": {},
   "outputs": [
    {
     "name": "stderr",
     "output_type": "stream",
     "text": [
      "C:\\Users\\SABIO\\AppData\\Local\\Temp\\ipykernel_26120\\3070023069.py:4: DeprecationWarning: Importing display from IPython.core.display is deprecated since IPython 7.14, please import from IPython.display\n",
      "  from IPython.core.display import display, Markdown\n"
     ]
    },
    {
     "data": {
      "text/markdown": [
       "| Variable          | Description                                                                                                                                                                  | Data Type   |\n",
       "|:------------------|:-----------------------------------------------------------------------------------------------------------------------------------------------------------------------------|:------------|\n",
       "| track_name        | track name                                                                                                                                                                   | object      |\n",
       "| track_popularity  | track popularity from 0 to 100                                                                                                                                               | int64       |\n",
       "| album             | album the track appears on                                                                                                                                                   | object      |\n",
       "| artist_name       | artist name                                                                                                                                                                  | object      |\n",
       "| artist_genres     | list of the Genres the artist is associated with                                                                                                                             | object      |\n",
       "| artist_popularity | artist popularity from 0 to 100, being the maximum                                                                                                                           | int64       |\n",
       "| danceability      | a value of 0.0 is least danceable and 1.0 is most danceable                                                                                                                  | float64     |\n",
       "| energy            | a measure from 0.0 to 1.0 and represents a perceptual measure of intensity and activity, being 1.0 the maximum                                                               | float64     |\n",
       "| key               | The key the track is in. Integers map to pitches using standard Pitch Class notation. E.g. 0 = C,  1 = C♯/D♭,  2 = D  and so on                                              | float64     |\n",
       "| loudness          | The overall loudness of a track in decibels (dB)                                                                                                                             | float64     |\n",
       "| mode              | Modality (major or minor) of a track. Major = 1 and minor = 0                                                                                                                | float64     |\n",
       "| speechiness       | Detects the presence of spoken words in a track. The more exclusively speech-like the recording (e.g. talk show, audio book, poetry), the closer to 1.0 the attribute value. | float64     |\n",
       "| acousticness      | A confidence measure from 0.0 to 1.0 of whether the track is acoustic                                                                                                        | float64     |\n",
       "| instrumentalness  | Predicts whether a track contains no vocals                                                                                                                                  | float64     |\n",
       "| liveness          | Detects the presence of an audience in the recording                                                                                                                         | float64     |\n",
       "| valence           | a measure from 0.0 to 1.0 describing the musical positiveness conveyed by a track                                                                                            | float64     |\n",
       "| tempo             | The overall estimated tempo of a track in beats per minute (BPM)                                                                                                             | float64     |\n",
       "| duration_ms       | The duration of the track in milliseconds                                                                                                                                    | float64     |"
      ],
      "text/plain": [
       "<IPython.core.display.Markdown object>"
      ]
     },
     "metadata": {},
     "output_type": "display_data"
    },
    {
     "data": {
      "text/html": [
       "<div>\n",
       "<style scoped>\n",
       "    .dataframe tbody tr th:only-of-type {\n",
       "        vertical-align: middle;\n",
       "    }\n",
       "\n",
       "    .dataframe tbody tr th {\n",
       "        vertical-align: top;\n",
       "    }\n",
       "\n",
       "    .dataframe thead th {\n",
       "        text-align: right;\n",
       "    }\n",
       "</style>\n",
       "<table border=\"1\" class=\"dataframe\">\n",
       "  <thead>\n",
       "    <tr style=\"text-align: right;\">\n",
       "      <th></th>\n",
       "      <th>year</th>\n",
       "      <th>track_name</th>\n",
       "      <th>track_popularity</th>\n",
       "      <th>album</th>\n",
       "      <th>artist_name</th>\n",
       "      <th>artist_genres</th>\n",
       "      <th>artist_popularity</th>\n",
       "      <th>danceability</th>\n",
       "      <th>energy</th>\n",
       "      <th>key</th>\n",
       "      <th>loudness</th>\n",
       "      <th>mode</th>\n",
       "      <th>speechiness</th>\n",
       "      <th>acousticness</th>\n",
       "      <th>instrumentalness</th>\n",
       "      <th>liveness</th>\n",
       "      <th>valence</th>\n",
       "      <th>tempo</th>\n",
       "      <th>duration_ms</th>\n",
       "    </tr>\n",
       "  </thead>\n",
       "  <tbody>\n",
       "    <tr>\n",
       "      <th>0</th>\n",
       "      <td>2000</td>\n",
       "      <td>7 Days</td>\n",
       "      <td>73</td>\n",
       "      <td>Born to Do It</td>\n",
       "      <td>Craig David</td>\n",
       "      <td>['british soul']</td>\n",
       "      <td>62</td>\n",
       "      <td>0.659</td>\n",
       "      <td>0.812</td>\n",
       "      <td>4.0</td>\n",
       "      <td>87.0</td>\n",
       "      <td>0.0</td>\n",
       "      <td>0.0487</td>\n",
       "      <td>0.23</td>\n",
       "      <td>0.0</td>\n",
       "      <td>0.0951</td>\n",
       "      <td>0.888</td>\n",
       "      <td>83.014</td>\n",
       "      <td>235133.0</td>\n",
       "    </tr>\n",
       "  </tbody>\n",
       "</table>\n",
       "</div>"
      ],
      "text/plain": [
       "   year track_name  track_popularity          album  artist_name  \\\n",
       "0  2000     7 Days                73  Born to Do It  Craig David   \n",
       "\n",
       "      artist_genres  artist_popularity  danceability  energy  key  loudness  \\\n",
       "0  ['british soul']                 62         0.659   0.812  4.0      87.0   \n",
       "\n",
       "   mode  speechiness  acousticness  instrumentalness  liveness  valence  \\\n",
       "0   0.0       0.0487          0.23               0.0    0.0951    0.888   \n",
       "\n",
       "    tempo  duration_ms  \n",
       "0  83.014     235133.0  "
      ]
     },
     "metadata": {},
     "output_type": "display_data"
    },
    {
     "data": {
      "text/markdown": [
       "---"
      ],
      "text/plain": [
       "<IPython.core.display.Markdown object>"
      ]
     },
     "metadata": {},
     "output_type": "display_data"
    }
   ],
   "source": [
    "import pandas as pd\n",
    "import numpy as np\n",
    "import re\n",
    "from IPython.core.display import display, Markdown\n",
    "import matplotlib.pyplot as plt\n",
    "import seaborn as sns\n",
    "import itertools\n",
    "from sklearn.preprocessing import StandardScaler\n",
    "from sklearn.preprocessing import MinMaxScaler\n",
    "from sklearn.cluster import KMeans\n",
    "from sklearn.metrics import silhouette_score\n",
    "pd.set_option('display.max_columns', None)\n",
    "\n",
    "summary = pd.read_excel('Songs_2025.xlsx', sheet_name='legend')\n",
    "summary = summary.rename(columns = {'year': 'Variable', 'year.1': 'Description'})\n",
    "\n",
    "df = pd.read_excel('Songs_2025.xlsx', sheet_name='spotify songs')\n",
    "summary['Data Type'] = df.dtypes.values[1:]\n",
    "\n",
    "md_table = summary.to_markdown(index=False)\n",
    "display(Markdown(md_table))\n",
    "display(df.head(1))\n",
    "display(Markdown('---'))"
   ]
  },
  {
   "cell_type": "markdown",
   "metadata": {},
   "source": [
    "### Handling Null Values"
   ]
  },
  {
   "cell_type": "code",
   "execution_count": 3,
   "metadata": {},
   "outputs": [
    {
     "data": {
      "text/html": [
       "<div>\n",
       "<style scoped>\n",
       "    .dataframe tbody tr th:only-of-type {\n",
       "        vertical-align: middle;\n",
       "    }\n",
       "\n",
       "    .dataframe tbody tr th {\n",
       "        vertical-align: top;\n",
       "    }\n",
       "\n",
       "    .dataframe thead th {\n",
       "        text-align: right;\n",
       "    }\n",
       "</style>\n",
       "<table border=\"1\" class=\"dataframe\">\n",
       "  <thead>\n",
       "    <tr style=\"text-align: right;\">\n",
       "      <th></th>\n",
       "      <th>Number_of_Nulls</th>\n",
       "    </tr>\n",
       "  </thead>\n",
       "  <tbody>\n",
       "    <tr>\n",
       "      <th>year</th>\n",
       "      <td>0</td>\n",
       "    </tr>\n",
       "    <tr>\n",
       "      <th>track_name</th>\n",
       "      <td>0</td>\n",
       "    </tr>\n",
       "    <tr>\n",
       "      <th>track_popularity</th>\n",
       "      <td>0</td>\n",
       "    </tr>\n",
       "    <tr>\n",
       "      <th>album</th>\n",
       "      <td>0</td>\n",
       "    </tr>\n",
       "    <tr>\n",
       "      <th>artist_name</th>\n",
       "      <td>0</td>\n",
       "    </tr>\n",
       "    <tr>\n",
       "      <th>artist_genres</th>\n",
       "      <td>0</td>\n",
       "    </tr>\n",
       "    <tr>\n",
       "      <th>artist_popularity</th>\n",
       "      <td>0</td>\n",
       "    </tr>\n",
       "    <tr>\n",
       "      <th>danceability</th>\n",
       "      <td>1</td>\n",
       "    </tr>\n",
       "    <tr>\n",
       "      <th>energy</th>\n",
       "      <td>1</td>\n",
       "    </tr>\n",
       "    <tr>\n",
       "      <th>key</th>\n",
       "      <td>1</td>\n",
       "    </tr>\n",
       "    <tr>\n",
       "      <th>loudness</th>\n",
       "      <td>1</td>\n",
       "    </tr>\n",
       "    <tr>\n",
       "      <th>mode</th>\n",
       "      <td>1</td>\n",
       "    </tr>\n",
       "    <tr>\n",
       "      <th>speechiness</th>\n",
       "      <td>1</td>\n",
       "    </tr>\n",
       "    <tr>\n",
       "      <th>acousticness</th>\n",
       "      <td>1</td>\n",
       "    </tr>\n",
       "    <tr>\n",
       "      <th>instrumentalness</th>\n",
       "      <td>1</td>\n",
       "    </tr>\n",
       "    <tr>\n",
       "      <th>liveness</th>\n",
       "      <td>1</td>\n",
       "    </tr>\n",
       "    <tr>\n",
       "      <th>valence</th>\n",
       "      <td>1</td>\n",
       "    </tr>\n",
       "    <tr>\n",
       "      <th>tempo</th>\n",
       "      <td>1</td>\n",
       "    </tr>\n",
       "    <tr>\n",
       "      <th>duration_ms</th>\n",
       "      <td>1</td>\n",
       "    </tr>\n",
       "  </tbody>\n",
       "</table>\n",
       "</div>"
      ],
      "text/plain": [
       "                   Number_of_Nulls\n",
       "year                             0\n",
       "track_name                       0\n",
       "track_popularity                 0\n",
       "album                            0\n",
       "artist_name                      0\n",
       "artist_genres                    0\n",
       "artist_popularity                0\n",
       "danceability                     1\n",
       "energy                           1\n",
       "key                              1\n",
       "loudness                         1\n",
       "mode                             1\n",
       "speechiness                      1\n",
       "acousticness                     1\n",
       "instrumentalness                 1\n",
       "liveness                         1\n",
       "valence                          1\n",
       "tempo                            1\n",
       "duration_ms                      1"
      ]
     },
     "execution_count": 3,
     "metadata": {},
     "output_type": "execute_result"
    }
   ],
   "source": [
    "# Check for Missing Values\n",
    "pd.DataFrame(df.isnull().sum()).rename(columns = {0:'Number_of_Nulls'})"
   ]
  },
  {
   "cell_type": "code",
   "execution_count": 4,
   "metadata": {},
   "outputs": [
    {
     "data": {
      "text/html": [
       "<div>\n",
       "<style scoped>\n",
       "    .dataframe tbody tr th:only-of-type {\n",
       "        vertical-align: middle;\n",
       "    }\n",
       "\n",
       "    .dataframe tbody tr th {\n",
       "        vertical-align: top;\n",
       "    }\n",
       "\n",
       "    .dataframe thead th {\n",
       "        text-align: right;\n",
       "    }\n",
       "</style>\n",
       "<table border=\"1\" class=\"dataframe\">\n",
       "  <thead>\n",
       "    <tr style=\"text-align: right;\">\n",
       "      <th></th>\n",
       "      <th>year</th>\n",
       "      <th>track_name</th>\n",
       "      <th>track_popularity</th>\n",
       "      <th>album</th>\n",
       "      <th>artist_name</th>\n",
       "      <th>artist_genres</th>\n",
       "      <th>artist_popularity</th>\n",
       "      <th>danceability</th>\n",
       "      <th>energy</th>\n",
       "      <th>key</th>\n",
       "      <th>loudness</th>\n",
       "      <th>mode</th>\n",
       "      <th>speechiness</th>\n",
       "      <th>acousticness</th>\n",
       "      <th>instrumentalness</th>\n",
       "      <th>liveness</th>\n",
       "      <th>valence</th>\n",
       "      <th>tempo</th>\n",
       "      <th>duration_ms</th>\n",
       "    </tr>\n",
       "  </thead>\n",
       "  <tbody>\n",
       "    <tr>\n",
       "      <th>488</th>\n",
       "      <td>2004</td>\n",
       "      <td>These Words</td>\n",
       "      <td>68</td>\n",
       "      <td>Unwritten</td>\n",
       "      <td>Natasha Bedingfield</td>\n",
       "      <td>['dance pop'; 'pop'; 'post-teen pop']</td>\n",
       "      <td>64</td>\n",
       "      <td>NaN</td>\n",
       "      <td>NaN</td>\n",
       "      <td>NaN</td>\n",
       "      <td>NaN</td>\n",
       "      <td>NaN</td>\n",
       "      <td>NaN</td>\n",
       "      <td>NaN</td>\n",
       "      <td>NaN</td>\n",
       "      <td>NaN</td>\n",
       "      <td>NaN</td>\n",
       "      <td>NaN</td>\n",
       "      <td>NaN</td>\n",
       "    </tr>\n",
       "  </tbody>\n",
       "</table>\n",
       "</div>"
      ],
      "text/plain": [
       "     year   track_name  track_popularity      album          artist_name  \\\n",
       "488  2004  These Words                68  Unwritten  Natasha Bedingfield   \n",
       "\n",
       "                             artist_genres  artist_popularity  danceability  \\\n",
       "488  ['dance pop'; 'pop'; 'post-teen pop']                 64           NaN   \n",
       "\n",
       "     energy  key  loudness  mode  speechiness  acousticness  instrumentalness  \\\n",
       "488     NaN  NaN       NaN   NaN          NaN           NaN               NaN   \n",
       "\n",
       "     liveness  valence  tempo  duration_ms  \n",
       "488       NaN      NaN    NaN          NaN  "
      ]
     },
     "metadata": {},
     "output_type": "display_data"
    },
    {
     "data": {
      "text/markdown": [
       "Considering there is only one track with virtually all values missing and an average track popularity, it might make sense to just drop the value and continue with the analysis."
      ],
      "text/plain": [
       "<IPython.core.display.Markdown object>"
      ]
     },
     "metadata": {},
     "output_type": "display_data"
    }
   ],
   "source": [
    "# Where the missing values are coming from\n",
    "missing_value = df[df.isnull().any(axis = 1)]\n",
    "display(missing_value)\n",
    "display(Markdown('Considering there is only one track with virtually all values missing and an average track popularity, it might make sense to just drop the value and continue with the analysis.'))"
   ]
  },
  {
   "cell_type": "code",
   "execution_count": 5,
   "metadata": {},
   "outputs": [
    {
     "data": {
      "text/html": [
       "<div>\n",
       "<style scoped>\n",
       "    .dataframe tbody tr th:only-of-type {\n",
       "        vertical-align: middle;\n",
       "    }\n",
       "\n",
       "    .dataframe tbody tr th {\n",
       "        vertical-align: top;\n",
       "    }\n",
       "\n",
       "    .dataframe thead th {\n",
       "        text-align: right;\n",
       "    }\n",
       "</style>\n",
       "<table border=\"1\" class=\"dataframe\">\n",
       "  <thead>\n",
       "    <tr style=\"text-align: right;\">\n",
       "      <th></th>\n",
       "      <th>Number_of_Nulls</th>\n",
       "    </tr>\n",
       "  </thead>\n",
       "  <tbody>\n",
       "    <tr>\n",
       "      <th>year</th>\n",
       "      <td>0</td>\n",
       "    </tr>\n",
       "    <tr>\n",
       "      <th>track_name</th>\n",
       "      <td>0</td>\n",
       "    </tr>\n",
       "    <tr>\n",
       "      <th>track_popularity</th>\n",
       "      <td>0</td>\n",
       "    </tr>\n",
       "    <tr>\n",
       "      <th>album</th>\n",
       "      <td>0</td>\n",
       "    </tr>\n",
       "    <tr>\n",
       "      <th>artist_name</th>\n",
       "      <td>0</td>\n",
       "    </tr>\n",
       "    <tr>\n",
       "      <th>artist_genres</th>\n",
       "      <td>0</td>\n",
       "    </tr>\n",
       "    <tr>\n",
       "      <th>artist_popularity</th>\n",
       "      <td>0</td>\n",
       "    </tr>\n",
       "    <tr>\n",
       "      <th>danceability</th>\n",
       "      <td>0</td>\n",
       "    </tr>\n",
       "    <tr>\n",
       "      <th>energy</th>\n",
       "      <td>0</td>\n",
       "    </tr>\n",
       "    <tr>\n",
       "      <th>key</th>\n",
       "      <td>0</td>\n",
       "    </tr>\n",
       "    <tr>\n",
       "      <th>loudness</th>\n",
       "      <td>0</td>\n",
       "    </tr>\n",
       "    <tr>\n",
       "      <th>mode</th>\n",
       "      <td>0</td>\n",
       "    </tr>\n",
       "    <tr>\n",
       "      <th>speechiness</th>\n",
       "      <td>0</td>\n",
       "    </tr>\n",
       "    <tr>\n",
       "      <th>acousticness</th>\n",
       "      <td>0</td>\n",
       "    </tr>\n",
       "    <tr>\n",
       "      <th>instrumentalness</th>\n",
       "      <td>0</td>\n",
       "    </tr>\n",
       "    <tr>\n",
       "      <th>liveness</th>\n",
       "      <td>0</td>\n",
       "    </tr>\n",
       "    <tr>\n",
       "      <th>valence</th>\n",
       "      <td>0</td>\n",
       "    </tr>\n",
       "    <tr>\n",
       "      <th>tempo</th>\n",
       "      <td>0</td>\n",
       "    </tr>\n",
       "    <tr>\n",
       "      <th>duration_ms</th>\n",
       "      <td>0</td>\n",
       "    </tr>\n",
       "  </tbody>\n",
       "</table>\n",
       "</div>"
      ],
      "text/plain": [
       "                   Number_of_Nulls\n",
       "year                             0\n",
       "track_name                       0\n",
       "track_popularity                 0\n",
       "album                            0\n",
       "artist_name                      0\n",
       "artist_genres                    0\n",
       "artist_popularity                0\n",
       "danceability                     0\n",
       "energy                           0\n",
       "key                              0\n",
       "loudness                         0\n",
       "mode                             0\n",
       "speechiness                      0\n",
       "acousticness                     0\n",
       "instrumentalness                 0\n",
       "liveness                         0\n",
       "valence                          0\n",
       "tempo                            0\n",
       "duration_ms                      0"
      ]
     },
     "metadata": {},
     "output_type": "display_data"
    },
    {
     "data": {
      "text/markdown": [
       "---"
      ],
      "text/plain": [
       "<IPython.core.display.Markdown object>"
      ]
     },
     "metadata": {},
     "output_type": "display_data"
    }
   ],
   "source": [
    "# Dropping the null row\n",
    "df = df.drop(index = missing_value.index.item())\n",
    "display(pd.DataFrame(df.isnull().sum()).rename(columns = {0:'Number_of_Nulls'}))\n",
    "display(Markdown('---'))"
   ]
  },
  {
   "cell_type": "markdown",
   "metadata": {},
   "source": [
    "### Handling Artists Genres & Artist Popularity"
   ]
  },
  {
   "cell_type": "markdown",
   "metadata": {},
   "source": [
    "Two different approaches. First one takes the first value in the list of artist genres and assumes that it is the most important creating a new column called **dominant_genre_first**. \n",
    "  \n",
    "`Example: ['pop', 'rock'] = pop`  \n",
    "  \n",
    "The second approach will split by every word and count the word that appears the most in the list. If there is an instance where it is only one genre but the genre is two words, it will take the second word and if it is only one word, will take just that word.  \n",
    "  \n",
    "`Example: ['pop', 'rock', 'country pop'] = pop`   \n",
    "`Example: ['british soul'] = soul`  \n",
    "`Example: ['country'] = country`  \n",
    "  \n",
    "The third approach takes a predefined list of genres that we are searching for and first tries to match whole genres to the list of predefined genres and if there are no matches then it will try individual words. If no genres are found that match the predefined list then it will return other.  \n",
    "  \n",
    "`list = ['hip hop', 'pop', 'rock']`\n",
    "\n",
    "`Example: ['hip hop', 'german hip hop'] = hip hop`  \n",
    "`Example: ['punk rock', 'british rock'] = rock`  \n",
    "`Example: ['r&b', 'trap', 'classic'] = other`"
   ]
  },
  {
   "cell_type": "code",
   "execution_count": 6,
   "metadata": {},
   "outputs": [],
   "source": [
    "# Dominant Genre based on first value in list\n",
    "def extract_first_genre(genre_str):\n",
    "    \"\"\"\n",
    "    Cleans a list in string format by removing (], [, and ') and then splits by the delimiter ';' to return the\n",
    "    first value in the list of genres. (Assumes the first genre in the list is most important)\n",
    "    \"\"\"\n",
    "    cleaned_genre = re.sub(r\"[\\[\\]']\", \"\", genre_str).strip()  \n",
    "    genre_list = cleaned_genre.split(';')\n",
    "        \n",
    "    return genre_list[0].strip() \n",
    "\n",
    "\n",
    "df['dominant_genre_first'] = df['artist_genres'].apply(extract_first_genre)"
   ]
  },
  {
   "cell_type": "code",
   "execution_count": 7,
   "metadata": {},
   "outputs": [],
   "source": [
    "# Dominant value based on most occuring word\n",
    "def clean_and_extract_genre(genre_str):\n",
    "    \"\"\"\n",
    "    Cleans a list in string format by removing (], [, and ') and then splits by the delimiter ';' to return a list of \n",
    "    words from the string. If the string only has one genre, it will take the second word as the dominant genre.\n",
    "    If there are more words, then it will count the individual words and return the word that occurs the most.\n",
    "    \"\"\"\n",
    "    if isinstance(genre_str, str):\n",
    "        cleaned_genre = re.sub(r\"[\\[\\]']\", \"\", genre_str)\n",
    "        genre_list = cleaned_genre.split(';')\n",
    "        \n",
    "        words = [word for genre in genre_list for word in genre.split()]\n",
    "        \n",
    "        #No words\n",
    "        if not words:\n",
    "            return 'Unknown'\n",
    "        \n",
    "        #One word\n",
    "        if len(genre_list) == 1:\n",
    "            return words[1] if len(words) > 1 else words[0]\n",
    "        \n",
    "        #Multiple words\n",
    "        return max(words, key=words.count)\n",
    "\n",
    "    return 'Unknown'\n",
    "\n",
    "df['dominant_genre_max'] = df['artist_genres'].apply(clean_and_extract_genre)"
   ]
  },
  {
   "cell_type": "code",
   "execution_count": 8,
   "metadata": {},
   "outputs": [],
   "source": [
    "# Dominant value based on a predefined word list\n",
    "target_genres = {'rock', 'pop', 'hip hop', 'jazz', 'electronic', 'classical', 'blues', \n",
    "                 'country', 'metal', 'reggae', 'country pop', 'trap', 'house', 'techno'}\n",
    "\n",
    "def extract_matching_genre(genre_str, target_genres):\n",
    "    \"\"\"\n",
    "    First, splits the lists into individual genres and checks if it matches the predefined list. In the\n",
    "    case that there are no matches, it will then split the list of genres into individual words and\n",
    "    check if they match the genre list. This helps to make sure we catch genres like hip hop but also\n",
    "    genres like country pop.\n",
    "    \"\"\"\n",
    "    if isinstance(genre_str, str):\n",
    "        cleaned_genre = re.sub(r\"[\\[\\]']\", \"\", genre_str)\n",
    "        genre_list = [genre.strip().lower() for genre in cleaned_genre.split(';')]\n",
    "        \n",
    "        for genre in genre_list:\n",
    "            if genre in target_genres:\n",
    "                return genre  \n",
    "        \n",
    "        words = [word for genre in genre_list for word in genre.split()]\n",
    "        \n",
    "        if \"hip\" in words and \"hop\" in words:\n",
    "            return \"hip hop\"\n",
    "        \n",
    "        for word in words:\n",
    "            if word in target_genres:\n",
    "                return word\n",
    "        \n",
    "    return 'Other' \n",
    "\n",
    "\n",
    "df['matching_genre'] = df['artist_genres'].apply(lambda x: extract_matching_genre(x, target_genres))"
   ]
  },
  {
   "cell_type": "code",
   "execution_count": null,
   "metadata": {},
   "outputs": [],
   "source": [
    "#creating a function to extract all relevant genre categories from the artist_genre column \n",
    "\n",
    "# Define target genres\n",
    "target_genres = {'rock', 'pop', 'hip hop', 'jazz', 'electronic', 'classical', 'blues', \n",
    "                 'country', 'metal', 'reggae', 'country pop', 'trap', 'house', 'techno'} #should we remove country pop??\n",
    "\n",
    "def extract_all_matching_genres(genre_str, target_genres):\n",
    "    \"\"\"\n",
    "    Extracts ALL matching target genres from the artist_genres column.\n",
    "    Returns a list of genres found in target_genres.\n",
    "    If no target genres are found, includes 'Other' in the list.\n",
    "    \"\"\"\n",
    "    if isinstance(genre_str, str):\n",
    "        # Clean the string (remove brackets, quotes, etc.)\n",
    "        cleaned_genre = re.sub(r\"[\\[\\]']\", \"\", genre_str)\n",
    "\n",
    "        # Split into individual genres (assumes comma or semicolon separation)\n",
    "        genre_list = [genre.strip().lower() for genre in re.split(r'[;,]', cleaned_genre)]\n",
    "\n",
    "        # Find exact matches in the target genre list\n",
    "        matching_genres = set()\n",
    "        for genre in genre_list:\n",
    "            for target in target_genres:\n",
    "                if target in genre:  # Check if the target genre is a substring\n",
    "                    matching_genres.add(target)\n",
    "\n",
    "        # Handle special case for \"hip hop\"\n",
    "        words = set(word for genre in genre_list for word in genre.split())\n",
    "        if \"hip\" in words and \"hop\" in words:\n",
    "            matching_genres.add(\"hip hop\")\n",
    "\n",
    "        # Ensure \"Other\" is included if no target genres match\n",
    "        if not matching_genres:\n",
    "            matching_genres.add(\"Other\")\n",
    "\n",
    "        return list(matching_genres)\n",
    "\n",
    "    return [\"Other\"]\n",
    "\n",
    "# Apply function to create the new column\n",
    "df['artist_genre_categories'] = df['artist_genres'].apply(lambda x: extract_all_matching_genres(x, target_genres))\n",
    "\n",
    "\n",
    "# Display the updated DataFrame using Pandas\n",
    "df[['artist_genres', 'artist_genre_categories']].head(2)  # Show first 10 rows"
   ]
  },
  {
   "cell_type": "code",
   "execution_count": null,
   "metadata": {},
   "outputs": [],
   "source": [
    "#Creating flag variables for all genre categories \n",
    "\n",
    "# Convert 'target_artist_genres_shown' into individual binary flag columns\n",
    "df_flags = df['artist_genre_categories'].apply(lambda x: pd.Series({genre: 1 for genre in x}))\n",
    "\n",
    "# Fill NaN values with 0 (indicating absence of a genre)\n",
    "df_flags = df_flags.fillna(0).astype(int)\n",
    "\n",
    "# Drop existing genre flag columns to avoid duplication\n",
    "df = df.drop(columns=df_flags.columns, errors='ignore')\n",
    "\n",
    "# Join the new flag variables back to the original DataFrame\n",
    "df = df.join(df_flags)"
   ]
  },
  {
   "cell_type": "markdown",
   "metadata": {},
   "source": [
    "---"
   ]
  },
  {
   "cell_type": "code",
   "execution_count": 6,
   "metadata": {},
   "outputs": [],
   "source": [
    "# Converting Artist popularity into a binary variable\n",
    "df['artist_popularity_binary'] = df['artist_popularity'].apply(lambda x: 1 if x > 70 else 0)"
   ]
  },
  {
   "cell_type": "markdown",
   "metadata": {},
   "source": [
    "---"
   ]
  },
  {
   "cell_type": "code",
   "execution_count": null,
   "metadata": {},
   "outputs": [
    {
     "data": {
      "text/html": [
       "<div>\n",
       "<style scoped>\n",
       "    .dataframe tbody tr th:only-of-type {\n",
       "        vertical-align: middle;\n",
       "    }\n",
       "\n",
       "    .dataframe tbody tr th {\n",
       "        vertical-align: top;\n",
       "    }\n",
       "\n",
       "    .dataframe thead th {\n",
       "        text-align: right;\n",
       "    }\n",
       "</style>\n",
       "<table border=\"1\" class=\"dataframe\">\n",
       "  <thead>\n",
       "    <tr style=\"text-align: right;\">\n",
       "      <th></th>\n",
       "      <th>dominant_genre_first</th>\n",
       "      <th>dominant_genre_max</th>\n",
       "      <th>matching_genre</th>\n",
       "      <th>artist_popularity_binary</th>\n",
       "    </tr>\n",
       "  </thead>\n",
       "  <tbody>\n",
       "    <tr>\n",
       "      <th>0</th>\n",
       "      <td>british soul</td>\n",
       "      <td>soul</td>\n",
       "      <td>Other</td>\n",
       "      <td>0</td>\n",
       "    </tr>\n",
       "    <tr>\n",
       "      <th>1</th>\n",
       "      <td>pop rock</td>\n",
       "      <td>rock</td>\n",
       "      <td>pop</td>\n",
       "      <td>0</td>\n",
       "    </tr>\n",
       "    <tr>\n",
       "      <th>2</th>\n",
       "      <td>dance pop</td>\n",
       "      <td>pop</td>\n",
       "      <td>pop</td>\n",
       "      <td>1</td>\n",
       "    </tr>\n",
       "    <tr>\n",
       "      <th>3</th>\n",
       "      <td>alternative metal</td>\n",
       "      <td>punk</td>\n",
       "      <td>rock</td>\n",
       "      <td>1</td>\n",
       "    </tr>\n",
       "    <tr>\n",
       "      <th>4</th>\n",
       "      <td>contemporary country</td>\n",
       "      <td>country</td>\n",
       "      <td>country</td>\n",
       "      <td>0</td>\n",
       "    </tr>\n",
       "  </tbody>\n",
       "</table>\n",
       "</div>"
      ],
      "text/plain": [
       "   dominant_genre_first dominant_genre_max matching_genre  \\\n",
       "0          british soul               soul          Other   \n",
       "1              pop rock               rock            pop   \n",
       "2             dance pop                pop            pop   \n",
       "3     alternative metal               punk           rock   \n",
       "4  contemporary country            country        country   \n",
       "\n",
       "   artist_popularity_binary  \n",
       "0                         0  \n",
       "1                         0  \n",
       "2                         1  \n",
       "3                         1  \n",
       "4                         0  "
      ]
     },
     "metadata": {},
     "output_type": "display_data"
    },
    {
     "data": {
      "text/markdown": [
       "---"
      ],
      "text/plain": [
       "<IPython.core.display.Markdown object>"
      ]
     },
     "metadata": {},
     "output_type": "display_data"
    }
   ],
   "source": [
    "display(df[['dominant_genre_first', 'dominant_genre_max', 'matching_genre', 'artist_popularity_binary',\n",
    "            'Other', 'pop', 'rock', 'metal', 'country', 'house', 'hip hop', 'electronic', 'reggae', \n",
    "            'jazz', 'trap', 'techno','blues', 'country pop']].head())\n",
    "display(Markdown('---'))"
   ]
  },
  {
   "cell_type": "markdown",
   "metadata": {},
   "source": [
    "### Unique Values"
   ]
  },
  {
   "cell_type": "code",
   "execution_count": 16,
   "metadata": {},
   "outputs": [
    {
     "data": {
      "text/markdown": [
       "The dataset has **2299 rows** and **23 columns** including the ones we created. \n",
       "                 When analyzing the unique values, we can see that our new columns for extracting the\n",
       "                 dominant genre decrease the amount of unique categories that we have to work with. \n",
       "                 The number of unique values include:"
      ],
      "text/plain": [
       "<IPython.core.display.Markdown object>"
      ]
     },
     "metadata": {},
     "output_type": "display_data"
    },
    {
     "data": {
      "text/html": [
       "<div>\n",
       "<style scoped>\n",
       "    .dataframe tbody tr th:only-of-type {\n",
       "        vertical-align: middle;\n",
       "    }\n",
       "\n",
       "    .dataframe tbody tr th {\n",
       "        vertical-align: top;\n",
       "    }\n",
       "\n",
       "    .dataframe thead th {\n",
       "        text-align: right;\n",
       "    }\n",
       "</style>\n",
       "<table border=\"1\" class=\"dataframe\">\n",
       "  <thead>\n",
       "    <tr style=\"text-align: right;\">\n",
       "      <th></th>\n",
       "      <th>Unique Values</th>\n",
       "    </tr>\n",
       "  </thead>\n",
       "  <tbody>\n",
       "    <tr>\n",
       "      <th>year</th>\n",
       "      <td>23</td>\n",
       "    </tr>\n",
       "    <tr>\n",
       "      <th>track_name</th>\n",
       "      <td>2120</td>\n",
       "    </tr>\n",
       "    <tr>\n",
       "      <th>track_popularity</th>\n",
       "      <td>71</td>\n",
       "    </tr>\n",
       "    <tr>\n",
       "      <th>album</th>\n",
       "      <td>1663</td>\n",
       "    </tr>\n",
       "    <tr>\n",
       "      <th>artist_name</th>\n",
       "      <td>891</td>\n",
       "    </tr>\n",
       "    <tr>\n",
       "      <th>artist_genres</th>\n",
       "      <td>698</td>\n",
       "    </tr>\n",
       "    <tr>\n",
       "      <th>artist_popularity</th>\n",
       "      <td>62</td>\n",
       "    </tr>\n",
       "    <tr>\n",
       "      <th>danceability</th>\n",
       "      <td>585</td>\n",
       "    </tr>\n",
       "    <tr>\n",
       "      <th>energy</th>\n",
       "      <td>641</td>\n",
       "    </tr>\n",
       "    <tr>\n",
       "      <th>key</th>\n",
       "      <td>12</td>\n",
       "    </tr>\n",
       "    <tr>\n",
       "      <th>loudness</th>\n",
       "      <td>104</td>\n",
       "    </tr>\n",
       "    <tr>\n",
       "      <th>mode</th>\n",
       "      <td>2</td>\n",
       "    </tr>\n",
       "    <tr>\n",
       "      <th>speechiness</th>\n",
       "      <td>860</td>\n",
       "    </tr>\n",
       "    <tr>\n",
       "      <th>acousticness</th>\n",
       "      <td>1322</td>\n",
       "    </tr>\n",
       "    <tr>\n",
       "      <th>instrumentalness</th>\n",
       "      <td>841</td>\n",
       "    </tr>\n",
       "    <tr>\n",
       "      <th>liveness</th>\n",
       "      <td>807</td>\n",
       "    </tr>\n",
       "    <tr>\n",
       "      <th>valence</th>\n",
       "      <td>827</td>\n",
       "    </tr>\n",
       "    <tr>\n",
       "      <th>tempo</th>\n",
       "      <td>2074</td>\n",
       "    </tr>\n",
       "    <tr>\n",
       "      <th>duration_ms</th>\n",
       "      <td>2033</td>\n",
       "    </tr>\n",
       "    <tr>\n",
       "      <th>dominant_genre_first</th>\n",
       "      <td>229</td>\n",
       "    </tr>\n",
       "    <tr>\n",
       "      <th>dominant_genre_max</th>\n",
       "      <td>131</td>\n",
       "    </tr>\n",
       "    <tr>\n",
       "      <th>matching_genre</th>\n",
       "      <td>12</td>\n",
       "    </tr>\n",
       "    <tr>\n",
       "      <th>artist_popularity_binary</th>\n",
       "      <td>2</td>\n",
       "    </tr>\n",
       "  </tbody>\n",
       "</table>\n",
       "</div>"
      ],
      "text/plain": [
       "                          Unique Values\n",
       "year                                 23\n",
       "track_name                         2120\n",
       "track_popularity                     71\n",
       "album                              1663\n",
       "artist_name                         891\n",
       "artist_genres                       698\n",
       "artist_popularity                    62\n",
       "danceability                        585\n",
       "energy                              641\n",
       "key                                  12\n",
       "loudness                            104\n",
       "mode                                  2\n",
       "speechiness                         860\n",
       "acousticness                       1322\n",
       "instrumentalness                    841\n",
       "liveness                            807\n",
       "valence                             827\n",
       "tempo                              2074\n",
       "duration_ms                        2033\n",
       "dominant_genre_first                229\n",
       "dominant_genre_max                  131\n",
       "matching_genre                       12\n",
       "artist_popularity_binary              2"
      ]
     },
     "metadata": {},
     "output_type": "display_data"
    },
    {
     "data": {
      "text/markdown": [
       "---"
      ],
      "text/plain": [
       "<IPython.core.display.Markdown object>"
      ]
     },
     "metadata": {},
     "output_type": "display_data"
    }
   ],
   "source": [
    "rows, columns = df.shape \n",
    "display(Markdown(f'''The dataset has **{rows} rows** and **{columns} columns** including the ones we created. \n",
    "                 When analyzing the unique values, we can see that our new columns for extracting the\n",
    "                 dominant genre decrease the amount of unique categories that we have to work with. \n",
    "                 The number of unique values include:'''))\n",
    "\n",
    "unique_values = pd.DataFrame(df.nunique())\n",
    "unique_values = unique_values.rename(columns = {0: 'Unique Values'})\n",
    "display(unique_values)\n",
    "display(Markdown('---'))"
   ]
  },
  {
   "cell_type": "markdown",
   "metadata": {},
   "source": [
    "### Basic Statistics"
   ]
  },
  {
   "cell_type": "markdown",
   "metadata": {},
   "source": [
    "#### Map Values for Readability"
   ]
  },
  {
   "cell_type": "code",
   "execution_count": 17,
   "metadata": {},
   "outputs": [
    {
     "data": {
      "text/markdown": [
       "|                          | 0        |\n",
       "|:-------------------------|:---------|\n",
       "| year                     | category |\n",
       "| track_name               | object   |\n",
       "| track_popularity         | int64    |\n",
       "| album                    | object   |\n",
       "| artist_name              | object   |\n",
       "| artist_genres            | object   |\n",
       "| artist_popularity        | int64    |\n",
       "| danceability             | float64  |\n",
       "| energy                   | float64  |\n",
       "| key                      | category |\n",
       "| loudness                 | float64  |\n",
       "| mode                     | category |\n",
       "| speechiness              | float64  |\n",
       "| acousticness             | float64  |\n",
       "| instrumentalness         | float64  |\n",
       "| liveness                 | float64  |\n",
       "| valence                  | float64  |\n",
       "| tempo                    | float64  |\n",
       "| duration_ms              | float64  |\n",
       "| dominant_genre_first     | category |\n",
       "| dominant_genre_max       | category |\n",
       "| matching_genre           | object   |\n",
       "| artist_popularity_binary | int64    |\n",
       "| pitch_class              | category |\n",
       "| mode_class               | category |"
      ],
      "text/plain": [
       "<IPython.core.display.Markdown object>"
      ]
     },
     "metadata": {},
     "output_type": "display_data"
    }
   ],
   "source": [
    "# Convert categorical numeric columns to categorical type\n",
    "df['mode'] = df['mode'].astype('category')\n",
    "df['key'] = df['key'].astype('category')\n",
    "df['year'] = df['year'].astype('category')\n",
    "df['dominant_genre_first'] = df['dominant_genre_first'].astype('category')\n",
    "df['dominant_genre_max'] = df['dominant_genre_max'].astype('category')\n",
    "\n",
    "pitch_class_map = {\n",
    "    0: \"C\",\n",
    "    1: \"C#/D♭\",\n",
    "    2: \"D\",\n",
    "    3: \"D#/E♭\",\n",
    "    4: \"E\",\n",
    "    5: \"F\",\n",
    "    6: \"F#/G♭\",\n",
    "    7: \"G\",\n",
    "    8: \"G#/A♭\",\n",
    "    9: \"A\",\n",
    "    10: \"A#/B♭\",\n",
    "    11: \"B\"\n",
    "}\n",
    "\n",
    "mode_class_map = {\n",
    "    1: 'major',\n",
    "    0: 'minor'\n",
    "}\n",
    "\n",
    "df['pitch_class'] = df['key'].map(pitch_class_map).astype('category')\n",
    "df['mode_class'] = df['mode'].map(mode_class_map).astype('category')\n",
    "\n",
    "display(Markdown(df.dtypes.to_markdown()))"
   ]
  },
  {
   "cell_type": "markdown",
   "metadata": {},
   "source": [
    "#### Numeric Statistics (Mean, Median, Mode)"
   ]
  },
  {
   "cell_type": "code",
   "execution_count": 18,
   "metadata": {},
   "outputs": [
    {
     "data": {
      "text/html": [
       "<div>\n",
       "<style scoped>\n",
       "    .dataframe tbody tr th:only-of-type {\n",
       "        vertical-align: middle;\n",
       "    }\n",
       "\n",
       "    .dataframe tbody tr th {\n",
       "        vertical-align: top;\n",
       "    }\n",
       "\n",
       "    .dataframe thead th {\n",
       "        text-align: right;\n",
       "    }\n",
       "</style>\n",
       "<table border=\"1\" class=\"dataframe\">\n",
       "  <thead>\n",
       "    <tr style=\"text-align: right;\">\n",
       "      <th></th>\n",
       "      <th>count</th>\n",
       "      <th>mean</th>\n",
       "      <th>std</th>\n",
       "      <th>min</th>\n",
       "      <th>25%</th>\n",
       "      <th>50%</th>\n",
       "      <th>75%</th>\n",
       "      <th>max</th>\n",
       "    </tr>\n",
       "  </thead>\n",
       "  <tbody>\n",
       "    <tr>\n",
       "      <th>track_popularity</th>\n",
       "      <td>2299.0</td>\n",
       "      <td>70.944759</td>\n",
       "      <td>12.294047</td>\n",
       "      <td>0.000000</td>\n",
       "      <td>66.00000</td>\n",
       "      <td>72.0000</td>\n",
       "      <td>79.000000</td>\n",
       "      <td>100.000</td>\n",
       "    </tr>\n",
       "    <tr>\n",
       "      <th>artist_popularity</th>\n",
       "      <td>2299.0</td>\n",
       "      <td>72.873423</td>\n",
       "      <td>12.180506</td>\n",
       "      <td>29.000000</td>\n",
       "      <td>65.00000</td>\n",
       "      <td>74.0000</td>\n",
       "      <td>82.000000</td>\n",
       "      <td>100.000</td>\n",
       "    </tr>\n",
       "    <tr>\n",
       "      <th>danceability</th>\n",
       "      <td>2299.0</td>\n",
       "      <td>0.660116</td>\n",
       "      <td>0.141137</td>\n",
       "      <td>0.162000</td>\n",
       "      <td>0.57200</td>\n",
       "      <td>0.6710</td>\n",
       "      <td>0.759500</td>\n",
       "      <td>0.975</td>\n",
       "    </tr>\n",
       "    <tr>\n",
       "      <th>energy</th>\n",
       "      <td>2299.0</td>\n",
       "      <td>0.693047</td>\n",
       "      <td>0.164838</td>\n",
       "      <td>0.051900</td>\n",
       "      <td>0.58600</td>\n",
       "      <td>0.7120</td>\n",
       "      <td>0.820000</td>\n",
       "      <td>0.999</td>\n",
       "    </tr>\n",
       "    <tr>\n",
       "      <th>loudness</th>\n",
       "      <td>2299.0</td>\n",
       "      <td>73.006960</td>\n",
       "      <td>15.643937</td>\n",
       "      <td>-56.000000</td>\n",
       "      <td>63.00000</td>\n",
       "      <td>74.0000</td>\n",
       "      <td>83.000000</td>\n",
       "      <td>132.000</td>\n",
       "    </tr>\n",
       "    <tr>\n",
       "      <th>speechiness</th>\n",
       "      <td>2299.0</td>\n",
       "      <td>0.097795</td>\n",
       "      <td>0.092445</td>\n",
       "      <td>0.022500</td>\n",
       "      <td>0.03800</td>\n",
       "      <td>0.0568</td>\n",
       "      <td>0.115500</td>\n",
       "      <td>0.576</td>\n",
       "    </tr>\n",
       "    <tr>\n",
       "      <th>acousticness</th>\n",
       "      <td>2299.0</td>\n",
       "      <td>0.157689</td>\n",
       "      <td>0.203844</td>\n",
       "      <td>0.000013</td>\n",
       "      <td>0.01650</td>\n",
       "      <td>0.0689</td>\n",
       "      <td>0.223000</td>\n",
       "      <td>0.978</td>\n",
       "    </tr>\n",
       "    <tr>\n",
       "      <th>instrumentalness</th>\n",
       "      <td>2299.0</td>\n",
       "      <td>0.013766</td>\n",
       "      <td>0.083990</td>\n",
       "      <td>0.000000</td>\n",
       "      <td>0.00000</td>\n",
       "      <td>0.0000</td>\n",
       "      <td>0.000054</td>\n",
       "      <td>0.985</td>\n",
       "    </tr>\n",
       "    <tr>\n",
       "      <th>liveness</th>\n",
       "      <td>2299.0</td>\n",
       "      <td>0.172618</td>\n",
       "      <td>0.131620</td>\n",
       "      <td>0.021000</td>\n",
       "      <td>0.08995</td>\n",
       "      <td>0.1190</td>\n",
       "      <td>0.220000</td>\n",
       "      <td>0.843</td>\n",
       "    </tr>\n",
       "    <tr>\n",
       "      <th>valence</th>\n",
       "      <td>2299.0</td>\n",
       "      <td>0.535110</td>\n",
       "      <td>0.227821</td>\n",
       "      <td>0.037700</td>\n",
       "      <td>0.36050</td>\n",
       "      <td>0.5400</td>\n",
       "      <td>0.722000</td>\n",
       "      <td>0.974</td>\n",
       "    </tr>\n",
       "    <tr>\n",
       "      <th>tempo</th>\n",
       "      <td>2299.0</td>\n",
       "      <td>120.512450</td>\n",
       "      <td>27.617729</td>\n",
       "      <td>60.019000</td>\n",
       "      <td>98.56950</td>\n",
       "      <td>120.0000</td>\n",
       "      <td>137.028000</td>\n",
       "      <td>210.857</td>\n",
       "    </tr>\n",
       "    <tr>\n",
       "      <th>duration_ms</th>\n",
       "      <td>2299.0</td>\n",
       "      <td>226033.494128</td>\n",
       "      <td>42063.678588</td>\n",
       "      <td>97393.000000</td>\n",
       "      <td>200179.50000</td>\n",
       "      <td>221653.0000</td>\n",
       "      <td>245950.000000</td>\n",
       "      <td>688453.000</td>\n",
       "    </tr>\n",
       "    <tr>\n",
       "      <th>artist_popularity_binary</th>\n",
       "      <td>2299.0</td>\n",
       "      <td>0.608525</td>\n",
       "      <td>0.488186</td>\n",
       "      <td>0.000000</td>\n",
       "      <td>0.00000</td>\n",
       "      <td>1.0000</td>\n",
       "      <td>1.000000</td>\n",
       "      <td>1.000</td>\n",
       "    </tr>\n",
       "  </tbody>\n",
       "</table>\n",
       "</div>"
      ],
      "text/plain": [
       "                           count           mean           std           min  \\\n",
       "track_popularity          2299.0      70.944759     12.294047      0.000000   \n",
       "artist_popularity         2299.0      72.873423     12.180506     29.000000   \n",
       "danceability              2299.0       0.660116      0.141137      0.162000   \n",
       "energy                    2299.0       0.693047      0.164838      0.051900   \n",
       "loudness                  2299.0      73.006960     15.643937    -56.000000   \n",
       "speechiness               2299.0       0.097795      0.092445      0.022500   \n",
       "acousticness              2299.0       0.157689      0.203844      0.000013   \n",
       "instrumentalness          2299.0       0.013766      0.083990      0.000000   \n",
       "liveness                  2299.0       0.172618      0.131620      0.021000   \n",
       "valence                   2299.0       0.535110      0.227821      0.037700   \n",
       "tempo                     2299.0     120.512450     27.617729     60.019000   \n",
       "duration_ms               2299.0  226033.494128  42063.678588  97393.000000   \n",
       "artist_popularity_binary  2299.0       0.608525      0.488186      0.000000   \n",
       "\n",
       "                                   25%          50%            75%         max  \n",
       "track_popularity              66.00000      72.0000      79.000000     100.000  \n",
       "artist_popularity             65.00000      74.0000      82.000000     100.000  \n",
       "danceability                   0.57200       0.6710       0.759500       0.975  \n",
       "energy                         0.58600       0.7120       0.820000       0.999  \n",
       "loudness                      63.00000      74.0000      83.000000     132.000  \n",
       "speechiness                    0.03800       0.0568       0.115500       0.576  \n",
       "acousticness                   0.01650       0.0689       0.223000       0.978  \n",
       "instrumentalness               0.00000       0.0000       0.000054       0.985  \n",
       "liveness                       0.08995       0.1190       0.220000       0.843  \n",
       "valence                        0.36050       0.5400       0.722000       0.974  \n",
       "tempo                         98.56950     120.0000     137.028000     210.857  \n",
       "duration_ms               200179.50000  221653.0000  245950.000000  688453.000  \n",
       "artist_popularity_binary       0.00000       1.0000       1.000000       1.000  "
      ]
     },
     "execution_count": 18,
     "metadata": {},
     "output_type": "execute_result"
    }
   ],
   "source": [
    "df.describe().transpose()"
   ]
  },
  {
   "cell_type": "code",
   "execution_count": 19,
   "metadata": {},
   "outputs": [
    {
     "name": "stdout",
     "output_type": "stream",
     "text": [
      "Timeline:\n",
      "Dataset includes songs in the range 2000-2022 and is evenly split at 99.95652173913044 songs per year\n"
     ]
    }
   ],
   "source": [
    "print('Timeline:')\n",
    "#print(df['year'].value_counts())\n",
    "\n",
    "min_year = min(df['year'])\n",
    "max_year = max(df['year'])\n",
    "average = df['year'].value_counts().mean()\n",
    "\n",
    "print(f'Dataset includes songs in the range {min_year}-{max_year} and is evenly split at {average} songs per year')"
   ]
  },
  {
   "cell_type": "code",
   "execution_count": 20,
   "metadata": {},
   "outputs": [
    {
     "name": "stdout",
     "output_type": "stream",
     "text": [
      "Value Counts for Mode:\n",
      "mode_class\n",
      "major    1376\n",
      "minor     923\n",
      "Name: count, dtype: int64\n"
     ]
    }
   ],
   "source": [
    "print('Value Counts for Mode:')\n",
    "print(df['mode_class'].value_counts())"
   ]
  },
  {
   "cell_type": "code",
   "execution_count": 21,
   "metadata": {},
   "outputs": [
    {
     "name": "stdout",
     "output_type": "stream",
     "text": [
      "Value Counts for Pitch:\n",
      "pitch_class\n",
      "C#/D♭    297\n",
      "C        253\n",
      "G        225\n",
      "B        219\n",
      "F        201\n",
      "D        189\n",
      "A        183\n",
      "G#/A♭    183\n",
      "F#/G♭    177\n",
      "E        152\n",
      "A#/B♭    147\n",
      "D#/E♭     73\n",
      "Name: count, dtype: int64\n"
     ]
    }
   ],
   "source": [
    "print('Value Counts for Pitch:')\n",
    "print(df['pitch_class'].value_counts())"
   ]
  },
  {
   "cell_type": "code",
   "execution_count": 22,
   "metadata": {},
   "outputs": [
    {
     "name": "stdout",
     "output_type": "stream",
     "text": [
      "Top 5 Genres for Dominant Genre (First)\n",
      "dominant_genre_first\n",
      "dance pop            427\n",
      "pop                  256\n",
      "atl hip hop           90\n",
      "alternative metal     74\n",
      "boy band              53\n",
      "Name: count, dtype: int64\n"
     ]
    }
   ],
   "source": [
    "print('Top 5 Genres for Dominant Genre (First)')\n",
    "print(df['dominant_genre_first'].value_counts().head(5))"
   ]
  },
  {
   "cell_type": "code",
   "execution_count": 23,
   "metadata": {},
   "outputs": [
    {
     "name": "stdout",
     "output_type": "stream",
     "text": [
      "Top 5 Genres for Dominant Genre (Max)\n",
      "dominant_genre_max\n",
      "pop         943\n",
      "hip         211\n",
      "rap         209\n",
      "rock        129\n",
      "canadian     53\n",
      "Name: count, dtype: int64\n"
     ]
    }
   ],
   "source": [
    "print('Top 5 Genres for Dominant Genre (Max)')\n",
    "print(df['dominant_genre_max'].value_counts().head(5))"
   ]
  },
  {
   "cell_type": "code",
   "execution_count": null,
   "metadata": {},
   "outputs": [
    {
     "name": "stdout",
     "output_type": "stream",
     "text": [
      "Top 5 Genres for (Predefined List)\n",
      "matching_genre\n",
      "pop        1292\n",
      "hip hop     363\n",
      "Other       222\n",
      "rock        165\n",
      "trap        100\n",
      "Name: count, dtype: int64\n"
     ]
    }
   ],
   "source": [
    "print('Top 5 Genres for (Predefined List)')\n",
    "print(df['matching_genre'].value_counts().head(5))"
   ]
  },
  {
   "cell_type": "markdown",
   "metadata": {},
   "source": [
    "---"
   ]
  },
  {
   "cell_type": "markdown",
   "metadata": {},
   "source": [
    "#### Histogram of Variables"
   ]
  },
  {
   "cell_type": "code",
   "execution_count": null,
   "metadata": {},
   "outputs": [
    {
     "data": {
      "image/png": "[encoded data removed]",
      "text/plain": [
       "<Figure size 800x400 with 1 Axes>"
      ]
     },
     "metadata": {},
     "output_type": "display_data"
    },
    {
     "data": {
      "image/png": "[encoded data removed]",
      "text/plain": [
       "<Figure size 800x400 with 1 Axes>"
      ]
     },
     "metadata": {},
     "output_type": "display_data"
    },
    {
     "data": {
      "image/png": "[encoded data removed]",
      "text/plain": [
       "<Figure size 800x400 with 1 Axes>"
      ]
     },
     "metadata": {},
     "output_type": "display_data"
    },
    {
     "data": {
      "image/png": "[encoded data removed]",
      "text/plain": [
       "<Figure size 800x400 with 1 Axes>"
      ]
     },
     "metadata": {},
     "output_type": "display_data"
    },
    {
     "data": {
      "image/png": "[encoded data removed]",
      "text/plain": [
       "<Figure size 800x400 with 1 Axes>"
      ]
     },
     "metadata": {},
     "output_type": "display_data"
    },
    {
     "data": {
      "image/png": "[encoded data removed]",
      "text/plain": [
       "<Figure size 800x400 with 1 Axes>"
      ]
     },
     "metadata": {},
     "output_type": "display_data"
    },
    {
     "data": {
      "image/png": "[encoded data removed]",
      "text/plain": [
       "<Figure size 800x400 with 1 Axes>"
      ]
     },
     "metadata": {},
     "output_type": "display_data"
    },
    {
     "data": {
      "image/png": "[encoded data removed]",
      "text/plain": [
       "<Figure size 800x400 with 1 Axes>"
      ]
     },
     "metadata": {},
     "output_type": "display_data"
    },
    {
     "data": {
      "image/png": "[encoded data removed]",
      "text/plain": [
       "<Figure size 800x400 with 1 Axes>"
      ]
     },
     "metadata": {},
     "output_type": "display_data"
    },
    {
     "data": {
      "image/png": "[encoded data removed]",
      "text/plain": [
       "<Figure size 800x400 with 1 Axes>"
      ]
     },
     "metadata": {},
     "output_type": "display_data"
    },
    {
     "data": {
      "image/png": "[encoded data removed]",
      "text/plain": [
       "<Figure size 800x400 with 1 Axes>"
      ]
     },
     "metadata": {},
     "output_type": "display_data"
    },
    {
     "data": {
      "image/png": "[encoded data removed]",
      "text/plain": [
       "<Figure size 800x400 with 1 Axes>"
      ]
     },
     "metadata": {},
     "output_type": "display_data"
    }
   ],
   "source": [
    "# columns_to_plot = [\n",
    "#     'track_popularity', 'artist_popularity_binary', 'danceability', 'energy', 'key', \n",
    "#     'loudness', 'mode', 'speechiness', 'acousticness', 'instrumentalness', \n",
    "#     'liveness', 'valence', 'tempo', 'duration_ms'\n",
    "# ]\n",
    "\n",
    "columns_to_plot = [\n",
    "    'artist_popularity_binary', 'danceability', 'energy', \n",
    "    'loudness', 'mode', 'speechiness', 'acousticness', 'instrumentalness', \n",
    "    'liveness', 'valence', 'tempo', 'duration_ms'\n",
    "]  \n",
    "\n",
    "for col in columns_to_plot:\n",
    "    plt.figure(figsize=(8, 4))\n",
    "    sns.histplot(df[col], bins=30, kde=True)  # KDE=True adds density curve\n",
    "    plt.title(f'Distribution of {col}')\n",
    "    plt.xlabel(col)\n",
    "    plt.ylabel('Frequency')\n",
    "    plt.show()"
   ]
  },
  {
   "cell_type": "markdown",
   "metadata": {},
   "source": [
    "There are extreme outliers which may pose some problems  \n",
    "\n",
    "---"
   ]
  },
  {
   "cell_type": "markdown",
   "metadata": {},
   "source": [
    "#### Correlation Matrix"
   ]
  },
  {
   "cell_type": "code",
   "execution_count": null,
   "metadata": {},
   "outputs": [
    {
     "data": {
      "image/png": "[encoded data removed]",
      "text/plain": [
       "<Figure size 1200x600 with 2 Axes>"
      ]
     },
     "metadata": {},
     "output_type": "display_data"
    }
   ],
   "source": [
    "columns_to_plot = [\n",
    "    'artist_popularity_binary', 'danceability', 'energy', \n",
    "    'loudness', 'speechiness', 'acousticness', 'instrumentalness', \n",
    "    'liveness', 'valence', 'tempo', 'duration_ms', 'mode'\n",
    "]\n",
    "\n",
    "corr_matrix = df[columns_to_plot].corr()\n",
    "plt.figure(figsize=(12, 6))\n",
    "sns.heatmap(corr_matrix, annot=True, cmap='coolwarm', fmt=\".2f\", linewidths=0.5)\n",
    "plt.title('Feature Correlation Matrix')\n",
    "plt.show()"
   ]
  },
  {
   "cell_type": "code",
   "execution_count": null,
   "metadata": {},
   "outputs": [
    {
     "name": "stdout",
     "output_type": "stream",
     "text": [
      "Highly Correlated Features 0.3: [('danceability', 'valence'), ('energy', 'loudness'), ('energy', 'acousticness'), ('energy', 'valence'), ('loudness', 'energy'), ('loudness', 'acousticness'), ('acousticness', 'energy'), ('acousticness', 'loudness'), ('valence', 'danceability'), ('valence', 'energy')]\n"
     ]
    }
   ],
   "source": [
    "# Find highly correlated pairs\n",
    "correlation_threshold = 0.3\n",
    "high_corr_pairs = []\n",
    "\n",
    "for col in corr_matrix.columns:\n",
    "    for index in corr_matrix.index:\n",
    "        if col != index and abs(corr_matrix.loc[col, index]) > correlation_threshold:\n",
    "            high_corr_pairs.append((col, index))\n",
    "\n",
    "print(f\"Highly Correlated Features {correlation_threshold}:\", high_corr_pairs)"
   ]
  },
  {
   "cell_type": "markdown",
   "metadata": {},
   "source": [
    "## Segmentation (Groups of Similar Songs)"
   ]
  },
  {
   "cell_type": "markdown",
   "metadata": {},
   "source": [
    "### Variable Analysis"
   ]
  },
  {
   "cell_type": "markdown",
   "metadata": {},
   "source": [
    "Variables to be excluded from Clustering\n",
    "\n",
    "| **Variable**         | **Reason for Exclusion** |\n",
    "|----------------------|-------------------------|\n",
    "| **year**            | Numerical, but not continuous (songs from 2000 and 2023 are not necessarily similar). |\n",
    "| **track_name**      | Unique for each song → Categorical, not useful for clustering. |\n",
    "| **album**          | Categorical → Songs in the same album don’t necessarily belong to the same cluster. |\n",
    "| **artist_name**     | Categorical → Each artist is unique, not useful for clustering. |\n",
    "| **artist_genres**   | Unless we use the matching function, dummy variables will create redundancy |\n",
    "| **track_popularity** | We want to explain clusters using this, not use it to create clusters. |\n",
    "  \n",
    "Feature Selection for Clustering:  \n",
    "\n",
    "| **Variable**                 | **Keep or Remove?** | **Reason** |\n",
    "|------------------------------|---------------------|------------|\n",
    "| **artist_popularity_binary** | Keep               | Useful to differentiate popular vs. less popular artists. |\n",
    "| **danceability**             | Keep               | Describes how easy it is to dance to a song. |\n",
    "| **energy**                   | Keep               | Measures intensity and activity of the song. |\n",
    "| **key**                      | Remove              | Numerical but already simplified and represented with mode |\n",
    "| **loudness**                 | Keep               | Helps distinguish between soft and loud tracks. |\n",
    "| **mode**                     | Maybe              | Binary (Major=1, Minor=0) |\n",
    "| **speechiness**              | Keep               | Helps separate spoken-word-heavy songs from musical ones. |\n",
    "| **acousticness**             | Keep               | Measures how acoustic a track sounds. |\n",
    "| **instrumentalness**         | Keep               | Helps distinguish instrumental tracks from vocal ones. |\n",
    "| **liveness**                 | Keep               | Measures audience presence (useful for live vs. studio recordings). |\n",
    "| **valence**                  | Keep               | Measures how positive a song feels. |\n",
    "| **tempo (BPM)**              | Keep               | Describes song pacing, but needs standardization to prevent bias. |\n",
    "| **duration_ms**              | Maybe              | Songs vary widely in length → Might skew clustering unless normalized. |\n",
    "\n",
    "---\n"
   ]
  },
  {
   "cell_type": "markdown",
   "metadata": {},
   "source": [
    "### Kmeans Brute Force"
   ]
  },
  {
   "cell_type": "code",
   "execution_count": null,
   "metadata": {},
   "outputs": [
    {
     "name": "stdout",
     "output_type": "stream",
     "text": [
      "\n",
      "🔹 Running K-Means Optimization for Correlation Threshold: 0.7\n",
      "\n",
      "🔹 Running K-Means Optimization for Correlation Threshold: 0.5\n",
      "\n",
      "🔹 Running K-Means Optimization for Correlation Threshold: 0.3\n"
     ]
    },
    {
     "data": {
      "text/markdown": [
       "|     | features_used                                                                                       |   optimal_k |   silhouette_score |   correlation_threshold |\n",
       "|----:|:----------------------------------------------------------------------------------------------------|------------:|-------------------:|------------------------:|\n",
       "| 385 | ['liveness', 'instrumentalness', 'speechiness', 'duration_ms', 'tempo']                             |           2 |           0.693124 |                     0.3 |\n",
       "| 366 | ['energy', 'liveness', 'instrumentalness', 'speechiness', 'duration_ms', 'tempo']                   |           2 |           0.654633 |                     0.3 |\n",
       "| 301 | ['duration_ms', 'liveness', 'instrumentalness', 'speechiness', 'valence', 'tempo']                  |           2 |           0.653148 |                     0.3 |\n",
       "| 339 | ['danceability', 'liveness', 'instrumentalness', 'loudness', 'speechiness', 'duration_ms', 'tempo'] |           2 |           0.623068 |                     0.3 |\n",
       "| 562 | ['danceability', 'energy', 'liveness', 'instrumentalness', 'speechiness', 'duration_ms', 'tempo']   |           2 |           0.621768 |                     0.3 |"
      ],
      "text/plain": [
       "<IPython.core.display.Markdown object>"
      ]
     },
     "metadata": {},
     "output_type": "display_data"
    }
   ],
   "source": [
    "def find_highly_correlated_features(df_of_features, threshold):\n",
    "    \"\"\"\n",
    "    Uses correlation matrix columns and index to find highly correlated variable pairs and returns\n",
    "    a list of tuples where the correlated pair only occurs once.\n",
    "    \"\"\"\n",
    "    corr_matrix = df_of_features.corr()\n",
    "    high_corr_pairs = set()\n",
    "\n",
    "    for col in corr_matrix.columns:\n",
    "        for index in corr_matrix.index:\n",
    "            if col != index and abs(corr_matrix.loc[col, index]) > threshold:\n",
    "                high_corr_pairs.add(tuple(sorted((col, index))))\n",
    "\n",
    "    return list(high_corr_pairs)\n",
    "\n",
    "def generate_feature_combinations(features, high_corr_pairs):\n",
    "    \"\"\"\n",
    "    Generates all valid variable sets ensuring that no correlated pair appears together.\n",
    "    Also generates variable reduction subsets without testing an exponential number of combinations.\n",
    "    Returns a list of lists including both generations above.\n",
    "    \"\"\"\n",
    "    feature_sets = []\n",
    "\n",
    "    if high_corr_pairs:\n",
    "        for subset in itertools.product(*[[pair[0], pair[1]] for pair in high_corr_pairs]):\n",
    "            reduced_features = set(features) - set(subset)\n",
    "\n",
    "            is_valid = all(not (pair[0] in reduced_features and pair[1] in reduced_features) for pair in high_corr_pairs)\n",
    "\n",
    "            if is_valid and reduced_features not in feature_sets:\n",
    "                feature_sets.append(reduced_features)\n",
    "    else:\n",
    "        # If no correlated variables, just use the full list of variables\n",
    "        feature_sets.append(set(features))\n",
    "\n",
    "    # Feature reduction\n",
    "    final_feature_sets = set()\n",
    "\n",
    "    for feature_set in feature_sets:\n",
    "        feature_list = list(feature_set)\n",
    "        \n",
    "        for r in range(len(feature_list) - 2, len(feature_list) + 1):  # Test near-complete sets only\n",
    "            for subset in itertools.combinations(feature_list, r):\n",
    "                final_feature_sets.add(subset)\n",
    "\n",
    "    return [list(s) for s in final_feature_sets]\n",
    "\n",
    "def run_kmeans(df, feature_sets, k_range):\n",
    "    \"\"\"\n",
    "    Runs K-Means clustering for multiple feature sets, recording optimal k and silhouette scores.\n",
    "    \"\"\"\n",
    "    results = []\n",
    "\n",
    "    # Kmeans\n",
    "    for features in feature_sets:\n",
    "        X = df[list(features)] \n",
    "        \n",
    "        scaler = StandardScaler()\n",
    "        X_scaled = scaler.fit_transform(X)\n",
    "\n",
    "        inertia = []\n",
    "        for k in k_range:\n",
    "            kmeans = KMeans(n_clusters=k, random_state=42, n_init=10)\n",
    "            kmeans.fit(X_scaled)\n",
    "            inertia.append(kmeans.inertia_)\n",
    "\n",
    "        optimal_k = k_range[np.argmin(np.gradient(inertia))]\n",
    "\n",
    "        kmeans = KMeans(n_clusters=optimal_k, random_state=42, n_init=10)\n",
    "        labels = kmeans.fit_predict(X_scaled)\n",
    "        silhouette = silhouette_score(X_scaled, labels)\n",
    "\n",
    "        results.append({\n",
    "            'features_used': list(features),\n",
    "            'optimal_k': optimal_k,\n",
    "            'silhouette_score': silhouette\n",
    "        })\n",
    "\n",
    "    return results\n",
    "\n",
    "# Initial Parameters\n",
    "correlation_thresholds = [0.7, 0.5, 0.3]  # Thresholds for correlation between variables\n",
    "k_range = range(2, 11)  # Range for number of clusters to test\n",
    "\n",
    "# Original feature list\n",
    "features = [\n",
    "    'artist_popularity_binary', 'danceability', 'energy', \n",
    "    'loudness', 'mode', 'speechiness', 'acousticness', 'instrumentalness', \n",
    "    'liveness', 'valence', 'tempo', 'duration_ms'\n",
    "]  \n",
    "\n",
    "final_results = []\n",
    "\n",
    "for threshold in correlation_thresholds:\n",
    "    print(f\"\\n🔹 Running K-Means Optimization for Correlation Threshold: {threshold}\")\n",
    "\n",
    "    # Find highly correlated variables\n",
    "    high_corr_pairs = find_highly_correlated_features(df[features], threshold)\n",
    "\n",
    "    # Generate Sets - without corr pairs and variable reduction\n",
    "    feature_sets = generate_feature_combinations(features, high_corr_pairs)\n",
    "\n",
    "    # Run K-Means\n",
    "    results = run_kmeans(df, feature_sets, k_range)\n",
    "\n",
    "    # Results\n",
    "    for res in results:\n",
    "        res['correlation_threshold'] = threshold\n",
    "        final_results.append(res)\n",
    "\n",
    "# Results DataFrame\n",
    "df_results = pd.DataFrame(final_results)\n",
    "df_results.to_csv('kmeans_results.csv')\n",
    "display(Markdown(df_results.sort_values(by = ['silhouette_score'], ascending = False).head().to_markdown()))"
   ]
  },
  {
   "cell_type": "code",
   "execution_count": 29,
   "metadata": {},
   "outputs": [
    {
     "data": {
      "text/markdown": [
       "|     |   Unnamed: 0 | features_used                                                                                                        |   optimal_k |   silhouette_score |   correlation_threshold |\n",
       "|----:|-------------:|:---------------------------------------------------------------------------------------------------------------------|------------:|-------------------:|------------------------:|\n",
       "| 385 |          385 | ['liveness', 'instrumentalness', 'speechiness', 'duration_ms', 'tempo']                                              |           2 |           0.693124 |                     0.3 |\n",
       "| 504 |          504 | ['mode', 'liveness', 'instrumentalness', 'speechiness', 'duration_ms']                                               |           3 |           0.332866 |                     0.3 |\n",
       "| 231 |          231 | ['artist_popularity_binary', 'mode', 'valence', 'energy', 'duration_ms', 'instrumentalness', 'speechiness', 'tempo'] |           4 |           0.153438 |                     0.5 |"
      ],
      "text/plain": [
       "<IPython.core.display.Markdown object>"
      ]
     },
     "metadata": {},
     "output_type": "display_data"
    },
    {
     "data": {
      "text/markdown": [
       "---"
      ],
      "text/plain": [
       "<IPython.core.display.Markdown object>"
      ]
     },
     "metadata": {},
     "output_type": "display_data"
    }
   ],
   "source": [
    "results_csv = pd.read_csv('kmeans_results.csv')\n",
    "display(Markdown(results_csv.loc[results_csv.groupby('optimal_k')['silhouette_score'].idxmax()].sort_values(by='optimal_k').to_markdown()))\n",
    "display(Markdown('---'))"
   ]
  },
  {
   "cell_type": "markdown",
   "metadata": {},
   "source": [
    "### Highest Silhouette (Optimal_K = 2)"
   ]
  },
  {
   "cell_type": "code",
   "execution_count": 50,
   "metadata": {},
   "outputs": [
    {
     "data": {
      "text/markdown": [
       "|     |   Unnamed: 0 | features_used                                                           |   optimal_k |   silhouette_score |   correlation_threshold |\n",
       "|----:|-------------:|:------------------------------------------------------------------------|------------:|-------------------:|------------------------:|\n",
       "| 385 |          385 | ['liveness', 'instrumentalness', 'speechiness', 'duration_ms', 'tempo'] |           2 |           0.693124 |                     0.3 |"
      ],
      "text/plain": [
       "<IPython.core.display.Markdown object>"
      ]
     },
     "metadata": {},
     "output_type": "display_data"
    }
   ],
   "source": [
    "results_csv = pd.read_csv('kmeans_results.csv')\n",
    "display(Markdown(results_csv.sort_values(by=['silhouette_score'], ascending=False).head(1).to_markdown()))"
   ]
  },
  {
   "cell_type": "code",
   "execution_count": null,
   "metadata": {},
   "outputs": [
    {
     "name": "stdout",
     "output_type": "stream",
     "text": [
      "Silhouette Score for K=2: 0.693\n"
     ]
    }
   ],
   "source": [
    "features = ['liveness', 'instrumentalness', 'speechiness', 'duration_ms', 'tempo']\n",
    "\n",
    "X = df[features]\n",
    "\n",
    "scaler = StandardScaler()\n",
    "X_scaled = scaler.fit_transform(X)\n",
    "\n",
    "optimal_k = 2\n",
    "\n",
    "kmeans = KMeans(n_clusters=optimal_k, random_state=42, n_init=10)\n",
    "df['audio_cluster'] = kmeans.fit_predict(X_scaled)\n",
    "\n",
    "silhouette = silhouette_score(X_scaled, df['audio_cluster'])\n",
    "print(f'Silhouette Score for K={optimal_k}: {silhouette:.3f}')"
   ]
  },
  {
   "cell_type": "code",
   "execution_count": 52,
   "metadata": {},
   "outputs": [
    {
     "data": {
      "text/html": [
       "<div>\n",
       "<style scoped>\n",
       "    .dataframe tbody tr th:only-of-type {\n",
       "        vertical-align: middle;\n",
       "    }\n",
       "\n",
       "    .dataframe tbody tr th {\n",
       "        vertical-align: top;\n",
       "    }\n",
       "\n",
       "    .dataframe thead th {\n",
       "        text-align: right;\n",
       "    }\n",
       "</style>\n",
       "<table border=\"1\" class=\"dataframe\">\n",
       "  <thead>\n",
       "    <tr style=\"text-align: right;\">\n",
       "      <th></th>\n",
       "      <th>track_popularity</th>\n",
       "      <th>artist_popularity_binary</th>\n",
       "      <th>danceability</th>\n",
       "      <th>energy</th>\n",
       "      <th>loudness</th>\n",
       "      <th>mode</th>\n",
       "      <th>speechiness</th>\n",
       "      <th>acousticness</th>\n",
       "      <th>instrumentalness</th>\n",
       "      <th>liveness</th>\n",
       "      <th>valence</th>\n",
       "      <th>tempo</th>\n",
       "      <th>duration_ms</th>\n",
       "    </tr>\n",
       "    <tr>\n",
       "      <th>audio_cluster</th>\n",
       "      <th></th>\n",
       "      <th></th>\n",
       "      <th></th>\n",
       "      <th></th>\n",
       "      <th></th>\n",
       "      <th></th>\n",
       "      <th></th>\n",
       "      <th></th>\n",
       "      <th></th>\n",
       "      <th></th>\n",
       "      <th></th>\n",
       "      <th></th>\n",
       "      <th></th>\n",
       "    </tr>\n",
       "  </thead>\n",
       "  <tbody>\n",
       "    <tr>\n",
       "      <th>0</th>\n",
       "      <td>70.975298</td>\n",
       "      <td>0.61094</td>\n",
       "      <td>0.659712</td>\n",
       "      <td>0.692996</td>\n",
       "      <td>72.853992</td>\n",
       "      <td>0.600794</td>\n",
       "      <td>0.098313</td>\n",
       "      <td>0.157724</td>\n",
       "      <td>0.004495</td>\n",
       "      <td>0.173050</td>\n",
       "      <td>0.535741</td>\n",
       "      <td>120.480208</td>\n",
       "      <td>226118.26202</td>\n",
       "    </tr>\n",
       "    <tr>\n",
       "      <th>1</th>\n",
       "      <td>68.781250</td>\n",
       "      <td>0.43750</td>\n",
       "      <td>0.688750</td>\n",
       "      <td>0.696656</td>\n",
       "      <td>83.843750</td>\n",
       "      <td>0.437500</td>\n",
       "      <td>0.061119</td>\n",
       "      <td>0.155196</td>\n",
       "      <td>0.670562</td>\n",
       "      <td>0.142047</td>\n",
       "      <td>0.490400</td>\n",
       "      <td>122.796594</td>\n",
       "      <td>220028.21875</td>\n",
       "    </tr>\n",
       "  </tbody>\n",
       "</table>\n",
       "</div>"
      ],
      "text/plain": [
       "               track_popularity  artist_popularity_binary  danceability  \\\n",
       "audio_cluster                                                             \n",
       "0                     70.975298                   0.61094      0.659712   \n",
       "1                     68.781250                   0.43750      0.688750   \n",
       "\n",
       "                 energy   loudness      mode  speechiness  acousticness  \\\n",
       "audio_cluster                                                             \n",
       "0              0.692996  72.853992  0.600794     0.098313      0.157724   \n",
       "1              0.696656  83.843750  0.437500     0.061119      0.155196   \n",
       "\n",
       "               instrumentalness  liveness   valence       tempo   duration_ms  \n",
       "audio_cluster                                                                  \n",
       "0                      0.004495  0.173050  0.535741  120.480208  226118.26202  \n",
       "1                      0.670562  0.142047  0.490400  122.796594  220028.21875  "
      ]
     },
     "execution_count": 52,
     "metadata": {},
     "output_type": "execute_result"
    }
   ],
   "source": [
    "# Select only specific numerical columns for comparison\n",
    "numerical_features = [\n",
    "    'track_popularity', 'artist_popularity_binary', 'danceability', 'energy', \n",
    "    'loudness', 'mode', 'speechiness', 'acousticness', 'instrumentalness', \n",
    "    'liveness', 'valence', 'tempo', 'duration_ms'\n",
    "]\n",
    "df.groupby('audio_cluster')[numerical_features].mean()"
   ]
  },
  {
   "cell_type": "markdown",
   "metadata": {},
   "source": [
    "| **Feature**                  | **Cluster 0** | **Cluster 1** | **Interpretation** |\n",
    "|------------------------------|---------------------|---------------------|--------------------|\n",
    "| **track_popularity**         | 70.98              | 68.78              | Slightly higher in Cluster 0, but not a huge difference. |\n",
    "| **artist_popularity_binary** | 0.61               | 0.44               | Cluster 0 has more songs from popular artists. |\n",
    "| **danceability**             | 0.66               | 0.69               | Cluster 1 is slightly more danceable. |\n",
    "| **energy**                   | 0.69               | 0.70               | No major difference. |\n",
    "| **loudness**                 | 72.85 dB           | 83.84 dB           | Cluster 1 is much louder! |\n",
    "| **mode (Major=1, Minor=0)**  | 0.60               | 0.44               | Cluster 0 has more major-key songs, Cluster 1 has more minor-key songs. |\n",
    "| **speechiness**              | 0.098              | 0.061              | Cluster 0 has more speech-like elements. |\n",
    "| **acousticness**             | 0.158              | 0.155              | Almost identical, not driving cluster separation. |\n",
    "| **instrumentalness**         | 0.004              | 0.671              | Cluster 1 has significantly more instrumental tracks! |\n",
    "| **liveness**                 | 0.173              | 0.142              | Cluster 0 has slightly more live recordings. |\n",
    "| **valence**                  | 0.536              | 0.490              | Cluster 0 has more \"positive\" music. |\n",
    "| **tempo**                    | 120.48 BPM         | 122.80 BPM         | Cluster 1 has slightly faster songs. |\n",
    "| **duration_ms**              | 226,118 ms (~3m 46s) | 220,028 ms (~3m 40s) | Cluster 0 has slightly longer songs. |\n",
    "\n",
    "High silhouette score of (0.693) however the seperation is broad and may oversimplify the grouping of songs. Cluster 0 includes more vocal dominant and popular songs in the major key while Cluster 1 includes more instrumental dominant and loud songs in the minor key. \n",
    "\n",
    "---"
   ]
  },
  {
   "cell_type": "markdown",
   "metadata": {},
   "source": [
    "### Highest Silhouette (Optimal K = 3)"
   ]
  },
  {
   "cell_type": "code",
   "execution_count": 53,
   "metadata": {},
   "outputs": [
    {
     "data": {
      "text/markdown": [
       "|     |   Unnamed: 0 | features_used                                                          |   optimal_k |   silhouette_score |   correlation_threshold |\n",
       "|----:|-------------:|:-----------------------------------------------------------------------|------------:|-------------------:|------------------------:|\n",
       "| 504 |          504 | ['mode', 'liveness', 'instrumentalness', 'speechiness', 'duration_ms'] |           3 |           0.332866 |                     0.3 |"
      ],
      "text/plain": [
       "<IPython.core.display.Markdown object>"
      ]
     },
     "metadata": {},
     "output_type": "display_data"
    }
   ],
   "source": [
    "results_csv = pd.read_csv('kmeans_results.csv')\n",
    "display(Markdown(results_csv[results_csv['optimal_k'] > 2].sort_values(by=['silhouette_score'], ascending=False).head(1).to_markdown()))"
   ]
  },
  {
   "cell_type": "code",
   "execution_count": 54,
   "metadata": {},
   "outputs": [
    {
     "name": "stdout",
     "output_type": "stream",
     "text": [
      "Silhouette Score for K=3: 0.333\n"
     ]
    }
   ],
   "source": [
    "features = ['mode', 'liveness', 'instrumentalness', 'speechiness', 'duration_ms']\n",
    "\n",
    "X = df[features]\n",
    "\n",
    "scaler = StandardScaler()\n",
    "X_scaled = scaler.fit_transform(X)\n",
    "\n",
    "optimal_k = 3\n",
    "\n",
    "kmeans = KMeans(n_clusters=optimal_k, random_state=42, n_init=10)\n",
    "df['audio_cluster'] = kmeans.fit_predict(X_scaled)\n",
    "\n",
    "silhouette = silhouette_score(X_scaled, df['audio_cluster'])\n",
    "print(f'Silhouette Score for K={optimal_k}: {silhouette:.3f}')"
   ]
  },
  {
   "cell_type": "code",
   "execution_count": 55,
   "metadata": {},
   "outputs": [
    {
     "data": {
      "text/html": [
       "<div>\n",
       "<style scoped>\n",
       "    .dataframe tbody tr th:only-of-type {\n",
       "        vertical-align: middle;\n",
       "    }\n",
       "\n",
       "    .dataframe tbody tr th {\n",
       "        vertical-align: top;\n",
       "    }\n",
       "\n",
       "    .dataframe thead th {\n",
       "        text-align: right;\n",
       "    }\n",
       "</style>\n",
       "<table border=\"1\" class=\"dataframe\">\n",
       "  <thead>\n",
       "    <tr style=\"text-align: right;\">\n",
       "      <th></th>\n",
       "      <th>track_popularity</th>\n",
       "      <th>artist_popularity_binary</th>\n",
       "      <th>danceability</th>\n",
       "      <th>energy</th>\n",
       "      <th>loudness</th>\n",
       "      <th>mode</th>\n",
       "      <th>speechiness</th>\n",
       "      <th>acousticness</th>\n",
       "      <th>instrumentalness</th>\n",
       "      <th>liveness</th>\n",
       "      <th>valence</th>\n",
       "      <th>tempo</th>\n",
       "      <th>duration_ms</th>\n",
       "      <th>mode</th>\n",
       "    </tr>\n",
       "    <tr>\n",
       "      <th>audio_cluster</th>\n",
       "      <th></th>\n",
       "      <th></th>\n",
       "      <th></th>\n",
       "      <th></th>\n",
       "      <th></th>\n",
       "      <th></th>\n",
       "      <th></th>\n",
       "      <th></th>\n",
       "      <th></th>\n",
       "      <th></th>\n",
       "      <th></th>\n",
       "      <th></th>\n",
       "      <th></th>\n",
       "      <th></th>\n",
       "    </tr>\n",
       "  </thead>\n",
       "  <tbody>\n",
       "    <tr>\n",
       "      <th>0</th>\n",
       "      <td>70.107884</td>\n",
       "      <td>0.645228</td>\n",
       "      <td>0.692575</td>\n",
       "      <td>0.700073</td>\n",
       "      <td>73.056017</td>\n",
       "      <td>0.475104</td>\n",
       "      <td>0.241003</td>\n",
       "      <td>0.140888</td>\n",
       "      <td>0.001906</td>\n",
       "      <td>0.256783</td>\n",
       "      <td>0.566241</td>\n",
       "      <td>122.924405</td>\n",
       "      <td>230022.659751</td>\n",
       "      <td>0.475104</td>\n",
       "    </tr>\n",
       "    <tr>\n",
       "      <th>1</th>\n",
       "      <td>71.209524</td>\n",
       "      <td>0.601681</td>\n",
       "      <td>0.650838</td>\n",
       "      <td>0.691085</td>\n",
       "      <td>72.799440</td>\n",
       "      <td>0.634734</td>\n",
       "      <td>0.059783</td>\n",
       "      <td>0.162271</td>\n",
       "      <td>0.005195</td>\n",
       "      <td>0.150440</td>\n",
       "      <td>0.527505</td>\n",
       "      <td>119.820207</td>\n",
       "      <td>225063.965266</td>\n",
       "      <td>0.634734</td>\n",
       "    </tr>\n",
       "    <tr>\n",
       "      <th>2</th>\n",
       "      <td>68.781250</td>\n",
       "      <td>0.437500</td>\n",
       "      <td>0.688750</td>\n",
       "      <td>0.696656</td>\n",
       "      <td>83.843750</td>\n",
       "      <td>0.437500</td>\n",
       "      <td>0.061119</td>\n",
       "      <td>0.155196</td>\n",
       "      <td>0.670562</td>\n",
       "      <td>0.142047</td>\n",
       "      <td>0.490400</td>\n",
       "      <td>122.796594</td>\n",
       "      <td>220028.218750</td>\n",
       "      <td>0.437500</td>\n",
       "    </tr>\n",
       "  </tbody>\n",
       "</table>\n",
       "</div>"
      ],
      "text/plain": [
       "               track_popularity  artist_popularity_binary  danceability  \\\n",
       "audio_cluster                                                             \n",
       "0                     70.107884                  0.645228      0.692575   \n",
       "1                     71.209524                  0.601681      0.650838   \n",
       "2                     68.781250                  0.437500      0.688750   \n",
       "\n",
       "                 energy   loudness      mode  speechiness  acousticness  \\\n",
       "audio_cluster                                                             \n",
       "0              0.700073  73.056017  0.475104     0.241003      0.140888   \n",
       "1              0.691085  72.799440  0.634734     0.059783      0.162271   \n",
       "2              0.696656  83.843750  0.437500     0.061119      0.155196   \n",
       "\n",
       "               instrumentalness  liveness   valence       tempo  \\\n",
       "audio_cluster                                                     \n",
       "0                      0.001906  0.256783  0.566241  122.924405   \n",
       "1                      0.005195  0.150440  0.527505  119.820207   \n",
       "2                      0.670562  0.142047  0.490400  122.796594   \n",
       "\n",
       "                 duration_ms      mode  \n",
       "audio_cluster                           \n",
       "0              230022.659751  0.475104  \n",
       "1              225063.965266  0.634734  \n",
       "2              220028.218750  0.437500  "
      ]
     },
     "execution_count": 55,
     "metadata": {},
     "output_type": "execute_result"
    }
   ],
   "source": [
    "# Select only specific numerical columns for comparison\n",
    "numerical_features = [\n",
    "    'track_popularity', 'artist_popularity_binary', 'danceability', 'energy', \n",
    "    'loudness', 'mode', 'speechiness', 'acousticness', 'instrumentalness', \n",
    "    'liveness', 'valence', 'tempo', 'duration_ms', 'mode'\n",
    "]\n",
    "df.groupby('audio_cluster')[numerical_features].mean()"
   ]
  },
  {
   "cell_type": "markdown",
   "metadata": {},
   "source": [
    "| **Feature**                   | **Cluster 0** | **Cluster 1** | **Cluster 2** | **Interpretation** |\n",
    "|--------------------------------|---------------------|---------------------|---------------------|--------------------|\n",
    "| **track_popularity**          | 70.11              | 71.21              | 68.78              | No major difference. |\n",
    "| **artist_popularity_binary**  | 0.645              | 0.602              | 0.438              | Cluster 2 has fewer popular artists. |\n",
    "| **danceability**              | 0.693              | 0.651              | 0.689              | Cluster 1 is less danceable. |\n",
    "| **energy**                    | 0.70               | 0.69               | 0.70               | No significant difference. |\n",
    "| **loudness**                  | 73.06 dB           | 72.80 dB           | 83.84 dB           | Cluster 2 is significantly louder! |\n",
    "| **mode (Major=1, Minor=0)**   | 0.48               | 0.63               | 0.44               | Cluster 1 has more major-key songs, Cluster 2 has more minor-key songs. |\n",
    "| **speechiness**               | 0.241              | 0.060              | 0.061              | Cluster 0 has much higher speechiness |\n",
    "| **acousticness**              | 0.141              | 0.162              | 0.155              | No major difference. |\n",
    "| **instrumentalness**          | 0.002              | 0.005              | 0.671              | Cluster 2 contains instrumental tracks |\n",
    "| **liveness**                  | 0.257              | 0.150              | 0.142              | Cluster 0 has more live recordings. |\n",
    "| **valence**                   | 0.566              | 0.528              | 0.490              | Cluster 0 is happier, Cluster 2 is less positive. |\n",
    "| **tempo**                     | 122.92 BPM         | 119.82 BPM         | 122.80 BPM         | Cluster 1 has slower songs. |\n",
    "| **duration_ms**               | 230,022 ms (~3m 50s) | 225,063 ms (~3m 45s) | 220,028 ms (~3m 40s) | Cluster 0 has longer songs. |  \n",
    "  \n",
    "Lower silhouette score at (0.333) so the clusters are less well-defined and some data may be overlapping however when comparing variables it shows some more significant differences between clusters. Cluster 0 includes speech heavy / lively music, Cluster 1 has Major Key / less danceable / softer music, while Cluster 2 has Instrumental / Louder Music.\n",
    "\n",
    "---"
   ]
  },
  {
   "cell_type": "markdown",
   "metadata": {},
   "source": [
    "### Highest Silhouette (Optimal K = 4)"
   ]
  },
  {
   "cell_type": "code",
   "execution_count": 56,
   "metadata": {},
   "outputs": [
    {
     "data": {
      "text/markdown": [
       "|     |   Unnamed: 0 | features_used                                                                                                        |   optimal_k |   silhouette_score |   correlation_threshold |\n",
       "|----:|-------------:|:---------------------------------------------------------------------------------------------------------------------|------------:|-------------------:|------------------------:|\n",
       "| 231 |          231 | ['artist_popularity_binary', 'mode', 'valence', 'energy', 'duration_ms', 'instrumentalness', 'speechiness', 'tempo'] |           4 |           0.153438 |                     0.5 |"
      ],
      "text/plain": [
       "<IPython.core.display.Markdown object>"
      ]
     },
     "metadata": {},
     "output_type": "display_data"
    }
   ],
   "source": [
    "results_csv = pd.read_csv('kmeans_results.csv')\n",
    "display(Markdown(results_csv[results_csv['optimal_k'] > 3].sort_values(by=['silhouette_score'], ascending=False).head(1).to_markdown()))"
   ]
  },
  {
   "cell_type": "code",
   "execution_count": 57,
   "metadata": {},
   "outputs": [
    {
     "name": "stdout",
     "output_type": "stream",
     "text": [
      "Silhouette Score for K=4: 0.153\n"
     ]
    }
   ],
   "source": [
    "features = ['artist_popularity_binary', 'mode', 'valence', 'energy', 'duration_ms', 'instrumentalness', 'speechiness', 'tempo']\n",
    "\n",
    "X = df[features]\n",
    "\n",
    "scaler = StandardScaler()\n",
    "X_scaled = scaler.fit_transform(X)\n",
    "\n",
    "optimal_k = 4\n",
    "\n",
    "kmeans = KMeans(n_clusters=optimal_k, random_state=42, n_init=10)\n",
    "df['audio_cluster'] = kmeans.fit_predict(X_scaled)\n",
    "\n",
    "silhouette = silhouette_score(X_scaled, df['audio_cluster'])\n",
    "print(f'Silhouette Score for K={optimal_k}: {silhouette:.3f}')"
   ]
  },
  {
   "cell_type": "code",
   "execution_count": 58,
   "metadata": {},
   "outputs": [
    {
     "data": {
      "text/html": [
       "<div>\n",
       "<style scoped>\n",
       "    .dataframe tbody tr th:only-of-type {\n",
       "        vertical-align: middle;\n",
       "    }\n",
       "\n",
       "    .dataframe tbody tr th {\n",
       "        vertical-align: top;\n",
       "    }\n",
       "\n",
       "    .dataframe thead th {\n",
       "        text-align: right;\n",
       "    }\n",
       "</style>\n",
       "<table border=\"1\" class=\"dataframe\">\n",
       "  <thead>\n",
       "    <tr style=\"text-align: right;\">\n",
       "      <th></th>\n",
       "      <th>track_popularity</th>\n",
       "      <th>artist_popularity_binary</th>\n",
       "      <th>danceability</th>\n",
       "      <th>energy</th>\n",
       "      <th>loudness</th>\n",
       "      <th>mode</th>\n",
       "      <th>speechiness</th>\n",
       "      <th>acousticness</th>\n",
       "      <th>instrumentalness</th>\n",
       "      <th>liveness</th>\n",
       "      <th>valence</th>\n",
       "      <th>tempo</th>\n",
       "      <th>duration_ms</th>\n",
       "      <th>mode</th>\n",
       "    </tr>\n",
       "    <tr>\n",
       "      <th>audio_cluster</th>\n",
       "      <th></th>\n",
       "      <th></th>\n",
       "      <th></th>\n",
       "      <th></th>\n",
       "      <th></th>\n",
       "      <th></th>\n",
       "      <th></th>\n",
       "      <th></th>\n",
       "      <th></th>\n",
       "      <th></th>\n",
       "      <th></th>\n",
       "      <th></th>\n",
       "      <th></th>\n",
       "      <th></th>\n",
       "    </tr>\n",
       "  </thead>\n",
       "  <tbody>\n",
       "    <tr>\n",
       "      <th>0</th>\n",
       "      <td>71.029619</td>\n",
       "      <td>0.571227</td>\n",
       "      <td>0.656907</td>\n",
       "      <td>0.787898</td>\n",
       "      <td>66.589563</td>\n",
       "      <td>1.000000</td>\n",
       "      <td>0.066576</td>\n",
       "      <td>0.094596</td>\n",
       "      <td>0.011641</td>\n",
       "      <td>0.178470</td>\n",
       "      <td>0.645406</td>\n",
       "      <td>124.674358</td>\n",
       "      <td>217282.561354</td>\n",
       "      <td>1.000000</td>\n",
       "    </tr>\n",
       "    <tr>\n",
       "      <th>1</th>\n",
       "      <td>71.918089</td>\n",
       "      <td>0.643345</td>\n",
       "      <td>0.611137</td>\n",
       "      <td>0.528196</td>\n",
       "      <td>83.534130</td>\n",
       "      <td>0.844710</td>\n",
       "      <td>0.056898</td>\n",
       "      <td>0.282058</td>\n",
       "      <td>0.015276</td>\n",
       "      <td>0.150255</td>\n",
       "      <td>0.307408</td>\n",
       "      <td>115.911840</td>\n",
       "      <td>240125.334471</td>\n",
       "      <td>0.844710</td>\n",
       "    </tr>\n",
       "    <tr>\n",
       "      <th>2</th>\n",
       "      <td>70.623762</td>\n",
       "      <td>0.603960</td>\n",
       "      <td>0.685236</td>\n",
       "      <td>0.743018</td>\n",
       "      <td>69.636492</td>\n",
       "      <td>0.000000</td>\n",
       "      <td>0.077149</td>\n",
       "      <td>0.120941</td>\n",
       "      <td>0.018467</td>\n",
       "      <td>0.179031</td>\n",
       "      <td>0.594295</td>\n",
       "      <td>119.290156</td>\n",
       "      <td>221167.319661</td>\n",
       "      <td>0.000000</td>\n",
       "    </tr>\n",
       "    <tr>\n",
       "      <th>3</th>\n",
       "      <td>69.585859</td>\n",
       "      <td>0.639731</td>\n",
       "      <td>0.704616</td>\n",
       "      <td>0.672923</td>\n",
       "      <td>75.579125</td>\n",
       "      <td>0.579125</td>\n",
       "      <td>0.302165</td>\n",
       "      <td>0.150394</td>\n",
       "      <td>0.004671</td>\n",
       "      <td>0.187506</td>\n",
       "      <td>0.580195</td>\n",
       "      <td>122.564057</td>\n",
       "      <td>230703.454545</td>\n",
       "      <td>0.579125</td>\n",
       "    </tr>\n",
       "  </tbody>\n",
       "</table>\n",
       "</div>"
      ],
      "text/plain": [
       "               track_popularity  artist_popularity_binary  danceability  \\\n",
       "audio_cluster                                                             \n",
       "0                     71.029619                  0.571227      0.656907   \n",
       "1                     71.918089                  0.643345      0.611137   \n",
       "2                     70.623762                  0.603960      0.685236   \n",
       "3                     69.585859                  0.639731      0.704616   \n",
       "\n",
       "                 energy   loudness      mode  speechiness  acousticness  \\\n",
       "audio_cluster                                                             \n",
       "0              0.787898  66.589563  1.000000     0.066576      0.094596   \n",
       "1              0.528196  83.534130  0.844710     0.056898      0.282058   \n",
       "2              0.743018  69.636492  0.000000     0.077149      0.120941   \n",
       "3              0.672923  75.579125  0.579125     0.302165      0.150394   \n",
       "\n",
       "               instrumentalness  liveness   valence       tempo  \\\n",
       "audio_cluster                                                     \n",
       "0                      0.011641  0.178470  0.645406  124.674358   \n",
       "1                      0.015276  0.150255  0.307408  115.911840   \n",
       "2                      0.018467  0.179031  0.594295  119.290156   \n",
       "3                      0.004671  0.187506  0.580195  122.564057   \n",
       "\n",
       "                 duration_ms      mode  \n",
       "audio_cluster                           \n",
       "0              217282.561354  1.000000  \n",
       "1              240125.334471  0.844710  \n",
       "2              221167.319661  0.000000  \n",
       "3              230703.454545  0.579125  "
      ]
     },
     "execution_count": 58,
     "metadata": {},
     "output_type": "execute_result"
    }
   ],
   "source": [
    "# Select only specific numerical columns for comparison\n",
    "numerical_features = [\n",
    "    'track_popularity', 'artist_popularity_binary', 'danceability', 'energy', \n",
    "    'loudness', 'mode', 'speechiness', 'acousticness', 'instrumentalness', \n",
    "    'liveness', 'valence', 'tempo', 'duration_ms', 'mode'\n",
    "]\n",
    "df.groupby('audio_cluster')[numerical_features].mean()"
   ]
  },
  {
   "cell_type": "markdown",
   "metadata": {},
   "source": [
    "| **Feature**                     | **Cluster 0** | **Cluster 1** | **Cluster 2** | **Cluster 3** | **Interpretation** |\n",
    "|----------------------------------|--------------|--------------|--------------|--------------|--------------------|\n",
    "| **track_popularity**            | 71.03        | 71.92        | 70.62        | 69.59        | No strong popularity pattern across clusters. |\n",
    "| **artist_popularity_binary**    | 0.571        | 0.643        | 0.604        | 0.640        | No strong separation between popular and less popular artists. |\n",
    "| **danceability**                | 0.657        | 0.611        | 0.685        | 0.705        | Cluster 3 is **most danceable**, Cluster 1 is **least danceable**. |\n",
    "| **energy**                      | 0.788        | 0.528        | 0.743        | 0.673        | Cluster 1 has **significantly lower energy** (possibly softer songs). |\n",
    "| **loudness**                    | 66.59 dB     | 83.53 dB     | 69.64 dB     | 75.58 dB     | **Cluster 1 is much louder!** |\n",
    "| **mode (Major=1, Minor=0)**     | 1.000        | 0.845        | 0.000        | 0.579        | Cluster 2 is **exclusively minor-key**, Cluster 0 is **exclusively major-key**. |\n",
    "| **speechiness**                 | 0.067        | 0.057        | 0.077        | 0.302        | **Cluster 3 has very high speechiness (rap/spoken word cluster?)**. |\n",
    "| **acousticness**                | 0.095        | 0.282        | 0.121        | 0.150        | Cluster 1 has **the most acoustic music**. |\n",
    "| **instrumentalness**            | 0.012        | 0.015        | 0.018        | 0.005        | No major difference. |\n",
    "| **liveness**                    | 0.178        | 0.150        | 0.179        | 0.188        | No strong live recording pattern. |\n",
    "| **valence**                     | 0.645        | 0.307        | 0.594        | 0.580        | **Cluster 1 has significantly lower valence (darker, moodier music)**. |\n",
    "| **tempo**                       | 124.67 BPM   | 115.91 BPM   | 119.29 BPM   | 122.56 BPM   | **Cluster 1 has the slowest songs**. |\n",
    "| **duration_ms**                 | 217,282 ms   | 240,125 ms   | 221,167 ms   | 230,703 ms   | **Cluster 1 has the longest songs**. |  \n",
    "   \n",
    "Low silhouette score (0.153) meaning bad seperation and the clusters are overlapping. Clusters 0 and 2 are seperatad by Major / Minor key but mode alone isn't enough. Cluster 3 is more speech heavy music and could be genres like rap. Cluster 1 represents acoustic, slow, and soft music.\n",
    "\n",
    "---"
   ]
  },
  {
   "cell_type": "markdown",
   "metadata": {},
   "source": [
    "### Overall Results"
   ]
  },
  {
   "cell_type": "markdown",
   "metadata": {},
   "source": [
    "| **Metric**                 | **k=2 Model** | **k=3 Model** | **k=4 Model** |\n",
    "|----------------------------|--------------|--------------|--------------|\n",
    "| **Silhouette Score**       | **0.693**    | **0.333**    | **0.153**    |\n",
    "| **Separation Clarity**     | Strong       | Moderate     | Weak         |\n",
    "| **Interpretability**       | Basic (Instrumental vs. Vocal) | More nuanced (Speech-heavy, Live, Instrumental) | Overlapping clusters |\n",
    "| **Captures Genre Differences?** | Basic        | Some         | Some         |"
   ]
  },
  {
   "cell_type": "markdown",
   "metadata": {},
   "source": [
    "## Extra (Using Normalization vs Standardization)"
   ]
  },
  {
   "cell_type": "markdown",
   "metadata": {},
   "source": [
    "### Highest Silhouette (Optimal K = 2) Normalized"
   ]
  },
  {
   "cell_type": "code",
   "execution_count": 64,
   "metadata": {},
   "outputs": [
    {
     "name": "stdout",
     "output_type": "stream",
     "text": [
      "\n",
      "🔹 Running K-Means Optimization for Correlation Threshold: 0.7\n",
      "\n",
      "🔹 Running K-Means Optimization for Correlation Threshold: 0.5\n",
      "\n",
      "🔹 Running K-Means Optimization for Correlation Threshold: 0.3\n"
     ]
    },
    {
     "data": {
      "text/markdown": [
       "|     | features_used                                                                                          |   optimal_k |   silhouette_score |   correlation_threshold |\n",
       "|----:|:-------------------------------------------------------------------------------------------------------|------------:|-------------------:|------------------------:|\n",
       "| 504 | ['speechiness', 'instrumentalness', 'mode', 'duration_ms', 'liveness']                                 |           2 |           0.723397 |                     0.3 |\n",
       "| 377 | ['speechiness', 'instrumentalness', 'artist_popularity_binary', 'duration_ms', 'liveness']             |           2 |           0.722874 |                     0.3 |\n",
       "| 391 | ['speechiness', 'loudness', 'instrumentalness', 'mode', 'duration_ms', 'liveness']                     |           2 |           0.699604 |                     0.3 |\n",
       "| 345 | ['speechiness', 'loudness', 'artist_popularity_binary', 'instrumentalness', 'duration_ms', 'liveness'] |           2 |           0.699085 |                     0.3 |\n",
       "| 369 | ['instrumentalness', 'mode', 'duration_ms', 'tempo', 'liveness']                                       |           2 |           0.697028 |                     0.3 |"
      ],
      "text/plain": [
       "<IPython.core.display.Markdown object>"
      ]
     },
     "metadata": {},
     "output_type": "display_data"
    }
   ],
   "source": [
    "from sklearn.preprocessing import MinMaxScaler\n",
    "import numpy as np\n",
    "import pandas as pd\n",
    "import itertools\n",
    "from sklearn.cluster import KMeans\n",
    "from sklearn.metrics import silhouette_score\n",
    "\n",
    "def find_highly_correlated_features(df_of_features, threshold):\n",
    "    \"\"\"\n",
    "    Uses correlation matrix columns and index to find highly correlated variable pairs and returns\n",
    "    a list of tuples where the correlated pair only occurs once.\n",
    "    \"\"\"\n",
    "    corr_matrix = df_of_features.corr()\n",
    "    high_corr_pairs = set()\n",
    "\n",
    "    for col in corr_matrix.columns:\n",
    "        for index in corr_matrix.index:\n",
    "            if col != index and abs(corr_matrix.loc[col, index]) > threshold:\n",
    "                high_corr_pairs.add(tuple(sorted((col, index))))\n",
    "\n",
    "    return list(high_corr_pairs)\n",
    "\n",
    "def generate_feature_combinations(features, high_corr_pairs):\n",
    "    \"\"\"\n",
    "    Generates all valid variable sets ensuring that no correlated pair appears together.\n",
    "    Also generates variable reduction subsets without testing an exponential number of combinations.\n",
    "    Returns a list of lists including both generations above.\n",
    "    \"\"\"\n",
    "    feature_sets = []\n",
    "\n",
    "    if high_corr_pairs:\n",
    "        for subset in itertools.product(*[[pair[0], pair[1]] for pair in high_corr_pairs]):\n",
    "            reduced_features = set(features) - set(subset)\n",
    "\n",
    "            is_valid = all(not (pair[0] in reduced_features and pair[1] in reduced_features) for pair in high_corr_pairs)\n",
    "\n",
    "            if is_valid and reduced_features not in feature_sets:\n",
    "                feature_sets.append(reduced_features)\n",
    "    else:\n",
    "        # If no correlated variables, just use the full list of variables\n",
    "        feature_sets.append(set(features))\n",
    "\n",
    "    # Feature reduction\n",
    "    final_feature_sets = set()\n",
    "\n",
    "    for feature_set in feature_sets:\n",
    "        feature_list = list(feature_set)\n",
    "        \n",
    "        for r in range(len(feature_list) - 2, len(feature_list) + 1):  # Test near-complete sets only\n",
    "            for subset in itertools.combinations(feature_list, r):\n",
    "                final_feature_sets.add(subset)\n",
    "\n",
    "    return [list(s) for s in final_feature_sets]\n",
    "\n",
    "def run_kmeans(df, feature_sets, k_range):\n",
    "    \"\"\"\n",
    "    Runs K-Means clustering for multiple feature sets, recording optimal k and silhouette scores.\n",
    "    \"\"\"\n",
    "    results = []\n",
    "\n",
    "    # Kmeans\n",
    "    for features in feature_sets:\n",
    "        X = df[list(features)] \n",
    "        \n",
    "        # Use MinMaxScaler instead of StandardScaler\n",
    "        scaler = MinMaxScaler()\n",
    "        X_scaled = scaler.fit_transform(X)\n",
    "\n",
    "        inertia = []\n",
    "        for k in k_range:\n",
    "            kmeans = KMeans(n_clusters=k, random_state=42, n_init=10)\n",
    "            kmeans.fit(X_scaled)\n",
    "            inertia.append(kmeans.inertia_)\n",
    "\n",
    "        optimal_k = k_range[np.argmin(np.gradient(inertia))]\n",
    "\n",
    "        kmeans = KMeans(n_clusters=optimal_k, random_state=42, n_init=10)\n",
    "        labels = kmeans.fit_predict(X_scaled)\n",
    "        silhouette = silhouette_score(X_scaled, labels)\n",
    "\n",
    "        results.append({\n",
    "            'features_used': list(features),\n",
    "            'optimal_k': optimal_k,\n",
    "            'silhouette_score': silhouette\n",
    "        })\n",
    "\n",
    "    return results\n",
    "\n",
    "# Initial Parameters\n",
    "correlation_thresholds = [0.7, 0.5, 0.3]  # Thresholds for correlation between variables\n",
    "k_range = range(2, 11)  # Range for number of clusters to test\n",
    "\n",
    "# Original feature list\n",
    "features = [\n",
    "    'artist_popularity_binary', 'danceability', 'energy', \n",
    "    'loudness', 'mode', 'speechiness', 'acousticness', 'instrumentalness', \n",
    "    'liveness', 'valence', 'tempo', 'duration_ms'\n",
    "]  \n",
    "\n",
    "final_results = []\n",
    "\n",
    "for threshold in correlation_thresholds:\n",
    "    print(f\"\\n🔹 Running K-Means Optimization for Correlation Threshold: {threshold}\")\n",
    "\n",
    "    # Find highly correlated variables\n",
    "    high_corr_pairs = find_highly_correlated_features(df[features], threshold)\n",
    "\n",
    "    # Generate Sets - without correlated pairs and variable reduction\n",
    "    feature_sets = generate_feature_combinations(features, high_corr_pairs)\n",
    "\n",
    "    # Run K-Means\n",
    "    results = run_kmeans(df, feature_sets, k_range)\n",
    "\n",
    "    # Store Results\n",
    "    for res in results:\n",
    "        res['correlation_threshold'] = threshold\n",
    "        final_results.append(res)\n",
    "\n",
    "# Results DataFrame\n",
    "df_results = pd.DataFrame(final_results)\n",
    "df_results.to_csv('kmeans_norm_2_results.csv')\n",
    "display(Markdown(df_results.sort_values(by=['silhouette_score'], ascending=False).head().to_markdown()))"
   ]
  },
  {
   "cell_type": "code",
   "execution_count": 12,
   "metadata": {},
   "outputs": [
    {
     "data": {
      "text/markdown": [
       "|     |   Unnamed: 0 | features_used                                                          |   optimal_k |   silhouette_score |   correlation_threshold |\n",
       "|----:|-------------:|:-----------------------------------------------------------------------|------------:|-------------------:|------------------------:|\n",
       "| 504 |          504 | ['speechiness', 'instrumentalness', 'mode', 'duration_ms', 'liveness'] |           2 |           0.723397 |                     0.3 |"
      ],
      "text/plain": [
       "<IPython.core.display.Markdown object>"
      ]
     },
     "metadata": {},
     "output_type": "display_data"
    }
   ],
   "source": [
    "results_csv = pd.read_csv('kmeans_norm_2_results.csv')\n",
    "display(Markdown(results_csv.loc[results_csv.groupby('optimal_k')['silhouette_score'].idxmax()].sort_values(by='optimal_k').to_markdown()))"
   ]
  },
  {
   "cell_type": "code",
   "execution_count": null,
   "metadata": {},
   "outputs": [
    {
     "name": "stdout",
     "output_type": "stream",
     "text": [
      "Silhouette Score for K=2: 0.723\n"
     ]
    }
   ],
   "source": [
    "features = ['speechiness', 'instrumentalness', 'mode', 'duration_ms', 'liveness']\n",
    "\n",
    "X = df[features]\n",
    "\n",
    "scaler = MinMaxScaler()\n",
    "X_scaled = scaler.fit_transform(X)\n",
    "\n",
    "optimal_k = 2\n",
    "\n",
    "kmeans = KMeans(n_clusters=optimal_k, random_state=42, n_init=10)\n",
    "df['audio_cluster'] = kmeans.fit_predict(X_scaled)\n",
    "\n",
    "silhouette = silhouette_score(X_scaled, df['audio_cluster'])\n",
    "print(f'Silhouette Score for K={optimal_k}: {silhouette:.3f}')"
   ]
  },
  {
   "cell_type": "code",
   "execution_count": 22,
   "metadata": {},
   "outputs": [
    {
     "data": {
      "text/html": [
       "<div>\n",
       "<style scoped>\n",
       "    .dataframe tbody tr th:only-of-type {\n",
       "        vertical-align: middle;\n",
       "    }\n",
       "\n",
       "    .dataframe tbody tr th {\n",
       "        vertical-align: top;\n",
       "    }\n",
       "\n",
       "    .dataframe thead th {\n",
       "        text-align: right;\n",
       "    }\n",
       "</style>\n",
       "<table border=\"1\" class=\"dataframe\">\n",
       "  <thead>\n",
       "    <tr style=\"text-align: right;\">\n",
       "      <th></th>\n",
       "      <th>artist_popularity_binary</th>\n",
       "      <th>danceability</th>\n",
       "      <th>energy</th>\n",
       "      <th>loudness</th>\n",
       "      <th>mode</th>\n",
       "      <th>speechiness</th>\n",
       "      <th>acousticness</th>\n",
       "      <th>instrumentalness</th>\n",
       "      <th>liveness</th>\n",
       "      <th>valence</th>\n",
       "      <th>tempo</th>\n",
       "      <th>duration_ms</th>\n",
       "      <th>Other</th>\n",
       "      <th>pop</th>\n",
       "      <th>rock</th>\n",
       "      <th>metal</th>\n",
       "      <th>country</th>\n",
       "      <th>house</th>\n",
       "      <th>hip hop</th>\n",
       "      <th>electronic</th>\n",
       "      <th>reggae</th>\n",
       "      <th>jazz</th>\n",
       "      <th>trap</th>\n",
       "      <th>techno</th>\n",
       "      <th>blues</th>\n",
       "      <th>country pop</th>\n",
       "    </tr>\n",
       "    <tr>\n",
       "      <th>audio_cluster</th>\n",
       "      <th></th>\n",
       "      <th></th>\n",
       "      <th></th>\n",
       "      <th></th>\n",
       "      <th></th>\n",
       "      <th></th>\n",
       "      <th></th>\n",
       "      <th></th>\n",
       "      <th></th>\n",
       "      <th></th>\n",
       "      <th></th>\n",
       "      <th></th>\n",
       "      <th></th>\n",
       "      <th></th>\n",
       "      <th></th>\n",
       "      <th></th>\n",
       "      <th></th>\n",
       "      <th></th>\n",
       "      <th></th>\n",
       "      <th></th>\n",
       "      <th></th>\n",
       "      <th></th>\n",
       "      <th></th>\n",
       "      <th></th>\n",
       "      <th></th>\n",
       "      <th></th>\n",
       "    </tr>\n",
       "  </thead>\n",
       "  <tbody>\n",
       "    <tr>\n",
       "      <th>0</th>\n",
       "      <td>0.593750</td>\n",
       "      <td>0.645862</td>\n",
       "      <td>0.685474</td>\n",
       "      <td>73.403343</td>\n",
       "      <td>1.0</td>\n",
       "      <td>0.092512</td>\n",
       "      <td>0.166838</td>\n",
       "      <td>0.011355</td>\n",
       "      <td>0.170073</td>\n",
       "      <td>0.521680</td>\n",
       "      <td>121.306975</td>\n",
       "      <td>226490.053779</td>\n",
       "      <td>0.086483</td>\n",
       "      <td>0.728924</td>\n",
       "      <td>0.170058</td>\n",
       "      <td>0.042878</td>\n",
       "      <td>0.021076</td>\n",
       "      <td>0.039971</td>\n",
       "      <td>0.194041</td>\n",
       "      <td>0.003634</td>\n",
       "      <td>0.016715</td>\n",
       "      <td>0.002907</td>\n",
       "      <td>0.080669</td>\n",
       "      <td>0.005087</td>\n",
       "      <td>0.005087</td>\n",
       "      <td>0.002180</td>\n",
       "    </tr>\n",
       "    <tr>\n",
       "      <th>1</th>\n",
       "      <td>0.630553</td>\n",
       "      <td>0.681365</td>\n",
       "      <td>0.704337</td>\n",
       "      <td>72.416035</td>\n",
       "      <td>0.0</td>\n",
       "      <td>0.105672</td>\n",
       "      <td>0.144051</td>\n",
       "      <td>0.017361</td>\n",
       "      <td>0.176412</td>\n",
       "      <td>0.555132</td>\n",
       "      <td>119.327980</td>\n",
       "      <td>225352.859155</td>\n",
       "      <td>0.070423</td>\n",
       "      <td>0.746479</td>\n",
       "      <td>0.088841</td>\n",
       "      <td>0.027086</td>\n",
       "      <td>0.006501</td>\n",
       "      <td>0.062839</td>\n",
       "      <td>0.223185</td>\n",
       "      <td>0.009751</td>\n",
       "      <td>0.024919</td>\n",
       "      <td>0.002167</td>\n",
       "      <td>0.096425</td>\n",
       "      <td>0.003250</td>\n",
       "      <td>0.001083</td>\n",
       "      <td>0.001083</td>\n",
       "    </tr>\n",
       "  </tbody>\n",
       "</table>\n",
       "</div>"
      ],
      "text/plain": [
       "               artist_popularity_binary  danceability    energy   loudness  \\\n",
       "audio_cluster                                                                \n",
       "0                              0.593750      0.645862  0.685474  73.403343   \n",
       "1                              0.630553      0.681365  0.704337  72.416035   \n",
       "\n",
       "               mode  speechiness  acousticness  instrumentalness  liveness  \\\n",
       "audio_cluster                                                                \n",
       "0               1.0     0.092512      0.166838          0.011355  0.170073   \n",
       "1               0.0     0.105672      0.144051          0.017361  0.176412   \n",
       "\n",
       "                valence       tempo    duration_ms     Other       pop  \\\n",
       "audio_cluster                                                            \n",
       "0              0.521680  121.306975  226490.053779  0.086483  0.728924   \n",
       "1              0.555132  119.327980  225352.859155  0.070423  0.746479   \n",
       "\n",
       "                   rock     metal   country     house   hip hop  electronic  \\\n",
       "audio_cluster                                                                 \n",
       "0              0.170058  0.042878  0.021076  0.039971  0.194041    0.003634   \n",
       "1              0.088841  0.027086  0.006501  0.062839  0.223185    0.009751   \n",
       "\n",
       "                 reggae      jazz      trap    techno     blues  country pop  \n",
       "audio_cluster                                                                 \n",
       "0              0.016715  0.002907  0.080669  0.005087  0.005087     0.002180  \n",
       "1              0.024919  0.002167  0.096425  0.003250  0.001083     0.001083  "
      ]
     },
     "execution_count": 22,
     "metadata": {},
     "output_type": "execute_result"
    }
   ],
   "source": [
    "# Select only specific numerical columns for comparison\n",
    "numerical_features = [\n",
    "    'artist_popularity_binary', 'danceability', 'energy', \n",
    "    'loudness', 'mode', 'speechiness', 'acousticness', 'instrumentalness', \n",
    "    'liveness', 'valence', 'tempo', 'duration_ms', 'Other', 'pop', 'rock', 'metal', 'country',\n",
    "       'house', 'hip hop', 'electronic', 'reggae', 'jazz', 'trap', 'techno',\n",
    "       'blues', 'country pop'\n",
    "]\n",
    "\n",
    "df.groupby('audio_cluster')[numerical_features].mean()"
   ]
  },
  {
   "cell_type": "markdown",
   "metadata": {},
   "source": [
    "| **Feature**                 | **Cluster 0** | **Cluster 1** | **Interpretation** |\n",
    "|-----------------------------|---------------------|---------------------|--------------------|\n",
    "| **artist_popularity_binary** | 0.594              | 0.631              | Cluster 1 has slightly more popular artists. |\n",
    "| **danceability**             | 0.646              | 0.681              | Cluster 1 has **more danceable** tracks. |\n",
    "| **energy**                   | 0.685              | 0.704              | Cluster 1 songs have slightly **higher energy**. |\n",
    "| **loudness**                 | 73.40 dB           | 72.42 dB           | Both clusters have **similar loudness levels**. |\n",
    "| **mode (Major=1, Minor=0)**  | **1.00 (Major)**   | **0.00 (Minor)**   | Cluster 0 contains **exclusively major-key songs**, while Cluster 1 is **all minor-key**. |\n",
    "| **speechiness**              | 0.093              | 0.106              | Cluster 1 has slightly more **spoken-word-heavy** tracks. |\n",
    "| **acousticness**             | 0.167              | 0.144              | Cluster 0 has **slightly more acoustic** songs. |\n",
    "| **instrumentalness**         | 0.011              | 0.017              | Cluster 1 contains **more instrumental tracks**. |\n",
    "| **liveness**                 | 0.170              | 0.176              | Both clusters have **similar presence of live recordings**. |\n",
    "| **valence**                  | 0.522              | 0.555              | Cluster 1 has **happier/more positive** songs. |\n",
    "| **tempo**                    | 121.31 BPM         | 119.33 BPM         | Cluster 0 songs have slightly **faster tempo**. |\n",
    "| **duration_ms**              | 226,490 ms (~3m 46s) | 225,353 ms (~3m 45s) | No major difference in song length. |\n"
   ]
  },
  {
   "cell_type": "markdown",
   "metadata": {},
   "source": [
    "| **Feature**                 | **Cluster 0** | **Cluster 1** | **Interpretation** |\n",
    "|-----------------------------|---------------------|---------------------|--------------------|\n",
    "| **artist_popularity_binary** | 0.594              | 0.631              | Cluster 1 has slightly more popular artists. |\n",
    "| **danceability**             | 0.646              | 0.681              | Cluster 1 has **more danceable** tracks. |\n",
    "| **energy**                   | 0.685              | 0.704              | Cluster 1 songs have slightly **higher energy**. |\n",
    "| **loudness**                 | 73.40 dB           | 72.42 dB           | Both clusters have **similar loudness levels**. |\n",
    "| **mode (Major=1, Minor=0)**  | **1.00 (Major)**   | **0.00 (Minor)**   | Cluster 0 contains **exclusively major-key songs**, while Cluster 1 is **all minor-key**. |\n",
    "| **speechiness**              | 0.093              | 0.106              | Cluster 1 has slightly more **spoken-word-heavy** tracks. |\n",
    "| **acousticness**             | 0.167              | 0.144              | Cluster 0 has **slightly more acoustic** songs. |\n",
    "| **instrumentalness**         | 0.011              | 0.017              | Cluster 1 contains **more instrumental tracks**. |\n",
    "| **liveness**                 | 0.170              | 0.176              | Both clusters have **similar presence of live recordings**. |\n",
    "| **valence**                  | 0.522              | 0.555              | Cluster 1 has **happier/more positive** songs. |\n",
    "| **tempo**                    | 121.31 BPM         | 119.33 BPM         | Cluster 0 songs have slightly **faster tempo**. |\n",
    "| **duration_ms**              | 226,490 ms (~3m 46s) | 225,353 ms (~3m 45s) | No major difference in song length. |\n"
   ]
  },
  {
   "cell_type": "markdown",
   "metadata": {},
   "source": [
    "\n",
    "\n",
    "---"
   ]
  },
  {
   "cell_type": "markdown",
   "metadata": {},
   "source": [
    "### Highest Silhouette (Optimal K = 3) Normalized"
   ]
  },
  {
   "cell_type": "code",
   "execution_count": null,
   "metadata": {},
   "outputs": [
    {
     "name": "stdout",
     "output_type": "stream",
     "text": [
      "\n",
      "🔹 Running K-Means Optimization for Correlation Threshold: 0.7\n",
      "\n",
      "🔹 Running K-Means Optimization for Correlation Threshold: 0.5\n",
      "\n",
      "🔹 Running K-Means Optimization for Correlation Threshold: 0.3\n"
     ]
    },
    {
     "data": {
      "text/markdown": [
       "|     | features_used                                                                                      |   optimal_k |   silhouette_score |   correlation_threshold |\n",
       "|----:|:---------------------------------------------------------------------------------------------------|------------:|-------------------:|------------------------:|\n",
       "| 385 | ['instrumentalness', 'artist_popularity_binary', 'mode', 'duration_ms', 'liveness']                |           3 |           0.654221 |                     0.3 |\n",
       "| 546 | ['speechiness', 'instrumentalness', 'artist_popularity_binary', 'mode', 'duration_ms']             |           3 |           0.651716 |                     0.3 |\n",
       "| 460 | ['loudness', 'artist_popularity_binary', 'instrumentalness', 'mode', 'duration_ms', 'liveness']    |           3 |           0.627395 |                     0.3 |\n",
       "| 367 | ['speechiness', 'loudness', 'artist_popularity_binary', 'instrumentalness', 'mode', 'duration_ms'] |           3 |           0.624256 |                     0.3 |\n",
       "| 501 | ['instrumentalness', 'artist_popularity_binary', 'mode', 'duration_ms', 'tempo']                   |           3 |           0.622398 |                     0.3 |"
      ],
      "text/plain": [
       "<IPython.core.display.Markdown object>"
      ]
     },
     "metadata": {},
     "output_type": "display_data"
    }
   ],
   "source": [
    "from sklearn.preprocessing import MinMaxScaler\n",
    "import numpy as np\n",
    "import pandas as pd\n",
    "import itertools\n",
    "from sklearn.cluster import KMeans\n",
    "from sklearn.metrics import silhouette_score\n",
    "\n",
    "def find_highly_correlated_features(df_of_features, threshold):\n",
    "    \"\"\"\n",
    "    Uses correlation matrix columns and index to find highly correlated variable pairs and returns\n",
    "    a list of tuples where the correlated pair only occurs once.\n",
    "    \"\"\"\n",
    "    corr_matrix = df_of_features.corr()\n",
    "    high_corr_pairs = set()\n",
    "\n",
    "    for col in corr_matrix.columns:\n",
    "        for index in corr_matrix.index:\n",
    "            if col != index and abs(corr_matrix.loc[col, index]) > threshold:\n",
    "                high_corr_pairs.add(tuple(sorted((col, index))))\n",
    "\n",
    "    return list(high_corr_pairs)\n",
    "\n",
    "def generate_feature_combinations(features, high_corr_pairs):\n",
    "    \"\"\"\n",
    "    Generates all valid variable sets ensuring that no correlated pair appears together.\n",
    "    Also generates variable reduction subsets without testing an exponential number of combinations.\n",
    "    Returns a list of lists including both generations above.\n",
    "    \"\"\"\n",
    "    feature_sets = []\n",
    "\n",
    "    if high_corr_pairs:\n",
    "        for subset in itertools.product(*[[pair[0], pair[1]] for pair in high_corr_pairs]):\n",
    "            reduced_features = set(features) - set(subset)\n",
    "\n",
    "            is_valid = all(not (pair[0] in reduced_features and pair[1] in reduced_features) for pair in high_corr_pairs)\n",
    "\n",
    "            if is_valid and reduced_features not in feature_sets:\n",
    "                feature_sets.append(reduced_features)\n",
    "    else:\n",
    "        # If no correlated variables, just use the full list of variables\n",
    "        feature_sets.append(set(features))\n",
    "\n",
    "    # Feature reduction\n",
    "    final_feature_sets = set()\n",
    "\n",
    "    for feature_set in feature_sets:\n",
    "        feature_list = list(feature_set)\n",
    "        \n",
    "        for r in range(len(feature_list) - 2, len(feature_list) + 1):  # Test near-complete sets only\n",
    "            for subset in itertools.combinations(feature_list, r):\n",
    "                final_feature_sets.add(subset)\n",
    "\n",
    "    return [list(s) for s in final_feature_sets]\n",
    "\n",
    "def run_kmeans(df, feature_sets, k_range):\n",
    "    \"\"\"\n",
    "    Runs K-Means clustering for multiple feature sets, recording optimal k and silhouette scores.\n",
    "    \"\"\"\n",
    "    results = []\n",
    "\n",
    "    # Kmeans\n",
    "    for features in feature_sets:\n",
    "        X = df[list(features)] \n",
    "        \n",
    "        # Use MinMaxScaler instead of StandardScaler\n",
    "        scaler = MinMaxScaler()\n",
    "        X_scaled = scaler.fit_transform(X)\n",
    "\n",
    "        inertia = []\n",
    "        for k in k_range:\n",
    "            kmeans = KMeans(n_clusters=k, random_state=42, n_init=10)\n",
    "            kmeans.fit(X_scaled)\n",
    "            inertia.append(kmeans.inertia_)\n",
    "\n",
    "        optimal_k = k_range[np.argmin(np.gradient(inertia))]\n",
    "\n",
    "        kmeans = KMeans(n_clusters=optimal_k, random_state=42, n_init=10)\n",
    "        labels = kmeans.fit_predict(X_scaled)\n",
    "        silhouette = silhouette_score(X_scaled, labels)\n",
    "\n",
    "        results.append({\n",
    "            'features_used': list(features),\n",
    "            'optimal_k': optimal_k,\n",
    "            'silhouette_score': silhouette\n",
    "        })\n",
    "\n",
    "    return results\n",
    "\n",
    "# Initial Parameters\n",
    "correlation_thresholds = [0.7, 0.5, 0.3]  # Thresholds for correlation between variables\n",
    "k_range = range(3, 11)  # Range for number of clusters to test\n",
    "\n",
    "# Original feature list\n",
    "features = [\n",
    "    'artist_popularity_binary', 'danceability', 'energy', \n",
    "    'loudness', 'mode', 'speechiness', 'acousticness', 'instrumentalness', \n",
    "    'liveness', 'valence', 'tempo', 'duration_ms'\n",
    "]  \n",
    "\n",
    "final_results = []\n",
    "\n",
    "for threshold in correlation_thresholds:\n",
    "    print(f\"\\n🔹 Running K-Means Optimization for Correlation Threshold: {threshold}\")\n",
    "\n",
    "    # Find highly correlated variables\n",
    "    high_corr_pairs = find_highly_correlated_features(df[features], threshold)\n",
    "\n",
    "    # Generate Sets - without correlated pairs and variable reduction\n",
    "    feature_sets = generate_feature_combinations(features, high_corr_pairs)\n",
    "\n",
    "    # Run K-Means\n",
    "    results = run_kmeans(df, feature_sets, k_range)\n",
    "\n",
    "    # Store Results\n",
    "    for res in results:\n",
    "        res['correlation_threshold'] = threshold\n",
    "        final_results.append(res)\n",
    "\n",
    "# Results DataFrame\n",
    "df_results = pd.DataFrame(final_results)\n",
    "df_results.to_csv('kmeans_norm_results.csv')\n",
    "display(Markdown(df_results.sort_values(by=['silhouette_score'], ascending=False).head().to_markdown()))"
   ]
  },
  {
   "cell_type": "code",
   "execution_count": 62,
   "metadata": {},
   "outputs": [
    {
     "data": {
      "text/markdown": [
       "|     |   Unnamed: 0 | features_used                                                                                    |   optimal_k |   silhouette_score |   correlation_threshold |\n",
       "|----:|-------------:|:-------------------------------------------------------------------------------------------------|------------:|-------------------:|------------------------:|\n",
       "| 385 |          385 | ['instrumentalness', 'artist_popularity_binary', 'mode', 'duration_ms', 'liveness']              |           3 |           0.654221 |                     0.3 |\n",
       "| 475 |          475 | ['loudness', 'artist_popularity_binary', 'instrumentalness', 'duration_ms', 'tempo', 'liveness'] |           4 |           0.445217 |                     0.3 |"
      ],
      "text/plain": [
       "<IPython.core.display.Markdown object>"
      ]
     },
     "metadata": {},
     "output_type": "display_data"
    },
    {
     "data": {
      "text/markdown": [
       "---"
      ],
      "text/plain": [
       "<IPython.core.display.Markdown object>"
      ]
     },
     "metadata": {},
     "output_type": "display_data"
    }
   ],
   "source": [
    "results_csv = pd.read_csv('kmeans_norm_results.csv')\n",
    "display(Markdown(results_csv.loc[results_csv.groupby('optimal_k')['silhouette_score'].idxmax()].sort_values(by='optimal_k').to_markdown()))\n",
    "display(Markdown('---'))"
   ]
  }
 ],
 "metadata": {
  "kernelspec": {
   "display_name": ".venv",
   "language": "python",
   "name": "python3"
  },
  "language_info": {
   "codemirror_mode": {
    "name": "ipython",
    "version": 3
   },
   "file_extension": ".py",
   "mimetype": "text/x-python",
   "name": "python",
   "nbconvert_exporter": "python",
   "pygments_lexer": "ipython3",
   "version": "3.13.2"
  }
 },
 "nbformat": 4,
 "nbformat_minor": 2
}
