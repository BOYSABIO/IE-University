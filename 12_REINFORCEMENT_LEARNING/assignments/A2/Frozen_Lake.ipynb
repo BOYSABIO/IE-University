{
 "cells": [
  {
   "cell_type": "code",
   "execution_count": 8,
   "metadata": {},
   "outputs": [],
   "source": [
    "import gymnasium as gym\n",
    "import numpy as np"
   ]
  },
  {
   "cell_type": "code",
   "execution_count": 9,
   "metadata": {},
   "outputs": [],
   "source": [
    "env = gym.make('FrozenLake-v1', render_mode = 'human')\n",
    "env = env.unwrapped\n",
    "env.reset()\n",
    "\n",
    "# Parameters\n",
    "gamma = 0.8\n",
    "theta = 1e-8"
   ]
  },
  {
   "cell_type": "code",
   "execution_count": 10,
   "metadata": {},
   "outputs": [
    {
     "name": "stdout",
     "output_type": "stream",
     "text": [
      "\n",
      "Policy from Policy Iteration:\n"
     ]
    }
   ],
   "source": [
    "# Supporting functions\n",
    "def policy_evaluation(env, policy, theta=1e-8, gamma=0.9):\n",
    "    V = np.zeros(env.observation_space.n)\n",
    "    while True:\n",
    "        delta = 0\n",
    "\n",
    "        for s in range(env.observation_space.n):\n",
    "            \n",
    "            old_v = V[s]\n",
    "           \n",
    "            new_v = 0\n",
    "            for a, action_prob in enumerate(policy[s]):\n",
    "                if action_prob > 0:\n",
    "                    transitions = env.P[s][a]\n",
    "                    for p, ns, r, _ in transitions:\n",
    "                        new_v += action_prob * p * (r + gamma * V[ns])\n",
    "            \n",
    "            \n",
    "            V[s] = new_v\n",
    "            delta = max(delta, np.abs(old_v - V[s]))\n",
    "        if delta < theta:\n",
    "            break\n",
    "    return V\n",
    "\n",
    "def policy_improvement(env, V, gamma=0.9):\n",
    "    policy = np.zeros([env.observation_space.n, env.action_space.n])\n",
    "    for s in range(env.observation_space.n):\n",
    "        q_values = np.zeros(env.action_space.n)\n",
    "        for a in range(env.action_space.n):\n",
    "            q_values[a] = sum([p * (r + gamma * V[ns]) for p, ns, r, _ in env.P[s][a]])\n",
    "        best_action = np.argmax(q_values)\n",
    "        policy[s, best_action] = 1.0\n",
    "    return policy\n",
    "\n",
    "def policy_iteration(env, theta=1e-8, gamma=0.9):\n",
    "    policy = np.ones([env.observation_space.n, env.action_space.n]) / env.action_space.n\n",
    "    while True:\n",
    "        V = policy_evaluation(env, policy, theta, gamma)\n",
    "        new_policy = policy_improvement(env, V, gamma)\n",
    "        if np.array_equal(policy, new_policy):\n",
    "            break\n",
    "        policy = new_policy\n",
    "    return policy, V\n",
    "\n",
    "def value_iteration(env, theta=1e-8, gamma=0.9):\n",
    "    V = np.zeros(env.observation_space.n)\n",
    "    while True:\n",
    "        delta = 0\n",
    "        for s in range(env.observation_space.n):\n",
    "            q_values = [sum([p * (r + gamma * V[ns]) for p, ns, r, _ in env.P[s][a]]) for a in range(env.action_space.n)]\n",
    "            max_q_value = max(q_values)\n",
    "            delta = max(delta, abs(V[s] - max_q_value))\n",
    "            V[s] = max_q_value\n",
    "        if delta < theta:\n",
    "            break\n",
    "    policy = policy_improvement(env, V, gamma)\n",
    "    return policy, V\n",
    "\n",
    "# Run policy iteration\n",
    "pi_policy, pi_value = policy_iteration(env, theta=1e-8, gamma=0.9)\n",
    "vi_policy, vi_value = value_iteration(env, theta=1e-8, gamma=0.9)\n",
    "print(\"\\nPolicy from Policy Iteration:\")\n",
    "\n",
    "# Simulate using the optimal policy\n",
    "def simulate_optimal_policy(env, policy, max_steps=100):\n",
    "    \"\"\"\n",
    "    Simulate an episode in the Taxi environment using the optimal policy.\n",
    "    \n",
    "    Args:\n",
    "        env: The Taxi environment.\n",
    "        policy: The optimal policy from policy or value iteration.\n",
    "        max_steps: Maximum steps to simulate.\n",
    "\n",
    "    Returns:\n",
    "        total_reward: Total accumulated reward during simulation.\n",
    "        path: List of states visited.\n",
    "        actions: List of actions taken.\n",
    "    \"\"\"\n",
    "    state = env.reset()[0]  # Reset environment and get initial state\n",
    "    total_reward = 0\n",
    "    path = [state]  # Track states visited\n",
    "    actions = []  # Track actions taken\n",
    "\n",
    "    for _ in range(max_steps):\n",
    "        action = np.argmax(policy[state])  # Best action from the policy\n",
    "        next_state, reward, done, _, _ = env.step(action)  # Step in environment\n",
    "\n",
    "        total_reward += reward\n",
    "        path.append(next_state)\n",
    "        actions.append(action)\n",
    "\n",
    "        state = next_state\n",
    "        env.render()  # Optional: Render each step\n",
    "\n",
    "        if done:\n",
    "            break\n",
    "\n",
    "    return total_reward, path, actions"
   ]
  },
  {
   "cell_type": "code",
   "execution_count": 11,
   "metadata": {},
   "outputs": [
    {
     "name": "stdout",
     "output_type": "stream",
     "text": [
      "Total Reward: 0.0\n",
      "Path taken: [0, 0, 4, 0, 0, 0, 4, 0, 0, 4, 4, 4, 4, 0, 0, 0, 0, 4, 8, 9, 10, 6, 5]\n",
      "Actions taken: [np.int64(0), np.int64(0), np.int64(0), np.int64(0), np.int64(0), np.int64(0), np.int64(0), np.int64(0), np.int64(0), np.int64(0), np.int64(0), np.int64(0), np.int64(0), np.int64(0), np.int64(0), np.int64(0), np.int64(0), np.int64(0), np.int64(3), np.int64(1), np.int64(0), np.int64(0)]\n"
     ]
    }
   ],
   "source": [
    "# Using the optimal policy to simulate (Policy Iteration)\n",
    "total_reward, path, actions = simulate_optimal_policy(env, pi_policy)\n",
    "print(\"Total Reward:\", total_reward)\n",
    "print(\"Path taken:\", path)\n",
    "print(\"Actions taken:\", actions)\n",
    "#env.close()"
   ]
  },
  {
   "cell_type": "code",
   "execution_count": 12,
   "metadata": {},
   "outputs": [
    {
     "ename": "KeyboardInterrupt",
     "evalue": "",
     "output_type": "error",
     "traceback": [
      "\u001b[1;31m---------------------------------------------------------------------------\u001b[0m",
      "\u001b[1;31mKeyboardInterrupt\u001b[0m                         Traceback (most recent call last)",
      "Cell \u001b[1;32mIn[12], line 2\u001b[0m\n\u001b[0;32m      1\u001b[0m \u001b[38;5;66;03m# Using the optimal policy to simulate (Value Iteration)\u001b[39;00m\n\u001b[1;32m----> 2\u001b[0m total_reward, path, actions \u001b[38;5;241m=\u001b[39m \u001b[43msimulate_optimal_policy\u001b[49m\u001b[43m(\u001b[49m\u001b[43menv\u001b[49m\u001b[43m,\u001b[49m\u001b[43m \u001b[49m\u001b[43mvi_policy\u001b[49m\u001b[43m)\u001b[49m\n\u001b[0;32m      3\u001b[0m \u001b[38;5;28mprint\u001b[39m(\u001b[38;5;124m\"\u001b[39m\u001b[38;5;124mTotal Reward:\u001b[39m\u001b[38;5;124m\"\u001b[39m, total_reward)\n\u001b[0;32m      4\u001b[0m \u001b[38;5;28mprint\u001b[39m(\u001b[38;5;124m\"\u001b[39m\u001b[38;5;124mPath taken:\u001b[39m\u001b[38;5;124m\"\u001b[39m, path)\n",
      "Cell \u001b[1;32mIn[10], line 93\u001b[0m, in \u001b[0;36msimulate_optimal_policy\u001b[1;34m(env, policy, max_steps)\u001b[0m\n\u001b[0;32m     90\u001b[0m actions\u001b[38;5;241m.\u001b[39mappend(action)\n\u001b[0;32m     92\u001b[0m state \u001b[38;5;241m=\u001b[39m next_state\n\u001b[1;32m---> 93\u001b[0m \u001b[43menv\u001b[49m\u001b[38;5;241;43m.\u001b[39;49m\u001b[43mrender\u001b[49m\u001b[43m(\u001b[49m\u001b[43m)\u001b[49m  \u001b[38;5;66;03m# Optional: Render each step\u001b[39;00m\n\u001b[0;32m     95\u001b[0m \u001b[38;5;28;01mif\u001b[39;00m done:\n\u001b[0;32m     96\u001b[0m     \u001b[38;5;28;01mbreak\u001b[39;00m\n",
      "File \u001b[1;32mc:\\Users\\SLO\\Documents\\GitHub\\IE-University\\myenv312\\Lib\\site-packages\\gymnasium\\envs\\toy_text\\frozen_lake.py:344\u001b[0m, in \u001b[0;36mFrozenLakeEnv.render\u001b[1;34m(self)\u001b[0m\n\u001b[0;32m    342\u001b[0m     \u001b[38;5;28;01mreturn\u001b[39;00m \u001b[38;5;28mself\u001b[39m\u001b[38;5;241m.\u001b[39m_render_text()\n\u001b[0;32m    343\u001b[0m \u001b[38;5;28;01melse\u001b[39;00m:  \u001b[38;5;66;03m# self.render_mode in {\"human\", \"rgb_array\"}:\u001b[39;00m\n\u001b[1;32m--> 344\u001b[0m     \u001b[38;5;28;01mreturn\u001b[39;00m \u001b[38;5;28;43mself\u001b[39;49m\u001b[38;5;241;43m.\u001b[39;49m\u001b[43m_render_gui\u001b[49m\u001b[43m(\u001b[49m\u001b[38;5;28;43mself\u001b[39;49m\u001b[38;5;241;43m.\u001b[39;49m\u001b[43mrender_mode\u001b[49m\u001b[43m)\u001b[49m\n",
      "File \u001b[1;32mc:\\Users\\SLO\\Documents\\GitHub\\IE-University\\myenv312\\Lib\\site-packages\\gymnasium\\envs\\toy_text\\frozen_lake.py:438\u001b[0m, in \u001b[0;36mFrozenLakeEnv._render_gui\u001b[1;34m(self, mode)\u001b[0m\n\u001b[0;32m    436\u001b[0m     pygame\u001b[38;5;241m.\u001b[39mevent\u001b[38;5;241m.\u001b[39mpump()\n\u001b[0;32m    437\u001b[0m     pygame\u001b[38;5;241m.\u001b[39mdisplay\u001b[38;5;241m.\u001b[39mupdate()\n\u001b[1;32m--> 438\u001b[0m     \u001b[38;5;28;43mself\u001b[39;49m\u001b[38;5;241;43m.\u001b[39;49m\u001b[43mclock\u001b[49m\u001b[38;5;241;43m.\u001b[39;49m\u001b[43mtick\u001b[49m\u001b[43m(\u001b[49m\u001b[38;5;28;43mself\u001b[39;49m\u001b[38;5;241;43m.\u001b[39;49m\u001b[43mmetadata\u001b[49m\u001b[43m[\u001b[49m\u001b[38;5;124;43m\"\u001b[39;49m\u001b[38;5;124;43mrender_fps\u001b[39;49m\u001b[38;5;124;43m\"\u001b[39;49m\u001b[43m]\u001b[49m\u001b[43m)\u001b[49m\n\u001b[0;32m    439\u001b[0m \u001b[38;5;28;01melif\u001b[39;00m mode \u001b[38;5;241m==\u001b[39m \u001b[38;5;124m\"\u001b[39m\u001b[38;5;124mrgb_array\u001b[39m\u001b[38;5;124m\"\u001b[39m:\n\u001b[0;32m    440\u001b[0m     \u001b[38;5;28;01mreturn\u001b[39;00m np\u001b[38;5;241m.\u001b[39mtranspose(\n\u001b[0;32m    441\u001b[0m         np\u001b[38;5;241m.\u001b[39marray(pygame\u001b[38;5;241m.\u001b[39msurfarray\u001b[38;5;241m.\u001b[39mpixels3d(\u001b[38;5;28mself\u001b[39m\u001b[38;5;241m.\u001b[39mwindow_surface)), axes\u001b[38;5;241m=\u001b[39m(\u001b[38;5;241m1\u001b[39m, \u001b[38;5;241m0\u001b[39m, \u001b[38;5;241m2\u001b[39m)\n\u001b[0;32m    442\u001b[0m     )\n",
      "\u001b[1;31mKeyboardInterrupt\u001b[0m: "
     ]
    }
   ],
   "source": [
    "# Using the optimal policy to simulate (Value Iteration)\n",
    "total_reward, path, actions = simulate_optimal_policy(env, vi_policy)\n",
    "print(\"Total Reward:\", total_reward)\n",
    "print(\"Path taken:\", path)\n",
    "print(\"Actions taken:\", actions)\n",
    "#env.close()"
   ]
  },
  {
   "cell_type": "code",
   "execution_count": 6,
   "metadata": {},
   "outputs": [],
   "source": [
    "# Supporting utilities\n",
    "def print_policy(policy, env):\n",
    "    policy_actions = np.argmax(policy, axis=1)\n",
    "    for i in range(env.nrow):\n",
    "        for j in range(env.ncol):\n",
    "            s = i * env.ncol + j\n",
    "            if np.array_equal([i, j], env.positive_goal):\n",
    "                print('G', end=' ')\n",
    "            elif np.array_equal([i, j], env.negative_goal):\n",
    "                print('N', end=' ')\n",
    "            elif np.array_equal([i, j], env.invalid_position):\n",
    "                print('X', end=' ')\n",
    "            else:\n",
    "                action = policy_actions[s]\n",
    "                if action == 0:\n",
    "                    print('↑', end=' ')\n",
    "                elif action == 1:\n",
    "                    print('→', end=' ')\n",
    "                elif action == 2:\n",
    "                    print('↓', end=' ')\n",
    "                elif action == 3:\n",
    "                    print('←', end=' ')\n",
    "        print()\n",
    "\n",
    "def print_value_function(V, env):\n",
    "    for i in range(env.nrow):\n",
    "        for j in range(env.ncol):\n",
    "            s = i * env.ncol + j\n",
    "            if np.array_equal([i, j], env.invalid_position):\n",
    "                print('  X  ', end=' ')\n",
    "            else:\n",
    "                print(f'{V[s]:5.2f}', end=' ')\n",
    "        print()"
   ]
  },
  {
   "cell_type": "code",
   "execution_count": 14,
   "metadata": {},
   "outputs": [
    {
     "name": "stdout",
     "output_type": "stream",
     "text": [
      "Policy Iteration:\n",
      "Optimal Policy:\n"
     ]
    },
    {
     "ename": "AttributeError",
     "evalue": "'FrozenLakeEnv' object has no attribute 'positive_goal'",
     "output_type": "error",
     "traceback": [
      "\u001b[1;31m---------------------------------------------------------------------------\u001b[0m",
      "\u001b[1;31mAttributeError\u001b[0m                            Traceback (most recent call last)",
      "Cell \u001b[1;32mIn[14], line 6\u001b[0m\n\u001b[0;32m      3\u001b[0m \u001b[38;5;28mprint\u001b[39m(\u001b[38;5;124m\"\u001b[39m\u001b[38;5;124mPolicy Iteration:\u001b[39m\u001b[38;5;124m\"\u001b[39m)\n\u001b[0;32m      5\u001b[0m \u001b[38;5;28mprint\u001b[39m(\u001b[38;5;124m\"\u001b[39m\u001b[38;5;124mOptimal Policy:\u001b[39m\u001b[38;5;124m\"\u001b[39m)\n\u001b[1;32m----> 6\u001b[0m \u001b[43mprint_policy\u001b[49m\u001b[43m(\u001b[49m\u001b[43mpi_policy\u001b[49m\u001b[43m,\u001b[49m\u001b[43m \u001b[49m\u001b[43menv\u001b[49m\u001b[43m)\u001b[49m\n\u001b[0;32m      7\u001b[0m \u001b[38;5;28mprint\u001b[39m(\u001b[38;5;124m\"\u001b[39m\u001b[38;5;130;01m\\n\u001b[39;00m\u001b[38;5;124mOptimal Value Function:\u001b[39m\u001b[38;5;124m\"\u001b[39m)\n\u001b[0;32m      8\u001b[0m print_value_function(pi_value, env)\n",
      "Cell \u001b[1;32mIn[6], line 7\u001b[0m, in \u001b[0;36mprint_policy\u001b[1;34m(policy, env)\u001b[0m\n\u001b[0;32m      5\u001b[0m \u001b[38;5;28;01mfor\u001b[39;00m j \u001b[38;5;129;01min\u001b[39;00m \u001b[38;5;28mrange\u001b[39m(env\u001b[38;5;241m.\u001b[39mncol):\n\u001b[0;32m      6\u001b[0m     s \u001b[38;5;241m=\u001b[39m i \u001b[38;5;241m*\u001b[39m env\u001b[38;5;241m.\u001b[39mncol \u001b[38;5;241m+\u001b[39m j\n\u001b[1;32m----> 7\u001b[0m     \u001b[38;5;28;01mif\u001b[39;00m np\u001b[38;5;241m.\u001b[39marray_equal([i, j], \u001b[43menv\u001b[49m\u001b[38;5;241;43m.\u001b[39;49m\u001b[43mpositive_goal\u001b[49m):\n\u001b[0;32m      8\u001b[0m         \u001b[38;5;28mprint\u001b[39m(\u001b[38;5;124m'\u001b[39m\u001b[38;5;124mG\u001b[39m\u001b[38;5;124m'\u001b[39m, end\u001b[38;5;241m=\u001b[39m\u001b[38;5;124m'\u001b[39m\u001b[38;5;124m \u001b[39m\u001b[38;5;124m'\u001b[39m)\n\u001b[0;32m      9\u001b[0m     \u001b[38;5;28;01melif\u001b[39;00m np\u001b[38;5;241m.\u001b[39marray_equal([i, j], env\u001b[38;5;241m.\u001b[39mnegative_goal):\n",
      "\u001b[1;31mAttributeError\u001b[0m: 'FrozenLakeEnv' object has no attribute 'positive_goal'"
     ]
    }
   ],
   "source": [
    "# Example usage:\n",
    "env = gym.make('FrozenLake-v1', render_mode = 'human').unwrapped\n",
    "print(\"Policy Iteration:\")\n",
    "\n",
    "print(\"Optimal Policy:\")\n",
    "print_policy(pi_policy, env)\n",
    "print(\"\\nOptimal Value Function:\")\n",
    "print_value_function(pi_value, env)\n",
    "\n",
    "print(\"\\nValue Iteration:\")\n",
    "\n",
    "print(\"Optimal Policy:\")\n",
    "print_policy(vi_policy, env)\n",
    "print(\"\\nOptimal Value Function:\")\n",
    "print_value_function(vi_value, env)\n",
    "\n",
    "env.close()"
   ]
  }
 ],
 "metadata": {
  "kernelspec": {
   "display_name": "myenv312",
   "language": "python",
   "name": "python3"
  },
  "language_info": {
   "codemirror_mode": {
    "name": "ipython",
    "version": 3
   },
   "file_extension": ".py",
   "mimetype": "text/x-python",
   "name": "python",
   "nbconvert_exporter": "python",
   "pygments_lexer": "ipython3",
   "version": "3.12.0"
  }
 },
 "nbformat": 4,
 "nbformat_minor": 2
}
