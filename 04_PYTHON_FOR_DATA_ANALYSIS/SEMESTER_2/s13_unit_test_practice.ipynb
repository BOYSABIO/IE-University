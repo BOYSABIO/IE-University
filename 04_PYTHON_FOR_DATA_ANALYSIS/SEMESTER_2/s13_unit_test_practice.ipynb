{
 "cells": [
  {
   "cell_type": "markdown",
   "metadata": {},
   "source": [
    "# Session 13: Practice unit tests\n",
    "\n",
    "In this session, we will practice writing unit tests for a few functions. We will use the `pytest` module to write the tests.\n",
    "\n",
    "We are going to build a script that contains a few functions that we will test. The script should be called `functions.py` and it should contain the necessary functions to answer analysis questions.\n",
    "\n",
    "The functions that we will test are:\n",
    "\n",
    "* `get_financial_data` - This function should receive a stock ticker, two dates, and return a pandas DataFrame with the financial data of the stock. It should use the `yfinance` library to get the data.\n",
    "* `get_stock_return` - This function should receive a pandas DataFrame with the financial data of a stock and return the stock return` in a specific period:\n",
    "    * $ \\text{r} = \\frac{P_{t} - P_{t-1}}{P_{t-1}} $\n",
    "* `get_pnl` - This function should receive a pandas DataFrame with the financial data of a stock and return the profit and loss of the stock in a specific period:\n",
    "    * $ \\text{pnl} = P_{t} - P_{t-1} $\n",
    "\n",
    "Then, we are going to write tests for these functions in a script called `test_functions.py`. The test should be written using the `pytest` module, and they should cover for the following cases:\n",
    "\n",
    "* Test if the `get_financial_data` function returns a pandas DataFrame not empty.\n",
    "* Test if the `get_stock_return` function returns a float.\n",
    "* Test if the `calculate_pnl` function returns a float.\n",
    "\n",
    "There should be errors raised in the following cases:\n",
    "\n",
    "* If the stock ticker is not a string\n",
    "* If the start date is not a string\n",
    "* If the end date is not a string\n",
    "* If the start date is not in the format 'YYYY-MM-DD'\n",
    "* If the end date is not in the format 'YYYY-MM-DD'\n",
    "* If the start date is greater than the end date\n",
    "\n"
   ]
  },
  {
   "cell_type": "code",
   "execution_count": null,
   "metadata": {},
   "outputs": [
    {
     "name": "stderr",
     "output_type": "stream",
     "text": [
      "[*********************100%***********************]  1 of 1 completed\n"
     ]
    },
    {
     "data": {
      "text/html": [
       "<div>\n",
       "<style scoped>\n",
       "    .dataframe tbody tr th:only-of-type {\n",
       "        vertical-align: middle;\n",
       "    }\n",
       "\n",
       "    .dataframe tbody tr th {\n",
       "        vertical-align: top;\n",
       "    }\n",
       "\n",
       "    .dataframe thead tr th {\n",
       "        text-align: left;\n",
       "    }\n",
       "\n",
       "    .dataframe thead tr:last-of-type th {\n",
       "        text-align: right;\n",
       "    }\n",
       "</style>\n",
       "<table border=\"1\" class=\"dataframe\">\n",
       "  <thead>\n",
       "    <tr>\n",
       "      <th>Price</th>\n",
       "      <th>Close</th>\n",
       "    </tr>\n",
       "    <tr>\n",
       "      <th>Ticker</th>\n",
       "      <th>GOOG</th>\n",
       "    </tr>\n",
       "    <tr>\n",
       "      <th>Date</th>\n",
       "      <th></th>\n",
       "    </tr>\n",
       "  </thead>\n",
       "  <tbody>\n",
       "    <tr>\n",
       "      <th>2025-02-10</th>\n",
       "      <td>188.199997</td>\n",
       "    </tr>\n",
       "    <tr>\n",
       "      <th>2025-02-11</th>\n",
       "      <td>187.070007</td>\n",
       "    </tr>\n",
       "    <tr>\n",
       "      <th>2025-02-12</th>\n",
       "      <td>185.429993</td>\n",
       "    </tr>\n",
       "    <tr>\n",
       "      <th>2025-02-13</th>\n",
       "      <td>187.880005</td>\n",
       "    </tr>\n",
       "    <tr>\n",
       "      <th>2025-02-14</th>\n",
       "      <td>186.869995</td>\n",
       "    </tr>\n",
       "  </tbody>\n",
       "</table>\n",
       "</div>"
      ],
      "text/plain": [
       "Price            Close\n",
       "Ticker            GOOG\n",
       "Date                  \n",
       "2025-02-10  188.199997\n",
       "2025-02-11  187.070007\n",
       "2025-02-12  185.429993\n",
       "2025-02-13  187.880005\n",
       "2025-02-14  186.869995"
      ]
     },
     "execution_count": 3,
     "metadata": {},
     "output_type": "execute_result"
    }
   ],
   "source": [
    "import yfinance as yf\n",
    "\n",
    "def get_financial_data(stock_ticker, start_date, end_date, column_to_extract):\n",
    "    data = yf.download(stock_ticker, start_date, end_date)\n",
    "    return data[[column_to_extract]]\n",
    "\n",
    "get_financial_data('GOOG', '2025-02-10', '2025-02-17', 'Close')"
   ]
  },
  {
   "cell_type": "code",
   "execution_count": 6,
   "metadata": {},
   "outputs": [
    {
     "ename": "TypeError",
     "evalue": "stock_icker is not a string",
     "output_type": "error",
     "traceback": [
      "\u001b[1;31m---------------------------------------------------------------------------\u001b[0m",
      "\u001b[1;31mTypeError\u001b[0m                                 Traceback (most recent call last)",
      "Cell \u001b[1;32mIn[6], line 12\u001b[0m\n\u001b[0;32m      8\u001b[0m         \u001b[38;5;28;01mraise\u001b[39;00m \u001b[38;5;167;01mTypeError\u001b[39;00m(\u001b[38;5;124m'\u001b[39m\u001b[38;5;124mstock_icker is not a string\u001b[39m\u001b[38;5;124m'\u001b[39m)\n\u001b[0;32m     10\u001b[0m     \u001b[38;5;28;01mreturn\u001b[39;00m data[[column_to_extract]]\n\u001b[1;32m---> 12\u001b[0m \u001b[43mget_financial_data\u001b[49m\u001b[43m(\u001b[49m\u001b[38;5;241;43m1\u001b[39;49m\u001b[43m,\u001b[49m\u001b[43m \u001b[49m\u001b[38;5;124;43m'\u001b[39;49m\u001b[38;5;124;43m2025-02-10\u001b[39;49m\u001b[38;5;124;43m'\u001b[39;49m\u001b[43m,\u001b[49m\u001b[43m \u001b[49m\u001b[38;5;124;43m'\u001b[39;49m\u001b[38;5;124;43m2025-02-17\u001b[39;49m\u001b[38;5;124;43m'\u001b[39;49m\u001b[43m,\u001b[49m\u001b[43m \u001b[49m\u001b[38;5;124;43m'\u001b[39;49m\u001b[38;5;124;43mClose\u001b[39;49m\u001b[38;5;124;43m'\u001b[39;49m\u001b[43m)\u001b[49m\n",
      "Cell \u001b[1;32mIn[6], line 8\u001b[0m, in \u001b[0;36mget_financial_data\u001b[1;34m(stock_ticker, start_date, end_date, column_to_extract)\u001b[0m\n\u001b[0;32m      6\u001b[0m     data \u001b[38;5;241m=\u001b[39m yf\u001b[38;5;241m.\u001b[39mdownload(stock_ticker, start_date, end_date)\n\u001b[0;32m      7\u001b[0m \u001b[38;5;28;01melse\u001b[39;00m:\n\u001b[1;32m----> 8\u001b[0m     \u001b[38;5;28;01mraise\u001b[39;00m \u001b[38;5;167;01mTypeError\u001b[39;00m(\u001b[38;5;124m'\u001b[39m\u001b[38;5;124mstock_icker is not a string\u001b[39m\u001b[38;5;124m'\u001b[39m)\n\u001b[0;32m     10\u001b[0m \u001b[38;5;28;01mreturn\u001b[39;00m data[[column_to_extract]]\n",
      "\u001b[1;31mTypeError\u001b[0m: stock_icker is not a string"
     ]
    }
   ],
   "source": [
    "import yfinance as yf\n",
    "\n",
    "def get_financial_data(stock_ticker, start_date, end_date, column_to_extract):\n",
    "\n",
    "    if isinstance(stock_ticker, str):\n",
    "        data = yf.download(stock_ticker, start_date, end_date)\n",
    "    else:\n",
    "        raise TypeError('stock_icker is not a string')\n",
    "    \n",
    "    return data[[column_to_extract]]\n",
    "\n",
    "get_financial_data(1, '2025-02-10', '2025-02-17', 'Close')"
   ]
  },
  {
   "cell_type": "code",
   "execution_count": 14,
   "metadata": {},
   "outputs": [
    {
     "name": "stderr",
     "output_type": "stream",
     "text": [
      "[*********************100%***********************]  1 of 1 completed\n"
     ]
    },
    {
     "data": {
      "text/html": [
       "<div>\n",
       "<style scoped>\n",
       "    .dataframe tbody tr th:only-of-type {\n",
       "        vertical-align: middle;\n",
       "    }\n",
       "\n",
       "    .dataframe tbody tr th {\n",
       "        vertical-align: top;\n",
       "    }\n",
       "\n",
       "    .dataframe thead tr th {\n",
       "        text-align: left;\n",
       "    }\n",
       "\n",
       "    .dataframe thead tr:last-of-type th {\n",
       "        text-align: right;\n",
       "    }\n",
       "</style>\n",
       "<table border=\"1\" class=\"dataframe\">\n",
       "  <thead>\n",
       "    <tr>\n",
       "      <th>Price</th>\n",
       "      <th>Close</th>\n",
       "    </tr>\n",
       "    <tr>\n",
       "      <th>Ticker</th>\n",
       "      <th>GOOG</th>\n",
       "    </tr>\n",
       "    <tr>\n",
       "      <th>Date</th>\n",
       "      <th></th>\n",
       "    </tr>\n",
       "  </thead>\n",
       "  <tbody>\n",
       "    <tr>\n",
       "      <th>2025-02-10</th>\n",
       "      <td>188.199997</td>\n",
       "    </tr>\n",
       "    <tr>\n",
       "      <th>2025-02-11</th>\n",
       "      <td>187.070007</td>\n",
       "    </tr>\n",
       "    <tr>\n",
       "      <th>2025-02-12</th>\n",
       "      <td>185.429993</td>\n",
       "    </tr>\n",
       "    <tr>\n",
       "      <th>2025-02-13</th>\n",
       "      <td>187.880005</td>\n",
       "    </tr>\n",
       "    <tr>\n",
       "      <th>2025-02-14</th>\n",
       "      <td>186.869995</td>\n",
       "    </tr>\n",
       "  </tbody>\n",
       "</table>\n",
       "</div>"
      ],
      "text/plain": [
       "Price            Close\n",
       "Ticker            GOOG\n",
       "Date                  \n",
       "2025-02-10  188.199997\n",
       "2025-02-11  187.070007\n",
       "2025-02-12  185.429993\n",
       "2025-02-13  187.880005\n",
       "2025-02-14  186.869995"
      ]
     },
     "execution_count": 14,
     "metadata": {},
     "output_type": "execute_result"
    }
   ],
   "source": [
    "import yfinance as yf\n",
    "import re\n",
    "import datetime\n",
    "\n",
    "def end_date_greater_than_start_date(start_date, end_date):\n",
    "    return start_date < end_date\n",
    "\n",
    "def check_date_format(date_string):\n",
    "    desired_format = re.compile(r'^\\d{4}-\\d{2}-\\d{2}$')\n",
    "    return desired_format.match(date_string).group() == date_string\n",
    "\n",
    "def get_financial_data(stock_ticker, start_date, end_date, column_to_extract):\n",
    "\n",
    "    if not isinstance(stock_ticker, str):\n",
    "        raise TypeError('stock_ticker is not a string')\n",
    "    \n",
    "    if not isinstance(start_date, str):\n",
    "        raise TypeError('start_date is not a string')\n",
    "        \n",
    "    if not isinstance(end_date, str):\n",
    "        raise TypeError('end_date is not a string')\n",
    "    \n",
    "    if not check_date_format(start_date):\n",
    "        raise ValueError('The start_date is not in the correct format YYYY-MM-DD')\n",
    "    \n",
    "    if not check_date_format(end_date):\n",
    "        raise ValueError('The end_date is not in the correct format YYYY-MM-DD')\n",
    "    \n",
    "    if not end_date_greater_than_start_date(start_date, end_date):\n",
    "        raise ValueError('The start_date is not greater than the end_date')\n",
    "    \n",
    "    data = yf.download(stock_ticker, start_date, end_date)\n",
    "    \n",
    "    return data[[column_to_extract]]\n",
    "\n",
    "get_financial_data('GOOG', '2025-02-10', '2025-02-17', 'Close')"
   ]
  },
  {
   "cell_type": "code",
   "execution_count": 20,
   "metadata": {},
   "outputs": [
    {
     "name": "stderr",
     "output_type": "stream",
     "text": [
      "[*********************100%***********************]  1 of 1 completed\n"
     ]
    },
    {
     "data": {
      "text/plain": [
       "array([0.06294917])"
      ]
     },
     "execution_count": 20,
     "metadata": {},
     "output_type": "execute_result"
    }
   ],
   "source": [
    "def get_stock_return(stock_ticker, start_date, end_date):\n",
    "    data = get_financial_data(stock_ticker, start_date, end_date, 'Close')\n",
    "    price_buy = data.loc[data.idxmin(), 'Close'].values[0]\n",
    "    price_sell = data.loc[data.idxmax(), 'Close'].values[0]\n",
    "    return (price_sell / price_buy - 1)\n",
    "\n",
    "get_stock_return('GOOG', '2025-01-01', '2025-01-31')"
   ]
  }
 ],
 "metadata": {
  "kernelspec": {
   "display_name": ".venv",
   "language": "python",
   "name": "python3"
  },
  "language_info": {
   "codemirror_mode": {
    "name": "ipython",
    "version": 3
   },
   "file_extension": ".py",
   "mimetype": "text/x-python",
   "name": "python",
   "nbconvert_exporter": "python",
   "pygments_lexer": "ipython3",
   "version": "3.13.1"
  }
 },
 "nbformat": 4,
 "nbformat_minor": 2
}
