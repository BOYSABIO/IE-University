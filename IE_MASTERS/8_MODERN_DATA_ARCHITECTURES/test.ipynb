{
 "cells": [
  {
   "cell_type": "code",
   "execution_count": 7,
   "metadata": {},
   "outputs": [],
   "source": [
    "import pyspark\n",
    "from pyspark.sql import SparkSession\n",
    "spark = SparkSession.builder.master(\"local[1]\") \\\n",
    "                    .appName('SparkByExamples.com') \\\n",
    "                    .getOrCreate()"
   ]
  },
  {
   "cell_type": "code",
   "execution_count": 8,
   "metadata": {},
   "outputs": [
    {
     "data": {
      "text/html": [
       "\n",
       "            <div>\n",
       "                <p><b>SparkSession - in-memory</b></p>\n",
       "                \n",
       "        <div>\n",
       "            <p><b>SparkContext</b></p>\n",
       "\n",
       "            <p><a href=\"http://localhost:4041\">Spark UI</a></p>\n",
       "\n",
       "            <dl>\n",
       "              <dt>Version</dt>\n",
       "                <dd><code>v3.5.4</code></dd>\n",
       "              <dt>Master</dt>\n",
       "                <dd><code>local[1]</code></dd>\n",
       "              <dt>AppName</dt>\n",
       "                <dd><code>SparkByExamples.com</code></dd>\n",
       "            </dl>\n",
       "        </div>\n",
       "        \n",
       "            </div>\n",
       "        "
      ],
      "text/plain": [
       "<pyspark.sql.session.SparkSession at 0x130abda4880>"
      ]
     },
     "execution_count": 8,
     "metadata": {},
     "output_type": "execute_result"
    }
   ],
   "source": [
    "spark"
   ]
  },
  {
   "cell_type": "code",
   "execution_count": 9,
   "metadata": {},
   "outputs": [],
   "source": [
    "df = spark.read.format(\"csv\").option(\"header\", True).load(r'C:\\Users\\SABIO\\OneDrive\\Documents\\GitHub\\IE-University\\CSV_FILES\\trains.csv')"
   ]
  },
  {
   "cell_type": "code",
   "execution_count": 10,
   "metadata": {},
   "outputs": [
    {
     "name": "stdout",
     "output_type": "stream",
     "text": [
      "+----------+-----+--------------------+\n",
      "|        id|linea|          estaciones|\n",
      "+----------+-----+--------------------+\n",
      "| 10T0001C1|   C1|Principe Pio-Aero...|\n",
      "| 10T0002C1|   C1|Aeropuerto-Princi...|\n",
      "|10T0003C10|  C10| Villalba-Aeropuerto|\n",
      "|10T0004C10|  C10| Aeropuerto-Villalba|\n",
      "| 10T0005C2|   C2|Guadalajara-Chama...|\n",
      "| 10T0006C2|   C2|Chamartin-Guadala...|\n",
      "| 10T0007C3|   C3|  Chamartin-Aranjuez|\n",
      "| 10T0008C3|   C3| Aranjuez-Chamartin |\n",
      "|10T0009C3a|  C3a|Chamartin-El Esco...|\n",
      "|10T0010C3a|  C3a|El Escorial-Chama...|\n",
      "| 10T0011C4|  C4a|     Chamartin-Parla|\n",
      "| 10T0012C4|  C4a|     Parla-Chamartin|\n",
      "|10T0013C4a|  C4a|    Alcobendas-Parla|\n",
      "|10T0014C4a|  C4a|    Parla-Alcobendas|\n",
      "|10T0015C4b|  C4b|Colmenar Viejo-Parla|\n",
      "|10T0016C4b|  C4b|Parla-Colmenar Viejo|\n",
      "| 10T0017C5|   C5|Mostoles el Soto-...|\n",
      "| 10T0018C5|   C5|Humanes-Mostoles ...|\n",
      "| 10T0019C7|   C7|Alcala de Henares...|\n",
      "| 10T0020C7|   C7|Principe Pio-Alca...|\n",
      "+----------+-----+--------------------+\n",
      "only showing top 20 rows\n",
      "\n"
     ]
    }
   ],
   "source": [
    "df.show()"
   ]
  },
  {
   "cell_type": "code",
   "execution_count": 11,
   "metadata": {},
   "outputs": [
    {
     "name": "stdout",
     "output_type": "stream",
     "text": [
      "root\n",
      " |-- id: string (nullable = true)\n",
      " |-- linea: string (nullable = true)\n",
      " |-- estaciones: string (nullable = true)\n",
      "\n"
     ]
    }
   ],
   "source": [
    "df.printSchema()"
   ]
  }
 ],
 "metadata": {
  "kernelspec": {
   "display_name": "Python 3",
   "language": "python",
   "name": "python3"
  },
  "language_info": {
   "codemirror_mode": {
    "name": "ipython",
    "version": 3
   },
   "file_extension": ".py",
   "mimetype": "text/x-python",
   "name": "python",
   "nbconvert_exporter": "python",
   "pygments_lexer": "ipython3",
   "version": "3.10.6"
  }
 },
 "nbformat": 4,
 "nbformat_minor": 2
}
