{
 "cells": [
  {
   "cell_type": "markdown",
   "metadata": {},
   "source": [
    "### Average Rate of Change"
   ]
  },
  {
   "cell_type": "code",
   "execution_count": 9,
   "metadata": {},
   "outputs": [
    {
     "name": "stdout",
     "output_type": "stream",
     "text": [
      "2\n",
      "28\n",
      "Rise: 34\n",
      "Run: 2\n",
      "17.0\n"
     ]
    }
   ],
   "source": [
    "# y = mx + b\n",
    "# y = 3x^2 - 3x + 1\n",
    "# m = slope\n",
    "# RISE / RUN\n",
    "\n",
    "num_list = []\n",
    "for i in range(2):\n",
    "    x = int(input(\"Enter value:\"))\n",
    "    num_list.append(x)\n",
    "\n",
    "for i in num_list:\n",
    "    func = (2*i)**2 - (3*i) + 1\n",
    "    print(func)\n",
    "\n",
    "#rise = f(x2) - f(x1)\n",
    "rise = (2 * int(num_list[1]))**2 - (3 * int(num_list[0])) + 1\n",
    "print(\"Rise:\", rise)\n",
    "\n",
    "#run = x2 - x1\n",
    "run = int(num_list[1]) - int(num_list[0])\n",
    "print(\"Run:\", run)\n",
    "\n",
    "average_rate_of_change = rise / run\n",
    "print(average_rate_of_change)"
   ]
  },
  {
   "cell_type": "code",
   "execution_count": 13,
   "metadata": {},
   "outputs": [
    {
     "name": "stdout",
     "output_type": "stream",
     "text": [
      "-3\n",
      "-3\n",
      "0\n",
      "2\n",
      "0.0\n"
     ]
    }
   ],
   "source": [
    "# x^2 - 4x\n",
    "\n",
    "# x1 = 1\n",
    "# x2 = 3\n",
    "\n",
    "# formula = x1**2 - 4*x1\n",
    "# print(formula)\n",
    "# formula2 = x2**2 - 4*x2\n",
    "# print(formula2)\n",
    "\n",
    "# rise = formula2 - formula\n",
    "# print(rise)\n",
    "# run = x2 - x1\n",
    "# print(run)\n",
    "\n",
    "# average_rate_of_change = rise / run\n",
    "# print(average_rate_of_change)"
   ]
  }
 ],
 "metadata": {
  "kernelspec": {
   "display_name": "Python 3",
   "language": "python",
   "name": "python3"
  },
  "language_info": {
   "codemirror_mode": {
    "name": "ipython",
    "version": 3
   },
   "file_extension": ".py",
   "mimetype": "text/x-python",
   "name": "python",
   "nbconvert_exporter": "python",
   "pygments_lexer": "ipython3",
   "version": "3.8.2"
  }
 },
 "nbformat": 4,
 "nbformat_minor": 2
}
