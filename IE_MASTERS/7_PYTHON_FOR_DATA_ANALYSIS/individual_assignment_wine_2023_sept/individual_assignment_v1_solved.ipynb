{
 "cells": [
  {
   "cell_type": "markdown",
   "metadata": {},
   "source": [
    "# Individual Assignment: Wine!\n",
    "\n",
    "There are 10 questions in this assignment. Some questions unlock others. If you can't answer a question, you can skip it and come back to it later, and if the question is locked, I'll provide a data sample for you to use, **at a cost of 0.5 points.**\n",
    "\n",
    "The wine dataset is available in the file `wine.json`. This data contains information about wine reviews. It's a list of dictionaries, where each dictionary represents a wine review. The keys in the dictionary are:\n",
    "\n",
    "* `points`: how many points the taster gave the wine on a scale of 1-100\n",
    "* `title`: the title of the wine\n",
    "* `description`: a description of the wine\n",
    "* `taster_name`: the name of the taster\n",
    "* `taster_twitter_handle`: the twitter handle of the taster\n",
    "* `price`: the cost for a bottle of the wine\n",
    "* `designation`: the vineyard within the winery where the grapes that made the wine are from\n",
    "* `variety`: the type of grapes used to make the wine\n",
    "* `region_1`: the province or state that the wine is from\n",
    "* `region_2`: a more specific region within a wine growing area\n",
    "* `province`: the province or state that the wine is from\n",
    "* `country`: the country that the wine is from\n",
    "* `winery`: the winery that made the wine\n",
    "\n",
    "\n",
    "\n",
    "### Rules:\n",
    "* When I ask a question, print the answer in the cell below the question. You can use `print()` or just type the variable name.\n",
    "* You can use any resources you like --including the internet, your notes, and the past notebooks-- except ChatGPT/Copilot/other AI writing tools. Using AI-based tools or asking other people for help will result in a 0 for the assignment, an immediate Fail in the course, and a report to the Dean of Students.\n",
    "* You have 80 minutes to complete the assignment.\n",
    "* You can submit the assignment as many times as you like, only the last submission will be graded.\n",
    "* You can't work with other people on the assignment."
   ]
  },
  {
   "cell_type": "markdown",
   "metadata": {},
   "source": [
    "### Question 1 (1 point)\n",
    "\n",
    "Read the JSON data into a variable called `wine`. Remember to make sure that Python is looking in the right place for the file. You can check the current working directory with the following code:\n",
    "\n",
    "```python\n",
    "import os\n",
    "os.getcwd()\n",
    "```\n",
    "\n",
    "If the file is not in the current working directory, you can change the working directory with the following code:\n",
    "\n",
    "```python\n",
    "os.chdir('path/to/file')\n",
    "```\n",
    "\n",
    "How many reviews are in the data?\n",
    "\n",
    "**HELP: If you can't figure out how to read the JSON file, raise your hand and I'll tell you how to do it. (-0.5 points)**"
   ]
  },
  {
   "cell_type": "code",
   "execution_count": null,
   "metadata": {},
   "outputs": [
    {
     "name": "stdout",
     "output_type": "stream",
     "text": [
      "c:\\Users\\SABIO\\OneDrive\\Documents\\GitHub\\IE-University\\IE_MASTERS\\7_PYTHON_FOR_DATA_ANALYSIS\\individual_assignment_wine_2023_sept\n"
     ]
    },
    {
     "ename": "FileNotFoundError",
     "evalue": "[Errno 2] No such file or directory: '/7_PYTHON_FOR_DATA_ANALYSIS/wine-data-set.json'",
     "output_type": "error",
     "traceback": [
      "\u001b[1;31m---------------------------------------------------------------------------\u001b[0m",
      "\u001b[1;31mFileNotFoundError\u001b[0m                         Traceback (most recent call last)",
      "Cell \u001b[1;32mIn[13], line 6\u001b[0m\n\u001b[0;32m      2\u001b[0m \u001b[38;5;28;01mimport\u001b[39;00m \u001b[38;5;21;01mos\u001b[39;00m\n\u001b[0;32m      4\u001b[0m \u001b[38;5;28mprint\u001b[39m(os\u001b[38;5;241m.\u001b[39mgetcwd())\n\u001b[1;32m----> 6\u001b[0m \u001b[38;5;28;01mwith\u001b[39;00m \u001b[38;5;28;43mopen\u001b[39;49m\u001b[43m(\u001b[49m\u001b[38;5;124;43m\"\u001b[39;49m\u001b[38;5;124;43m/7_PYTHON_FOR_DATA_ANALYSIS/wine-data-set.json\u001b[39;49m\u001b[38;5;124;43m\"\u001b[39;49m\u001b[43m)\u001b[49m \u001b[38;5;28;01mas\u001b[39;00m f:\n\u001b[0;32m      7\u001b[0m     wines \u001b[38;5;241m=\u001b[39m json\u001b[38;5;241m.\u001b[39mload(f)\n",
      "File \u001b[1;32m~\\AppData\\Roaming\\Python\\Python310\\site-packages\\IPython\\core\\interactiveshell.py:324\u001b[0m, in \u001b[0;36m_modified_open\u001b[1;34m(file, *args, **kwargs)\u001b[0m\n\u001b[0;32m    317\u001b[0m \u001b[38;5;28;01mif\u001b[39;00m file \u001b[38;5;129;01min\u001b[39;00m {\u001b[38;5;241m0\u001b[39m, \u001b[38;5;241m1\u001b[39m, \u001b[38;5;241m2\u001b[39m}:\n\u001b[0;32m    318\u001b[0m     \u001b[38;5;28;01mraise\u001b[39;00m \u001b[38;5;167;01mValueError\u001b[39;00m(\n\u001b[0;32m    319\u001b[0m         \u001b[38;5;124mf\u001b[39m\u001b[38;5;124m\"\u001b[39m\u001b[38;5;124mIPython won\u001b[39m\u001b[38;5;124m'\u001b[39m\u001b[38;5;124mt let you open fd=\u001b[39m\u001b[38;5;132;01m{\u001b[39;00mfile\u001b[38;5;132;01m}\u001b[39;00m\u001b[38;5;124m by default \u001b[39m\u001b[38;5;124m\"\u001b[39m\n\u001b[0;32m    320\u001b[0m         \u001b[38;5;124m\"\u001b[39m\u001b[38;5;124mas it is likely to crash IPython. If you know what you are doing, \u001b[39m\u001b[38;5;124m\"\u001b[39m\n\u001b[0;32m    321\u001b[0m         \u001b[38;5;124m\"\u001b[39m\u001b[38;5;124myou can use builtins\u001b[39m\u001b[38;5;124m'\u001b[39m\u001b[38;5;124m open.\u001b[39m\u001b[38;5;124m\"\u001b[39m\n\u001b[0;32m    322\u001b[0m     )\n\u001b[1;32m--> 324\u001b[0m \u001b[38;5;28;01mreturn\u001b[39;00m io_open(file, \u001b[38;5;241m*\u001b[39margs, \u001b[38;5;241m*\u001b[39m\u001b[38;5;241m*\u001b[39mkwargs)\n",
      "\u001b[1;31mFileNotFoundError\u001b[0m: [Errno 2] No such file or directory: '/7_PYTHON_FOR_DATA_ANALYSIS/wine-data-set.json'"
     ]
    }
   ],
   "source": [
    "import json\n",
    "\n",
    "with open(\"wine-data-set.json\") as f:\n",
    "    wines = json.load(f)"
   ]
  },
  {
   "cell_type": "code",
   "execution_count": 9,
   "metadata": {},
   "outputs": [
    {
     "name": "stdout",
     "output_type": "stream",
     "text": [
      "129971\n"
     ]
    }
   ],
   "source": [
    "reviews = len(wines)\n",
    "\n",
    "print(reviews)"
   ]
  },
  {
   "cell_type": "markdown",
   "metadata": {},
   "source": [
    "### Question 2 (1 point)\n",
    "\n",
    "Create a list called `prices` containing all the prices in the dataset. What is the average price of a bottle of wine in the dataset?\n",
    "\n",
    "*Hint*: given a list of numbers, you can calculate the mean value of all numbers in the list with the following code:\n",
    "\n",
    "```python\n",
    "prices = [1, 2, 3, 4, 5]\n",
    "\n",
    "sum(prices) / len(prices)\n",
    "```"
   ]
  },
  {
   "cell_type": "code",
   "execution_count": 10,
   "metadata": {},
   "outputs": [
    {
     "name": "stdout",
     "output_type": "stream",
     "text": [
      "The average price of a wine is 35.36\n"
     ]
    }
   ],
   "source": [
    "prices = [wine['price'] for wine in wines if wine['price'] != None]\n",
    "\n",
    "avg_price = sum(prices) / len(prices)\n",
    "\n",
    "print(f\"The average price of a wine is {avg_price:.2f}\")"
   ]
  },
  {
   "cell_type": "markdown",
   "metadata": {},
   "source": [
    "### Question 3 (1 point)\n",
    "\n",
    "Build a dictionary with the following structure:\n",
    "```python\n",
    "ratings = {\n",
    "    country: average points of all its wines\n",
    "}\n",
    "```\n",
    "\n",
    "What is the `country` whose wines have the highest average `points`?\n",
    "\n",
    "Hints:\n",
    "* The elements in the JSON file might not be numbers, so make sure you're only calculating the average of numbers, not strings.\n",
    "* Remember to use the unique countries in the dataset, so as not to double count.\n",
    "* Printing the countries and finding the highest average is not fully correct. You have to do it with code."
   ]
  },
  {
   "cell_type": "code",
   "execution_count": 11,
   "metadata": {},
   "outputs": [
    {
     "name": "stdout",
     "output_type": "stream",
     "text": [
      "The country with the highest average rating is England\n"
     ]
    }
   ],
   "source": [
    "# average points per country\n",
    "countries = {wine['country'] for wine in wines}\n",
    "\n",
    "ratings = {}\n",
    "\n",
    "for country in countries:\n",
    "    ratings_country = []\n",
    "    for wine in wines:\n",
    "        if wine['country'] == country:\n",
    "            ratings_country.append(float(wine['points']))\n",
    "\n",
    "    ratings[country] = sum(ratings_country) / len(ratings_country)\n",
    "\n",
    "# extract the country with the highest average rating\n",
    "country_with_highest_rating = max(ratings, key=ratings.get)\n",
    "\n",
    "print(f\"The country with the highest average rating is {country_with_highest_rating}\")\n"
   ]
  },
  {
   "cell_type": "markdown",
   "metadata": {},
   "source": [
    "### Question 4 (1 point)\n",
    "\n",
    "Using the `ratings` dictionary created in the previous answer, what are the average ratings of the following countries:\n",
    "\n",
    "* `Egypt`\n",
    "* `Slovenia`\n",
    "* `Uruguay`\n",
    "\n",
    "**HELP: If you couldn't create the `ratings` dictionary in Q3, use the following dictionary to solve it. (-0.5 points)**\n",
    "```python\n",
    "ratings_dictionary = {'England': 91.58108108108108, 'India': 90.22222222222223, 'Austria': 90.10134529147982, 'Germany': 89.85173210161663, 'Canada': 89.36964980544747, 'Hungary': 89.1917808219178, 'China': 89.0, 'France': 88.84510931064138, 'Luxembourg': 88.66666666666667, None: 88.63492063492063, 'Australia': 88.58050665521684, 'Switzerland': 88.57142857142857, 'Morocco': 88.57142857142857, 'US': 88.56372009393806, 'Italy': 88.56223132036847, 'Israel': 88.47128712871287, 'New Zealand': 88.3030303030303, 'Portugal': 88.25021964505359, 'Turkey': 88.08888888888889, 'Slovenia': 88.06896551724138, 'South Africa': 88.05638829407566, 'Bulgaria': 87.93617021276596, 'Georgia': 87.68604651162791, 'Lebanon': 87.68571428571428, 'Armenia': 87.5, 'Serbia': 87.5, 'Spain': 87.28833709556058, 'Greece': 87.28326180257511, 'Czech Republic': 87.25, 'Croatia': 87.21917808219177, 'Moldova': 87.20338983050847, 'Cyprus': 87.18181818181819, 'Slovakia': 87.0, 'Macedonia': 86.83333333333333, 'Uruguay': 86.75229357798165, 'Argentina': 86.71026315789474, 'Bosnia and Herzegovina': 86.5, 'Chile': 86.4935152057245, 'Romania': 86.4, 'Mexico': 85.25714285714285, 'Brazil': 84.67307692307692, 'Ukraine': 84.07142857142857, 'Egypt': 84.0, 'Peru': 83.5625}\n",
    "```"
   ]
  },
  {
   "cell_type": "code",
   "execution_count": 12,
   "metadata": {},
   "outputs": [
    {
     "name": "stdout",
     "output_type": "stream",
     "text": [
      "84.0\n",
      "88.06896551724138\n",
      "86.75229357798165\n"
     ]
    }
   ],
   "source": [
    "print(ratings[\"Egypt\"])\n",
    "print(ratings[\"Slovenia\"])\n",
    "print(ratings[\"Uruguay\"])"
   ]
  },
  {
   "cell_type": "markdown",
   "metadata": {},
   "source": [
    "### Question 5 (1 point)\n",
    "\n",
    "Some data preparation: \n",
    "* If there is a wine that doesn't have a price, fill the price of that wine with the average price of all the wines in that country\n",
    "\n",
    "For example:\n",
    "* Country B has 3 wines with `[20, 10, None]` as prices\n",
    "* Then calculate the average price of the wines with prices in that country, and substitute the `None`s with that average (in this case, the average of `[20, 10]`).\n",
    "* Final prices for the three wines in country B should be `[20, 10, 15]`."
   ]
  },
  {
   "cell_type": "code",
   "execution_count": 13,
   "metadata": {},
   "outputs": [],
   "source": [
    "# average price of wines per country\n",
    "unique_countries = {wine['country'] for wine in wines}\n",
    "\n",
    "countries = {}\n",
    "\n",
    "for country in unique_countries:\n",
    "    prices_country = []\n",
    "    for wine in wines:\n",
    "        if wine['country'] == country and wine['price'] != None:\n",
    "            ratings_country.append(float(wine['points']))\n",
    "\n",
    "    countries[country] = sum(ratings_country) / len(ratings_country)\n",
    "\n",
    "# filling in missing values\n",
    "for wine in wines:\n",
    "    if wine['price'] == None:\n",
    "        wine['price'] = countries[wine['country']]\n"
   ]
  },
  {
   "cell_type": "markdown",
   "metadata": {},
   "source": [
    "### Question 6 (1 point)\n",
    "\n",
    "Similar to the `ratings` dictionary, create a new dictionary `countries` where the key is the `country` and the value is a tuple containing the following:\n",
    "```python\n",
    "countries = {\n",
    "    country: (\n",
    "        average points of all its wines,\n",
    "        average price of all its wines,\n",
    "        ratio of average points to average price\n",
    "    )\n",
    "}\n",
    "```\n",
    "\n",
    "For example (not real numbers):\n",
    "```python\n",
    "countries = {\n",
    "    'France': (90, 20, 4.5),\n",
    "    'Italy': (88, 15, 5.8),\n",
    "    'Spain': (85, 10, 8.5)\n",
    "}\n",
    "```\n",
    "\n",
    "We want lots of points on average at a lower price.\n",
    "\n",
    "What is the `country` whose wines have the highest average `points` to `price` ratio?"
   ]
  },
  {
   "cell_type": "code",
   "execution_count": 14,
   "metadata": {},
   "outputs": [
    {
     "name": "stdout",
     "output_type": "stream",
     "text": [
      "The country with the best ratio of points to price is Ukraine, with a ratio of 9.12\n",
      "The average price of a wine from Ukraine is 9.21\n",
      "The average rating of a wine from Ukraine is 84.07\n"
     ]
    }
   ],
   "source": [
    "# average price per country\n",
    "unique_countries = {wine['country'] for wine in wines}\n",
    "\n",
    "countries = {}\n",
    "\n",
    "for country in unique_countries:\n",
    "\n",
    "    ratings_country = []\n",
    "    prices_country = []\n",
    "\n",
    "    for wine in wines:\n",
    "        if wine['country'] == country:\n",
    "            ratings_country.append(float(wine['points']))\n",
    "            prices_country.append(float(wine['price']))\n",
    "\n",
    "    avg_points = sum(ratings_country) / len(ratings_country)\n",
    "    avg_price = sum(prices_country) / len(prices_country)\n",
    "    points_to_price_ratio = avg_points / avg_price\n",
    "\n",
    "    countries[country] = (avg_points, avg_price, points_to_price_ratio)\n",
    "\n",
    "# country with the best ratio of points to price\n",
    "country_with_best_ratio = max(countries, key=lambda x: countries[x][2])\n",
    "\n",
    "print(f\"The country with the best ratio of points to price is {country_with_best_ratio}, with a ratio of {countries[country_with_best_ratio][2]:.2f}\")\n",
    "print(f\"The average price of a wine from {country_with_best_ratio} is {countries[country_with_best_ratio][1]:.2f}\")\n",
    "print(f\"The average rating of a wine from {country_with_best_ratio} is {countries[country_with_best_ratio][0]:.2f}\")"
   ]
  },
  {
   "cell_type": "markdown",
   "metadata": {},
   "source": [
    "### Question 7 (1 point)\n",
    "\n",
    "Using the `countries` dictionary created in the previous answer, which is the country with the lowest points-to-price ratios out of the following countries:\n",
    "\n",
    "* `Cyprus`\n",
    "* `Brazil`\n",
    "* `India`\n",
    "\n",
    "Again, you need to find the solution via code, not by printing the countries and finding the lowest ratio.\n",
    "\n",
    "**HELP: If you couldn't create the `countries` dictionary, use the following dictionary to solve it. (-0.5 points)**\n",
    "```python\n",
    "{'Switzerland': (88.57142857142857, 85.28571428571429, 1.0385259631490786), 'Ukraine': (84.07142857142857, 9.214285714285714, 9.124031007751938), 'France': (88.84510931064138, 50.44096557625022, 1.761368131946972), 'New Zealand': (88.3030303030303, 28.71683227387118, 3.0749572049203806), 'Uruguay': (86.75229357798165, 26.40366972477064, 3.2856150104239057), 'Slovenia': (88.06896551724138, 29.952709646822846, 2.9402670594973386), 'Macedonia': (86.83333333333333, 15.583333333333334, 5.572192513368983), 'Morocco': (88.57142857142857, 19.5, 4.542124542124542), 'Germany': (89.85173210161663, 43.22511895400462, 2.0786925351721273), 'Moldova': (87.20338983050847, 16.74576271186441, 5.20748987854251), 'Cyprus': (87.18181818181819, 16.272727272727273, 5.357541899441341), 'Argentina': (86.71026315789474, 25.250984316518174, 3.4339359634852884), 'Lebanon': (87.68571428571428, 30.685714285714287, 2.8575418994413404), 'Austria': (90.10134529147982, 40.21345058732233, 2.2405773186717064), 'Canada': (89.36964980544747, 36.330749534908094, 2.4598900641886674), 'Egypt': (84.0, 88.66754349046016, 0.9473590526282896), 'Chile': (86.4935152057245, 21.632842067954186, 3.9982502037423777), 'China': (89.0, 18.0, 4.944444444444445), 'India': (90.22222222222223, 13.333333333333334, 6.766666666666667), 'Czech Republic': (87.25, 24.25, 3.597938144329897), 'Brazil': (84.67307692307692, 29.977986926550436, 2.8245084344901423), 'Hungary': (89.1917808219178, 40.97516808122459, 2.1767276377027667), 'Luxembourg': (88.66666666666667, 23.333333333333332, 3.8000000000000003), 'Greece': (87.28326180257511, 23.072528919739334, 3.7829950113488127), 'Turkey': (88.08888888888889, 24.633333333333333, 3.576003608479928), 'Croatia': (87.21917808219177, 27.174160416353985, 3.209636535070332), 'Australia': (88.58050665521684, 36.233156357592215, 2.4447361356266684), 'Mexico': (85.25714285714285, 26.785714285714285, 3.182933333333333), 'Armenia': (87.5, 14.5, 6.0344827586206895), 'South Africa': (88.05638829407566, 29.577821794179147, 2.977108622359912), 'Israel': (88.47128712871287, 33.5615655251901, 2.6360894000105426), 'Slovakia': (87.0, 16.0, 5.4375), 'Serbia': (87.5, 24.5, 3.5714285714285716), 'Bulgaria': (87.93617021276596, 14.645390070921986, 6.004358353510896), 'Italy': (88.56223132036847, 46.217621803872724, 1.9162005283652987), 'Portugal': (88.25021964505359, 35.137228194299844, 2.511587401176113), 'Peru': (83.5625, 18.0625, 4.626297577854671), 'Romania': (86.4, 15.241666666666667, 5.6686714051394205), None: (88.63492063492063, 28.645492778168947, 3.094201287487374), 'US': (88.56372009393806, 36.80110724188513, 2.4065504201226693), 'Georgia': (87.68604651162791, 20.92993160772165, 4.189504684252194), 'Spain': (87.28833709556058, 28.86762804139494, 3.0237446932041956), 'Bosnia and Herzegovina': (86.5, 12.5, 6.92), 'England': (91.58108108108108, 54.16377107059393, 1.6908180370550563)}\n",
    "```\n"
   ]
  },
  {
   "cell_type": "code",
   "execution_count": 15,
   "metadata": {},
   "outputs": [
    {
     "name": "stdout",
     "output_type": "stream",
     "text": [
      "Out of Cyprus, Brazil, India, the country with the lowest ratio of points to price is Brazil, with a ratio of 2.84\n"
     ]
    }
   ],
   "source": [
    "lowest_ratio = 100000000\n",
    "\n",
    "for country in [\"Cyprus\", \"Brazil\", \"India\"]:\n",
    "    if countries[country][2] < lowest_ratio:\n",
    "        lowest_ratio = countries[country][2]\n",
    "        lowest_ratio_country = country\n",
    "\n",
    "print(f\"Out of {', '.join(['Cyprus', 'Brazil', 'India'])}, the country with the lowest ratio of points to price is {lowest_ratio_country}, with a ratio of {lowest_ratio:.2f}\")"
   ]
  },
  {
   "cell_type": "markdown",
   "metadata": {},
   "source": [
    "### Question 8 (1 point)\n",
    "\n",
    "Create a list called `top_wines` that contains all the wines that have achieved the maximum rating (0.1 points)\n",
    "\n",
    "* First calculate what's the maximum rating and then extract all the wine reviews that have that rating.\n",
    "* The result should be a list of dictionaries, where each dictionary is a wine review, something like the following.\n",
    "\n",
    "```python\n",
    "top_wines = [\n",
    "    {\n",
    "        'country': 'France',\n",
    "        'description': 'This is a top wine',\n",
    "        'points': 100,\n",
    "        'price': 100,\n",
    "        'title': 'Top Wine A',\n",
    "        'variety': 'Top Variety A',\n",
    "        'winery': 'Top Winery A'\n",
    "    },\n",
    "    {\n",
    "        'country': 'Italy',\n",
    "        'description': 'This is another top wine',\n",
    "        'points': 100,\n",
    "        'price': 100,\n",
    "        'title': 'Second Top Wine B',\n",
    "        'variety': 'Top Variety B',\n",
    "        'winery': 'Top Winery B'\n",
    "    }\n",
    "]\n",
    "```\n",
    "\n",
    "* What is the country with the most top wines? (0.3 points)\n",
    "* What is the average price of a top wine? (0.3 points)\n",
    "* What is the most present variety of top wine? (0.3 points)\n",
    "\n"
   ]
  },
  {
   "cell_type": "code",
   "execution_count": 16,
   "metadata": {},
   "outputs": [
    {
     "name": "stdout",
     "output_type": "stream",
     "text": [
      "The country with the most wines in the top is France, with 8 wines in the top\n",
      "The average price of a wine in the top is 485.95\n",
      "The most present variety in the top is Bordeaux-style Red Blend, with 5 wines in the top\n"
     ]
    }
   ],
   "source": [
    "highest_rating = max([float(wine['points']) for wine in wines])\n",
    "\n",
    "top_wines = [wine for wine in wines if float(wine['points']) == highest_rating]\n",
    "\n",
    "# \n",
    "\n",
    "# country with the most wines in the top\n",
    "countries = {}\n",
    "\n",
    "for wine in top_wines:\n",
    "    if wine['country'] in countries:\n",
    "        countries[wine['country']] += 1\n",
    "    else:\n",
    "        countries[wine['country']] = 1\n",
    "\n",
    "country_with_most_top_wines = max(countries, key=countries.get)\n",
    "print(f\"The country with the most wines in the top is {country_with_most_top_wines}, with {countries[country_with_most_top_wines]} wines in the top\")\n",
    "\n",
    "# average price of wines in the top\n",
    "prices = []\n",
    "\n",
    "for wine in top_wines:\n",
    "\n",
    "    if wine['price'] != None:\n",
    "        prices.append(float(wine['price']))\n",
    "\n",
    "avg_price = sum(prices) / len(prices)\n",
    "\n",
    "print(f\"The average price of a wine in the top is {avg_price:.2f}\")\n",
    "\n",
    "# most present variety in the top\n",
    "\n",
    "varieties = {}\n",
    "\n",
    "for wine in top_wines:\n",
    "    if wine['variety'] in varieties:\n",
    "        varieties[wine['variety']] += 1\n",
    "    else:\n",
    "        varieties[wine['variety']] = 1\n",
    "\n",
    "most_present_variety = max(varieties, key=varieties.get)\n",
    "\n",
    "print(f\"The most present variety in the top is {most_present_variety}, with {varieties[most_present_variety]} wines in the top\")"
   ]
  },
  {
   "cell_type": "code",
   "execution_count": 17,
   "metadata": {},
   "outputs": [
    {
     "data": {
      "text/plain": [
       "19"
      ]
     },
     "execution_count": 17,
     "metadata": {},
     "output_type": "execute_result"
    }
   ],
   "source": [
    "len(top_wines)"
   ]
  },
  {
   "cell_type": "markdown",
   "metadata": {},
   "source": [
    "### Question 9 (1 point)\n",
    "\n",
    "* Create a function called `affordable_wines` that receives the wines reviews list and a specific budget, and returns how many wines you can buy with that price. (0.5 points) \n",
    "* Create another function called `twitter_presence` that receives the wines reviews list and a wine name and returns True if the wine has a twitter handle for the taster, and False otherwise. (0.5 points)\n",
    "\n",
    "Prove your functions with these examples:\n",
    "\n",
    "* `affordable_wines(wines, 10)` should return 6280 wines in that budget\n",
    "* `twitter_presence(wines, \"Nicosia 2013 Vulkà Bianco  (Etna)\")` should return `True``, meaning there is a twitter handle for the taster of that wine"
   ]
  },
  {
   "cell_type": "code",
   "execution_count": 18,
   "metadata": {},
   "outputs": [
    {
     "data": {
      "text/plain": [
       "6280"
      ]
     },
     "execution_count": 18,
     "metadata": {},
     "output_type": "execute_result"
    }
   ],
   "source": [
    "def affordable_wines(wines, budget):\n",
    "    on_bugdet = 0\n",
    "    for wine in wines:\n",
    "        if wine['price'] != None and float(wine['price']) <= budget:\n",
    "            on_bugdet += 1  \n",
    "    return on_bugdet\n",
    "\n",
    "affordable_wines(wines, 10)"
   ]
  },
  {
   "cell_type": "code",
   "execution_count": 19,
   "metadata": {},
   "outputs": [
    {
     "data": {
      "text/plain": [
       "True"
      ]
     },
     "execution_count": 19,
     "metadata": {},
     "output_type": "execute_result"
    }
   ],
   "source": [
    "def twitter_presence(wines, wine_name):\n",
    "    for wine in wines:\n",
    "        if wine['taster_twitter_handle'] != \"\":\n",
    "            return True\n",
    "    return False\n",
    "\n",
    "twitter_presence(wines, \"Nicosia 2013 Vulkà Bianco  (Etna)\")"
   ]
  },
  {
   "cell_type": "markdown",
   "metadata": {},
   "source": [
    "### Question 10 (1 point)\n",
    "\n",
    "* Which is the most common variety of wine in the dataset? (0.3 points)\n",
    "* Which is the most expensive wine in the dataset? (0.3 points)\n",
    "* Which is, on average, the most expensive variety of wine in the dataset? (0.2 points)\n",
    "* Which is the taster (other than `None`) that has reviewed the most wines? (0.2 points)"
   ]
  },
  {
   "cell_type": "code",
   "execution_count": 20,
   "metadata": {},
   "outputs": [
    {
     "name": "stdout",
     "output_type": "stream",
     "text": [
      "The most common variety is Pinot Noir, with 13272 wines out of 129971 reviews\n"
     ]
    }
   ],
   "source": [
    "# 1 most common variety\n",
    "\n",
    "unique_varieties = {wine['variety'] for wine in wines}\n",
    "\n",
    "varieties = {}\n",
    "\n",
    "for variety in unique_varieties:\n",
    "    varieties[variety] = 0\n",
    "\n",
    "    for wine in wines:\n",
    "        if wine['variety'] == variety:\n",
    "            varieties[variety] += 1\n",
    "\n",
    "most_common_variety = max(varieties, key=varieties.get)\n",
    "\n",
    "print(f\"The most common variety is {most_common_variety}, with {varieties[most_common_variety]} wines out of {len(wines)} reviews\")"
   ]
  },
  {
   "cell_type": "code",
   "execution_count": 21,
   "metadata": {},
   "outputs": [
    {
     "name": "stdout",
     "output_type": "stream",
     "text": [
      "The most expensive wine is Château les Ormes Sorbet 2013  Médoc, with a price of 3300.0\n"
     ]
    }
   ],
   "source": [
    "# 2 most expensive wine in the data\n",
    "\n",
    "most_expensive_wine = \"\"\n",
    "highest_price = 0\n",
    "\n",
    "for wine in wines:\n",
    "    if wine['price'] != None and float(wine['price']) > highest_price:\n",
    "        highest_price = float(wine['price'])\n",
    "        most_expensive_wine = wine['title']\n",
    "\n",
    "print(f\"The most expensive wine is {most_expensive_wine}, with a price of {highest_price}\")"
   ]
  },
  {
   "cell_type": "code",
   "execution_count": 22,
   "metadata": {},
   "outputs": [
    {
     "name": "stdout",
     "output_type": "stream",
     "text": [
      "The most expensive variety is Ramisco, with an average price of 495.00\n"
     ]
    }
   ],
   "source": [
    "# 3 most expensive variety of wine on average\n",
    "\n",
    "unique_varieties = {wine['variety'] for wine in wines}\n",
    "\n",
    "varieties = {}\n",
    "\n",
    "for variety in unique_varieties:\n",
    "\n",
    "    prices = []\n",
    "\n",
    "    for wine in wines:\n",
    "        if wine['variety'] == variety and wine['price'] != None:\n",
    "            prices.append(float(wine['price']))\n",
    "\n",
    "    avg_price = sum(prices) / len(prices)\n",
    "\n",
    "    varieties[variety] = avg_price\n",
    "\n",
    "most_expensive_variety = max(varieties, key=varieties.get)\n",
    "\n",
    "print(f\"The most expensive variety is {most_expensive_variety}, with an average price of {varieties[most_expensive_variety]:.2f}\")"
   ]
  },
  {
   "cell_type": "code",
   "execution_count": 23,
   "metadata": {},
   "outputs": [
    {
     "name": "stdout",
     "output_type": "stream",
     "text": [
      "The most active taster is Roger Voss, with 25514 reviews\n"
     ]
    }
   ],
   "source": [
    "# 4 taster that has reviewed the most wines\n",
    "\n",
    "unique_tasters = {wine['taster_name'] for wine in wines}\n",
    "\n",
    "tasters = {}\n",
    "\n",
    "for taster in unique_tasters:\n",
    "    tasters[taster] = 0\n",
    "\n",
    "    for wine in wines:\n",
    "        if wine['taster_name'] == taster and wine['taster_name'] != None:\n",
    "            tasters[taster] += 1\n",
    "\n",
    "most_active_taster = max(tasters, key=tasters.get)\n",
    "\n",
    "print(f\"The most active taster is {most_active_taster}, with {tasters[most_active_taster]} reviews\")"
   ]
  }
 ],
 "metadata": {
  "kernelspec": {
   "display_name": "Python 3",
   "language": "python",
   "name": "python3"
  },
  "language_info": {
   "codemirror_mode": {
    "name": "ipython",
    "version": 3
   },
   "file_extension": ".py",
   "mimetype": "text/x-python",
   "name": "python",
   "nbconvert_exporter": "python",
   "pygments_lexer": "ipython3",
   "version": "3.10.6"
  }
 },
 "nbformat": 4,
 "nbformat_minor": 2
}
