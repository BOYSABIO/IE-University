{
 "cells": [
  {
   "cell_type": "markdown",
   "metadata": {},
   "source": [
    "# Final Exam: \n",
    "\n",
    "In this exam you will work on the following concepts:\n",
    "\n",
    "* Handling dates and times in Python and Pandas\n",
    "* Handling text data in Pandas with regular expressions\n",
    "* Error handling in Python\n",
    "* Unit testing in Python\n",
    "\n",
    "Rules:\n",
    "- The time limit is 80 minutes.\n",
    "- Every solution must be written in Python, and the result must be printed or returned.\n",
    "- 5 minutes before the end, a warning will be given to submit what you have so far. No submissions will be accepted after the end of the exam.\n",
    "- You can resubmit as many times as you want.\n",
    "- The exam is open-book, open-notes, open-internet, open-everything except for communicating with anyone by any means, sharing solutions, or using AI in any form.\n",
    "    - The student that doesn't comply with these rules will fail immediately and will be reported to the university.\n",
    "- If you have a question, please raise your hand. I will come to you.\n",
    "- For every exercise with a single solution, the solution is provided, but you need to write the code to solve it.\n",
    "- If you couldn't solve an exercise and you need the solution, you can copy my solution at a penalty of 75% of the exercise's grade.\n",
    "    - E.g. on exercise 1 (1 point) you don't know the solution, but you need it for exercise 2 (1 point). You can copy the solution, but the maximum grade you can get on exercise 2 is 25% of the points. The total grade in both exercises will be 0.25 points.\n",
    "\n",
    "\n",
    "Submission:\n",
    "- Before the end of the exam, submit the following files using the link provided in the final exam announcement.\n",
    "\n",
    "    * This Jupyter Notebook with your solutions and experiments\n",
    "    * A script called `functions.py` with all the functions you implemented and used in the Jupyter Notebook\n",
    "    * A script called `test_functions.py` with the tests for all the functions you implemented in the `functions.py` script.\n"
   ]
  },
  {
   "cell_type": "markdown",
   "metadata": {},
   "source": [
    "## Exercise 1\n",
    "\n",
    "Create a function called `calendar()` that receives two strings with dates in the format `YYYY-MM-DD` and returns a pandas DataFrame with the following elements:\n",
    "\n",
    "* A `DatetimeIndex` with all the days between the two dates, with hourly granularity\n",
    "* The following columns:\n",
    "    * `day`: the day of the month as an integer\n",
    "    * `month`: the month of the year as an integer\n",
    "    * `year`: the year as an integer\n",
    "    * `day_of_week`: the day of the week as an integer (0 is Monday, 6 is Sunday)\n",
    "    * `is_weekend`: a boolean indicating if the day is a weekend or not\n",
    "    * `quarter`: the quarter of the year with this format 'YYYY-Qn', where n is the quarter number\n",
    "\n",
    "The DataFrame must have one row for each hour of each day between the two dates.\n",
    "\n",
    "One row example:\n",
    "\n",
    "| DatetimeIndex           | day | month | year | day_of_week | is_weekend | quarter |\n",
    "|---------------------|-----|-------|------|-------------|------------|---------|\n",
    "| 2025-01-01 00:00:00 | 1   | 1     | 2025 | 2           | False      | 2025-Q1 |\n",
    "\n",
    "Make sure that it includes the last day in fully, until the last hour of the day."
   ]
  },
  {
   "cell_type": "code",
   "execution_count": null,
   "metadata": {},
   "outputs": [
    {
     "data": {
      "text/plain": [
       "['day', 'month', 'year', 'day_of_week', 'is_weekend', 'quarter']"
      ]
     },
     "execution_count": 47,
     "metadata": {},
     "output_type": "execute_result"
    }
   ],
   "source": [
    "import pandas as pd\n",
    "from datetime import datetime\n",
    "\n",
    "# I was supposed to do a daterange but I didn't read the question fully\n",
    "\n",
    "def calendar(string1, string2):\n",
    "    date1 = pd.to_datetime(string1)\n",
    "    date2 = pd.to_datetime(string2)\n",
    "    df = pd.DataFrame(\n",
    "        {\n",
    "            'DatetimeIndex': [pd.to_datetime(date1), pd.to_datetime(date2)],\n",
    "            'day':[date1.day, date2.day],\n",
    "            'month': [date1.month, date2.month],\n",
    "            'year': [date1.year, date2.year],\n",
    "            'day_of_week': [date1.day_of_week, date2.day_of_week],\n",
    "            'is_weekend': [date1.day_name() in ['Saturday', 'Sunday'], date2.day_name() in ['Saturday', 'Sunday']],\n",
    "            'quarter': [str(date1.year) + 'Q' + str(date1.quarter), str(date2.year) + 'Q' + str(date2.quarter)]\n",
    "        }\n",
    "    )\n",
    "    return df.set_index('DatetimeIndex')\n",
    "\n",
    "calendar('2025-01-01', '2025-01-01')"
   ]
  },
  {
   "cell_type": "code",
   "execution_count": 11,
   "metadata": {},
   "outputs": [
    {
     "data": {
      "text/html": [
       "<div>\n",
       "<style scoped>\n",
       "    .dataframe tbody tr th:only-of-type {\n",
       "        vertical-align: middle;\n",
       "    }\n",
       "\n",
       "    .dataframe tbody tr th {\n",
       "        vertical-align: top;\n",
       "    }\n",
       "\n",
       "    .dataframe thead th {\n",
       "        text-align: right;\n",
       "    }\n",
       "</style>\n",
       "<table border=\"1\" class=\"dataframe\">\n",
       "  <thead>\n",
       "    <tr style=\"text-align: right;\">\n",
       "      <th></th>\n",
       "      <th>day</th>\n",
       "      <th>month</th>\n",
       "      <th>year</th>\n",
       "      <th>day_of_week</th>\n",
       "      <th>is_weekend</th>\n",
       "      <th>quarter</th>\n",
       "    </tr>\n",
       "    <tr>\n",
       "      <th>DatetimeIndex</th>\n",
       "      <th></th>\n",
       "      <th></th>\n",
       "      <th></th>\n",
       "      <th></th>\n",
       "      <th></th>\n",
       "      <th></th>\n",
       "    </tr>\n",
       "  </thead>\n",
       "  <tbody>\n",
       "    <tr>\n",
       "      <th>2025-01-01</th>\n",
       "      <td>1</td>\n",
       "      <td>1</td>\n",
       "      <td>2025</td>\n",
       "      <td>2</td>\n",
       "      <td>False</td>\n",
       "      <td>2025Q1</td>\n",
       "    </tr>\n",
       "    <tr>\n",
       "      <th>2025-03-20</th>\n",
       "      <td>20</td>\n",
       "      <td>3</td>\n",
       "      <td>2025</td>\n",
       "      <td>3</td>\n",
       "      <td>False</td>\n",
       "      <td>2025Q1</td>\n",
       "    </tr>\n",
       "  </tbody>\n",
       "</table>\n",
       "</div>"
      ],
      "text/plain": [
       "               day  month  year  day_of_week  is_weekend quarter\n",
       "DatetimeIndex                                                   \n",
       "2025-01-01       1      1  2025            2       False  2025Q1\n",
       "2025-03-20      20      3  2025            3       False  2025Q1"
      ]
     },
     "execution_count": 11,
     "metadata": {},
     "output_type": "execute_result"
    }
   ],
   "source": [
    "# try the function here\n",
    "\n",
    "calendar('2025-01-01', '2025-03-20')"
   ]
  },
  {
   "cell_type": "markdown",
   "metadata": {},
   "source": [
    "## Exercise 2\n",
    "\n",
    "Create a function called `analyze_text()` that receives a list of strings and returns a pandas DataFrame with the following columns:\n",
    "\n",
    "* `text`: the original text\n",
    "* `number_of_words`: the number of words in the text\n",
    "* `number_of_vowels`: the number of vowels in the text\n",
    "* `number_of_consonants`: the number of consonants in the text\n",
    "* `number_of_unique_vowels`: the number of unique vowels in the text\n",
    "* `number_of_unique_consonants`: the number of unique consonants in the text\n",
    "\n",
    "Make sure to use regex to count the number of words, vowels, and consonants.\n",
    "\n",
    "One row example:\n",
    "\n",
    "| text | number_of_words | number_of_vowels | number_of_consonants | number_of_unique_vowels | number_of_unique_consonants |\n",
    "|------|-----------------|------------------|----------------------|-------------------------|-----------------------------|\n",
    "| 'This is a text' | 4 | 4 | 7 | 3 | 4 |\n",
    "\n",
    "The result of the function must be a DataFrame.\n",
    "\n",
    "Solution for this string list:\n",
    "\n",
    "```python\n",
    "analyze_text([\"Check, check, check, is this thing on?\"])\n",
    "```\n",
    "\n",
    "| text                                | number_of_words | number_of_vowels | number_of_consonants | number_of_unique_vowels | number_of_unique_consonants |\n",
    "|-------------------------------------|-----------------|------------------|----------------------|-------------------------|-----------------------------|\n",
    "| Check, check, check, is this thing on? | 7               | 7                | 21                   | 3                       | 8                           |"
   ]
  },
  {
   "cell_type": "code",
   "execution_count": 38,
   "metadata": {},
   "outputs": [],
   "source": [
    "# * `text`: the original text\n",
    "# * `number_of_words`: the number of words in the text\n",
    "# * `number_of_vowels`: the number of vowels in the text\n",
    "# * `number_of_consonants`: the number of consonants in the text\n",
    "# * `number_of_unique_vowels`: the number of unique vowels in the text\n",
    "# * `number_of_unique_consonants`: the number of unique consonants in the text\n",
    "\n",
    "import re\n",
    "\n",
    "def analyze_text(list_of_strings):\n",
    "    vowel_pattern = r'[a, e, i, o, u]'\n",
    "    consonant_pattern = r'[^aeiou\\s]'\n",
    "\n",
    "    dictionary = {}\n",
    "    dictionary['text'] = [sentence for sentence in list_of_strings]\n",
    "    dictionary['number_of_words'] = [len(list(sentence)) for sentence in list_of_strings]\n",
    "    dictionary['number_of_vowels'] = [len(re.findall(vowel_pattern, sentence)) for sentence in list_of_strings]\n",
    "    dictionary['number_of_consonants'] = [len(re.findall(consonant_pattern, sentence)) for sentence in list_of_strings]\n",
    "    dictionary['number_of_unique_vowels'] = [len(set(re.findall(vowel_pattern, sentence))) for sentence in list_of_strings]\n",
    "    dictionary['number_of_unique_consonants'] = [len(set(re.findall(consonant_pattern, sentence))) for sentence in list_of_strings]\n",
    "\n",
    "    df = pd.DataFrame(dictionary)\n",
    "    return df"
   ]
  },
  {
   "cell_type": "code",
   "execution_count": 40,
   "metadata": {},
   "outputs": [
    {
     "data": {
      "text/html": [
       "<div>\n",
       "<style scoped>\n",
       "    .dataframe tbody tr th:only-of-type {\n",
       "        vertical-align: middle;\n",
       "    }\n",
       "\n",
       "    .dataframe tbody tr th {\n",
       "        vertical-align: top;\n",
       "    }\n",
       "\n",
       "    .dataframe thead th {\n",
       "        text-align: right;\n",
       "    }\n",
       "</style>\n",
       "<table border=\"1\" class=\"dataframe\">\n",
       "  <thead>\n",
       "    <tr style=\"text-align: right;\">\n",
       "      <th></th>\n",
       "      <th>text</th>\n",
       "      <th>number_of_words</th>\n",
       "      <th>number_of_vowels</th>\n",
       "      <th>number_of_consonants</th>\n",
       "      <th>number_of_unique_vowels</th>\n",
       "      <th>number_of_unique_consonants</th>\n",
       "    </tr>\n",
       "  </thead>\n",
       "  <tbody>\n",
       "    <tr>\n",
       "      <th>0</th>\n",
       "      <td>Check, check, check, is this thing on?</td>\n",
       "      <td>38</td>\n",
       "      <td>16</td>\n",
       "      <td>25</td>\n",
       "      <td>5</td>\n",
       "      <td>10</td>\n",
       "    </tr>\n",
       "  </tbody>\n",
       "</table>\n",
       "</div>"
      ],
      "text/plain": [
       "                                     text  number_of_words  number_of_vowels  \\\n",
       "0  Check, check, check, is this thing on?               38                16   \n",
       "\n",
       "   number_of_consonants  number_of_unique_vowels  number_of_unique_consonants  \n",
       "0                    25                        5                           10  "
      ]
     },
     "execution_count": 40,
     "metadata": {},
     "output_type": "execute_result"
    }
   ],
   "source": [
    "# try the function here\n",
    "\n",
    "analyze_text([\"Check, check, check, is this thing on?\"])"
   ]
  },
  {
   "cell_type": "markdown",
   "metadata": {},
   "source": [
    "## Exercise 3\n",
    "\n",
    "Let's use `try-except` to handle errors in Python.\n",
    "\n",
    "Apply the following in `calendar()`:\n",
    "\n",
    "* If the input are not strings, raise a `TypeError` with the message \"The input must be a string.\"\n",
    "* If the input strings are not in the format `YYYY-MM-DD`, raise a `ValueError` with the message \"The input must be in the format 'YYYY-MM-DD'.\""
   ]
  },
  {
   "cell_type": "code",
   "execution_count": 42,
   "metadata": {},
   "outputs": [
    {
     "name": "stdout",
     "output_type": "stream",
     "text": [
      "               day  month  year  day_of_week  is_weekend quarter\n",
      "DatetimeIndex                                                   \n",
      "2025-01-01       1      1  2025            2       False  2025Q1\n",
      "2025-01-01       1      1  2025            2       False  2025Q1\n"
     ]
    }
   ],
   "source": [
    "import pandas as pd\n",
    "from datetime import datetime\n",
    "\n",
    "def calendar(string1, string2):\n",
    "    if not isinstance(string1, str):\n",
    "        raise TypeError('The input must be a string')\n",
    "    if not isinstance(string2, str):\n",
    "        raise TypeError('The input must be a string')\n",
    "    \n",
    "    pattern_check = r'\\d{4}-\\d{2}-\\d{2}'\n",
    "    if not re.match(pattern_check, string1):\n",
    "        raise ValueError(\"The input must be in the format 'YYYY-MM-DD'\")\n",
    "    if not re.match(pattern_check, string2):\n",
    "        raise ValueError(\"The input must be in the format 'YYYY-MM-DD'\")\n",
    "\n",
    "    date1 = pd.to_datetime(string1)\n",
    "    date2 = pd.to_datetime(string2)\n",
    "\n",
    "    df = pd.DataFrame(\n",
    "        {\n",
    "            'DatetimeIndex': [pd.to_datetime(date1), pd.to_datetime(date2)],\n",
    "            'day':[date1.day, date2.day],\n",
    "            'month': [date1.month, date2.month],\n",
    "            'year': [date1.year, date2.year],\n",
    "            'day_of_week': [date1.day_of_week, date2.day_of_week],\n",
    "            'is_weekend': [date1.day_name() in ['Saturday', 'Sunday'], date2.day_name() in ['Saturday', 'Sunday']],\n",
    "            'quarter': [str(date1.year) + 'Q' + str(date1.quarter), str(date2.year) + 'Q' + str(date2.quarter)]\n",
    "        }\n",
    "    )\n",
    "    return df.set_index('DatetimeIndex')\n",
    "\n",
    "print(calendar('2025-01-01', '2025-01-01'))"
   ]
  },
  {
   "cell_type": "markdown",
   "metadata": {},
   "source": [
    "## Exercise 4\n",
    "\n",
    "Now for `analyze_text()`:\n",
    "\n",
    "* If the input is not a list, raise a `TypeError` with the message \"The input must be a list.\"\n",
    "* If the input list contains elements that are not strings, raise a `ValueError` with the message \"All elements in the list must be strings.\""
   ]
  },
  {
   "cell_type": "code",
   "execution_count": 44,
   "metadata": {},
   "outputs": [],
   "source": [
    "import re\n",
    "\n",
    "def analyze_text(list_of_strings):\n",
    "    if not isinstance(list_of_strings, list):\n",
    "        raise TypeError('The input must be a list')\n",
    "    for i in list_of_strings:\n",
    "        if not isinstance(i, str):\n",
    "            raise ValueError('All elements in the list must be strings')\n",
    "\n",
    "    vowel_pattern = r'[a, e, i, o, u]'\n",
    "    consonant_pattern = r'[^aeiou\\s]'\n",
    "\n",
    "    dictionary = {}\n",
    "    dictionary['text'] = [sentence for sentence in list_of_strings]\n",
    "    dictionary['number_of_words'] = [len(list(sentence)) for sentence in list_of_strings]\n",
    "    dictionary['number_of_vowels'] = [len(re.findall(vowel_pattern, sentence)) for sentence in list_of_strings]\n",
    "    dictionary['number_of_consonants'] = [len(re.findall(consonant_pattern, sentence)) for sentence in list_of_strings]\n",
    "    dictionary['number_of_unique_vowels'] = [len(set(re.findall(vowel_pattern, sentence))) for sentence in list_of_strings]\n",
    "    dictionary['number_of_unique_consonants'] = [len(set(re.findall(consonant_pattern, sentence))) for sentence in list_of_strings]\n",
    "\n",
    "    df = pd.DataFrame(dictionary)\n",
    "    return df"
   ]
  },
  {
   "cell_type": "markdown",
   "metadata": {},
   "source": [
    "## Exercise 5\n",
    "\n",
    "Put your functions in a script called `functions.py`.\n",
    "\n",
    "Create a new function in your script called `main()` that prints the following:\n",
    "\n",
    "* A calendar from '2025-01-01' to '2025-01-02'\n",
    "* The text analysis for this list `[\"Check, check, check, is this thing on?\"]`\n",
    "\n",
    "This main function should be executed when the script is run, not when the script is imported."
   ]
  },
  {
   "cell_type": "markdown",
   "metadata": {},
   "source": [
    "## Exercise 6\n",
    "\n",
    "Run the `functions.py` script in a terminal, and paste the output in the cell below."
   ]
  },
  {
   "cell_type": "markdown",
   "metadata": {},
   "source": [
    "               day  month  year  day_of_week  is_weekend quarter\n",
    "DatetimeIndex\n",
    "2025-01-01       1      1  2025            2       False  2025Q1\n",
    "2025-01-02       2      1  2025            3       False  2025Q1\n",
    "                                     text  number_of_words  ...  number_of_unique_vowels  number_of_unique_consonants\n",
    "0  Check, check, check, is this thing on?               38  ...                        5                         \n",
    "  10\n",
    "\n",
    "[1 rows x 6 columns]"
   ]
  },
  {
   "cell_type": "markdown",
   "metadata": {},
   "source": [
    "## Exercise 7\n",
    "\n",
    "Time to build the tests for your functions.\n",
    "\n",
    "Create a script called `test_functions.py` with the following tests:\n",
    "\n",
    "For the `calendar()` function:\n",
    "\n",
    "* Test if the `calendar()` function returns a DataFrame\n",
    "* Test if the `calendar()` returns the correct number of rows\n",
    "  * For this test, use the dates '2025-01-01' to '2025-01-02', it should return 48 rows\n",
    "* Test if the `calendar()` returns the correct columns\n",
    "  * The columns should be 'day', 'month', 'year', 'day_of_week', 'is_weekend', and 'quarter'\n",
    "\n",
    "For the `analyze_text()` function:\n",
    "\n",
    "* Test if the `analyze_text()` function returns a DataFrame\n",
    "* Test if the `analyze_text()` raises a `TypeError` if the input is not a list\n",
    "* Test if the `analyze_text()` raises a `ValueError` if the input list contains elements that are not strings"
   ]
  },
  {
   "cell_type": "markdown",
   "metadata": {},
   "source": [
    "## Exercise 8\n",
    "\n",
    "Run the tests in a terminal and paste the output in the cell below."
   ]
  },
  {
   "cell_type": "markdown",
   "metadata": {},
   "source": [
    "=================================================== FAILURES =================================================== \n",
    "______________________________________________ test_calendar_rows ______________________________________________ \n",
    "\n",
    "    def test_calendar_rows():\n",
    ">       assert calendar('2025-01-01', '2025-01-02').shape == (48, 2)\n",
    "E       assert (2, 6) == (48, 2)\n",
    "E\n",
    "E         At index 0 diff: 2 != 48\n",
    "E         Use -v to get more diff\n",
    "\n",
    "test_functions_exam.py:11: AssertionError\n",
    "=========================================== short test summary info ============================================ \n",
    "FAILED test_functions_exam.py::test_calendar_rows - assert (2, 6) == (48, 2)\n",
    "========================================= 1 failed, 5 passed in 2.04s =========================================="
   ]
  }
 ],
 "metadata": {
  "kernelspec": {
   "display_name": "myenv312",
   "language": "python",
   "name": "python3"
  },
  "language_info": {
   "codemirror_mode": {
    "name": "ipython",
    "version": 3
   },
   "file_extension": ".py",
   "mimetype": "text/x-python",
   "name": "python",
   "nbconvert_exporter": "python",
   "pygments_lexer": "ipython3",
   "version": "3.12.0"
  }
 },
 "nbformat": 4,
 "nbformat_minor": 2
}
