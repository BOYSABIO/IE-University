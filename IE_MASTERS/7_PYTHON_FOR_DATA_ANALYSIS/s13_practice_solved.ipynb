{
 "cells": [
  {
   "cell_type": "markdown",
   "metadata": {},
   "source": [
    "# Session 13: More problems\n",
    "\n",
    "* Conditional + Loops + Functions"
   ]
  },
  {
   "cell_type": "markdown",
   "metadata": {},
   "source": [
    "## Problem 1\n",
    "\n",
    "Create a function that receives 2 tuples that contains the coordinates of 2 points $(x_1, y_1), (x_2, y_2)$ in the Cartesian plane and returns the distance between them.\n",
    "\n",
    "Use the Euclidean distance formula:\n",
    "\n",
    "$$d = \\sqrt{(x_2 - x_1)^2 + (y_2 - y_1)^2}$$\n",
    "\n",
    "The 2 values in each of the points are the x and y coordinates, called latitude and longitude."
   ]
  },
  {
   "cell_type": "code",
   "execution_count": null,
   "metadata": {},
   "outputs": [
    {
     "name": "stdout",
     "output_type": "stream",
     "text": [
      "Please feed me tuples\n"
     ]
    }
   ],
   "source": [
    "def distance(tuple_1, tuple_2):\n",
    "    if isinstance(tuple_1, tuple) and isinstance(tuple_2, tuple):\n",
    "        delta_1 = (tuple_2[0] - tuple_1[0])**2\n",
    "        delta_2 = (tuple_2[1] - tuple_1[1])**2\n",
    "        distance = (delta_1 + delta_2) ** (1/2)\n",
    "        return distance\n",
    "    else:\n",
    "        print('Please feed me tuples')\n",
    "\n",
    "distance([0, 1], (0, 2))"
   ]
  },
  {
   "cell_type": "markdown",
   "metadata": {},
   "source": [
    "## Problem 2\n",
    "\n",
    "We have two lists, one with latitude values and another with longitude values. They represent the trajectories of a vehicle in a map.\n",
    "\n",
    "```python\n",
    "latitudes = [40.7128, 40.7357, 40.7300, 40.7223, 40.7181]\n",
    "longitudes = [-74.0060, -74.0036, -73.9963, -73.9871, -73.9563]\n",
    "```\n",
    "\n",
    "Create a function that receives these two lists and returns a list of tuples with the coordinates of the points.\n",
    "\n",
    "For this case, the function should return:\n",
    "\n",
    "```python\n",
    "[(40.7128, -74.006), (40.7357, -74.0036), (40.73, -73.9963), (40.7223, -73.9871), (40.7181, -73.9563)]\n",
    "```"
   ]
  },
  {
   "cell_type": "code",
   "execution_count": 20,
   "metadata": {},
   "outputs": [
    {
     "name": "stdout",
     "output_type": "stream",
     "text": [
      "[(40.7128, -74.006), (40.7357, -74.0036), (40.73, -73.9963), (40.7223, -73.9871), (40.7181, -73.9563)]\n"
     ]
    }
   ],
   "source": [
    "latitudes = [40.7128, 40.7357, 40.7300, 40.7223, 40.7181]\n",
    "longitudes = [-74.0060, -74.0036, -73.9963, -73.9871, -73.9563]\n",
    "\n",
    "def coordinates(list_1, list_2):\n",
    "    return list(zip(list_1, list_2))\n",
    "\n",
    "list_of_coordinates = coordinates(latitudes, longitudes)\n",
    "\n",
    "print(list_of_coordinates)"
   ]
  },
  {
   "cell_type": "markdown",
   "metadata": {},
   "source": [
    "## Problem 3\n",
    "\n",
    "Create a function that receives a list of tuples with the coordinates of the points of a trajectory and returns a list of tuples, where each tuple contains the two points that form each piece of the trajectory.\n",
    "\n",
    "In this case, given the following list of tuples:\n",
    "\n",
    "```python\n",
    "[(40.7128, -74.006), (40.7357, -74.0036), (40.73, -73.9963), (40.7223, -73.9871), (40.7181, -73.9563)]\n",
    "```\n",
    "\n",
    "The function should return\n",
    "\n",
    "```python\n",
    "[\n",
    "    [(40.7128, -74.006), (40.7357, -74.0036)],\n",
    "    [(40.7357, -74.0036), (40.73, -73.9963)],\n",
    "    [(40.73, -73.9963), (40.7223, -73.9871)],\n",
    "    [(40.7223, -73.9871), (40.7181, -73.9563)]\n",
    "]\n",
    "```"
   ]
  },
  {
   "cell_type": "code",
   "execution_count": 21,
   "metadata": {},
   "outputs": [
    {
     "name": "stdout",
     "output_type": "stream",
     "text": [
      "[((40.7128, -74.006), (40.7357, -74.0036)), ((40.7357, -74.0036), (40.73, -73.9963)), ((40.73, -73.9963), (40.7223, -73.9871)), ((40.7223, -73.9871), (40.7181, -73.9563))]\n"
     ]
    }
   ],
   "source": [
    "def pieces_of_trajectory(trajectory_as_tuples):\n",
    "    return list(zip(trajectory_as_tuples[:-1], trajectory_as_tuples[1:]))\n",
    "\n",
    "pieces = pieces_of_trajectory(list_of_coordinates)\n",
    "print(pieces)"
   ]
  },
  {
   "cell_type": "markdown",
   "metadata": {},
   "source": [
    "## Problem 4\n",
    "\n",
    "Given 2 points $(x_1, y_1), (x_2, y_2)$, create a function that returns the angle between the line that connects the points and the x-axis. We'll call this the direction of the movement.\n",
    "\n",
    "For two points $(10, 10), (20, 20)$, the function should return 0.7853981633974483 radians ($\\pi/4$ radians)."
   ]
  },
  {
   "cell_type": "code",
   "execution_count": 22,
   "metadata": {},
   "outputs": [
    {
     "data": {
      "text/plain": [
       "5.982956502802232"
      ]
     },
     "execution_count": 22,
     "metadata": {},
     "output_type": "execute_result"
    }
   ],
   "source": [
    "from math import atan2, degrees\n",
    "\n",
    "def angle_of_piece(piece):\n",
    "    delta_y = piece[1][1] - piece[0][1]\n",
    "    delta_x = piece[1][0] - piece[0][0]\n",
    "    return degrees(atan2(delta_y, delta_x))\n",
    "\n",
    "angle_of_piece(pieces[0])"
   ]
  },
  {
   "cell_type": "markdown",
   "metadata": {},
   "source": [
    "## Problem 5\n",
    "\n",
    "Given a list of tuples with the coordinates of the points of a trajectory, create a function that returns the direction of the movement between each pair of points."
   ]
  },
  {
   "cell_type": "code",
   "execution_count": 23,
   "metadata": {},
   "outputs": [
    {
     "name": "stdout",
     "output_type": "stream",
     "text": [
      "[5.982956502802232, 127.98349825529607, 129.92786712746346, 97.76516601842063]\n"
     ]
    }
   ],
   "source": [
    "def angles_of_trajectory(pieces):\n",
    "    return [angle_of_piece(piece) for piece in pieces]\n",
    "\n",
    "angles = angles_of_trajectory(pieces)\n",
    "\n",
    "print(angles)"
   ]
  }
 ],
 "metadata": {
  "kernelspec": {
   "display_name": "pda",
   "language": "python",
   "name": "python3"
  },
  "language_info": {
   "codemirror_mode": {
    "name": "ipython",
    "version": 3
   },
   "file_extension": ".py",
   "mimetype": "text/x-python",
   "name": "python",
   "nbconvert_exporter": "python",
   "pygments_lexer": "ipython3",
   "version": "3.10.13"
  }
 },
 "nbformat": 4,
 "nbformat_minor": 2
}
