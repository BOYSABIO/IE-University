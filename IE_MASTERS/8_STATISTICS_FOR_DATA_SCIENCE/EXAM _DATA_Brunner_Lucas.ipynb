{
 "cells": [
  {
   "cell_type": "code",
   "execution_count": 2,
   "metadata": {
    "executionInfo": {
     "elapsed": 7766,
     "status": "ok",
     "timestamp": 1730367323809,
     "user": {
      "displayName": "Lucas Brunner",
      "userId": "03171046167624790595"
     },
     "user_tz": -60
    },
    "id": "gB13z9qglNMa"
   },
   "outputs": [],
   "source": [
    "import numpy as np\n",
    "import pandas as pd\n",
    "import matplotlib.pyplot as plt\n",
    "import scipy.stats as st\n",
    "import math"
   ]
  },
  {
   "cell_type": "code",
   "execution_count": 3,
   "metadata": {
    "colab": {
     "base_uri": "https://localhost:8080/"
    },
    "executionInfo": {
     "elapsed": 691,
     "status": "ok",
     "timestamp": 1730370886113,
     "user": {
      "displayName": "Lucas Brunner",
      "userId": "03171046167624790595"
     },
     "user_tz": -60
    },
    "id": "yFt6VKuflGZC",
    "outputId": "902a8b15-02f0-4252-a7ec-33594d403d80"
   },
   "outputs": [
    {
     "name": "stdout",
     "output_type": "stream",
     "text": [
      "index          int64\n",
      "LOCATION      object\n",
      "INDICATOR     object\n",
      "SUBJECT       object\n",
      "TIME           int64\n",
      "Value        float64\n",
      "dtype: object\n",
      "   index LOCATION INDICATOR SUBJECT  TIME    Value\n",
      "0      0      AUS  PISAMATH     BOY  2003  527.000\n",
      "1      1      AUS  PISAMATH     BOY  2006  527.000\n",
      "2      2      AUS  PISAMATH     BOY  2009  519.000\n",
      "3      3      AUS  PISAMATH     BOY  2012  510.115\n",
      "4      4      AUS  PISAMATH     BOY  2015  497.000\n"
     ]
    },
    {
     "data": {
      "text/plain": [
       "array(['BOY', 'GIRL', 'TOT'], dtype=object)"
      ]
     },
     "execution_count": 3,
     "metadata": {},
     "output_type": "execute_result"
    }
   ],
   "source": [
    "path = 'https://raw.githubusercontent.com/prof-apartida/data-exercises/main/'\n",
    "df = pd.read_csv(path + 'OECD_PISA_data.csv')\n",
    "print(df.dtypes)\n",
    "print(df.head())\n",
    "\n",
    "df['SUBJECT'].unique()\n"
   ]
  },
  {
   "cell_type": "code",
   "execution_count": 28,
   "metadata": {},
   "outputs": [
    {
     "name": "stdout",
     "output_type": "stream",
     "text": [
      "    index LOCATION INDICATOR SUBJECT  TIME  Value\n",
      "5       5      AUS  PISAMATH     BOY  2018  494.0\n",
      "16     16      AUT  PISAMATH     BOY  2018  505.0\n",
      "27     27      BEL  PISAMATH     BOY  2018  514.0\n",
      "39     39      CAN  PISAMATH     BOY  2018  514.0\n",
      "51     51      CZE  PISAMATH     BOY  2018  501.0\n"
     ]
    },
    {
     "data": {
      "text/plain": [
       "count     42.000000\n",
       "mean     484.595238\n",
       "std       38.821078\n",
       "min      374.000000\n",
       "25%      482.750000\n",
       "50%      497.000000\n",
       "75%      507.250000\n",
       "max      532.000000\n",
       "Name: Value, dtype: float64"
      ]
     },
     "execution_count": 28,
     "metadata": {},
     "output_type": "execute_result"
    }
   ],
   "source": [
    "new_df = df[df['SUBJECT'] == 'BOY']\n",
    "new_df_girl = new_df[new_df['INDICATOR'] == 'PISAMATH']\n",
    "final = new_df_girl[new_df_girl['TIME'] == 2018]\n",
    "\n",
    "print(final.head())\n",
    "\n",
    "final['Value'].describe()\n"
   ]
  },
  {
   "cell_type": "code",
   "execution_count": 13,
   "metadata": {
    "colab": {
     "base_uri": "https://localhost:8080/",
     "height": 300
    },
    "executionInfo": {
     "elapsed": 5,
     "status": "ok",
     "timestamp": 1730317878740,
     "user": {
      "displayName": "Lucas Brunner",
      "userId": "03171046167624790595"
     },
     "user_tz": -60
    },
    "id": "-XXz5fIalpae",
    "outputId": "607ffb6d-d8ee-4c2c-ac5e-a2d0a86b22b9"
   },
   "outputs": [
    {
     "data": {
      "application/vnd.google.colaboratory.intrinsic+json": {
       "summary": "{\n  \"name\": \"df\",\n  \"rows\": 8,\n  \"fields\": [\n    {\n      \"column\": \"index\",\n      \"properties\": {\n        \"dtype\": \"number\",\n        \"std\": 751.9459914358819,\n        \"min\": 0.0,\n        \"max\": 2087.0,\n        \"num_unique_values\": 7,\n        \"samples\": [\n          2087.0,\n          1043.0,\n          1564.5\n        ],\n        \"semantic_type\": \"\",\n        \"description\": \"\"\n      }\n    },\n    {\n      \"column\": \"TIME\",\n      \"properties\": {\n        \"dtype\": \"number\",\n        \"std\": 713.2689104728845,\n        \"min\": 5.317974812419304,\n        \"max\": 2087.0,\n        \"num_unique_values\": 8,\n        \"samples\": [\n          2010.8140872065164,\n          2012.0,\n          2087.0\n        ],\n        \"semantic_type\": \"\",\n        \"description\": \"\"\n      }\n    },\n    {\n      \"column\": \"Value\",\n      \"properties\": {\n        \"dtype\": \"number\",\n        \"std\": 613.1400274765366,\n        \"min\": 38.64453194897785,\n        \"max\": 2087.0,\n        \"num_unique_values\": 8,\n        \"samples\": [\n          487.6446842357451,\n          495.0,\n          2087.0\n        ],\n        \"semantic_type\": \"\",\n        \"description\": \"\"\n      }\n    }\n  ]\n}",
       "type": "dataframe"
      },
      "text/html": [
       "\n",
       "  <div id=\"df-6a853374-6801-462f-b71c-cedaf90a9574\" class=\"colab-df-container\">\n",
       "    <div>\n",
       "<style scoped>\n",
       "    .dataframe tbody tr th:only-of-type {\n",
       "        vertical-align: middle;\n",
       "    }\n",
       "\n",
       "    .dataframe tbody tr th {\n",
       "        vertical-align: top;\n",
       "    }\n",
       "\n",
       "    .dataframe thead th {\n",
       "        text-align: right;\n",
       "    }\n",
       "</style>\n",
       "<table border=\"1\" class=\"dataframe\">\n",
       "  <thead>\n",
       "    <tr style=\"text-align: right;\">\n",
       "      <th></th>\n",
       "      <th>index</th>\n",
       "      <th>TIME</th>\n",
       "      <th>Value</th>\n",
       "    </tr>\n",
       "  </thead>\n",
       "  <tbody>\n",
       "    <tr>\n",
       "      <th>count</th>\n",
       "      <td>2087.000000</td>\n",
       "      <td>2087.000000</td>\n",
       "      <td>2087.000000</td>\n",
       "    </tr>\n",
       "    <tr>\n",
       "      <th>mean</th>\n",
       "      <td>1043.000000</td>\n",
       "      <td>2010.814087</td>\n",
       "      <td>487.644684</td>\n",
       "    </tr>\n",
       "    <tr>\n",
       "      <th>std</th>\n",
       "      <td>602.609326</td>\n",
       "      <td>5.317975</td>\n",
       "      <td>38.644532</td>\n",
       "    </tr>\n",
       "    <tr>\n",
       "      <th>min</th>\n",
       "      <td>0.000000</td>\n",
       "      <td>2000.000000</td>\n",
       "      <td>348.000000</td>\n",
       "    </tr>\n",
       "    <tr>\n",
       "      <th>25%</th>\n",
       "      <td>521.500000</td>\n",
       "      <td>2006.000000</td>\n",
       "      <td>475.000000</td>\n",
       "    </tr>\n",
       "    <tr>\n",
       "      <th>50%</th>\n",
       "      <td>1043.000000</td>\n",
       "      <td>2012.000000</td>\n",
       "      <td>495.000000</td>\n",
       "    </tr>\n",
       "    <tr>\n",
       "      <th>75%</th>\n",
       "      <td>1564.500000</td>\n",
       "      <td>2015.000000</td>\n",
       "      <td>512.000000</td>\n",
       "    </tr>\n",
       "    <tr>\n",
       "      <th>max</th>\n",
       "      <td>2086.000000</td>\n",
       "      <td>2018.000000</td>\n",
       "      <td>574.000000</td>\n",
       "    </tr>\n",
       "  </tbody>\n",
       "</table>\n",
       "</div>\n",
       "    <div class=\"colab-df-buttons\">\n",
       "\n",
       "  <div class=\"colab-df-container\">\n",
       "    <button class=\"colab-df-convert\" onclick=\"convertToInteractive('df-6a853374-6801-462f-b71c-cedaf90a9574')\"\n",
       "            title=\"Convert this dataframe to an interactive table.\"\n",
       "            style=\"display:none;\">\n",
       "\n",
       "  <svg xmlns=\"http://www.w3.org/2000/svg\" height=\"24px\" viewBox=\"0 -960 960 960\">\n",
       "    <path d=\"M120-120v-720h720v720H120Zm60-500h600v-160H180v160Zm220 220h160v-160H400v160Zm0 220h160v-160H400v160ZM180-400h160v-160H180v160Zm440 0h160v-160H620v160ZM180-180h160v-160H180v160Zm440 0h160v-160H620v160Z\"/>\n",
       "  </svg>\n",
       "    </button>\n",
       "\n",
       "  <style>\n",
       "    .colab-df-container {\n",
       "      display:flex;\n",
       "      gap: 12px;\n",
       "    }\n",
       "\n",
       "    .colab-df-convert {\n",
       "      background-color: #E8F0FE;\n",
       "      border: none;\n",
       "      border-radius: 50%;\n",
       "      cursor: pointer;\n",
       "      display: none;\n",
       "      fill: #1967D2;\n",
       "      height: 32px;\n",
       "      padding: 0 0 0 0;\n",
       "      width: 32px;\n",
       "    }\n",
       "\n",
       "    .colab-df-convert:hover {\n",
       "      background-color: #E2EBFA;\n",
       "      box-shadow: 0px 1px 2px rgba(60, 64, 67, 0.3), 0px 1px 3px 1px rgba(60, 64, 67, 0.15);\n",
       "      fill: #174EA6;\n",
       "    }\n",
       "\n",
       "    .colab-df-buttons div {\n",
       "      margin-bottom: 4px;\n",
       "    }\n",
       "\n",
       "    [theme=dark] .colab-df-convert {\n",
       "      background-color: #3B4455;\n",
       "      fill: #D2E3FC;\n",
       "    }\n",
       "\n",
       "    [theme=dark] .colab-df-convert:hover {\n",
       "      background-color: #434B5C;\n",
       "      box-shadow: 0px 1px 3px 1px rgba(0, 0, 0, 0.15);\n",
       "      filter: drop-shadow(0px 1px 2px rgba(0, 0, 0, 0.3));\n",
       "      fill: #FFFFFF;\n",
       "    }\n",
       "  </style>\n",
       "\n",
       "    <script>\n",
       "      const buttonEl =\n",
       "        document.querySelector('#df-6a853374-6801-462f-b71c-cedaf90a9574 button.colab-df-convert');\n",
       "      buttonEl.style.display =\n",
       "        google.colab.kernel.accessAllowed ? 'block' : 'none';\n",
       "\n",
       "      async function convertToInteractive(key) {\n",
       "        const element = document.querySelector('#df-6a853374-6801-462f-b71c-cedaf90a9574');\n",
       "        const dataTable =\n",
       "          await google.colab.kernel.invokeFunction('convertToInteractive',\n",
       "                                                    [key], {});\n",
       "        if (!dataTable) return;\n",
       "\n",
       "        const docLinkHtml = 'Like what you see? Visit the ' +\n",
       "          '<a target=\"_blank\" href=https://colab.research.google.com/notebooks/data_table.ipynb>data table notebook</a>'\n",
       "          + ' to learn more about interactive tables.';\n",
       "        element.innerHTML = '';\n",
       "        dataTable['output_type'] = 'display_data';\n",
       "        await google.colab.output.renderOutput(dataTable, element);\n",
       "        const docLink = document.createElement('div');\n",
       "        docLink.innerHTML = docLinkHtml;\n",
       "        element.appendChild(docLink);\n",
       "      }\n",
       "    </script>\n",
       "  </div>\n",
       "\n",
       "\n",
       "<div id=\"df-28dbdaab-7adf-4ca8-abeb-1b846d607bd7\">\n",
       "  <button class=\"colab-df-quickchart\" onclick=\"quickchart('df-28dbdaab-7adf-4ca8-abeb-1b846d607bd7')\"\n",
       "            title=\"Suggest charts\"\n",
       "            style=\"display:none;\">\n",
       "\n",
       "<svg xmlns=\"http://www.w3.org/2000/svg\" height=\"24px\"viewBox=\"0 0 24 24\"\n",
       "     width=\"24px\">\n",
       "    <g>\n",
       "        <path d=\"M19 3H5c-1.1 0-2 .9-2 2v14c0 1.1.9 2 2 2h14c1.1 0 2-.9 2-2V5c0-1.1-.9-2-2-2zM9 17H7v-7h2v7zm4 0h-2V7h2v10zm4 0h-2v-4h2v4z\"/>\n",
       "    </g>\n",
       "</svg>\n",
       "  </button>\n",
       "\n",
       "<style>\n",
       "  .colab-df-quickchart {\n",
       "      --bg-color: #E8F0FE;\n",
       "      --fill-color: #1967D2;\n",
       "      --hover-bg-color: #E2EBFA;\n",
       "      --hover-fill-color: #174EA6;\n",
       "      --disabled-fill-color: #AAA;\n",
       "      --disabled-bg-color: #DDD;\n",
       "  }\n",
       "\n",
       "  [theme=dark] .colab-df-quickchart {\n",
       "      --bg-color: #3B4455;\n",
       "      --fill-color: #D2E3FC;\n",
       "      --hover-bg-color: #434B5C;\n",
       "      --hover-fill-color: #FFFFFF;\n",
       "      --disabled-bg-color: #3B4455;\n",
       "      --disabled-fill-color: #666;\n",
       "  }\n",
       "\n",
       "  .colab-df-quickchart {\n",
       "    background-color: var(--bg-color);\n",
       "    border: none;\n",
       "    border-radius: 50%;\n",
       "    cursor: pointer;\n",
       "    display: none;\n",
       "    fill: var(--fill-color);\n",
       "    height: 32px;\n",
       "    padding: 0;\n",
       "    width: 32px;\n",
       "  }\n",
       "\n",
       "  .colab-df-quickchart:hover {\n",
       "    background-color: var(--hover-bg-color);\n",
       "    box-shadow: 0 1px 2px rgba(60, 64, 67, 0.3), 0 1px 3px 1px rgba(60, 64, 67, 0.15);\n",
       "    fill: var(--button-hover-fill-color);\n",
       "  }\n",
       "\n",
       "  .colab-df-quickchart-complete:disabled,\n",
       "  .colab-df-quickchart-complete:disabled:hover {\n",
       "    background-color: var(--disabled-bg-color);\n",
       "    fill: var(--disabled-fill-color);\n",
       "    box-shadow: none;\n",
       "  }\n",
       "\n",
       "  .colab-df-spinner {\n",
       "    border: 2px solid var(--fill-color);\n",
       "    border-color: transparent;\n",
       "    border-bottom-color: var(--fill-color);\n",
       "    animation:\n",
       "      spin 1s steps(1) infinite;\n",
       "  }\n",
       "\n",
       "  @keyframes spin {\n",
       "    0% {\n",
       "      border-color: transparent;\n",
       "      border-bottom-color: var(--fill-color);\n",
       "      border-left-color: var(--fill-color);\n",
       "    }\n",
       "    20% {\n",
       "      border-color: transparent;\n",
       "      border-left-color: var(--fill-color);\n",
       "      border-top-color: var(--fill-color);\n",
       "    }\n",
       "    30% {\n",
       "      border-color: transparent;\n",
       "      border-left-color: var(--fill-color);\n",
       "      border-top-color: var(--fill-color);\n",
       "      border-right-color: var(--fill-color);\n",
       "    }\n",
       "    40% {\n",
       "      border-color: transparent;\n",
       "      border-right-color: var(--fill-color);\n",
       "      border-top-color: var(--fill-color);\n",
       "    }\n",
       "    60% {\n",
       "      border-color: transparent;\n",
       "      border-right-color: var(--fill-color);\n",
       "    }\n",
       "    80% {\n",
       "      border-color: transparent;\n",
       "      border-right-color: var(--fill-color);\n",
       "      border-bottom-color: var(--fill-color);\n",
       "    }\n",
       "    90% {\n",
       "      border-color: transparent;\n",
       "      border-bottom-color: var(--fill-color);\n",
       "    }\n",
       "  }\n",
       "</style>\n",
       "\n",
       "  <script>\n",
       "    async function quickchart(key) {\n",
       "      const quickchartButtonEl =\n",
       "        document.querySelector('#' + key + ' button');\n",
       "      quickchartButtonEl.disabled = true;  // To prevent multiple clicks.\n",
       "      quickchartButtonEl.classList.add('colab-df-spinner');\n",
       "      try {\n",
       "        const charts = await google.colab.kernel.invokeFunction(\n",
       "            'suggestCharts', [key], {});\n",
       "      } catch (error) {\n",
       "        console.error('Error during call to suggestCharts:', error);\n",
       "      }\n",
       "      quickchartButtonEl.classList.remove('colab-df-spinner');\n",
       "      quickchartButtonEl.classList.add('colab-df-quickchart-complete');\n",
       "    }\n",
       "    (() => {\n",
       "      let quickchartButtonEl =\n",
       "        document.querySelector('#df-28dbdaab-7adf-4ca8-abeb-1b846d607bd7 button');\n",
       "      quickchartButtonEl.style.display =\n",
       "        google.colab.kernel.accessAllowed ? 'block' : 'none';\n",
       "    })();\n",
       "  </script>\n",
       "</div>\n",
       "\n",
       "    </div>\n",
       "  </div>\n"
      ],
      "text/plain": [
       "             index         TIME        Value\n",
       "count  2087.000000  2087.000000  2087.000000\n",
       "mean   1043.000000  2010.814087   487.644684\n",
       "std     602.609326     5.317975    38.644532\n",
       "min       0.000000  2000.000000   348.000000\n",
       "25%     521.500000  2006.000000   475.000000\n",
       "50%    1043.000000  2012.000000   495.000000\n",
       "75%    1564.500000  2015.000000   512.000000\n",
       "max    2086.000000  2018.000000   574.000000"
      ]
     },
     "execution_count": 13,
     "metadata": {},
     "output_type": "execute_result"
    }
   ],
   "source": [
    "df.describe()"
   ]
  },
  {
   "cell_type": "code",
   "execution_count": null,
   "metadata": {
    "id": "Y1OzoGgu-4Gk"
   },
   "outputs": [],
   "source": [
    "len(df)"
   ]
  },
  {
   "cell_type": "markdown",
   "metadata": {
    "id": "E75NfNHQIzcc"
   },
   "source": [
    "## Minimum Sample size for known population\n"
   ]
  },
  {
   "cell_type": "code",
   "execution_count": 6,
   "metadata": {
    "executionInfo": {
     "elapsed": 288,
     "status": "ok",
     "timestamp": 1730370889542,
     "user": {
      "displayName": "Lucas Brunner",
      "userId": "03171046167624790595"
     },
     "user_tz": -60
    },
    "id": "tZckD9Wml41N"
   },
   "outputs": [],
   "source": [
    "N = len(df) # Population size\n",
    "CL = 0.95 # Confidence level\n",
    "p = 0.5 # Standard Deviation. If unknown, leave it as 0.5\n",
    "e = 0.05 # Margin of error"
   ]
  },
  {
   "cell_type": "code",
   "execution_count": 7,
   "metadata": {
    "colab": {
     "base_uri": "https://localhost:8080/"
    },
    "executionInfo": {
     "elapsed": 264,
     "status": "ok",
     "timestamp": 1730370892139,
     "user": {
      "displayName": "Lucas Brunner",
      "userId": "03171046167624790595"
     },
     "user_tz": -60
    },
    "id": "BBdUMcxhnQ4X",
    "outputId": "83729384-f281-48f9-f156-3b3217e83208"
   },
   "outputs": [
    {
     "name": "stdout",
     "output_type": "stream",
     "text": [
      "alpha/2 = 0.025000000000000022\n",
      "Z score = 1.959963984540054\n"
     ]
    }
   ],
   "source": [
    "alpha_half = (1-CL)/2 # alpha is the complementary of the confidence level\n",
    "Z_score = st.norm.ppf(alpha_half+CL) # this is the equivalent to searching in the tables\n",
    "\n",
    "print('alpha/2 =',alpha_half)\n",
    "print('Z score =',Z_score)"
   ]
  },
  {
   "cell_type": "code",
   "execution_count": 8,
   "metadata": {
    "colab": {
     "base_uri": "https://localhost:8080/"
    },
    "executionInfo": {
     "elapsed": 268,
     "status": "ok",
     "timestamp": 1730370895314,
     "user": {
      "displayName": "Lucas Brunner",
      "userId": "03171046167624790595"
     },
     "user_tz": -60
    },
    "id": "NBXXqAASJC4F",
    "outputId": "3974f433-f2e2-4fcb-b6ec-a9609cddae7b"
   },
   "outputs": [
    {
     "name": "stdout",
     "output_type": "stream",
     "text": [
      "Sample size for a population of 2087 elements = 324.4294323925083\n"
     ]
    }
   ],
   "source": [
    "n = ((Z_score**2)*p*(1-p))/e**2 # Sample size for an unlimited population (remember, the small n)\n",
    "sample_size = n/(1+(((Z_score**2)*p*(1-p))/((e**2)*N))) # Sample size for a limited population\n",
    "\n",
    "print('Sample size for a population of',N,'elements =',sample_size)"
   ]
  },
  {
   "cell_type": "markdown",
   "metadata": {
    "id": "W7WmLTWIJOX1"
   },
   "source": [
    "## Unknown Population Sample size"
   ]
  },
  {
   "cell_type": "code",
   "execution_count": 9,
   "metadata": {
    "colab": {
     "base_uri": "https://localhost:8080/"
    },
    "executionInfo": {
     "elapsed": 264,
     "status": "ok",
     "timestamp": 1730370939856,
     "user": {
      "displayName": "Lucas Brunner",
      "userId": "03171046167624790595"
     },
     "user_tz": -60
    },
    "id": "0lkoThSaJN1J",
    "outputId": "8861a468-ba22-4c53-fdc8-8941cf73aeeb"
   },
   "outputs": [
    {
     "name": "stdout",
     "output_type": "stream",
     "text": [
      "alpha/2 = 0.025000000000000022\n",
      "Z score = 1.959963984540054\n",
      "RESULT: \n",
      "Sample size for an unknown population size = 384.14588206941244\n"
     ]
    }
   ],
   "source": [
    "# Define the variables and their values\n",
    "CL = 0.95 # Confidence level\n",
    "p = 0.5 # Standard Deviation\n",
    "e = 0.05 # Margin of error\n",
    "\n",
    "# Calculate the Z-score for a confidence level (CL) of 95%\n",
    "alpha_half = (1-CL)/2\n",
    "Z_score = st.norm.ppf(alpha_half+CL)\n",
    "\n",
    "print('alpha/2 =',alpha_half)\n",
    "print('Z score =',Z_score)\n",
    "\n",
    "n = ((Z_score**2)*p*(1-p))/e**2 # Sample size for an unlimited population\n",
    "print('RESULT: \\nSample size for an unknown population size =',n)"
   ]
  },
  {
   "cell_type": "code",
   "execution_count": null,
   "metadata": {
    "id": "H5iKAdCPJKlX"
   },
   "outputs": [],
   "source": []
  }
 ],
 "metadata": {
  "colab": {
   "authorship_tag": "ABX9TyPVKdRfOmTh8yatBaOGYVmf",
   "provenance": []
  },
  "kernelspec": {
   "display_name": "Python 3",
   "name": "python3"
  },
  "language_info": {
   "codemirror_mode": {
    "name": "ipython",
    "version": 3
   },
   "file_extension": ".py",
   "mimetype": "text/x-python",
   "name": "python",
   "nbconvert_exporter": "python",
   "pygments_lexer": "ipython3",
   "version": "3.8.2"
  }
 },
 "nbformat": 4,
 "nbformat_minor": 0
}
