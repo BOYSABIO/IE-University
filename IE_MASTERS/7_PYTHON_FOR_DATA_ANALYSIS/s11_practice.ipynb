{
 "cells": [
  {
   "cell_type": "markdown",
   "metadata": {},
   "source": [
    "# Session 11: Practice\n",
    "\n",
    "In this practice we are going to work using my spotify data. I have downloaded my data from spotify and I have a file called `history.json` that contains all the songs I have listened to in the last year.\n",
    "\n",
    "The first thing we are going to do is to load the data and take a look at it.\n",
    "\n",
    "Since the data is a JSON file, we are going to use the `json` library to load it.\n",
    "\n",
    "```python\n",
    "import json\n",
    "\n",
    "with open('history.json') as f:\n",
    "    spotify = json.load(f)\n",
    "```\n",
    "\n",
    "This will load the data into the variable `data`. The data is a list of dictionaries, where each dictionary represents a song I have listened to."
   ]
  },
  {
   "cell_type": "code",
   "execution_count": 4,
   "metadata": {},
   "outputs": [
    {
     "data": {
      "text/plain": [
       "[{'endTime': '2023-11-14 08:13',\n",
       "  'artistName': 'Eminem',\n",
       "  'trackName': 'Stan',\n",
       "  'msPlayed': 11093},\n",
       " {'endTime': '2023-11-14 08:13',\n",
       "  'artistName': 'The Sugarcubes',\n",
       "  'trackName': 'Birthday',\n",
       "  'msPlayed': 128615}]"
      ]
     },
     "execution_count": 4,
     "metadata": {},
     "output_type": "execute_result"
    }
   ],
   "source": [
    "import json\n",
    "\n",
    "with open('history.json') as f:\n",
    "    spotify = json.load(f)\n",
    "\n",
    "spotify[:2]"
   ]
  },
  {
   "cell_type": "markdown",
   "metadata": {},
   "source": [
    "## Exercise 1\n",
    "\n",
    "Take a look at the data. How many songs have I listened to in the last year?"
   ]
  },
  {
   "cell_type": "code",
   "execution_count": 3,
   "metadata": {},
   "outputs": [
    {
     "data": {
      "text/plain": [
       "14044"
      ]
     },
     "execution_count": 3,
     "metadata": {},
     "output_type": "execute_result"
    }
   ],
   "source": [
    "len(spotify)"
   ]
  },
  {
   "cell_type": "markdown",
   "metadata": {},
   "source": [
    "## Exercise 2\n",
    "\n",
    "What is the average reproduction time of the songs I have listened to?"
   ]
  },
  {
   "cell_type": "code",
   "execution_count": 5,
   "metadata": {},
   "outputs": [
    {
     "name": "stdout",
     "output_type": "stream",
     "text": [
      "2.476529684088104\n"
     ]
    }
   ],
   "source": [
    "len_time = 0\n",
    "\n",
    "for dictionary in spotify:\n",
    "    time = dictionary['msPlayed']\n",
    "    len_time += time\n",
    "\n",
    "avg_time = len_time / len(spotify) / 60 / 1000\n",
    "print(avg_time)"
   ]
  },
  {
   "cell_type": "code",
   "execution_count": 8,
   "metadata": {},
   "outputs": [
    {
     "name": "stdout",
     "output_type": "stream",
     "text": [
      "2.476529684088104\n"
     ]
    }
   ],
   "source": [
    "from functools import reduce\n",
    "\n",
    "print(reduce(lambda x, y: x + y, [dictionary['msPlayed'] for dictionary in spotify]) / len(spotify) / 60 / 1000)"
   ]
  },
  {
   "cell_type": "markdown",
   "metadata": {},
   "source": [
    "## Exercise 3\n",
    "\n",
    "Create a function that receives the `spotify` data and return the artist I've listened to the most times.\n",
    "\n",
    "Also, create another function but for the song I've listened to the most times."
   ]
  },
  {
   "cell_type": "code",
   "execution_count": null,
   "metadata": {},
   "outputs": [],
   "source": []
  },
  {
   "cell_type": "markdown",
   "metadata": {},
   "source": [
    "## Exercise 4\n",
    "\n",
    "Create a function that receives the `spotify` data and returns the total reproduction time, in hours, of the songs I have listened to."
   ]
  },
  {
   "cell_type": "code",
   "execution_count": null,
   "metadata": {},
   "outputs": [],
   "source": []
  },
  {
   "cell_type": "markdown",
   "metadata": {},
   "source": [
    "## Exercise 5\n",
    "\n",
    "Regarding reproduction time, is my most listened artist the one with the most reproduction time?\n",
    "\n",
    "What about the song?"
   ]
  },
  {
   "cell_type": "code",
   "execution_count": null,
   "metadata": {},
   "outputs": [],
   "source": [
    "\n"
   ]
  },
  {
   "cell_type": "markdown",
   "metadata": {},
   "source": [
    "## Exercise 6\n",
    "\n",
    "Using the `datetime` library, create new fields in each of the dictionaries in the `spotify` data that represent the following:\n",
    "\n",
    "* `date`: the date when the song was listened to.\n",
    "* `time`: the time when the song was listened to.\n",
    "* `day_of_week`: the day of the week when the song was listened to.\n",
    "* `hour`: the hour when the song was listened to.\n",
    "* `month`: the month when the song was listened to."
   ]
  },
  {
   "cell_type": "code",
   "execution_count": 2,
   "metadata": {},
   "outputs": [
    {
     "name": "stdout",
     "output_type": "stream",
     "text": [
      "2023-11-14\n",
      "08:13:00\n",
      "1\n",
      "8\n",
      "11\n"
     ]
    }
   ],
   "source": [
    "from datetime import datetime\n",
    "\n",
    "str_datetime = '2023-11-14 08:13'\n",
    "dt = datetime.strptime(str_datetime, '%Y-%m-%d %H:%M')\n",
    "\n",
    "date = dt.date()\n",
    "time = dt.time()\n",
    "day_of_week = dt.weekday()\n",
    "hour = dt.hour\n",
    "month = dt.month\n",
    "\n",
    "print(date)\n",
    "print(time)\n",
    "print(day_of_week)\n",
    "print(hour)\n",
    "print(month)\n"
   ]
  },
  {
   "cell_type": "markdown",
   "metadata": {},
   "source": [
    "## Exercise 7\n",
    "\n",
    "Create a function that receives the `spotify` data and returns a dictionary containing the day of the week as key, and the average reproduction time of the songs listened to on that day as value."
   ]
  },
  {
   "cell_type": "code",
   "execution_count": null,
   "metadata": {},
   "outputs": [],
   "source": []
  },
  {
   "cell_type": "markdown",
   "metadata": {},
   "source": [
    "## Exercise 8\n",
    "\n",
    "Create a function that receives the `spotify` data and returns a dictionary containing the month as key, and the average reproduction time of the songs listened to on that month as value."
   ]
  },
  {
   "cell_type": "code",
   "execution_count": null,
   "metadata": {},
   "outputs": [],
   "source": []
  },
  {
   "cell_type": "markdown",
   "metadata": {},
   "source": [
    "## Exercise 9\n",
    "\n",
    "What is the artist with the longest song I've listened to?\n",
    "\n",
    "What is the song with the longest reproduction time?"
   ]
  },
  {
   "cell_type": "code",
   "execution_count": null,
   "metadata": {},
   "outputs": [],
   "source": []
  },
  {
   "cell_type": "markdown",
   "metadata": {},
   "source": [
    "## Exercise 10\n",
    "\n",
    "Create a function that returns all the songs I've listened to for less than 5 seconds."
   ]
  },
  {
   "cell_type": "code",
   "execution_count": null,
   "metadata": {},
   "outputs": [],
   "source": []
  },
  {
   "cell_type": "markdown",
   "metadata": {},
   "source": [
    "## Exercise 11\n",
    "\n",
    "What's the hour of the day when I listen to music the most?"
   ]
  },
  {
   "cell_type": "code",
   "execution_count": null,
   "metadata": {},
   "outputs": [],
   "source": []
  },
  {
   "cell_type": "markdown",
   "metadata": {},
   "source": [
    "## Exercise 12\n",
    "\n",
    "Create two functions:\n",
    "\n",
    "- `dates_played_artist`: receives an artist's name and returns a list with all the dates in which I've listened to that artist.\n",
    "- `span_artist`: receives an artist's name and returns the span of time between the first and the last time I've listened to that artist, using `dates_played_artist`.\n",
    "\n",
    "Create a dictionary with the artist's name as key and the span of time as value, in days."
   ]
  },
  {
   "cell_type": "code",
   "execution_count": null,
   "metadata": {},
   "outputs": [],
   "source": []
  },
  {
   "cell_type": "code",
   "execution_count": null,
   "metadata": {},
   "outputs": [],
   "source": []
  },
  {
   "cell_type": "markdown",
   "metadata": {},
   "source": [
    "## Exercise 13\n",
    "\n",
    "For each artist, what's the ratio of songs that I've listened to for more that 10 s to the total number of songs I've listened to from that artist?\n",
    "\n",
    "For example, if I've listened to 10 songs from artist A, and 3 of them have been listened to for more than 10 s, the ratio is 0.3."
   ]
  },
  {
   "cell_type": "code",
   "execution_count": null,
   "metadata": {},
   "outputs": [],
   "source": []
  }
 ],
 "metadata": {
  "kernelspec": {
   "display_name": "Python 3",
   "language": "python",
   "name": "python3"
  },
  "language_info": {
   "codemirror_mode": {
    "name": "ipython",
    "version": 3
   },
   "file_extension": ".py",
   "mimetype": "text/x-python",
   "name": "python",
   "nbconvert_exporter": "python",
   "pygments_lexer": "ipython3",
   "version": "3.8.2"
  }
 },
 "nbformat": 4,
 "nbformat_minor": 2
}
