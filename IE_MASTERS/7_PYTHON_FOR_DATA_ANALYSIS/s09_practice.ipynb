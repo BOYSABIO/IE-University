{
 "cells": [
  {
   "cell_type": "markdown",
   "metadata": {},
   "source": [
    "# Session 09: Practice \n",
    "\n",
    "We are going to use the following dataset to practice the concepts learned about conditionals and loops.\n",
    "\n",
    "```python\n",
    "students = [\n",
    "    {\"Name\": \"Youssef\", \"Last Name\": \"Hakim\", \"2nd Last Name\": \"Abdel Nasser\", \"Email\": \"youssef.abdelnasser@student.ie.edu\", \"Nationality\": \"Egyptian\", \"Nationality\": \"French\"},\n",
    "    {\"Name\": \"Emin\", \"Last Name\": \"Abrahamian\", \"2nd Last Name\": \"\", \"Email\": \"emin.abrahamian@student.ie.edu\", \"Nationality\": \"American\"},\n",
    "    {\"Name\": \"Luca\", \"Last Name\": \"Adjei\", \"2nd Last Name\": \"\", \"Email\": \"lucaadjei@student.ie.edu\", \"Nationality\": \"German\"},\n",
    "    {\"Name\": \"Abdulrahman\", \"Last Name\": \"Alabdulkarim\", \"2nd Last Name\": \"\", \"Email\": \"abdulrahman_ak@student.ie.edu\", \"Nationality\": \"Saudi Arabian\"},\n",
    "    {\"Name\": \"Dhabia Saad\", \"Last Name\": \"Albuainain\", \"2nd Last Name\": \"\", \"Email\": \"idoe4@student.ie.edu\", \"Nationality\": \"Saudi Arabian\"},\n",
    "    {\"Name\": \"Abdullah\", \"Last Name\": \"Alshaarawi\", \"2nd Last Name\": \"\", \"Email\": \"abdallash@student.ie.edu\", \"Nationality\": \"Saudi Arabian\"},\n",
    "    {\"Name\": \"Chapel\", \"Last Name\": \"Anastasia Margaux Henriette\", \"2nd Last Name\": \"\", \"Email\": \"anastasia.chapel@student.ie.edu\", \"Nationality\": \"Swiss\"},\n",
    "    {\"Name\": \"Waldo\", \"Last Name\": \"Barreto\", \"2nd Last Name\": \"Tascon\", \"Email\": \"waldobarreto@student.ie.edu\", \"Nationality\": \"Spanish\"},\n",
    "    {\"Name\": \"Nicole Marie\", \"Last Name\": \"Batinovich\", \"2nd Last Name\": \"Carrizo\", \"Email\": \"nbatinovich@student.ie.edu\", \"Nationality\": \"Panamanian\"},\n",
    "    {\"Name\": \"Manuel Eduardo\", \"Last Name\": \"Bonnelly\", \"2nd Last Name\": \"Sanchez\", \"Email\": \"manuelbonnelly@student.ie.edu\", \"Nationality\": \"Dominican\"},\n",
    "    {\"Name\": \"Lucas\", \"Last Name\": \"Brunner\", \"2nd Last Name\": \"\", \"Email\": \"lucas.brunner@student.ie.edu\", \"Nationality\": \"Swiss\"},\n",
    "    {\"Name\": \"Blanca\", \"Last Name\": \"Burgaleta\", \"2nd Last Name\": \"García\", \"Email\": \"bburgaleta@student.ie.edu\", \"Nationality\": \"Spanish\"},\n",
    "    {\"Name\": \"Pablo\", \"Last Name\": \"Camacho\", \"2nd Last Name\": \"\", \"Email\": \"pablo.camacho@student.ie.edu\", \"Nationality\": \"Colombian\"},\n",
    "    {\"Name\": \"Isaac\", \"Last Name\": \"Chaljub\", \"2nd Last Name\": \"Restrepo\", \"Email\": \"isaac.chaljub@student.ie.edu\", \"Nationality\": \"Colombian\"},\n",
    "    {\"Name\": \"Silvana Maria\", \"Last Name\": \"Cortes\", \"2nd Last Name\": \"Scholtz\", \"Email\": \"silvanacortes@student.ie.edu\", \"Nationality\": \"Spanish\"},\n",
    "    {\"Name\": \"Ana\", \"Last Name\": \"Cortés\", \"2nd Last Name\": \"Barquier\", \"Email\": \"ana.cortes@student.ie.edu\", \"Nationality\": \"Spanish\"},\n",
    "    {\"Name\": \"Isabella\", \"Last Name\": \"Dao\", \"2nd Last Name\": \"Boschetti\", \"Email\": \"isabella.dao@student.ie.edu\", \"Nationality\": \"Venezuelan\"},\n",
    "    {\"Name\": \"Juan\", \"Last Name\": \"Echeverri\", \"2nd Last Name\": \"\", \"Email\": \"juanecheverri@student.ie.edu\", \"Nationality\": \"Colombian\"},\n",
    "    {\"Name\": \"Hiromitsu\", \"Last Name\": \"Fujiyama\", \"2nd Last Name\": \"\", \"Email\": \"hiromitsu.fujiyama@student.ie.edu\", \"Nationality\": \"Japanese\"},\n",
    "    {\"Name\": \"Catalina\", \"Last Name\": \"Gaitán\", \"2nd Last Name\": \"Marin\", \"Email\": \"catalina.gaitan@student.ie.edu\", \"Nationality\": \"Colombian\"},\n",
    "    {\"Name\": \"Pablo Eduardo\", \"Last Name\": \"Gallegos\", \"2nd Last Name\": \"Sánchez\", \"Email\": \"pablogallegos@student.ie.edu\", \"Nationality\": \"Chilean\"},\n",
    "    {\"Name\": \"Felix\", \"Last Name\": \"Goossens\", \"2nd Last Name\": \"\", \"Email\": \"goossens.felix@student.ie.edu\", \"Nationality\": \"Belgian\"},\n",
    "    {\"Name\": \"Maine\", \"Last Name\": \"Isasi\", \"2nd Last Name\": \"Escajadillo\", \"Email\": \"maine.isasi@student.ie.edu\", \"Nationality\": \"Spanish\"},\n",
    "    {\"Name\": \"Sam\", \"Last Name\": \"Jones\", \"2nd Last Name\": \"\", \"Email\": \"sam.jones@student.ie.edu\", \"Nationality\": \"Irish\"},\n",
    "    {\"Name\": \"Yousef MohammadNoor\", \"Last Name\": \"Joukhdar\", \"2nd Last Name\": \"\", \"Email\": \"yousef.joukhdar@student.ie.edu\", \"Nationality\": \"Saudi Arabian\"},\n",
    "    {\"Name\": \"Sanjo\", \"Last Name\": \"Joy\", \"2nd Last Name\": \"\", \"Email\": \"sanjojoy@student.ie.edu\", \"Nationality\": \"Indian\"},\n",
    "    {\"Name\": \"Christyana\", \"Last Name\": \"Kane\", \"2nd Last Name\": \"\", \"Email\": \"christyana.kane@student.ie.edu\", \"Nationality\": \"American\"},\n",
    "    {\"Name\": \"Adam\", \"Last Name\": \"Kassab\", \"2nd Last Name\": \"\", \"Email\": \"kassab.adam@student.ie.edu\", \"Nationality\": \"Palestinian\"},\n",
    "    {\"Name\": \"Maureen Wambui\", \"Last Name\": \"Kibetu\", \"2nd Last Name\": \"\", \"Email\": \"maureen.kibetu@student.ie.edu\", \"Nationality\": \"Kenyan\"},\n",
    "    {\"Name\": \"Louis-Esmel\", \"Last Name\": \"Kodo\", \"2nd Last Name\": \"\", \"Email\": \"louis-esmel.kodo@student.ie.edu\", \"Nationality\": \"French\"},\n",
    "    {\"Name\": \"Robert\", \"Last Name\": \"Koegel\", \"2nd Last Name\": \"\", \"Email\": \"robert.koegel@student.ie.edu\", \"Nationality\": \"Luxembourger\"},\n",
    "    {\"Name\": \"Sergio\", \"Last Name\": \"Lebed\", \"2nd Last Name\": \"Wright\", \"Email\": \"sergiolebed@student.ie.edu\", \"Nationality\": \"Ecuadorian\"},\n",
    "    {\"Name\": \"Diego\", \"Last Name\": \"López\", \"2nd Last Name\": \"Pizarro\", \"Email\": \"diego.lopez13@student.ie.edu\", \"Nationality\": \"Spanish\"},\n",
    "    {\"Name\": \"Tomás\", \"Last Name\": \"Luz\", \"2nd Last Name\": \"\", \"Email\": \"tomas.luz@student.ie.edu\", \"Nationality\": \"Portuguese\"},\n",
    "    {\"Name\": \"Eduardo Andrés\", \"Last Name\": \"Martinez-Acha\", \"2nd Last Name\": \"Paris\", \"Email\": \"emacha@student.ie.edu\", \"Nationality\": \"Spanish\"},\n",
    "    {\"Name\": \"Joaquin\", \"Last Name\": \"Mino\", \"2nd Last Name\": \"Perez\", \"Email\": \"joaquin.mino@student.ie.edu\", \"Nationality\": \"Ecuadorian\"},\n",
    "    {\"Name\": \"Paul\", \"Last Name\": \"Morcos\", \"2nd Last Name\": \"Douaihy\", \"Email\": \"paul.morcos@student.ie.edu\", \"Nationality\": \"Lebanese\"},\n",
    "    {\"Name\": \"Vibhushan Balaji\", \"Last Name\": \"Neethi Mohan\", \"2nd Last Name\": \"\", \"Email\": \"vibhu_balaji@student.ie.edu\", \"Nationality\": \"Indian\"},\n",
    "    {\"Name\": \"Alejandro\", \"Last Name\": \"Osto\", \"2nd Last Name\": \"Sánchez-Haro\", \"Email\": \"alejandro.osto@student.ie.edu\", \"Nationality\": \"Spanish\"},\n",
    "    {\"Name\": \"Margarida\", \"Last Name\": \"Pereira\", \"2nd Last Name\": \"\", \"Email\": \"margaridabvp@student.ie.edu\", \"Nationality\": \"Portuguese\"},\n",
    "    {\"Name\": \"Marta\", \"Last Name\": \"Pérez\", \"2nd Last Name\": \"Fernández\", \"Email\": \"marta.perez.01@student.ie.edu\", \"Nationality\": \"Spanish\"},\n",
    "    {\"Name\": \"Alejandro Felipe\", \"Last Name\": \"Pérez\", \"2nd Last Name\": \"Vargas\", \"Email\": \"perez.alejandro@student.ie.edu\", \"Nationality\": \"Costarican\"},\n",
    "    {\"Name\": \"Miguel\", \"Last Name\": \"Rodríguez\", \"2nd Last Name\": \"Cadena\", \"Email\": \"miguel.rodriguez.c@student.ie.edu\", \"Nationality\": \"Ecuadorian\"},\n",
    "    {\"Name\": \"Jorge Hiroshi\", \"Last Name\": \"Roman\", \"2nd Last Name\": \"Yseki\", \"Email\": \"hiroshi.roman@alumni.ie.edu\", \"Nationality\": \"Peruvian\"},\n",
    "    {\"Name\": \"Ignacio\", \"Last Name\": \"Salceda\", \"2nd Last Name\": \"Rodríguez\", \"Email\": \"ignacio.salceda@student.ie.edu\", \"Nationality\": \"Spanish\"},\n",
    "    {\"Name\": \"Yeabsira\", \"Last Name\": \"Seleshi\", \"2nd Last Name\": \"\", \"Email\": \"yeabsiraseleshi@student.ie.edu\", \"Nationality\": \"Ethiopian\"},\n",
    "    {\"Name\": \"Ayush\", \"Last Name\": \"Singh\", \"2nd Last Name\": \"\", \"Email\": \"ayushsingh16@student.ie.edu\", \"Nationality\": \"Indian\"},\n",
    "    {\"Name\": \"Adrian\", \"Last Name\": \"Soto\", \"2nd Last Name\": \"Mora\", \"Email\": \"adrian.soto@student.ie.edu\", \"Nationality\": \"Costarican\"},\n",
    "    {\"Name\": \"Enrico Miguel\", \"Last Name\": \"Cordero\", \"2nd Last Name\": \"Tajanlangit\", \"Email\": \"enricotajanlangit@student.ie.edu\", \"Nationality\": \"Philippine\"},\n",
    "    {\"Name\": \"Chevin\", \"Last Name\": \"Slavtchov\", \"2nd Last Name\": \"Tochkov\", \"Email\": \"chevin.tochkov@student.ie.edu\", \"Nationality\": \"Bulgarian\"},\n",
    "    {\"Name\": \"Clara\", \"Last Name\": \"Sobejano\", \"2nd Last Name\": \"Figuerola\", \"Email\": \"clara.sobejano@student.ie.edu\", \"Nationality\": \"Spanish\"},\n",
    "    {\"Name\": \"Ricardo\", \"Last Name\": \"Urech\", \"2nd Last Name\": \"García De La Vega\", \"Email\": \"ricardourech@student.ie.edu\", \"Nationality\": \"Spanish\"},\n",
    "    {\"Name\": \"Vandad\", \"Last Name\": \"Vafai\", \"2nd Last Name\": \"Tabrizi\", \"Email\": \"vandad.vafai@student.ie.edu\", \"Nationality\": \"Canadian\"},\n",
    "    {\"Name\": \"Tomas\", \"Last Name\": \"Valbuena\", \"2nd Last Name\": \"Sierra\", \"Email\": \"tvalbuen96@student.ie.edu\", \"Nationality\": \"Colombian\"},\n",
    "    {\"Name\": \"Spencer\", \"Last Name\": \"Sveda\", \"2nd Last Name\": \"Wood\", \"Email\": \"spencer.wood@student.ie.edu\", \"Nationality\": \"American\"}\n",
    "]\n",
    "```"
   ]
  },
  {
   "cell_type": "code",
   "execution_count": 1,
   "metadata": {},
   "outputs": [],
   "source": [
    "students = [\n",
    "    {\"Name\": \"Youssef\", \"Last Name\": \"Hakim\", \"2nd Last Name\": \"Abdel Nasser\", \"Email\": \"youssef.abdelnasser@student.ie.edu\", \"Nationality\": \"Egyptian\", \"Nationality\": \"French\"},\n",
    "    {\"Name\": \"Emin\", \"Last Name\": \"Abrahamian\", \"2nd Last Name\": \"\", \"Email\": \"emin.abrahamian@student.ie.edu\", \"Nationality\": \"American\"},\n",
    "    {\"Name\": \"Luca\", \"Last Name\": \"Adjei\", \"2nd Last Name\": \"\", \"Email\": \"lucaadjei@student.ie.edu\", \"Nationality\": \"German\"},\n",
    "    {\"Name\": \"Abdulrahman\", \"Last Name\": \"Alabdulkarim\", \"2nd Last Name\": \"\", \"Email\": \"abdulrahman_ak@student.ie.edu\", \"Nationality\": \"Saudi Arabian\"},\n",
    "    {\"Name\": \"Dhabia Saad\", \"Last Name\": \"Albuainain\", \"2nd Last Name\": \"\", \"Email\": \"idoe4@student.ie.edu\", \"Nationality\": \"Saudi Arabian\"},\n",
    "    {\"Name\": \"Abdullah\", \"Last Name\": \"Alshaarawi\", \"2nd Last Name\": \"\", \"Email\": \"abdallash@student.ie.edu\", \"Nationality\": \"Saudi Arabian\"},\n",
    "    {\"Name\": \"Chapel\", \"Last Name\": \"Anastasia Margaux Henriette\", \"2nd Last Name\": \"\", \"Email\": \"anastasia.chapel@student.ie.edu\", \"Nationality\": \"Swiss\"},\n",
    "    {\"Name\": \"Waldo\", \"Last Name\": \"Barreto\", \"2nd Last Name\": \"Tascon\", \"Email\": \"waldobarreto@student.ie.edu\", \"Nationality\": \"Spanish\"},\n",
    "    {\"Name\": \"Nicole Marie\", \"Last Name\": \"Batinovich\", \"2nd Last Name\": \"Carrizo\", \"Email\": \"nbatinovich@student.ie.edu\", \"Nationality\": \"Panamanian\"},\n",
    "    {\"Name\": \"Manuel Eduardo\", \"Last Name\": \"Bonnelly\", \"2nd Last Name\": \"Sanchez\", \"Email\": \"manuelbonnelly@student.ie.edu\", \"Nationality\": \"Dominican\"},\n",
    "    {\"Name\": \"Lucas\", \"Last Name\": \"Brunner\", \"2nd Last Name\": \"\", \"Email\": \"lucas.brunner@student.ie.edu\", \"Nationality\": \"Swiss\"},\n",
    "    {\"Name\": \"Blanca\", \"Last Name\": \"Burgaleta\", \"2nd Last Name\": \"García\", \"Email\": \"bburgaleta@student.ie.edu\", \"Nationality\": \"Spanish\"},\n",
    "    {\"Name\": \"Pablo\", \"Last Name\": \"Camacho\", \"2nd Last Name\": \"\", \"Email\": \"pablo.camacho@student.ie.edu\", \"Nationality\": \"Colombian\"},\n",
    "    {\"Name\": \"Isaac\", \"Last Name\": \"Chaljub\", \"2nd Last Name\": \"Restrepo\", \"Email\": \"isaac.chaljub@student.ie.edu\", \"Nationality\": \"Colombian\"},\n",
    "    {\"Name\": \"Silvana Maria\", \"Last Name\": \"Cortes\", \"2nd Last Name\": \"Scholtz\", \"Email\": \"silvanacortes@student.ie.edu\", \"Nationality\": \"Spanish\"},\n",
    "    {\"Name\": \"Ana\", \"Last Name\": \"Cortés\", \"2nd Last Name\": \"Barquier\", \"Email\": \"ana.cortes@student.ie.edu\", \"Nationality\": \"Spanish\"},\n",
    "    {\"Name\": \"Isabella\", \"Last Name\": \"Dao\", \"2nd Last Name\": \"Boschetti\", \"Email\": \"isabella.dao@student.ie.edu\", \"Nationality\": \"Venezuelan\"},\n",
    "    {\"Name\": \"Juan\", \"Last Name\": \"Echeverri\", \"2nd Last Name\": \"\", \"Email\": \"juanecheverri@student.ie.edu\", \"Nationality\": \"Colombian\"},\n",
    "    {\"Name\": \"Hiromitsu\", \"Last Name\": \"Fujiyama\", \"2nd Last Name\": \"\", \"Email\": \"hiromitsu.fujiyama@student.ie.edu\", \"Nationality\": \"Japanese\"},\n",
    "    {\"Name\": \"Catalina\", \"Last Name\": \"Gaitán\", \"2nd Last Name\": \"Marin\", \"Email\": \"catalina.gaitan@student.ie.edu\", \"Nationality\": \"Colombian\"},\n",
    "    {\"Name\": \"Pablo Eduardo\", \"Last Name\": \"Gallegos\", \"2nd Last Name\": \"Sánchez\", \"Email\": \"pablogallegos@student.ie.edu\", \"Nationality\": \"Chilean\"},\n",
    "    {\"Name\": \"Felix\", \"Last Name\": \"Goossens\", \"2nd Last Name\": \"\", \"Email\": \"goossens.felix@student.ie.edu\", \"Nationality\": \"Belgian\"},\n",
    "    {\"Name\": \"Maine\", \"Last Name\": \"Isasi\", \"2nd Last Name\": \"Escajadillo\", \"Email\": \"maine.isasi@student.ie.edu\", \"Nationality\": \"Spanish\"},\n",
    "    {\"Name\": \"Sam\", \"Last Name\": \"Jones\", \"2nd Last Name\": \"\", \"Email\": \"sam.jones@student.ie.edu\", \"Nationality\": \"Irish\"},\n",
    "    {\"Name\": \"Yousef MohammadNoor\", \"Last Name\": \"Joukhdar\", \"2nd Last Name\": \"\", \"Email\": \"yousef.joukhdar@student.ie.edu\", \"Nationality\": \"Saudi Arabian\"},\n",
    "    {\"Name\": \"Sanjo\", \"Last Name\": \"Joy\", \"2nd Last Name\": \"\", \"Email\": \"sanjojoy@student.ie.edu\", \"Nationality\": \"Indian\"},\n",
    "    {\"Name\": \"Christyana\", \"Last Name\": \"Kane\", \"2nd Last Name\": \"\", \"Email\": \"christyana.kane@student.ie.edu\", \"Nationality\": \"American\"},\n",
    "    {\"Name\": \"Adam\", \"Last Name\": \"Kassab\", \"2nd Last Name\": \"\", \"Email\": \"kassab.adam@student.ie.edu\", \"Nationality\": \"Palestinian\"},\n",
    "    {\"Name\": \"Maureen Wambui\", \"Last Name\": \"Kibetu\", \"2nd Last Name\": \"\", \"Email\": \"maureen.kibetu@student.ie.edu\", \"Nationality\": \"Kenyan\"},\n",
    "    {\"Name\": \"Louis-Esmel\", \"Last Name\": \"Kodo\", \"2nd Last Name\": \"\", \"Email\": \"louis-esmel.kodo@student.ie.edu\", \"Nationality\": \"French\"},\n",
    "    {\"Name\": \"Robert\", \"Last Name\": \"Koegel\", \"2nd Last Name\": \"\", \"Email\": \"robert.koegel@student.ie.edu\", \"Nationality\": \"Luxembourger\"},\n",
    "    {\"Name\": \"Sergio\", \"Last Name\": \"Lebed\", \"2nd Last Name\": \"Wright\", \"Email\": \"sergiolebed@student.ie.edu\", \"Nationality\": \"Ecuadorian\"},\n",
    "    {\"Name\": \"Diego\", \"Last Name\": \"López\", \"2nd Last Name\": \"Pizarro\", \"Email\": \"diego.lopez13@student.ie.edu\", \"Nationality\": \"Spanish\"},\n",
    "    {\"Name\": \"Tomás\", \"Last Name\": \"Luz\", \"2nd Last Name\": \"\", \"Email\": \"tomas.luz@student.ie.edu\", \"Nationality\": \"Portuguese\"},\n",
    "    {\"Name\": \"Eduardo Andrés\", \"Last Name\": \"Martinez-Acha\", \"2nd Last Name\": \"Paris\", \"Email\": \"emacha@student.ie.edu\", \"Nationality\": \"Spanish\"},\n",
    "    {\"Name\": \"Joaquin\", \"Last Name\": \"Mino\", \"2nd Last Name\": \"Perez\", \"Email\": \"joaquin.mino@student.ie.edu\", \"Nationality\": \"Ecuadorian\"},\n",
    "    {\"Name\": \"Paul\", \"Last Name\": \"Morcos\", \"2nd Last Name\": \"Douaihy\", \"Email\": \"paul.morcos@student.ie.edu\", \"Nationality\": \"Lebanese\"},\n",
    "    {\"Name\": \"Vibhushan Balaji\", \"Last Name\": \"Neethi Mohan\", \"2nd Last Name\": \"\", \"Email\": \"vibhu_balaji@student.ie.edu\", \"Nationality\": \"Indian\"},\n",
    "    {\"Name\": \"Alejandro\", \"Last Name\": \"Osto\", \"2nd Last Name\": \"Sánchez-Haro\", \"Email\": \"alejandro.osto@student.ie.edu\", \"Nationality\": \"Spanish\"},\n",
    "    {\"Name\": \"Margarida\", \"Last Name\": \"Pereira\", \"2nd Last Name\": \"\", \"Email\": \"margaridabvp@student.ie.edu\", \"Nationality\": \"Portuguese\"},\n",
    "    {\"Name\": \"Marta\", \"Last Name\": \"Pérez\", \"2nd Last Name\": \"Fernández\", \"Email\": \"marta.perez.01@student.ie.edu\", \"Nationality\": \"Spanish\"},\n",
    "    {\"Name\": \"Alejandro Felipe\", \"Last Name\": \"Pérez\", \"2nd Last Name\": \"Vargas\", \"Email\": \"perez.alejandro@student.ie.edu\", \"Nationality\": \"Costarican\"},\n",
    "    {\"Name\": \"Miguel\", \"Last Name\": \"Rodríguez\", \"2nd Last Name\": \"Cadena\", \"Email\": \"miguel.rodriguez.c@student.ie.edu\", \"Nationality\": \"Ecuadorian\"},\n",
    "    {\"Name\": \"Jorge Hiroshi\", \"Last Name\": \"Roman\", \"2nd Last Name\": \"Yseki\", \"Email\": \"hiroshi.roman@alumni.ie.edu\", \"Nationality\": \"Peruvian\"},\n",
    "    {\"Name\": \"Ignacio\", \"Last Name\": \"Salceda\", \"2nd Last Name\": \"Rodríguez\", \"Email\": \"ignacio.salceda@student.ie.edu\", \"Nationality\": \"Spanish\"},\n",
    "    {\"Name\": \"Yeabsira\", \"Last Name\": \"Seleshi\", \"2nd Last Name\": \"\", \"Email\": \"yeabsiraseleshi@student.ie.edu\", \"Nationality\": \"Ethiopian\"},\n",
    "    {\"Name\": \"Ayush\", \"Last Name\": \"Singh\", \"2nd Last Name\": \"\", \"Email\": \"ayushsingh16@student.ie.edu\", \"Nationality\": \"Indian\"},\n",
    "    {\"Name\": \"Adrian\", \"Last Name\": \"Soto\", \"2nd Last Name\": \"Mora\", \"Email\": \"adrian.soto@student.ie.edu\", \"Nationality\": \"Costarican\"},\n",
    "    {\"Name\": \"Enrico Miguel\", \"Last Name\": \"Cordero\", \"2nd Last Name\": \"Tajanlangit\", \"Email\": \"enricotajanlangit@student.ie.edu\", \"Nationality\": \"Philippine\"},\n",
    "    {\"Name\": \"Chevin\", \"Last Name\": \"Slavtchov\", \"2nd Last Name\": \"Tochkov\", \"Email\": \"chevin.tochkov@student.ie.edu\", \"Nationality\": \"Bulgarian\"},\n",
    "    {\"Name\": \"Clara\", \"Last Name\": \"Sobejano\", \"2nd Last Name\": \"Figuerola\", \"Email\": \"clara.sobejano@student.ie.edu\", \"Nationality\": \"Spanish\"},\n",
    "    {\"Name\": \"Ricardo\", \"Last Name\": \"Urech\", \"2nd Last Name\": \"García De La Vega\", \"Email\": \"ricardourech@student.ie.edu\", \"Nationality\": \"Spanish\"},\n",
    "    {\"Name\": \"Vandad\", \"Last Name\": \"Vafai\", \"2nd Last Name\": \"Tabrizi\", \"Email\": \"vandad.vafai@student.ie.edu\", \"Nationality\": \"Canadian\"},\n",
    "    {\"Name\": \"Tomas\", \"Last Name\": \"Valbuena\", \"2nd Last Name\": \"Sierra\", \"Email\": \"tvalbuen96@student.ie.edu\", \"Nationality\": \"Colombian\"},\n",
    "    {\"Name\": \"Spencer\", \"Last Name\": \"Sveda\", \"2nd Last Name\": \"Wood\", \"Email\": \"spencer.wood@student.ie.edu\", \"Nationality\": \"American\"}\n",
    "]"
   ]
  },
  {
   "cell_type": "markdown",
   "metadata": {},
   "source": [
    "## Exercise 1\n",
    "\n",
    "Create a list with all the students that have a second last name."
   ]
  },
  {
   "cell_type": "code",
   "execution_count": 2,
   "metadata": {},
   "outputs": [
    {
     "name": "stdout",
     "output_type": "stream",
     "text": [
      "['Youssef', 'Waldo', 'Nicole Marie', 'Manuel Eduardo', 'Blanca', 'Isaac', 'Silvana Maria', 'Ana', 'Isabella', 'Catalina', 'Pablo Eduardo', 'Maine', 'Sergio', 'Diego', 'Eduardo Andrés', 'Joaquin', 'Paul', 'Alejandro', 'Marta', 'Alejandro Felipe', 'Miguel', 'Jorge Hiroshi', 'Ignacio', 'Adrian', 'Enrico Miguel', 'Chevin', 'Clara', 'Ricardo', 'Vandad', 'Tomas', 'Spencer']\n"
     ]
    }
   ],
   "source": [
    "students_with_2nd_last_name = [student['Name'] for student in students if student['2nd Last Name'] != '']\n",
    "print(students_with_2nd_last_name)"
   ]
  },
  {
   "cell_type": "markdown",
   "metadata": {},
   "source": [
    "## Exercise 2\n",
    " \n",
    "Create a list with all the students whose last name is fully included in their email."
   ]
  },
  {
   "cell_type": "code",
   "execution_count": 3,
   "metadata": {},
   "outputs": [
    {
     "name": "stdout",
     "output_type": "stream",
     "text": [
      "['Emin', 'Luca', 'Waldo', 'Nicole Marie', 'Manuel Eduardo', 'Lucas', 'Blanca', 'Pablo', 'Isaac', 'Silvana Maria', 'Isabella', 'Juan', 'Hiromitsu', 'Pablo Eduardo', 'Felix', 'Maine', 'Sam', 'Yousef MohammadNoor', 'Sanjo', 'Christyana', 'Adam', 'Maureen Wambui', 'Louis-Esmel', 'Robert', 'Sergio', 'Tomás', 'Joaquin', 'Paul', 'Alejandro', 'Jorge Hiroshi', 'Ignacio', 'Yeabsira', 'Ayush', 'Adrian', 'Clara', 'Ricardo', 'Vandad']\n"
     ]
    }
   ],
   "source": [
    "list_2 = [student['Name'] for student in students if student['Last Name'].lower() in student['Email']]\n",
    "print(list_2)"
   ]
  },
  {
   "cell_type": "markdown",
   "metadata": {},
   "source": [
    "## Exercise 3\n",
    "\n",
    "Add to each student these new keys\n",
    "* \"Full Name\" with the full name of the student\n",
    "* \"Length of Full Name\" with the length of the full name of the student, not including spaces"
   ]
  },
  {
   "cell_type": "code",
   "execution_count": 7,
   "metadata": {},
   "outputs": [
    {
     "data": {
      "text/plain": [
       "[{'Name': 'Youssef',\n",
       "  'Last Name': 'Hakim',\n",
       "  '2nd Last Name': 'Abdel Nasser',\n",
       "  'Email': 'youssef.abdelnasser@student.ie.edu',\n",
       "  'Nationality': 'French',\n",
       "  'Full Name': 'Youssef Hakim',\n",
       "  'Length': 13},\n",
       " {'Name': 'Emin',\n",
       "  'Last Name': 'Abrahamian',\n",
       "  '2nd Last Name': '',\n",
       "  'Email': 'emin.abrahamian@student.ie.edu',\n",
       "  'Nationality': 'American',\n",
       "  'Full Name': 'Emin Abrahamian',\n",
       "  'Length': 15}]"
      ]
     },
     "execution_count": 7,
     "metadata": {},
     "output_type": "execute_result"
    }
   ],
   "source": [
    "for student in students:\n",
    "    student['Full Name'] = student['Name'] + ' ' + student['Last Name']\n",
    "    student['Length'] = len(student['Full Name'])\n",
    "\n",
    "students[0:2]"
   ]
  },
  {
   "cell_type": "markdown",
   "metadata": {},
   "source": [
    "## Exercise 4\n",
    "\n",
    "Create a dictionary where the keys are the values of \"Full Name\" and the values are the values of \"Length of Full Name\"."
   ]
  },
  {
   "cell_type": "code",
   "execution_count": 19,
   "metadata": {},
   "outputs": [
    {
     "name": "stdout",
     "output_type": "stream",
     "text": [
      "{'Youssef Hakim': 13, 'Emin Abrahamian': 15, 'Luca Adjei': 10, 'Abdulrahman Alabdulkarim': 24, 'Dhabia Saad Albuainain': 22, 'Abdullah Alshaarawi': 19, 'Chapel Anastasia Margaux Henriette': 34, 'Waldo Barreto': 13, 'Nicole Marie Batinovich': 23, 'Manuel Eduardo Bonnelly': 23, 'Lucas Brunner': 13, 'Blanca Burgaleta': 16, 'Pablo Camacho': 13, 'Isaac Chaljub': 13, 'Silvana Maria Cortes': 20, 'Ana Cortés': 10, 'Isabella Dao': 12, 'Juan Echeverri': 14, 'Hiromitsu Fujiyama': 18, 'Catalina Gaitán': 15, 'Pablo Eduardo Gallegos': 22, 'Felix Goossens': 14, 'Maine Isasi': 11, 'Sam Jones': 9, 'Yousef MohammadNoor Joukhdar': 28, 'Sanjo Joy': 9, 'Christyana Kane': 15, 'Adam Kassab': 11, 'Maureen Wambui Kibetu': 21, 'Louis-Esmel Kodo': 16, 'Robert Koegel': 13, 'Sergio Lebed': 12, 'Diego López': 11, 'Tomás Luz': 9, 'Eduardo Andrés Martinez-Acha': 28, 'Joaquin Mino': 12, 'Paul Morcos': 11, 'Vibhushan Balaji Neethi Mohan': 29, 'Alejandro Osto': 14, 'Margarida Pereira': 17, 'Marta Pérez': 11, 'Alejandro Felipe Pérez': 22, 'Miguel Rodríguez': 16, 'Jorge Hiroshi Roman': 19, 'Ignacio Salceda': 15, 'Yeabsira Seleshi': 16, 'Ayush Singh': 11, 'Adrian Soto': 11, 'Enrico Miguel Cordero': 21, 'Chevin Slavtchov': 16, 'Clara Sobejano': 14, 'Ricardo Urech': 13, 'Vandad Vafai': 12, 'Tomas Valbuena': 14, 'Spencer Sveda': 13}\n"
     ]
    }
   ],
   "source": [
    "dict_1 = {}\n",
    "\n",
    "for student in students:\n",
    "    dict_1[student['Full Name']] = student['Length']\n",
    "\n",
    "print(dict_1)"
   ]
  },
  {
   "cell_type": "code",
   "execution_count": 20,
   "metadata": {},
   "outputs": [
    {
     "name": "stdout",
     "output_type": "stream",
     "text": [
      "{'Youssef Hakim': 13, 'Emin Abrahamian': 15, 'Luca Adjei': 10, 'Abdulrahman Alabdulkarim': 24, 'Dhabia Saad Albuainain': 22, 'Abdullah Alshaarawi': 19, 'Chapel Anastasia Margaux Henriette': 34, 'Waldo Barreto': 13, 'Nicole Marie Batinovich': 23, 'Manuel Eduardo Bonnelly': 23, 'Lucas Brunner': 13, 'Blanca Burgaleta': 16, 'Pablo Camacho': 13, 'Isaac Chaljub': 13, 'Silvana Maria Cortes': 20, 'Ana Cortés': 10, 'Isabella Dao': 12, 'Juan Echeverri': 14, 'Hiromitsu Fujiyama': 18, 'Catalina Gaitán': 15, 'Pablo Eduardo Gallegos': 22, 'Felix Goossens': 14, 'Maine Isasi': 11, 'Sam Jones': 9, 'Yousef MohammadNoor Joukhdar': 28, 'Sanjo Joy': 9, 'Christyana Kane': 15, 'Adam Kassab': 11, 'Maureen Wambui Kibetu': 21, 'Louis-Esmel Kodo': 16, 'Robert Koegel': 13, 'Sergio Lebed': 12, 'Diego López': 11, 'Tomás Luz': 9, 'Eduardo Andrés Martinez-Acha': 28, 'Joaquin Mino': 12, 'Paul Morcos': 11, 'Vibhushan Balaji Neethi Mohan': 29, 'Alejandro Osto': 14, 'Margarida Pereira': 17, 'Marta Pérez': 11, 'Alejandro Felipe Pérez': 22, 'Miguel Rodríguez': 16, 'Jorge Hiroshi Roman': 19, 'Ignacio Salceda': 15, 'Yeabsira Seleshi': 16, 'Ayush Singh': 11, 'Adrian Soto': 11, 'Enrico Miguel Cordero': 21, 'Chevin Slavtchov': 16, 'Clara Sobejano': 14, 'Ricardo Urech': 13, 'Vandad Vafai': 12, 'Tomas Valbuena': 14, 'Spencer Sveda': 13}\n"
     ]
    }
   ],
   "source": [
    "dict_1 = {student['Full Name'] : student[\"Length\"] for student in students}\n",
    "print(dict_1)"
   ]
  },
  {
   "cell_type": "markdown",
   "metadata": {},
   "source": [
    "## Exercise 5\n",
    "\n",
    "Create a list that contains all the last names that are repeated in the dataset."
   ]
  },
  {
   "cell_type": "code",
   "execution_count": 34,
   "metadata": {},
   "outputs": [
    {
     "name": "stdout",
     "output_type": "stream",
     "text": [
      "['Pérez']\n"
     ]
    }
   ],
   "source": [
    "counts = {}\n",
    "\n",
    "for student in students:\n",
    "    if student['Last Name'] in counts:\n",
    "        counts[student['Last Name']] += 1\n",
    "    else:\n",
    "        counts[student['Last Name']] = 1\n",
    "\n",
    "\n",
    "repeated = [student for student, count in counts.items() if count > 1]\n",
    "print(repeated)"
   ]
  },
  {
   "cell_type": "markdown",
   "metadata": {},
   "source": [
    "## Exercise 6\n",
    "\n",
    "Which student has the longest full name?"
   ]
  },
  {
   "cell_type": "code",
   "execution_count": 45,
   "metadata": {},
   "outputs": [
    {
     "name": "stdout",
     "output_type": "stream",
     "text": [
      "[34, 29, 28, 28, 24, 23, 23, 22, 22, 22, 21, 21, 20, 19, 19, 18, 17, 16, 16, 16, 16, 16, 15, 15, 15, 15, 14, 14, 14, 14, 14, 13, 13, 13, 13, 13, 13, 13, 13, 12, 12, 12, 12, 11, 11, 11, 11, 11, 11, 11, 10, 10, 9, 9, 9]\n",
      "{'Name': 'Chapel', 'Last Name': 'Anastasia Margaux Henriette', '2nd Last Name': '', 'Email': 'anastasia.chapel@student.ie.edu', 'Nationality': 'Swiss', 'Full Name': 'Chapel Anastasia Margaux Henriette', 'Length': 34}\n",
      "[{'Name': 'Chapel', 'Last Name': 'Anastasia Margaux Henriette', '2nd Last Name': '', 'Email': 'anastasia.chapel@student.ie.edu', 'Nationality': 'Swiss', 'Full Name': 'Chapel Anastasia Margaux Henriette', 'Length': 34}]\n"
     ]
    }
   ],
   "source": [
    "length_list = [student['Length'] for student in students]\n",
    "print(sorted(length_list, reverse = True))\n",
    "\n",
    "for student in students:\n",
    "    if student['Length'] == max(length_list):\n",
    "        print(student)\n",
    "    \n",
    "test = [student for student in students if student['Length'] == max(length_list)]\n",
    "print(test)"
   ]
  },
  {
   "cell_type": "markdown",
   "metadata": {},
   "source": [
    "## Exercise 7\n",
    "\n",
    "For each nationality, create a list with the full names of the students with that nationality."
   ]
  },
  {
   "cell_type": "code",
   "execution_count": 62,
   "metadata": {},
   "outputs": [
    {
     "data": {
      "text/plain": [
       "{'French': ['Youssef Hakim', 'Louis-Esmel Kodo'],\n",
       " 'American': ['Emin Abrahamian', 'Christyana Kane', 'Spencer Sveda'],\n",
       " 'German': ['Luca Adjei'],\n",
       " 'Saudi Arabian': ['Abdulrahman Alabdulkarim',\n",
       "  'Dhabia Saad Albuainain',\n",
       "  'Abdullah Alshaarawi',\n",
       "  'Yousef MohammadNoor Joukhdar'],\n",
       " 'Swiss': ['Chapel Anastasia Margaux Henriette', 'Lucas Brunner'],\n",
       " 'Spanish': ['Waldo Barreto',\n",
       "  'Blanca Burgaleta',\n",
       "  'Silvana Maria Cortes',\n",
       "  'Ana Cortés',\n",
       "  'Maine Isasi',\n",
       "  'Diego López',\n",
       "  'Eduardo Andrés Martinez-Acha',\n",
       "  'Alejandro Osto',\n",
       "  'Marta Pérez',\n",
       "  'Ignacio Salceda',\n",
       "  'Clara Sobejano',\n",
       "  'Ricardo Urech'],\n",
       " 'Panamanian': ['Nicole Marie Batinovich'],\n",
       " 'Dominican': ['Manuel Eduardo Bonnelly'],\n",
       " 'Colombian': ['Pablo Camacho',\n",
       "  'Isaac Chaljub',\n",
       "  'Juan Echeverri',\n",
       "  'Catalina Gaitán',\n",
       "  'Tomas Valbuena'],\n",
       " 'Venezuelan': ['Isabella Dao'],\n",
       " 'Japanese': ['Hiromitsu Fujiyama'],\n",
       " 'Chilean': ['Pablo Eduardo Gallegos'],\n",
       " 'Belgian': ['Felix Goossens'],\n",
       " 'Irish': ['Sam Jones'],\n",
       " 'Indian': ['Sanjo Joy', 'Vibhushan Balaji Neethi Mohan', 'Ayush Singh'],\n",
       " 'Palestinian': ['Adam Kassab'],\n",
       " 'Kenyan': ['Maureen Wambui Kibetu'],\n",
       " 'Luxembourger': ['Robert Koegel'],\n",
       " 'Ecuadorian': ['Sergio Lebed', 'Joaquin Mino', 'Miguel Rodríguez'],\n",
       " 'Portuguese': ['Tomás Luz', 'Margarida Pereira'],\n",
       " 'Lebanese': ['Paul Morcos'],\n",
       " 'Costarican': ['Alejandro Felipe Pérez', 'Adrian Soto'],\n",
       " 'Peruvian': ['Jorge Hiroshi Roman'],\n",
       " 'Ethiopian': ['Yeabsira Seleshi'],\n",
       " 'Philippine': ['Enrico Miguel Cordero'],\n",
       " 'Bulgarian': ['Chevin Slavtchov'],\n",
       " 'Canadian': ['Vandad Vafai']}"
      ]
     },
     "execution_count": 62,
     "metadata": {},
     "output_type": "execute_result"
    }
   ],
   "source": [
    "dict_1 = {}  \n",
    "for student in students: \n",
    "    nationality = student['Nationality'] \n",
    "    if nationality in dict_1: \n",
    "        dict_1[nationality].append(student['Full Name']) \n",
    "    else: \n",
    "        dict_1[nationality] = [student['Full Name']] \n",
    "\n",
    "dict_1"
   ]
  },
  {
   "cell_type": "markdown",
   "metadata": {},
   "source": [
    "## Exercise 8\n",
    "\n",
    "Which nationality has the most students? "
   ]
  },
  {
   "cell_type": "code",
   "execution_count": 68,
   "metadata": {},
   "outputs": [
    {
     "name": "stdout",
     "output_type": "stream",
     "text": [
      "{'French': 2, 'American': 3, 'German': 1, 'Saudi Arabian': 4, 'Swiss': 2, 'Spanish': 12, 'Panamanian': 1, 'Dominican': 1, 'Colombian': 5, 'Venezuelan': 1, 'Japanese': 1, 'Chilean': 1, 'Belgian': 1, 'Irish': 1, 'Indian': 3, 'Palestinian': 1, 'Kenyan': 1, 'Luxembourger': 1, 'Ecuadorian': 3, 'Portuguese': 2, 'Lebanese': 1, 'Costarican': 2, 'Peruvian': 1, 'Ethiopian': 1, 'Philippine': 1, 'Bulgarian': 1, 'Canadian': 1}\n"
     ]
    }
   ],
   "source": [
    "nationality_dict = {\n",
    "    student['Nationality'] : 0 for student in students\n",
    "}\n",
    "\n",
    "for student in students:\n",
    "    nationality_dict[student['Nationality']] += 1\n",
    "\n",
    "print(nationality_dict)"
   ]
  },
  {
   "cell_type": "markdown",
   "metadata": {},
   "source": [
    "## Exercise 9\n",
    "\n",
    "Which nationality has the longest average full name length?"
   ]
  },
  {
   "cell_type": "code",
   "execution_count": 67,
   "metadata": {},
   "outputs": [
    {
     "name": "stdout",
     "output_type": "stream",
     "text": [
      "{'French': 14.5, 'American': 14.333333333333334, 'German': 10.0, 'Saudi Arabian': 23.25, 'Swiss': 23.5, 'Spanish': 14.666666666666666, 'Panamanian': 23.0, 'Dominican': 23.0, 'Colombian': 13.8, 'Venezuelan': 12.0, 'Japanese': 18.0, 'Chilean': 22.0, 'Belgian': 14.0, 'Irish': 9.0, 'Indian': 16.333333333333332, 'Palestinian': 11.0, 'Kenyan': 21.0, 'Luxembourger': 13.0, 'Ecuadorian': 13.333333333333334, 'Portuguese': 13.0, 'Lebanese': 11.0, 'Costarican': 16.5, 'Peruvian': 19.0, 'Ethiopian': 16.0, 'Philippine': 21.0, 'Bulgarian': 16.0, 'Canadian': 12.0}\n"
     ]
    }
   ],
   "source": [
    "averages = {}\n",
    "\n",
    "for nationality, names in dict_1.items():\n",
    "    total_length = sum(len(name) for name in names)\n",
    "    average = total_length / len(names)\n",
    "    averages[nationality] = average\n",
    "\n",
    "print(averages)"
   ]
  },
  {
   "cell_type": "markdown",
   "metadata": {},
   "source": [
    "## Exercise 10\n",
    "\n",
    "Which nationality has the most second last names?"
   ]
  },
  {
   "cell_type": "code",
   "execution_count": 89,
   "metadata": {},
   "outputs": [
    {
     "name": "stdout",
     "output_type": "stream",
     "text": [
      "{'French': ['Abdel Nasser'], 'Spanish': ['Tascon', 'García', 'Scholtz', 'Barquier', 'Escajadillo', 'Pizarro', 'Paris', 'Sánchez-Haro', 'Fernández', 'Rodríguez', 'Figuerola', 'García De La Vega'], 'Panamanian': ['Carrizo'], 'Dominican': ['Sanchez'], 'Colombian': ['Restrepo', 'Marin', 'Sierra'], 'Venezuelan': ['Boschetti'], 'Chilean': ['Sánchez'], 'Ecuadorian': ['Wright', 'Perez', 'Cadena'], 'Lebanese': ['Douaihy'], 'Costarican': ['Vargas', 'Mora'], 'Peruvian': ['Yseki'], 'Philippine': ['Tajanlangit'], 'Bulgarian': ['Tochkov'], 'Canadian': ['Tabrizi'], 'American': ['Wood']}\n"
     ]
    },
    {
     "data": {
      "text/plain": [
       "{'French': 1,\n",
       " 'Spanish': 12,\n",
       " 'Panamanian': 1,\n",
       " 'Dominican': 1,\n",
       " 'Colombian': 3,\n",
       " 'Venezuelan': 1,\n",
       " 'Chilean': 1,\n",
       " 'Ecuadorian': 3,\n",
       " 'Lebanese': 1,\n",
       " 'Costarican': 2,\n",
       " 'Peruvian': 1,\n",
       " 'Philippine': 1,\n",
       " 'Bulgarian': 1,\n",
       " 'Canadian': 1,\n",
       " 'American': 1}"
      ]
     },
     "execution_count": 89,
     "metadata": {},
     "output_type": "execute_result"
    }
   ],
   "source": [
    "dict_2 = {}  \n",
    "for student in students: \n",
    "    nationality = student['Nationality'] \n",
    "    second_last_name = student['2nd Last Name']\n",
    "    if second_last_name == '':\n",
    "        continue\n",
    "    elif nationality in dict_2: \n",
    "        dict_2[nationality].append(second_last_name) \n",
    "    else: \n",
    "        dict_2[nationality] = [second_last_name] \n",
    "\n",
    "print(dict_2)\n",
    "\n",
    "counts = {nationality : len(names) for nationality, names in dict_2.items()}\n",
    "\n",
    "counts"
   ]
  },
  {
   "cell_type": "markdown",
   "metadata": {},
   "source": [
    "## Exercise 11\n",
    "\n",
    "Imagine you are charged with 1 euro per character in your email account. \n",
    "\n",
    "Create a dictionary where the keys are the emails and the values are the amount of money you would have to pay for that email."
   ]
  },
  {
   "cell_type": "code",
   "execution_count": 90,
   "metadata": {},
   "outputs": [
    {
     "data": {
      "text/plain": [
       "{'youssef.abdelnasser@student.ie.edu': 34,\n",
       " 'emin.abrahamian@student.ie.edu': 30,\n",
       " 'lucaadjei@student.ie.edu': 24,\n",
       " 'abdulrahman_ak@student.ie.edu': 29,\n",
       " 'idoe4@student.ie.edu': 20,\n",
       " 'abdallash@student.ie.edu': 24,\n",
       " 'anastasia.chapel@student.ie.edu': 31,\n",
       " 'waldobarreto@student.ie.edu': 27,\n",
       " 'nbatinovich@student.ie.edu': 26,\n",
       " 'manuelbonnelly@student.ie.edu': 29,\n",
       " 'lucas.brunner@student.ie.edu': 28,\n",
       " 'bburgaleta@student.ie.edu': 25,\n",
       " 'pablo.camacho@student.ie.edu': 28,\n",
       " 'isaac.chaljub@student.ie.edu': 28,\n",
       " 'silvanacortes@student.ie.edu': 28,\n",
       " 'ana.cortes@student.ie.edu': 25,\n",
       " 'isabella.dao@student.ie.edu': 27,\n",
       " 'juanecheverri@student.ie.edu': 28,\n",
       " 'hiromitsu.fujiyama@student.ie.edu': 33,\n",
       " 'catalina.gaitan@student.ie.edu': 30,\n",
       " 'pablogallegos@student.ie.edu': 28,\n",
       " 'goossens.felix@student.ie.edu': 29,\n",
       " 'maine.isasi@student.ie.edu': 26,\n",
       " 'sam.jones@student.ie.edu': 24,\n",
       " 'yousef.joukhdar@student.ie.edu': 30,\n",
       " 'sanjojoy@student.ie.edu': 23,\n",
       " 'christyana.kane@student.ie.edu': 30,\n",
       " 'kassab.adam@student.ie.edu': 26,\n",
       " 'maureen.kibetu@student.ie.edu': 29,\n",
       " 'louis-esmel.kodo@student.ie.edu': 31,\n",
       " 'robert.koegel@student.ie.edu': 28,\n",
       " 'sergiolebed@student.ie.edu': 26,\n",
       " 'diego.lopez13@student.ie.edu': 28,\n",
       " 'tomas.luz@student.ie.edu': 24,\n",
       " 'emacha@student.ie.edu': 21,\n",
       " 'joaquin.mino@student.ie.edu': 27,\n",
       " 'paul.morcos@student.ie.edu': 26,\n",
       " 'vibhu_balaji@student.ie.edu': 27,\n",
       " 'alejandro.osto@student.ie.edu': 29,\n",
       " 'margaridabvp@student.ie.edu': 27,\n",
       " 'marta.perez.01@student.ie.edu': 29,\n",
       " 'perez.alejandro@student.ie.edu': 30,\n",
       " 'miguel.rodriguez.c@student.ie.edu': 33,\n",
       " 'hiroshi.roman@alumni.ie.edu': 27,\n",
       " 'ignacio.salceda@student.ie.edu': 30,\n",
       " 'yeabsiraseleshi@student.ie.edu': 30,\n",
       " 'ayushsingh16@student.ie.edu': 27,\n",
       " 'adrian.soto@student.ie.edu': 26,\n",
       " 'enricotajanlangit@student.ie.edu': 32,\n",
       " 'chevin.tochkov@student.ie.edu': 29,\n",
       " 'clara.sobejano@student.ie.edu': 29,\n",
       " 'ricardourech@student.ie.edu': 27,\n",
       " 'vandad.vafai@student.ie.edu': 27,\n",
       " 'tvalbuen96@student.ie.edu': 25,\n",
       " 'spencer.wood@student.ie.edu': 27}"
      ]
     },
     "execution_count": 90,
     "metadata": {},
     "output_type": "execute_result"
    }
   ],
   "source": [
    "email_cost = {student['Email'] : len(student['Email']) for student in students}\n",
    "\n",
    "email_cost"
   ]
  },
  {
   "cell_type": "markdown",
   "metadata": {},
   "source": [
    "## Exercise 12\n",
    "\n",
    "Create a dictionary where the keys are the nationalities and the values are the average amount of money you would have to pay for the emails of the students"
   ]
  },
  {
   "cell_type": "code",
   "execution_count": 96,
   "metadata": {},
   "outputs": [
    {
     "name": "stdout",
     "output_type": "stream",
     "text": [
      "{'French': [34, 31], 'American': [30, 30, 27], 'German': [24], 'Saudi Arabian': [29, 20, 24, 30], 'Swiss': [31, 28], 'Spanish': [27, 25, 28, 25, 26, 28, 21, 29, 29, 30, 29, 27], 'Panamanian': [26], 'Dominican': [29], 'Colombian': [28, 28, 28, 30, 25], 'Venezuelan': [27], 'Japanese': [33], 'Chilean': [28], 'Belgian': [29], 'Irish': [24], 'Indian': [23, 27, 27], 'Palestinian': [26], 'Kenyan': [29], 'Luxembourger': [28], 'Ecuadorian': [26, 27, 33], 'Portuguese': [24, 27], 'Lebanese': [26], 'Costarican': [30, 26], 'Peruvian': [27], 'Ethiopian': [30], 'Philippine': [32], 'Bulgarian': [29], 'Canadian': [27]}\n",
      "{'French': 32.5, 'American': 29.0, 'German': 24.0, 'Saudi Arabian': 25.75, 'Swiss': 29.5, 'Spanish': 27.0, 'Panamanian': 26.0, 'Dominican': 29.0, 'Colombian': 27.8, 'Venezuelan': 27.0, 'Japanese': 33.0, 'Chilean': 28.0, 'Belgian': 29.0, 'Irish': 24.0, 'Indian': 25.666666666666668, 'Palestinian': 26.0, 'Kenyan': 29.0, 'Luxembourger': 28.0, 'Ecuadorian': 28.666666666666668, 'Portuguese': 25.5, 'Lebanese': 26.0, 'Costarican': 28.0, 'Peruvian': 27.0, 'Ethiopian': 30.0, 'Philippine': 32.0, 'Bulgarian': 29.0, 'Canadian': 27.0}\n"
     ]
    }
   ],
   "source": [
    "dict_3 = {}  \n",
    "for student in students: \n",
    "    nationality = student['Nationality'] \n",
    "    cost = len(student['Email'])\n",
    "    if nationality in dict_3: \n",
    "        dict_3[nationality].append(cost) \n",
    "    else: \n",
    "        dict_3[nationality] = [cost] \n",
    "\n",
    "print(dict_3)\n",
    "average_cost = {}\n",
    "\n",
    "for nationality, costs in dict_3.items():\n",
    "    total_length = sum(cost for cost in costs)\n",
    "    average = total_length / len(costs)\n",
    "    average_cost[nationality] = average\n",
    "\n",
    "print(average_cost)"
   ]
  },
  {
   "cell_type": "markdown",
   "metadata": {},
   "source": [
    "## Exercise 13\n",
    "\n",
    "Create a dictionary where the keys are the nationalities and the values are number of students with that nationality."
   ]
  },
  {
   "cell_type": "code",
   "execution_count": 97,
   "metadata": {},
   "outputs": [
    {
     "name": "stdout",
     "output_type": "stream",
     "text": [
      "{'French': 2, 'American': 3, 'German': 1, 'Saudi Arabian': 4, 'Swiss': 2, 'Spanish': 12, 'Panamanian': 1, 'Dominican': 1, 'Colombian': 5, 'Venezuelan': 1, 'Japanese': 1, 'Chilean': 1, 'Belgian': 1, 'Irish': 1, 'Indian': 3, 'Palestinian': 1, 'Kenyan': 1, 'Luxembourger': 1, 'Ecuadorian': 3, 'Portuguese': 2, 'Lebanese': 1, 'Costarican': 2, 'Peruvian': 1, 'Ethiopian': 1, 'Philippine': 1, 'Bulgarian': 1, 'Canadian': 1}\n"
     ]
    }
   ],
   "source": [
    "dict_4 = {}\n",
    "\n",
    "for student in students:\n",
    "    nationality = student['Nationality']\n",
    "    if nationality in dict_4:\n",
    "        dict_4[nationality] += 1\n",
    "    else:\n",
    "        dict_4[nationality] = 1\n",
    "\n",
    "print(dict_4)"
   ]
  },
  {
   "cell_type": "markdown",
   "metadata": {},
   "source": [
    "## Exercise 14\n",
    "\n",
    "Create a dictionary where the keys are the nationalities and the values are the average length of the full names of the students"
   ]
  },
  {
   "cell_type": "code",
   "execution_count": null,
   "metadata": {},
   "outputs": [
    {
     "name": "stdout",
     "output_type": "stream",
     "text": [
      "{'French': [13, 16], 'American': [15, 15, 13], 'German': [10], 'Saudi Arabian': [24, 22, 19, 28], 'Swiss': [34, 13], 'Spanish': [13, 16, 20, 10, 11, 11, 28, 14, 11, 15, 14, 13], 'Panamanian': [23], 'Dominican': [23], 'Colombian': [13, 13, 14, 15, 14], 'Venezuelan': [12], 'Japanese': [18], 'Chilean': [22], 'Belgian': [14], 'Irish': [9], 'Indian': [9, 29, 11], 'Palestinian': [11], 'Kenyan': [21], 'Luxembourger': [13], 'Ecuadorian': [12, 12, 16], 'Portuguese': [9, 17], 'Lebanese': [11], 'Costarican': [22, 11], 'Peruvian': [19], 'Ethiopian': [16], 'Philippine': [21], 'Bulgarian': [16], 'Canadian': [12]}\n",
      "{'French': 14.5, 'American': 14.333333333333334, 'German': 10.0, 'Saudi Arabian': 23.25, 'Swiss': 23.5, 'Spanish': 14.666666666666666, 'Panamanian': 23.0, 'Dominican': 23.0, 'Colombian': 13.8, 'Venezuelan': 12.0, 'Japanese': 18.0, 'Chilean': 22.0, 'Belgian': 14.0, 'Irish': 9.0, 'Indian': 16.333333333333332, 'Palestinian': 11.0, 'Kenyan': 21.0, 'Luxembourger': 13.0, 'Ecuadorian': 13.333333333333334, 'Portuguese': 13.0, 'Lebanese': 11.0, 'Costarican': 16.5, 'Peruvian': 19.0, 'Ethiopian': 16.0, 'Philippine': 21.0, 'Bulgarian': 16.0, 'Canadian': 12.0}\n"
     ]
    }
   ],
   "source": [
    "dict_5 = {}  \n",
    "for student in students: \n",
    "    nationality = student['Nationality'] \n",
    "    full_name = len(student['Full Name'])\n",
    "    if nationality in dict_5: \n",
    "        dict_5[nationality].append(full_name) \n",
    "    else: \n",
    "        dict_5[nationality] = [full_name] \n",
    "\n",
    "print(dict_5)\n",
    "\n",
    "average_name = {}\n",
    "\n",
    "for nationality, full_names in dict_5.items():\n",
    "    total_length = sum(name for name in full_names)\n",
    "    average = total_length / len(full_names)\n",
    "    average_name[nationality] = average\n",
    "\n",
    "print(average_name)"
   ]
  }
 ],
 "metadata": {
  "kernelspec": {
   "display_name": "Python 3",
   "language": "python",
   "name": "python3"
  },
  "language_info": {
   "codemirror_mode": {
    "name": "ipython",
    "version": 3
   },
   "file_extension": ".py",
   "mimetype": "text/x-python",
   "name": "python",
   "nbconvert_exporter": "python",
   "pygments_lexer": "ipython3",
   "version": "3.10.6"
  }
 },
 "nbformat": 4,
 "nbformat_minor": 2
}
