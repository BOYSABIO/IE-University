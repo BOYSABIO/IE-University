{
 "cells": [
  {
   "cell_type": "markdown",
   "metadata": {
    "collapsed": true
   },
   "source": [
    "# Normalization and Filters\n",
    "\n",
    "In this notebook, we'll explore image normalization and filters.\n",
    "\n",
    "Let's start by loading and visualizing an image."
   ]
  },
  {
   "cell_type": "code",
   "execution_count": null,
   "metadata": {},
   "outputs": [],
   "source": [
    "import os\n",
    "import numpy as np\n",
    "import matplotlib.pyplot as plt\n",
    "from matplotlib import image as mp_image\n",
    "\n",
    "# Required magic to display matplotlib plots in notebooks\n",
    "%matplotlib inline\n",
    "\n",
    "# Load the image from the source file\n",
    "image_file = \"../data/voc/automobile/000142.jpg\"\n",
    "image = mp_image.imread(image_file)\n",
    "\n",
    "# Display it\n",
    "plt.imshow(image)"
   ]
  },
  {
   "cell_type": "markdown",
   "metadata": {},
   "source": [
    "## Image Normalization"
   ]
  },
  {
   "cell_type": "markdown",
   "metadata": {},
   "source": [
    "Let's look at the distribution of pixel values in the image. Ideally, the image should have relatively even distribution of values, indicating good contrast and making it easier to extract analytical information.\n",
    "\n",
    "An easy way to check this is to plot a histogram."
   ]
  },
  {
   "cell_type": "code",
   "execution_count": null,
   "metadata": {},
   "outputs": [],
   "source": [
    "# Plot a histogram - we need to use ravel to \"flatten\" the 3 dimensions\n",
    "plt.hist(image.ravel())\n",
    "plt.show()"
   ]
  },
  {
   "cell_type": "markdown",
   "metadata": {},
   "source": [
    "Another useful way to visualize the statistics of an image is as a cumulative distribution function (CDF) plot. Which shows the cumulative pixel intensity frequencies from 0 to 255."
   ]
  },
  {
   "cell_type": "code",
   "execution_count": null,
   "metadata": {},
   "outputs": [],
   "source": [
    "plt.hist(image.ravel(), bins=255, cumulative=True)\n",
    "plt.show()"
   ]
  },
  {
   "cell_type": "markdown",
   "metadata": {},
   "source": [
    "The histogram and CDF for our image show pretty uneven distribution - there's a lot of contrast in the image. Ideally we should equalize the values in the images we want to analyse to try to make our images more consistent in terms of the shapes they contain irrespective of light levels.\n",
    "\n",
    "One simple way to do this is to apply a technique called *contrast stretching*, in which you rescale the pixel values to ensure that all values between a very low and very high percentile (usually the 2nd percentile and 98th percentile) are mapped to the range 0 to 255 - in effect \"stretching\" the histogram to try to ensure the distribution covers the full range of possible values.\n",
    "\n",
    "*Histogram equalization* is a more complex operation that creates a more uniform distribution. The code in the cell below uses the **exposure.rescale_intensity** and  **exposure.equalize_hist** methods from the **skimage** package to perform contrast stretching and histogram equalization."
   ]
  },
  {
   "cell_type": "code",
   "execution_count": null,
   "metadata": {},
   "outputs": [],
   "source": [
    "from skimage import exposure\n",
    "import numpy as np\n",
    "\n",
    "# Contrast stretching\n",
    "p2 = np.percentile(image, 2)\n",
    "p98 = np.percentile(image, 98)\n",
    "image_ct = exposure.rescale_intensity(image, in_range=(p2, p98))\n",
    "\n",
    "# Histogram Equalization\n",
    "image_eq = exposure.equalize_hist(image)\n",
    "\n",
    "# Show the images\n",
    "fig = plt.figure(figsize=(20, 12))\n",
    "\n",
    "# Subplot for original image\n",
    "a=fig.add_subplot(3,3,1)\n",
    "imgplot = plt.imshow(image)\n",
    "a.set_title('Original')\n",
    "\n",
    "# Subplot for contrast stretched image\n",
    "a=fig.add_subplot(3,3,2)\n",
    "imgplot = plt.imshow(image_ct)\n",
    "a.set_title('Contrast Stretched')\n",
    "\n",
    "# Subplot for equalized image\n",
    "a=fig.add_subplot(3,3,3)\n",
    "imgplot = plt.imshow(image_eq)\n",
    "a.set_title('Histogram Equalized')\n",
    "\n",
    "# Subplots for histograms\n",
    "a=fig.add_subplot(3,3,4)\n",
    "imgplot = plt.hist(image.ravel())\n",
    "\n",
    "a=fig.add_subplot(3,3,5)\n",
    "imgplot = plt.hist(image_ct.ravel())\n",
    "\n",
    "a=fig.add_subplot(3,3,6)\n",
    "imgplot = plt.hist(image_eq.ravel())\n",
    "\n",
    "# Subplots for CDFs\n",
    "\n",
    "a=fig.add_subplot(3,3,7)\n",
    "imgplot = plt.hist(image.ravel(), bins=255, cumulative=True)\n",
    "\n",
    "a=fig.add_subplot(3,3,8)\n",
    "imgplot = plt.hist(image_ct.ravel(), bins=255, cumulative=True)\n",
    "\n",
    "a=fig.add_subplot(3,3,9)\n",
    "imgplot = plt.hist(image_eq.ravel(), bins=255, cumulative=True)\n",
    "\n",
    "plt.show()"
   ]
  },
  {
   "cell_type": "markdown",
   "metadata": {},
   "source": [
    "As you can see, contrast stretching results in a histogram of mroe or less the same shape, but spread out over the full range of pixel values. The CDF is slightly smoother than for the original image. Histogram equalization has produced a much more even distribution of pixel values, and a more or less perfectly diagonal CDF; but the image itself is noticable less natural looking.\n",
    "\n",
    "These kind of contrast enhancements can be useful when images have low contrast. They're particularly useful in medical imaging scenarios, for example to enhance X-rays. They can also be used to counteract contrast variance in a set of images that will be used to train  amachine learning model."
   ]
  },
  {
   "cell_type": "markdown",
   "metadata": {},
   "source": [
    "## Filters\n",
    "\n",
    "Filters are implemented by defining numeric grids, called *kernels* that are convolved across an image to change the value of the pixel in the middle of the grid by calculating a weighted sum of the surrounding pixels, using the values in the kernel as weights. In practice they are used to apply visual enhancement effects to the image; such as sharpening, blurring, and so on. This can often be used to remove \"noise\" from an image, such as is common in photgraphs taken in low-light conditions.\n",
    "\n",
    "Let's take a look at some common filters in the **PIL.ImageFilter** library:"
   ]
  },
  {
   "cell_type": "code",
   "execution_count": null,
   "metadata": {},
   "outputs": [],
   "source": [
    "import os\n",
    "import matplotlib.pyplot as plt\n",
    "from PIL import Image, ImageFilter\n",
    "\n",
    "# Required magic to display matplotlib plots in notebooks\n",
    "%matplotlib inline\n",
    "\n",
    "# Load the image from the source file\n",
    "image_file = \"../data/voc/plane/002279.jpg\"\n",
    "image = Image.open(image_file)\n",
    "\n",
    "blurred_image = image.filter(ImageFilter.BLUR)\n",
    "sharpened_image = image.filter(ImageFilter.SHARPEN)\n",
    "\n",
    "# Display it\n",
    "fig = plt.figure(figsize=(16, 12))\n",
    "\n",
    "# Plot original image\n",
    "a=fig.add_subplot(1, 3, 1)\n",
    "image_plot_1 = plt.imshow(image)\n",
    "a.set_title(\"Original\")\n",
    "\n",
    "# Plot blurred image\n",
    "a=fig.add_subplot(1, 3, 2)\n",
    "image_plot_2 = plt.imshow(blurred_image)\n",
    "a.set_title(\"Blurred\")\n",
    "\n",
    "# Plot sharpened image\n",
    "a=fig.add_subplot(1, 3, 3)\n",
    "image_plot_3 = plt.imshow(sharpened_image)\n",
    "a.set_title(\"Sharpened\")\n",
    "\n",
    "plt.show()"
   ]
  },
  {
   "cell_type": "markdown",
   "metadata": {},
   "source": [
    "Since a filter kernel is just a grid of numbers, you can create your own filters as numpy arrays, like this:"
   ]
  },
  {
   "cell_type": "code",
   "execution_count": null,
   "metadata": {},
   "outputs": [],
   "source": [
    "my_kernel = (200, 50, -100,\n",
    "             -50, 200, -50,\n",
    "            -100, 50, 200)\n",
    "\n",
    "filtered_image = image.filter(ImageFilter.Kernel((3,3), my_kernel))\n",
    "\n",
    "# Display it\n",
    "fig = plt.figure(figsize=(16, 12))\n",
    "\n",
    "# Plot original image\n",
    "a=fig.add_subplot(1, 2, 1)\n",
    "image_plot_1 = plt.imshow(image)\n",
    "a.set_title(\"Original\")\n",
    "\n",
    "# Plot filtered image\n",
    "a=fig.add_subplot(1, 2, 2)\n",
    "image_plot_2 = plt.imshow(filtered_image)\n",
    "a.set_title(\"Custom Filter\")\n",
    "\n",
    "plt.show()"
   ]
  },
  {
   "cell_type": "markdown",
   "metadata": {},
   "source": [
    "### Detecting Edges\n",
    "\n",
    "One particular use of filters is to detect the edges of objects in an image. PIL includes a FIND_EDGES filter for this purpose:"
   ]
  },
  {
   "cell_type": "code",
   "execution_count": null,
   "metadata": {},
   "outputs": [],
   "source": [
    "import os\n",
    "import matplotlib.pyplot as plt\n",
    "from PIL import Image, ImageFilter\n",
    "\n",
    "# Required magic to display matplotlib plots in notebooks\n",
    "%matplotlib inline\n",
    "\n",
    "# Load the image from the source file\n",
    "image_file = \"../data/voc/plane/002279.jpg\"\n",
    "image = Image.open(image_file)\n",
    "\n",
    "edges_image = image.filter(ImageFilter.FIND_EDGES)\n",
    "\n",
    "# Display it\n",
    "fig = plt.figure(figsize=(16, 12))\n",
    "\n",
    "# Plot original image\n",
    "a=fig.add_subplot(1, 2, 1)\n",
    "image_plot_1 = plt.imshow(image)\n",
    "a.set_title(\"Original\")\n",
    "\n",
    "# Plot filtered image\n",
    "a=fig.add_subplot(1, 2, 2)\n",
    "image_plot_2 = plt.imshow(edges_image)\n",
    "a.set_title(\"Edges\")\n",
    "\n",
    "plt.show()"
   ]
  },
  {
   "cell_type": "markdown",
   "metadata": {},
   "source": [
    "If the built-in FIND-EDGES filter doesn't provide what you need, you could use a Sobel edge-detection algorithm; which involves convolving two filters across an image to find the horizontal and vertical vector gradients for each pixel, and then calculating the magnitude (length) of each vector gradient:"
   ]
  },
  {
   "cell_type": "code",
   "execution_count": null,
   "metadata": {},
   "outputs": [],
   "source": [
    "def edge_sobel(image):\n",
    "    from scipy import ndimage\n",
    "    import skimage.color as sc\n",
    "    import numpy as np\n",
    "    image = sc.rgb2gray(image) # Convert color image to gray scale\n",
    "    dx = ndimage.sobel(image, 1)  # horizontal derivative\n",
    "    dy = ndimage.sobel(image, 0)  # vertical derivative\n",
    "    mag = np.hypot(dx, dy)  # magnitude\n",
    "    mag *= 255.0 / np.amax(mag)  # normalize (Q&D)\n",
    "    mag = mag.astype(np.uint8)\n",
    "    return mag\n",
    "\n",
    "sobel_image = edge_sobel(np.array(image))\n",
    "\n",
    "# Display it\n",
    "fig = plt.figure(figsize=(16, 12))\n",
    "\n",
    "# Plot original image\n",
    "a=fig.add_subplot(1, 3, 1)\n",
    "image_plot_1 = plt.imshow(image)\n",
    "a.set_title(\"Original\")\n",
    "\n",
    "# Plot PIL FIND_EDGES image\n",
    "a=fig.add_subplot(1, 3, 2)\n",
    "image_plot_2 = plt.imshow(edges_image)\n",
    "a.set_title(\"Edges\")\n",
    "\n",
    "# Plot Sobel image\n",
    "a=fig.add_subplot(1, 3, 3)\n",
    "image_plot_2 = plt.imshow(sobel_image, cmap=\"gray\") # Need to use a gray color map as we converted this to a grayscale image\n",
    "a.set_title(\"Sobel\")\n",
    "\n",
    "plt.show()"
   ]
  },
  {
   "cell_type": "markdown",
   "metadata": {},
   "source": [
    "## Acknowledgements and Citations\n",
    "\n",
    "The data used in this exercise includes images adapted from the PASCAL Visual Object Classes Challenge (VOC2007) dataset at http://host.robots.ox.ac.uk/pascal/VOC/voc2007/.\n",
    "\n",
    "\n",
    "    @misc{pascal-voc-2007,\n",
    "        author = \"Everingham, M. and Van~Gool, L. and Williams, C. K. I. and Winn, J. and Zisserman, A.\",\n",
    "        title = \"The {PASCAL} {V}isual {O}bject {C}lasses {C}hallenge 2007 {(VOC2007)} {R}esults\",\n",
    "        howpublished = \"http://www.pascal-network.org/challenges/VOC/voc2007/workshop/index.html\"}"
   ]
  }
 ],
 "metadata": {
  "kernelspec": {
   "display_name": "Python 3",
   "language": "python",
   "name": "python3"
  },
  "language_info": {
   "codemirror_mode": {
    "name": "ipython",
    "version": 3
   },
   "file_extension": ".py",
   "mimetype": "text/x-python",
   "name": "python",
   "nbconvert_exporter": "python",
   "pygments_lexer": "ipython3",
   "version": "3.6.5"
  }
 },
 "nbformat": 4,
 "nbformat_minor": 2
}
