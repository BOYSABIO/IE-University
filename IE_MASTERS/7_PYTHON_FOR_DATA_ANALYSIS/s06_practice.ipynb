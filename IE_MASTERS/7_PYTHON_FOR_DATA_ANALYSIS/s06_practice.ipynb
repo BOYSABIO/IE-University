{
 "cells": [
  {
   "cell_type": "markdown",
   "metadata": {},
   "source": [
    "# Session 06: Practice Data Structures\n",
    "\n",
    "Using the following dictionary, answer the questions below:\n",
    "\n",
    "```python\n",
    "nested_dict = {\n",
    "    'level1': {\n",
    "        'level2': {\n",
    "            'level3': [1, 2, 3, {'level4': 'value'}],\n",
    "            'another_list': ['a', 'b', 'c']\n",
    "        },\n",
    "        'another_key': {\n",
    "            'nested_list': [10, 20, 30],\n",
    "            'nested_dict': {\n",
    "                'key1': 'value1',\n",
    "                'key2': 'value2'\n",
    "            }\n",
    "        }\n",
    "    },\n",
    "    'top_level_list': [\n",
    "        {'list_dict1': 'value11'},\n",
    "        {'list_dict2': 'value21'},\n",
    "        [100, 200, 300]\n",
    "    ]\n",
    "}\n",
    "```"
   ]
  },
  {
   "cell_type": "markdown",
   "metadata": {},
   "source": [
    "### Exercise 1\n",
    "\n",
    "Access the value `'value'` in `nested_dict`."
   ]
  },
  {
   "cell_type": "code",
   "execution_count": 2,
   "metadata": {},
   "outputs": [
    {
     "name": "stdout",
     "output_type": "stream",
     "text": [
      "value\n"
     ]
    }
   ],
   "source": [
    "nested_dict = {\n",
    "    'level1': {\n",
    "        'level2': {\n",
    "            'level3': [1, 2, 3, {'level4': 'value'}],\n",
    "            'another_list': ['a', 'b', 'c']\n",
    "        },\n",
    "        'another_key': {\n",
    "            'nested_list': [10, 20, 30],\n",
    "            'nested_dict': {\n",
    "                'key1': 'value1',\n",
    "                'key2': 'value2'\n",
    "            }\n",
    "        }\n",
    "    },\n",
    "    'top_level_list': [\n",
    "        {'list_dict1': 'value11'},\n",
    "        {'list_dict2': 'value21'},\n",
    "        [100, 200, 300]\n",
    "    ]\n",
    "}\n",
    "\n",
    "print(nested_dict['level1']['level2']['level3'][3]['level4'])"
   ]
  },
  {
   "cell_type": "markdown",
   "metadata": {},
   "source": [
    "### Exercise 2\n",
    "\n",
    "Access the value `'value2'` in `nested_dict`."
   ]
  },
  {
   "cell_type": "code",
   "execution_count": 3,
   "metadata": {},
   "outputs": [
    {
     "name": "stdout",
     "output_type": "stream",
     "text": [
      "value2\n"
     ]
    }
   ],
   "source": [
    "print(nested_dict['level1']['another_key']['nested_dict']['key2'])"
   ]
  },
  {
   "cell_type": "markdown",
   "metadata": {},
   "source": [
    "### Exercise 3\n",
    "\n",
    "Create a tuple, find a way to add a value to it."
   ]
  },
  {
   "cell_type": "code",
   "execution_count": 4,
   "metadata": {},
   "outputs": [
    {
     "name": "stdout",
     "output_type": "stream",
     "text": [
      "(1, 2, 3, 4)\n"
     ]
    }
   ],
   "source": [
    "my_tuple = (1, 2, 3)\n",
    "\n",
    "my_list = list(my_tuple)\n",
    "\n",
    "my_list.append(4)\n",
    "\n",
    "my_tuple = tuple(my_list)\n",
    "\n",
    "print(my_tuple)"
   ]
  },
  {
   "cell_type": "markdown",
   "metadata": {},
   "source": [
    "### Exercise 4\n",
    "\n",
    "In these 3 sets, which elements are common to all of them?\n",
    "\n",
    "```python\n",
    "set1 = {1, 2, 3, 4, 5}\n",
    "set2 = {0, 2, 4, 6, 8}\n",
    "set3 = {2, 4, 6, 8, 10}\n",
    "```"
   ]
  },
  {
   "cell_type": "code",
   "execution_count": 5,
   "metadata": {},
   "outputs": [
    {
     "name": "stdout",
     "output_type": "stream",
     "text": [
      "{2, 4}\n"
     ]
    }
   ],
   "source": [
    "set1 = {1, 2, 3, 4, 5}\n",
    "set2 = {0, 2, 4, 6, 8}\n",
    "set3 = {2, 4, 6, 8, 10}\n",
    "\n",
    "print(set1 & set2 & set3)"
   ]
  },
  {
   "cell_type": "code",
   "execution_count": 13,
   "metadata": {},
   "outputs": [
    {
     "data": {
      "text/plain": [
       "set()"
      ]
     },
     "execution_count": 13,
     "metadata": {},
     "output_type": "execute_result"
    }
   ],
   "source": [
    "(set1 & set2) - set3 "
   ]
  },
  {
   "cell_type": "markdown",
   "metadata": {},
   "source": [
    "### Exercise 5\n",
    "\n",
    "For the same sets, which elements are in at least one of them?"
   ]
  },
  {
   "cell_type": "code",
   "execution_count": 6,
   "metadata": {},
   "outputs": [
    {
     "data": {
      "text/plain": [
       "{0, 1, 2, 3, 4, 5, 6, 8, 10}"
      ]
     },
     "execution_count": 6,
     "metadata": {},
     "output_type": "execute_result"
    }
   ],
   "source": [
    "set1 | set2 | set3"
   ]
  },
  {
   "cell_type": "markdown",
   "metadata": {},
   "source": [
    "### Exercise 6\n",
    "\n",
    "Using the train dictionary from class, answer the following questions:\n",
    "\n",
    "* How many passengers are there in total?\n",
    "* How many passengers are there in each train car?"
   ]
  },
  {
   "cell_type": "code",
   "execution_count": null,
   "metadata": {},
   "outputs": [],
   "source": []
  },
  {
   "cell_type": "markdown",
   "metadata": {},
   "source": [
    "### Exercise 7\n",
    "\n",
    "Create a dictionary with the following keys: `'a'`, `'b'`, `'c'`, `'d'`. For each key, the value should be a list of letters containing all the letters of the alphabet, except the letter that corresponds to the key. For example, the value of the key `'b'` should be `['a', 'c', 'd', 'e', ..., 'z']`."
   ]
  },
  {
   "cell_type": "code",
   "execution_count": null,
   "metadata": {},
   "outputs": [],
   "source": []
  }
 ],
 "metadata": {
  "kernelspec": {
   "display_name": "Python 3",
   "language": "python",
   "name": "python3"
  },
  "language_info": {
   "codemirror_mode": {
    "name": "ipython",
    "version": 3
   },
   "file_extension": ".py",
   "mimetype": "text/x-python",
   "name": "python",
   "nbconvert_exporter": "python",
   "pygments_lexer": "ipython3",
   "version": "3.8.2"
  }
 },
 "nbformat": 4,
 "nbformat_minor": 2
}
