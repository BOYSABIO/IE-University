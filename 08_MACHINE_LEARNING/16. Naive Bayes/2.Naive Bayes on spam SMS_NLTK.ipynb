{
 "cells": [
  {
   "cell_type": "markdown",
   "id": "d56f3b7e",
   "metadata": {},
   "source": [
    "# Naive Bayes for text classification"
   ]
  },
  {
   "cell_type": "markdown",
   "id": "84b87310-0687-4000-95c2-c680a1aca7c6",
   "metadata": {},
   "source": [
    "Example to detect spam sms\n",
    "<BR> This exercise makes use of frequent text processes when using a NB model"
   ]
  },
  {
   "cell_type": "markdown",
   "id": "a3d0165e",
   "metadata": {},
   "source": [
    "### Read data: a known repository of sms spam data"
   ]
  },
  {
   "cell_type": "code",
   "execution_count": 1,
   "id": "e76203e8-3d02-46e7-95bc-a472d791f09e",
   "metadata": {},
   "outputs": [],
   "source": [
    "import warnings\n",
    "warnings.filterwarnings(\"ignore\")"
   ]
  },
  {
   "cell_type": "code",
   "execution_count": 2,
   "id": "51adefc0",
   "metadata": {},
   "outputs": [
    {
     "data": {
      "text/html": [
       "<div>\n",
       "<style scoped>\n",
       "    .dataframe tbody tr th:only-of-type {\n",
       "        vertical-align: middle;\n",
       "    }\n",
       "\n",
       "    .dataframe tbody tr th {\n",
       "        vertical-align: top;\n",
       "    }\n",
       "\n",
       "    .dataframe thead th {\n",
       "        text-align: right;\n",
       "    }\n",
       "</style>\n",
       "<table border=\"1\" class=\"dataframe\">\n",
       "  <thead>\n",
       "    <tr style=\"text-align: right;\">\n",
       "      <th></th>\n",
       "      <th>type</th>\n",
       "      <th>message</th>\n",
       "    </tr>\n",
       "  </thead>\n",
       "  <tbody>\n",
       "    <tr>\n",
       "      <th>0</th>\n",
       "      <td>ham</td>\n",
       "      <td>Ok lar... Joking wif u oni...</td>\n",
       "    </tr>\n",
       "    <tr>\n",
       "      <th>1</th>\n",
       "      <td>spam</td>\n",
       "      <td>Free entry in 2 a wkly comp to win FA Cup fina...</td>\n",
       "    </tr>\n",
       "    <tr>\n",
       "      <th>2</th>\n",
       "      <td>ham</td>\n",
       "      <td>U dun say so early hor... U c already then say...</td>\n",
       "    </tr>\n",
       "    <tr>\n",
       "      <th>3</th>\n",
       "      <td>ham</td>\n",
       "      <td>Nah I don't think he goes to usf, he lives aro...</td>\n",
       "    </tr>\n",
       "    <tr>\n",
       "      <th>4</th>\n",
       "      <td>spam</td>\n",
       "      <td>FreeMsg Hey there darling it's been 3 week's n...</td>\n",
       "    </tr>\n",
       "    <tr>\n",
       "      <th>...</th>\n",
       "      <td>...</td>\n",
       "      <td>...</td>\n",
       "    </tr>\n",
       "    <tr>\n",
       "      <th>5566</th>\n",
       "      <td>spam</td>\n",
       "      <td>This is the 2nd time we have tried 2 contact u...</td>\n",
       "    </tr>\n",
       "    <tr>\n",
       "      <th>5567</th>\n",
       "      <td>ham</td>\n",
       "      <td>Will ü b going to esplanade fr home?</td>\n",
       "    </tr>\n",
       "    <tr>\n",
       "      <th>5568</th>\n",
       "      <td>ham</td>\n",
       "      <td>Pity, * was in mood for that. So...any other s...</td>\n",
       "    </tr>\n",
       "    <tr>\n",
       "      <th>5569</th>\n",
       "      <td>ham</td>\n",
       "      <td>The guy did some bitching but I acted like i'd...</td>\n",
       "    </tr>\n",
       "    <tr>\n",
       "      <th>5570</th>\n",
       "      <td>ham</td>\n",
       "      <td>Rofl. Its true to its name</td>\n",
       "    </tr>\n",
       "  </tbody>\n",
       "</table>\n",
       "<p>5571 rows × 2 columns</p>\n",
       "</div>"
      ],
      "text/plain": [
       "      type                                            message\n",
       "0      ham                      Ok lar... Joking wif u oni...\n",
       "1     spam  Free entry in 2 a wkly comp to win FA Cup fina...\n",
       "2      ham  U dun say so early hor... U c already then say...\n",
       "3      ham  Nah I don't think he goes to usf, he lives aro...\n",
       "4     spam  FreeMsg Hey there darling it's been 3 week's n...\n",
       "...    ...                                                ...\n",
       "5566  spam  This is the 2nd time we have tried 2 contact u...\n",
       "5567   ham               Will ü b going to esplanade fr home?\n",
       "5568   ham  Pity, * was in mood for that. So...any other s...\n",
       "5569   ham  The guy did some bitching but I acted like i'd...\n",
       "5570   ham                         Rofl. Its true to its name\n",
       "\n",
       "[5571 rows x 2 columns]"
      ]
     },
     "execution_count": 2,
     "metadata": {},
     "output_type": "execute_result"
    }
   ],
   "source": [
    "# ! pip install requests\n",
    "import requests \n",
    "import zipfile\n",
    "import pandas as pd\n",
    "\n",
    "url = 'https://archive.ics.uci.edu/ml/machine-learning-databases/00228/smsspamcollection.zip'\n",
    "data_file = 'SMSSpamCollection'\n",
    "\n",
    "# Make request\n",
    "resp = requests.get(url)\n",
    "\n",
    "# Get filename\n",
    "filename = url.split('/')[-1]\n",
    "\n",
    "# Download zipfile\n",
    "with open(filename, 'wb') as f:\n",
    "  f.write(resp.content)\n",
    "\n",
    "# Extract Zip\n",
    "with zipfile.ZipFile(filename, 'r') as zip:\n",
    "  zip.extractall('')\n",
    "\n",
    "# Read Dataset\n",
    "data = pd.read_table(data_file, \n",
    "                     header = 0,\n",
    "                     names = ['type', 'message']\n",
    "                     )\n",
    "\n",
    "# Show dataset\n",
    "data"
   ]
  },
  {
   "cell_type": "markdown",
   "id": "6e930345",
   "metadata": {},
   "source": [
    "#### Install the language toolkit for the text processes and everything else necessary"
   ]
  },
  {
   "cell_type": "code",
   "execution_count": 3,
   "id": "c46e7d4b",
   "metadata": {},
   "outputs": [
    {
     "name": "stderr",
     "output_type": "stream",
     "text": [
      "[nltk_data] Downloading package punkt to\n",
      "[nltk_data]     C:\\Users\\SLO\\AppData\\Roaming\\nltk_data...\n",
      "[nltk_data]   Unzipping tokenizers\\punkt.zip.\n",
      "[nltk_data] Downloading package stopwords to\n",
      "[nltk_data]     C:\\Users\\SLO\\AppData\\Roaming\\nltk_data...\n",
      "[nltk_data]   Unzipping corpora\\stopwords.zip.\n"
     ]
    }
   ],
   "source": [
    "# NLTK: Natural Language Toolkit\n",
    "# !pip install nltk\n",
    "import nltk\n",
    "nltk.download('punkt')\n",
    "nltk.download('stopwords')\n",
    "\n",
    "from nltk.stem.porter import *\n",
    "from nltk.tokenize import RegexpTokenizer"
   ]
  },
  {
   "cell_type": "markdown",
   "id": "84c8d218",
   "metadata": {},
   "source": [
    "**1st step: Tokenization**. <BR> It consists of separating the messages into words in order to be able to treat each. <BR>\n",
    "At the same time, we remove punctuation (thanks to the RegexpTokenizer function)"
   ]
  },
  {
   "cell_type": "code",
   "execution_count": 4,
   "id": "a0ec412c",
   "metadata": {},
   "outputs": [
    {
     "data": {
      "text/html": [
       "<div>\n",
       "<style scoped>\n",
       "    .dataframe tbody tr th:only-of-type {\n",
       "        vertical-align: middle;\n",
       "    }\n",
       "\n",
       "    .dataframe tbody tr th {\n",
       "        vertical-align: top;\n",
       "    }\n",
       "\n",
       "    .dataframe thead th {\n",
       "        text-align: right;\n",
       "    }\n",
       "</style>\n",
       "<table border=\"1\" class=\"dataframe\">\n",
       "  <thead>\n",
       "    <tr style=\"text-align: right;\">\n",
       "      <th></th>\n",
       "      <th>type</th>\n",
       "      <th>message</th>\n",
       "      <th>tokens</th>\n",
       "    </tr>\n",
       "  </thead>\n",
       "  <tbody>\n",
       "    <tr>\n",
       "      <th>0</th>\n",
       "      <td>ham</td>\n",
       "      <td>Ok lar... Joking wif u oni...</td>\n",
       "      <td>[Ok, lar, Joking, wif, u, oni]</td>\n",
       "    </tr>\n",
       "    <tr>\n",
       "      <th>1</th>\n",
       "      <td>spam</td>\n",
       "      <td>Free entry in 2 a wkly comp to win FA Cup fina...</td>\n",
       "      <td>[Free, entry, in, 2, a, wkly, comp, to, win, F...</td>\n",
       "    </tr>\n",
       "    <tr>\n",
       "      <th>2</th>\n",
       "      <td>ham</td>\n",
       "      <td>U dun say so early hor... U c already then say...</td>\n",
       "      <td>[U, dun, say, so, early, hor, U, c, already, t...</td>\n",
       "    </tr>\n",
       "    <tr>\n",
       "      <th>3</th>\n",
       "      <td>ham</td>\n",
       "      <td>Nah I don't think he goes to usf, he lives aro...</td>\n",
       "      <td>[Nah, I, don, t, think, he, goes, to, usf, he,...</td>\n",
       "    </tr>\n",
       "    <tr>\n",
       "      <th>4</th>\n",
       "      <td>spam</td>\n",
       "      <td>FreeMsg Hey there darling it's been 3 week's n...</td>\n",
       "      <td>[FreeMsg, Hey, there, darling, it, s, been, 3,...</td>\n",
       "    </tr>\n",
       "    <tr>\n",
       "      <th>...</th>\n",
       "      <td>...</td>\n",
       "      <td>...</td>\n",
       "      <td>...</td>\n",
       "    </tr>\n",
       "    <tr>\n",
       "      <th>5566</th>\n",
       "      <td>spam</td>\n",
       "      <td>This is the 2nd time we have tried 2 contact u...</td>\n",
       "      <td>[This, is, the, 2nd, time, we, have, tried, 2,...</td>\n",
       "    </tr>\n",
       "    <tr>\n",
       "      <th>5567</th>\n",
       "      <td>ham</td>\n",
       "      <td>Will ü b going to esplanade fr home?</td>\n",
       "      <td>[Will, ü, b, going, to, esplanade, fr, home]</td>\n",
       "    </tr>\n",
       "    <tr>\n",
       "      <th>5568</th>\n",
       "      <td>ham</td>\n",
       "      <td>Pity, * was in mood for that. So...any other s...</td>\n",
       "      <td>[Pity, was, in, mood, for, that, So, any, othe...</td>\n",
       "    </tr>\n",
       "    <tr>\n",
       "      <th>5569</th>\n",
       "      <td>ham</td>\n",
       "      <td>The guy did some bitching but I acted like i'd...</td>\n",
       "      <td>[The, guy, did, some, bitching, but, I, acted,...</td>\n",
       "    </tr>\n",
       "    <tr>\n",
       "      <th>5570</th>\n",
       "      <td>ham</td>\n",
       "      <td>Rofl. Its true to its name</td>\n",
       "      <td>[Rofl, Its, true, to, its, name]</td>\n",
       "    </tr>\n",
       "  </tbody>\n",
       "</table>\n",
       "<p>5571 rows × 3 columns</p>\n",
       "</div>"
      ],
      "text/plain": [
       "      type                                            message  \\\n",
       "0      ham                      Ok lar... Joking wif u oni...   \n",
       "1     spam  Free entry in 2 a wkly comp to win FA Cup fina...   \n",
       "2      ham  U dun say so early hor... U c already then say...   \n",
       "3      ham  Nah I don't think he goes to usf, he lives aro...   \n",
       "4     spam  FreeMsg Hey there darling it's been 3 week's n...   \n",
       "...    ...                                                ...   \n",
       "5566  spam  This is the 2nd time we have tried 2 contact u...   \n",
       "5567   ham               Will ü b going to esplanade fr home?   \n",
       "5568   ham  Pity, * was in mood for that. So...any other s...   \n",
       "5569   ham  The guy did some bitching but I acted like i'd...   \n",
       "5570   ham                         Rofl. Its true to its name   \n",
       "\n",
       "                                                 tokens  \n",
       "0                        [Ok, lar, Joking, wif, u, oni]  \n",
       "1     [Free, entry, in, 2, a, wkly, comp, to, win, F...  \n",
       "2     [U, dun, say, so, early, hor, U, c, already, t...  \n",
       "3     [Nah, I, don, t, think, he, goes, to, usf, he,...  \n",
       "4     [FreeMsg, Hey, there, darling, it, s, been, 3,...  \n",
       "...                                                 ...  \n",
       "5566  [This, is, the, 2nd, time, we, have, tried, 2,...  \n",
       "5567       [Will, ü, b, going, to, esplanade, fr, home]  \n",
       "5568  [Pity, was, in, mood, for, that, So, any, othe...  \n",
       "5569  [The, guy, did, some, bitching, but, I, acted,...  \n",
       "5570                   [Rofl, Its, true, to, its, name]  \n",
       "\n",
       "[5571 rows x 3 columns]"
      ]
     },
     "execution_count": 4,
     "metadata": {},
     "output_type": "execute_result"
    }
   ],
   "source": [
    "# Tokenize: create words from sentences, and removes punctuation\n",
    "tokenizer = RegexpTokenizer(r'\\w+')\n",
    "data['tokens'] = data.apply(lambda x: tokenizer.tokenize(x['message']), axis = 1)\n",
    "data"
   ]
  },
  {
   "cell_type": "markdown",
   "id": "a508d4df",
   "metadata": {},
   "source": [
    "**2nd step: Elimination of stop words**: <BR>Elimination of words that normally do not add value (prepositions, conjunctions, etc.), only noise (there are exceptions, though) <BR> This is done to reduce size of our dataset (already large). \n",
    "<BR> There are many sources of stopwords in Python, for English language, Spacy has 326 words, Gensim 337, Scikit-learn 318, NLTK library, 179. \n",
    "<BR> More or less words is not better in itself, you need to read them and assess whether you want to include or remove some"
   ]
  },
  {
   "cell_type": "code",
   "execution_count": 5,
   "id": "5f3b9053",
   "metadata": {},
   "outputs": [
    {
     "name": "stdout",
     "output_type": "stream",
     "text": [
      "318 stop words provided by Sklearn: \n",
      "\n",
      "frozenset({'re', 'behind', 'thence', 'even', 'detail', 'keep', 'hundred', 'fire', 'anyone', 'your', 'own', 'beforehand', 'against', 'at', 'via', 'besides', 'which', 'many', 'whatever', 'though', 'nowhere', 'anyway', 'cant', 'please', 'more', 'so', 'none', 'should', 'amount', 'thru', 'ten', 'otherwise', 'must', 'five', 'un', 'already', 'this', 'somehow', 'seem', 'my', 'throughout', 'herein', 'how', 'we', 'yourselves', 'whereafter', 'however', 'among', 'much', 'becomes', 'themselves', 'toward', 'whole', 'us', 'on', 'he', 'been', 'con', 'hence', 'else', 'therein', 'the', 'thereby', 'when', 'am', 'off', 'anywhere', 'or', 'another', 'describe', 'very', 'hereafter', 'two', 'per', 'in', 'these', 'become', 'both', 'too', 'hasnt', 'since', 'onto', 'but', 'mostly', 'for', 'were', 'nine', 'full', 'sometime', 'are', 'towards', 'will', 'be', 'everything', 'may', 'top', 'nevertheless', 'can', 'except', 'part', 'under', 'three', 'most', 'whereupon', 'bottom', 'front', 'often', 'back', 'with', 'one', 'only', 'fill', 'no', 'him', 'six', 'herself', 'they', 'forty', 'across', 'fifteen', 'our', 'rather', 'anyhow', 'afterwards', 'here', 'while', 'about', 'empty', 'wherever', 'other', 'those', 'get', 'go', 'never', 'few', 'sincere', 'twenty', 'and', 'has', 'something', 'whereby', 'almost', 'whence', 'ltd', 'between', 'thus', 'latter', 'wherein', 'together', 'done', 'some', 'meanwhile', 'neither', 'side', 'thereupon', 'third', 'noone', 'least', 'amongst', 'that', 'co', 'seemed', 'ourselves', 'hers', 'thin', 'well', 'its', 'yet', 'who', 'everywhere', 'nothing', 'after', 'thick', 'what', 'it', 'have', 'up', 'without', 'a', 'anything', 'everyone', 'see', 'serious', 'show', 'during', 'inc', 'mill', 'same', 'somewhere', 'such', 'was', 'next', 'either', 'indeed', 'do', 'myself', 'bill', 'became', 'than', 'around', 'all', 'from', 'his', 'i', 'take', 'whoever', 'being', 'latterly', 'couldnt', 'give', 'whither', 'beside', 'former', 'cannot', 'twelve', 'me', 'nobody', 'first', 'put', 'of', 'upon', 'also', 'less', 'any', 'yours', 'eight', 'to', 'could', 'others', 'whereas', 'several', 'de', 'then', 'into', 'yourself', 'beyond', 'below', 'mine', 'whom', 'cry', 'ie', 'might', 'an', 'why', 'she', 'every', 'would', 'someone', 'name', 'not', 'seems', 'therefore', 'out', 'through', 'again', 'eg', 'you', 'further', 'moreover', 'above', 'her', 'there', 'due', 'had', 'once', 'becoming', 'along', 'before', 'hereby', 'elsewhere', 'by', 'etc', 'four', 'although', 'is', 'over', 'them', 'whose', 'interest', 'ever', 'system', 'thereafter', 'sixty', 'hereupon', 'namely', 'where', 'seeming', 'still', 'fifty', 'enough', 'down', 'himself', 'last', 'their', 'as', 'perhaps', 'eleven', 'always', 'formerly', 'made', 'whenever', 'ours', 'if', 'until', 'sometimes', 'each', 'within', 'amoungst', 'call', 'move', 'now', 'because', 'whether', 'itself', 'found', 'nor', 'alone', 'find'})\n"
     ]
    }
   ],
   "source": [
    "# These are the stop words provided by Sklearn\n",
    "from sklearn.feature_extraction import text\n",
    "\n",
    "skstop = text.ENGLISH_STOP_WORDS\n",
    "print(len(skstop), \"stop words provided by Sklearn: \")\n",
    "print()\n",
    "print(text.ENGLISH_STOP_WORDS)"
   ]
  },
  {
   "cell_type": "code",
   "execution_count": 6,
   "id": "0a495b69",
   "metadata": {},
   "outputs": [
    {
     "name": "stdout",
     "output_type": "stream",
     "text": [
      "198 stop words provided by nltk: \n",
      "\n",
      "['a', 'about', 'above', 'after', 'again', 'against', 'ain', 'all', 'am', 'an', 'and', 'any', 'are', 'aren', \"aren't\", 'as', 'at', 'be', 'because', 'been', 'before', 'being', 'below', 'between', 'both', 'but', 'by', 'can', 'couldn', \"couldn't\", 'd', 'did', 'didn', \"didn't\", 'do', 'does', 'doesn', \"doesn't\", 'doing', 'don', \"don't\", 'down', 'during', 'each', 'few', 'for', 'from', 'further', 'had', 'hadn', \"hadn't\", 'has', 'hasn', \"hasn't\", 'have', 'haven', \"haven't\", 'having', 'he', \"he'd\", \"he'll\", 'her', 'here', 'hers', 'herself', \"he's\", 'him', 'himself', 'his', 'how', 'i', \"i'd\", 'if', \"i'll\", \"i'm\", 'in', 'into', 'is', 'isn', \"isn't\", 'it', \"it'd\", \"it'll\", \"it's\", 'its', 'itself', \"i've\", 'just', 'll', 'm', 'ma', 'me', 'mightn', \"mightn't\", 'more', 'most', 'mustn', \"mustn't\", 'my', 'myself', 'needn', \"needn't\", 'no', 'nor', 'not', 'now', 'o', 'of', 'off', 'on', 'once', 'only', 'or', 'other', 'our', 'ours', 'ourselves', 'out', 'over', 'own', 're', 's', 'same', 'shan', \"shan't\", 'she', \"she'd\", \"she'll\", \"she's\", 'should', 'shouldn', \"shouldn't\", \"should've\", 'so', 'some', 'such', 't', 'than', 'that', \"that'll\", 'the', 'their', 'theirs', 'them', 'themselves', 'then', 'there', 'these', 'they', \"they'd\", \"they'll\", \"they're\", \"they've\", 'this', 'those', 'through', 'to', 'too', 'under', 'until', 'up', 've', 'very', 'was', 'wasn', \"wasn't\", 'we', \"we'd\", \"we'll\", \"we're\", 'were', 'weren', \"weren't\", \"we've\", 'what', 'when', 'where', 'which', 'while', 'who', 'whom', 'why', 'will', 'with', 'won', \"won't\", 'wouldn', \"wouldn't\", 'y', 'you', \"you'd\", \"you'll\", 'your', \"you're\", 'yours', 'yourself', 'yourselves', \"you've\"]\n"
     ]
    }
   ],
   "source": [
    "# These are the stop words provided by nltk, the library we will be using in this example\n",
    "from nltk.corpus import stopwords\n",
    "nltkstop=stopwords.words('english')\n",
    "print(len(nltkstop), \"stop words provided by nltk: \")\n",
    "print()\n",
    "print(nltkstop)"
   ]
  },
  {
   "cell_type": "markdown",
   "id": "a1e7b8b5-5a99-4939-9757-10895212b37d",
   "metadata": {},
   "source": [
    "We will use the nltk list"
   ]
  },
  {
   "cell_type": "code",
   "execution_count": 7,
   "id": "dc9d03f5",
   "metadata": {},
   "outputs": [
    {
     "data": {
      "text/html": [
       "<div>\n",
       "<style scoped>\n",
       "    .dataframe tbody tr th:only-of-type {\n",
       "        vertical-align: middle;\n",
       "    }\n",
       "\n",
       "    .dataframe tbody tr th {\n",
       "        vertical-align: top;\n",
       "    }\n",
       "\n",
       "    .dataframe thead th {\n",
       "        text-align: right;\n",
       "    }\n",
       "</style>\n",
       "<table border=\"1\" class=\"dataframe\">\n",
       "  <thead>\n",
       "    <tr style=\"text-align: right;\">\n",
       "      <th></th>\n",
       "      <th>type</th>\n",
       "      <th>message</th>\n",
       "      <th>tokens</th>\n",
       "    </tr>\n",
       "  </thead>\n",
       "  <tbody>\n",
       "    <tr>\n",
       "      <th>0</th>\n",
       "      <td>ham</td>\n",
       "      <td>Ok lar... Joking wif u oni...</td>\n",
       "      <td>[Ok, lar, Joking, wif, u, oni]</td>\n",
       "    </tr>\n",
       "    <tr>\n",
       "      <th>1</th>\n",
       "      <td>spam</td>\n",
       "      <td>Free entry in 2 a wkly comp to win FA Cup fina...</td>\n",
       "      <td>[Free, entry, 2, wkly, comp, win, FA, Cup, fin...</td>\n",
       "    </tr>\n",
       "    <tr>\n",
       "      <th>2</th>\n",
       "      <td>ham</td>\n",
       "      <td>U dun say so early hor... U c already then say...</td>\n",
       "      <td>[U, dun, say, early, hor, U, c, already, say]</td>\n",
       "    </tr>\n",
       "    <tr>\n",
       "      <th>3</th>\n",
       "      <td>ham</td>\n",
       "      <td>Nah I don't think he goes to usf, he lives aro...</td>\n",
       "      <td>[Nah, I, think, goes, usf, lives, around, though]</td>\n",
       "    </tr>\n",
       "    <tr>\n",
       "      <th>4</th>\n",
       "      <td>spam</td>\n",
       "      <td>FreeMsg Hey there darling it's been 3 week's n...</td>\n",
       "      <td>[FreeMsg, Hey, darling, 3, week, word, back, I...</td>\n",
       "    </tr>\n",
       "    <tr>\n",
       "      <th>...</th>\n",
       "      <td>...</td>\n",
       "      <td>...</td>\n",
       "      <td>...</td>\n",
       "    </tr>\n",
       "    <tr>\n",
       "      <th>5566</th>\n",
       "      <td>spam</td>\n",
       "      <td>This is the 2nd time we have tried 2 contact u...</td>\n",
       "      <td>[This, 2nd, time, tried, 2, contact, u, U, 750...</td>\n",
       "    </tr>\n",
       "    <tr>\n",
       "      <th>5567</th>\n",
       "      <td>ham</td>\n",
       "      <td>Will ü b going to esplanade fr home?</td>\n",
       "      <td>[Will, ü, b, going, esplanade, fr, home]</td>\n",
       "    </tr>\n",
       "    <tr>\n",
       "      <th>5568</th>\n",
       "      <td>ham</td>\n",
       "      <td>Pity, * was in mood for that. So...any other s...</td>\n",
       "      <td>[Pity, mood, So, suggestions]</td>\n",
       "    </tr>\n",
       "    <tr>\n",
       "      <th>5569</th>\n",
       "      <td>ham</td>\n",
       "      <td>The guy did some bitching but I acted like i'd...</td>\n",
       "      <td>[The, guy, bitching, I, acted, like, intereste...</td>\n",
       "    </tr>\n",
       "    <tr>\n",
       "      <th>5570</th>\n",
       "      <td>ham</td>\n",
       "      <td>Rofl. Its true to its name</td>\n",
       "      <td>[Rofl, Its, true, name]</td>\n",
       "    </tr>\n",
       "  </tbody>\n",
       "</table>\n",
       "<p>5571 rows × 3 columns</p>\n",
       "</div>"
      ],
      "text/plain": [
       "      type                                            message  \\\n",
       "0      ham                      Ok lar... Joking wif u oni...   \n",
       "1     spam  Free entry in 2 a wkly comp to win FA Cup fina...   \n",
       "2      ham  U dun say so early hor... U c already then say...   \n",
       "3      ham  Nah I don't think he goes to usf, he lives aro...   \n",
       "4     spam  FreeMsg Hey there darling it's been 3 week's n...   \n",
       "...    ...                                                ...   \n",
       "5566  spam  This is the 2nd time we have tried 2 contact u...   \n",
       "5567   ham               Will ü b going to esplanade fr home?   \n",
       "5568   ham  Pity, * was in mood for that. So...any other s...   \n",
       "5569   ham  The guy did some bitching but I acted like i'd...   \n",
       "5570   ham                         Rofl. Its true to its name   \n",
       "\n",
       "                                                 tokens  \n",
       "0                        [Ok, lar, Joking, wif, u, oni]  \n",
       "1     [Free, entry, 2, wkly, comp, win, FA, Cup, fin...  \n",
       "2         [U, dun, say, early, hor, U, c, already, say]  \n",
       "3     [Nah, I, think, goes, usf, lives, around, though]  \n",
       "4     [FreeMsg, Hey, darling, 3, week, word, back, I...  \n",
       "...                                                 ...  \n",
       "5566  [This, 2nd, time, tried, 2, contact, u, U, 750...  \n",
       "5567           [Will, ü, b, going, esplanade, fr, home]  \n",
       "5568                      [Pity, mood, So, suggestions]  \n",
       "5569  [The, guy, bitching, I, acted, like, intereste...  \n",
       "5570                            [Rofl, Its, true, name]  \n",
       "\n",
       "[5571 rows x 3 columns]"
      ]
     },
     "execution_count": 7,
     "metadata": {},
     "output_type": "execute_result"
    }
   ],
   "source": [
    "# Remove stop words\n",
    "data['tokens'] = data['tokens'].apply(lambda x: [item for item in x if item not in nltkstop])\n",
    "data"
   ]
  },
  {
   "cell_type": "markdown",
   "id": "e9b1916c-820a-45fe-95bb-b87450e4e885",
   "metadata": {},
   "source": [
    "**3rd step: Apply stemming & lemmatization.** \n",
    "\n",
    "**Stemming**: Stemming is a process of reducing inflected words to their word stem, base or root form. This is done by removing affixes, which are word parts that are added to the root to change its meaning or grammatical function. For example, the word \"running\" can be stemmed to \"run\" by removing the suffix \"-ing\".\n",
    "\n",
    "**Lemmatization**: It is useful in NLP whenever we are working with a language in which there are words with similar meaning and different spelling:  for instance (Enlgish): good (good), better (better) and the best (best) are different words, close meanings. In these cases stemming would not work. Thus, the lemmatization would convert all those words to their base (good), in such a way that they come to mean the same thing. \n",
    "\n",
    "The nltk does not perform the conversion automatically unless it is given additional information about the type of word (adjective, noun, verb, etc). If you do not specify the grammatical category, the lemmatiser assumes that the words are nouns, and for nouns there is no direct association, for instance, between \"better\" and \"good\". This makes more complex the whole process, so we would not implement lemmatization in this example"
   ]
  },
  {
   "cell_type": "code",
   "execution_count": 8,
   "id": "fe38b915",
   "metadata": {},
   "outputs": [],
   "source": [
    "# Several alternatives for stemming, we are applying SnowballStemmer (less aggresive than others, still with some defects)\n",
    "from nltk.stem import SnowballStemmer\n",
    "stemmer = SnowballStemmer(\"english\")\n",
    "\n",
    "data['tokens'] = data['tokens'].apply(lambda x: [stemmer.stem(item) for item in x])\n",
    "data\n",
    "data.to_excel(\"data_stemming.xlsx\")"
   ]
  },
  {
   "cell_type": "code",
   "execution_count": 12,
   "id": "61b265bb-effd-4e32-a07a-b5c3cd3b1e7d",
   "metadata": {},
   "outputs": [],
   "source": [
    "# Apply Lemmatization: the following library is better option than nltk in lemmatization\n",
    "# !pip install spacy \n",
    "# python -m spacy download en_core_web_sm\n",
    "import spacy\n",
    "nlp = spacy.load(\"en_core_web_sm\")\n",
    "\n",
    "def lemmatize_spacy(tokens):\n",
    "    doc = nlp(\" \".join(tokens))\n",
    "    return [token.lemma_ for token in doc]\n",
    "\n",
    "data['tokens'] = data['tokens'].apply(lemmatize_spacy)\n",
    "data\n",
    "data.to_excel(\"data_lemmatization.xlsx\")"
   ]
  },
  {
   "cell_type": "markdown",
   "id": "149f0a6a",
   "metadata": {},
   "source": [
    "## Naive Bayes classification model"
   ]
  },
  {
   "cell_type": "markdown",
   "id": "ad4718e8-2a58-451b-b7b8-518ceb9f5563",
   "metadata": {},
   "source": [
    "Once we have processed our text, we build our model"
   ]
  },
  {
   "cell_type": "markdown",
   "id": "03bd1a7b",
   "metadata": {},
   "source": [
    "Naive Bayes model admits two types of source data:<BR>\n",
    "\n",
    "**1. A Matrix** that shows, for each document, either how many times each of the words in all the documents has appeared or how important is the word in each document compared to the whole source of data.  <BR>\n",
    "**2. An array of appearances**. It is similar to a TF matrix, but in this case, instead of indicating the number of occurrences, it simply indicates whether or not that word appeared.\n",
    "<BR>If we have plenty of data, normally a Matrix is preferred, our choice in this example"
   ]
  },
  {
   "cell_type": "markdown",
   "id": "b4f12c21",
   "metadata": {},
   "source": [
    "First, we are detokenizing the rows, that is, joining back the words, once they have been cleaned"
   ]
  },
  {
   "cell_type": "code",
   "execution_count": 13,
   "id": "b40f2e6b",
   "metadata": {},
   "outputs": [
    {
     "data": {
      "text/html": [
       "<div>\n",
       "<style scoped>\n",
       "    .dataframe tbody tr th:only-of-type {\n",
       "        vertical-align: middle;\n",
       "    }\n",
       "\n",
       "    .dataframe tbody tr th {\n",
       "        vertical-align: top;\n",
       "    }\n",
       "\n",
       "    .dataframe thead th {\n",
       "        text-align: right;\n",
       "    }\n",
       "</style>\n",
       "<table border=\"1\" class=\"dataframe\">\n",
       "  <thead>\n",
       "    <tr style=\"text-align: right;\">\n",
       "      <th></th>\n",
       "      <th>type</th>\n",
       "      <th>message</th>\n",
       "      <th>tokens</th>\n",
       "    </tr>\n",
       "  </thead>\n",
       "  <tbody>\n",
       "    <tr>\n",
       "      <th>0</th>\n",
       "      <td>ham</td>\n",
       "      <td>Ok lar... Joking wif u oni...</td>\n",
       "      <td>ok lar joke wif u oni</td>\n",
       "    </tr>\n",
       "    <tr>\n",
       "      <th>1</th>\n",
       "      <td>spam</td>\n",
       "      <td>Free entry in 2 a wkly comp to win FA Cup fina...</td>\n",
       "      <td>free entri 2 wkli comp win fa cup final tkts 2...</td>\n",
       "    </tr>\n",
       "    <tr>\n",
       "      <th>2</th>\n",
       "      <td>ham</td>\n",
       "      <td>U dun say so early hor... U c already then say...</td>\n",
       "      <td>u dun say earli hor u c alreadi say</td>\n",
       "    </tr>\n",
       "    <tr>\n",
       "      <th>3</th>\n",
       "      <td>ham</td>\n",
       "      <td>Nah I don't think he goes to usf, he lives aro...</td>\n",
       "      <td>nah I think goe usf live around though</td>\n",
       "    </tr>\n",
       "    <tr>\n",
       "      <th>4</th>\n",
       "      <td>spam</td>\n",
       "      <td>FreeMsg Hey there darling it's been 3 week's n...</td>\n",
       "      <td>freemsg hey darl 3 week word back I like fun s...</td>\n",
       "    </tr>\n",
       "    <tr>\n",
       "      <th>...</th>\n",
       "      <td>...</td>\n",
       "      <td>...</td>\n",
       "      <td>...</td>\n",
       "    </tr>\n",
       "    <tr>\n",
       "      <th>5566</th>\n",
       "      <td>spam</td>\n",
       "      <td>This is the 2nd time we have tried 2 contact u...</td>\n",
       "      <td>this 2nd time tri 2 contact u u 750 pound priz...</td>\n",
       "    </tr>\n",
       "    <tr>\n",
       "      <th>5567</th>\n",
       "      <td>ham</td>\n",
       "      <td>Will ü b going to esplanade fr home?</td>\n",
       "      <td>will ü b go esplanad fr home</td>\n",
       "    </tr>\n",
       "    <tr>\n",
       "      <th>5568</th>\n",
       "      <td>ham</td>\n",
       "      <td>Pity, * was in mood for that. So...any other s...</td>\n",
       "      <td>piti mood so suggest</td>\n",
       "    </tr>\n",
       "    <tr>\n",
       "      <th>5569</th>\n",
       "      <td>ham</td>\n",
       "      <td>The guy did some bitching but I acted like i'd...</td>\n",
       "      <td>the guy bitch I act like interest buy someth e...</td>\n",
       "    </tr>\n",
       "    <tr>\n",
       "      <th>5570</th>\n",
       "      <td>ham</td>\n",
       "      <td>Rofl. Its true to its name</td>\n",
       "      <td>rofl it true name</td>\n",
       "    </tr>\n",
       "  </tbody>\n",
       "</table>\n",
       "<p>5571 rows × 3 columns</p>\n",
       "</div>"
      ],
      "text/plain": [
       "      type                                            message  \\\n",
       "0      ham                      Ok lar... Joking wif u oni...   \n",
       "1     spam  Free entry in 2 a wkly comp to win FA Cup fina...   \n",
       "2      ham  U dun say so early hor... U c already then say...   \n",
       "3      ham  Nah I don't think he goes to usf, he lives aro...   \n",
       "4     spam  FreeMsg Hey there darling it's been 3 week's n...   \n",
       "...    ...                                                ...   \n",
       "5566  spam  This is the 2nd time we have tried 2 contact u...   \n",
       "5567   ham               Will ü b going to esplanade fr home?   \n",
       "5568   ham  Pity, * was in mood for that. So...any other s...   \n",
       "5569   ham  The guy did some bitching but I acted like i'd...   \n",
       "5570   ham                         Rofl. Its true to its name   \n",
       "\n",
       "                                                 tokens  \n",
       "0                                 ok lar joke wif u oni  \n",
       "1     free entri 2 wkli comp win fa cup final tkts 2...  \n",
       "2                   u dun say earli hor u c alreadi say  \n",
       "3                nah I think goe usf live around though  \n",
       "4     freemsg hey darl 3 week word back I like fun s...  \n",
       "...                                                 ...  \n",
       "5566  this 2nd time tri 2 contact u u 750 pound priz...  \n",
       "5567                       will ü b go esplanad fr home  \n",
       "5568                               piti mood so suggest  \n",
       "5569  the guy bitch I act like interest buy someth e...  \n",
       "5570                                  rofl it true name  \n",
       "\n",
       "[5571 rows x 3 columns]"
      ]
     },
     "execution_count": 13,
     "metadata": {},
     "output_type": "execute_result"
    }
   ],
   "source": [
    "# Unify the strings once again\n",
    "data['tokens'] = data['tokens'].apply(lambda x: ' '.join(x))\n",
    "data"
   ]
  },
  {
   "cell_type": "markdown",
   "id": "38c3ab3e",
   "metadata": {},
   "source": [
    "Now we are splitting our data as always"
   ]
  },
  {
   "cell_type": "code",
   "execution_count": 14,
   "id": "e488317d",
   "metadata": {},
   "outputs": [],
   "source": [
    "from sklearn.model_selection import train_test_split\n",
    "from sklearn.feature_extraction.text import CountVectorizer\n",
    "\n",
    "# Make split\n",
    "x_train, x_test, y_train, y_test = train_test_split(\n",
    "    data['tokens'], \n",
    "    data['type'], \n",
    "    test_size= 0.2\n",
    "    )"
   ]
  },
  {
   "cell_type": "code",
   "execution_count": 15,
   "id": "681c3b34",
   "metadata": {},
   "outputs": [
    {
     "name": "stdout",
     "output_type": "stream",
     "text": [
      "Training data set size:  4456\n",
      "Testing data set size:  1115\n"
     ]
    }
   ],
   "source": [
    "print(\"Training data set size: \", len(x_train))\n",
    "print(\"Testing data set size: \", len(x_test))"
   ]
  },
  {
   "cell_type": "markdown",
   "id": "e9ad2d69",
   "metadata": {},
   "source": [
    "And here is where we create the matrix"
   ]
  },
  {
   "cell_type": "code",
   "execution_count": 16,
   "id": "aa9c5943",
   "metadata": {},
   "outputs": [],
   "source": [
    "# Create vectorizer\n",
    "vectorizer = CountVectorizer(\n",
    "    strip_accents = 'ascii', \n",
    "    lowercase = True\n",
    "    )\n",
    "\n",
    "# Fit vectorizer & transform it\n",
    "vectorizer_fit = vectorizer.fit(x_train)\n",
    "x_train_transformed = vectorizer_fit.transform(x_train)\n",
    "x_test_transformed = vectorizer_fit.transform(x_test)"
   ]
  },
  {
   "cell_type": "code",
   "execution_count": 17,
   "id": "35ee4da2",
   "metadata": {},
   "outputs": [
    {
     "data": {
      "text/plain": [
       "<Compressed Sparse Row sparse matrix of dtype 'int64'\n",
       "\twith 9458 stored elements and shape (1115, 6387)>"
      ]
     },
     "execution_count": 17,
     "metadata": {},
     "output_type": "execute_result"
    }
   ],
   "source": [
    "x_test_transformed"
   ]
  },
  {
   "cell_type": "markdown",
   "id": "a19f099b",
   "metadata": {},
   "source": [
    "Now we build the Naive Bayes model and train it"
   ]
  },
  {
   "cell_type": "code",
   "execution_count": 18,
   "id": "2846dbe1",
   "metadata": {},
   "outputs": [],
   "source": [
    "# Build the model\n",
    "from sklearn.naive_bayes import MultinomialNB # Multinomial is adecquate for discrete data (counting of events, for instance)\n",
    "\n",
    "# Train the model\n",
    "naive_bayes = MultinomialNB()\n",
    "naive_bayes_fit = naive_bayes.fit(x_train_transformed, y_train)"
   ]
  },
  {
   "cell_type": "markdown",
   "id": "e6f12113",
   "metadata": {},
   "source": [
    "And we make predictions"
   ]
  },
  {
   "cell_type": "code",
   "execution_count": 19,
   "id": "0d41a3bf",
   "metadata": {},
   "outputs": [],
   "source": [
    "from sklearn.metrics import confusion_matrix, balanced_accuracy_score\n",
    "\n",
    "# Make predictions\n",
    "train_predict = naive_bayes_fit.predict(x_train_transformed)\n",
    "test_predict = naive_bayes_fit.predict(x_test_transformed)\n",
    "\n",
    "def get_scores(y_real, predict):\n",
    "  ba_train = balanced_accuracy_score(y_real, predict)\n",
    "  return ba_train\n",
    "\n",
    "def print_scores(scores):\n",
    "  return f\"Balanced Accuracy: {scores}\"\n",
    "\n",
    "train_scores = get_scores(y_train, train_predict)\n",
    "test_scores = get_scores(y_test, test_predict)"
   ]
  },
  {
   "cell_type": "markdown",
   "id": "600829ba",
   "metadata": {},
   "source": [
    "This is the result"
   ]
  },
  {
   "cell_type": "code",
   "execution_count": 20,
   "id": "71a12d16",
   "metadata": {},
   "outputs": [
    {
     "name": "stdout",
     "output_type": "stream",
     "text": [
      "## Train Accuracy\n",
      "Balanced Accuracy: 98.43%\n",
      "\n",
      "## Test Accuracy\n",
      "Balanced Accuracy: 96.50%\n"
     ]
    }
   ],
   "source": [
    "print(\"## Train Accuracy\")\n",
    "print(print_scores(f\"{train_scores:.2%}\"))\n",
    "print(\"\\n## Test Accuracy\")\n",
    "print(print_scores(f\"{test_scores:.2%}\"))"
   ]
  },
  {
   "cell_type": "markdown",
   "id": "2f03e905",
   "metadata": {},
   "source": [
    "And the confusion matrix"
   ]
  },
  {
   "cell_type": "code",
   "execution_count": 21,
   "id": "b937c693",
   "metadata": {},
   "outputs": [
    {
     "name": "stdout",
     "output_type": "stream",
     "text": [
      "Confusion Matrix\n"
     ]
    },
    {
     "data": {
      "image/png": "[encoded data removed]",
      "text/plain": [
       "<Figure size 640x480 with 1 Axes>"
      ]
     },
     "metadata": {},
     "output_type": "display_data"
    }
   ],
   "source": [
    "from sklearn.metrics import confusion_matrix, accuracy_score\n",
    "import seaborn as sns\n",
    "import matplotlib.pyplot as plt\n",
    "\n",
    "print(\"Confusion Matrix\")\n",
    "mat = confusion_matrix(y_test, test_predict)\n",
    "sns.heatmap(mat.T, square=True, annot=True, fmt='d', cbar=False,\n",
    "            xticklabels=naive_bayes_fit.classes_, yticklabels=naive_bayes_fit.classes_)\n",
    "plt.xlabel('true label')\n",
    "plt.ylabel('predicted label');"
   ]
  }
 ],
 "metadata": {
  "kernelspec": {
   "display_name": "myenv312",
   "language": "python",
   "name": "python3"
  },
  "language_info": {
   "codemirror_mode": {
    "name": "ipython",
    "version": 3
   },
   "file_extension": ".py",
   "mimetype": "text/x-python",
   "name": "python",
   "nbconvert_exporter": "python",
   "pygments_lexer": "ipython3",
   "version": "3.12.0"
  }
 },
 "nbformat": 4,
 "nbformat_minor": 5
}
