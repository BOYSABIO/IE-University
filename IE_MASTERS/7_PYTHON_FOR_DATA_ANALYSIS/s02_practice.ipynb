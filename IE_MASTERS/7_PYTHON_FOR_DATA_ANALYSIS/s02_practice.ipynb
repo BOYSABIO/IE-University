{
 "cells": [
  {
   "cell_type": "markdown",
   "metadata": {},
   "source": [
    "# Session 02: Practice\n",
    "\n",
    "* Variables and types\n",
    "* Arithmetic operations\n",
    "* Comparison operators\n",
    "* Logical operators"
   ]
  },
  {
   "cell_type": "markdown",
   "metadata": {},
   "source": [
    "## Variables and types\n",
    "\n",
    "* Create a variable named `name` and assign it a string with your name.\n",
    "* Create a variable named `age` and assign it an integer with your age.\n",
    "* Create a variable named `height` and assign it a float with your height.\n",
    "* Create a variable named `is_student` and assign it a boolean with your student status."
   ]
  },
  {
   "cell_type": "code",
   "execution_count": 2,
   "metadata": {},
   "outputs": [],
   "source": [
    "name = 'Spencer'\n",
    "age = 23\n",
    "height = 300.5\n",
    "is_student = True"
   ]
  },
  {
   "cell_type": "markdown",
   "metadata": {},
   "source": [
    "## Arithmetic, Comparison and Logical Operators\n",
    "\n",
    "* $ ((3 + 4) \\cdot 5) >= 20$\n",
    "* $ 3 + 4 \\cdot 5 / 2$\n",
    "* $ 3^2 + 4^2 = 5^2$\n",
    "* $ (3^2 + 4^2 = 5^2) \\text{or not} (17 // 3 > 6)$"
   ]
  },
  {
   "cell_type": "code",
   "execution_count": 1,
   "metadata": {},
   "outputs": [
    {
     "name": "stdout",
     "output_type": "stream",
     "text": [
      "True\n",
      "13.0\n",
      "True\n",
      "True\n"
     ]
    }
   ],
   "source": [
    "print(((3 + 4) * 5) >= 20)\n",
    "print(3 + 4 * 5 / 2)\n",
    "print((3**2 + 4**2) == 5**2)\n",
    "print((3**2 + 4**2 == 5) or not(17//3 > 6))"
   ]
  },
  {
   "cell_type": "markdown",
   "metadata": {},
   "source": [
    "## Pizza restaurant\n",
    "\n",
    "A pizza restaurant offers three sizes of pizza: small, medium, and large. The prices and radius for each size are as follows:\n",
    "\n",
    "| Size | Price | Radius |\n",
    "|------|-------|--------|\n",
    "| S    | 11    | 12     |\n",
    "| M    | 20    | 25     |\n",
    "| L    | 30    | 35     |\n",
    "\n"
   ]
  },
  {
   "cell_type": "markdown",
   "metadata": {},
   "source": [
    "### Exercise 1\n",
    "\n",
    "The sales report of 3 consecutive days is:\n",
    "\n",
    "| Day | Small | Medium | Large |\n",
    "|-----|-------|--------|-------|\n",
    "| 1   | 20    | 7     | 11    |\n",
    "| 2   | 15    | 20     | 4    |\n",
    "| 3   | 13    | 15     | 7    |\n",
    "\n",
    "Which day had the highest revenue?"
   ]
  },
  {
   "cell_type": "code",
   "execution_count": 11,
   "metadata": {},
   "outputs": [
    {
     "name": "stdout",
     "output_type": "stream",
     "text": [
      "690 685 653\n",
      "690\n"
     ]
    }
   ],
   "source": [
    "psmall = 11\n",
    "pmedium = 20\n",
    "plarge = 30\n",
    "\n",
    "day_1 = (psmall * 20) + (pmedium * 7) + (plarge * 11)\n",
    "day_2 = (psmall * 15) + (pmedium * 20) + (plarge * 4)\n",
    "day_3 = (psmall * 13) + (pmedium * 15) + (plarge * 7)\n",
    "\n",
    "print(day_1, day_2, day_3)\n",
    "print(max(day_1, day_2, day_3))"
   ]
  },
  {
   "cell_type": "markdown",
   "metadata": {},
   "source": [
    "### Exercise 2\n",
    "\n",
    "Which size provides the most pizza per euro?"
   ]
  },
  {
   "cell_type": "code",
   "execution_count": 13,
   "metadata": {},
   "outputs": [
    {
     "name": "stdout",
     "output_type": "stream",
     "text": [
      "13.090909090909092 31.25 40.833333333333336\n",
      "40.833333333333336\n"
     ]
    }
   ],
   "source": [
    "sradius = 12\n",
    "mradius = 25\n",
    "lradius = 35\n",
    "\n",
    "small = sradius**2 / psmall\n",
    "medium = mradius**2 / pmedium\n",
    "large = lradius**2 / plarge\n",
    "\n",
    "print(small, medium, large) #medium\n",
    "print(max(small, medium, large))"
   ]
  },
  {
   "cell_type": "markdown",
   "metadata": {},
   "source": [
    "### Exercise 3\n",
    "\n",
    "Is it better to get 2 small pizzas or 1 medium pizza? \n",
    "\n",
    "What about 3 small pizzas or 1 large pizza?\n",
    "\n",
    "What about 2 medium pizzas or 1 large pizza?"
   ]
  },
  {
   "cell_type": "code",
   "execution_count": 25,
   "metadata": {},
   "outputs": [
    {
     "name": "stdout",
     "output_type": "stream",
     "text": [
      "904.32\n",
      "1962.5\n",
      "\n",
      "1356.48\n",
      "3846.5\n",
      "\n",
      "3925.0\n",
      "3846.5\n",
      "\n"
     ]
    }
   ],
   "source": [
    "# 2 small pizzas or 1 medium pizza\n",
    "area_two_small = 2 * (sradius**2) * 3.14\n",
    "area_one_med = (mradius**2) * 3.14\n",
    "print(area_two_small)\n",
    "print(area_one_med) #better\n",
    "print()\n",
    "\n",
    "# 3 small pizzass or 1 large\n",
    "area_three_small = 3 * (sradius**2) * 3.14\n",
    "area_one_large = (lradius**2) * 3.14\n",
    "print(area_three_small)\n",
    "print(area_one_large) #better\n",
    "print()\n",
    "\n",
    "# 2 mediums or 1 large\n",
    "area_two_med = 2 * (mradius**2) * 3.14\n",
    "area_one_large = (lradius**2) * 3.14\n",
    "print(area_two_med) #better\n",
    "print(area_one_large)\n",
    "print()"
   ]
  },
  {
   "cell_type": "markdown",
   "metadata": {},
   "source": [
    "### Exercise 4\n",
    "\n",
    "2 famous professional eaters are having a pizza eating contest.\n",
    "\n",
    "* The first ate 3 small pizzas, 2 medium pizzas, and 0.75 large pizza.\n",
    "* The second ate 2 small pizzas, 3 medium pizza, or 0.5 large pizza.\n",
    "\n",
    "Who won?\n",
    "\n",
    "How much total pizza did each eat?"
   ]
  },
  {
   "cell_type": "code",
   "execution_count": 26,
   "metadata": {},
   "outputs": [
    {
     "name": "stdout",
     "output_type": "stream",
     "text": [
      "First contestant: 8166.355\n",
      "Second contestant: 8715.07\n"
     ]
    }
   ],
   "source": [
    "area_small = sradius**2 * 3.14\n",
    "area_med = mradius**2 * 3.14\n",
    "area_large = lradius**2 * 3.14\n",
    "\n",
    "first = area_small * 3 + area_med * 2 + area_large * 0.75\n",
    "second = area_small * 2 + area_med * 3 + area_large * 0.5\n",
    "\n",
    "print('First contestant:', first)\n",
    "print('Second contestant:', second)"
   ]
  },
  {
   "cell_type": "code",
   "execution_count": null,
   "metadata": {},
   "outputs": [],
   "source": [
    "#HOMEWORK (How much revenue did the pizza place lose out on by agreeing on the contest?)\n"
   ]
  },
  {
   "cell_type": "markdown",
   "metadata": {},
   "source": [
    "## Wind power generation\n",
    "\n",
    "The formula that relates wind speed and power generation is:\n",
    "\n",
    "$$P = 0.5 \\cdot A \\cdot \\rho \\cdot C_p \\cdot V^3$$\n",
    "\n",
    "Where:\n",
    "\n",
    "* $P$ is the power generated in watts\n",
    "* $A$ is the area swept by the turbine blades in square meters\n",
    "* $\\rho$ is the air density in kg/m^3\n",
    "* $C_p$ is the power coefficient (a number between 0 and .59, let's assume it's 0.4)"
   ]
  },
  {
   "cell_type": "markdown",
   "metadata": {},
   "source": [
    "### Exercise 5\n",
    "\n",
    "A wind turbine has a rotor diameter of 30 meters.\n",
    "\n",
    "Calculate the power generated by the turbine at wind speed of 10 m/s."
   ]
  },
  {
   "cell_type": "code",
   "execution_count": 29,
   "metadata": {},
   "outputs": [
    {
     "name": "stdout",
     "output_type": "stream",
     "text": [
      "173092.50000000003\n"
     ]
    }
   ],
   "source": [
    "p = 1.225\n",
    "Cp = 0.4\n",
    "V = 10\n",
    "\n",
    "diameter = 30\n",
    "radius = diameter / 2\n",
    "A = radius**2 * 3.14\n",
    "\n",
    "p1 = 0.5 * A * p * Cp * V**3\n",
    "print(p1)"
   ]
  },
  {
   "cell_type": "markdown",
   "metadata": {},
   "source": [
    "### Exercise 6\n",
    "\n",
    "If the wind speed doubles, how much smaller can we make the rotor diameter to generate the same power?"
   ]
  },
  {
   "cell_type": "code",
   "execution_count": 30,
   "metadata": {},
   "outputs": [
    {
     "name": "stdout",
     "output_type": "stream",
     "text": [
      "1.4142135623730951\n"
     ]
    }
   ],
   "source": [
    "p = 1.225\n",
    "Cp = 0.4\n",
    "V = 10\n",
    "V1 = 2 * 10\n",
    "\n",
    "ratio = ((2 * V**3) / (V**3))**(1/2)\n",
    "print(ratio)"
   ]
  },
  {
   "cell_type": "markdown",
   "metadata": {},
   "source": [
    "### Exercise 7\n",
    "\n",
    "I have 1 million euros to invest in wind power generation.\n",
    "\n",
    "There are 2 possible machines, and we can only buy one type.\n",
    "\n",
    "* Machine A has a rotor diameter of 30 meters, it costs 100k euros.\n",
    "* Machine B has a rotor diameter of 40 meters, it costs 150k euros.\n",
    "\n",
    "And two possible locations, we can only access one.\n",
    "\n",
    "* Location 1 has an average wind speed of 13 m/s\n",
    "* Location 2 has an average wind speed of 15 m/s\n",
    "\n",
    "What is the best investment?"
   ]
  },
  {
   "cell_type": "code",
   "execution_count": null,
   "metadata": {},
   "outputs": [],
   "source": [
    "# HOMEWORK\n",
    "#Machine 1\n",
    "p = 1.225\n",
    "Cp = 0.4\n",
    "V3 = 13\n",
    "\n",
    "diameter = 30\n",
    "radius = diameter / 2\n",
    "A = radius**2 * 3.14\n",
    "\n",
    "p1 = 0.5 * A * p * Cp * V3**3\n",
    "print(p1)"
   ]
  }
 ],
 "metadata": {
  "kernelspec": {
   "display_name": "Python 3",
   "language": "python",
   "name": "python3"
  },
  "language_info": {
   "codemirror_mode": {
    "name": "ipython",
    "version": 3
   },
   "file_extension": ".py",
   "mimetype": "text/x-python",
   "name": "python",
   "nbconvert_exporter": "python",
   "pygments_lexer": "ipython3",
   "version": "3.8.2"
  }
 },
 "nbformat": 4,
 "nbformat_minor": 2
}
