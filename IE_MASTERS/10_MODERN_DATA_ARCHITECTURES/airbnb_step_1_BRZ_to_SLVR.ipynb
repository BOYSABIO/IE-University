{
 "cells": [
  {
   "cell_type": "markdown",
   "id": "fac94d26-6533-452e-9173-4171ce6177ee",
   "metadata": {},
   "source": [
    "# 1. Environment Setup"
   ]
  },
  {
   "cell_type": "code",
   "execution_count": 1,
   "id": "5439deee-3f22-445d-851d-e847e24498dc",
   "metadata": {},
   "outputs": [],
   "source": [
    "import pandas as pd\n",
    "pd.set_option(\"display.max_colwidth\", None)\n",
    "\n",
    "import numpy as np\n",
    "np.bool = np.bool_"
   ]
  },
  {
   "cell_type": "code",
   "execution_count": 2,
   "id": "dfdf6579-c16e-4a75-8305-ae61435fb56e",
   "metadata": {},
   "outputs": [],
   "source": [
    "#current notebook name ie. get just the notebook name from the path\n",
    "notebook_name = __session__.replace(\".ipynb\", \"\")[__session__.rfind(\"/\")+1:]"
   ]
  },
  {
   "cell_type": "code",
   "execution_count": 3,
   "id": "b27983e8-3c65-4266-a251-e5af74427572",
   "metadata": {},
   "outputs": [],
   "source": [
    "#HDFS BASE PATHS\n",
    "hdfs_lakehouse_base_path = 'hdfs://localhost:9000/lakehouse/'\n",
    "hdfs_warehouse_base_path = 'hdfs://localhost:9000/warehouse'\n",
    "hdfs_temp_base_path      = 'hdfs://localhost:9000/tmp/'"
   ]
  },
  {
   "cell_type": "code",
   "execution_count": 4,
   "id": "147f7282-eb0c-43d0-956c-23da01835bd0",
   "metadata": {},
   "outputs": [
    {
     "name": "stderr",
     "output_type": "stream",
     "text": [
      "24/12/11 15:23:42 WARN Utils: Your hostname, osbdet resolves to a loopback address: 127.0.0.1; using 10.0.2.15 instead (on interface enp0s3)\n",
      "24/12/11 15:23:42 WARN Utils: Set SPARK_LOCAL_IP if you need to bind to another address\n"
     ]
    },
    {
     "name": "stdout",
     "output_type": "stream",
     "text": [
      ":: loading settings :: url = jar:file:/home/osbdet/.jupyter_venv/lib/python3.11/site-packages/pyspark/jars/ivy-2.5.1.jar!/org/apache/ivy/core/settings/ivysettings.xml\n"
     ]
    },
    {
     "name": "stderr",
     "output_type": "stream",
     "text": [
      "Ivy Default Cache set to: /home/osbdet/.ivy2/cache\n",
      "The jars for the packages stored in: /home/osbdet/.ivy2/jars\n",
      "org.apache.spark#spark-avro_2.12 added as a dependency\n",
      "io.delta#delta-iceberg_2.12 added as a dependency\n",
      ":: resolving dependencies :: org.apache.spark#spark-submit-parent-9397b77b-f2b4-4e19-bef6-505c065bcdc7;1.0\n",
      "\tconfs: [default]\n",
      "\tfound org.apache.spark#spark-avro_2.12;3.5.0 in central\n",
      "\tfound org.tukaani#xz;1.9 in central\n",
      "\tfound io.delta#delta-iceberg_2.12;3.0.0 in central\n",
      "\tfound io.delta#delta-spark_2.12;3.0.0 in central\n",
      "\tfound io.delta#delta-storage;3.0.0 in central\n",
      "\tfound org.antlr#antlr4-runtime;4.9.3 in central\n",
      "\tfound org.scala-lang.modules#scala-collection-compat_2.12;2.1.1 in central\n",
      "\tfound com.github.ben-manes.caffeine#caffeine;2.9.3 in central\n",
      "\tfound org.checkerframework#checker-qual;3.19.0 in central\n",
      "\tfound com.google.errorprone#error_prone_annotations;2.10.0 in central\n",
      ":: resolution report :: resolve 1716ms :: artifacts dl 42ms\n",
      "\t:: modules in use:\n",
      "\tcom.github.ben-manes.caffeine#caffeine;2.9.3 from central in [default]\n",
      "\tcom.google.errorprone#error_prone_annotations;2.10.0 from central in [default]\n",
      "\tio.delta#delta-iceberg_2.12;3.0.0 from central in [default]\n",
      "\tio.delta#delta-spark_2.12;3.0.0 from central in [default]\n",
      "\tio.delta#delta-storage;3.0.0 from central in [default]\n",
      "\torg.antlr#antlr4-runtime;4.9.3 from central in [default]\n",
      "\torg.apache.spark#spark-avro_2.12;3.5.0 from central in [default]\n",
      "\torg.checkerframework#checker-qual;3.19.0 from central in [default]\n",
      "\torg.scala-lang.modules#scala-collection-compat_2.12;2.1.1 from central in [default]\n",
      "\torg.tukaani#xz;1.9 from central in [default]\n",
      "\t---------------------------------------------------------------------\n",
      "\t|                  |            modules            ||   artifacts   |\n",
      "\t|       conf       | number| search|dwnlded|evicted|| number|dwnlded|\n",
      "\t---------------------------------------------------------------------\n",
      "\t|      default     |   10  |   0   |   0   |   0   ||   10  |   0   |\n",
      "\t---------------------------------------------------------------------\n",
      ":: retrieving :: org.apache.spark#spark-submit-parent-9397b77b-f2b4-4e19-bef6-505c065bcdc7\n",
      "\tconfs: [default]\n",
      "\t0 artifacts copied, 10 already retrieved (0kB/37ms)\n",
      "24/12/11 15:23:46 WARN NativeCodeLoader: Unable to load native-hadoop library for your platform... using builtin-java classes where applicable\n",
      "Setting default log level to \"WARN\".\n",
      "To adjust logging level use sc.setLogLevel(newLevel). For SparkR, use setLogLevel(newLevel).\n",
      "Setting Spark log level to \"ERROR\".\n"
     ]
    }
   ],
   "source": [
    "# Create Spark Session\n",
    "import os\n",
    "dependencies = [\"org.apache.spark:spark-avro_2.12:3.5.0\",\n",
    "                \"io.delta:delta-iceberg_2.12:3.0.0\"]\n",
    "os.environ['PYSPARK_SUBMIT_ARGS']= f\"--packages {','.join(dependencies)} pyspark-shell\"\n",
    "os.environ['PYARROW_IGNORE_TIMEZONE'] = 'true'\n",
    "\n",
    "from pyspark.sql.session import SparkSession\n",
    "\n",
    "spark = (SparkSession.builder\n",
    "    .appName(notebook_name)\n",
    "    .config(\"spark.log.level\",\"ERROR\")\n",
    "    .config(\"spark.sql.warehouse.dir\",hdfs_warehouse_base_path)\n",
    "    .config(\"spark.sql.extensions\", \"io.delta.sql.DeltaSparkSessionExtension\")\n",
    "    .config(\"spark.sql.catalog.spark_catalog\", \"org.apache.spark.sql.delta.catalog.DeltaCatalog\")\n",
    "    .enableHiveSupport()\n",
    "    .getOrCreate()\n",
    ")"
   ]
  },
  {
   "cell_type": "markdown",
   "id": "ab20f220-b07b-4bfd-81df-4ef2adf114f2",
   "metadata": {},
   "source": [
    "# WORKING WITH THE DATA"
   ]
  },
  {
   "cell_type": "markdown",
   "id": "9e4ad1f3-a84a-4a34-a0c1-1350aa0d4f9b",
   "metadata": {},
   "source": [
    "### Listings data processing"
   ]
  },
  {
   "cell_type": "code",
   "execution_count": 5,
   "id": "23249095-6025-4b81-857c-b5d20a06fc0a",
   "metadata": {},
   "outputs": [
    {
     "name": "stderr",
     "output_type": "stream",
     "text": [
      "                                                                                \r"
     ]
    }
   ],
   "source": [
    "listings_brz = (spark.read\n",
    "              .option(\"header\",\"true\")\n",
    "                .option(\"inferschema\", \"true\")\n",
    "              .option(\"escape\",\"\\\"\")\n",
    "              .csv(f\"{hdfs_lakehouse_base_path}/bronze/airbnb/listings_data/\"))"
   ]
  },
  {
   "cell_type": "code",
   "execution_count": 6,
   "id": "5c8835f5-f58d-428a-8383-a1ca752ad81b",
   "metadata": {},
   "outputs": [
    {
     "data": {
      "text/html": [
       "<div>\n",
       "<style scoped>\n",
       "    .dataframe tbody tr th:only-of-type {\n",
       "        vertical-align: middle;\n",
       "    }\n",
       "\n",
       "    .dataframe tbody tr th {\n",
       "        vertical-align: top;\n",
       "    }\n",
       "\n",
       "    .dataframe thead th {\n",
       "        text-align: right;\n",
       "    }\n",
       "</style>\n",
       "<table border=\"1\" class=\"dataframe\">\n",
       "  <thead>\n",
       "    <tr style=\"text-align: right;\">\n",
       "      <th></th>\n",
       "      <th>listing_id</th>\n",
       "      <th>name</th>\n",
       "      <th>host_id</th>\n",
       "      <th>host_since</th>\n",
       "      <th>host_location</th>\n",
       "      <th>host_response_time</th>\n",
       "      <th>host_response_rate</th>\n",
       "      <th>host_acceptance_rate</th>\n",
       "      <th>host_is_superhost</th>\n",
       "      <th>host_total_listings_count</th>\n",
       "      <th>...</th>\n",
       "      <th>minimum_nights</th>\n",
       "      <th>maximum_nights</th>\n",
       "      <th>review_scores_rating</th>\n",
       "      <th>review_scores_accuracy</th>\n",
       "      <th>review_scores_cleanliness</th>\n",
       "      <th>review_scores_checkin</th>\n",
       "      <th>review_scores_communication</th>\n",
       "      <th>review_scores_location</th>\n",
       "      <th>review_scores_value</th>\n",
       "      <th>instant_bookable</th>\n",
       "    </tr>\n",
       "  </thead>\n",
       "  <tbody>\n",
       "    <tr>\n",
       "      <th>0</th>\n",
       "      <td>281420</td>\n",
       "      <td>Beautiful Flat in le Village Montmartre, Paris</td>\n",
       "      <td>1466919</td>\n",
       "      <td>2011-12-03</td>\n",
       "      <td>Paris, Ile-de-France, France</td>\n",
       "      <td>None</td>\n",
       "      <td>NaN</td>\n",
       "      <td>NaN</td>\n",
       "      <td>f</td>\n",
       "      <td>1</td>\n",
       "      <td>...</td>\n",
       "      <td>2</td>\n",
       "      <td>1125</td>\n",
       "      <td>100</td>\n",
       "      <td>10</td>\n",
       "      <td>10</td>\n",
       "      <td>10</td>\n",
       "      <td>10</td>\n",
       "      <td>10</td>\n",
       "      <td>10</td>\n",
       "      <td>f</td>\n",
       "    </tr>\n",
       "    <tr>\n",
       "      <th>1</th>\n",
       "      <td>3705183</td>\n",
       "      <td>39 mÂ² Paris (Sacre CÅ“ur)</td>\n",
       "      <td>10328771</td>\n",
       "      <td>2013-11-29</td>\n",
       "      <td>Paris, Ile-de-France, France</td>\n",
       "      <td>None</td>\n",
       "      <td>NaN</td>\n",
       "      <td>NaN</td>\n",
       "      <td>f</td>\n",
       "      <td>1</td>\n",
       "      <td>...</td>\n",
       "      <td>2</td>\n",
       "      <td>1125</td>\n",
       "      <td>100</td>\n",
       "      <td>10</td>\n",
       "      <td>10</td>\n",
       "      <td>10</td>\n",
       "      <td>10</td>\n",
       "      <td>10</td>\n",
       "      <td>10</td>\n",
       "      <td>f</td>\n",
       "    </tr>\n",
       "  </tbody>\n",
       "</table>\n",
       "<p>2 rows × 33 columns</p>\n",
       "</div>"
      ],
      "text/plain": [
       "   listing_id                                            name   host_id  \\\n",
       "0      281420  Beautiful Flat in le Village Montmartre, Paris   1466919   \n",
       "1     3705183                      39 mÂ² Paris (Sacre CÅ“ur)  10328771   \n",
       "\n",
       "   host_since                 host_location host_response_time  \\\n",
       "0  2011-12-03  Paris, Ile-de-France, France               None   \n",
       "1  2013-11-29  Paris, Ile-de-France, France               None   \n",
       "\n",
       "   host_response_rate  host_acceptance_rate host_is_superhost  \\\n",
       "0                 NaN                   NaN                 f   \n",
       "1                 NaN                   NaN                 f   \n",
       "\n",
       "   host_total_listings_count  ... minimum_nights maximum_nights  \\\n",
       "0                          1  ...              2           1125   \n",
       "1                          1  ...              2           1125   \n",
       "\n",
       "  review_scores_rating review_scores_accuracy review_scores_cleanliness  \\\n",
       "0                  100                     10                        10   \n",
       "1                  100                     10                        10   \n",
       "\n",
       "   review_scores_checkin  review_scores_communication review_scores_location  \\\n",
       "0                     10                           10                     10   \n",
       "1                     10                           10                     10   \n",
       "\n",
       "  review_scores_value  instant_bookable  \n",
       "0                  10                 f  \n",
       "1                  10                 f  \n",
       "\n",
       "[2 rows x 33 columns]"
      ]
     },
     "execution_count": 6,
     "metadata": {},
     "output_type": "execute_result"
    }
   ],
   "source": [
    "listings_brz.limit(2).toPandas()"
   ]
  },
  {
   "cell_type": "code",
   "execution_count": 7,
   "id": "d54c8a49-4ac2-4508-b3f0-7a9387b21a32",
   "metadata": {},
   "outputs": [
    {
     "data": {
      "text/html": [
       "<div>\n",
       "<style scoped>\n",
       "    .dataframe tbody tr th:only-of-type {\n",
       "        vertical-align: middle;\n",
       "    }\n",
       "\n",
       "    .dataframe tbody tr th {\n",
       "        vertical-align: top;\n",
       "    }\n",
       "\n",
       "    .dataframe thead th {\n",
       "        text-align: right;\n",
       "    }\n",
       "</style>\n",
       "<table border=\"1\" class=\"dataframe\">\n",
       "  <thead>\n",
       "    <tr style=\"text-align: right;\">\n",
       "      <th></th>\n",
       "      <th>listing_id</th>\n",
       "      <th>name</th>\n",
       "      <th>host_id</th>\n",
       "      <th>host_since</th>\n",
       "      <th>host_location</th>\n",
       "      <th>host_response_time</th>\n",
       "      <th>host_response_rate</th>\n",
       "      <th>host_acceptance_rate</th>\n",
       "      <th>host_is_superhost</th>\n",
       "      <th>host_total_listings_count</th>\n",
       "      <th>...</th>\n",
       "      <th>review_scores_cleanliness</th>\n",
       "      <th>review_scores_checkin</th>\n",
       "      <th>review_scores_communication</th>\n",
       "      <th>review_scores_location</th>\n",
       "      <th>review_scores_value</th>\n",
       "      <th>instant_bookable</th>\n",
       "      <th>pool</th>\n",
       "      <th>wifi</th>\n",
       "      <th>balcony</th>\n",
       "      <th>parking</th>\n",
       "    </tr>\n",
       "  </thead>\n",
       "  <tbody>\n",
       "    <tr>\n",
       "      <th>0</th>\n",
       "      <td>281420</td>\n",
       "      <td>Beautiful Flat in le Village Montmartre, Paris</td>\n",
       "      <td>1466919</td>\n",
       "      <td>2011-12-03</td>\n",
       "      <td>Paris, Ile-de-France, France</td>\n",
       "      <td>None</td>\n",
       "      <td>NaN</td>\n",
       "      <td>NaN</td>\n",
       "      <td>False</td>\n",
       "      <td>1</td>\n",
       "      <td>...</td>\n",
       "      <td>10</td>\n",
       "      <td>10</td>\n",
       "      <td>10</td>\n",
       "      <td>10</td>\n",
       "      <td>10</td>\n",
       "      <td>False</td>\n",
       "      <td>False</td>\n",
       "      <td>True</td>\n",
       "      <td>False</td>\n",
       "      <td>False</td>\n",
       "    </tr>\n",
       "    <tr>\n",
       "      <th>1</th>\n",
       "      <td>3705183</td>\n",
       "      <td>39 mÂ² Paris (Sacre CÅ“ur)</td>\n",
       "      <td>10328771</td>\n",
       "      <td>2013-11-29</td>\n",
       "      <td>Paris, Ile-de-France, France</td>\n",
       "      <td>None</td>\n",
       "      <td>NaN</td>\n",
       "      <td>NaN</td>\n",
       "      <td>False</td>\n",
       "      <td>1</td>\n",
       "      <td>...</td>\n",
       "      <td>10</td>\n",
       "      <td>10</td>\n",
       "      <td>10</td>\n",
       "      <td>10</td>\n",
       "      <td>10</td>\n",
       "      <td>False</td>\n",
       "      <td>False</td>\n",
       "      <td>True</td>\n",
       "      <td>False</td>\n",
       "      <td>False</td>\n",
       "    </tr>\n",
       "  </tbody>\n",
       "</table>\n",
       "<p>2 rows × 37 columns</p>\n",
       "</div>"
      ],
      "text/plain": [
       "   listing_id                                            name   host_id  \\\n",
       "0      281420  Beautiful Flat in le Village Montmartre, Paris   1466919   \n",
       "1     3705183                      39 mÂ² Paris (Sacre CÅ“ur)  10328771   \n",
       "\n",
       "   host_since                 host_location host_response_time  \\\n",
       "0  2011-12-03  Paris, Ile-de-France, France               None   \n",
       "1  2013-11-29  Paris, Ile-de-France, France               None   \n",
       "\n",
       "   host_response_rate  host_acceptance_rate  host_is_superhost  \\\n",
       "0                 NaN                   NaN              False   \n",
       "1                 NaN                   NaN              False   \n",
       "\n",
       "   host_total_listings_count  ...  review_scores_cleanliness  \\\n",
       "0                          1  ...                         10   \n",
       "1                          1  ...                         10   \n",
       "\n",
       "   review_scores_checkin review_scores_communication review_scores_location  \\\n",
       "0                     10                          10                     10   \n",
       "1                     10                          10                     10   \n",
       "\n",
       "  review_scores_value  instant_bookable   pool  wifi balcony  parking  \n",
       "0                  10             False  False  True   False    False  \n",
       "1                  10             False  False  True   False    False  \n",
       "\n",
       "[2 rows x 37 columns]"
      ]
     },
     "execution_count": 7,
     "metadata": {},
     "output_type": "execute_result"
    }
   ],
   "source": [
    "from pyspark.sql.functions import col, lower, when\n",
    "\n",
    "def add_amenity_columns(df, amenities_list, column_name=\"amenities\"):\n",
    "    # Iterate over the amenities list and create corresponding columns\n",
    "    for amenity in amenities_list:\n",
    "        df = df.withColumn(\n",
    "            amenity, \n",
    "            when(lower(col(column_name)).rlike(f\".*{amenity}.*\"), True).otherwise(False)\n",
    "        )\n",
    "    return df\n",
    "\n",
    "# List of amenities to check for\n",
    "amenities_list = [\"pool\", \"wifi\", \"balcony\", \"parking\"]\n",
    "\n",
    "# Apply the function to the DataFrame\n",
    "listings_brz = add_amenity_columns(listings_brz, amenities_list)\n",
    "\n",
    "def convert_to_boolean(df, columns):\n",
    "    for column in columns:\n",
    "        df = df.withColumn(\n",
    "            column, \n",
    "            when(col(column) == \"t\", True).otherwise(False)\n",
    "        )\n",
    "    return df\n",
    "\n",
    "# List of columns to convert\n",
    "columns_to_convert = [\n",
    "    \"host_is_superhost\", \n",
    "    \"host_has_profile_pic\", \n",
    "    \"host_identity_verified\",\n",
    "    \"instant_bookable\"\n",
    "]\n",
    "\n",
    "# Apply the function to convert columns\n",
    "listings_brz = convert_to_boolean(listings_brz, columns_to_convert)\n",
    "\n",
    "# Show the result\n",
    "listings_brz.limit(2).toPandas()\n"
   ]
  },
  {
   "cell_type": "code",
   "execution_count": 8,
   "id": "617cd5c9-5c58-4b34-9e1c-29c3f962083a",
   "metadata": {},
   "outputs": [
    {
     "name": "stdout",
     "output_type": "stream",
     "text": [
      "root\n",
      " |-- listing_id: integer (nullable = true)\n",
      " |-- name: string (nullable = true)\n",
      " |-- host_id: integer (nullable = true)\n",
      " |-- host_since: date (nullable = true)\n",
      " |-- host_location: string (nullable = true)\n",
      " |-- host_response_time: string (nullable = true)\n",
      " |-- host_response_rate: double (nullable = true)\n",
      " |-- host_acceptance_rate: double (nullable = true)\n",
      " |-- host_is_superhost: boolean (nullable = false)\n",
      " |-- host_total_listings_count: integer (nullable = true)\n",
      " |-- host_has_profile_pic: boolean (nullable = false)\n",
      " |-- host_identity_verified: boolean (nullable = false)\n",
      " |-- neighbourhood: string (nullable = true)\n",
      " |-- district: string (nullable = true)\n",
      " |-- city: string (nullable = true)\n",
      " |-- latitude: double (nullable = true)\n",
      " |-- longitude: double (nullable = true)\n",
      " |-- property_type: string (nullable = true)\n",
      " |-- room_type: string (nullable = true)\n",
      " |-- accommodates: integer (nullable = true)\n",
      " |-- bedrooms: integer (nullable = true)\n",
      " |-- amenities: string (nullable = true)\n",
      " |-- price: integer (nullable = true)\n",
      " |-- minimum_nights: integer (nullable = true)\n",
      " |-- maximum_nights: integer (nullable = true)\n",
      " |-- review_scores_rating: integer (nullable = true)\n",
      " |-- review_scores_accuracy: integer (nullable = true)\n",
      " |-- review_scores_cleanliness: integer (nullable = true)\n",
      " |-- review_scores_checkin: integer (nullable = true)\n",
      " |-- review_scores_communication: integer (nullable = true)\n",
      " |-- review_scores_location: integer (nullable = true)\n",
      " |-- review_scores_value: integer (nullable = true)\n",
      " |-- instant_bookable: boolean (nullable = false)\n",
      " |-- pool: boolean (nullable = false)\n",
      " |-- wifi: boolean (nullable = false)\n",
      " |-- balcony: boolean (nullable = false)\n",
      " |-- parking: boolean (nullable = false)\n",
      "\n"
     ]
    }
   ],
   "source": [
    "listings_brz.printSchema()"
   ]
  },
  {
   "cell_type": "code",
   "execution_count": 9,
   "id": "b5e8bce9-b72f-4847-a03a-ccc349ae1ac6",
   "metadata": {},
   "outputs": [
    {
     "data": {
      "text/plain": [
       "DataFrame[]"
      ]
     },
     "execution_count": 9,
     "metadata": {},
     "output_type": "execute_result"
    },
    {
     "data": {
      "text/plain": [
       "DataFrame[]"
      ]
     },
     "execution_count": 9,
     "metadata": {},
     "output_type": "execute_result"
    },
    {
     "name": "stderr",
     "output_type": "stream",
     "text": [
      "                                                                                \r"
     ]
    }
   ],
   "source": [
    "spark.sql(\"DROP SCHEMA IF EXISTS airbnb CASCADE\")\n",
    "spark.sql(\"CREATE SCHEMA IF NOT EXISTS airbnb\")\n",
    "\n",
    "(listings_brz.write\n",
    "     .format(\"delta\") \n",
    "     .mode(\"overwrite\")\n",
    "     .option(\"path\",f\"{hdfs_lakehouse_base_path}/silver/airbnb/listings/\")\n",
    "     .saveAsTable(\"airbnb.listings\")\n",
    ")"
   ]
  },
  {
   "cell_type": "markdown",
   "id": "7201ca0f-dfef-4047-bc60-0ac89d4ddb9d",
   "metadata": {},
   "source": [
    "### Reviews data"
   ]
  },
  {
   "cell_type": "code",
   "execution_count": 10,
   "id": "6be05d48-a73a-45ec-a83f-d412fae881cd",
   "metadata": {},
   "outputs": [
    {
     "name": "stderr",
     "output_type": "stream",
     "text": [
      "                                                                                \r"
     ]
    }
   ],
   "source": [
    "reviews_brz = (spark.read\n",
    "              .option(\"header\",\"true\")\n",
    "                .option(\"inferschema\", \"true\")\n",
    "              .option(\"escape\",\"\\\"\")\n",
    "              .csv(f\"{hdfs_lakehouse_base_path}/bronze/airbnb/reviews_data/\"))"
   ]
  },
  {
   "cell_type": "code",
   "execution_count": 11,
   "id": "49f67227-2772-4da0-a274-0e67ff0795bf",
   "metadata": {},
   "outputs": [
    {
     "data": {
      "text/html": [
       "<div>\n",
       "<style scoped>\n",
       "    .dataframe tbody tr th:only-of-type {\n",
       "        vertical-align: middle;\n",
       "    }\n",
       "\n",
       "    .dataframe tbody tr th {\n",
       "        vertical-align: top;\n",
       "    }\n",
       "\n",
       "    .dataframe thead th {\n",
       "        text-align: right;\n",
       "    }\n",
       "</style>\n",
       "<table border=\"1\" class=\"dataframe\">\n",
       "  <thead>\n",
       "    <tr style=\"text-align: right;\">\n",
       "      <th></th>\n",
       "      <th>listing_id</th>\n",
       "      <th>review_id</th>\n",
       "      <th>date</th>\n",
       "      <th>reviewer_id</th>\n",
       "    </tr>\n",
       "  </thead>\n",
       "  <tbody>\n",
       "    <tr>\n",
       "      <th>0</th>\n",
       "      <td>11798</td>\n",
       "      <td>330265172</td>\n",
       "      <td>2018-09-30</td>\n",
       "      <td>11863072</td>\n",
       "    </tr>\n",
       "    <tr>\n",
       "      <th>1</th>\n",
       "      <td>15383</td>\n",
       "      <td>330103585</td>\n",
       "      <td>2018-09-30</td>\n",
       "      <td>39147453</td>\n",
       "    </tr>\n",
       "    <tr>\n",
       "      <th>2</th>\n",
       "      <td>16455</td>\n",
       "      <td>329985788</td>\n",
       "      <td>2018-09-30</td>\n",
       "      <td>1125378</td>\n",
       "    </tr>\n",
       "    <tr>\n",
       "      <th>3</th>\n",
       "      <td>17919</td>\n",
       "      <td>330016899</td>\n",
       "      <td>2018-09-30</td>\n",
       "      <td>172717984</td>\n",
       "    </tr>\n",
       "    <tr>\n",
       "      <th>4</th>\n",
       "      <td>26827</td>\n",
       "      <td>329995638</td>\n",
       "      <td>2018-09-30</td>\n",
       "      <td>17542859</td>\n",
       "    </tr>\n",
       "    <tr>\n",
       "      <th>5</th>\n",
       "      <td>74561</td>\n",
       "      <td>330089224</td>\n",
       "      <td>2018-09-30</td>\n",
       "      <td>173044789</td>\n",
       "    </tr>\n",
       "    <tr>\n",
       "      <th>6</th>\n",
       "      <td>140355</td>\n",
       "      <td>330194958</td>\n",
       "      <td>2018-09-30</td>\n",
       "      <td>160093807</td>\n",
       "    </tr>\n",
       "    <tr>\n",
       "      <th>7</th>\n",
       "      <td>162163</td>\n",
       "      <td>329980859</td>\n",
       "      <td>2018-09-30</td>\n",
       "      <td>94026758</td>\n",
       "    </tr>\n",
       "    <tr>\n",
       "      <th>8</th>\n",
       "      <td>167998</td>\n",
       "      <td>329950677</td>\n",
       "      <td>2018-09-30</td>\n",
       "      <td>35388162</td>\n",
       "    </tr>\n",
       "    <tr>\n",
       "      <th>9</th>\n",
       "      <td>178188</td>\n",
       "      <td>330213008</td>\n",
       "      <td>2018-09-30</td>\n",
       "      <td>3652511</td>\n",
       "    </tr>\n",
       "  </tbody>\n",
       "</table>\n",
       "</div>"
      ],
      "text/plain": [
       "   listing_id  review_id        date  reviewer_id\n",
       "0       11798  330265172  2018-09-30     11863072\n",
       "1       15383  330103585  2018-09-30     39147453\n",
       "2       16455  329985788  2018-09-30      1125378\n",
       "3       17919  330016899  2018-09-30    172717984\n",
       "4       26827  329995638  2018-09-30     17542859\n",
       "5       74561  330089224  2018-09-30    173044789\n",
       "6      140355  330194958  2018-09-30    160093807\n",
       "7      162163  329980859  2018-09-30     94026758\n",
       "8      167998  329950677  2018-09-30     35388162\n",
       "9      178188  330213008  2018-09-30      3652511"
      ]
     },
     "execution_count": 11,
     "metadata": {},
     "output_type": "execute_result"
    }
   ],
   "source": [
    "reviews_brz.limit(10).toPandas()"
   ]
  },
  {
   "cell_type": "code",
   "execution_count": 12,
   "id": "36a9240d-f83b-4c15-ab76-56b1d52a7ea3",
   "metadata": {},
   "outputs": [
    {
     "name": "stdout",
     "output_type": "stream",
     "text": [
      "root\n",
      " |-- listing_id: integer (nullable = true)\n",
      " |-- review_id: integer (nullable = true)\n",
      " |-- date: date (nullable = true)\n",
      " |-- reviewer_id: integer (nullable = true)\n",
      "\n"
     ]
    }
   ],
   "source": [
    "reviews_brz.printSchema()"
   ]
  },
  {
   "cell_type": "code",
   "execution_count": 13,
   "id": "6f3606d0-6480-4b30-a2a7-c41d205e1e62",
   "metadata": {},
   "outputs": [
    {
     "name": "stderr",
     "output_type": "stream",
     "text": [
      "                                                                                \r"
     ]
    }
   ],
   "source": [
    "(reviews_brz.write\n",
    "     .format(\"delta\") \n",
    "     .mode(\"overwrite\")\n",
    "     .option(\"path\",f\"{hdfs_lakehouse_base_path}/silver/airbnb/reviews/\")\n",
    "     .saveAsTable(\"airbnb.reviews\")\n",
    ")"
   ]
  }
 ],
 "metadata": {
  "kernelspec": {
   "display_name": "Python 3 (ipykernel)",
   "language": "python",
   "name": "python3"
  },
  "language_info": {
   "codemirror_mode": {
    "name": "ipython",
    "version": 3
   },
   "file_extension": ".py",
   "mimetype": "text/x-python",
   "name": "python",
   "nbconvert_exporter": "python",
   "pygments_lexer": "ipython3",
   "version": "3.11.2"
  }
 },
 "nbformat": 4,
 "nbformat_minor": 5
}
