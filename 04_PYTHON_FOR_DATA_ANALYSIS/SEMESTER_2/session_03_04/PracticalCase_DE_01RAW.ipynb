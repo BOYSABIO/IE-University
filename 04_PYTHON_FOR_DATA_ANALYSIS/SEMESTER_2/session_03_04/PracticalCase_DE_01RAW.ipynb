{
 "cells": [
  {
   "cell_type": "code",
   "execution_count": 1,
   "id": "0415cc56-035e-4517-a132-c95feeff8ddf",
   "metadata": {},
   "outputs": [],
   "source": [
    "import os\n",
    "\n",
    "import pandas as pd\n",
    "from ydata_profiling import ProfileReport"
   ]
  },
  {
   "cell_type": "code",
   "execution_count": 2,
   "id": "a2764fad",
   "metadata": {},
   "outputs": [
    {
     "data": {
      "text/plain": [
       "'c:\\\\Users\\\\SLO\\\\Documents\\\\GitHub\\\\IE-University\\\\04_PYTHON_FOR_DATA_ANALYSIS\\\\SEMESTER_2\\\\session_03_04'"
      ]
     },
     "execution_count": 2,
     "metadata": {},
     "output_type": "execute_result"
    }
   ],
   "source": [
    "os.getcwd()"
   ]
  },
  {
   "cell_type": "markdown",
   "id": "8a484e8c-134d-4c40-8e7a-92f42e1c2807",
   "metadata": {},
   "source": [
    "## RAW"
   ]
  },
  {
   "cell_type": "code",
   "execution_count": 3,
   "id": "b9092ef8-fef1-460d-bcea-9db899609cc7",
   "metadata": {},
   "outputs": [
    {
     "data": {
      "text/plain": [
       "{'demographics': 'demographics.zip',\n",
       " 'epidemiology': 'epidemiology.zip',\n",
       " 'health': 'health.zip',\n",
       " 'hospitalizations': 'hospitalizations.zip',\n",
       " 'index': 'index.zip',\n",
       " 'vaccinations': 'vaccinations.zip'}"
      ]
     },
     "execution_count": 3,
     "metadata": {},
     "output_type": "execute_result"
    }
   ],
   "source": [
    "datasources = {\n",
    "    source.replace(\".zip\",\"\"):source \n",
    "    for source in os.listdir(\"data/in\") \n",
    "    if source.endswith(\".zip\")\n",
    "}\n",
    "\n",
    "datasources"
   ]
  },
  {
   "cell_type": "markdown",
   "id": "e20358e3-d4fa-484f-babf-b0f909c82804",
   "metadata": {},
   "source": [
    "### Load data sources\n",
    "\n",
    "In this part we just load all data with Pandas for further processing. In this case we just have a bunch of CSV data, but data loading (or extraction, the E of \"ETL\") can be much more complicated when we have to connect to the clients' database or when the files we have to process are Excel files with macros 😱"
   ]
  },
  {
   "cell_type": "code",
   "execution_count": 4,
   "id": "8bfa6c93-b1da-4db6-b287-ea181ee4c71f",
   "metadata": {},
   "outputs": [],
   "source": [
    "datasets = {}\n",
    "for key,value in datasources.items():\n",
    "    datasets[key] = pd.read_csv(f\"data/in/{value}\")"
   ]
  },
  {
   "cell_type": "markdown",
   "id": "a53a84b0-e501-43ea-b75f-b23760702e2a",
   "metadata": {},
   "source": [
    "### Execute a data profiling for each source\n",
    "\n",
    "To have a very brief and direct summary to understand data, we can execute a profiling on al data sources individually. This operation will give us a brief overview about the state of data and will help us to establish next steps in the following data processing phases (how to filter, how to impute missing values, if column names afre correct, etc.)"
   ]
  },
  {
   "cell_type": "code",
   "execution_count": 5,
   "id": "79dcd251-4820-4cc3-b790-765c91bac962",
   "metadata": {},
   "outputs": [
    {
     "data": {
      "application/vnd.jupyter.widget-view+json": {
       "model_id": "9be2be458e5341a0b4968de7c2b8ac3f",
       "version_major": 2,
       "version_minor": 0
      },
      "text/plain": [
       "Summarize dataset:   0%|          | 0/5 [00:00<?, ?it/s]"
      ]
     },
     "metadata": {},
     "output_type": "display_data"
    },
    {
     "data": {
      "application/vnd.jupyter.widget-view+json": {
       "model_id": "fa8e0415f7494457ae6419fa19ab8925",
       "version_major": 2,
       "version_minor": 0
      },
      "text/plain": [
       "Generate report structure:   0%|          | 0/1 [00:00<?, ?it/s]"
      ]
     },
     "metadata": {},
     "output_type": "display_data"
    },
    {
     "data": {
      "application/vnd.jupyter.widget-view+json": {
       "model_id": "4f6c436350a942b2a50b328c0df5b491",
       "version_major": 2,
       "version_minor": 0
      },
      "text/plain": [
       "Render HTML:   0%|          | 0/1 [00:00<?, ?it/s]"
      ]
     },
     "metadata": {},
     "output_type": "display_data"
    },
    {
     "data": {
      "application/vnd.jupyter.widget-view+json": {
       "model_id": "c85cc772ca5b4aec855ffcae5a42a00e",
       "version_major": 2,
       "version_minor": 0
      },
      "text/plain": [
       "Export report to file:   0%|          | 0/1 [00:00<?, ?it/s]"
      ]
     },
     "metadata": {},
     "output_type": "display_data"
    },
    {
     "data": {
      "application/vnd.jupyter.widget-view+json": {
       "model_id": "a44a7271a1c64b9eafb3a41f944ccdbc",
       "version_major": 2,
       "version_minor": 0
      },
      "text/plain": [
       "Summarize dataset:   0%|          | 0/5 [00:00<?, ?it/s]"
      ]
     },
     "metadata": {},
     "output_type": "display_data"
    },
    {
     "data": {
      "application/vnd.jupyter.widget-view+json": {
       "model_id": "2fde6535efa84c53af14d2e1b5e543ae",
       "version_major": 2,
       "version_minor": 0
      },
      "text/plain": [
       "Generate report structure:   0%|          | 0/1 [00:00<?, ?it/s]"
      ]
     },
     "metadata": {},
     "output_type": "display_data"
    },
    {
     "data": {
      "application/vnd.jupyter.widget-view+json": {
       "model_id": "7a8359769d8042758b85bc5f10030721",
       "version_major": 2,
       "version_minor": 0
      },
      "text/plain": [
       "Render HTML:   0%|          | 0/1 [00:00<?, ?it/s]"
      ]
     },
     "metadata": {},
     "output_type": "display_data"
    },
    {
     "data": {
      "application/vnd.jupyter.widget-view+json": {
       "model_id": "a56aeb0d5996499db0c67ebb8f2193b8",
       "version_major": 2,
       "version_minor": 0
      },
      "text/plain": [
       "Export report to file:   0%|          | 0/1 [00:00<?, ?it/s]"
      ]
     },
     "metadata": {},
     "output_type": "display_data"
    },
    {
     "data": {
      "application/vnd.jupyter.widget-view+json": {
       "model_id": "1281e41d380f4666adf0581eb73e2209",
       "version_major": 2,
       "version_minor": 0
      },
      "text/plain": [
       "Summarize dataset:   0%|          | 0/5 [00:00<?, ?it/s]"
      ]
     },
     "metadata": {},
     "output_type": "display_data"
    },
    {
     "data": {
      "application/vnd.jupyter.widget-view+json": {
       "model_id": "336f3f1a7a4e4e28828888d6bdbb40dd",
       "version_major": 2,
       "version_minor": 0
      },
      "text/plain": [
       "Generate report structure:   0%|          | 0/1 [00:00<?, ?it/s]"
      ]
     },
     "metadata": {},
     "output_type": "display_data"
    },
    {
     "data": {
      "application/vnd.jupyter.widget-view+json": {
       "model_id": "61f80ae1a63d4a7abf2d93620e3247b6",
       "version_major": 2,
       "version_minor": 0
      },
      "text/plain": [
       "Render HTML:   0%|          | 0/1 [00:00<?, ?it/s]"
      ]
     },
     "metadata": {},
     "output_type": "display_data"
    },
    {
     "data": {
      "application/vnd.jupyter.widget-view+json": {
       "model_id": "a6e4bcb4f768401592c6db2c358c75d9",
       "version_major": 2,
       "version_minor": 0
      },
      "text/plain": [
       "Export report to file:   0%|          | 0/1 [00:00<?, ?it/s]"
      ]
     },
     "metadata": {},
     "output_type": "display_data"
    },
    {
     "data": {
      "application/vnd.jupyter.widget-view+json": {
       "model_id": "d7662e4735af4657bff10d785c490ac4",
       "version_major": 2,
       "version_minor": 0
      },
      "text/plain": [
       "Summarize dataset:   0%|          | 0/5 [00:00<?, ?it/s]"
      ]
     },
     "metadata": {},
     "output_type": "display_data"
    },
    {
     "data": {
      "application/vnd.jupyter.widget-view+json": {
       "model_id": "7cca86ed8637446086e5896aa872a560",
       "version_major": 2,
       "version_minor": 0
      },
      "text/plain": [
       "Generate report structure:   0%|          | 0/1 [00:00<?, ?it/s]"
      ]
     },
     "metadata": {},
     "output_type": "display_data"
    },
    {
     "data": {
      "application/vnd.jupyter.widget-view+json": {
       "model_id": "297feeee3af84dee9acbcab6b27001fb",
       "version_major": 2,
       "version_minor": 0
      },
      "text/plain": [
       "Render HTML:   0%|          | 0/1 [00:00<?, ?it/s]"
      ]
     },
     "metadata": {},
     "output_type": "display_data"
    },
    {
     "data": {
      "application/vnd.jupyter.widget-view+json": {
       "model_id": "25c43d3049ee46be8cff1036f1a88c7f",
       "version_major": 2,
       "version_minor": 0
      },
      "text/plain": [
       "Export report to file:   0%|          | 0/1 [00:00<?, ?it/s]"
      ]
     },
     "metadata": {},
     "output_type": "display_data"
    },
    {
     "data": {
      "application/vnd.jupyter.widget-view+json": {
       "model_id": "3402cbe625014a97a880968b0cd8103f",
       "version_major": 2,
       "version_minor": 0
      },
      "text/plain": [
       "Summarize dataset:   0%|          | 0/5 [00:00<?, ?it/s]"
      ]
     },
     "metadata": {},
     "output_type": "display_data"
    },
    {
     "data": {
      "application/vnd.jupyter.widget-view+json": {
       "model_id": "252f7734d2b447c1bac1f3543d2d43f3",
       "version_major": 2,
       "version_minor": 0
      },
      "text/plain": [
       "Generate report structure:   0%|          | 0/1 [00:00<?, ?it/s]"
      ]
     },
     "metadata": {},
     "output_type": "display_data"
    },
    {
     "data": {
      "application/vnd.jupyter.widget-view+json": {
       "model_id": "e2956748f16d4cb0bc5552d654927c5d",
       "version_major": 2,
       "version_minor": 0
      },
      "text/plain": [
       "Render HTML:   0%|          | 0/1 [00:00<?, ?it/s]"
      ]
     },
     "metadata": {},
     "output_type": "display_data"
    },
    {
     "data": {
      "application/vnd.jupyter.widget-view+json": {
       "model_id": "ad1da47577964a9c8368df9f58090669",
       "version_major": 2,
       "version_minor": 0
      },
      "text/plain": [
       "Export report to file:   0%|          | 0/1 [00:00<?, ?it/s]"
      ]
     },
     "metadata": {},
     "output_type": "display_data"
    },
    {
     "data": {
      "application/vnd.jupyter.widget-view+json": {
       "model_id": "dcedb829467b4436af2d76727f1b6f82",
       "version_major": 2,
       "version_minor": 0
      },
      "text/plain": [
       "Summarize dataset:   0%|          | 0/5 [00:00<?, ?it/s]"
      ]
     },
     "metadata": {},
     "output_type": "display_data"
    },
    {
     "data": {
      "application/vnd.jupyter.widget-view+json": {
       "model_id": "6886e4ac651f44f1ba0dd726d47e9928",
       "version_major": 2,
       "version_minor": 0
      },
      "text/plain": [
       "Generate report structure:   0%|          | 0/1 [00:00<?, ?it/s]"
      ]
     },
     "metadata": {},
     "output_type": "display_data"
    },
    {
     "data": {
      "application/vnd.jupyter.widget-view+json": {
       "model_id": "a1e014fbd38a4a3991407a470b9f6f85",
       "version_major": 2,
       "version_minor": 0
      },
      "text/plain": [
       "Render HTML:   0%|          | 0/1 [00:00<?, ?it/s]"
      ]
     },
     "metadata": {},
     "output_type": "display_data"
    },
    {
     "data": {
      "application/vnd.jupyter.widget-view+json": {
       "model_id": "a0684632c57d47baab07fe0862ec44ac",
       "version_major": 2,
       "version_minor": 0
      },
      "text/plain": [
       "Export report to file:   0%|          | 0/1 [00:00<?, ?it/s]"
      ]
     },
     "metadata": {},
     "output_type": "display_data"
    }
   ],
   "source": [
    "os.makedirs(\"profiling\", exist_ok=True)\n",
    "\n",
    "for key,value in datasets.items():\n",
    "    profile = ProfileReport(value, minimal=True)\n",
    "    profile.to_file(f\"profiling/{key}.html\")"
   ]
  },
  {
   "cell_type": "markdown",
   "id": "e2bce86d-c4a9-4380-b3d7-209f071247be",
   "metadata": {},
   "source": [
    "### Save data into `raw` schema"
   ]
  },
  {
   "cell_type": "code",
   "execution_count": 6,
   "id": "f3e3ad0a-682d-49f2-aa2e-107610741db4",
   "metadata": {},
   "outputs": [],
   "source": [
    "os.makedirs(\"data/raw\", exist_ok=True)"
   ]
  },
  {
   "cell_type": "code",
   "execution_count": 7,
   "id": "579b9b0a-9948-4437-9c61-70b17bffd30d",
   "metadata": {},
   "outputs": [],
   "source": [
    "for key,value in datasets.items():\n",
    "    value.to_csv(f\"data/raw/{key}.zip\", index=False)"
   ]
  }
 ],
 "metadata": {
  "kernelspec": {
   "display_name": "myenv312",
   "language": "python",
   "name": "python3"
  },
  "language_info": {
   "codemirror_mode": {
    "name": "ipython",
    "version": 3
   },
   "file_extension": ".py",
   "mimetype": "text/x-python",
   "name": "python",
   "nbconvert_exporter": "python",
   "pygments_lexer": "ipython3",
   "version": "3.12.0"
  }
 },
 "nbformat": 4,
 "nbformat_minor": 5
}
