{
 "cells": [
  {
   "cell_type": "markdown",
   "metadata": {},
   "source": [
    "# Datetime Cheat Sheet in Python"
   ]
  },
  {
   "cell_type": "markdown",
   "metadata": {},
   "source": [
    "## 1. **Types of Date and Time Data**\n",
    "- **Timestamps**: Specific moments in time (e.g., \"July 4th, 2015 at 7:00 AM\").\n",
    "- **Periods**: Fixed durations between a start and end time (e.g., \"Year 2015\").\n",
    "- **Timedeltas**: Exact lengths of time (e.g., \"22.56 seconds\").\n",
    "\n",
    "---"
   ]
  },
  {
   "cell_type": "markdown",
   "metadata": {},
   "source": [
    "## 2. **Working with Native Python Datetimes**"
   ]
  },
  {
   "cell_type": "markdown",
   "metadata": {},
   "source": [
    "### Importing Modules"
   ]
  },
  {
   "cell_type": "code",
   "execution_count": 1,
   "metadata": {},
   "outputs": [],
   "source": [
    "from datetime import datetime\n",
    "from dateutil import parser"
   ]
  },
  {
   "cell_type": "markdown",
   "metadata": {},
   "source": [
    "### Creating a Datetime Object"
   ]
  },
  {
   "cell_type": "code",
   "execution_count": 2,
   "metadata": {},
   "outputs": [
    {
     "name": "stdout",
     "output_type": "stream",
     "text": [
      "2023-11-07 09:06:00\n"
     ]
    }
   ],
   "source": [
    "dt = datetime(2023, 11, 7, 9, 6)  # Year, Month, Day, Hour, Minute\n",
    "print(dt)  # Output: 2023-11-07 09:06:00"
   ]
  },
  {
   "cell_type": "markdown",
   "metadata": {},
   "source": [
    "### Parsing a String into a Datetime"
   ]
  },
  {
   "cell_type": "code",
   "execution_count": 3,
   "metadata": {},
   "outputs": [
    {
     "name": "stdout",
     "output_type": "stream",
     "text": [
      "2024-12-12 00:00:00\n"
     ]
    }
   ],
   "source": [
    "date = parser.parse(\"December 12th, 2024\")\n",
    "print(date)  # Output: 2024-12-12 00:00:00"
   ]
  },
  {
   "cell_type": "markdown",
   "metadata": {},
   "source": [
    "---"
   ]
  },
  {
   "cell_type": "markdown",
   "metadata": {},
   "source": [
    "## 3. **Formatting Dates with `strftime`**"
   ]
  },
  {
   "cell_type": "code",
   "execution_count": 4,
   "metadata": {},
   "outputs": [
    {
     "data": {
      "text/plain": [
       "'Dec 12'"
      ]
     },
     "execution_count": 4,
     "metadata": {},
     "output_type": "execute_result"
    }
   ],
   "source": [
    "date.strftime('%d-%B-%Y')  # '12-December-2024'\n",
    "date.strftime('%B, %d %Y') # 'December, 12 2024'\n",
    "date.strftime('%b %d')     # 'Dec 12'"
   ]
  },
  {
   "cell_type": "markdown",
   "metadata": {},
   "source": [
    "[Full Format Codes](https://docs.python.org/3/library/datetime.html#strftime-and-strptime-format-codes)\n",
    "\n",
    "---"
   ]
  },
  {
   "cell_type": "markdown",
   "metadata": {},
   "source": [
    "## 4. **Datetime Operations in Pandas**"
   ]
  },
  {
   "cell_type": "markdown",
   "metadata": {},
   "source": [
    "### Importing Pandas"
   ]
  },
  {
   "cell_type": "code",
   "execution_count": 5,
   "metadata": {},
   "outputs": [],
   "source": [
    "import pandas as pd\n",
    "import numpy as np"
   ]
  },
  {
   "cell_type": "markdown",
   "metadata": {},
   "source": [
    "### Timestamps, Periods, and Timedeltas"
   ]
  },
  {
   "cell_type": "code",
   "execution_count": 8,
   "metadata": {},
   "outputs": [
    {
     "name": "stdout",
     "output_type": "stream",
     "text": [
      "2025-01-01 00:00:00\n",
      "2022-08-01\n"
     ]
    }
   ],
   "source": [
    "year = pd.Timestamp(\"2025\")  # Represents the year 2025\n",
    "p = pd.Period(\"2022-08-01\")  # Represents the whole day\n",
    "\n",
    "print(year)\n",
    "print(p)"
   ]
  },
  {
   "cell_type": "markdown",
   "metadata": {},
   "source": [
    "### Checking if a Timestamp is Inside a Period"
   ]
  },
  {
   "cell_type": "code",
   "execution_count": 9,
   "metadata": {},
   "outputs": [
    {
     "data": {
      "text/plain": [
       "True"
      ]
     },
     "execution_count": 9,
     "metadata": {},
     "output_type": "execute_result"
    }
   ],
   "source": [
    "timestamp = pd.Timestamp(\"2022-08-01 20:00\")\n",
    "p.start_time < timestamp < p.end_time  # True"
   ]
  },
  {
   "cell_type": "markdown",
   "metadata": {},
   "source": [
    "---"
   ]
  },
  {
   "cell_type": "markdown",
   "metadata": {},
   "source": [
    "## 5. **Creating Datetime from Strings**"
   ]
  },
  {
   "cell_type": "markdown",
   "metadata": {},
   "source": [
    "### Converting a String to Datetime"
   ]
  },
  {
   "cell_type": "code",
   "execution_count": 11,
   "metadata": {},
   "outputs": [
    {
     "name": "stdout",
     "output_type": "stream",
     "text": [
      "0   2023-01-01\n",
      "1   2023-01-02\n",
      "dtype: datetime64[ns]\n"
     ]
    }
   ],
   "source": [
    "dt_s = pd.Series([\"2023-01-01\", \"2023-01-02\"])\n",
    "dt_s_converted = pd.to_datetime(dt_s)\n",
    "\n",
    "print(dt_s_converted)"
   ]
  },
  {
   "cell_type": "markdown",
   "metadata": {},
   "source": [
    "### Parsing Multiple Formats"
   ]
  },
  {
   "cell_type": "code",
   "execution_count": 13,
   "metadata": {},
   "outputs": [
    {
     "name": "stdout",
     "output_type": "stream",
     "text": [
      "DatetimeIndex(['2024-12-02', '2024-12-03'], dtype='datetime64[ns]', freq=None)\n"
     ]
    }
   ],
   "source": [
    "dates = pd.to_datetime([\"2 of December, 2024\", \"3 of December, 2024\"], format='%d of %B, %Y')\n",
    "print(dates)"
   ]
  },
  {
   "cell_type": "markdown",
   "metadata": {},
   "source": [
    "### Creating Timedeltas"
   ]
  },
  {
   "cell_type": "code",
   "execution_count": 14,
   "metadata": {},
   "outputs": [
    {
     "name": "stdout",
     "output_type": "stream",
     "text": [
      "0 days 01:40:00.001200\n"
     ]
    },
    {
     "name": "stderr",
     "output_type": "stream",
     "text": [
      "C:\\Users\\SABIO\\AppData\\Local\\Temp\\ipykernel_46320\\4148084025.py:1: FutureWarning: 'H' is deprecated and will be removed in a future version. Please use 'h' instead of 'H'.\n",
      "  span = pd.to_timedelta(1.666667, unit=\"H\")\n"
     ]
    }
   ],
   "source": [
    "span = pd.to_timedelta(1.666667, unit=\"H\")\n",
    "print(span)  # Timedelta('0 days 01:40:00.001200')"
   ]
  },
  {
   "cell_type": "markdown",
   "metadata": {},
   "source": [
    "---"
   ]
  },
  {
   "cell_type": "markdown",
   "metadata": {},
   "source": [
    "## 6. **Indexing by Time in Pandas**"
   ]
  },
  {
   "cell_type": "code",
   "execution_count": 15,
   "metadata": {},
   "outputs": [
    {
     "name": "stdout",
     "output_type": "stream",
     "text": [
      "2014-07-04    0\n",
      "2014-08-04    1\n",
      "dtype: int64\n"
     ]
    }
   ],
   "source": [
    "index = pd.DatetimeIndex(['2014-07-04', '2014-08-04', '2015-07-04', '2015-08-04'])\n",
    "data = pd.Series([0, 1, 2, 3], index=index)\n",
    "print(data['2014'])  # Extracts data from 2014"
   ]
  },
  {
   "cell_type": "markdown",
   "metadata": {},
   "source": [
    "---"
   ]
  },
  {
   "cell_type": "markdown",
   "metadata": {},
   "source": [
    "## 7. **Creating Sequences of Dates**"
   ]
  },
  {
   "cell_type": "code",
   "execution_count": 17,
   "metadata": {},
   "outputs": [
    {
     "name": "stdout",
     "output_type": "stream",
     "text": [
      "DatetimeIndex(['2015-07-03', '2015-07-04', '2015-07-05', '2015-07-06',\n",
      "               '2015-07-07', '2015-07-08', '2015-07-09', '2015-07-10',\n",
      "               '2015-07-11', '2015-07-12', '2015-07-13', '2015-07-14',\n",
      "               '2015-07-15', '2015-07-16', '2015-07-17', '2015-07-18',\n",
      "               '2015-07-19', '2015-07-20'],\n",
      "              dtype='datetime64[ns]', freq='D')\n",
      "DatetimeIndex(['2015-07-03 00:00:00', '2015-07-03 01:00:00',\n",
      "               '2015-07-03 02:00:00', '2015-07-03 03:00:00',\n",
      "               '2015-07-03 04:00:00', '2015-07-03 05:00:00',\n",
      "               '2015-07-03 06:00:00', '2015-07-03 07:00:00',\n",
      "               '2015-07-03 08:00:00', '2015-07-03 09:00:00',\n",
      "               ...\n",
      "               '2015-07-09 15:00:00', '2015-07-09 16:00:00',\n",
      "               '2015-07-09 17:00:00', '2015-07-09 18:00:00',\n",
      "               '2015-07-09 19:00:00', '2015-07-09 20:00:00',\n",
      "               '2015-07-09 21:00:00', '2015-07-09 22:00:00',\n",
      "               '2015-07-09 23:00:00', '2015-07-10 00:00:00'],\n",
      "              dtype='datetime64[ns]', length=169, freq='h')\n",
      "DatetimeIndex(['2015-07-01', '2015-07-02', '2015-07-03', '2015-07-04',\n",
      "               '2015-07-05', '2015-07-06', '2015-07-07', '2015-07-08'],\n",
      "              dtype='datetime64[ns]', freq='D')\n"
     ]
    },
    {
     "name": "stderr",
     "output_type": "stream",
     "text": [
      "C:\\Users\\SABIO\\AppData\\Local\\Temp\\ipykernel_46320\\3583693377.py:2: FutureWarning: 'H' is deprecated and will be removed in a future version, please use 'h' instead.\n",
      "  hourly = pd.date_range('2015-07-03', '2015-07-10', freq='H')  # Hourly Range\n"
     ]
    }
   ],
   "source": [
    "daily = pd.date_range('2015-07-03', '2015-07-20', freq='D')  # Daily Range\n",
    "hourly = pd.date_range('2015-07-03', '2015-07-10', freq='H')  # Hourly Range\n",
    "set_amount_of_periods = pd.date_range('2015-07', periods=8)  # 8 Days in July 2015\n",
    "\n",
    "print(daily)\n",
    "print(hourly)\n",
    "print(set_amount_of_periods)"
   ]
  },
  {
   "cell_type": "markdown",
   "metadata": {},
   "source": [
    "---"
   ]
  },
  {
   "cell_type": "markdown",
   "metadata": {},
   "source": [
    "## 8. **Resampling & Frequency Conversion**"
   ]
  },
  {
   "cell_type": "markdown",
   "metadata": {},
   "source": [
    "### Downsampling"
   ]
  },
  {
   "cell_type": "code",
   "execution_count": null,
   "metadata": {},
   "outputs": [],
   "source": [
    "goog_resample = goog.resample('M').mean()  # Monthly Average\n",
    "goog_freq = goog.asfreq('M')  # Last Value of the Month"
   ]
  },
  {
   "cell_type": "markdown",
   "metadata": {},
   "source": [
    "### Upsampling with Forward Fill"
   ]
  },
  {
   "cell_type": "code",
   "execution_count": null,
   "metadata": {},
   "outputs": [],
   "source": [
    "goog_d_fill = goog.asfreq('D', method='bfill')  # Fill missing values with next available value"
   ]
  },
  {
   "cell_type": "markdown",
   "metadata": {},
   "source": [
    "---"
   ]
  },
  {
   "cell_type": "markdown",
   "metadata": {},
   "source": [
    "## 9. **Time Shifting**"
   ]
  },
  {
   "cell_type": "code",
   "execution_count": null,
   "metadata": {},
   "outputs": [],
   "source": [
    "goog_shift = goog.shift(periods=1)  # Shift data by 1 day forward"
   ]
  },
  {
   "cell_type": "markdown",
   "metadata": {},
   "source": [
    "---"
   ]
  },
  {
   "cell_type": "markdown",
   "metadata": {},
   "source": [
    "## 10. **Rolling Windows**"
   ]
  },
  {
   "cell_type": "code",
   "execution_count": null,
   "metadata": {},
   "outputs": [],
   "source": [
    "goog.rolling(30).mean()  # 30-day rolling mean\n",
    "goog.rolling(30).std()   # 30-day rolling standard deviation"
   ]
  },
  {
   "cell_type": "markdown",
   "metadata": {},
   "source": [
    "---"
   ]
  },
  {
   "cell_type": "markdown",
   "metadata": {},
   "source": [
    "## 11. **Extracting Date Parts with `.dt`**"
   ]
  },
  {
   "cell_type": "code",
   "execution_count": 25,
   "metadata": {},
   "outputs": [
    {
     "data": {
      "text/html": [
       "<div>\n",
       "<style scoped>\n",
       "    .dataframe tbody tr th:only-of-type {\n",
       "        vertical-align: middle;\n",
       "    }\n",
       "\n",
       "    .dataframe tbody tr th {\n",
       "        vertical-align: top;\n",
       "    }\n",
       "\n",
       "    .dataframe thead th {\n",
       "        text-align: right;\n",
       "    }\n",
       "</style>\n",
       "<table border=\"1\" class=\"dataframe\">\n",
       "  <thead>\n",
       "    <tr style=\"text-align: right;\">\n",
       "      <th></th>\n",
       "      <th>date</th>\n",
       "      <th>values</th>\n",
       "    </tr>\n",
       "  </thead>\n",
       "  <tbody>\n",
       "    <tr>\n",
       "      <th>0</th>\n",
       "      <td>2022-01-01</td>\n",
       "      <td>12</td>\n",
       "    </tr>\n",
       "    <tr>\n",
       "      <th>1</th>\n",
       "      <td>2022-02-01</td>\n",
       "      <td>23</td>\n",
       "    </tr>\n",
       "    <tr>\n",
       "      <th>2</th>\n",
       "      <td>2022-03-01</td>\n",
       "      <td>435</td>\n",
       "    </tr>\n",
       "  </tbody>\n",
       "</table>\n",
       "</div>"
      ],
      "text/plain": [
       "        date  values\n",
       "0 2022-01-01      12\n",
       "1 2022-02-01      23\n",
       "2 2022-03-01     435"
      ]
     },
     "execution_count": 25,
     "metadata": {},
     "output_type": "execute_result"
    }
   ],
   "source": [
    "data = pd.DataFrame({\n",
    "    \"date\": pd.to_datetime(['2022-01-01', '2022-02-01', '2022-03-01']),\n",
    "    \"values\": [12, 23, 435]\n",
    "})\n",
    "\n",
    "df = data.copy()\n",
    "df"
   ]
  },
  {
   "cell_type": "code",
   "execution_count": 24,
   "metadata": {},
   "outputs": [
    {
     "data": {
      "text/html": [
       "<div>\n",
       "<style scoped>\n",
       "    .dataframe tbody tr th:only-of-type {\n",
       "        vertical-align: middle;\n",
       "    }\n",
       "\n",
       "    .dataframe tbody tr th {\n",
       "        vertical-align: top;\n",
       "    }\n",
       "\n",
       "    .dataframe thead th {\n",
       "        text-align: right;\n",
       "    }\n",
       "</style>\n",
       "<table border=\"1\" class=\"dataframe\">\n",
       "  <thead>\n",
       "    <tr style=\"text-align: right;\">\n",
       "      <th></th>\n",
       "      <th>date</th>\n",
       "      <th>values</th>\n",
       "      <th>year</th>\n",
       "      <th>month</th>\n",
       "      <th>day</th>\n",
       "      <th>day_of_week</th>\n",
       "    </tr>\n",
       "  </thead>\n",
       "  <tbody>\n",
       "    <tr>\n",
       "      <th>0</th>\n",
       "      <td>2022-01-01</td>\n",
       "      <td>12</td>\n",
       "      <td>2022</td>\n",
       "      <td>1</td>\n",
       "      <td>1</td>\n",
       "      <td>5</td>\n",
       "    </tr>\n",
       "    <tr>\n",
       "      <th>1</th>\n",
       "      <td>2022-02-01</td>\n",
       "      <td>23</td>\n",
       "      <td>2022</td>\n",
       "      <td>2</td>\n",
       "      <td>1</td>\n",
       "      <td>1</td>\n",
       "    </tr>\n",
       "    <tr>\n",
       "      <th>2</th>\n",
       "      <td>2022-03-01</td>\n",
       "      <td>435</td>\n",
       "      <td>2022</td>\n",
       "      <td>3</td>\n",
       "      <td>1</td>\n",
       "      <td>1</td>\n",
       "    </tr>\n",
       "  </tbody>\n",
       "</table>\n",
       "</div>"
      ],
      "text/plain": [
       "        date  values  year  month  day  day_of_week\n",
       "0 2022-01-01      12  2022      1    1            5\n",
       "1 2022-02-01      23  2022      2    1            1\n",
       "2 2022-03-01     435  2022      3    1            1"
      ]
     },
     "execution_count": 24,
     "metadata": {},
     "output_type": "execute_result"
    }
   ],
   "source": [
    "df['year'] = df['date'].dt.year\n",
    "df['month'] = df['date'].dt.month\n",
    "df['day'] = df['date'].dt.day\n",
    "df['day_of_week'] = df['date'].dt.day_of_week\n",
    "\n",
    "df"
   ]
  },
  {
   "cell_type": "markdown",
   "metadata": {},
   "source": [
    "---"
   ]
  },
  {
   "cell_type": "markdown",
   "metadata": {},
   "source": [
    "## 12. **Common Pandas Time Frequencies**"
   ]
  },
  {
   "cell_type": "markdown",
   "metadata": {},
   "source": [
    "| Code  | Description          | Code  | Description            |\n",
    "|-------|----------------------|-------|------------------------|\n",
    "| D     | Calendar day        | B     | Business day           |\n",
    "| W     | Weekly              | M     | Month end              |\n",
    "| Q     | Quarter end         | A     | Year end               |\n",
    "| H     | Hours               | T     | Minutes                |\n",
    "| S     | Seconds             | L     | Milliseconds           |\n",
    "| U     | Microseconds        | N     | Nanoseconds            |\n",
    "\n",
    "Additional options:\n",
    "- **Start of the period:** `MS` (Month Start), `QS` (Quarter Start), `AS` (Year Start)\n",
    "- **End of the period:** `M` (Month End), `Q` (Quarter End), `A` (Year End)\n",
    "- **Custom Frequencies:** `2H30T` (2 hours 30 minutes)\n",
    "\n",
    "---"
   ]
  }
 ],
 "metadata": {
  "kernelspec": {
   "display_name": ".venv",
   "language": "python",
   "name": "python3"
  },
  "language_info": {
   "codemirror_mode": {
    "name": "ipython",
    "version": 3
   },
   "file_extension": ".py",
   "mimetype": "text/x-python",
   "name": "python",
   "nbconvert_exporter": "python",
   "pygments_lexer": "ipython3",
   "version": "3.13.2"
  }
 },
 "nbformat": 4,
 "nbformat_minor": 2
}
