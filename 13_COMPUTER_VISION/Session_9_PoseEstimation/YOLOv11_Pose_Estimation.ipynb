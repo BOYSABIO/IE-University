{
 "cells": [
  {
   "cell_type": "markdown",
   "id": "9dd9fa3e",
   "metadata": {
    "id": "9dd9fa3e"
   },
   "source": [
    "# Human Pose Estimation with YOLOv11\n",
    "\n",
    "This notebook demonstrates how to use YOLOv11 for human detection and pose estimation.\n",
    "\n",
    "**Requirements:**\n",
    "```bash\n",
    "pip install ultralytics opencv-python numpy\n",
    "```"
   ]
  },
  {
   "cell_type": "code",
   "execution_count": 1,
   "id": "WoWMPmAP_qou",
   "metadata": {
    "colab": {
     "base_uri": "https://localhost:8080/"
    },
    "executionInfo": {
     "elapsed": 101237,
     "status": "ok",
     "timestamp": 1748940902053,
     "user": {
      "displayName": "Hind Azegrouz",
      "userId": "04469582049561885297"
     },
     "user_tz": -120
    },
    "id": "WoWMPmAP_qou",
    "outputId": "026c9086-aa30-4ff3-881a-ac4513ed5cd2"
   },
   "outputs": [
    {
     "name": "stdout",
     "output_type": "stream",
     "text": [
      "Requirement already satisfied: ultralytics in c:\\users\\sabio\\documents\\github\\ie-university\\myenv312\\lib\\site-packages (8.3.146)\n",
      "Requirement already satisfied: opencv-python in c:\\users\\sabio\\documents\\github\\ie-university\\myenv312\\lib\\site-packages (4.11.0.86)\n",
      "Requirement already satisfied: numpy in c:\\users\\sabio\\documents\\github\\ie-university\\myenv312\\lib\\site-packages (2.1.3)\n",
      "Requirement already satisfied: matplotlib>=3.3.0 in c:\\users\\sabio\\documents\\github\\ie-university\\myenv312\\lib\\site-packages (from ultralytics) (3.10.0)\n",
      "Requirement already satisfied: pillow>=7.1.2 in c:\\users\\sabio\\documents\\github\\ie-university\\myenv312\\lib\\site-packages (from ultralytics) (11.1.0)\n",
      "Requirement already satisfied: pyyaml>=5.3.1 in c:\\users\\sabio\\documents\\github\\ie-university\\myenv312\\lib\\site-packages (from ultralytics) (6.0.2)\n",
      "Requirement already satisfied: requests>=2.23.0 in c:\\users\\sabio\\documents\\github\\ie-university\\myenv312\\lib\\site-packages (from ultralytics) (2.32.3)\n",
      "Requirement already satisfied: scipy>=1.4.1 in c:\\users\\sabio\\documents\\github\\ie-university\\myenv312\\lib\\site-packages (from ultralytics) (1.15.2)\n",
      "Requirement already satisfied: torch>=1.8.0 in c:\\users\\sabio\\documents\\github\\ie-university\\myenv312\\lib\\site-packages (from ultralytics) (2.5.1+cu121)\n",
      "Requirement already satisfied: torchvision>=0.9.0 in c:\\users\\sabio\\documents\\github\\ie-university\\myenv312\\lib\\site-packages (from ultralytics) (0.20.1+cu121)\n",
      "Requirement already satisfied: tqdm>=4.64.0 in c:\\users\\sabio\\documents\\github\\ie-university\\myenv312\\lib\\site-packages (from ultralytics) (4.67.1)\n",
      "Requirement already satisfied: psutil in c:\\users\\sabio\\documents\\github\\ie-university\\myenv312\\lib\\site-packages (from ultralytics) (7.0.0)\n",
      "Requirement already satisfied: py-cpuinfo in c:\\users\\sabio\\documents\\github\\ie-university\\myenv312\\lib\\site-packages (from ultralytics) (9.0.0)\n",
      "Requirement already satisfied: pandas>=1.1.4 in c:\\users\\sabio\\documents\\github\\ie-university\\myenv312\\lib\\site-packages (from ultralytics) (2.2.3)\n",
      "Requirement already satisfied: ultralytics-thop>=2.0.0 in c:\\users\\sabio\\documents\\github\\ie-university\\myenv312\\lib\\site-packages (from ultralytics) (2.0.14)\n",
      "Requirement already satisfied: contourpy>=1.0.1 in c:\\users\\sabio\\documents\\github\\ie-university\\myenv312\\lib\\site-packages (from matplotlib>=3.3.0->ultralytics) (1.3.1)\n",
      "Requirement already satisfied: cycler>=0.10 in c:\\users\\sabio\\documents\\github\\ie-university\\myenv312\\lib\\site-packages (from matplotlib>=3.3.0->ultralytics) (0.12.1)\n",
      "Requirement already satisfied: fonttools>=4.22.0 in c:\\users\\sabio\\documents\\github\\ie-university\\myenv312\\lib\\site-packages (from matplotlib>=3.3.0->ultralytics) (4.56.0)\n",
      "Requirement already satisfied: kiwisolver>=1.3.1 in c:\\users\\sabio\\documents\\github\\ie-university\\myenv312\\lib\\site-packages (from matplotlib>=3.3.0->ultralytics) (1.4.8)\n",
      "Requirement already satisfied: packaging>=20.0 in c:\\users\\sabio\\documents\\github\\ie-university\\myenv312\\lib\\site-packages (from matplotlib>=3.3.0->ultralytics) (24.2)\n",
      "Requirement already satisfied: pyparsing>=2.3.1 in c:\\users\\sabio\\documents\\github\\ie-university\\myenv312\\lib\\site-packages (from matplotlib>=3.3.0->ultralytics) (3.2.1)\n",
      "Requirement already satisfied: python-dateutil>=2.7 in c:\\users\\sabio\\documents\\github\\ie-university\\myenv312\\lib\\site-packages (from matplotlib>=3.3.0->ultralytics) (2.9.0.post0)\n",
      "Requirement already satisfied: pytz>=2020.1 in c:\\users\\sabio\\documents\\github\\ie-university\\myenv312\\lib\\site-packages (from pandas>=1.1.4->ultralytics) (2025.1)\n",
      "Requirement already satisfied: tzdata>=2022.7 in c:\\users\\sabio\\documents\\github\\ie-university\\myenv312\\lib\\site-packages (from pandas>=1.1.4->ultralytics) (2025.1)\n",
      "Requirement already satisfied: six>=1.5 in c:\\users\\sabio\\documents\\github\\ie-university\\myenv312\\lib\\site-packages (from python-dateutil>=2.7->matplotlib>=3.3.0->ultralytics) (1.17.0)\n",
      "Requirement already satisfied: charset-normalizer<4,>=2 in c:\\users\\sabio\\documents\\github\\ie-university\\myenv312\\lib\\site-packages (from requests>=2.23.0->ultralytics) (3.4.1)\n",
      "Requirement already satisfied: idna<4,>=2.5 in c:\\users\\sabio\\documents\\github\\ie-university\\myenv312\\lib\\site-packages (from requests>=2.23.0->ultralytics) (3.7)\n",
      "Requirement already satisfied: urllib3<3,>=1.21.1 in c:\\users\\sabio\\documents\\github\\ie-university\\myenv312\\lib\\site-packages (from requests>=2.23.0->ultralytics) (2.3.0)\n",
      "Requirement already satisfied: certifi>=2017.4.17 in c:\\users\\sabio\\documents\\github\\ie-university\\myenv312\\lib\\site-packages (from requests>=2.23.0->ultralytics) (2025.1.31)\n",
      "Requirement already satisfied: filelock in c:\\users\\sabio\\documents\\github\\ie-university\\myenv312\\lib\\site-packages (from torch>=1.8.0->ultralytics) (3.18.0)\n",
      "Requirement already satisfied: typing-extensions>=4.8.0 in c:\\users\\sabio\\documents\\github\\ie-university\\myenv312\\lib\\site-packages (from torch>=1.8.0->ultralytics) (4.12.2)\n",
      "Requirement already satisfied: networkx in c:\\users\\sabio\\documents\\github\\ie-university\\myenv312\\lib\\site-packages (from torch>=1.8.0->ultralytics) (3.4.2)\n",
      "Requirement already satisfied: jinja2 in c:\\users\\sabio\\documents\\github\\ie-university\\myenv312\\lib\\site-packages (from torch>=1.8.0->ultralytics) (3.1.5)\n",
      "Requirement already satisfied: fsspec in c:\\users\\sabio\\documents\\github\\ie-university\\myenv312\\lib\\site-packages (from torch>=1.8.0->ultralytics) (2025.5.1)\n",
      "Requirement already satisfied: setuptools in c:\\users\\sabio\\documents\\github\\ie-university\\myenv312\\lib\\site-packages (from torch>=1.8.0->ultralytics) (79.0.1)\n",
      "Requirement already satisfied: sympy==1.13.1 in c:\\users\\sabio\\documents\\github\\ie-university\\myenv312\\lib\\site-packages (from torch>=1.8.0->ultralytics) (1.13.1)\n",
      "Requirement already satisfied: mpmath<1.4,>=1.1.0 in c:\\users\\sabio\\documents\\github\\ie-university\\myenv312\\lib\\site-packages (from sympy==1.13.1->torch>=1.8.0->ultralytics) (1.3.0)\n",
      "Requirement already satisfied: colorama in c:\\users\\sabio\\documents\\github\\ie-university\\myenv312\\lib\\site-packages (from tqdm>=4.64.0->ultralytics) (0.4.6)\n",
      "Requirement already satisfied: MarkupSafe>=2.0 in c:\\users\\sabio\\documents\\github\\ie-university\\myenv312\\lib\\site-packages (from jinja2->torch>=1.8.0->ultralytics) (3.0.2)\n"
     ]
    }
   ],
   "source": [
    "!pip install ultralytics opencv-python numpy"
   ]
  },
  {
   "cell_type": "code",
   "execution_count": 2,
   "id": "46cc3bc7",
   "metadata": {
    "colab": {
     "base_uri": "https://localhost:8080/"
    },
    "executionInfo": {
     "elapsed": 8808,
     "status": "ok",
     "timestamp": 1748940910867,
     "user": {
      "displayName": "Hind Azegrouz",
      "userId": "04469582049561885297"
     },
     "user_tz": -120
    },
    "id": "46cc3bc7",
    "outputId": "940a62ca-9333-4a06-d079-6366820a6725"
   },
   "outputs": [],
   "source": [
    "import cv2\n",
    "import numpy as np\n",
    "from ultralytics import YOLO\n",
    "import os"
   ]
  },
  {
   "cell_type": "code",
   "execution_count": 3,
   "id": "ea2fc247",
   "metadata": {
    "colab": {
     "base_uri": "https://localhost:8080/"
    },
    "executionInfo": {
     "elapsed": 5651,
     "status": "ok",
     "timestamp": 1748940916524,
     "user": {
      "displayName": "Hind Azegrouz",
      "userId": "04469582049561885297"
     },
     "user_tz": -120
    },
    "id": "ea2fc247",
    "outputId": "1203c723-259f-4ea7-894b-01c2e302a33e"
   },
   "outputs": [
    {
     "name": "stdout",
     "output_type": "stream",
     "text": [
      "Downloading https://github.com/ultralytics/assets/releases/download/v8.3.0/yolo11x.pt to 'yolo11x.pt'...\n"
     ]
    },
    {
     "name": "stderr",
     "output_type": "stream",
     "text": [
      "100%|██████████| 109M/109M [00:02<00:00, 54.7MB/s] \n"
     ]
    },
    {
     "name": "stdout",
     "output_type": "stream",
     "text": [
      "Downloading https://github.com/ultralytics/assets/releases/download/v8.3.0/yolo11x-pose.pt to 'yolo11x-pose.pt'...\n"
     ]
    },
    {
     "name": "stderr",
     "output_type": "stream",
     "text": [
      "100%|██████████| 113M/113M [00:02<00:00, 44.5MB/s] \n"
     ]
    }
   ],
   "source": [
    "# Load the YOLOv11 detection and pose models\n",
    "det_model = YOLO('yolo11x.pt')\n",
    "pose_model = YOLO('yolo11x-pose.pt')"
   ]
  },
  {
   "cell_type": "code",
   "execution_count": 8,
   "id": "9831340b",
   "metadata": {
    "executionInfo": {
     "elapsed": 14,
     "status": "ok",
     "timestamp": 1748940916542,
     "user": {
      "displayName": "Hind Azegrouz",
      "userId": "04469582049561885297"
     },
     "user_tz": -120
    },
    "id": "9831340b"
   },
   "outputs": [],
   "source": [
    "# Define input and output paths\n",
    "image_path = 'test_2.jpg'\n",
    "save_path = 'test_2-pose_with_skeleton.jpg'"
   ]
  },
  {
   "cell_type": "code",
   "execution_count": 9,
   "id": "2cd14b4b",
   "metadata": {
    "executionInfo": {
     "elapsed": 10,
     "status": "ok",
     "timestamp": 1748940916553,
     "user": {
      "displayName": "Hind Azegrouz",
      "userId": "04469582049561885297"
     },
     "user_tz": -120
    },
    "id": "2cd14b4b"
   },
   "outputs": [],
   "source": [
    "\n",
    "def draw_pose(image, keypoints_xy, keypoints_conf, thickness=2):\n",
    "    if keypoints_xy is None or len(keypoints_xy) == 0 or keypoints_conf is None:\n",
    "        return image\n",
    "\n",
    "    skeleton = [\n",
    "        (0, 1), (0, 2), (1, 3), (2, 4),\n",
    "        (5, 6), (5, 7), (7, 9), (6, 8),\n",
    "        (8, 10), (5, 11), (6, 12), (11, 12),\n",
    "        (11, 13), (13, 15), (12, 14), (14, 16)\n",
    "    ]\n",
    "\n",
    "    for person_idx, (kpts, confs) in enumerate(zip(keypoints_xy, keypoints_conf)):\n",
    "        for i, (x, y) in enumerate(kpts):\n",
    "            if confs[i] > 0.3:\n",
    "                cv2.circle(image, (int(x), int(y)), 3, (0, 255, 0), -1)\n",
    "\n",
    "        for i, j in skeleton:\n",
    "            if confs[i] > 0.3 and confs[j] > 0.3:\n",
    "                pt1 = (int(kpts[i][0]), int(kpts[i][1]))\n",
    "                pt2 = (int(kpts[j][0]), int(kpts[j][1]))\n",
    "                cv2.line(image, pt1, pt2, (255, 0, 0), thickness)\n",
    "\n",
    "    return image"
   ]
  },
  {
   "cell_type": "code",
   "execution_count": 10,
   "id": "486d32c3",
   "metadata": {
    "colab": {
     "base_uri": "https://localhost:8080/"
    },
    "executionInfo": {
     "elapsed": 17674,
     "status": "ok",
     "timestamp": 1748940934230,
     "user": {
      "displayName": "Hind Azegrouz",
      "userId": "04469582049561885297"
     },
     "user_tz": -120
    },
    "id": "486d32c3",
    "outputId": "ef83fd1c-d889-4362-e07f-0cb61c3582d1"
   },
   "outputs": [
    {
     "name": "stdout",
     "output_type": "stream",
     "text": [
      "\n",
      "0: 384x640 1 person, 3 bottles, 1 cup, 1 chair, 2 couchs, 1 dining table, 1 tv, 1 microwave, 27.1ms\n",
      "Speed: 2.0ms preprocess, 27.1ms inference, 2.0ms postprocess per image at shape (1, 3, 384, 640)\n",
      "\n",
      "0: 480x640 1 person, 91.4ms\n",
      "Speed: 2.1ms preprocess, 91.4ms inference, 2.7ms postprocess per image at shape (1, 3, 480, 640)\n"
     ]
    }
   ],
   "source": [
    "\n",
    "image = cv2.imread(image_path)\n",
    "if image is None:\n",
    "    raise FileNotFoundError(f\"Image not found at path: {image_path}\")\n",
    "\n",
    "image_rgb = cv2.cvtColor(image, cv2.COLOR_BGR2RGB)\n",
    "\n",
    "det_results = det_model(image_rgb)\n",
    "bboxes = []\n",
    "\n",
    "for result in det_results:\n",
    "    for box in result.boxes:\n",
    "        if int(box.cls[0]) == 0:\n",
    "            bboxes.append(box.xyxy[0].cpu().numpy())\n",
    "\n",
    "keypoints_xy = []\n",
    "keypoints_conf = []\n",
    "\n",
    "for bbox in bboxes:\n",
    "    x1, y1, x2, y2 = map(int, bbox)\n",
    "    person_crop = image_rgb[y1:y2, x1:x2]\n",
    "    pose_results = pose_model(person_crop)\n",
    "\n",
    "    for pose in pose_results:\n",
    "        if pose.keypoints is not None:\n",
    "            kpts = pose.keypoints.xy[0].cpu().numpy()\n",
    "            confs = pose.keypoints.conf[0].cpu().numpy()\n",
    "            kpts[:, 0] += x1\n",
    "            kpts[:, 1] += y1\n",
    "            keypoints_xy.append(kpts)\n",
    "            keypoints_conf.append(confs)"
   ]
  },
  {
   "cell_type": "code",
   "execution_count": 11,
   "id": "590d7254",
   "metadata": {
    "colab": {
     "base_uri": "https://localhost:8080/"
    },
    "executionInfo": {
     "elapsed": 17,
     "status": "ok",
     "timestamp": 1748940934243,
     "user": {
      "displayName": "Hind Azegrouz",
      "userId": "04469582049561885297"
     },
     "user_tz": -120
    },
    "id": "590d7254",
    "outputId": "39b42a50-9f45-473e-ba97-e4bcec3b2887"
   },
   "outputs": [
    {
     "data": {
      "text/plain": [
       "True"
      ]
     },
     "execution_count": 11,
     "metadata": {},
     "output_type": "execute_result"
    }
   ],
   "source": [
    "\n",
    "annotated_image = draw_pose(image.copy(), keypoints_xy, keypoints_conf)\n",
    "cv2.imwrite(save_path, annotated_image)\n"
   ]
  },
  {
   "cell_type": "markdown",
   "id": "828ecc36",
   "metadata": {},
   "source": [
    "## Live"
   ]
  },
  {
   "cell_type": "code",
   "execution_count": null,
   "id": "0027e2bf",
   "metadata": {},
   "outputs": [],
   "source": []
  }
 ],
 "metadata": {
  "colab": {
   "provenance": []
  },
  "kernelspec": {
   "display_name": "myenv312",
   "language": "python",
   "name": "python3"
  },
  "language_info": {
   "codemirror_mode": {
    "name": "ipython",
    "version": 3
   },
   "file_extension": ".py",
   "mimetype": "text/x-python",
   "name": "python",
   "nbconvert_exporter": "python",
   "pygments_lexer": "ipython3",
   "version": "3.12.0"
  }
 },
 "nbformat": 4,
 "nbformat_minor": 5
}
