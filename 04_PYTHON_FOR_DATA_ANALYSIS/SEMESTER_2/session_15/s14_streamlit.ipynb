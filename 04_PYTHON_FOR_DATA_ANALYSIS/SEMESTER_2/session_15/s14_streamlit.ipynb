{
 "cells": [
  {
   "attachments": {},
   "cell_type": "markdown",
   "metadata": {},
   "source": [
    "# Introduction to **Streamlit**"
   ]
  },
  {
   "attachments": {},
   "cell_type": "markdown",
   "metadata": {},
   "source": [
    "## First Streamlit App\n",
    "\n",
    "Create a new script called `my_first_st_application.py` and add the following code:\n",
    "\n",
    "\n",
    "```python\n",
    "import streamlit as st\n",
    "\n",
    "st.title(\"My first Streamlit App\")\n",
    "st.header(\"This is a new header\")\n",
    "st.text(\"This is the explanation of something\")\n",
    "```\n",
    "\n",
    "Then, run the script from the terminal:\n",
    "\n",
    "```bash\n",
    "streamlit run my_first_st_application.py\n",
    "```"
   ]
  },
  {
   "cell_type": "code",
   "execution_count": 1,
   "metadata": {},
   "outputs": [],
   "source": [
    "import streamlit as st"
   ]
  },
  {
   "attachments": {},
   "cell_type": "markdown",
   "metadata": {},
   "source": [
    "## Streamlit Components\n",
    "\n",
    "1. Go to the Streamlit API reference: https://docs.streamlit.io/library/api-reference\n",
    "2. Check the examples in `streamlit_components.py`"
   ]
  },
  {
   "attachments": {},
   "cell_type": "markdown",
   "metadata": {},
   "source": [
    "# Exercise: Create a Streamlit App to show the Uber data\n",
    "\n",
    "Go to `s14_streamlit_example.ipynb` and follow the instructions."
   ]
  }
 ],
 "metadata": {
  "kernelspec": {
   "display_name": "myenv312",
   "language": "python",
   "name": "python3"
  },
  "language_info": {
   "codemirror_mode": {
    "name": "ipython",
    "version": 3
   },
   "file_extension": ".py",
   "mimetype": "text/x-python",
   "name": "python",
   "nbconvert_exporter": "python",
   "pygments_lexer": "ipython3",
   "version": "3.12.0"
  },
  "orig_nbformat": 4
 },
 "nbformat": 4,
 "nbformat_minor": 2
}
