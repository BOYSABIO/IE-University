{
 "cells": [
  {
   "cell_type": "markdown",
   "metadata": {},
   "source": [
    "The Normal Equation is an analytical approach to Linear Regression with a Least Square Cost Function. The solution of the equation: \"derivative(cost function) with respect to the params = 0\"  \n",
    "  \n",
    "That means we can find w and b (the parameters in our hypothesis/mapping function) without the need of gradient descent.  \n",
    "  \n",
    "The problem is that this solution does not scale. It is not feasible to compute if we have more than 10k samples and/or many feature dimensions. If we group w and b, into W, the Normal equation solution is  \n",
    "  \n",
    "W = (Xt X)^(-1) (Xt y)  \n",
    "  \n",
    "where X is the set of training samples and y the labels.  \n",
    "Could you get this result by your own?  \n",
    "Please just do your derivation in a paper and upload a picture. Do not waste time by putting in a formal doc, any format or a link would be perfect."
   ]
  }
 ],
 "metadata": {
  "language_info": {
   "name": "python"
  }
 },
 "nbformat": 4,
 "nbformat_minor": 2
}
