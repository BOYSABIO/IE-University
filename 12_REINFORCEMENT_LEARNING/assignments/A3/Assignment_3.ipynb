{
 "cells": [
  {
   "cell_type": "markdown",
   "metadata": {},
   "source": [
    "## Activity 2: **MC for Taxi**"
   ]
  },
  {
   "cell_type": "code",
   "execution_count": 71,
   "metadata": {},
   "outputs": [],
   "source": [
    "import numpy as np\n",
    "import gymnasium as gym \n",
    "import random\n",
    "import matplotlib.pyplot as plt\n",
    "import seaborn as sns\n",
    "import numpy as np"
   ]
  },
  {
   "cell_type": "code",
   "execution_count": 72,
   "metadata": {},
   "outputs": [],
   "source": [
    "def train_mc_agent(config, n_episodes=10000, max_steps=100):\n",
    "\n",
    "    env = gym.make('Taxi-v3')\n",
    "    Q = np.zeros((env.observation_space.n, env.action_space.n))\n",
    "    N = np.zeros((env.observation_space.n, env.action_space.n))\n",
    "    \n",
    "    gamma = config[\"gamma\"]\n",
    "    alpha = config[\"alpha\"]\n",
    "    decay_rate = config[\"decay_rate\"]\n",
    "    epsilon_min = config.get(\"epsilon_min\", 0.01)\n",
    "    epsilon_max = config.get(\"epsilon_max\", 1.0)\n",
    "\n",
    "    total_rewards = []\n",
    "\n",
    "    def epsilon_greedy_policy(state, epsilon):\n",
    "        if np.random.random() < epsilon:\n",
    "            return env.action_space.sample()\n",
    "        else:\n",
    "            return np.argmax(Q[state])\n",
    "\n",
    "    for episode in range(n_episodes):\n",
    "        state, _ = env.reset()\n",
    "        if config['decay_type'] == 'exponential':\n",
    "            epsilon = epsilon_min + (epsilon_max - epsilon_min) * np.exp(-decay_rate * episode)\n",
    "        elif config['decay_type'] == 'linear':\n",
    "            epsilon = max(epsilon_min, epsilon_max - (epsilon_max - epsilon_min) * (episode / n_episodes))\n",
    "\n",
    "\n",
    "        episode_states = []\n",
    "        episode_actions = []\n",
    "        episode_rewards = []\n",
    "\n",
    "        for step in range(max_steps):\n",
    "            action = epsilon_greedy_policy(state, epsilon)\n",
    "            next_state, reward, done, _, _ = env.step(action)\n",
    "\n",
    "            episode_states.append(state)\n",
    "            episode_actions.append(action)\n",
    "            episode_rewards.append(reward)\n",
    "\n",
    "            if done:\n",
    "                break\n",
    "\n",
    "            state = next_state\n",
    "\n",
    "        G = 0\n",
    "        for t in range(len(episode_states) - 1, -1, -1):\n",
    "            state = episode_states[t]\n",
    "            action = episode_actions[t]\n",
    "            G = gamma * G + episode_rewards[t]\n",
    "\n",
    "            N[state, action] += 1\n",
    "            Q[state, action] += alpha * (G - Q[state, action])\n",
    "\n",
    "        total_rewards.append(sum(episode_rewards))\n",
    "    \n",
    "    avg_reward = np.mean(total_rewards[-1000:])\n",
    "\n",
    "    print('Training Complete')\n",
    "\n",
    "    return {\n",
    "        \"Q\": Q,\n",
    "        \"rewards\": total_rewards,\n",
    "        \"avg_reward\": avg_reward,\n",
    "        \"config\": config,\n",
    "        \"ε\": epsilon,\n",
    "        \"env\": env\n",
    "    }\n",
    "\n",
    "def evaluate_policy(Q, env, n_episodes=100, render=False, max_steps=200):\n",
    "    total_rewards = []\n",
    "    total_steps = []\n",
    "    successful_episodes = 0\n",
    "\n",
    "    for episode in range(n_episodes):\n",
    "        state, _ = env.reset()\n",
    "        done = False\n",
    "        episode_reward = 0\n",
    "        steps = 0\n",
    "\n",
    "        while not done and steps < max_steps:\n",
    "            action = np.argmax(Q[state])\n",
    "            state, reward, done, _, _ = env.step(action)\n",
    "            episode_reward += reward\n",
    "            steps += 1\n",
    "\n",
    "            if render:\n",
    "                env.render()\n",
    "\n",
    "        if reward == 20:\n",
    "            successful_episodes += 1\n",
    "\n",
    "        total_rewards.append(episode_reward)\n",
    "        total_steps.append(steps)\n",
    "\n",
    "    avg_reward = np.mean(total_rewards)\n",
    "    avg_steps = np.mean(total_steps)\n",
    "    success_rate = successful_episodes / n_episodes\n",
    "\n",
    "    print(f\"Evaluation Results over {n_episodes} episodes:\")\n",
    "    print(f\"Avg Total Reward: {avg_reward:.2f}\")\n",
    "    print(f\"Avg Steps to Finish: {avg_steps:.2f}\")\n",
    "    print(f\"Success Rate: {success_rate * 100:.2f}%\")\n",
    "\n",
    "def visualize_q_table_distribution(Q):\n",
    "    max_q = np.max(Q, axis=1)\n",
    "    plt.figure(figsize=(10, 4))\n",
    "    sns.histplot(max_q, bins=50, kde=True)\n",
    "    plt.title(\"Distribution of Max Q-values per State\")\n",
    "    plt.xlabel(\"Max Q(s,a)\")\n",
    "    plt.ylabel(\"Number of States\")\n",
    "    plt.grid()\n",
    "    plt.show()\n",
    "\n",
    "def action_to_symbol(action):\n",
    "    return ['↓', '↑', '→', '←', 'p', 'd'][action]\n",
    "\n",
    "def visualize_policy_grid(Q, env, passenger=0, destination=2):\n",
    "    passenger_map = {\n",
    "        0: \"Red (R)\",\n",
    "        1: \"Green (G)\",\n",
    "        2: \"Yellow (Y)\",\n",
    "        3: \"Blue (B)\",\n",
    "        4: \"In Taxi\"\n",
    "    }\n",
    "    destination_map = {\n",
    "        0: \"Red (R)\",\n",
    "        1: \"Green (G)\",\n",
    "        2: \"Yellow (Y)\",\n",
    "        3: \"Blue (B)\"\n",
    "    }\n",
    "\n",
    "    print(f\"Taxi policy when passenger is at location {passenger_map[passenger]} and destination is {destination_map[destination]}\")\n",
    "    for row in range(5):\n",
    "        line = ''\n",
    "        for col in range(5):\n",
    "            state = env.unwrapped.encode(row, col, passenger, destination)\n",
    "            best_action = np.argmax(Q[state])\n",
    "            symbol = action_to_symbol(best_action)\n",
    "            line += symbol + ' '\n",
    "        print(line)"
   ]
  },
  {
   "cell_type": "markdown",
   "metadata": {},
   "source": [
    "### Training Loop (Linear decay)"
   ]
  },
  {
   "cell_type": "code",
   "execution_count": 73,
   "metadata": {},
   "outputs": [
    {
     "name": "stdout",
     "output_type": "stream",
     "text": [
      "Training Complete\n",
      "Config: {'gamma': 0.99, 'alpha': 0.1, 'decay_rate': 0.0005, 'decay_type': 'linear'}\n",
      "Avg Reward: -16.638 | ε: 0.010098999999999969\n"
     ]
    }
   ],
   "source": [
    "config = {\"gamma\": 0.99, \"alpha\": 0.1, \"decay_rate\": 0.0005, 'decay_type': 'linear'}\n",
    "\n",
    "result = train_mc_agent(config, 10000, 100)\n",
    "print(f\"Config: {config}\")\n",
    "print(f'Avg Reward: {result['avg_reward']} | ε: {result['ε']}')"
   ]
  },
  {
   "cell_type": "markdown",
   "metadata": {},
   "source": [
    "### Evaluation"
   ]
  },
  {
   "cell_type": "code",
   "execution_count": null,
   "metadata": {},
   "outputs": [
    {
     "name": "stdout",
     "output_type": "stream",
     "text": [
      "Evaluation Results over 100 episodes:\n",
      "Avg Total Reward: -34.36\n",
      "Avg Steps to Finish: 51.16\n",
      "Success Rate: 80.00%\n"
     ]
    }
   ],
   "source": [
    "evaluate_policy(result['Q'], result['env'], 100)"
   ]
  },
  {
   "cell_type": "markdown",
   "metadata": {},
   "source": [
    "### Visualize Q Table"
   ]
  },
  {
   "cell_type": "code",
   "execution_count": 74,
   "metadata": {},
   "outputs": [
    {
     "data": {
      "image/png": "[encoded data removed]",
      "text/plain": [
       "<Figure size 1000x400 with 1 Axes>"
      ]
     },
     "metadata": {},
     "output_type": "display_data"
    }
   ],
   "source": [
    "visualize_q_table_distribution(result['Q'])"
   ]
  },
  {
   "cell_type": "markdown",
   "metadata": {},
   "source": [
    "### Policy Visualization (Dropoff & Pickup)"
   ]
  },
  {
   "cell_type": "code",
   "execution_count": 75,
   "metadata": {},
   "outputs": [
    {
     "name": "stdout",
     "output_type": "stream",
     "text": [
      "Visualizing grid before taxi pickup:\n",
      "Taxi policy when passenger is at location Red (R) and destination is Yellow (Y)\n",
      "p ← ↓ ↓ ↓ \n",
      "↑ ← ↓ ← ↓ \n",
      "↑ ↑ ← ← ← \n",
      "↑ ↑ ← ↑ ↓ \n",
      "← ↑ → ← ↑ \n",
      "\n",
      "Visualizing grid after taxi pickup:\n",
      "Taxi policy when passenger is at location In Taxi and destination is Yellow (Y)\n",
      "↓ ↓ ← ↓ ← \n",
      "→ ↓ ↓ ← ← \n",
      "↓ ← ↓ ← ↓ \n",
      "↓ ↑ ← ↑ ← \n",
      "d ↑ ↑ → ↑ \n"
     ]
    }
   ],
   "source": [
    "print(\"Visualizing grid before taxi pickup:\")\n",
    "visualize_policy_grid(result['Q'], result['env'], 0, 2)\n",
    "\n",
    "print()\n",
    "\n",
    "print(\"Visualizing grid after taxi pickup:\")\n",
    "visualize_policy_grid(result['Q'], result['env'], 4, 2)"
   ]
  },
  {
   "cell_type": "markdown",
   "metadata": {},
   "source": [
    "### Test & Compare Hyperparameters"
   ]
  },
  {
   "cell_type": "code",
   "execution_count": 48,
   "metadata": {},
   "outputs": [
    {
     "name": "stdout",
     "output_type": "stream",
     "text": [
      "Training Complete\n",
      "Config: {'gamma': 0.99, 'alpha': 0.3, 'decay_rate': 0.0005, 'decay_type': 'linear'}\n",
      "Avg Reward: -36.576 | ε: 0.010098999999999969\n",
      "Training Complete\n",
      "Config: {'gamma': 0.99, 'alpha': 0.3, 'decay_rate': 0.0005, 'decay_type': 'exponential'}\n",
      "Avg Reward: -36.576 | ε: 0.016673903646819088\n",
      "Training Complete\n",
      "Config: {'gamma': 0.99, 'alpha': 0.5, 'decay_rate': 0.001, 'decay_type': 'linear'}\n",
      "Avg Reward: -36.576 | ε: 0.010098999999999969\n",
      "Training Complete\n",
      "Config: {'gamma': 0.99, 'alpha': 0.5, 'decay_rate': 0.001, 'decay_type': 'exponential'}\n",
      "Avg Reward: -36.576 | ε: 0.010044990898875783\n",
      "Training Complete\n",
      "Config: {'gamma': 1.0, 'alpha': 0.3, 'decay_rate': 0.001, 'decay_type': 'linear'}\n",
      "Avg Reward: -36.576 | ε: 0.010098999999999969\n",
      "Training Complete\n",
      "Config: {'gamma': 1.0, 'alpha': 0.3, 'decay_rate': 0.001, 'decay_type': 'exponential'}\n",
      "Avg Reward: -36.576 | ε: 0.010044990898875783\n",
      "Training Complete\n",
      "Config: {'gamma': 1.0, 'alpha': 0.5, 'decay_rate': 0.0005, 'decay_type': 'linear'}\n",
      "Avg Reward: -36.576 | ε: 0.010098999999999969\n",
      "Training Complete\n",
      "Config: {'gamma': 1.0, 'alpha': 0.5, 'decay_rate': 0.0005, 'decay_type': 'exponential'}\n",
      "Avg Reward: -36.576 | ε: 0.016673903646819088\n"
     ]
    }
   ],
   "source": [
    "test_configs = [\n",
    "    {\"gamma\": 0.99, \"alpha\": 0.3, \"decay_rate\": 0.0005},\n",
    "    {\"gamma\": 0.99, \"alpha\": 0.5, \"decay_rate\": 0.001},\n",
    "    {\"gamma\": 1.0, \"alpha\": 0.3, \"decay_rate\": 0.001},\n",
    "    {\"gamma\": 1.0, \"alpha\": 0.5, \"decay_rate\": 0.0005},\n",
    "]\n",
    "\n",
    "results_list = []\n",
    "\n",
    "for cfg in test_configs:\n",
    "    for decay_type in ['linear', 'exponential']:\n",
    "        cfg_copy = cfg.copy()\n",
    "        cfg_copy['decay_type'] = decay_type\n",
    "        result = train_mc_agent(cfg_copy)\n",
    "        print(f\"Config: {cfg_copy}\")\n",
    "        print(f'Avg Reward: {result['avg_reward']} | ε: {result['ε']}')\n",
    "        results_list.append(result)"
   ]
  },
  {
   "cell_type": "code",
   "execution_count": 54,
   "metadata": {},
   "outputs": [
    {
     "name": "stdout",
     "output_type": "stream",
     "text": [
      "Best Config:\n",
      "Gamma: 0.99\n",
      "Alpha: 0.3\n",
      "Decay Type: linear\n",
      "Final ε: 0.0101\n",
      "Avg Reward: -36.58\n"
     ]
    }
   ],
   "source": [
    "best_result = max(results_list, key = lambda x: x['avg_reward'])\n",
    "\n",
    "print('Best Config:')\n",
    "if best_result['config']['decay_type'] == 'exponential':\n",
    "    print(f\"Gamma: {best_result['config']['gamma']}\")\n",
    "    print(f\"Alpha: {best_result['config']['alpha']}\")\n",
    "    print(f\"Decay Rate: {best_result['config']['decay_rate']}\")\n",
    "    print(f\"Decay Type: {best_result['config']['decay_type']}\")\n",
    "    print(f\"Final ε: {best_result['ε']:.4f}\")\n",
    "    print(f\"Avg Reward: {best_result['avg_reward']:.2f}\")\n",
    "else:\n",
    "    print(f\"Gamma: {best_result['config']['gamma']}\")\n",
    "    print(f\"Alpha: {best_result['config']['alpha']}\")\n",
    "    print(f\"Decay Type: {best_result['config']['decay_type']}\")\n",
    "    print(f\"Final ε: {best_result['ε']:.4f}\")\n",
    "    print(f\"Avg Reward: {best_result['avg_reward']:.2f}\")"
   ]
  },
  {
   "cell_type": "markdown",
   "metadata": {},
   "source": [
    "## Activity 2.3: **A SARSA agent in the Taxi Environment**"
   ]
  },
  {
   "cell_type": "code",
   "execution_count": null,
   "metadata": {},
   "outputs": [],
   "source": []
  }
 ],
 "metadata": {
  "kernelspec": {
   "display_name": "myenv312",
   "language": "python",
   "name": "python3"
  },
  "language_info": {
   "codemirror_mode": {
    "name": "ipython",
    "version": 3
   },
   "file_extension": ".py",
   "mimetype": "text/x-python",
   "name": "python",
   "nbconvert_exporter": "python",
   "pygments_lexer": "ipython3",
   "version": "3.12.0"
  }
 },
 "nbformat": 4,
 "nbformat_minor": 2
}
