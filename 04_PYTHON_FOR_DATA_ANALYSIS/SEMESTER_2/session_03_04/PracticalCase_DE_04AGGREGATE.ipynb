{
 "cells": [
  {
   "cell_type": "code",
   "execution_count": 1,
   "id": "0415cc56-035e-4517-a132-c95feeff8ddf",
   "metadata": {},
   "outputs": [],
   "source": [
    "import os\n",
    "\n",
    "import numpy as np\n",
    "import pandas as pd\n",
    "\n",
    "from ydata_profiling import ProfileReport"
   ]
  },
  {
   "cell_type": "code",
   "execution_count": 2,
   "id": "55a12162-2c6e-46be-9c28-0eb32ecc8198",
   "metadata": {},
   "outputs": [],
   "source": [
    "INPUT_FOLDER = \"enrich\"\n",
    "OUTPUT_FOLDER = \"aggregate\""
   ]
  },
  {
   "cell_type": "code",
   "execution_count": 3,
   "id": "27f4f1cf-9804-4cf5-b38e-795515a842bd",
   "metadata": {},
   "outputs": [],
   "source": [
    "os.makedirs(\"data/aggregate\", exist_ok=True)"
   ]
  },
  {
   "cell_type": "code",
   "execution_count": 4,
   "id": "270c373b-1324-4b04-9df6-b4e17867673b",
   "metadata": {},
   "outputs": [],
   "source": [
    "datasources = {\n",
    "    source.replace(\".zip\",\"\"):source\n",
    "    for source in os.listdir(f\"data/{INPUT_FOLDER}\")\n",
    "    if source.endswith(\".zip\")\n",
    "}\n",
    "\n",
    "datasets = {}"
   ]
  },
  {
   "cell_type": "markdown",
   "id": "8a484e8c-134d-4c40-8e7a-92f42e1c2807",
   "metadata": {},
   "source": [
    "## AGGREGATE"
   ]
  },
  {
   "cell_type": "markdown",
   "id": "a53a84b0-e501-43ea-b75f-b23760702e2a",
   "metadata": {},
   "source": [
    "### Create BASE TABLE\n",
    "\n",
    "The base table is just a table with all the primary keys we want to maintain in the macro table. In this case we want to build a table indexed by `week` and `country_name`.\n",
    " - `week` - We will take the `epidemiology` table to get the start and end dates.\n",
    " - `country_name` - We get the `country_name` from the `index` table.\n",
    " \n",
    "So, in this case, we have to build an index with all dates and all country names."
   ]
  },
  {
   "cell_type": "markdown",
   "id": "5a42c2f7-520f-401b-babc-a11cd3633690",
   "metadata": {},
   "source": [
    "<div class=\"alert alert-warning\">\n",
    "    <b>Special mention to datetime indexes</b>: Be careful when building detetime indexes from some of the provided data tables, they may contain gaps in the timestamps. So my recommendation here is that you build the date ranges by yourself. Then, you will have time to spot missing dates and fix them\n",
    "</div>"
   ]
  },
  {
   "cell_type": "markdown",
   "id": "cc45ad0c-dae7-4791-aa59-a34808b8e379",
   "metadata": {},
   "source": [
    "#### Get date ranges"
   ]
  },
  {
   "cell_type": "code",
   "execution_count": 5,
   "id": "d0f61526-2215-4585-bc36-3e68f9095c3a",
   "metadata": {},
   "outputs": [
    {
     "name": "stdout",
     "output_type": "stream",
     "text": [
      "Start Date: 2020-01-02 00:00:00\n",
      "End Date: 2022-08-22 00:00:00\n"
     ]
    }
   ],
   "source": [
    "key = \"epidemiology\"\n",
    "data = pd.read_csv(f\"data/{INPUT_FOLDER}/{key}.zip\", parse_dates=[\"date\"])\n",
    "\n",
    "start_date = data.date.min()\n",
    "end_date = data.date.max()\n",
    "print(f\"Start Date: {start_date}\")\n",
    "print(f\"End Date: {end_date}\")"
   ]
  },
  {
   "cell_type": "code",
   "execution_count": 6,
   "id": "df0d985d-24c5-495e-a040-2eac7fdf2491",
   "metadata": {},
   "outputs": [],
   "source": [
    "dates = pd.date_range(start=start_date, end=end_date, freq=\"W\")\n",
    "dates = dates.to_period(\"W\").astype(str)\n",
    "dates = pd.DataFrame(dates)"
   ]
  },
  {
   "cell_type": "markdown",
   "id": "e1f37bbb-46ce-41c8-a937-f341baadc682",
   "metadata": {},
   "source": [
    "#### Get country names"
   ]
  },
  {
   "cell_type": "code",
   "execution_count": 8,
   "id": "4c2d6014-b58d-4693-aac9-a926ee73fcfe",
   "metadata": {},
   "outputs": [],
   "source": [
    "key = \"index\"\n",
    "data = pd.read_csv(f\"data/{INPUT_FOLDER}/{key}.zip\")"
   ]
  },
  {
   "cell_type": "code",
   "execution_count": 9,
   "id": "3d19bbbd-21eb-4527-9152-ecdc6b5d010f",
   "metadata": {},
   "outputs": [
    {
     "data": {
      "text/html": [
       "<div>\n",
       "<style scoped>\n",
       "    .dataframe tbody tr th:only-of-type {\n",
       "        vertical-align: middle;\n",
       "    }\n",
       "\n",
       "    .dataframe tbody tr th {\n",
       "        vertical-align: top;\n",
       "    }\n",
       "\n",
       "    .dataframe thead th {\n",
       "        text-align: right;\n",
       "    }\n",
       "</style>\n",
       "<table border=\"1\" class=\"dataframe\">\n",
       "  <thead>\n",
       "    <tr style=\"text-align: right;\">\n",
       "      <th></th>\n",
       "      <th>0</th>\n",
       "    </tr>\n",
       "  </thead>\n",
       "  <tbody>\n",
       "    <tr>\n",
       "      <th>0</th>\n",
       "      <td>Germany</td>\n",
       "    </tr>\n",
       "    <tr>\n",
       "      <th>1</th>\n",
       "      <td>Spain</td>\n",
       "    </tr>\n",
       "    <tr>\n",
       "      <th>2</th>\n",
       "      <td>Italy</td>\n",
       "    </tr>\n",
       "    <tr>\n",
       "      <th>3</th>\n",
       "      <td>United States of America</td>\n",
       "    </tr>\n",
       "  </tbody>\n",
       "</table>\n",
       "</div>"
      ],
      "text/plain": [
       "                          0\n",
       "0                   Germany\n",
       "1                     Spain\n",
       "2                     Italy\n",
       "3  United States of America"
      ]
     },
     "execution_count": 9,
     "metadata": {},
     "output_type": "execute_result"
    }
   ],
   "source": [
    "countries = pd.DataFrame(data.country_name.unique())\n",
    "\n",
    "countries"
   ]
  },
  {
   "cell_type": "markdown",
   "id": "73e97896-a65b-4499-8164-c0f87e80ffb6",
   "metadata": {},
   "source": [
    "#### Build the index"
   ]
  },
  {
   "cell_type": "code",
   "execution_count": 10,
   "id": "4e1e1d24-dbac-4d4e-a8ac-63e2f5f45d8e",
   "metadata": {},
   "outputs": [],
   "source": [
    "base = dates.merge(countries, how=\"cross\")\n",
    "base.columns = [\"week\", \"country_name\"]\n",
    "base = base.set_index([\"week\", \"country_name\"])"
   ]
  },
  {
   "cell_type": "code",
   "execution_count": 11,
   "id": "aee7046c-ff52-402f-a02e-dc6112c8c4b1",
   "metadata": {},
   "outputs": [
    {
     "data": {
      "text/html": [
       "<div>\n",
       "<style scoped>\n",
       "    .dataframe tbody tr th:only-of-type {\n",
       "        vertical-align: middle;\n",
       "    }\n",
       "\n",
       "    .dataframe tbody tr th {\n",
       "        vertical-align: top;\n",
       "    }\n",
       "\n",
       "    .dataframe thead th {\n",
       "        text-align: right;\n",
       "    }\n",
       "</style>\n",
       "<table border=\"1\" class=\"dataframe\">\n",
       "  <thead>\n",
       "    <tr style=\"text-align: right;\">\n",
       "      <th></th>\n",
       "      <th></th>\n",
       "    </tr>\n",
       "    <tr>\n",
       "      <th>week</th>\n",
       "      <th>country_name</th>\n",
       "    </tr>\n",
       "  </thead>\n",
       "  <tbody>\n",
       "    <tr>\n",
       "      <th rowspan=\"4\" valign=\"top\">2019-12-30/2020-01-05</th>\n",
       "      <th>Germany</th>\n",
       "    </tr>\n",
       "    <tr>\n",
       "      <th>Spain</th>\n",
       "    </tr>\n",
       "    <tr>\n",
       "      <th>Italy</th>\n",
       "    </tr>\n",
       "    <tr>\n",
       "      <th>United States of America</th>\n",
       "    </tr>\n",
       "    <tr>\n",
       "      <th>2020-01-06/2020-01-12</th>\n",
       "      <th>Germany</th>\n",
       "    </tr>\n",
       "  </tbody>\n",
       "</table>\n",
       "</div>"
      ],
      "text/plain": [
       "Empty DataFrame\n",
       "Columns: []\n",
       "Index: [(2019-12-30/2020-01-05, Germany), (2019-12-30/2020-01-05, Spain), (2019-12-30/2020-01-05, Italy), (2019-12-30/2020-01-05, United States of America), (2020-01-06/2020-01-12, Germany)]"
      ]
     },
     "execution_count": 11,
     "metadata": {},
     "output_type": "execute_result"
    }
   ],
   "source": [
    "base.head()"
   ]
  },
  {
   "cell_type": "code",
   "execution_count": 12,
   "id": "4fe35761-0299-47e3-800a-a1508d5a5a42",
   "metadata": {},
   "outputs": [
    {
     "data": {
      "text/plain": [
       "(552, 0)"
      ]
     },
     "execution_count": 12,
     "metadata": {},
     "output_type": "execute_result"
    }
   ],
   "source": [
    "base.shape"
   ]
  },
  {
   "cell_type": "code",
   "execution_count": 13,
   "id": "3ba5fb17-fd96-4c43-8dc9-22d6dd2a6268",
   "metadata": {},
   "outputs": [],
   "source": [
    "macro = base.copy()"
   ]
  },
  {
   "cell_type": "markdown",
   "id": "6f9ea65f-a2f8-463c-8ad8-68177a2929e2",
   "metadata": {},
   "source": [
    "### Create MACRO TABLE"
   ]
  },
  {
   "cell_type": "markdown",
   "id": "f327fcbc-bac8-4cad-a478-fc1267acf38d",
   "metadata": {},
   "source": [
    "#### Incorporate `epidemiology`"
   ]
  },
  {
   "cell_type": "code",
   "execution_count": 14,
   "id": "79dcd251-4820-4cc3-b790-765c91bac962",
   "metadata": {},
   "outputs": [
    {
     "name": "stdout",
     "output_type": "stream",
     "text": [
      "<class 'pandas.core.frame.DataFrame'>\n",
      "RangeIndex: 3161033 entries, 0 to 3161032\n",
      "Data columns (total 7 columns):\n",
      " #   Column                        Non-Null Count    Dtype  \n",
      "---  ------                        --------------    -----  \n",
      " 0   date                          3161033 non-null  object \n",
      " 1   week                          3161033 non-null  object \n",
      " 2   location_key                  3161033 non-null  object \n",
      " 3   new_confirmed                 3161033 non-null  float64\n",
      " 4   new_deceased                  3161033 non-null  float64\n",
      " 5   new_deceased_confirmed_ratio  2197437 non-null  float64\n",
      " 6   country_name                  3161033 non-null  object \n",
      "dtypes: float64(3), object(4)\n",
      "memory usage: 168.8+ MB\n"
     ]
    }
   ],
   "source": [
    "key = \"epidemiology\"\n",
    "data = pd.read_csv(f\"data/{INPUT_FOLDER}/{key}.zip\")\n",
    "data.info(show_counts=True)"
   ]
  },
  {
   "cell_type": "markdown",
   "id": "c5a14144-9797-445b-91f1-e0435938ff7f",
   "metadata": {},
   "source": [
    "##### _Aggregate_: (sum) `new_confirmed`, `new_deceased`, `new_deceased_confirmed_ratio`"
   ]
  },
  {
   "cell_type": "code",
   "execution_count": 15,
   "id": "a227f263-e74e-477f-85d0-57d8d874bb90",
   "metadata": {},
   "outputs": [],
   "source": [
    "aux = data.groupby([\"week\",\"country_name\"]).agg({\n",
    "    \"new_confirmed\": \"sum\",\n",
    "    \"new_deceased\": \"sum\",\n",
    "    \"new_deceased_confirmed_ratio\": \"mean\",\n",
    "})"
   ]
  },
  {
   "cell_type": "code",
   "execution_count": 16,
   "id": "c52fa656-3337-4f51-912f-dbc140b770ac",
   "metadata": {},
   "outputs": [
    {
     "data": {
      "text/html": [
       "<div>\n",
       "<style scoped>\n",
       "    .dataframe tbody tr th:only-of-type {\n",
       "        vertical-align: middle;\n",
       "    }\n",
       "\n",
       "    .dataframe tbody tr th {\n",
       "        vertical-align: top;\n",
       "    }\n",
       "\n",
       "    .dataframe thead th {\n",
       "        text-align: right;\n",
       "    }\n",
       "</style>\n",
       "<table border=\"1\" class=\"dataframe\">\n",
       "  <thead>\n",
       "    <tr style=\"text-align: right;\">\n",
       "      <th></th>\n",
       "      <th></th>\n",
       "    </tr>\n",
       "    <tr>\n",
       "      <th>week</th>\n",
       "      <th>country_name</th>\n",
       "    </tr>\n",
       "  </thead>\n",
       "  <tbody>\n",
       "    <tr>\n",
       "      <th rowspan=\"4\" valign=\"top\">2019-12-30/2020-01-05</th>\n",
       "      <th>Germany</th>\n",
       "    </tr>\n",
       "    <tr>\n",
       "      <th>Spain</th>\n",
       "    </tr>\n",
       "    <tr>\n",
       "      <th>Italy</th>\n",
       "    </tr>\n",
       "    <tr>\n",
       "      <th>United States of America</th>\n",
       "    </tr>\n",
       "    <tr>\n",
       "      <th>2020-01-06/2020-01-12</th>\n",
       "      <th>Germany</th>\n",
       "    </tr>\n",
       "    <tr>\n",
       "      <th>...</th>\n",
       "      <th>...</th>\n",
       "    </tr>\n",
       "    <tr>\n",
       "      <th>2022-08-08/2022-08-14</th>\n",
       "      <th>United States of America</th>\n",
       "    </tr>\n",
       "    <tr>\n",
       "      <th rowspan=\"4\" valign=\"top\">2022-08-15/2022-08-21</th>\n",
       "      <th>Germany</th>\n",
       "    </tr>\n",
       "    <tr>\n",
       "      <th>Spain</th>\n",
       "    </tr>\n",
       "    <tr>\n",
       "      <th>Italy</th>\n",
       "    </tr>\n",
       "    <tr>\n",
       "      <th>United States of America</th>\n",
       "    </tr>\n",
       "  </tbody>\n",
       "</table>\n",
       "<p>552 rows × 0 columns</p>\n",
       "</div>"
      ],
      "text/plain": [
       "Empty DataFrame\n",
       "Columns: []\n",
       "Index: [(2019-12-30/2020-01-05, Germany), (2019-12-30/2020-01-05, Spain), (2019-12-30/2020-01-05, Italy), (2019-12-30/2020-01-05, United States of America), (2020-01-06/2020-01-12, Germany), (2020-01-06/2020-01-12, Spain), (2020-01-06/2020-01-12, Italy), (2020-01-06/2020-01-12, United States of America), (2020-01-13/2020-01-19, Germany), (2020-01-13/2020-01-19, Spain), (2020-01-13/2020-01-19, Italy), (2020-01-13/2020-01-19, United States of America), (2020-01-20/2020-01-26, Germany), (2020-01-20/2020-01-26, Spain), (2020-01-20/2020-01-26, Italy), (2020-01-20/2020-01-26, United States of America), (2020-01-27/2020-02-02, Germany), (2020-01-27/2020-02-02, Spain), (2020-01-27/2020-02-02, Italy), (2020-01-27/2020-02-02, United States of America), (2020-02-03/2020-02-09, Germany), (2020-02-03/2020-02-09, Spain), (2020-02-03/2020-02-09, Italy), (2020-02-03/2020-02-09, United States of America), (2020-02-10/2020-02-16, Germany), (2020-02-10/2020-02-16, Spain), (2020-02-10/2020-02-16, Italy), (2020-02-10/2020-02-16, United States of America), (2020-02-17/2020-02-23, Germany), (2020-02-17/2020-02-23, Spain), (2020-02-17/2020-02-23, Italy), (2020-02-17/2020-02-23, United States of America), (2020-02-24/2020-03-01, Germany), (2020-02-24/2020-03-01, Spain), (2020-02-24/2020-03-01, Italy), (2020-02-24/2020-03-01, United States of America), (2020-03-02/2020-03-08, Germany), (2020-03-02/2020-03-08, Spain), (2020-03-02/2020-03-08, Italy), (2020-03-02/2020-03-08, United States of America), (2020-03-09/2020-03-15, Germany), (2020-03-09/2020-03-15, Spain), (2020-03-09/2020-03-15, Italy), (2020-03-09/2020-03-15, United States of America), (2020-03-16/2020-03-22, Germany), (2020-03-16/2020-03-22, Spain), (2020-03-16/2020-03-22, Italy), (2020-03-16/2020-03-22, United States of America), (2020-03-23/2020-03-29, Germany), (2020-03-23/2020-03-29, Spain), (2020-03-23/2020-03-29, Italy), (2020-03-23/2020-03-29, United States of America), (2020-03-30/2020-04-05, Germany), (2020-03-30/2020-04-05, Spain), (2020-03-30/2020-04-05, Italy), (2020-03-30/2020-04-05, United States of America), (2020-04-06/2020-04-12, Germany), (2020-04-06/2020-04-12, Spain), (2020-04-06/2020-04-12, Italy), (2020-04-06/2020-04-12, United States of America), (2020-04-13/2020-04-19, Germany), (2020-04-13/2020-04-19, Spain), (2020-04-13/2020-04-19, Italy), (2020-04-13/2020-04-19, United States of America), (2020-04-20/2020-04-26, Germany), (2020-04-20/2020-04-26, Spain), (2020-04-20/2020-04-26, Italy), (2020-04-20/2020-04-26, United States of America), (2020-04-27/2020-05-03, Germany), (2020-04-27/2020-05-03, Spain), (2020-04-27/2020-05-03, Italy), (2020-04-27/2020-05-03, United States of America), (2020-05-04/2020-05-10, Germany), (2020-05-04/2020-05-10, Spain), (2020-05-04/2020-05-10, Italy), (2020-05-04/2020-05-10, United States of America), (2020-05-11/2020-05-17, Germany), (2020-05-11/2020-05-17, Spain), (2020-05-11/2020-05-17, Italy), (2020-05-11/2020-05-17, United States of America), (2020-05-18/2020-05-24, Germany), (2020-05-18/2020-05-24, Spain), (2020-05-18/2020-05-24, Italy), (2020-05-18/2020-05-24, United States of America), (2020-05-25/2020-05-31, Germany), (2020-05-25/2020-05-31, Spain), (2020-05-25/2020-05-31, Italy), (2020-05-25/2020-05-31, United States of America), (2020-06-01/2020-06-07, Germany), (2020-06-01/2020-06-07, Spain), (2020-06-01/2020-06-07, Italy), (2020-06-01/2020-06-07, United States of America), (2020-06-08/2020-06-14, Germany), (2020-06-08/2020-06-14, Spain), (2020-06-08/2020-06-14, Italy), (2020-06-08/2020-06-14, United States of America), (2020-06-15/2020-06-21, Germany), (2020-06-15/2020-06-21, Spain), (2020-06-15/2020-06-21, Italy), (2020-06-15/2020-06-21, United States of America), ...]\n",
       "\n",
       "[552 rows x 0 columns]"
      ]
     },
     "execution_count": 16,
     "metadata": {},
     "output_type": "execute_result"
    }
   ],
   "source": [
    "macro"
   ]
  },
  {
   "cell_type": "code",
   "execution_count": 17,
   "id": "c36cf3bc-f8f7-4948-8b0f-2f9a1a7d52e2",
   "metadata": {},
   "outputs": [
    {
     "data": {
      "text/html": [
       "<div>\n",
       "<style scoped>\n",
       "    .dataframe tbody tr th:only-of-type {\n",
       "        vertical-align: middle;\n",
       "    }\n",
       "\n",
       "    .dataframe tbody tr th {\n",
       "        vertical-align: top;\n",
       "    }\n",
       "\n",
       "    .dataframe thead th {\n",
       "        text-align: right;\n",
       "    }\n",
       "</style>\n",
       "<table border=\"1\" class=\"dataframe\">\n",
       "  <thead>\n",
       "    <tr style=\"text-align: right;\">\n",
       "      <th></th>\n",
       "      <th></th>\n",
       "      <th>new_confirmed</th>\n",
       "      <th>new_deceased</th>\n",
       "      <th>new_deceased_confirmed_ratio</th>\n",
       "    </tr>\n",
       "    <tr>\n",
       "      <th>week</th>\n",
       "      <th>country_name</th>\n",
       "      <th></th>\n",
       "      <th></th>\n",
       "      <th></th>\n",
       "    </tr>\n",
       "  </thead>\n",
       "  <tbody>\n",
       "    <tr>\n",
       "      <th>2019-12-30/2020-01-05</th>\n",
       "      <th>Germany</th>\n",
       "      <td>1.0</td>\n",
       "      <td>0.0</td>\n",
       "      <td>0.000000</td>\n",
       "    </tr>\n",
       "    <tr>\n",
       "      <th>2020-01-13/2020-01-19</th>\n",
       "      <th>Germany</th>\n",
       "      <td>1.0</td>\n",
       "      <td>0.0</td>\n",
       "      <td>0.000000</td>\n",
       "    </tr>\n",
       "    <tr>\n",
       "      <th rowspan=\"2\" valign=\"top\">2020-01-20/2020-01-26</th>\n",
       "      <th>Germany</th>\n",
       "      <td>2.0</td>\n",
       "      <td>0.0</td>\n",
       "      <td>0.000000</td>\n",
       "    </tr>\n",
       "    <tr>\n",
       "      <th>United States of America</th>\n",
       "      <td>0.0</td>\n",
       "      <td>0.0</td>\n",
       "      <td>NaN</td>\n",
       "    </tr>\n",
       "    <tr>\n",
       "      <th>2020-01-27/2020-02-02</th>\n",
       "      <th>Germany</th>\n",
       "      <td>10.0</td>\n",
       "      <td>0.0</td>\n",
       "      <td>0.000000</td>\n",
       "    </tr>\n",
       "    <tr>\n",
       "      <th>...</th>\n",
       "      <th>...</th>\n",
       "      <td>...</td>\n",
       "      <td>...</td>\n",
       "      <td>...</td>\n",
       "    </tr>\n",
       "    <tr>\n",
       "      <th rowspan=\"2\" valign=\"top\">2022-08-08/2022-08-14</th>\n",
       "      <th>Italy</th>\n",
       "      <td>169974.0</td>\n",
       "      <td>0.0</td>\n",
       "      <td>0.000000</td>\n",
       "    </tr>\n",
       "    <tr>\n",
       "      <th>United States of America</th>\n",
       "      <td>126631.0</td>\n",
       "      <td>502.0</td>\n",
       "      <td>0.001763</td>\n",
       "    </tr>\n",
       "    <tr>\n",
       "      <th rowspan=\"2\" valign=\"top\">2022-08-15/2022-08-21</th>\n",
       "      <th>Italy</th>\n",
       "      <td>137729.0</td>\n",
       "      <td>0.0</td>\n",
       "      <td>0.000000</td>\n",
       "    </tr>\n",
       "    <tr>\n",
       "      <th>United States of America</th>\n",
       "      <td>110333.0</td>\n",
       "      <td>400.0</td>\n",
       "      <td>0.000879</td>\n",
       "    </tr>\n",
       "    <tr>\n",
       "      <th>2022-08-22/2022-08-28</th>\n",
       "      <th>Italy</th>\n",
       "      <td>9603.0</td>\n",
       "      <td>0.0</td>\n",
       "      <td>0.000000</td>\n",
       "    </tr>\n",
       "  </tbody>\n",
       "</table>\n",
       "<p>505 rows × 3 columns</p>\n",
       "</div>"
      ],
      "text/plain": [
       "                                                new_confirmed  new_deceased  \\\n",
       "week                  country_name                                            \n",
       "2019-12-30/2020-01-05 Germany                             1.0           0.0   \n",
       "2020-01-13/2020-01-19 Germany                             1.0           0.0   \n",
       "2020-01-20/2020-01-26 Germany                             2.0           0.0   \n",
       "                      United States of America            0.0           0.0   \n",
       "2020-01-27/2020-02-02 Germany                            10.0           0.0   \n",
       "...                                                       ...           ...   \n",
       "2022-08-08/2022-08-14 Italy                          169974.0           0.0   \n",
       "                      United States of America       126631.0         502.0   \n",
       "2022-08-15/2022-08-21 Italy                          137729.0           0.0   \n",
       "                      United States of America       110333.0         400.0   \n",
       "2022-08-22/2022-08-28 Italy                            9603.0           0.0   \n",
       "\n",
       "                                                new_deceased_confirmed_ratio  \n",
       "week                  country_name                                            \n",
       "2019-12-30/2020-01-05 Germany                                       0.000000  \n",
       "2020-01-13/2020-01-19 Germany                                       0.000000  \n",
       "2020-01-20/2020-01-26 Germany                                       0.000000  \n",
       "                      United States of America                           NaN  \n",
       "2020-01-27/2020-02-02 Germany                                       0.000000  \n",
       "...                                                                      ...  \n",
       "2022-08-08/2022-08-14 Italy                                         0.000000  \n",
       "                      United States of America                      0.001763  \n",
       "2022-08-15/2022-08-21 Italy                                         0.000000  \n",
       "                      United States of America                      0.000879  \n",
       "2022-08-22/2022-08-28 Italy                                         0.000000  \n",
       "\n",
       "[505 rows x 3 columns]"
      ]
     },
     "execution_count": 17,
     "metadata": {},
     "output_type": "execute_result"
    }
   ],
   "source": [
    "aux"
   ]
  },
  {
   "cell_type": "markdown",
   "id": "5bb24bb1-9fd6-4fce-a275-aeb94b35231d",
   "metadata": {},
   "source": [
    "##### _Include in the base table_"
   ]
  },
  {
   "cell_type": "code",
   "execution_count": 18,
   "id": "1e0d8e62-ed4d-47ca-95e7-221d9dca1892",
   "metadata": {},
   "outputs": [],
   "source": [
    "macro = macro.join(aux)"
   ]
  },
  {
   "cell_type": "code",
   "execution_count": 19,
   "id": "43f6938a-4cbd-4674-a705-b9e6c0393f28",
   "metadata": {},
   "outputs": [
    {
     "name": "stdout",
     "output_type": "stream",
     "text": [
      "<class 'pandas.core.frame.DataFrame'>\n",
      "MultiIndex: 552 entries, ('2019-12-30/2020-01-05', 'Germany') to ('2022-08-15/2022-08-21', 'United States of America')\n",
      "Data columns (total 3 columns):\n",
      " #   Column                        Non-Null Count  Dtype  \n",
      "---  ------                        --------------  -----  \n",
      " 0   new_confirmed                 504 non-null    float64\n",
      " 1   new_deceased                  504 non-null    float64\n",
      " 2   new_deceased_confirmed_ratio  394 non-null    float64\n",
      "dtypes: float64(3)\n",
      "memory usage: 36.2+ KB\n"
     ]
    }
   ],
   "source": [
    "macro.info()"
   ]
  },
  {
   "cell_type": "markdown",
   "id": "62d11dc3-b0ab-4a22-a5c2-45bd0caeabe2",
   "metadata": {},
   "source": [
    "#### `demographics`"
   ]
  },
  {
   "cell_type": "code",
   "execution_count": 20,
   "id": "c8122ed8-545f-4a4c-9981-30b115492fae",
   "metadata": {},
   "outputs": [
    {
     "name": "stdout",
     "output_type": "stream",
     "text": [
      "<class 'pandas.core.frame.DataFrame'>\n",
      "RangeIndex: 5097 entries, 0 to 5096\n",
      "Data columns (total 12 columns):\n",
      " #   Column                       Non-Null Count  Dtype  \n",
      "---  ------                       --------------  -----  \n",
      " 0   location_key                 5097 non-null   object \n",
      " 1   population                   5097 non-null   float64\n",
      " 2   population_age_00_09         5097 non-null   float64\n",
      " 3   population_age_10_19         5097 non-null   float64\n",
      " 4   population_age_20_29         5097 non-null   float64\n",
      " 5   population_age_30_39         5097 non-null   float64\n",
      " 6   population_age_40_49         5097 non-null   float64\n",
      " 7   population_age_50_59         5097 non-null   float64\n",
      " 8   population_age_60_69         5097 non-null   float64\n",
      " 9   population_age_70_79         5097 non-null   float64\n",
      " 10  population_age_80_and_older  5097 non-null   float64\n",
      " 11  country_name                 5097 non-null   object \n",
      "dtypes: float64(10), object(2)\n",
      "memory usage: 478.0+ KB\n"
     ]
    }
   ],
   "source": [
    "key = \"demographics\"\n",
    "data = pd.read_csv(f\"data/{INPUT_FOLDER}/{key}.zip\")\n",
    "data.info()"
   ]
  },
  {
   "cell_type": "markdown",
   "id": "4fe53bd2-decf-419e-a619-b69fb2ef75c6",
   "metadata": {},
   "source": [
    "##### _Aggregate_: (sum)"
   ]
  },
  {
   "cell_type": "code",
   "execution_count": 21,
   "id": "5672c4cd-a8de-4b79-b803-46b45febcb1b",
   "metadata": {},
   "outputs": [],
   "source": [
    "aux = data.groupby(\"country_name\").sum()"
   ]
  },
  {
   "cell_type": "code",
   "execution_count": 22,
   "id": "1aba2eef-84a6-47e5-bf36-3353597a03a7",
   "metadata": {},
   "outputs": [],
   "source": [
    "macro = macro.join(aux, on=\"country_name\")"
   ]
  },
  {
   "cell_type": "code",
   "execution_count": 23,
   "id": "10e636e3-1f87-4fa2-81d0-24eed21fe035",
   "metadata": {},
   "outputs": [
    {
     "name": "stdout",
     "output_type": "stream",
     "text": [
      "<class 'pandas.core.frame.DataFrame'>\n",
      "MultiIndex: 552 entries, ('2019-12-30/2020-01-05', 'Germany') to ('2022-08-15/2022-08-21', 'United States of America')\n",
      "Data columns (total 14 columns):\n",
      " #   Column                        Non-Null Count  Dtype  \n",
      "---  ------                        --------------  -----  \n",
      " 0   new_confirmed                 504 non-null    float64\n",
      " 1   new_deceased                  504 non-null    float64\n",
      " 2   new_deceased_confirmed_ratio  394 non-null    float64\n",
      " 3   location_key                  552 non-null    object \n",
      " 4   population                    552 non-null    float64\n",
      " 5   population_age_00_09          552 non-null    float64\n",
      " 6   population_age_10_19          552 non-null    float64\n",
      " 7   population_age_20_29          552 non-null    float64\n",
      " 8   population_age_30_39          552 non-null    float64\n",
      " 9   population_age_40_49          552 non-null    float64\n",
      " 10  population_age_50_59          552 non-null    float64\n",
      " 11  population_age_60_69          552 non-null    float64\n",
      " 12  population_age_70_79          552 non-null    float64\n",
      " 13  population_age_80_and_older   552 non-null    float64\n",
      "dtypes: float64(13), object(1)\n",
      "memory usage: 67.4+ KB\n"
     ]
    }
   ],
   "source": [
    "macro.info()"
   ]
  },
  {
   "cell_type": "markdown",
   "id": "d124274f-78a4-4a03-afe9-0173f0a650e7",
   "metadata": {},
   "source": [
    "#### `health`"
   ]
  },
  {
   "cell_type": "code",
   "execution_count": 24,
   "id": "f9cf7f07-cc9a-4143-a3d1-68217f8dd9d1",
   "metadata": {},
   "outputs": [
    {
     "name": "stdout",
     "output_type": "stream",
     "text": [
      "<class 'pandas.core.frame.DataFrame'>\n",
      "RangeIndex: 3022 entries, 0 to 3021\n",
      "Data columns (total 3 columns):\n",
      " #   Column           Non-Null Count  Dtype  \n",
      "---  ------           --------------  -----  \n",
      " 0   location_key     3022 non-null   object \n",
      " 1   life_expectancy  3022 non-null   float64\n",
      " 2   country_name     3022 non-null   object \n",
      "dtypes: float64(1), object(2)\n",
      "memory usage: 71.0+ KB\n"
     ]
    }
   ],
   "source": [
    "key = \"health\"\n",
    "data = pd.read_csv(f\"data/{INPUT_FOLDER}/{key}.zip\")\n",
    "data.info()"
   ]
  },
  {
   "cell_type": "markdown",
   "id": "1329ec57-b3b6-4a99-a478-6f9fc038c4aa",
   "metadata": {},
   "source": [
    "##### _Aggregate_: (mean)"
   ]
  },
  {
   "cell_type": "code",
   "execution_count": 25,
   "id": "923d88d1-1ac5-48de-b0a8-099e01e0969f",
   "metadata": {},
   "outputs": [],
   "source": [
    "aux = data.groupby([\"country_name\"]).agg({\n",
    "    \"life_expectancy\": \"mean\",\n",
    "})"
   ]
  },
  {
   "cell_type": "markdown",
   "id": "baf3acda-8dec-4ff1-a87e-bd23e0b94ede",
   "metadata": {},
   "source": [
    "##### _Include in the base table_"
   ]
  },
  {
   "cell_type": "code",
   "execution_count": 26,
   "id": "e018224a-c117-4045-85b0-32b75aed1351",
   "metadata": {},
   "outputs": [],
   "source": [
    "macro = macro.join(aux, on=\"country_name\")"
   ]
  },
  {
   "cell_type": "code",
   "execution_count": 27,
   "id": "09249845-298c-4ea3-845a-f11eaa6b9a7c",
   "metadata": {},
   "outputs": [
    {
     "name": "stdout",
     "output_type": "stream",
     "text": [
      "<class 'pandas.core.frame.DataFrame'>\n",
      "MultiIndex: 552 entries, ('2019-12-30/2020-01-05', 'Germany') to ('2022-08-15/2022-08-21', 'United States of America')\n",
      "Data columns (total 15 columns):\n",
      " #   Column                        Non-Null Count  Dtype  \n",
      "---  ------                        --------------  -----  \n",
      " 0   new_confirmed                 504 non-null    float64\n",
      " 1   new_deceased                  504 non-null    float64\n",
      " 2   new_deceased_confirmed_ratio  394 non-null    float64\n",
      " 3   location_key                  552 non-null    object \n",
      " 4   population                    552 non-null    float64\n",
      " 5   population_age_00_09          552 non-null    float64\n",
      " 6   population_age_10_19          552 non-null    float64\n",
      " 7   population_age_20_29          552 non-null    float64\n",
      " 8   population_age_30_39          552 non-null    float64\n",
      " 9   population_age_40_49          552 non-null    float64\n",
      " 10  population_age_50_59          552 non-null    float64\n",
      " 11  population_age_60_69          552 non-null    float64\n",
      " 12  population_age_70_79          552 non-null    float64\n",
      " 13  population_age_80_and_older   552 non-null    float64\n",
      " 14  life_expectancy               138 non-null    float64\n",
      "dtypes: float64(14), object(1)\n",
      "memory usage: 71.7+ KB\n"
     ]
    }
   ],
   "source": [
    "macro.info()"
   ]
  },
  {
   "cell_type": "markdown",
   "id": "5a1a97af-7bcd-4155-8c06-630c6cbe88df",
   "metadata": {},
   "source": [
    "#### `hospitalizations`"
   ]
  },
  {
   "cell_type": "code",
   "execution_count": 28,
   "id": "3adb8a8a-b1d4-4038-ac48-283f70e36fe0",
   "metadata": {},
   "outputs": [
    {
     "name": "stdout",
     "output_type": "stream",
     "text": [
      "<class 'pandas.core.frame.DataFrame'>\n",
      "RangeIndex: 6297 entries, 0 to 6296\n",
      "Data columns (total 5 columns):\n",
      " #   Column                     Non-Null Count  Dtype  \n",
      "---  ------                     --------------  -----  \n",
      " 0   date                       6297 non-null   object \n",
      " 1   week                       6297 non-null   object \n",
      " 2   location_key               6297 non-null   object \n",
      " 3   new_hospitalized_patients  6297 non-null   float64\n",
      " 4   country_name               6297 non-null   object \n",
      "dtypes: float64(1), object(4)\n",
      "memory usage: 246.1+ KB\n"
     ]
    }
   ],
   "source": [
    "key = \"hospitalizations\"\n",
    "data = pd.read_csv(f\"data/{INPUT_FOLDER}/{key}.zip\")\n",
    "data.info(show_counts=True)"
   ]
  },
  {
   "cell_type": "markdown",
   "id": "dac62f45-d340-4c49-8bec-5ad43e59e8d4",
   "metadata": {},
   "source": [
    "##### _Aggregate_: (sum)"
   ]
  },
  {
   "cell_type": "code",
   "execution_count": 29,
   "id": "bae0bf50-fc51-4968-949c-15e64dfd6789",
   "metadata": {},
   "outputs": [],
   "source": [
    "aux = data.groupby([\"week\",\"country_name\"]).sum()"
   ]
  },
  {
   "cell_type": "code",
   "execution_count": 30,
   "id": "a88ae1b5-3a9d-468d-8729-5ae6cfb88bab",
   "metadata": {},
   "outputs": [],
   "source": [
    "macro = macro.join(aux, lsuffix='_macro', rsuffix='_aux')"
   ]
  },
  {
   "cell_type": "code",
   "execution_count": 31,
   "id": "ac7b95b3-ed34-40c6-9ea6-f8d3899d2f16",
   "metadata": {},
   "outputs": [
    {
     "name": "stdout",
     "output_type": "stream",
     "text": [
      "<class 'pandas.core.frame.DataFrame'>\n",
      "MultiIndex: 552 entries, ('2019-12-30/2020-01-05', 'Germany') to ('2022-08-15/2022-08-21', 'United States of America')\n",
      "Data columns (total 18 columns):\n",
      " #   Column                        Non-Null Count  Dtype  \n",
      "---  ------                        --------------  -----  \n",
      " 0   new_confirmed                 504 non-null    float64\n",
      " 1   new_deceased                  504 non-null    float64\n",
      " 2   new_deceased_confirmed_ratio  394 non-null    float64\n",
      " 3   location_key_macro            552 non-null    object \n",
      " 4   population                    552 non-null    float64\n",
      " 5   population_age_00_09          552 non-null    float64\n",
      " 6   population_age_10_19          552 non-null    float64\n",
      " 7   population_age_20_29          552 non-null    float64\n",
      " 8   population_age_30_39          552 non-null    float64\n",
      " 9   population_age_40_49          552 non-null    float64\n",
      " 10  population_age_50_59          552 non-null    float64\n",
      " 11  population_age_60_69          552 non-null    float64\n",
      " 12  population_age_70_79          552 non-null    float64\n",
      " 13  population_age_80_and_older   552 non-null    float64\n",
      " 14  life_expectancy               138 non-null    float64\n",
      " 15  date                          130 non-null    object \n",
      " 16  location_key_aux              130 non-null    object \n",
      " 17  new_hospitalized_patients     130 non-null    float64\n",
      "dtypes: float64(15), object(3)\n",
      "memory usage: 100.8+ KB\n"
     ]
    }
   ],
   "source": [
    "macro.info()"
   ]
  },
  {
   "cell_type": "markdown",
   "id": "4649e117-9544-426f-894c-88203cb3ba25",
   "metadata": {},
   "source": [
    "#### `vaccinations`"
   ]
  },
  {
   "cell_type": "code",
   "execution_count": 32,
   "id": "8c4962eb-3583-4731-8e7e-ddb9f3986d8f",
   "metadata": {},
   "outputs": [
    {
     "name": "stdout",
     "output_type": "stream",
     "text": [
      "<class 'pandas.core.frame.DataFrame'>\n",
      "RangeIndex: 1562414 entries, 0 to 1562413\n",
      "Data columns (total 5 columns):\n",
      " #   Column                        Non-Null Count    Dtype  \n",
      "---  ------                        --------------    -----  \n",
      " 0   date                          1562414 non-null  object \n",
      " 1   week                          1562414 non-null  object \n",
      " 2   location_key                  1562414 non-null  object \n",
      " 3   new_persons_fully_vaccinated  1562414 non-null  float64\n",
      " 4   country_name                  1562414 non-null  object \n",
      "dtypes: float64(1), object(4)\n",
      "memory usage: 59.6+ MB\n"
     ]
    }
   ],
   "source": [
    "key = \"vaccinations\"\n",
    "data = pd.read_csv(f\"data/{INPUT_FOLDER}/{key}.zip\")\n",
    "data.info(show_counts=True)"
   ]
  },
  {
   "cell_type": "markdown",
   "id": "5002ff37-056f-4c2f-8e5c-2eac36ac095e",
   "metadata": {},
   "source": [
    "##### _Aggregate_: (sum)"
   ]
  },
  {
   "cell_type": "code",
   "execution_count": 36,
   "id": "d1615c60-0899-461f-b67f-c636d1f16beb",
   "metadata": {},
   "outputs": [
    {
     "name": "stderr",
     "output_type": "stream",
     "text": [
      "C:\\Users\\SLO\\AppData\\Local\\Temp\\ipykernel_21612\\1624207279.py:2: FutureWarning: The provided callable <built-in function sum> is currently using SeriesGroupBy.sum. In a future version of pandas, the provided callable will be used directly. To keep current behavior pass the string \"sum\" instead.\n",
      "  aux = data.groupby([\"week\", \"country_name\"]).agg({\n"
     ]
    }
   ],
   "source": [
    "data = data.set_index(\"date\").sort_index()\n",
    "aux = data.groupby([\"week\", \"country_name\"]).agg({\n",
    "    \"new_persons_fully_vaccinated\": sum\n",
    "})"
   ]
  },
  {
   "cell_type": "code",
   "execution_count": 37,
   "id": "653f4586-a6bf-44f5-b94e-f4b1f33d7203",
   "metadata": {},
   "outputs": [],
   "source": [
    "macro = macro.join(aux, lsuffix='_macro', rsuffix='_aux')"
   ]
  },
  {
   "cell_type": "code",
   "execution_count": 38,
   "id": "7788b875-2258-49fe-a015-af10ba5de43b",
   "metadata": {},
   "outputs": [
    {
     "name": "stdout",
     "output_type": "stream",
     "text": [
      "<class 'pandas.core.frame.DataFrame'>\n",
      "MultiIndex: 552 entries, ('2019-12-30/2020-01-05', 'Germany') to ('2022-08-15/2022-08-21', 'United States of America')\n",
      "Data columns (total 19 columns):\n",
      " #   Column                        Non-Null Count  Dtype  \n",
      "---  ------                        --------------  -----  \n",
      " 0   new_confirmed                 504 non-null    float64\n",
      " 1   new_deceased                  504 non-null    float64\n",
      " 2   new_deceased_confirmed_ratio  394 non-null    float64\n",
      " 3   location_key_macro            552 non-null    object \n",
      " 4   population                    552 non-null    float64\n",
      " 5   population_age_00_09          552 non-null    float64\n",
      " 6   population_age_10_19          552 non-null    float64\n",
      " 7   population_age_20_29          552 non-null    float64\n",
      " 8   population_age_30_39          552 non-null    float64\n",
      " 9   population_age_40_49          552 non-null    float64\n",
      " 10  population_age_50_59          552 non-null    float64\n",
      " 11  population_age_60_69          552 non-null    float64\n",
      " 12  population_age_70_79          552 non-null    float64\n",
      " 13  population_age_80_and_older   552 non-null    float64\n",
      " 14  life_expectancy               138 non-null    float64\n",
      " 15  date                          130 non-null    object \n",
      " 16  location_key_aux              130 non-null    object \n",
      " 17  new_hospitalized_patients     130 non-null    float64\n",
      " 18  new_persons_fully_vaccinated  69 non-null     float64\n",
      "dtypes: float64(16), object(3)\n",
      "memory usage: 105.2+ KB\n"
     ]
    }
   ],
   "source": [
    "macro.info()"
   ]
  },
  {
   "cell_type": "markdown",
   "id": "a456db18-9653-40a2-a747-c8569b6a581e",
   "metadata": {},
   "source": [
    "### Save `macrotable`"
   ]
  },
  {
   "cell_type": "code",
   "execution_count": 39,
   "id": "8377d51e-86e0-47d7-aabc-a51c7ed13f42",
   "metadata": {},
   "outputs": [],
   "source": [
    "macro.to_csv(f\"data/{OUTPUT_FOLDER}/macrotable.zip\", index=True)"
   ]
  },
  {
   "cell_type": "code",
   "execution_count": 42,
   "id": "e88856b5-5178-415b-9148-9fd2fbbb4edd",
   "metadata": {},
   "outputs": [
    {
     "data": {
      "application/vnd.jupyter.widget-view+json": {
       "model_id": "f8abebda7244442b86fdcb28b5569f2c",
       "version_major": 2,
       "version_minor": 0
      },
      "text/plain": [
       "Summarize dataset:   0%|          | 0/5 [00:00<?, ?it/s]"
      ]
     },
     "metadata": {},
     "output_type": "display_data"
    },
    {
     "name": "stderr",
     "output_type": "stream",
     "text": [
      "c:\\Users\\SLO\\Documents\\GitHub\\IE-University\\myenv312\\Lib\\site-packages\\numpy\\_core\\_methods.py:194: RuntimeWarning: invalid value encountered in subtract\n",
      "  x = asanyarray(arr - arrmean)\n",
      "c:\\Users\\SLO\\Documents\\GitHub\\IE-University\\myenv312\\Lib\\site-packages\\pandas\\core\\nanops.py:1344: RuntimeWarning: invalid value encountered in subtract\n",
      "  adjusted = values - mean\n",
      "c:\\Users\\SLO\\Documents\\GitHub\\IE-University\\myenv312\\Lib\\site-packages\\pandas\\core\\nanops.py:1256: RuntimeWarning: invalid value encountered in subtract\n",
      "  adjusted = values - mean\n",
      "c:\\Users\\SLO\\Documents\\GitHub\\IE-University\\myenv312\\Lib\\site-packages\\numpy\\lib\\_function_base_impl.py:4620: RuntimeWarning: invalid value encountered in subtract\n",
      "  diff_b_a = subtract(b, a)\n"
     ]
    },
    {
     "data": {
      "application/vnd.jupyter.widget-view+json": {
       "model_id": "7cb21f46ea4e4425a18ba5802184f0f0",
       "version_major": 2,
       "version_minor": 0
      },
      "text/plain": [
       "Generate report structure:   0%|          | 0/1 [00:00<?, ?it/s]"
      ]
     },
     "metadata": {},
     "output_type": "display_data"
    },
    {
     "ename": "ValueError",
     "evalue": "Couldn't find space to draw. Either the Canvas size is too small or too much of the image is masked out.",
     "output_type": "error",
     "traceback": [
      "\u001b[1;31m---------------------------------------------------------------------------\u001b[0m",
      "\u001b[1;31mIndexError\u001b[0m                                Traceback (most recent call last)",
      "File \u001b[1;32mc:\\Users\\SLO\\Documents\\GitHub\\IE-University\\myenv312\\Lib\\site-packages\\wordcloud\\wordcloud.py:458\u001b[0m, in \u001b[0;36mWordCloud.generate_from_frequencies\u001b[1;34m(self, frequencies, max_font_size)\u001b[0m\n\u001b[0;32m    457\u001b[0m \u001b[38;5;28;01mtry\u001b[39;00m:\n\u001b[1;32m--> 458\u001b[0m     font_size \u001b[38;5;241m=\u001b[39m \u001b[38;5;28mint\u001b[39m(\u001b[38;5;241m2\u001b[39m \u001b[38;5;241m*\u001b[39m \u001b[43msizes\u001b[49m\u001b[43m[\u001b[49m\u001b[38;5;241;43m0\u001b[39;49m\u001b[43m]\u001b[49m \u001b[38;5;241m*\u001b[39m sizes[\u001b[38;5;241m1\u001b[39m]\n\u001b[0;32m    459\u001b[0m                     \u001b[38;5;241m/\u001b[39m (sizes[\u001b[38;5;241m0\u001b[39m] \u001b[38;5;241m+\u001b[39m sizes[\u001b[38;5;241m1\u001b[39m]))\n\u001b[0;32m    460\u001b[0m \u001b[38;5;66;03m# quick fix for if self.layout_ contains less than 2 values\u001b[39;00m\n\u001b[0;32m    461\u001b[0m \u001b[38;5;66;03m# on very small images it can be empty\u001b[39;00m\n",
      "\u001b[1;31mIndexError\u001b[0m: list index out of range",
      "\nDuring handling of the above exception, another exception occurred:\n",
      "\u001b[1;31mIndexError\u001b[0m                                Traceback (most recent call last)",
      "File \u001b[1;32mc:\\Users\\SLO\\Documents\\GitHub\\IE-University\\myenv312\\Lib\\site-packages\\wordcloud\\wordcloud.py:464\u001b[0m, in \u001b[0;36mWordCloud.generate_from_frequencies\u001b[1;34m(self, frequencies, max_font_size)\u001b[0m\n\u001b[0;32m    463\u001b[0m \u001b[38;5;28;01mtry\u001b[39;00m:\n\u001b[1;32m--> 464\u001b[0m     font_size \u001b[38;5;241m=\u001b[39m \u001b[43msizes\u001b[49m\u001b[43m[\u001b[49m\u001b[38;5;241;43m0\u001b[39;49m\u001b[43m]\u001b[49m\n\u001b[0;32m    465\u001b[0m \u001b[38;5;28;01mexcept\u001b[39;00m \u001b[38;5;167;01mIndexError\u001b[39;00m:\n",
      "\u001b[1;31mIndexError\u001b[0m: list index out of range",
      "\nDuring handling of the above exception, another exception occurred:\n",
      "\u001b[1;31mValueError\u001b[0m                                Traceback (most recent call last)",
      "Cell \u001b[1;32mIn[42], line 2\u001b[0m\n\u001b[0;32m      1\u001b[0m profile \u001b[38;5;241m=\u001b[39m ProfileReport(macro, minimal\u001b[38;5;241m=\u001b[39m\u001b[38;5;28;01mTrue\u001b[39;00m)\n\u001b[1;32m----> 2\u001b[0m \u001b[43mprofile\u001b[49m\u001b[38;5;241;43m.\u001b[39;49m\u001b[43mto_file\u001b[49m\u001b[43m(\u001b[49m\u001b[38;5;124;43m\"\u001b[39;49m\u001b[38;5;124;43mprofiling/macro.html\u001b[39;49m\u001b[38;5;124;43m\"\u001b[39;49m\u001b[43m)\u001b[49m\n",
      "File \u001b[1;32mc:\\Users\\SLO\\Documents\\GitHub\\IE-University\\myenv312\\Lib\\site-packages\\ydata_profiling\\profile_report.py:374\u001b[0m, in \u001b[0;36mProfileReport.to_file\u001b[1;34m(self, output_file, silent)\u001b[0m\n\u001b[0;32m    371\u001b[0m         \u001b[38;5;28mself\u001b[39m\u001b[38;5;241m.\u001b[39mconfig\u001b[38;5;241m.\u001b[39mhtml\u001b[38;5;241m.\u001b[39massets_prefix \u001b[38;5;241m=\u001b[39m \u001b[38;5;28mstr\u001b[39m(output_file\u001b[38;5;241m.\u001b[39mstem) \u001b[38;5;241m+\u001b[39m \u001b[38;5;124m\"\u001b[39m\u001b[38;5;124m_assets\u001b[39m\u001b[38;5;124m\"\u001b[39m\n\u001b[0;32m    372\u001b[0m     create_html_assets(\u001b[38;5;28mself\u001b[39m\u001b[38;5;241m.\u001b[39mconfig, output_file)\n\u001b[1;32m--> 374\u001b[0m data \u001b[38;5;241m=\u001b[39m \u001b[38;5;28;43mself\u001b[39;49m\u001b[38;5;241;43m.\u001b[39;49m\u001b[43mto_html\u001b[49m\u001b[43m(\u001b[49m\u001b[43m)\u001b[49m\n\u001b[0;32m    376\u001b[0m \u001b[38;5;28;01mif\u001b[39;00m output_file\u001b[38;5;241m.\u001b[39msuffix \u001b[38;5;241m!=\u001b[39m \u001b[38;5;124m\"\u001b[39m\u001b[38;5;124m.html\u001b[39m\u001b[38;5;124m\"\u001b[39m:\n\u001b[0;32m    377\u001b[0m     suffix \u001b[38;5;241m=\u001b[39m output_file\u001b[38;5;241m.\u001b[39msuffix\n",
      "File \u001b[1;32mc:\\Users\\SLO\\Documents\\GitHub\\IE-University\\myenv312\\Lib\\site-packages\\ydata_profiling\\profile_report.py:491\u001b[0m, in \u001b[0;36mProfileReport.to_html\u001b[1;34m(self)\u001b[0m\n\u001b[0;32m    483\u001b[0m \u001b[38;5;28;01mdef\u001b[39;00m\u001b[38;5;250m \u001b[39m\u001b[38;5;21mto_html\u001b[39m(\u001b[38;5;28mself\u001b[39m) \u001b[38;5;241m-\u001b[39m\u001b[38;5;241m>\u001b[39m \u001b[38;5;28mstr\u001b[39m:\n\u001b[0;32m    484\u001b[0m \u001b[38;5;250m    \u001b[39m\u001b[38;5;124;03m\"\"\"Generate and return complete template as lengthy string\u001b[39;00m\n\u001b[0;32m    485\u001b[0m \u001b[38;5;124;03m        for using with frameworks.\u001b[39;00m\n\u001b[0;32m    486\u001b[0m \n\u001b[1;32m   (...)\u001b[0m\n\u001b[0;32m    489\u001b[0m \n\u001b[0;32m    490\u001b[0m \u001b[38;5;124;03m    \"\"\"\u001b[39;00m\n\u001b[1;32m--> 491\u001b[0m     \u001b[38;5;28;01mreturn\u001b[39;00m \u001b[38;5;28;43mself\u001b[39;49m\u001b[38;5;241;43m.\u001b[39;49m\u001b[43mhtml\u001b[49m\n",
      "File \u001b[1;32mc:\\Users\\SLO\\Documents\\GitHub\\IE-University\\myenv312\\Lib\\site-packages\\ydata_profiling\\profile_report.py:287\u001b[0m, in \u001b[0;36mProfileReport.html\u001b[1;34m(self)\u001b[0m\n\u001b[0;32m    284\u001b[0m \u001b[38;5;129m@property\u001b[39m\n\u001b[0;32m    285\u001b[0m \u001b[38;5;28;01mdef\u001b[39;00m\u001b[38;5;250m \u001b[39m\u001b[38;5;21mhtml\u001b[39m(\u001b[38;5;28mself\u001b[39m) \u001b[38;5;241m-\u001b[39m\u001b[38;5;241m>\u001b[39m \u001b[38;5;28mstr\u001b[39m:\n\u001b[0;32m    286\u001b[0m     \u001b[38;5;28;01mif\u001b[39;00m \u001b[38;5;28mself\u001b[39m\u001b[38;5;241m.\u001b[39m_html \u001b[38;5;129;01mis\u001b[39;00m \u001b[38;5;28;01mNone\u001b[39;00m:\n\u001b[1;32m--> 287\u001b[0m         \u001b[38;5;28mself\u001b[39m\u001b[38;5;241m.\u001b[39m_html \u001b[38;5;241m=\u001b[39m \u001b[38;5;28;43mself\u001b[39;49m\u001b[38;5;241;43m.\u001b[39;49m\u001b[43m_render_html\u001b[49m\u001b[43m(\u001b[49m\u001b[43m)\u001b[49m\n\u001b[0;32m    288\u001b[0m     \u001b[38;5;28;01mreturn\u001b[39;00m \u001b[38;5;28mself\u001b[39m\u001b[38;5;241m.\u001b[39m_html\n",
      "File \u001b[1;32mc:\\Users\\SLO\\Documents\\GitHub\\IE-University\\myenv312\\Lib\\site-packages\\ydata_profiling\\profile_report.py:404\u001b[0m, in \u001b[0;36mProfileReport._render_html\u001b[1;34m(self)\u001b[0m\n\u001b[0;32m    401\u001b[0m \u001b[38;5;28;01mdef\u001b[39;00m\u001b[38;5;250m \u001b[39m\u001b[38;5;21m_render_html\u001b[39m(\u001b[38;5;28mself\u001b[39m) \u001b[38;5;241m-\u001b[39m\u001b[38;5;241m>\u001b[39m \u001b[38;5;28mstr\u001b[39m:\n\u001b[0;32m    402\u001b[0m     \u001b[38;5;28;01mfrom\u001b[39;00m\u001b[38;5;250m \u001b[39m\u001b[38;5;21;01mydata_profiling\u001b[39;00m\u001b[38;5;21;01m.\u001b[39;00m\u001b[38;5;21;01mreport\u001b[39;00m\u001b[38;5;21;01m.\u001b[39;00m\u001b[38;5;21;01mpresentation\u001b[39;00m\u001b[38;5;21;01m.\u001b[39;00m\u001b[38;5;21;01mflavours\u001b[39;00m\u001b[38;5;250m \u001b[39m\u001b[38;5;28;01mimport\u001b[39;00m HTMLReport\n\u001b[1;32m--> 404\u001b[0m     report \u001b[38;5;241m=\u001b[39m \u001b[38;5;28;43mself\u001b[39;49m\u001b[38;5;241;43m.\u001b[39;49m\u001b[43mreport\u001b[49m\n\u001b[0;32m    406\u001b[0m     \u001b[38;5;28;01mwith\u001b[39;00m tqdm(\n\u001b[0;32m    407\u001b[0m         total\u001b[38;5;241m=\u001b[39m\u001b[38;5;241m1\u001b[39m, desc\u001b[38;5;241m=\u001b[39m\u001b[38;5;124m\"\u001b[39m\u001b[38;5;124mRender HTML\u001b[39m\u001b[38;5;124m\"\u001b[39m, disable\u001b[38;5;241m=\u001b[39m\u001b[38;5;129;01mnot\u001b[39;00m \u001b[38;5;28mself\u001b[39m\u001b[38;5;241m.\u001b[39mconfig\u001b[38;5;241m.\u001b[39mprogress_bar\n\u001b[0;32m    408\u001b[0m     ) \u001b[38;5;28;01mas\u001b[39;00m pbar:\n\u001b[0;32m    409\u001b[0m         html \u001b[38;5;241m=\u001b[39m HTMLReport(copy\u001b[38;5;241m.\u001b[39mdeepcopy(report))\u001b[38;5;241m.\u001b[39mrender(\n\u001b[0;32m    410\u001b[0m             nav\u001b[38;5;241m=\u001b[39m\u001b[38;5;28mself\u001b[39m\u001b[38;5;241m.\u001b[39mconfig\u001b[38;5;241m.\u001b[39mhtml\u001b[38;5;241m.\u001b[39mnavbar_show,\n\u001b[0;32m    411\u001b[0m             offline\u001b[38;5;241m=\u001b[39m\u001b[38;5;28mself\u001b[39m\u001b[38;5;241m.\u001b[39mconfig\u001b[38;5;241m.\u001b[39mhtml\u001b[38;5;241m.\u001b[39muse_local_assets,\n\u001b[1;32m   (...)\u001b[0m\n\u001b[0;32m    419\u001b[0m             version\u001b[38;5;241m=\u001b[39m\u001b[38;5;28mself\u001b[39m\u001b[38;5;241m.\u001b[39mdescription_set\u001b[38;5;241m.\u001b[39mpackage[\u001b[38;5;124m\"\u001b[39m\u001b[38;5;124mydata_profiling_version\u001b[39m\u001b[38;5;124m\"\u001b[39m],\n\u001b[0;32m    420\u001b[0m         )\n",
      "File \u001b[1;32mc:\\Users\\SLO\\Documents\\GitHub\\IE-University\\myenv312\\Lib\\site-packages\\ydata_profiling\\profile_report.py:281\u001b[0m, in \u001b[0;36mProfileReport.report\u001b[1;34m(self)\u001b[0m\n\u001b[0;32m    278\u001b[0m \u001b[38;5;129m@property\u001b[39m\n\u001b[0;32m    279\u001b[0m \u001b[38;5;28;01mdef\u001b[39;00m\u001b[38;5;250m \u001b[39m\u001b[38;5;21mreport\u001b[39m(\u001b[38;5;28mself\u001b[39m) \u001b[38;5;241m-\u001b[39m\u001b[38;5;241m>\u001b[39m Root:\n\u001b[0;32m    280\u001b[0m     \u001b[38;5;28;01mif\u001b[39;00m \u001b[38;5;28mself\u001b[39m\u001b[38;5;241m.\u001b[39m_report \u001b[38;5;129;01mis\u001b[39;00m \u001b[38;5;28;01mNone\u001b[39;00m:\n\u001b[1;32m--> 281\u001b[0m         \u001b[38;5;28mself\u001b[39m\u001b[38;5;241m.\u001b[39m_report \u001b[38;5;241m=\u001b[39m \u001b[43mget_report_structure\u001b[49m\u001b[43m(\u001b[49m\u001b[38;5;28;43mself\u001b[39;49m\u001b[38;5;241;43m.\u001b[39;49m\u001b[43mconfig\u001b[49m\u001b[43m,\u001b[49m\u001b[43m \u001b[49m\u001b[38;5;28;43mself\u001b[39;49m\u001b[38;5;241;43m.\u001b[39;49m\u001b[43mdescription_set\u001b[49m\u001b[43m)\u001b[49m\n\u001b[0;32m    282\u001b[0m     \u001b[38;5;28;01mreturn\u001b[39;00m \u001b[38;5;28mself\u001b[39m\u001b[38;5;241m.\u001b[39m_report\n",
      "File \u001b[1;32mc:\\Users\\SLO\\Documents\\GitHub\\IE-University\\myenv312\\Lib\\site-packages\\ydata_profiling\\report\\structure\\report.py:387\u001b[0m, in \u001b[0;36mget_report_structure\u001b[1;34m(config, summary)\u001b[0m\n\u001b[0;32m    368\u001b[0m section_items: List[Renderable] \u001b[38;5;241m=\u001b[39m [\n\u001b[0;32m    369\u001b[0m     Container(\n\u001b[0;32m    370\u001b[0m         get_dataset_items(config, summary, alerts),\n\u001b[1;32m   (...)\u001b[0m\n\u001b[0;32m    374\u001b[0m     ),\n\u001b[0;32m    375\u001b[0m ]\n\u001b[0;32m    377\u001b[0m \u001b[38;5;28;01mif\u001b[39;00m \u001b[38;5;28mlen\u001b[39m(summary\u001b[38;5;241m.\u001b[39mvariables) \u001b[38;5;241m>\u001b[39m \u001b[38;5;241m0\u001b[39m:\n\u001b[0;32m    378\u001b[0m     section_items\u001b[38;5;241m.\u001b[39mappend(\n\u001b[0;32m    379\u001b[0m         Dropdown(\n\u001b[0;32m    380\u001b[0m             name\u001b[38;5;241m=\u001b[39m\u001b[38;5;124m\"\u001b[39m\u001b[38;5;124mVariables\u001b[39m\u001b[38;5;124m\"\u001b[39m,\n\u001b[0;32m    381\u001b[0m             anchor_id\u001b[38;5;241m=\u001b[39m\u001b[38;5;124m\"\u001b[39m\u001b[38;5;124mvariables-dropdown\u001b[39m\u001b[38;5;124m\"\u001b[39m,\n\u001b[0;32m    382\u001b[0m             \u001b[38;5;28mid\u001b[39m\u001b[38;5;241m=\u001b[39m\u001b[38;5;124m\"\u001b[39m\u001b[38;5;124mvariables-dropdown\u001b[39m\u001b[38;5;124m\"\u001b[39m,\n\u001b[0;32m    383\u001b[0m             is_row\u001b[38;5;241m=\u001b[39m\u001b[38;5;28;01mFalse\u001b[39;00m,\n\u001b[0;32m    384\u001b[0m             classes\u001b[38;5;241m=\u001b[39m[\u001b[38;5;124m\"\u001b[39m\u001b[38;5;124mform-select\u001b[39m\u001b[38;5;124m\"\u001b[39m],\n\u001b[0;32m    385\u001b[0m             items\u001b[38;5;241m=\u001b[39m\u001b[38;5;28mlist\u001b[39m(summary\u001b[38;5;241m.\u001b[39mvariables),\n\u001b[0;32m    386\u001b[0m             item\u001b[38;5;241m=\u001b[39mContainer(\n\u001b[1;32m--> 387\u001b[0m                 \u001b[43mrender_variables_section\u001b[49m\u001b[43m(\u001b[49m\u001b[43mconfig\u001b[49m\u001b[43m,\u001b[49m\u001b[43m \u001b[49m\u001b[43msummary\u001b[49m\u001b[43m)\u001b[49m,\n\u001b[0;32m    388\u001b[0m                 sequence_type\u001b[38;5;241m=\u001b[39m\u001b[38;5;124m\"\u001b[39m\u001b[38;5;124maccordion\u001b[39m\u001b[38;5;124m\"\u001b[39m,\n\u001b[0;32m    389\u001b[0m                 name\u001b[38;5;241m=\u001b[39m\u001b[38;5;124m\"\u001b[39m\u001b[38;5;124mVariables\u001b[39m\u001b[38;5;124m\"\u001b[39m,\n\u001b[0;32m    390\u001b[0m                 anchor_id\u001b[38;5;241m=\u001b[39m\u001b[38;5;124m\"\u001b[39m\u001b[38;5;124mvariables\u001b[39m\u001b[38;5;124m\"\u001b[39m,\n\u001b[0;32m    391\u001b[0m             ),\n\u001b[0;32m    392\u001b[0m         )\n\u001b[0;32m    393\u001b[0m     )\n\u001b[0;32m    395\u001b[0m scatter_items \u001b[38;5;241m=\u001b[39m get_interactions(config, summary\u001b[38;5;241m.\u001b[39mscatter)\n\u001b[0;32m    396\u001b[0m \u001b[38;5;28;01mif\u001b[39;00m \u001b[38;5;28mlen\u001b[39m(scatter_items) \u001b[38;5;241m>\u001b[39m \u001b[38;5;241m0\u001b[39m:\n",
      "File \u001b[1;32mc:\\Users\\SLO\\Documents\\GitHub\\IE-University\\myenv312\\Lib\\site-packages\\ydata_profiling\\report\\structure\\report.py:162\u001b[0m, in \u001b[0;36mrender_variables_section\u001b[1;34m(config, dataframe_summary)\u001b[0m\n\u001b[0;32m    160\u001b[0m     variable_type \u001b[38;5;241m=\u001b[39m summary[\u001b[38;5;124m\"\u001b[39m\u001b[38;5;124mtype\u001b[39m\u001b[38;5;124m\"\u001b[39m]\n\u001b[0;32m    161\u001b[0m render_map_type \u001b[38;5;241m=\u001b[39m render_map\u001b[38;5;241m.\u001b[39mget(variable_type, render_map[\u001b[38;5;124m\"\u001b[39m\u001b[38;5;124mUnsupported\u001b[39m\u001b[38;5;124m\"\u001b[39m])\n\u001b[1;32m--> 162\u001b[0m template_variables\u001b[38;5;241m.\u001b[39mupdate(\u001b[43mrender_map_type\u001b[49m\u001b[43m(\u001b[49m\u001b[43mconfig\u001b[49m\u001b[43m,\u001b[49m\u001b[43m \u001b[49m\u001b[43mtemplate_variables\u001b[49m\u001b[43m)\u001b[49m)\n\u001b[0;32m    164\u001b[0m \u001b[38;5;66;03m# Ignore these\u001b[39;00m\n\u001b[0;32m    165\u001b[0m \u001b[38;5;28;01mif\u001b[39;00m reject_variables:\n",
      "File \u001b[1;32mc:\\Users\\SLO\\Documents\\GitHub\\IE-University\\myenv312\\Lib\\site-packages\\ydata_profiling\\report\\structure\\variables\\render_text.py:81\u001b[0m, in \u001b[0;36mrender_text\u001b[1;34m(config, summary)\u001b[0m\n\u001b[0;32m     77\u001b[0m top_items\u001b[38;5;241m.\u001b[39mappend(table)\n\u001b[0;32m     79\u001b[0m \u001b[38;5;28;01mif\u001b[39;00m words \u001b[38;5;129;01mand\u001b[39;00m \u001b[38;5;124m\"\u001b[39m\u001b[38;5;124mword_counts\u001b[39m\u001b[38;5;124m\"\u001b[39m \u001b[38;5;129;01min\u001b[39;00m summary:\n\u001b[0;32m     80\u001b[0m     mini_wordcloud \u001b[38;5;241m=\u001b[39m Image(\n\u001b[1;32m---> 81\u001b[0m         \u001b[43mplot_word_cloud\u001b[49m\u001b[43m(\u001b[49m\u001b[43mconfig\u001b[49m\u001b[43m,\u001b[49m\u001b[43m \u001b[49m\u001b[43msummary\u001b[49m\u001b[43m[\u001b[49m\u001b[38;5;124;43m\"\u001b[39;49m\u001b[38;5;124;43mword_counts\u001b[39;49m\u001b[38;5;124;43m\"\u001b[39;49m\u001b[43m]\u001b[49m\u001b[43m)\u001b[49m,\n\u001b[0;32m     82\u001b[0m         image_format\u001b[38;5;241m=\u001b[39mconfig\u001b[38;5;241m.\u001b[39mplot\u001b[38;5;241m.\u001b[39mimage_format,\n\u001b[0;32m     83\u001b[0m         alt\u001b[38;5;241m=\u001b[39m\u001b[38;5;124m\"\u001b[39m\u001b[38;5;124mMini wordcloud\u001b[39m\u001b[38;5;124m\"\u001b[39m,\n\u001b[0;32m     84\u001b[0m     )\n\u001b[0;32m     85\u001b[0m     top_items\u001b[38;5;241m.\u001b[39mappend(mini_wordcloud)\n\u001b[0;32m     86\u001b[0m template_variables[\u001b[38;5;124m\"\u001b[39m\u001b[38;5;124mtop\u001b[39m\u001b[38;5;124m\"\u001b[39m] \u001b[38;5;241m=\u001b[39m Container(top_items, sequence_type\u001b[38;5;241m=\u001b[39m\u001b[38;5;124m\"\u001b[39m\u001b[38;5;124mgrid\u001b[39m\u001b[38;5;124m\"\u001b[39m)\n",
      "File \u001b[1;32m~\\AppData\\Local\\Programs\\Python\\Python312\\Lib\\contextlib.py:81\u001b[0m, in \u001b[0;36mContextDecorator.__call__.<locals>.inner\u001b[1;34m(*args, **kwds)\u001b[0m\n\u001b[0;32m     78\u001b[0m \u001b[38;5;129m@wraps\u001b[39m(func)\n\u001b[0;32m     79\u001b[0m \u001b[38;5;28;01mdef\u001b[39;00m\u001b[38;5;250m \u001b[39m\u001b[38;5;21minner\u001b[39m(\u001b[38;5;241m*\u001b[39margs, \u001b[38;5;241m*\u001b[39m\u001b[38;5;241m*\u001b[39mkwds):\n\u001b[0;32m     80\u001b[0m     \u001b[38;5;28;01mwith\u001b[39;00m \u001b[38;5;28mself\u001b[39m\u001b[38;5;241m.\u001b[39m_recreate_cm():\n\u001b[1;32m---> 81\u001b[0m         \u001b[38;5;28;01mreturn\u001b[39;00m \u001b[43mfunc\u001b[49m\u001b[43m(\u001b[49m\u001b[38;5;241;43m*\u001b[39;49m\u001b[43margs\u001b[49m\u001b[43m,\u001b[49m\u001b[43m \u001b[49m\u001b[38;5;241;43m*\u001b[39;49m\u001b[38;5;241;43m*\u001b[39;49m\u001b[43mkwds\u001b[49m\u001b[43m)\u001b[49m\n",
      "File \u001b[1;32mc:\\Users\\SLO\\Documents\\GitHub\\IE-University\\myenv312\\Lib\\site-packages\\ydata_profiling\\visualisation\\plot.py:133\u001b[0m, in \u001b[0;36mplot_word_cloud\u001b[1;34m(config, word_counts)\u001b[0m\n\u001b[0;32m    131\u001b[0m \u001b[38;5;129m@manage_matplotlib_context\u001b[39m()\n\u001b[0;32m    132\u001b[0m \u001b[38;5;28;01mdef\u001b[39;00m\u001b[38;5;250m \u001b[39m\u001b[38;5;21mplot_word_cloud\u001b[39m(config: Settings, word_counts: pd\u001b[38;5;241m.\u001b[39mSeries) \u001b[38;5;241m-\u001b[39m\u001b[38;5;241m>\u001b[39m \u001b[38;5;28mstr\u001b[39m:\n\u001b[1;32m--> 133\u001b[0m     \u001b[43m_plot_word_cloud\u001b[49m\u001b[43m(\u001b[49m\u001b[43mconfig\u001b[49m\u001b[38;5;241;43m=\u001b[39;49m\u001b[43mconfig\u001b[49m\u001b[43m,\u001b[49m\u001b[43m \u001b[49m\u001b[43mseries\u001b[49m\u001b[38;5;241;43m=\u001b[39;49m\u001b[43mword_counts\u001b[49m\u001b[43m)\u001b[49m\n\u001b[0;32m    134\u001b[0m     \u001b[38;5;28;01mreturn\u001b[39;00m plot_360_n0sc0pe(config)\n",
      "File \u001b[1;32mc:\\Users\\SLO\\Documents\\GitHub\\IE-University\\myenv312\\Lib\\site-packages\\ydata_profiling\\visualisation\\plot.py:46\u001b[0m, in \u001b[0;36m_plot_word_cloud\u001b[1;34m(config, series, figsize)\u001b[0m\n\u001b[0;32m     37\u001b[0m \u001b[38;5;28;01mfor\u001b[39;00m i, series_data \u001b[38;5;129;01min\u001b[39;00m \u001b[38;5;28menumerate\u001b[39m(series):\n\u001b[0;32m     38\u001b[0m     word_dict \u001b[38;5;241m=\u001b[39m series_data\u001b[38;5;241m.\u001b[39mto_dict()\n\u001b[0;32m     39\u001b[0m     wordcloud \u001b[38;5;241m=\u001b[39m \u001b[43mWordCloud\u001b[49m\u001b[43m(\u001b[49m\n\u001b[0;32m     40\u001b[0m \u001b[43m        \u001b[49m\u001b[43mfont_path\u001b[49m\u001b[38;5;241;43m=\u001b[39;49m\u001b[43mconfig\u001b[49m\u001b[38;5;241;43m.\u001b[39;49m\u001b[43mplot\u001b[49m\u001b[38;5;241;43m.\u001b[39;49m\u001b[43mfont_path\u001b[49m\u001b[43m,\u001b[49m\n\u001b[0;32m     41\u001b[0m \u001b[43m        \u001b[49m\u001b[43mbackground_color\u001b[49m\u001b[38;5;241;43m=\u001b[39;49m\u001b[38;5;124;43m\"\u001b[39;49m\u001b[38;5;124;43mwhite\u001b[39;49m\u001b[38;5;124;43m\"\u001b[39;49m\u001b[43m,\u001b[49m\n\u001b[0;32m     42\u001b[0m \u001b[43m        \u001b[49m\u001b[43mrandom_state\u001b[49m\u001b[38;5;241;43m=\u001b[39;49m\u001b[38;5;241;43m123\u001b[39;49m\u001b[43m,\u001b[49m\n\u001b[0;32m     43\u001b[0m \u001b[43m        \u001b[49m\u001b[43mwidth\u001b[49m\u001b[38;5;241;43m=\u001b[39;49m\u001b[38;5;241;43m300\u001b[39;49m\u001b[43m,\u001b[49m\n\u001b[0;32m     44\u001b[0m \u001b[43m        \u001b[49m\u001b[43mheight\u001b[49m\u001b[38;5;241;43m=\u001b[39;49m\u001b[38;5;241;43m200\u001b[39;49m\u001b[43m,\u001b[49m\n\u001b[0;32m     45\u001b[0m \u001b[43m        \u001b[49m\u001b[43mscale\u001b[49m\u001b[38;5;241;43m=\u001b[39;49m\u001b[38;5;241;43m2\u001b[39;49m\u001b[43m,\u001b[49m\n\u001b[1;32m---> 46\u001b[0m \u001b[43m    \u001b[49m\u001b[43m)\u001b[49m\u001b[38;5;241;43m.\u001b[39;49m\u001b[43mgenerate_from_frequencies\u001b[49m\u001b[43m(\u001b[49m\u001b[43mword_dict\u001b[49m\u001b[43m)\u001b[49m\n\u001b[0;32m     48\u001b[0m     ax \u001b[38;5;241m=\u001b[39m plot\u001b[38;5;241m.\u001b[39madd_subplot(\u001b[38;5;241m1\u001b[39m, \u001b[38;5;28mlen\u001b[39m(series), i \u001b[38;5;241m+\u001b[39m \u001b[38;5;241m1\u001b[39m)\n\u001b[0;32m     49\u001b[0m     ax\u001b[38;5;241m.\u001b[39mimshow(wordcloud)\n",
      "File \u001b[1;32mc:\\Users\\SLO\\Documents\\GitHub\\IE-University\\myenv312\\Lib\\site-packages\\wordcloud\\wordcloud.py:466\u001b[0m, in \u001b[0;36mWordCloud.generate_from_frequencies\u001b[1;34m(self, frequencies, max_font_size)\u001b[0m\n\u001b[0;32m    464\u001b[0m                 font_size \u001b[38;5;241m=\u001b[39m sizes[\u001b[38;5;241m0\u001b[39m]\n\u001b[0;32m    465\u001b[0m             \u001b[38;5;28;01mexcept\u001b[39;00m \u001b[38;5;167;01mIndexError\u001b[39;00m:\n\u001b[1;32m--> 466\u001b[0m                 \u001b[38;5;28;01mraise\u001b[39;00m \u001b[38;5;167;01mValueError\u001b[39;00m(\n\u001b[0;32m    467\u001b[0m                     \u001b[38;5;124m\"\u001b[39m\u001b[38;5;124mCouldn\u001b[39m\u001b[38;5;124m'\u001b[39m\u001b[38;5;124mt find space to draw. Either the Canvas size\u001b[39m\u001b[38;5;124m\"\u001b[39m\n\u001b[0;32m    468\u001b[0m                     \u001b[38;5;124m\"\u001b[39m\u001b[38;5;124m is too small or too much of the image is masked \u001b[39m\u001b[38;5;124m\"\u001b[39m\n\u001b[0;32m    469\u001b[0m                     \u001b[38;5;124m\"\u001b[39m\u001b[38;5;124mout.\u001b[39m\u001b[38;5;124m\"\u001b[39m)\n\u001b[0;32m    470\u001b[0m \u001b[38;5;28;01melse\u001b[39;00m:\n\u001b[0;32m    471\u001b[0m     font_size \u001b[38;5;241m=\u001b[39m max_font_size\n",
      "\u001b[1;31mValueError\u001b[0m: Couldn't find space to draw. Either the Canvas size is too small or too much of the image is masked out."
     ]
    }
   ],
   "source": [
    "profile = ProfileReport(macro, minimal=True)\n",
    "profile.to_file(\"profiling/macro.html\")"
   ]
  },
  {
   "cell_type": "code",
   "execution_count": 43,
   "id": "8d329023-62da-440c-b559-e6d16cf51d83",
   "metadata": {},
   "outputs": [
    {
     "name": "stdout",
     "output_type": "stream",
     "text": [
      "<class 'pandas.core.frame.DataFrame'>\n",
      "MultiIndex: 552 entries, ('2019-12-30/2020-01-05', 'Germany') to ('2022-08-15/2022-08-21', 'United States of America')\n",
      "Data columns (total 19 columns):\n",
      " #   Column                        Non-Null Count  Dtype  \n",
      "---  ------                        --------------  -----  \n",
      " 0   new_confirmed                 504 non-null    float64\n",
      " 1   new_deceased                  504 non-null    float64\n",
      " 2   new_deceased_confirmed_ratio  394 non-null    float64\n",
      " 3   location_key_macro            552 non-null    object \n",
      " 4   population                    552 non-null    float64\n",
      " 5   population_age_00_09          552 non-null    float64\n",
      " 6   population_age_10_19          552 non-null    float64\n",
      " 7   population_age_20_29          552 non-null    float64\n",
      " 8   population_age_30_39          552 non-null    float64\n",
      " 9   population_age_40_49          552 non-null    float64\n",
      " 10  population_age_50_59          552 non-null    float64\n",
      " 11  population_age_60_69          552 non-null    float64\n",
      " 12  population_age_70_79          552 non-null    float64\n",
      " 13  population_age_80_and_older   552 non-null    float64\n",
      " 14  life_expectancy               138 non-null    float64\n",
      " 15  date                          130 non-null    object \n",
      " 16  location_key_aux              130 non-null    object \n",
      " 17  new_hospitalized_patients     130 non-null    float64\n",
      " 18  new_persons_fully_vaccinated  69 non-null     float64\n",
      "dtypes: float64(16), object(3)\n",
      "memory usage: 105.2+ KB\n"
     ]
    }
   ],
   "source": [
    "macro.info()"
   ]
  },
  {
   "cell_type": "markdown",
   "id": "f34ca01b-49b2-4e1f-9363-2e409df0db92",
   "metadata": {},
   "source": [
    "### Final missing values review\n",
    "\n",
    "At this moment, some missing values can arise from the resulting aggregations. This is the time to decide what to do with them to buil a clean table for EDA.\n",
    "\n",
    "In this case:\n",
    " - `new_confirmed` and `new_deceased`: These missings are because some countries doesn't have the starting date at the same time as the country with the earliest record.\n",
    "    - **Action: Remove all missing rows**\n",
    " - `new_deceased_confirmed_ratio`: This value doesn't have missing values, but infinite values due to dividing by 0.\n",
    "    - **Action: Impute the value as 0**\n",
    " - `life_expectancy`: These missings are because this variable just applies to the United States. For those missings related to the United States, impute values to the mean\n",
    "    - **Action: Impute values to the mean, but just for the United States**\n",
    " - `new_hospitalized_patients`: These missings are because this variable just applies to the United States. For those missings related to the United States, impute values to the mean\n",
    "    - **Action: Impute values to the mean, but just for the United States**\n",
    " - `new_persons_fully_vaccinated`: These missings are because this variable just applies to the United States. For those missings related to the United States, impute values to 0 (there was no vaccination.) \n",
    "    - **Action: Impute values to 0, but just for the United States**"
   ]
  },
  {
   "cell_type": "code",
   "execution_count": 44,
   "id": "3348b145-9a50-43f3-b20a-7cafb6ee3fcd",
   "metadata": {},
   "outputs": [],
   "source": [
    "clean_macro = macro.copy()"
   ]
  },
  {
   "cell_type": "markdown",
   "id": "c72110da-4601-4e4a-af77-3b4a7b075b72",
   "metadata": {},
   "source": [
    "Imputing `new_confirmed`"
   ]
  },
  {
   "cell_type": "code",
   "execution_count": 45,
   "id": "ab1bc85f-0a88-4f0b-83b7-dc6ad4726a95",
   "metadata": {},
   "outputs": [],
   "source": [
    "clean_macro = clean_macro.dropna(subset=[\"new_confirmed\"])"
   ]
  },
  {
   "cell_type": "markdown",
   "id": "a2eaa9b8-161c-411a-807e-92ea1b9e8032",
   "metadata": {},
   "source": [
    "Imputing `new_deceased_confirmed_ratio`"
   ]
  },
  {
   "cell_type": "code",
   "execution_count": 46,
   "id": "6585663e-a0b0-4db9-a364-4beb16d6a5cc",
   "metadata": {},
   "outputs": [],
   "source": [
    "clean_macro = clean_macro.fillna({\n",
    "    \"new_deceased_confirmed_ratio\": 0\n",
    "})"
   ]
  },
  {
   "cell_type": "markdown",
   "id": "0a9bcf0f-c20a-4dfb-b2c9-a006f74cb760",
   "metadata": {},
   "source": [
    "Imputing `life_expectancy` and `new_hospitalized_patients`"
   ]
  },
  {
   "cell_type": "code",
   "execution_count": 47,
   "id": "83f1aede-36b1-4e8d-8696-45d7d0c96b1a",
   "metadata": {},
   "outputs": [
    {
     "data": {
      "text/html": [
       "<div>\n",
       "<style scoped>\n",
       "    .dataframe tbody tr th:only-of-type {\n",
       "        vertical-align: middle;\n",
       "    }\n",
       "\n",
       "    .dataframe tbody tr th {\n",
       "        vertical-align: top;\n",
       "    }\n",
       "\n",
       "    .dataframe thead th {\n",
       "        text-align: right;\n",
       "    }\n",
       "</style>\n",
       "<table border=\"1\" class=\"dataframe\">\n",
       "  <thead>\n",
       "    <tr style=\"text-align: right;\">\n",
       "      <th></th>\n",
       "      <th></th>\n",
       "      <th>life_expectancy</th>\n",
       "      <th>new_hospitalized_patients</th>\n",
       "    </tr>\n",
       "    <tr>\n",
       "      <th>week</th>\n",
       "      <th>country_name</th>\n",
       "      <th></th>\n",
       "      <th></th>\n",
       "    </tr>\n",
       "  </thead>\n",
       "  <tbody>\n",
       "    <tr>\n",
       "      <th>2020-01-20/2020-01-26</th>\n",
       "      <th>United States of America</th>\n",
       "      <td>77.871999</td>\n",
       "      <td>NaN</td>\n",
       "    </tr>\n",
       "    <tr>\n",
       "      <th>2020-01-27/2020-02-02</th>\n",
       "      <th>United States of America</th>\n",
       "      <td>77.871999</td>\n",
       "      <td>NaN</td>\n",
       "    </tr>\n",
       "    <tr>\n",
       "      <th>2020-02-03/2020-02-09</th>\n",
       "      <th>United States of America</th>\n",
       "      <td>77.871999</td>\n",
       "      <td>NaN</td>\n",
       "    </tr>\n",
       "    <tr>\n",
       "      <th>2020-02-10/2020-02-16</th>\n",
       "      <th>United States of America</th>\n",
       "      <td>77.871999</td>\n",
       "      <td>NaN</td>\n",
       "    </tr>\n",
       "    <tr>\n",
       "      <th>2020-02-17/2020-02-23</th>\n",
       "      <th>United States of America</th>\n",
       "      <td>77.871999</td>\n",
       "      <td>NaN</td>\n",
       "    </tr>\n",
       "  </tbody>\n",
       "</table>\n",
       "</div>"
      ],
      "text/plain": [
       "                                                life_expectancy  \\\n",
       "week                  country_name                                \n",
       "2020-01-20/2020-01-26 United States of America        77.871999   \n",
       "2020-01-27/2020-02-02 United States of America        77.871999   \n",
       "2020-02-03/2020-02-09 United States of America        77.871999   \n",
       "2020-02-10/2020-02-16 United States of America        77.871999   \n",
       "2020-02-17/2020-02-23 United States of America        77.871999   \n",
       "\n",
       "                                                new_hospitalized_patients  \n",
       "week                  country_name                                         \n",
       "2020-01-20/2020-01-26 United States of America                        NaN  \n",
       "2020-01-27/2020-02-02 United States of America                        NaN  \n",
       "2020-02-03/2020-02-09 United States of America                        NaN  \n",
       "2020-02-10/2020-02-16 United States of America                        NaN  \n",
       "2020-02-17/2020-02-23 United States of America                        NaN  "
      ]
     },
     "execution_count": 47,
     "metadata": {},
     "output_type": "execute_result"
    }
   ],
   "source": [
    "us_missings = clean_macro.query(\n",
    "    \"country_name == 'United States of America'\"\n",
    ")[[\"life_expectancy\",\"new_hospitalized_patients\"]]\n",
    "us_missings.head()"
   ]
  },
  {
   "cell_type": "code",
   "execution_count": 48,
   "id": "995310e0-33cb-4d02-841c-e80a5f16811c",
   "metadata": {},
   "outputs": [
    {
     "data": {
      "text/html": [
       "<div>\n",
       "<style scoped>\n",
       "    .dataframe tbody tr th:only-of-type {\n",
       "        vertical-align: middle;\n",
       "    }\n",
       "\n",
       "    .dataframe tbody tr th {\n",
       "        vertical-align: top;\n",
       "    }\n",
       "\n",
       "    .dataframe thead th {\n",
       "        text-align: right;\n",
       "    }\n",
       "</style>\n",
       "<table border=\"1\" class=\"dataframe\">\n",
       "  <thead>\n",
       "    <tr style=\"text-align: right;\">\n",
       "      <th></th>\n",
       "      <th>life_expectancy</th>\n",
       "      <th>new_hospitalized_patients</th>\n",
       "    </tr>\n",
       "    <tr>\n",
       "      <th>country_name</th>\n",
       "      <th></th>\n",
       "      <th></th>\n",
       "    </tr>\n",
       "  </thead>\n",
       "  <tbody>\n",
       "    <tr>\n",
       "      <th>United States of America</th>\n",
       "      <td>77.871999</td>\n",
       "      <td>2544.6</td>\n",
       "    </tr>\n",
       "  </tbody>\n",
       "</table>\n",
       "</div>"
      ],
      "text/plain": [
       "                          life_expectancy  new_hospitalized_patients\n",
       "country_name                                                        \n",
       "United States of America        77.871999                     2544.6"
      ]
     },
     "execution_count": 48,
     "metadata": {},
     "output_type": "execute_result"
    }
   ],
   "source": [
    "us_missings = us_missings.groupby(level=\"country_name\").mean()\n",
    "us_missings"
   ]
  },
  {
   "cell_type": "code",
   "execution_count": 49,
   "id": "fb0337ae-a6df-456e-99f6-0631151d5103",
   "metadata": {},
   "outputs": [],
   "source": [
    "clean_macro = clean_macro.fillna(us_missings)"
   ]
  },
  {
   "cell_type": "markdown",
   "id": "6a66c797-2553-47b6-9ed6-7e8afc27c526",
   "metadata": {},
   "source": [
    "Imputing `new_persons_fully_vaccinated`"
   ]
  },
  {
   "cell_type": "code",
   "execution_count": 50,
   "id": "b95407cb-cef7-470d-ae2c-4a9f10993b83",
   "metadata": {},
   "outputs": [],
   "source": [
    "clean_macro.loc[\n",
    "    (clean_macro.index.get_level_values(\"country_name\")==\"United States of America\")\n",
    "    & (clean_macro.new_persons_fully_vaccinated.isna()),\n",
    "    \"new_persons_fully_vaccinated\"\n",
    "] = 0"
   ]
  },
  {
   "cell_type": "code",
   "execution_count": 51,
   "id": "7ffea961-99bb-4708-b7d1-a9c4db9445f6",
   "metadata": {},
   "outputs": [
    {
     "name": "stdout",
     "output_type": "stream",
     "text": [
      "<class 'pandas.core.frame.DataFrame'>\n",
      "MultiIndex: 504 entries, ('2019-12-30/2020-01-05', 'Germany') to ('2022-08-15/2022-08-21', 'United States of America')\n",
      "Data columns (total 19 columns):\n",
      " #   Column                        Non-Null Count  Dtype  \n",
      "---  ------                        --------------  -----  \n",
      " 0   new_confirmed                 504 non-null    float64\n",
      " 1   new_deceased                  504 non-null    float64\n",
      " 2   new_deceased_confirmed_ratio  504 non-null    float64\n",
      " 3   location_key_macro            504 non-null    object \n",
      " 4   population                    504 non-null    float64\n",
      " 5   population_age_00_09          504 non-null    float64\n",
      " 6   population_age_10_19          504 non-null    float64\n",
      " 7   population_age_20_29          504 non-null    float64\n",
      " 8   population_age_30_39          504 non-null    float64\n",
      " 9   population_age_40_49          504 non-null    float64\n",
      " 10  population_age_50_59          504 non-null    float64\n",
      " 11  population_age_60_69          504 non-null    float64\n",
      " 12  population_age_70_79          504 non-null    float64\n",
      " 13  population_age_80_and_older   504 non-null    float64\n",
      " 14  life_expectancy               135 non-null    float64\n",
      " 15  date                          130 non-null    object \n",
      " 16  location_key_aux              130 non-null    object \n",
      " 17  new_hospitalized_patients     135 non-null    float64\n",
      " 18  new_persons_fully_vaccinated  135 non-null    float64\n",
      "dtypes: float64(16), object(3)\n",
      "memory usage: 81.7+ KB\n"
     ]
    }
   ],
   "source": [
    "clean_macro.info()"
   ]
  },
  {
   "cell_type": "markdown",
   "id": "2bbe02e1-8e8c-4b02-b958-58f99fb68a00",
   "metadata": {},
   "source": [
    "### Save cleaned macrotable"
   ]
  },
  {
   "cell_type": "code",
   "execution_count": 52,
   "id": "e7d55740-acd0-4ba2-97ec-3ac6c866237f",
   "metadata": {},
   "outputs": [],
   "source": [
    "clean_macro.to_csv(f\"data/{OUTPUT_FOLDER}/macrotable_c.zip\", index=True)"
   ]
  }
 ],
 "metadata": {
  "kernelspec": {
   "display_name": "myenv312",
   "language": "python",
   "name": "python3"
  },
  "language_info": {
   "codemirror_mode": {
    "name": "ipython",
    "version": 3
   },
   "file_extension": ".py",
   "mimetype": "text/x-python",
   "name": "python",
   "nbconvert_exporter": "python",
   "pygments_lexer": "ipython3",
   "version": "3.12.0"
  }
 },
 "nbformat": 4,
 "nbformat_minor": 5
}
