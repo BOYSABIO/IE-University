{
  "cells": [
    {
      "cell_type": "markdown",
      "metadata": {
        "id": "8bSJ5PLbe6VT"
      },
      "source": [
        "Lab 1 - Running Spark on Google Collab\n",
        "Author: Caio Moreno"
      ]
    },
    {
      "cell_type": "code",
      "execution_count": 1,
      "metadata": {
        "colab": {
          "base_uri": "https://localhost:8080/"
        },
        "id": "9unhjhnye6A-",
        "outputId": "f45711b2-1193-44dd-a72d-5da1c1ab74b2"
      },
      "outputs": [
        {
          "name": "stdout",
          "output_type": "stream",
          "text": [
            "Hello World\n"
          ]
        }
      ],
      "source": [
        "print(\"Hello World\")"
      ]
    },
    {
      "cell_type": "markdown",
      "metadata": {
        "id": "B6_72ZLaHFpj"
      },
      "source": [
        "# Install Java, Spark, and Findspark\n",
        "This installs Apache Spark 3.5.0, Java 11, and [Findspark](https://github.com/minrk/findspark), a library that makes it easy for Python to find Spark."
      ]
    },
    {
      "cell_type": "code",
      "execution_count": 17,
      "metadata": {
        "id": "MILr577DeJQF"
      },
      "outputs": [
        {
          "name": "stderr",
          "output_type": "stream",
          "text": [
            "The system cannot find the path specified.\n"
          ]
        }
      ],
      "source": [
        "# Download Java Virtual Machine (JVM)\n",
        "!apt-get install openjdk-11-jdk-headless -qq > /dev/null"
      ]
    },
    {
      "cell_type": "code",
      "execution_count": 4,
      "metadata": {
        "id": "KIezSJRve5fp"
      },
      "outputs": [
        {
          "name": "stderr",
          "output_type": "stream",
          "text": [
            "'wget' is not recognized as an internal or external command,\n",
            "operable program or batch file.\n"
          ]
        }
      ],
      "source": [
        "# Download Spark 3.5.0 from https://apache.osuosl.org/spark/spark-3.5.4/spark-3.5.4-bin-hadoop3.tgz\n",
        "!wget -q https://apache.osuosl.org/spark/spark-3.5.4/spark-3.5.4-bin-hadoop3.tgz"
      ]
    },
    {
      "cell_type": "code",
      "execution_count": 7,
      "metadata": {
        "colab": {
          "base_uri": "https://localhost:8080/"
        },
        "id": "uWIBwIwhTE2U",
        "outputId": "76b7d597-ad09-4d95-eafb-31159981bd03"
      },
      "outputs": [
        {
          "name": "stdout",
          "output_type": "stream",
          "text": [
            " Volume in drive C is OS\n",
            " Volume Serial Number is 16B3-2274\n",
            "\n",
            " Directory of c:\\Users\\SLO\\Downloads\n",
            "\n"
          ]
        },
        {
          "name": "stderr",
          "output_type": "stream",
          "text": [
            "File Not Found\n"
          ]
        }
      ],
      "source": [
        "ls -lh"
      ]
    },
    {
      "cell_type": "code",
      "execution_count": 8,
      "metadata": {
        "id": "mnCY60dw-4LH"
      },
      "outputs": [
        {
          "name": "stderr",
          "output_type": "stream",
          "text": [
            "'wget' is not recognized as an internal or external command,\n",
            "operable program or batch file.\n"
          ]
        }
      ],
      "source": [
        "# Download PySpark\n",
        "!wget -q https://apache.osuosl.org/spark/spark-3.5.4/pyspark-3.5.4.tar.gz"
      ]
    },
    {
      "cell_type": "code",
      "execution_count": 14,
      "metadata": {
        "colab": {
          "base_uri": "https://localhost:8080/"
        },
        "id": "NvQ0yr-WTmax",
        "outputId": "7386c7d4-fb40-4516-bc14-fb9106a4e7f1"
      },
      "outputs": [
        {
          "name": "stdout",
          "output_type": "stream",
          "text": [
            "total 685M\n",
            "-rw-r--r-- 1 root root 303M Dec 17 05:16 pyspark-3.5.4.tar.gz\n",
            "drwxr-xr-x 1 root root 4.0K Jan 16 14:29 \u001b[0m\u001b[01;34msample_data\u001b[0m/\n",
            "-rw-r--r-- 1 root root 383M Dec 17 05:16 spark-3.5.4-bin-hadoop3.tgz\n"
          ]
        }
      ],
      "source": [
        "ls -lh"
      ]
    },
    {
      "cell_type": "code",
      "execution_count": 15,
      "metadata": {
        "colab": {
          "base_uri": "https://localhost:8080/"
        },
        "id": "HXTU9f24Skle",
        "outputId": "71834eca-e380-490a-9dbd-d4750cb53ba7"
      },
      "outputs": [
        {
          "name": "stdout",
          "output_type": "stream",
          "text": [
            "total 448K\n",
            "lrwxrwxrwx   1 root root    7 Oct  4  2023 \u001b[0m\u001b[01;36mbin\u001b[0m -> \u001b[01;34musr/bin\u001b[0m/\n",
            "drwxr-xr-x   2 root root 4.0K Apr 18  2022 \u001b[01;34mboot\u001b[0m/\n",
            "drwxr-xr-x   1 root root 4.0K Jan 20 20:01 \u001b[01;34mcontent\u001b[0m/\n",
            "-rw-r--r--   1 root root 4.3K Nov 10  2023 cuda-keyring_1.0-1_all.deb\n",
            "drwxr-xr-x   1 root root 4.0K Jan 16 14:39 \u001b[01;34mdatalab\u001b[0m/\n",
            "drwxr-xr-x   6 root root  460 Jan 20 19:55 \u001b[01;34mdev\u001b[0m/\n",
            "drwxr-xr-x   1 root root 4.0K Jan 20 19:55 \u001b[01;34metc\u001b[0m/\n",
            "drwxr-xr-x   2 root root 4.0K Apr 18  2022 \u001b[01;34mhome\u001b[0m/\n",
            "drwxr-xr-x   3 root root 4.0K Jan 20 19:55 \u001b[01;34mkaggle\u001b[0m/\n",
            "lrwxrwxrwx   1 root root    7 Oct  4  2023 \u001b[01;36mlib\u001b[0m -> \u001b[01;34musr/lib\u001b[0m/\n",
            "lrwxrwxrwx   1 root root    9 Oct  4  2023 \u001b[01;36mlib32\u001b[0m -> \u001b[01;34musr/lib32\u001b[0m/\n",
            "lrwxrwxrwx   1 root root    9 Oct  4  2023 \u001b[01;36mlib64\u001b[0m -> \u001b[01;34musr/lib64\u001b[0m/\n",
            "lrwxrwxrwx   1 root root   10 Oct  4  2023 \u001b[01;36mlibx32\u001b[0m -> \u001b[01;34musr/libx32\u001b[0m/\n",
            "drwxr-xr-x   2 root root 4.0K Oct  4  2023 \u001b[01;34mmedia\u001b[0m/\n",
            "drwxr-xr-x   2 root root 4.0K Oct  4  2023 \u001b[01;34mmnt\u001b[0m/\n",
            "-rw-r--r--   1 root root  17K Nov 10  2023 NGC-DL-CONTAINER-LICENSE\n",
            "drwxr-xr-x   1 root root 4.0K Jan 20 19:55 \u001b[01;34mopt\u001b[0m/\n",
            "dr-xr-xr-x 218 root root    0 Jan 20 19:55 \u001b[01;34mproc\u001b[0m/\n",
            "drwxrwxr-x  14 root root 4.0K Jan 16 14:27 \u001b[01;34mpython-apt\u001b[0m/\n",
            "-r-xr-xr-x   1 root root 338K Jan  1  2000 \u001b[01;32mpython-apt.tar.xz\u001b[0m*\n",
            "drwx------   1 root root 4.0K Jan 20 19:55 \u001b[01;34mroot\u001b[0m/\n",
            "drwxr-xr-x   1 root root 4.0K Jan 16 14:20 \u001b[01;34mrun\u001b[0m/\n",
            "lrwxrwxrwx   1 root root    8 Oct  4  2023 \u001b[01;36msbin\u001b[0m -> \u001b[01;34musr/sbin\u001b[0m/\n",
            "drwxr-xr-x   2 root root 4.0K Oct  4  2023 \u001b[01;34msrv\u001b[0m/\n",
            "dr-xr-xr-x  13 root root    0 Jan 20 19:55 \u001b[01;34msys\u001b[0m/\n",
            "drwxrwxrwt   1 root root 4.0K Jan 20 19:56 \u001b[30;42mtmp\u001b[0m/\n",
            "drwxr-xr-x   1 root root 4.0K Jan 16 14:39 \u001b[01;34mtools\u001b[0m/\n",
            "drwxr-xr-x   1 root root 4.0K Jan 20 19:55 \u001b[01;34musr\u001b[0m/\n",
            "drwxr-xr-x   1 root root 4.0K Jan 16 14:39 \u001b[01;34mvar\u001b[0m/\n"
          ]
        }
      ],
      "source": [
        "ls -lh ../"
      ]
    },
    {
      "cell_type": "code",
      "execution_count": 16,
      "metadata": {
        "id": "vA4rcotnGjIw"
      },
      "outputs": [],
      "source": [
        "# unzip it\n",
        "!tar xf spark-3.5.4-bin-hadoop3.tgz\n",
        "# install findspark\n",
        "!pip install -q findspark"
      ]
    },
    {
      "cell_type": "code",
      "execution_count": 17,
      "metadata": {
        "id": "eG4kwZqs_AmF"
      },
      "outputs": [],
      "source": [
        "# unzip it\n",
        "!tar xf pyspark-3.5.4.tar.gz"
      ]
    },
    {
      "cell_type": "code",
      "execution_count": 18,
      "metadata": {
        "colab": {
          "base_uri": "https://localhost:8080/"
        },
        "id": "Rrylq19fAvQS",
        "outputId": "e52c73c0-2a0a-4ed4-9de3-51f991635785"
      },
      "outputs": [
        {
          "name": "stdout",
          "output_type": "stream",
          "text": [
            "/content\n"
          ]
        }
      ],
      "source": [
        "!pwd"
      ]
    },
    {
      "cell_type": "code",
      "execution_count": 19,
      "metadata": {
        "colab": {
          "base_uri": "https://localhost:8080/"
        },
        "id": "NUBJCp26AyXd",
        "outputId": "6f9c6e41-966e-4456-f688-90aa771dadb7"
      },
      "outputs": [
        {
          "name": "stdout",
          "output_type": "stream",
          "text": [
            "/content/spark-3.5.4-bin-hadoop3\n"
          ]
        }
      ],
      "source": [
        "cd /content/spark-3.5.4-bin-hadoop3/"
      ]
    },
    {
      "cell_type": "code",
      "execution_count": 20,
      "metadata": {
        "colab": {
          "base_uri": "https://localhost:8080/"
        },
        "id": "tnO4rqj2frxa",
        "outputId": "78bc84d7-e911-4840-e630-f146342d282d"
      },
      "outputs": [
        {
          "name": "stdout",
          "output_type": "stream",
          "text": [
            "total 152K\n",
            "drwxr-xr-x 2 1000 1000 4.0K Dec 17 05:13 \u001b[0m\u001b[01;34mbin\u001b[0m/\n",
            "drwxr-xr-x 2 1000 1000 4.0K Dec 17 05:13 \u001b[01;34mconf\u001b[0m/\n",
            "drwxr-xr-x 6 1000 1000 4.0K Dec 17 05:13 \u001b[01;34mdata\u001b[0m/\n",
            "drwxr-xr-x 4 1000 1000 4.0K Dec 17 05:13 \u001b[01;34mexamples\u001b[0m/\n",
            "drwxr-xr-x 2 1000 1000  16K Dec 17 05:13 \u001b[01;34mjars\u001b[0m/\n",
            "drwxr-xr-x 4 1000 1000 4.0K Dec 17 05:13 \u001b[01;34mkubernetes\u001b[0m/\n",
            "-rw-r--r-- 1 1000 1000  23K Dec 17 05:13 LICENSE\n",
            "drwxr-xr-x 2 1000 1000 4.0K Dec 17 05:13 \u001b[01;34mlicenses\u001b[0m/\n",
            "-rw-r--r-- 1 1000 1000  57K Dec 17 05:13 NOTICE\n",
            "drwxr-xr-x 9 1000 1000 4.0K Dec 17 05:13 \u001b[01;34mpython\u001b[0m/\n",
            "drwxr-xr-x 3 1000 1000 4.0K Dec 17 05:13 \u001b[01;34mR\u001b[0m/\n",
            "-rw-r--r-- 1 1000 1000 4.5K Dec 17 05:13 README.md\n",
            "-rw-r--r-- 1 1000 1000  166 Dec 17 05:13 RELEASE\n",
            "drwxr-xr-x 2 1000 1000 4.0K Dec 17 05:13 \u001b[01;34msbin\u001b[0m/\n",
            "drwxr-xr-x 2 1000 1000 4.0K Dec 17 05:13 \u001b[01;34myarn\u001b[0m/\n"
          ]
        }
      ],
      "source": [
        "ls -lh"
      ]
    },
    {
      "cell_type": "code",
      "execution_count": 21,
      "metadata": {
        "colab": {
          "base_uri": "https://localhost:8080/"
        },
        "id": "3RvjouvmG1Jd",
        "outputId": "f47b0854-2811-429f-ed91-83342bbf8845"
      },
      "outputs": [
        {
          "name": "stdout",
          "output_type": "stream",
          "text": [
            "/content\n"
          ]
        }
      ],
      "source": [
        "cd /content"
      ]
    },
    {
      "cell_type": "code",
      "execution_count": 22,
      "metadata": {
        "colab": {
          "base_uri": "https://localhost:8080/"
        },
        "id": "ieVfcC7IG6Oh",
        "outputId": "143b608b-e0a0-4afc-bac0-65f8d22768c8"
      },
      "outputs": [
        {
          "name": "stdout",
          "output_type": "stream",
          "text": [
            "total 685M\n",
            "drwxr-xr-x  6 1000 1000 4.0K Dec 17 05:07 \u001b[0m\u001b[01;34mpyspark-3.5.4\u001b[0m/\n",
            "-rw-r--r--  1 root root 303M Dec 17 05:16 pyspark-3.5.4.tar.gz\n",
            "drwxr-xr-x  1 root root 4.0K Jan 16 14:29 \u001b[01;34msample_data\u001b[0m/\n",
            "drwxr-xr-x 13 1000 1000 4.0K Dec 17 05:13 \u001b[01;34mspark-3.5.4-bin-hadoop3\u001b[0m/\n",
            "-rw-r--r--  1 root root 383M Dec 17 05:16 spark-3.5.4-bin-hadoop3.tgz\n"
          ]
        }
      ],
      "source": [
        "ls -lh"
      ]
    },
    {
      "cell_type": "markdown",
      "metadata": {
        "id": "b4Kjvk_h1AHl"
      },
      "source": [
        "# Set Environment Variables\n",
        "Set the locations where Spark and Java are installed."
      ]
    },
    {
      "cell_type": "code",
      "execution_count": 23,
      "metadata": {
        "id": "8Xnb_ePUyQIL"
      },
      "outputs": [],
      "source": [
        "import os\n",
        "os.environ[\"JAVA_HOME\"] = \"/usr/lib/jvm/java-11-openjdk-amd64\"\n",
        "os.environ[\"SPARK_HOME\"] = \"/content/spark-3.5.4-bin-hadoop3\"\n"
      ]
    },
    {
      "cell_type": "code",
      "execution_count": 24,
      "metadata": {
        "colab": {
          "base_uri": "https://localhost:8080/"
        },
        "id": "ejGITMlrBFQq",
        "outputId": "aacfebfb-5640-4645-90d2-77ab6abe2ba0"
      },
      "outputs": [
        {
          "name": "stdout",
          "output_type": "stream",
          "text": [
            "total 4.0K\n",
            "lrwxrwxrwx 1 root root   21 Oct 17 17:21 \u001b[0m\u001b[01;36mjava-1.11.0-openjdk-amd64\u001b[0m -> \u001b[01;34mjava-11-openjdk-amd64\u001b[0m/\n",
            "drwxr-xr-x 9 root root 4.0K Jan 16 14:25 \u001b[01;34mjava-11-openjdk-amd64\u001b[0m/\n"
          ]
        }
      ],
      "source": [
        "ls -lh /usr/lib/jvm/"
      ]
    },
    {
      "cell_type": "markdown",
      "metadata": {
        "id": "NwU28K5f1H3P"
      },
      "source": [
        "# Start a SparkSession\n",
        "This will start a local Spark session."
      ]
    },
    {
      "cell_type": "code",
      "execution_count": 25,
      "metadata": {
        "id": "dNEWtczg_mqn"
      },
      "outputs": [],
      "source": [
        "!export PYSPARK_SUBMIT_ARGS=\"--master local[2] pyspark-shell\""
      ]
    },
    {
      "cell_type": "code",
      "execution_count": 27,
      "metadata": {
        "id": "d759K_Eo_QlE"
      },
      "outputs": [],
      "source": [
        "import findspark"
      ]
    },
    {
      "cell_type": "code",
      "execution_count": 26,
      "metadata": {
        "id": "zgReRGl0y23D"
      },
      "outputs": [],
      "source": [
        "import findspark\n",
        "findspark.init()\n",
        "from pyspark.sql import SparkSession\n",
        "\n",
        "#spark = SparkSession.builder.master(\"local[*]\").getOrCreate()\n",
        "\n",
        "spark = SparkSession.builder.master(\"local[*]\").getOrCreate()"
      ]
    },
    {
      "cell_type": "code",
      "execution_count": 28,
      "metadata": {
        "id": "Jd9HA8Y7u6kc"
      },
      "outputs": [],
      "source": [
        "import pyspark"
      ]
    },
    {
      "cell_type": "markdown",
      "metadata": {
        "id": "T3ULPx4Y1LiR"
      },
      "source": [
        "# Use Spark!\n",
        "That's all there is to it - you're ready to use Spark!"
      ]
    },
    {
      "cell_type": "code",
      "execution_count": 29,
      "metadata": {
        "colab": {
          "base_uri": "https://localhost:8080/"
        },
        "id": "XJp8ZI-VzYEz",
        "outputId": "d214abce-9c4c-4514-91a5-1a163a212cd6"
      },
      "outputs": [
        {
          "name": "stdout",
          "output_type": "stream",
          "text": [
            "+-----+\n",
            "|hello|\n",
            "+-----+\n",
            "|world|\n",
            "|world|\n",
            "|world|\n",
            "+-----+\n",
            "only showing top 3 rows\n",
            "\n"
          ]
        }
      ],
      "source": [
        "df = spark.createDataFrame([{\"hello\": \"world\"} for x in range(1000)])\n",
        "df.show(3)"
      ]
    },
    {
      "cell_type": "code",
      "execution_count": 30,
      "metadata": {
        "colab": {
          "base_uri": "https://localhost:8080/",
          "height": 35
        },
        "id": "Pu0u2G4tHnzf",
        "outputId": "721c54b3-0eb8-4f8d-f72b-389a3bae8552"
      },
      "outputs": [
        {
          "data": {
            "text/plain": [
              "DataFrame[hello: string]"
            ]
          },
          "metadata": {},
          "output_type": "display_data"
        }
      ],
      "source": [
        "display(df)"
      ]
    },
    {
      "cell_type": "code",
      "execution_count": 31,
      "metadata": {
        "colab": {
          "base_uri": "https://localhost:8080/"
        },
        "id": "pgDtXt11H0Ut",
        "outputId": "00d82493-1452-4077-f47c-b16564fb60f6"
      },
      "outputs": [
        {
          "name": "stdout",
          "output_type": "stream",
          "text": [
            "/content\n"
          ]
        }
      ],
      "source": [
        "cd /content/"
      ]
    },
    {
      "cell_type": "code",
      "execution_count": 32,
      "metadata": {
        "colab": {
          "base_uri": "https://localhost:8080/"
        },
        "id": "TDoMxvjNCDjG",
        "outputId": "842d955c-9908-4d4e-fd52-d4a341c20143"
      },
      "outputs": [
        {
          "name": "stdout",
          "output_type": "stream",
          "text": [
            "--2025-01-20 20:04:45--  https://raw.githubusercontent.com/apache/spark/master/examples/src/main/resources/people.json\n",
            "Resolving raw.githubusercontent.com (raw.githubusercontent.com)... 185.199.108.133, 185.199.109.133, 185.199.110.133, ...\n",
            "Connecting to raw.githubusercontent.com (raw.githubusercontent.com)|185.199.108.133|:443... connected.\n",
            "HTTP request sent, awaiting response... 200 OK\n",
            "Length: 73 [text/plain]\n",
            "Saving to: ‘people.json’\n",
            "\n",
            "people.json         100%[===================>]      73  --.-KB/s    in 0s      \n",
            "\n",
            "2025-01-20 20:04:45 (5.05 MB/s) - ‘people.json’ saved [73/73]\n",
            "\n"
          ]
        }
      ],
      "source": [
        "!wget https://raw.githubusercontent.com/apache/spark/master/examples/src/main/resources/people.json"
      ]
    },
    {
      "cell_type": "code",
      "execution_count": null,
      "metadata": {
        "id": "2PDSinE6H6xX"
      },
      "outputs": [],
      "source": [
        "#rm -rf people.json.1"
      ]
    },
    {
      "cell_type": "code",
      "execution_count": 33,
      "metadata": {
        "colab": {
          "base_uri": "https://localhost:8080/"
        },
        "id": "M21i-B6nBr__",
        "outputId": "e85b5815-0cc2-420b-f9d9-00737df4489e"
      },
      "outputs": [
        {
          "name": "stdout",
          "output_type": "stream",
          "text": [
            "total 685M\n",
            "-rw-r--r--  1 root root   73 Jan 20 20:04 people.json\n",
            "drwxr-xr-x  6 1000 1000 4.0K Dec 17 05:07 \u001b[0m\u001b[01;34mpyspark-3.5.4\u001b[0m/\n",
            "-rw-r--r--  1 root root 303M Dec 17 05:16 pyspark-3.5.4.tar.gz\n",
            "drwxr-xr-x  1 root root 4.0K Jan 16 14:29 \u001b[01;34msample_data\u001b[0m/\n",
            "drwxr-xr-x 13 1000 1000 4.0K Dec 17 05:13 \u001b[01;34mspark-3.5.4-bin-hadoop3\u001b[0m/\n",
            "-rw-r--r--  1 root root 383M Dec 17 05:16 spark-3.5.4-bin-hadoop3.tgz\n"
          ]
        }
      ],
      "source": [
        "ls -lh"
      ]
    },
    {
      "cell_type": "code",
      "execution_count": 34,
      "metadata": {
        "colab": {
          "base_uri": "https://localhost:8080/"
        },
        "id": "JG0jj6TmBoil",
        "outputId": "f541025f-6018-4da5-9558-28bb4d3377b6"
      },
      "outputs": [
        {
          "name": "stdout",
          "output_type": "stream",
          "text": [
            "-rw-r--r-- 1 root root 73 Jan 20 20:04 /content/people.json\n"
          ]
        }
      ],
      "source": [
        "ls -lh /content/people.json"
      ]
    },
    {
      "cell_type": "code",
      "execution_count": 35,
      "metadata": {
        "colab": {
          "base_uri": "https://localhost:8080/"
        },
        "id": "HzuEk7V2AjJx",
        "outputId": "a8b18cfe-df39-4f10-dd5f-c1fe03915a58"
      },
      "outputs": [
        {
          "name": "stdout",
          "output_type": "stream",
          "text": [
            "+----+-------+\n",
            "| age|   name|\n",
            "+----+-------+\n",
            "|NULL|Michael|\n",
            "|  30|   Andy|\n",
            "|  19| Justin|\n",
            "+----+-------+\n",
            "\n"
          ]
        }
      ],
      "source": [
        "# spark is an existing SparkSession\n",
        "df = spark.read.json(\"/content/people.json\")\n",
        "# Displays the content of the DataFrame to stdout\n",
        "df.show()"
      ]
    },
    {
      "cell_type": "code",
      "execution_count": 36,
      "metadata": {
        "colab": {
          "base_uri": "https://localhost:8080/"
        },
        "id": "JOrOEimJvMdN",
        "outputId": "46711ee5-39e1-4cd5-ffef-a1105c16a729"
      },
      "outputs": [
        {
          "name": "stdout",
          "output_type": "stream",
          "text": [
            "root\n",
            " |-- age: long (nullable = true)\n",
            " |-- name: string (nullable = true)\n",
            "\n"
          ]
        }
      ],
      "source": [
        "df.printSchema()"
      ]
    },
    {
      "cell_type": "code",
      "execution_count": 37,
      "metadata": {
        "colab": {
          "base_uri": "https://localhost:8080/"
        },
        "id": "drgQiA9oIQBS",
        "outputId": "82042d40-4eb8-4a9b-fe2e-9efd7becde17"
      },
      "outputs": [
        {
          "name": "stdout",
          "output_type": "stream",
          "text": [
            "End of Lab\n"
          ]
        }
      ],
      "source": [
        "print(\"End of Lab\")"
      ]
    }
  ],
  "metadata": {
    "accelerator": "GPU",
    "colab": {
      "provenance": []
    },
    "kernelspec": {
      "display_name": "Python 3",
      "name": "python3"
    },
    "language_info": {
      "codemirror_mode": {
        "name": "ipython",
        "version": 3
      },
      "file_extension": ".py",
      "mimetype": "text/x-python",
      "name": "python",
      "nbconvert_exporter": "python",
      "pygments_lexer": "ipython3",
      "version": "3.8.2"
    }
  },
  "nbformat": 4,
  "nbformat_minor": 0
}
