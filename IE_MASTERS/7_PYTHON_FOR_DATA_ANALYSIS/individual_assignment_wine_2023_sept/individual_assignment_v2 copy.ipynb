{
 "cells": [
  {
   "cell_type": "markdown",
   "metadata": {},
   "source": [
    "# Individual Assignment: Wine!\n",
    "\n",
    "There are 10 questions in this assignment. Some questions unlock others. If you can't answer a question, you can skip it and come back to it later, and if the question is locked, I'll provide a data sample for you to use, **at a cost of 0.5 points.**\n",
    "\n",
    "The wine dataset is available in the file `wine.json`. This data contains information about wine reviews. It's a list of dictionaries, where each dictionary represents a wine review. The keys in the dictionary are:\n",
    "\n",
    "* `points`: how many points the taster gave the wine on a scale of 1-100\n",
    "* `title`: the title of the wine\n",
    "* `description`: a description of the wine\n",
    "* `taster_name`: the name of the taster\n",
    "* `taster_twitter_handle`: the twitter handle of the taster\n",
    "* `price`: the cost for a bottle of the wine\n",
    "* `designation`: the vineyard within the winery where the grapes that made the wine are from\n",
    "* `variety`: the type of grapes used to make the wine\n",
    "* `region_1`: the province or state that the wine is from\n",
    "* `region_2`: a more specific region within a wine growing area\n",
    "* `province`: the province or state that the wine is from\n",
    "* `country`: the country that the wine is from\n",
    "* `winery`: the winery that made the wine\n",
    "\n",
    "\n",
    "\n",
    "### Rules:\n",
    "* For each question, print the answer in the cell below the question. You can use `print()` or just type the variable name.\n",
    "* You can use any resources you like --including the internet, your notes, and the past notebooks-- except ChatGPT/Copilot/other AI writing tools. Using AI-based tools or asking other people for help will result in a 0 for the assignment, an immediate Fail in the course, and a report to the Dean of Students.\n",
    "* You have 80 minutes to complete the assignment.\n",
    "* You can submit the assignment as many times as you like, only the last submission will be graded.\n",
    "* You can't work with other people on the assignment."
   ]
  },
  {
   "cell_type": "markdown",
   "metadata": {},
   "source": [
    "### 0. Load the data as a Python object and print the first item"
   ]
  },
  {
   "cell_type": "code",
   "execution_count": 1,
   "metadata": {},
   "outputs": [
    {
     "data": {
      "text/plain": [
       "{'points': 89,\n",
       " 'title': 'Caymus 1998 Cabernet Sauvignon (Napa Valley)',\n",
       " 'description': 'Creamy black cherry aromas layered with fresh brussel sprouts and spicy arugula flavors of red plums and toasted oak.',\n",
       " 'taster_name': None,\n",
       " 'taster_twitter_handle': None,\n",
       " 'price': 70,\n",
       " 'designation': None,\n",
       " 'variety': 'Cabernet Sauvignon',\n",
       " 'region_1': 'Napa Valley',\n",
       " 'region_2': 'Napa',\n",
       " 'province': 'California',\n",
       " 'country': 'US',\n",
       " 'winery': 'Caymus'}"
      ]
     },
     "execution_count": 1,
     "metadata": {},
     "output_type": "execute_result"
    }
   ],
   "source": [
    "import json\n",
    "with open('wine-data-set.json', encoding='utf-8') as json_file:\n",
    "    json_data = json.load(json_file)\n",
    "\n",
    "json_data[0]"
   ]
  },
  {
   "cell_type": "markdown",
   "metadata": {},
   "source": [
    "### 1. How many wine reviews are included in the dataset? (1 point)"
   ]
  },
  {
   "cell_type": "code",
   "execution_count": 2,
   "metadata": {},
   "outputs": [
    {
     "data": {
      "text/plain": [
       "10000"
      ]
     },
     "execution_count": 2,
     "metadata": {},
     "output_type": "execute_result"
    }
   ],
   "source": [
    "len(json_data)"
   ]
  },
  {
   "cell_type": "markdown",
   "metadata": {},
   "source": [
    "### 2. Add a new {key:value} pair in each item in the list (1 point)\n",
    "\n",
    "The new key should be called *length* and it should indicate the amount of words in the *description* value.\n",
    "\n",
    "For example, the following description:\n",
    "* \"Very strong taste like apple and cinnamon\"\n",
    "\n",
    "should have a *length* value of **7** "
   ]
  },
  {
   "cell_type": "code",
   "execution_count": 4,
   "metadata": {},
   "outputs": [
    {
     "data": {
      "text/plain": [
       "[{'points': 89,\n",
       "  'title': 'Caymus 1998 Cabernet Sauvignon (Napa Valley)',\n",
       "  'description': 'Creamy black cherry aromas layered with fresh brussel sprouts and spicy arugula flavors of red plums and toasted oak.',\n",
       "  'taster_name': None,\n",
       "  'taster_twitter_handle': None,\n",
       "  'price': 70,\n",
       "  'designation': None,\n",
       "  'variety': 'Cabernet Sauvignon',\n",
       "  'region_1': 'Napa Valley',\n",
       "  'region_2': 'Napa',\n",
       "  'province': 'California',\n",
       "  'country': 'US',\n",
       "  'winery': 'Caymus',\n",
       "  'length': 19},\n",
       " {'points': 98,\n",
       "  'title': 'M. Chapoutier 1999 Le Méal Ermitage  (Hermitage)',\n",
       "  'description': \"Chapoutier's selections of the best parcels of vines in Hermitage are set to become legendary. Sold under the ancient spelling of the appellation name (Ermitage), they represent the epitome of the power and concentration that lies behind the reputation of the appellation. This cuvée is the best of the collection, with its brooding, opaque character, suggesting rather than revealing power at this stage. Age it until your new-born baby is old enough to drink, and it will be just about ready.\",\n",
       "  'taster_name': 'Roger Voss',\n",
       "  'taster_twitter_handle': '@vossroger',\n",
       "  'price': 150,\n",
       "  'designation': 'Le Méal Ermitage',\n",
       "  'variety': 'Rhône-style Red Blend',\n",
       "  'region_1': 'Hermitage',\n",
       "  'region_2': None,\n",
       "  'province': 'Rhône Valley',\n",
       "  'country': 'France',\n",
       "  'winery': 'M. Chapoutier',\n",
       "  'length': 81}]"
      ]
     },
     "execution_count": 4,
     "metadata": {},
     "output_type": "execute_result"
    }
   ],
   "source": [
    "for review in json_data:\n",
    "    length = len(review['description'].split())\n",
    "    review['length'] = length \n",
    "\n",
    "json_data[:2]"
   ]
  },
  {
   "cell_type": "code",
   "execution_count": null,
   "metadata": {},
   "outputs": [
    {
     "name": "stdout",
     "output_type": "stream",
     "text": [
      "Countries Reviewed: 34\n",
      "Countries Not Reviewed 34\n"
     ]
    }
   ],
   "source": []
  },
  {
   "cell_type": "code",
   "execution_count": null,
   "metadata": {},
   "outputs": [
    {
     "data": {
      "text/plain": [
       "{'points': 89,\n",
       " 'title': 'Caymus 1998 Cabernet Sauvignon (Napa Valley)',\n",
       " 'description': 'Creamy black cherry aromas layered with fresh brussel sprouts and spicy arugula flavors of red plums and toasted oak.',\n",
       " 'taster_name': None,\n",
       " 'taster_twitter_handle': None,\n",
       " 'price': 70,\n",
       " 'designation': None,\n",
       " 'variety': 'Cabernet Sauvignon',\n",
       " 'region_1': 'Napa Valley',\n",
       " 'region_2': 'Napa',\n",
       " 'province': 'California',\n",
       " 'country': 'US',\n",
       " 'winery': 'Caymus',\n",
       " 'length': 19}"
      ]
     },
     "execution_count": 15,
     "metadata": {},
     "output_type": "execute_result"
    }
   ],
   "source": []
  },
  {
   "cell_type": "markdown",
   "metadata": {},
   "source": [
    "### 3. How many different countries have their wines reviewed in the dataset? (1 point)"
   ]
  },
  {
   "cell_type": "code",
   "execution_count": 27,
   "metadata": {},
   "outputs": [
    {
     "name": "stdout",
     "output_type": "stream",
     "text": [
      "Countries Reviewed: 33\n",
      "Countries Not Reviewed 34\n"
     ]
    }
   ],
   "source": [
    "reviewed = {review['country'] for review in json_data if review['points'] != None and review['country'] != None}\n",
    "total = [review['country'] for review in json_data]\n",
    "total = set(total)\n",
    "\n",
    "print(f'Countries Reviewed: {len(reviewed)}')\n",
    "print(f'Countries Not Reviewed {len(total)}')"
   ]
  },
  {
   "cell_type": "code",
   "execution_count": null,
   "metadata": {},
   "outputs": [
    {
     "data": {
      "text/plain": [
       "33"
      ]
     },
     "execution_count": 20,
     "metadata": {},
     "output_type": "execute_result"
    }
   ],
   "source": []
  },
  {
   "cell_type": "markdown",
   "metadata": {},
   "source": [
    "### 4. Build a dictionary with the following structure: (1 point)\n",
    "\n",
    "{country: number of wines reviewed coming from that country}"
   ]
  },
  {
   "cell_type": "code",
   "execution_count": 33,
   "metadata": {},
   "outputs": [
    {
     "name": "stdout",
     "output_type": "stream",
     "text": [
      "{'US': 4317, 'France': 1716, 'Chile': 362, 'Italy': 1432, 'Germany': 155, 'New Zealand': 100, 'South Africa': 111, 'Argentina': 319, 'Spain': 462, 'Portugal': 396, 'Austria': 287, 'Greece': 32, 'Australia': 165, 'Canada': 17, None: 5, 'England': 11, 'Hungary': 13, 'Georgia': 7, 'Mexico': 10, 'Israel': 32, 'Bulgaria': 13, 'Brazil': 6, 'Uruguay': 3, 'Slovenia': 4, 'Ukraine': 2, 'Turkey': 4, 'Croatia': 2, 'Lebanon': 3, 'Romania': 6, 'Moldova': 2, 'Czech Republic': 3, 'Serbia': 1, 'India': 1, 'China': 1}\n"
     ]
    }
   ],
   "source": [
    "distinct_countries = {}\n",
    "\n",
    "for review in json_data:\n",
    "    country = review['country']\n",
    "    if country in distinct_countries:\n",
    "        distinct_countries[country] += 1\n",
    "    else:\n",
    "        distinct_countries[country] = 1\n",
    "\n",
    "print(distinct_countries)"
   ]
  },
  {
   "cell_type": "code",
   "execution_count": 34,
   "metadata": {},
   "outputs": [
    {
     "data": {
      "text/plain": [
       "{'Argentina': 319,\n",
       " 'Bulgaria': 13,\n",
       " 'Romania': 6,\n",
       " 'South Africa': 111,\n",
       " 'Canada': 17,\n",
       " 'Moldova': 2,\n",
       " 'Spain': 462,\n",
       " 'Australia': 165,\n",
       " 'Ukraine': 2,\n",
       " 'Georgia': 7,\n",
       " 'New Zealand': 100,\n",
       " 'Czech Republic': 3,\n",
       " 'India': 1,\n",
       " 'Chile': 362,\n",
       " 'Greece': 32,\n",
       " 'Brazil': 6,\n",
       " 'Israel': 32,\n",
       " 'Mexico': 10,\n",
       " 'Hungary': 13,\n",
       " 'England': 11,\n",
       " 'Germany': 155,\n",
       " 'France': 1716,\n",
       " 'Turkey': 4,\n",
       " 'Portugal': 396,\n",
       " 'Serbia': 1,\n",
       " 'US': 4317,\n",
       " 'Lebanon': 3,\n",
       " 'Austria': 287,\n",
       " 'Italy': 1432,\n",
       " 'China': 1,\n",
       " 'Croatia': 2,\n",
       " 'Slovenia': 4,\n",
       " 'Uruguay': 3}"
      ]
     },
     "execution_count": 34,
     "metadata": {},
     "output_type": "execute_result"
    }
   ],
   "source": [
    "countries_dict = {}\n",
    "\n",
    "for country in reviewed:  \n",
    "    count = 0 \n",
    "\n",
    "    for review in json_data:  \n",
    "        if review[\"country\"] == country:  \n",
    "            count += 1  \n",
    "            \n",
    "    countries_dict[country] = count\n",
    "    \n",
    "countries_dict"
   ]
  },
  {
   "cell_type": "markdown",
   "metadata": {},
   "source": [
    "### 5. Build a dictionary with the following structure (1 point)\n",
    "{country: average points of wines coming from that country]"
   ]
  },
  {
   "cell_type": "code",
   "execution_count": 38,
   "metadata": {},
   "outputs": [
    {
     "data": {
      "text/plain": [
       "{'Argentina': 86.68025078369907,\n",
       " 'Bulgaria': 88.23076923076923,\n",
       " 'Romania': 86.83333333333333,\n",
       " 'South Africa': 88.03603603603604,\n",
       " 'Canada': 88.94117647058823,\n",
       " 'Moldova': 87.0,\n",
       " 'Spain': 87.16666666666667,\n",
       " 'Australia': 88.4969696969697,\n",
       " 'Ukraine': 84.0,\n",
       " 'Georgia': 87.28571428571429,\n",
       " 'New Zealand': 88.3,\n",
       " 'Czech Republic': 88.0,\n",
       " 'India': 92.0,\n",
       " 'Chile': 86.29558011049724,\n",
       " 'Greece': 87.125,\n",
       " 'Brazil': 85.66666666666667,\n",
       " 'Israel': 88.71875,\n",
       " 'Mexico': 84.5,\n",
       " 'Hungary': 89.53846153846153,\n",
       " 'England': 91.72727272727273,\n",
       " 'Germany': 89.83225806451613,\n",
       " 'France': 88.91433566433567,\n",
       " 'Turkey': 87.5,\n",
       " 'Portugal': 88.02525252525253,\n",
       " 'Serbia': 86.0,\n",
       " 'US': 88.54829742876998,\n",
       " 'Lebanon': 87.0,\n",
       " 'Austria': 90.82229965156795,\n",
       " 'Italy': 88.27374301675978,\n",
       " 'China': 89.0,\n",
       " 'Croatia': 81.5,\n",
       " 'Slovenia': 87.0,\n",
       " 'Uruguay': 87.33333333333333}"
      ]
     },
     "execution_count": 38,
     "metadata": {},
     "output_type": "execute_result"
    }
   ],
   "source": [
    "country_averages = {}\n",
    "\n",
    "for country in reviewed:\n",
    "    list_of_reviewed = []\n",
    "    \n",
    "    for review in json_data:\n",
    "        if review['country'] == country:\n",
    "            list_of_reviewed.append(review['points'])\n",
    "    \n",
    "    average = sum(list_of_reviewed) / len(list_of_reviewed)\n",
    "\n",
    "    country_averages[country] = average\n",
    "\n",
    "country_averages"
   ]
  },
  {
   "cell_type": "markdown",
   "metadata": {},
   "source": [
    "### 6. What's the province that produces the wines with the highest rating? (1 point)\n",
    "\n",
    "Build a dictionary with the following structure:\n",
    "\n",
    "{province: average points of wines coming from that province}\n",
    "\n",
    "And then sort the dictionary by the average points, and print the province with the highest average points.\n",
    "\n",
    "Hint: you can sort a dictionary by value using the following code:\n",
    "\n",
    "```\n",
    "sorted_dict = sorted(my_dict.items(), key=lambda x: x[1], reverse=True)\n",
    "```"
   ]
  },
  {
   "cell_type": "code",
   "execution_count": 54,
   "metadata": {},
   "outputs": [
    {
     "name": "stdout",
     "output_type": "stream",
     "text": [
      "{'New South Wales': 88.16666666666667, 'Illinois': 86.0, \"Hawke's Bay\": 90.07692307692308, 'Mosel-Saar-Ruwer': 90.0, 'Codru Region': 87.0, 'Spanish Islands': 86.2, 'Tuscany': 88.5163043478261, 'Württemberg': 87.0, 'Western Australia': 88.85, 'Virginia': 85.62222222222222, 'Istria': 81.5, 'Santorini': 90.0, 'Jerusalem Hills': 91.0, 'Itata Valley': 84.0, 'Eisenberg': 92.0, 'Chile': 85.57142857142857, 'Brda': 82.0, 'Michigan': 87.75, 'Nahe': 89.125, 'Pirque': 92.0, 'Oregon': 88.77105263157895, 'Alentejo': 87.28571428571429, 'Marchigue': 92.0, 'Setubal': 83.0, 'Santa Cruz': 91.0, 'Stellenbosch': 88.55555555555556, 'Letrinon': 89.0, 'Casablanca Valley': 86.42307692307692, 'Missouri': 82.66666666666667, 'Atalanti Valley': 91.0, 'British Columbia': 89.81818181818181, 'Germany': 86.5, 'Veneto': 87.84390243902439, 'Sicily & Sardinia': 87.63448275862069, 'Kremstal': 92.48, 'Nemea': 87.33333333333333, 'Wagram': 92.33333333333333, 'Turkey': 85.0, 'Levante': 87.1875, 'New Jersey': 83.0, 'Alsace': 89.12935323383084, 'Piedmont': 89.5925925925926, 'Limarí Valley': 86.6, 'Massachusetts': 85.0, 'Overberg': 90.0, 'Thermenregion': 90.6, 'Moravia': 88.0, 'Ontario': 87.33333333333333, 'Wellington': 87.8, 'Danube River Plains': 88.5, 'Western Cape': 86.76, 'Simonsberg-Stellenbosch': 92.0, 'Hawaii': 87.0, 'Casablanca & Leyda Valleys': 86.0, 'Maule Valley': 85.53333333333333, 'Washington': 89.26282051282051, 'Aegean': 89.0, 'North Carolina': 85.5, 'Macedonia': 87.0, 'Uruguay': 87.33333333333333, 'Nevada': 83.0, 'Waiheke Island': 83.0, 'Ankara': 91.0, 'Peumo': 90.0, 'Idaho': 85.4, 'Bairrada': 87.36363636363636, 'Coastal Region': 88.5, 'Swartland': 90.25, 'Georgia': 84.0, 'New Zealand': 87.5, 'Australia Other': 84.625, 'Vinho Verde': 86.23076923076923, 'Leithaberg': 90.5, 'Elgin': 87.57142857142857, 'Shomron': 84.0, 'Martinborough': 89.5, 'Rheinhessen': 88.5, 'Bekaa Valley': 82.0, 'Österreichischer Perlwein': 87.0, 'Champagne': 89.58490566037736, 'Central Valley': 84.32142857142857, 'Südburgenland': 95.0, 'Awatere Valley': 92.0, 'England': 91.72727272727273, 'Beira Interior': 88.33333333333333, 'Colchagua Costa': 87.0, 'Walker Bay': 87.0, 'Portuguese Table Wine': 89.5, 'Colares': 93.0, 'Colorado': 85.8, 'Bucelas': 91.0, 'Thracian Valley': 89.0, 'Mosel': 89.89772727272727, 'Lontué Valley': 85.0, 'Waipara': 87.0, 'Southern Italy': 87.66037735849056, 'Palmela': 85.0, 'Port': 90.44444444444444, 'Northeastern Italy': 88.07291666666667, 'Rheingau': 90.33333333333333, 'Catalonia': 87.28767123287672, 'Southwest France': 88.7751937984496, 'Sagrada Familia': 86.0, 'Franschhoek': 86.0, 'Corinth': 89.0, 'Tasmania': 92.0, 'Hemel en Aarde': 88.0, 'Beaujolais': 88.89189189189189, 'Fruška Gora': 86.0, 'Robertson': 86.125, 'Buin': 91.0, 'Wagram-Donauland': 88.16666666666667, 'Nelson': 87.33333333333333, 'Wachau': 93.83870967741936, 'Bulgaria': 80.0, 'Nashik': 92.0, 'Marlborough': 87.77358490566037, 'Mount Athos': 86.0, 'Madeira': 95.0, 'Malgas': 90.0, 'Moldova': 87.0, 'Niederösterreich': 88.91071428571429, 'Serra Gaúcha': 85.33333333333333, 'Texas': 85.54545454545455, 'Loncomilla Valley': 85.33333333333333, 'Península de Setúbal': 85.9, 'Eger': 88.0, 'Languedoc-Roussillon': 87.35714285714286, 'Murfatlar': 86.0, 'Wairarapa': 90.0, 'New Mexico': 83.5, 'Leyda Valley': 85.9090909090909, 'Galicia': 87.35, 'Bío Bío Valley': 82.0, 'Cachapoal Valley': 86.6842105263158, 'Wiener Gemischter Satz': 92.0, 'Valle de Guadalupe': 84.5, 'Österreichischer Sekt': 87.5, 'Thessalikos': 86.0, 'America': 86.25, 'Weinviertel': 90.33333333333333, 'Israel': 88.0, 'Südoststeiermark': 87.5, 'New York': 86.66666666666667, 'Amyndeon': 86.0, 'Douro': 88.9278350515464, 'Kamptal': 92.02222222222223, 'Südsteiermark': 91.0, 'Epanomi': 87.0, 'Maipo Valley': 86.98, 'Muscat of Kefallonian': 87.0, 'Austria': 86.5, 'Central Otago': 89.0, 'Colchagua Valley': 86.59649122807018, 'Kakheti': 87.83333333333333, 'Iowa': 81.0, 'China': 89.0, 'Italy Other': 87.5, 'Curicó Valley': 85.42105263157895, 'Galilee': 89.52941176470588, 'Central Spain': 86.23333333333333, 'Pfalz': 90.83333333333333, 'Arizona': 84.75, 'Carnuntum': 91.0, 'Victoria': 89.37037037037037, 'Rhône Valley': 90.06451612903226, None: 89.2, 'Puente Alto': 91.66666666666667, 'Tokaji': 91.0, 'Duriense': 88.66666666666667, 'Constantia': 88.0, 'Alentejano': 88.29411764705883, 'Neusiedlersee': 90.0, 'Apalta': 92.0, 'Ukraine': 84.0, 'Moscatel do Douro': 88.0, 'Dão': 89.2, 'Villány': 88.5, 'Baden': 92.6, 'California': 88.61673221308546, 'Burgenland': 90.27659574468085, 'Mittelburgenland': 88.6, 'Provence': 88.48484848484848, 'Vale Trentino': 86.0, 'Bordeaux': 88.6453488372093, 'Ohio': 84.66666666666667, 'Mantinia': 86.66666666666667, 'Philadelphia': 92.0, 'Santa Catarina': 86.0, 'Other': 85.9, 'Andalucia': 89.33333333333333, 'Loire Valley': 88.31782945736434, 'Lolol Valley': 84.57142857142857, 'Upper Galilee': 92.0, 'Aconcagua Valley': 89.57142857142857, 'San Antonio': 88.2, 'Vale dos Vinhedos': 86.0, 'Estremadura': 86.42857142857143, 'Northern Spain': 87.15671641791045, 'Obidos': 86.0, 'Elqui Valley': 84.33333333333333, 'Vienna': 89.5, 'South Island': 85.0, 'Lisboa': 87.15151515151516, 'Hungary': 90.0, 'Drama': 86.75, 'Rapel Valley': 85.63636363636364, 'Cephalonia': 84.0, 'Lombardy': 88.54347826086956, 'Spain Other': 83.5, 'France Other': 86.39393939393939, 'Weinland Österreich': 92.0, 'Vipavska Dolina': 88.0, 'Viile Timisului': 86.25, 'Northwestern Italy': 88.0, 'Achaia': 86.5, 'Canterbury': 86.0, 'South Australia': 88.81052631578947, 'Tokaj': 90.0, 'Lebanon': 89.5, 'Goriska Brda': 90.0, 'Paarl': 89.33333333333333, 'Waipara Valley': 87.0, 'Pangeon': 86.0, 'Kumeu': 90.0, 'Tejo': 86.44827586206897, 'Peloponnese': 87.28571428571429, 'Steiermark': 88.0, 'Dealu Mare': 90.0, 'Samson': 88.5, 'Central Italy': 87.14285714285714, 'Burgundy': 89.61224489795919, 'Judean Hills': 87.625, 'Aconcagua Costa': 87.25, 'Mendoza Province': 86.7921146953405}\n",
      "('Südburgenland', 95.0)\n"
     ]
    }
   ],
   "source": [
    "provinces = {review['province'] for review in json_data}\n",
    "provinces_averages = {}\n",
    "\n",
    "for province in provinces:\n",
    "    list_of_points = []\n",
    "\n",
    "    for review in json_data:\n",
    "        if review['province'] == province:\n",
    "            list_of_points.append(review['points'])\n",
    "            \n",
    "    average = sum(list_of_points) / len(list_of_points)\n",
    "\n",
    "    provinces_averages[province] = average\n",
    "\n",
    "print(provinces_averages)\n",
    "sorted_dict = sorted(provinces_averages.items(), key=lambda x: x[1], reverse=True)\n",
    "print(sorted_dict[0])"
   ]
  },
  {
   "cell_type": "markdown",
   "metadata": {},
   "source": [
    "### 7. Update each wine's description by adding at the end of each description the following piece of text (1 point):\n",
    "\n",
    "\"This is a {designation} from {country} that scored {points} points\""
   ]
  },
  {
   "cell_type": "code",
   "execution_count": 55,
   "metadata": {},
   "outputs": [
    {
     "data": {
      "text/plain": [
       "[{'points': 89,\n",
       "  'title': 'Caymus 1998 Cabernet Sauvignon (Napa Valley)',\n",
       "  'description': 'This is a None from US that scored 89',\n",
       "  'taster_name': None,\n",
       "  'taster_twitter_handle': None,\n",
       "  'price': 70,\n",
       "  'designation': None,\n",
       "  'variety': 'Cabernet Sauvignon',\n",
       "  'region_1': 'Napa Valley',\n",
       "  'region_2': 'Napa',\n",
       "  'province': 'California',\n",
       "  'country': 'US',\n",
       "  'winery': 'Caymus',\n",
       "  'length': 19},\n",
       " {'points': 98,\n",
       "  'title': 'M. Chapoutier 1999 Le Méal Ermitage  (Hermitage)',\n",
       "  'description': 'This is a Le Méal Ermitage from France that scored 98',\n",
       "  'taster_name': 'Roger Voss',\n",
       "  'taster_twitter_handle': '@vossroger',\n",
       "  'price': 150,\n",
       "  'designation': 'Le Méal Ermitage',\n",
       "  'variety': 'Rhône-style Red Blend',\n",
       "  'region_1': 'Hermitage',\n",
       "  'region_2': None,\n",
       "  'province': 'Rhône Valley',\n",
       "  'country': 'France',\n",
       "  'winery': 'M. Chapoutier',\n",
       "  'length': 81}]"
      ]
     },
     "execution_count": 55,
     "metadata": {},
     "output_type": "execute_result"
    }
   ],
   "source": [
    "for review in json_data:\n",
    "    designation = review['designation']\n",
    "    country = review['country']\n",
    "    points = review['points']\n",
    "    review['description'] = f'This is a {designation} from {country} that scored {points}'\n",
    "\n",
    "json_data[:2]"
   ]
  },
  {
   "cell_type": "code",
   "execution_count": null,
   "metadata": {},
   "outputs": [
    {
     "name": "stdout",
     "output_type": "stream",
     "text": [
      "7737\n",
      "8123\n"
     ]
    }
   ],
   "source": []
  },
  {
   "cell_type": "markdown",
   "metadata": {},
   "source": [
    "### 8. What's the proportion of wine tasters that have a Twitter account? (1 point)"
   ]
  },
  {
   "cell_type": "code",
   "execution_count": null,
   "metadata": {},
   "outputs": [
    {
     "name": "stdout",
     "output_type": "stream",
     "text": [
      "14\n",
      "18\n",
      "77.78 % of the wine tasters have a Twitter account:\n",
      "@bkfiona\n",
      "@kerinokeefe\n",
      "@JoeCz\n",
      "@AnneInVino\n",
      "@wawinereport\n",
      "@worldwineguys\n",
      "@suskostrzewa\n",
      "@wineschach\n",
      "@vboone\n",
      "@paulgwine \n",
      "@vossroger\n",
      "@mattkettmann\n",
      "@laurbuzz\n",
      "@gordone_cellars\n"
     ]
    }
   ],
   "source": [
    "tasters = {review[\"taster_name\"] for review in json_data if review[\"taster_name\"] != None}\n",
    "\n",
    "twitter_tasters = set([review[\"taster_twitter_handle\"] for review in json_data if review[\"taster_twitter_handle\"] is not None])\n",
    "\n",
    "print(len(twitter_tasters))\n",
    "print(len(tasters))\n",
    "proportion = 100 * len(twitter_tasters) / len(tasters)\n",
    "\n",
    "print(f\"{proportion:.2f} % of the wine tasters have a Twitter account:\")\n",
    "print(*twitter_tasters, sep='\\n')"
   ]
  },
  {
   "cell_type": "markdown",
   "metadata": {},
   "source": [
    "### Question 9 (1 point)\n",
    "\n",
    "* Create a function called `affordable_wines` that receives the wines reviews list and a specific budget, and returns how many wines you can buy with that price. (0.5 points) \n",
    "* Create another function called `twitter_presence` that receives the wines reviews list and a wine name and returns True if the wine has a twitter handle for the taster, and False otherwise. (0.5 points)\n",
    "\n",
    "Prove your functions with these examples:\n",
    "\n",
    "* `affordable_wines(wines, 10)` should return 423 wines in that budget\n",
    "* `twitter_presence(wines, \"Nicosia 2013 Vulkà Bianco  (Etna)\")` should return True, meaning there is a twitter handle for the taster of that wine"
   ]
  },
  {
   "cell_type": "code",
   "execution_count": 66,
   "metadata": {},
   "outputs": [
    {
     "name": "stdout",
     "output_type": "stream",
     "text": [
      "423\n"
     ]
    }
   ],
   "source": [
    "def affordable_wines(json_data, budget):\n",
    "    count = 0\n",
    "\n",
    "    for review in json_data:\n",
    "        if review['price'] != None and review['price'] <= budget:\n",
    "            count += 1\n",
    "    \n",
    "    return count\n",
    "\n",
    "print(affordable_wines(json_data, 10))"
   ]
  },
  {
   "cell_type": "markdown",
   "metadata": {},
   "source": [
    "### Question 10 (1 point)\n",
    "\n",
    "* Which is the most common variety of wine in the dataset? (0.3 points)\n",
    "* Which is the most expensive wine in the dataset? (0.3 points)\n",
    "* Which is the taster (other than `None`) that has reviewed the most wines? (0.4 points)"
   ]
  },
  {
   "cell_type": "code",
   "execution_count": 68,
   "metadata": {},
   "outputs": [
    {
     "name": "stdout",
     "output_type": "stream",
     "text": [
      "Pinot Noir 1007\n"
     ]
    }
   ],
   "source": [
    "variety_of_wine = {}\n",
    "\n",
    "for review in json_data:\n",
    "    variety = review['variety']\n",
    "    if variety in variety_of_wine:\n",
    "        variety_of_wine[variety] += 1\n",
    "    else:\n",
    "        variety_of_wine[variety] = 1\n",
    "\n",
    "most_variety = max(variety_of_wine, key = variety_of_wine.get)\n",
    "\n",
    "print(most_variety, variety_of_wine[most_variety])"
   ]
  },
  {
   "cell_type": "code",
   "execution_count": 70,
   "metadata": {},
   "outputs": [
    {
     "name": "stdout",
     "output_type": "stream",
     "text": [
      "Biondi Santi 2007 Riserva  (Brunello di Montalcino) 800\n"
     ]
    }
   ],
   "source": [
    "wine_prices = {review['title']: review['price'] for review in json_data if review['price'] != None}\n",
    "\n",
    "most_expensive = max(wine_prices, key = wine_prices.get)\n",
    "\n",
    "print(most_expensive, wine_prices[most_expensive])"
   ]
  },
  {
   "cell_type": "code",
   "execution_count": 71,
   "metadata": {},
   "outputs": [
    {
     "name": "stdout",
     "output_type": "stream",
     "text": [
      "The most expensive wine is Biondi Santi 2007 Riserva  (Brunello di Montalcino), with a price of 800.0\n"
     ]
    }
   ],
   "source": [
    "most_expensive_wine = \"\"\n",
    "highest_price = 0\n",
    "\n",
    "for review in json_data:\n",
    "    if review['price'] != None and float(review['price']) > highest_price:\n",
    "        highest_price = float(review['price'])\n",
    "        most_expensive_wine = review['title']\n",
    "\n",
    "print(f\"The most expensive wine is {most_expensive_wine}, with a price of {highest_price}\")"
   ]
  },
  {
   "cell_type": "code",
   "execution_count": 72,
   "metadata": {},
   "outputs": [
    {
     "name": "stdout",
     "output_type": "stream",
     "text": [
      "Roger Voss 1932\n"
     ]
    }
   ],
   "source": [
    "tasters = {}\n",
    "\n",
    "for review in json_data:\n",
    "    taster = review['taster_name']\n",
    "    if taster in tasters and taster != None:\n",
    "        tasters[taster] += 1\n",
    "    elif taster != None:\n",
    "        tasters[taster] = 1\n",
    "\n",
    "most_reviews = max(tasters, key = tasters.get)\n",
    "\n",
    "print(most_reviews, tasters[most_reviews])"
   ]
  }
 ],
 "metadata": {
  "kernelspec": {
   "display_name": "Python 3",
   "language": "python",
   "name": "python3"
  },
  "language_info": {
   "codemirror_mode": {
    "name": "ipython",
    "version": 3
   },
   "file_extension": ".py",
   "mimetype": "text/x-python",
   "name": "python",
   "nbconvert_exporter": "python",
   "pygments_lexer": "ipython3",
   "version": "3.10.6"
  }
 },
 "nbformat": 4,
 "nbformat_minor": 4
}
