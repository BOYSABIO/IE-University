{
 "cells": [
  {
   "cell_type": "markdown",
   "metadata": {},
   "source": [
    "# Neural Network + SGD Visual & Conceptual Summary\n",
    "\n",
    "## Big Picture\n",
    "A neural network is a system of **layers of neurons** that take input data, pass it forward, compute a prediction, compare it to the correct answer (label), and **adjust weights** to reduce future error — using **Stochastic Gradient Descent** and **Backpropagation**.\n",
    "\n",
    "---\n",
    "\n",
    "## Core Components\n",
    "\n",
    "### 1. **Neuron**\n",
    "- Equation: `activation(w1*x1 + w2*x2 + ... + b)`\n",
    "- Learns one tiny part of a pattern\n",
    "\n",
    "### 2. **Layer**\n",
    "- A collection of neurons\n",
    "- Takes a **vector** in, outputs a new vector (features)\n",
    "\n",
    "### 3. **Activation Function**\n",
    "- Introduces **non-linearity**\n",
    "- Without it, the network could only learn **straight lines**\n",
    "- Common ones:\n",
    "  - ReLU: `max(0, x)`\n",
    "  - Sigmoid: squashes to (0, 1)\n",
    "  - Softmax: used in output layer for classification\n",
    "\n",
    "---\n",
    "\n",
    "## 🔁 Forward Pass\n",
    "- Input flows **through each layer**\n",
    "- Each layer applies:  \n",
    "  `z = W * x + b`  \n",
    "  `a = activation(z)`\n",
    "- Final output is a prediction (`ŷ`)\n",
    "- Passes activations (not weights or loss) forward\n",
    "\n",
    "---\n",
    "\n",
    "## 🔄 Backward Pass (Backpropagation)\n",
    "- Calculate **loss**:  \n",
    "  `Loss = (ŷ - y)^2` or cross-entropy\n",
    "- Compute how each weight contributed to loss using **derivatives**\n",
    "- Update weights:  \n",
    "  `w = w - learning_rate * ∂Loss/∂w`\n",
    "\n",
    "---\n",
    "\n",
    "## 🎓 Stochastic Gradient Descent (SGD)\n",
    "- Uses **random data samples (or mini-batches)** to estimate gradient\n",
    "- Makes updates **frequently** instead of after the whole dataset\n",
    "- Helps with speed and escaping local minima\n",
    "\n",
    "---\n",
    "\n",
    "## 📦 Data Flow\n",
    "### Example:\n",
    "Input = [bedrooms, sqft, distance]\n",
    "\n",
    "1. **Layer 1**:\n",
    "   - Each neuron:  \n",
    "     `z = w1*x1 + w2*x2 + w3*x3 + b`  \n",
    "     `a = ReLU(z)`\n",
    "   - Output: activations → [a1, a2, ..., aN]\n",
    "2. **Layer 2**:\n",
    "   - Takes [a1, a2, ..., aN] and repeats\n",
    "3. **Output Layer**:\n",
    "   - Produces final prediction (e.g., price)\n",
    "\n",
    "---\n",
    "\n",
    "## 📚 Word Embeddings (for LLMs)\n",
    "- Words like \"cat\" → converted to vectors: `[0.12, 0.98, ..., 0.34]`\n",
    "- These vectors are **learned** from context in large text datasets\n",
    "- Called the **embedding layer**\n",
    "- Required for language models like GPT\n",
    "\n",
    "---\n",
    "\n",
    "## 🧪 Probing Layers (LLMs)\n",
    "- Pass data through LLM\n",
    "- Take output from layer N\n",
    "- Train a tiny classifier to predict:\n",
    "  - Subject/object roles\n",
    "  - Part-of-speech\n",
    "  - Semantic facts\n",
    "- This tells us **what that layer has learned**\n",
    "\n",
    "---\n",
    "\n",
    "## 🛡️ Moderation & Safety\n",
    "- Safety filters and metaprompts guide GPTs\n",
    "- These are **not neural layers**\n",
    "- Usually applied **before or after model output**\n",
    "\n",
    "---  \n",
    "\n",
    "## ❗ Common Misunderstandings Clarified\n",
    "\n",
    "| Confusion | Clarification |\n",
    "|----------|---------------|\n",
    "| \"We only use backward pass\" | ❌ Forward pass always comes first to make predictions |\n",
    "| \"We pass weights between layers\" | ❌ We pass activations (computed values), not weights or loss |\n",
    "| \"We label every layer\" | ❌ Only final outputs are labeled — all layers learn features from end loss |\n",
    "| \"Cat becomes random numbers\" | ✅ It becomes a vector from a learned embedding table |\n",
    "\n",
    "---  \n",
    "\n",
    "## ✅ Visual Summary of Data Flow\n",
    "\n",
    "```text\n",
    "Input → Layer 1 → Layer 2 → Output → Loss\n",
    "         ↓         ↓         ↓\n",
    "      activations passed layer to layer\n",
    "\n",
    "\n",
    "Each layer transforms the input into increasingly abstract features, until the final output is compared to the actual target (label).\n",
    "\n",
    "---  \n",
    "\n",
    "## 🧠 Key Equations\n",
    "\n",
    "**Forward Pass:**\n",
    "z = W * x + b  \n",
    "a = activation(z)  \n",
    "\n",
    "**Loss (MSE):**\n",
    "Loss = ½ (y_pred - y_true)^2  \n",
    "\n",
    "**Gradients:**\n",
    "∂Loss/∂w = (y_pred - y_true) * x  \n",
    "∂Loss/∂b = (y_pred - y_true)  \n",
    "\n",
    "**Gradient Descent Update Rule:**\n",
    "w = w - learning_rate * ∂Loss/∂w  \n",
    "b = b - learning_rate * ∂Loss/∂b  \n",
    "\n",
    "---  \n",
    "\n",
    "## End Goal of Training\n",
    "Use repeated forward passes + backward passes (via gradient descent or stochastic gradient descent) to:\n",
    "\n",
    "- Minimize the loss function\n",
    "- Update the model’s weights\n",
    "- Improve predictions over time\n",
    "\n",
    "The network **learns patterns** from data by adjusting its weights to reduce its mistakes.\n",
    "\n",
    "---"
   ]
  },
  {
   "cell_type": "code",
   "execution_count": 18,
   "metadata": {},
   "outputs": [],
   "source": [
    "# House Price Prediction\n",
    "\n",
    "data = [\n",
    "    (1000, 200000),\n",
    "    (1500, 250000),\n",
    "    (800, 160000),\n",
    "    (1200, 220000),\n",
    "    (1800, 300000)\n",
    "]"
   ]
  },
  {
   "cell_type": "code",
   "execution_count": 19,
   "metadata": {},
   "outputs": [],
   "source": [
    "# Initial start of weights and biases\n",
    "w = 100\n",
    "b = 0"
   ]
  },
  {
   "cell_type": "code",
   "execution_count": 20,
   "metadata": {},
   "outputs": [],
   "source": [
    "# Hyperparameters\n",
    "learning_rate = 0.000001\n",
    "epochs = 10"
   ]
  },
  {
   "cell_type": "code",
   "execution_count": 3,
   "metadata": {},
   "outputs": [],
   "source": [
    "def predict(x): # No activation function\n",
    "    return w * x + b \n",
    "\n",
    "def compute_loss(y_true, y_pred):\n",
    "    return 0.5 * (y_pred - y_true) ** 2"
   ]
  },
  {
   "cell_type": "code",
   "execution_count": 451,
   "metadata": {},
   "outputs": [
    {
     "name": "stdout",
     "output_type": "stream",
     "text": [
      "Epoch 1\n",
      "    sqft = 1000, actual = 200000, pred = 119149, loss = 3268404314\n",
      "    dL_dw: -80850532.64, dL_db: -80850.53\n",
      "    sqft = 1500, actual = 250000, pred = 299999, loss = 1249987297\n",
      "    dL_dw: 74999618.91, dL_db: 49999.75\n",
      "    sqft = 800, actual = 160000, pred = 100000, loss = 1799971819\n",
      "    dL_dw: -47999624.25, dL_db: -59999.53\n",
      "    sqft = 1200, actual = 220000, pred = 207599, loss = 76880455\n",
      "    dL_dw: -14880044.05, dL_db: -12400.04\n",
      "    sqft = 1800, actual = 300000, pred = 338183, loss = 728995803\n",
      "    dL_dw: 68730581.32, dL_db: 38183.66\n",
      "Updated w: 119.15, b: 0.73\n",
      "\n",
      "Epoch 2\n",
      "    sqft = 1000, actual = 200000, pred = 119149, loss = 3268398996\n",
      "    dL_dw: -80850466.87, dL_db: -80850.47\n",
      "    sqft = 1500, actual = 250000, pred = 299999, loss = 1249985670\n",
      "    dL_dw: 74999570.11, dL_db: 49999.71\n",
      "    sqft = 800, actual = 160000, pred = 100000, loss = 1799968695\n",
      "    dL_dw: -47999582.61, dL_db: -59999.48\n",
      "    sqft = 1200, actual = 220000, pred = 207599, loss = 76880510\n",
      "    dL_dw: -14880049.36, dL_db: -12400.04\n",
      "    sqft = 1800, actual = 300000, pred = 338183, loss = 728994673\n",
      "    dL_dw: 68730528.02, dL_db: 38183.63\n",
      "Updated w: 119.15, b: 0.8\n",
      "\n",
      "Epoch 3\n",
      "    sqft = 1000, actual = 200000, pred = 119149, loss = 3268393679\n",
      "    dL_dw: -80850401.1, dL_db: -80850.4\n",
      "    sqft = 1500, actual = 250000, pred = 299999, loss = 1249984043\n",
      "    dL_dw: 74999521.31, dL_db: 49999.68\n",
      "    sqft = 800, actual = 160000, pred = 100000, loss = 1799965572\n",
      "    dL_dw: -47999540.97, dL_db: -59999.43\n",
      "    sqft = 1200, actual = 220000, pred = 207599, loss = 76880564\n",
      "    dL_dw: -14880054.67, dL_db: -12400.05\n",
      "    sqft = 1800, actual = 300000, pred = 338183, loss = 728993542\n",
      "    dL_dw: 68730474.72, dL_db: 38183.6\n",
      "Updated w: 119.15, b: 0.87\n",
      "\n",
      "Epoch 4\n",
      "    sqft = 1000, actual = 200000, pred = 119149, loss = 3268388361\n",
      "    dL_dw: -80850335.33, dL_db: -80850.34\n",
      "    sqft = 1500, actual = 250000, pred = 299999, loss = 1249982417\n",
      "    dL_dw: 74999472.51, dL_db: 49999.65\n",
      "    sqft = 800, actual = 160000, pred = 100000, loss = 1799962449\n",
      "    dL_dw: -47999499.32, dL_db: -59999.37\n",
      "    sqft = 1200, actual = 220000, pred = 207599, loss = 76880619\n",
      "    dL_dw: -14880059.97, dL_db: -12400.05\n",
      "    sqft = 1800, actual = 300000, pred = 338183, loss = 728992411\n",
      "    dL_dw: 68730421.41, dL_db: 38183.57\n",
      "Updated w: 119.15, b: 0.93\n",
      "\n",
      "Epoch 5\n",
      "    sqft = 1000, actual = 200000, pred = 119149, loss = 3268383043\n",
      "    dL_dw: -80850269.56, dL_db: -80850.27\n",
      "    sqft = 1500, actual = 250000, pred = 299999, loss = 1249980790\n",
      "    dL_dw: 74999423.71, dL_db: 49999.62\n",
      "    sqft = 800, actual = 160000, pred = 100000, loss = 1799959326\n",
      "    dL_dw: -47999457.68, dL_db: -59999.32\n",
      "    sqft = 1200, actual = 220000, pred = 207599, loss = 76880674\n",
      "    dL_dw: -14880065.28, dL_db: -12400.05\n",
      "    sqft = 1800, actual = 300000, pred = 338183, loss = 728991280\n",
      "    dL_dw: 68730368.11, dL_db: 38183.54\n",
      "Updated w: 119.15, b: 1.0\n",
      "\n",
      "Epoch 6\n",
      "    sqft = 1000, actual = 200000, pred = 119149, loss = 3268377726\n",
      "    dL_dw: -80850203.79, dL_db: -80850.2\n",
      "    sqft = 1500, actual = 250000, pred = 299999, loss = 1249979163\n",
      "    dL_dw: 74999374.91, dL_db: 49999.58\n",
      "    sqft = 800, actual = 160000, pred = 100000, loss = 1799956203\n",
      "    dL_dw: -47999416.04, dL_db: -59999.27\n",
      "    sqft = 1200, actual = 220000, pred = 207599, loss = 76880729\n",
      "    dL_dw: -14880070.59, dL_db: -12400.06\n",
      "    sqft = 1800, actual = 300000, pred = 338183, loss = 728990150\n",
      "    dL_dw: 68730314.81, dL_db: 38183.51\n",
      "Updated w: 119.15, b: 1.06\n",
      "\n",
      "Epoch 7\n",
      "    sqft = 1000, actual = 200000, pred = 119149, loss = 3268372408\n",
      "    dL_dw: -80850138.02, dL_db: -80850.14\n",
      "    sqft = 1500, actual = 250000, pred = 299999, loss = 1249977537\n",
      "    dL_dw: 74999326.11, dL_db: 49999.55\n",
      "    sqft = 800, actual = 160000, pred = 100000, loss = 1799953080\n",
      "    dL_dw: -47999374.4, dL_db: -59999.22\n",
      "    sqft = 1200, actual = 220000, pred = 207599, loss = 76880784\n",
      "    dL_dw: -14880075.9, dL_db: -12400.06\n",
      "    sqft = 1800, actual = 300000, pred = 338183, loss = 728989019\n",
      "    dL_dw: 68730261.5, dL_db: 38183.48\n",
      "Updated w: 119.15, b: 1.13\n",
      "\n",
      "Epoch 8\n",
      "    sqft = 1000, actual = 200000, pred = 119149, loss = 3268367091\n",
      "    dL_dw: -80850072.25, dL_db: -80850.07\n",
      "    sqft = 1500, actual = 250000, pred = 299999, loss = 1249975910\n",
      "    dL_dw: 74999277.31, dL_db: 49999.52\n",
      "    sqft = 800, actual = 160000, pred = 100000, loss = 1799949956\n",
      "    dL_dw: -47999332.75, dL_db: -59999.17\n",
      "    sqft = 1200, actual = 220000, pred = 207599, loss = 76880839\n",
      "    dL_dw: -14880081.21, dL_db: -12400.07\n",
      "    sqft = 1800, actual = 300000, pred = 338183, loss = 728987888\n",
      "    dL_dw: 68730208.2, dL_db: 38183.45\n",
      "Updated w: 119.15, b: 1.19\n",
      "\n",
      "Epoch 9\n",
      "    sqft = 1000, actual = 200000, pred = 119149, loss = 3268361773\n",
      "    dL_dw: -80850006.48, dL_db: -80850.01\n",
      "    sqft = 1500, actual = 250000, pred = 299999, loss = 1249974283\n",
      "    dL_dw: 74999228.51, dL_db: 49999.49\n",
      "    sqft = 800, actual = 160000, pred = 100000, loss = 1799946833\n",
      "    dL_dw: -47999291.11, dL_db: -59999.11\n",
      "    sqft = 1200, actual = 220000, pred = 207599, loss = 76880894\n",
      "    dL_dw: -14880086.52, dL_db: -12400.07\n",
      "    sqft = 1800, actual = 300000, pred = 338183, loss = 728986758\n",
      "    dL_dw: 68730154.9, dL_db: 38183.42\n",
      "Updated w: 119.15, b: 1.26\n",
      "\n",
      "Epoch 10\n",
      "    sqft = 1000, actual = 200000, pred = 119150, loss = 3268356456\n",
      "    dL_dw: -80849940.71, dL_db: -80849.94\n",
      "    sqft = 1500, actual = 250000, pred = 299999, loss = 1249972657\n",
      "    dL_dw: 74999179.71, dL_db: 49999.45\n",
      "    sqft = 800, actual = 160000, pred = 100000, loss = 1799943710\n",
      "    dL_dw: -47999249.47, dL_db: -59999.06\n",
      "    sqft = 1200, actual = 220000, pred = 207599, loss = 76880948\n",
      "    dL_dw: -14880091.83, dL_db: -12400.08\n",
      "    sqft = 1800, actual = 300000, pred = 338183, loss = 728985627\n",
      "    dL_dw: 68730101.59, dL_db: 38183.39\n",
      "Updated w: 119.15, b: 1.32\n",
      "\n"
     ]
    }
   ],
   "source": [
    "# Training\n",
    "for epoch in range(epochs):\n",
    "    print(f'Epoch {epoch + 1}')\n",
    "\n",
    "    for x, y_true in data:\n",
    "        \n",
    "        # Forward Pass\n",
    "        y_pred = predict(x)\n",
    "        loss = compute_loss(y_true, y_pred)\n",
    "\n",
    "        # Backward Pass\n",
    "        dl_dw = (y_pred - y_true) * x   # gradient w.r.t w\n",
    "        dl_db = (y_pred - y_true)       # gradient w.r.t b\n",
    "\n",
    "        # Update weights\n",
    "        w = w - learning_rate * dl_dw\n",
    "        b = b - learning_rate * dl_db\n",
    "\n",
    "        print(f'    sqft = {x}, actual = {y_true}, pred = {int(y_pred)}, loss = {int(loss)}')\n",
    "        print(f'    dL_dw: {round(dl_dw, 2)}, dL_db: {round(dl_db, 2)}')\n",
    "\n",
    "    \n",
    "    print(f'Updated w: {round(w, 2)}, b: {round(b, 2)}\\n')"
   ]
  },
  {
   "cell_type": "markdown",
   "metadata": {},
   "source": [
    "> Gradient descent is an optimization algorithm used to minimize a **loss function** by adjusting model parameters (weights & bias) in the direction that **reduces the error**.\n",
    "\n",
    "\n",
    "\"By-the-Book\" Gradient Descent (Batch GD)\n",
    "\n",
    "| Concept           | Description                                                                 |\n",
    "|------------------|-----------------------------------------------------------------------------|\n",
    "| Data Used         | **All training data** (entire dataset)                                     |\n",
    "| Update Frequency  | **One update per epoch** (after full pass through data)                    |\n",
    "| Memory Usage      | High (must store all data)                                                 |\n",
    "| Convergence       | Smooth but can be slow                                                     |\n",
    "| Risk              | Can get stuck in local minima (no randomness)                             |\n",
    "  \n",
    "Stochastic Gradient Descent (SGD)\n",
    "\n",
    "| Concept           | Description                                               |\n",
    "|------------------|-----------------------------------------------------------|\n",
    "| **Data Used**     | One data point at a time (picked randomly)                |\n",
    "| **Update Frequency** | One update per sample                                 |\n",
    "| **Memory Usage**  | Low (one sample at a time)                                |\n",
    "| **Convergence**   | Fast but noisy (bounces around the loss surface)          |\n",
    "| **Benefit**       | Escapes local minima better                               |\n",
    "\n",
    "\n",
    "\n",
    "Batch Gradient Descent (Full Dataset)\n",
    "  Step →           🟢────────🟢────────🟢────────🟢  \n",
    "  Error →          ◯ Smooth decline (but slow)\n",
    "\n",
    "Stochastic Gradient Descent (One Sample)\n",
    "  Step →           🔺^^🔻--🔺^^🔻--🔺  \n",
    "  Error →          ◯ Noisy but faster descent  "
   ]
  },
  {
   "cell_type": "code",
   "execution_count": null,
   "metadata": {},
   "outputs": [
    {
     "name": "stdout",
     "output_type": "stream",
     "text": [
      "Initial w: 0.74, b: 0.7\n",
      "\n",
      "Epoch 1\n",
      "  x=1.5, true=250.0, pred=1.82, loss=30797.28\n",
      "  x=0.8, true=160.0, pred=6.76, loss=11741.67\n",
      "  x=1.0, true=200.0, pred=10.41, loss=17972.41\n",
      "  x=1.2, true=220.0, pred=15.72, loss=20865.53\n",
      "  x=1.8, true=300.0, pred=26.73, loss=37339.28\n",
      "  Updated w: 14.96, b: 11.39\n",
      "\n",
      "Epoch 2\n",
      "  x=1.2, true=220.0, pred=29.34, loss=18175.97\n",
      "  x=1.8, true=300.0, pred=44.34, loss=32681.55\n",
      "  x=1.5, true=250.0, pred=48.62, loss=20276.23\n",
      "  x=1.0, true=200.0, pred=42.73, loss=12366.3\n",
      "  x=0.8, true=160.0, pred=40.59, loss=7129.25\n",
      "  Updated w: 27.4, b: 20.63\n",
      "\n",
      "Epoch 3\n",
      "  x=1.8, true=300.0, pred=69.95, loss=26462.43\n",
      "  x=1.0, true=200.0, pred=54.47, loss=10589.46\n",
      "  x=0.8, true=160.0, pred=50.78, loss=5964.26\n",
      "  x=1.2, true=220.0, pred=66.12, loss=11839.52\n",
      "  x=1.5, true=250.0, pred=80.59, loss=14350.1\n",
      "  Updated w: 38.25, b: 28.71\n",
      "\n",
      "Epoch 4\n",
      "  x=1.0, true=200.0, pred=66.97, loss=8848.84\n",
      "  x=1.8, true=300.0, pred=101.3, loss=19741.69\n",
      "  x=1.2, true=220.0, pred=83.82, loss=9271.95\n",
      "  x=1.5, true=250.0, pred=100.59, loss=11162.37\n",
      "  x=0.8, true=160.0, pred=72.52, loss=3826.76\n",
      "  Updated w: 47.74, b: 35.76\n",
      "\n",
      "Epoch 5\n",
      "  x=1.8, true=300.0, pred=121.69, loss=15897.78\n",
      "  x=0.8, true=160.0, pred=78.3, loss=3337.34\n",
      "  x=1.2, true=220.0, pred=100.28, loss=7166.32\n",
      "  x=1.5, true=250.0, pred=119.11, loss=8565.7\n",
      "  x=1.0, true=200.0, pred=95.87, loss=5421.84\n",
      "  Updated w: 56.04, b: 41.91\n",
      "\n",
      "Epoch 6\n",
      "  x=1.0, true=200.0, pred=97.95, loss=5207.13\n",
      "  x=1.2, true=220.0, pred=111.4, loss=5896.65\n",
      "  x=1.5, true=250.0, pred=131.56, loss=7013.76\n",
      "  x=1.8, true=300.0, pred=153.45, loss=10737.9\n",
      "  x=0.8, true=160.0, pred=96.89, loss=1991.55\n",
      "  Updated w: 63.28, b: 47.3\n",
      "\n",
      "Epoch 7\n",
      "  x=1.8, true=300.0, pred=161.21, loss=9631.71\n",
      "  x=1.2, true=220.0, pred=127.62, loss=4266.78\n",
      "  x=1.5, true=250.0, pred=149.94, loss=5005.61\n",
      "  x=0.8, true=160.0, pred=105.32, loss=1494.86\n",
      "  x=1.0, true=200.0, pred=119.98, loss=3201.26\n",
      "  Updated w: 69.63, b: 51.96\n",
      "\n",
      "Epoch 8\n",
      "  x=1.8, true=300.0, pred=177.29, loss=7529.13\n",
      "  x=1.2, true=220.0, pred=139.39, loss=3249.14\n",
      "  x=0.8, true=160.0, pred=112.23, loss=1140.85\n",
      "  x=1.5, true=250.0, pred=164.25, loss=3676.75\n",
      "  x=1.0, true=200.0, pred=129.8, loss=2464.19\n",
      "  Updated w: 75.18, b: 56.03\n",
      "\n",
      "Epoch 9\n",
      "  x=1.2, true=220.0, pred=146.24, loss=2720.51\n",
      "  x=1.8, true=300.0, pred=193.67, loss=5652.7\n",
      "  x=0.8, true=160.0, pred=120.21, loss=791.76\n",
      "  x=1.0, true=200.0, pred=136.52, loss=2014.99\n",
      "  x=1.5, true=250.0, pred=177.25, loss=2646.18\n",
      "  Updated w: 80.02, b: 59.59\n",
      "\n",
      "Epoch 10\n",
      "  x=1.2, true=220.0, pred=155.61, loss=2073.04\n",
      "  x=1.5, true=250.0, pred=181.42, loss=2351.7\n",
      "  x=1.8, true=300.0, pred=208.19, loss=4214.19\n",
      "  x=0.8, true=160.0, pred=128.61, loss=492.56\n",
      "  x=1.0, true=200.0, pred=145.87, loss=1464.88\n",
      "  Updated w: 84.27, b: 62.69\n",
      "\n",
      "Epoch 11\n",
      "  x=0.8, true=160.0, pred=130.1, loss=446.94\n",
      "  x=1.8, true=300.0, pred=215.1, loss=3604.24\n",
      "  x=1.5, true=250.0, pred=192.89, loss=1630.93\n",
      "  x=1.0, true=200.0, pred=151.3, loss=1185.91\n",
      "  x=1.2, true=220.0, pred=169.75, loss=1262.63\n",
      "  Updated w: 87.98, b: 65.4\n",
      "\n",
      "Epoch 12\n",
      "  x=1.0, true=200.0, pred=153.38, loss=1086.8\n",
      "  x=0.8, true=160.0, pred=136.62, loss=273.28\n",
      "  x=1.2, true=220.0, pred=172.46, loss=1130.12\n",
      "  x=1.8, true=300.0, pred=227.14, loss=2654.28\n",
      "  x=1.5, true=250.0, pred=203.07, loss=1100.98\n",
      "  Updated w: 91.22, b: 67.77\n",
      "\n",
      "Epoch 13\n",
      "  x=1.0, true=200.0, pred=158.99, loss=840.89\n",
      "  x=1.8, true=300.0, pred=233.11, loss=2236.88\n",
      "  x=1.2, true=220.0, pred=180.25, loss=790.03\n",
      "  x=0.8, true=160.0, pred=143.9, loss=129.67\n",
      "  x=1.5, true=250.0, pred=209.57, loss=817.4\n",
      "  Updated w: 94.05, b: 69.81\n",
      "\n",
      "Epoch 14\n",
      "  x=1.2, true=220.0, pred=182.67, loss=696.85\n",
      "  x=1.5, true=250.0, pred=211.93, loss=724.79\n",
      "  x=1.8, true=300.0, pred=241.68, loss=1700.42\n",
      "  x=0.8, true=160.0, pred=148.04, loss=71.5\n",
      "  x=1.0, true=200.0, pred=167.48, loss=528.78\n",
      "  Updated w: 96.53, b: 71.6\n",
      "\n",
      "Epoch 15\n",
      "  x=1.8, true=300.0, pred=245.36, loss=1492.86\n",
      "  x=1.5, true=250.0, pred=218.42, loss=498.66\n",
      "  x=1.2, true=220.0, pred=190.05, loss=448.55\n",
      "  x=0.8, true=160.0, pred=151.44, loss=36.65\n",
      "  x=1.0, true=200.0, pred=171.26, loss=412.91\n",
      "  Updated w: 98.71, b: 73.13\n",
      "\n",
      "Epoch 16\n",
      "  x=1.2, true=220.0, pred=191.58, loss=403.87\n",
      "  x=1.8, true=300.0, pred=251.7, loss=1166.37\n",
      "  x=0.8, true=160.0, pred=153.83, loss=19.02\n",
      "  x=1.5, true=250.0, pred=223.91, loss=340.35\n",
      "  x=1.0, true=200.0, pred=174.58, loss=323.12\n",
      "  Updated w: 100.61, b: 74.47\n",
      "\n",
      "Epoch 17\n",
      "  x=1.2, true=220.0, pred=195.21, loss=307.28\n",
      "  x=1.8, true=300.0, pred=256.36, loss=952.2\n",
      "  x=1.0, true=200.0, pred=176.85, loss=267.86\n",
      "  x=0.8, true=160.0, pred=156.93, loss=4.71\n",
      "  x=1.5, true=250.0, pred=228.35, loss=234.4\n",
      "  Updated w: 102.28, b: 75.64\n",
      "\n",
      "Epoch 18\n",
      "  x=0.8, true=160.0, pred=157.46, loss=3.23\n",
      "  x=1.5, true=250.0, pred=229.11, loss=218.24\n",
      "  x=1.0, true=200.0, pred=178.48, loss=231.52\n",
      "  x=1.8, true=300.0, pred=261.17, loss=753.79\n",
      "  x=1.2, true=220.0, pred=200.7, loss=186.16\n",
      "  Updated w: 103.76, b: 76.67\n",
      "\n",
      "Epoch 19\n",
      "  x=1.2, true=220.0, pred=201.17, loss=177.19\n",
      "  x=1.8, true=300.0, pred=264.02, loss=647.16\n",
      "  x=1.0, true=200.0, pred=181.85, loss=164.8\n",
      "  x=1.5, true=250.0, pred=234.61, loss=118.37\n",
      "  x=0.8, true=160.0, pred=161.58, loss=1.26\n",
      "  Updated w: 105.03, b: 77.54\n",
      "\n",
      "Epoch 20\n",
      "  x=1.8, true=300.0, pred=266.59, loss=558.19\n",
      "  x=1.2, true=220.0, pred=204.63, loss=118.18\n",
      "  x=0.8, true=160.0, pred=162.68, loss=3.58\n",
      "  x=1.5, true=250.0, pred=236.69, loss=88.62\n",
      "  x=1.0, true=200.0, pred=184.12, loss=126.04\n",
      "  Updated w: 106.15, b: 78.29\n",
      "\n"
     ]
    },
    {
     "data": {
      "image/png": "[encoded data removed]",
      "text/plain": [
       "<Figure size 1500x400 with 3 Axes>"
      ]
     },
     "metadata": {},
     "output_type": "display_data"
    }
   ],
   "source": [
    "import matplotlib.pyplot as plt\n",
    "import random\n",
    "import time\n",
    "\n",
    "data = [\n",
    "    (1000, 200000),\n",
    "    (1500, 250000),\n",
    "    (800, 160000),\n",
    "    (1200, 220000),\n",
    "    (1800, 300000)\n",
    "]\n",
    "\n",
    "data = [(x / 1000, y / 1000) for x, y in data] \n",
    "\n",
    "w = random.uniform(0, 1)  \n",
    "b = random.uniform(0, 1)  \n",
    "\n",
    "# Hyperparameters\n",
    "learning_rate = 0.01\n",
    "epochs = 20\n",
    "\n",
    "\n",
    "loss_history = []\n",
    "w_history = []\n",
    "b_history = []\n",
    "\n",
    "def predict(x):\n",
    "    return w * x + b\n",
    "\n",
    "def compute_loss(y_true, y_pred):\n",
    "    return 0.5 * (y_pred - y_true) ** 2  \n",
    "\n",
    "print(f\"Initial w: {round(w, 2)}, b: {round(b, 2)}\\n\")\n",
    "\n",
    "for epoch in range(epochs):\n",
    "    print(f\"Epoch {epoch + 1}\")\n",
    "\n",
    "    random.shuffle(data)\n",
    "\n",
    "    for x, y_true in data:\n",
    "        # Forward Pass\n",
    "        y_pred = predict(x)\n",
    "        loss = compute_loss(y_true, y_pred)\n",
    "\n",
    "        # Backward Pass\n",
    "        dl_dw = (y_pred - y_true) * x\n",
    "        dl_db = (y_pred - y_true)\n",
    "\n",
    "        # SGD Using 1 Sample\n",
    "        w -= learning_rate * dl_dw\n",
    "        b -= learning_rate * dl_db\n",
    "\n",
    "        loss_history.append(loss)\n",
    "        w_history.append(w)\n",
    "        b_history.append(b)\n",
    "\n",
    "        print(f\"  x={round(x,2)}, true={round(y_true,2)}, pred={round(y_pred,2)}, loss={round(loss,2)}\")\n",
    "        time.sleep(0.5)\n",
    "\n",
    "    print(f\"  Updated w: {round(w, 2)}, b: {round(b, 2)}\\n\")\n",
    "\n",
    "\n",
    "plt.figure(figsize=(15, 4))\n",
    "\n",
    "# Loss\n",
    "plt.subplot(1, 3, 1)\n",
    "plt.plot(loss_history)\n",
    "plt.title(\"Loss Over Time\")\n",
    "plt.xlabel(\"SGD Step\")\n",
    "plt.ylabel(\"Loss\")\n",
    "\n",
    "# Weight\n",
    "plt.subplot(1, 3, 2)\n",
    "plt.plot(w_history)\n",
    "plt.title(\"Weight (w) Over Time\")\n",
    "plt.xlabel(\"SGD Step\")\n",
    "plt.ylabel(\"Weight\")\n",
    "\n",
    "# Bias\n",
    "plt.subplot(1, 3, 3)\n",
    "plt.plot(b_history)\n",
    "plt.title(\"Bias (b) Over Time\")\n",
    "plt.xlabel(\"SGD Step\")\n",
    "plt.ylabel(\"Bias\")\n",
    "\n",
    "plt.tight_layout()\n",
    "plt.show()"
   ]
  },
  {
   "cell_type": "code",
   "execution_count": 11,
   "metadata": {},
   "outputs": [
    {
     "name": "stdout",
     "output_type": "stream",
     "text": [
      "Epoch 1\n",
      "  pred=-0.05, actual=200.0, loss=20009.86\n",
      "  pred=4.41, actual=160.0, loss=12103.38\n",
      "  pred=-2.82, actual=250.0, loss=31959.13\n",
      "  pred=3.99, actual=300.0, loss=43809.58\n",
      "  pred=6.72, actual=220.0, loss=22743.16\n",
      "  w1=2.75, w2=3.17, w3=-1.31, b=11.77\n",
      "\n",
      "Epoch 2\n",
      "  pred=20.89, actual=300.0, loss=38951.83\n",
      "  pred=9.17, actual=220.0, loss=22224.9\n",
      "  pred=10.81, actual=200.0, loss=17896.52\n",
      "  pred=30.64, actual=250.0, loss=24059.41\n",
      "  pred=-8.73, actual=160.0, loss=14235.7\n",
      "  w1=4.55, w2=4.72, w3=-2.83, b=22.45\n",
      "\n",
      "Epoch 3\n",
      "  pred=37.76, actual=300.0, loss=34385.61\n",
      "  pred=17.65, actual=200.0, loss=16626.12\n",
      "  pred=20.34, actual=220.0, loss=19931.27\n",
      "  pred=44.72, actual=250.0, loss=21069.51\n",
      "  pred=-4.57, actual=160.0, loss=13541.6\n",
      "  w1=6.12, w2=6.06, w3=-4.16, b=32.59\n",
      "\n",
      "Epoch 4\n",
      "  pred=46.67, actual=250.0, loss=20670.83\n",
      "  pred=2.34, actual=160.0, loss=12428.9\n",
      "  pred=54.52, actual=300.0, loss=30129.91\n",
      "  pred=31.4, actual=220.0, loss=17785.38\n",
      "  pred=32.69, actual=200.0, loss=13995.96\n",
      "  w1=7.63, w2=7.38, w3=-5.42, b=42.21\n",
      "\n",
      "Epoch 5\n",
      "  pred=35.41, actual=200.0, loss=13544.61\n",
      "  pred=15.35, actual=160.0, loss=10461.83\n",
      "  pred=56.11, actual=250.0, loss=18796.96\n",
      "  pred=69.18, actual=300.0, loss=26638.84\n",
      "  pred=41.23, actual=220.0, loss=15978.62\n",
      "  w1=9.07, w2=8.68, w3=-6.69, b=51.34\n",
      "\n",
      "Epoch 6\n",
      "  pred=43.76, actual=220.0, loss=15531.01\n",
      "  pred=81.97, actual=300.0, loss=23768.17\n",
      "  pred=44.78, actual=200.0, loss=12046.52\n",
      "  pred=12.79, actual=160.0, loss=10835.85\n",
      "  pred=77.86, actual=250.0, loss=14816.44\n",
      "  w1=10.21, w2=9.61, w3=-7.59, b=60.03\n",
      "\n",
      "Epoch 7\n",
      "  pred=94.79, actual=300.0, loss=21054.99\n",
      "  pred=51.09, actual=220.0, loss=14265.18\n",
      "  pred=92.29, actual=250.0, loss=12435.46\n",
      "  pred=9.53, actual=160.0, loss=11320.6\n",
      "  pred=56.23, actual=200.0, loss=10334.52\n",
      "  w1=11.11, w2=10.24, w3=-8.19, b=68.29\n",
      "\n",
      "Epoch 8\n",
      "  pred=24.38, actual=160.0, loss=9196.38\n",
      "  pred=62.56, actual=220.0, loss=12393.94\n",
      "  pred=89.82, actual=250.0, loss=12829.43\n",
      "  pred=105.93, actual=300.0, loss=18830.85\n",
      "  pred=63.34, actual=200.0, loss=9338.32\n",
      "  w1=12.12, w2=11.06, w3=-8.96, b=76.13\n",
      "\n",
      "Epoch 9\n",
      "  pred=65.56, actual=200.0, loss=9037.17\n",
      "  pred=67.63, actual=220.0, loss=11608.22\n",
      "  pred=116.36, actual=300.0, loss=16862.48\n",
      "  pred=111.92, actual=250.0, loss=9532.5\n",
      "  pred=22.66, actual=160.0, loss=9431.47\n",
      "  w1=12.82, w2=11.53, w3=-9.43, b=83.59\n",
      "\n",
      "Epoch 10\n",
      "  pred=33.39, actual=160.0, loss=8015.2\n",
      "  pred=76.3, actual=220.0, loss=10325.02\n",
      "  pred=76.77, actual=200.0, loss=7592.61\n",
      "  pred=109.36, actual=250.0, loss=9890.04\n",
      "  pred=126.04, actual=300.0, loss=15131.63\n",
      "  w1=13.63, w2=12.15, w3=-10.01, b=90.67\n",
      "\n",
      "Epoch 11\n",
      "  pred=78.85, actual=200.0, loss=7339.09\n",
      "  pred=80.89, actual=220.0, loss=9675.36\n",
      "  pred=135.66, actual=300.0, loss=13504.39\n",
      "  pred=128.66, actual=250.0, loss=7361.72\n",
      "  pred=32.57, actual=160.0, loss=8119.55\n",
      "  w1=14.18, w2=12.47, w3=-10.32, b=97.4\n",
      "\n",
      "Epoch 12\n",
      "  pred=128.93, actual=250.0, loss=7328.92\n",
      "  pred=86.09, actual=220.0, loss=8966.54\n",
      "  pred=149.25, actual=300.0, loss=11362.55\n",
      "  pred=35.48, actual=160.0, loss=7752.5\n",
      "  pred=89.37, actual=200.0, loss=6118.96\n",
      "  w1=14.64, w2=12.72, w3=-10.53, b=103.81\n",
      "\n",
      "Epoch 13\n",
      "  pred=152.12, actual=300.0, loss=10934.47\n",
      "  pred=91.77, actual=220.0, loss=8221.54\n",
      "  pred=44.08, actual=160.0, loss=6718.94\n",
      "  pred=94.76, actual=200.0, loss=5537.98\n",
      "  pred=139.38, actual=250.0, loss=6118.15\n",
      "  w1=15.14, w2=13.01, w3=-10.78, b=109.89\n",
      "\n",
      "Epoch 14\n",
      "  pred=159.56, actual=300.0, loss=9861.08\n",
      "  pred=148.87, actual=250.0, loss=5113.65\n",
      "  pred=96.86, actual=200.0, loss=5319.21\n",
      "  pred=98.85, actual=220.0, loss=7338.5\n",
      "  pred=48.07, actual=160.0, loss=6264.29\n",
      "  w1=15.55, w2=13.19, w3=-10.97, b=115.67\n",
      "\n",
      "Epoch 15\n",
      "  pred=166.38, actual=300.0, loss=8926.92\n",
      "  pred=154.99, actual=250.0, loss=4512.98\n",
      "  pred=102.31, actual=200.0, loss=4771.99\n",
      "  pred=104.35, actual=220.0, loss=6687.2\n",
      "  pred=52.96, actual=160.0, loss=5729.18\n",
      "  w1=15.93, w2=13.35, w3=-11.12, b=121.16\n",
      "\n",
      "Epoch 16\n",
      "  pred=108.7, actual=220.0, loss=6193.56\n",
      "  pred=64.15, actual=160.0, loss=4593.88\n",
      "  pred=110.8, actual=200.0, loss=3978.72\n",
      "  pred=167.97, actual=300.0, loss=8715.48\n",
      "  pred=158.61, actual=250.0, loss=4175.78\n",
      "  w1=16.47, w2=13.67, w3=-11.42, b=126.35\n",
      "\n",
      "Epoch 17\n",
      "  pred=112.25, actual=200.0, loss=3850.19\n",
      "  pred=161.92, actual=250.0, loss=3878.82\n",
      "  pred=64.15, actual=160.0, loss=4593.96\n",
      "  pred=178.57, actual=300.0, loss=7372.26\n",
      "  pred=116.85, actual=220.0, loss=5320.21\n",
      "  w1=16.85, w2=13.86, w3=-11.6, b=131.32\n",
      "\n",
      "Epoch 18\n",
      "  pred=68.7, actual=160.0, loss=4168.06\n",
      "  pred=181.29, actual=300.0, loss=7045.83\n",
      "  pred=169.47, actual=250.0, loss=3242.34\n",
      "  pred=120.49, actual=220.0, loss=4951.13\n",
      "  pred=119.98, actual=200.0, loss=3201.75\n",
      "  w1=17.26, w2=14.04, w3=-11.77, b=136.02\n",
      "\n",
      "Epoch 19\n",
      "  pred=121.28, actual=200.0, loss=3098.5\n",
      "  pred=172.8, actual=250.0, loss=2980.17\n",
      "  pred=123.77, actual=220.0, loss=4630.03\n",
      "  pred=194.04, actual=300.0, loss=5614.25\n",
      "  pred=69.32, actual=160.0, loss=4111.72\n",
      "  w1=17.48, w2=14.08, w3=-11.8, b=140.51\n",
      "\n",
      "Epoch 20\n",
      "  pred=76.4, actual=160.0, loss=3494.29\n",
      "  pred=192.26, actual=300.0, loss=5804.02\n",
      "  pred=179.26, actual=250.0, loss=2502.31\n",
      "  pred=127.39, actual=200.0, loss=2636.28\n",
      "  pred=130.03, actual=220.0, loss=4047.37\n",
      "  w1=17.83, w2=14.21, w3=-11.92, b=144.75\n",
      "\n"
     ]
    },
    {
     "data": {
      "image/png": "[encoded data removed]",
      "text/plain": [
       "<Figure size 1500x500 with 3 Axes>"
      ]
     },
     "metadata": {},
     "output_type": "display_data"
    }
   ],
   "source": [
    "import pandas as pd\n",
    "import matplotlib.pyplot as plt\n",
    "import random\n",
    "from sklearn.preprocessing import StandardScaler\n",
    "\n",
    "df = pd.DataFrame({\n",
    "    'sqft': [1000, 1500, 800, 1200, 1800],\n",
    "    'bedrooms': [3, 4, 2, 3, 4],\n",
    "    'distance': [5, 3, 10, 7, 2],\n",
    "    'price': [200000, 250000, 160000, 220000, 300000]\n",
    "})\n",
    "\n",
    "scaler = StandardScaler()\n",
    "features = ['sqft', 'bedrooms', 'distance']\n",
    "df_scaled = df.copy()\n",
    "df_scaled[features] = scaler.fit_transform(df[features])\n",
    "df_scaled['price'] = df['price'] / 1000  \n",
    "\n",
    "\n",
    "data = [((row.sqft, row.bedrooms, row.distance), row.price) for _, row in df_scaled.iterrows()]\n",
    "\n",
    "\n",
    "w1, w2, w3 = [random.uniform(0, 1) for _ in range(3)]\n",
    "b = random.uniform(0, 1)\n",
    "\n",
    "learning_rate = 0.01\n",
    "epochs = 20\n",
    "\n",
    "\n",
    "loss_history = []\n",
    "w1_history, w2_history, w3_history, b_history = [], [], [], []\n",
    "\n",
    "def predict(x1, x2, x3):\n",
    "    return w1 * x1 + w2 * x2 + w3 * x3 + b\n",
    "\n",
    "def compute_loss(y_true, y_pred):\n",
    "    return 0.5 * (y_pred - y_true) ** 2\n",
    "\n",
    "for epoch in range(epochs):\n",
    "    print(f\"Epoch {epoch + 1}\")\n",
    "    random.shuffle(data)\n",
    "\n",
    "    for (x1, x2, x3), y_true in data:\n",
    "        # Forward\n",
    "        y_pred = predict(x1, x2, x3)\n",
    "        loss = compute_loss(y_true, y_pred)\n",
    "\n",
    "        # Backward (SGD)\n",
    "        dl_dw1 = (y_pred - y_true) * x1\n",
    "        dl_dw2 = (y_pred - y_true) * x2\n",
    "        dl_dw3 = (y_pred - y_true) * x3\n",
    "        dl_db = (y_pred - y_true)\n",
    "\n",
    "        # Update\n",
    "        w1 -= learning_rate * dl_dw1\n",
    "        w2 -= learning_rate * dl_dw2\n",
    "        w3 -= learning_rate * dl_dw3\n",
    "        b  -= learning_rate * dl_db\n",
    "\n",
    "        # Log\n",
    "        loss_history.append(loss)\n",
    "        w1_history.append(w1)\n",
    "        w2_history.append(w2)\n",
    "        w3_history.append(w3)\n",
    "        b_history.append(b)\n",
    "\n",
    "        print(f\"  pred={round(y_pred,2)}, actual={round(y_true,2)}, loss={round(loss,2)}\")\n",
    "\n",
    "    print(f\"  w1={round(w1,2)}, w2={round(w2,2)}, w3={round(w3,2)}, b={round(b,2)}\\n\")\n",
    "\n",
    "plt.figure(figsize=(15, 5))\n",
    "\n",
    "plt.subplot(1, 4, 1)\n",
    "plt.plot(loss_history)\n",
    "plt.title(\"Loss Over Time\")\n",
    "plt.xlabel(\"SGD Step\")\n",
    "\n",
    "plt.subplot(1, 4, 2)\n",
    "plt.plot(w1_history, label=\"w1 (sqft)\")\n",
    "plt.plot(w2_history, label=\"w2 (bedrooms)\")\n",
    "plt.plot(w3_history, label=\"w3 (distance)\")\n",
    "plt.title(\"Weights Over Time\")\n",
    "plt.legend()\n",
    "\n",
    "plt.subplot(1, 4, 3)\n",
    "plt.plot(b_history)\n",
    "plt.title(\"Bias Over Time\")\n",
    "plt.xlabel(\"SGD Step\")\n",
    "\n",
    "plt.tight_layout()\n",
    "plt.show()"
   ]
  },
  {
   "cell_type": "code",
   "execution_count": 14,
   "metadata": {},
   "outputs": [
    {
     "data": {
      "application/vnd.plotly.v1+json": {
       "config": {
        "plotlyServerURL": "https://plot.ly"
       },
       "data": [
        {
         "colorscale": [
          [
           0,
           "#440154"
          ],
          [
           0.1111111111111111,
           "#482878"
          ],
          [
           0.2222222222222222,
           "#3e4989"
          ],
          [
           0.3333333333333333,
           "#31688e"
          ],
          [
           0.4444444444444444,
           "#26828e"
          ],
          [
           0.5555555555555556,
           "#1f9e89"
          ],
          [
           0.6666666666666666,
           "#35b779"
          ],
          [
           0.7777777777777778,
           "#6ece58"
          ],
          [
           0.8888888888888888,
           "#b5de2b"
          ],
          [
           1,
           "#fde725"
          ]
         ],
         "opacity": 0.8,
         "type": "surface",
         "x": {
          "bdata": "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",
          "dtype": "f8",
          "shape": "30, 30"
         },
         "y": {
          "bdata": "wnWkTNYn8b/CdaRM1ifxv8J1pEzWJ/G/wnWkTNYn8b/CdaRM1ifxv8J1pEzWJ/G/wnWkTNYn8b/CdaRM1ifxv8J1pEzWJ/G/wnWkTNYn8b/CdaRM1ifxv8J1pEzWJ/G/wnWkTNYn8b/CdaRM1ifxv8J1pEzWJ/G/wnWkTNYn8b/CdaRM1ifxv8J1pEzWJ/G/wnWkTNYn8b/CdaRM1ifxv8J1pEzWJ/G/wnWkTNYn8b/CdaRM1ifxv8J1pEzWJ/G/wnWkTNYn8b/CdaRM1ifxv8J1pEzWJ/G/wnWkTNYn8b/CdaRM1ifxv8J1pEzWJ/G/rAmua5rf1b+sCa5rmt/Vv6wJrmua39W/rAmua5rf1b+sCa5rmt/Vv6wJrmua39W/rAmua5rf1b+sCa5rmt/Vv6wJrmua39W/rAmua5rf1b+sCa5rmt/Vv6wJrmua39W/rAmua5rf1b+sCa5rmt/Vv6wJrmua39W/rAmua5rf1b+sCa5rmt/Vv6wJrmua39W/rAmua5rf1b+sCa5rmt/Vv6wJrmua39W/rAmua5rf1b+sCa5rmt/Vv6wJrmua39W/rAmua5rf1b+sCa5rmt/Vv6wJrmua39W/rAmua5rf1b+sCa5rmt/Vv6wJrmua39W/sMM1WyTg2D+wwzVbJODYP7DDNVsk4Ng/sMM1WyTg2D+wwzVbJODYP7DDNVsk4Ng/sMM1WyTg2D+wwzVbJODYP7DDNVsk4Ng/sMM1WyTg2D+wwzVbJODYP7DDNVsk4Ng/sMM1WyTg2D+wwzVbJODYP7DDNVsk4Ng/sMM1WyTg2D+wwzVbJODYP7DDNVsk4Ng/sMM1WyTg2D+wwzVbJODYP7DDNVsk4Ng/sMM1WyTg2D+wwzVbJODYP7DDNVsk4Ng/sMM1WyTg2D+wwzVbJODYP7DDNVsk4Ng/sMM1WyTg2D+wwzVbJODYP7DDNVsk4Ng/QmSGyPjn8T9CZIbI+OfxP0Jkhsj45/E/QmSGyPjn8T9CZIbI+OfxP0Jkhsj45/E/QmSGyPjn8T9CZIbI+OfxP0Jkhsj45/E/QmSGyPjn8T9CZIbI+OfxP0Jkhsj45/E/QmSGyPjn8T9CZIbI+OfxP0Jkhsj45/E/QmSGyPjn8T9CZIbI+OfxP0Jkhsj45/E/QmSGyPjn8T9CZIbI+OfxP0Jkhsj45/E/QmSGyPjn8T9CZIbI+OfxP0Jkhsj45/E/QmSGyPjn8T9CZIbI+OfxP0Jkhsj45/E/QmSGyPjn8T9CZIbI+OfxP0Jkhsj45/E/mlc/euiX/T+aVz966Jf9P5pXP3rol/0/mlc/euiX/T+aVz966Jf9P5pXP3rol/0/mlc/euiX/T+aVz966Jf9P5pXP3rol/0/mlc/euiX/T+aVz966Jf9P5pXP3rol/0/mlc/euiX/T+aVz966Jf9P5pXP3rol/0/mlc/euiX/T+aVz966Jf9P5pXP3rol/0/mlc/euiX/T+aVz966Jf9P5pXP3rol/0/mlc/euiX/T+aVz966Jf9P5pXP3rol/0/mlc/euiX/T+aVz966Jf9P5pXP3rol/0/mlc/euiX/T+aVz966Jf9P5pXP3rol/0/eSX8FeyjBEB5JfwV7KMEQHkl/BXsowRAeSX8FeyjBEB5JfwV7KMEQHkl/BXsowRAeSX8FeyjBEB5JfwV7KMEQHkl/BXsowRAeSX8FeyjBEB5JfwV7KMEQHkl/BXsowRAeSX8FeyjBEB5JfwV7KMEQHkl/BXsowRAeSX8FeyjBEB5JfwV7KMEQHkl/BXsowRAeSX8FeyjBEB5JfwV7KMEQHkl/BXsowRAeSX8FeyjBEB5JfwV7KMEQHkl/BXsowRAeSX8FeyjBEB5JfwV7KMEQHkl/BXsowRAeSX8FeyjBEB5JfwV7KMEQHkl/BXsowRAI5/Y7uN7CkAjn9ju43sKQCOf2O7jewpAI5/Y7uN7CkAjn9ju43sKQCOf2O7jewpAI5/Y7uN7CkAjn9ju43sKQCOf2O7jewpAI5/Y7uN7CkAjn9ju43sKQCOf2O7jewpAI5/Y7uN7CkAjn9ju43sKQCOf2O7jewpAI5/Y7uN7CkAjn9ju43sKQCOf2O7jewpAI5/Y7uN7CkAjn9ju43sKQCOf2O7jewpAI5/Y7uN7CkAjn9ju43sKQCOf2O7jewpAI5/Y7uN7CkAjn9ju43sKQCOf2O7jewpAI5/Y7uN7CkAjn9ju43sKQCOf2O7jewpAaIza4+0pEEBojNrj7SkQQGiM2uPtKRBAaIza4+0pEEBojNrj7SkQQGiM2uPtKRBAaIza4+0pEEBojNrj7SkQQGiM2uPtKRBAaIza4+0pEEBojNrj7SkQQGiM2uPtKRBAaIza4+0pEEBojNrj7SkQQGiM2uPtKRBAaIza4+0pEEBojNrj7SkQQGiM2uPtKRBAaIza4+0pEEBojNrj7SkQQGiM2uPtKRBAaIza4+0pEEBojNrj7SkQQGiM2uPtKRBAaIza4+0pEEBojNrj7SkQQGiM2uPtKRBAaIza4+0pEEBojNrj7SkQQGiM2uPtKRBAPslI0OkVE0A+yUjQ6RUTQD7JSNDpFRNAPslI0OkVE0A+yUjQ6RUTQD7JSNDpFRNAPslI0OkVE0A+yUjQ6RUTQD7JSNDpFRNAPslI0OkVE0A+yUjQ6RUTQD7JSNDpFRNAPslI0OkVE0A+yUjQ6RUTQD7JSNDpFRNAPslI0OkVE0A+yUjQ6RUTQD7JSNDpFRNAPslI0OkVE0A+yUjQ6RUTQD7JSNDpFRNAPslI0OkVE0A+yUjQ6RUTQD7JSNDpFRNAPslI0OkVE0A+yUjQ6RUTQD7JSNDpFRNAPslI0OkVE0A+yUjQ6RUTQD7JSNDpFRNAFAa3vOUBFkAUBre85QEWQBQGt7zlARZAFAa3vOUBFkAUBre85QEWQBQGt7zlARZAFAa3vOUBFkAUBre85QEWQBQGt7zlARZAFAa3vOUBFkAUBre85QEWQBQGt7zlARZAFAa3vOUBFkAUBre85QEWQBQGt7zlARZAFAa3vOUBFkAUBre85QEWQBQGt7zlARZAFAa3vOUBFkAUBre85QEWQBQGt7zlARZAFAa3vOUBFkAUBre85QEWQBQGt7zlARZAFAa3vOUBFkAUBre85QEWQBQGt7zlARZAFAa3vOUBFkAUBre85QEWQBQGt7zlARZA6kIlqeHtGEDqQiWp4e0YQOpCJanh7RhA6kIlqeHtGEDqQiWp4e0YQOpCJanh7RhA6kIlqeHtGEDqQiWp4e0YQOpCJanh7RhA6kIlqeHtGEDqQiWp4e0YQOpCJanh7RhA6kIlqeHtGEDqQiWp4e0YQOpCJanh7RhA6kIlqeHtGEDqQiWp4e0YQOpCJanh7RhA6kIlqeHtGEDqQiWp4e0YQOpCJanh7RhA6kIlqeHtGEDqQiWp4e0YQOpCJanh7RhA6kIlqeHtGEDqQiWp4e0YQOpCJanh7RhA6kIlqeHtGEDqQiWp4e0YQOpCJanh7RhAwH+Tld3ZG0DAf5OV3dkbQMB/k5Xd2RtAwH+Tld3ZG0DAf5OV3dkbQMB/k5Xd2RtAwH+Tld3ZG0DAf5OV3dkbQMB/k5Xd2RtAwH+Tld3ZG0DAf5OV3dkbQMB/k5Xd2RtAwH+Tld3ZG0DAf5OV3dkbQMB/k5Xd2RtAwH+Tld3ZG0DAf5OV3dkbQMB/k5Xd2RtAwH+Tld3ZG0DAf5OV3dkbQMB/k5Xd2RtAwH+Tld3ZG0DAf5OV3dkbQMB/k5Xd2RtAwH+Tld3ZG0DAf5OV3dkbQMB/k5Xd2RtAwH+Tld3ZG0DAf5OV3dkbQMB/k5Xd2RtAlLwBgtnFHkCUvAGC2cUeQJS8AYLZxR5AlLwBgtnFHkCUvAGC2cUeQJS8AYLZxR5AlLwBgtnFHkCUvAGC2cUeQJS8AYLZxR5AlLwBgtnFHkCUvAGC2cUeQJS8AYLZxR5AlLwBgtnFHkCUvAGC2cUeQJS8AYLZxR5AlLwBgtnFHkCUvAGC2cUeQJS8AYLZxR5AlLwBgtnFHkCUvAGC2cUeQJS8AYLZxR5AlLwBgtnFHkCUvAGC2cUeQJS8AYLZxR5AlLwBgtnFHkCUvAGC2cUeQJS8AYLZxR5AlLwBgtnFHkCUvAGC2cUeQJS8AYLZxR5Atfw3t+rYIEC1/De36tggQLX8N7fq2CBAtfw3t+rYIEC1/De36tggQLX8N7fq2CBAtfw3t+rYIEC1/De36tggQLX8N7fq2CBAtfw3t+rYIEC1/De36tggQLX8N7fq2CBAtfw3t+rYIEC1/De36tggQLX8N7fq2CBAtfw3t+rYIEC1/De36tggQLX8N7fq2CBAtfw3t+rYIEC1/De36tggQLX8N7fq2CBAtfw3t+rYIEC1/De36tggQLX8N7fq2CBAtfw3t+rYIEC1/De36tggQLX8N7fq2CBAtfw3t+rYIEC1/De36tggQLX8N7fq2CBAIBtvrehOIkAgG2+t6E4iQCAbb63oTiJAIBtvrehOIkAgG2+t6E4iQCAbb63oTiJAIBtvrehOIkAgG2+t6E4iQCAbb63oTiJAIBtvrehOIkAgG2+t6E4iQCAbb63oTiJAIBtvrehOIkAgG2+t6E4iQCAbb63oTiJAIBtvrehOIkAgG2+t6E4iQCAbb63oTiJAIBtvrehOIkAgG2+t6E4iQCAbb63oTiJAIBtvrehOIkAgG2+t6E4iQCAbb63oTiJAIBtvrehOIkAgG2+t6E4iQCAbb63oTiJAIBtvrehOIkAgG2+t6E4iQCAbb63oTiJAizmmo+bEI0CLOaaj5sQjQIs5pqPmxCNAizmmo+bEI0CLOaaj5sQjQIs5pqPmxCNAizmmo+bEI0CLOaaj5sQjQIs5pqPmxCNAizmmo+bEI0CLOaaj5sQjQIs5pqPmxCNAizmmo+bEI0CLOaaj5sQjQIs5pqPmxCNAizmmo+bEI0CLOaaj5sQjQIs5pqPmxCNAizmmo+bEI0CLOaaj5sQjQIs5pqPmxCNAizmmo+bEI0CLOaaj5sQjQIs5pqPmxCNAizmmo+bEI0CLOaaj5sQjQIs5pqPmxCNAizmmo+bEI0CLOaaj5sQjQIs5pqPmxCNA9lfdmeQ6JUD2V92Z5DolQPZX3ZnkOiVA9lfdmeQ6JUD2V92Z5DolQPZX3ZnkOiVA9lfdmeQ6JUD2V92Z5DolQPZX3ZnkOiVA9lfdmeQ6JUD2V92Z5DolQPZX3ZnkOiVA9lfdmeQ6JUD2V92Z5DolQPZX3ZnkOiVA9lfdmeQ6JUD2V92Z5DolQPZX3ZnkOiVA9lfdmeQ6JUD2V92Z5DolQPZX3ZnkOiVA9lfdmeQ6JUD2V92Z5DolQPZX3ZnkOiVA9lfdmeQ6JUD2V92Z5DolQPZX3ZnkOiVA9lfdmeQ6JUD2V92Z5DolQPZX3ZnkOiVAYXYUkOKwJkBhdhSQ4rAmQGF2FJDisCZAYXYUkOKwJkBhdhSQ4rAmQGF2FJDisCZAYXYUkOKwJkBhdhSQ4rAmQGF2FJDisCZAYXYUkOKwJkBhdhSQ4rAmQGF2FJDisCZAYXYUkOKwJkBhdhSQ4rAmQGF2FJDisCZAYXYUkOKwJkBhdhSQ4rAmQGF2FJDisCZAYXYUkOKwJkBhdhSQ4rAmQGF2FJDisCZAYXYUkOKwJkBhdhSQ4rAmQGF2FJDisCZAYXYUkOKwJkBhdhSQ4rAmQGF2FJDisCZAYXYUkOKwJkBhdhSQ4rAmQGF2FJDisCZAzJRLhuAmKEDMlEuG4CYoQMyUS4bgJihAzJRLhuAmKEDMlEuG4CYoQMyUS4bgJihAzJRLhuAmKEDMlEuG4CYoQMyUS4bgJihAzJRLhuAmKEDMlEuG4CYoQMyUS4bgJihAzJRLhuAmKEDMlEuG4CYoQMyUS4bgJihAzJRLhuAmKEDMlEuG4CYoQMyUS4bgJihAzJRLhuAmKEDMlEuG4CYoQMyUS4bgJihAzJRLhuAmKEDMlEuG4CYoQMyUS4bgJihAzJRLhuAmKEDMlEuG4CYoQMyUS4bgJihAzJRLhuAmKEDMlEuG4CYoQMyUS4bgJihAN7OCfN6cKUA3s4J83pwpQDezgnzenClAN7OCfN6cKUA3s4J83pwpQDezgnzenClAN7OCfN6cKUA3s4J83pwpQDezgnzenClAN7OCfN6cKUA3s4J83pwpQDezgnzenClAN7OCfN6cKUA3s4J83pwpQDezgnzenClAN7OCfN6cKUA3s4J83pwpQDezgnzenClAN7OCfN6cKUA3s4J83pwpQDezgnzenClAN7OCfN6cKUA3s4J83pwpQDezgnzenClAN7OCfN6cKUA3s4J83pwpQDezgnzenClAN7OCfN6cKUA3s4J83pwpQDezgnzenClAotG5ctwSK0Ci0bly3BIrQKLRuXLcEitAotG5ctwSK0Ci0bly3BIrQKLRuXLcEitAotG5ctwSK0Ci0bly3BIrQKLRuXLcEitAotG5ctwSK0Ci0bly3BIrQKLRuXLcEitAotG5ctwSK0Ci0bly3BIrQKLRuXLcEitAotG5ctwSK0Ci0bly3BIrQKLRuXLcEitAotG5ctwSK0Ci0bly3BIrQKLRuXLcEitAotG5ctwSK0Ci0bly3BIrQKLRuXLcEitAotG5ctwSK0Ci0bly3BIrQKLRuXLcEitAotG5ctwSK0Ci0bly3BIrQKLRuXLcEitADPDwaNqILEAM8PBo2ogsQAzw8GjaiCxADPDwaNqILEAM8PBo2ogsQAzw8GjaiCxADPDwaNqILEAM8PBo2ogsQAzw8GjaiCxADPDwaNqILEAM8PBo2ogsQAzw8GjaiCxADPDwaNqILEAM8PBo2ogsQAzw8GjaiCxADPDwaNqILEAM8PBo2ogsQAzw8GjaiCxADPDwaNqILEAM8PBo2ogsQAzw8GjaiCxADPDwaNqILEAM8PBo2ogsQAzw8GjaiCxADPDwaNqILEAM8PBo2ogsQAzw8GjaiCxADPDwaNqILEAM8PBo2ogsQAzw8GjaiCxAeA4oX9j+LUB4Dihf2P4tQHgOKF/Y/i1AeA4oX9j+LUB4Dihf2P4tQHgOKF/Y/i1AeA4oX9j+LUB4Dihf2P4tQHgOKF/Y/i1AeA4oX9j+LUB4Dihf2P4tQHgOKF/Y/i1AeA4oX9j+LUB4Dihf2P4tQHgOKF/Y/i1AeA4oX9j+LUB4Dihf2P4tQHgOKF/Y/i1AeA4oX9j+LUB4Dihf2P4tQHgOKF/Y/i1AeA4oX9j+LUB4Dihf2P4tQHgOKF/Y/i1AeA4oX9j+LUB4Dihf2P4tQHgOKF/Y/i1AeA4oX9j+LUB4Dihf2P4tQHgOKF/Y/i1A4ixfVdZ0L0DiLF9V1nQvQOIsX1XWdC9A4ixfVdZ0L0DiLF9V1nQvQOIsX1XWdC9A4ixfVdZ0L0DiLF9V1nQvQOIsX1XWdC9A4ixfVdZ0L0DiLF9V1nQvQOIsX1XWdC9A4ixfVdZ0L0DiLF9V1nQvQOIsX1XWdC9A4ixfVdZ0L0DiLF9V1nQvQOIsX1XWdC9A4ixfVdZ0L0DiLF9V1nQvQOIsX1XWdC9A4ixfVdZ0L0DiLF9V1nQvQOIsX1XWdC9A4ixfVdZ0L0DiLF9V1nQvQOIsX1XWdC9A4ixfVdZ0L0DiLF9V1nQvQOIsX1XWdC9ApiXLJWp1MECmJcslanUwQKYlyyVqdTBApiXLJWp1MECmJcslanUwQKYlyyVqdTBApiXLJWp1MECmJcslanUwQKYlyyVqdTBApiXLJWp1MECmJcslanUwQKYlyyVqdTBApiXLJWp1MECmJcslanUwQKYlyyVqdTBApiXLJWp1MECmJcslanUwQKYlyyVqdTBApiXLJWp1MECmJcslanUwQKYlyyVqdTBApiXLJWp1MECmJcslanUwQKYlyyVqdTBApiXLJWp1MECmJcslanUwQKYlyyVqdTBApiXLJWp1MECmJcslanUwQKYlyyVqdTBA3LTmIGkwMUDctOYgaTAxQNy05iBpMDFA3LTmIGkwMUDctOYgaTAxQNy05iBpMDFA3LTmIGkwMUDctOYgaTAxQNy05iBpMDFA3LTmIGkwMUDctOYgaTAxQNy05iBpMDFA3LTmIGkwMUDctOYgaTAxQNy05iBpMDFA3LTmIGkwMUDctOYgaTAxQNy05iBpMDFA3LTmIGkwMUDctOYgaTAxQNy05iBpMDFA3LTmIGkwMUDctOYgaTAxQNy05iBpMDFA3LTmIGkwMUDctOYgaTAxQNy05iBpMDFA3LTmIGkwMUDctOYgaTAxQNy05iBpMDFAEUQCHGjrMUARRAIcaOsxQBFEAhxo6zFAEUQCHGjrMUARRAIcaOsxQBFEAhxo6zFAEUQCHGjrMUARRAIcaOsxQBFEAhxo6zFAEUQCHGjrMUARRAIcaOsxQBFEAhxo6zFAEUQCHGjrMUARRAIcaOsxQBFEAhxo6zFAEUQCHGjrMUARRAIcaOsxQBFEAhxo6zFAEUQCHGjrMUARRAIcaOsxQBFEAhxo6zFAEUQCHGjrMUARRAIcaOsxQBFEAhxo6zFAEUQCHGjrMUARRAIcaOsxQBFEAhxo6zFAEUQCHGjrMUARRAIcaOsxQBFEAhxo6zFAR9MdF2emMkBH0x0XZ6YyQEfTHRdnpjJAR9MdF2emMkBH0x0XZ6YyQEfTHRdnpjJAR9MdF2emMkBH0x0XZ6YyQEfTHRdnpjJAR9MdF2emMkBH0x0XZ6YyQEfTHRdnpjJAR9MdF2emMkBH0x0XZ6YyQEfTHRdnpjJAR9MdF2emMkBH0x0XZ6YyQEfTHRdnpjJAR9MdF2emMkBH0x0XZ6YyQEfTHRdnpjJAR9MdF2emMkBH0x0XZ6YyQEfTHRdnpjJAR9MdF2emMkBH0x0XZ6YyQEfTHRdnpjJAR9MdF2emMkBH0x0XZ6YyQEfTHRdnpjJAfGI5EmZhM0B8YjkSZmEzQHxiORJmYTNAfGI5EmZhM0B8YjkSZmEzQHxiORJmYTNAfGI5EmZhM0B8YjkSZmEzQHxiORJmYTNAfGI5EmZhM0B8YjkSZmEzQHxiORJmYTNAfGI5EmZhM0B8YjkSZmEzQHxiORJmYTNAfGI5EmZhM0B8YjkSZmEzQHxiORJmYTNAfGI5EmZhM0B8YjkSZmEzQHxiORJmYTNAfGI5EmZhM0B8YjkSZmEzQHxiORJmYTNAfGI5EmZhM0B8YjkSZmEzQHxiORJmYTNAfGI5EmZhM0B8YjkSZmEzQHxiORJmYTNAsvFUDWUcNECy8VQNZRw0QLLxVA1lHDRAsvFUDWUcNECy8VQNZRw0QLLxVA1lHDRAsvFUDWUcNECy8VQNZRw0QLLxVA1lHDRAsvFUDWUcNECy8VQNZRw0QLLxVA1lHDRAsvFUDWUcNECy8VQNZRw0QLLxVA1lHDRAsvFUDWUcNECy8VQNZRw0QLLxVA1lHDRAsvFUDWUcNECy8VQNZRw0QLLxVA1lHDRAsvFUDWUcNECy8VQNZRw0QLLxVA1lHDRAsvFUDWUcNECy8VQNZRw0QLLxVA1lHDRAsvFUDWUcNECy8VQNZRw0QLLxVA1lHDRA",
          "dtype": "f8",
          "shape": "30, 30"
         },
         "z": {
          "bdata": "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",
          "dtype": "f8",
          "shape": "30, 30"
         }
        },
        {
         "line": {
          "color": "red",
          "width": 4
         },
         "marker": {
          "color": "red",
          "size": 3
         },
         "mode": "lines+markers",
         "name": "SGD Path",
         "type": "scatter3d",
         "x": [
          -1.3342467940750549,
          -1.7008349678961812,
          2.8467420525630525,
          4.455371233369302,
          2.341278493223588,
          3.925619033456953,
          2.5323806552875876,
          2.1853140004114597,
          6.366590722290498,
          4.322100284502304,
          2.3848531674630093,
          1.0774270523267564,
          2.5808710823630356,
          2.2541644170315793,
          6.26475530612389,
          4.388015620944656,
          4.070974730216951,
          2.8390081117919834,
          4.24449033914143,
          8.032538619154955,
          9.348159998618838,
          8.13525393945235,
          7.834453179960777,
          6.067622056233056,
          9.64649136222248,
          7.890650724498839,
          6.753252958296073,
          6.4682852762970136,
          7.709653761931815,
          11.093630321631622,
          14.327026043731404,
          13.212986923761477,
          12.939455773809863,
          14.046551546212726,
          12.325417607268427,
          10.694565391170288,
          9.660221371818372,
          9.40141311404085,
          12.513196040571707,
          13.567152255224821,
          12.55940121798124,
          15.465883596664858,
          13.869613932595746,
          13.62450431616227,
          14.615431967432572,
          13.65480491135106,
          12.18342190479602,
          13.158831960100366,
          15.890112811898675,
          15.657849796186941,
          14.2009497946514,
          16.846946985305035,
          15.94514725505112,
          16.8241488774585,
          16.602722459760084,
          15.7289733174863,
          16.578036834833693,
          16.362729491851976,
          14.99901282784671,
          17.44360023053287,
          17.234834466403804,
          19.562037640897355,
          20.322959986323173,
          19.498245864224437,
          18.13500038594285,
          18.885762949518817,
          21.051322553678368,
          20.25581403371132,
          20.06129547469956,
          18.755267289838713,
          19.460555575832917,
          21.519090016266972,
          20.761717125845777,
          19.487568576786533,
          19.30492655815137
         ],
         "y": [
          0.008320253582282944,
          -0.5722258561939816,
          2.6285540642476253,
          5.1760541738537995,
          2.555899239481249,
          5.064934726376428,
          4.555766141657068,
          4.006135218702876,
          6.9490972648627505,
          4.4152057249490335,
          2.0142289388220203,
          1.536421038106746,
          3.917345042845086,
          3.3999571478152255,
          6.222783177843933,
          3.896797825698867,
          3.3947171016169717,
          2.944486394974261,
          5.170273525372894,
          7.836464514064769,
          9.919943819534451,
          9.476678925873689,
          9.00031683017284,
          6.8105494660792925,
          9.32951131344542,
          7.153365289413214,
          6.737695422752375,
          6.286407326161355,
          8.252296289851117,
          10.634084256234678,
          12.90988696514485,
          12.50275367702627,
          12.069577005362767,
          13.82282544520971,
          11.68969405640879,
          9.668455631008671,
          9.290447467654497,
          8.880586653911973,
          11.07079305683886,
          12.739887217497573,
          12.371597643062374,
          14.417304707495651,
          12.438927052875059,
          12.050760045723761,
          13.620039237188916,
          13.26897144703026,
          11.445375267086241,
          12.990080070683906,
          14.912472779634626,
          14.544650247852287,
          12.739003950780374,
          14.601370358053185,
          14.271801420283175,
          15.66382933830496,
          15.313168147965433,
          14.993850491244082,
          16.33846703140966,
          15.997496292851984,
          14.30733914958816,
          16.027944702189046,
          15.6973335126455,
          17.335319006501898,
          18.540351080707154,
          18.238953610664137,
          16.54938044348398,
          17.73832301385275,
          19.262536824048624,
          18.971812742950583,
          18.663764091144746,
          17.045104640681416,
          18.162032026627294,
          19.61091693233329,
          19.33412978035484,
          17.75498117228048,
          17.465740763090235
         ],
         "z": [
          20011.8057929726,
          23592.36499034478,
          44821.84043357205,
          28392.686036940187,
          13349.023100227154,
          27541.758450934576,
          18147.68533655814,
          21146.59060272336,
          37891.987022476664,
          12484.512320090038,
          11209.118525734888,
          15981.027299015583,
          24800.996133984245,
          18738.316374640046,
          34861.51723165843,
          10519.848613542736,
          17645.953744621995,
          14189.5382442796,
          21674.31153058581,
          31100.012948295207,
          18991.376321401887,
          13753.863616646115,
          15884.459235435197,
          9323.768822762342,
          27760.11344962703,
          9208.13350704951,
          12094.70066348879,
          14256.26622873215,
          16908.147451812765,
          24818.998386041738,
          22659.34111823761,
          11603.026000597194,
          13134.942021142937,
          13448.22540173762,
          8847.707403670609,
          7943.842612832686,
          10002.31200936772,
          11759.012064917873,
          20986.89288247098,
          12188.204512509425,
          9494.60474463615,
          18309.013596440935,
          7610.513058365144,
          10547.153780855693,
          10774.037665849197,
          8627.401530081725,
          6466.255886818038,
          10439.24406987742,
          16168.222557492662,
          9470.53904207387,
          6339.586069696273,
          15174.28777785479,
          7603.097931999608,
          8477.620044915284,
          8607.42892872341,
          7137.46361258104,
          7909.97217537997,
          8138.273118679695,
          5554.560606244477,
          12952.115170929406,
          7651.263105597939,
          11738.10959161746,
          6352.947561902481,
          6358.830446383217,
          5550.72289188509,
          6184.431905903536,
          10164.121358964241,
          5916.43439312106,
          6642.578031557593,
          5094.558032227706,
          5457.929686457017,
          9184.295181174191,
          5362.778925023834,
          4848.881190189515,
          5856.201001597869
         ]
        }
       ],
       "layout": {
        "height": 600,
        "scene": {
         "xaxis": {
          "title": {
           "text": "Weight w1 (sqft)"
          }
         },
         "yaxis": {
          "title": {
           "text": "Weight w2 (bedrooms)"
          }
         },
         "zaxis": {
          "title": {
           "text": "Loss"
          }
         }
        },
        "template": {
         "data": {
          "bar": [
           {
            "error_x": {
             "color": "#2a3f5f"
            },
            "error_y": {
             "color": "#2a3f5f"
            },
            "marker": {
             "line": {
              "color": "#E5ECF6",
              "width": 0.5
             },
             "pattern": {
              "fillmode": "overlay",
              "size": 10,
              "solidity": 0.2
             }
            },
            "type": "bar"
           }
          ],
          "barpolar": [
           {
            "marker": {
             "line": {
              "color": "#E5ECF6",
              "width": 0.5
             },
             "pattern": {
              "fillmode": "overlay",
              "size": 10,
              "solidity": 0.2
             }
            },
            "type": "barpolar"
           }
          ],
          "carpet": [
           {
            "aaxis": {
             "endlinecolor": "#2a3f5f",
             "gridcolor": "white",
             "linecolor": "white",
             "minorgridcolor": "white",
             "startlinecolor": "#2a3f5f"
            },
            "baxis": {
             "endlinecolor": "#2a3f5f",
             "gridcolor": "white",
             "linecolor": "white",
             "minorgridcolor": "white",
             "startlinecolor": "#2a3f5f"
            },
            "type": "carpet"
           }
          ],
          "choropleth": [
           {
            "colorbar": {
             "outlinewidth": 0,
             "ticks": ""
            },
            "type": "choropleth"
           }
          ],
          "contour": [
           {
            "colorbar": {
             "outlinewidth": 0,
             "ticks": ""
            },
            "colorscale": [
             [
              0,
              "#0d0887"
             ],
             [
              0.1111111111111111,
              "#46039f"
             ],
             [
              0.2222222222222222,
              "#7201a8"
             ],
             [
              0.3333333333333333,
              "#9c179e"
             ],
             [
              0.4444444444444444,
              "#bd3786"
             ],
             [
              0.5555555555555556,
              "#d8576b"
             ],
             [
              0.6666666666666666,
              "#ed7953"
             ],
             [
              0.7777777777777778,
              "#fb9f3a"
             ],
             [
              0.8888888888888888,
              "#fdca26"
             ],
             [
              1,
              "#f0f921"
             ]
            ],
            "type": "contour"
           }
          ],
          "contourcarpet": [
           {
            "colorbar": {
             "outlinewidth": 0,
             "ticks": ""
            },
            "type": "contourcarpet"
           }
          ],
          "heatmap": [
           {
            "colorbar": {
             "outlinewidth": 0,
             "ticks": ""
            },
            "colorscale": [
             [
              0,
              "#0d0887"
             ],
             [
              0.1111111111111111,
              "#46039f"
             ],
             [
              0.2222222222222222,
              "#7201a8"
             ],
             [
              0.3333333333333333,
              "#9c179e"
             ],
             [
              0.4444444444444444,
              "#bd3786"
             ],
             [
              0.5555555555555556,
              "#d8576b"
             ],
             [
              0.6666666666666666,
              "#ed7953"
             ],
             [
              0.7777777777777778,
              "#fb9f3a"
             ],
             [
              0.8888888888888888,
              "#fdca26"
             ],
             [
              1,
              "#f0f921"
             ]
            ],
            "type": "heatmap"
           }
          ],
          "histogram": [
           {
            "marker": {
             "pattern": {
              "fillmode": "overlay",
              "size": 10,
              "solidity": 0.2
             }
            },
            "type": "histogram"
           }
          ],
          "histogram2d": [
           {
            "colorbar": {
             "outlinewidth": 0,
             "ticks": ""
            },
            "colorscale": [
             [
              0,
              "#0d0887"
             ],
             [
              0.1111111111111111,
              "#46039f"
             ],
             [
              0.2222222222222222,
              "#7201a8"
             ],
             [
              0.3333333333333333,
              "#9c179e"
             ],
             [
              0.4444444444444444,
              "#bd3786"
             ],
             [
              0.5555555555555556,
              "#d8576b"
             ],
             [
              0.6666666666666666,
              "#ed7953"
             ],
             [
              0.7777777777777778,
              "#fb9f3a"
             ],
             [
              0.8888888888888888,
              "#fdca26"
             ],
             [
              1,
              "#f0f921"
             ]
            ],
            "type": "histogram2d"
           }
          ],
          "histogram2dcontour": [
           {
            "colorbar": {
             "outlinewidth": 0,
             "ticks": ""
            },
            "colorscale": [
             [
              0,
              "#0d0887"
             ],
             [
              0.1111111111111111,
              "#46039f"
             ],
             [
              0.2222222222222222,
              "#7201a8"
             ],
             [
              0.3333333333333333,
              "#9c179e"
             ],
             [
              0.4444444444444444,
              "#bd3786"
             ],
             [
              0.5555555555555556,
              "#d8576b"
             ],
             [
              0.6666666666666666,
              "#ed7953"
             ],
             [
              0.7777777777777778,
              "#fb9f3a"
             ],
             [
              0.8888888888888888,
              "#fdca26"
             ],
             [
              1,
              "#f0f921"
             ]
            ],
            "type": "histogram2dcontour"
           }
          ],
          "mesh3d": [
           {
            "colorbar": {
             "outlinewidth": 0,
             "ticks": ""
            },
            "type": "mesh3d"
           }
          ],
          "parcoords": [
           {
            "line": {
             "colorbar": {
              "outlinewidth": 0,
              "ticks": ""
             }
            },
            "type": "parcoords"
           }
          ],
          "pie": [
           {
            "automargin": true,
            "type": "pie"
           }
          ],
          "scatter": [
           {
            "fillpattern": {
             "fillmode": "overlay",
             "size": 10,
             "solidity": 0.2
            },
            "type": "scatter"
           }
          ],
          "scatter3d": [
           {
            "line": {
             "colorbar": {
              "outlinewidth": 0,
              "ticks": ""
             }
            },
            "marker": {
             "colorbar": {
              "outlinewidth": 0,
              "ticks": ""
             }
            },
            "type": "scatter3d"
           }
          ],
          "scattercarpet": [
           {
            "marker": {
             "colorbar": {
              "outlinewidth": 0,
              "ticks": ""
             }
            },
            "type": "scattercarpet"
           }
          ],
          "scattergeo": [
           {
            "marker": {
             "colorbar": {
              "outlinewidth": 0,
              "ticks": ""
             }
            },
            "type": "scattergeo"
           }
          ],
          "scattergl": [
           {
            "marker": {
             "colorbar": {
              "outlinewidth": 0,
              "ticks": ""
             }
            },
            "type": "scattergl"
           }
          ],
          "scattermap": [
           {
            "marker": {
             "colorbar": {
              "outlinewidth": 0,
              "ticks": ""
             }
            },
            "type": "scattermap"
           }
          ],
          "scattermapbox": [
           {
            "marker": {
             "colorbar": {
              "outlinewidth": 0,
              "ticks": ""
             }
            },
            "type": "scattermapbox"
           }
          ],
          "scatterpolar": [
           {
            "marker": {
             "colorbar": {
              "outlinewidth": 0,
              "ticks": ""
             }
            },
            "type": "scatterpolar"
           }
          ],
          "scatterpolargl": [
           {
            "marker": {
             "colorbar": {
              "outlinewidth": 0,
              "ticks": ""
             }
            },
            "type": "scatterpolargl"
           }
          ],
          "scatterternary": [
           {
            "marker": {
             "colorbar": {
              "outlinewidth": 0,
              "ticks": ""
             }
            },
            "type": "scatterternary"
           }
          ],
          "surface": [
           {
            "colorbar": {
             "outlinewidth": 0,
             "ticks": ""
            },
            "colorscale": [
             [
              0,
              "#0d0887"
             ],
             [
              0.1111111111111111,
              "#46039f"
             ],
             [
              0.2222222222222222,
              "#7201a8"
             ],
             [
              0.3333333333333333,
              "#9c179e"
             ],
             [
              0.4444444444444444,
              "#bd3786"
             ],
             [
              0.5555555555555556,
              "#d8576b"
             ],
             [
              0.6666666666666666,
              "#ed7953"
             ],
             [
              0.7777777777777778,
              "#fb9f3a"
             ],
             [
              0.8888888888888888,
              "#fdca26"
             ],
             [
              1,
              "#f0f921"
             ]
            ],
            "type": "surface"
           }
          ],
          "table": [
           {
            "cells": {
             "fill": {
              "color": "#EBF0F8"
             },
             "line": {
              "color": "white"
             }
            },
            "header": {
             "fill": {
              "color": "#C8D4E3"
             },
             "line": {
              "color": "white"
             }
            },
            "type": "table"
           }
          ]
         },
         "layout": {
          "annotationdefaults": {
           "arrowcolor": "#2a3f5f",
           "arrowhead": 0,
           "arrowwidth": 1
          },
          "autotypenumbers": "strict",
          "coloraxis": {
           "colorbar": {
            "outlinewidth": 0,
            "ticks": ""
           }
          },
          "colorscale": {
           "diverging": [
            [
             0,
             "#8e0152"
            ],
            [
             0.1,
             "#c51b7d"
            ],
            [
             0.2,
             "#de77ae"
            ],
            [
             0.3,
             "#f1b6da"
            ],
            [
             0.4,
             "#fde0ef"
            ],
            [
             0.5,
             "#f7f7f7"
            ],
            [
             0.6,
             "#e6f5d0"
            ],
            [
             0.7,
             "#b8e186"
            ],
            [
             0.8,
             "#7fbc41"
            ],
            [
             0.9,
             "#4d9221"
            ],
            [
             1,
             "#276419"
            ]
           ],
           "sequential": [
            [
             0,
             "#0d0887"
            ],
            [
             0.1111111111111111,
             "#46039f"
            ],
            [
             0.2222222222222222,
             "#7201a8"
            ],
            [
             0.3333333333333333,
             "#9c179e"
            ],
            [
             0.4444444444444444,
             "#bd3786"
            ],
            [
             0.5555555555555556,
             "#d8576b"
            ],
            [
             0.6666666666666666,
             "#ed7953"
            ],
            [
             0.7777777777777778,
             "#fb9f3a"
            ],
            [
             0.8888888888888888,
             "#fdca26"
            ],
            [
             1,
             "#f0f921"
            ]
           ],
           "sequentialminus": [
            [
             0,
             "#0d0887"
            ],
            [
             0.1111111111111111,
             "#46039f"
            ],
            [
             0.2222222222222222,
             "#7201a8"
            ],
            [
             0.3333333333333333,
             "#9c179e"
            ],
            [
             0.4444444444444444,
             "#bd3786"
            ],
            [
             0.5555555555555556,
             "#d8576b"
            ],
            [
             0.6666666666666666,
             "#ed7953"
            ],
            [
             0.7777777777777778,
             "#fb9f3a"
            ],
            [
             0.8888888888888888,
             "#fdca26"
            ],
            [
             1,
             "#f0f921"
            ]
           ]
          },
          "colorway": [
           "#636efa",
           "#EF553B",
           "#00cc96",
           "#ab63fa",
           "#FFA15A",
           "#19d3f3",
           "#FF6692",
           "#B6E880",
           "#FF97FF",
           "#FECB52"
          ],
          "font": {
           "color": "#2a3f5f"
          },
          "geo": {
           "bgcolor": "white",
           "lakecolor": "white",
           "landcolor": "#E5ECF6",
           "showlakes": true,
           "showland": true,
           "subunitcolor": "white"
          },
          "hoverlabel": {
           "align": "left"
          },
          "hovermode": "closest",
          "mapbox": {
           "style": "light"
          },
          "paper_bgcolor": "white",
          "plot_bgcolor": "#E5ECF6",
          "polar": {
           "angularaxis": {
            "gridcolor": "white",
            "linecolor": "white",
            "ticks": ""
           },
           "bgcolor": "#E5ECF6",
           "radialaxis": {
            "gridcolor": "white",
            "linecolor": "white",
            "ticks": ""
           }
          },
          "scene": {
           "xaxis": {
            "backgroundcolor": "#E5ECF6",
            "gridcolor": "white",
            "gridwidth": 2,
            "linecolor": "white",
            "showbackground": true,
            "ticks": "",
            "zerolinecolor": "white"
           },
           "yaxis": {
            "backgroundcolor": "#E5ECF6",
            "gridcolor": "white",
            "gridwidth": 2,
            "linecolor": "white",
            "showbackground": true,
            "ticks": "",
            "zerolinecolor": "white"
           },
           "zaxis": {
            "backgroundcolor": "#E5ECF6",
            "gridcolor": "white",
            "gridwidth": 2,
            "linecolor": "white",
            "showbackground": true,
            "ticks": "",
            "zerolinecolor": "white"
           }
          },
          "shapedefaults": {
           "line": {
            "color": "#2a3f5f"
           }
          },
          "ternary": {
           "aaxis": {
            "gridcolor": "white",
            "linecolor": "white",
            "ticks": ""
           },
           "baxis": {
            "gridcolor": "white",
            "linecolor": "white",
            "ticks": ""
           },
           "bgcolor": "#E5ECF6",
           "caxis": {
            "gridcolor": "white",
            "linecolor": "white",
            "ticks": ""
           }
          },
          "title": {
           "x": 0.05
          },
          "xaxis": {
           "automargin": true,
           "gridcolor": "white",
           "linecolor": "white",
           "ticks": "",
           "title": {
            "standoff": 15
           },
           "zerolinecolor": "white",
           "zerolinewidth": 2
          },
          "yaxis": {
           "automargin": true,
           "gridcolor": "white",
           "linecolor": "white",
           "ticks": "",
           "title": {
            "standoff": 15
           },
           "zerolinecolor": "white",
           "zerolinewidth": 2
          }
         }
        },
        "title": {
         "text": "SGD Descent on Loss Surface (w1 vs w2)"
        },
        "width": 800
       }
      }
     },
     "metadata": {},
     "output_type": "display_data"
    }
   ],
   "source": [
    "import numpy as np\n",
    "import plotly.graph_objs as go\n",
    "from sklearn.preprocessing import StandardScaler\n",
    "\n",
    "# --- Simulated House Price Data ---\n",
    "X = np.array([\n",
    "    [1000, 3, 5],\n",
    "    [1500, 4, 3],\n",
    "    [800, 2, 10],\n",
    "    [1200, 3, 7],\n",
    "    [1800, 4, 2]\n",
    "])\n",
    "y = np.array([200000, 250000, 160000, 220000, 300000]) / 1000  # normalize\n",
    "\n",
    "# --- Normalize Features ---\n",
    "scaler = StandardScaler()\n",
    "X_scaled = scaler.fit_transform(X)\n",
    "\n",
    "# --- Initial Weights (SGD starts here) ---\n",
    "w1, w2, w3 = np.random.uniform(0, 1, 3)\n",
    "b = np.random.uniform(0, 1)\n",
    "\n",
    "learning_rate = 0.01\n",
    "epochs = 15\n",
    "\n",
    "w1_path = []\n",
    "w2_path = []\n",
    "loss_path = []\n",
    "\n",
    "# --- SGD Loop (w3 fixed to simplify visualization) ---\n",
    "for epoch in range(epochs):\n",
    "    indices = np.random.permutation(len(X_scaled))\n",
    "    for i in indices:\n",
    "        x1, x2, x3 = X_scaled[i]\n",
    "        y_true = y[i]\n",
    "        y_pred = w1 * x1 + w2 * x2 + w3 * x3 + b\n",
    "        loss = 0.5 * (y_pred - y_true) ** 2\n",
    "\n",
    "        # Gradients\n",
    "        dl_dw1 = (y_pred - y_true) * x1\n",
    "        dl_dw2 = (y_pred - y_true) * x2\n",
    "        dl_db = (y_pred - y_true)\n",
    "\n",
    "        # Update weights\n",
    "        w1 -= learning_rate * dl_dw1\n",
    "        w2 -= learning_rate * dl_dw2\n",
    "        b  -= learning_rate * dl_db\n",
    "\n",
    "        # Track path\n",
    "        w1_path.append(w1)\n",
    "        w2_path.append(w2)\n",
    "        loss_path.append(loss)\n",
    "\n",
    "# --- Loss Surface ---\n",
    "W1, W2 = np.meshgrid(np.linspace(min(w1_path)-0.5, max(w1_path)+0.5, 30),\n",
    "                     np.linspace(min(w2_path)-0.5, max(w2_path)+0.5, 30))\n",
    "Z = np.zeros_like(W1)\n",
    "\n",
    "for i in range(W1.shape[0]):\n",
    "    for j in range(W1.shape[1]):\n",
    "        total_loss = 0\n",
    "        for k in range(len(X_scaled)):\n",
    "            x1, x2, x3 = X_scaled[k]\n",
    "            y_true = y[k]\n",
    "            y_pred = W1[i, j]*x1 + W2[i, j]*x2 + w3*x3 + b\n",
    "            total_loss += 0.5 * (y_pred - y_true)**2\n",
    "        Z[i, j] = total_loss / len(X_scaled)\n",
    "\n",
    "# --- Plotly 3D Visualization ---\n",
    "surface = go.Surface(x=W1, y=W2, z=Z, colorscale='Viridis', opacity=0.8)\n",
    "\n",
    "path = go.Scatter3d(\n",
    "    x=w1_path,\n",
    "    y=w2_path,\n",
    "    z=loss_path,\n",
    "    mode='lines+markers',\n",
    "    line=dict(color='red', width=4),\n",
    "    marker=dict(size=3, color='red'),\n",
    "    name='SGD Path'\n",
    ")\n",
    "\n",
    "fig = go.Figure(data=[surface, path])\n",
    "fig.update_layout(\n",
    "    title='SGD Descent on Loss Surface (w1 vs w2)',\n",
    "    scene=dict(\n",
    "        xaxis_title='Weight w1 (sqft)',\n",
    "        yaxis_title='Weight w2 (bedrooms)',\n",
    "        zaxis_title='Loss'\n",
    "    ),\n",
    "    width=800,\n",
    "    height=600\n",
    ")\n",
    "\n",
    "fig.show()"
   ]
  }
 ],
 "metadata": {
  "kernelspec": {
   "display_name": "myenv312",
   "language": "python",
   "name": "python3"
  },
  "language_info": {
   "codemirror_mode": {
    "name": "ipython",
    "version": 3
   },
   "file_extension": ".py",
   "mimetype": "text/x-python",
   "name": "python",
   "nbconvert_exporter": "python",
   "pygments_lexer": "ipython3",
   "version": "3.12.0"
  }
 },
 "nbformat": 4,
 "nbformat_minor": 2
}
