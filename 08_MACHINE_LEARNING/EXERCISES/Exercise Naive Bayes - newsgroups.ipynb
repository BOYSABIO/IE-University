{
 "cells": [
  {
   "cell_type": "markdown",
   "id": "c383df99",
   "metadata": {},
   "source": [
    "## Naive Bayes on newsgroups"
   ]
  },
  {
   "cell_type": "code",
   "execution_count": null,
   "id": "8fb643f0",
   "metadata": {},
   "outputs": [],
   "source": [
    "from sklearn.datasets import fetch_20newsgroups\n",
    "\n",
    "data = fetch_20newsgroups()\n",
    "data.target_names"
   ]
  },
  {
   "cell_type": "markdown",
   "id": "ce6a3145",
   "metadata": {},
   "source": [
    "Set up the categories and split the data"
   ]
  },
  {
   "cell_type": "code",
   "execution_count": null,
   "id": "efbc4825",
   "metadata": {},
   "outputs": [],
   "source": [
    "categories = ['talk.religion.misc', 'soc.religion.christian',\n",
    "              'sci.space', 'comp.graphics', 'rec.autos']\n",
    "\n",
    "train = fetch_20newsgroups(subset='train', categories=categories)\n",
    "test = fetch_20newsgroups(subset='test', categories=categories)\n",
    "\n",
    "print (\"Elements in training set: \", str(len(train.data)))\n",
    "print (\"Elements in testing set: \", str(len(test.data)))"
   ]
  },
  {
   "cell_type": "markdown",
   "id": "97964fb6",
   "metadata": {},
   "source": [
    "Make predictions with new sentences. Result should be a category.<BR>\n",
    "You can enter here whatever sentence you want"
   ]
  },
  {
   "cell_type": "code",
   "execution_count": null,
   "id": "c3bf9f5d",
   "metadata": {},
   "outputs": [],
   "source": [
    "def predict_category(s, vectorizer, model):\n",
    "    s_vectorized = vectorizer.transform([s])  \n",
    "    pred = model.predict(s_vectorized)\n",
    "    return pred[0]"
   ]
  },
  {
   "cell_type": "code",
   "execution_count": null,
   "id": "1390b6c0",
   "metadata": {},
   "outputs": [],
   "source": [
    "predicted_class = predict_category(\"sending a payload to the ISS\", vectorizer, naive_bayes)\n",
    "print(f\"The predicted class is: {categories[predicted_class]}\")"
   ]
  },
  {
   "cell_type": "code",
   "execution_count": null,
   "id": "c37b55c1",
   "metadata": {},
   "outputs": [],
   "source": [
    "predicted_class = predict_category(\"discussing islam vs atheism\", vectorizer, naive_bayes)\n",
    "print(f\"The predicted class is: {categories[predicted_class]}\")"
   ]
  },
  {
   "cell_type": "code",
   "execution_count": null,
   "id": "a87dc35c",
   "metadata": {},
   "outputs": [],
   "source": [
    "predicted_class = predict_category(\"searching for the origin of the cosmos\", vectorizer, naive_bayes)\n",
    "print(f\"The predicted class is: {categories[predicted_class]}\")"
   ]
  }
 ],
 "metadata": {
  "kernelspec": {
   "display_name": "Python 3 (ipykernel)",
   "language": "python",
   "name": "python3"
  },
  "language_info": {
   "codemirror_mode": {
    "name": "ipython",
    "version": 3
   },
   "file_extension": ".py",
   "mimetype": "text/x-python",
   "name": "python",
   "nbconvert_exporter": "python",
   "pygments_lexer": "ipython3",
   "version": "3.12.1"
  }
 },
 "nbformat": 4,
 "nbformat_minor": 5
}
