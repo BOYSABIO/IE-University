{
  "nbformat": 4,
  "nbformat_minor": 0,
  "metadata": {
    "colab": {
      "provenance": []
    },
    "kernelspec": {
      "name": "python3",
      "display_name": "Python 3"
    },
    "accelerator": "GPU"
  },
  "cells": [
    {
      "cell_type": "markdown",
      "source": [
        "Lab 1 - Running Spark on Google Collab\n",
        "Author: Caio Moreno"
      ],
      "metadata": {
        "id": "8bSJ5PLbe6VT"
      }
    },
    {
      "cell_type": "code",
      "source": [
        "print(\"Hello World\")"
      ],
      "metadata": {
        "id": "9unhjhnye6A-",
        "colab": {
          "base_uri": "https://localhost:8080/"
        },
        "outputId": "69b21535-2b98-407f-b3d8-6274067d1ceb"
      },
      "execution_count": 2,
      "outputs": [
        {
          "output_type": "stream",
          "name": "stdout",
          "text": [
            "Hello World\n"
          ]
        }
      ]
    },
    {
      "cell_type": "markdown",
      "source": [
        "# Install Java, Spark, and Findspark\n",
        "This installs Apache Spark 3.5.0, Java 11, and [Findspark](https://github.com/minrk/findspark), a library that makes it easy for Python to find Spark."
      ],
      "metadata": {
        "id": "B6_72ZLaHFpj"
      }
    },
    {
      "cell_type": "code",
      "source": [
        "# Download Java Virtual Machine (JVM)\n",
        "!apt-get install openjdk-11-jdk-headless -qq > /dev/null"
      ],
      "metadata": {
        "id": "MILr577DeJQF"
      },
      "execution_count": 3,
      "outputs": []
    },
    {
      "cell_type": "code",
      "source": [
        "# Download Spark 3.5.0 from https://apache.osuosl.org/spark/spark-3.5.4/spark-3.5.4-bin-hadoop3.tgz\n",
        "!wget -q https://apache.osuosl.org/spark/spark-3.5.4/spark-3.5.4-bin-hadoop3.tgz"
      ],
      "metadata": {
        "id": "KIezSJRve5fp"
      },
      "execution_count": 4,
      "outputs": []
    },
    {
      "cell_type": "code",
      "source": [
        "ls -lh"
      ],
      "metadata": {
        "id": "uWIBwIwhTE2U",
        "outputId": "ed38b046-0d07-415c-a1b5-82b36a7985b0",
        "colab": {
          "base_uri": "https://localhost:8080/"
        }
      },
      "execution_count": 5,
      "outputs": [
        {
          "output_type": "stream",
          "name": "stdout",
          "text": [
            "total 383M\n",
            "drwxr-xr-x 1 root root 4.0K Jan 22 14:23 \u001b[0m\u001b[01;34msample_data\u001b[0m/\n",
            "-rw-r--r-- 1 root root 383M Dec 17 05:16 spark-3.5.4-bin-hadoop3.tgz\n"
          ]
        }
      ]
    },
    {
      "cell_type": "code",
      "source": [
        "# Download PySpark\n",
        "!wget -q https://apache.osuosl.org/spark/spark-3.5.4/pyspark-3.5.4.tar.gz"
      ],
      "metadata": {
        "id": "mnCY60dw-4LH"
      },
      "execution_count": 6,
      "outputs": []
    },
    {
      "cell_type": "code",
      "source": [
        "ls -lh"
      ],
      "metadata": {
        "id": "NvQ0yr-WTmax",
        "outputId": "d770f1b8-31b4-4fc8-fdd6-7f6d85f464e5",
        "colab": {
          "base_uri": "https://localhost:8080/"
        }
      },
      "execution_count": 7,
      "outputs": [
        {
          "output_type": "stream",
          "name": "stdout",
          "text": [
            "total 685M\n",
            "-rw-r--r-- 1 root root 303M Dec 17 05:16 pyspark-3.5.4.tar.gz\n",
            "drwxr-xr-x 1 root root 4.0K Jan 22 14:23 \u001b[0m\u001b[01;34msample_data\u001b[0m/\n",
            "-rw-r--r-- 1 root root 383M Dec 17 05:16 spark-3.5.4-bin-hadoop3.tgz\n"
          ]
        }
      ]
    },
    {
      "cell_type": "code",
      "source": [
        "ls -lh ../"
      ],
      "metadata": {
        "id": "HXTU9f24Skle",
        "outputId": "26fff169-eac4-4485-b6af-bbf5214693fe",
        "colab": {
          "base_uri": "https://localhost:8080/"
        }
      },
      "execution_count": 8,
      "outputs": [
        {
          "output_type": "stream",
          "name": "stdout",
          "text": [
            "total 448K\n",
            "lrwxrwxrwx   1 root root    7 Oct  4  2023 \u001b[0m\u001b[01;36mbin\u001b[0m -> \u001b[01;34musr/bin\u001b[0m/\n",
            "drwxr-xr-x   2 root root 4.0K Apr 18  2022 \u001b[01;34mboot\u001b[0m/\n",
            "drwxr-xr-x   1 root root 4.0K Jan 24 17:18 \u001b[01;34mcontent\u001b[0m/\n",
            "-rw-r--r--   1 root root 4.3K Nov 10  2023 cuda-keyring_1.0-1_all.deb\n",
            "drwxr-xr-x   1 root root 4.0K Jan 22 14:33 \u001b[01;34mdatalab\u001b[0m/\n",
            "drwxr-xr-x   6 root root  460 Jan 24 17:15 \u001b[01;34mdev\u001b[0m/\n",
            "drwxr-xr-x   1 root root 4.0K Jan 24 17:15 \u001b[01;34metc\u001b[0m/\n",
            "drwxr-xr-x   2 root root 4.0K Apr 18  2022 \u001b[01;34mhome\u001b[0m/\n",
            "drwxr-xr-x   3 root root 4.0K Jan 24 17:15 \u001b[01;34mkaggle\u001b[0m/\n",
            "lrwxrwxrwx   1 root root    7 Oct  4  2023 \u001b[01;36mlib\u001b[0m -> \u001b[01;34musr/lib\u001b[0m/\n",
            "lrwxrwxrwx   1 root root    9 Oct  4  2023 \u001b[01;36mlib32\u001b[0m -> \u001b[01;34musr/lib32\u001b[0m/\n",
            "lrwxrwxrwx   1 root root    9 Oct  4  2023 \u001b[01;36mlib64\u001b[0m -> \u001b[01;34musr/lib64\u001b[0m/\n",
            "lrwxrwxrwx   1 root root   10 Oct  4  2023 \u001b[01;36mlibx32\u001b[0m -> \u001b[01;34musr/libx32\u001b[0m/\n",
            "drwxr-xr-x   2 root root 4.0K Oct  4  2023 \u001b[01;34mmedia\u001b[0m/\n",
            "drwxr-xr-x   2 root root 4.0K Oct  4  2023 \u001b[01;34mmnt\u001b[0m/\n",
            "-rw-r--r--   1 root root  17K Nov 10  2023 NGC-DL-CONTAINER-LICENSE\n",
            "drwxr-xr-x   1 root root 4.0K Jan 24 17:15 \u001b[01;34mopt\u001b[0m/\n",
            "dr-xr-xr-x 223 root root    0 Jan 24 17:15 \u001b[01;34mproc\u001b[0m/\n",
            "drwxrwxr-x  14 root root 4.0K Jan 22 14:21 \u001b[01;34mpython-apt\u001b[0m/\n",
            "-r-xr-xr-x   1 root root 338K Jan  1  2000 \u001b[01;32mpython-apt.tar.xz\u001b[0m*\n",
            "drwx------   1 root root 4.0K Jan 24 17:15 \u001b[01;34mroot\u001b[0m/\n",
            "drwxr-xr-x   1 root root 4.0K Jan 22 14:14 \u001b[01;34mrun\u001b[0m/\n",
            "lrwxrwxrwx   1 root root    8 Oct  4  2023 \u001b[01;36msbin\u001b[0m -> \u001b[01;34musr/sbin\u001b[0m/\n",
            "drwxr-xr-x   2 root root 4.0K Oct  4  2023 \u001b[01;34msrv\u001b[0m/\n",
            "dr-xr-xr-x  13 root root    0 Jan 24 17:15 \u001b[01;34msys\u001b[0m/\n",
            "drwxrwxrwt   1 root root 4.0K Jan 24 17:17 \u001b[30;42mtmp\u001b[0m/\n",
            "drwxr-xr-x   1 root root 4.0K Jan 22 14:33 \u001b[01;34mtools\u001b[0m/\n",
            "drwxr-xr-x   1 root root 4.0K Jan 24 17:15 \u001b[01;34musr\u001b[0m/\n",
            "drwxr-xr-x   1 root root 4.0K Jan 22 14:33 \u001b[01;34mvar\u001b[0m/\n"
          ]
        }
      ]
    },
    {
      "cell_type": "code",
      "source": [
        "# unzip it\n",
        "!tar xf spark-3.5.4-bin-hadoop3.tgz\n",
        "# install findspark\n",
        "!pip install -q findspark"
      ],
      "metadata": {
        "id": "vA4rcotnGjIw"
      },
      "execution_count": 9,
      "outputs": []
    },
    {
      "cell_type": "code",
      "source": [
        "# unzip it\n",
        "!tar xf pyspark-3.5.4.tar.gz"
      ],
      "metadata": {
        "id": "eG4kwZqs_AmF"
      },
      "execution_count": 10,
      "outputs": []
    },
    {
      "cell_type": "code",
      "source": [
        "!pwd"
      ],
      "metadata": {
        "colab": {
          "base_uri": "https://localhost:8080/"
        },
        "id": "Rrylq19fAvQS",
        "outputId": "bf903bba-e045-4565-af68-58212b9fac0d"
      },
      "execution_count": 11,
      "outputs": [
        {
          "output_type": "stream",
          "name": "stdout",
          "text": [
            "/content\n"
          ]
        }
      ]
    },
    {
      "cell_type": "code",
      "source": [
        "cd /content/spark-3.5.4-bin-hadoop3/"
      ],
      "metadata": {
        "colab": {
          "base_uri": "https://localhost:8080/"
        },
        "id": "NUBJCp26AyXd",
        "outputId": "d74be0ff-e357-4652-9175-1a1029a5984d"
      },
      "execution_count": 12,
      "outputs": [
        {
          "output_type": "stream",
          "name": "stdout",
          "text": [
            "/content/spark-3.5.4-bin-hadoop3\n"
          ]
        }
      ]
    },
    {
      "cell_type": "code",
      "source": [
        "ls -lh"
      ],
      "metadata": {
        "colab": {
          "base_uri": "https://localhost:8080/"
        },
        "id": "tnO4rqj2frxa",
        "outputId": "a6dba5e6-5497-4eaf-e3d5-2f5d65b8dc19"
      },
      "execution_count": 13,
      "outputs": [
        {
          "output_type": "stream",
          "name": "stdout",
          "text": [
            "total 156K\n",
            "drwxr-xr-x 2 1000 1000 4.0K Dec 17 05:13 \u001b[0m\u001b[01;34mbin\u001b[0m/\n",
            "drwxr-xr-x 2 1000 1000 4.0K Dec 17 05:13 \u001b[01;34mconf\u001b[0m/\n",
            "drwxr-xr-x 6 1000 1000 4.0K Dec 17 05:13 \u001b[01;34mdata\u001b[0m/\n",
            "drwxr-xr-x 4 1000 1000 4.0K Dec 17 05:13 \u001b[01;34mexamples\u001b[0m/\n",
            "drwxr-xr-x 2 1000 1000  20K Dec 17 05:13 \u001b[01;34mjars\u001b[0m/\n",
            "drwxr-xr-x 4 1000 1000 4.0K Dec 17 05:13 \u001b[01;34mkubernetes\u001b[0m/\n",
            "-rw-r--r-- 1 1000 1000  23K Dec 17 05:13 LICENSE\n",
            "drwxr-xr-x 2 1000 1000 4.0K Dec 17 05:13 \u001b[01;34mlicenses\u001b[0m/\n",
            "-rw-r--r-- 1 1000 1000  57K Dec 17 05:13 NOTICE\n",
            "drwxr-xr-x 9 1000 1000 4.0K Dec 17 05:13 \u001b[01;34mpython\u001b[0m/\n",
            "drwxr-xr-x 3 1000 1000 4.0K Dec 17 05:13 \u001b[01;34mR\u001b[0m/\n",
            "-rw-r--r-- 1 1000 1000 4.5K Dec 17 05:13 README.md\n",
            "-rw-r--r-- 1 1000 1000  166 Dec 17 05:13 RELEASE\n",
            "drwxr-xr-x 2 1000 1000 4.0K Dec 17 05:13 \u001b[01;34msbin\u001b[0m/\n",
            "drwxr-xr-x 2 1000 1000 4.0K Dec 17 05:13 \u001b[01;34myarn\u001b[0m/\n"
          ]
        }
      ]
    },
    {
      "cell_type": "code",
      "source": [
        "cd /content"
      ],
      "metadata": {
        "colab": {
          "base_uri": "https://localhost:8080/"
        },
        "id": "3RvjouvmG1Jd",
        "outputId": "796324b0-a62a-4c0d-b10a-dc6e93234f9f"
      },
      "execution_count": 14,
      "outputs": [
        {
          "output_type": "stream",
          "name": "stdout",
          "text": [
            "/content\n"
          ]
        }
      ]
    },
    {
      "cell_type": "code",
      "source": [
        "ls -lh"
      ],
      "metadata": {
        "colab": {
          "base_uri": "https://localhost:8080/"
        },
        "id": "ieVfcC7IG6Oh",
        "outputId": "54f686d1-3753-46bd-b634-65c2347176c8"
      },
      "execution_count": 15,
      "outputs": [
        {
          "output_type": "stream",
          "name": "stdout",
          "text": [
            "total 685M\n",
            "drwxr-xr-x  6 1000 1000 4.0K Dec 17 05:07 \u001b[0m\u001b[01;34mpyspark-3.5.4\u001b[0m/\n",
            "-rw-r--r--  1 root root 303M Dec 17 05:16 pyspark-3.5.4.tar.gz\n",
            "drwxr-xr-x  1 root root 4.0K Jan 22 14:23 \u001b[01;34msample_data\u001b[0m/\n",
            "drwxr-xr-x 13 1000 1000 4.0K Dec 17 05:13 \u001b[01;34mspark-3.5.4-bin-hadoop3\u001b[0m/\n",
            "-rw-r--r--  1 root root 383M Dec 17 05:16 spark-3.5.4-bin-hadoop3.tgz\n"
          ]
        }
      ]
    },
    {
      "metadata": {
        "id": "b4Kjvk_h1AHl"
      },
      "cell_type": "markdown",
      "source": [
        "# Set Environment Variables\n",
        "Set the locations where Spark and Java are installed."
      ]
    },
    {
      "metadata": {
        "id": "8Xnb_ePUyQIL"
      },
      "cell_type": "code",
      "source": [
        "import os\n",
        "os.environ[\"JAVA_HOME\"] = \"/usr/lib/jvm/java-11-openjdk-amd64\"\n",
        "os.environ[\"SPARK_HOME\"] = \"/content/spark-3.5.4-bin-hadoop3\"\n"
      ],
      "execution_count": 16,
      "outputs": []
    },
    {
      "cell_type": "code",
      "source": [
        "ls -lh /usr/lib/jvm/"
      ],
      "metadata": {
        "colab": {
          "base_uri": "https://localhost:8080/"
        },
        "id": "ejGITMlrBFQq",
        "outputId": "d29594de-fabf-4121-bb68-deee6e0fd04c"
      },
      "execution_count": 17,
      "outputs": [
        {
          "output_type": "stream",
          "name": "stdout",
          "text": [
            "total 4.0K\n",
            "lrwxrwxrwx 1 root root   21 Oct 17 17:21 \u001b[0m\u001b[01;36mjava-1.11.0-openjdk-amd64\u001b[0m -> \u001b[01;34mjava-11-openjdk-amd64\u001b[0m/\n",
            "drwxr-xr-x 9 root root 4.0K Jan 22 14:19 \u001b[01;34mjava-11-openjdk-amd64\u001b[0m/\n"
          ]
        }
      ]
    },
    {
      "metadata": {
        "id": "NwU28K5f1H3P"
      },
      "cell_type": "markdown",
      "source": [
        "# Start a SparkSession\n",
        "This will start a local Spark session."
      ]
    },
    {
      "cell_type": "code",
      "source": [
        "!export PYSPARK_SUBMIT_ARGS=\"--master local[2] pyspark-shell\""
      ],
      "metadata": {
        "id": "dNEWtczg_mqn"
      },
      "execution_count": 18,
      "outputs": []
    },
    {
      "cell_type": "code",
      "source": [
        "import findspark"
      ],
      "metadata": {
        "id": "d759K_Eo_QlE"
      },
      "execution_count": 19,
      "outputs": []
    },
    {
      "metadata": {
        "id": "zgReRGl0y23D"
      },
      "cell_type": "code",
      "source": [
        "import findspark\n",
        "findspark.init()\n",
        "from pyspark.sql import SparkSession\n",
        "\n",
        "#spark = SparkSession.builder.master(\"local[*]\").getOrCreate()\n",
        "\n",
        "spark = SparkSession.builder.master(\"local[*]\").getOrCreate()"
      ],
      "execution_count": 20,
      "outputs": []
    },
    {
      "cell_type": "code",
      "source": [
        "import pyspark"
      ],
      "metadata": {
        "id": "Jd9HA8Y7u6kc"
      },
      "execution_count": 21,
      "outputs": []
    },
    {
      "metadata": {
        "id": "T3ULPx4Y1LiR"
      },
      "cell_type": "markdown",
      "source": [
        "# Use Spark!\n",
        "That's all there is to it - you're ready to use Spark!"
      ]
    },
    {
      "metadata": {
        "id": "XJp8ZI-VzYEz",
        "colab": {
          "base_uri": "https://localhost:8080/"
        },
        "outputId": "bfb71fd7-2d81-4257-eecc-5214f0e7d4f2"
      },
      "cell_type": "code",
      "source": [
        "df = spark.createDataFrame([{\"hello\": \"world\"} for x in range(1000)])\n",
        "df.show(3)"
      ],
      "execution_count": 22,
      "outputs": [
        {
          "output_type": "stream",
          "name": "stdout",
          "text": [
            "+-----+\n",
            "|hello|\n",
            "+-----+\n",
            "|world|\n",
            "|world|\n",
            "|world|\n",
            "+-----+\n",
            "only showing top 3 rows\n",
            "\n"
          ]
        }
      ]
    },
    {
      "cell_type": "code",
      "source": [
        "display(df)"
      ],
      "metadata": {
        "colab": {
          "base_uri": "https://localhost:8080/",
          "height": 34
        },
        "id": "Pu0u2G4tHnzf",
        "outputId": "3e196f16-d452-48ae-d9eb-bb7f3327f44c"
      },
      "execution_count": 23,
      "outputs": [
        {
          "output_type": "display_data",
          "data": {
            "text/plain": [
              "DataFrame[hello: string]"
            ]
          },
          "metadata": {}
        }
      ]
    },
    {
      "cell_type": "code",
      "source": [
        "cd /content/"
      ],
      "metadata": {
        "colab": {
          "base_uri": "https://localhost:8080/"
        },
        "id": "pgDtXt11H0Ut",
        "outputId": "37ba2c01-469c-49dd-e3b3-d6d02abf4612"
      },
      "execution_count": 24,
      "outputs": [
        {
          "output_type": "stream",
          "name": "stdout",
          "text": [
            "/content\n"
          ]
        }
      ]
    },
    {
      "cell_type": "code",
      "source": [
        "!wget https://raw.githubusercontent.com/apache/spark/master/examples/src/main/resources/people.json"
      ],
      "metadata": {
        "colab": {
          "base_uri": "https://localhost:8080/"
        },
        "id": "TDoMxvjNCDjG",
        "outputId": "a98faa6d-0045-432c-ef06-6e6d8b29dcc0"
      },
      "execution_count": 25,
      "outputs": [
        {
          "output_type": "stream",
          "name": "stdout",
          "text": [
            "--2025-01-24 17:20:56--  https://raw.githubusercontent.com/apache/spark/master/examples/src/main/resources/people.json\n",
            "Resolving raw.githubusercontent.com (raw.githubusercontent.com)... 185.199.108.133, 185.199.110.133, 185.199.111.133, ...\n",
            "Connecting to raw.githubusercontent.com (raw.githubusercontent.com)|185.199.108.133|:443... connected.\n",
            "HTTP request sent, awaiting response... 200 OK\n",
            "Length: 73 [text/plain]\n",
            "Saving to: ‘people.json’\n",
            "\n",
            "people.json         100%[===================>]      73  --.-KB/s    in 0s      \n",
            "\n",
            "2025-01-24 17:20:57 (1.33 MB/s) - ‘people.json’ saved [73/73]\n",
            "\n"
          ]
        }
      ]
    },
    {
      "cell_type": "code",
      "source": [
        "#rm -rf people.json.1"
      ],
      "metadata": {
        "id": "2PDSinE6H6xX"
      },
      "execution_count": 26,
      "outputs": []
    },
    {
      "cell_type": "code",
      "source": [
        "ls -lh"
      ],
      "metadata": {
        "colab": {
          "base_uri": "https://localhost:8080/"
        },
        "id": "M21i-B6nBr__",
        "outputId": "3fd0226f-51ca-4c23-e830-9a5d29a02ce0"
      },
      "execution_count": 27,
      "outputs": [
        {
          "output_type": "stream",
          "name": "stdout",
          "text": [
            "total 685M\n",
            "-rw-r--r--  1 root root   73 Jan 24 17:20 people.json\n",
            "drwxr-xr-x  6 1000 1000 4.0K Dec 17 05:07 \u001b[0m\u001b[01;34mpyspark-3.5.4\u001b[0m/\n",
            "-rw-r--r--  1 root root 303M Dec 17 05:16 pyspark-3.5.4.tar.gz\n",
            "drwxr-xr-x  1 root root 4.0K Jan 22 14:23 \u001b[01;34msample_data\u001b[0m/\n",
            "drwxr-xr-x 13 1000 1000 4.0K Dec 17 05:13 \u001b[01;34mspark-3.5.4-bin-hadoop3\u001b[0m/\n",
            "-rw-r--r--  1 root root 383M Dec 17 05:16 spark-3.5.4-bin-hadoop3.tgz\n"
          ]
        }
      ]
    },
    {
      "cell_type": "code",
      "source": [
        "ls -lh /content/people.json"
      ],
      "metadata": {
        "colab": {
          "base_uri": "https://localhost:8080/"
        },
        "id": "JG0jj6TmBoil",
        "outputId": "73d5540c-0e9d-4bb9-9791-734d79f4648e"
      },
      "execution_count": 28,
      "outputs": [
        {
          "output_type": "stream",
          "name": "stdout",
          "text": [
            "-rw-r--r-- 1 root root 73 Jan 24 17:20 /content/people.json\n"
          ]
        }
      ]
    },
    {
      "cell_type": "code",
      "source": [
        "# spark is an existing SparkSession\n",
        "df = spark.read.json(\"/content/people.json\")\n",
        "# Displays the content of the DataFrame to stdout\n",
        "df.show()"
      ],
      "metadata": {
        "colab": {
          "base_uri": "https://localhost:8080/"
        },
        "id": "HzuEk7V2AjJx",
        "outputId": "30b5f71d-d964-4f11-d3d4-890855862aa0"
      },
      "execution_count": 29,
      "outputs": [
        {
          "output_type": "stream",
          "name": "stdout",
          "text": [
            "+----+-------+\n",
            "| age|   name|\n",
            "+----+-------+\n",
            "|NULL|Michael|\n",
            "|  30|   Andy|\n",
            "|  19| Justin|\n",
            "+----+-------+\n",
            "\n"
          ]
        }
      ]
    },
    {
      "cell_type": "code",
      "source": [
        "df.printSchema()"
      ],
      "metadata": {
        "id": "JOrOEimJvMdN",
        "outputId": "f86a95bd-cdff-4bb6-96e1-f34c1d6caaa1",
        "colab": {
          "base_uri": "https://localhost:8080/"
        }
      },
      "execution_count": 30,
      "outputs": [
        {
          "output_type": "stream",
          "name": "stdout",
          "text": [
            "root\n",
            " |-- age: long (nullable = true)\n",
            " |-- name: string (nullable = true)\n",
            "\n"
          ]
        }
      ]
    },
    {
      "cell_type": "code",
      "source": [
        "print(\"End of Lab\")"
      ],
      "metadata": {
        "colab": {
          "base_uri": "https://localhost:8080/"
        },
        "id": "drgQiA9oIQBS",
        "outputId": "cbf4b445-a454-45cd-c9d5-68cfc7e76260"
      },
      "execution_count": 31,
      "outputs": [
        {
          "output_type": "stream",
          "name": "stdout",
          "text": [
            "End of Lab\n"
          ]
        }
      ]
    }
  ]
}