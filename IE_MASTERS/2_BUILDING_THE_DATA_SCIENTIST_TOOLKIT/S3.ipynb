{
 "cells": [
  {
   "cell_type": "markdown",
   "metadata": {},
   "source": [
    "### Connecting to a Remote Server Through SSH\n",
    "- IP address\n",
    "- Username\n",
    "- Password"
   ]
  },
  {
   "cell_type": "code",
   "execution_count": null,
   "metadata": {},
   "outputs": [],
   "source": [
    "!ssh username:ip_address\n",
    "!ssh spencerwood@52.211.123.34\n",
    "#Password = bigdata"
   ]
  },
  {
   "cell_type": "markdown",
   "metadata": {},
   "source": [
    "#### Linux Intro Commands"
   ]
  },
  {
   "cell_type": "code",
   "execution_count": null,
   "metadata": {},
   "outputs": [],
   "source": [
    "!passwd #Change your password.\n",
    "!id #which user I am connected\n",
    "!su #Change to another user\n",
    "!date, cal #Find out today's date and display a calendar.\n",
    "!who #Find out who else is active on the system.\n",
    "!clear #Clear the screen.\n",
    "!echo #Write a message to your own screen.\n",
    "!wall #Write a message to all screens.\n",
    "!pwd #Show current directory (folder).\n",
    "!ls #Show content (files and subdirectories) of the current directory.\n",
    "!mkdir #make a new directory.\n",
    "!cd #change to a directory."
   ]
  }
 ],
 "metadata": {
  "language_info": {
   "name": "python"
  }
 },
 "nbformat": 4,
 "nbformat_minor": 2
}
