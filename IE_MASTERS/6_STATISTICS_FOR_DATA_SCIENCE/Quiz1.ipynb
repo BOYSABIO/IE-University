{
 "cells": [
  {
   "cell_type": "markdown",
   "metadata": {},
   "source": [
    "### Participation Quiz 1"
   ]
  },
  {
   "cell_type": "code",
   "execution_count": 6,
   "metadata": {},
   "outputs": [
    {
     "name": "stdout",
     "output_type": "stream",
     "text": [
      "The bucket mode is 60-69 with 10 numbers.\n"
     ]
    }
   ],
   "source": [
    "numbers = [51.3, 81.4, 72.3, 92.6, 91.8, 74.7, 82.2, 91.1, 53.9, 85.3, 50.2, 97.7, 82.9, 78.9, 71.8, 84.2, 94.7, 76.9, 58, 96.3, 56.2, 99.6, 68.1, 60.3, 67, 90.4, 73.4, 63.9, 89.4, 62.4, 57.8, 60.3, 51.3, 81.5, 67, 64.6, 61, 61.8, 81.2, 71.7]\n",
    "\n",
    "def find_bucket_mode(numbers):\n",
    "    # Define the bucket ranges\n",
    "    buckets = {\n",
    "        \"0-9\": (0, 10),\n",
    "        \"10-19\": (10, 20),\n",
    "        \"20-29\": (20, 30),\n",
    "        \"30-39\": (30, 40),\n",
    "        \"40-49\": (40, 50),\n",
    "        \"50-59\": (50, 60),\n",
    "        \"60-69\": (60, 70),\n",
    "        \"70-79\": (70, 80),\n",
    "        \"80-89\": (80, 90),\n",
    "        \"90-99\": (90, 100),\n",
    "        \"100\": (100, 101)  # Adjusted to include 100\n",
    "    }\n",
    "\n",
    "    # Initialize a counter for each bucket\n",
    "    bucket_counts = {bucket: 0 for bucket in buckets}\n",
    "\n",
    "    # Count numbers in each bucket\n",
    "    for number in numbers:\n",
    "        for bucket, (low, high) in buckets.items():\n",
    "            if low <= number < high:\n",
    "                bucket_counts[bucket] += 1\n",
    "                break\n",
    "\n",
    "    # Find the bucket with the highest count\n",
    "    bucket_mode = max(bucket_counts, key=bucket_counts.get)\n",
    "    return bucket_mode, bucket_counts[bucket_mode]\n",
    "\n",
    "bucket_mode, count = find_bucket_mode(numbers)\n",
    "print(f\"The bucket mode is {bucket_mode} with {count} numbers.\")\n"
   ]
  },
  {
   "cell_type": "code",
   "execution_count": 12,
   "metadata": {},
   "outputs": [
    {
     "name": "stdout",
     "output_type": "stream",
     "text": [
      "[106.16512746252108]\n"
     ]
    }
   ],
   "source": [
    "import scipy.stats as stats\n",
    "\n",
    "repitition = int(input(\"How many times would you like to conduct the test?\"))\n",
    "new_list = []\n",
    "\n",
    "for i in range(repitition):\n",
    "    probability = float(input(\"Enter the probability: \"))\n",
    "    mean = float(input(\"Enter the mean: \"))\n",
    "    std = float(input(\"Enter the std: \"))\n",
    "\n",
    "    z_score = stats.norm.ppf(probability)\n",
    "    x = mean + z_score * std\n",
    "    new_list.append(x)\n",
    "\n",
    "print(new_list)"
   ]
  },
  {
   "cell_type": "code",
   "execution_count": 21,
   "metadata": {},
   "outputs": [
    {
     "name": "stdout",
     "output_type": "stream",
     "text": [
      "73.92750000000001\n",
      "14.29907317800703\n",
      "14.481234320177872\n"
     ]
    }
   ],
   "source": [
    "import numpy as np\n",
    "\n",
    "array = np.array([51.3, 81.4, 72.3, 92.6, 91.8, 74.7, 82.2, 91.1, 53.9, 85.3, 50.2, 97.7, 82.9, 78.9, 71.8, 84.2, 94.7, 76.9, 58, 96.3, 56.2, 99.6, 68.1, 60.3, 67, 90.4, 73.4, 63.9, 89.4, 62.4, 57.8, 60.3, 51.3, 81.5, 67, 64.6, 61, 61.8, 81.2, 71.7])\n",
    "print(array.mean())\n",
    "print(array.std(ddof = 0)) # POPULATION STD\n",
    "print(array.std(ddof = 1)) # SAMPLE STD"
   ]
  },
  {
   "cell_type": "code",
   "execution_count": 17,
   "metadata": {},
   "outputs": [
    {
     "name": "stdout",
     "output_type": "stream",
     "text": [
      "alpha/2 = 0.025000000000000022\n",
      "Z score = 1.959963984540054\n",
      "Sample size for a population of 11580 elements = 977.0397956810107\n"
     ]
    }
   ],
   "source": [
    "import scipy.stats as st # Import library\n",
    "\n",
    "'''\n",
    "A margin of error tells you how many percentage points your results will differ from the real population value.\n",
    "A confidence interval is how much uncertainty there is with any particular statistic.\n",
    "Confidence intervals are often used with a margin of error.\n",
    "It tells you how confident you can be that the results from a poll or survey reflect\n",
    "what you would expect to find if it were possible to survey the entire population.\n",
    "Confidence intervals are intrinsically connected to confidence levels.\n",
    "'''\n",
    "# Define the variables and their values\n",
    "N = 11580 # Population size\n",
    "CL = 0.95 # Confidence level\n",
    "p = 0.5 # Standard Deviation. If unknown, leave it as 0.5\n",
    "e = 0.03 # Margin of error\n",
    "\n",
    "# Calculate the Z-score for a confidence level (CL) of 95%\n",
    "alpha_half = (1-CL)/2 # alpha is the complementary of the confidence level\n",
    "Z_score = st.norm.ppf(alpha_half+CL) # this is the equivalent to searching in the tables\n",
    "\n",
    "print('alpha/2 =',alpha_half)\n",
    "print('Z score =',Z_score)\n",
    "\n",
    "n = ((Z_score**2)*p*(1-p))/e**2 # Sample size for an unlimited population (remember, the small n)\n",
    "sample_size = n/(1+(((Z_score**2)*p*(1-p))/((e**2)*N))) # Sample size for a limited population\n",
    "\n",
    "print('Sample size for a population of',N,'elements =',sample_size)"
   ]
  },
  {
   "cell_type": "code",
   "execution_count": 19,
   "metadata": {},
   "outputs": [
    {
     "name": "stdout",
     "output_type": "stream",
     "text": [
      "The standard deviation is 14.48\n"
     ]
    }
   ],
   "source": [
    "import math\n",
    "\n",
    "def calculate_standard_deviation(data):\n",
    "    # Calculate the mean\n",
    "    mean = sum(data) / len(data)\n",
    "    \n",
    "    # Calculate the squared differences from the mean\n",
    "    squared_diffs = [(x - mean) ** 2 for x in data]\n",
    "    \n",
    "    # Calculate the variance\n",
    "    variance = sum(squared_diffs) / (len(data) - 1)\n",
    "    \n",
    "    # Calculate the standard deviation\n",
    "    standard_deviation = math.sqrt(variance)\n",
    "    \n",
    "    return standard_deviation\n",
    "\n",
    "# Example data\n",
    "data = [51.3, 81.4, 72.3, 92.6, 91.8, 74.7, 82.2, 91.1, 53.9, 85.3, 50.2, 97.7, 82.9, 78.9, 71.8, 84.2, 94.7, 76.9, 58, 96.3, 56.2, 99.6, 68.1, 60.3, 67, 90.4, 73.4, 63.9, 89.4, 62.4, 57.8, 60.3, 51.3, 81.5, 67, 64.6, 61, 61.8, 81.2, 71.7]\n",
    "std_dev = calculate_standard_deviation(data)\n",
    "print(f\"The standard deviation is {std_dev:.2f}\")"
   ]
  }
 ],
 "metadata": {
  "kernelspec": {
   "display_name": "Python 3",
   "language": "python",
   "name": "python3"
  },
  "language_info": {
   "codemirror_mode": {
    "name": "ipython",
    "version": 3
   },
   "file_extension": ".py",
   "mimetype": "text/x-python",
   "name": "python",
   "nbconvert_exporter": "python",
   "pygments_lexer": "ipython3",
   "version": "3.10.6"
  }
 },
 "nbformat": 4,
 "nbformat_minor": 2
}
