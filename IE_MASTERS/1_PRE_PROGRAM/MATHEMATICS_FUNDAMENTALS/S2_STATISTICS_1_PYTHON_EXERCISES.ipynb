{
  "cells": [
    {
      "cell_type": "code",
      "execution_count": 1,
      "metadata": {
        "colab": {
          "base_uri": "https://localhost:8080/",
          "height": 73
        },
        "id": "Nh1AVjY00wcn",
        "outputId": "f3325288-ec4d-4c87-bc1d-58944b7ee59f"
      },
      "outputs": [
        {
          "ename": "ModuleNotFoundError",
          "evalue": "No module named 'google.colab'",
          "output_type": "error",
          "traceback": [
            "\u001b[1;31m---------------------------------------------------------------------------\u001b[0m",
            "\u001b[1;31mModuleNotFoundError\u001b[0m                       Traceback (most recent call last)",
            "Cell \u001b[1;32mIn[1], line 1\u001b[0m\n\u001b[1;32m----> 1\u001b[0m \u001b[38;5;28;01mfrom\u001b[39;00m \u001b[38;5;21;01mgoogle\u001b[39;00m\u001b[38;5;21;01m.\u001b[39;00m\u001b[38;5;21;01mcolab\u001b[39;00m \u001b[38;5;28;01mimport\u001b[39;00m files\n\u001b[0;32m      2\u001b[0m uploaded \u001b[38;5;241m=\u001b[39m files\u001b[38;5;241m.\u001b[39mupload()\n",
            "\u001b[1;31mModuleNotFoundError\u001b[0m: No module named 'google.colab'"
          ]
        }
      ],
      "source": [
        "from google.colab import files\n",
        "uploaded = files.upload()"
      ]
    },
    {
      "cell_type": "code",
      "execution_count": 10,
      "metadata": {
        "id": "fM_M5oH90wak"
      },
      "outputs": [
        {
          "name": "stdout",
          "output_type": "stream",
          "text": [
            "c:\\Users\\SLO\\OneDrive\\Documents\\GitHub\\IE-University\\IE_MASTERS\\1_PRE_PROGRAM\\MATHEMATICS_FUNDAMENTALS\n",
            "['S1_SET_THEORY_PYTHON.ipynb', 'S2_PROBABILITY_PYTHON_EXERCISES.ipynb', 'S2_STATISTICS_1_PYTHON_EXERCISES.ipynb', 'S3.py', 'wnba.csv']\n"
          ]
        }
      ],
      "source": [
        "import pandas as pd\n",
        "import seaborn as sns\n",
        "import matplotlib.pyplot as plt\n",
        "import os\n",
        "\n",
        "print(os.getcwd())\n",
        "print(os.listdir())"
      ]
    },
    {
      "cell_type": "code",
      "execution_count": 12,
      "metadata": {
        "id": "3oU0AV780wYG"
      },
      "outputs": [],
      "source": [
        "wnba = pd.read_csv('wnba.csv')"
      ]
    },
    {
      "cell_type": "code",
      "execution_count": 13,
      "metadata": {
        "id": "UgzesOGe3hk7"
      },
      "outputs": [],
      "source": [
        "pd.options.display.max_columns = None"
      ]
    },
    {
      "cell_type": "code",
      "execution_count": 14,
      "metadata": {
        "colab": {
          "base_uri": "https://localhost:8080/",
          "height": 330
        },
        "id": "LY11vE7S0wVf",
        "outputId": "8237aebf-1ec4-475d-a677-00b7f556668f"
      },
      "outputs": [
        {
          "data": {
            "text/html": [
              "<div>\n",
              "<style scoped>\n",
              "    .dataframe tbody tr th:only-of-type {\n",
              "        vertical-align: middle;\n",
              "    }\n",
              "\n",
              "    .dataframe tbody tr th {\n",
              "        vertical-align: top;\n",
              "    }\n",
              "\n",
              "    .dataframe thead th {\n",
              "        text-align: right;\n",
              "    }\n",
              "</style>\n",
              "<table border=\"1\" class=\"dataframe\">\n",
              "  <thead>\n",
              "    <tr style=\"text-align: right;\">\n",
              "      <th></th>\n",
              "      <th>Name</th>\n",
              "      <th>Team</th>\n",
              "      <th>Pos</th>\n",
              "      <th>Height</th>\n",
              "      <th>Weight</th>\n",
              "      <th>BMI</th>\n",
              "      <th>Birth_Place</th>\n",
              "      <th>Birthdate</th>\n",
              "      <th>Age</th>\n",
              "      <th>College</th>\n",
              "      <th>Experience</th>\n",
              "      <th>Games Played</th>\n",
              "      <th>MIN</th>\n",
              "      <th>FGM</th>\n",
              "      <th>FGA</th>\n",
              "      <th>FG%</th>\n",
              "      <th>15:00</th>\n",
              "      <th>3PA</th>\n",
              "      <th>3P%</th>\n",
              "      <th>FTM</th>\n",
              "      <th>FTA</th>\n",
              "      <th>FT%</th>\n",
              "      <th>OREB</th>\n",
              "      <th>DREB</th>\n",
              "      <th>REB</th>\n",
              "      <th>AST</th>\n",
              "      <th>STL</th>\n",
              "      <th>BLK</th>\n",
              "      <th>TO</th>\n",
              "      <th>PTS</th>\n",
              "      <th>DD2</th>\n",
              "      <th>TD3</th>\n",
              "    </tr>\n",
              "  </thead>\n",
              "  <tbody>\n",
              "    <tr>\n",
              "      <th>0</th>\n",
              "      <td>Aerial Powers</td>\n",
              "      <td>DAL</td>\n",
              "      <td>F</td>\n",
              "      <td>183</td>\n",
              "      <td>71.0</td>\n",
              "      <td>21.200991</td>\n",
              "      <td>US</td>\n",
              "      <td>January 17, 1994</td>\n",
              "      <td>23</td>\n",
              "      <td>Michigan State</td>\n",
              "      <td>2</td>\n",
              "      <td>8</td>\n",
              "      <td>173</td>\n",
              "      <td>30</td>\n",
              "      <td>85</td>\n",
              "      <td>35.3</td>\n",
              "      <td>12</td>\n",
              "      <td>32</td>\n",
              "      <td>37.5</td>\n",
              "      <td>21</td>\n",
              "      <td>26</td>\n",
              "      <td>80.8</td>\n",
              "      <td>6</td>\n",
              "      <td>22</td>\n",
              "      <td>28</td>\n",
              "      <td>12</td>\n",
              "      <td>3</td>\n",
              "      <td>6</td>\n",
              "      <td>12</td>\n",
              "      <td>93</td>\n",
              "      <td>0</td>\n",
              "      <td>0</td>\n",
              "    </tr>\n",
              "    <tr>\n",
              "      <th>1</th>\n",
              "      <td>Alana Beard</td>\n",
              "      <td>LA</td>\n",
              "      <td>G/F</td>\n",
              "      <td>185</td>\n",
              "      <td>73.0</td>\n",
              "      <td>21.329438</td>\n",
              "      <td>US</td>\n",
              "      <td>May 14, 1982</td>\n",
              "      <td>35</td>\n",
              "      <td>Duke</td>\n",
              "      <td>12</td>\n",
              "      <td>30</td>\n",
              "      <td>947</td>\n",
              "      <td>90</td>\n",
              "      <td>177</td>\n",
              "      <td>50.8</td>\n",
              "      <td>5</td>\n",
              "      <td>18</td>\n",
              "      <td>27.8</td>\n",
              "      <td>32</td>\n",
              "      <td>41</td>\n",
              "      <td>78.0</td>\n",
              "      <td>19</td>\n",
              "      <td>82</td>\n",
              "      <td>101</td>\n",
              "      <td>72</td>\n",
              "      <td>63</td>\n",
              "      <td>13</td>\n",
              "      <td>40</td>\n",
              "      <td>217</td>\n",
              "      <td>0</td>\n",
              "      <td>0</td>\n",
              "    </tr>\n",
              "    <tr>\n",
              "      <th>2</th>\n",
              "      <td>Alex Bentley</td>\n",
              "      <td>CON</td>\n",
              "      <td>G</td>\n",
              "      <td>170</td>\n",
              "      <td>69.0</td>\n",
              "      <td>23.875433</td>\n",
              "      <td>US</td>\n",
              "      <td>October 27, 1990</td>\n",
              "      <td>26</td>\n",
              "      <td>Penn State</td>\n",
              "      <td>4</td>\n",
              "      <td>26</td>\n",
              "      <td>617</td>\n",
              "      <td>82</td>\n",
              "      <td>218</td>\n",
              "      <td>37.6</td>\n",
              "      <td>19</td>\n",
              "      <td>64</td>\n",
              "      <td>29.7</td>\n",
              "      <td>35</td>\n",
              "      <td>42</td>\n",
              "      <td>83.3</td>\n",
              "      <td>4</td>\n",
              "      <td>36</td>\n",
              "      <td>40</td>\n",
              "      <td>78</td>\n",
              "      <td>22</td>\n",
              "      <td>3</td>\n",
              "      <td>24</td>\n",
              "      <td>218</td>\n",
              "      <td>0</td>\n",
              "      <td>0</td>\n",
              "    </tr>\n",
              "    <tr>\n",
              "      <th>3</th>\n",
              "      <td>Alex Montgomery</td>\n",
              "      <td>SAN</td>\n",
              "      <td>G/F</td>\n",
              "      <td>185</td>\n",
              "      <td>84.0</td>\n",
              "      <td>24.543462</td>\n",
              "      <td>US</td>\n",
              "      <td>December 11, 1988</td>\n",
              "      <td>28</td>\n",
              "      <td>Georgia Tech</td>\n",
              "      <td>6</td>\n",
              "      <td>31</td>\n",
              "      <td>721</td>\n",
              "      <td>75</td>\n",
              "      <td>195</td>\n",
              "      <td>38.5</td>\n",
              "      <td>21</td>\n",
              "      <td>68</td>\n",
              "      <td>30.9</td>\n",
              "      <td>17</td>\n",
              "      <td>21</td>\n",
              "      <td>81.0</td>\n",
              "      <td>35</td>\n",
              "      <td>134</td>\n",
              "      <td>169</td>\n",
              "      <td>65</td>\n",
              "      <td>20</td>\n",
              "      <td>10</td>\n",
              "      <td>38</td>\n",
              "      <td>188</td>\n",
              "      <td>2</td>\n",
              "      <td>0</td>\n",
              "    </tr>\n",
              "    <tr>\n",
              "      <th>4</th>\n",
              "      <td>Alexis Jones</td>\n",
              "      <td>MIN</td>\n",
              "      <td>G</td>\n",
              "      <td>175</td>\n",
              "      <td>78.0</td>\n",
              "      <td>25.469388</td>\n",
              "      <td>US</td>\n",
              "      <td>August 5, 1994</td>\n",
              "      <td>23</td>\n",
              "      <td>Baylor</td>\n",
              "      <td>R</td>\n",
              "      <td>24</td>\n",
              "      <td>137</td>\n",
              "      <td>16</td>\n",
              "      <td>50</td>\n",
              "      <td>32.0</td>\n",
              "      <td>7</td>\n",
              "      <td>20</td>\n",
              "      <td>35.0</td>\n",
              "      <td>11</td>\n",
              "      <td>12</td>\n",
              "      <td>91.7</td>\n",
              "      <td>3</td>\n",
              "      <td>9</td>\n",
              "      <td>12</td>\n",
              "      <td>12</td>\n",
              "      <td>7</td>\n",
              "      <td>0</td>\n",
              "      <td>14</td>\n",
              "      <td>50</td>\n",
              "      <td>0</td>\n",
              "      <td>0</td>\n",
              "    </tr>\n",
              "  </tbody>\n",
              "</table>\n",
              "</div>"
            ],
            "text/plain": [
              "              Name Team  Pos  Height  Weight        BMI Birth_Place  \\\n",
              "0    Aerial Powers  DAL    F     183    71.0  21.200991          US   \n",
              "1      Alana Beard   LA  G/F     185    73.0  21.329438          US   \n",
              "2     Alex Bentley  CON    G     170    69.0  23.875433          US   \n",
              "3  Alex Montgomery  SAN  G/F     185    84.0  24.543462          US   \n",
              "4     Alexis Jones  MIN    G     175    78.0  25.469388          US   \n",
              "\n",
              "           Birthdate  Age         College Experience  Games Played  MIN  FGM  \\\n",
              "0   January 17, 1994   23  Michigan State          2             8  173   30   \n",
              "1       May 14, 1982   35            Duke         12            30  947   90   \n",
              "2   October 27, 1990   26      Penn State          4            26  617   82   \n",
              "3  December 11, 1988   28    Georgia Tech          6            31  721   75   \n",
              "4     August 5, 1994   23          Baylor          R            24  137   16   \n",
              "\n",
              "   FGA   FG%  15:00  3PA   3P%  FTM  FTA   FT%  OREB  DREB  REB  AST  STL  \\\n",
              "0   85  35.3     12   32  37.5   21   26  80.8     6    22   28   12    3   \n",
              "1  177  50.8      5   18  27.8   32   41  78.0    19    82  101   72   63   \n",
              "2  218  37.6     19   64  29.7   35   42  83.3     4    36   40   78   22   \n",
              "3  195  38.5     21   68  30.9   17   21  81.0    35   134  169   65   20   \n",
              "4   50  32.0      7   20  35.0   11   12  91.7     3     9   12   12    7   \n",
              "\n",
              "   BLK  TO  PTS  DD2  TD3  \n",
              "0    6  12   93    0    0  \n",
              "1   13  40  217    0    0  \n",
              "2    3  24  218    0    0  \n",
              "3   10  38  188    2    0  \n",
              "4    0  14   50    0    0  "
            ]
          },
          "execution_count": 14,
          "metadata": {},
          "output_type": "execute_result"
        }
      ],
      "source": [
        "# head function shows the first 5 rows of the dataset\n",
        "wnba.head()"
      ]
    },
    {
      "cell_type": "code",
      "execution_count": null,
      "metadata": {
        "id": "OyxOPz6s49Y3"
      },
      "outputs": [],
      "source": []
    },
    {
      "cell_type": "code",
      "execution_count": 15,
      "metadata": {
        "colab": {
          "base_uri": "https://localhost:8080/"
        },
        "id": "60wXnvz849I_",
        "outputId": "954124a7-d12c-4af0-e35d-13a67152de13"
      },
      "outputs": [
        {
          "data": {
            "text/plain": [
              "Index(['Name', 'Team', 'Pos', 'Height', 'Weight', 'BMI', 'Birth_Place',\n",
              "       'Birthdate', 'Age', 'College', 'Experience', 'Games Played', 'MIN',\n",
              "       'FGM', 'FGA', 'FG%', '15:00', '3PA', '3P%', 'FTM', 'FTA', 'FT%', 'OREB',\n",
              "       'DREB', 'REB', 'AST', 'STL', 'BLK', 'TO', 'PTS', 'DD2', 'TD3'],\n",
              "      dtype='object')"
            ]
          },
          "execution_count": 15,
          "metadata": {},
          "output_type": "execute_result"
        }
      ],
      "source": [
        "# explore the columns in the dataset using\n",
        "wnba.columns"
      ]
    },
    {
      "cell_type": "code",
      "execution_count": 16,
      "metadata": {
        "colab": {
          "base_uri": "https://localhost:8080/"
        },
        "id": "vhbe2iiD3LOV",
        "outputId": "b58c0172-c48a-4fdf-f378-c6d7e26ba3e8"
      },
      "outputs": [
        {
          "data": {
            "text/plain": [
              "(143, 32)"
            ]
          },
          "execution_count": 16,
          "metadata": {},
          "output_type": "execute_result"
        }
      ],
      "source": [
        "#Explore the shape of the dataset\n",
        "wnba.shape"
      ]
    },
    {
      "cell_type": "code",
      "execution_count": null,
      "metadata": {
        "id": "zqkfI73A3K_2"
      },
      "outputs": [],
      "source": []
    },
    {
      "cell_type": "code",
      "execution_count": 17,
      "metadata": {
        "colab": {
          "base_uri": "https://localhost:8080/"
        },
        "id": "Br-7FEBd49F5",
        "outputId": "4fd82bde-bf9f-4da6-f3db-0bb7925e465f"
      },
      "outputs": [
        {
          "data": {
            "text/plain": [
              "count    143.000000\n",
              "mean      27.076923\n",
              "std        3.679170\n",
              "min       21.000000\n",
              "25%       24.000000\n",
              "50%       27.000000\n",
              "75%       30.000000\n",
              "max       36.000000\n",
              "Name: Age, dtype: float64"
            ]
          },
          "execution_count": 17,
          "metadata": {},
          "output_type": "execute_result"
        }
      ],
      "source": [
        "# explore specific columns using the shape and describe functions\n",
        "wnba['Age'].describe()"
      ]
    },
    {
      "cell_type": "code",
      "execution_count": null,
      "metadata": {
        "id": "d8KeLlnc49Cg"
      },
      "outputs": [],
      "source": []
    },
    {
      "cell_type": "code",
      "execution_count": null,
      "metadata": {
        "id": "CmfLcd_749AF"
      },
      "outputs": [],
      "source": []
    },
    {
      "cell_type": "code",
      "execution_count": null,
      "metadata": {
        "id": "G2tNAbcn489u"
      },
      "outputs": [],
      "source": [
        "# Find 1 continuous variable and asign the name to continuous_variable then do the same discrete_variable and  categorical_variable"
      ]
    },
    {
      "cell_type": "code",
      "execution_count": null,
      "metadata": {
        "id": "ICh4sS1Q487E"
      },
      "outputs": [],
      "source": []
    },
    {
      "cell_type": "code",
      "execution_count": null,
      "metadata": {
        "id": "K-PVuIRD0wTA"
      },
      "outputs": [],
      "source": []
    },
    {
      "cell_type": "code",
      "execution_count": null,
      "metadata": {
        "id": "RtFhWHv70wNy"
      },
      "outputs": [],
      "source": []
    },
    {
      "cell_type": "markdown",
      "metadata": {
        "id": "OF6r2spJ343n"
      },
      "source": [
        "CENTRAL TENDENCY\n"
      ]
    },
    {
      "cell_type": "code",
      "execution_count": null,
      "metadata": {
        "id": "c7PHkDvA1A7j"
      },
      "outputs": [],
      "source": []
    },
    {
      "cell_type": "code",
      "execution_count": null,
      "metadata": {
        "id": "JcLckVIk1A4E"
      },
      "outputs": [],
      "source": [
        "# Exercise 1: Calculate the mean of the 'Height' column."
      ]
    },
    {
      "cell_type": "code",
      "execution_count": 19,
      "metadata": {
        "id": "qZD_uETm1Dle"
      },
      "outputs": [
        {
          "name": "stdout",
          "output_type": "stream",
          "text": [
            "184.56643356643357\n"
          ]
        }
      ],
      "source": [
        "print(wnba['Height'].mean())"
      ]
    },
    {
      "cell_type": "code",
      "execution_count": null,
      "metadata": {
        "id": "2esxIvLt1DiD"
      },
      "outputs": [],
      "source": [
        "#Compare your result with the built-in functions and find the median"
      ]
    },
    {
      "cell_type": "code",
      "execution_count": 22,
      "metadata": {
        "id": "ACWl9Ibb4DWn"
      },
      "outputs": [
        {
          "name": "stdout",
          "output_type": "stream",
          "text": [
            "<bound method NDFrame._add_numeric_operations.<locals>.median of                  Name Team  Pos  Height  Weight        BMI Birth_Place  \\\n",
            "0       Aerial Powers  DAL    F     183    71.0  21.200991          US   \n",
            "1         Alana Beard   LA  G/F     185    73.0  21.329438          US   \n",
            "2        Alex Bentley  CON    G     170    69.0  23.875433          US   \n",
            "3     Alex Montgomery  SAN  G/F     185    84.0  24.543462          US   \n",
            "4        Alexis Jones  MIN    G     175    78.0  25.469388          US   \n",
            "..                ...  ...  ...     ...     ...        ...         ...   \n",
            "138     Tiffany Hayes  ATL    G     178    70.0  22.093170          US   \n",
            "139   Tiffany Jackson   LA    F     191    84.0  23.025685          US   \n",
            "140  Tiffany Mitchell  IND    G     175    69.0  22.530612          US   \n",
            "141      Tina Charles   NY  F/C     193    84.0  22.550941          US   \n",
            "142     Yvonne Turner  PHO    G     175    59.0  19.265306          US   \n",
            "\n",
            "              Birthdate  Age         College Experience  Games Played  MIN  \\\n",
            "0      January 17, 1994   23  Michigan State          2             8  173   \n",
            "1          May 14, 1982   35            Duke         12            30  947   \n",
            "2      October 27, 1990   26      Penn State          4            26  617   \n",
            "3     December 11, 1988   28    Georgia Tech          6            31  721   \n",
            "4        August 5, 1994   23          Baylor          R            24  137   \n",
            "..                  ...  ...             ...        ...           ...  ...   \n",
            "138  September 20, 1989   27     Connecticut          6            29  861   \n",
            "139      April 26, 1985   32           Texas          9            22  127   \n",
            "140  September 23, 1984   32  South Carolina          2            27  671   \n",
            "141        May 12, 1988   29     Connecticut          8            29  952   \n",
            "142    October 13, 1987   29        Nebraska          2            30  356   \n",
            "\n",
            "     FGM  FGA   FG%  15:00  3PA   3P%  FTM  FTA   FT%  OREB  DREB  REB  AST  \\\n",
            "0     30   85  35.3     12   32  37.5   21   26  80.8     6    22   28   12   \n",
            "1     90  177  50.8      5   18  27.8   32   41  78.0    19    82  101   72   \n",
            "2     82  218  37.6     19   64  29.7   35   42  83.3     4    36   40   78   \n",
            "3     75  195  38.5     21   68  30.9   17   21  81.0    35   134  169   65   \n",
            "4     16   50  32.0      7   20  35.0   11   12  91.7     3     9   12   12   \n",
            "..   ...  ...   ...    ...  ...   ...  ...  ...   ...   ...   ...  ...  ...   \n",
            "138  144  331  43.5     43  112  38.4  136  161  84.5    28    89  117   69   \n",
            "139   12   25  48.0      0    1   0.0    4    6  66.7     5    18   23    3   \n",
            "140   83  238  34.9     17   69  24.6   94  102  92.2    16    70   86   39   \n",
            "141  227  509  44.6     18   56  32.1  110  135  81.5    56   212  268   75   \n",
            "142   59  140  42.1     11   47  23.4   22   28  78.6    11    13   24   30   \n",
            "\n",
            "     STL  BLK  TO  PTS  DD2  TD3  \n",
            "0      3    6  12   93    0    0  \n",
            "1     63   13  40  217    0    0  \n",
            "2     22    3  24  218    0    0  \n",
            "3     20   10  38  188    2    0  \n",
            "4      7    0  14   50    0    0  \n",
            "..   ...  ...  ..  ...  ...  ...  \n",
            "138   37    8  50  467    0    0  \n",
            "139    1    3   8   28    0    0  \n",
            "140   31    5  40  277    0    0  \n",
            "141   21   22  71  582   11    0  \n",
            "142   18    1  32  151    0    0  \n",
            "\n",
            "[143 rows x 32 columns]>\n"
          ]
        }
      ],
      "source": [
        "print(wnba.median)"
      ]
    },
    {
      "cell_type": "code",
      "execution_count": null,
      "metadata": {
        "id": "kH4q5W5T4DZY"
      },
      "outputs": [],
      "source": []
    },
    {
      "cell_type": "code",
      "execution_count": null,
      "metadata": {
        "id": "9mTbMFms2I-M"
      },
      "outputs": [],
      "source": []
    },
    {
      "cell_type": "markdown",
      "metadata": {
        "id": "y9oL58Lb37w6"
      },
      "source": [
        "DISPERSION\n"
      ]
    },
    {
      "cell_type": "code",
      "execution_count": null,
      "metadata": {
        "id": "r3IZPLSH2I7v"
      },
      "outputs": [],
      "source": [
        "# Exercise 2: Calculate the range, variance, and standard deviation of the 'Height' column."
      ]
    },
    {
      "cell_type": "code",
      "execution_count": 23,
      "metadata": {
        "id": "c0ozsg1m2I44"
      },
      "outputs": [
        {
          "name": "stdout",
          "output_type": "stream",
          "text": [
            "75.43041465576675\n"
          ]
        }
      ],
      "source": [
        "print(wnba['Height'].var())"
      ]
    },
    {
      "cell_type": "code",
      "execution_count": 24,
      "metadata": {
        "id": "SgoLozof2I2D"
      },
      "outputs": [
        {
          "name": "stdout",
          "output_type": "stream",
          "text": [
            "8.685068488835695\n"
          ]
        }
      ],
      "source": [
        "print(wnba['Height'].std())"
      ]
    },
    {
      "cell_type": "code",
      "execution_count": 26,
      "metadata": {},
      "outputs": [
        {
          "name": "stdout",
          "output_type": "stream",
          "text": [
            "41\n"
          ]
        }
      ],
      "source": [
        "print(wnba['Height'].max() - wnba['Height'].min())"
      ]
    },
    {
      "cell_type": "code",
      "execution_count": null,
      "metadata": {
        "id": "_cKjVxGG2Iy-"
      },
      "outputs": [],
      "source": [
        "#Compare your result with the built-in functions"
      ]
    },
    {
      "cell_type": "code",
      "execution_count": 25,
      "metadata": {
        "id": "GKJOMGeX2Mx8"
      },
      "outputs": [
        {
          "name": "stdout",
          "output_type": "stream",
          "text": [
            "           Height      Weight         BMI         Age  Games Played  \\\n",
            "count  143.000000  142.000000  142.000000  143.000000    143.000000   \n",
            "mean   184.566434   78.978873   23.091214   27.076923     24.356643   \n",
            "std      8.685068   10.996110    2.073691    3.679170      7.104259   \n",
            "min    165.000000   55.000000   18.390675   21.000000      2.000000   \n",
            "25%    176.500000   71.500000   21.785876   24.000000     22.000000   \n",
            "50%    185.000000   79.000000   22.873314   27.000000     27.000000   \n",
            "75%    191.000000   86.000000   24.180715   30.000000     29.000000   \n",
            "max    206.000000  113.000000   31.555880   36.000000     32.000000   \n",
            "\n",
            "               MIN         FGM         FGA         FG%       15:00  \\\n",
            "count   143.000000  143.000000  143.000000  143.000000  143.000000   \n",
            "mean    496.972028   73.895105  167.622378   42.901399   14.727273   \n",
            "std     290.777320   56.110895  117.467095   10.111498   17.355919   \n",
            "min      12.000000    1.000000    3.000000   14.300000    0.000000   \n",
            "25%     240.000000   26.000000   66.000000   36.950000    0.000000   \n",
            "50%     504.000000   69.000000  152.000000   42.000000   10.000000   \n",
            "75%     750.000000  105.000000  244.500000   48.550000   22.000000   \n",
            "max    1018.000000  227.000000  509.000000  100.000000   88.000000   \n",
            "\n",
            "              3PA         3P%         FTM         FTA         FT%        OREB  \\\n",
            "count  143.000000  143.000000  143.000000  143.000000  143.000000  143.000000   \n",
            "mean    43.426573   24.803497   39.272727   49.111888   75.578322   21.923077   \n",
            "std     46.106199   18.512183   36.747747   44.244854   18.712194   21.509276   \n",
            "min      0.000000    0.000000    0.000000    0.000000    0.000000    0.000000   \n",
            "25%      3.000000    0.000000   12.000000   16.500000   71.150000    7.000000   \n",
            "50%     32.000000   30.300000   29.000000   35.000000   80.000000   13.000000   \n",
            "75%     65.000000   36.150000   52.500000   66.000000   85.850000   31.000000   \n",
            "max    225.000000  100.000000  168.000000  186.000000  100.000000  113.000000   \n",
            "\n",
            "             DREB         REB         AST         STL         BLK          TO  \\\n",
            "count  143.000000  143.000000  143.000000  143.000000  143.000000  143.000000   \n",
            "mean    61.160839   83.083916   44.230769   17.608392    9.713287   32.090909   \n",
            "std     49.761919   68.302197   41.483017   13.438978   12.520193   21.502017   \n",
            "min      0.000000    2.000000    0.000000    0.000000    0.000000    2.000000   \n",
            "25%     25.500000   34.000000   11.000000    7.000000    2.000000   13.500000   \n",
            "50%     50.000000   62.000000   33.000000   15.000000    5.000000   28.000000   \n",
            "75%     84.000000  116.000000   66.500000   27.000000   12.000000   48.000000   \n",
            "max    226.000000  334.000000  206.000000   63.000000   64.000000   87.000000   \n",
            "\n",
            "              PTS         DD2         TD3  \n",
            "count  143.000000  143.000000  143.000000  \n",
            "mean   201.790210    1.132867    0.006993  \n",
            "std    153.381548    2.900310    0.083624  \n",
            "min      2.000000    0.000000    0.000000  \n",
            "25%     75.000000    0.000000    0.000000  \n",
            "50%    177.000000    0.000000    0.000000  \n",
            "75%    277.500000    1.000000    0.000000  \n",
            "max    584.000000   17.000000    1.000000  \n"
          ]
        }
      ],
      "source": [
        "print(wnba.describe())"
      ]
    },
    {
      "cell_type": "code",
      "execution_count": null,
      "metadata": {
        "id": "YwnkWy3x3s3e"
      },
      "outputs": [],
      "source": []
    },
    {
      "cell_type": "code",
      "execution_count": null,
      "metadata": {
        "id": "ZIEo7SU53s0o"
      },
      "outputs": [],
      "source": []
    },
    {
      "cell_type": "code",
      "execution_count": null,
      "metadata": {
        "id": "BHNoc6fy3sxl"
      },
      "outputs": [],
      "source": []
    },
    {
      "cell_type": "markdown",
      "metadata": {
        "id": "VI1DCgXF3-Sf"
      },
      "source": [
        "POPULATIONS & SAMPLES\n"
      ]
    },
    {
      "cell_type": "code",
      "execution_count": null,
      "metadata": {
        "id": "kDagy61h4Db-"
      },
      "outputs": [],
      "source": [
        "# extract a sample using random sampling method with the function sample. Establish a sample size of 5 and random state = 1"
      ]
    },
    {
      "cell_type": "code",
      "execution_count": 27,
      "metadata": {
        "id": "rs97hxel4DeW"
      },
      "outputs": [],
      "source": [
        "sample = wnba.sample(5, random_state = 1)"
      ]
    },
    {
      "cell_type": "code",
      "execution_count": 28,
      "metadata": {
        "id": "hP5Of--a4DhJ"
      },
      "outputs": [
        {
          "name": "stdout",
          "output_type": "stream",
          "text": [
            "                Name Team Pos  Height  Weight        BMI Birth_Place  \\\n",
            "78    Keisha Hampton  CHI   F     185    78.0  22.790358          US   \n",
            "116     Saniya Chong  DAL   G     173    64.0  21.383942          US   \n",
            "31    Carolyn Swords  SEA   C     198    95.0  24.232221          US   \n",
            "5    Alexis Peterson  SEA   G     170    63.0  21.799308          US   \n",
            "125  Stefanie Dolson  CHI   C     196    97.0  25.249896          US   \n",
            "\n",
            "             Birthdate  Age         College Experience  Games Played  MIN  \\\n",
            "78   February 22, 1990   27          DePaul          1            30  504   \n",
            "116      June 27, 1994   23     Connecticut          R            29  348   \n",
            "31       July 19, 1989   28  Boston College          6            26  218   \n",
            "5        June 20, 1995   22        Syracuse          R            14   90   \n",
            "125     August 1, 1992   25     Connecticut          3            28  823   \n",
            "\n",
            "     FGM  FGA   FG%  15:00  3PA   3P%  FTM  FTA    FT%  OREB  DREB  REB  AST  \\\n",
            "78    64  157  40.8     14   52  26.9   65   81   80.2    36    59   95   24   \n",
            "116   27   74  36.5      8   35  22.9   25   29   86.2     9    19   28   33   \n",
            "31    19   39  48.7      0    0   0.0   16   20   80.0    10    29   39    9   \n",
            "5      9   34  26.5      2    9  22.2    6    6  100.0     3    13   16   11   \n",
            "125  162  293  55.3     24   60  40.0   50   58   86.2    35   121  156   65   \n",
            "\n",
            "     STL  BLK  TO  PTS  DD2  TD3  \n",
            "78    20    7  21  207    0    0  \n",
            "116   21    3  23   87    0    0  \n",
            "31     5    4  22   54    0    0  \n",
            "5      5    0  11   26    0    0  \n",
            "125   14   37  65  398    3    0  \n"
          ]
        }
      ],
      "source": [
        "print(sample)"
      ]
    },
    {
      "cell_type": "code",
      "execution_count": null,
      "metadata": {
        "id": "XTmwifej4Djf"
      },
      "outputs": [],
      "source": [
        "# Exercise 3:  Find the sampling_error = parameter(value comes from the population) - statistic (value comes from a sample) for max Age and mean Age"
      ]
    },
    {
      "cell_type": "code",
      "execution_count": 29,
      "metadata": {
        "id": "C7Ntn6cL17Of"
      },
      "outputs": [],
      "source": [
        "parameter_max_age = sample['Age'].max()"
      ]
    },
    {
      "cell_type": "code",
      "execution_count": 30,
      "metadata": {
        "id": "3qregh0X4mwg"
      },
      "outputs": [],
      "source": [
        "statistic_max_age = wnba['Age'].max()"
      ]
    },
    {
      "cell_type": "code",
      "execution_count": 31,
      "metadata": {
        "id": "NV8JMtiN4mqC"
      },
      "outputs": [],
      "source": [
        "sampling_error = parameter_max_age - statistic_max_age"
      ]
    },
    {
      "cell_type": "code",
      "execution_count": 32,
      "metadata": {
        "id": "PiOaRyjO4mnq"
      },
      "outputs": [
        {
          "name": "stdout",
          "output_type": "stream",
          "text": [
            "-8\n"
          ]
        }
      ],
      "source": [
        "print(sampling_error)"
      ]
    },
    {
      "cell_type": "code",
      "execution_count": null,
      "metadata": {
        "id": "gXwvC5EH465J"
      },
      "outputs": [],
      "source": []
    },
    {
      "cell_type": "code",
      "execution_count": null,
      "metadata": {
        "id": "t0a5zJLR17K9"
      },
      "outputs": [],
      "source": []
    },
    {
      "cell_type": "code",
      "execution_count": null,
      "metadata": {
        "id": "-whvSVAu17IP"
      },
      "outputs": [],
      "source": [
        "# Exercise 4:  find the sampling_error = parameter - statistic for max Height and mean Height"
      ]
    },
    {
      "cell_type": "code",
      "execution_count": null,
      "metadata": {
        "id": "Ax-PUrob17FL"
      },
      "outputs": [],
      "source": []
    },
    {
      "cell_type": "code",
      "execution_count": null,
      "metadata": {
        "id": "ewZcnaaa33EU"
      },
      "outputs": [],
      "source": []
    },
    {
      "cell_type": "code",
      "execution_count": null,
      "metadata": {
        "id": "huusAHWV33Bf"
      },
      "outputs": [],
      "source": []
    },
    {
      "cell_type": "code",
      "execution_count": null,
      "metadata": {
        "id": "2OyK88z032-m"
      },
      "outputs": [],
      "source": [
        "#Exercise 5: In the examples above, increase the sample size in the sample function from 5 to 10, then to 50, then to 100. See how the sampling error changes"
      ]
    },
    {
      "cell_type": "code",
      "execution_count": null,
      "metadata": {
        "id": "SqHcHCfT4b5g"
      },
      "outputs": [],
      "source": []
    },
    {
      "cell_type": "code",
      "execution_count": null,
      "metadata": {
        "id": "ZtOdWV0O4b3Z"
      },
      "outputs": [],
      "source": []
    },
    {
      "cell_type": "code",
      "execution_count": null,
      "metadata": {
        "id": "eV5MnoEf4b0O"
      },
      "outputs": [],
      "source": []
    },
    {
      "cell_type": "markdown",
      "metadata": {
        "id": "HY3yiF3r4FV3"
      },
      "source": [
        "DESCRIBING YOUR DATA VISUALLY"
      ]
    },
    {
      "cell_type": "code",
      "execution_count": null,
      "metadata": {
        "id": "XRPnCY3I328B"
      },
      "outputs": [],
      "source": []
    },
    {
      "cell_type": "code",
      "execution_count": null,
      "metadata": {
        "id": "3ynsZ5pW325O"
      },
      "outputs": [],
      "source": []
    },
    {
      "cell_type": "code",
      "execution_count": null,
      "metadata": {
        "id": "5bd529CXCBGE"
      },
      "outputs": [],
      "source": []
    },
    {
      "cell_type": "code",
      "execution_count": null,
      "metadata": {
        "id": "QR9lhcdDCBDs"
      },
      "outputs": [],
      "source": [
        "#make a pie chart for the positions column. Begin by using value_counts to create a frequency table"
      ]
    },
    {
      "cell_type": "code",
      "execution_count": 33,
      "metadata": {
        "id": "5M-Alr-tBD2e"
      },
      "outputs": [],
      "source": [
        "# Create the frequency table of positions\n",
        "position_counts = wnba['Pos'].value_counts()"
      ]
    },
    {
      "cell_type": "code",
      "execution_count": 34,
      "metadata": {
        "id": "O-ywVXZ4BDz-"
      },
      "outputs": [
        {
          "data": {
            "image/png": "[encoded data removed]",
            "text/plain": [
              "<Figure size 800x800 with 1 Axes>"
            ]
          },
          "metadata": {},
          "output_type": "display_data"
        }
      ],
      "source": [
        "# Create the pie chart\n",
        "plt.figure(figsize=(8, 8))\n",
        "plt.pie(position_counts, labels=position_counts.index, autopct='%1.1f%%', startangle=140)\n",
        "plt.title('Distribution of Positions in WNBA')\n",
        "plt.show()"
      ]
    },
    {
      "cell_type": "code",
      "execution_count": null,
      "metadata": {
        "id": "DCCY-WANBDxR"
      },
      "outputs": [],
      "source": [
        "36+"
      ]
    },
    {
      "cell_type": "code",
      "execution_count": 35,
      "metadata": {
        "id": "C7THTvjcCERu"
      },
      "outputs": [
        {
          "data": {
            "text/plain": [
              "Text(0, 0.5, 'Frequency')"
            ]
          },
          "execution_count": 35,
          "metadata": {},
          "output_type": "execute_result"
        },
        {
          "data": {
            "image/png": "[encoded data removed]",
            "text/plain": [
              "<Figure size 800x600 with 1 Axes>"
            ]
          },
          "metadata": {},
          "output_type": "display_data"
        }
      ],
      "source": [
        "# Create a histogram for Age\n",
        "plt.figure(figsize=(8, 6))\n",
        "plt.hist(wnba['Age'], bins=10, edgecolor='k')\n",
        "plt.xlabel('Age')\n",
        "plt.ylabel('Frequency')\n"
      ]
    },
    {
      "cell_type": "code",
      "execution_count": null,
      "metadata": {
        "id": "tyG6LcY2CEPO"
      },
      "outputs": [],
      "source": []
    },
    {
      "cell_type": "code",
      "execution_count": null,
      "metadata": {
        "id": "GxYbhFY6CEMn"
      },
      "outputs": [],
      "source": [
        "# Create a histogram for Height\n"
      ]
    },
    {
      "cell_type": "code",
      "execution_count": null,
      "metadata": {
        "id": "kwLSJpJJCEJ5"
      },
      "outputs": [],
      "source": []
    },
    {
      "cell_type": "code",
      "execution_count": null,
      "metadata": {
        "id": "khZcJyfjCBBG"
      },
      "outputs": [],
      "source": []
    },
    {
      "cell_type": "code",
      "execution_count": null,
      "metadata": {
        "id": "_0hG-bh8E3w4"
      },
      "outputs": [],
      "source": [
        "# Create a box plot for points by position"
      ]
    },
    {
      "cell_type": "code",
      "execution_count": 36,
      "metadata": {
        "id": "PpYMV6iyE3uq"
      },
      "outputs": [
        {
          "data": {
            "image/png": "[encoded data removed]",
            "text/plain": [
              "<Figure size 1000x600 with 1 Axes>"
            ]
          },
          "metadata": {},
          "output_type": "display_data"
        }
      ],
      "source": [
        "plt.figure(figsize=(10, 6))\n",
        "sns.boxplot(x='Pos', y='PTS', data=wnba)\n",
        "plt.xlabel('Position')\n",
        "plt.ylabel('Pts')\n",
        "plt.title('Distribution of Points Scored by Position in WNBA')\n",
        "plt.show()"
      ]
    },
    {
      "cell_type": "code",
      "execution_count": null,
      "metadata": {
        "id": "fA5OZfOlE4qv"
      },
      "outputs": [],
      "source": []
    },
    {
      "cell_type": "code",
      "execution_count": null,
      "metadata": {
        "id": "vk16jGMcE4ot"
      },
      "outputs": [],
      "source": [
        "# Create a box plot for height by position"
      ]
    },
    {
      "cell_type": "code",
      "execution_count": 38,
      "metadata": {
        "id": "VMLxvBhHE4mV"
      },
      "outputs": [
        {
          "data": {
            "image/png": "[encoded data removed]",
            "text/plain": [
              "<Figure size 1000x600 with 1 Axes>"
            ]
          },
          "metadata": {},
          "output_type": "display_data"
        }
      ],
      "source": [
        "plt.figure(figsize=(10, 6))\n",
        "sns.boxplot(x='Pos', y='Height', data=wnba)\n",
        "plt.xlabel('Position')\n",
        "plt.ylabel('Height')\n",
        "plt.title('Distribution of Height by Position in WNBA')\n",
        "plt.show()"
      ]
    },
    {
      "cell_type": "code",
      "execution_count": null,
      "metadata": {
        "id": "8Iouc1ncE4js"
      },
      "outputs": [],
      "source": []
    },
    {
      "cell_type": "code",
      "execution_count": null,
      "metadata": {
        "id": "F11bKfyJE3sJ"
      },
      "outputs": [],
      "source": []
    },
    {
      "cell_type": "code",
      "execution_count": null,
      "metadata": {
        "id": "REhr8XWR_yyU"
      },
      "outputs": [],
      "source": []
    },
    {
      "cell_type": "code",
      "execution_count": null,
      "metadata": {
        "id": "yrXA7npq_yv2"
      },
      "outputs": [],
      "source": []
    },
    {
      "cell_type": "code",
      "execution_count": null,
      "metadata": {
        "id": "8UTOErFE_ytM"
      },
      "outputs": [],
      "source": []
    },
    {
      "cell_type": "code",
      "execution_count": null,
      "metadata": {
        "id": "iyaOyK9U_yqs"
      },
      "outputs": [],
      "source": []
    }
  ],
  "metadata": {
    "colab": {
      "provenance": []
    },
    "kernelspec": {
      "display_name": "Python 3",
      "name": "python3"
    },
    "language_info": {
      "codemirror_mode": {
        "name": "ipython",
        "version": 3
      },
      "file_extension": ".py",
      "mimetype": "text/x-python",
      "name": "python",
      "nbconvert_exporter": "python",
      "pygments_lexer": "ipython3",
      "version": "3.8.2"
    }
  },
  "nbformat": 4,
  "nbformat_minor": 0
}
