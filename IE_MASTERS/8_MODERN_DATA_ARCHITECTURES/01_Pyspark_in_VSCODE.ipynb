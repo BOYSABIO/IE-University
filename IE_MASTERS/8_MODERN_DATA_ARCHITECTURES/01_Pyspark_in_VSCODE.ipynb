{
 "cells": [
  {
   "cell_type": "markdown",
   "metadata": {},
   "source": [
    "Links to Install:  \n",
    "#java   \n",
    "https://www.oracle.com/java/technolog...  \n",
    "#python :  \n",
    "https://www.python.org/downloads/rele...  \n",
    "#spark :  \n",
    "https://spark.apache.org/downloads.html  \n",
    "#WinUtils File  \n",
    "https://github.com/cdarlint/winutils  \n",
    "#vscode :  \n",
    "https://code.visualstudio.com/download  "
   ]
  },
  {
   "cell_type": "markdown",
   "metadata": {},
   "source": [
    "Steps:  \n",
    "1. Create \"spark\" folder in C:\n",
    "2. Unzip spark download inside \"spark\" folder (no need to keep subfolders)\n",
    "3. Install latests win utils\n",
    "4. Create \"hadoop\" folder in C: and \"bin\" subfolder inside \"hadoop\" folder\n",
    "5. Copy winutils.exe into \"hadoop/bin\" folder\n",
    "6. Make sure in program files there is Java/openjdk-11 (what you get from first link)\n",
    "7. Set up environment variables\n",
    "    1. SPARK_HOME = C:\\spark\n",
    "    2. HADOOP_HOME = C:\\hadoop\n",
    "    3. JAVA_HOME = C:\\program files\\Java\\openjdk-11\n",
    "    4. Make sure there is a path to python\n",
    "    5. Make sure there are no duplicate paths\n",
    "    6. SPARK_LOCAL_HOSTNAME = localhost\n",
    "8. Test that it works go into cmd and type spark-shell or pyspark"
   ]
  },
  {
   "cell_type": "markdown",
   "metadata": {},
   "source": [
    "https://www.youtube.com/watch?v=49yQ-bdj4Ww"
   ]
  },
  {
   "cell_type": "code",
   "execution_count": 26,
   "metadata": {},
   "outputs": [],
   "source": [
    "import pyspark\n",
    "from pyspark.sql import SparkSession\n",
    "spark = SparkSession.builder.master(\"local[1]\") \\\n",
    "                    .appName('SparkByExamples.com') \\\n",
    "                    .getOrCreate()"
   ]
  },
  {
   "cell_type": "code",
   "execution_count": 27,
   "metadata": {},
   "outputs": [
    {
     "data": {
      "text/html": [
       "\n",
       "            <div>\n",
       "                <p><b>SparkSession - in-memory</b></p>\n",
       "                \n",
       "        <div>\n",
       "            <p><b>SparkContext</b></p>\n",
       "\n",
       "            <p><a href=\"http://localhost:4040\">Spark UI</a></p>\n",
       "\n",
       "            <dl>\n",
       "              <dt>Version</dt>\n",
       "                <dd><code>v3.5.4</code></dd>\n",
       "              <dt>Master</dt>\n",
       "                <dd><code>local[1]</code></dd>\n",
       "              <dt>AppName</dt>\n",
       "                <dd><code>SparkByExamples.com</code></dd>\n",
       "            </dl>\n",
       "        </div>\n",
       "        \n",
       "            </div>\n",
       "        "
      ],
      "text/plain": [
       "<pyspark.sql.session.SparkSession at 0x18be6fd51c0>"
      ]
     },
     "execution_count": 27,
     "metadata": {},
     "output_type": "execute_result"
    }
   ],
   "source": [
    "spark"
   ]
  },
  {
   "cell_type": "code",
   "execution_count": 28,
   "metadata": {},
   "outputs": [],
   "source": [
    "df = spark.read.format(\"csv\").option(\"header\", True).load(r'C:\\Users\\SLO\\Documents\\GitHub\\IE-University\\CSV_FILES\\bank-loans.csv')"
   ]
  },
  {
   "cell_type": "code",
   "execution_count": 29,
   "metadata": {},
   "outputs": [
    {
     "name": "stdout",
     "output_type": "stream",
     "text": [
      "+---+-----------+--------+-------------------+-------+-------+----+\n",
      "|age|        job| marital|          education|default|housing|loan|\n",
      "+---+-----------+--------+-------------------+-------+-------+----+\n",
      "| 56|  housemaid| married|           basic.4y|     no|     no|  no|\n",
      "| 57|   services| married|        high.school|unknown|     no|  no|\n",
      "| 37|   services| married|        high.school|     no|    yes|  no|\n",
      "| 40|     admin.| married|           basic.6y|     no|     no|  no|\n",
      "| 56|   services| married|        high.school|     no|     no| yes|\n",
      "| 45|   services| married|           basic.9y|unknown|     no|  no|\n",
      "| 59|     admin.| married|professional.course|     no|     no|  no|\n",
      "| 41|blue-collar| married|            unknown|unknown|     no|  no|\n",
      "| 24| technician|  single|professional.course|     no|    yes|  no|\n",
      "| 25|   services|  single|        high.school|     no|    yes|  no|\n",
      "| 41|blue-collar| married|            unknown|unknown|     no|  no|\n",
      "| 25|   services|  single|        high.school|     no|    yes|  no|\n",
      "| 29|blue-collar|  single|        high.school|     no|     no| yes|\n",
      "| 57|  housemaid|divorced|           basic.4y|     no|    yes|  no|\n",
      "| 35|blue-collar| married|           basic.6y|     no|    yes|  no|\n",
      "| 54|    retired| married|           basic.9y|unknown|    yes| yes|\n",
      "| 35|blue-collar| married|           basic.6y|     no|    yes|  no|\n",
      "| 46|blue-collar| married|           basic.6y|unknown|    yes| yes|\n",
      "| 50|blue-collar| married|           basic.9y|     no|    yes| yes|\n",
      "| 39| management|  single|           basic.9y|unknown|     no|  no|\n",
      "+---+-----------+--------+-------------------+-------+-------+----+\n",
      "only showing top 20 rows\n",
      "\n"
     ]
    }
   ],
   "source": [
    "df.show()"
   ]
  },
  {
   "cell_type": "code",
   "execution_count": 30,
   "metadata": {},
   "outputs": [
    {
     "name": "stdout",
     "output_type": "stream",
     "text": [
      "root\n",
      " |-- age: string (nullable = true)\n",
      " |-- job: string (nullable = true)\n",
      " |-- marital: string (nullable = true)\n",
      " |-- education: string (nullable = true)\n",
      " |-- default: string (nullable = true)\n",
      " |-- housing: string (nullable = true)\n",
      " |-- loan: string (nullable = true)\n",
      "\n"
     ]
    }
   ],
   "source": [
    "df.printSchema()"
   ]
  },
  {
   "cell_type": "code",
   "execution_count": 31,
   "metadata": {},
   "outputs": [
    {
     "name": "stdout",
     "output_type": "stream",
     "text": [
      "-RECORD 0--------------\n",
      " age       | 56        \n",
      " job       | housemaid \n",
      " marital   | married   \n",
      " education | basic.4y  \n",
      " default   | no        \n",
      " housing   | no        \n",
      " loan      | no        \n",
      "only showing top 1 row\n",
      "\n"
     ]
    }
   ],
   "source": [
    "df.show(1, vertical = True)"
   ]
  }
 ],
 "metadata": {
  "kernelspec": {
   "display_name": "Python 3",
   "language": "python",
   "name": "python3"
  },
  "language_info": {
   "codemirror_mode": {
    "name": "ipython",
    "version": 3
   },
   "file_extension": ".py",
   "mimetype": "text/x-python",
   "name": "python",
   "nbconvert_exporter": "python",
   "pygments_lexer": "ipython3",
   "version": "3.8.2"
  }
 },
 "nbformat": 4,
 "nbformat_minor": 2
}
