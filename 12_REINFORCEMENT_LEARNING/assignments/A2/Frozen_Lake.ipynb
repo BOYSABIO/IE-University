{
 "cells": [
  {
   "cell_type": "code",
   "execution_count": 1,
   "metadata": {},
   "outputs": [],
   "source": [
    "import gymnasium as gym\n",
    "import numpy as np"
   ]
  },
  {
   "cell_type": "code",
   "execution_count": 4,
   "metadata": {},
   "outputs": [],
   "source": [
    "env = gym.make('FrozenLake-v1', render_mode = 'human')\n",
    "env = env.unwrapped\n",
    "env.reset()\n",
    "\n",
    "# Parameters\n",
    "gamma = 0.8\n",
    "theta = 1e-8"
   ]
  },
  {
   "cell_type": "code",
   "execution_count": 5,
   "metadata": {},
   "outputs": [
    {
     "name": "stdout",
     "output_type": "stream",
     "text": [
      "\n",
      "Policy from Policy Iteration:\n"
     ]
    }
   ],
   "source": [
    "# Supporting functions\n",
    "def policy_evaluation(env, policy, theta=1e-8, gamma=0.9):\n",
    "    V = np.zeros(env.observation_space.n)\n",
    "    while True:\n",
    "        delta = 0\n",
    "\n",
    "        for s in range(env.observation_space.n):\n",
    "            \n",
    "            old_v = V[s]\n",
    "           \n",
    "            new_v = 0\n",
    "            for a, action_prob in enumerate(policy[s]):\n",
    "                if action_prob > 0:\n",
    "                    transitions = env.P[s][a]\n",
    "                    for p, ns, r, _ in transitions:\n",
    "                        new_v += action_prob * p * (r + gamma * V[ns])\n",
    "            \n",
    "            \n",
    "            V[s] = new_v\n",
    "            delta = max(delta, np.abs(old_v - V[s]))\n",
    "        if delta < theta:\n",
    "            break\n",
    "    return V\n",
    "\n",
    "def policy_improvement(env, V, gamma=0.9):\n",
    "    policy = np.zeros([env.observation_space.n, env.action_space.n])\n",
    "    for s in range(env.observation_space.n):\n",
    "        q_values = np.zeros(env.action_space.n)\n",
    "        for a in range(env.action_space.n):\n",
    "            q_values[a] = sum([p * (r + gamma * V[ns]) for p, ns, r, _ in env.P[s][a]])\n",
    "        best_action = np.argmax(q_values)\n",
    "        policy[s, best_action] = 1.0\n",
    "    return policy\n",
    "\n",
    "def policy_iteration(env, theta=1e-8, gamma=0.9):\n",
    "    policy = np.ones([env.observation_space.n, env.action_space.n]) / env.action_space.n\n",
    "    while True:\n",
    "        V = policy_evaluation(env, policy, theta, gamma)\n",
    "        new_policy = policy_improvement(env, V, gamma)\n",
    "        if np.array_equal(policy, new_policy):\n",
    "            break\n",
    "        policy = new_policy\n",
    "    return policy, V\n",
    "\n",
    "def value_iteration(env, theta=1e-8, gamma=0.9):\n",
    "    V = np.zeros(env.observation_space.n)\n",
    "    while True:\n",
    "        delta = 0\n",
    "        for s in range(env.observation_space.n):\n",
    "            q_values = [sum([p * (r + gamma * V[ns]) for p, ns, r, _ in env.P[s][a]]) for a in range(env.action_space.n)]\n",
    "            max_q_value = max(q_values)\n",
    "            delta = max(delta, abs(V[s] - max_q_value))\n",
    "            V[s] = max_q_value\n",
    "        if delta < theta:\n",
    "            break\n",
    "    policy = policy_improvement(env, V, gamma)\n",
    "    return policy, V\n",
    "\n",
    "# Run policy iteration\n",
    "pi_policy, pi_value = policy_iteration(env, theta=1e-8, gamma=0.9)\n",
    "vi_policy, vi_value = value_iteration(env, theta=1e-8, gamma=0.9)\n",
    "print(\"\\nPolicy from Policy Iteration:\")\n",
    "\n",
    "# Simulate using the optimal policy\n",
    "def simulate_optimal_policy(env, policy, max_steps=100):\n",
    "    \"\"\"\n",
    "    Simulate an episode in the Taxi environment using the optimal policy.\n",
    "    \n",
    "    Args:\n",
    "        env: The Taxi environment.\n",
    "        policy: The optimal policy from policy or value iteration.\n",
    "        max_steps: Maximum steps to simulate.\n",
    "\n",
    "    Returns:\n",
    "        total_reward: Total accumulated reward during simulation.\n",
    "        path: List of states visited.\n",
    "        actions: List of actions taken.\n",
    "    \"\"\"\n",
    "    state = env.reset()[0]  # Reset environment and get initial state\n",
    "    total_reward = 0\n",
    "    path = [state]  # Track states visited\n",
    "    actions = []  # Track actions taken\n",
    "\n",
    "    for _ in range(max_steps):\n",
    "        action = np.argmax(policy[state])  # Best action from the policy\n",
    "        next_state, reward, done, _, _ = env.step(action)  # Step in environment\n",
    "\n",
    "        total_reward += reward\n",
    "        path.append(next_state)\n",
    "        actions.append(action)\n",
    "\n",
    "        state = next_state\n",
    "        env.render()  # Optional: Render each step\n",
    "\n",
    "        if done:\n",
    "            break\n",
    "\n",
    "    return total_reward, path, actions"
   ]
  },
  {
   "cell_type": "code",
   "execution_count": null,
   "metadata": {},
   "outputs": [
    {
     "name": "stdout",
     "output_type": "stream",
     "text": [
      "Total Reward: 1.0\n",
      "Path taken: [0, 0, 0, 0, 0, 0, 0, 0, 4, 0, 0, 4, 4, 0, 0, 0, 0, 0, 0, 0, 4, 0, 0, 0, 0, 4, 0, 4, 8, 4, 4, 4, 8, 8, 4, 8, 9, 10, 9, 10, 14, 14, 14, 15]\n",
      "Actions taken: [np.int64(0), np.int64(0), np.int64(0), np.int64(0), np.int64(0), np.int64(0), np.int64(0), np.int64(0), np.int64(0), np.int64(0), np.int64(0), np.int64(0), np.int64(0), np.int64(0), np.int64(0), np.int64(0), np.int64(0), np.int64(0), np.int64(0), np.int64(0), np.int64(0), np.int64(0), np.int64(0), np.int64(0), np.int64(0), np.int64(0), np.int64(0), np.int64(0), np.int64(3), np.int64(0), np.int64(0), np.int64(0), np.int64(3), np.int64(3), np.int64(0), np.int64(3), np.int64(1), np.int64(0), np.int64(1), np.int64(0), np.int64(1), np.int64(1), np.int64(1)]\n"
     ]
    }
   ],
   "source": [
    "# Using the optimal policy to simulate (Policy Iteration)\n",
    "total_reward, path, actions = simulate_optimal_policy(env, pi_policy)\n",
    "print(\"Total Reward:\", total_reward)\n",
    "print(\"Path taken:\", path)\n",
    "print(\"Actions taken:\", actions)\n",
    "env.close()"
   ]
  },
  {
   "cell_type": "code",
   "execution_count": 6,
   "metadata": {},
   "outputs": [
    {
     "name": "stdout",
     "output_type": "stream",
     "text": [
      "Total Reward: 0.0\n",
      "Path taken: [0, 4, 8, 8, 9, 13, 9, 10, 6, 2, 6, 10, 6, 5]\n",
      "Actions taken: [np.int64(0), np.int64(0), np.int64(3), np.int64(3), np.int64(1), np.int64(2), np.int64(1), np.int64(0), np.int64(0), np.int64(0), np.int64(0), np.int64(0), np.int64(0)]\n"
     ]
    }
   ],
   "source": [
    "# Using the optimal policy to simulate (Value Iteration)\n",
    "total_reward, path, actions = simulate_optimal_policy(env, vi_policy)\n",
    "print(\"Total Reward:\", total_reward)\n",
    "print(\"Path taken:\", path)\n",
    "print(\"Actions taken:\", actions)\n",
    "env.close()"
   ]
  }
 ],
 "metadata": {
  "kernelspec": {
   "display_name": "myenv312",
   "language": "python",
   "name": "python3"
  },
  "language_info": {
   "codemirror_mode": {
    "name": "ipython",
    "version": 3
   },
   "file_extension": ".py",
   "mimetype": "text/x-python",
   "name": "python",
   "nbconvert_exporter": "python",
   "pygments_lexer": "ipython3",
   "version": "3.12.0"
  }
 },
 "nbformat": 4,
 "nbformat_minor": 2
}
