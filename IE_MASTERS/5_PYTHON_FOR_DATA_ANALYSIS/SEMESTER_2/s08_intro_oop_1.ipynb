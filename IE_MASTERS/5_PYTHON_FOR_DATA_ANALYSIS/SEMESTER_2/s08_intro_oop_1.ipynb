{
 "cells": [
  {
   "cell_type": "markdown",
   "metadata": {},
   "source": [
    "# Session 08: Intro to Object Oriented Programming (1)\n",
    "\n",
    "Object-oriented programming (OOP) is a programming paradigm that uses \"objects\" to design applications and computer programs. It utilizes several techniques from previously established paradigms, including modularity, polymorphism, and encapsulation.\n",
    "\n",
    "In this session, we will learn about the basics of OOP, including classes, objects, and methods. We will also explore the concepts of inheritance, polymorphism, and encapsulation.\n",
    "\n",
    "## Table of Contents\n",
    "\n",
    "* Classes and Objects\n",
    "* Constructor, attributes and methods\n",
    "* Inheritance\n",
    "\n",
    "## Classes and Objects\n",
    "\n",
    "In OOP, a class is a blueprint for creating objects. It defines the properties and behaviors of objects that belong to the class. An object is an instance of a class.\n",
    "  * Class: the recipe\n",
    "  * Object: the dish\n",
    "\n",
    "Everything in Python is an object, and every object belongs to a class. For example, integers, strings, lists, and dictionaries are all objects in Python.\n",
    "\n",
    "To create a class in Python, we use the `class` keyword followed by the class name. The class definition typically contains properties (data) and methods (functions).\n",
    "\n",
    "Let's create a simple class called `Person` with some properties and methods.\n"
   ]
  },
  {
   "cell_type": "code",
   "execution_count": 1,
   "metadata": {},
   "outputs": [],
   "source": [
    "class Person():\n",
    "\n",
    "    # the __init__ method is a special method that is called when an object is created\n",
    "    # its purpose is to initialize the object's attributes\n",
    "    # it tells us the information we need to create an object\n",
    "    # in this case, we need the name and age of the person\n",
    "    def __init__(self, name, age): \n",
    "        self.name = name\n",
    "        self.age = age\n",
    "\n",
    "    # methods are functions that are associated with a class\n",
    "    # they are defined in the class body\n",
    "    def say_hello(self):\n",
    "        print(f\"Hello, my name is {self.name} and I am {self.age} years old\")"
   ]
  },
  {
   "cell_type": "code",
   "execution_count": 4,
   "metadata": {},
   "outputs": [
    {
     "name": "stdout",
     "output_type": "stream",
     "text": [
      "Hello, my name is Spencer and I am 23 years old\n"
     ]
    }
   ],
   "source": [
    "spencer = Person('Spencer', 23)\n",
    "\n",
    "spencer.say_hello() # Hello, my name is Spencer and I am 23 years old"
   ]
  },
  {
   "cell_type": "code",
   "execution_count": 5,
   "metadata": {},
   "outputs": [
    {
     "data": {
      "text/plain": [
       "23"
      ]
     },
     "execution_count": 5,
     "metadata": {},
     "output_type": "execute_result"
    }
   ],
   "source": [
    "spencer.age"
   ]
  },
  {
   "cell_type": "markdown",
   "metadata": {},
   "source": [
    "In the class definition, we have:\n",
    "  * `__init__` method: a special method called a constructor that is executed when an object is created. It initializes the object's properties.\n",
    "  * `self` parameter: a reference to the current instance of the class. It is used to access variables that belong to the class.\n",
    "  * Properties: variables that store data related to the class. \n",
    "    * `name` and `age` are properties of the `Person` class.\n",
    "  * Methods: functions that perform operations related to the class.\n",
    "    * `say_hello()` is a method of the `Person` class that prints a greeting message."
   ]
  },
  {
   "cell_type": "markdown",
   "metadata": {},
   "source": [
    "### Creating Objects from a Class\n",
    "\n",
    "To create an object of a class, we use the class name followed by parentheses. This calls the constructor method (`__init__`) of the class and initializes the object's properties.\n",
    "\n",
    "Once we have created an object, we can access its properties and methods using the dot notation (`object.property` or `object.method()`).\n",
    "\n",
    "Let's create an object of the `Person` class and call the `say_hello()` method."
   ]
  },
  {
   "cell_type": "code",
   "execution_count": 6,
   "metadata": {},
   "outputs": [
    {
     "name": "stdout",
     "output_type": "stream",
     "text": [
      "Hello, my name is Dani and I am 37 years old\n"
     ]
    }
   ],
   "source": [
    "me = Person(\"Dani\", 37)\n",
    "\n",
    "me.say_hello()"
   ]
  },
  {
   "cell_type": "markdown",
   "metadata": {},
   "source": [
    "## Constructor, attributes and methods\n",
    "\n",
    "The constructor method (`__init__`) is a special method in Python classes that is called when an object is created. It is used to initialize the object's properties. It takes the `self` parameter, which is a reference to the current instance of the class, and other parameters that are used to initialize the object's properties.\n",
    "\n",
    "Attributes are variables that store data related to a class, while methods are functions that perform operations related to the class. Both attributes and methods are defined within a class.\n",
    "\n",
    "Both attributes and methods can be accessed using the dot notation (`object.attribute` or `object.method()`).\n",
    "\n",
    "Let's add some attributes and methods to the `Person` class."
   ]
  },
  {
   "cell_type": "code",
   "execution_count": 9,
   "metadata": {},
   "outputs": [],
   "source": [
    "class Person():\n",
    "\n",
    "    def __init__(self, name, age, favorite_foods_list): \n",
    "        self.name = name\n",
    "        self.age = age\n",
    "        self.has_pet = True\n",
    "        self.favorite_foods = favorite_foods_list\n",
    "        self.pet_name = None\n",
    "\n",
    "    def say_hello(self):\n",
    "        print(f\"Hello, my name is {self.name} and I am {self.age} years old\")\n",
    "\n",
    "    def say_favorite_foods(self):\n",
    "        print(f\"My favorite foods are {self.favorite_foods}\")\n",
    "\n",
    "    def add_favorite_food(self, food):\n",
    "        self.favorite_foods.append(food)\n",
    "\n",
    "    def call_pet(self, pet_name):\n",
    "        if self.has_pet:\n",
    "            print(f\"Come here, {pet_name}!\")\n",
    "        else:\n",
    "            print(\"{self.name} does not have a pet\")\n",
    "\n",
    "    def update_pet(self, pet_name):\n",
    "        if isinstance(pet_name, None):\n",
    "            self.has_pet = False\n",
    "        else:\n",
    "            self.has_pet = True\n",
    "            self.pet_name = pet_name"
   ]
  },
  {
   "cell_type": "code",
   "execution_count": 32,
   "metadata": {},
   "outputs": [
    {
     "ename": "TypeError",
     "evalue": "__init__() missing 1 required positional argument: 'favorite_foods_list'",
     "output_type": "error",
     "traceback": [
      "\u001b[1;31m---------------------------------------------------------------------------\u001b[0m",
      "\u001b[1;31mTypeError\u001b[0m                                 Traceback (most recent call last)",
      "Cell \u001b[1;32mIn[32], line 3\u001b[0m\n\u001b[0;32m      1\u001b[0m \u001b[38;5;66;03m# initialize a new person object\u001b[39;00m\n\u001b[1;32m----> 3\u001b[0m me \u001b[38;5;241m=\u001b[39m \u001b[43mPerson\u001b[49m\u001b[43m(\u001b[49m\u001b[38;5;124;43m\"\u001b[39;49m\u001b[38;5;124;43mDani\u001b[39;49m\u001b[38;5;124;43m\"\u001b[39;49m\u001b[43m,\u001b[49m\u001b[43m \u001b[49m\u001b[38;5;241;43m37\u001b[39;49m\u001b[43m)\u001b[49m\n",
      "\u001b[1;31mTypeError\u001b[0m: __init__() missing 1 required positional argument: 'favorite_foods_list'"
     ]
    }
   ],
   "source": [
    "# initialize a new person object\n",
    "\n",
    "me = Person(\"Dani\", 37)"
   ]
  },
  {
   "cell_type": "code",
   "execution_count": 10,
   "metadata": {},
   "outputs": [
    {
     "name": "stdout",
     "output_type": "stream",
     "text": [
      "Dani\n",
      "37\n",
      "True\n",
      "['pizza', 'humus', 'nigiri']\n"
     ]
    }
   ],
   "source": [
    "# get some attributes\n",
    "\n",
    "print(me.name)\n",
    "print(me.age)\n",
    "print(me.has_pet)\n",
    "print(me.favorite_foods)"
   ]
  },
  {
   "cell_type": "code",
   "execution_count": 11,
   "metadata": {},
   "outputs": [
    {
     "name": "stdout",
     "output_type": "stream",
     "text": [
      "My favorite foods are ['pizza', 'humus', 'nigiri']\n"
     ]
    }
   ],
   "source": [
    "# call some methods\n",
    "me.say_favorite_foods()"
   ]
  },
  {
   "cell_type": "code",
   "execution_count": 12,
   "metadata": {},
   "outputs": [
    {
     "name": "stdout",
     "output_type": "stream",
     "text": [
      "My favorite foods are ['pizza', 'humus', 'nigiri', 'kebab']\n"
     ]
    }
   ],
   "source": [
    "# another method that updated the favorite_foods attribute\n",
    "me.add_favorite_food('kebab')\n",
    "\n",
    "# check that the attribute has been updated\n",
    "me.say_favorite_foods()"
   ]
  },
  {
   "cell_type": "code",
   "execution_count": 18,
   "metadata": {},
   "outputs": [
    {
     "name": "stdout",
     "output_type": "stream",
     "text": [
      "Come here, Churro!\n"
     ]
    }
   ],
   "source": [
    "me.call_pet('Churro')"
   ]
  },
  {
   "cell_type": "code",
   "execution_count": 19,
   "metadata": {},
   "outputs": [
    {
     "name": "stdout",
     "output_type": "stream",
     "text": [
      "My favorite foods are ['pizza', 'humus', 'nigiri', 'kebab', 'kebab']\n"
     ]
    }
   ],
   "source": [
    "me.add_favorite_food('kebab')\n",
    "me.say_favorite_foods()"
   ]
  },
  {
   "cell_type": "code",
   "execution_count": 20,
   "metadata": {},
   "outputs": [
    {
     "name": "stdout",
     "output_type": "stream",
     "text": [
      "My favorite foods are ['pizza', 'humus', 'nigiri', 'kebab', 'kebab', 'kebab']\n"
     ]
    }
   ],
   "source": [
    "me.add_favorite_food('kebab')\n",
    "me.say_favorite_foods()"
   ]
  },
  {
   "cell_type": "markdown",
   "metadata": {},
   "source": [
    "### Exercise 1\n",
    "\n",
    "Change the Constructor of the `Person` class to avoid adding new foods that already exist in the list of foods."
   ]
  },
  {
   "cell_type": "code",
   "execution_count": 61,
   "metadata": {},
   "outputs": [],
   "source": [
    "class Person():\n",
    "\n",
    "    def __init__(self, name, age, favorite_foods_list): \n",
    "        self.name = name\n",
    "        self.age = age\n",
    "        self.has_pet = True\n",
    "        self.favorite_foods = favorite_foods_list\n",
    "        self.pet_name = None\n",
    "\n",
    "    def say_hello(self):\n",
    "        print(f\"Hello, my name is {self.name} and I am {self.age} years old\")\n",
    "\n",
    "    def say_favorite_foods(self):\n",
    "        print(f\"My favorite foods are {self.favorite_foods}\")\n",
    "\n",
    "    def add_favorite_food(self, food):\n",
    "        if food not in self.favorite_foods:\n",
    "            self.favorite_foods.append(food)\n",
    "        else:\n",
    "            print(f\"{food} is already in the list\")\n",
    "\n",
    "    def call_pet(self, pet_name):\n",
    "        if self.has_pet:\n",
    "            print(f\"Come here, {pet_name}!\")\n",
    "        else:\n",
    "            print(\"{self.name} does not have a pet\")\n",
    "\n",
    "    def update_pet(self, pet_name):\n",
    "        if isinstance(pet_name, None):\n",
    "            self.has_pet = False\n",
    "        else:\n",
    "            self.has_pet = True\n",
    "            self.pet_name = pet_name"
   ]
  },
  {
   "cell_type": "code",
   "execution_count": 42,
   "metadata": {},
   "outputs": [
    {
     "name": "stdout",
     "output_type": "stream",
     "text": [
      "My favorite foods are ['pizza', 'pasta', 'sushi', 'kebab']\n",
      "None\n",
      "kebab is already in the list\n",
      "None\n"
     ]
    }
   ],
   "source": [
    "spencer = Person('Spencer', 23, ['pizza', 'pasta', 'sushi'])\n",
    "\n",
    "spencer.add_favorite_food('kebab')\n",
    "\n",
    "print(spencer.say_favorite_foods())\n",
    "print(spencer.add_favorite_food('kebab'))"
   ]
  },
  {
   "cell_type": "markdown",
   "metadata": {},
   "source": [
    "### Exercise 2\n",
    "\n",
    "Update the class so that a new method called `days_alive` is added. This method should calculate the number of days the person has been alive based on their date of birth."
   ]
  },
  {
   "cell_type": "code",
   "execution_count": 54,
   "metadata": {},
   "outputs": [],
   "source": [
    "import pandas as pd\n",
    "\n",
    "class Person():\n",
    "\n",
    "    def __init__(self, name, age, favorite_foods_list, birthdate): \n",
    "        self.name = name\n",
    "        self.age = age\n",
    "        self.has_pet = True\n",
    "        self.favorite_foods = favorite_foods_list\n",
    "        self.pet_name = None\n",
    "        self.birthdate = pd.to_datetime(birthdate)\n",
    "\n",
    "    def days_alive(self): # find out how many days the person has been alive\n",
    "        today = pd.to_datetime('today')\n",
    "        days = today - self.birthdate\n",
    "        return days"
   ]
  },
  {
   "cell_type": "code",
   "execution_count": 59,
   "metadata": {},
   "outputs": [
    {
     "data": {
      "text/plain": [
       "Timedelta('10256 days 17:00:24.528505')"
      ]
     },
     "execution_count": 59,
     "metadata": {},
     "output_type": "execute_result"
    }
   ],
   "source": [
    "spencer = Person('Spencer', 23, ['pizza', 'pasta', 'sushi'], '1997-1-1')\n",
    "\n",
    "spencer.days_alive()"
   ]
  },
  {
   "cell_type": "markdown",
   "metadata": {},
   "source": [
    "## Inheritance\n",
    "\n",
    "Inheritance is a mechanism in object-oriented programming that allows a class to inherit properties and methods from another class.\n",
    "\n",
    "The class that inherits from another class is called a subclass or derived class, while the class that is inherited from is called a superclass or base class.\n",
    "\n",
    "There are several examples of inheritance in Python, such as pandas DataFrames and numpy arrays.\n",
    "\n",
    "Let's create a subclass called `Student` that inherits from the `Person` class."
   ]
  },
  {
   "cell_type": "code",
   "execution_count": 69,
   "metadata": {},
   "outputs": [],
   "source": [
    "class Person():\n",
    "    def __init__(self, name, age):\n",
    "        self.name = name\n",
    "        self.age = age\n",
    "    \n",
    "    def say_hello(self):\n",
    "        print(f\"Hello, my name is {self.name} and I am {self.age} years old\")"
   ]
  },
  {
   "cell_type": "code",
   "execution_count": 70,
   "metadata": {},
   "outputs": [],
   "source": [
    "class Student(Person):\n",
    "\n",
    "    def __init__(self, name, age, student_id):\n",
    "        super().__init__(name, age) # this calls the __init__ method of the parent class\n",
    "        self.student_id = student_id # this initializes the student_id attribute\n",
    "\n",
    "    def say_student_id(self):\n",
    "        print(f\"My student id is {self.student_id}\")\n",
    "\n",
    "    def favorite_course(self):\n",
    "        print(\"My favorite course is Python for Data Analytics\")"
   ]
  },
  {
   "cell_type": "code",
   "execution_count": 71,
   "metadata": {},
   "outputs": [
    {
     "name": "stdout",
     "output_type": "stream",
     "text": [
      "My student id is 12345\n"
     ]
    }
   ],
   "source": [
    "student = Student(\"Dani\", 11, 12345)\n",
    "\n",
    "student.say_student_id()\n"
   ]
  },
  {
   "cell_type": "code",
   "execution_count": 72,
   "metadata": {},
   "outputs": [
    {
     "name": "stdout",
     "output_type": "stream",
     "text": [
      "My favorite course is Python for Data Analytics\n"
     ]
    }
   ],
   "source": [
    "student.favorite_course()"
   ]
  },
  {
   "cell_type": "code",
   "execution_count": 73,
   "metadata": {},
   "outputs": [
    {
     "name": "stdout",
     "output_type": "stream",
     "text": [
      "Hello, my name is Dani and I am 11 years old\n"
     ]
    }
   ],
   "source": [
    "# but it also has access to the methods of the parent class\n",
    "\n",
    "student.say_hello()"
   ]
  },
  {
   "cell_type": "code",
   "execution_count": 74,
   "metadata": {},
   "outputs": [
    {
     "ename": "AttributeError",
     "evalue": "'Student' object has no attribute 'call_pet'",
     "output_type": "error",
     "traceback": [
      "\u001b[1;31m---------------------------------------------------------------------------\u001b[0m",
      "\u001b[1;31mAttributeError\u001b[0m                            Traceback (most recent call last)",
      "Cell \u001b[1;32mIn[74], line 1\u001b[0m\n\u001b[1;32m----> 1\u001b[0m \u001b[43mstudent\u001b[49m\u001b[38;5;241;43m.\u001b[39;49m\u001b[43mcall_pet\u001b[49m(\u001b[38;5;124m'\u001b[39m\u001b[38;5;124mChurro\u001b[39m\u001b[38;5;124m'\u001b[39m)\n",
      "\u001b[1;31mAttributeError\u001b[0m: 'Student' object has no attribute 'call_pet'"
     ]
    }
   ],
   "source": [
    "student.call_pet('Churro')"
   ]
  },
  {
   "cell_type": "code",
   "execution_count": 53,
   "metadata": {},
   "outputs": [
    {
     "name": "stdout",
     "output_type": "stream",
     "text": [
      "Dani\n",
      "11\n",
      "True\n",
      "['pizza', 'humus', 'nigiri']\n"
     ]
    }
   ],
   "source": [
    "# also it has the attributes of the parent class\n",
    "\n",
    "print(student.name)\n",
    "print(student.age)\n",
    "print(student.has_pet)\n",
    "print(student.favorite_foods)"
   ]
  },
  {
   "cell_type": "markdown",
   "metadata": {},
   "source": [
    "## Practice\n",
    "\n",
    "Create a class called `Bird` with the following properties and methods:\n",
    "  * Properties: `name`, `can_fly`, `can_dive`, `sound`\n",
    "  * Methods: `make_sound()`, `fly()`\n",
    "\n",
    "Then, create 2 subclasses called `Duck` and `Chicken`, each with their own properties and methods.\n",
    "\n",
    "Create objects of the `Bird`, `Duck`, and `Chicken` classes and test their properties and methods."
   ]
  },
  {
   "cell_type": "code",
   "execution_count": 78,
   "metadata": {},
   "outputs": [],
   "source": [
    "class Bird():\n",
    "    def __init__(self, name, can_fly, can_dive, sound):\n",
    "        self.name = name\n",
    "        self.can_fly = can_fly\n",
    "        self.can_dive = can_dive\n",
    "        self.sound = sound\n",
    "\n",
    "    def make_sound(self):\n",
    "        print(self.sound)\n",
    "\n",
    "    def fly(self):\n",
    "        if self.can_fly:\n",
    "            print(f\"{self.name} is flying\")\n",
    "        else:\n",
    "            print(f\"{self.name} cannot fly\")"
   ]
  },
  {
   "cell_type": "code",
   "execution_count": 77,
   "metadata": {},
   "outputs": [
    {
     "name": "stdout",
     "output_type": "stream",
     "text": [
      "squawk\n",
      "None\n",
      "ostrich cannot fly\n",
      "None\n"
     ]
    }
   ],
   "source": [
    "bird = Bird('ostrich', False, False, 'squawk')\n",
    "\n",
    "print(bird.make_sound())\n",
    "print(bird.fly())"
   ]
  },
  {
   "cell_type": "code",
   "execution_count": 79,
   "metadata": {},
   "outputs": [],
   "source": [
    "class Duck(Bird):\n",
    "    def __init__(self, color, name, can_fly, can_dive, sound):\n",
    "        super().__init__(name, can_fly, can_dive, sound)\n",
    "        self.color = color\n",
    "\n",
    "    def say_color(self):\n",
    "        print(f\"My color is {self.color}\")"
   ]
  },
  {
   "cell_type": "code",
   "execution_count": null,
   "metadata": {},
   "outputs": [],
   "source": [
    "class Chicken(Bird):\n",
    "    def __init__(self, color, name, can_fly, can_dive, sound):\n",
    "        super().__init__(name, can_fly, can_dive, sound)\n",
    "        self.color = color\n",
    "\n",
    "    def become_a_nugget(self):\n",
    "        self.color = 'brown'\n",
    "        self.sound = 'crisp'"
   ]
  }
 ],
 "metadata": {
  "kernelspec": {
   "display_name": "Python 3",
   "language": "python",
   "name": "python3"
  },
  "language_info": {
   "codemirror_mode": {
    "name": "ipython",
    "version": 3
   },
   "file_extension": ".py",
   "mimetype": "text/x-python",
   "name": "python",
   "nbconvert_exporter": "python",
   "pygments_lexer": "ipython3",
   "version": "3.8.2"
  }
 },
 "nbformat": 4,
 "nbformat_minor": 2
}
